{
 "cells": [
  {
   "cell_type": "code",
   "execution_count": 43,
   "metadata": {},
   "outputs": [
    {
     "name": "stderr",
     "output_type": "stream",
     "text": [
      "INFO:root:Listing Threat-Actors with filters null.\n"
     ]
    }
   ],
   "source": [
    "import datetime\n",
    "from pycti import OpenCTIApiClient\n",
    "import pandas as pd\n",
    "import os\n",
    "\n",
    "api_url ='https://demo.opencti.io'\n",
    "api_token = \"609caced-7610-4c84-80b4-f3a380d1939b\"\n",
    "opencti_api_client = OpenCTIApiClient(api_url, api_token)\n"
   ]
  },
  {
   "cell_type": "code",
   "execution_count": null,
   "metadata": {},
   "outputs": [],
   "source": [
    "opencti_api_client.identity.read(filters=[{'key':'name','values':'Rhymtech'}])"
   ]
  },
  {
   "cell_type": "code",
   "execution_count": 3,
   "metadata": {},
   "outputs": [
    {
     "name": "stderr",
     "output_type": "stream",
     "text": [
      "INFO:root:Listing Stix-Domain-Entities with filters [{\"key\": \"name\", \"values\": [\"My organization\"]}].\n",
      "INFO:root:{\"errors\":[{\"message\":\"Cannot query field \\\"observableRefs\\\" on type \\\"Incident\\\".\",\"locations\":[{\"line\":126,\"column\":17}],\"extensions\":{\"code\":\"GRAPHQL_VALIDATION_FAILED\"}}]}\n",
      "\n"
     ]
    },
    {
     "ename": "TypeError",
     "evalue": "'NoneType' object is not subscriptable",
     "output_type": "error",
     "traceback": [
      "\u001b[1;31m---------------------------------------------------------------------------\u001b[0m",
      "\u001b[1;31mTypeError\u001b[0m                                 Traceback (most recent call last)",
      "\u001b[1;32m<ipython-input-3-cda9bd70ebb3>\u001b[0m in \u001b[0;36m<module>\u001b[1;34m\u001b[0m\n\u001b[0;32m      2\u001b[0m     \u001b[0mname\u001b[0m\u001b[1;33m=\u001b[0m\u001b[1;34m\"My organization\"\u001b[0m\u001b[1;33m,\u001b[0m\u001b[1;33m\u001b[0m\u001b[1;33m\u001b[0m\u001b[0m\n\u001b[0;32m      3\u001b[0m     \u001b[0malias\u001b[0m\u001b[1;33m=\u001b[0m\u001b[1;33m[\u001b[0m\u001b[1;34m\"my-organization\"\u001b[0m\u001b[1;33m]\u001b[0m\u001b[1;33m,\u001b[0m\u001b[1;33m\u001b[0m\u001b[1;33m\u001b[0m\u001b[0m\n\u001b[1;32m----> 4\u001b[1;33m     \u001b[0mdescription\u001b[0m\u001b[1;33m=\u001b[0m\u001b[1;34m\"A new organization.\"\u001b[0m\u001b[1;33m,\u001b[0m\u001b[1;33m\u001b[0m\u001b[1;33m\u001b[0m\u001b[0m\n\u001b[0m\u001b[0;32m      5\u001b[0m )\n",
      "\u001b[1;32mC:\\ProgramData\\Anaconda3\\lib\\site-packages\\pycti\\entities\\opencti_intrusion_set.py\u001b[0m in \u001b[0;36mcreate\u001b[1;34m(self, **kwargs)\u001b[0m\n\u001b[0;32m    295\u001b[0m \u001b[1;33m\u001b[0m\u001b[0m\n\u001b[0;32m    296\u001b[0m         object_result = self.opencti.stix_domain_entity.get_by_stix_id_or_name(\n\u001b[1;32m--> 297\u001b[1;33m             \u001b[0mtypes\u001b[0m\u001b[1;33m=\u001b[0m\u001b[1;33m[\u001b[0m\u001b[1;34m\"Intrusion-Set\"\u001b[0m\u001b[1;33m]\u001b[0m\u001b[1;33m,\u001b[0m \u001b[0mstix_id_key\u001b[0m\u001b[1;33m=\u001b[0m\u001b[0mstix_id_key\u001b[0m\u001b[1;33m,\u001b[0m \u001b[0mname\u001b[0m\u001b[1;33m=\u001b[0m\u001b[0mname\u001b[0m\u001b[1;33m\u001b[0m\u001b[1;33m\u001b[0m\u001b[0m\n\u001b[0m\u001b[0;32m    298\u001b[0m         )\n\u001b[0;32m    299\u001b[0m         \u001b[1;32mif\u001b[0m \u001b[0mobject_result\u001b[0m \u001b[1;32mis\u001b[0m \u001b[1;32mnot\u001b[0m \u001b[1;32mNone\u001b[0m\u001b[1;33m:\u001b[0m\u001b[1;33m\u001b[0m\u001b[1;33m\u001b[0m\u001b[0m\n",
      "\u001b[1;32mC:\\ProgramData\\Anaconda3\\lib\\site-packages\\pycti\\entities\\opencti_stix_domain_entity.py\u001b[0m in \u001b[0;36mget_by_stix_id_or_name\u001b[1;34m(self, **kwargs)\u001b[0m\n\u001b[0;32m    411\u001b[0m         \u001b[1;32mif\u001b[0m \u001b[0mobject_result\u001b[0m \u001b[1;32mis\u001b[0m \u001b[1;32mNone\u001b[0m \u001b[1;32mand\u001b[0m \u001b[0mname\u001b[0m \u001b[1;32mis\u001b[0m \u001b[1;32mnot\u001b[0m \u001b[1;32mNone\u001b[0m\u001b[1;33m:\u001b[0m\u001b[1;33m\u001b[0m\u001b[1;33m\u001b[0m\u001b[0m\n\u001b[0;32m    412\u001b[0m             object_result = self.read(\n\u001b[1;32m--> 413\u001b[1;33m                 \u001b[0mtypes\u001b[0m\u001b[1;33m=\u001b[0m\u001b[0mtypes\u001b[0m\u001b[1;33m,\u001b[0m \u001b[0mfilters\u001b[0m\u001b[1;33m=\u001b[0m\u001b[1;33m[\u001b[0m\u001b[1;33m{\u001b[0m\u001b[1;34m\"key\"\u001b[0m\u001b[1;33m:\u001b[0m \u001b[1;34m\"name\"\u001b[0m\u001b[1;33m,\u001b[0m \u001b[1;34m\"values\"\u001b[0m\u001b[1;33m:\u001b[0m \u001b[1;33m[\u001b[0m\u001b[0mname\u001b[0m\u001b[1;33m]\u001b[0m\u001b[1;33m}\u001b[0m\u001b[1;33m]\u001b[0m\u001b[1;33m\u001b[0m\u001b[1;33m\u001b[0m\u001b[0m\n\u001b[0m\u001b[0;32m    414\u001b[0m             )\n\u001b[0;32m    415\u001b[0m             \u001b[1;32mif\u001b[0m \u001b[0mobject_result\u001b[0m \u001b[1;32mis\u001b[0m \u001b[1;32mNone\u001b[0m\u001b[1;33m:\u001b[0m\u001b[1;33m\u001b[0m\u001b[1;33m\u001b[0m\u001b[0m\n",
      "\u001b[1;32mC:\\ProgramData\\Anaconda3\\lib\\site-packages\\pycti\\entities\\opencti_stix_domain_entity.py\u001b[0m in \u001b[0;36mread\u001b[1;34m(self, **kwargs)\u001b[0m\n\u001b[0;32m    384\u001b[0m             )\n\u001b[0;32m    385\u001b[0m         \u001b[1;32melif\u001b[0m \u001b[0mfilters\u001b[0m \u001b[1;32mis\u001b[0m \u001b[1;32mnot\u001b[0m \u001b[1;32mNone\u001b[0m\u001b[1;33m:\u001b[0m\u001b[1;33m\u001b[0m\u001b[1;33m\u001b[0m\u001b[0m\n\u001b[1;32m--> 386\u001b[1;33m             \u001b[0mresult\u001b[0m \u001b[1;33m=\u001b[0m \u001b[0mself\u001b[0m\u001b[1;33m.\u001b[0m\u001b[0mlist\u001b[0m\u001b[1;33m(\u001b[0m\u001b[0mtypes\u001b[0m\u001b[1;33m=\u001b[0m\u001b[0mtypes\u001b[0m\u001b[1;33m,\u001b[0m \u001b[0mfilters\u001b[0m\u001b[1;33m=\u001b[0m\u001b[0mfilters\u001b[0m\u001b[1;33m)\u001b[0m\u001b[1;33m\u001b[0m\u001b[1;33m\u001b[0m\u001b[0m\n\u001b[0m\u001b[0;32m    387\u001b[0m             \u001b[1;32mif\u001b[0m \u001b[0mlen\u001b[0m\u001b[1;33m(\u001b[0m\u001b[0mresult\u001b[0m\u001b[1;33m)\u001b[0m \u001b[1;33m>\u001b[0m \u001b[1;36m0\u001b[0m\u001b[1;33m:\u001b[0m\u001b[1;33m\u001b[0m\u001b[1;33m\u001b[0m\u001b[0m\n\u001b[0;32m    388\u001b[0m                 \u001b[1;32mreturn\u001b[0m \u001b[0mresult\u001b[0m\u001b[1;33m[\u001b[0m\u001b[1;36m0\u001b[0m\u001b[1;33m]\u001b[0m\u001b[1;33m\u001b[0m\u001b[1;33m\u001b[0m\u001b[0m\n",
      "\u001b[1;32mC:\\ProgramData\\Anaconda3\\lib\\site-packages\\pycti\\entities\\opencti_stix_domain_entity.py\u001b[0m in \u001b[0;36mlist\u001b[1;34m(self, **kwargs)\u001b[0m\n\u001b[0;32m    351\u001b[0m             \u001b[1;32mreturn\u001b[0m \u001b[0mfinal_data\u001b[0m\u001b[1;33m\u001b[0m\u001b[1;33m\u001b[0m\u001b[0m\n\u001b[0;32m    352\u001b[0m         \u001b[1;32melse\u001b[0m\u001b[1;33m:\u001b[0m\u001b[1;33m\u001b[0m\u001b[1;33m\u001b[0m\u001b[0m\n\u001b[1;32m--> 353\u001b[1;33m             \u001b[1;32mreturn\u001b[0m \u001b[0mself\u001b[0m\u001b[1;33m.\u001b[0m\u001b[0mopencti\u001b[0m\u001b[1;33m.\u001b[0m\u001b[0mprocess_multiple\u001b[0m\u001b[1;33m(\u001b[0m\u001b[0mresult\u001b[0m\u001b[1;33m[\u001b[0m\u001b[1;34m\"data\"\u001b[0m\u001b[1;33m]\u001b[0m\u001b[1;33m[\u001b[0m\u001b[1;34m\"stixDomainEntities\"\u001b[0m\u001b[1;33m]\u001b[0m\u001b[1;33m)\u001b[0m\u001b[1;33m\u001b[0m\u001b[1;33m\u001b[0m\u001b[0m\n\u001b[0m\u001b[0;32m    354\u001b[0m \u001b[1;33m\u001b[0m\u001b[0m\n\u001b[0;32m    355\u001b[0m     \"\"\"\n",
      "\u001b[1;31mTypeError\u001b[0m: 'NoneType' object is not subscriptable"
     ]
    }
   ],
   "source": [
    "organization = opencti_api_client.intrusion_set.create(\n",
    "    name=\"My organization\",\n",
    "    alias=[\"my-organization\"],\n",
    "    description=\"A new organization.\",\n",
    ")"
   ]
  },
  {
   "cell_type": "code",
   "execution_count": 11,
   "metadata": {},
   "outputs": [
    {
     "name": "stderr",
     "output_type": "stream",
     "text": [
      "INFO:root:Listing Stix-Domain-Entities with filters [{\"key\": \"name\", \"values\": [\"My organization\"]}].\n"
     ]
    }
   ],
   "source": [
    "organization = opencti_api_client.identity.create(\n",
    "    type=\"Organization\",\n",
    "    name=\"My organization\",\n",
    "    alias=[\"my-organization\"],\n",
    "    description=\"A new organization.\",\n",
    ")"
   ]
  },
  {
   "cell_type": "code",
   "execution_count": 39,
   "metadata": {},
   "outputs": [
    {
     "name": "stderr",
     "output_type": "stream",
     "text": [
      "ERROR:root:[opencti_report] Missing parameters: name and description and published and report_class\n"
     ]
    }
   ],
   "source": [
    "organization = opencti_api_client.report.create(\n",
    "    type='Organization',\n",
    "    name=\"Rhymtechnologies\",\n",
    "    alias=[\"Rhymtech\"],\n",
    "    object_status  ='hello',\n",
    "    description=\"A young and innovative company formed with a vision to create world leading Cyber Security products and services. The promoters are a group of highly successful professionals with diverse backgrounds across IT Delivery, Sales and Consulting, Cyber Security, Artificial Intelligence, Machine Learning and Data Sciences. Our group of consultants led by some of the best minds in the industry have successfully provided strategic and value-add services for multiple large organizations globally.\",\n",
    ")"
   ]
  },
  {
   "cell_type": "code",
   "execution_count": 32,
   "metadata": {},
   "outputs": [
    {
     "name": "stderr",
     "output_type": "stream",
     "text": [
      "INFO:root:Listing Identities with filters [{\"key\": \"name\", \"values\": \"Rhymtechnologies\"}].\n"
     ]
    },
    {
     "name": "stdout",
     "output_type": "stream",
     "text": [
      "{'id': '8c8ee2ab-bdf5-44c0-a180-6cc0ace71c28', 'stix_id_key': 'identity--8e373e46-226b-4ab4-9f5e-70bb9345b515', 'stix_label': None, 'entity_type': 'organization', 'parent_types': ['Organization', 'Identity', 'Stix-Domain-Entity', 'Stix-Domain'], 'name': 'Rhymtechnologies', 'alias': ['Rhymtech'], 'description': 'sample', 'created': '2020-01-27T07:42:22.157Z', 'modified': '2020-01-27T07:42:22.157Z', 'created_at': '2020-01-27T07:42:22.157Z', 'updated_at': '2020-01-27T07:42:22.157Z', 'organization_class': None, 'createdByRef': None, 'markingDefinitions': [], 'tags': [], 'externalReferences': [], 'markingDefinitionsIds': [], 'tagsIds': [], 'externalReferencesIds': []}\n"
     ]
    }
   ],
   "source": [
    "print(opencti_api_client.identity.read(filters=[{'key':'name','values':'Rhymtechnologies'}]))"
   ]
  },
  {
   "cell_type": "code",
   "execution_count": 46,
   "metadata": {},
   "outputs": [
    {
     "name": "stderr",
     "output_type": "stream",
     "text": [
      "ERROR:root:[opencti_report] Missing parameters: name and description and published and report_class\n"
     ]
    }
   ],
   "source": [
    "report = opencti_api_client.report.create(name=\"My new report of my organization\",\n",
    "    description=\"A report wrote by my organization\",\n",
    "    report_class=\"Internal Report\",\n",
    ")\n"
   ]
  },
  {
   "cell_type": "code",
   "execution_count": 36,
   "metadata": {},
   "outputs": [
    {
     "name": "stderr",
     "output_type": "stream",
     "text": [
      "C:\\ProgramData\\Anaconda3\\lib\\site-packages\\ipykernel_launcher.py:1: UserWarning: Since hh is not inserted in opencti.Rhymtechnologies is taken as default\n",
      "  \"\"\"Entry point for launching an IPython kernel.\n"
     ]
    }
   ],
   "source": [
    "warnings.warn(\"Since \" + 'hh' + \" is not inserted in opencti.Rhymtechnologies is taken as default\")"
   ]
  },
  {
   "cell_type": "code",
   "execution_count": 50,
   "metadata": {},
   "outputs": [
    {
     "name": "stderr",
     "output_type": "stream",
     "text": [
      "INFO:root:Listing Stix-Domain-Entities with filters [{\"key\": \"name\", \"values\": [\"My organization\"]}].\n"
     ]
    }
   ],
   "source": [
    "organization = opencti_api_client.identity.create(\n",
    "    type=\"Organization\",\n",
    "    name=\"My organization\",\n",
    "    alias=[\"my-organization\"],\n",
    "    description=\"A new organization.\",\n",
    ")"
   ]
  },
  {
   "cell_type": "code",
   "execution_count": 74,
   "metadata": {},
   "outputs": [
    {
     "name": "stderr",
     "output_type": "stream",
     "text": [
      "INFO:root:Listing Reports with filters [{\"key\": \"name\", \"values\": [\"My new report of my organization\"]}, {\"key\": \"published_day\", \"values\": [\"2019-12-01\"]}].\n",
      "INFO:root:Updating Stix-Domain-Entity {6293b0be-a501-46a0-8b8c-c4ef6c39b633} field {object_status}.\n"
     ]
    }
   ],
   "source": [
    "\n",
    "date = parse(\"2019-12-01\").strftime(\"%Y-%m-%dT%H:%M:%SZ\")\n",
    "report = opencti_api_client.report.create(\n",
    "    name=\"My new report of my organization\",\n",
    "    description=\"A report wrote by my organization\",\n",
    "    published=date,\n",
    "    report_class=\"Threat Report\",\n",
    "    createdByRef=organization[\"id\"],\n",
    "    object_status = 3,\n",
    "    update=True\n",
    ")"
   ]
  },
  {
   "cell_type": "code",
   "execution_count": 76,
   "metadata": {},
   "outputs": [
    {
     "name": "stderr",
     "output_type": "stream",
     "text": [
      "INFO:root:Reading Report {6293b0be-a501-46a0-8b8c-c4ef6c39b633}.\n"
     ]
    },
    {
     "data": {
      "text/plain": [
       "{'id': '6293b0be-a501-46a0-8b8c-c4ef6c39b633',\n",
       " 'stix_id_key': 'report--eb70da85-6c59-4f52-af54-aba8a4f318e4',\n",
       " 'entity_type': 'report',\n",
       " 'stix_label': None,\n",
       " 'name': 'My new report of my organization',\n",
       " 'alias': [''],\n",
       " 'description': 'A report wrote by my organization',\n",
       " 'report_class': 'Threat Report',\n",
       " 'published': '2019-12-01T00:00:00.000Z',\n",
       " 'object_status': 3,\n",
       " 'source_confidence_level': 2,\n",
       " 'graph_data': None,\n",
       " 'created': '2020-01-27T08:31:29.560Z',\n",
       " 'modified': '2020-01-27T08:50:56.641Z',\n",
       " 'created_at': '2020-01-27T08:31:29.560Z',\n",
       " 'updated_at': '2020-01-27T08:50:56.641Z',\n",
       " 'createdByRef': {'id': '4dd7eedd-4a43-45c1-861d-c00ae6e47b9a',\n",
       "  'entity_type': 'organization',\n",
       "  'stix_id_key': 'identity--bfd6e869-96a4-4aa4-b2c9-60795757de15',\n",
       "  'stix_label': None,\n",
       "  'name': 'My organization',\n",
       "  'alias': ['my-organization'],\n",
       "  'description': 'A new organization.',\n",
       "  'created': '2020-01-27T07:30:23.348Z',\n",
       "  'modified': '2020-01-27T07:30:23.348Z',\n",
       "  'organization_class': None,\n",
       "  'remote_relation_id': '8b09ef59-5549-50dd-9fe0-5a7d94eb0ce5'},\n",
       " 'markingDefinitions': [],\n",
       " 'tags': [],\n",
       " 'externalReferences': [],\n",
       " 'objectRefs': [],\n",
       " 'observableRefs': [],\n",
       " 'relationRefs': [],\n",
       " 'markingDefinitionsIds': [],\n",
       " 'tagsIds': [],\n",
       " 'externalReferencesIds': [],\n",
       " 'objectRefsIds': [],\n",
       " 'observableRefsIds': [],\n",
       " 'relationRefsIds': []}"
      ]
     },
     "execution_count": 76,
     "metadata": {},
     "output_type": "execute_result"
    }
   ],
   "source": [
    "opencti_api_client.report.read(id= '6293b0be-a501-46a0-8b8c-c4ef6c39b633' )"
   ]
  },
  {
   "cell_type": "code",
   "execution_count": null,
   "metadata": {},
   "outputs": [],
   "source": []
  }
 ],
 "metadata": {
  "kernelspec": {
   "display_name": "Python 3",
   "language": "python",
   "name": "python3"
  },
  "language_info": {
   "codemirror_mode": {
    "name": "ipython",
    "version": 3
   },
   "file_extension": ".py",
   "mimetype": "text/x-python",
   "name": "python",
   "nbconvert_exporter": "python",
   "pygments_lexer": "ipython3",
   "version": "3.7.4"
  }
 },
 "nbformat": 4,
 "nbformat_minor": 2
}
