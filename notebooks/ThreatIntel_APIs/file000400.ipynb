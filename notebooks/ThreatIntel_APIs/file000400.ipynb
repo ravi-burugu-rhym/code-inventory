{
 "cells": [
  {
   "cell_type": "code",
   "execution_count": 11,
   "metadata": {},
   "outputs": [],
   "source": [
    "import pandas as pd\n",
    "import uuid\n",
    "from datetime import datetime\n",
    "import numpy as np\n",
    "from grakn.client import GraknClient\n",
    "from tqdm import tqdm\n",
    "tqdm.pandas()"
   ]
  },
  {
   "cell_type": "code",
   "execution_count": 12,
   "metadata": {},
   "outputs": [],
   "source": [
    "df=pd.read_excel(r\"D:\\Threat_intel_services\\APT_collections\\relation\\mitigation\\mitigation_relation.xlsx\",sheet_name='tool_mitigation')"
   ]
  },
  {
   "cell_type": "code",
   "execution_count": 13,
   "metadata": {},
   "outputs": [],
   "source": [
    "def  insert_general_info(df,ent_type,create):\n",
    "    if create:\n",
    "        for index,i in df.iterrows():\n",
    "            df.internal_id_key[index]=str(uuid.uuid4())\n",
    "            df.stix_id_key[index]=ent_type+'--'+str(uuid.uuid4())\n",
    "            df.stix_label[index]='NA'\n",
    "            df.entity_type[index]=ent_type\n",
    "            df.created=(datetime.now()).strftime(\"%Y-%m-%dT%H:%M:%S\")\n",
    "            df.created_at=(datetime.now()).strftime(\"%Y-%m-%dT%H:%M:%S\")\n",
    "            df.created_at_day=(datetime.now()).strftime(\"%Y-%m-%d\")\n",
    "            df.created_at_month=(datetime.now()).strftime(\"%Y-%m\")\n",
    "            df.created_at_year=(datetime.now()).strftime(\"%Y\")\n",
    "            df.modified=(datetime.now()).strftime(\"%Y-%m-%dT%H:%M:%S\")\n",
    "            df.updated_at=(datetime.now()).strftime(\"%Y-%m-%dT%H:%M:%S\")\n",
    "            df.revoked=False\n",
    "            df.object_status='NA'\n",
    "    else:\n",
    "            df.modified=(datetime.now()).strftime(\"%Y-%m-%dT%H:%M:%S\")\n",
    "            df.updated_at=(datetime.now()).strftime(\"%Y-%m-%dT%H:%M:%S\")\n",
    "    return df\n",
    "    "
   ]
  },
  {
   "cell_type": "code",
   "execution_count": 14,
   "metadata": {},
   "outputs": [
    {
     "name": "stderr",
     "output_type": "stream",
     "text": [
      "C:\\ProgramData\\Anaconda3\\lib\\site-packages\\ipykernel_launcher.py:4: SettingWithCopyWarning: \n",
      "A value is trying to be set on a copy of a slice from a DataFrame\n",
      "\n",
      "See the caveats in the documentation: http://pandas.pydata.org/pandas-docs/stable/indexing.html#indexing-view-versus-copy\n",
      "  after removing the cwd from sys.path.\n",
      "C:\\ProgramData\\Anaconda3\\lib\\site-packages\\ipykernel_launcher.py:5: SettingWithCopyWarning: \n",
      "A value is trying to be set on a copy of a slice from a DataFrame\n",
      "\n",
      "See the caveats in the documentation: http://pandas.pydata.org/pandas-docs/stable/indexing.html#indexing-view-versus-copy\n",
      "  \"\"\"\n",
      "C:\\ProgramData\\Anaconda3\\lib\\site-packages\\ipykernel_launcher.py:6: SettingWithCopyWarning: \n",
      "A value is trying to be set on a copy of a slice from a DataFrame\n",
      "\n",
      "See the caveats in the documentation: http://pandas.pydata.org/pandas-docs/stable/indexing.html#indexing-view-versus-copy\n",
      "  \n",
      "C:\\ProgramData\\Anaconda3\\lib\\site-packages\\ipykernel_launcher.py:7: SettingWithCopyWarning: \n",
      "A value is trying to be set on a copy of a slice from a DataFrame\n",
      "\n",
      "See the caveats in the documentation: http://pandas.pydata.org/pandas-docs/stable/indexing.html#indexing-view-versus-copy\n",
      "  import sys\n"
     ]
    }
   ],
   "source": [
    "tool_mit=insert_general_info(df=df,ent_type='relationship',create=True)"
   ]
  },
  {
   "cell_type": "code",
   "execution_count": 46,
   "metadata": {},
   "outputs": [],
   "source": [
    "def tool_mitigates_mitigation(df,session):\n",
    "    graql_insert_query= f'match $t isa Tool,'\\\n",
    "                        f'has name \\\"'+df['tool']+'\\\";'\\\n",
    "                        f'$coa isa Course-Of-Action,'\\\n",
    "                        f'has name \\\"'+df['mitigation'].strip()+'\\\";'\\\n",
    "                        f'insert $uses (problem:$t ,mitigation:$coa) isa mitigates,'\\\n",
    "                        f\"has internal_id_key \\\"{df['internal_id_key']}\\\", \" \\\n",
    "                        f\"has stix_id_key \\\"{df['stix_id_key']}\\\", \" \\\n",
    "                        f\"has entity_type \\\"{df['entity_type']}\\\", \" \\\n",
    "                        f\"has created {df['created']}, \" \\\n",
    "                        f\"has revoked \\\"{df['revoked']}\\\", \"\\\n",
    "                        f\"has created_at {df['created_at']}, \" \\\n",
    "                        f\"has created_at_day \\\"{df['created_at_day']}\\\", \" \\\n",
    "                        f\"has created_at_month \\\"{df['created_at_month']}\\\", \" \\\n",
    "                        f\"has created_at_year \\\"{df['created_at_year']}\\\", \"\\\n",
    "                        f\"has updated_at {df['updated_at']}; \"\n",
    "    print(graql_insert_query)\n",
    "    try:\n",
    "        with session.transaction().write() as write_transaction:\n",
    "                # make a write transection with the query\n",
    "                write_transaction.query(graql_insert_query)\n",
    "                # remember to commit at the end\n",
    "                write_transaction.commit()\n",
    "    except:\n",
    "        print(\"error occcured at _____________________________________\"+df['mitigation'].strip())    \n",
    "        pass"
   ]
  },
  {
   "cell_type": "code",
   "execution_count": 47,
   "metadata": {},
   "outputs": [],
   "source": [
    "def load_data_into_grakn_relation(session,input_df):\n",
    "    print(\"Inserting intrusion-set...\")\n",
    "    # using progress_apply instead of apply so we have a progress bar form tqdm\n",
    "    # input_df.progress_apply(insert_one_intrusion_set, axis=1, session=session)\n",
    "    print(\"Loading intrusion-set...\")\n",
    "    \n",
    "    for index,row in input_df.iterrows():\n",
    "        print(row['tool'])\n",
    "        #intrusion_uses_malware(df=row,session=session)\n",
    "        tool_mitigates_mitigation(df=row,session=session)"
   ]
  },
  {
   "cell_type": "code",
   "execution_count": 48,
   "metadata": {},
   "outputs": [],
   "source": [
    "def build_grakn_graph_relation(input_df, keyspace_name):\n",
    "    with GraknClient(uri=\"192.168.83.128:48555\") as client:\n",
    "        with client.session(keyspace = keyspace_name) as session:\n",
    "            load_data_into_grakn_relation(session,input_df)"
   ]
  },
  {
   "cell_type": "code",
   "execution_count": 49,
   "metadata": {},
   "outputs": [
    {
     "name": "stdout",
     "output_type": "stream",
     "text": [
      "Inserting intrusion-set...\n",
      "Loading intrusion-set...\n",
      "HTRAN\n",
      "match $t isa Tool,has name \"HTRAN\";$coa isa Course-Of-Action,has name \"Network Intrusion Prevention\";insert $uses (problem:$t ,mitigation:$coa) isa mitigates,has internal_id_key \"6153113c-a649-42de-960a-78e646700e0a\", has stix_id_key \"relationship--c62a918e-0709-417f-8c58-f96b8c4e12cc\", has entity_type \"relationship\", has created 2020-01-09T15:52:24, has revoked \"False\", has created_at 2020-01-09T15:52:24, has created_at_day \"2020-01-09\", has created_at_month \"2020-01\", has created_at_year \"2020\", has updated_at 2020-01-09T15:52:24; \n",
      "HTRAN\n",
      "match $t isa Tool,has name \"HTRAN\";$coa isa Course-Of-Action,has name \"Behavior Prevention on Endpoint\";insert $uses (problem:$t ,mitigation:$coa) isa mitigates,has internal_id_key \"d05a8008-e2aa-4ac5-bde4-a62b7d2f306e\", has stix_id_key \"relationship--a50535a3-d565-4ea4-b765-f25ea2b32aa0\", has entity_type \"relationship\", has created 2020-01-09T15:52:24, has revoked \"False\", has created_at 2020-01-09T15:52:24, has created_at_day \"2020-01-09\", has created_at_month \"2020-01\", has created_at_year \"2020\", has updated_at 2020-01-09T15:52:24; \n",
      "HTRAN\n",
      "match $t isa Tool,has name \"HTRAN\";$coa isa Course-Of-Action,has name \"Privileged Account Management\";insert $uses (problem:$t ,mitigation:$coa) isa mitigates,has internal_id_key \"05d813c5-39eb-4cc2-95be-526b487a77bb\", has stix_id_key \"relationship--c45a9505-3276-4478-a952-45576b299e1e\", has entity_type \"relationship\", has created 2020-01-09T15:52:24, has revoked \"False\", has created_at 2020-01-09T15:52:24, has created_at_day \"2020-01-09\", has created_at_month \"2020-01\", has created_at_year \"2020\", has updated_at 2020-01-09T15:52:24; \n",
      "certutil\n",
      "match $t isa Tool,has name \"certutil\";$coa isa Course-Of-Action,has name \"Operating System Configuration\";insert $uses (problem:$t ,mitigation:$coa) isa mitigates,has internal_id_key \"ea20ed6c-3e36-411b-987c-290f511ee074\", has stix_id_key \"relationship--c1a8f29f-4a39-4c5f-b666-50678c2db449\", has entity_type \"relationship\", has created 2020-01-09T15:52:24, has revoked \"False\", has created_at 2020-01-09T15:52:24, has created_at_day \"2020-01-09\", has created_at_month \"2020-01\", has created_at_year \"2020\", has updated_at 2020-01-09T15:52:24; \n",
      "certutil\n",
      "match $t isa Tool,has name \"certutil\";$coa isa Course-Of-Action,has name \"Software Configuration\";insert $uses (problem:$t ,mitigation:$coa) isa mitigates,has internal_id_key \"a7613551-1cb2-477a-9191-b7b68cc24057\", has stix_id_key \"relationship--26a32a56-2aa8-408e-9fb1-3ae286eb7861\", has entity_type \"relationship\", has created 2020-01-09T15:52:24, has revoked \"False\", has created_at 2020-01-09T15:52:24, has created_at_day \"2020-01-09\", has created_at_month \"2020-01\", has created_at_year \"2020\", has updated_at 2020-01-09T15:52:24; \n",
      "certutil\n",
      "match $t isa Tool,has name \"certutil\";$coa isa Course-Of-Action,has name \"Network Intrusion Prevention\";insert $uses (problem:$t ,mitigation:$coa) isa mitigates,has internal_id_key \"26a9c5c7-a164-4919-88c8-bc252aad4221\", has stix_id_key \"relationship--9d62c80f-2413-4934-b3e9-6899d366952b\", has entity_type \"relationship\", has created 2020-01-09T15:52:24, has revoked \"False\", has created_at 2020-01-09T15:52:24, has created_at_day \"2020-01-09\", has created_at_month \"2020-01\", has created_at_year \"2020\", has updated_at 2020-01-09T15:52:24; \n",
      "Koadic\n",
      "match $t isa Tool,has name \"Koadic\";$coa isa Course-Of-Action,has name \"Audit\";insert $uses (problem:$t ,mitigation:$coa) isa mitigates,has internal_id_key \"9185bf3f-254f-4526-97b4-fcfa2f14e6bd\", has stix_id_key \"relationship--154e4ce4-7560-4616-aea0-9806cee72285\", has entity_type \"relationship\", has created 2020-01-09T15:52:24, has revoked \"False\", has created_at 2020-01-09T15:52:24, has created_at_day \"2020-01-09\", has created_at_month \"2020-01\", has created_at_year \"2020\", has updated_at 2020-01-09T15:52:24; \n",
      "Koadic\n",
      "match $t isa Tool,has name \"Koadic\";$coa isa Course-Of-Action,has name \"Privileged Account Management\";insert $uses (problem:$t ,mitigation:$coa) isa mitigates,has internal_id_key \"e4e343ea-bf41-44d1-bbba-0f43ec581941\", has stix_id_key \"relationship--f8f263e3-7d49-4849-9a89-106ce47d3ff5\", has entity_type \"relationship\", has created 2020-01-09T15:52:24, has revoked \"False\", has created_at 2020-01-09T15:52:24, has created_at_day \"2020-01-09\", has created_at_month \"2020-01\", has created_at_year \"2020\", has updated_at 2020-01-09T15:52:24; \n",
      "Koadic\n",
      "match $t isa Tool,has name \"Koadic\";$coa isa Course-Of-Action,has name \"User Account Control\";insert $uses (problem:$t ,mitigation:$coa) isa mitigates,has internal_id_key \"20264593-68a3-459c-91be-015487afe17c\", has stix_id_key \"relationship--57c52320-b107-4e7e-9098-85cf586ed167\", has entity_type \"relationship\", has created 2020-01-09T15:52:24, has revoked \"False\", has created_at 2020-01-09T15:52:24, has created_at_day \"2020-01-09\", has created_at_month \"2020-01\", has created_at_year \"2020\", has updated_at 2020-01-09T15:52:24; \n",
      "Koadic\n",
      "match $t isa Tool,has name \"Koadic\";$coa isa Course-Of-Action,has name \"Execution Prevention\";insert $uses (problem:$t ,mitigation:$coa) isa mitigates,has internal_id_key \"8a199f47-fe5e-4f00-bfd8-201dd1275154\", has stix_id_key \"relationship--7661a8c9-efc6-44d9-adc8-3a55ae63cc37\", has entity_type \"relationship\", has created 2020-01-09T15:52:24, has revoked \"False\", has created_at 2020-01-09T15:52:24, has created_at_day \"2020-01-09\", has created_at_month \"2020-01\", has created_at_year \"2020\", has updated_at 2020-01-09T15:52:24; \n",
      "Koadic\n",
      "match $t isa Tool,has name \"Koadic\";$coa isa Course-Of-Action,has name \"Active Directory Configuration\";insert $uses (problem:$t ,mitigation:$coa) isa mitigates,has internal_id_key \"e82f473e-2d66-46c6-b2fe-5338fb9350b7\", has stix_id_key \"relationship--6a3ef8cd-1d2e-42db-b54a-67e80197940b\", has entity_type \"relationship\", has created 2020-01-09T15:52:24, has revoked \"False\", has created_at 2020-01-09T15:52:24, has created_at_day \"2020-01-09\", has created_at_month \"2020-01\", has created_at_year \"2020\", has updated_at 2020-01-09T15:52:24; \n",
      "Koadic\n",
      "match $t isa Tool,has name \"Koadic\";$coa isa Course-Of-Action,has name \"Credential Access Protection\";insert $uses (problem:$t ,mitigation:$coa) isa mitigates,has internal_id_key \"7b6799fb-801b-4d99-96a6-f4ff918141ab\", has stix_id_key \"relationship--31ccc3dd-a918-4a40-a2df-567b4edc26af\", has entity_type \"relationship\", has created 2020-01-09T15:52:24, has revoked \"False\", has created_at 2020-01-09T15:52:24, has created_at_day \"2020-01-09\", has created_at_month \"2020-01\", has created_at_year \"2020\", has updated_at 2020-01-09T15:52:24; \n",
      "Koadic\n",
      "match $t isa Tool,has name \"Koadic\";$coa isa Course-Of-Action,has name \"Operating System Configuration\";insert $uses (problem:$t ,mitigation:$coa) isa mitigates,has internal_id_key \"314dad36-5221-478c-8615-6b46e9e6824f\", has stix_id_key \"relationship--896b6d0a-d999-4c04-8616-68c365fab147\", has entity_type \"relationship\", has created 2020-01-09T15:52:24, has revoked \"False\", has created_at 2020-01-09T15:52:24, has created_at_day \"2020-01-09\", has created_at_month \"2020-01\", has created_at_year \"2020\", has updated_at 2020-01-09T15:52:24; \n",
      "Koadic\n",
      "match $t isa Tool,has name \"Koadic\";$coa isa Course-Of-Action,has name \"Password Policies\";insert $uses (problem:$t ,mitigation:$coa) isa mitigates,has internal_id_key \"76440af7-91b3-4337-968b-4654a60ade81\", has stix_id_key \"relationship--beab5bbe-4942-426c-80fd-1661925b1eb3\", has entity_type \"relationship\", has created 2020-01-09T15:52:24, has revoked \"False\", has created_at 2020-01-09T15:52:24, has created_at_day \"2020-01-09\", has created_at_month \"2020-01\", has created_at_year \"2020\", has updated_at 2020-01-09T15:52:24; \n",
      "Koadic\n"
     ]
    },
    {
     "name": "stdout",
     "output_type": "stream",
     "text": [
      "match $t isa Tool,has name \"Koadic\";$coa isa Course-Of-Action,has name \"Privileged Process Integrity\";insert $uses (problem:$t ,mitigation:$coa) isa mitigates,has internal_id_key \"df4d78f8-e552-48e9-901d-fd5ba2b2d0fb\", has stix_id_key \"relationship--3550f3d1-4f26-4207-8c41-11d19aa4fa6f\", has entity_type \"relationship\", has created 2020-01-09T15:52:24, has revoked \"False\", has created_at 2020-01-09T15:52:24, has created_at_day \"2020-01-09\", has created_at_month \"2020-01\", has created_at_year \"2020\", has updated_at 2020-01-09T15:52:24; \n",
      "Koadic\n",
      "match $t isa Tool,has name \"Koadic\";$coa isa Course-Of-Action,has name \"User Training\";insert $uses (problem:$t ,mitigation:$coa) isa mitigates,has internal_id_key \"7fa8c0a1-1da4-49c1-9af6-ca4561bb2148\", has stix_id_key \"relationship--e3163e5c-e6be-4928-9856-f01437396334\", has entity_type \"relationship\", has created 2020-01-09T15:52:24, has revoked \"False\", has created_at 2020-01-09T15:52:24, has created_at_day \"2020-01-09\", has created_at_month \"2020-01\", has created_at_year \"2020\", has updated_at 2020-01-09T15:52:24; \n",
      "Koadic\n",
      "match $t isa Tool,has name \"Koadic\";$coa isa Course-Of-Action,has name \"Disable or Remove Feature or Program\";insert $uses (problem:$t ,mitigation:$coa) isa mitigates,has internal_id_key \"3f560529-d23d-4ec6-a398-d9c63b33e892\", has stix_id_key \"relationship--61034bbb-dd94-45a3-b878-a6abc29b10ce\", has entity_type \"relationship\", has created 2020-01-09T15:52:24, has revoked \"False\", has created_at 2020-01-09T15:52:24, has created_at_day \"2020-01-09\", has created_at_month \"2020-01\", has created_at_year \"2020\", has updated_at 2020-01-09T15:52:24; \n",
      "Koadic\n",
      "match $t isa Tool,has name \"Koadic\";$coa isa Course-Of-Action,has name \"Network Intrusion Prevention\";insert $uses (problem:$t ,mitigation:$coa) isa mitigates,has internal_id_key \"73154d3e-bbac-4635-99fd-8ce32a438854\", has stix_id_key \"relationship--daa238a0-bfaf-4f9b-8d77-3b4dfcff4985\", has entity_type \"relationship\", has created 2020-01-09T15:52:24, has revoked \"False\", has created_at 2020-01-09T15:52:24, has created_at_day \"2020-01-09\", has created_at_month \"2020-01\", has created_at_year \"2020\", has updated_at 2020-01-09T15:52:24; \n",
      "Koadic\n",
      "match $t isa Tool,has name \"Koadic\";$coa isa Course-Of-Action,has name \"Network Segmentation\";insert $uses (problem:$t ,mitigation:$coa) isa mitigates,has internal_id_key \"f8c43dba-079d-4106-ab29-46bfee454ddc\", has stix_id_key \"relationship--170f8d67-af72-473b-83d3-8c01669bdbda\", has entity_type \"relationship\", has created 2020-01-09T15:52:24, has revoked \"False\", has created_at 2020-01-09T15:52:24, has created_at_day \"2020-01-09\", has created_at_month \"2020-01\", has created_at_year \"2020\", has updated_at 2020-01-09T15:52:24; \n",
      "Koadic\n",
      "match $t isa Tool,has name \"Koadic\";$coa isa Course-Of-Action,has name \"Behavior Prevention on Endpoint\";insert $uses (problem:$t ,mitigation:$coa) isa mitigates,has internal_id_key \"94d584ad-43ae-4b00-9cb1-3f0954c9ca68\", has stix_id_key \"relationship--7bc1fa8f-9f5c-4c51-9fc2-c952b40b0967\", has entity_type \"relationship\", has created 2020-01-09T15:52:24, has revoked \"False\", has created_at 2020-01-09T15:52:24, has created_at_day \"2020-01-09\", has created_at_month \"2020-01\", has created_at_year \"2020\", has updated_at 2020-01-09T15:52:24; \n",
      "Koadic\n",
      "match $t isa Tool,has name \"Koadic\";$coa isa Course-Of-Action,has name \"Exploit Protection\";insert $uses (problem:$t ,mitigation:$coa) isa mitigates,has internal_id_key \"fe7dcff4-b1f7-4866-ae8b-e75dd4b64a8a\", has stix_id_key \"relationship--d4b5d803-754c-48b5-9f14-3696af6488cf\", has entity_type \"relationship\", has created 2020-01-09T15:52:24, has revoked \"False\", has created_at 2020-01-09T15:52:24, has created_at_day \"2020-01-09\", has created_at_month \"2020-01\", has created_at_year \"2020\", has updated_at 2020-01-09T15:52:24; \n",
      "Koadic\n",
      "match $t isa Tool,has name \"Koadic\";$coa isa Course-Of-Action,has name \"Limit Access to Resource Over Network\";insert $uses (problem:$t ,mitigation:$coa) isa mitigates,has internal_id_key \"1a28ab27-b85c-42ea-a00d-8d79d2df552d\", has stix_id_key \"relationship--bc3cb143-4357-492e-8da7-966365f3d537\", has entity_type \"relationship\", has created 2020-01-09T15:52:24, has revoked \"False\", has created_at 2020-01-09T15:52:24, has created_at_day \"2020-01-09\", has created_at_month \"2020-01\", has created_at_year \"2020\", has updated_at 2020-01-09T15:52:24; \n",
      "Koadic\n",
      "match $t isa Tool,has name \"Koadic\";$coa isa Course-Of-Action,has name \"Multi-factor Authentication\";insert $uses (problem:$t ,mitigation:$coa) isa mitigates,has internal_id_key \"846d54df-f13c-4060-86c9-700dd913f0bd\", has stix_id_key \"relationship--8faedbaf-58a1-49b5-be9a-b062d004fde3\", has entity_type \"relationship\", has created 2020-01-09T15:52:24, has revoked \"False\", has created_at 2020-01-09T15:52:24, has created_at_day \"2020-01-09\", has created_at_month \"2020-01\", has created_at_year \"2020\", has updated_at 2020-01-09T15:52:24; \n",
      "Koadic\n",
      "match $t isa Tool,has name \"Koadic\";$coa isa Course-Of-Action,has name \"Network Segmentation\";insert $uses (problem:$t ,mitigation:$coa) isa mitigates,has internal_id_key \"930e1557-8e58-4a25-8557-836ebc3f0429\", has stix_id_key \"relationship--5fc8bc10-d421-474c-8d75-b07e5eba24d2\", has entity_type \"relationship\", has created 2020-01-09T15:52:24, has revoked \"False\", has created_at 2020-01-09T15:52:24, has created_at_day \"2020-01-09\", has created_at_month \"2020-01\", has created_at_year \"2020\", has updated_at 2020-01-09T15:52:24; \n",
      "Koadic\n",
      "match $t isa Tool,has name \"Koadic\";$coa isa Course-Of-Action,has name \"User Account Management\";insert $uses (problem:$t ,mitigation:$coa) isa mitigates,has internal_id_key \"ec29d8c2-f9bb-4d89-9151-795e8cc70ee5\", has stix_id_key \"relationship--65aa77b3-0d38-4c91-aaae-c582a4dd93f4\", has entity_type \"relationship\", has created 2020-01-09T15:52:24, has revoked \"False\", has created_at 2020-01-09T15:52:24, has created_at_day \"2020-01-09\", has created_at_month \"2020-01\", has created_at_year \"2020\", has updated_at 2020-01-09T15:52:24; \n",
      "Koadic\n",
      "match $t isa Tool,has name \"Koadic\";$coa isa Course-Of-Action,has name \"Application Isolation and Sandboxing\";insert $uses (problem:$t ,mitigation:$coa) isa mitigates,has internal_id_key \"a392a128-9c55-4318-9f29-58e98304fabd\", has stix_id_key \"relationship--2d66ac3c-2587-4902-a72f-820a5b6adde4\", has entity_type \"relationship\", has created 2020-01-09T15:52:24, has revoked \"False\", has created_at 2020-01-09T15:52:24, has created_at_day \"2020-01-09\", has created_at_month \"2020-01\", has created_at_year \"2020\", has updated_at 2020-01-09T15:52:24; \n",
      "Koadic\n",
      "match $t isa Tool,has name \"Koadic\";$coa isa Course-Of-Action,has name \"Restrict File and Directory Permissions\";insert $uses (problem:$t ,mitigation:$coa) isa mitigates,has internal_id_key \"033c0442-26b9-4205-9809-61acb7cd8b49\", has stix_id_key \"relationship--92274a40-45e6-49b6-800e-c03ebc764721\", has entity_type \"relationship\", has created 2020-01-09T15:52:24, has revoked \"False\", has created_at 2020-01-09T15:52:24, has created_at_day \"2020-01-09\", has created_at_month \"2020-01\", has created_at_year \"2020\", has updated_at 2020-01-09T15:52:24; \n",
      "Koadic\n",
      "match $t isa Tool,has name \"Koadic\";$coa isa Course-Of-Action,has name \"SSL/TLS Inspection\";insert $uses (problem:$t ,mitigation:$coa) isa mitigates,has internal_id_key \"5709df8d-772d-4e0f-b30d-ee5885f875e2\", has stix_id_key \"relationship--54667a88-16ee-4d00-a402-f4bdbca31092\", has entity_type \"relationship\", has created 2020-01-09T15:52:24, has revoked \"False\", has created_at 2020-01-09T15:52:24, has created_at_day \"2020-01-09\", has created_at_month \"2020-01\", has created_at_year \"2020\", has updated_at 2020-01-09T15:52:24; \n",
      "Mimikatz\n"
     ]
    },
    {
     "name": "stdout",
     "output_type": "stream",
     "text": [
      "match $t isa Tool,has name \"Mimikatz\";$coa isa Course-Of-Action,has name \"Multi-factor Authentication\";insert $uses (problem:$t ,mitigation:$coa) isa mitigates,has internal_id_key \"dc1a5b2e-6744-4c35-bfd0-e8164cd06046\", has stix_id_key \"relationship--b124dedb-df92-4a3f-b430-2fab522ad471\", has entity_type \"relationship\", has created 2020-01-09T15:52:24, has revoked \"False\", has created_at 2020-01-09T15:52:24, has created_at_day \"2020-01-09\", has created_at_month \"2020-01\", has created_at_year \"2020\", has updated_at 2020-01-09T15:52:24; \n",
      "Mimikatz\n",
      "match $t isa Tool,has name \"Mimikatz\";$coa isa Course-Of-Action,has name \"Network Segmentation\";insert $uses (problem:$t ,mitigation:$coa) isa mitigates,has internal_id_key \"f54e3d98-d0ee-4c2f-bd8c-f9e1055b761a\", has stix_id_key \"relationship--2e4dd120-4f98-4b7e-a0fe-bff59bab381a\", has entity_type \"relationship\", has created 2020-01-09T15:52:24, has revoked \"False\", has created_at 2020-01-09T15:52:24, has created_at_day \"2020-01-09\", has created_at_month \"2020-01\", has created_at_year \"2020\", has updated_at 2020-01-09T15:52:24; \n",
      "Mimikatz\n",
      "match $t isa Tool,has name \"Mimikatz\";$coa isa Course-Of-Action,has name \"Operating System Configuration\";insert $uses (problem:$t ,mitigation:$coa) isa mitigates,has internal_id_key \"3567c80e-0276-413c-9416-ddb2bbe1d80c\", has stix_id_key \"relationship--2bdbf96d-407d-4296-ac05-770bcbb60feb\", has entity_type \"relationship\", has created 2020-01-09T15:52:24, has revoked \"False\", has created_at 2020-01-09T15:52:24, has created_at_day \"2020-01-09\", has created_at_month \"2020-01\", has created_at_year \"2020\", has updated_at 2020-01-09T15:52:24; \n",
      "Mimikatz\n",
      "match $t isa Tool,has name \"Mimikatz\";$coa isa Course-Of-Action,has name \"Privileged Account Management\";insert $uses (problem:$t ,mitigation:$coa) isa mitigates,has internal_id_key \"06088380-c71f-467a-a342-320483c19fc6\", has stix_id_key \"relationship--1cd967bc-6ab1-4896-8c92-a17ce8c120c7\", has entity_type \"relationship\", has created 2020-01-09T15:52:24, has revoked \"False\", has created_at 2020-01-09T15:52:24, has created_at_day \"2020-01-09\", has created_at_month \"2020-01\", has created_at_year \"2020\", has updated_at 2020-01-09T15:52:24; \n",
      "Mimikatz\n",
      "match $t isa Tool,has name \"Mimikatz\";$coa isa Course-Of-Action,has name \"Active Directory Configuration\";insert $uses (problem:$t ,mitigation:$coa) isa mitigates,has internal_id_key \"c0e9dddf-18bf-45b6-9419-4e9bae866025\", has stix_id_key \"relationship--2a1b0b09-fc4e-4b02-bc10-0c064dd55f8b\", has entity_type \"relationship\", has created 2020-01-09T15:52:24, has revoked \"False\", has created_at 2020-01-09T15:52:24, has created_at_day \"2020-01-09\", has created_at_month \"2020-01\", has created_at_year \"2020\", has updated_at 2020-01-09T15:52:24; \n",
      "Mimikatz\n",
      "match $t isa Tool,has name \"Mimikatz\";$coa isa Course-Of-Action,has name \"Credential Access Protection\";insert $uses (problem:$t ,mitigation:$coa) isa mitigates,has internal_id_key \"cc8faa74-1498-454f-92f2-b4476fb85c7c\", has stix_id_key \"relationship--560dbe34-fd1d-41e0-b9a8-11ea0582100e\", has entity_type \"relationship\", has created 2020-01-09T15:52:24, has revoked \"False\", has created_at 2020-01-09T15:52:24, has created_at_day \"2020-01-09\", has created_at_month \"2020-01\", has created_at_year \"2020\", has updated_at 2020-01-09T15:52:24; \n",
      "Mimikatz\n",
      "match $t isa Tool,has name \"Mimikatz\";$coa isa Course-Of-Action,has name \"Password Policies\";insert $uses (problem:$t ,mitigation:$coa) isa mitigates,has internal_id_key \"c4792218-eb3d-4dd9-9514-0eea06c6b0f0\", has stix_id_key \"relationship--494eee4e-c001-4a82-b33f-e27378d0c7ba\", has entity_type \"relationship\", has created 2020-01-09T15:52:24, has revoked \"False\", has created_at 2020-01-09T15:52:24, has created_at_day \"2020-01-09\", has created_at_month \"2020-01\", has created_at_year \"2020\", has updated_at 2020-01-09T15:52:24; \n",
      "Mimikatz\n",
      "match $t isa Tool,has name \"Mimikatz\";$coa isa Course-Of-Action,has name \"Privileged Process Integrity\";insert $uses (problem:$t ,mitigation:$coa) isa mitigates,has internal_id_key \"0669e079-7f22-450a-b51a-94dfc21bd0de\", has stix_id_key \"relationship--2b505680-fb49-42da-83ae-621dfad5aed9\", has entity_type \"relationship\", has created 2020-01-09T15:52:24, has revoked \"False\", has created_at 2020-01-09T15:52:24, has created_at_day \"2020-01-09\", has created_at_month \"2020-01\", has created_at_year \"2020\", has updated_at 2020-01-09T15:52:24; \n",
      "Mimikatz\n",
      "match $t isa Tool,has name \"Mimikatz\";$coa isa Course-Of-Action,has name \"User Training\";insert $uses (problem:$t ,mitigation:$coa) isa mitigates,has internal_id_key \"685c08ad-0177-407f-b9f6-a39d848fb616\", has stix_id_key \"relationship--27c5f9b6-073e-459a-8052-2e107406ab82\", has entity_type \"relationship\", has created 2020-01-09T15:52:24, has revoked \"False\", has created_at 2020-01-09T15:52:24, has created_at_day \"2020-01-09\", has created_at_month \"2020-01\", has created_at_year \"2020\", has updated_at 2020-01-09T15:52:24; \n",
      "Mimikatz\n",
      "match $t isa Tool,has name \"Mimikatz\";$coa isa Course-Of-Action,has name \"Audit\";insert $uses (problem:$t ,mitigation:$coa) isa mitigates,has internal_id_key \"3315fb86-4584-4acd-9f66-aeb553238d43\", has stix_id_key \"relationship--9040d4a9-2657-406d-8443-75ec7985d015\", has entity_type \"relationship\", has created 2020-01-09T15:52:24, has revoked \"False\", has created_at 2020-01-09T15:52:24, has created_at_day \"2020-01-09\", has created_at_month \"2020-01\", has created_at_year \"2020\", has updated_at 2020-01-09T15:52:24; \n",
      "Mimikatz\n",
      "match $t isa Tool,has name \"Mimikatz\";$coa isa Course-Of-Action,has name \"Restrict File and Directory Permissions\";insert $uses (problem:$t ,mitigation:$coa) isa mitigates,has internal_id_key \"3557423e-e8df-4b10-bfe2-947658312276\", has stix_id_key \"relationship--286f866e-c5f0-413b-a2f5-f06f8b2d4a4c\", has entity_type \"relationship\", has created 2020-01-09T15:52:24, has revoked \"False\", has created_at 2020-01-09T15:52:24, has created_at_day \"2020-01-09\", has created_at_month \"2020-01\", has created_at_year \"2020\", has updated_at 2020-01-09T15:52:24; \n",
      "Mimikatz\n",
      "match $t isa Tool,has name \"Mimikatz\";$coa isa Course-Of-Action,has name \"Update Software\";insert $uses (problem:$t ,mitigation:$coa) isa mitigates,has internal_id_key \"31a3084e-0179-435d-9bbe-c23ab2bbf206\", has stix_id_key \"relationship--2c8aa518-8739-467e-a7ec-4ebf9c4641fd\", has entity_type \"relationship\", has created 2020-01-09T15:52:24, has revoked \"False\", has created_at 2020-01-09T15:52:24, has created_at_day \"2020-01-09\", has created_at_month \"2020-01\", has created_at_year \"2020\", has updated_at 2020-01-09T15:52:24; \n",
      "Mimikatz\n",
      "match $t isa Tool,has name \"Mimikatz\";$coa isa Course-Of-Action,has name \"User Account Control\";insert $uses (problem:$t ,mitigation:$coa) isa mitigates,has internal_id_key \"7b33564a-6317-4354-9106-a6784e3fbbdf\", has stix_id_key \"relationship--49d0b45a-6588-4cff-8bda-26c52ccdec92\", has entity_type \"relationship\", has created 2020-01-09T15:52:24, has revoked \"False\", has created_at 2020-01-09T15:52:24, has created_at_day \"2020-01-09\", has created_at_month \"2020-01\", has created_at_year \"2020\", has updated_at 2020-01-09T15:52:24; \n",
      "Mimikatz\n",
      "match $t isa Tool,has name \"Mimikatz\";$coa isa Course-Of-Action,has name \"User Account Management\";insert $uses (problem:$t ,mitigation:$coa) isa mitigates,has internal_id_key \"6eeed25a-699a-405e-a06a-96ff1e5cf9fb\", has stix_id_key \"relationship--a7a69fde-c490-4e03-82e7-416ec2262eed\", has entity_type \"relationship\", has created 2020-01-09T15:52:24, has revoked \"False\", has created_at 2020-01-09T15:52:24, has created_at_day \"2020-01-09\", has created_at_month \"2020-01\", has created_at_year \"2020\", has updated_at 2020-01-09T15:52:24; \n",
      "Mimikatz\n"
     ]
    },
    {
     "name": "stdout",
     "output_type": "stream",
     "text": [
      "match $t isa Tool,has name \"Mimikatz\";$coa isa Course-Of-Action,has name \"Active Directory Configuration\";insert $uses (problem:$t ,mitigation:$coa) isa mitigates,has internal_id_key \"82276769-c420-4c2b-95a6-6b8c7b720762\", has stix_id_key \"relationship--8751f510-7e9c-4571-93f7-30d2bc7bd8e2\", has entity_type \"relationship\", has created 2020-01-09T15:52:24, has revoked \"False\", has created_at 2020-01-09T15:52:24, has created_at_day \"2020-01-09\", has created_at_month \"2020-01\", has created_at_year \"2020\", has updated_at 2020-01-09T15:52:24; \n",
      "Mimikatz\n",
      "match $t isa Tool,has name \"Mimikatz\";$coa isa Course-Of-Action,has name \"User Account Management\";insert $uses (problem:$t ,mitigation:$coa) isa mitigates,has internal_id_key \"86773304-3411-40ff-a788-20e444433454\", has stix_id_key \"relationship--f08114d4-21a0-4d30-bf0f-1c18329af127\", has entity_type \"relationship\", has created 2020-01-09T15:52:24, has revoked \"False\", has created_at 2020-01-09T15:52:24, has created_at_day \"2020-01-09\", has created_at_month \"2020-01\", has created_at_year \"2020\", has updated_at 2020-01-09T15:52:24; \n",
      "Mimikatz\n",
      "match $t isa Tool,has name \"Mimikatz\";$coa isa Course-Of-Action,has name \"Encrypt Sensitive Information\";insert $uses (problem:$t ,mitigation:$coa) isa mitigates,has internal_id_key \"54e24062-b030-4552-a98a-a3605f6a994f\", has stix_id_key \"relationship--0ec9257f-3e5b-4c22-9d3d-66f24da27a2d\", has entity_type \"relationship\", has created 2020-01-09T15:52:24, has revoked \"False\", has created_at 2020-01-09T15:52:24, has created_at_day \"2020-01-09\", has created_at_month \"2020-01\", has created_at_year \"2020\", has updated_at 2020-01-09T15:52:24; \n",
      "Winexe\n",
      "match $t isa Tool,has name \"Winexe\";$coa isa Course-Of-Action,has name \"Privileged Account Management\";insert $uses (problem:$t ,mitigation:$coa) isa mitigates,has internal_id_key \"d929906d-7ba5-494c-820f-0bb8f97b754c\", has stix_id_key \"relationship--9310b595-93e3-400f-978f-8383e8d9a4cf\", has entity_type \"relationship\", has created 2020-01-09T15:52:24, has revoked \"False\", has created_at 2020-01-09T15:52:24, has created_at_day \"2020-01-09\", has created_at_month \"2020-01\", has created_at_year \"2020\", has updated_at 2020-01-09T15:52:24; \n",
      "Winexe\n",
      "match $t isa Tool,has name \"Winexe\";$coa isa Course-Of-Action,has name \"Restrict File and Directory Permissions\";insert $uses (problem:$t ,mitigation:$coa) isa mitigates,has internal_id_key \"8c3b94d3-73ac-4a6a-9462-748b7d36a891\", has stix_id_key \"relationship--bd0d78f4-742f-4031-b1c1-ce0ccf0b28d7\", has entity_type \"relationship\", has created 2020-01-09T15:52:24, has revoked \"False\", has created_at 2020-01-09T15:52:24, has created_at_day \"2020-01-09\", has created_at_month \"2020-01\", has created_at_year \"2020\", has updated_at 2020-01-09T15:52:24; \n",
      "Cobalt Strike\n",
      "match $t isa Tool,has name \"Cobalt Strike\";$coa isa Course-Of-Action,has name \"Privileged Account Management\";insert $uses (problem:$t ,mitigation:$coa) isa mitigates,has internal_id_key \"aa37f69d-92d4-4987-9647-de110d3c6fa8\", has stix_id_key \"relationship--d740d1e5-1dd9-4e71-9188-279509e0d40e\", has entity_type \"relationship\", has created 2020-01-09T15:52:24, has revoked \"False\", has created_at 2020-01-09T15:52:24, has created_at_day \"2020-01-09\", has created_at_month \"2020-01\", has created_at_year \"2020\", has updated_at 2020-01-09T15:52:24; \n",
      "Cobalt Strike\n",
      "match $t isa Tool,has name \"Cobalt Strike\";$coa isa Course-Of-Action,has name \"User Account Management\";insert $uses (problem:$t ,mitigation:$coa) isa mitigates,has internal_id_key \"e3fc757a-c9bc-408c-9426-716b2a0ec9a4\", has stix_id_key \"relationship--fbccc2d7-02d2-4c57-9daf-1d917b6ab2ad\", has entity_type \"relationship\", has created 2020-01-09T15:52:24, has revoked \"False\", has created_at 2020-01-09T15:52:24, has created_at_day \"2020-01-09\", has created_at_month \"2020-01\", has created_at_year \"2020\", has updated_at 2020-01-09T15:52:24; \n",
      "Cobalt Strike\n",
      "match $t isa Tool,has name \"Cobalt Strike\";$coa isa Course-Of-Action,has name \"Filter Network Traffic\";insert $uses (problem:$t ,mitigation:$coa) isa mitigates,has internal_id_key \"5e3276db-5529-4932-9a33-eedeaefc0c81\", has stix_id_key \"relationship--0f696275-29c7-434f-bb79-a585a22b68da\", has entity_type \"relationship\", has created 2020-01-09T15:52:24, has revoked \"False\", has created_at 2020-01-09T15:52:24, has created_at_day \"2020-01-09\", has created_at_month \"2020-01\", has created_at_year \"2020\", has updated_at 2020-01-09T15:52:24; \n",
      "Cobalt Strike\n",
      "match $t isa Tool,has name \"Cobalt Strike\";$coa isa Course-Of-Action,has name \"Operating System Configuration\";insert $uses (problem:$t ,mitigation:$coa) isa mitigates,has internal_id_key \"afc0f263-7c4b-4610-9b8a-9a2d33a4e861\", has stix_id_key \"relationship--37d69053-f1a4-472e-bfa2-bba064dd6e87\", has entity_type \"relationship\", has created 2020-01-09T15:52:24, has revoked \"False\", has created_at 2020-01-09T15:52:24, has created_at_day \"2020-01-09\", has created_at_month \"2020-01\", has created_at_year \"2020\", has updated_at 2020-01-09T15:52:24; \n",
      "Cobalt Strike\n",
      "match $t isa Tool,has name \"Cobalt Strike\";$coa isa Course-Of-Action,has name \"User Account Management\";insert $uses (problem:$t ,mitigation:$coa) isa mitigates,has internal_id_key \"2e3869a5-c9a2-410f-948b-c61e2013302a\", has stix_id_key \"relationship--b33fd715-c1e6-4f69-bbd9-8763908380ba\", has entity_type \"relationship\", has created 2020-01-09T15:52:24, has revoked \"False\", has created_at 2020-01-09T15:52:24, has created_at_day \"2020-01-09\", has created_at_month \"2020-01\", has created_at_year \"2020\", has updated_at 2020-01-09T15:52:24; \n",
      "Cobalt Strike\n",
      "match $t isa Tool,has name \"Cobalt Strike\";$coa isa Course-Of-Action,has name \"Audit\";insert $uses (problem:$t ,mitigation:$coa) isa mitigates,has internal_id_key \"38bd317c-9249-4621-9ce7-1df2587e79ef\", has stix_id_key \"relationship--cc88e9d5-3184-4235-9536-992bf297b17f\", has entity_type \"relationship\", has created 2020-01-09T15:52:24, has revoked \"False\", has created_at 2020-01-09T15:52:24, has created_at_day \"2020-01-09\", has created_at_month \"2020-01\", has created_at_year \"2020\", has updated_at 2020-01-09T15:52:24; \n",
      "Cobalt Strike\n",
      "match $t isa Tool,has name \"Cobalt Strike\";$coa isa Course-Of-Action,has name \"Privileged Account Management\";insert $uses (problem:$t ,mitigation:$coa) isa mitigates,has internal_id_key \"8f9b68b9-bf49-4c6f-9a0f-0e6d3907d2c8\", has stix_id_key \"relationship--812b4cb9-1a16-4e1f-a641-4a0b6554fe98\", has entity_type \"relationship\", has created 2020-01-09T15:52:24, has revoked \"False\", has created_at 2020-01-09T15:52:24, has created_at_day \"2020-01-09\", has created_at_month \"2020-01\", has created_at_year \"2020\", has updated_at 2020-01-09T15:52:24; \n",
      "Cobalt Strike\n",
      "match $t isa Tool,has name \"Cobalt Strike\";$coa isa Course-Of-Action,has name \"User Account Control\";insert $uses (problem:$t ,mitigation:$coa) isa mitigates,has internal_id_key \"169095ea-b343-42a5-9339-a751f6a7e5a8\", has stix_id_key \"relationship--12e25eb0-4c73-42e0-b108-be826d47014e\", has entity_type \"relationship\", has created 2020-01-09T15:52:24, has revoked \"False\", has created_at 2020-01-09T15:52:24, has created_at_day \"2020-01-09\", has created_at_month \"2020-01\", has created_at_year \"2020\", has updated_at 2020-01-09T15:52:24; \n",
      "Cobalt Strike\n",
      "match $t isa Tool,has name \"Cobalt Strike\";$coa isa Course-Of-Action,has name \"Execution Prevention\";insert $uses (problem:$t ,mitigation:$coa) isa mitigates,has internal_id_key \"d859521d-0924-4c97-8198-54f30572bc30\", has stix_id_key \"relationship--ecb2162d-7385-4bac-91cf-43c137e52d15\", has entity_type \"relationship\", has created 2020-01-09T15:52:24, has revoked \"False\", has created_at 2020-01-09T15:52:24, has created_at_day \"2020-01-09\", has created_at_month \"2020-01\", has created_at_year \"2020\", has updated_at 2020-01-09T15:52:24; \n",
      "Cobalt Strike\n"
     ]
    },
    {
     "name": "stdout",
     "output_type": "stream",
     "text": [
      "match $t isa Tool,has name \"Cobalt Strike\";$coa isa Course-Of-Action,has name \"Network Intrusion Prevention\";insert $uses (problem:$t ,mitigation:$coa) isa mitigates,has internal_id_key \"d7795501-c811-468c-8536-a3e9dab6bfe6\", has stix_id_key \"relationship--b0e334e5-9a9b-4990-b3ed-58d5d301743e\", has entity_type \"relationship\", has created 2020-01-09T15:52:24, has revoked \"False\", has created_at 2020-01-09T15:52:24, has created_at_day \"2020-01-09\", has created_at_month \"2020-01\", has created_at_year \"2020\", has updated_at 2020-01-09T15:52:24; \n",
      "Cobalt Strike\n",
      "match $t isa Tool,has name \"Cobalt Strike\";$coa isa Course-Of-Action,has name \"Network Segmentation\";insert $uses (problem:$t ,mitigation:$coa) isa mitigates,has internal_id_key \"c47b8ae5-8dee-4790-a7fc-f24fd8d9c571\", has stix_id_key \"relationship--ac35f390-08b3-451c-8b6c-46b4b852e667\", has entity_type \"relationship\", has created 2020-01-09T15:52:24, has revoked \"False\", has created_at 2020-01-09T15:52:24, has created_at_day \"2020-01-09\", has created_at_month \"2020-01\", has created_at_year \"2020\", has updated_at 2020-01-09T15:52:24; \n",
      "Cobalt Strike\n",
      "match $t isa Tool,has name \"Cobalt Strike\";$coa isa Course-Of-Action,has name \"Component Object Model and Distributed COM\";insert $uses (problem:$t ,mitigation:$coa) isa mitigates,has internal_id_key \"e6c1b88e-85b2-4708-9960-f05bdbf14ec0\", has stix_id_key \"relationship--82da29f8-b895-4cb9-9447-d65826d903a4\", has entity_type \"relationship\", has created 2020-01-09T15:52:24, has revoked \"False\", has created_at 2020-01-09T15:52:24, has created_at_day \"2020-01-09\", has created_at_month \"2020-01\", has created_at_year \"2020\", has updated_at 2020-01-09T15:52:24; \n",
      "Cobalt Strike\n",
      "match $t isa Tool,has name \"Cobalt Strike\";$coa isa Course-Of-Action,has name \"Application Isolation and Sandboxing\";insert $uses (problem:$t ,mitigation:$coa) isa mitigates,has internal_id_key \"e7030cfa-4dab-4ff6-a08a-34a34fd70d20\", has stix_id_key \"relationship--e322b6a4-3a96-477a-8d3e-a9f49cd09760\", has entity_type \"relationship\", has created 2020-01-09T15:52:24, has revoked \"False\", has created_at 2020-01-09T15:52:24, has created_at_day \"2020-01-09\", has created_at_month \"2020-01\", has created_at_year \"2020\", has updated_at 2020-01-09T15:52:24; \n",
      "Cobalt Strike\n",
      "match $t isa Tool,has name \"Cobalt Strike\";$coa isa Course-Of-Action,has name \"Network Intrusion Prevention\";insert $uses (problem:$t ,mitigation:$coa) isa mitigates,has internal_id_key \"6f1d233f-f829-41c0-b4c2-9e0bf13afdac\", has stix_id_key \"relationship--4f393cc7-413d-4bf7-bc8b-2c23693933ba\", has entity_type \"relationship\", has created 2020-01-09T15:52:24, has revoked \"False\", has created_at 2020-01-09T15:52:24, has created_at_day \"2020-01-09\", has created_at_month \"2020-01\", has created_at_year \"2020\", has updated_at 2020-01-09T15:52:24; \n",
      "Cobalt Strike\n",
      "match $t isa Tool,has name \"Cobalt Strike\";$coa isa Course-Of-Action,has name \"Active Directory Configuration\";insert $uses (problem:$t ,mitigation:$coa) isa mitigates,has internal_id_key \"8e1771c8-5b40-48cf-957b-b002870e9672\", has stix_id_key \"relationship--ae7cb828-952c-469f-911a-e08217f6a24d\", has entity_type \"relationship\", has created 2020-01-09T15:52:24, has revoked \"False\", has created_at 2020-01-09T15:52:24, has created_at_day \"2020-01-09\", has created_at_month \"2020-01\", has created_at_year \"2020\", has updated_at 2020-01-09T15:52:24; \n",
      "Cobalt Strike\n",
      "match $t isa Tool,has name \"Cobalt Strike\";$coa isa Course-Of-Action,has name \"Credential Access Protection\";insert $uses (problem:$t ,mitigation:$coa) isa mitigates,has internal_id_key \"5aa80f16-1e33-4f70-a7ae-d429d02f315d\", has stix_id_key \"relationship--59f91098-47b4-4f41-8016-f65a07ee4347\", has entity_type \"relationship\", has created 2020-01-09T15:52:24, has revoked \"False\", has created_at 2020-01-09T15:52:24, has created_at_day \"2020-01-09\", has created_at_month \"2020-01\", has created_at_year \"2020\", has updated_at 2020-01-09T15:52:24; \n",
      "Cobalt Strike\n",
      "match $t isa Tool,has name \"Cobalt Strike\";$coa isa Course-Of-Action,has name \"Operating System Configuration\";insert $uses (problem:$t ,mitigation:$coa) isa mitigates,has internal_id_key \"1aa12682-f0f1-4261-aec6-bf8be9a9af24\", has stix_id_key \"relationship--75c2c2ac-cb97-455a-b451-830a084b4066\", has entity_type \"relationship\", has created 2020-01-09T15:52:24, has revoked \"False\", has created_at 2020-01-09T15:52:24, has created_at_day \"2020-01-09\", has created_at_month \"2020-01\", has created_at_year \"2020\", has updated_at 2020-01-09T15:52:24; \n",
      "Cobalt Strike\n",
      "match $t isa Tool,has name \"Cobalt Strike\";$coa isa Course-Of-Action,has name \"Password Policies\";insert $uses (problem:$t ,mitigation:$coa) isa mitigates,has internal_id_key \"1b833958-6722-4de3-a167-b097bbe9e8f7\", has stix_id_key \"relationship--d4ab674f-b84a-47e0-a27f-b5b90f6e76e6\", has entity_type \"relationship\", has created 2020-01-09T15:52:24, has revoked \"False\", has created_at 2020-01-09T15:52:24, has created_at_day \"2020-01-09\", has created_at_month \"2020-01\", has created_at_year \"2020\", has updated_at 2020-01-09T15:52:24; \n",
      "Cobalt Strike\n",
      "match $t isa Tool,has name \"Cobalt Strike\";$coa isa Course-Of-Action,has name \"User Training\";insert $uses (problem:$t ,mitigation:$coa) isa mitigates,has internal_id_key \"d20b1c9a-407e-401f-a863-bd9160b850dd\", has stix_id_key \"relationship--c0d48a3c-3c51-4271-9da4-44be2bc73a08\", has entity_type \"relationship\", has created 2020-01-09T15:52:24, has revoked \"False\", has created_at 2020-01-09T15:52:24, has created_at_day \"2020-01-09\", has created_at_month \"2020-01\", has created_at_year \"2020\", has updated_at 2020-01-09T15:52:24; \n",
      "Cobalt Strike\n",
      "match $t isa Tool,has name \"Cobalt Strike\";$coa isa Course-Of-Action,has name \"Filter Network Traffic\";insert $uses (problem:$t ,mitigation:$coa) isa mitigates,has internal_id_key \"f4586046-f327-4af9-bcfe-fca4264f0f7b\", has stix_id_key \"relationship--f511885e-970a-437a-9fa1-bba7ca7c1d37\", has entity_type \"relationship\", has created 2020-01-09T15:52:24, has revoked \"False\", has created_at 2020-01-09T15:52:24, has created_at_day \"2020-01-09\", has created_at_month \"2020-01\", has created_at_year \"2020\", has updated_at 2020-01-09T15:52:24; \n",
      "Cobalt Strike\n",
      "match $t isa Tool,has name \"Cobalt Strike\";$coa isa Course-Of-Action,has name \"Network Intrusion Prevention\";insert $uses (problem:$t ,mitigation:$coa) isa mitigates,has internal_id_key \"364c8a48-ea11-40d8-8739-e63a08283525\", has stix_id_key \"relationship--16e559bd-b2c8-4241-a81e-d9f5ce7eeb35\", has entity_type \"relationship\", has created 2020-01-09T15:52:24, has revoked \"False\", has created_at 2020-01-09T15:52:24, has created_at_day \"2020-01-09\", has created_at_month \"2020-01\", has created_at_year \"2020\", has updated_at 2020-01-09T15:52:24; \n",
      "Cobalt Strike\n",
      "match $t isa Tool,has name \"Cobalt Strike\";$coa isa Course-Of-Action,has name \"Execution Prevention\";insert $uses (problem:$t ,mitigation:$coa) isa mitigates,has internal_id_key \"80776967-d526-45eb-85e6-49bca5dddb58\", has stix_id_key \"relationship--3bd687c1-7d7e-4621-8222-2bf1dfeadb9a\", has entity_type \"relationship\", has created 2020-01-09T15:52:24, has revoked \"False\", has created_at 2020-01-09T15:52:24, has created_at_day \"2020-01-09\", has created_at_month \"2020-01\", has created_at_year \"2020\", has updated_at 2020-01-09T15:52:24; \n",
      "Cobalt Strike\n",
      "match $t isa Tool,has name \"Cobalt Strike\";$coa isa Course-Of-Action,has name \"Application Isolation and Sandboxing\";insert $uses (problem:$t ,mitigation:$coa) isa mitigates,has internal_id_key \"735c8728-3dda-471e-a2d0-99136ba93b7d\", has stix_id_key \"relationship--70488def-1336-46ac-875a-0f0385d02c2c\", has entity_type \"relationship\", has created 2020-01-09T15:52:24, has revoked \"False\", has created_at 2020-01-09T15:52:24, has created_at_day \"2020-01-09\", has created_at_month \"2020-01\", has created_at_year \"2020\", has updated_at 2020-01-09T15:52:24; \n",
      "Cobalt Strike\n"
     ]
    },
    {
     "name": "stdout",
     "output_type": "stream",
     "text": [
      "match $t isa Tool,has name \"Cobalt Strike\";$coa isa Course-Of-Action,has name \"Exploit Protection\";insert $uses (problem:$t ,mitigation:$coa) isa mitigates,has internal_id_key \"7d2c6a9b-82b4-4f18-b616-7de72c7b1065\", has stix_id_key \"relationship--6fdefbad-5a24-4a4b-8c97-1e5b80eb64fa\", has entity_type \"relationship\", has created 2020-01-09T15:52:24, has revoked \"False\", has created_at 2020-01-09T15:52:24, has created_at_day \"2020-01-09\", has created_at_month \"2020-01\", has created_at_year \"2020\", has updated_at 2020-01-09T15:52:24; \n",
      "Cobalt Strike\n",
      "match $t isa Tool,has name \"Cobalt Strike\";$coa isa Course-Of-Action,has name \"Threat Intelligence Program\";insert $uses (problem:$t ,mitigation:$coa) isa mitigates,has internal_id_key \"05164e66-7d4a-43c6-85d0-de450a93ba08\", has stix_id_key \"relationship--4795be14-5990-4f28-82ee-a93beac8c0a9\", has entity_type \"relationship\", has created 2020-01-09T15:52:24, has revoked \"False\", has created_at 2020-01-09T15:52:24, has created_at_day \"2020-01-09\", has created_at_month \"2020-01\", has created_at_year \"2020\", has updated_at 2020-01-09T15:52:24; \n",
      "Cobalt Strike\n",
      "match $t isa Tool,has name \"Cobalt Strike\";$coa isa Course-Of-Action,has name \"Update Software\";insert $uses (problem:$t ,mitigation:$coa) isa mitigates,has internal_id_key \"18990fb3-167f-4b38-bb4e-e26b9629f5e3\", has stix_id_key \"relationship--46099f94-86d1-49ed-81ac-882fc77ff2f4\", has entity_type \"relationship\", has created 2020-01-09T15:52:24, has revoked \"False\", has created_at 2020-01-09T15:52:24, has created_at_day \"2020-01-09\", has created_at_month \"2020-01\", has created_at_year \"2020\", has updated_at 2020-01-09T15:52:24; \n",
      "Cobalt Strike\n",
      "match $t isa Tool,has name \"Cobalt Strike\";$coa isa Course-Of-Action,has name \"User Account Management\";insert $uses (problem:$t ,mitigation:$coa) isa mitigates,has internal_id_key \"c5507525-2585-49b4-9037-7c74138c395d\", has stix_id_key \"relationship--400d25e3-08f0-4ec8-9c36-d45b67cf419c\", has entity_type \"relationship\", has created 2020-01-09T15:52:24, has revoked \"False\", has created_at 2020-01-09T15:52:24, has created_at_day \"2020-01-09\", has created_at_month \"2020-01\", has created_at_year \"2020\", has updated_at 2020-01-09T15:52:24; \n",
      "Cobalt Strike\n",
      "match $t isa Tool,has name \"Cobalt Strike\";$coa isa Course-Of-Action,has name \"User Training\";insert $uses (problem:$t ,mitigation:$coa) isa mitigates,has internal_id_key \"781ab92e-c8be-4d91-bda2-aac66f5944fc\", has stix_id_key \"relationship--43e78385-dab9-4728-b310-69cfa70da1d5\", has entity_type \"relationship\", has created 2020-01-09T15:52:24, has revoked \"False\", has created_at 2020-01-09T15:52:24, has created_at_day \"2020-01-09\", has created_at_month \"2020-01\", has created_at_year \"2020\", has updated_at 2020-01-09T15:52:24; \n",
      "Cobalt Strike\n",
      "match $t isa Tool,has name \"Cobalt Strike\";$coa isa Course-Of-Action,has name \"Password Policies\";insert $uses (problem:$t ,mitigation:$coa) isa mitigates,has internal_id_key \"7a81d072-87a8-4b4a-b114-d2d1ef7d3eb9\", has stix_id_key \"relationship--0686c735-27b3-4b6f-89ed-f53350b8785c\", has entity_type \"relationship\", has created 2020-01-09T15:52:24, has revoked \"False\", has created_at 2020-01-09T15:52:24, has created_at_day \"2020-01-09\", has created_at_month \"2020-01\", has created_at_year \"2020\", has updated_at 2020-01-09T15:52:24; \n",
      "Cobalt Strike\n",
      "match $t isa Tool,has name \"Cobalt Strike\";$coa isa Course-Of-Action,has name \"Privileged Account Management\";insert $uses (problem:$t ,mitigation:$coa) isa mitigates,has internal_id_key \"5e9e3f9c-fa9f-4916-9589-6ea0198e401d\", has stix_id_key \"relationship--98f2b965-c6b1-486e-b200-a09bf3bfa248\", has entity_type \"relationship\", has created 2020-01-09T15:52:24, has revoked \"False\", has created_at 2020-01-09T15:52:24, has created_at_day \"2020-01-09\", has created_at_month \"2020-01\", has created_at_year \"2020\", has updated_at 2020-01-09T15:52:24; \n",
      "Cobalt Strike\n",
      "match $t isa Tool,has name \"Cobalt Strike\";$coa isa Course-Of-Action,has name \"Privileged Account Management\";insert $uses (problem:$t ,mitigation:$coa) isa mitigates,has internal_id_key \"b1a800cc-bd33-4fb7-b431-6c170c01c18b\", has stix_id_key \"relationship--96c1539f-45d3-44dd-8407-a67c0e932878\", has entity_type \"relationship\", has created 2020-01-09T15:52:24, has revoked \"False\", has created_at 2020-01-09T15:52:24, has created_at_day \"2020-01-09\", has created_at_month \"2020-01\", has created_at_year \"2020\", has updated_at 2020-01-09T15:52:24; \n",
      "Cobalt Strike\n",
      "match $t isa Tool,has name \"Cobalt Strike\";$coa isa Course-Of-Action,has name \"User Account Management\";insert $uses (problem:$t ,mitigation:$coa) isa mitigates,has internal_id_key \"4f5c02a5-b803-48b2-815d-fa56d1fd27b2\", has stix_id_key \"relationship--2bed5309-1027-4262-a4fc-d3ddc1a811b0\", has entity_type \"relationship\", has created 2020-01-09T15:52:24, has revoked \"False\", has created_at 2020-01-09T15:52:24, has created_at_day \"2020-01-09\", has created_at_month \"2020-01\", has created_at_year \"2020\", has updated_at 2020-01-09T15:52:24; \n",
      "Cobalt Strike\n",
      "match $t isa Tool,has name \"Cobalt Strike\";$coa isa Course-Of-Action,has name \"Disable or Remove Feature or Program\";insert $uses (problem:$t ,mitigation:$coa) isa mitigates,has internal_id_key \"b2be04d8-f990-41a1-84db-e0ada00d1b66\", has stix_id_key \"relationship--0f8befbc-393e-4879-b18e-825095e1f85e\", has entity_type \"relationship\", has created 2020-01-09T15:52:24, has revoked \"False\", has created_at 2020-01-09T15:52:24, has created_at_day \"2020-01-09\", has created_at_month \"2020-01\", has created_at_year \"2020\", has updated_at 2020-01-09T15:52:24; \n",
      "Cobalt Strike\n",
      "match $t isa Tool,has name \"Cobalt Strike\";$coa isa Course-Of-Action,has name \"Network Segmentation\";insert $uses (problem:$t ,mitigation:$coa) isa mitigates,has internal_id_key \"c85b34f9-ad32-4532-bb2d-5e6ae4cc4ab8\", has stix_id_key \"relationship--b2f0d9f2-06f4-45b5-8288-31319274f2ca\", has entity_type \"relationship\", has created 2020-01-09T15:52:24, has revoked \"False\", has created_at 2020-01-09T15:52:24, has created_at_day \"2020-01-09\", has created_at_month \"2020-01\", has created_at_year \"2020\", has updated_at 2020-01-09T15:52:24; \n",
      "Cobalt Strike\n",
      "match $t isa Tool,has name \"Cobalt Strike\";$coa isa Course-Of-Action,has name \"Privileged Account Management\";insert $uses (problem:$t ,mitigation:$coa) isa mitigates,has internal_id_key \"a9e2b8da-cbf3-44ce-bd81-f2c482a679f9\", has stix_id_key \"relationship--baa17519-cb84-44bd-a68d-bd60acaa4d11\", has entity_type \"relationship\", has created 2020-01-09T15:52:24, has revoked \"False\", has created_at 2020-01-09T15:52:24, has created_at_day \"2020-01-09\", has created_at_month \"2020-01\", has created_at_year \"2020\", has updated_at 2020-01-09T15:52:24; \n",
      "Mimikatz\n",
      "match $t isa Tool,has name \"Mimikatz\";$coa isa Course-Of-Action,has name \"Multi-factor Authentication\";insert $uses (problem:$t ,mitigation:$coa) isa mitigates,has internal_id_key \"47be8b2f-71cb-4474-b99e-1769b75d1708\", has stix_id_key \"relationship--659c5d72-4a66-498c-92c7-70682ac07404\", has entity_type \"relationship\", has created 2020-01-09T15:52:24, has revoked \"False\", has created_at 2020-01-09T15:52:24, has created_at_day \"2020-01-09\", has created_at_month \"2020-01\", has created_at_year \"2020\", has updated_at 2020-01-09T15:52:24; \n",
      "Mimikatz\n",
      "match $t isa Tool,has name \"Mimikatz\";$coa isa Course-Of-Action,has name \"Network Segmentation\";insert $uses (problem:$t ,mitigation:$coa) isa mitigates,has internal_id_key \"fa3c1062-1094-4d38-845b-83a6a2f5cc72\", has stix_id_key \"relationship--8ef6a286-9d3a-42a6-9ad6-334f8b5b9a27\", has entity_type \"relationship\", has created 2020-01-09T15:52:24, has revoked \"False\", has created_at 2020-01-09T15:52:24, has created_at_day \"2020-01-09\", has created_at_month \"2020-01\", has created_at_year \"2020\", has updated_at 2020-01-09T15:52:24; \n",
      "Mimikatz\n"
     ]
    },
    {
     "name": "stdout",
     "output_type": "stream",
     "text": [
      "match $t isa Tool,has name \"Mimikatz\";$coa isa Course-Of-Action,has name \"Operating System Configuration\";insert $uses (problem:$t ,mitigation:$coa) isa mitigates,has internal_id_key \"9bc80162-1528-4a6b-ae46-95ece3a83767\", has stix_id_key \"relationship--f7a2ef8e-fdc6-40ef-b1ad-35b3018f7d8b\", has entity_type \"relationship\", has created 2020-01-09T15:52:24, has revoked \"False\", has created_at 2020-01-09T15:52:24, has created_at_day \"2020-01-09\", has created_at_month \"2020-01\", has created_at_year \"2020\", has updated_at 2020-01-09T15:52:24; \n",
      "Mimikatz\n",
      "match $t isa Tool,has name \"Mimikatz\";$coa isa Course-Of-Action,has name \"Active Directory Configuration\";insert $uses (problem:$t ,mitigation:$coa) isa mitigates,has internal_id_key \"74cd7747-380b-4d00-ad44-9019cc7c555f\", has stix_id_key \"relationship--bc8bd1be-d92f-4a18-8656-4e7a241b2b8a\", has entity_type \"relationship\", has created 2020-01-09T15:52:24, has revoked \"False\", has created_at 2020-01-09T15:52:24, has created_at_day \"2020-01-09\", has created_at_month \"2020-01\", has created_at_year \"2020\", has updated_at 2020-01-09T15:52:24; \n",
      "Mimikatz\n",
      "match $t isa Tool,has name \"Mimikatz\";$coa isa Course-Of-Action,has name \"Audit\";insert $uses (problem:$t ,mitigation:$coa) isa mitigates,has internal_id_key \"c178b759-eacf-4fa8-991f-3e99fbbd0e68\", has stix_id_key \"relationship--d2a7651d-5e9f-4bba-bc25-df0ed285e7f7\", has entity_type \"relationship\", has created 2020-01-09T15:52:24, has revoked \"False\", has created_at 2020-01-09T15:52:24, has created_at_day \"2020-01-09\", has created_at_month \"2020-01\", has created_at_year \"2020\", has updated_at 2020-01-09T15:52:24; \n",
      "Mimikatz\n",
      "match $t isa Tool,has name \"Mimikatz\";$coa isa Course-Of-Action,has name \"Password Policies\";insert $uses (problem:$t ,mitigation:$coa) isa mitigates,has internal_id_key \"fcf3da00-a1c0-41f8-b0cb-c5532746d983\", has stix_id_key \"relationship--66eb4ebf-814c-486a-9880-2545e2195d05\", has entity_type \"relationship\", has created 2020-01-09T15:52:24, has revoked \"False\", has created_at 2020-01-09T15:52:24, has created_at_day \"2020-01-09\", has created_at_month \"2020-01\", has created_at_year \"2020\", has updated_at 2020-01-09T15:52:24; \n",
      "Mimikatz\n",
      "match $t isa Tool,has name \"Mimikatz\";$coa isa Course-Of-Action,has name \"Password Policies\";insert $uses (problem:$t ,mitigation:$coa) isa mitigates,has internal_id_key \"0ad7533e-4067-483d-a796-2c1895c768c0\", has stix_id_key \"relationship--532c4cee-18e4-4d07-91c5-50c3f1a88652\", has entity_type \"relationship\", has created 2020-01-09T15:52:24, has revoked \"False\", has created_at 2020-01-09T15:52:24, has created_at_day \"2020-01-09\", has created_at_month \"2020-01\", has created_at_year \"2020\", has updated_at 2020-01-09T15:52:24; \n",
      "Mimikatz\n",
      "match $t isa Tool,has name \"Mimikatz\";$coa isa Course-Of-Action,has name \"Update Software\";insert $uses (problem:$t ,mitigation:$coa) isa mitigates,has internal_id_key \"f1e2776d-01ed-40a3-8680-a77b897b7499\", has stix_id_key \"relationship--45609975-4f8f-42ba-b8f5-3b32153145be\", has entity_type \"relationship\", has created 2020-01-09T15:52:24, has revoked \"False\", has created_at 2020-01-09T15:52:24, has created_at_day \"2020-01-09\", has created_at_month \"2020-01\", has created_at_year \"2020\", has updated_at 2020-01-09T15:52:24; \n",
      "PsExec\n",
      "match $t isa Tool,has name \"PsExec\";$coa isa Course-Of-Action,has name \"Privileged Account Management\";insert $uses (problem:$t ,mitigation:$coa) isa mitigates,has internal_id_key \"0f09e7a5-43e6-41ef-ace5-2a1876560426\", has stix_id_key \"relationship--0c75e2d0-9cdd-478f-b38b-6bbbb4815449\", has entity_type \"relationship\", has created 2020-01-09T15:52:24, has revoked \"False\", has created_at 2020-01-09T15:52:24, has created_at_day \"2020-01-09\", has created_at_month \"2020-01\", has created_at_year \"2020\", has updated_at 2020-01-09T15:52:24; \n",
      "PsExec\n",
      "match $t isa Tool,has name \"PsExec\";$coa isa Course-Of-Action,has name \"Restrict File and Directory Permissions\";insert $uses (problem:$t ,mitigation:$coa) isa mitigates,has internal_id_key \"6052a438-dd65-4f41-87d7-1baabbd0a562\", has stix_id_key \"relationship--6fc1d7e3-9e06-460a-89ab-cfc8c68990ad\", has entity_type \"relationship\", has created 2020-01-09T15:52:24, has revoked \"False\", has created_at 2020-01-09T15:52:24, has created_at_day \"2020-01-09\", has created_at_month \"2020-01\", has created_at_year \"2020\", has updated_at 2020-01-09T15:52:24; \n",
      "PsExec\n",
      "match $t isa Tool,has name \"PsExec\";$coa isa Course-Of-Action,has name \"Password Policies\";insert $uses (problem:$t ,mitigation:$coa) isa mitigates,has internal_id_key \"6cd991b8-b07f-4ca6-8b68-82b1f9cb36e5\", has stix_id_key \"relationship--a0deaf31-4b3c-484e-ac53-07b04fb273ef\", has entity_type \"relationship\", has created 2020-01-09T15:52:24, has revoked \"False\", has created_at 2020-01-09T15:52:24, has created_at_day \"2020-01-09\", has created_at_month \"2020-01\", has created_at_year \"2020\", has updated_at 2020-01-09T15:52:24; \n",
      "Sdelete\n",
      "match $t isa Tool,has name \"Sdelete\";$coa isa Course-Of-Action,has name \"Data Backup\";insert $uses (problem:$t ,mitigation:$coa) isa mitigates,has internal_id_key \"955ec1a4-a84d-449d-bde4-38f844f4007c\", has stix_id_key \"relationship--9a22d1e2-477b-427e-8abf-90610eb312a5\", has entity_type \"relationship\", has created 2020-01-09T15:52:24, has revoked \"False\", has created_at 2020-01-09T15:52:24, has created_at_day \"2020-01-09\", has created_at_month \"2020-01\", has created_at_year \"2020\", has updated_at 2020-01-09T15:52:24; \n"
     ]
    }
   ],
   "source": [
    "build_grakn_graph_relation(input_df=tool_mit,keyspace_name='grakn')"
   ]
  },
  {
   "cell_type": "code",
   "execution_count": 16,
   "metadata": {},
   "outputs": [
    {
     "name": "stdout",
     "output_type": "stream",
     "text": [
      "match $i isa Tool,has name \"HTRAN\";$m isa Course-Of-Action,has name \"Network Intrusion Prevention\";insert $uses (user:$i ,usage:$m) isa uses,has internal_id_key \"6153113c-a649-42de-960a-78e646700e0a\", has stix_id_key \"relationship--c62a918e-0709-417f-8c58-f96b8c4e12cc\", has entity_type \"relationship\", has created 2020-01-09T15:52:24, has revoked \"False\", has created_at 2020-01-09T15:52:24, has created_at_day \"2020-01-09\", has created_at_month \"2020-01\", has created_at_year \"2020\", has updated_at 2020-01-09T15:52:24; \n",
      "match $i isa Tool,has name \"HTRAN\";$m isa Course-Of-Action,has name \"Behavior Prevention on Endpoint\";insert $uses (user:$i ,usage:$m) isa uses,has internal_id_key \"d05a8008-e2aa-4ac5-bde4-a62b7d2f306e\", has stix_id_key \"relationship--a50535a3-d565-4ea4-b765-f25ea2b32aa0\", has entity_type \"relationship\", has created 2020-01-09T15:52:24, has revoked \"False\", has created_at 2020-01-09T15:52:24, has created_at_day \"2020-01-09\", has created_at_month \"2020-01\", has created_at_year \"2020\", has updated_at 2020-01-09T15:52:24; \n",
      "match $i isa Tool,has name \"HTRAN\";$m isa Course-Of-Action,has name \"Privileged Account Management\";insert $uses (user:$i ,usage:$m) isa uses,has internal_id_key \"05d813c5-39eb-4cc2-95be-526b487a77bb\", has stix_id_key \"relationship--c45a9505-3276-4478-a952-45576b299e1e\", has entity_type \"relationship\", has created 2020-01-09T15:52:24, has revoked \"False\", has created_at 2020-01-09T15:52:24, has created_at_day \"2020-01-09\", has created_at_month \"2020-01\", has created_at_year \"2020\", has updated_at 2020-01-09T15:52:24; \n",
      "match $i isa Tool,has name \"certutil\";$m isa Course-Of-Action,has name \"Operating System Configuration\";insert $uses (user:$i ,usage:$m) isa uses,has internal_id_key \"ea20ed6c-3e36-411b-987c-290f511ee074\", has stix_id_key \"relationship--c1a8f29f-4a39-4c5f-b666-50678c2db449\", has entity_type \"relationship\", has created 2020-01-09T15:52:24, has revoked \"False\", has created_at 2020-01-09T15:52:24, has created_at_day \"2020-01-09\", has created_at_month \"2020-01\", has created_at_year \"2020\", has updated_at 2020-01-09T15:52:24; \n",
      "match $i isa Tool,has name \"certutil\";$m isa Course-Of-Action,has name \"Software Configuration\";insert $uses (user:$i ,usage:$m) isa uses,has internal_id_key \"a7613551-1cb2-477a-9191-b7b68cc24057\", has stix_id_key \"relationship--26a32a56-2aa8-408e-9fb1-3ae286eb7861\", has entity_type \"relationship\", has created 2020-01-09T15:52:24, has revoked \"False\", has created_at 2020-01-09T15:52:24, has created_at_day \"2020-01-09\", has created_at_month \"2020-01\", has created_at_year \"2020\", has updated_at 2020-01-09T15:52:24; \n",
      "match $i isa Tool,has name \"certutil\";$m isa Course-Of-Action,has name \"Network Intrusion Prevention\";insert $uses (user:$i ,usage:$m) isa uses,has internal_id_key \"26a9c5c7-a164-4919-88c8-bc252aad4221\", has stix_id_key \"relationship--9d62c80f-2413-4934-b3e9-6899d366952b\", has entity_type \"relationship\", has created 2020-01-09T15:52:24, has revoked \"False\", has created_at 2020-01-09T15:52:24, has created_at_day \"2020-01-09\", has created_at_month \"2020-01\", has created_at_year \"2020\", has updated_at 2020-01-09T15:52:24; \n",
      "match $i isa Tool,has name \"Koadic\";$m isa Course-Of-Action,has name \"Audit\";insert $uses (user:$i ,usage:$m) isa uses,has internal_id_key \"9185bf3f-254f-4526-97b4-fcfa2f14e6bd\", has stix_id_key \"relationship--154e4ce4-7560-4616-aea0-9806cee72285\", has entity_type \"relationship\", has created 2020-01-09T15:52:24, has revoked \"False\", has created_at 2020-01-09T15:52:24, has created_at_day \"2020-01-09\", has created_at_month \"2020-01\", has created_at_year \"2020\", has updated_at 2020-01-09T15:52:24; \n",
      "match $i isa Tool,has name \"Koadic\";$m isa Course-Of-Action,has name \"Privileged Account Management\";insert $uses (user:$i ,usage:$m) isa uses,has internal_id_key \"e4e343ea-bf41-44d1-bbba-0f43ec581941\", has stix_id_key \"relationship--f8f263e3-7d49-4849-9a89-106ce47d3ff5\", has entity_type \"relationship\", has created 2020-01-09T15:52:24, has revoked \"False\", has created_at 2020-01-09T15:52:24, has created_at_day \"2020-01-09\", has created_at_month \"2020-01\", has created_at_year \"2020\", has updated_at 2020-01-09T15:52:24; \n",
      "match $i isa Tool,has name \"Koadic\";$m isa Course-Of-Action,has name \"User Account Control\";insert $uses (user:$i ,usage:$m) isa uses,has internal_id_key \"20264593-68a3-459c-91be-015487afe17c\", has stix_id_key \"relationship--57c52320-b107-4e7e-9098-85cf586ed167\", has entity_type \"relationship\", has created 2020-01-09T15:52:24, has revoked \"False\", has created_at 2020-01-09T15:52:24, has created_at_day \"2020-01-09\", has created_at_month \"2020-01\", has created_at_year \"2020\", has updated_at 2020-01-09T15:52:24; \n",
      "match $i isa Tool,has name \"Koadic\";$m isa Course-Of-Action,has name \"Execution Prevention\";insert $uses (user:$i ,usage:$m) isa uses,has internal_id_key \"8a199f47-fe5e-4f00-bfd8-201dd1275154\", has stix_id_key \"relationship--7661a8c9-efc6-44d9-adc8-3a55ae63cc37\", has entity_type \"relationship\", has created 2020-01-09T15:52:24, has revoked \"False\", has created_at 2020-01-09T15:52:24, has created_at_day \"2020-01-09\", has created_at_month \"2020-01\", has created_at_year \"2020\", has updated_at 2020-01-09T15:52:24; \n",
      "match $i isa Tool,has name \"Koadic\";$m isa Course-Of-Action,has name \"Active Directory Configuration\";insert $uses (user:$i ,usage:$m) isa uses,has internal_id_key \"e82f473e-2d66-46c6-b2fe-5338fb9350b7\", has stix_id_key \"relationship--6a3ef8cd-1d2e-42db-b54a-67e80197940b\", has entity_type \"relationship\", has created 2020-01-09T15:52:24, has revoked \"False\", has created_at 2020-01-09T15:52:24, has created_at_day \"2020-01-09\", has created_at_month \"2020-01\", has created_at_year \"2020\", has updated_at 2020-01-09T15:52:24; \n",
      "match $i isa Tool,has name \"Koadic\";$m isa Course-Of-Action,has name \"Credential Access Protection\";insert $uses (user:$i ,usage:$m) isa uses,has internal_id_key \"7b6799fb-801b-4d99-96a6-f4ff918141ab\", has stix_id_key \"relationship--31ccc3dd-a918-4a40-a2df-567b4edc26af\", has entity_type \"relationship\", has created 2020-01-09T15:52:24, has revoked \"False\", has created_at 2020-01-09T15:52:24, has created_at_day \"2020-01-09\", has created_at_month \"2020-01\", has created_at_year \"2020\", has updated_at 2020-01-09T15:52:24; \n",
      "match $i isa Tool,has name \"Koadic\";$m isa Course-Of-Action,has name \"Operating System Configuration\";insert $uses (user:$i ,usage:$m) isa uses,has internal_id_key \"314dad36-5221-478c-8615-6b46e9e6824f\", has stix_id_key \"relationship--896b6d0a-d999-4c04-8616-68c365fab147\", has entity_type \"relationship\", has created 2020-01-09T15:52:24, has revoked \"False\", has created_at 2020-01-09T15:52:24, has created_at_day \"2020-01-09\", has created_at_month \"2020-01\", has created_at_year \"2020\", has updated_at 2020-01-09T15:52:24; \n",
      "match $i isa Tool,has name \"Koadic\";$m isa Course-Of-Action,has name \"Password Policies\";insert $uses (user:$i ,usage:$m) isa uses,has internal_id_key \"76440af7-91b3-4337-968b-4654a60ade81\", has stix_id_key \"relationship--beab5bbe-4942-426c-80fd-1661925b1eb3\", has entity_type \"relationship\", has created 2020-01-09T15:52:24, has revoked \"False\", has created_at 2020-01-09T15:52:24, has created_at_day \"2020-01-09\", has created_at_month \"2020-01\", has created_at_year \"2020\", has updated_at 2020-01-09T15:52:24; \n",
      "match $i isa Tool,has name \"Koadic\";$m isa Course-Of-Action,has name \"Privileged Process Integrity\";insert $uses (user:$i ,usage:$m) isa uses,has internal_id_key \"df4d78f8-e552-48e9-901d-fd5ba2b2d0fb\", has stix_id_key \"relationship--3550f3d1-4f26-4207-8c41-11d19aa4fa6f\", has entity_type \"relationship\", has created 2020-01-09T15:52:24, has revoked \"False\", has created_at 2020-01-09T15:52:24, has created_at_day \"2020-01-09\", has created_at_month \"2020-01\", has created_at_year \"2020\", has updated_at 2020-01-09T15:52:24; \n"
     ]
    },
    {
     "name": "stdout",
     "output_type": "stream",
     "text": [
      "match $i isa Tool,has name \"Koadic\";$m isa Course-Of-Action,has name \"User Training\";insert $uses (user:$i ,usage:$m) isa uses,has internal_id_key \"7fa8c0a1-1da4-49c1-9af6-ca4561bb2148\", has stix_id_key \"relationship--e3163e5c-e6be-4928-9856-f01437396334\", has entity_type \"relationship\", has created 2020-01-09T15:52:24, has revoked \"False\", has created_at 2020-01-09T15:52:24, has created_at_day \"2020-01-09\", has created_at_month \"2020-01\", has created_at_year \"2020\", has updated_at 2020-01-09T15:52:24; \n",
      "match $i isa Tool,has name \"Koadic\";$m isa Course-Of-Action,has name \"Disable or Remove Feature or Program\";insert $uses (user:$i ,usage:$m) isa uses,has internal_id_key \"3f560529-d23d-4ec6-a398-d9c63b33e892\", has stix_id_key \"relationship--61034bbb-dd94-45a3-b878-a6abc29b10ce\", has entity_type \"relationship\", has created 2020-01-09T15:52:24, has revoked \"False\", has created_at 2020-01-09T15:52:24, has created_at_day \"2020-01-09\", has created_at_month \"2020-01\", has created_at_year \"2020\", has updated_at 2020-01-09T15:52:24; \n",
      "match $i isa Tool,has name \"Koadic\";$m isa Course-Of-Action,has name \"Network Intrusion Prevention\";insert $uses (user:$i ,usage:$m) isa uses,has internal_id_key \"73154d3e-bbac-4635-99fd-8ce32a438854\", has stix_id_key \"relationship--daa238a0-bfaf-4f9b-8d77-3b4dfcff4985\", has entity_type \"relationship\", has created 2020-01-09T15:52:24, has revoked \"False\", has created_at 2020-01-09T15:52:24, has created_at_day \"2020-01-09\", has created_at_month \"2020-01\", has created_at_year \"2020\", has updated_at 2020-01-09T15:52:24; \n",
      "match $i isa Tool,has name \"Koadic\";$m isa Course-Of-Action,has name \"Network Segmentation\";insert $uses (user:$i ,usage:$m) isa uses,has internal_id_key \"f8c43dba-079d-4106-ab29-46bfee454ddc\", has stix_id_key \"relationship--170f8d67-af72-473b-83d3-8c01669bdbda\", has entity_type \"relationship\", has created 2020-01-09T15:52:24, has revoked \"False\", has created_at 2020-01-09T15:52:24, has created_at_day \"2020-01-09\", has created_at_month \"2020-01\", has created_at_year \"2020\", has updated_at 2020-01-09T15:52:24; \n",
      "match $i isa Tool,has name \"Koadic\";$m isa Course-Of-Action,has name \"Behavior Prevention on Endpoint\";insert $uses (user:$i ,usage:$m) isa uses,has internal_id_key \"94d584ad-43ae-4b00-9cb1-3f0954c9ca68\", has stix_id_key \"relationship--7bc1fa8f-9f5c-4c51-9fc2-c952b40b0967\", has entity_type \"relationship\", has created 2020-01-09T15:52:24, has revoked \"False\", has created_at 2020-01-09T15:52:24, has created_at_day \"2020-01-09\", has created_at_month \"2020-01\", has created_at_year \"2020\", has updated_at 2020-01-09T15:52:24; \n",
      "match $i isa Tool,has name \"Koadic\";$m isa Course-Of-Action,has name \"Exploit Protection\";insert $uses (user:$i ,usage:$m) isa uses,has internal_id_key \"fe7dcff4-b1f7-4866-ae8b-e75dd4b64a8a\", has stix_id_key \"relationship--d4b5d803-754c-48b5-9f14-3696af6488cf\", has entity_type \"relationship\", has created 2020-01-09T15:52:24, has revoked \"False\", has created_at 2020-01-09T15:52:24, has created_at_day \"2020-01-09\", has created_at_month \"2020-01\", has created_at_year \"2020\", has updated_at 2020-01-09T15:52:24; \n",
      "match $i isa Tool,has name \"Koadic\";$m isa Course-Of-Action,has name \"Limit Access to Resource Over Network\";insert $uses (user:$i ,usage:$m) isa uses,has internal_id_key \"1a28ab27-b85c-42ea-a00d-8d79d2df552d\", has stix_id_key \"relationship--bc3cb143-4357-492e-8da7-966365f3d537\", has entity_type \"relationship\", has created 2020-01-09T15:52:24, has revoked \"False\", has created_at 2020-01-09T15:52:24, has created_at_day \"2020-01-09\", has created_at_month \"2020-01\", has created_at_year \"2020\", has updated_at 2020-01-09T15:52:24; \n",
      "match $i isa Tool,has name \"Koadic\";$m isa Course-Of-Action,has name \"Multi-factor Authentication\";insert $uses (user:$i ,usage:$m) isa uses,has internal_id_key \"846d54df-f13c-4060-86c9-700dd913f0bd\", has stix_id_key \"relationship--8faedbaf-58a1-49b5-be9a-b062d004fde3\", has entity_type \"relationship\", has created 2020-01-09T15:52:24, has revoked \"False\", has created_at 2020-01-09T15:52:24, has created_at_day \"2020-01-09\", has created_at_month \"2020-01\", has created_at_year \"2020\", has updated_at 2020-01-09T15:52:24; \n",
      "match $i isa Tool,has name \"Koadic\";$m isa Course-Of-Action,has name \"Network Segmentation\";insert $uses (user:$i ,usage:$m) isa uses,has internal_id_key \"930e1557-8e58-4a25-8557-836ebc3f0429\", has stix_id_key \"relationship--5fc8bc10-d421-474c-8d75-b07e5eba24d2\", has entity_type \"relationship\", has created 2020-01-09T15:52:24, has revoked \"False\", has created_at 2020-01-09T15:52:24, has created_at_day \"2020-01-09\", has created_at_month \"2020-01\", has created_at_year \"2020\", has updated_at 2020-01-09T15:52:24; \n",
      "match $i isa Tool,has name \"Koadic\";$m isa Course-Of-Action,has name \"User Account Management\";insert $uses (user:$i ,usage:$m) isa uses,has internal_id_key \"ec29d8c2-f9bb-4d89-9151-795e8cc70ee5\", has stix_id_key \"relationship--65aa77b3-0d38-4c91-aaae-c582a4dd93f4\", has entity_type \"relationship\", has created 2020-01-09T15:52:24, has revoked \"False\", has created_at 2020-01-09T15:52:24, has created_at_day \"2020-01-09\", has created_at_month \"2020-01\", has created_at_year \"2020\", has updated_at 2020-01-09T15:52:24; \n",
      "match $i isa Tool,has name \"Koadic\";$m isa Course-Of-Action,has name \"Application Isolation and Sandboxing\";insert $uses (user:$i ,usage:$m) isa uses,has internal_id_key \"a392a128-9c55-4318-9f29-58e98304fabd\", has stix_id_key \"relationship--2d66ac3c-2587-4902-a72f-820a5b6adde4\", has entity_type \"relationship\", has created 2020-01-09T15:52:24, has revoked \"False\", has created_at 2020-01-09T15:52:24, has created_at_day \"2020-01-09\", has created_at_month \"2020-01\", has created_at_year \"2020\", has updated_at 2020-01-09T15:52:24; \n",
      "match $i isa Tool,has name \"Koadic\";$m isa Course-Of-Action,has name \"Restrict File and Directory Permissions\";insert $uses (user:$i ,usage:$m) isa uses,has internal_id_key \"033c0442-26b9-4205-9809-61acb7cd8b49\", has stix_id_key \"relationship--92274a40-45e6-49b6-800e-c03ebc764721\", has entity_type \"relationship\", has created 2020-01-09T15:52:24, has revoked \"False\", has created_at 2020-01-09T15:52:24, has created_at_day \"2020-01-09\", has created_at_month \"2020-01\", has created_at_year \"2020\", has updated_at 2020-01-09T15:52:24; \n",
      "match $i isa Tool,has name \"Koadic\";$m isa Course-Of-Action,has name \"SSL/TLS Inspection\";insert $uses (user:$i ,usage:$m) isa uses,has internal_id_key \"5709df8d-772d-4e0f-b30d-ee5885f875e2\", has stix_id_key \"relationship--54667a88-16ee-4d00-a402-f4bdbca31092\", has entity_type \"relationship\", has created 2020-01-09T15:52:24, has revoked \"False\", has created_at 2020-01-09T15:52:24, has created_at_day \"2020-01-09\", has created_at_month \"2020-01\", has created_at_year \"2020\", has updated_at 2020-01-09T15:52:24; \n",
      "match $i isa Tool,has name \"Mimikatz\";$m isa Course-Of-Action,has name \"Multi-factor Authentication\";insert $uses (user:$i ,usage:$m) isa uses,has internal_id_key \"dc1a5b2e-6744-4c35-bfd0-e8164cd06046\", has stix_id_key \"relationship--b124dedb-df92-4a3f-b430-2fab522ad471\", has entity_type \"relationship\", has created 2020-01-09T15:52:24, has revoked \"False\", has created_at 2020-01-09T15:52:24, has created_at_day \"2020-01-09\", has created_at_month \"2020-01\", has created_at_year \"2020\", has updated_at 2020-01-09T15:52:24; \n",
      "match $i isa Tool,has name \"Mimikatz\";$m isa Course-Of-Action,has name \"Network Segmentation\";insert $uses (user:$i ,usage:$m) isa uses,has internal_id_key \"f54e3d98-d0ee-4c2f-bd8c-f9e1055b761a\", has stix_id_key \"relationship--2e4dd120-4f98-4b7e-a0fe-bff59bab381a\", has entity_type \"relationship\", has created 2020-01-09T15:52:24, has revoked \"False\", has created_at 2020-01-09T15:52:24, has created_at_day \"2020-01-09\", has created_at_month \"2020-01\", has created_at_year \"2020\", has updated_at 2020-01-09T15:52:24; \n"
     ]
    },
    {
     "name": "stdout",
     "output_type": "stream",
     "text": [
      "match $i isa Tool,has name \"Mimikatz\";$m isa Course-Of-Action,has name \"Operating System Configuration\";insert $uses (user:$i ,usage:$m) isa uses,has internal_id_key \"3567c80e-0276-413c-9416-ddb2bbe1d80c\", has stix_id_key \"relationship--2bdbf96d-407d-4296-ac05-770bcbb60feb\", has entity_type \"relationship\", has created 2020-01-09T15:52:24, has revoked \"False\", has created_at 2020-01-09T15:52:24, has created_at_day \"2020-01-09\", has created_at_month \"2020-01\", has created_at_year \"2020\", has updated_at 2020-01-09T15:52:24; \n",
      "match $i isa Tool,has name \"Mimikatz\";$m isa Course-Of-Action,has name \"Privileged Account Management\";insert $uses (user:$i ,usage:$m) isa uses,has internal_id_key \"06088380-c71f-467a-a342-320483c19fc6\", has stix_id_key \"relationship--1cd967bc-6ab1-4896-8c92-a17ce8c120c7\", has entity_type \"relationship\", has created 2020-01-09T15:52:24, has revoked \"False\", has created_at 2020-01-09T15:52:24, has created_at_day \"2020-01-09\", has created_at_month \"2020-01\", has created_at_year \"2020\", has updated_at 2020-01-09T15:52:24; \n",
      "match $i isa Tool,has name \"Mimikatz\";$m isa Course-Of-Action,has name \"Active Directory Configuration\";insert $uses (user:$i ,usage:$m) isa uses,has internal_id_key \"c0e9dddf-18bf-45b6-9419-4e9bae866025\", has stix_id_key \"relationship--2a1b0b09-fc4e-4b02-bc10-0c064dd55f8b\", has entity_type \"relationship\", has created 2020-01-09T15:52:24, has revoked \"False\", has created_at 2020-01-09T15:52:24, has created_at_day \"2020-01-09\", has created_at_month \"2020-01\", has created_at_year \"2020\", has updated_at 2020-01-09T15:52:24; \n",
      "match $i isa Tool,has name \"Mimikatz\";$m isa Course-Of-Action,has name \"Credential Access Protection\";insert $uses (user:$i ,usage:$m) isa uses,has internal_id_key \"cc8faa74-1498-454f-92f2-b4476fb85c7c\", has stix_id_key \"relationship--560dbe34-fd1d-41e0-b9a8-11ea0582100e\", has entity_type \"relationship\", has created 2020-01-09T15:52:24, has revoked \"False\", has created_at 2020-01-09T15:52:24, has created_at_day \"2020-01-09\", has created_at_month \"2020-01\", has created_at_year \"2020\", has updated_at 2020-01-09T15:52:24; \n",
      "match $i isa Tool,has name \"Mimikatz\";$m isa Course-Of-Action,has name \"Password Policies\";insert $uses (user:$i ,usage:$m) isa uses,has internal_id_key \"c4792218-eb3d-4dd9-9514-0eea06c6b0f0\", has stix_id_key \"relationship--494eee4e-c001-4a82-b33f-e27378d0c7ba\", has entity_type \"relationship\", has created 2020-01-09T15:52:24, has revoked \"False\", has created_at 2020-01-09T15:52:24, has created_at_day \"2020-01-09\", has created_at_month \"2020-01\", has created_at_year \"2020\", has updated_at 2020-01-09T15:52:24; \n",
      "match $i isa Tool,has name \"Mimikatz\";$m isa Course-Of-Action,has name \"Privileged Process Integrity\";insert $uses (user:$i ,usage:$m) isa uses,has internal_id_key \"0669e079-7f22-450a-b51a-94dfc21bd0de\", has stix_id_key \"relationship--2b505680-fb49-42da-83ae-621dfad5aed9\", has entity_type \"relationship\", has created 2020-01-09T15:52:24, has revoked \"False\", has created_at 2020-01-09T15:52:24, has created_at_day \"2020-01-09\", has created_at_month \"2020-01\", has created_at_year \"2020\", has updated_at 2020-01-09T15:52:24; \n",
      "match $i isa Tool,has name \"Mimikatz\";$m isa Course-Of-Action,has name \"User Training\";insert $uses (user:$i ,usage:$m) isa uses,has internal_id_key \"685c08ad-0177-407f-b9f6-a39d848fb616\", has stix_id_key \"relationship--27c5f9b6-073e-459a-8052-2e107406ab82\", has entity_type \"relationship\", has created 2020-01-09T15:52:24, has revoked \"False\", has created_at 2020-01-09T15:52:24, has created_at_day \"2020-01-09\", has created_at_month \"2020-01\", has created_at_year \"2020\", has updated_at 2020-01-09T15:52:24; \n",
      "match $i isa Tool,has name \"Mimikatz\";$m isa Course-Of-Action,has name \"Audit\";insert $uses (user:$i ,usage:$m) isa uses,has internal_id_key \"3315fb86-4584-4acd-9f66-aeb553238d43\", has stix_id_key \"relationship--9040d4a9-2657-406d-8443-75ec7985d015\", has entity_type \"relationship\", has created 2020-01-09T15:52:24, has revoked \"False\", has created_at 2020-01-09T15:52:24, has created_at_day \"2020-01-09\", has created_at_month \"2020-01\", has created_at_year \"2020\", has updated_at 2020-01-09T15:52:24; \n",
      "match $i isa Tool,has name \"Mimikatz\";$m isa Course-Of-Action,has name \"Restrict File and Directory Permissions\";insert $uses (user:$i ,usage:$m) isa uses,has internal_id_key \"3557423e-e8df-4b10-bfe2-947658312276\", has stix_id_key \"relationship--286f866e-c5f0-413b-a2f5-f06f8b2d4a4c\", has entity_type \"relationship\", has created 2020-01-09T15:52:24, has revoked \"False\", has created_at 2020-01-09T15:52:24, has created_at_day \"2020-01-09\", has created_at_month \"2020-01\", has created_at_year \"2020\", has updated_at 2020-01-09T15:52:24; \n",
      "match $i isa Tool,has name \"Mimikatz\";$m isa Course-Of-Action,has name \"Update Software\";insert $uses (user:$i ,usage:$m) isa uses,has internal_id_key \"31a3084e-0179-435d-9bbe-c23ab2bbf206\", has stix_id_key \"relationship--2c8aa518-8739-467e-a7ec-4ebf9c4641fd\", has entity_type \"relationship\", has created 2020-01-09T15:52:24, has revoked \"False\", has created_at 2020-01-09T15:52:24, has created_at_day \"2020-01-09\", has created_at_month \"2020-01\", has created_at_year \"2020\", has updated_at 2020-01-09T15:52:24; \n",
      "match $i isa Tool,has name \"Mimikatz\";$m isa Course-Of-Action,has name \"User Account Control\";insert $uses (user:$i ,usage:$m) isa uses,has internal_id_key \"7b33564a-6317-4354-9106-a6784e3fbbdf\", has stix_id_key \"relationship--49d0b45a-6588-4cff-8bda-26c52ccdec92\", has entity_type \"relationship\", has created 2020-01-09T15:52:24, has revoked \"False\", has created_at 2020-01-09T15:52:24, has created_at_day \"2020-01-09\", has created_at_month \"2020-01\", has created_at_year \"2020\", has updated_at 2020-01-09T15:52:24; \n",
      "match $i isa Tool,has name \"Mimikatz\";$m isa Course-Of-Action,has name \"User Account Management\";insert $uses (user:$i ,usage:$m) isa uses,has internal_id_key \"6eeed25a-699a-405e-a06a-96ff1e5cf9fb\", has stix_id_key \"relationship--a7a69fde-c490-4e03-82e7-416ec2262eed\", has entity_type \"relationship\", has created 2020-01-09T15:52:24, has revoked \"False\", has created_at 2020-01-09T15:52:24, has created_at_day \"2020-01-09\", has created_at_month \"2020-01\", has created_at_year \"2020\", has updated_at 2020-01-09T15:52:24; \n",
      "match $i isa Tool,has name \"Mimikatz\";$m isa Course-Of-Action,has name \"Active Directory Configuration\";insert $uses (user:$i ,usage:$m) isa uses,has internal_id_key \"82276769-c420-4c2b-95a6-6b8c7b720762\", has stix_id_key \"relationship--8751f510-7e9c-4571-93f7-30d2bc7bd8e2\", has entity_type \"relationship\", has created 2020-01-09T15:52:24, has revoked \"False\", has created_at 2020-01-09T15:52:24, has created_at_day \"2020-01-09\", has created_at_month \"2020-01\", has created_at_year \"2020\", has updated_at 2020-01-09T15:52:24; \n",
      "match $i isa Tool,has name \"Mimikatz\";$m isa Course-Of-Action,has name \"User Account Management\";insert $uses (user:$i ,usage:$m) isa uses,has internal_id_key \"86773304-3411-40ff-a788-20e444433454\", has stix_id_key \"relationship--f08114d4-21a0-4d30-bf0f-1c18329af127\", has entity_type \"relationship\", has created 2020-01-09T15:52:24, has revoked \"False\", has created_at 2020-01-09T15:52:24, has created_at_day \"2020-01-09\", has created_at_month \"2020-01\", has created_at_year \"2020\", has updated_at 2020-01-09T15:52:24; \n",
      "match $i isa Tool,has name \"Mimikatz\";$m isa Course-Of-Action,has name \"Encrypt Sensitive Information\";insert $uses (user:$i ,usage:$m) isa uses,has internal_id_key \"54e24062-b030-4552-a98a-a3605f6a994f\", has stix_id_key \"relationship--0ec9257f-3e5b-4c22-9d3d-66f24da27a2d\", has entity_type \"relationship\", has created 2020-01-09T15:52:24, has revoked \"False\", has created_at 2020-01-09T15:52:24, has created_at_day \"2020-01-09\", has created_at_month \"2020-01\", has created_at_year \"2020\", has updated_at 2020-01-09T15:52:24; \n"
     ]
    },
    {
     "name": "stdout",
     "output_type": "stream",
     "text": [
      "match $i isa Tool,has name \"Winexe\";$m isa Course-Of-Action,has name \"Privileged Account Management\";insert $uses (user:$i ,usage:$m) isa uses,has internal_id_key \"d929906d-7ba5-494c-820f-0bb8f97b754c\", has stix_id_key \"relationship--9310b595-93e3-400f-978f-8383e8d9a4cf\", has entity_type \"relationship\", has created 2020-01-09T15:52:24, has revoked \"False\", has created_at 2020-01-09T15:52:24, has created_at_day \"2020-01-09\", has created_at_month \"2020-01\", has created_at_year \"2020\", has updated_at 2020-01-09T15:52:24; \n",
      "match $i isa Tool,has name \"Winexe\";$m isa Course-Of-Action,has name \"Restrict File and Directory Permissions\";insert $uses (user:$i ,usage:$m) isa uses,has internal_id_key \"8c3b94d3-73ac-4a6a-9462-748b7d36a891\", has stix_id_key \"relationship--bd0d78f4-742f-4031-b1c1-ce0ccf0b28d7\", has entity_type \"relationship\", has created 2020-01-09T15:52:24, has revoked \"False\", has created_at 2020-01-09T15:52:24, has created_at_day \"2020-01-09\", has created_at_month \"2020-01\", has created_at_year \"2020\", has updated_at 2020-01-09T15:52:24; \n",
      "match $i isa Tool,has name \"Cobalt Strike\";$m isa Course-Of-Action,has name \"Privileged Account Management\";insert $uses (user:$i ,usage:$m) isa uses,has internal_id_key \"aa37f69d-92d4-4987-9647-de110d3c6fa8\", has stix_id_key \"relationship--d740d1e5-1dd9-4e71-9188-279509e0d40e\", has entity_type \"relationship\", has created 2020-01-09T15:52:24, has revoked \"False\", has created_at 2020-01-09T15:52:24, has created_at_day \"2020-01-09\", has created_at_month \"2020-01\", has created_at_year \"2020\", has updated_at 2020-01-09T15:52:24; \n",
      "match $i isa Tool,has name \"Cobalt Strike\";$m isa Course-Of-Action,has name \"User Account Management\";insert $uses (user:$i ,usage:$m) isa uses,has internal_id_key \"e3fc757a-c9bc-408c-9426-716b2a0ec9a4\", has stix_id_key \"relationship--fbccc2d7-02d2-4c57-9daf-1d917b6ab2ad\", has entity_type \"relationship\", has created 2020-01-09T15:52:24, has revoked \"False\", has created_at 2020-01-09T15:52:24, has created_at_day \"2020-01-09\", has created_at_month \"2020-01\", has created_at_year \"2020\", has updated_at 2020-01-09T15:52:24; \n",
      "match $i isa Tool,has name \"Cobalt Strike\";$m isa Course-Of-Action,has name \"Filter Network Traffic\";insert $uses (user:$i ,usage:$m) isa uses,has internal_id_key \"5e3276db-5529-4932-9a33-eedeaefc0c81\", has stix_id_key \"relationship--0f696275-29c7-434f-bb79-a585a22b68da\", has entity_type \"relationship\", has created 2020-01-09T15:52:24, has revoked \"False\", has created_at 2020-01-09T15:52:24, has created_at_day \"2020-01-09\", has created_at_month \"2020-01\", has created_at_year \"2020\", has updated_at 2020-01-09T15:52:24; \n",
      "match $i isa Tool,has name \"Cobalt Strike\";$m isa Course-Of-Action,has name \"Operating System Configuration\";insert $uses (user:$i ,usage:$m) isa uses,has internal_id_key \"afc0f263-7c4b-4610-9b8a-9a2d33a4e861\", has stix_id_key \"relationship--37d69053-f1a4-472e-bfa2-bba064dd6e87\", has entity_type \"relationship\", has created 2020-01-09T15:52:24, has revoked \"False\", has created_at 2020-01-09T15:52:24, has created_at_day \"2020-01-09\", has created_at_month \"2020-01\", has created_at_year \"2020\", has updated_at 2020-01-09T15:52:24; \n",
      "match $i isa Tool,has name \"Cobalt Strike\";$m isa Course-Of-Action,has name \"User Account Management\";insert $uses (user:$i ,usage:$m) isa uses,has internal_id_key \"2e3869a5-c9a2-410f-948b-c61e2013302a\", has stix_id_key \"relationship--b33fd715-c1e6-4f69-bbd9-8763908380ba\", has entity_type \"relationship\", has created 2020-01-09T15:52:24, has revoked \"False\", has created_at 2020-01-09T15:52:24, has created_at_day \"2020-01-09\", has created_at_month \"2020-01\", has created_at_year \"2020\", has updated_at 2020-01-09T15:52:24; \n",
      "match $i isa Tool,has name \"Cobalt Strike\";$m isa Course-Of-Action,has name \"Audit\";insert $uses (user:$i ,usage:$m) isa uses,has internal_id_key \"38bd317c-9249-4621-9ce7-1df2587e79ef\", has stix_id_key \"relationship--cc88e9d5-3184-4235-9536-992bf297b17f\", has entity_type \"relationship\", has created 2020-01-09T15:52:24, has revoked \"False\", has created_at 2020-01-09T15:52:24, has created_at_day \"2020-01-09\", has created_at_month \"2020-01\", has created_at_year \"2020\", has updated_at 2020-01-09T15:52:24; \n",
      "match $i isa Tool,has name \"Cobalt Strike\";$m isa Course-Of-Action,has name \"Privileged Account Management\";insert $uses (user:$i ,usage:$m) isa uses,has internal_id_key \"8f9b68b9-bf49-4c6f-9a0f-0e6d3907d2c8\", has stix_id_key \"relationship--812b4cb9-1a16-4e1f-a641-4a0b6554fe98\", has entity_type \"relationship\", has created 2020-01-09T15:52:24, has revoked \"False\", has created_at 2020-01-09T15:52:24, has created_at_day \"2020-01-09\", has created_at_month \"2020-01\", has created_at_year \"2020\", has updated_at 2020-01-09T15:52:24; \n",
      "match $i isa Tool,has name \"Cobalt Strike\";$m isa Course-Of-Action,has name \"User Account Control\";insert $uses (user:$i ,usage:$m) isa uses,has internal_id_key \"169095ea-b343-42a5-9339-a751f6a7e5a8\", has stix_id_key \"relationship--12e25eb0-4c73-42e0-b108-be826d47014e\", has entity_type \"relationship\", has created 2020-01-09T15:52:24, has revoked \"False\", has created_at 2020-01-09T15:52:24, has created_at_day \"2020-01-09\", has created_at_month \"2020-01\", has created_at_year \"2020\", has updated_at 2020-01-09T15:52:24; \n",
      "match $i isa Tool,has name \"Cobalt Strike\";$m isa Course-Of-Action,has name \"Execution Prevention\";insert $uses (user:$i ,usage:$m) isa uses,has internal_id_key \"d859521d-0924-4c97-8198-54f30572bc30\", has stix_id_key \"relationship--ecb2162d-7385-4bac-91cf-43c137e52d15\", has entity_type \"relationship\", has created 2020-01-09T15:52:24, has revoked \"False\", has created_at 2020-01-09T15:52:24, has created_at_day \"2020-01-09\", has created_at_month \"2020-01\", has created_at_year \"2020\", has updated_at 2020-01-09T15:52:24; \n",
      "match $i isa Tool,has name \"Cobalt Strike\";$m isa Course-Of-Action,has name \"Network Intrusion Prevention\";insert $uses (user:$i ,usage:$m) isa uses,has internal_id_key \"d7795501-c811-468c-8536-a3e9dab6bfe6\", has stix_id_key \"relationship--b0e334e5-9a9b-4990-b3ed-58d5d301743e\", has entity_type \"relationship\", has created 2020-01-09T15:52:24, has revoked \"False\", has created_at 2020-01-09T15:52:24, has created_at_day \"2020-01-09\", has created_at_month \"2020-01\", has created_at_year \"2020\", has updated_at 2020-01-09T15:52:24; \n",
      "match $i isa Tool,has name \"Cobalt Strike\";$m isa Course-Of-Action,has name \"Network Segmentation\";insert $uses (user:$i ,usage:$m) isa uses,has internal_id_key \"c47b8ae5-8dee-4790-a7fc-f24fd8d9c571\", has stix_id_key \"relationship--ac35f390-08b3-451c-8b6c-46b4b852e667\", has entity_type \"relationship\", has created 2020-01-09T15:52:24, has revoked \"False\", has created_at 2020-01-09T15:52:24, has created_at_day \"2020-01-09\", has created_at_month \"2020-01\", has created_at_year \"2020\", has updated_at 2020-01-09T15:52:24; \n",
      "match $i isa Tool,has name \"Cobalt Strike\";$m isa Course-Of-Action,has name \"Component Object Model and Distributed COM\";insert $uses (user:$i ,usage:$m) isa uses,has internal_id_key \"e6c1b88e-85b2-4708-9960-f05bdbf14ec0\", has stix_id_key \"relationship--82da29f8-b895-4cb9-9447-d65826d903a4\", has entity_type \"relationship\", has created 2020-01-09T15:52:24, has revoked \"False\", has created_at 2020-01-09T15:52:24, has created_at_day \"2020-01-09\", has created_at_month \"2020-01\", has created_at_year \"2020\", has updated_at 2020-01-09T15:52:24; \n",
      "match $i isa Tool,has name \"Cobalt Strike\";$m isa Course-Of-Action,has name \"Application Isolation and Sandboxing\";insert $uses (user:$i ,usage:$m) isa uses,has internal_id_key \"e7030cfa-4dab-4ff6-a08a-34a34fd70d20\", has stix_id_key \"relationship--e322b6a4-3a96-477a-8d3e-a9f49cd09760\", has entity_type \"relationship\", has created 2020-01-09T15:52:24, has revoked \"False\", has created_at 2020-01-09T15:52:24, has created_at_day \"2020-01-09\", has created_at_month \"2020-01\", has created_at_year \"2020\", has updated_at 2020-01-09T15:52:24; \n"
     ]
    },
    {
     "name": "stdout",
     "output_type": "stream",
     "text": [
      "match $i isa Tool,has name \"Cobalt Strike\";$m isa Course-Of-Action,has name \"Network Intrusion Prevention\";insert $uses (user:$i ,usage:$m) isa uses,has internal_id_key \"6f1d233f-f829-41c0-b4c2-9e0bf13afdac\", has stix_id_key \"relationship--4f393cc7-413d-4bf7-bc8b-2c23693933ba\", has entity_type \"relationship\", has created 2020-01-09T15:52:24, has revoked \"False\", has created_at 2020-01-09T15:52:24, has created_at_day \"2020-01-09\", has created_at_month \"2020-01\", has created_at_year \"2020\", has updated_at 2020-01-09T15:52:24; \n",
      "match $i isa Tool,has name \"Cobalt Strike\";$m isa Course-Of-Action,has name \"Active Directory Configuration\";insert $uses (user:$i ,usage:$m) isa uses,has internal_id_key \"8e1771c8-5b40-48cf-957b-b002870e9672\", has stix_id_key \"relationship--ae7cb828-952c-469f-911a-e08217f6a24d\", has entity_type \"relationship\", has created 2020-01-09T15:52:24, has revoked \"False\", has created_at 2020-01-09T15:52:24, has created_at_day \"2020-01-09\", has created_at_month \"2020-01\", has created_at_year \"2020\", has updated_at 2020-01-09T15:52:24; \n",
      "match $i isa Tool,has name \"Cobalt Strike\";$m isa Course-Of-Action,has name \"Credential Access Protection\";insert $uses (user:$i ,usage:$m) isa uses,has internal_id_key \"5aa80f16-1e33-4f70-a7ae-d429d02f315d\", has stix_id_key \"relationship--59f91098-47b4-4f41-8016-f65a07ee4347\", has entity_type \"relationship\", has created 2020-01-09T15:52:24, has revoked \"False\", has created_at 2020-01-09T15:52:24, has created_at_day \"2020-01-09\", has created_at_month \"2020-01\", has created_at_year \"2020\", has updated_at 2020-01-09T15:52:24; \n",
      "match $i isa Tool,has name \"Cobalt Strike\";$m isa Course-Of-Action,has name \"Operating System Configuration\";insert $uses (user:$i ,usage:$m) isa uses,has internal_id_key \"1aa12682-f0f1-4261-aec6-bf8be9a9af24\", has stix_id_key \"relationship--75c2c2ac-cb97-455a-b451-830a084b4066\", has entity_type \"relationship\", has created 2020-01-09T15:52:24, has revoked \"False\", has created_at 2020-01-09T15:52:24, has created_at_day \"2020-01-09\", has created_at_month \"2020-01\", has created_at_year \"2020\", has updated_at 2020-01-09T15:52:24; \n",
      "match $i isa Tool,has name \"Cobalt Strike\";$m isa Course-Of-Action,has name \"Password Policies\";insert $uses (user:$i ,usage:$m) isa uses,has internal_id_key \"1b833958-6722-4de3-a167-b097bbe9e8f7\", has stix_id_key \"relationship--d4ab674f-b84a-47e0-a27f-b5b90f6e76e6\", has entity_type \"relationship\", has created 2020-01-09T15:52:24, has revoked \"False\", has created_at 2020-01-09T15:52:24, has created_at_day \"2020-01-09\", has created_at_month \"2020-01\", has created_at_year \"2020\", has updated_at 2020-01-09T15:52:24; \n",
      "match $i isa Tool,has name \"Cobalt Strike\";$m isa Course-Of-Action,has name \"User Training\";insert $uses (user:$i ,usage:$m) isa uses,has internal_id_key \"d20b1c9a-407e-401f-a863-bd9160b850dd\", has stix_id_key \"relationship--c0d48a3c-3c51-4271-9da4-44be2bc73a08\", has entity_type \"relationship\", has created 2020-01-09T15:52:24, has revoked \"False\", has created_at 2020-01-09T15:52:24, has created_at_day \"2020-01-09\", has created_at_month \"2020-01\", has created_at_year \"2020\", has updated_at 2020-01-09T15:52:24; \n",
      "match $i isa Tool,has name \"Cobalt Strike\";$m isa Course-Of-Action,has name \"Filter Network Traffic\";insert $uses (user:$i ,usage:$m) isa uses,has internal_id_key \"f4586046-f327-4af9-bcfe-fca4264f0f7b\", has stix_id_key \"relationship--f511885e-970a-437a-9fa1-bba7ca7c1d37\", has entity_type \"relationship\", has created 2020-01-09T15:52:24, has revoked \"False\", has created_at 2020-01-09T15:52:24, has created_at_day \"2020-01-09\", has created_at_month \"2020-01\", has created_at_year \"2020\", has updated_at 2020-01-09T15:52:24; \n",
      "match $i isa Tool,has name \"Cobalt Strike\";$m isa Course-Of-Action,has name \"Network Intrusion Prevention\";insert $uses (user:$i ,usage:$m) isa uses,has internal_id_key \"364c8a48-ea11-40d8-8739-e63a08283525\", has stix_id_key \"relationship--16e559bd-b2c8-4241-a81e-d9f5ce7eeb35\", has entity_type \"relationship\", has created 2020-01-09T15:52:24, has revoked \"False\", has created_at 2020-01-09T15:52:24, has created_at_day \"2020-01-09\", has created_at_month \"2020-01\", has created_at_year \"2020\", has updated_at 2020-01-09T15:52:24; \n",
      "match $i isa Tool,has name \"Cobalt Strike\";$m isa Course-Of-Action,has name \"Execution Prevention\";insert $uses (user:$i ,usage:$m) isa uses,has internal_id_key \"80776967-d526-45eb-85e6-49bca5dddb58\", has stix_id_key \"relationship--3bd687c1-7d7e-4621-8222-2bf1dfeadb9a\", has entity_type \"relationship\", has created 2020-01-09T15:52:24, has revoked \"False\", has created_at 2020-01-09T15:52:24, has created_at_day \"2020-01-09\", has created_at_month \"2020-01\", has created_at_year \"2020\", has updated_at 2020-01-09T15:52:24; \n",
      "match $i isa Tool,has name \"Cobalt Strike\";$m isa Course-Of-Action,has name \"Application Isolation and Sandboxing\";insert $uses (user:$i ,usage:$m) isa uses,has internal_id_key \"735c8728-3dda-471e-a2d0-99136ba93b7d\", has stix_id_key \"relationship--70488def-1336-46ac-875a-0f0385d02c2c\", has entity_type \"relationship\", has created 2020-01-09T15:52:24, has revoked \"False\", has created_at 2020-01-09T15:52:24, has created_at_day \"2020-01-09\", has created_at_month \"2020-01\", has created_at_year \"2020\", has updated_at 2020-01-09T15:52:24; \n",
      "match $i isa Tool,has name \"Cobalt Strike\";$m isa Course-Of-Action,has name \"Exploit Protection\";insert $uses (user:$i ,usage:$m) isa uses,has internal_id_key \"7d2c6a9b-82b4-4f18-b616-7de72c7b1065\", has stix_id_key \"relationship--6fdefbad-5a24-4a4b-8c97-1e5b80eb64fa\", has entity_type \"relationship\", has created 2020-01-09T15:52:24, has revoked \"False\", has created_at 2020-01-09T15:52:24, has created_at_day \"2020-01-09\", has created_at_month \"2020-01\", has created_at_year \"2020\", has updated_at 2020-01-09T15:52:24; \n",
      "match $i isa Tool,has name \"Cobalt Strike\";$m isa Course-Of-Action,has name \"Threat Intelligence Program\";insert $uses (user:$i ,usage:$m) isa uses,has internal_id_key \"05164e66-7d4a-43c6-85d0-de450a93ba08\", has stix_id_key \"relationship--4795be14-5990-4f28-82ee-a93beac8c0a9\", has entity_type \"relationship\", has created 2020-01-09T15:52:24, has revoked \"False\", has created_at 2020-01-09T15:52:24, has created_at_day \"2020-01-09\", has created_at_month \"2020-01\", has created_at_year \"2020\", has updated_at 2020-01-09T15:52:24; \n",
      "match $i isa Tool,has name \"Cobalt Strike\";$m isa Course-Of-Action,has name \"Update Software\";insert $uses (user:$i ,usage:$m) isa uses,has internal_id_key \"18990fb3-167f-4b38-bb4e-e26b9629f5e3\", has stix_id_key \"relationship--46099f94-86d1-49ed-81ac-882fc77ff2f4\", has entity_type \"relationship\", has created 2020-01-09T15:52:24, has revoked \"False\", has created_at 2020-01-09T15:52:24, has created_at_day \"2020-01-09\", has created_at_month \"2020-01\", has created_at_year \"2020\", has updated_at 2020-01-09T15:52:24; \n",
      "match $i isa Tool,has name \"Cobalt Strike\";$m isa Course-Of-Action,has name \"User Account Management\";insert $uses (user:$i ,usage:$m) isa uses,has internal_id_key \"c5507525-2585-49b4-9037-7c74138c395d\", has stix_id_key \"relationship--400d25e3-08f0-4ec8-9c36-d45b67cf419c\", has entity_type \"relationship\", has created 2020-01-09T15:52:24, has revoked \"False\", has created_at 2020-01-09T15:52:24, has created_at_day \"2020-01-09\", has created_at_month \"2020-01\", has created_at_year \"2020\", has updated_at 2020-01-09T15:52:24; \n",
      "match $i isa Tool,has name \"Cobalt Strike\";$m isa Course-Of-Action,has name \"User Training\";insert $uses (user:$i ,usage:$m) isa uses,has internal_id_key \"781ab92e-c8be-4d91-bda2-aac66f5944fc\", has stix_id_key \"relationship--43e78385-dab9-4728-b310-69cfa70da1d5\", has entity_type \"relationship\", has created 2020-01-09T15:52:24, has revoked \"False\", has created_at 2020-01-09T15:52:24, has created_at_day \"2020-01-09\", has created_at_month \"2020-01\", has created_at_year \"2020\", has updated_at 2020-01-09T15:52:24; \n"
     ]
    },
    {
     "name": "stdout",
     "output_type": "stream",
     "text": [
      "match $i isa Tool,has name \"Cobalt Strike\";$m isa Course-Of-Action,has name \"Password Policies\";insert $uses (user:$i ,usage:$m) isa uses,has internal_id_key \"7a81d072-87a8-4b4a-b114-d2d1ef7d3eb9\", has stix_id_key \"relationship--0686c735-27b3-4b6f-89ed-f53350b8785c\", has entity_type \"relationship\", has created 2020-01-09T15:52:24, has revoked \"False\", has created_at 2020-01-09T15:52:24, has created_at_day \"2020-01-09\", has created_at_month \"2020-01\", has created_at_year \"2020\", has updated_at 2020-01-09T15:52:24; \n",
      "match $i isa Tool,has name \"Cobalt Strike\";$m isa Course-Of-Action,has name \"Privileged Account Management\";insert $uses (user:$i ,usage:$m) isa uses,has internal_id_key \"5e9e3f9c-fa9f-4916-9589-6ea0198e401d\", has stix_id_key \"relationship--98f2b965-c6b1-486e-b200-a09bf3bfa248\", has entity_type \"relationship\", has created 2020-01-09T15:52:24, has revoked \"False\", has created_at 2020-01-09T15:52:24, has created_at_day \"2020-01-09\", has created_at_month \"2020-01\", has created_at_year \"2020\", has updated_at 2020-01-09T15:52:24; \n",
      "match $i isa Tool,has name \"Cobalt Strike\";$m isa Course-Of-Action,has name \"Privileged Account Management\";insert $uses (user:$i ,usage:$m) isa uses,has internal_id_key \"b1a800cc-bd33-4fb7-b431-6c170c01c18b\", has stix_id_key \"relationship--96c1539f-45d3-44dd-8407-a67c0e932878\", has entity_type \"relationship\", has created 2020-01-09T15:52:24, has revoked \"False\", has created_at 2020-01-09T15:52:24, has created_at_day \"2020-01-09\", has created_at_month \"2020-01\", has created_at_year \"2020\", has updated_at 2020-01-09T15:52:24; \n",
      "match $i isa Tool,has name \"Cobalt Strike\";$m isa Course-Of-Action,has name \"User Account Management\";insert $uses (user:$i ,usage:$m) isa uses,has internal_id_key \"4f5c02a5-b803-48b2-815d-fa56d1fd27b2\", has stix_id_key \"relationship--2bed5309-1027-4262-a4fc-d3ddc1a811b0\", has entity_type \"relationship\", has created 2020-01-09T15:52:24, has revoked \"False\", has created_at 2020-01-09T15:52:24, has created_at_day \"2020-01-09\", has created_at_month \"2020-01\", has created_at_year \"2020\", has updated_at 2020-01-09T15:52:24; \n",
      "match $i isa Tool,has name \"Cobalt Strike\";$m isa Course-Of-Action,has name \"Disable or Remove Feature or Program\";insert $uses (user:$i ,usage:$m) isa uses,has internal_id_key \"b2be04d8-f990-41a1-84db-e0ada00d1b66\", has stix_id_key \"relationship--0f8befbc-393e-4879-b18e-825095e1f85e\", has entity_type \"relationship\", has created 2020-01-09T15:52:24, has revoked \"False\", has created_at 2020-01-09T15:52:24, has created_at_day \"2020-01-09\", has created_at_month \"2020-01\", has created_at_year \"2020\", has updated_at 2020-01-09T15:52:24; \n",
      "match $i isa Tool,has name \"Cobalt Strike\";$m isa Course-Of-Action,has name \"Network Segmentation\";insert $uses (user:$i ,usage:$m) isa uses,has internal_id_key \"c85b34f9-ad32-4532-bb2d-5e6ae4cc4ab8\", has stix_id_key \"relationship--b2f0d9f2-06f4-45b5-8288-31319274f2ca\", has entity_type \"relationship\", has created 2020-01-09T15:52:24, has revoked \"False\", has created_at 2020-01-09T15:52:24, has created_at_day \"2020-01-09\", has created_at_month \"2020-01\", has created_at_year \"2020\", has updated_at 2020-01-09T15:52:24; \n",
      "match $i isa Tool,has name \"Cobalt Strike\";$m isa Course-Of-Action,has name \"Privileged Account Management\";insert $uses (user:$i ,usage:$m) isa uses,has internal_id_key \"a9e2b8da-cbf3-44ce-bd81-f2c482a679f9\", has stix_id_key \"relationship--baa17519-cb84-44bd-a68d-bd60acaa4d11\", has entity_type \"relationship\", has created 2020-01-09T15:52:24, has revoked \"False\", has created_at 2020-01-09T15:52:24, has created_at_day \"2020-01-09\", has created_at_month \"2020-01\", has created_at_year \"2020\", has updated_at 2020-01-09T15:52:24; \n",
      "match $i isa Tool,has name \"Mimikatz\";$m isa Course-Of-Action,has name \"Multi-factor Authentication\";insert $uses (user:$i ,usage:$m) isa uses,has internal_id_key \"47be8b2f-71cb-4474-b99e-1769b75d1708\", has stix_id_key \"relationship--659c5d72-4a66-498c-92c7-70682ac07404\", has entity_type \"relationship\", has created 2020-01-09T15:52:24, has revoked \"False\", has created_at 2020-01-09T15:52:24, has created_at_day \"2020-01-09\", has created_at_month \"2020-01\", has created_at_year \"2020\", has updated_at 2020-01-09T15:52:24; \n",
      "match $i isa Tool,has name \"Mimikatz\";$m isa Course-Of-Action,has name \"Network Segmentation\";insert $uses (user:$i ,usage:$m) isa uses,has internal_id_key \"fa3c1062-1094-4d38-845b-83a6a2f5cc72\", has stix_id_key \"relationship--8ef6a286-9d3a-42a6-9ad6-334f8b5b9a27\", has entity_type \"relationship\", has created 2020-01-09T15:52:24, has revoked \"False\", has created_at 2020-01-09T15:52:24, has created_at_day \"2020-01-09\", has created_at_month \"2020-01\", has created_at_year \"2020\", has updated_at 2020-01-09T15:52:24; \n",
      "match $i isa Tool,has name \"Mimikatz\";$m isa Course-Of-Action,has name \"Operating System Configuration\";insert $uses (user:$i ,usage:$m) isa uses,has internal_id_key \"9bc80162-1528-4a6b-ae46-95ece3a83767\", has stix_id_key \"relationship--f7a2ef8e-fdc6-40ef-b1ad-35b3018f7d8b\", has entity_type \"relationship\", has created 2020-01-09T15:52:24, has revoked \"False\", has created_at 2020-01-09T15:52:24, has created_at_day \"2020-01-09\", has created_at_month \"2020-01\", has created_at_year \"2020\", has updated_at 2020-01-09T15:52:24; \n",
      "match $i isa Tool,has name \"Mimikatz\";$m isa Course-Of-Action,has name \"Active Directory Configuration\";insert $uses (user:$i ,usage:$m) isa uses,has internal_id_key \"74cd7747-380b-4d00-ad44-9019cc7c555f\", has stix_id_key \"relationship--bc8bd1be-d92f-4a18-8656-4e7a241b2b8a\", has entity_type \"relationship\", has created 2020-01-09T15:52:24, has revoked \"False\", has created_at 2020-01-09T15:52:24, has created_at_day \"2020-01-09\", has created_at_month \"2020-01\", has created_at_year \"2020\", has updated_at 2020-01-09T15:52:24; \n",
      "match $i isa Tool,has name \"Mimikatz\";$m isa Course-Of-Action,has name \"Audit\";insert $uses (user:$i ,usage:$m) isa uses,has internal_id_key \"c178b759-eacf-4fa8-991f-3e99fbbd0e68\", has stix_id_key \"relationship--d2a7651d-5e9f-4bba-bc25-df0ed285e7f7\", has entity_type \"relationship\", has created 2020-01-09T15:52:24, has revoked \"False\", has created_at 2020-01-09T15:52:24, has created_at_day \"2020-01-09\", has created_at_month \"2020-01\", has created_at_year \"2020\", has updated_at 2020-01-09T15:52:24; \n",
      "match $i isa Tool,has name \"Mimikatz\";$m isa Course-Of-Action,has name \"Password Policies\";insert $uses (user:$i ,usage:$m) isa uses,has internal_id_key \"fcf3da00-a1c0-41f8-b0cb-c5532746d983\", has stix_id_key \"relationship--66eb4ebf-814c-486a-9880-2545e2195d05\", has entity_type \"relationship\", has created 2020-01-09T15:52:24, has revoked \"False\", has created_at 2020-01-09T15:52:24, has created_at_day \"2020-01-09\", has created_at_month \"2020-01\", has created_at_year \"2020\", has updated_at 2020-01-09T15:52:24; \n",
      "match $i isa Tool,has name \"Mimikatz\";$m isa Course-Of-Action,has name \"Password Policies\";insert $uses (user:$i ,usage:$m) isa uses,has internal_id_key \"0ad7533e-4067-483d-a796-2c1895c768c0\", has stix_id_key \"relationship--532c4cee-18e4-4d07-91c5-50c3f1a88652\", has entity_type \"relationship\", has created 2020-01-09T15:52:24, has revoked \"False\", has created_at 2020-01-09T15:52:24, has created_at_day \"2020-01-09\", has created_at_month \"2020-01\", has created_at_year \"2020\", has updated_at 2020-01-09T15:52:24; \n",
      "match $i isa Tool,has name \"Mimikatz\";$m isa Course-Of-Action,has name \"Update Software\";insert $uses (user:$i ,usage:$m) isa uses,has internal_id_key \"f1e2776d-01ed-40a3-8680-a77b897b7499\", has stix_id_key \"relationship--45609975-4f8f-42ba-b8f5-3b32153145be\", has entity_type \"relationship\", has created 2020-01-09T15:52:24, has revoked \"False\", has created_at 2020-01-09T15:52:24, has created_at_day \"2020-01-09\", has created_at_month \"2020-01\", has created_at_year \"2020\", has updated_at 2020-01-09T15:52:24; \n"
     ]
    },
    {
     "name": "stdout",
     "output_type": "stream",
     "text": [
      "match $i isa Tool,has name \"PsExec\";$m isa Course-Of-Action,has name \"Privileged Account Management\";insert $uses (user:$i ,usage:$m) isa uses,has internal_id_key \"0f09e7a5-43e6-41ef-ace5-2a1876560426\", has stix_id_key \"relationship--0c75e2d0-9cdd-478f-b38b-6bbbb4815449\", has entity_type \"relationship\", has created 2020-01-09T15:52:24, has revoked \"False\", has created_at 2020-01-09T15:52:24, has created_at_day \"2020-01-09\", has created_at_month \"2020-01\", has created_at_year \"2020\", has updated_at 2020-01-09T15:52:24; \n",
      "match $i isa Tool,has name \"PsExec\";$m isa Course-Of-Action,has name \"Restrict File and Directory Permissions\";insert $uses (user:$i ,usage:$m) isa uses,has internal_id_key \"6052a438-dd65-4f41-87d7-1baabbd0a562\", has stix_id_key \"relationship--6fc1d7e3-9e06-460a-89ab-cfc8c68990ad\", has entity_type \"relationship\", has created 2020-01-09T15:52:24, has revoked \"False\", has created_at 2020-01-09T15:52:24, has created_at_day \"2020-01-09\", has created_at_month \"2020-01\", has created_at_year \"2020\", has updated_at 2020-01-09T15:52:24; \n",
      "match $i isa Tool,has name \"PsExec\";$m isa Course-Of-Action,has name \"Password Policies\";insert $uses (user:$i ,usage:$m) isa uses,has internal_id_key \"6cd991b8-b07f-4ca6-8b68-82b1f9cb36e5\", has stix_id_key \"relationship--a0deaf31-4b3c-484e-ac53-07b04fb273ef\", has entity_type \"relationship\", has created 2020-01-09T15:52:24, has revoked \"False\", has created_at 2020-01-09T15:52:24, has created_at_day \"2020-01-09\", has created_at_month \"2020-01\", has created_at_year \"2020\", has updated_at 2020-01-09T15:52:24; \n",
      "match $i isa Tool,has name \"Sdelete\";$m isa Course-Of-Action,has name \"Data Backup\";insert $uses (user:$i ,usage:$m) isa uses,has internal_id_key \"955ec1a4-a84d-449d-bde4-38f844f4007c\", has stix_id_key \"relationship--9a22d1e2-477b-427e-8abf-90610eb312a5\", has entity_type \"relationship\", has created 2020-01-09T15:52:24, has revoked \"False\", has created_at 2020-01-09T15:52:24, has created_at_day \"2020-01-09\", has created_at_month \"2020-01\", has created_at_year \"2020\", has updated_at 2020-01-09T15:52:24; \n"
     ]
    }
   ],
   "source": [
    "for index,df in tool_mit.iterrows():\n",
    "    graql_insert_query= f'match $i isa Tool,'\\\n",
    "                        f'has name \\\"'+df['tool']+'\\\";'\\\n",
    "                        f'$m isa Course-Of-Action,'\\\n",
    "                        f'has name \\\"'+df['mitigation'].strip()+'\\\";'\\\n",
    "                        f'insert $uses (user:$i ,usage:$m) isa uses,'\\\n",
    "                        f\"has internal_id_key \\\"{df['internal_id_key']}\\\", \" \\\n",
    "                        f\"has stix_id_key \\\"{df['stix_id_key']}\\\", \" \\\n",
    "                        f\"has entity_type \\\"{df['entity_type']}\\\", \" \\\n",
    "                        f\"has created {df['created']}, \" \\\n",
    "                        f\"has revoked \\\"{df['revoked']}\\\", \"\\\n",
    "                        f\"has created_at {df['created_at']}, \" \\\n",
    "                        f\"has created_at_day \\\"{df['created_at_day']}\\\", \" \\\n",
    "                        f\"has created_at_month \\\"{df['created_at_month']}\\\", \" \\\n",
    "                        f\"has created_at_year \\\"{df['created_at_year']}\\\", \"\\\n",
    "                        f\"has updated_at {df['updated_at']}; \"\n",
    "    print(graql_insert_query)"
   ]
  },
  {
   "cell_type": "code",
   "execution_count": null,
   "metadata": {},
   "outputs": [],
   "source": []
  }
 ],
 "metadata": {
  "kernelspec": {
   "display_name": "Python 3",
   "language": "python",
   "name": "python3"
  },
  "language_info": {
   "codemirror_mode": {
    "name": "ipython",
    "version": 3
   },
   "file_extension": ".py",
   "mimetype": "text/x-python",
   "name": "python",
   "nbconvert_exporter": "python",
   "pygments_lexer": "ipython3",
   "version": "3.7.4"
  }
 },
 "nbformat": 4,
 "nbformat_minor": 2
}
