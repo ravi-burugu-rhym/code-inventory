{
 "cells": [
  {
   "cell_type": "code",
   "execution_count": 1,
   "metadata": {},
   "outputs": [
    {
     "name": "stdout",
     "output_type": "stream",
     "text": [
      "C:\\ProgramData\\Anaconda3\\Lib\\site-packages\n"
     ]
    }
   ],
   "source": [
    "from distutils.sysconfig import get_python_lib\n",
    "print(get_python_lib())"
   ]
  },
  {
   "cell_type": "code",
   "execution_count": 10,
   "metadata": {},
   "outputs": [],
   "source": [
    "a=dict()"
   ]
  },
  {
   "cell_type": "code",
   "execution_count": 53,
   "metadata": {},
   "outputs": [
    {
     "name": "stderr",
     "output_type": "stream",
     "text": [
      "INFO:root:Listing Threat-Actors with filters null.\n"
     ]
    }
   ],
   "source": [
    "api_url = \"http://192.168.83.129:8080\"\n",
    "api_token = \"935050ad-d55e-44dc-b658-abb960c0e175\"\n",
    "\n",
    "# OpenCTI initialization\n",
    "opencti_api_client = OpenCTIApiClient(api_url, api_token)\n"
   ]
  },
  {
   "cell_type": "code",
   "execution_count": 58,
   "metadata": {},
   "outputs": [],
   "source": [
    "class entity_insertion:\n",
    "    \n",
    "    stix_domain=dict()\n",
    "        \n",
    "\n",
    "    def __init__(self,report_path):\n",
    "    \n",
    "        self.report_path = report_path\n",
    "    \n",
    "    \n",
    "    def add_mark_def(self,row,stix_id):\n",
    "        mark      =row['marking_definitions']\n",
    "        all_marks =opencti_api_client.marking_definition.list()\n",
    "        for i in all_marks:\n",
    "            if mark in i['definition'].lower():\n",
    "                mark_code= i['id']\n",
    "                opencti_api_client.stix_entity.add_marking_definition(id=stix_id,marking_definition_id=mark_code)  \n",
    "     \n",
    "    def create_threat_actor(self,report):\n",
    "            \n",
    "            threat_actor_details = pd.read_excel(self.report_path,sheet_name = 'threat_actor')\n",
    "            threat_actor_details = threat_actor_details.where(threat_actor_details.notnull(), None)\n",
    "            \n",
    "            for index,row in threat_actor_details.iterrows():\n",
    "            \n",
    "                \n",
    "                if row['alias'] is not None:\n",
    "                    aliases =row['alias'].split(',')\n",
    "                else:\n",
    "                    aliases = None\n",
    "                    \n",
    "                \n",
    "                threat_actor = opencti_api_client.threat_actor.create(\n",
    "                                                name = row['name'].strip(),\n",
    "                                                description = row['description'],\n",
    "                                                alias = aliases ,\n",
    "                                                goal = row['goal'] ,\n",
    "                                                sophistication = row['sophistication'] ,\n",
    "                                                resource_level = row['resource_level'] ,\n",
    "                                                primary_motivation = row['primary_motivation'] ,\n",
    "                                                secondary_motivation = row['secondary_motivation'] ,\n",
    "                                                personal_motivation = row['personal_motivation'] ,\n",
    "                                                modified = datetime.date.today().strftime(\"%Y-%m-%dT%H:%M:%S+00:00\") ,\n",
    "                                                #createdByRef = by,\n",
    "                                                update = False\n",
    "                                                 )\n",
    "                    \n",
    "                if row['marking_definitions'] is not None:\n",
    "                        self.add_mark_def(stix_id=threat_actor['id'],row=row)\n",
    "                        \n",
    "                opencti_api_client.report.add_stix_entity(id=report,entity_id = threat_actor['id'] )       \n",
    "                stix_domain.update ({row['name'].strip() : threat_actor['id']})\n",
    "                        \n",
    "    def create_attack_pattern(self,report):           #attack_pattern insertion    \n",
    "            \n",
    "            attack_pattern_details = pd.read_excel(self.report_path,sheet_name = 'attack_pattern')\n",
    "            attack_pattern_details = attack_pattern_details.where(attack_pattern_details.notnull(), None)\n",
    "            \n",
    "            for index,row in attack_pattern_details.iterrows():\n",
    "            \n",
    "                if row['alias'] is not None:\n",
    "                    aliases =row['alias'].split(',')\n",
    "                else:\n",
    "                    aliases = None\n",
    "                    \n",
    "                if row['platform'] is not None:\n",
    "                    platforms =row['platform'].split(',')\n",
    "                else:\n",
    "                    platforms = None\n",
    "                    \n",
    "                print(row['required_permission'])   \n",
    "                \n",
    "                exist = opencti_api_client.attack_pattern.list ( filters=[{'key' : 'name' , 'values' : row['name']}])\n",
    "\n",
    "                \n",
    "                if (len(exist) < 0):\n",
    "                    attack_pattern = opencti_api_client.attack_pattern.create(\n",
    "                                                name = row['name'].strip(),\n",
    "                                                description = row['description'],\n",
    "                                                alias = aliases,\n",
    "                                                platform  = platforms ,\n",
    "                                                required_permission = row['required_permission'] ,\n",
    "                                                external_id  = row['external_id'] ,\n",
    "                                                modified = datetime.date.today().strftime(\"%Y-%m-%dT%H:%M:%S+00:00\") ,\n",
    "                                                #createdByRef = by,\n",
    "                                                )\n",
    "                else:\n",
    "                     attack_pattern = opencti_api_client.attack_pattern.create(\n",
    "                                                name = row['name'],\n",
    "                                                description = row['description'],\n",
    "                                                alias = aliases ,\n",
    "                                                platform  = platforms ,\n",
    "                                                required_permission = row['required_permission'] ,\n",
    "                                                external_id  = row['external_id'] ,\n",
    "                                                modified = datetime.date.today().strftime(\"%Y-%m-%dT%H:%M:%S+00:00\") ,\n",
    "                                                update = True,\n",
    "                                                \n",
    "                                                 )\n",
    "                if row['marking_definitions'] is not None:\n",
    "                        self.add_mark_def(stix_id=attack_pattern['id'],row=row)\n",
    "                        \n",
    "                        \n",
    "                opencti_api_client.report.add_stix_entity(id=report,entity_id = attack_pattern['id'] )  \n",
    "                stix_domain.update ({row['name'].strip() : attack_pattern['id']})      \n",
    "                        \n",
    "    def create_malware(self,report):           #malware insertion    \n",
    "            \n",
    "            malware_details = pd.read_excel(self.report_path,sheet_name = 'malware')\n",
    "            malware_details = malware_details.where(malware_details.notnull(), None)\n",
    "            \n",
    "            for index,row in malware_details.iterrows():\n",
    "            \n",
    "                if row['alias'] is not None:\n",
    "                    aliases =row['alias'].split(',')\n",
    "                    print(aliases)\n",
    "                else:\n",
    "                    aliases = None\n",
    "                \n",
    "                exist = opencti_api_client.malware.list ( filters=[{'key' : 'name' , 'values' : row['name']}])\n",
    "            \n",
    "                if (len(exist) < 0):\n",
    "                    malware = opencti_api_client.malware.create(\n",
    "                                                name = row['name'].strip(),\n",
    "                                                description = row['description'],\n",
    "                                                alias = aliases ,\n",
    "                                                modified = datetime.date.today().strftime(\"%Y-%m-%dT%H:%M:%S+00:00\") ,\n",
    "                                                #createdByRef = by,\n",
    "                                                )\n",
    "                else:\n",
    "                     malware = opencti_api_client.malware.create(\n",
    "                                                name = row['name'].strip(),\n",
    "                                                description = row['description'],\n",
    "                                                alias = aliases ,\n",
    "                                                modified = datetime.date.today().strftime(\"%Y-%m-%dT%H:%M:%S+00:00\") ,\n",
    "                                                update = True,\n",
    "                                                 )\n",
    "                if row['marking_definitions'] is not None:\n",
    "                        self.add_mark_def(stix_id=malware['id'],row=row)\n",
    "                        \n",
    "                opencti_api_client.report.add_stix_entity(id=report,entity_id = malware['id'] )\n",
    "                stix_domain.update ({row['name'].strip() : malware['id']}) \n",
    "                \n",
    "    def create_tool(self,report):           #malware insertion    \n",
    "            \n",
    "            tool_details = pd.read_excel(self.report_path,sheet_name = 'tool')\n",
    "            tool_details = tool_details.where(tool_details.notnull(), None)\n",
    "            \n",
    "            for index,row in tool_details.iterrows():\n",
    "            \n",
    "                if row['alias'] is not None:\n",
    "                    aliases =row['alias'].split(',')\n",
    "                    print(aliases)\n",
    "                else:\n",
    "                    aliases = None\n",
    "                \n",
    "                exist = opencti_api_client.tool.list ( filters=[{'key' : 'name' , 'values' : row['name']}])\n",
    "            \n",
    "                if (len(exist) > 0):\n",
    "                    tool = opencti_api_client.tool.create(\n",
    "                                                name = row['name'].strip(),\n",
    "                                                description = row['description'],\n",
    "                                                alias = aliases ,\n",
    "                                                modified = datetime.date.today().strftime(\"%Y-%m-%dT%H:%M:%S+00:00\") ,\n",
    "                                                #createdByRef = by,\n",
    "                                                )\n",
    "                else:\n",
    "                     tool = opencti_api_client.tool.create(\n",
    "                                                name = row['name'].strip(),\n",
    "                                                description = row['description'],\n",
    "                                                alias = aliases ,\n",
    "                                                modified = datetime.date.today().strftime(\"%Y-%m-%dT%H:%M:%S+00:00\") ,\n",
    "                                                update = True,\n",
    "                                                 )\n",
    "                if row['marking_definitions'] is not None:\n",
    "                        self.add_mark_def(stix_id=tool['id'],row=row)\n",
    "                        \n",
    "                opencti_api_client.report.add_stix_entity(id=report,entity_id = tool['id'] )\n",
    "                stix_domain.update ({row['name'].strip() : tool['id']})\n",
    "        \n",
    "    def create_report(self):\n",
    "\n",
    "        report_details = pd.read_excel(self.report_path,sheet_name = 'report')\n",
    "        report_details = report_details.where(report_details.notnull(), None)\n",
    "        \n",
    "        # report creation\n",
    "        for index,row in report_details.iterrows():\n",
    "#             report_by = opencti_api_client.identity.list(filters=[{'key':'name','values': row['created_by_ref'] }])\n",
    "           \n",
    "#             if len(report_by) == 0 : \n",
    "#                 warnings.warn(\"Since \" + row['created_by_ref'] + \" is not inserted in opencti.Rhymtechnologies is taken as default\")\n",
    "#                 report_by = organization = opencti_api_client.identity.create(\n",
    "#                                             type='Organization',\n",
    "#                                             name=\"Rhymtechnologies\",\n",
    "#                                             alias=[\"Rhymtech\"],\n",
    "#                                             description=\"A young and innovative company formed with a vision to create world leading Cyber Security products and services. The promoters are a group of highly successful professionals with diverse backgrounds across IT Delivery, Sales and Consulting, Cyber Security, Artificial Intelligence, Machine Learning and Data Sciences. Our group of consultants led by some of the best minds in the industry have successfully provided strategic and value-add services for multiple large organizations globally.\",\n",
    "#                                             )\n",
    "#             else:\n",
    "#                 report_by = report_by[0]\n",
    "                \n",
    "           # report_by = {'id': None}\n",
    "                \n",
    "            \n",
    "            print(row ['source_confidence_level'])\n",
    "            \n",
    "            report = opencti_api_client.report.create(\n",
    "                                                            name=row['name'],\n",
    "                                                            description= row['description'],\n",
    "                                                            report_class=\"Internal Report\",\n",
    "                                                            published=datetime.date.today().strftime(\"%Y-%m-%dT%H:%M:%S+00:00\"),\n",
    "                                                            #createdByRef= report_by['id'],\n",
    "                                                            object_status = row['object_status'],\n",
    "                                                            source_confidence_level = row ['source_confidence_level'],\n",
    "                                                            update = True,\n",
    "                                                            )\n",
    "            if row['marking_definitions'] is not None:\n",
    "                        self.add_mark_def(stix_id=threat_actor['id'],row=row)\n",
    "            print(\"one_completed\")\n",
    "            \n",
    "            \n",
    "            self.create_threat_actor(report = report['id'])  \n",
    "            self.create_attack_pattern( report =report ['id'])\n",
    "            self.create_malware (report = report ['id'])\n",
    "            self.create_tool (report = report ['id'])\n",
    "    \n",
    "                 \n",
    "                \n",
    "            "
   ]
  },
  {
   "cell_type": "code",
   "execution_count": 59,
   "metadata": {},
   "outputs": [
    {
     "name": "stderr",
     "output_type": "stream",
     "text": [
      "C:\\ProgramData\\Anaconda3\\lib\\site-packages\\ipykernel_launcher.py:1: DeprecationWarning: Call to deprecated method get_identity. (Replaced by the Identity class in pycti) -- Deprecated since version 2.1.0.\n",
      "  \"\"\"Entry point for launching an IPython kernel.\n",
      "INFO:root:Reading Identity {ce15efb8-d60d-4fd4-b68d-e17dabf6310f}.\n"
     ]
    }
   ],
   "source": [
    "opencti_api_client.get_identity( id =  'ce15efb8-d60d-4fd4-b68d-e17dabf6310f')"
   ]
  },
  {
   "cell_type": "code",
   "execution_count": 61,
   "metadata": {},
   "outputs": [
    {
     "name": "stderr",
     "output_type": "stream",
     "text": [
      "INFO:root:Listing Reports with filters [{\"key\": \"name\", \"values\": [\"fakeapt12\"]}, {\"key\": \"published_day\", \"values\": [\"2020-01-29\"]}].\n"
     ]
    },
    {
     "name": "stdout",
     "output_type": "stream",
     "text": [
      "1.0\n"
     ]
    },
    {
     "name": "stderr",
     "output_type": "stream",
     "text": [
      "INFO:root:Listing Stix-Domain-Entities with filters [{\"key\": \"name\", \"values\": [\"fakeapt12\"]}].\n",
      "INFO:root:{\"errors\":[{\"message\":\"Cannot query field \\\"observableRefs\\\" on type \\\"Incident\\\".\",\"locations\":[{\"line\":126,\"column\":17}],\"extensions\":{\"code\":\"GRAPHQL_VALIDATION_FAILED\"}}]}\n",
      "\n"
     ]
    },
    {
     "name": "stdout",
     "output_type": "stream",
     "text": [
      "one_completed\n"
     ]
    },
    {
     "ename": "TypeError",
     "evalue": "'NoneType' object is not subscriptable",
     "output_type": "error",
     "traceback": [
      "\u001b[1;31m---------------------------------------------------------------------------\u001b[0m",
      "\u001b[1;31mTypeError\u001b[0m                                 Traceback (most recent call last)",
      "\u001b[1;32m<ipython-input-61-cb9a8dc5bcdb>\u001b[0m in \u001b[0;36m<module>\u001b[1;34m\u001b[0m\n\u001b[0;32m      1\u001b[0m \u001b[0men\u001b[0m\u001b[1;33m=\u001b[0m\u001b[0mentity_insertion\u001b[0m\u001b[1;33m(\u001b[0m\u001b[0mreport_path\u001b[0m\u001b[1;33m=\u001b[0m\u001b[1;34mr\"D:\\Threat_intel_services\\srikanth\\fakeapt12.xlsx\"\u001b[0m\u001b[1;33m)\u001b[0m\u001b[1;33m\u001b[0m\u001b[1;33m\u001b[0m\u001b[0m\n\u001b[1;32m----> 2\u001b[1;33m \u001b[0men\u001b[0m\u001b[1;33m.\u001b[0m\u001b[0mcreate_report\u001b[0m\u001b[1;33m(\u001b[0m\u001b[1;33m)\u001b[0m\u001b[1;33m\u001b[0m\u001b[1;33m\u001b[0m\u001b[0m\n\u001b[0m",
      "\u001b[1;32m<ipython-input-58-dce118240e5c>\u001b[0m in \u001b[0;36mcreate_report\u001b[1;34m(self)\u001b[0m\n\u001b[0;32m    218\u001b[0m \u001b[1;33m\u001b[0m\u001b[0m\n\u001b[0;32m    219\u001b[0m \u001b[1;33m\u001b[0m\u001b[0m\n\u001b[1;32m--> 220\u001b[1;33m             \u001b[0mself\u001b[0m\u001b[1;33m.\u001b[0m\u001b[0mcreate_threat_actor\u001b[0m\u001b[1;33m(\u001b[0m\u001b[0mreport\u001b[0m \u001b[1;33m=\u001b[0m \u001b[0mreport\u001b[0m\u001b[1;33m[\u001b[0m\u001b[1;34m'id'\u001b[0m\u001b[1;33m]\u001b[0m\u001b[1;33m)\u001b[0m\u001b[1;33m\u001b[0m\u001b[1;33m\u001b[0m\u001b[0m\n\u001b[0m\u001b[0;32m    221\u001b[0m             \u001b[0mself\u001b[0m\u001b[1;33m.\u001b[0m\u001b[0mcreate_attack_pattern\u001b[0m\u001b[1;33m(\u001b[0m \u001b[0mreport\u001b[0m \u001b[1;33m=\u001b[0m\u001b[0mreport\u001b[0m \u001b[1;33m[\u001b[0m\u001b[1;34m'id'\u001b[0m\u001b[1;33m]\u001b[0m\u001b[1;33m)\u001b[0m\u001b[1;33m\u001b[0m\u001b[1;33m\u001b[0m\u001b[0m\n\u001b[0;32m    222\u001b[0m             \u001b[0mself\u001b[0m\u001b[1;33m.\u001b[0m\u001b[0mcreate_malware\u001b[0m \u001b[1;33m(\u001b[0m\u001b[0mreport\u001b[0m \u001b[1;33m=\u001b[0m \u001b[0mreport\u001b[0m \u001b[1;33m[\u001b[0m\u001b[1;34m'id'\u001b[0m\u001b[1;33m]\u001b[0m\u001b[1;33m)\u001b[0m\u001b[1;33m\u001b[0m\u001b[1;33m\u001b[0m\u001b[0m\n",
      "\u001b[1;32m<ipython-input-58-dce118240e5c>\u001b[0m in \u001b[0;36mcreate_threat_actor\u001b[1;34m(self, report)\u001b[0m\n\u001b[0;32m     43\u001b[0m                                                 \u001b[0mmodified\u001b[0m \u001b[1;33m=\u001b[0m \u001b[0mdatetime\u001b[0m\u001b[1;33m.\u001b[0m\u001b[0mdate\u001b[0m\u001b[1;33m.\u001b[0m\u001b[0mtoday\u001b[0m\u001b[1;33m(\u001b[0m\u001b[1;33m)\u001b[0m\u001b[1;33m.\u001b[0m\u001b[0mstrftime\u001b[0m\u001b[1;33m(\u001b[0m\u001b[1;34m\"%Y-%m-%dT%H:%M:%S+00:00\"\u001b[0m\u001b[1;33m)\u001b[0m \u001b[1;33m,\u001b[0m\u001b[1;33m\u001b[0m\u001b[1;33m\u001b[0m\u001b[0m\n\u001b[0;32m     44\u001b[0m                                                 \u001b[1;31m#createdByRef = by,\u001b[0m\u001b[1;33m\u001b[0m\u001b[1;33m\u001b[0m\u001b[1;33m\u001b[0m\u001b[0m\n\u001b[1;32m---> 45\u001b[1;33m                                                 \u001b[0mupdate\u001b[0m \u001b[1;33m=\u001b[0m \u001b[1;32mFalse\u001b[0m\u001b[1;33m\u001b[0m\u001b[1;33m\u001b[0m\u001b[0m\n\u001b[0m\u001b[0;32m     46\u001b[0m                                                  )\n\u001b[0;32m     47\u001b[0m \u001b[1;33m\u001b[0m\u001b[0m\n",
      "\u001b[1;32mC:\\ProgramData\\Anaconda3\\lib\\site-packages\\pycti\\entities\\opencti_threat_actor.py\u001b[0m in \u001b[0;36mcreate\u001b[1;34m(self, **kwargs)\u001b[0m\n\u001b[0;32m    288\u001b[0m \u001b[1;33m\u001b[0m\u001b[0m\n\u001b[0;32m    289\u001b[0m         object_result = self.opencti.stix_domain_entity.get_by_stix_id_or_name(\n\u001b[1;32m--> 290\u001b[1;33m             \u001b[0mtypes\u001b[0m\u001b[1;33m=\u001b[0m\u001b[1;33m[\u001b[0m\u001b[1;34m\"Threat-Actor\"\u001b[0m\u001b[1;33m]\u001b[0m\u001b[1;33m,\u001b[0m \u001b[0mstix_id_key\u001b[0m\u001b[1;33m=\u001b[0m\u001b[0mstix_id_key\u001b[0m\u001b[1;33m,\u001b[0m \u001b[0mname\u001b[0m\u001b[1;33m=\u001b[0m\u001b[0mname\u001b[0m\u001b[1;33m\u001b[0m\u001b[1;33m\u001b[0m\u001b[0m\n\u001b[0m\u001b[0;32m    291\u001b[0m         )\n\u001b[0;32m    292\u001b[0m         \u001b[1;32mif\u001b[0m \u001b[0mobject_result\u001b[0m \u001b[1;32mis\u001b[0m \u001b[1;32mnot\u001b[0m \u001b[1;32mNone\u001b[0m\u001b[1;33m:\u001b[0m\u001b[1;33m\u001b[0m\u001b[1;33m\u001b[0m\u001b[0m\n",
      "\u001b[1;32mC:\\ProgramData\\Anaconda3\\lib\\site-packages\\pycti\\entities\\opencti_stix_domain_entity.py\u001b[0m in \u001b[0;36mget_by_stix_id_or_name\u001b[1;34m(self, **kwargs)\u001b[0m\n\u001b[0;32m    402\u001b[0m         \u001b[1;32mif\u001b[0m \u001b[0mobject_result\u001b[0m \u001b[1;32mis\u001b[0m \u001b[1;32mNone\u001b[0m \u001b[1;32mand\u001b[0m \u001b[0mname\u001b[0m \u001b[1;32mis\u001b[0m \u001b[1;32mnot\u001b[0m \u001b[1;32mNone\u001b[0m\u001b[1;33m:\u001b[0m\u001b[1;33m\u001b[0m\u001b[1;33m\u001b[0m\u001b[0m\n\u001b[0;32m    403\u001b[0m             object_result = self.read(\n\u001b[1;32m--> 404\u001b[1;33m                 \u001b[0mtypes\u001b[0m\u001b[1;33m=\u001b[0m\u001b[0mtypes\u001b[0m\u001b[1;33m,\u001b[0m \u001b[0mfilters\u001b[0m\u001b[1;33m=\u001b[0m\u001b[1;33m[\u001b[0m\u001b[1;33m{\u001b[0m\u001b[1;34m\"key\"\u001b[0m\u001b[1;33m:\u001b[0m \u001b[1;34m\"name\"\u001b[0m\u001b[1;33m,\u001b[0m \u001b[1;34m\"values\"\u001b[0m\u001b[1;33m:\u001b[0m \u001b[1;33m[\u001b[0m\u001b[0mname\u001b[0m\u001b[1;33m]\u001b[0m\u001b[1;33m}\u001b[0m\u001b[1;33m]\u001b[0m\u001b[1;33m\u001b[0m\u001b[1;33m\u001b[0m\u001b[0m\n\u001b[0m\u001b[0;32m    405\u001b[0m             )\n\u001b[0;32m    406\u001b[0m             \u001b[1;32mif\u001b[0m \u001b[0mobject_result\u001b[0m \u001b[1;32mis\u001b[0m \u001b[1;32mNone\u001b[0m\u001b[1;33m:\u001b[0m\u001b[1;33m\u001b[0m\u001b[1;33m\u001b[0m\u001b[0m\n",
      "\u001b[1;32mC:\\ProgramData\\Anaconda3\\lib\\site-packages\\pycti\\entities\\opencti_stix_domain_entity.py\u001b[0m in \u001b[0;36mread\u001b[1;34m(self, **kwargs)\u001b[0m\n\u001b[0;32m    375\u001b[0m             )\n\u001b[0;32m    376\u001b[0m         \u001b[1;32melif\u001b[0m \u001b[0mfilters\u001b[0m \u001b[1;32mis\u001b[0m \u001b[1;32mnot\u001b[0m \u001b[1;32mNone\u001b[0m\u001b[1;33m:\u001b[0m\u001b[1;33m\u001b[0m\u001b[1;33m\u001b[0m\u001b[0m\n\u001b[1;32m--> 377\u001b[1;33m             \u001b[0mresult\u001b[0m \u001b[1;33m=\u001b[0m \u001b[0mself\u001b[0m\u001b[1;33m.\u001b[0m\u001b[0mlist\u001b[0m\u001b[1;33m(\u001b[0m\u001b[0mtypes\u001b[0m\u001b[1;33m=\u001b[0m\u001b[0mtypes\u001b[0m\u001b[1;33m,\u001b[0m \u001b[0mfilters\u001b[0m\u001b[1;33m=\u001b[0m\u001b[0mfilters\u001b[0m\u001b[1;33m)\u001b[0m\u001b[1;33m\u001b[0m\u001b[1;33m\u001b[0m\u001b[0m\n\u001b[0m\u001b[0;32m    378\u001b[0m             \u001b[1;32mif\u001b[0m \u001b[0mlen\u001b[0m\u001b[1;33m(\u001b[0m\u001b[0mresult\u001b[0m\u001b[1;33m)\u001b[0m \u001b[1;33m>\u001b[0m \u001b[1;36m0\u001b[0m\u001b[1;33m:\u001b[0m\u001b[1;33m\u001b[0m\u001b[1;33m\u001b[0m\u001b[0m\n\u001b[0;32m    379\u001b[0m                 \u001b[1;32mreturn\u001b[0m \u001b[0mresult\u001b[0m\u001b[1;33m[\u001b[0m\u001b[1;36m0\u001b[0m\u001b[1;33m]\u001b[0m\u001b[1;33m\u001b[0m\u001b[1;33m\u001b[0m\u001b[0m\n",
      "\u001b[1;32mC:\\ProgramData\\Anaconda3\\lib\\site-packages\\pycti\\entities\\opencti_stix_domain_entity.py\u001b[0m in \u001b[0;36mlist\u001b[1;34m(self, **kwargs)\u001b[0m\n\u001b[0;32m    342\u001b[0m             \u001b[1;32mreturn\u001b[0m \u001b[0mfinal_data\u001b[0m\u001b[1;33m\u001b[0m\u001b[1;33m\u001b[0m\u001b[0m\n\u001b[0;32m    343\u001b[0m         \u001b[1;32melse\u001b[0m\u001b[1;33m:\u001b[0m\u001b[1;33m\u001b[0m\u001b[1;33m\u001b[0m\u001b[0m\n\u001b[1;32m--> 344\u001b[1;33m             \u001b[1;32mreturn\u001b[0m \u001b[0mself\u001b[0m\u001b[1;33m.\u001b[0m\u001b[0mopencti\u001b[0m\u001b[1;33m.\u001b[0m\u001b[0mprocess_multiple\u001b[0m\u001b[1;33m(\u001b[0m\u001b[0mresult\u001b[0m\u001b[1;33m[\u001b[0m\u001b[1;34m\"data\"\u001b[0m\u001b[1;33m]\u001b[0m\u001b[1;33m[\u001b[0m\u001b[1;34m\"stixDomainEntities\"\u001b[0m\u001b[1;33m]\u001b[0m\u001b[1;33m)\u001b[0m\u001b[1;33m\u001b[0m\u001b[1;33m\u001b[0m\u001b[0m\n\u001b[0m\u001b[0;32m    345\u001b[0m \u001b[1;33m\u001b[0m\u001b[0m\n\u001b[0;32m    346\u001b[0m     \"\"\"\n",
      "\u001b[1;31mTypeError\u001b[0m: 'NoneType' object is not subscriptable"
     ]
    }
   ],
   "source": [
    "en=entity_insertion(report_path=r\"D:\\Threat_intel_services\\srikanth\\fakeapt12.xlsx\")\n",
    "en.create_report()"
   ]
  },
  {
   "cell_type": "code",
   "execution_count": null,
   "metadata": {},
   "outputs": [],
   "source": [
    "print(report_by['id'])"
   ]
  },
  {
   "cell_type": "code",
   "execution_count": null,
   "metadata": {},
   "outputs": [],
   "source": []
  }
 ],
 "metadata": {
  "kernelspec": {
   "display_name": "Python 3",
   "language": "python",
   "name": "python3"
  },
  "language_info": {
   "codemirror_mode": {
    "name": "ipython",
    "version": 3
   },
   "file_extension": ".py",
   "mimetype": "text/x-python",
   "name": "python",
   "nbconvert_exporter": "python",
   "pygments_lexer": "ipython3",
   "version": "3.7.4"
  }
 },
 "nbformat": 4,
 "nbformat_minor": 2
}
