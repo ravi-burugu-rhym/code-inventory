{
 "cells": [
  {
   "cell_type": "code",
   "execution_count": 2,
   "metadata": {},
   "outputs": [],
   "source": [
    "import pandas as pd\n",
    "import uuid\n",
    "from datetime import datetime\n",
    "import numpy as np\n",
    "from grakn.client import GraknClient\n",
    "from tqdm import tqdm\n",
    "tqdm.pandas()"
   ]
  },
  {
   "cell_type": "code",
   "execution_count": 3,
   "metadata": {},
   "outputs": [],
   "source": [
    "df=pd.read_excel(r\"C:\\Users\\SRIKANTH\\Desktop\\OpenCTI_Data.xlsx\",sheet_name='Vulnerability')"
   ]
  },
  {
   "cell_type": "code",
   "execution_count": 4,
   "metadata": {},
   "outputs": [],
   "source": [
    "def  insert_general_info(df,ent_type,create):\n",
    "    if create:\n",
    "        for index,i in df.iterrows():\n",
    "            df.internal_id_key[index]=str(uuid.uuid4())\n",
    "            df.stix_id_key[index]=ent_type+'--'+str(uuid.uuid4())\n",
    "            df.stix_label[index]='NA'\n",
    "            df.entity_type[index]=ent_type\n",
    "            df.created=(datetime.now()).strftime(\"%Y-%m-%dT%H:%M:%S\")\n",
    "            df.created_at=(datetime.now()).strftime(\"%Y-%m-%dT%H:%M:%S\")\n",
    "            df.created_at_day=(datetime.now()).strftime(\"%Y-%m-%d\")\n",
    "            df.created_at_month=(datetime.now()).strftime(\"%Y-%m\")\n",
    "            df.created_at_year=(datetime.now()).strftime(\"%Y\")\n",
    "            df.modified=(datetime.now()).strftime(\"%Y-%m-%dT%H:%M:%S\")\n",
    "            df.updated_at=(datetime.now()).strftime(\"%Y-%m-%dT%H:%M:%S\")\n",
    "            df.revoked=False\n",
    "            df.object_status='NA'\n",
    "    else:\n",
    "            df.modified=(datetime.now()).strftime(\"%Y-%m-%dT%H:%M:%S\")\n",
    "            df.updated_at=(datetime.now()).strftime(\"%Y-%m-%dT%H:%M:%S\")\n",
    "    return df\n",
    "    "
   ]
  },
  {
   "cell_type": "code",
   "execution_count": 127,
   "metadata": {},
   "outputs": [
    {
     "name": "stderr",
     "output_type": "stream",
     "text": [
      "C:\\ProgramData\\Anaconda3\\lib\\site-packages\\ipykernel_launcher.py:4: SettingWithCopyWarning: \n",
      "A value is trying to be set on a copy of a slice from a DataFrame\n",
      "\n",
      "See the caveats in the documentation: http://pandas.pydata.org/pandas-docs/stable/indexing.html#indexing-view-versus-copy\n",
      "  after removing the cwd from sys.path.\n",
      "C:\\ProgramData\\Anaconda3\\lib\\site-packages\\ipykernel_launcher.py:5: SettingWithCopyWarning: \n",
      "A value is trying to be set on a copy of a slice from a DataFrame\n",
      "\n",
      "See the caveats in the documentation: http://pandas.pydata.org/pandas-docs/stable/indexing.html#indexing-view-versus-copy\n",
      "  \"\"\"\n",
      "C:\\ProgramData\\Anaconda3\\lib\\site-packages\\ipykernel_launcher.py:6: SettingWithCopyWarning: \n",
      "A value is trying to be set on a copy of a slice from a DataFrame\n",
      "\n",
      "See the caveats in the documentation: http://pandas.pydata.org/pandas-docs/stable/indexing.html#indexing-view-versus-copy\n",
      "  \n",
      "C:\\ProgramData\\Anaconda3\\lib\\site-packages\\ipykernel_launcher.py:7: SettingWithCopyWarning: \n",
      "A value is trying to be set on a copy of a slice from a DataFrame\n",
      "\n",
      "See the caveats in the documentation: http://pandas.pydata.org/pandas-docs/stable/indexing.html#indexing-view-versus-copy\n",
      "  import sys\n"
     ]
    }
   ],
   "source": [
    "result=insert_general_info(df=df,ent_type='Vulnerability',create=True)\n",
    "result.fillna('NA',inplace=True)"
   ]
  },
  {
   "cell_type": "code",
   "execution_count": 1,
   "metadata": {},
   "outputs": [
    {
     "ename": "NameError",
     "evalue": "name 'result' is not defined",
     "output_type": "error",
     "traceback": [
      "\u001b[1;31m---------------------------------------------------------------------------\u001b[0m",
      "\u001b[1;31mNameError\u001b[0m                                 Traceback (most recent call last)",
      "\u001b[1;32m<ipython-input-1-408a79dc4eba>\u001b[0m in \u001b[0;36m<module>\u001b[1;34m\u001b[0m\n\u001b[1;32m----> 1\u001b[1;33m \u001b[0mresult\u001b[0m\u001b[1;33m[\u001b[0m\u001b[1;34m'tool_version'\u001b[0m\u001b[1;33m]\u001b[0m\u001b[1;33m\u001b[0m\u001b[1;33m\u001b[0m\u001b[0m\n\u001b[0m",
      "\u001b[1;31mNameError\u001b[0m: name 'result' is not defined"
     ]
    }
   ],
   "source": [
    "result['tool_version']"
   ]
  },
  {
   "cell_type": "code",
   "execution_count": 129,
   "metadata": {},
   "outputs": [],
   "source": [
    "def insert_one_vulnerability (df,session):\n",
    "    #if df.first_seen != 'NA':\n",
    "     #   f=df.first_seen.strftime(\"%Y-%m-%dT%H:%M:%S\")\n",
    "     #   f_m=df.first_seen.strftime(\"%Y-%m\")\n",
    "     #   f_d=df.first_seen.strftime(\"%Y-%m-%d\")\n",
    "    #elif df.first_seen_month != 'NA':\n",
    "    #    f_m=df.first_seen_month\n",
    "    #elif df.first_seen_day != 'NA':\n",
    "    #    f_d=df.first_seen_day\n",
    "    #else:\n",
    "    #    f_d=None\n",
    "    #    f_m=None\n",
    "    #    f=None\n",
    "    df['description']=df['description'].replace('\\\"','').strip()\n",
    "    aliases = list()\n",
    "    if df['alias'] != 'NA':            \n",
    "        aliases=df.alias.split('\\n')\n",
    "\n",
    "    graql_match_query = f\"match $i isa Vulnerability , \" \\\n",
    "                        f\"has name \\\"{df['name']}__\\\"; \" \\\n",
    "                        f\"get;\"\n",
    "    # print(graql_match_query)\n",
    "    with session.transaction().read() as read_transaction:\n",
    "        # read_transaction.query(graql_match_query)\n",
    "        answer_iterator = None\n",
    "        answer_iterator = read_transaction.query(graql_match_query, infer=True)\n",
    "        data = answer_iterator.collect_concepts()\n",
    "                \n",
    "        if len(data) > 0:\n",
    "            # Update data.\n",
    "            # Columns to be updated: object_status, revoked, updated_at, modified, description, alias\n",
    "            # print(\"Update intrusion-set...\")\n",
    "            print(\"Update: \" + df['name'])\n",
    "            graql_attribute_delete_query = f\"match $i isa Vulnerability , \" \\\n",
    "                                           f\"has name \\\"{df['name']}__\\\", \"\\\n",
    "                                           f\"has alias $a via $i1, \"\\\n",
    "                                           f\"has description $a via $i2; \"\\\n",
    "                                           f\"delete $i1, $i2;\"\n",
    "            update_flg = False\n",
    "            first_attr_flg = True\n",
    "            graql_attribute_update_query = f\"match $i isa Vulnerability , \" \\\n",
    "                                           f\"has name \\\"{df['name']}__\\\"; insert $i\"\n",
    "            if df['description'] != 'NA':\n",
    "                # graql_attribute_delete_query += f\" has description $a via $i2; \"\\\n",
    "                graql_attribute_update_query += f\"  has description \\\"{df['description']}\\\" \"\n",
    "                if (first_attr_flg) & (len(aliases)>0):\n",
    "                    graql_attribute_update_query += \",\"\n",
    "                update_flg = True\n",
    "                first_attr_flg = False\n",
    "            print(len(aliases))\n",
    "            if len(aliases) > 0:\n",
    "                s = \"|\"\n",
    "                graql_attribute_update_query += f\" has alias \\\"{s.join(aliases).replace(' ','')}\\\" \" \n",
    "                if first_attr_flg:\n",
    "                     graql_attribute_update_query += \",\"\n",
    "                update_flg = True\n",
    "                first_attr_flg = False\n",
    "            graql_attribute_update_query += \";\"\n",
    "            print(graql_attribute_update_query)\n",
    "            if update_flg:\n",
    "                with session.transaction().write() as write_transaction:\n",
    "                    # make a write transection with the query\n",
    "                    write_transaction.query(graql_attribute_delete_query)\n",
    "                    write_transaction.query(graql_attribute_update_query)\n",
    "                    # remember to commit at the end\n",
    "                    write_transaction.commit()           \n",
    "        else:\n",
    "            # print(\"Insert intrusion-set...\")\n",
    "            print(\"Insert: \" + df['name'].strip())\n",
    "            graql_insert_query = f\"insert $x isa Vulnerability, \" \\\n",
    "                                 f\"has internal_id_key \\\"{df['internal_id_key']}\\\", \" \\\n",
    "                                 f\"has stix_id_key \\\"{df['stix_id_key']}\\\", \" \\\n",
    "                                 f\"has stix_label \\\"{df['stix_label']}\\\", \" \\\n",
    "                                 f\"has entity_type \\\"{df['entity_type']}\\\", \" \\\n",
    "                                 f\"has created {df['created']}, \" \\\n",
    "                                 f\"has revoked \\\"{df['revoked']}\\\", \"\\\n",
    "                                 f\"has created_at {df['created_at']}, \" \\\n",
    "                                 f\"has created_at_day \\\"{df['created_at_day']}\\\", \" \\\n",
    "                                 f\"has created_at_month \\\"{df['created_at_month']}\\\", \" \\\n",
    "                                 f\"has created_at_year \\\"{df['created_at_year']}\\\", \"\\\n",
    "                                 f\"has updated_at {df['updated_at']}, \"\\\n",
    "                                 f\"has name \\\"{df['name'].strip()}__\\\" \"\n",
    "                                 \n",
    "            if df['description'] != 'NA':\n",
    "                graql_insert_query += f\", has description \\\"{df['description']}\\\" \"\n",
    "            if len(aliases) > 0:\n",
    "                s = \"|\"\n",
    "                graql_insert_query += f\", has alias \\\"{s.join(aliases)}\\\" \"\n",
    "            #if f is not None:\n",
    "            #    graql_insert_query += f\", has first_seen {f} \"\n",
    "            #if f_d is not None:\n",
    "            #    graql_insert_query += f\", has first_seen_day \\\"{f_d}\\\" \"\n",
    "            #if f_m is not None:\n",
    "             #   graql_insert_query += f\", has first_seen_month \\\"{f_m}\\\" \"\n",
    "            #if f_m is not None:\n",
    "            #    graql_insert_query += f\", has first_seen_year \\\"{df['first_seen_year']}\\\"\"\n",
    "            graql_insert_query += \";\"\n",
    "            print(graql_insert_query)\n",
    "            with session.transaction().write() as write_transaction:\n",
    "                # make a write transection with the query\n",
    "                write_transaction.query(graql_insert_query)\n",
    "                # remember to commit at the end\n",
    "                write_transaction.commit()"
   ]
  },
  {
   "cell_type": "code",
   "execution_count": 130,
   "metadata": {},
   "outputs": [],
   "source": [
    "def load_data_into_grakn(session,input_df):\n",
    "    print(\"Vulnerability...\")\n",
    "    # using progress_apply instead of apply so we have a progress bar form tqdm\n",
    "    # input_df.progress_apply(insert_one_intrusion_set, axis=1, session=session)\n",
    "    print(\"Vulnerability...\")\n",
    "    for index,row in input_df.iterrows():\n",
    "        insert_one_vulnerability(df=row,session=session)"
   ]
  },
  {
   "cell_type": "code",
   "execution_count": 131,
   "metadata": {},
   "outputs": [],
   "source": [
    "def build_grakn_graph(input_df, keyspace_name):\n",
    "    with GraknClient(uri=\"192.168.1.250:48555\") as client:\n",
    "        with client.session(keyspace = keyspace_name) as session:\n",
    "            load_data_into_grakn(session,input_df)"
   ]
  },
  {
   "cell_type": "code",
   "execution_count": 132,
   "metadata": {},
   "outputs": [
    {
     "name": "stdout",
     "output_type": "stream",
     "text": [
      "Vulnerability...\n",
      "Vulnerability...\n",
      "Insert: CVE-2009-4324\n",
      "insert $x isa Vulnerability, has internal_id_key \"9b996929-d362-45f8-b239-77e25f4337a3\", has stix_id_key \"Vulnerability--c09e1718-7d91-4637-8050-c06797a89723\", has stix_label \"NA\", has entity_type \"Vulnerability\", has created 2020-01-06T15:39:04, has revoked \"False\", has created_at 2020-01-06T15:39:04, has created_at_day \"2020-01-06\", has created_at_month \"2020-01\", has created_at_year \"2020\", has updated_at 2020-01-06T15:39:04, has name \"CVE-2009-4324__\" , has description \"Use-after-free vulnerability in the Doc.media.newPlayer method in Multimedia.api in Adobe Reader and Acrobat 9.x before 9.3, and 8.x before 8.2 on Windows and Mac OS X, allows remote attackers to execute arbitrary code via a crafted PDF file using ZLib compressed streams, as exploited in the wild in December 2009.\" ;\n",
      "Insert: CVE-2011-0611\n",
      "insert $x isa Vulnerability, has internal_id_key \"c0ea9b54-75d5-4aed-9364-67fde1de4e71\", has stix_id_key \"Vulnerability--e54234bd-68cc-4703-aa63-2eee4df988ce\", has stix_label \"NA\", has entity_type \"Vulnerability\", has created 2020-01-06T15:39:04, has revoked \"False\", has created_at 2020-01-06T15:39:04, has created_at_day \"2020-01-06\", has created_at_month \"2020-01\", has created_at_year \"2020\", has updated_at 2020-01-06T15:39:04, has name \"CVE-2011-0611__\" , has description \"Adobe Flash Player before 10.2.154.27 on Windows, Mac OS X, Linux, and Solaris and 10.2.156.12 and earlier on Android; Adobe AIR before 2.6.19140; and Authplay.dll (aka AuthPlayLib.bundle) in Adobe Reader 9.x before 9.4.4 and 10.x through 10.0.1 on Windows, Adobe Reader 9.x before 9.4.4 and 10.x before 10.0.3 on Mac OS X, and Adobe Acrobat 9.x before 9.4.4 and 10.x before 10.0.3 on Windows and Mac OS X allow remote attackers to execute arbitrary code or cause a denial of service (application crash) via crafted Flash content; as demonstrated by a Microsoft Office document with an embedded .swf file that has a size inconsistency in object type confusion,ActionScript that adds custom functions to prototypes, and Date objects; and as exploited in the wild in April 2011.\" ;\n",
      "Insert: CVE-2009-0927\n",
      "insert $x isa Vulnerability, has internal_id_key \"1a008ef9-8bea-4130-9db0-25416db24109\", has stix_id_key \"Vulnerability--f32b5024-3de5-47ad-9d90-61f27b598868\", has stix_label \"NA\", has entity_type \"Vulnerability\", has created 2020-01-06T15:39:04, has revoked \"False\", has created_at 2020-01-06T15:39:04, has created_at_day \"2020-01-06\", has created_at_month \"2020-01\", has created_at_year \"2020\", has updated_at 2020-01-06T15:39:04, has name \"CVE-2009-0927__\" , has description \"Stack-based buffer overflow in Adobe Reader and Adobe Acrobat 9 before 9.1, 8 before 8.1.3 , and 7 before 7.1.1 allows remote attackers to execute arbitrary code via a crafted argument to the getIcon method of a Collab object, a different vulnerability than CVE-2009-0658.\" ;\n",
      "Insert: CVE-2011-0609\n",
      "insert $x isa Vulnerability, has internal_id_key \"884d54f2-c086-4718-8172-efd96673dbb6\", has stix_id_key \"Vulnerability--497669e4-d240-49ce-8dcf-513bfb13d868\", has stix_label \"NA\", has entity_type \"Vulnerability\", has created 2020-01-06T15:39:04, has revoked \"False\", has created_at 2020-01-06T15:39:04, has created_at_day \"2020-01-06\", has created_at_month \"2020-01\", has created_at_year \"2020\", has updated_at 2020-01-06T15:39:04, has name \"CVE-2011-0609__\" , has description \"Unspecified vulnerability in Adobe Flash Player 10.2.154.13 and earlier on Windows, Mac OS X, Linux, and Solaris; 10.1.106.16 and earlier on Android; Adobe AIR 2.5.1 and earlier; and Authplay.dll (aka AuthPlayLib.bundle) in Adobe Reader and Acrobat 9.x through 9.4.2 and 10.x through 10.0.1 on Windows and Mac OS X, allows remote attackers to execute arbitrary code or cause a denial of service (application crash) via crafted Flash content, as demonstrated by a .swf file embedded in an Excel spreadsheet, and as exploited in the wild in March 2011.\" ;\n",
      "Insert: CVE-209-3129\n",
      "insert $x isa Vulnerability, has internal_id_key \"930131b7-ef96-4e3a-aa54-077fbb5b3ed3\", has stix_id_key \"Vulnerability--fec91b3d-543d-46c0-ace8-3ab488306838\", has stix_label \"NA\", has entity_type \"Vulnerability\", has created 2020-01-06T15:39:04, has revoked \"False\", has created_at 2020-01-06T15:39:04, has created_at_day \"2020-01-06\", has created_at_month \"2020-01\", has created_at_year \"2020\", has updated_at 2020-01-06T15:39:04, has name \"CVE-209-3129__\" , has description \"Microsoft Office Excel 2002 SP3, 2003 SP3, and 2007 SP1 and SP2; Office 2004 and 2008 for Mac; Open XML File Format Converter for Mac; Office Excel Viewer 2003 SP3; Office Excel Viewer SP1 and SP2; and Office Compatibility Pack for Word, Excel, and PowerPoint 2007 File Formats SP1 and SP2 allows remote attackers to execute arbitrary code via a spreadsheet with a FEATHEADER record containing an invalid cbHdrData size element that affects a pointer offset, aka Excel Featheader Record Memory Corruption Vulnerability.\" ;\n",
      "Insert: CVE-2012-0158\n",
      "insert $x isa Vulnerability, has internal_id_key \"d02c46c7-f21e-424a-981e-26b61070fbdb\", has stix_id_key \"Vulnerability--96bf744b-5afa-4cbc-9ad6-7fab33daae62\", has stix_label \"NA\", has entity_type \"Vulnerability\", has created 2020-01-06T15:39:04, has revoked \"False\", has created_at 2020-01-06T15:39:04, has created_at_day \"2020-01-06\", has created_at_month \"2020-01\", has created_at_year \"2020\", has updated_at 2020-01-06T15:39:04, has name \"CVE-2012-0158__\" , has description \"The (1) ListView, (2) ListView2, (3) TreeView, and (4) TreeView2 ActiveX controls in MSCOMCTL.OCX in the Common Controls in Microsoft Office 2003 SP3, 2007 SP2 and SP3, and 2010 Gold and SP1; Office 2003 Web Components SP3; SQL Server 2000 SP4, 2005 SP4, and 2008 SP2, SP3, and R2; BizTalk Server 2002 SP1; Commerce Server 2002 SP4, 2007 SP2, and 2009 Gold and R2; Visual FoxPro 8.0 SP1 and 9.0 SP2; and Visual Basic 6.0 Runtime allow remote attackers to execute arbitrary code via a crafted (a) web site, (b) Office document, or (c) .rtf file that triggers system state corruption, as exploited in the wild in April 2012, aka MSCOMCTL.OCX RCE Vulnerability.\" ;\n",
      "Insert: CVE-2013-1347\n",
      "insert $x isa Vulnerability, has internal_id_key \"cd41127e-8a95-433b-b007-fa27a392137b\", has stix_id_key \"Vulnerability--f82c9f79-0622-47f0-bf53-fbd8a2927c4f\", has stix_label \"NA\", has entity_type \"Vulnerability\", has created 2020-01-06T15:39:04, has revoked \"False\", has created_at 2020-01-06T15:39:04, has created_at_day \"2020-01-06\", has created_at_month \"2020-01\", has created_at_year \"2020\", has updated_at 2020-01-06T15:39:04, has name \"CVE-2013-1347__\" , has description \"Microsoft Internet Explorer 8 does not properly handle objects in memory, which allows remote attackers to execute arbitrary code by accessing an object that \n",
      "(1) was not properly allocated or (2) is deleted, as exploited in the wild in May 2013.\" ;\n",
      "Insert: CVE-2013-3897\n",
      "insert $x isa Vulnerability, has internal_id_key \"cb6e41bb-a8f0-4d6a-9765-92d8287dbfe4\", has stix_id_key \"Vulnerability--e8518f92-4f9b-4e51-8ef8-10614b8d86c7\", has stix_label \"NA\", has entity_type \"Vulnerability\", has created 2020-01-06T15:39:04, has revoked \"False\", has created_at 2020-01-06T15:39:04, has created_at_day \"2020-01-06\", has created_at_month \"2020-01\", has created_at_year \"2020\", has updated_at 2020-01-06T15:39:04, has name \"CVE-2013-3897__\" , has description \"Use-after-free vulnerability in the CDisplayPointer class in mshtml.dll in Microsoft Internet Explorer 6 through 11 allows remote attackers to execute arbitrary code or cause a denial of service (memory corruption) via crafted JavaScript code that uses the onpropertychange event handler, as exploited in the wild in September and October 2013, aka Internet Explorer Memory Corruption Vulnerability.\" ;\n",
      "Insert: CVE-2014-1510\n",
      "insert $x isa Vulnerability, has internal_id_key \"ce0cf3ae-16d3-4b7e-bc78-ec13f1de8d06\", has stix_id_key \"Vulnerability--2ccebf4f-e1cd-45be-aadd-ead70fa70e90\", has stix_label \"NA\", has entity_type \"Vulnerability\", has created 2020-01-06T15:39:04, has revoked \"False\", has created_at 2020-01-06T15:39:04, has created_at_day \"2020-01-06\", has created_at_month \"2020-01\", has created_at_year \"2020\", has updated_at 2020-01-06T15:39:04, has name \"CVE-2014-1510__\" , has description \"The Web IDL implementation in Mozilla Firefox before 28.0, Firefox ESR 24.x before 24.4, Thunderbird before 24.4, and SeaMonkey before 2.25 allows remote attackers to execute arbitrary JavaScript code with chrome privileges by using an IDL fragment to trigger a window.open call.\" ;\n",
      "Insert: CVE-2014-1511\n",
      "insert $x isa Vulnerability, has internal_id_key \"d0436cf6-7562-4d5a-a97d-850b39b5a61e\", has stix_id_key \"Vulnerability--938a39bb-6658-4403-b19b-f67de23c4d9b\", has stix_label \"NA\", has entity_type \"Vulnerability\", has created 2020-01-06T15:39:04, has revoked \"False\", has created_at 2020-01-06T15:39:04, has created_at_day \"2020-01-06\", has created_at_month \"2020-01\", has created_at_year \"2020\", has updated_at 2020-01-06T15:39:04, has name \"CVE-2014-1511__\" , has description \"Mozilla Firefox before 28.0, Firefox ESR 24.x before 24.4, Thunderbird before 24.4, and SeaMonkey before 2.25 allow remote attackers to bypass the popup blocker via unspecified vectors.\" ;\n",
      "Insert: CVE-2014-1776\n",
      "insert $x isa Vulnerability, has internal_id_key \"bcb29fbe-8764-4705-a947-4d6fcc70aa31\", has stix_id_key \"Vulnerability--89c0cc2b-c03e-4df3-9a06-f3dadc87cc0e\", has stix_label \"NA\", has entity_type \"Vulnerability\", has created 2020-01-06T15:39:04, has revoked \"False\", has created_at 2020-01-06T15:39:04, has created_at_day \"2020-01-06\", has created_at_month \"2020-01\", has created_at_year \"2020\", has updated_at 2020-01-06T15:39:04, has name \"CVE-2014-1776__\" , has description \"Use-after-free vulnerability in Microsoft Internet Explorer 6 through 11 allows remote attackers to execute arbitrary code or cause a denial of service (memory corruption) via vectors related to the CMarkup::IsConnectedToPrimaryMarkup function, as exploited in the wild in April 2014. NOTE: this issue originally emphasized VGX.DLL, but Microsoft clarified that VGX.DLL does not contain the vulnerable code leveraged in this exploit. Disabling VGX.DLL is an exploit-specific workaround that provides an immediate, \n",
      "effective workaround to help block known attacks.\" ;\n",
      "Insert: CVE-2014-6332\n",
      "insert $x isa Vulnerability, has internal_id_key \"863b30eb-6748-4956-8104-d2703b33815d\", has stix_id_key \"Vulnerability--c7c7d69c-efff-48fa-8f73-58bb46566db1\", has stix_label \"NA\", has entity_type \"Vulnerability\", has created 2020-01-06T15:39:04, has revoked \"False\", has created_at 2020-01-06T15:39:04, has created_at_day \"2020-01-06\", has created_at_month \"2020-01\", has created_at_year \"2020\", has updated_at 2020-01-06T15:39:04, has name \"CVE-2014-6332__\" , has description \"OleAut32.dll in OLE in Microsoft Windows Server 2003 SP2, Windows Vista SP2, Windows Server 2008 SP2 and R2 SP1, Windows 7 SP1, Windows 8, Windows 8.1, Windows Server 2012 Gold and R2, and Windows RT Gold and 8.1 allows remote attackers to execute arbitrary code via a crafted web site, as demonstrated by an array-redimensioning attempt that triggers improper handling of a size value in the SafeArrayDimen function, aka Windows OLE Automation Array Remote Code Execution Vulnerability.\" ;\n",
      "Insert: CVE-2015-2590\n",
      "insert $x isa Vulnerability, has internal_id_key \"551f73b8-7810-4468-8028-2389c896ff81\", has stix_id_key \"Vulnerability--dec2f2f4-0817-4bbb-8141-ae36ab7867d8\", has stix_label \"NA\", has entity_type \"Vulnerability\", has created 2020-01-06T15:39:04, has revoked \"False\", has created_at 2020-01-06T15:39:04, has created_at_day \"2020-01-06\", has created_at_month \"2020-01\", has created_at_year \"2020\", has updated_at 2020-01-06T15:39:04, has name \"CVE-2015-2590__\" , has description \"Unspecified vulnerability in Oracle Java SE 6u95, 7u80, and 8u45, and Java SE Embedded 7u75 and 8u33 allows remote attackers to affect confidentiality, integrity, and availability via unknown vectors related to Libraries, a different vulnerability than CVE-2015-4732.\" ;\n",
      "Insert: CVE-2015-4902\n",
      "insert $x isa Vulnerability, has internal_id_key \"40eb361b-f50d-441c-89d9-b707404785b9\", has stix_id_key \"Vulnerability--04232ed1-da6e-44dc-8e37-61d20c17cbf5\", has stix_label \"NA\", has entity_type \"Vulnerability\", has created 2020-01-06T15:39:04, has revoked \"False\", has created_at 2020-01-06T15:39:04, has created_at_day \"2020-01-06\", has created_at_month \"2020-01\", has created_at_year \"2020\", has updated_at 2020-01-06T15:39:04, has name \"CVE-2015-4902__\" , has description \"Unspecified vulnerability in Oracle Java SE 6u101, 7u85, and 8u60 allows remote attackers to affect integrity via unknown vectors related to Deployment.\" ;\n",
      "Insert: CVE-2015-3043\n",
      "insert $x isa Vulnerability, has internal_id_key \"9256affa-cb82-4b32-ade7-9cf178022c97\", has stix_id_key \"Vulnerability--471be7df-3d45-4376-8f11-9e771face9e8\", has stix_label \"NA\", has entity_type \"Vulnerability\", has created 2020-01-06T15:39:04, has revoked \"False\", has created_at 2020-01-06T15:39:04, has created_at_day \"2020-01-06\", has created_at_month \"2020-01\", has created_at_year \"2020\", has updated_at 2020-01-06T15:39:04, has name \"CVE-2015-3043__\" , has description \"Adobe Flash Player before 13.0.0.281 and 14.x through 17.x before 17.0.0.169 on Windows and OS X and before 11.2.202.457 on Linux allows attackers to execute arbitrary code \n",
      "or cause a denial of service (memory corruption) via unspecified vectors, as exploited in the wild in April 2015, a different vulnerability thanCVE-2015-0347, CVE-2015-0350, CVE-2015-0352, CVE-2015-0353, CVE-2015-0354, CVE-2015-0355, CVE-2015-0360, CVE-2015-3038, CVE-2015-3041, and CVE-2015-3042.\" ;\n",
      "Insert: CVE-2015-5119\n",
      "insert $x isa Vulnerability, has internal_id_key \"ddbe78eb-9eac-4355-8141-36750503e9ff\", has stix_id_key \"Vulnerability--4a8b5b09-c275-4310-a8cf-4195165a1c78\", has stix_label \"NA\", has entity_type \"Vulnerability\", has created 2020-01-06T15:39:04, has revoked \"False\", has created_at 2020-01-06T15:39:04, has created_at_day \"2020-01-06\", has created_at_month \"2020-01\", has created_at_year \"2020\", has updated_at 2020-01-06T15:39:04, has name \"CVE-2015-5119__\" , has description \"Use-after-free vulnerability in the ByteArray class in the ActionScript 3 (AS3) implementation in Adobe Flash Player 13.x through 13.0.0.296 and 14.x through 18.0.0.194 on Windows and OS X and 11.x through 11.2.202.468 on Linux allows remote attackers to execute arbitrary code or cause a denial of service (memory corruption) via crafted Flash content that overrides a valueOf function, as exploited in the wild in July 2015.\" ;\n",
      "Insert: CVE-2015-7645\n",
      "insert $x isa Vulnerability, has internal_id_key \"36188b89-1cef-46e8-847d-1910b26fde93\", has stix_id_key \"Vulnerability--cdb01d68-59e4-40d3-987a-eaf3b3da37e4\", has stix_label \"NA\", has entity_type \"Vulnerability\", has created 2020-01-06T15:39:04, has revoked \"False\", has created_at 2020-01-06T15:39:04, has created_at_day \"2020-01-06\", has created_at_month \"2020-01\", has created_at_year \"2020\", has updated_at 2020-01-06T15:39:04, has name \"CVE-2015-7645__\" , has description \"Adobe Flash Player 18.x through 18.0.0.252 and 19.x through 19.0.0.207 on Windows and OS X and 11.x through 11.2.202.535 on Linux allows remote attackers to execute arbitrary code via a crafted SWF file, as exploited in the wild in October 2015.\" ;\n",
      "Update: CVE-2015-5119\n",
      "0\n",
      "match $i isa Vulnerability , has name \"CVE-2015-5119__\"; insert $i  has description \"Use-after-free vulnerability in the ByteArray class in the ActionScript 3 (AS3) implementation in Adobe Flash Player 13.x through 13.0.0.296 and 14.x through 18.0.0.194 on Windows and OS X and 11.x through 11.2.202.468 on Linux allows remote attackers to execute arbitrary code or cause a denial of service (memory corruption) via crafted Flash content that overrides a valueOf function, as exploited in the wild in July 2015.\" ;\n",
      "Insert: CVE-2016-0984\n"
     ]
    },
    {
     "name": "stdout",
     "output_type": "stream",
     "text": [
      "insert $x isa Vulnerability, has internal_id_key \"8dc8b25c-c087-4c50-8fcf-cfff50dfd4a5\", has stix_id_key \"Vulnerability--1a0f15b9-3046-451c-856a-b10e3da5a80c\", has stix_label \"NA\", has entity_type \"Vulnerability\", has created 2020-01-06T15:39:04, has revoked \"False\", has created_at 2020-01-06T15:39:04, has created_at_day \"2020-01-06\", has created_at_month \"2020-01\", has created_at_year \"2020\", has updated_at 2020-01-06T15:39:04, has name \"CVE-2016-0984__\" , has description \"Use-after-free vulnerability in Adobe Flash Player before 18.0.0.329 and 19.x and 20.x before 20.0.0.306 on Windows and OS X and before 11.2.202.569 on Linux, Adobe AIR before 20.0.0.260, Adobe AIR SDK before 20.0.0.260, and Adobe AIR SDK & Compiler before 20.0.0.260 allows attackers to execute arbitrary code via unspecified vectors, a different vulnerability than CVE-2016-0973, CVE-2016-0974, CVE-2016-0975, CVE-2016-0982, and CVE-2016-0983.\" ;\n",
      "Insert: CVE-2016-4117\n",
      "insert $x isa Vulnerability, has internal_id_key \"dd3d62a6-6340-4849-a10d-37403e696b1b\", has stix_id_key \"Vulnerability--223a5b3c-9c42-4d91-9b57-b779db009a8b\", has stix_label \"NA\", has entity_type \"Vulnerability\", has created 2020-01-06T15:39:04, has revoked \"False\", has created_at 2020-01-06T15:39:04, has created_at_day \"2020-01-06\", has created_at_month \"2020-01\", has created_at_year \"2020\", has updated_at 2020-01-06T15:39:04, has name \"CVE-2016-4117__\" , has description \"Adobe Flash Player 21.0.0.226 and earlier allows remote attackers to execute arbitrary code via unspecified vectors, as exploited in the wild in May 2016.\" ;\n",
      "Insert: CVE-2017-8759\n",
      "insert $x isa Vulnerability, has internal_id_key \"77928fbf-beb3-4292-8740-146162e7537c\", has stix_id_key \"Vulnerability--d39f1ec8-a914-41c5-8ec6-e0ab577572a6\", has stix_label \"NA\", has entity_type \"Vulnerability\", has created 2020-01-06T15:39:04, has revoked \"False\", has created_at 2020-01-06T15:39:04, has created_at_day \"2020-01-06\", has created_at_month \"2020-01\", has created_at_year \"2020\", has updated_at 2020-01-06T15:39:04, has name \"CVE-2017-8759__\" , has description \"Microsoft .NET Framework 2.0, 3.5, 3.5.1, 4.5.2, 4.6, 4.6.1, 4.6.2 and 4.7 allow an attacker to execute code remotely via a malicious document or application, aka .NET Framework Remote Code Execution Vulnerability.\" ;\n",
      "Insert: CVE-2017-11292\n",
      "insert $x isa Vulnerability, has internal_id_key \"70797c3f-6405-405b-932e-be957900707e\", has stix_id_key \"Vulnerability--dd3a1521-fd52-4183-b75c-8284d96feaf6\", has stix_label \"NA\", has entity_type \"Vulnerability\", has created 2020-01-06T15:39:04, has revoked \"False\", has created_at 2020-01-06T15:39:04, has created_at_day \"2020-01-06\", has created_at_month \"2020-01\", has created_at_year \"2020\", has updated_at 2020-01-06T15:39:04, has name \"CVE-2017-11292__\" , has description \"Adobe Flash Player version 27.0.0.159 and earlier has a flawed bytecode verification procedure, which allows for an untrusted value to be used in the calculation of an array index. This can lead to type confusion, and successful exploitation could lead to arbitrary code execution.\" ;\n",
      "Insert: CVE-2017-0199\n",
      "insert $x isa Vulnerability, has internal_id_key \"62f5570b-7cf9-46f9-8267-3d869f75b25e\", has stix_id_key \"Vulnerability--18b30dc7-e025-4021-9d85-d14b3bdddb03\", has stix_label \"NA\", has entity_type \"Vulnerability\", has created 2020-01-06T15:39:04, has revoked \"False\", has created_at 2020-01-06T15:39:04, has created_at_day \"2020-01-06\", has created_at_month \"2020-01\", has created_at_year \"2020\", has updated_at 2020-01-06T15:39:04, has name \"CVE-2017-0199__\" , has description \"Microsoft Office 2007 SP3, Microsoft Office 2010 SP2, Microsoft Office 2013 SP1, Microsoft Office 2016,\n",
      " Microsoft Windows Vista SP2, Windows Server 2008 SP2, Windows 7 SP1, Windows 8.1 allow remote attackers to execute arbitrary code via a crafted document, aka Microsoft Office/WordPad Remote Code Execution Vulnerability w/Windows API.\" ;\n",
      "Insert: CVE-2017-0199\n",
      "insert $x isa Vulnerability, has internal_id_key \"04e1457a-3b27-41f1-a13d-9ffd60a1c87a\", has stix_id_key \"Vulnerability--3da7f6ea-f97b-4472-b88b-9822f2d03206\", has stix_label \"NA\", has entity_type \"Vulnerability\", has created 2020-01-06T15:39:04, has revoked \"False\", has created_at 2020-01-06T15:39:04, has created_at_day \"2020-01-06\", has created_at_month \"2020-01\", has created_at_year \"2020\", has updated_at 2020-01-06T15:39:04, has name \"CVE-2017-0199__\" , has description \"Microsoft Office 2007 SP3, Microsoft Office 2010 SP2, Microsoft Office 2013 SP1, Microsoft Office 2016,\n",
      " Microsoft Windows Vista SP2, Windows Server 2008 SP2, Windows 7 SP1, Windows 8.1 allow remote attackers to execute arbitrary code via a crafted document, aka Microsoft Office/WordPad Remote Code Execution Vulnerability w/Windows API.\" ;\n",
      "Insert: CVE-2017-8759\n",
      "insert $x isa Vulnerability, has internal_id_key \"11207bf2-242b-40ae-bb16-34ed1fd0dc45\", has stix_id_key \"Vulnerability--13471d4d-7582-4e67-a96c-59d6d2813018\", has stix_label \"NA\", has entity_type \"Vulnerability\", has created 2020-01-06T15:39:04, has revoked \"False\", has created_at 2020-01-06T15:39:04, has created_at_day \"2020-01-06\", has created_at_month \"2020-01\", has created_at_year \"2020\", has updated_at 2020-01-06T15:39:04, has name \"CVE-2017-8759__\" , has description \"Microsoft .NET Framework 2.0, 3.5, 3.5.1, 4.5.2, 4.6, 4.6.1, 4.6.2 and 4.7 allow an attacker to execute code remotely via a malicious document or application, aka .NET Framework Remote Code Execution Vulnerability.\" ;\n",
      "Insert: CVE-2017-11882\n",
      "insert $x isa Vulnerability, has internal_id_key \"dfcb6080-ea28-4a28-973b-1b6af8a7a90e\", has stix_id_key \"Vulnerability--be5e9ce9-b860-4f43-91c6-9bc56081f2f9\", has stix_label \"NA\", has entity_type \"Vulnerability\", has created 2020-01-06T15:39:04, has revoked \"False\", has created_at 2020-01-06T15:39:04, has created_at_day \"2020-01-06\", has created_at_month \"2020-01\", has created_at_year \"2020\", has updated_at 2020-01-06T15:39:04, has name \"CVE-2017-11882__\" , has description \"Microsoft Office 2007 Service Pack 3, Microsoft Office 2010 Service Pack 2, Microsoft Office 2013 Service Pack 1, and Microsoft Office 2016 allow an attacker to run arbitrary code in the context of the current user by failing to properly handle objects in memory, aka Microsoft Office Memory Corruption Vulnerability.\n",
      " This CVE ID is unique from CVE-2017-11884\" ;\n",
      "Insert: CVE-2018-8174\n",
      "insert $x isa Vulnerability, has internal_id_key \"c8c8535c-9c6d-4a2d-8a15-dd1b21c76242\", has stix_id_key \"Vulnerability--7ad8d0cb-e4f5-4788-bbee-c910c61efc19\", has stix_label \"NA\", has entity_type \"Vulnerability\", has created 2020-01-06T15:39:04, has revoked \"False\", has created_at 2020-01-06T15:39:04, has created_at_day \"2020-01-06\", has created_at_month \"2020-01\", has created_at_year \"2020\", has updated_at 2020-01-06T15:39:04, has name \"CVE-2018-8174__\" , has description \"A remote code execution vulnerability exists in the way that the VBScript engine handles objects in memory, aka Windows VBScript Engine Remote Code Execution Vulnerability.\n",
      " This affects Windows 7, Windows Server 2012 R2, Windows RT 8.1, Windows Server 2008, Windows Server 2012, Windows 8.1, Windows Server 2016, Windows Server 2008 R2, Windows 10, Windows 10 Servers.\" ;\n",
      "Insert: CVE-2017-8570\n",
      "insert $x isa Vulnerability, has internal_id_key \"51366a03-1934-4a86-9f41-2835b1264d1c\", has stix_id_key \"Vulnerability--59fe4480-f60f-4c74-9595-34a3ee93497f\", has stix_label \"NA\", has entity_type \"Vulnerability\", has created 2020-01-06T15:39:04, has revoked \"False\", has created_at 2020-01-06T15:39:04, has created_at_day \"2020-01-06\", has created_at_month \"2020-01\", has created_at_year \"2020\", has updated_at 2020-01-06T15:39:04, has name \"CVE-2017-8570__\" , has description \"Microsoft Office allows a remote code execution vulnerability due to the way that it handles objects in memory, aka Microsoft Office Remote Code Execution Vulnerability.\" ;\n",
      "Insert: CVE-2018-0802\n",
      "insert $x isa Vulnerability, has internal_id_key \"e1018361-16d8-45e7-a389-98ce548bcb58\", has stix_id_key \"Vulnerability--0535db2e-5aab-430a-94ea-5c249ad9fa95\", has stix_label \"NA\", has entity_type \"Vulnerability\", has created 2020-01-06T15:39:04, has revoked \"False\", has created_at 2020-01-06T15:39:04, has created_at_day \"2020-01-06\", has created_at_month \"2020-01\", has created_at_year \"2020\", has updated_at 2020-01-06T15:39:04, has name \"CVE-2018-0802__\" , has description \"Equation Editor in Microsoft Office 2007, Microsoft Office 2010, Microsoft Office 2013, and Microsoft Office 2016 allow a remote code execution vulnerability due to the way objects are handled in memory, aka Microsoft Office Memory Corruption Vulnerability.\" ;\n",
      "Update: CVE-2012-0158\n",
      "0\n",
      "match $i isa Vulnerability , has name \"CVE-2012-0158__\"; insert $i  has description \"The (1) ListView, (2) ListView2, (3) TreeView, and (4) TreeView2 ActiveX controls in MSCOMCTL.OCX in the Common Controls in Microsoft Office 2003 SP3, 2007 SP2 and SP3, and 2010 Gold and SP1; Office 2003 Web Components SP3; SQL Server 2000 SP4, 2005 SP4, and 2008 SP2, SP3, and R2; BizTalk Server 2002 SP1; Commerce Server 2002 SP4, 2007 SP2, and 2009 Gold and R2; Visual FoxPro 8.0 SP1 and 9.0 SP2; and Visual Basic 6.0 Runtime allow remote attackers to execute arbitrary code via a crafted (a) web site, (b) Office document, or (c) .rtf file that triggers system state corruption, as exploited in the wild in April 2012, aka MSCOMCTL.OCX RCE Vulnerability.\" ;\n",
      "Insert: CVE-2013-3906\n",
      "insert $x isa Vulnerability, has internal_id_key \"32367c61-0abd-4c2a-81de-97daf8a4e6fd\", has stix_id_key \"Vulnerability--98aa039c-47f1-4eb4-9fc8-30c06bbb87e9\", has stix_label \"NA\", has entity_type \"Vulnerability\", has created 2020-01-06T15:39:04, has revoked \"False\", has created_at 2020-01-06T15:39:04, has created_at_day \"2020-01-06\", has created_at_month \"2020-01\", has created_at_year \"2020\", has updated_at 2020-01-06T15:39:04, has name \"CVE-2013-3906__\" , has description \"GDI+ in Microsoft Windows Vista SP2 and Server 2008 SP2; Office 2003 SP3, 2007 SP3, and 2010 SP1 and SP2; Office Compatibility Pack SP3; and Lync 2010,2010 Attendee, 2013, and Basic 2013 allows remote attackers to execute arbitrary code via a crafted TIFF image, as demonstrated by an image in a Word document, and exploited in the wild in October and November 2013.\" ;\n",
      "Insert: CVE-2014-1761\n",
      "insert $x isa Vulnerability, has internal_id_key \"b043c337-4ac4-46fd-920d-37764e1a44c3\", has stix_id_key \"Vulnerability--a5b9e5b6-ef4b-460e-a7e7-5cdb8f96274e\", has stix_label \"NA\", has entity_type \"Vulnerability\", has created 2020-01-06T15:39:04, has revoked \"False\", has created_at 2020-01-06T15:39:04, has created_at_day \"2020-01-06\", has created_at_month \"2020-01\", has created_at_year \"2020\", has updated_at 2020-01-06T15:39:04, has name \"CVE-2014-1761__\" , has description \"Microsoft Word 2003 SP3, 2007 SP3, 2010 SP1 and SP2, 2013, and 2013 RT; Word Viewer; Office Compatibility Pack SP3; Office for Mac 2011; Word Automation Services on SharePoint Server 2010 SP1 and SP2 and 2013; Office Web Apps 2010 SP1 and SP2; and Office Web Apps Server 2013 allow remote attackers to execute arbitrary code or cause a denial of service (memory corruption) via crafted RTF data, as exploited in the wild in March 2014.\" ;\n"
     ]
    }
   ],
   "source": [
    "build_grakn_graph(input_df=result,keyspace_name='grakn')"
   ]
  },
  {
   "cell_type": "code",
   "execution_count": 122,
   "metadata": {},
   "outputs": [
    {
     "data": {
      "text/plain": [
       "'\\nThe (1) ListView, (2) ListView2, (3) TreeView, and (4) TreeView2 ActiveX controls in MSCOMCTL.OCX in the Common Controls in Microsoft Office 2003 SP3, 2007 SP2 and SP3, and 2010 Gold and SP1; Office 2003 Web Components SP3; SQL Server 2000 SP4, 2005 SP4, and 2008 SP2, SP3, and R2; BizTalk Server 2002 SP1; Commerce Server 2002 SP4, 2007 SP2, and 2009 Gold and R2; Visual FoxPro 8.0 SP1 and 9.0 SP2; and Visual Basic 6.0 Runtime allow remote attackers to execute arbitrary code via a crafted (a) web site, (b) Office document, or (c) .rtf file that triggers system state corruption, as exploited in the wild in April 2012, aka MSCOMCTL.OCX RCE Vulnerability.'"
      ]
     },
     "execution_count": 122,
     "metadata": {},
     "output_type": "execute_result"
    }
   ],
   "source": [
    "result['description'][5].replace('\\\"','')"
   ]
  },
  {
   "cell_type": "code",
   "execution_count": null,
   "metadata": {},
   "outputs": [],
   "source": []
  },
  {
   "cell_type": "code",
   "execution_count": null,
   "metadata": {},
   "outputs": [],
   "source": []
  },
  {
   "cell_type": "code",
   "execution_count": null,
   "metadata": {},
   "outputs": [],
   "source": []
  }
 ],
 "metadata": {
  "kernelspec": {
   "display_name": "Python 3",
   "language": "python",
   "name": "python3"
  },
  "language_info": {
   "codemirror_mode": {
    "name": "ipython",
    "version": 3
   },
   "file_extension": ".py",
   "mimetype": "text/x-python",
   "name": "python",
   "nbconvert_exporter": "python",
   "pygments_lexer": "ipython3",
   "version": "3.7.4"
  }
 },
 "nbformat": 4,
 "nbformat_minor": 2
}
