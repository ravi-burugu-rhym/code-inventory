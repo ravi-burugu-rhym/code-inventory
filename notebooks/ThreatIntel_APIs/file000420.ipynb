{
 "cells": [
  {
   "cell_type": "code",
   "execution_count": 2,
   "metadata": {},
   "outputs": [],
   "source": [
    "import datetime\n",
    "from pycti import OpenCTIApiClient\n",
    "from dateutil.parser import parse\n",
    "import pandas as pd\n",
    "import os\n",
    "import warnings"
   ]
  },
  {
   "cell_type": "code",
   "execution_count": 23,
   "metadata": {},
   "outputs": [
    {
     "name": "stderr",
     "output_type": "stream",
     "text": [
      "INFO:root:Listing Threat-Actors with filters null.\n"
     ]
    }
   ],
   "source": [
    "api_url = \"https://demo.opencti.io\"\n",
    "api_token = \"2b4f29e3-5ea8-4890-8cf5-a76f61f1e2b2\"\n",
    "\n",
    "# OpenCTI initialization\n",
    "opencti_api_client = OpenCTIApiClient(api_url, api_token)"
   ]
  },
  {
   "cell_type": "code",
   "execution_count": 51,
   "metadata": {},
   "outputs": [
    {
     "name": "stderr",
     "output_type": "stream",
     "text": [
      "INFO:root:Listing StixObservables with filters null.\n"
     ]
    },
    {
     "data": {
      "text/plain": [
       "[{'id': 'fc236f15-18fe-4a85-a75f-9f684afe0afb',\n",
       "  'stix_id_key': 'observable--4f914ba3-fbc8-41f6-8bfa-0c5c4dd69caf',\n",
       "  'entity_type': 'ipv4-addr',\n",
       "  'name': '66.79.174.219',\n",
       "  'description': 'IP source of a malicious email',\n",
       "  'observable_value': '66.79.174.219',\n",
       "  'created_at': '2020-05-05T20:29:29.993Z',\n",
       "  'updated_at': '2020-05-05T20:29:29.993Z',\n",
       "  'createdByRef': {'id': 'aa649146-63bd-4bd5-b31c-f5369187dd4b',\n",
       "   'entity_type': 'organization',\n",
       "   'stix_id_key': 'identity--6ee3c152-04d7-418d-9551-8c6a691bbc72',\n",
       "   'stix_label': None,\n",
       "   'name': 'CthulhuSPRL.be',\n",
       "   'alias': [],\n",
       "   'description': '',\n",
       "   'created': '2020-04-30T07:47:52.878Z',\n",
       "   'modified': '2020-04-30T07:47:52.878Z',\n",
       "   'organization_class': None,\n",
       "   'remote_relation_id': 'abe3e45d-e977-55b0-a361-8b4d3883d538'},\n",
       "  'tags': [],\n",
       "  'markingDefinitions': [{'id': '1e0f3cce-c736-4d89-8aa5-9dbfbccf98dd',\n",
       "    'entity_type': 'marking-definition',\n",
       "    'stix_id_key': 'marking-definition--34098fce-860f-48ae-8e50-ebd3cc5e41da',\n",
       "    'definition_type': 'TLP',\n",
       "    'definition': 'TLP:GREEN',\n",
       "    'level': 2,\n",
       "    'color': '#2e7d32',\n",
       "    'created': '2020-04-29T20:59:53.751Z',\n",
       "    'modified': '2020-04-29T20:59:53.751Z',\n",
       "    'remote_relation_id': '42511ef8-d1ad-5d4a-9e59-73ba0595b4b4',\n",
       "    'createdByRef': None}],\n",
       "  'externalReferences': [],\n",
       "  'indicators': [{'id': '11f261db-a8ef-4831-986b-51a8c3cd44ba',\n",
       "    'entity_type': 'indicator',\n",
       "    'stix_id_key': 'indicator--e183bc0e-38d4-445e-aa4a-3a1291f9cac2',\n",
       "    'valid_from': '2014-11-21T09:29:01.000Z',\n",
       "    'valid_until': '2015-11-21T09:29:01.000Z',\n",
       "    'score': 50,\n",
       "    'pattern_type': 'stix',\n",
       "    'indicator_pattern': \"[ipv4-addr:value = '66.79.174.219']\",\n",
       "    'created': '2020-05-03T12:59:50.588Z',\n",
       "    'modified': '2020-05-03T12:59:50.588Z',\n",
       "    'remote_relation_id': '3bf0c86c-73b7-51b0-a39e-5888e0b0bc89',\n",
       "    'createdByRef': None}],\n",
       "  'markingDefinitionsIds': ['1e0f3cce-c736-4d89-8aa5-9dbfbccf98dd'],\n",
       "  'tagsIds': [],\n",
       "  'externalReferencesIds': [],\n",
       "  'indicatorsIds': ['11f261db-a8ef-4831-986b-51a8c3cd44ba']}]"
      ]
     },
     "execution_count": 51,
     "metadata": {},
     "output_type": "execute_result"
    }
   ],
   "source": [
    "opencti_api_client.stix_observable.list(search='fc236f15-18fe-4a85-a75f-9f684afe0afb')"
   ]
  },
  {
   "cell_type": "code",
   "execution_count": 49,
   "metadata": {},
   "outputs": [
    {
     "name": "stderr",
     "output_type": "stream",
     "text": [
      "INFO:root:Listing StixObservables with filters [{\"key\": \"observable_value\", \"values\": [\"phishing@mail.com\"]}].\n"
     ]
    }
   ],
   "source": [
    "observable_ttp1 = opencti_api_client.stix_observable.create(type=\"Email-Address\", observable_value=\"phishing@mail.com\", createIndicator=True)"
   ]
  },
  {
   "cell_type": "code",
   "execution_count": 57,
   "metadata": {},
   "outputs": [
    {
     "name": "stderr",
     "output_type": "stream",
     "text": [
      "INFO:root:Listing StixObservables with filters [{\"key\": \"observable_value\", \"values\": [\"58.246.0.0\"]}].\n",
      "INFO:root:Creating Stix-Observable {58.246.0.0} with indicator at True.\n"
     ]
    }
   ],
   "source": [
    "observable_ttp1 = opencti_api_client.stix_observable.create(type=\"IPv4-Addr\", observable_value='58.246.0.0', createIndicator=True)"
   ]
  },
  {
   "cell_type": "code",
   "execution_count": 3,
   "metadata": {},
   "outputs": [],
   "source": [
    "def threat_group_details(threat_group_name,report_id):\n",
    "    intrusion_set = opencti_api_client.intrusion_set.read(filters=[{\"key\": \"name\", \"values\": [threat_group_name]}])\n",
    "    stix_relations = opencti_api_client.stix_relation.list(fromId=intrusion_set[\"id\"], inferred=True)\n",
    "    all_details=[]\n",
    "    for relation in stix_relations:\n",
    "        details=[relation['from']['id'],relation['id'],relation['to']['id'],relation['from']['name'],relation['relationship_type'],relation['to']['name'],relation['to']['entity_type']]\n",
    "        all_details.append(details)\n",
    "    df_relations=pd.DataFrame(all_details,columns=['from_id','relation_id','to_id','from_name','relation','to_name','to_type'])\n",
    "    \n",
    "    all_id=list(set(df_relations['from_id']))\n",
    "    all_id.extend(set(df_relations['to_id']))\n",
    "    all_id.extend(set(df_relations['relation_id']))\n",
    "    \n",
    "    result =list(map(lambda x:opencti_api_client.report.add_stix_entity(id='3074f086-d500-410b-b7c9-86a4bb17b12d',entity_id =x),all_id))\n",
    "    \n",
    "    return df_relations"
   ]
  },
  {
   "cell_type": "code",
   "execution_count": 4,
   "metadata": {},
   "outputs": [
    {
     "name": "stderr",
     "output_type": "stream",
     "text": [
      "INFO:root:Listing Intrusion-Sets with filters [{\"key\": \"name\", \"values\": [\"Carbanak\"]}].\n",
      "INFO:root:Listing stix_relations with {type: None, from_id: 31439558-cf5c-4827-b60f-bca3da19a426, to_id: None}\n"
     ]
    }
   ],
   "source": [
    "df_relations=threat_group_details('Carbanak')"
   ]
  },
  {
   "cell_type": "code",
   "execution_count": 5,
   "metadata": {},
   "outputs": [
    {
     "data": {
      "text/html": [
       "<div>\n",
       "<style scoped>\n",
       "    .dataframe tbody tr th:only-of-type {\n",
       "        vertical-align: middle;\n",
       "    }\n",
       "\n",
       "    .dataframe tbody tr th {\n",
       "        vertical-align: top;\n",
       "    }\n",
       "\n",
       "    .dataframe thead th {\n",
       "        text-align: right;\n",
       "    }\n",
       "</style>\n",
       "<table border=\"1\" class=\"dataframe\">\n",
       "  <thead>\n",
       "    <tr style=\"text-align: right;\">\n",
       "      <th></th>\n",
       "      <th>from_id</th>\n",
       "      <th>relation_id</th>\n",
       "      <th>to_id</th>\n",
       "      <th>from_name</th>\n",
       "      <th>relation</th>\n",
       "      <th>to_name</th>\n",
       "      <th>to_type</th>\n",
       "    </tr>\n",
       "  </thead>\n",
       "  <tbody>\n",
       "    <tr>\n",
       "      <td>0</td>\n",
       "      <td>31439558-cf5c-4827-b60f-bca3da19a426</td>\n",
       "      <td>ad8a242e-f404-4873-a001-4443ca915d9c</td>\n",
       "      <td>f74bff8b-7621-4813-94b5-c317c0bd5358</td>\n",
       "      <td>Carbanak</td>\n",
       "      <td>uses</td>\n",
       "      <td>Masquerading</td>\n",
       "      <td>attack-pattern</td>\n",
       "    </tr>\n",
       "    <tr>\n",
       "      <td>1</td>\n",
       "      <td>31439558-cf5c-4827-b60f-bca3da19a426</td>\n",
       "      <td>de330995-63e0-4223-a780-679f2c4fa2ca</td>\n",
       "      <td>02286470-03b4-4265-b13b-3b73f5a77065</td>\n",
       "      <td>Carbanak</td>\n",
       "      <td>uses</td>\n",
       "      <td>Valid Accounts</td>\n",
       "      <td>attack-pattern</td>\n",
       "    </tr>\n",
       "    <tr>\n",
       "      <td>2</td>\n",
       "      <td>31439558-cf5c-4827-b60f-bca3da19a426</td>\n",
       "      <td>779d8dc5-5c63-435f-8e43-b949340cb522</td>\n",
       "      <td>a2286881-bcaa-4c9c-8960-246169b8b3d0</td>\n",
       "      <td>Carbanak</td>\n",
       "      <td>uses</td>\n",
       "      <td>Mimikatz</td>\n",
       "      <td>tool</td>\n",
       "    </tr>\n",
       "    <tr>\n",
       "      <td>3</td>\n",
       "      <td>31439558-cf5c-4827-b60f-bca3da19a426</td>\n",
       "      <td>64ff87a5-1067-402e-9402-0ac487c555dd</td>\n",
       "      <td>de3f83d3-4488-4a63-b64c-46e8cb7559c2</td>\n",
       "      <td>Carbanak</td>\n",
       "      <td>uses</td>\n",
       "      <td>New Service</td>\n",
       "      <td>attack-pattern</td>\n",
       "    </tr>\n",
       "    <tr>\n",
       "      <td>4</td>\n",
       "      <td>31439558-cf5c-4827-b60f-bca3da19a426</td>\n",
       "      <td>c57f5f2f-2d2e-4d68-9d3e-4822aea02899</td>\n",
       "      <td>3d5acbd6-257e-4e52-903a-b692dcfe29dd</td>\n",
       "      <td>Carbanak</td>\n",
       "      <td>uses</td>\n",
       "      <td>Carbanak</td>\n",
       "      <td>malware</td>\n",
       "    </tr>\n",
       "    <tr>\n",
       "      <td>5</td>\n",
       "      <td>31439558-cf5c-4827-b60f-bca3da19a426</td>\n",
       "      <td>fde98d27-63db-45bf-8c2a-35f4eaa377a6</td>\n",
       "      <td>d2f203f9-5d49-42ba-a27d-82108676b9b7</td>\n",
       "      <td>Carbanak</td>\n",
       "      <td>uses</td>\n",
       "      <td>netsh</td>\n",
       "      <td>tool</td>\n",
       "    </tr>\n",
       "    <tr>\n",
       "      <td>6</td>\n",
       "      <td>31439558-cf5c-4827-b60f-bca3da19a426</td>\n",
       "      <td>7cdfa2b9-4eab-408b-a0ba-e56c800dbd63</td>\n",
       "      <td>1240e186-1cd9-425e-bdaf-ce71a2d9419a</td>\n",
       "      <td>Carbanak</td>\n",
       "      <td>uses</td>\n",
       "      <td>Web Service</td>\n",
       "      <td>attack-pattern</td>\n",
       "    </tr>\n",
       "  </tbody>\n",
       "</table>\n",
       "</div>"
      ],
      "text/plain": [
       "                                from_id                           relation_id  \\\n",
       "0  31439558-cf5c-4827-b60f-bca3da19a426  ad8a242e-f404-4873-a001-4443ca915d9c   \n",
       "1  31439558-cf5c-4827-b60f-bca3da19a426  de330995-63e0-4223-a780-679f2c4fa2ca   \n",
       "2  31439558-cf5c-4827-b60f-bca3da19a426  779d8dc5-5c63-435f-8e43-b949340cb522   \n",
       "3  31439558-cf5c-4827-b60f-bca3da19a426  64ff87a5-1067-402e-9402-0ac487c555dd   \n",
       "4  31439558-cf5c-4827-b60f-bca3da19a426  c57f5f2f-2d2e-4d68-9d3e-4822aea02899   \n",
       "5  31439558-cf5c-4827-b60f-bca3da19a426  fde98d27-63db-45bf-8c2a-35f4eaa377a6   \n",
       "6  31439558-cf5c-4827-b60f-bca3da19a426  7cdfa2b9-4eab-408b-a0ba-e56c800dbd63   \n",
       "\n",
       "                                  to_id from_name relation         to_name  \\\n",
       "0  f74bff8b-7621-4813-94b5-c317c0bd5358  Carbanak     uses    Masquerading   \n",
       "1  02286470-03b4-4265-b13b-3b73f5a77065  Carbanak     uses  Valid Accounts   \n",
       "2  a2286881-bcaa-4c9c-8960-246169b8b3d0  Carbanak     uses        Mimikatz   \n",
       "3  de3f83d3-4488-4a63-b64c-46e8cb7559c2  Carbanak     uses     New Service   \n",
       "4  3d5acbd6-257e-4e52-903a-b692dcfe29dd  Carbanak     uses        Carbanak   \n",
       "5  d2f203f9-5d49-42ba-a27d-82108676b9b7  Carbanak     uses           netsh   \n",
       "6  1240e186-1cd9-425e-bdaf-ce71a2d9419a  Carbanak     uses     Web Service   \n",
       "\n",
       "          to_type  \n",
       "0  attack-pattern  \n",
       "1  attack-pattern  \n",
       "2            tool  \n",
       "3  attack-pattern  \n",
       "4         malware  \n",
       "5            tool  \n",
       "6  attack-pattern  "
      ]
     },
     "execution_count": 5,
     "metadata": {},
     "output_type": "execute_result"
    }
   ],
   "source": [
    "df_relations"
   ]
  },
  {
   "cell_type": "code",
   "execution_count": 67,
   "metadata": {},
   "outputs": [],
   "source": [
    "a=list(set(df_relations['from_id']))\n",
    "a.extend(set(df_relations['to_id']))\n",
    "a.extend(set(df_relations['relation_id']))"
   ]
  },
  {
   "cell_type": "code",
   "execution_count": 72,
   "metadata": {},
   "outputs": [
    {
     "name": "stderr",
     "output_type": "stream",
     "text": [
      "INFO:root:Checking Stix-Entity {93dd15f3-e4be-4bde-ab5a-ec74ceb467b6} in Report {3074f086-d500-410b-b7c9-86a4bb17b12d}\n",
      "INFO:root:Adding Stix-Entity {93dd15f3-e4be-4bde-ab5a-ec74ceb467b6} to Report {3074f086-d500-410b-b7c9-86a4bb17b12d}\n",
      "INFO:root:Checking Stix-Entity {fbf93253-1bac-4f23-88e1-d91e35e357a0} in Report {3074f086-d500-410b-b7c9-86a4bb17b12d}\n",
      "INFO:root:Adding Stix-Entity {fbf93253-1bac-4f23-88e1-d91e35e357a0} to Report {3074f086-d500-410b-b7c9-86a4bb17b12d}\n",
      "INFO:root:Checking Stix-Entity {fe57226d-e1a0-441c-9c7e-f6fa252b6d13} in Report {3074f086-d500-410b-b7c9-86a4bb17b12d}\n",
      "INFO:root:Adding Stix-Entity {fe57226d-e1a0-441c-9c7e-f6fa252b6d13} to Report {3074f086-d500-410b-b7c9-86a4bb17b12d}\n",
      "INFO:root:Checking Stix-Entity {52e3b617-23e3-477a-a38e-9174e895a071} in Report {3074f086-d500-410b-b7c9-86a4bb17b12d}\n",
      "INFO:root:Adding Stix-Entity {52e3b617-23e3-477a-a38e-9174e895a071} to Report {3074f086-d500-410b-b7c9-86a4bb17b12d}\n",
      "INFO:root:Checking Stix-Entity {92d06189-7d26-4f53-99f6-9846ea69c788} in Report {3074f086-d500-410b-b7c9-86a4bb17b12d}\n",
      "INFO:root:Adding Stix-Entity {92d06189-7d26-4f53-99f6-9846ea69c788} to Report {3074f086-d500-410b-b7c9-86a4bb17b12d}\n",
      "INFO:root:Checking Stix-Entity {18aa2d81-0c49-4e5b-83e9-3263c252b300} in Report {3074f086-d500-410b-b7c9-86a4bb17b12d}\n",
      "INFO:root:Adding Stix-Entity {18aa2d81-0c49-4e5b-83e9-3263c252b300} to Report {3074f086-d500-410b-b7c9-86a4bb17b12d}\n",
      "INFO:root:Checking Stix-Entity {2f0fa741-84d2-44e0-ba2c-3dbcad937f9a} in Report {3074f086-d500-410b-b7c9-86a4bb17b12d}\n",
      "INFO:root:Adding Stix-Entity {2f0fa741-84d2-44e0-ba2c-3dbcad937f9a} to Report {3074f086-d500-410b-b7c9-86a4bb17b12d}\n",
      "INFO:root:Checking Stix-Entity {383e3a2a-8916-47af-b686-d1f073fa78d6} in Report {3074f086-d500-410b-b7c9-86a4bb17b12d}\n",
      "INFO:root:Adding Stix-Entity {383e3a2a-8916-47af-b686-d1f073fa78d6} to Report {3074f086-d500-410b-b7c9-86a4bb17b12d}\n",
      "INFO:root:Checking Stix-Entity {fae6deb6-2db7-49da-80d4-2153ace32fac} in Report {3074f086-d500-410b-b7c9-86a4bb17b12d}\n",
      "INFO:root:Adding Stix-Entity {fae6deb6-2db7-49da-80d4-2153ace32fac} to Report {3074f086-d500-410b-b7c9-86a4bb17b12d}\n",
      "INFO:root:Checking Stix-Entity {accdbe37-da03-42da-b482-5a5752f096fe} in Report {3074f086-d500-410b-b7c9-86a4bb17b12d}\n",
      "INFO:root:Adding Stix-Entity {accdbe37-da03-42da-b482-5a5752f096fe} to Report {3074f086-d500-410b-b7c9-86a4bb17b12d}\n",
      "INFO:root:Checking Stix-Entity {3b78960c-b31e-4635-b8f0-792fe05ac1ae} in Report {3074f086-d500-410b-b7c9-86a4bb17b12d}\n",
      "INFO:root:Adding Stix-Entity {3b78960c-b31e-4635-b8f0-792fe05ac1ae} to Report {3074f086-d500-410b-b7c9-86a4bb17b12d}\n",
      "INFO:root:Checking Stix-Entity {8c9dab6d-08a5-4a85-95a7-0e2ae8968cc5} in Report {3074f086-d500-410b-b7c9-86a4bb17b12d}\n",
      "INFO:root:Adding Stix-Entity {8c9dab6d-08a5-4a85-95a7-0e2ae8968cc5} to Report {3074f086-d500-410b-b7c9-86a4bb17b12d}\n",
      "INFO:root:Checking Stix-Entity {ca3eec51-30ee-4d77-9624-e28b077b2571} in Report {3074f086-d500-410b-b7c9-86a4bb17b12d}\n",
      "INFO:root:Adding Stix-Entity {ca3eec51-30ee-4d77-9624-e28b077b2571} to Report {3074f086-d500-410b-b7c9-86a4bb17b12d}\n",
      "INFO:root:Checking Stix-Entity {5557c50b-247a-4256-94d9-b024ce29645c} in Report {3074f086-d500-410b-b7c9-86a4bb17b12d}\n",
      "INFO:root:Adding Stix-Entity {5557c50b-247a-4256-94d9-b024ce29645c} to Report {3074f086-d500-410b-b7c9-86a4bb17b12d}\n",
      "INFO:root:Checking Stix-Entity {4c7240d2-ada2-4ecb-b9ee-7dba26d88b28} in Report {3074f086-d500-410b-b7c9-86a4bb17b12d}\n",
      "INFO:root:Adding Stix-Entity {4c7240d2-ada2-4ecb-b9ee-7dba26d88b28} to Report {3074f086-d500-410b-b7c9-86a4bb17b12d}\n",
      "INFO:root:Checking Stix-Entity {e8c674ac-9128-402d-a549-59f24ba71810} in Report {3074f086-d500-410b-b7c9-86a4bb17b12d}\n",
      "INFO:root:Adding Stix-Entity {e8c674ac-9128-402d-a549-59f24ba71810} to Report {3074f086-d500-410b-b7c9-86a4bb17b12d}\n",
      "INFO:root:Checking Stix-Entity {f802d182-5042-4368-bfbf-0882c62562e4} in Report {3074f086-d500-410b-b7c9-86a4bb17b12d}\n",
      "INFO:root:Adding Stix-Entity {f802d182-5042-4368-bfbf-0882c62562e4} to Report {3074f086-d500-410b-b7c9-86a4bb17b12d}\n",
      "INFO:root:Checking Stix-Entity {8f50cf62-26f4-467e-a1a1-926771341fda} in Report {3074f086-d500-410b-b7c9-86a4bb17b12d}\n",
      "INFO:root:Adding Stix-Entity {8f50cf62-26f4-467e-a1a1-926771341fda} to Report {3074f086-d500-410b-b7c9-86a4bb17b12d}\n",
      "INFO:root:Checking Stix-Entity {4a320475-73c3-4f56-b99c-bfdc7b650fdb} in Report {3074f086-d500-410b-b7c9-86a4bb17b12d}\n",
      "INFO:root:Adding Stix-Entity {4a320475-73c3-4f56-b99c-bfdc7b650fdb} to Report {3074f086-d500-410b-b7c9-86a4bb17b12d}\n",
      "INFO:root:Checking Stix-Entity {79ec85f6-33dd-4468-a09b-b23f74c1643e} in Report {3074f086-d500-410b-b7c9-86a4bb17b12d}\n",
      "INFO:root:Adding Stix-Entity {79ec85f6-33dd-4468-a09b-b23f74c1643e} to Report {3074f086-d500-410b-b7c9-86a4bb17b12d}\n",
      "INFO:root:Checking Stix-Entity {c82ecf70-91a9-467d-ac1e-a997ac0df817} in Report {3074f086-d500-410b-b7c9-86a4bb17b12d}\n",
      "INFO:root:Adding Stix-Entity {c82ecf70-91a9-467d-ac1e-a997ac0df817} to Report {3074f086-d500-410b-b7c9-86a4bb17b12d}\n",
      "INFO:root:Checking Stix-Entity {1b53e90f-0b9d-4526-b92d-e511f3855fe8} in Report {3074f086-d500-410b-b7c9-86a4bb17b12d}\n",
      "INFO:root:Adding Stix-Entity {1b53e90f-0b9d-4526-b92d-e511f3855fe8} to Report {3074f086-d500-410b-b7c9-86a4bb17b12d}\n",
      "INFO:root:Checking Stix-Entity {b554b650-2931-4518-bb57-8e64933d0688} in Report {3074f086-d500-410b-b7c9-86a4bb17b12d}\n",
      "INFO:root:Adding Stix-Entity {b554b650-2931-4518-bb57-8e64933d0688} to Report {3074f086-d500-410b-b7c9-86a4bb17b12d}\n",
      "INFO:root:Checking Stix-Entity {d2873c4f-7a19-40cb-ac08-b22277339f24} in Report {3074f086-d500-410b-b7c9-86a4bb17b12d}\n",
      "INFO:root:Adding Stix-Entity {d2873c4f-7a19-40cb-ac08-b22277339f24} to Report {3074f086-d500-410b-b7c9-86a4bb17b12d}\n",
      "INFO:root:Checking Stix-Entity {684283d2-6175-4929-8e4a-4b2d8a6d62b7} in Report {3074f086-d500-410b-b7c9-86a4bb17b12d}\n",
      "INFO:root:Adding Stix-Entity {684283d2-6175-4929-8e4a-4b2d8a6d62b7} to Report {3074f086-d500-410b-b7c9-86a4bb17b12d}\n",
      "INFO:root:Checking Stix-Entity {a2286881-bcaa-4c9c-8960-246169b8b3d0} in Report {3074f086-d500-410b-b7c9-86a4bb17b12d}\n",
      "INFO:root:Adding Stix-Entity {a2286881-bcaa-4c9c-8960-246169b8b3d0} to Report {3074f086-d500-410b-b7c9-86a4bb17b12d}\n",
      "INFO:root:Checking Stix-Entity {559a5a60-f343-4748-bef0-3e0d416a3a92} in Report {3074f086-d500-410b-b7c9-86a4bb17b12d}\n",
      "INFO:root:Adding Stix-Entity {559a5a60-f343-4748-bef0-3e0d416a3a92} to Report {3074f086-d500-410b-b7c9-86a4bb17b12d}\n",
      "INFO:root:Checking Stix-Entity {4d041957-55ff-46e7-9e5a-0a62e5d79c4f} in Report {3074f086-d500-410b-b7c9-86a4bb17b12d}\n",
      "INFO:root:Adding Stix-Entity {4d041957-55ff-46e7-9e5a-0a62e5d79c4f} to Report {3074f086-d500-410b-b7c9-86a4bb17b12d}\n",
      "INFO:root:Checking Stix-Entity {930075d5-1d50-47da-87c1-bd257e69c320} in Report {3074f086-d500-410b-b7c9-86a4bb17b12d}\n",
      "INFO:root:Adding Stix-Entity {930075d5-1d50-47da-87c1-bd257e69c320} to Report {3074f086-d500-410b-b7c9-86a4bb17b12d}\n",
      "INFO:root:Checking Stix-Entity {29bae9a4-283f-4b05-8f08-04075d542b69} in Report {3074f086-d500-410b-b7c9-86a4bb17b12d}\n",
      "INFO:root:Adding Stix-Entity {29bae9a4-283f-4b05-8f08-04075d542b69} to Report {3074f086-d500-410b-b7c9-86a4bb17b12d}\n",
      "INFO:root:Checking Stix-Entity {ebc6e64b-f067-4ba3-8845-7c0aebeb0f5d} in Report {3074f086-d500-410b-b7c9-86a4bb17b12d}\n",
      "INFO:root:Adding Stix-Entity {ebc6e64b-f067-4ba3-8845-7c0aebeb0f5d} to Report {3074f086-d500-410b-b7c9-86a4bb17b12d}\n",
      "INFO:root:Checking Stix-Entity {440684d0-9dc3-4460-b501-33e9e4eb9f7f} in Report {3074f086-d500-410b-b7c9-86a4bb17b12d}\n",
      "INFO:root:Adding Stix-Entity {440684d0-9dc3-4460-b501-33e9e4eb9f7f} to Report {3074f086-d500-410b-b7c9-86a4bb17b12d}\n",
      "INFO:root:Checking Stix-Entity {6f4e6c01-81e8-43d7-a480-0c18b52a9347} in Report {3074f086-d500-410b-b7c9-86a4bb17b12d}\n",
      "INFO:root:Adding Stix-Entity {6f4e6c01-81e8-43d7-a480-0c18b52a9347} to Report {3074f086-d500-410b-b7c9-86a4bb17b12d}\n",
      "INFO:root:Checking Stix-Entity {dbde2ea9-b817-4427-9909-fbc1359bd3ab} in Report {3074f086-d500-410b-b7c9-86a4bb17b12d}\n",
      "INFO:root:Adding Stix-Entity {dbde2ea9-b817-4427-9909-fbc1359bd3ab} to Report {3074f086-d500-410b-b7c9-86a4bb17b12d}\n",
      "INFO:root:Checking Stix-Entity {53bffe6c-9bd4-485f-be07-409d43e50bff} in Report {3074f086-d500-410b-b7c9-86a4bb17b12d}\n",
      "INFO:root:Adding Stix-Entity {53bffe6c-9bd4-485f-be07-409d43e50bff} to Report {3074f086-d500-410b-b7c9-86a4bb17b12d}\n"
     ]
    },
    {
     "name": "stderr",
     "output_type": "stream",
     "text": [
      "INFO:root:Checking Stix-Entity {f16ec627-9c46-4f97-8fc2-e3539570a0fa} in Report {3074f086-d500-410b-b7c9-86a4bb17b12d}\n",
      "INFO:root:Adding Stix-Entity {f16ec627-9c46-4f97-8fc2-e3539570a0fa} to Report {3074f086-d500-410b-b7c9-86a4bb17b12d}\n",
      "INFO:root:Checking Stix-Entity {556e5140-5054-4950-a2f8-392303d0d903} in Report {3074f086-d500-410b-b7c9-86a4bb17b12d}\n",
      "INFO:root:Adding Stix-Entity {556e5140-5054-4950-a2f8-392303d0d903} to Report {3074f086-d500-410b-b7c9-86a4bb17b12d}\n",
      "INFO:root:Checking Stix-Entity {89f4f431-d956-4db6-b02a-87c7eea968f5} in Report {3074f086-d500-410b-b7c9-86a4bb17b12d}\n",
      "INFO:root:Adding Stix-Entity {89f4f431-d956-4db6-b02a-87c7eea968f5} to Report {3074f086-d500-410b-b7c9-86a4bb17b12d}\n",
      "INFO:root:Checking Stix-Entity {15c1d1c9-31ed-4fc5-a07d-ca1207190bff} in Report {3074f086-d500-410b-b7c9-86a4bb17b12d}\n",
      "INFO:root:Adding Stix-Entity {15c1d1c9-31ed-4fc5-a07d-ca1207190bff} to Report {3074f086-d500-410b-b7c9-86a4bb17b12d}\n",
      "INFO:root:Checking Stix-Entity {eb45747d-91fe-4f93-a05d-fbefb2095252} in Report {3074f086-d500-410b-b7c9-86a4bb17b12d}\n",
      "INFO:root:Adding Stix-Entity {eb45747d-91fe-4f93-a05d-fbefb2095252} to Report {3074f086-d500-410b-b7c9-86a4bb17b12d}\n",
      "INFO:root:Checking Stix-Entity {3eb56dbb-4c05-4904-bb68-013c16960218} in Report {3074f086-d500-410b-b7c9-86a4bb17b12d}\n",
      "INFO:root:Adding Stix-Entity {3eb56dbb-4c05-4904-bb68-013c16960218} to Report {3074f086-d500-410b-b7c9-86a4bb17b12d}\n",
      "INFO:root:Checking Stix-Entity {0a4b870a-3e59-463a-b6e9-64bed39caf66} in Report {3074f086-d500-410b-b7c9-86a4bb17b12d}\n",
      "INFO:root:Adding Stix-Entity {0a4b870a-3e59-463a-b6e9-64bed39caf66} to Report {3074f086-d500-410b-b7c9-86a4bb17b12d}\n",
      "INFO:root:Checking Stix-Entity {862eb46e-0081-472e-a32d-2981fd200a1e} in Report {3074f086-d500-410b-b7c9-86a4bb17b12d}\n",
      "INFO:root:Adding Stix-Entity {862eb46e-0081-472e-a32d-2981fd200a1e} to Report {3074f086-d500-410b-b7c9-86a4bb17b12d}\n",
      "INFO:root:Checking Stix-Entity {1dccb199-640a-4eac-bf50-bd599f1a79cc} in Report {3074f086-d500-410b-b7c9-86a4bb17b12d}\n",
      "INFO:root:Adding Stix-Entity {1dccb199-640a-4eac-bf50-bd599f1a79cc} to Report {3074f086-d500-410b-b7c9-86a4bb17b12d}\n",
      "INFO:root:Checking Stix-Entity {46ee318a-6b62-4e29-afd8-b4b215fe5b03} in Report {3074f086-d500-410b-b7c9-86a4bb17b12d}\n",
      "INFO:root:Adding Stix-Entity {46ee318a-6b62-4e29-afd8-b4b215fe5b03} to Report {3074f086-d500-410b-b7c9-86a4bb17b12d}\n",
      "INFO:root:Checking Stix-Entity {531cb7e2-3166-4eea-8d17-6a4da100b3db} in Report {3074f086-d500-410b-b7c9-86a4bb17b12d}\n",
      "INFO:root:Adding Stix-Entity {531cb7e2-3166-4eea-8d17-6a4da100b3db} to Report {3074f086-d500-410b-b7c9-86a4bb17b12d}\n",
      "INFO:root:Checking Stix-Entity {64bd99f1-f7a7-483f-8f37-d3225827b097} in Report {3074f086-d500-410b-b7c9-86a4bb17b12d}\n",
      "INFO:root:Adding Stix-Entity {64bd99f1-f7a7-483f-8f37-d3225827b097} to Report {3074f086-d500-410b-b7c9-86a4bb17b12d}\n",
      "INFO:root:Checking Stix-Entity {5a6493f5-3fa3-4280-a6ad-658b9b0187b0} in Report {3074f086-d500-410b-b7c9-86a4bb17b12d}\n",
      "INFO:root:Adding Stix-Entity {5a6493f5-3fa3-4280-a6ad-658b9b0187b0} to Report {3074f086-d500-410b-b7c9-86a4bb17b12d}\n",
      "INFO:root:Checking Stix-Entity {32f5889b-b0ba-4fb7-ab9d-12a9c4297b56} in Report {3074f086-d500-410b-b7c9-86a4bb17b12d}\n",
      "INFO:root:Adding Stix-Entity {32f5889b-b0ba-4fb7-ab9d-12a9c4297b56} to Report {3074f086-d500-410b-b7c9-86a4bb17b12d}\n",
      "INFO:root:Checking Stix-Entity {6fcd3356-a543-4479-b56f-d2133cf316fe} in Report {3074f086-d500-410b-b7c9-86a4bb17b12d}\n",
      "INFO:root:Adding Stix-Entity {6fcd3356-a543-4479-b56f-d2133cf316fe} to Report {3074f086-d500-410b-b7c9-86a4bb17b12d}\n",
      "INFO:root:Checking Stix-Entity {4cb4e80e-2d1c-4f5c-8b29-017b19a81c5b} in Report {3074f086-d500-410b-b7c9-86a4bb17b12d}\n",
      "INFO:root:Adding Stix-Entity {4cb4e80e-2d1c-4f5c-8b29-017b19a81c5b} to Report {3074f086-d500-410b-b7c9-86a4bb17b12d}\n",
      "INFO:root:Checking Stix-Entity {c2c833e8-46ec-4a17-8a14-94e3bc79ba9d} in Report {3074f086-d500-410b-b7c9-86a4bb17b12d}\n",
      "INFO:root:Adding Stix-Entity {c2c833e8-46ec-4a17-8a14-94e3bc79ba9d} to Report {3074f086-d500-410b-b7c9-86a4bb17b12d}\n",
      "INFO:root:Checking Stix-Entity {e8965e70-85a3-4695-a21b-d700ab317649} in Report {3074f086-d500-410b-b7c9-86a4bb17b12d}\n",
      "INFO:root:Adding Stix-Entity {e8965e70-85a3-4695-a21b-d700ab317649} to Report {3074f086-d500-410b-b7c9-86a4bb17b12d}\n",
      "INFO:root:Checking Stix-Entity {01835b08-cf89-49ef-8626-ca362ad536b8} in Report {3074f086-d500-410b-b7c9-86a4bb17b12d}\n",
      "INFO:root:Adding Stix-Entity {01835b08-cf89-49ef-8626-ca362ad536b8} to Report {3074f086-d500-410b-b7c9-86a4bb17b12d}\n",
      "INFO:root:Checking Stix-Entity {a510d593-0ae1-4719-b134-c9db6daaae8c} in Report {3074f086-d500-410b-b7c9-86a4bb17b12d}\n",
      "INFO:root:Adding Stix-Entity {a510d593-0ae1-4719-b134-c9db6daaae8c} to Report {3074f086-d500-410b-b7c9-86a4bb17b12d}\n",
      "INFO:root:Checking Stix-Entity {a751cead-b493-4f5e-ab5c-6408dab236d4} in Report {3074f086-d500-410b-b7c9-86a4bb17b12d}\n",
      "INFO:root:Adding Stix-Entity {a751cead-b493-4f5e-ab5c-6408dab236d4} to Report {3074f086-d500-410b-b7c9-86a4bb17b12d}\n",
      "INFO:root:Checking Stix-Entity {3398bf63-c962-4871-86c7-78c40ba484b3} in Report {3074f086-d500-410b-b7c9-86a4bb17b12d}\n",
      "INFO:root:Adding Stix-Entity {3398bf63-c962-4871-86c7-78c40ba484b3} to Report {3074f086-d500-410b-b7c9-86a4bb17b12d}\n",
      "INFO:root:Checking Stix-Entity {0e4e585f-9333-46bd-87d7-221e832ff4d0} in Report {3074f086-d500-410b-b7c9-86a4bb17b12d}\n",
      "INFO:root:Adding Stix-Entity {0e4e585f-9333-46bd-87d7-221e832ff4d0} to Report {3074f086-d500-410b-b7c9-86a4bb17b12d}\n",
      "INFO:root:Checking Stix-Entity {c2685e64-ac9a-43fb-b78a-d9569f04d569} in Report {3074f086-d500-410b-b7c9-86a4bb17b12d}\n",
      "INFO:root:Adding Stix-Entity {c2685e64-ac9a-43fb-b78a-d9569f04d569} to Report {3074f086-d500-410b-b7c9-86a4bb17b12d}\n",
      "INFO:root:Checking Stix-Entity {973f1346-7d97-44f9-8918-fcbde5a16a64} in Report {3074f086-d500-410b-b7c9-86a4bb17b12d}\n",
      "INFO:root:Adding Stix-Entity {973f1346-7d97-44f9-8918-fcbde5a16a64} to Report {3074f086-d500-410b-b7c9-86a4bb17b12d}\n",
      "INFO:root:Checking Stix-Entity {e3a04944-d277-4e4f-95ed-b15b9bec6b4b} in Report {3074f086-d500-410b-b7c9-86a4bb17b12d}\n",
      "INFO:root:Adding Stix-Entity {e3a04944-d277-4e4f-95ed-b15b9bec6b4b} to Report {3074f086-d500-410b-b7c9-86a4bb17b12d}\n",
      "INFO:root:Checking Stix-Entity {45c95f6f-5c52-48a5-a4e1-a4fe389019b8} in Report {3074f086-d500-410b-b7c9-86a4bb17b12d}\n",
      "INFO:root:Adding Stix-Entity {45c95f6f-5c52-48a5-a4e1-a4fe389019b8} to Report {3074f086-d500-410b-b7c9-86a4bb17b12d}\n",
      "INFO:root:Checking Stix-Entity {4d54bf46-0bc2-4970-bc0d-b02382eb088b} in Report {3074f086-d500-410b-b7c9-86a4bb17b12d}\n",
      "INFO:root:Adding Stix-Entity {4d54bf46-0bc2-4970-bc0d-b02382eb088b} to Report {3074f086-d500-410b-b7c9-86a4bb17b12d}\n",
      "INFO:root:Checking Stix-Entity {4f3b6fdf-4a88-4614-8f45-3d0103bc9e75} in Report {3074f086-d500-410b-b7c9-86a4bb17b12d}\n",
      "INFO:root:Adding Stix-Entity {4f3b6fdf-4a88-4614-8f45-3d0103bc9e75} to Report {3074f086-d500-410b-b7c9-86a4bb17b12d}\n",
      "INFO:root:Checking Stix-Entity {824ed282-0c38-434a-bbd8-b7e3def95364} in Report {3074f086-d500-410b-b7c9-86a4bb17b12d}\n",
      "INFO:root:Adding Stix-Entity {824ed282-0c38-434a-bbd8-b7e3def95364} to Report {3074f086-d500-410b-b7c9-86a4bb17b12d}\n"
     ]
    }
   ],
   "source": [
    "result =list(map(lambda x:opencti_api_client.report.add_stix_entity(id='3074f086-d500-410b-b7c9-86a4bb17b12d',entity_id =x),a))"
   ]
  },
  {
   "cell_type": "code",
   "execution_count": 70,
   "metadata": {},
   "outputs": [
    {
     "name": "stdout",
     "output_type": "stream",
     "text": [
      "<map object at 0x000001839EBF8708>\n"
     ]
    }
   ],
   "source": [
    "l = ['sat', 'bat', 'cat', 'mat'] \n",
    "  \n",
    "# map() can listify the list of strings individually \n",
    "test = map(list, l)\n",
    "print(test) "
   ]
  },
  {
   "cell_type": "code",
   "execution_count": 71,
   "metadata": {},
   "outputs": [
    {
     "name": "stdout",
     "output_type": "stream",
     "text": [
      "[5, 7, 9]\n"
     ]
    }
   ],
   "source": [
    "numbers1 = [1, 2, 3] \n",
    "numbers2 = [4, 5, 6] \n",
    "  \n",
    "result = map(lambda x, y: x + y, numbers1, numbers2) \n",
    "print(list(result))"
   ]
  },
  {
   "cell_type": "code",
   "execution_count": null,
   "metadata": {},
   "outputs": [],
   "source": []
  }
 ],
 "metadata": {
  "kernelspec": {
   "display_name": "Python 3",
   "language": "python",
   "name": "python3"
  },
  "language_info": {
   "codemirror_mode": {
    "name": "ipython",
    "version": 3
   },
   "file_extension": ".py",
   "mimetype": "text/x-python",
   "name": "python",
   "nbconvert_exporter": "python",
   "pygments_lexer": "ipython3",
   "version": "3.7.4"
  }
 },
 "nbformat": 4,
 "nbformat_minor": 2
}
