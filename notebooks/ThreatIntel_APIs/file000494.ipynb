{
 "cells": [
  {
   "cell_type": "code",
   "execution_count": 84,
   "metadata": {},
   "outputs": [
    {
     "name": "stderr",
     "output_type": "stream",
     "text": [
      "INFO:root:Listing Threat-Actors with filters null.\n"
     ]
    }
   ],
   "source": [
    "import datetime\n",
    "from dateutil.parser import parse\n",
    "from pycti import OpenCTIApiClient\n",
    "\n",
    "# Variables\n",
    "api_url = \"http://192.168.83.128:8080\"\n",
    "api_token = \"19e0c1db-0d35-4585-8255-7894837e0c85\"\n",
    "opencti_api_client = OpenCTIApiClient(api_url, api_token)\n"
   ]
  },
  {
   "cell_type": "code",
   "execution_count": 2,
   "metadata": {},
   "outputs": [
    {
     "name": "stderr",
     "output_type": "stream",
     "text": [
      "INFO:root:Listing Intrusion-Sets with filters null.\n"
     ]
    }
   ],
   "source": [
    "all_int = opencti_api_client.intrusion_set.list(getAll=True)"
   ]
  },
  {
   "cell_type": "code",
   "execution_count": 3,
   "metadata": {},
   "outputs": [
    {
     "name": "stderr",
     "output_type": "stream",
     "text": [
      "INFO:root:Listing Malwares with filters null.\n"
     ]
    }
   ],
   "source": [
    "all_mal = opencti_api_client.malware.list(getAll=True)"
   ]
  },
  {
   "cell_type": "code",
   "execution_count": 8,
   "metadata": {},
   "outputs": [
    {
     "name": "stderr",
     "output_type": "stream",
     "text": [
      "INFO:root:Listing Intrusion-Sets with filters [{\"key\": \"name\", \"values\": \"Cobalt Group\"}].\n",
      "INFO:root:Listing Malwares with filters [{\"key\": \"name\", \"values\": \"More_eggs\"}].\n"
     ]
    }
   ],
   "source": [
    "intrusion= opencti_api_client.intrusion_set.read(filters=[{'key': 'name', 'values': 'Cobalt Group'}])\n",
    "mal= opencti_api_client.malware.read(filters=[{'key': 'name', 'values': 'More_eggs'}])"
   ]
  },
  {
   "cell_type": "code",
   "execution_count": 10,
   "metadata": {},
   "outputs": [
    {
     "name": "stderr",
     "output_type": "stream",
     "text": [
      "INFO:root:Listing stix_relations with {type: uses, from_id: 59c74ae1-17be-4482-99d6-a7994e1230a3, to_id: 836d81d1-ae98-43f6-816f-3a87748893e1}\n",
      "INFO:root:Creating stix_relation {user: 59c74ae1-17be-4482-99d6-a7994e1230a3, usage: 836d81d1-ae98-43f6-816f-3a87748893e1}.\n"
     ]
    }
   ],
   "source": [
    "date =datetime.date.today().strftime(\"%Y-%m-%dT%H:%M:%S+00:00\")\n",
    "\n",
    "relation = opencti_api_client.stix_relation.create(\n",
    "    fromType=\"Intrusion-Set\",\n",
    "    fromId=intrusion[\"id\"],\n",
    "    toType=\"Malware\",\n",
    "    toId=mal[\"id\"],\n",
    "    relationship_type=\"uses\",\n",
    "    first_seen=date,\n",
    "    last_seen=date,\n",
    "    description=\"cobalt group uses more_eggs malware\",\n",
    ")"
   ]
  },
  {
   "cell_type": "code",
   "execution_count": 80,
   "metadata": {
    "scrolled": true
   },
   "outputs": [
    {
     "name": "stderr",
     "output_type": "stream",
     "text": [
      "INFO:root:Listing StixObservables with filters [{\"key\": \"name\", \"values\": \"Cobalt Group\"}].\n",
      "INFO:root:{\"errors\":[{\"message\":\"An unknown error has occurred!  Please try again later.\",\"name\":\"Unknown\",\"time_thrown\":\"2020-01-24T13:08:39.228Z\",\"data\":{\"type\":\"technical\",\"level\":\"error\"}}]}\n",
      "\n"
     ]
    },
    {
     "ename": "TypeError",
     "evalue": "'NoneType' object is not subscriptable",
     "output_type": "error",
     "traceback": [
      "\u001b[1;31m---------------------------------------------------------------------------\u001b[0m",
      "\u001b[1;31mTypeError\u001b[0m                                 Traceback (most recent call last)",
      "\u001b[1;32m<ipython-input-80-6911ac4c0489>\u001b[0m in \u001b[0;36m<module>\u001b[1;34m\u001b[0m\n\u001b[1;32m----> 1\u001b[1;33m \u001b[0mopencti_api_client\u001b[0m\u001b[1;33m.\u001b[0m\u001b[0mstix_observable\u001b[0m \u001b[1;33m.\u001b[0m\u001b[0mread\u001b[0m\u001b[1;33m(\u001b[0m\u001b[0mfilters\u001b[0m\u001b[1;33m=\u001b[0m\u001b[1;33m[\u001b[0m\u001b[1;33m{\u001b[0m\u001b[1;34m'key'\u001b[0m\u001b[1;33m:\u001b[0m \u001b[1;34m'name'\u001b[0m\u001b[1;33m,\u001b[0m \u001b[1;34m'values'\u001b[0m\u001b[1;33m:\u001b[0m \u001b[1;34m'Cobalt Group'\u001b[0m\u001b[1;33m}\u001b[0m\u001b[1;33m]\u001b[0m\u001b[1;33m)\u001b[0m\u001b[1;33m\u001b[0m\u001b[1;33m\u001b[0m\u001b[0m\n\u001b[0m",
      "\u001b[1;32mC:\\ProgramData\\Anaconda3\\lib\\site-packages\\pycti\\entities\\opencti_stix_observable.py\u001b[0m in \u001b[0;36mread\u001b[1;34m(self, **kwargs)\u001b[0m\n\u001b[0;32m    153\u001b[0m             \u001b[1;32mreturn\u001b[0m \u001b[0mself\u001b[0m\u001b[1;33m.\u001b[0m\u001b[0mopencti\u001b[0m\u001b[1;33m.\u001b[0m\u001b[0mprocess_multiple_fields\u001b[0m\u001b[1;33m(\u001b[0m\u001b[0mresult\u001b[0m\u001b[1;33m[\u001b[0m\u001b[1;34m'data'\u001b[0m\u001b[1;33m]\u001b[0m\u001b[1;33m[\u001b[0m\u001b[1;34m'stixObservable'\u001b[0m\u001b[1;33m]\u001b[0m\u001b[1;33m)\u001b[0m\u001b[1;33m\u001b[0m\u001b[1;33m\u001b[0m\u001b[0m\n\u001b[0;32m    154\u001b[0m         \u001b[1;32melif\u001b[0m \u001b[0mfilters\u001b[0m \u001b[1;32mis\u001b[0m \u001b[1;32mnot\u001b[0m \u001b[1;32mNone\u001b[0m\u001b[1;33m:\u001b[0m\u001b[1;33m\u001b[0m\u001b[1;33m\u001b[0m\u001b[0m\n\u001b[1;32m--> 155\u001b[1;33m             \u001b[0mresult\u001b[0m \u001b[1;33m=\u001b[0m \u001b[0mself\u001b[0m\u001b[1;33m.\u001b[0m\u001b[0mlist\u001b[0m\u001b[1;33m(\u001b[0m\u001b[0mfilters\u001b[0m\u001b[1;33m=\u001b[0m\u001b[0mfilters\u001b[0m\u001b[1;33m)\u001b[0m\u001b[1;33m\u001b[0m\u001b[1;33m\u001b[0m\u001b[0m\n\u001b[0m\u001b[0;32m    156\u001b[0m             \u001b[1;32mif\u001b[0m \u001b[0mlen\u001b[0m\u001b[1;33m(\u001b[0m\u001b[0mresult\u001b[0m\u001b[1;33m)\u001b[0m \u001b[1;33m>\u001b[0m \u001b[1;36m0\u001b[0m\u001b[1;33m:\u001b[0m\u001b[1;33m\u001b[0m\u001b[1;33m\u001b[0m\u001b[0m\n\u001b[0;32m    157\u001b[0m                 \u001b[1;32mreturn\u001b[0m \u001b[0mresult\u001b[0m\u001b[1;33m[\u001b[0m\u001b[1;36m0\u001b[0m\u001b[1;33m]\u001b[0m\u001b[1;33m\u001b[0m\u001b[1;33m\u001b[0m\u001b[0m\n",
      "\u001b[1;32mC:\\ProgramData\\Anaconda3\\lib\\site-packages\\pycti\\entities\\opencti_stix_observable.py\u001b[0m in \u001b[0;36mlist\u001b[1;34m(self, **kwargs)\u001b[0m\n\u001b[0;32m    128\u001b[0m         result = self.opencti.query(query, {'filters': filters, 'search': search, 'first': first, 'after': after,\n\u001b[0;32m    129\u001b[0m                                             'orderBy': order_by, 'orderMode': order_mode})\n\u001b[1;32m--> 130\u001b[1;33m         \u001b[1;32mreturn\u001b[0m \u001b[0mself\u001b[0m\u001b[1;33m.\u001b[0m\u001b[0mopencti\u001b[0m\u001b[1;33m.\u001b[0m\u001b[0mprocess_multiple\u001b[0m\u001b[1;33m(\u001b[0m\u001b[0mresult\u001b[0m\u001b[1;33m[\u001b[0m\u001b[1;34m'data'\u001b[0m\u001b[1;33m]\u001b[0m\u001b[1;33m[\u001b[0m\u001b[1;34m'stixObservables'\u001b[0m\u001b[1;33m]\u001b[0m\u001b[1;33m)\u001b[0m\u001b[1;33m\u001b[0m\u001b[1;33m\u001b[0m\u001b[0m\n\u001b[0m\u001b[0;32m    131\u001b[0m \u001b[1;33m\u001b[0m\u001b[0m\n\u001b[0;32m    132\u001b[0m     \"\"\"\n",
      "\u001b[1;31mTypeError\u001b[0m: 'NoneType' object is not subscriptable"
     ]
    }
   ],
   "source": [
    "opencti_api_client.stix_observable .read(filters=[{'key': 'name', 'values': 'Cobalt Group'}])"
   ]
  },
  {
   "cell_type": "code",
   "execution_count": 27,
   "metadata": {},
   "outputs": [
    {
     "name": "stderr",
     "output_type": "stream",
     "text": [
      "INFO:root:Listing Incidents with filters null.\n"
     ]
    }
   ],
   "source": [
    "r=opencti_api_client.report.\n"
   ]
  },
  {
   "cell_type": "code",
   "execution_count": 85,
   "metadata": {},
   "outputs": [
    {
     "name": "stderr",
     "output_type": "stream",
     "text": [
      "INFO:root:Listing StixObservables with filters null.\n"
     ]
    }
   ],
   "source": [
    "r=opencti_api_client.stix_observable.list(first=10)"
   ]
  },
  {
   "cell_type": "code",
   "execution_count": 88,
   "metadata": {},
   "outputs": [
    {
     "data": {
      "text/plain": [
       "{'id': '6c7fd92e-dc9c-4a5a-9263-101702c34314',\n",
       " 'stix_id_key': 'observable--e58cfe49-dd6d-43f8-8464-7242a60bf099',\n",
       " 'entity_type': 'registry-key',\n",
       " 'name': '',\n",
       " 'description': None,\n",
       " 'observable_value': 'Disk security',\n",
       " 'created_at': '2020-01-22T10:57:55.374Z',\n",
       " 'updated_at': '2020-01-22T10:57:55.374Z',\n",
       " 'createdByRef': None,\n",
       " 'markingDefinitions': [],\n",
       " 'externalReferences': [],\n",
       " 'indicators': [{'id': 'ff1e0fed-83ed-4df4-8206-748ede844a20',\n",
       "   'entity_type': 'indicator',\n",
       "   'stix_id_key': 'indicator--d7c61764-568c-4934-983c-cea4112f4134',\n",
       "   'valid_from': '2020-01-22T10:57:56.200Z',\n",
       "   'valid_until': '2021-01-21T10:57:56.200Z',\n",
       "   'score': 50,\n",
       "   'pattern_type': 'stix',\n",
       "   'indicator_pattern': \"[windows-registry-key:key = 'Disk security']\",\n",
       "   'created': '2020-01-22T10:57:56.201Z',\n",
       "   'modified': '2020-01-22T10:57:56.201Z',\n",
       "   'remote_relation_id': '7d940d72-3bb0-4185-8207-38170ab52c20',\n",
       "   'createdByRef': None}],\n",
       " 'markingDefinitionsIds': [],\n",
       " 'externalReferencesIds': [],\n",
       " 'indicatorsIds': []}"
      ]
     },
     "execution_count": 88,
     "metadata": {},
     "output_type": "execute_result"
    }
   ],
   "source": [
    "r[0]"
   ]
  },
  {
   "cell_type": "code",
   "execution_count": 59,
   "metadata": {},
   "outputs": [
    {
     "name": "stderr",
     "output_type": "stream",
     "text": [
      "INFO:root:Listing Intrusion-Sets with filters [{\"key\": \"name\", \"values\": \"Strider\"}].\n"
     ]
    }
   ],
   "source": [
    "i=opencti_api_client.intrusion_set.list(filters=[{'key': 'name', 'values': 'Strider'}])"
   ]
  },
  {
   "cell_type": "code",
   "execution_count": 60,
   "metadata": {
    "scrolled": false
   },
   "outputs": [
    {
     "data": {
      "text/plain": [
       "{'id': '05e8b358-53c6-4504-a6c1-ed0f815c1445',\n",
       " 'stix_id_key': 'intrusion-set--277d2f87-2ae5-4730-a3aa-50c1fdff9656',\n",
       " 'stix_label': None,\n",
       " 'entity_type': 'intrusion-set',\n",
       " 'parent_types': ['Intrusion-Set', 'Stix-Domain-Entity', 'Stix-Domain'],\n",
       " 'name': 'Strider',\n",
       " 'alias': ['Strider', 'ProjectSauron'],\n",
       " 'description': '[Strider](https://attack.mitre.org/groups/G0041) is a threat group that has been active since at least 2011 and has targeted victims in Russia, China, Sweden, Belgium, Iran, and Rwanda. (Citation: Symantec Strider Blog) (Citation: Kaspersky ProjectSauron Blog)',\n",
       " 'graph_data': None,\n",
       " 'first_seen': '2020-01-22T13:34:30.234Z',\n",
       " 'last_seen': '2020-01-22T13:34:30.234Z',\n",
       " 'goal': None,\n",
       " 'sophistication': None,\n",
       " 'resource_level': None,\n",
       " 'primary_motivation': None,\n",
       " 'secondary_motivation': None,\n",
       " 'created': '2017-05-31T21:32:07.541Z',\n",
       " 'modified': '2019-03-25T16:59:10.789Z',\n",
       " 'created_at': '2020-01-22T13:34:30.234Z',\n",
       " 'updated_at': '2020-01-22T13:34:30.234Z',\n",
       " 'createdByRef': {'id': '666af43f-e50d-4fbb-98ed-e1387229ffb0',\n",
       "  'entity_type': 'organization',\n",
       "  'stix_id_key': 'identity--c78cb6e5-0c4b-4611-8297-d1b8b55e40b5',\n",
       "  'stix_label': None,\n",
       "  'name': 'The MITRE Corporation',\n",
       "  'alias': [''],\n",
       "  'description': '',\n",
       "  'created': '2017-06-01T00:00:00.000Z',\n",
       "  'modified': '2017-06-01T00:00:00.000Z',\n",
       "  'remote_relation_id': '05c892b2-f798-4d3b-9747-76b55724d938'},\n",
       " 'markingDefinitions': [{'id': '964ca071-e5e8-489a-abb3-7ebbe07d00d9',\n",
       "   'entity_type': 'marking-definition',\n",
       "   'stix_id_key': 'marking-definition--fa42a846-8d90-4e51-bc29-71d5b4802168',\n",
       "   'definition_type': 'statement',\n",
       "   'definition': 'Copyright 2017, The MITRE Corporation',\n",
       "   'level': 0,\n",
       "   'color': None,\n",
       "   'created': '2017-06-01T00:00:00.000Z',\n",
       "   'modified': '2020-01-22T12:04:05.991Z',\n",
       "   'remote_relation_id': '62d2b585-1f08-4389-b479-0a6e376f2e94',\n",
       "   'createdByRef': None}],\n",
       " 'tags': [],\n",
       " 'externalReferences': [{'id': 'd686f83a-9cb2-40ae-8d35-6902f1d794e4',\n",
       "   'entity_type': 'external-reference',\n",
       "   'stix_id_key': 'external-reference--882852c9-c78c-4a80-a0ad-9c92b9662055',\n",
       "   'source_name': 'mitre-attack',\n",
       "   'description': None,\n",
       "   'url': 'https://attack.mitre.org/groups/G0041',\n",
       "   'hash': None,\n",
       "   'external_id': 'G0041',\n",
       "   'created': '2020-01-22T13:34:22.195Z',\n",
       "   'modified': '2020-01-22T13:34:22.195Z',\n",
       "   'remote_relation_id': 'a58e0b02-8e8b-420b-aa72-be89019db1a6',\n",
       "   'createdByRef': None},\n",
       "  {'id': '210a6244-f3c0-4488-96ef-69233869c8c6',\n",
       "   'entity_type': 'external-reference',\n",
       "   'stix_id_key': 'external-reference--87e2851a-cc6f-4d92-a9c1-4ccab5b9799e',\n",
       "   'source_name': 'Kaspersky ProjectSauron Blog',\n",
       "   'description': \"Kaspersky Lab's Global Research & Analysis Team. (2016, August 8). ProjectSauron: top level cyber-espionage platform covertly extracts encrypted government comms. Retrieved August 17, 2016.\",\n",
       "   'url': 'https://securelist.com/faq-the-projectsauron-apt/75533/',\n",
       "   'hash': None,\n",
       "   'external_id': None,\n",
       "   'created': '2020-01-22T13:34:26.070Z',\n",
       "   'modified': '2020-01-22T13:34:26.070Z',\n",
       "   'remote_relation_id': 'abea66bb-29bc-48d5-b4c2-3d94316519ed',\n",
       "   'createdByRef': None},\n",
       "  {'id': '1be0669a-b0e9-41e7-bfcc-9b4c6ff7764f',\n",
       "   'entity_type': 'external-reference',\n",
       "   'stix_id_key': 'external-reference--f8641cf1-e6fa-4c81-858e-6a786e3188d9',\n",
       "   'source_name': 'Kaspersky ProjectSauron Full Report',\n",
       "   'description': \"Kaspersky Lab's Global Research & Analysis Team. (2016, August 9). The ProjectSauron APT. Retrieved August 17, 2016.\",\n",
       "   'url': 'https://securelist.com/files/2016/07/The-ProjectSauron-APT_research_KL.pdf',\n",
       "   'hash': None,\n",
       "   'external_id': None,\n",
       "   'created': '2020-01-22T13:34:28.186Z',\n",
       "   'modified': '2020-01-22T13:34:28.186Z',\n",
       "   'remote_relation_id': 'b05dc2bc-d4cc-41c6-aa5c-a6028a78f27b',\n",
       "   'createdByRef': None},\n",
       "  {'id': '886db407-e42b-4124-9e1b-9e00c29cde17',\n",
       "   'entity_type': 'external-reference',\n",
       "   'stix_id_key': 'external-reference--e4ef88d0-c2bc-429a-aa23-da082fce7294',\n",
       "   'source_name': 'Symantec Strider Blog',\n",
       "   'description': 'Symantec Security Response. (2016, August 7). Strider: Cyberespionage group turns eye of Sauron on targets. Retrieved August 17, 2016.',\n",
       "   'url': 'http://www.symantec.com/connect/blogs/strider-cyberespionage-group-turns-eye-sauron-targets',\n",
       "   'hash': None,\n",
       "   'external_id': None,\n",
       "   'created': '2020-01-22T13:34:24.164Z',\n",
       "   'modified': '2020-01-22T13:34:24.164Z',\n",
       "   'remote_relation_id': '31db5387-aff1-41e0-ab18-3e1892b78d2a',\n",
       "   'createdByRef': None}],\n",
       " 'markingDefinitionsIds': [],\n",
       " 'tagsIds': [],\n",
       " 'externalReferencesIds': []}"
      ]
     },
     "execution_count": 60,
     "metadata": {},
     "output_type": "execute_result"
    }
   ],
   "source": [
    "i[0]"
   ]
  },
  {
   "cell_type": "code",
   "execution_count": 58,
   "metadata": {},
   "outputs": [
    {
     "name": "stderr",
     "output_type": "stream",
     "text": [
      "INFO:root:Listing Reports with filters [{\"key\": \"name\", \"values\": [\"My new report of my organization\"]}, {\"key\": \"published_day\", \"values\": [\"2020-01-24\"]}].\n",
      "INFO:root:Creating Report {My new report of my organization}.\n"
     ]
    }
   ],
   "source": [
    "report = opencti_api_client.report.create(\n",
    "    name=\"My new report of my organization\",\n",
    "    description=\"A report wrote by my organization\",\n",
    "    published=date,\n",
    "    report_class=\"Internal Report\",\n",
    "    objectRefs = [{'stix_id_key': 'intrusion-set--277d2f87-2ae5-4730-a3aa-50c1fdff9656',\n",
    "                   'entity_type': 'intrusion-set',\n",
    "                   'createdByRef': None}]\n",
    "\n",
    ")"
   ]
  },
  {
   "cell_type": "code",
   "execution_count": 66,
   "metadata": {},
   "outputs": [
    {
     "name": "stderr",
     "output_type": "stream",
     "text": [
      "INFO:root:Listing Reports with filters [{\"key\": \"name\", \"values\": \"My new report of my organization\"}].\n"
     ]
    }
   ],
   "source": [
    "new=opencti_api_client.report.list(filters=[{'key': 'name', 'values': 'My new report of my organization'}])"
   ]
  },
  {
   "cell_type": "code",
   "execution_count": 87,
   "metadata": {},
   "outputs": [
    {
     "name": "stderr",
     "output_type": "stream",
     "text": [
      "INFO:root:Reading Report {f1ca7fac-be23-4e13-b321-c58d6af23dea}.\n",
      "ERROR:root:[opencti_report] Cannot add Object Ref, report not found\n"
     ]
    },
    {
     "data": {
      "text/plain": [
       "False"
      ]
     },
     "execution_count": 87,
     "metadata": {},
     "output_type": "execute_result"
    }
   ],
   "source": [
    "opencti_api_client.report.add_stix_entity(id='f1ca7fac-be23-4e13-b321-c58d6af23dea', entity_id='4dcb0bf6-013d-43e3-8a85-dc0f2877b482')"
   ]
  },
  {
   "cell_type": "code",
   "execution_count": 67,
   "metadata": {},
   "outputs": [
    {
     "data": {
      "text/plain": [
       "[{'id': 'f1ca7fac-be23-4e13-b321-c58d6af23dea',\n",
       "  'stix_id_key': 'report--5e4ce807-a147-4580-81c3-8d51883c4dfa',\n",
       "  'entity_type': 'report',\n",
       "  'stix_label': None,\n",
       "  'name': 'My new report of my organization',\n",
       "  'alias': [''],\n",
       "  'description': 'A report wrote by my organization',\n",
       "  'report_class': 'Internal Report',\n",
       "  'published': '2020-01-24T00:00:00.000Z',\n",
       "  'object_status': None,\n",
       "  'source_confidence_level': None,\n",
       "  'graph_data': 'eyJub2RlcyI6eyIwNWU4YjM1OC01M2M2LTQ1MDQtYTZjMS1lZDBmODE1YzE0NDUiOnsicG9zaXRpb24iOnsieCI6MCwieSI6MH19fSwiem9vbSI6MTAwLCJvZmZzZXRYIjowLCJvZmZzZXRZIjowfQ==',\n",
       "  'created': '2020-01-24T11:03:49.239Z',\n",
       "  'modified': '2020-01-24T12:48:27.627Z',\n",
       "  'created_at': '2020-01-24T11:03:49.239Z',\n",
       "  'updated_at': '2020-01-24T12:48:27.627Z',\n",
       "  'createdByRef': None,\n",
       "  'markingDefinitions': [],\n",
       "  'tags': [],\n",
       "  'externalReferences': [],\n",
       "  'objectRefs': [{'id': '05e8b358-53c6-4504-a6c1-ed0f815c1445',\n",
       "    'stix_id_key': 'intrusion-set--277d2f87-2ae5-4730-a3aa-50c1fdff9656',\n",
       "    'entity_type': 'intrusion-set',\n",
       "    'remote_relation_id': '9e912165-6f65-42b7-89f6-e5c50c8d2471',\n",
       "    'createdByRef': None}],\n",
       "  'observableRefs': [],\n",
       "  'relationRefs': [],\n",
       "  'markingDefinitionsIds': [],\n",
       "  'tagsIds': [],\n",
       "  'externalReferencesIds': [],\n",
       "  'objectRefsIds': [],\n",
       "  'observableRefsIds': [],\n",
       "  'relationRefsIds': []}]"
      ]
     },
     "execution_count": 67,
     "metadata": {},
     "output_type": "execute_result"
    }
   ],
   "source": [
    "new"
   ]
  },
  {
   "cell_type": "code",
   "execution_count": null,
   "metadata": {},
   "outputs": [],
   "source": [
    "    "
   ]
  }
 ],
 "metadata": {
  "kernelspec": {
   "display_name": "Python 3",
   "language": "python",
   "name": "python3"
  },
  "language_info": {
   "codemirror_mode": {
    "name": "ipython",
    "version": 3
   },
   "file_extension": ".py",
   "mimetype": "text/x-python",
   "name": "python",
   "nbconvert_exporter": "python",
   "pygments_lexer": "ipython3",
   "version": "3.7.4"
  }
 },
 "nbformat": 4,
 "nbformat_minor": 2
}
