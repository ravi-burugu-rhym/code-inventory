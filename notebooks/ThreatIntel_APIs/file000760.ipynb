{
 "cells": [
  {
   "cell_type": "code",
   "execution_count": 1,
   "metadata": {},
   "outputs": [],
   "source": [
    "import datetime\n",
    "from pycti import OpenCTIApiClient\n",
    "from dateutil.parser import parse\n",
    "import pandas as pd\n",
    "import os\n",
    "import warnings"
   ]
  },
  {
   "cell_type": "code",
   "execution_count": 5,
   "metadata": {},
   "outputs": [
    {
     "name": "stderr",
     "output_type": "stream",
     "text": [
      "INFO:root:Listing Threat-Actors with filters null.\n"
     ]
    }
   ],
   "source": [
    "api_url = \"https://demo.opencti.io\"\n",
    "api_token = \"609caced-7610-4c84-80b4-f3a380d1939b\"\n",
    "\n",
    "# OpenCTI initialization\n",
    "opencti_api_client = OpenCTIApiClient(api_url, api_token)\n"
   ]
  },
  {
   "cell_type": "code",
   "execution_count": 73,
   "metadata": {},
   "outputs": [],
   "source": [
    "class entity_insertion:\n",
    "    \n",
    "   \n",
    "        \n",
    "\n",
    "    def __init__(self,report_path,stix_domain= dict()):\n",
    "    \n",
    "        self.report_path = report_path\n",
    "        self.stix_domain = stix_domain\n",
    "        \n",
    "        \n",
    "        \n",
    "    \n",
    "    def add_mark_def(self,row,stix_id):\n",
    "        mark      =row['marking_definitions']\n",
    "        all_marks =opencti_api_client.marking_definition.list()\n",
    "        for i in all_marks:\n",
    "            if mark in i['definition'].lower():\n",
    "                mark_code= i['id']\n",
    "                opencti_api_client.stix_entity.add_marking_definition(id=stix_id,marking_definition_id=mark_code)  \n",
    "     \n",
    "    def create_threat_actor(self,by,report):\n",
    "            \n",
    "            threat_actor_details = pd.read_excel(self.report_path,sheet_name = 'threat_actor')\n",
    "            threat_actor_details = threat_actor_details.where(threat_actor_details.notnull(), None)\n",
    "            \n",
    "            for index,row in threat_actor_details.iterrows():\n",
    "            \n",
    "                \n",
    "                if row['alias'] is not None:\n",
    "                    aliases =row['alias'].split(',')\n",
    "                else:\n",
    "                    aliases = None\n",
    "                    \n",
    "                \n",
    "                threat_actor = opencti_api_client.threat_actor.create(\n",
    "                                                name = row['name'].strip(),\n",
    "                                                description = row['description'],\n",
    "                                                alias = aliases ,\n",
    "                                                goal = row['goal'] ,\n",
    "                                                sophistication = row['sophistication'] ,\n",
    "                                                resource_level = row['resource_level'] ,\n",
    "                                                primary_motivation = row['primary_motivation'] ,\n",
    "                                                secondary_motivation = row['secondary_motivation'] ,\n",
    "                                                personal_motivation = row['personal_motivation'] ,\n",
    "                                                modified = datetime.date.today().strftime(\"%Y-%m-%dT%H:%M:%S+00:00\") ,\n",
    "                                                createdByRef = by,\n",
    "                                                update = False\n",
    "                                                 )\n",
    "                    \n",
    "                if row['marking_definitions'] is not None:\n",
    "                        self.add_mark_def(stix_id=threat_actor['id'],row=row)\n",
    "                        \n",
    "                opencti_api_client.report.add_stix_entity(id=report,entity_id = threat_actor['id'] )       \n",
    "                self.stix_domain.update ({row['name'].strip() : threat_actor['id']})\n",
    "                        \n",
    "    def create_attack_pattern(self,by,report):           #attack_pattern insertion    \n",
    "            \n",
    "            attack_pattern_details = pd.read_excel(self.report_path,sheet_name = 'attack_pattern')\n",
    "            attack_pattern_details = attack_pattern_details.where(attack_pattern_details.notnull(), None)\n",
    "            \n",
    "            for index,row in attack_pattern_details.iterrows():\n",
    "            \n",
    "                if row['alias'] is not None:\n",
    "                    aliases =row['alias'].split(',')\n",
    "                else:\n",
    "                    aliases = None\n",
    "                    \n",
    "                if row['platform'] is not None:\n",
    "                    platforms =row['platform'].split(',')\n",
    "                else:\n",
    "                    platforms = None\n",
    "                    \n",
    "                print(row['required_permission'])   \n",
    "                \n",
    "                exist = opencti_api_client.attack_pattern.list ( filters=[{'key' : 'name' , 'values' : row['name']}])\n",
    "\n",
    "                \n",
    "                if (len(exist) == 0):\n",
    "                    attack_pattern = opencti_api_client.attack_pattern.create(\n",
    "                                                name = row['name'].strip(),\n",
    "                                                description = row['description'],\n",
    "                                                alias = aliases,\n",
    "                                                platform  = platforms ,\n",
    "                                                required_permission = row['required_permission'] ,\n",
    "                                                external_id  = row['external_id'] ,\n",
    "                                                modified = datetime.date.today().strftime(\"%Y-%m-%dT%H:%M:%S+00:00\") ,\n",
    "                                                createdByRef = by,\n",
    "                                                )\n",
    "                else:\n",
    "                     attack_pattern = opencti_api_client.attack_pattern.create(\n",
    "                                                name = row['name'],\n",
    "                                                description = row['description'],\n",
    "                                                alias = aliases ,\n",
    "                                                platform  = platforms ,\n",
    "                                                required_permission = row['required_permission'] ,\n",
    "                                                external_id  = row['external_id'] ,\n",
    "                                                modified = datetime.date.today().strftime(\"%Y-%m-%dT%H:%M:%S+00:00\") ,\n",
    "                                                update = True,\n",
    "                                                \n",
    "                                                 )\n",
    "                if row['marking_definitions'] is not None:\n",
    "                        self.add_mark_def(stix_id=attack_pattern['id'],row=row)\n",
    "                        \n",
    "                        \n",
    "                opencti_api_client.report.add_stix_entity(id=report,entity_id = attack_pattern['id'] )  \n",
    "                self.stix_domain.update ({row['name'].strip() : attack_pattern['id']})      \n",
    "                        \n",
    "    def create_malware(self,by,report):           #malware insertion    \n",
    "            \n",
    "            malware_details = pd.read_excel(self.report_path,sheet_name = 'malware')\n",
    "            malware_details = malware_details.where(malware_details.notnull(), None)\n",
    "            \n",
    "            for index,row in malware_details.iterrows():\n",
    "            \n",
    "                if row['alias'] is not None:\n",
    "                    aliases =row['alias'].split(',')\n",
    "                    print(aliases)\n",
    "                else:\n",
    "                    aliases = None\n",
    "                \n",
    "                exist = opencti_api_client.malware.list ( filters=[{'key' : 'name' , 'values' : row['name']}])\n",
    "            \n",
    "                if (len(exist) == 0):\n",
    "                    malware = opencti_api_client.malware.create(\n",
    "                                                name = row['name'].strip(),\n",
    "                                                description = row['description'],\n",
    "                                                alias = aliases ,\n",
    "                                                modified = datetime.date.today().strftime(\"%Y-%m-%dT%H:%M:%S+00:00\") ,\n",
    "                                                createdByRef = by,\n",
    "                                                )\n",
    "                else:\n",
    "                     malware = opencti_api_client.malware.create(\n",
    "                                                name = row['name'].strip(),\n",
    "                                                description = row['description'],\n",
    "                                                alias = aliases ,\n",
    "                                                modified = datetime.date.today().strftime(\"%Y-%m-%dT%H:%M:%S+00:00\") ,\n",
    "                                                update = True,\n",
    "                                                 )\n",
    "                if row['marking_definitions'] is not None:\n",
    "                        self.add_mark_def(stix_id=malware['id'],row=row)\n",
    "                        \n",
    "                opencti_api_client.report.add_stix_entity(id=report,entity_id = malware['id'] )\n",
    "                self.stix_domain.update ({row['name'].strip() : malware['id']}) \n",
    "                \n",
    "    def create_tool(self,by,report):           #malware insertion    \n",
    "            \n",
    "            tool_details = pd.read_excel(self.report_path,sheet_name = 'tool')\n",
    "            tool_details = tool_details.where(tool_details.notnull(), None)\n",
    "            \n",
    "            for index,row in tool_details.iterrows():\n",
    "            \n",
    "                if row['alias'] is not None:\n",
    "                    aliases =row['alias'].split(',')\n",
    "                    print(aliases)\n",
    "                else:\n",
    "                    aliases = None\n",
    "                \n",
    "                exist = opencti_api_client.tool.list ( filters=[{'key' : 'name' , 'values' : row['name']}])\n",
    "            \n",
    "                if (len(exist) == 0):\n",
    "                    tool = opencti_api_client.tool.create(\n",
    "                                                name = row['name'].strip(),\n",
    "                                                description = row['description'],\n",
    "                                                alias = aliases ,\n",
    "                                                modified = datetime.date.today().strftime(\"%Y-%m-%dT%H:%M:%S+00:00\") ,\n",
    "                                                createdByRef = by,\n",
    "                                                )\n",
    "                else:\n",
    "                     tool = opencti_api_client.tool.create(\n",
    "                                                name = row['name'].strip(),\n",
    "                                                description = row['description'],\n",
    "                                                alias = aliases ,\n",
    "                                                modified = datetime.date.today().strftime(\"%Y-%m-%dT%H:%M:%S+00:00\") ,\n",
    "                                                update = True,\n",
    "                                                 )\n",
    "                if row['marking_definitions'] is not None:\n",
    "                        self.add_mark_def(stix_id=tool['id'],row=row)\n",
    "                        \n",
    "                opencti_api_client.report.add_stix_entity(id=report,entity_id = tool['id'] )\n",
    "                self.stix_domain.update ({row['name'].strip() : tool['id']})\n",
    "                \n",
    "    def create_vulnerabilty(self,by,report):           #malware insertion    \n",
    "            \n",
    "            vul_details = pd.read_excel(self.report_path,sheet_name = 'vulnerability')\n",
    "            vul_details = vul_details.where(vul_details.notnull(), None)\n",
    "            \n",
    "            for index,row in vul_details.iterrows():\n",
    "            \n",
    "                if row['alias'] is not None:\n",
    "                    aliases =row['alias'].split(',')\n",
    "                    print(aliases)\n",
    "                else:\n",
    "                    aliases = None\n",
    "                \n",
    "                exist = opencti_api_client.vulnerability.list ( filters=[{'key' : 'name' , 'values' : row['name']}])\n",
    "            \n",
    "                if (len(exist) == 0):\n",
    "                    vulnerability = opencti_api_client.vulnerability.create(\n",
    "                                                name = row['name'].strip(),\n",
    "                                                description = row['description'],\n",
    "                                                alias = aliases ,\n",
    "                                                modified = datetime.date.today().strftime(\"%Y-%m-%dT%H:%M:%S+00:00\") ,\n",
    "                                                createdByRef = by,\n",
    "                                                )\n",
    "                else:\n",
    "                     vulnerability = opencti_api_client.vulnerability.create(\n",
    "                                                name = row['name'].strip(),\n",
    "                                                description = row['description'],\n",
    "                                                alias = aliases ,\n",
    "                                                modified = datetime.date.today().strftime(\"%Y-%m-%dT%H:%M:%S+00:00\") ,\n",
    "                                                update = True,\n",
    "                                                 )\n",
    "                if row['marking_definitions'] is not None:\n",
    "                        self.add_mark_def(stix_id=vulnerability['id'],row=row)\n",
    "                        \n",
    "                opencti_api_client.report.add_stix_entity(id=report,entity_id = vulnerability['id'] )\n",
    "                self.stix_domain.update ({row['name'].strip() : vulnerability['id']})  \n",
    "                \n",
    "    def create_indicator(self,by,report):           #malware insertion    \n",
    "            \n",
    "            observable_details = pd.read_excel(self.report_path,sheet_name = 'observable')\n",
    "            observable_details = vul_details.where(observable_details.notnull(), None)\n",
    "            \n",
    "            for index,row in observable_details.iterrows():\n",
    "            \n",
    "                if row['alias'] is not None:\n",
    "                    aliases =row['alias'].split(',')\n",
    "                    print(aliases)\n",
    "                else:\n",
    "                    aliases = None\n",
    "                \n",
    "                exist = opencti_api_client.vulnerability.list ( filters=[{'key' : 'name' , 'values' : row['name']}])\n",
    "            \n",
    "                if (len(exist) == 0):\n",
    "                    vulnerability = opencti_api_client.vulnerability.create(\n",
    "                                                name = row['name'].strip(),\n",
    "                                                description = row['description'],\n",
    "                                                alias = aliases ,\n",
    "                                                modified = datetime.date.today().strftime(\"%Y-%m-%dT%H:%M:%S+00:00\") ,\n",
    "                                                createdByRef = by,\n",
    "                                                )\n",
    "                else:\n",
    "                     vulnerability = opencti_api_client.vulnerability.create(\n",
    "                                                name = row['name'].strip(),\n",
    "                                                description = row['description'],\n",
    "                                                alias = aliases ,\n",
    "                                                modified = datetime.date.today().strftime(\"%Y-%m-%dT%H:%M:%S+00:00\") ,\n",
    "                                                update = True,\n",
    "                                                 )\n",
    "                if row['marking_definitions'] is not None:\n",
    "                        self.add_mark_def(stix_id=vulnerability['id'],row=row)\n",
    "                        \n",
    "                opencti_api_client.report.add_stix_entity(id=report,entity_id = vulnerability['id'] )\n",
    "                self.stix_domain.update ({row['name'].strip() : vulnerability['id']})  \n",
    "                \n",
    "    def create_report(self):\n",
    "\n",
    "        report_details = pd.read_excel(self.report_path,sheet_name = 'report')\n",
    "        report_details = report_details.where(report_details.notnull(), None)\n",
    "        \n",
    "        # report creation\n",
    "        for index,row in report_details.iterrows():\n",
    "            report_by = opencti_api_client.identity.list(filters=[{'key':'name','values': row['created_by_ref'] }])\n",
    "           \n",
    "            if len(report_by) == 0 : \n",
    "                warnings.warn(\"Since \" + row['created_by_ref'] + \" is not inserted in opencti.Rhymtechnologies is taken as default\")\n",
    "                report_by = organization = opencti_api_client.identity.create(\n",
    "                                            type='Organization',\n",
    "                                            name=\"Rhymtechnologies\",\n",
    "                                            alias=[\"Rhymtech\"],\n",
    "                                            description=\"A young and innovative company formed with a vision to create world leading Cyber Security products and services. The promoters are a group of highly successful professionals with diverse backgrounds across IT Delivery, Sales and Consulting, Cyber Security, Artificial Intelligence, Machine Learning and Data Sciences. Our group of consultants led by some of the best minds in the industry have successfully provided strategic and value-add services for multiple large organizations globally.\",\n",
    "                                            )\n",
    "            else:\n",
    "                report_by = report_by[0]\n",
    "                \n",
    "           # report_by = {'id': None}\n",
    "                \n",
    "            \n",
    "            print(row ['source_confidence_level'])\n",
    "            \n",
    "            report = opencti_api_client.report.create(\n",
    "                                                            name=row['name'],\n",
    "                                                            description= row['description'],\n",
    "                                                            report_class=\"Internal Report\",\n",
    "                                                            published=datetime.date.today().strftime(\"%Y-%m-%dT%H:%M:%S+00:00\"),\n",
    "                                                            createdByRef= report_by['id'],\n",
    "                                                            object_status = row['object_status'],\n",
    "                                                            source_confidence_level = row ['source_confidence_level'],\n",
    "                                                            update = True,\n",
    "                                                            )\n",
    "            if row['marking_definitions'] is not None:\n",
    "                        self.add_mark_def(stix_id=threat_actor['id'],row=row)\n",
    "            print(\"one_completed\")\n",
    "            \n",
    "            \n",
    "            self.create_threat_actor(by = report_by['id'] ,report = report['id'])  \n",
    "            self.create_attack_pattern(by = report_by['id'] , report =report ['id'])\n",
    "            self.create_malware (by = report_by['id'] , report = report ['id'])\n",
    "            self.create_tool (by = report_by['id'] , report = report ['id'])\n",
    "            self.create_vulnerabilty (by = report_by['id'] , report = report ['id'])\n",
    "            \n",
    "            return self.stix_domain\n",
    "                 \n",
    "                \n",
    "            "
   ]
  },
  {
   "cell_type": "code",
   "execution_count": 74,
   "metadata": {},
   "outputs": [],
   "source": [
    "en=entity_insertion(report_path=r\"D:\\Threat_intel_services\\srikanth\\fakeapt12.xlsx\")"
   ]
  },
  {
   "cell_type": "code",
   "execution_count": 75,
   "metadata": {},
   "outputs": [
    {
     "name": "stderr",
     "output_type": "stream",
     "text": [
      "INFO:root:Listing Identities with filters [{\"key\": \"name\", \"values\": \"Rhymtech\"}].\n",
      "C:\\ProgramData\\Anaconda3\\lib\\site-packages\\ipykernel_launcher.py:267: UserWarning: Since Rhymtech is not inserted in opencti.Rhymtechnologies is taken as default\n",
      "INFO:root:Listing Stix-Domain-Entities with filters [{\"key\": \"name\", \"values\": [\"Rhymtechnologies\"]}].\n",
      "INFO:root:Listing Reports with filters [{\"key\": \"name\", \"values\": [\"fakeapt12\"]}, {\"key\": \"published_day\", \"values\": [\"2020-01-29\"]}].\n"
     ]
    },
    {
     "name": "stdout",
     "output_type": "stream",
     "text": [
      "1.0\n"
     ]
    },
    {
     "name": "stderr",
     "output_type": "stream",
     "text": [
      "INFO:root:Listing Stix-Domain-Entities with filters [{\"key\": \"name\", \"values\": [\"fakeapt12\"]}].\n"
     ]
    },
    {
     "name": "stdout",
     "output_type": "stream",
     "text": [
      "one_completed\n"
     ]
    },
    {
     "name": "stderr",
     "output_type": "stream",
     "text": [
      "INFO:root:Reading Report {b694b5ff-4dee-4a88-8102-4ecefdbaf902}.\n",
      "INFO:root:Listing Attack-Patterns with filters [{\"key\": \"name\", \"values\": \"Spear phishing\"}].\n"
     ]
    },
    {
     "name": "stdout",
     "output_type": "stream",
     "text": [
      "None\n"
     ]
    },
    {
     "name": "stderr",
     "output_type": "stream",
     "text": [
      "INFO:root:Listing Stix-Domain-Entities with filters [{\"key\": \"name\", \"values\": [\"Spear phishing\"]}].\n",
      "INFO:root:Reading Report {b694b5ff-4dee-4a88-8102-4ecefdbaf902}.\n",
      "INFO:root:Listing Attack-Patterns with filters [{\"key\": \"name\", \"values\": \"Exploitation for Client Execution\"}].\n"
     ]
    },
    {
     "name": "stdout",
     "output_type": "stream",
     "text": [
      "None\n"
     ]
    },
    {
     "name": "stderr",
     "output_type": "stream",
     "text": [
      "INFO:root:Listing Stix-Domain-Entities with filters [{\"key\": \"name\", \"values\": [\"Exploitation for Client Execution\"]}].\n",
      "INFO:root:Reading Report {b694b5ff-4dee-4a88-8102-4ecefdbaf902}.\n",
      "INFO:root:Listing Attack-Patterns with filters [{\"key\": \"name\", \"values\": \"Spearphishing attachment\"}].\n"
     ]
    },
    {
     "name": "stdout",
     "output_type": "stream",
     "text": [
      "None\n"
     ]
    },
    {
     "name": "stderr",
     "output_type": "stream",
     "text": [
      "INFO:root:Listing Stix-Domain-Entities with filters [{\"key\": \"name\", \"values\": [\"Spearphishing attachment\"]}].\n",
      "INFO:root:Reading Report {b694b5ff-4dee-4a88-8102-4ecefdbaf902}.\n",
      "INFO:root:Listing Attack-Patterns with filters [{\"key\": \"name\", \"values\": \"User Execution\"}].\n"
     ]
    },
    {
     "name": "stdout",
     "output_type": "stream",
     "text": [
      "User\n"
     ]
    },
    {
     "name": "stderr",
     "output_type": "stream",
     "text": [
      "INFO:root:Listing Stix-Domain-Entities with filters [{\"key\": \"name\", \"values\": [\"User Execution\"]}].\n",
      "INFO:root:Updating Stix-Domain-Entity {aa4dac29-3d7a-449c-9455-28977b7f27a2} field {required_permission}.\n",
      "INFO:root:Reading Report {b694b5ff-4dee-4a88-8102-4ecefdbaf902}.\n",
      "INFO:root:Listing Attack-Patterns with filters [{\"key\": \"name\", \"values\": \"Web Service\"}].\n"
     ]
    },
    {
     "name": "stdout",
     "output_type": "stream",
     "text": [
      "User\n"
     ]
    },
    {
     "name": "stderr",
     "output_type": "stream",
     "text": [
      "INFO:root:Listing Stix-Domain-Entities with filters [{\"key\": \"name\", \"values\": [\"Web Service\"]}].\n",
      "INFO:root:Updating Stix-Domain-Entity {3b5277c0-34c5-4371-8516-3aeee9c14d69} field {required_permission}.\n",
      "INFO:root:Reading Report {b694b5ff-4dee-4a88-8102-4ecefdbaf902}.\n",
      "INFO:root:Listing Attack-Patterns with filters [{\"key\": \"name\", \"values\": \"Command-Line Interface\"}].\n"
     ]
    },
    {
     "name": "stdout",
     "output_type": "stream",
     "text": [
      "User, Administrator, SYSTEM\n"
     ]
    },
    {
     "name": "stderr",
     "output_type": "stream",
     "text": [
      "INFO:root:Listing Stix-Domain-Entities with filters [{\"key\": \"name\", \"values\": [\"Command-Line Interface\"]}].\n",
      "INFO:root:Updating Stix-Domain-Entity {7aa0b906-0670-4d97-a0f3-00fb626856d4} field {required_permission}.\n",
      "INFO:root:Reading Report {b694b5ff-4dee-4a88-8102-4ecefdbaf902}.\n",
      "INFO:root:Listing Attack-Patterns with filters [{\"key\": \"name\", \"values\": \"\\tCommonly Used Port\"}].\n"
     ]
    },
    {
     "name": "stdout",
     "output_type": "stream",
     "text": [
      "None\n"
     ]
    },
    {
     "name": "stderr",
     "output_type": "stream",
     "text": [
      "INFO:root:Listing Stix-Domain-Entities with filters [{\"key\": \"name\", \"values\": [\"Commonly Used Port\"]}].\n",
      "INFO:root:Reading Report {b694b5ff-4dee-4a88-8102-4ecefdbaf902}.\n",
      "INFO:root:Listing Attack-Patterns with filters [{\"key\": \"name\", \"values\": \"Data from Local System\"}].\n"
     ]
    },
    {
     "name": "stdout",
     "output_type": "stream",
     "text": [
      "None\n"
     ]
    },
    {
     "name": "stderr",
     "output_type": "stream",
     "text": [
      "INFO:root:Listing Stix-Domain-Entities with filters [{\"key\": \"name\", \"values\": [\"Data from Local System\"]}].\n",
      "INFO:root:Reading Report {b694b5ff-4dee-4a88-8102-4ecefdbaf902}.\n",
      "INFO:root:Listing Attack-Patterns with filters [{\"key\": \"name\", \"values\": \"Data Obfuscation\"}].\n"
     ]
    },
    {
     "name": "stdout",
     "output_type": "stream",
     "text": [
      "None\n"
     ]
    },
    {
     "name": "stderr",
     "output_type": "stream",
     "text": [
      "INFO:root:Listing Stix-Domain-Entities with filters [{\"key\": \"name\", \"values\": [\"Data Obfuscation\"]}].\n",
      "INFO:root:Reading Report {b694b5ff-4dee-4a88-8102-4ecefdbaf902}.\n",
      "INFO:root:Listing Attack-Patterns with filters [{\"key\": \"name\", \"values\": \"File and Directory Discovery\"}].\n"
     ]
    },
    {
     "name": "stdout",
     "output_type": "stream",
     "text": [
      "User, Administrator, SYSTEM\n"
     ]
    },
    {
     "name": "stderr",
     "output_type": "stream",
     "text": [
      "INFO:root:Listing Stix-Domain-Entities with filters [{\"key\": \"name\", \"values\": [\"File and Directory Discovery\"]}].\n",
      "INFO:root:Updating Stix-Domain-Entity {3b6464bf-890d-494a-835f-f5f8cc4b2d58} field {required_permission}.\n",
      "INFO:root:Reading Report {b694b5ff-4dee-4a88-8102-4ecefdbaf902}.\n",
      "INFO:root:Listing Attack-Patterns with filters [{\"key\": \"name\", \"values\": \"File Deletion\"}].\n"
     ]
    },
    {
     "name": "stdout",
     "output_type": "stream",
     "text": [
      "User\n"
     ]
    },
    {
     "name": "stderr",
     "output_type": "stream",
     "text": [
      "INFO:root:Listing Stix-Domain-Entities with filters [{\"key\": \"name\", \"values\": [\"File Deletion\"]}].\n",
      "INFO:root:Updating Stix-Domain-Entity {5d0c505b-999d-4039-8e18-a704b234f972} field {required_permission}.\n",
      "INFO:root:Reading Report {b694b5ff-4dee-4a88-8102-4ecefdbaf902}.\n",
      "INFO:root:Listing Attack-Patterns with filters [{\"key\": \"name\", \"values\": \"Hidden Files and Directories\"}].\n"
     ]
    },
    {
     "name": "stdout",
     "output_type": "stream",
     "text": [
      "User\n"
     ]
    },
    {
     "name": "stderr",
     "output_type": "stream",
     "text": [
      "INFO:root:Listing Stix-Domain-Entities with filters [{\"key\": \"name\", \"values\": [\"Hidden Files and Directories\"]}].\n",
      "INFO:root:Updating Stix-Domain-Entity {7df7f45d-47f9-4e60-b984-a12cfcd4e034} field {required_permission}.\n",
      "INFO:root:Reading Report {b694b5ff-4dee-4a88-8102-4ecefdbaf902}.\n",
      "INFO:root:Listing Attack-Patterns with filters [{\"key\": \"name\", \"values\": \"Masquerading\"}].\n"
     ]
    },
    {
     "name": "stdout",
     "output_type": "stream",
     "text": [
      "None\n"
     ]
    },
    {
     "name": "stderr",
     "output_type": "stream",
     "text": [
      "INFO:root:Listing Stix-Domain-Entities with filters [{\"key\": \"name\", \"values\": [\"Masquerading\"]}].\n",
      "INFO:root:Reading Report {b694b5ff-4dee-4a88-8102-4ecefdbaf902}.\n",
      "INFO:root:Listing Attack-Patterns with filters [{\"key\": \"name\", \"values\": \"Process Discovery\"}].\n"
     ]
    },
    {
     "name": "stdout",
     "output_type": "stream",
     "text": [
      "User, Administrator, SYSTEM\n"
     ]
    },
    {
     "name": "stderr",
     "output_type": "stream",
     "text": [
      "INFO:root:Listing Stix-Domain-Entities with filters [{\"key\": \"name\", \"values\": [\"Process Discovery\"]}].\n",
      "INFO:root:Updating Stix-Domain-Entity {637c1675-6cff-479b-abf2-a6828ee06f49} field {required_permission}.\n",
      "INFO:root:Reading Report {b694b5ff-4dee-4a88-8102-4ecefdbaf902}.\n",
      "INFO:root:Listing Attack-Patterns with filters [{\"key\": \"name\", \"values\": \"Registry Run Keys / Startup Folder\"}].\n"
     ]
    },
    {
     "name": "stdout",
     "output_type": "stream",
     "text": [
      "User, Administrator\n"
     ]
    },
    {
     "name": "stderr",
     "output_type": "stream",
     "text": [
      "INFO:root:Listing Stix-Domain-Entities with filters [{\"key\": \"name\", \"values\": [\"Registry Run Keys / Startup Folder\"]}].\n",
      "INFO:root:Updating Stix-Domain-Entity {cdc06ba5-99f3-4023-9534-2aa2e2d033f6} field {required_permission}.\n",
      "INFO:root:Reading Report {b694b5ff-4dee-4a88-8102-4ecefdbaf902}.\n",
      "INFO:root:Listing Attack-Patterns with filters [{\"key\": \"name\", \"values\": \"Remote File Copy\"}].\n"
     ]
    },
    {
     "name": "stdout",
     "output_type": "stream",
     "text": [
      "User\n"
     ]
    },
    {
     "name": "stderr",
     "output_type": "stream",
     "text": [
      "INFO:root:Listing Stix-Domain-Entities with filters [{\"key\": \"name\", \"values\": [\"Remote File Copy\"]}].\n",
      "INFO:root:Updating Stix-Domain-Entity {bffaec7e-4751-41d7-a700-03d3131e6ce6} field {required_permission}.\n",
      "INFO:root:Reading Report {b694b5ff-4dee-4a88-8102-4ecefdbaf902}.\n",
      "INFO:root:Listing Attack-Patterns with filters [{\"key\": \"name\", \"values\": \"\\tStandard Application Layer Protocol\"}].\n"
     ]
    },
    {
     "name": "stdout",
     "output_type": "stream",
     "text": [
      "None\n"
     ]
    },
    {
     "name": "stderr",
     "output_type": "stream",
     "text": [
      "INFO:root:Listing Stix-Domain-Entities with filters [{\"key\": \"name\", \"values\": [\"\\tStandard Application Layer Protocol\"]}].\n",
      "INFO:root:Reading Report {b694b5ff-4dee-4a88-8102-4ecefdbaf902}.\n",
      "INFO:root:Listing Attack-Patterns with filters [{\"key\": \"name\", \"values\": \"\\tSystem Information Discovery\"}].\n"
     ]
    },
    {
     "name": "stdout",
     "output_type": "stream",
     "text": [
      "User\n"
     ]
    },
    {
     "name": "stderr",
     "output_type": "stream",
     "text": [
      "INFO:root:Listing Stix-Domain-Entities with filters [{\"key\": \"name\", \"values\": [\"\\tSystem Information Discovery\"]}].\n",
      "INFO:root:Updating Stix-Domain-Entity {0f4235bc-d348-4228-bf8c-59bef3d57c6c} field {required_permission}.\n",
      "INFO:root:Reading Report {b694b5ff-4dee-4a88-8102-4ecefdbaf902}.\n",
      "INFO:root:Listing Attack-Patterns with filters [{\"key\": \"name\", \"values\": \"System Network Configuration Discovery\"}].\n"
     ]
    },
    {
     "name": "stdout",
     "output_type": "stream",
     "text": [
      "User\n"
     ]
    },
    {
     "name": "stderr",
     "output_type": "stream",
     "text": [
      "INFO:root:Listing Stix-Domain-Entities with filters [{\"key\": \"name\", \"values\": [\"System Network Configuration Discovery\"]}].\n",
      "INFO:root:Updating Stix-Domain-Entity {63d0b6b7-3720-42f4-96ab-d6e46c3c133d} field {required_permission}.\n",
      "INFO:root:Reading Report {b694b5ff-4dee-4a88-8102-4ecefdbaf902}.\n",
      "INFO:root:Listing Attack-Patterns with filters [{\"key\": \"name\", \"values\": \"System Owner/User Discovery\"}].\n"
     ]
    },
    {
     "name": "stdout",
     "output_type": "stream",
     "text": [
      "User, Administrator\n"
     ]
    },
    {
     "name": "stderr",
     "output_type": "stream",
     "text": [
      "INFO:root:Listing Stix-Domain-Entities with filters [{\"key\": \"name\", \"values\": [\"System Owner/User Discovery\"]}].\n",
      "INFO:root:Updating Stix-Domain-Entity {c6728d7c-2822-43ff-be59-80b7d6c5a033} field {required_permission}.\n",
      "INFO:root:Reading Report {b694b5ff-4dee-4a88-8102-4ecefdbaf902}.\n",
      "INFO:root:Listing Attack-Patterns with filters [{\"key\": \"name\", \"values\": \"System Service Discovery\"}].\n"
     ]
    },
    {
     "name": "stdout",
     "output_type": "stream",
     "text": [
      "User, Administrator, SYSTEM\n"
     ]
    },
    {
     "name": "stderr",
     "output_type": "stream",
     "text": [
      "INFO:root:Listing Stix-Domain-Entities with filters [{\"key\": \"name\", \"values\": [\"System Service Discovery\"]}].\n",
      "INFO:root:Updating Stix-Domain-Entity {7f54a4d8-f454-4a48-a510-be07ff5d2f93} field {required_permission}.\n",
      "INFO:root:Reading Report {b694b5ff-4dee-4a88-8102-4ecefdbaf902}.\n",
      "INFO:root:Listing Attack-Patterns with filters [{\"key\": \"name\", \"values\": \"Commonly Used Port\"}].\n"
     ]
    },
    {
     "name": "stdout",
     "output_type": "stream",
     "text": [
      "None\n"
     ]
    },
    {
     "name": "stderr",
     "output_type": "stream",
     "text": [
      "INFO:root:Listing Stix-Domain-Entities with filters [{\"key\": \"name\", \"values\": [\"Commonly Used Port\"]}].\n",
      "INFO:root:Reading Report {b694b5ff-4dee-4a88-8102-4ecefdbaf902}.\n",
      "INFO:root:Listing Attack-Patterns with filters [{\"key\": \"name\", \"values\": \"Standard Cryptographic Protocol\"}].\n"
     ]
    },
    {
     "name": "stdout",
     "output_type": "stream",
     "text": [
      "None\n"
     ]
    },
    {
     "name": "stderr",
     "output_type": "stream",
     "text": [
      "INFO:root:Listing Stix-Domain-Entities with filters [{\"key\": \"name\", \"values\": [\"Standard Cryptographic Protocol\"]}].\n",
      "INFO:root:Reading Report {b694b5ff-4dee-4a88-8102-4ecefdbaf902}.\n",
      "INFO:root:Listing Attack-Patterns with filters [{\"key\": \"name\", \"values\": \"Connection Proxy\"}].\n"
     ]
    },
    {
     "name": "stdout",
     "output_type": "stream",
     "text": [
      "None\n"
     ]
    },
    {
     "name": "stderr",
     "output_type": "stream",
     "text": [
      "INFO:root:Listing Stix-Domain-Entities with filters [{\"key\": \"name\", \"values\": [\"Connection Proxy\"]}].\n",
      "INFO:root:Reading Report {b694b5ff-4dee-4a88-8102-4ecefdbaf902}.\n",
      "INFO:root:Listing Attack-Patterns with filters [{\"key\": \"name\", \"values\": \"Process Injection\"}].\n"
     ]
    },
    {
     "name": "stdout",
     "output_type": "stream",
     "text": [
      "User, Administrator, SYSTEM, root\n"
     ]
    },
    {
     "name": "stderr",
     "output_type": "stream",
     "text": [
      "INFO:root:Listing Stix-Domain-Entities with filters [{\"key\": \"name\", \"values\": [\"Process Injection\"]}].\n",
      "INFO:root:Updating Stix-Domain-Entity {06e637be-7ca5-4750-8ac3-de6d82fdd174} field {required_permission}.\n",
      "INFO:root:Reading Report {b694b5ff-4dee-4a88-8102-4ecefdbaf902}.\n",
      "INFO:root:Listing Attack-Patterns with filters [{\"key\": \"name\", \"values\": \"Rootkit\"}].\n"
     ]
    },
    {
     "name": "stdout",
     "output_type": "stream",
     "text": [
      "Administrator, SYSTEM, root\n"
     ]
    },
    {
     "name": "stderr",
     "output_type": "stream",
     "text": [
      "INFO:root:Listing Stix-Domain-Entities with filters [{\"key\": \"name\", \"values\": [\"Rootkit\"]}].\n",
      "INFO:root:Updating Stix-Domain-Entity {b7e54f8e-1390-4eec-81fa-7fe83f7b8b18} field {required_permission}.\n",
      "INFO:root:Reading Report {b694b5ff-4dee-4a88-8102-4ecefdbaf902}.\n",
      "INFO:root:Listing Malwares with filters [{\"key\": \"name\", \"values\": \"Ixeshe\"}].\n"
     ]
    },
    {
     "name": "stdout",
     "output_type": "stream",
     "text": [
      "['Numbered Panda', 'TG-2754', 'BeeBus', 'Group 22', 'DynCalc /Calc Team DNSCalc', 'Crimson Iron', 'APT12']\n"
     ]
    },
    {
     "name": "stderr",
     "output_type": "stream",
     "text": [
      "INFO:root:Listing Stix-Domain-Entities with filters [{\"key\": \"name\", \"values\": [\"Ixeshe\"]}].\n",
      "INFO:root:Updating Stix-Domain-Entity {96d9e9c1-c06c-490f-9453-d578c93e14ba} field {alias}.\n",
      "INFO:root:Reading Report {b694b5ff-4dee-4a88-8102-4ecefdbaf902}.\n",
      "INFO:root:Listing Malwares with filters [{\"key\": \"name\", \"values\": \"Aumlib \"}].\n"
     ]
    },
    {
     "name": "stdout",
     "output_type": "stream",
     "text": [
      "['bbsinfo', 'aumlib']\n"
     ]
    },
    {
     "name": "stderr",
     "output_type": "stream",
     "text": [
      "INFO:root:Listing Stix-Domain-Entities with filters [{\"key\": \"name\", \"values\": [\"Aumlib\"]}].\n",
      "INFO:root:Reading Report {b694b5ff-4dee-4a88-8102-4ecefdbaf902}.\n",
      "INFO:root:Listing Malwares with filters [{\"key\": \"name\", \"values\": \"Threebyte\"}].\n",
      "INFO:root:Listing Stix-Domain-Entities with filters [{\"key\": \"name\", \"values\": [\"Threebyte\"]}].\n",
      "INFO:root:Reading Report {b694b5ff-4dee-4a88-8102-4ecefdbaf902}.\n",
      "INFO:root:Listing Malwares with filters [{\"key\": \"name\", \"values\": \"Hightide\"}].\n"
     ]
    },
    {
     "name": "stdout",
     "output_type": "stream",
     "text": [
      "['Etumbot']\n"
     ]
    },
    {
     "name": "stderr",
     "output_type": "stream",
     "text": [
      "INFO:root:Listing Stix-Domain-Entities with filters [{\"key\": \"name\", \"values\": [\"Hightide\"]}].\n",
      "INFO:root:Reading Report {b694b5ff-4dee-4a88-8102-4ecefdbaf902}.\n",
      "INFO:root:Listing Malwares with filters [{\"key\": \"name\", \"values\": \"Waterspout\"}].\n",
      "INFO:root:Listing Stix-Domain-Entities with filters [{\"key\": \"name\", \"values\": [\"Waterspout\"]}].\n",
      "INFO:root:Reading Report {b694b5ff-4dee-4a88-8102-4ecefdbaf902}.\n",
      "INFO:root:Listing Tools with filters [{\"key\": \"name\", \"values\": \"HTRAN\"}].\n",
      "INFO:root:Listing Stix-Domain-Entities with filters [{\"key\": \"name\", \"values\": [\"HTRAN\"]}].\n",
      "INFO:root:Reading Report {b694b5ff-4dee-4a88-8102-4ecefdbaf902}.\n",
      "INFO:root:Listing Vulnerabilities with filters [{\"key\": \"name\", \"values\": \"CVE-2009-4324\"}].\n",
      "INFO:root:Listing Stix-Domain-Entities with filters [{\"key\": \"name\", \"values\": [\"CVE-2009-4324\"]}].\n",
      "INFO:root:Listing Stix-Domain-Entities with filters [{\"key\": \"alias\", \"values\": [\"CVE-2009-4324\"]}].\n",
      "INFO:root:Creating Tool {CVE-2009-4324}.\n",
      "INFO:root:Reading Report {b694b5ff-4dee-4a88-8102-4ecefdbaf902}.\n",
      "INFO:root:Adding Stix-Entity {33429ad8-ae90-454f-b76f-b06b45ae98da} to Report {b694b5ff-4dee-4a88-8102-4ecefdbaf902}\n",
      "INFO:root:Listing Vulnerabilities with filters [{\"key\": \"name\", \"values\": \"CVE-2009-0927\"}].\n",
      "INFO:root:Listing Stix-Domain-Entities with filters [{\"key\": \"name\", \"values\": [\"CVE-2009-0927\"]}].\n",
      "INFO:root:Listing Stix-Domain-Entities with filters [{\"key\": \"alias\", \"values\": [\"CVE-2009-0927\"]}].\n",
      "INFO:root:Creating Tool {CVE-2009-0927}.\n",
      "INFO:root:Reading Report {b694b5ff-4dee-4a88-8102-4ecefdbaf902}.\n",
      "INFO:root:Adding Stix-Entity {a7fcd6ac-9a90-479b-a36d-eeafddf25e09} to Report {b694b5ff-4dee-4a88-8102-4ecefdbaf902}\n",
      "INFO:root:Listing Vulnerabilities with filters [{\"key\": \"name\", \"values\": \"CVE-2011-0609\"}].\n",
      "INFO:root:Listing Stix-Domain-Entities with filters [{\"key\": \"name\", \"values\": [\"CVE-2011-0609\"]}].\n",
      "INFO:root:Listing Stix-Domain-Entities with filters [{\"key\": \"alias\", \"values\": [\"CVE-2011-0609\"]}].\n",
      "INFO:root:Creating Tool {CVE-2011-0609}.\n",
      "INFO:root:Reading Report {b694b5ff-4dee-4a88-8102-4ecefdbaf902}.\n",
      "INFO:root:Adding Stix-Entity {5f9f3df2-787a-449f-a609-db92d9e345fe} to Report {b694b5ff-4dee-4a88-8102-4ecefdbaf902}\n",
      "INFO:root:Listing Vulnerabilities with filters [{\"key\": \"name\", \"values\": \"CVE-2011-0611\"}].\n",
      "INFO:root:Listing Stix-Domain-Entities with filters [{\"key\": \"name\", \"values\": [\"CVE-2011-0611\"]}].\n",
      "INFO:root:Listing Stix-Domain-Entities with filters [{\"key\": \"alias\", \"values\": [\"CVE-2011-0611\"]}].\n",
      "INFO:root:Creating Tool {CVE-2011-0611}.\n",
      "INFO:root:Reading Report {b694b5ff-4dee-4a88-8102-4ecefdbaf902}.\n",
      "INFO:root:Adding Stix-Entity {7ece50d0-266a-47e7-9f13-9b6335fe8a5f} to Report {b694b5ff-4dee-4a88-8102-4ecefdbaf902}\n",
      "INFO:root:Listing Vulnerabilities with filters [{\"key\": \"name\", \"values\": \"CVE-2009-3129\"}].\n",
      "INFO:root:Listing Stix-Domain-Entities with filters [{\"key\": \"name\", \"values\": [\"CVE-2009-3129\"]}].\n",
      "INFO:root:Listing Stix-Domain-Entities with filters [{\"key\": \"alias\", \"values\": [\"CVE-2009-3129\"]}].\n",
      "INFO:root:Creating Tool {CVE-2009-3129}.\n",
      "INFO:root:Reading Report {b694b5ff-4dee-4a88-8102-4ecefdbaf902}.\n",
      "INFO:root:Adding Stix-Entity {dda05ca7-46eb-498f-ab7f-40a84d16d445} to Report {b694b5ff-4dee-4a88-8102-4ecefdbaf902}\n",
      "INFO:root:Listing Vulnerabilities with filters [{\"key\": \"name\", \"values\": \"CVE-2012-0158\"}].\n",
      "INFO:root:Listing Stix-Domain-Entities with filters [{\"key\": \"name\", \"values\": [\"CVE-2012-0158\"]}].\n",
      "INFO:root:Listing Stix-Domain-Entities with filters [{\"key\": \"alias\", \"values\": [\"CVE-2012-0158\"]}].\n",
      "INFO:root:Creating Tool {CVE-2012-0158}.\n",
      "INFO:root:Reading Report {b694b5ff-4dee-4a88-8102-4ecefdbaf902}.\n",
      "INFO:root:Adding Stix-Entity {4aa32bdd-b03c-49a0-bdb6-b92a6874a6f8} to Report {b694b5ff-4dee-4a88-8102-4ecefdbaf902}\n"
     ]
    },
    {
     "data": {
      "text/plain": [
       "{'fakeapt12': '4e459911-9c58-4add-b147-5c33e72d11e2',\n",
       " 'Spear phishing': 'ae0eebe7-6e24-40e5-a5d2-59e2478086ca',\n",
       " 'Exploitation for Client Execution': 'ed27d3c8-e054-49ff-80d1-19c0d72dc286',\n",
       " 'Spearphishing attachment': '3a2e89b6-4dbd-4172-8340-b424dff022f9',\n",
       " 'User Execution': 'aa4dac29-3d7a-449c-9455-28977b7f27a2',\n",
       " 'Web Service': '3b5277c0-34c5-4371-8516-3aeee9c14d69',\n",
       " 'Command-Line Interface': '7aa0b906-0670-4d97-a0f3-00fb626856d4',\n",
       " 'Commonly Used Port': 'fab5312a-b85a-4b52-961c-a18deed6a0ef',\n",
       " 'Data from Local System': '97d127c9-761b-422f-b2af-f162779e2c72',\n",
       " 'Data Obfuscation': 'd1aa53d0-9808-4325-b46a-612b83212b4a',\n",
       " 'File and Directory Discovery': '3b6464bf-890d-494a-835f-f5f8cc4b2d58',\n",
       " 'File Deletion': '5d0c505b-999d-4039-8e18-a704b234f972',\n",
       " 'Hidden Files and Directories': '7df7f45d-47f9-4e60-b984-a12cfcd4e034',\n",
       " 'Masquerading': 'ba2deef8-4c2f-4346-b412-36a148697fec',\n",
       " 'Process Discovery': '637c1675-6cff-479b-abf2-a6828ee06f49',\n",
       " 'Registry Run Keys / Startup Folder': 'cdc06ba5-99f3-4023-9534-2aa2e2d033f6',\n",
       " 'Remote File Copy': 'bffaec7e-4751-41d7-a700-03d3131e6ce6',\n",
       " 'Standard Application Layer Protocol': '746fa63c-2c4a-48aa-b7a9-50433725ecd7',\n",
       " 'System Information Discovery': '0f4235bc-d348-4228-bf8c-59bef3d57c6c',\n",
       " 'System Network Configuration Discovery': '63d0b6b7-3720-42f4-96ab-d6e46c3c133d',\n",
       " 'System Owner/User Discovery': 'c6728d7c-2822-43ff-be59-80b7d6c5a033',\n",
       " 'System Service Discovery': '7f54a4d8-f454-4a48-a510-be07ff5d2f93',\n",
       " 'Standard Cryptographic Protocol': '213b60fb-44e3-46f0-ab02-faae8ce62653',\n",
       " 'Connection Proxy': '079578de-fe65-45f2-b0d7-882f8f0b1f4b',\n",
       " 'Process Injection': '06e637be-7ca5-4750-8ac3-de6d82fdd174',\n",
       " 'Rootkit': 'b7e54f8e-1390-4eec-81fa-7fe83f7b8b18',\n",
       " 'Ixeshe': '96d9e9c1-c06c-490f-9453-d578c93e14ba',\n",
       " 'Aumlib': '403e98cb-32fb-470e-8a5f-7ffd20112ca1',\n",
       " 'Threebyte': '5e440214-242a-4d6d-9e57-023f0ecfba31',\n",
       " 'Hightide': '71d95aa1-1ec0-45af-a9ff-75c9958db6f4',\n",
       " 'Waterspout': '0127d6cf-07c0-423d-b378-1cb97e2588ea',\n",
       " 'HTRAN': 'ad08da3f-5f3c-44a6-81ff-9082ef710e4c',\n",
       " 'CVE-2009-4324': '33429ad8-ae90-454f-b76f-b06b45ae98da',\n",
       " 'CVE-2009-0927': 'a7fcd6ac-9a90-479b-a36d-eeafddf25e09',\n",
       " 'CVE-2011-0609': '5f9f3df2-787a-449f-a609-db92d9e345fe',\n",
       " 'CVE-2011-0611': '7ece50d0-266a-47e7-9f13-9b6335fe8a5f',\n",
       " 'CVE-2009-3129': 'dda05ca7-46eb-498f-ab7f-40a84d16d445',\n",
       " 'CVE-2012-0158': '4aa32bdd-b03c-49a0-bdb6-b92a6874a6f8'}"
      ]
     },
     "execution_count": 75,
     "metadata": {},
     "output_type": "execute_result"
    }
   ],
   "source": [
    "en.create_report()"
   ]
  },
  {
   "cell_type": "code",
   "execution_count": 25,
   "metadata": {},
   "outputs": [
    {
     "ename": "NameError",
     "evalue": "name 'stix_domain' is not defined",
     "output_type": "error",
     "traceback": [
      "\u001b[1;31m---------------------------------------------------------------------------\u001b[0m",
      "\u001b[1;31mNameError\u001b[0m                                 Traceback (most recent call last)",
      "\u001b[1;32m<ipython-input-25-0eafc373a091>\u001b[0m in \u001b[0;36m<module>\u001b[1;34m\u001b[0m\n\u001b[1;32m----> 1\u001b[1;33m \u001b[0mstix_domain\u001b[0m\u001b[1;33m\u001b[0m\u001b[1;33m\u001b[0m\u001b[0m\n\u001b[0m",
      "\u001b[1;31mNameError\u001b[0m: name 'stix_domain' is not defined"
     ]
    }
   ],
   "source": [
    "stix_domain"
   ]
  },
  {
   "cell_type": "code",
   "execution_count": null,
   "metadata": {},
   "outputs": [],
   "source": [
    "list(a)"
   ]
  },
  {
   "cell_type": "code",
   "execution_count": null,
   "metadata": {},
   "outputs": [],
   "source": []
  },
  {
   "cell_type": "code",
   "execution_count": null,
   "metadata": {},
   "outputs": [],
   "source": []
  },
  {
   "cell_type": "code",
   "execution_count": null,
   "metadata": {},
   "outputs": [],
   "source": []
  },
  {
   "cell_type": "code",
   "execution_count": null,
   "metadata": {},
   "outputs": [],
   "source": []
  },
  {
   "cell_type": "code",
   "execution_count": null,
   "metadata": {},
   "outputs": [],
   "source": []
  },
  {
   "cell_type": "code",
   "execution_count": null,
   "metadata": {},
   "outputs": [],
   "source": []
  },
  {
   "cell_type": "code",
   "execution_count": null,
   "metadata": {},
   "outputs": [],
   "source": []
  },
  {
   "cell_type": "code",
   "execution_count": null,
   "metadata": {},
   "outputs": [],
   "source": []
  },
  {
   "cell_type": "code",
   "execution_count": null,
   "metadata": {},
   "outputs": [],
   "source": []
  },
  {
   "cell_type": "code",
   "execution_count": null,
   "metadata": {},
   "outputs": [],
   "source": []
  },
  {
   "cell_type": "code",
   "execution_count": null,
   "metadata": {},
   "outputs": [],
   "source": []
  },
  {
   "cell_type": "code",
   "execution_count": null,
   "metadata": {},
   "outputs": [],
   "source": []
  },
  {
   "cell_type": "code",
   "execution_count": null,
   "metadata": {},
   "outputs": [],
   "source": []
  },
  {
   "cell_type": "code",
   "execution_count": null,
   "metadata": {},
   "outputs": [],
   "source": []
  },
  {
   "cell_type": "code",
   "execution_count": null,
   "metadata": {},
   "outputs": [],
   "source": [
    "a=[]\n",
    "if a is None:\n",
    "    print(1)"
   ]
  },
  {
   "cell_type": "code",
   "execution_count": null,
   "metadata": {},
   "outputs": [],
   "source": []
  },
  {
   "cell_type": "code",
   "execution_count": null,
   "metadata": {},
   "outputs": [],
   "source": []
  },
  {
   "cell_type": "code",
   "execution_count": null,
   "metadata": {},
   "outputs": [],
   "source": []
  },
  {
   "cell_type": "code",
   "execution_count": null,
   "metadata": {},
   "outputs": [],
   "source": []
  },
  {
   "cell_type": "code",
   "execution_count": null,
   "metadata": {},
   "outputs": [],
   "source": [
    "def create_tool(self,by,report):           #malware insertion    \n",
    "            \n",
    "            tool_details = pd.read_excel(self.report_path,sheet_name = 'tool')\n",
    "            tool_details = tool_details.where(tool_details.notnull(), None)\n",
    "            \n",
    "            for index,row in tool_details.iterrows():\n",
    "            \n",
    "                if row['alias'] is not None:\n",
    "                    aliases =row['alias'].split(',')\n",
    "                    print(aliases)\n",
    "                else:\n",
    "                    aliases = None\n",
    "                \n",
    "                exist = opencti_api_client.tool.list ( filters=[{'key' : 'name' , 'values' : row['name']}])\n",
    "            \n",
    "                if (len(exist) > 0):\n",
    "                    tool = opencti_api_client.tool.create(\n",
    "                                                name = row['name'],\n",
    "                                                description = row['description'],\n",
    "                                                alias = aliases ,\n",
    "                                                modified = datetime.date.today().strftime(\"%Y-%m-%dT%H:%M:%S+00:00\") ,\n",
    "                                                createdByRef = by,\n",
    "                                                )\n",
    "                else:\n",
    "                     tool = opencti_api_client.tool.create(\n",
    "                                                name = row['name'],\n",
    "                                                description = row['description'],\n",
    "                                                alias = aliases ,\n",
    "                                                modified = datetime.date.today().strftime(\"%Y-%m-%dT%H:%M:%S+00:00\") ,\n",
    "                                                update = True,\n",
    "                                                 )\n",
    "                if row['marking_definitions'] is not None:\n",
    "                        self.add_mark_def(stix_id=tool['id'],row=row)\n",
    "                        \n",
    "                opencti_api_client.report.add_stix_entity(id=report,entity_id = tool['id'] )"
   ]
  },
  {
   "cell_type": "code",
   "execution_count": null,
   "metadata": {},
   "outputs": [],
   "source": [
    "def create_report(self,report_by):\n",
    "\n",
    "    report_details=pd.read_excel(self.report_path,sheet_name = 'report')\n",
    "    report_by = opencti_api_client.identity.read(filters=[{'key':'name','values': report_by }])\n",
    "    \n",
    "    if report_by is None: \n",
    "        warnings.warn(\"Since \" + report_by + \" is not inserted in opencti.Rhymtechnologies is taken as default\")\n",
    "        report_by = organization = opencti_api_client.identity.create(\n",
    "                                    type='Organization',\n",
    "                                    name=\"Rhymtechnologies\",\n",
    "                                    alias=[\"Rhymtech\"],\n",
    "                                    description=\"A young and innovative company formed with a vision to create world leading Cyber Security products and services. The promoters are a group of highly successful professionals with diverse backgrounds across IT Delivery, Sales and Consulting, Cyber Security, Artificial Intelligence, Machine Learning and Data Sciences. Our group of consultants led by some of the best minds in the industry have successfully provided strategic and value-add services for multiple large organizations globally.\",\n",
    "                                    )\n",
    "                        \n",
    "    \n",
    "    \n",
    "    for index,row in report_details.iterrows():\n",
    "        \n",
    "        date = parse(row['published']).strftime(\"%Y-%m-%dT%H:%M:%SZ\")\n",
    "        if source_confidence_level is None:\n",
    "                    report = opencti_api_client.report.create(\n",
    "                                                    name=row['name'],\n",
    "                                                    description= row['description'],\n",
    "                                                    report_class=\"Internal Report\",\n",
    "                                                    published=date,\n",
    "                                                    createdByRef= report_by['id'],\n",
    "                                                    object_status = 0,\n",
    "                                                    update = True,\n",
    "                                                    )\n",
    "        else:\n",
    "             report = opencti_api_client.report.create(\n",
    "                                                    name=row['name'],\n",
    "                                                    description= row['description'],\n",
    "                                                    report_class=\"Internal Report\",\n",
    "                                                    published=date,\n",
    "                                                    createdByRef= report_by['id'],\n",
    "                                                    object_status = row['object_status'],\n",
    "                                                    source_confidence_level = row ['source_confidence_level'],\n",
    "                                                    update = True,\n",
    "                                                    )\n"
   ]
  },
  {
   "cell_type": "code",
   "execution_count": null,
   "metadata": {},
   "outputs": [],
   "source": [
    "create_report()"
   ]
  }
 ],
 "metadata": {
  "kernelspec": {
   "display_name": "Python 3",
   "language": "python",
   "name": "python3"
  },
  "language_info": {
   "codemirror_mode": {
    "name": "ipython",
    "version": 3
   },
   "file_extension": ".py",
   "mimetype": "text/x-python",
   "name": "python",
   "nbconvert_exporter": "python",
   "pygments_lexer": "ipython3",
   "version": "3.7.4"
  }
 },
 "nbformat": 4,
 "nbformat_minor": 2
}
