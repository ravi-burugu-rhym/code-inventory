{
 "cells": [
  {
   "cell_type": "code",
   "execution_count": 7,
   "metadata": {},
   "outputs": [
    {
     "name": "stderr",
     "output_type": "stream",
     "text": [
      "INFO:root:Listing Threat-Actors with filters null.\n",
      "INFO:root:Listing Stix-Domain-Entities with filters [{\"key\": \"name\", \"values\": [\"My new Intrusion Set1\"]}].\n",
      "INFO:root:Listing Stix-Domain-Entities with filters [{\"key\": \"alias\", \"values\": [\"My new Intrusion Set1\"]}].\n",
      "INFO:root:Creating Intrusion-Set {My new Intrusion Set1}.\n"
     ]
    },
    {
     "name": "stdout",
     "output_type": "stream",
     "text": [
      "{'id': '8c349ecb-7983-4d8c-9243-4d4e2da91552', 'stix_id_key': 'intrusion-set--5d1a6847-4ecf-4f3d-a6e5-c9c7b1488454', 'stix_label': None, 'entity_type': 'intrusion-set', 'parent_types': ['Intrusion-Set', 'Stix-Domain-Entity', 'Stix-Domain'], 'name': 'My new Intrusion Set1', 'alias': [''], 'description': 'Evil Cluster', 'graph_data': None, 'first_seen': '2020-01-22T00:00:00.000Z', 'last_seen': '2020-01-22T00:00:00.000Z', 'goal': None, 'sophistication': None, 'resource_level': None, 'primary_motivation': None, 'secondary_motivation': None, 'created': '2020-01-22T10:27:02.733Z', 'modified': '2020-01-22T10:27:02.733Z', 'created_at': '2020-01-22T10:27:02.733Z', 'updated_at': '2020-01-22T10:27:02.733Z', 'createdByRef': None, 'markingDefinitions': [], 'tags': [], 'externalReferences': [], 'markingDefinitionsIds': [], 'tagsIds': [], 'externalReferencesIds': []}\n"
     ]
    }
   ],
   "source": [
    "import datetime\n",
    "from pycti import OpenCTIApiClient\n",
    "\n",
    "# Variables\n",
    "api_url = 'http://192.168.83.128:8080'\n",
    "api_token = '19e0c1db-0d35-4585-8255-7894837e0c85'\n",
    "\n",
    "# OpenCTI initialization\n",
    "opencti_api_client = OpenCTIApiClient(api_url, api_token)\n",
    "\n",
    "# Create the Intrusion Set\n",
    "intrusion_set = opencti_api_client.intrusion_set.create(\n",
    "    name='My new Intrusion Set1',\n",
    "    description='Evil Cluster',\n",
    "    first_seen=datetime.date.today().strftime('%Y-%m-%dT%H:%M:%S+00:00'),\n",
    "    last_seen=datetime.date.today().strftime('%Y-%m-%dT%H:%M:%S+00:00'),\n",
    "    update=True\n",
    ")\n",
    "\n",
    "# Print\n",
    "print(intrusion_set)"
   ]
  },
  {
   "cell_type": "code",
   "execution_count": 37,
   "metadata": {},
   "outputs": [
    {
     "name": "stderr",
     "output_type": "stream",
     "text": [
      "INFO:root:Listing Threat-Actors with filters null.\n",
      "INFO:root:Listing Stix-Domain-Entities with filters [{\"key\": \"name\", \"values\": [\"My new Campaign\"]}].\n",
      "INFO:root:Listing Stix-Domain-Entities with filters [{\"key\": \"alias\", \"values\": [\"My new Campaign\"]}].\n",
      "INFO:root:Creating Campaign {My new Campaign}.\n",
      "INFO:root:Listing Indicators with filters [{\"key\": \"indicator_pattern\", \"values\": [\"[domain-name:value = 'www.5z8.info' AND domain-name:resolves_to_refs[*].value = '198.51.100.1/32']\"]}].\n",
      "INFO:root:Creating Indicator {C2 server of the new campaign}.\n"
     ]
    },
    {
     "name": "stdout",
     "output_type": "stream",
     "text": [
      "{'id': 'ca6c507c-33b8-48b1-9e1c-191632b8b974', 'stix_id_key': 'campaign--7f2318c0-b70a-4ae8-96cc-f4174df38bd5', 'stix_label': None, 'entity_type': 'campaign', 'parent_types': ['Campaign', 'Stix-Domain-Entity', 'Stix-Domain'], 'name': 'My new Campaign', 'alias': [''], 'description': 'Large SpearPhishing and intrusions followed by ransomware', 'graph_data': None, 'objective': 'Financial gain', 'first_seen': '2019-12-01T00:00:00.000Z', 'last_seen': '2019-12-01T00:00:00.000Z', 'created': '2020-01-22T12:30:05.057Z', 'modified': '2020-01-22T12:30:05.057Z', 'created_at': '2020-01-22T12:30:05.057Z', 'updated_at': '2020-01-22T12:30:05.057Z', 'createdByRef': None, 'markingDefinitions': [], 'tags': [], 'externalReferences': [], 'markingDefinitionsIds': [], 'tagsIds': [], 'externalReferencesIds': []}\n"
     ]
    },
    {
     "name": "stderr",
     "output_type": "stream",
     "text": [
      "INFO:root:Listing stix_relations with {type: indicates, from_id: 38d87bfe-abe1-4bd8-b5ec-1c74c85468f9, to_id: ca6c507c-33b8-48b1-9e1c-191632b8b974}\n",
      "INFO:root:Creating stix_relation {indicator: 38d87bfe-abe1-4bd8-b5ec-1c74c85468f9, characterize: ca6c507c-33b8-48b1-9e1c-191632b8b974}.\n"
     ]
    },
    {
     "name": "stdout",
     "output_type": "stream",
     "text": [
      "{'id': '38d87bfe-abe1-4bd8-b5ec-1c74c85468f9', 'stix_id_key': 'indicator--8ac6decf-b05f-4def-97af-b46891f73365', 'stix_label': None, 'entity_type': 'indicator', 'parent_types': ['Indicator', 'Stix-Domain-Entity', 'Stix-Domain'], 'name': 'C2 server of the new campaign', 'alias': [''], 'description': 'This is the C2 server of the campaign', 'graph_data': None, 'indicator_pattern': \"[domain-name:value = 'www.5z8.info' AND domain-name:resolves_to_refs[*].value = '198.51.100.1/32']\", 'pattern_type': 'stix', 'valid_from': '2019-12-01T00:00:00.000Z', 'valid_until': '2020-11-30T00:00:00.000Z', 'score': 50, 'created': '2020-01-22T12:30:06.495Z', 'modified': '2020-01-22T12:30:06.495Z', 'created_at': '2020-01-22T12:30:06.495Z', 'updated_at': '2020-01-22T12:30:06.495Z', 'killChainPhases': [], 'createdByRef': None, 'markingDefinitions': [], 'tags': [], 'externalReferences': [], 'observableRefs': [], 'markingDefinitionsIds': [], 'tagsIds': [], 'killChainPhasesIds': [], 'externalReferencesIds': [], 'observableRefsIds': []}\n"
     ]
    },
    {
     "name": "stderr",
     "output_type": "stream",
     "text": [
      "INFO:root:Listing StixObservables with filters [{\"key\": \"observable_value\", \"values\": [\"www.5z8.info\"]}].\n",
      "INFO:root:Creating Stix-Observable {www.5z8.info}.\n"
     ]
    },
    {
     "name": "stdout",
     "output_type": "stream",
     "text": [
      "{'id': '94d19e02-80e9-4cf5-a5ae-e23580702728', 'stix_id_key': 'relationship--20f9cb28-6fbf-41e4-b32d-4813c3832742', 'entity_type': 'stix_relation', 'relationship_type': 'indicates', 'description': 'This is the C2 server of the campaign.', 'weight': 1, 'role_played': 'Unknown', 'first_seen': '2019-12-01T00:00:00.000Z', 'last_seen': '2019-12-01T00:00:00.000Z', 'created': '2020-01-22T12:30:07.429Z', 'modified': '2020-01-22T12:30:07.429Z', 'created_at': '2020-01-22T12:30:07.430Z', 'updated_at': '2020-01-22T12:30:07.430Z', 'from': {'id': '38d87bfe-abe1-4bd8-b5ec-1c74c85468f9', 'stix_id_key': 'indicator--8ac6decf-b05f-4def-97af-b46891f73365', 'entity_type': 'indicator', 'name': 'C2 server of the new campaign', 'description': 'This is the C2 server of the campaign'}, 'to': {'id': 'ca6c507c-33b8-48b1-9e1c-191632b8b974', 'stix_id_key': 'campaign--7f2318c0-b70a-4ae8-96cc-f4174df38bd5', 'entity_type': 'campaign', 'name': 'My new Campaign', 'description': 'Large SpearPhishing and intrusions followed by ransomware'}, 'createdByRef': None, 'markingDefinitions': [], 'killChainPhases': [], 'externalReferences': [], 'markingDefinitionsIds': [], 'killChainPhasesIds': [], 'externalReferencesIds': []}\n"
     ]
    },
    {
     "name": "stderr",
     "output_type": "stream",
     "text": [
      "INFO:root:Listing StixObservables with filters [{\"key\": \"observable_value\", \"values\": [\"198.51.100.1\"]}].\n",
      "INFO:root:Creating Stix-Observable {198.51.100.1}.\n",
      "INFO:root:Reading Indicator {38d87bfe-abe1-4bd8-b5ec-1c74c85468f9}.\n",
      "INFO:root:Adding Stix-Observable {5ff167f1-8420-450b-8df2-1e35010031e9} to Indicator {38d87bfe-abe1-4bd8-b5ec-1c74c85468f9}\n",
      "INFO:root:Reading Indicator {38d87bfe-abe1-4bd8-b5ec-1c74c85468f9}.\n",
      "INFO:root:Adding Stix-Observable {0c038388-4b35-474a-9455-2337f0d6cb43} to Indicator {38d87bfe-abe1-4bd8-b5ec-1c74c85468f9}\n"
     ]
    },
    {
     "data": {
      "text/plain": [
       "True"
      ]
     },
     "execution_count": 37,
     "metadata": {},
     "output_type": "execute_result"
    }
   ],
   "source": [
    "import datetime\n",
    "\n",
    "from dateutil.parser import parse\n",
    "from pycti import OpenCTIApiClient\n",
    "\n",
    "# Variables\n",
    "api_url = 'http://192.168.83.129:8080'\n",
    "api_token = '935050ad-d55e-44dc-b658-abb960c0e175'\n",
    "\n",
    "# OpenCTI initialization\n",
    "opencti_api_client = OpenCTIApiClient(api_url, api_token)\n",
    "\n",
    "# Define the date\n",
    "date = parse('2019-12-01').strftime('%Y-%m-%dT%H:%M:%SZ')\n",
    "\n",
    "# Create the Campaign\n",
    "campaign = opencti_api_client.campaign.create(\n",
    "    name='My new Campaign',\n",
    "    description='Large SpearPhishing and intrusions followed by ransomware',\n",
    "    objective='Financial gain',\n",
    "    first_seen=date,\n",
    "    last_seen=date,\n",
    "    update=True\n",
    ")\n",
    "print(campaign)\n",
    "\n",
    "# Create the indicator\n",
    "indicator = opencti_api_client.indicator.create(\n",
    "    name='C2 server of the new campaign',\n",
    "    description='This is the C2 server of the campaign',\n",
    "    pattern_type='stix',\n",
    "    indicator_pattern=\"[domain-name:value = 'www.5z8.info' AND domain-name:resolves_to_refs[*].value = '198.51.100.1/32']\",\n",
    "    main_observable_type='IPv4-Addr',\n",
    "    valid_from=date\n",
    ")\n",
    "print(indicator)\n",
    "\n",
    "# Create the relation\n",
    "relation = opencti_api_client.stix_relation.create(\n",
    "    fromType='Indicator',\n",
    "    fromId=indicator['id'],\n",
    "    toType='Campaign',\n",
    "    toId=campaign['id'],\n",
    "    relationship_type='indicates',\n",
    "    first_seen=date,\n",
    "    last_seen=date,\n",
    "    description='This is the C2 server of the campaign.'\n",
    ")\n",
    "print(relation)\n",
    "\n",
    "# Create the observables (optional)\n",
    "observable_1 = opencti_api_client.stix_observable.create(\n",
    "    type='Domain',\n",
    "    observable_value='www.5z8.info'\n",
    ")\n",
    "observable_2 = opencti_api_client.stix_observable.create(\n",
    "    type='IPv4-Addr',\n",
    "    observable_value='198.51.100.1'\n",
    ")\n",
    "# Create the relation between observables and the indicator\n",
    "opencti_api_client.indicator.add_stix_observable(\n",
    "    id=indicator['id'],\n",
    "    stix_observable_id=observable_1['id']\n",
    ")\n",
    "opencti_api_client.indicator.add_stix_observable(\n",
    "    id=indicator['id'],\n",
    "    stix_observable_id=observable_2['id']\n",
    ")"
   ]
  },
  {
   "cell_type": "code",
   "execution_count": 38,
   "metadata": {},
   "outputs": [
    {
     "name": "stderr",
     "output_type": "stream",
     "text": [
      "INFO:root:Listing Threat-Actors with filters null.\n",
      "INFO:root:Listing Identities with filters [{\"key\": \"name\", \"values\": [\"Banking institutions\"]}].\n",
      "INFO:root:Listing Stix-Domain-Entities with filters [{\"key\": \"name\", \"values\": [\"BNP Paribas\"]}].\n",
      "INFO:root:Listing Stix-Domain-Entities with filters [{\"key\": \"alias\", \"values\": [\"BNP Paribas\"]}].\n",
      "INFO:root:Creating Identity {BNP Paribas}.\n",
      "INFO:root:Listing stix_relations with {type: gathering, from_id: a8b723e2-82b1-46a5-9e48-d2e5ad28cf26, to_id: 576f97d3-5e8d-4822-9663-931c3d4ccb90}\n",
      "INFO:root:Creating stix_relation {part_of: a8b723e2-82b1-46a5-9e48-d2e5ad28cf26, gather: 576f97d3-5e8d-4822-9663-931c3d4ccb90}.\n"
     ]
    },
    {
     "name": "stdout",
     "output_type": "stream",
     "text": [
      "{'id': 'a9405f51-0e4c-4e15-b51d-6d72bfec879f', 'stix_id_key': 'relationship--a5e18a3a-14ae-4cac-934e-88a7edc438c8', 'entity_type': 'stix_relation', 'relationship_type': 'gathering', 'description': 'BNP Paribas is part of the sector Banking institutions.', 'weight': 1, 'role_played': 'Unknown', 'first_seen': '2020-01-22T12:39:08.855Z', 'last_seen': '2020-01-22T12:39:08.855Z', 'created': '2020-01-22T12:39:08.855Z', 'modified': '2020-01-22T12:39:08.855Z', 'created_at': '2020-01-22T12:39:08.855Z', 'updated_at': '2020-01-22T12:39:08.855Z', 'from': {'id': 'a8b723e2-82b1-46a5-9e48-d2e5ad28cf26', 'stix_id_key': 'identity--ad075cbd-00ba-4047-ab64-97ad06142a7d', 'entity_type': 'organization', 'name': 'BNP Paribas', 'description': 'A french bank.'}, 'to': {'id': '576f97d3-5e8d-4822-9663-931c3d4ccb90', 'stix_id_key': 'identity--cda34d5b-c9d8-4a61-85ce-5f00760bebb9', 'entity_type': 'sector', 'name': 'Banking institutions', 'description': 'Includes Central Banks.'}, 'createdByRef': None, 'markingDefinitions': [], 'killChainPhases': [], 'externalReferences': [], 'markingDefinitionsIds': [], 'killChainPhasesIds': [], 'externalReferencesIds': []}\n"
     ]
    }
   ],
   "source": [
    "import datetime\n",
    "\n",
    "from pycti import OpenCTIApiClient\n",
    "\n",
    "# Variables\n",
    "api_url = 'http://192.168.83.129:8080'\n",
    "api_token = '935050ad-d55e-44dc-b658-abb960c0e175'\n",
    "\n",
    "# OpenCTI initialization\n",
    "opencti_api_client = OpenCTIApiClient(api_url, api_token)\n",
    "\n",
    "# Get the sector\n",
    "sector = opencti_api_client.identity.read(filters=[{'key': 'name', 'values': ['Banking institutions']}])\n",
    "\n",
    "# Create the organization\n",
    "organization = opencti_api_client.identity.create(\n",
    "    type='Organization',\n",
    "    name='BNP Paribas',\n",
    "    description='A french bank.'\n",
    ")\n",
    "\n",
    "# Create the relation\n",
    "relation = opencti_api_client.stix_relation.create(\n",
    "    fromType='Organization',\n",
    "    fromId=organization['id'],\n",
    "    toType='Sector',\n",
    "    toId=sector['id'],\n",
    "    relationship_type='gathering',\n",
    "    description='BNP Paribas is part of the sector Banking institutions.',\n",
    "    ignore_dates=True\n",
    ")\n",
    "\n",
    "# Print\n",
    "print(relation)"
   ]
  },
  {
   "cell_type": "code",
   "execution_count": null,
   "metadata": {},
   "outputs": [],
   "source": [
    "import datetime\n",
    "\n",
    "from pycti import OpenCTIApiClient\n",
    "\n",
    "# Variables\n",
    "api_url = 'http://192.168.83.129:8080'\n",
    "api_token = '935050ad-d55e-44dc-b658-abb960c0e175'\n",
    "\n",
    "\n",
    "# OpenCTI initialization\n",
    "opencti_api_client = OpenCTIApiClient(api_url, api_token)\n",
    "\n",
    "# Get the sector\n",
    "sector = opencti_api_client.identity.read(filters=[{'key': 'name', 'values': ['China']}])\n",
    "\n",
    "# Create the organization\n",
    "organization = opencti_api_client.identity.create(\n",
    "    type='Organization',\n",
    "    name='BNP Paribas',\n",
    "    description='A french bank.'\n",
    ")\n",
    "\n",
    "# Create the relation\n",
    "relation = opencti_api_client.stix_relation.create(\n",
    "    fromType='Organization',\n",
    "    fromId=organization['id'],\n",
    "    toType='Sector',\n",
    "    toId=sector['id'],\n",
    "    relationship_type='gathering',\n",
    "    description='BNP Paribas is part of the sector Banking institutions.',\n",
    "    ignore_dates=True\n",
    ")\n",
    "\n",
    "# Print\n",
    "print(relation)"
   ]
  },
  {
   "cell_type": "code",
   "execution_count": 46,
   "metadata": {},
   "outputs": [
    {
     "name": "stderr",
     "output_type": "stream",
     "text": [
      "INFO:root:Listing Threat-Actors with filters null.\n",
      "INFO:root:Listing Identities with filters [{\"key\": \"name\", \"values\": [\"China\"]}].\n",
      "INFO:root:Listing Intrusion-Sets with filters [{\"key\": \"name\", \"values\": [\"APT12\"]}].\n",
      "INFO:root:Listing stix_relations with {type: targets, from_id: 2f6ce93b-dfbd-46fc-9dfb-3c8d492e6063, to_id: 3ea69ef8-b277-4d03-b94e-b6d42318ea8c}\n",
      "INFO:root:Creating stix_relation {source: 2f6ce93b-dfbd-46fc-9dfb-3c8d492e6063, target: 3ea69ef8-b277-4d03-b94e-b6d42318ea8c}.\n"
     ]
    }
   ],
   "source": [
    "import datetime\n",
    "\n",
    "from pycti import OpenCTIApiClient\n",
    "\n",
    "# Variables\n",
    "api_url = 'http://192.168.83.129:8080'\n",
    "api_token = '935050ad-d55e-44dc-b658-abb960c0e175'\n",
    "\n",
    "\n",
    "# OpenCTI initialization\n",
    "opencti_api_client = OpenCTIApiClient(api_url, api_token)\n",
    "\n",
    "# Get the sector\n",
    "country = opencti_api_client.identity.read(filters=[{'key': 'name', 'values': ['China']}])\n",
    "\n",
    "threat =opencti_api_client.intrusion_set.read(filters=[{'key': 'name', 'values': ['APT12']}])\n",
    "\n",
    "relation = opencti_api_client.stix_relation.create(\n",
    "    fromType='intrusion-set',\n",
    "    fromId=threat['id'],\n",
    "    toType='country',\n",
    "    toId=country['id'],\n",
    "    relationship_type='targets',\n",
    "    description='APT12 belongs to china',\n",
    "    ignore_dates=True\n",
    ")\n"
   ]
  },
  {
   "cell_type": "code",
   "execution_count": 41,
   "metadata": {},
   "outputs": [
    {
     "name": "stderr",
     "output_type": "stream",
     "text": [
      "INFO:root:Listing Intrusion-Sets with filters [{\"key\": \"name\", \"values\": [\"APT12\"]}].\n"
     ]
    }
   ],
   "source": [
    "threat =opencti_api_client.intrusion_set.read(filters=[{'key': 'name', 'values': ['APT12']}])"
   ]
  },
  {
   "cell_type": "code",
   "execution_count": 42,
   "metadata": {},
   "outputs": [
    {
     "data": {
      "text/plain": [
       "{'id': '2f6ce93b-dfbd-46fc-9dfb-3c8d492e6063',\n",
       " 'stix_id_key': 'intrusion-set--c47f937f-1022-4f42-8525-e7a4779a14cb',\n",
       " 'stix_label': None,\n",
       " 'entity_type': 'intrusion-set',\n",
       " 'parent_types': ['Intrusion-Set', 'Stix-Domain-Entity', 'Stix-Domain'],\n",
       " 'name': 'APT12',\n",
       " 'alias': ['APT12', 'IXESHE', 'DynCalc', 'Numbered Panda', 'DNSCALC'],\n",
       " 'description': '[APT12](https://attack.mitre.org/groups/G0005) is a threat group that has been attributed to China. The group has targeted a variety of victims including but not limited to media outlets, high-tech companies, and multiple governments.(Citation: Meyers Numbered Panda)',\n",
       " 'graph_data': None,\n",
       " 'first_seen': '2020-01-21T09:17:00.906Z',\n",
       " 'last_seen': '2020-01-21T09:17:00.906Z',\n",
       " 'goal': None,\n",
       " 'sophistication': None,\n",
       " 'resource_level': None,\n",
       " 'primary_motivation': None,\n",
       " 'secondary_motivation': None,\n",
       " 'created': '2017-05-31T21:31:47.537Z',\n",
       " 'modified': '2019-06-10T19:28:00.749Z',\n",
       " 'created_at': '2020-01-21T09:17:00.907Z',\n",
       " 'updated_at': '2020-01-21T09:17:00.907Z',\n",
       " 'createdByRef': {'id': 'f55e8b7b-7a67-4b9f-8717-e042e0752a09',\n",
       "  'entity_type': 'organization',\n",
       "  'stix_id_key': 'identity--c78cb6e5-0c4b-4611-8297-d1b8b55e40b5',\n",
       "  'stix_label': None,\n",
       "  'name': 'The MITRE Corporation',\n",
       "  'alias': [''],\n",
       "  'description': '',\n",
       "  'created': '2017-06-01T00:00:00.000Z',\n",
       "  'modified': '2017-06-01T00:00:00.000Z',\n",
       "  'remote_relation_id': 'fc9409b1-1b89-44ba-9270-df4c7506b8eb'},\n",
       " 'markingDefinitions': [{'id': 'cf7fd7d2-ba70-4793-9ba5-10a4dcde436e',\n",
       "   'entity_type': 'marking-definition',\n",
       "   'stix_id_key': 'marking-definition--fa42a846-8d90-4e51-bc29-71d5b4802168',\n",
       "   'definition_type': 'statement',\n",
       "   'definition': 'Copyright 2017, The MITRE Corporation',\n",
       "   'level': 0,\n",
       "   'color': None,\n",
       "   'created': '2017-06-01T00:00:00.000Z',\n",
       "   'modified': '2020-01-21T08:28:21.315Z',\n",
       "   'remote_relation_id': '821b18c9-7212-49b0-9d71-84520ab4b122',\n",
       "   'createdByRef': None}],\n",
       " 'tags': [],\n",
       " 'externalReferences': [{'id': '4f3e67bb-81c2-4bc2-9b0c-5cfb230a50e3',\n",
       "   'entity_type': 'external-reference',\n",
       "   'stix_id_key': 'external-reference--a2e0ee22-3fcb-42ba-b393-7ebc678f6810',\n",
       "   'source_name': 'mitre-attack',\n",
       "   'description': None,\n",
       "   'url': 'https://attack.mitre.org/groups/G0005',\n",
       "   'hash': None,\n",
       "   'external_id': 'G0005',\n",
       "   'created': '2020-01-21T09:16:50.333Z',\n",
       "   'modified': '2020-01-21T09:16:50.333Z',\n",
       "   'remote_relation_id': 'c8582488-b402-4bf3-bd3e-b0e879fc7c2b',\n",
       "   'createdByRef': None},\n",
       "  {'id': '10318e83-ed69-4823-b9f0-88686d3fc639',\n",
       "   'entity_type': 'external-reference',\n",
       "   'stix_id_key': 'external-reference--24217734-8d8d-46a0-aca8-ea15019201bc',\n",
       "   'source_name': 'Moran 2014',\n",
       "   'description': 'Moran, N., Oppenheim, M., Engle, S., & Wartell, R.. (2014, September 3). Darwin’s Favorite APT Group &#91;Blog&#93;. Retrieved November 12, 2014.',\n",
       "   'url': 'https://www.fireeye.com/blog/threat-research/2014/09/darwins-favorite-apt-group-2.html',\n",
       "   'hash': None,\n",
       "   'external_id': None,\n",
       "   'created': '2020-01-21T09:16:57.266Z',\n",
       "   'modified': '2020-01-21T09:16:57.266Z',\n",
       "   'remote_relation_id': '561558c1-b837-43db-acd3-4a3612894576',\n",
       "   'createdByRef': None},\n",
       "  {'id': '6679690a-5982-49ac-a278-a105f560e949',\n",
       "   'entity_type': 'external-reference',\n",
       "   'stix_id_key': 'external-reference--0cc3983f-4f1a-4bdc-ae2f-af1afb16abfe',\n",
       "   'source_name': 'Meyers Numbered Panda',\n",
       "   'description': 'Meyers, A. (2013, March 29). Whois Numbered Panda. Retrieved January 14, 2016.',\n",
       "   'url': 'http://www.crowdstrike.com/blog/whois-numbered-panda/',\n",
       "   'hash': None,\n",
       "   'external_id': None,\n",
       "   'created': '2020-01-21T09:16:54.137Z',\n",
       "   'modified': '2020-01-21T09:16:54.137Z',\n",
       "   'remote_relation_id': 'ff6fc9a0-0503-4729-8abe-e819fcf09a67',\n",
       "   'createdByRef': None}],\n",
       " 'markingDefinitionsIds': [],\n",
       " 'tagsIds': [],\n",
       " 'externalReferencesIds': []}"
      ]
     },
     "execution_count": 42,
     "metadata": {},
     "output_type": "execute_result"
    }
   ],
   "source": [
    "threat"
   ]
  },
  {
   "cell_type": "code",
   "execution_count": null,
   "metadata": {},
   "outputs": [],
   "source": []
  }
 ],
 "metadata": {
  "kernelspec": {
   "display_name": "Python 3",
   "language": "python",
   "name": "python3"
  },
  "language_info": {
   "codemirror_mode": {
    "name": "ipython",
    "version": 3
   },
   "file_extension": ".py",
   "mimetype": "text/x-python",
   "name": "python",
   "nbconvert_exporter": "python",
   "pygments_lexer": "ipython3",
   "version": "3.7.4"
  }
 },
 "nbformat": 4,
 "nbformat_minor": 2
}
