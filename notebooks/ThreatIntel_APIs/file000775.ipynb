{
 "cells": [
  {
   "cell_type": "code",
   "execution_count": 3,
   "metadata": {},
   "outputs": [],
   "source": [
    "import pandas as pd\n",
    "import uuid\n",
    "from datetime import datetime\n",
    "import numpy as np\n",
    "from grakn.client import GraknClient\n",
    "from tqdm import tqdm\n",
    "tqdm.pandas()"
   ]
  },
  {
   "cell_type": "code",
   "execution_count": 5,
   "metadata": {},
   "outputs": [],
   "source": [
    "df=pd.read_excel(r\"D:\\Threat_intel_services\\APT_collections\\relation\\intrusion-malware.xlsx\")"
   ]
  },
  {
   "cell_type": "code",
   "execution_count": 7,
   "metadata": {},
   "outputs": [
    {
     "data": {
      "text/html": [
       "<div>\n",
       "<style scoped>\n",
       "    .dataframe tbody tr th:only-of-type {\n",
       "        vertical-align: middle;\n",
       "    }\n",
       "\n",
       "    .dataframe tbody tr th {\n",
       "        vertical-align: top;\n",
       "    }\n",
       "\n",
       "    .dataframe thead th {\n",
       "        text-align: right;\n",
       "    }\n",
       "</style>\n",
       "<table border=\"1\" class=\"dataframe\">\n",
       "  <thead>\n",
       "    <tr style=\"text-align: right;\">\n",
       "      <th></th>\n",
       "      <th>Group_name</th>\n",
       "      <th>malware_name</th>\n",
       "    </tr>\n",
       "  </thead>\n",
       "  <tbody>\n",
       "    <tr>\n",
       "      <th>0</th>\n",
       "      <td>APT12</td>\n",
       "      <td>Ixeshe</td>\n",
       "    </tr>\n",
       "    <tr>\n",
       "      <th>1</th>\n",
       "      <td>APT12</td>\n",
       "      <td>Aumlib</td>\n",
       "    </tr>\n",
       "    <tr>\n",
       "      <th>2</th>\n",
       "      <td>APT12</td>\n",
       "      <td>Threebyte</td>\n",
       "    </tr>\n",
       "    <tr>\n",
       "      <th>3</th>\n",
       "      <td>APT12</td>\n",
       "      <td>Hightide</td>\n",
       "    </tr>\n",
       "    <tr>\n",
       "      <th>4</th>\n",
       "      <td>APT12</td>\n",
       "      <td>Waterspout</td>\n",
       "    </tr>\n",
       "  </tbody>\n",
       "</table>\n",
       "</div>"
      ],
      "text/plain": [
       "  Group_name malware_name\n",
       "0      APT12       Ixeshe\n",
       "1      APT12       Aumlib\n",
       "2      APT12    Threebyte\n",
       "3      APT12     Hightide\n",
       "4      APT12   Waterspout"
      ]
     },
     "execution_count": 7,
     "metadata": {},
     "output_type": "execute_result"
    }
   ],
   "source": [
    "df.head()"
   ]
  },
  {
   "cell_type": "code",
   "execution_count": 41,
   "metadata": {},
   "outputs": [],
   "source": [
    "def intrusion_uses_malware(df):\n",
    "    graql_insert_query=     f'match $i isa Intrusion-Set,'\\\n",
    "                        f'has name \\\"'+df['Group_name']+'\\\";'\\\n",
    "                        f'$m isa Malware,'\\\n",
    "                        f'has name \\\"'+df['malware_name'].strip()+'\\\";'\\\n",
    "                        f'insert $uses (user:$i ,usage:$m) isa uses;'\n",
    "    print(graql_insert_query)"
   ]
  },
  {
   "cell_type": "code",
   "execution_count": 43,
   "metadata": {},
   "outputs": [
    {
     "name": "stdout",
     "output_type": "stream",
     "text": [
      "match $i isa Intrusion-Set,has name \"APT12\";$m isa Malware,has name \"Ixeshe\";insert $uses (user:$i ,usage:$m) isa uses;\n",
      "match $i isa Intrusion-Set,has name \"APT12\";$m isa Malware,has name \"Aumlib\";insert $uses (user:$i ,usage:$m) isa uses;\n",
      "match $i isa Intrusion-Set,has name \"APT12\";$m isa Malware,has name \"Threebyte\";insert $uses (user:$i ,usage:$m) isa uses;\n",
      "match $i isa Intrusion-Set,has name \"APT12\";$m isa Malware,has name \"Hightide\";insert $uses (user:$i ,usage:$m) isa uses;\n",
      "match $i isa Intrusion-Set,has name \"APT12\";$m isa Malware,has name \"Waterspout\";insert $uses (user:$i ,usage:$m) isa uses;\n",
      "match $i isa Intrusion-Set,has name \"Cobalt\";$m isa Malware,has name \"Coblnt\";insert $uses (user:$i ,usage:$m) isa uses;\n",
      "match $i isa Intrusion-Set,has name \"Cobalt\";$m isa Malware,has name \"More_eggs\";insert $uses (user:$i ,usage:$m) isa uses;\n",
      "match $i isa Intrusion-Set,has name \"Cobalt\";$m isa Malware,has name \"Carbanak\";insert $uses (user:$i ,usage:$m) isa uses;\n",
      "match $i isa Intrusion-Set,has name \"Cobalt\";$m isa Malware,has name \"PetrWrap\";insert $uses (user:$i ,usage:$m) isa uses;\n",
      "match $i isa Intrusion-Set,has name \"blackOasis\";$m isa Malware,has name \"Finspy\";insert $uses (user:$i ,usage:$m) isa uses;\n",
      "match $i isa Intrusion-Set,has name \"blackOasis\";$m isa Malware,has name \"Finfisher\";insert $uses (user:$i ,usage:$m) isa uses;\n",
      "match $i isa Intrusion-Set,has name \"blackOasis\";$m isa Malware,has name \"wingbird\";insert $uses (user:$i ,usage:$m) isa uses;\n",
      "match $i isa Intrusion-Set,has name \"APT28\";$m isa Malware,has name \"ADVSTORESHELL\";insert $uses (user:$i ,usage:$m) isa uses;\n",
      "match $i isa Intrusion-Set,has name \"APT28\";$m isa Malware,has name \"Cannon\";insert $uses (user:$i ,usage:$m) isa uses;\n",
      "match $i isa Intrusion-Set,has name \"APT28\";$m isa Malware,has name \"CHOPSTICK\";insert $uses (user:$i ,usage:$m) isa uses;\n",
      "match $i isa Intrusion-Set,has name \"APT28\";$m isa Malware,has name \"CORESHELL\";insert $uses (user:$i ,usage:$m) isa uses;\n",
      "match $i isa Intrusion-Set,has name \"APT28\";$m isa Malware,has name \"Downdelph\";insert $uses (user:$i ,usage:$m) isa uses;\n",
      "match $i isa Intrusion-Set,has name \"APT28\";$m isa Malware,has name \"Fysbis\";insert $uses (user:$i ,usage:$m) isa uses;\n",
      "match $i isa Intrusion-Set,has name \"APT28\";$m isa Malware,has name \"JHUHUGIT\";insert $uses (user:$i ,usage:$m) isa uses;\n",
      "match $i isa Intrusion-Set,has name \"APT28\";$m isa Malware,has name \"HIDEDRV\";insert $uses (user:$i ,usage:$m) isa uses;\n",
      "match $i isa Intrusion-Set,has name \"APT28\";$m isa Malware,has name \"Komplex\";insert $uses (user:$i ,usage:$m) isa uses;\n",
      "match $i isa Intrusion-Set,has name \"APT28\";$m isa Malware,has name \"LoJax\";insert $uses (user:$i ,usage:$m) isa uses;\n",
      "match $i isa Intrusion-Set,has name \"APT28\";$m isa Malware,has name \"XAgentOSX\";insert $uses (user:$i ,usage:$m) isa uses;\n",
      "match $i isa Intrusion-Set,has name \"APT28\";$m isa Malware,has name \"XTunnel\";insert $uses (user:$i ,usage:$m) isa uses;\n",
      "match $i isa Intrusion-Set,has name \"APT28\";$m isa Malware,has name \"Zebrocy\";insert $uses (user:$i ,usage:$m) isa uses;\n",
      "match $i isa Intrusion-Set,has name \"APT30\";$m isa Malware,has name \"Backspace\";insert $uses (user:$i ,usage:$m) isa uses;\n",
      "match $i isa Intrusion-Set,has name \"APT30\";$m isa Malware,has name \"Flashflood\";insert $uses (user:$i ,usage:$m) isa uses;\n",
      "match $i isa Intrusion-Set,has name \"APT30\";$m isa Malware,has name \"spaceship\";insert $uses (user:$i ,usage:$m) isa uses;\n",
      "match $i isa Intrusion-Set,has name \"APT30\";$m isa Malware,has name \"Neteagle\";insert $uses (user:$i ,usage:$m) isa uses;\n",
      "match $i isa Intrusion-Set,has name \"APT30\";$m isa Malware,has name \"shipspace\";insert $uses (user:$i ,usage:$m) isa uses;\n"
     ]
    }
   ],
   "source": [
    "for index,i in df.iterrows():\n",
    "    intrusion_uses_malware(df=i)"
   ]
  },
  {
   "cell_type": "code",
   "execution_count": 17,
   "metadata": {},
   "outputs": [],
   "source": [
    " graql_attribute_delete_query = f\"match $i isa Malware, \" \\\n",
    "                                           f\"has name \\\"name\\\", \"\\\n",
    "                                           f\"has alias $a via $i1, \"\\\n",
    "                                           f\"has description $a via $i2; \"\\\n",
    "                                           f\"delete $i1, $i2;\""
   ]
  },
  {
   "cell_type": "code",
   "execution_count": null,
   "metadata": {},
   "outputs": [],
   "source": [
    "graql_attribute_delete_query"
   ]
  },
  {
   "cell_type": "code",
   "execution_count": 1,
   "metadata": {},
   "outputs": [],
   "source": [
    "graql_insert_query = f'match $character isa character, ' \\\n",
    "                           f'has name \"apt28\"; ' \\\n",
    "                           f'$spouse isa character, ' \\\n",
    "                           f'has name \"petya\";' \\\n",
    "                           f'insert $marriage(partner1: $spouse, partner2: $character) isa marriage;'"
   ]
  },
  {
   "cell_type": "code",
   "execution_count": 2,
   "metadata": {},
   "outputs": [
    {
     "data": {
      "text/plain": [
       "'match $character isa character, has name \"apt28\"; $spouse isa character, has name \"petya\";insert $marriage(partner1: $spouse, partner2: $character) isa marriage;'"
      ]
     },
     "execution_count": 2,
     "metadata": {},
     "output_type": "execute_result"
    }
   ],
   "source": [
    "graql_insert_query"
   ]
  },
  {
   "cell_type": "code",
   "execution_count": null,
   "metadata": {},
   "outputs": [],
   "source": []
  }
 ],
 "metadata": {
  "kernelspec": {
   "display_name": "Python 3",
   "language": "python",
   "name": "python3"
  },
  "language_info": {
   "codemirror_mode": {
    "name": "ipython",
    "version": 3
   },
   "file_extension": ".py",
   "mimetype": "text/x-python",
   "name": "python",
   "nbconvert_exporter": "python",
   "pygments_lexer": "ipython3",
   "version": "3.7.4"
  }
 },
 "nbformat": 4,
 "nbformat_minor": 2
}
