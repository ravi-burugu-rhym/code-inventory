{
 "cells": [
  {
   "cell_type": "code",
   "execution_count": 1,
   "metadata": {},
   "outputs": [],
   "source": [
    "import datetime\n",
    "from pycti import OpenCTIApiClient\n",
    "from dateutil.parser import parse\n",
    "import pandas as pd\n",
    "import os\n",
    "import warnings"
   ]
  },
  {
   "cell_type": "code",
   "execution_count": 107,
   "metadata": {},
   "outputs": [
    {
     "name": "stderr",
     "output_type": "stream",
     "text": [
      "INFO:root:Listing Threat-Actors with filters null.\n"
     ]
    }
   ],
   "source": [
    "api_url = \"http://192.168.1.251:8080\"\n",
    "api_token = \"b939cbc2-09b0-4282-bdd7-126162946ba3\"\n",
    "\n",
    "# OpenCTI initialization\n",
    "opencti_api_client = OpenCTIApiClient(api_url, api_token)\n"
   ]
  },
  {
   "cell_type": "code",
   "execution_count": 3,
   "metadata": {},
   "outputs": [
    {
     "name": "stderr",
     "output_type": "stream",
     "text": [
      "INFO:root:Listing Threat-Actors with filters null.\n"
     ]
    }
   ],
   "source": [
    "api_url = \"https://demo.opencti.io\"\n",
    "api_token = \"2b4f29e3-5ea8-4890-8cf5-a76f61f1e2b2\"\n",
    "\n",
    "# OpenCTI initialization\n",
    "opencti_api_client = OpenCTIApiClient(api_url, api_token)\n"
   ]
  },
  {
   "cell_type": "code",
   "execution_count": 126,
   "metadata": {},
   "outputs": [],
   "source": [
    "class entity_insertion:\n",
    "    \n",
    "   \n",
    "        \n",
    "\n",
    "    def __init__(self,report_path,relation_path,stix_domain= dict(),ext_ref=dict()):\n",
    "    \n",
    "        self.report_path = report_path\n",
    "        self.stix_domain = stix_domain\n",
    "        self.ext_ref = ext_ref\n",
    "        self.relation_path =relation_path\n",
    "    \n",
    "    def add_mark_def(self,row,stix_id):\n",
    "        mark      =row['marking_definitions']\n",
    "        all_marks =opencti_api_client.marking_definition.list()\n",
    "        for i in all_marks:\n",
    "            if mark in i['definition'].lower():\n",
    "                mark_code= i['id']\n",
    "                opencti_api_client.stix_entity.add_marking_definition(id=stix_id,marking_definition_id=mark_code)  \n",
    "                \n",
    "    def add_external_references_to_stix_entity(self,url,entity_id,ext_ref):\n",
    "        \n",
    "        key=ext_ref.keys()\n",
    "        if url in key :\n",
    "                opencti_api_client.stix_entity.add_external_reference(id=entity_id, external_reference_id= self.stix_domain[url]\n",
    "                                                                     )\n",
    "    def creating_and_adding_ext_ref(self,by,report):\n",
    "        \n",
    "        ext_ref_details = pd.read_excel(self.report_path,sheet_name = 'external_ref')\n",
    "        ext_ref_details = ext_ref_details.where(ext_ref_details.notnull(), None)\n",
    "        \n",
    "        for index,row in ext_ref_details.iterrows():\n",
    "                \n",
    "                external_reference = opencti_api_client.external_reference.create(\n",
    "                            source_name= row['source_name'],\n",
    "                            url= row['url'].strip(),\n",
    "                            external_id =row['external_id'],\n",
    "                            description = row['description']\n",
    "                )\n",
    "                    \n",
    "                opencti_api_client.stix_entity.add_external_reference(id=report,external_reference_id = external_reference['id'] )  \n",
    "                self.ext_ref.update ({row['url'].strip() : external_reference['id']})               \n",
    "     \n",
    "    def create_threat_actor(self,by,report):\n",
    "            \n",
    "            threat_actor_details = pd.read_excel(self.report_path,sheet_name = 'threat_actor')\n",
    "            threat_actor_details = threat_actor_details.where(threat_actor_details.notnull(), None)\n",
    "            \n",
    "            for index,row in threat_actor_details.iterrows():\n",
    "            \n",
    "                print(row['name'])\n",
    "                if row['alias'] is not None:\n",
    "                    aliases =row['alias'].split(',')\n",
    "                else:\n",
    "                    aliases = None\n",
    "                    \n",
    "\n",
    "                \n",
    "                threat_actor = opencti_api_client.threat_actor.create(\n",
    "                                                name = row['name'].strip(),\n",
    "                                                description = row['description'],\n",
    "                                                alias = aliases ,\n",
    "                                                goal = row['goal'] ,\n",
    "                                                sophistication = row['sophistication'] ,\n",
    "                                                resource_level = row['resource_level'] ,\n",
    "                                                primary_motivation = row['primary_motivation'] ,\n",
    "                                                secondary_motivation = row['secondary_motivation'] ,\n",
    "                                                personal_motivation = row['personal_motivation'] ,\n",
    "                                                modified = datetime.date.today().strftime(\"%Y-%m-%dT%H:%M:%S+00:00\") ,\n",
    "                                                createdByRef = by,\n",
    "                                                update = False\n",
    "                                                 )\n",
    "                    \n",
    "                if row['marking_definitions'] is not None:\n",
    "                        self.add_mark_def(stix_id=threat_actor['id'],row=row)\n",
    "                        \n",
    "                opencti_api_client.report.add_stix_entity(id=report,entity_id = threat_actor['id'] )       \n",
    "                self.stix_domain.update ({row['name'].strip() : threat_actor['id']})\n",
    "                self.add_external_references_to_stix_entity (url=row['external_references'],entity_id =threat_actor['id'],ext_ref =self.ext_ref )\n",
    "                \n",
    "                        \n",
    "    def create_attack_pattern(self,by,report):           #attack_pattern insertion    \n",
    "            \n",
    "            attack_pattern_details = pd.read_excel(self.report_path,sheet_name = 'attack_pattern')\n",
    "            attack_pattern_details = attack_pattern_details.where(attack_pattern_details.notnull(), None)\n",
    "            \n",
    "            for index,row in attack_pattern_details.iterrows():\n",
    "            \n",
    "                if row['alias'] is not None:\n",
    "                    aliases =row['alias'].split(',')\n",
    "                else:\n",
    "                    aliases = None\n",
    "                    \n",
    "                if row['platform'] is not None:\n",
    "                    platforms =row['platform'].split(',')\n",
    "                else:\n",
    "                    platforms = None\n",
    "                    \n",
    "                print(row['required_permission'])   \n",
    "                \n",
    "                exist = opencti_api_client.attack_pattern.list ( filters=[{'key' : 'name' , 'values' : row['name']}])\n",
    "                \n",
    "                if (len(exist) == 0):\n",
    "                    by = by\n",
    "                else:\n",
    "                    by = None\n",
    "                \n",
    "                \n",
    "                attack_pattern = opencti_api_client.attack_pattern.create(\n",
    "                                                name = row['name'].strip(),\n",
    "                                                description = row['description'],\n",
    "                                                alias = aliases,\n",
    "                                                platform  = platforms ,\n",
    "                                                required_permission = row['required_permission'] ,\n",
    "                                                external_id  = row['external_id'] ,\n",
    "                                                modified = datetime.date.today().strftime(\"%Y-%m-%dT%H:%M:%S+00:00\") ,\n",
    "                                                createdByRef = by,\n",
    "                                                update=True\n",
    "                                                )\n",
    "                                          \n",
    "                if row['marking_definitions'] is not None:\n",
    "                        self.add_mark_def(stix_id=attack_pattern['id'],row=row)\n",
    "                        \n",
    "                        \n",
    "                opencti_api_client.report.add_stix_entity(id=report,entity_id = attack_pattern['id'] )  \n",
    "                self.stix_domain.update ({row['name'].strip() : attack_pattern['id']})      \n",
    "                self.add_external_references_to_stix_entity (url=row['external_references'],entity_id =attack_pattern['id'],ext_ref =self.ext_ref ) \n",
    "                    \n",
    "    def create_malware(self,by,report):           #malware insertion    \n",
    "            \n",
    "            malware_details = pd.read_excel(self.report_path,sheet_name = 'malware')\n",
    "            malware_details = malware_details.where(malware_details.notnull(), None)\n",
    "            \n",
    "            for index,row in malware_details.iterrows():\n",
    "            \n",
    "                if row['alias'] is not None:\n",
    "                    aliases =row['alias'].split(',')\n",
    "                    print(aliases)\n",
    "                else:\n",
    "                    aliases = None\n",
    "                \n",
    "                exist = opencti_api_client.malware.list ( filters=[{'key' : 'name' , 'values' : row['name']}])\n",
    "            \n",
    "                if (len(exist) == 0):\n",
    "                    malware = opencti_api_client.malware.create(\n",
    "                                                name = row['name'].strip(),\n",
    "                                                description = row['description'],\n",
    "                                                alias = aliases ,\n",
    "                                                modified = datetime.date.today().strftime(\"%Y-%m-%dT%H:%M:%S+00:00\") ,\n",
    "                                                createdByRef = by,\n",
    "                                                )\n",
    "                else:\n",
    "                     malware = opencti_api_client.malware.create(\n",
    "                                                name = row['name'].strip(),\n",
    "                                                description = row['description'],\n",
    "                                                alias = aliases ,\n",
    "                                                modified = datetime.date.today().strftime(\"%Y-%m-%dT%H:%M:%S+00:00\") ,\n",
    "                                                update = True,\n",
    "                                                 )\n",
    "                if row['marking_definitions'] is not None:\n",
    "                        self.add_mark_def(stix_id=malware['id'],row=row)\n",
    "                        \n",
    "                opencti_api_client.report.add_stix_entity(id=report,entity_id = malware['id'] )\n",
    "                self.stix_domain.update ({row['name'].strip() : malware['id']}) \n",
    "                self.add_external_references_to_stix_entity (url=row['external_references'],entity_id =malware['id'],ext_ref =self.ext_ref )\n",
    "                \n",
    "    def create_tool(self,by,report):           #malware insertion    \n",
    "            \n",
    "            tool_details = pd.read_excel(self.report_path,sheet_name = 'tool')\n",
    "            tool_details = tool_details.where(tool_details.notnull(), None)\n",
    "            \n",
    "            for index,row in tool_details.iterrows():\n",
    "            \n",
    "                if row['alias'] is not None:\n",
    "                    aliases =row['alias'].split(',')\n",
    "                    print(aliases)\n",
    "                else:\n",
    "                    aliases = None\n",
    "                \n",
    "                exist = opencti_api_client.tool.list ( filters=[{'key' : 'name' , 'values' : row['name']}])\n",
    "            \n",
    "                if (len(exist) == 0):\n",
    "                    tool = opencti_api_client.tool.create(\n",
    "                                                name = row['name'].strip(),\n",
    "                                                description = row['description'],\n",
    "                                                alias = aliases ,\n",
    "                                                modified = datetime.date.today().strftime(\"%Y-%m-%dT%H:%M:%S+00:00\") ,\n",
    "                                                createdByRef = by,\n",
    "                                                )\n",
    "                else:\n",
    "                     tool = opencti_api_client.tool.create(\n",
    "                                                name = row['name'].strip(),\n",
    "                                                description = row['description'],\n",
    "                                                alias = aliases ,\n",
    "                                                modified = datetime.date.today().strftime(\"%Y-%m-%dT%H:%M:%S+00:00\") ,\n",
    "                                                update = True,\n",
    "                                                 )\n",
    "                if row['marking_definitions'] is not None:\n",
    "                        self.add_mark_def(stix_id=tool['id'],row=row)\n",
    "                        \n",
    "                opencti_api_client.report.add_stix_entity(id=report,entity_id = tool['id'] )\n",
    "                self.stix_domain.update ({row['name'].strip() : tool['id']})\n",
    "                self.add_external_references_to_stix_entity (url=row['external_references'],entity_id =tool['id'],ext_ref =self.ext_ref )\n",
    "                \n",
    "    def create_vulnerabilty(self,by,report):           #vulnerability insertion    \n",
    "            \n",
    "            vul_details = pd.read_excel(self.report_path,sheet_name = 'vulnerability')\n",
    "            vul_details = vul_details.where(vul_details.notnull(), None)\n",
    "            \n",
    "            for index,row in vul_details.iterrows():\n",
    "            \n",
    "                if row['alias'] is not None:\n",
    "                    aliases =row['alias'].split(',')\n",
    "                    print(aliases)\n",
    "                else:\n",
    "                    aliases = None\n",
    "                \n",
    "                exist = opencti_api_client.vulnerability.list ( filters=[{'key' : 'name' , 'values' : row['name']}])\n",
    "            \n",
    "                if (len(exist) == 0):\n",
    "                    vulnerability = opencti_api_client.vulnerability.create(\n",
    "                                                name = row['name'].strip(),\n",
    "                                                description = row['description'],\n",
    "                                                alias = aliases ,\n",
    "                                                modified = datetime.date.today().strftime(\"%Y-%m-%dT%H:%M:%S+00:00\") ,\n",
    "                                                createdByRef = by,\n",
    "                                                )\n",
    "                else:\n",
    "                     vulnerability = opencti_api_client.vulnerability.create(\n",
    "                                                name = row['name'].strip(),\n",
    "                                                description = row['description'],\n",
    "                                                alias = aliases ,\n",
    "                                                modified = datetime.date.today().strftime(\"%Y-%m-%dT%H:%M:%S+00:00\") ,\n",
    "                                                update = True,\n",
    "                                                 )\n",
    "                if row['marking_definitions'] is not None:\n",
    "                        self.add_mark_def(stix_id=vulnerability['id'],row=row)\n",
    "                        \n",
    "                opencti_api_client.report.add_stix_entity(id=report,entity_id = vulnerability['id'] )\n",
    "                self.stix_domain.update ({row['name'].strip() : vulnerability['id']})  \n",
    "                self.add_external_references_to_stix_entity (url=row['external_references'],entity_id =vulnerability['id'],ext_ref =self.ext_ref )\n",
    "                \n",
    "    def create_indicator(self,by,report):           #vulnerability insertion    \n",
    "            \n",
    "            indicator_details = pd.read_excel(self.report_path,sheet_name = 'Indicator')\n",
    "            indicator_details = indicator_details.where(indicator_details.notnull(), None)\n",
    "            \n",
    "            for index,row in indicator_details.iterrows():\n",
    "            \n",
    "                #exist = opencti_api_client.indicator.list ( filters=[{'key' : 'name' , 'values' : row['name']}])\n",
    "                exist=[]\n",
    "                if (len(exist) == 0):\n",
    "                    indicator = opencti_api_client.indicator.create(\n",
    "                                                                name=row['name'],\n",
    "                                                                description= row['description'],\n",
    "                                                                pattern_type= row['pattern_type'],\n",
    "                                                                main_observable_type= row ['main_observable_type'],\n",
    "                                                                indicator_pattern=row ['indicator_pattern'],\n",
    "                                                                createdByRef = by,\n",
    "                                                                )\n",
    "                else:\n",
    "                      indicator = opencti_api_client.indicator.create(\n",
    "                                                                name=row['name'],\n",
    "                                                                description= row['description'],\n",
    "                                                                pattern_type= row['pattern_type'],\n",
    "                                                                indicator_pattern= row ['main_observable_type'],\n",
    "                                                                main_observable_type=\"File\",\n",
    "                                                                createdByRef = by,\n",
    "                                                                update =True\n",
    "                                                                  )\n",
    "                if row['marking_definitions'] is not None:\n",
    "                        self.add_mark_def(stix_id=vulnerability['id'],row=row)\n",
    "                        \n",
    "                opencti_api_client.report.add_stix_entity(id=report,entity_id = indicator['id'] )\n",
    "                self.stix_domain.update ({row['name'].strip() : indicator['id']})  \n",
    "                self.add_external_references_to_stix_entity (url=row['external_references'],entity_id =indicator['id'],ext_ref =self.ext_ref ) \n",
    "                \n",
    "\n",
    "        \n",
    "    def create_relationships(self,report):\n",
    "\n",
    "        relation_details= pd.read_excel(self.relation_path,sheet_name='relations')\n",
    "        relation_details = relation_details.where(relation_details.notnull(), None)\n",
    "\n",
    "        df=relation_details.copy()\n",
    "        df['to'] = [str(i).strip() for i in df['to']]\n",
    "        df['to']=df['to'].map(self.stix_domain)\n",
    "        df['from']=df['from'].map(self.stix_domain)\n",
    "\n",
    "        df = df.where(df.notnull(), None)\n",
    "\n",
    "\n",
    "        for index,row in df.iterrows():\n",
    "\n",
    "            if ((row['from']) is not None ) & ((row['to']) is not None ):\n",
    "\n",
    "                    print(row['from'])\n",
    "                    print(row['to'])\n",
    "                    relation = opencti_api_client.stix_relation.create(\n",
    "                    fromType= opencti_api_client.get_stix_domain_entity (id =row['from'])['entity_type'],\n",
    "                    fromId=row['from'],\n",
    "                    relationship_type = row['relation'],\n",
    "                    toType=opencti_api_client.get_stix_domain_entity (row['to'])['entity_type'],\n",
    "                    toId= row ['to'],\n",
    "                    )\n",
    "\n",
    "                    opencti_api_client.report.add_stix_entity(id=report,entity_id = relation['id'] )\n",
    "\n",
    "    \n",
    "    def create_report(self):\n",
    "\n",
    "        report_details = pd.read_excel(self.report_path,sheet_name = 'report')\n",
    "        report_details = report_details.where(report_details.notnull(), None)\n",
    "        \n",
    "        #report creation\n",
    "        for index,row in report_details.iterrows():\n",
    "            report_by = opencti_api_client.identity.list(filters=[{'key':'name','values': row['created_by_ref'] }])\n",
    "           \n",
    "            if len(report_by) == 0 : \n",
    "                warnings.warn(\"Since \" + row['created_by_ref'] + \" is not inserted in opencti.Rhymtechnologies is taken as default\")\n",
    "                report_by = organization = opencti_api_client.identity.create(\n",
    "                                            type='Organization',\n",
    "                                            name=\"Rhymtechnologies\",\n",
    "                                            alias=[\"Rhymtech\"],\n",
    "                                            description=\"A young and innovative company formed with a vision to create world leading Cyber Security products and services. The promoters are a group of highly successful professionals with diverse backgrounds across IT Delivery, Sales and Consulting, Cyber Security, Artificial Intelligence, Machine Learning and Data Sciences. Our group of consultants led by some of the best minds in the industry have successfully provided strategic and value-add services for multiple large organizations globally.\",\n",
    "                                            )\n",
    "            else:\n",
    "                report_by = report_by[0]\n",
    "                \n",
    "            #report_by = {'id': None}\n",
    "                \n",
    "            \n",
    "            print(row ['source_confidence_level'])\n",
    "            \n",
    "            report = opencti_api_client.report.create(\n",
    "                                                            name=row['name'],\n",
    "                                                            description= row['description'],\n",
    "                                                            report_class=\"Internal Report\",\n",
    "                                                            published=datetime.date.today().strftime(\"%Y-%m-%dT%H:%M:%S+00:00\"),\n",
    "                                                            createdByRef= report_by['id'],\n",
    "                                                            object_status = row['object_status'],\n",
    "                                                            source_confidence_level = row ['source_confidence_level'],\n",
    "                                                            update = True,\n",
    "                                                            )\n",
    "            if row['marking_definitions'] is not None:\n",
    "                        self.add_mark_def(stix_id=threat_actor['id'],row=row)\n",
    "            print(\"one_completed\")\n",
    "            \n",
    "            self.creating_and_adding_ext_ref(by = report_by['id'] ,report = report['id'])  \n",
    "            self.create_threat_actor(by = report_by['id'] ,report = report['id'])  \n",
    "            self.create_attack_pattern(by = report_by['id'] , report =report ['id'])\n",
    "            self.create_malware (by = report_by['id'] , report = report ['id'])\n",
    "            self.create_tool (by = report_by['id'] , report = report ['id'])\n",
    "            self.create_vulnerabilty (by = report_by['id'] , report = report ['id'])\n",
    "            self.create_indicator (by = report_by['id'] , report = report ['id'])\n",
    "            self.create_relationships (report = report ['id'])\n",
    "            \n",
    "            \n",
    "            return [self.stix_domain,self.ext_ref]\n",
    "                 \n",
    "                \n",
    "        "
   ]
  },
  {
   "cell_type": "code",
   "execution_count": null,
   "metadata": {},
   "outputs": [],
   "source": []
  },
  {
   "cell_type": "code",
   "execution_count": 127,
   "metadata": {},
   "outputs": [],
   "source": [
    "en=entity_insertion(report_path=r\"D:\\Threat_intel_services\\srikanth\\fakeapt28.xlsx\",relation_path=r\"D:\\Threat_intel_services\\srikanth\\fakeapt28_relations.xlsx\")"
   ]
  },
  {
   "cell_type": "code",
   "execution_count": 128,
   "metadata": {
    "scrolled": true
   },
   "outputs": [
    {
     "name": "stderr",
     "output_type": "stream",
     "text": [
      "INFO:root:Listing Identities with filters [{\"key\": \"name\", \"values\": \"Rhymtech\"}].\n",
      "C:\\ProgramData\\Anaconda3\\lib\\site-packages\\ipykernel_launcher.py:320: UserWarning: Since Rhymtech is not inserted in opencti.Rhymtechnologies is taken as default\n",
      "INFO:root:Listing Stix-Domain-Entities with filters [{\"key\": \"name\", \"values\": [\"Rhymtechnologies\"]}].\n",
      "INFO:root:Listing Reports with filters [{\"key\": \"name\", \"values\": [\"fakeapt28\"]}, {\"key\": \"published_day\", \"values\": [\"2020-02-04\"]}].\n",
      "INFO:root:Creating Report {fakeapt28}.\n"
     ]
    },
    {
     "name": "stdout",
     "output_type": "stream",
     "text": [
      "1\n"
     ]
    },
    {
     "name": "stderr",
     "output_type": "stream",
     "text": [
      "INFO:root:Listing External-Reference with filters [{\"key\": \"url\", \"values\": [\"link:https://www.crowdstrike.com/blog/whois-numbered-panda/\"]}].\n",
      "INFO:root:Reading Stix-Entity {1f2cbc39-8893-4bec-9c59-b9f8fba67062}.\n"
     ]
    },
    {
     "name": "stdout",
     "output_type": "stream",
     "text": [
      "one_completed\n"
     ]
    },
    {
     "name": "stderr",
     "output_type": "stream",
     "text": [
      "INFO:root:Adding External-Reference {b83dd90a-af30-4141-a907-57a90916bf1c} to Stix-Entity {1f2cbc39-8893-4bec-9c59-b9f8fba67062}\n",
      "INFO:root:Listing External-Reference with filters [{\"key\": \"url\", \"values\": [\"https://www.thaicert.or.th/downloads/files/A_Threat_Actor_Encyclopedia.pdf\"]}].\n",
      "INFO:root:Reading Stix-Entity {1f2cbc39-8893-4bec-9c59-b9f8fba67062}.\n",
      "INFO:root:Adding External-Reference {df04121c-2152-4fd3-aba7-b91ac44027af} to Stix-Entity {1f2cbc39-8893-4bec-9c59-b9f8fba67062}\n",
      "INFO:root:Listing External-Reference with filters [{\"key\": \"url\", \"values\": [\"https://attack.mitre.org/groups/G0005/\"]}].\n",
      "INFO:root:Reading Stix-Entity {1f2cbc39-8893-4bec-9c59-b9f8fba67062}.\n",
      "INFO:root:Adding External-Reference {0b6149a7-74f6-4b59-8549-7774595335fc} to Stix-Entity {1f2cbc39-8893-4bec-9c59-b9f8fba67062}\n",
      "INFO:root:Listing External-Reference with filters [{\"key\": \"url\", \"values\": [\"https://www.youtube.com/watch?v=dy72wfyXlrM\"]}].\n",
      "INFO:root:Reading Stix-Entity {1f2cbc39-8893-4bec-9c59-b9f8fba67062}.\n",
      "INFO:root:Adding External-Reference {46766f43-367e-4ebd-bdba-3ddaf13cbb57} to Stix-Entity {1f2cbc39-8893-4bec-9c59-b9f8fba67062}\n",
      "INFO:root:Listing External-Reference with filters [{\"key\": \"url\", \"values\": [\"https://www.crowdstrike.com/blog/whois-numbered-panda/\"]}].\n",
      "INFO:root:Reading Stix-Entity {1f2cbc39-8893-4bec-9c59-b9f8fba67062}.\n",
      "INFO:root:Adding External-Reference {286699cb-dcdf-40c9-b1ae-49bdc326644f} to Stix-Entity {1f2cbc39-8893-4bec-9c59-b9f8fba67062}\n",
      "INFO:root:Listing External-Reference with filters [{\"key\": \"url\", \"values\": [\"https://www.trendmicro.de/cloud-content/us/pdfs/security-intelligence/white-papers/wp_ixeshe.pdf\"]}].\n",
      "INFO:root:Reading Stix-Entity {1f2cbc39-8893-4bec-9c59-b9f8fba67062}.\n",
      "INFO:root:Adding External-Reference {7b1e6e9f-10e5-4d8e-8298-0e3c61d674dd} to Stix-Entity {1f2cbc39-8893-4bec-9c59-b9f8fba67062}\n",
      "INFO:root:Listing External-Reference with filters [{\"key\": \"url\", \"values\": [\"https://malpedia.caad.fkie.fraunhofer.de/actor/ixeshe\"]}].\n",
      "INFO:root:Reading Stix-Entity {1f2cbc39-8893-4bec-9c59-b9f8fba67062}.\n",
      "INFO:root:Adding External-Reference {664a3b90-07b7-4507-a9d5-bf65eb40f4d9} to Stix-Entity {1f2cbc39-8893-4bec-9c59-b9f8fba67062}\n",
      "INFO:root:Listing External-Reference with filters [{\"key\": \"url\", \"values\": [\"https://attack.mitre.org/software/S0015/\"]}].\n",
      "INFO:root:Reading Stix-Entity {1f2cbc39-8893-4bec-9c59-b9f8fba67062}.\n",
      "INFO:root:Adding External-Reference {5d12c3a4-ef35-4b50-9508-6f56aae99981} to Stix-Entity {1f2cbc39-8893-4bec-9c59-b9f8fba67062}\n",
      "INFO:root:Listing External-Reference with filters [{\"key\": \"url\", \"values\": [\"https://www.fireeye.com/blog/threat-research/2013/08/survival-of-the-fittest-new-york-times-attackers-evolve-quickly.html\"]}].\n",
      "INFO:root:Reading Stix-Entity {1f2cbc39-8893-4bec-9c59-b9f8fba67062}.\n",
      "INFO:root:Adding External-Reference {9ec15f4b-f0c0-4065-815b-5d5df382bc13} to Stix-Entity {1f2cbc39-8893-4bec-9c59-b9f8fba67062}\n",
      "INFO:root:Listing External-Reference with filters [{\"key\": \"url\", \"values\": [\"https://malpedia.caad.fkie.fraunhofer.de/actor/ixeshe\"]}].\n",
      "INFO:root:Reading Stix-Entity {1f2cbc39-8893-4bec-9c59-b9f8fba67062}.\n",
      "INFO:root:Listing External-Reference with filters [{\"key\": \"url\", \"values\": [\"https://www.fireeye.com/blog/threat-research/2014/09/darwins-favorite-apt-group-2.html\"]}].\n",
      "INFO:root:Reading Stix-Entity {1f2cbc39-8893-4bec-9c59-b9f8fba67062}.\n",
      "INFO:root:Adding External-Reference {d43ab93a-663a-4839-b283-b1a449b9974a} to Stix-Entity {1f2cbc39-8893-4bec-9c59-b9f8fba67062}\n",
      "INFO:root:Listing External-Reference with filters [{\"key\": \"url\", \"values\": [\"https://www.fireeye.com/blog/threat-research/2014/09/darwins-favorite-apt-group-2.html\"]}].\n",
      "INFO:root:Reading Stix-Entity {1f2cbc39-8893-4bec-9c59-b9f8fba67062}.\n",
      "INFO:root:Listing External-Reference with filters [{\"key\": \"url\", \"values\": [\"https://malpedia.caad.fkie.fraunhofer.de\"]}].\n",
      "INFO:root:Reading Stix-Entity {1f2cbc39-8893-4bec-9c59-b9f8fba67062}.\n",
      "INFO:root:Adding External-Reference {4b1e8bb5-c1e2-4bdc-bdde-a2a5a2654bfe} to Stix-Entity {1f2cbc39-8893-4bec-9c59-b9f8fba67062}\n",
      "INFO:root:Listing External-Reference with filters [{\"key\": \"url\", \"values\": [\"https://www.fireeye.com/blog/threat-research/2014/09/darwins-favorite-apt-group-2.html\"]}].\n",
      "INFO:root:Reading Stix-Entity {1f2cbc39-8893-4bec-9c59-b9f8fba67062}.\n",
      "INFO:root:Listing Stix-Domain-Entities with filters [{\"key\": \"name\", \"values\": [\"fakeapt28\"]}].\n",
      "INFO:root:Reading Report {1f2cbc39-8893-4bec-9c59-b9f8fba67062}.\n"
     ]
    },
    {
     "name": "stdout",
     "output_type": "stream",
     "text": [
      "fakeapt28\n"
     ]
    },
    {
     "name": "stderr",
     "output_type": "stream",
     "text": [
      "INFO:root:Adding Stix-Entity {22175c83-6fb7-4f81-b2e6-8e296a6ac451} to Report {1f2cbc39-8893-4bec-9c59-b9f8fba67062}\n",
      "INFO:root:Listing Attack-Patterns with filters [{\"key\": \"name\", \"values\": \"Buy domain name\"}].\n",
      "INFO:root:Listing Stix-Domain-Entities with filters [{\"key\": \"name\", \"values\": [\"Buy domain name\"]}].\n"
     ]
    },
    {
     "name": "stdout",
     "output_type": "stream",
     "text": [
      "None\n"
     ]
    },
    {
     "name": "stderr",
     "output_type": "stream",
     "text": [
      "INFO:root:Reading Report {1f2cbc39-8893-4bec-9c59-b9f8fba67062}.\n",
      "INFO:root:Adding Stix-Entity {f98a818c-d149-4bb5-8963-2fe7ce605986} to Report {1f2cbc39-8893-4bec-9c59-b9f8fba67062}\n",
      "INFO:root:Listing Attack-Patterns with filters [{\"key\": \"name\", \"values\": \"Obtain/re-use payloads\"}].\n",
      "INFO:root:Listing Stix-Domain-Entities with filters [{\"key\": \"name\", \"values\": [\"Obtain/re-use payloads\"]}].\n"
     ]
    },
    {
     "name": "stdout",
     "output_type": "stream",
     "text": [
      "None\n"
     ]
    },
    {
     "name": "stderr",
     "output_type": "stream",
     "text": [
      "INFO:root:Reading Report {1f2cbc39-8893-4bec-9c59-b9f8fba67062}.\n",
      "INFO:root:Adding Stix-Entity {a2c6b37c-fa8f-4537-b548-9294727d2ca2} to Report {1f2cbc39-8893-4bec-9c59-b9f8fba67062}\n",
      "INFO:root:Listing Attack-Patterns with filters [{\"key\": \"name\", \"values\": \"Access Token Manipulation\"}].\n",
      "INFO:root:Listing Stix-Domain-Entities with filters [{\"key\": \"name\", \"values\": [\"Access Token Manipulation\"]}].\n"
     ]
    },
    {
     "name": "stdout",
     "output_type": "stream",
     "text": [
      "User, Administrator\n"
     ]
    },
    {
     "name": "stderr",
     "output_type": "stream",
     "text": [
      "INFO:root:Updating Stix-Domain-Entity {830843c5-2a10-4e76-8b65-4111878d0925} field {required_permission}.\n",
      "INFO:root:Reading Report {1f2cbc39-8893-4bec-9c59-b9f8fba67062}.\n",
      "INFO:root:Adding Stix-Entity {830843c5-2a10-4e76-8b65-4111878d0925} to Report {1f2cbc39-8893-4bec-9c59-b9f8fba67062}\n",
      "INFO:root:Listing Attack-Patterns with filters [{\"key\": \"name\", \"values\": \"Application Access Token\"}].\n",
      "INFO:root:Listing Stix-Domain-Entities with filters [{\"key\": \"name\", \"values\": [\"Application Access Token\"]}].\n"
     ]
    },
    {
     "name": "stdout",
     "output_type": "stream",
     "text": [
      "User\n"
     ]
    },
    {
     "name": "stderr",
     "output_type": "stream",
     "text": [
      "INFO:root:Updating Stix-Domain-Entity {ec1b152b-759b-4656-8417-fd9caebf312b} field {required_permission}.\n",
      "INFO:root:Reading Report {1f2cbc39-8893-4bec-9c59-b9f8fba67062}.\n",
      "INFO:root:Adding Stix-Entity {ec1b152b-759b-4656-8417-fd9caebf312b} to Report {1f2cbc39-8893-4bec-9c59-b9f8fba67062}\n",
      "INFO:root:Listing Attack-Patterns with filters [{\"key\": \"name\", \"values\": \"Automated Collection\"}].\n",
      "INFO:root:Listing Stix-Domain-Entities with filters [{\"key\": \"name\", \"values\": [\"Automated Collection\"]}].\n"
     ]
    },
    {
     "name": "stdout",
     "output_type": "stream",
     "text": [
      "User\n"
     ]
    },
    {
     "name": "stderr",
     "output_type": "stream",
     "text": [
      "INFO:root:Updating Stix-Domain-Entity {77ac5165-2682-46c7-b86c-76c5d2c38a4e} field {required_permission}.\n",
      "INFO:root:Reading Report {1f2cbc39-8893-4bec-9c59-b9f8fba67062}.\n",
      "INFO:root:Adding Stix-Entity {77ac5165-2682-46c7-b86c-76c5d2c38a4e} to Report {1f2cbc39-8893-4bec-9c59-b9f8fba67062}\n",
      "INFO:root:Listing Attack-Patterns with filters [{\"key\": \"name\", \"values\": \"Bootkit\"}].\n",
      "INFO:root:Listing Stix-Domain-Entities with filters [{\"key\": \"name\", \"values\": [\"Bootkit\"]}].\n"
     ]
    },
    {
     "name": "stdout",
     "output_type": "stream",
     "text": [
      "Administrator, SYSTEM\n"
     ]
    },
    {
     "name": "stderr",
     "output_type": "stream",
     "text": [
      "INFO:root:Updating Stix-Domain-Entity {0ba1b7ae-d989-4b6b-b90e-75be1438e8d0} field {required_permission}.\n",
      "INFO:root:Reading Report {1f2cbc39-8893-4bec-9c59-b9f8fba67062}.\n",
      "INFO:root:Adding Stix-Entity {0ba1b7ae-d989-4b6b-b90e-75be1438e8d0} to Report {1f2cbc39-8893-4bec-9c59-b9f8fba67062}\n",
      "INFO:root:Listing Attack-Patterns with filters [{\"key\": \"name\", \"values\": \"Command-Line Interface\"}].\n",
      "INFO:root:Listing Stix-Domain-Entities with filters [{\"key\": \"name\", \"values\": [\"Command-Line Interface\"]}].\n"
     ]
    },
    {
     "name": "stdout",
     "output_type": "stream",
     "text": [
      "User, Administrator, SYSTEM\n"
     ]
    },
    {
     "name": "stderr",
     "output_type": "stream",
     "text": [
      "INFO:root:Updating Stix-Domain-Entity {885223eb-a293-4d4a-aaa8-2dd8d4487076} field {required_permission}.\n",
      "INFO:root:Reading Report {1f2cbc39-8893-4bec-9c59-b9f8fba67062}.\n",
      "INFO:root:Adding Stix-Entity {885223eb-a293-4d4a-aaa8-2dd8d4487076} to Report {1f2cbc39-8893-4bec-9c59-b9f8fba67062}\n",
      "INFO:root:Listing Attack-Patterns with filters [{\"key\": \"name\", \"values\": \"Commonly Used Port\"}].\n",
      "INFO:root:Listing Stix-Domain-Entities with filters [{\"key\": \"name\", \"values\": [\"Commonly Used Port\"]}].\n",
      "INFO:root:Reading Report {1f2cbc39-8893-4bec-9c59-b9f8fba67062}.\n"
     ]
    },
    {
     "name": "stdout",
     "output_type": "stream",
     "text": [
      "None\n"
     ]
    },
    {
     "name": "stderr",
     "output_type": "stream",
     "text": [
      "INFO:root:Adding Stix-Entity {651e2539-4a7d-47fc-8df2-ff67583c3801} to Report {1f2cbc39-8893-4bec-9c59-b9f8fba67062}\n",
      "INFO:root:Listing Attack-Patterns with filters [{\"key\": \"name\", \"values\": \"Communication Through Removable Media\"}].\n",
      "INFO:root:Listing Stix-Domain-Entities with filters [{\"key\": \"name\", \"values\": [\"Communication Through Removable Media\"]}].\n"
     ]
    },
    {
     "name": "stdout",
     "output_type": "stream",
     "text": [
      "None\n"
     ]
    },
    {
     "name": "stderr",
     "output_type": "stream",
     "text": [
      "INFO:root:Reading Report {1f2cbc39-8893-4bec-9c59-b9f8fba67062}.\n",
      "INFO:root:Adding Stix-Entity {6f01d49b-f9aa-4610-8bf2-246f9d3e4875} to Report {1f2cbc39-8893-4bec-9c59-b9f8fba67062}\n",
      "INFO:root:Listing Attack-Patterns with filters [{\"key\": \"name\", \"values\": \"Component Object Model Hijacking\"}].\n",
      "INFO:root:Listing Stix-Domain-Entities with filters [{\"key\": \"name\", \"values\": [\"Component Object Model Hijacking\"]}].\n",
      "INFO:root:Updating Stix-Domain-Entity {ba4ce101-a595-428e-b56b-a7fd085ab3ed} field {required_permission}.\n"
     ]
    },
    {
     "name": "stdout",
     "output_type": "stream",
     "text": [
      "User\n"
     ]
    },
    {
     "name": "stderr",
     "output_type": "stream",
     "text": [
      "INFO:root:Reading Report {1f2cbc39-8893-4bec-9c59-b9f8fba67062}.\n",
      "INFO:root:Adding Stix-Entity {ba4ce101-a595-428e-b56b-a7fd085ab3ed} to Report {1f2cbc39-8893-4bec-9c59-b9f8fba67062}\n",
      "INFO:root:Listing Attack-Patterns with filters [{\"key\": \"name\", \"values\": \"Connection Proxy\"}].\n",
      "INFO:root:Listing Stix-Domain-Entities with filters [{\"key\": \"name\", \"values\": [\"Connection Proxy\"]}].\n",
      "INFO:root:Reading Report {1f2cbc39-8893-4bec-9c59-b9f8fba67062}.\n"
     ]
    },
    {
     "name": "stdout",
     "output_type": "stream",
     "text": [
      "None\n"
     ]
    },
    {
     "name": "stderr",
     "output_type": "stream",
     "text": [
      "INFO:root:Adding Stix-Entity {8c57bb26-ccef-4301-83cb-6a0ae1bcc508} to Report {1f2cbc39-8893-4bec-9c59-b9f8fba67062}\n",
      "INFO:root:Listing Attack-Patterns with filters [{\"key\": \"name\", \"values\": \"Credential Dumping\"}].\n"
     ]
    },
    {
     "name": "stdout",
     "output_type": "stream",
     "text": [
      "Administrator, SYSTEM, root\n"
     ]
    },
    {
     "name": "stderr",
     "output_type": "stream",
     "text": [
      "INFO:root:Listing Stix-Domain-Entities with filters [{\"key\": \"name\", \"values\": [\"Credential Dumping\"]}].\n",
      "INFO:root:Updating Stix-Domain-Entity {9c364890-7132-4d41-b324-7a4e44aad1f6} field {required_permission}.\n",
      "INFO:root:Reading Report {1f2cbc39-8893-4bec-9c59-b9f8fba67062}.\n",
      "INFO:root:Adding Stix-Entity {9c364890-7132-4d41-b324-7a4e44aad1f6} to Report {1f2cbc39-8893-4bec-9c59-b9f8fba67062}\n",
      "INFO:root:Listing Attack-Patterns with filters [{\"key\": \"name\", \"values\": \"Custom Cryptographic Protocol\"}].\n",
      "INFO:root:Listing Stix-Domain-Entities with filters [{\"key\": \"name\", \"values\": [\"Custom Cryptographic Protocol\"]}].\n"
     ]
    },
    {
     "name": "stdout",
     "output_type": "stream",
     "text": [
      "None\n"
     ]
    },
    {
     "name": "stderr",
     "output_type": "stream",
     "text": [
      "INFO:root:Reading Report {1f2cbc39-8893-4bec-9c59-b9f8fba67062}.\n",
      "INFO:root:Adding Stix-Entity {923139f5-b823-482c-8fd9-0f0e49672e78} to Report {1f2cbc39-8893-4bec-9c59-b9f8fba67062}\n",
      "INFO:root:Listing Attack-Patterns with filters [{\"key\": \"name\", \"values\": \"Data Compressed\"}].\n",
      "INFO:root:Listing Stix-Domain-Entities with filters [{\"key\": \"name\", \"values\": [\"Data Compressed\"]}].\n"
     ]
    },
    {
     "name": "stdout",
     "output_type": "stream",
     "text": [
      "None\n"
     ]
    },
    {
     "name": "stderr",
     "output_type": "stream",
     "text": [
      "INFO:root:Reading Report {1f2cbc39-8893-4bec-9c59-b9f8fba67062}.\n",
      "INFO:root:Adding Stix-Entity {1f010009-f6eb-4223-a098-807e6384a1ae} to Report {1f2cbc39-8893-4bec-9c59-b9f8fba67062}\n",
      "INFO:root:Listing Attack-Patterns with filters [{\"key\": \"name\", \"values\": \"Data from Information Repositories\"}].\n",
      "INFO:root:Listing Stix-Domain-Entities with filters [{\"key\": \"name\", \"values\": [\"Data from Information Repositories\"]}].\n"
     ]
    },
    {
     "name": "stdout",
     "output_type": "stream",
     "text": [
      "User\n"
     ]
    },
    {
     "name": "stderr",
     "output_type": "stream",
     "text": [
      "INFO:root:Updating Stix-Domain-Entity {153ca3c3-7ee0-4238-b41e-17806af21acd} field {required_permission}.\n",
      "INFO:root:Reading Report {1f2cbc39-8893-4bec-9c59-b9f8fba67062}.\n",
      "INFO:root:Adding Stix-Entity {153ca3c3-7ee0-4238-b41e-17806af21acd} to Report {1f2cbc39-8893-4bec-9c59-b9f8fba67062}\n",
      "INFO:root:Listing Attack-Patterns with filters [{\"key\": \"name\", \"values\": \"Data from Local System\"}].\n",
      "INFO:root:Listing Stix-Domain-Entities with filters [{\"key\": \"name\", \"values\": [\"Data from Local System\"]}].\n"
     ]
    },
    {
     "name": "stdout",
     "output_type": "stream",
     "text": [
      "None\n"
     ]
    },
    {
     "name": "stderr",
     "output_type": "stream",
     "text": [
      "INFO:root:Reading Report {1f2cbc39-8893-4bec-9c59-b9f8fba67062}.\n",
      "INFO:root:Adding Stix-Entity {e659e8a4-5b5b-4929-bcf7-10f9202551cd} to Report {1f2cbc39-8893-4bec-9c59-b9f8fba67062}\n",
      "INFO:root:Listing Attack-Patterns with filters [{\"key\": \"name\", \"values\": \"Data from Removable Media\"}].\n",
      "INFO:root:Listing Stix-Domain-Entities with filters [{\"key\": \"name\", \"values\": [\"Data from Removable Media\"]}].\n"
     ]
    },
    {
     "name": "stdout",
     "output_type": "stream",
     "text": [
      "None\n"
     ]
    },
    {
     "name": "stderr",
     "output_type": "stream",
     "text": [
      "INFO:root:Reading Report {1f2cbc39-8893-4bec-9c59-b9f8fba67062}.\n",
      "INFO:root:Adding Stix-Entity {9c3270b6-4894-48b7-940c-2c1b1aa59be4} to Report {1f2cbc39-8893-4bec-9c59-b9f8fba67062}\n",
      "INFO:root:Listing Attack-Patterns with filters [{\"key\": \"name\", \"values\": \"Data Obfuscation\"}].\n",
      "INFO:root:Listing Stix-Domain-Entities with filters [{\"key\": \"name\", \"values\": [\"Data Obfuscation\"]}].\n",
      "INFO:root:Reading Report {1f2cbc39-8893-4bec-9c59-b9f8fba67062}.\n"
     ]
    },
    {
     "name": "stdout",
     "output_type": "stream",
     "text": [
      "None\n"
     ]
    },
    {
     "name": "stderr",
     "output_type": "stream",
     "text": [
      "INFO:root:Adding Stix-Entity {e3f49f39-45fb-40cc-b44f-4af592d48328} to Report {1f2cbc39-8893-4bec-9c59-b9f8fba67062}\n",
      "INFO:root:Listing Attack-Patterns with filters [{\"key\": \"name\", \"values\": \"Data Staged\"}].\n",
      "INFO:root:Listing Stix-Domain-Entities with filters [{\"key\": \"name\", \"values\": [\"Data Staged\"]}].\n"
     ]
    },
    {
     "name": "stdout",
     "output_type": "stream",
     "text": [
      "None\n"
     ]
    },
    {
     "name": "stderr",
     "output_type": "stream",
     "text": [
      "INFO:root:Reading Report {1f2cbc39-8893-4bec-9c59-b9f8fba67062}.\n",
      "INFO:root:Adding Stix-Entity {cc82f17e-f006-4b60-94a0-91ab35a9fc32} to Report {1f2cbc39-8893-4bec-9c59-b9f8fba67062}\n",
      "INFO:root:Listing Attack-Patterns with filters [{\"key\": \"name\", \"values\": \"Deobfuscate/Decode Files or Information\"}].\n",
      "INFO:root:Listing Stix-Domain-Entities with filters [{\"key\": \"name\", \"values\": [\"Deobfuscate/Decode Files or Information\"]}].\n"
     ]
    },
    {
     "name": "stdout",
     "output_type": "stream",
     "text": [
      "User\n"
     ]
    },
    {
     "name": "stderr",
     "output_type": "stream",
     "text": [
      "INFO:root:Updating Stix-Domain-Entity {50e79339-28dd-4b61-8fad-e70e7cd93d58} field {required_permission}.\n",
      "INFO:root:Reading Report {1f2cbc39-8893-4bec-9c59-b9f8fba67062}.\n",
      "INFO:root:Adding Stix-Entity {50e79339-28dd-4b61-8fad-e70e7cd93d58} to Report {1f2cbc39-8893-4bec-9c59-b9f8fba67062}\n",
      "INFO:root:Listing Attack-Patterns with filters [{\"key\": \"name\", \"values\": \"Dynamic Data Exchange\"}].\n",
      "INFO:root:Listing Stix-Domain-Entities with filters [{\"key\": \"name\", \"values\": [\"Dynamic Data Exchange\"]}].\n"
     ]
    },
    {
     "name": "stdout",
     "output_type": "stream",
     "text": [
      "User\n"
     ]
    },
    {
     "name": "stderr",
     "output_type": "stream",
     "text": [
      "INFO:root:Updating Stix-Domain-Entity {b3749bd5-6c0c-471c-9f7e-4ddd120d3433} field {required_permission}.\n",
      "INFO:root:Reading Report {1f2cbc39-8893-4bec-9c59-b9f8fba67062}.\n",
      "INFO:root:Adding Stix-Entity {b3749bd5-6c0c-471c-9f7e-4ddd120d3433} to Report {1f2cbc39-8893-4bec-9c59-b9f8fba67062}\n",
      "INFO:root:Listing Attack-Patterns with filters [{\"key\": \"name\", \"values\": \"Email Collection\"}].\n",
      "INFO:root:Listing Stix-Domain-Entities with filters [{\"key\": \"name\", \"values\": [\"Email Collection\"]}].\n"
     ]
    },
    {
     "name": "stdout",
     "output_type": "stream",
     "text": [
      "User\n"
     ]
    },
    {
     "name": "stderr",
     "output_type": "stream",
     "text": [
      "INFO:root:Updating Stix-Domain-Entity {7e9af0ad-f71a-45bb-8ab7-2a29482cd4dd} field {required_permission}.\n",
      "INFO:root:Reading Report {1f2cbc39-8893-4bec-9c59-b9f8fba67062}.\n",
      "INFO:root:Adding Stix-Entity {7e9af0ad-f71a-45bb-8ab7-2a29482cd4dd} to Report {1f2cbc39-8893-4bec-9c59-b9f8fba67062}\n",
      "INFO:root:Listing Attack-Patterns with filters [{\"key\": \"name\", \"values\": \"Exploitation for Defense Evasion\"}].\n",
      "INFO:root:Listing Stix-Domain-Entities with filters [{\"key\": \"name\", \"values\": [\"Exploitation for Defense Evasion\"]}].\n"
     ]
    },
    {
     "name": "stdout",
     "output_type": "stream",
     "text": [
      "User\n"
     ]
    },
    {
     "name": "stderr",
     "output_type": "stream",
     "text": [
      "INFO:root:Updating Stix-Domain-Entity {862b82d3-59bd-4209-b4c2-ec1d32aeb466} field {required_permission}.\n",
      "INFO:root:Reading Report {1f2cbc39-8893-4bec-9c59-b9f8fba67062}.\n",
      "INFO:root:Adding Stix-Entity {862b82d3-59bd-4209-b4c2-ec1d32aeb466} to Report {1f2cbc39-8893-4bec-9c59-b9f8fba67062}\n",
      "INFO:root:Listing Attack-Patterns with filters [{\"key\": \"name\", \"values\": \"Exploitation for Privilege Escalation\"}].\n",
      "INFO:root:Listing Stix-Domain-Entities with filters [{\"key\": \"name\", \"values\": [\"Exploitation for Privilege Escalation\"]}].\n"
     ]
    },
    {
     "name": "stdout",
     "output_type": "stream",
     "text": [
      "User\n"
     ]
    },
    {
     "name": "stderr",
     "output_type": "stream",
     "text": [
      "INFO:root:Updating Stix-Domain-Entity {b4a44dca-bd27-4047-adff-2a72b0b53107} field {required_permission}.\n",
      "INFO:root:Reading Report {1f2cbc39-8893-4bec-9c59-b9f8fba67062}.\n",
      "INFO:root:Adding Stix-Entity {b4a44dca-bd27-4047-adff-2a72b0b53107} to Report {1f2cbc39-8893-4bec-9c59-b9f8fba67062}\n",
      "INFO:root:Listing Attack-Patterns with filters [{\"key\": \"name\", \"values\": \"Exploitation of Remote Services\"}].\n",
      "INFO:root:Listing Stix-Domain-Entities with filters [{\"key\": \"name\", \"values\": [\"Exploitation of Remote Services\"]}].\n",
      "INFO:root:Updating Stix-Domain-Entity {91115399-8fac-48f0-8877-aea1484a4dbd} field {required_permission}.\n"
     ]
    },
    {
     "name": "stdout",
     "output_type": "stream",
     "text": [
      "User\n"
     ]
    },
    {
     "name": "stderr",
     "output_type": "stream",
     "text": [
      "INFO:root:Reading Report {1f2cbc39-8893-4bec-9c59-b9f8fba67062}.\n",
      "INFO:root:Adding Stix-Entity {91115399-8fac-48f0-8877-aea1484a4dbd} to Report {1f2cbc39-8893-4bec-9c59-b9f8fba67062}\n",
      "INFO:root:Listing Attack-Patterns with filters [{\"key\": \"name\", \"values\": \"File and Directory Discovery\"}].\n",
      "INFO:root:Listing Stix-Domain-Entities with filters [{\"key\": \"name\", \"values\": [\"File and Directory Discovery\"]}].\n",
      "INFO:root:Updating Stix-Domain-Entity {c6cb1bb3-2902-45cc-93b4-83ceb1031509} field {required_permission}.\n"
     ]
    },
    {
     "name": "stdout",
     "output_type": "stream",
     "text": [
      "User, Administrator, SYSTEM\n"
     ]
    },
    {
     "name": "stderr",
     "output_type": "stream",
     "text": [
      "INFO:root:Reading Report {1f2cbc39-8893-4bec-9c59-b9f8fba67062}.\n",
      "INFO:root:Adding Stix-Entity {c6cb1bb3-2902-45cc-93b4-83ceb1031509} to Report {1f2cbc39-8893-4bec-9c59-b9f8fba67062}\n",
      "INFO:root:Listing Attack-Patterns with filters [{\"key\": \"name\", \"values\": \"File Deletion\"}].\n",
      "INFO:root:Listing Stix-Domain-Entities with filters [{\"key\": \"name\", \"values\": [\"File Deletion\"]}].\n"
     ]
    },
    {
     "name": "stdout",
     "output_type": "stream",
     "text": [
      "User\n"
     ]
    },
    {
     "name": "stderr",
     "output_type": "stream",
     "text": [
      "INFO:root:Updating Stix-Domain-Entity {5ef8a53d-1e82-47b5-990e-2a0a46aa5e86} field {required_permission}.\n",
      "INFO:root:Reading Report {1f2cbc39-8893-4bec-9c59-b9f8fba67062}.\n",
      "INFO:root:Adding Stix-Entity {5ef8a53d-1e82-47b5-990e-2a0a46aa5e86} to Report {1f2cbc39-8893-4bec-9c59-b9f8fba67062}\n",
      "INFO:root:Listing Attack-Patterns with filters [{\"key\": \"name\", \"values\": \"Hidden Files and Directories\"}].\n",
      "INFO:root:Listing Stix-Domain-Entities with filters [{\"key\": \"name\", \"values\": [\"Hidden Files and Directories\"]}].\n"
     ]
    },
    {
     "name": "stdout",
     "output_type": "stream",
     "text": [
      "User\n"
     ]
    },
    {
     "name": "stderr",
     "output_type": "stream",
     "text": [
      "INFO:root:Updating Stix-Domain-Entity {9247f9bc-4811-4c37-8b80-f8f13a57b14a} field {required_permission}.\n",
      "INFO:root:Reading Report {1f2cbc39-8893-4bec-9c59-b9f8fba67062}.\n",
      "INFO:root:Adding Stix-Entity {9247f9bc-4811-4c37-8b80-f8f13a57b14a} to Report {1f2cbc39-8893-4bec-9c59-b9f8fba67062}\n",
      "INFO:root:Listing Attack-Patterns with filters [{\"key\": \"name\", \"values\": \"Hidden Window\"}].\n",
      "INFO:root:Listing Stix-Domain-Entities with filters [{\"key\": \"name\", \"values\": [\"Hidden Window\"]}].\n",
      "INFO:root:Updating Stix-Domain-Entity {f119b741-c310-42ca-8297-1e8b7c9bada4} field {required_permission}.\n"
     ]
    },
    {
     "name": "stdout",
     "output_type": "stream",
     "text": [
      "User\n"
     ]
    },
    {
     "name": "stderr",
     "output_type": "stream",
     "text": [
      "INFO:root:Reading Report {1f2cbc39-8893-4bec-9c59-b9f8fba67062}.\n",
      "INFO:root:Adding Stix-Entity {f119b741-c310-42ca-8297-1e8b7c9bada4} to Report {1f2cbc39-8893-4bec-9c59-b9f8fba67062}\n",
      "INFO:root:Listing Attack-Patterns with filters [{\"key\": \"name\", \"values\": \" Indicator Removal on Host\"}].\n",
      "INFO:root:Listing Stix-Domain-Entities with filters [{\"key\": \"name\", \"values\": [\"Indicator Removal on Host\"]}].\n",
      "INFO:root:Reading Report {1f2cbc39-8893-4bec-9c59-b9f8fba67062}.\n"
     ]
    },
    {
     "name": "stdout",
     "output_type": "stream",
     "text": [
      "None\n"
     ]
    },
    {
     "name": "stderr",
     "output_type": "stream",
     "text": [
      "INFO:root:Adding Stix-Entity {cc6169cb-76f8-45bc-af0d-7b593c0496bb} to Report {1f2cbc39-8893-4bec-9c59-b9f8fba67062}\n",
      "INFO:root:Listing Attack-Patterns with filters [{\"key\": \"name\", \"values\": \"Input Capture\"}].\n",
      "INFO:root:Listing Stix-Domain-Entities with filters [{\"key\": \"name\", \"values\": [\"Input Capture\"]}].\n"
     ]
    },
    {
     "name": "stdout",
     "output_type": "stream",
     "text": [
      "Administrator, SYSTEM\n"
     ]
    },
    {
     "name": "stderr",
     "output_type": "stream",
     "text": [
      "INFO:root:Updating Stix-Domain-Entity {aaf9cc50-5384-45df-b184-2d6048f4ecdd} field {required_permission}.\n",
      "INFO:root:Reading Report {1f2cbc39-8893-4bec-9c59-b9f8fba67062}.\n",
      "INFO:root:Adding Stix-Entity {aaf9cc50-5384-45df-b184-2d6048f4ecdd} to Report {1f2cbc39-8893-4bec-9c59-b9f8fba67062}\n",
      "INFO:root:Listing Attack-Patterns with filters [{\"key\": \"name\", \"values\": \"Logon Scripts\"}].\n",
      "INFO:root:Listing Stix-Domain-Entities with filters [{\"key\": \"name\", \"values\": [\"Logon Scripts\"]}].\n",
      "INFO:root:Reading Report {1f2cbc39-8893-4bec-9c59-b9f8fba67062}.\n"
     ]
    },
    {
     "name": "stdout",
     "output_type": "stream",
     "text": [
      "None\n"
     ]
    },
    {
     "name": "stderr",
     "output_type": "stream",
     "text": [
      "INFO:root:Adding Stix-Entity {beb1cad9-016f-49c5-ad3c-f23bff549ff2} to Report {1f2cbc39-8893-4bec-9c59-b9f8fba67062}\n",
      "INFO:root:Listing Attack-Patterns with filters [{\"key\": \"name\", \"values\": \"Network Sniffing\"}].\n",
      "INFO:root:Listing Stix-Domain-Entities with filters [{\"key\": \"name\", \"values\": [\"Network Sniffing\"]}].\n",
      "INFO:root:Updating Stix-Domain-Entity {b7be70f8-662e-411d-bdf0-8b573530d967} field {required_permission}.\n"
     ]
    },
    {
     "name": "stdout",
     "output_type": "stream",
     "text": [
      "Administrator, SYSTEM\n"
     ]
    },
    {
     "name": "stderr",
     "output_type": "stream",
     "text": [
      "INFO:root:Reading Report {1f2cbc39-8893-4bec-9c59-b9f8fba67062}.\n",
      "INFO:root:Adding Stix-Entity {b7be70f8-662e-411d-bdf0-8b573530d967} to Report {1f2cbc39-8893-4bec-9c59-b9f8fba67062}\n",
      "INFO:root:Listing Attack-Patterns with filters [{\"key\": \"name\", \"values\": \"Obfuscated Files or Information\"}].\n",
      "INFO:root:Listing Stix-Domain-Entities with filters [{\"key\": \"name\", \"values\": [\"Obfuscated Files or Information\"]}].\n"
     ]
    },
    {
     "name": "stdout",
     "output_type": "stream",
     "text": [
      "None\n"
     ]
    },
    {
     "name": "stderr",
     "output_type": "stream",
     "text": [
      "INFO:root:Reading Report {1f2cbc39-8893-4bec-9c59-b9f8fba67062}.\n",
      "INFO:root:Adding Stix-Entity {58eacb3e-a736-41c8-ba57-9328e4adbca5} to Report {1f2cbc39-8893-4bec-9c59-b9f8fba67062}\n",
      "INFO:root:Listing Attack-Patterns with filters [{\"key\": \"name\", \"values\": \"Office Application Startup\"}].\n",
      "INFO:root:Listing Stix-Domain-Entities with filters [{\"key\": \"name\", \"values\": [\"Office Application Startup\"]}].\n",
      "INFO:root:Updating Stix-Domain-Entity {e0e7107f-4b5c-4238-9742-9922329b343f} field {required_permission}.\n",
      "INFO:root:Reading Report {1f2cbc39-8893-4bec-9c59-b9f8fba67062}.\n"
     ]
    },
    {
     "name": "stdout",
     "output_type": "stream",
     "text": [
      "User,Administator\n"
     ]
    },
    {
     "name": "stderr",
     "output_type": "stream",
     "text": [
      "INFO:root:Adding Stix-Entity {e0e7107f-4b5c-4238-9742-9922329b343f} to Report {1f2cbc39-8893-4bec-9c59-b9f8fba67062}\n",
      "INFO:root:Listing Attack-Patterns with filters [{\"key\": \"name\", \"values\": \"Pass the Hash\"}].\n",
      "INFO:root:Listing Stix-Domain-Entities with filters [{\"key\": \"name\", \"values\": [\"Pass the Hash\"]}].\n",
      "INFO:root:Reading Report {1f2cbc39-8893-4bec-9c59-b9f8fba67062}.\n"
     ]
    },
    {
     "name": "stdout",
     "output_type": "stream",
     "text": [
      "None\n"
     ]
    },
    {
     "name": "stderr",
     "output_type": "stream",
     "text": [
      "INFO:root:Adding Stix-Entity {6a186439-adac-4416-94a2-fcd101a67bef} to Report {1f2cbc39-8893-4bec-9c59-b9f8fba67062}\n",
      "INFO:root:Listing Attack-Patterns with filters [{\"key\": \"name\", \"values\": \"Peripheral Device Discovery\"}].\n",
      "INFO:root:Listing Stix-Domain-Entities with filters [{\"key\": \"name\", \"values\": [\"Peripheral Device Discovery\"]}].\n",
      "INFO:root:Updating Stix-Domain-Entity {5c60fe15-cbc3-4135-bc56-52387e7c1457} field {required_permission}.\n"
     ]
    },
    {
     "name": "stdout",
     "output_type": "stream",
     "text": [
      "User,Administator,SYSTEM\n"
     ]
    },
    {
     "name": "stderr",
     "output_type": "stream",
     "text": [
      "INFO:root:Reading Report {1f2cbc39-8893-4bec-9c59-b9f8fba67062}.\n",
      "INFO:root:Adding Stix-Entity {5c60fe15-cbc3-4135-bc56-52387e7c1457} to Report {1f2cbc39-8893-4bec-9c59-b9f8fba67062}\n",
      "INFO:root:Listing Attack-Patterns with filters [{\"key\": \"name\", \"values\": \"PowerShell\"}].\n",
      "INFO:root:Listing Stix-Domain-Entities with filters [{\"key\": \"name\", \"values\": [\"PowerShell\"]}].\n"
     ]
    },
    {
     "name": "stdout",
     "output_type": "stream",
     "text": [
      "User,Administator\n"
     ]
    },
    {
     "name": "stderr",
     "output_type": "stream",
     "text": [
      "INFO:root:Updating Stix-Domain-Entity {522a0990-7258-44fe-be11-dbbea1275883} field {required_permission}.\n",
      "INFO:root:Reading Report {1f2cbc39-8893-4bec-9c59-b9f8fba67062}.\n",
      "INFO:root:Adding Stix-Entity {522a0990-7258-44fe-be11-dbbea1275883} to Report {1f2cbc39-8893-4bec-9c59-b9f8fba67062}\n",
      "INFO:root:Listing Attack-Patterns with filters [{\"key\": \"name\", \"values\": \"Process Discovery\"}].\n",
      "INFO:root:Listing Stix-Domain-Entities with filters [{\"key\": \"name\", \"values\": [\"Process Discovery\"]}].\n"
     ]
    },
    {
     "name": "stdout",
     "output_type": "stream",
     "text": [
      "User,Administator,SYSTEM\n"
     ]
    },
    {
     "name": "stderr",
     "output_type": "stream",
     "text": [
      "INFO:root:Updating Stix-Domain-Entity {65e096e1-3467-4bd5-a574-9a475701fbdb} field {required_permission}.\n",
      "INFO:root:Reading Report {1f2cbc39-8893-4bec-9c59-b9f8fba67062}.\n",
      "INFO:root:Adding Stix-Entity {65e096e1-3467-4bd5-a574-9a475701fbdb} to Report {1f2cbc39-8893-4bec-9c59-b9f8fba67062}\n",
      "INFO:root:Listing Attack-Patterns with filters [{\"key\": \"name\", \"values\": \"Remote File Copy\"}].\n",
      "INFO:root:Listing Stix-Domain-Entities with filters [{\"key\": \"name\", \"values\": [\"Remote File Copy\"]}].\n",
      "INFO:root:Updating Stix-Domain-Entity {a66f1395-d712-4bb0-a268-5547d454dd0f} field {required_permission}.\n"
     ]
    },
    {
     "name": "stdout",
     "output_type": "stream",
     "text": [
      "User\n"
     ]
    },
    {
     "name": "stderr",
     "output_type": "stream",
     "text": [
      "INFO:root:Reading Report {1f2cbc39-8893-4bec-9c59-b9f8fba67062}.\n",
      "INFO:root:Adding Stix-Entity {a66f1395-d712-4bb0-a268-5547d454dd0f} to Report {1f2cbc39-8893-4bec-9c59-b9f8fba67062}\n",
      "INFO:root:Listing Attack-Patterns with filters [{\"key\": \"name\", \"values\": \"Replication Through Removable Media\"}].\n",
      "INFO:root:Listing Stix-Domain-Entities with filters [{\"key\": \"name\", \"values\": [\"Replication Through Removable Media\"]}].\n",
      "INFO:root:Updating Stix-Domain-Entity {e61a95eb-d86f-400a-885d-f6895ede1327} field {required_permission}.\n"
     ]
    },
    {
     "name": "stdout",
     "output_type": "stream",
     "text": [
      "User\n"
     ]
    },
    {
     "name": "stderr",
     "output_type": "stream",
     "text": [
      "INFO:root:Reading Report {1f2cbc39-8893-4bec-9c59-b9f8fba67062}.\n",
      "INFO:root:Adding Stix-Entity {e61a95eb-d86f-400a-885d-f6895ede1327} to Report {1f2cbc39-8893-4bec-9c59-b9f8fba67062}\n",
      "INFO:root:Listing Attack-Patterns with filters [{\"key\": \"name\", \"values\": \"Rootkit\"}].\n",
      "INFO:root:Listing Stix-Domain-Entities with filters [{\"key\": \"name\", \"values\": [\"Rootkit\"]}].\n",
      "INFO:root:Updating Stix-Domain-Entity {f76a44e3-4503-48f7-b5e8-cf83bcd6cf83} field {required_permission}.\n"
     ]
    },
    {
     "name": "stdout",
     "output_type": "stream",
     "text": [
      " Administator,SYSTEM,root\n"
     ]
    },
    {
     "name": "stderr",
     "output_type": "stream",
     "text": [
      "INFO:root:Reading Report {1f2cbc39-8893-4bec-9c59-b9f8fba67062}.\n",
      "INFO:root:Adding Stix-Entity {f76a44e3-4503-48f7-b5e8-cf83bcd6cf83} to Report {1f2cbc39-8893-4bec-9c59-b9f8fba67062}\n",
      "INFO:root:Listing Attack-Patterns with filters [{\"key\": \"name\", \"values\": \"Rundll32\"}].\n",
      "INFO:root:Listing Stix-Domain-Entities with filters [{\"key\": \"name\", \"values\": [\"Rundll32\"]}].\n",
      "INFO:root:Updating Stix-Domain-Entity {de251092-8d94-428a-b26d-713b96658a46} field {required_permission}.\n"
     ]
    },
    {
     "name": "stdout",
     "output_type": "stream",
     "text": [
      "User\n"
     ]
    },
    {
     "name": "stderr",
     "output_type": "stream",
     "text": [
      "INFO:root:Reading Report {1f2cbc39-8893-4bec-9c59-b9f8fba67062}.\n",
      "INFO:root:Adding Stix-Entity {de251092-8d94-428a-b26d-713b96658a46} to Report {1f2cbc39-8893-4bec-9c59-b9f8fba67062}\n",
      "INFO:root:Listing Attack-Patterns with filters [{\"key\": \"name\", \"values\": \"Screen Capture\"}].\n",
      "INFO:root:Listing Stix-Domain-Entities with filters [{\"key\": \"name\", \"values\": [\"Screen Capture\"]}].\n",
      "INFO:root:Reading Report {1f2cbc39-8893-4bec-9c59-b9f8fba67062}.\n"
     ]
    },
    {
     "name": "stdout",
     "output_type": "stream",
     "text": [
      "None\n"
     ]
    },
    {
     "name": "stderr",
     "output_type": "stream",
     "text": [
      "INFO:root:Adding Stix-Entity {7c30bee8-9d28-40ff-a89d-e7b9ba12038a} to Report {1f2cbc39-8893-4bec-9c59-b9f8fba67062}\n",
      "INFO:root:Listing Attack-Patterns with filters [{\"key\": \"name\", \"values\": \"Scripting\"}].\n",
      "INFO:root:Listing Stix-Domain-Entities with filters [{\"key\": \"name\", \"values\": [\"Scripting\"]}].\n"
     ]
    },
    {
     "name": "stdout",
     "output_type": "stream",
     "text": [
      "User\n"
     ]
    },
    {
     "name": "stderr",
     "output_type": "stream",
     "text": [
      "INFO:root:Updating Stix-Domain-Entity {98fd75a1-aca9-4b77-9db8-6c6a10e30246} field {required_permission}.\n",
      "INFO:root:Reading Report {1f2cbc39-8893-4bec-9c59-b9f8fba67062}.\n",
      "INFO:root:Adding Stix-Entity {98fd75a1-aca9-4b77-9db8-6c6a10e30246} to Report {1f2cbc39-8893-4bec-9c59-b9f8fba67062}\n",
      "INFO:root:Listing Attack-Patterns with filters [{\"key\": \"name\", \"values\": \"Spearphishing Attachment\"}].\n",
      "INFO:root:Listing Stix-Domain-Entities with filters [{\"key\": \"name\", \"values\": [\"Spearphishing Attachment\"]}].\n",
      "INFO:root:Reading Report {1f2cbc39-8893-4bec-9c59-b9f8fba67062}.\n"
     ]
    },
    {
     "name": "stdout",
     "output_type": "stream",
     "text": [
      "None\n"
     ]
    },
    {
     "name": "stderr",
     "output_type": "stream",
     "text": [
      "INFO:root:Adding Stix-Entity {e44a1c10-d1d2-4ee6-848a-5ae77128aec0} to Report {1f2cbc39-8893-4bec-9c59-b9f8fba67062}\n",
      "INFO:root:Listing Attack-Patterns with filters [{\"key\": \"name\", \"values\": \"Standard Application Layer Protocol\"}].\n",
      "INFO:root:Listing Stix-Domain-Entities with filters [{\"key\": \"name\", \"values\": [\"Standard Application Layer Protocol\"]}].\n",
      "INFO:root:Reading Report {1f2cbc39-8893-4bec-9c59-b9f8fba67062}.\n"
     ]
    },
    {
     "name": "stdout",
     "output_type": "stream",
     "text": [
      "None\n"
     ]
    },
    {
     "name": "stderr",
     "output_type": "stream",
     "text": [
      "INFO:root:Adding Stix-Entity {2fbbe108-832e-4454-8bc6-d4e4f682b70b} to Report {1f2cbc39-8893-4bec-9c59-b9f8fba67062}\n",
      "INFO:root:Listing Attack-Patterns with filters [{\"key\": \"name\", \"values\": \"Steal Application Access Token\"}].\n",
      "INFO:root:Listing Stix-Domain-Entities with filters [{\"key\": \"name\", \"values\": [\"Steal Application Access Token\"]}].\n",
      "INFO:root:Updating Stix-Domain-Entity {83a6e868-6791-4a58-a658-646d271c49c6} field {required_permission}.\n"
     ]
    },
    {
     "name": "stdout",
     "output_type": "stream",
     "text": [
      "User\n"
     ]
    },
    {
     "name": "stderr",
     "output_type": "stream",
     "text": [
      "INFO:root:Reading Report {1f2cbc39-8893-4bec-9c59-b9f8fba67062}.\n",
      "INFO:root:Adding Stix-Entity {83a6e868-6791-4a58-a658-646d271c49c6} to Report {1f2cbc39-8893-4bec-9c59-b9f8fba67062}\n",
      "INFO:root:Listing Attack-Patterns with filters [{\"key\": \"name\", \"values\": \"Steal Application Access Token\"}].\n",
      "INFO:root:Listing Stix-Domain-Entities with filters [{\"key\": \"name\", \"values\": [\"Steal Application Access Token\"]}].\n",
      "INFO:root:Updating Stix-Domain-Entity {83a6e868-6791-4a58-a658-646d271c49c6} field {required_permission}.\n"
     ]
    },
    {
     "name": "stdout",
     "output_type": "stream",
     "text": [
      "User\n"
     ]
    },
    {
     "name": "stderr",
     "output_type": "stream",
     "text": [
      "INFO:root:Reading Report {1f2cbc39-8893-4bec-9c59-b9f8fba67062}.\n",
      "INFO:root:Listing Attack-Patterns with filters [{\"key\": \"name\", \"values\": \"Template Injection\"}].\n",
      "INFO:root:Listing Stix-Domain-Entities with filters [{\"key\": \"name\", \"values\": [\"Template Injection\"]}].\n"
     ]
    },
    {
     "name": "stdout",
     "output_type": "stream",
     "text": [
      "User\n"
     ]
    },
    {
     "name": "stderr",
     "output_type": "stream",
     "text": [
      "INFO:root:Updating Stix-Domain-Entity {020f02e8-75d1-4527-8000-19fcf34a2b1c} field {required_permission}.\n",
      "INFO:root:Reading Report {1f2cbc39-8893-4bec-9c59-b9f8fba67062}.\n",
      "INFO:root:Adding Stix-Entity {020f02e8-75d1-4527-8000-19fcf34a2b1c} to Report {1f2cbc39-8893-4bec-9c59-b9f8fba67062}\n",
      "INFO:root:Listing Attack-Patterns with filters [{\"key\": \"name\", \"values\": \"Timestomp\"}].\n",
      "INFO:root:Listing Stix-Domain-Entities with filters [{\"key\": \"name\", \"values\": [\"Timestomp\"]}].\n"
     ]
    },
    {
     "name": "stdout",
     "output_type": "stream",
     "text": [
      "User,Administator,SYSTEM\n"
     ]
    },
    {
     "name": "stderr",
     "output_type": "stream",
     "text": [
      "INFO:root:Updating Stix-Domain-Entity {a5f70f2f-52d3-4412-abd9-b77276de4887} field {required_permission}.\n",
      "INFO:root:Reading Report {1f2cbc39-8893-4bec-9c59-b9f8fba67062}.\n",
      "INFO:root:Adding Stix-Entity {a5f70f2f-52d3-4412-abd9-b77276de4887} to Report {1f2cbc39-8893-4bec-9c59-b9f8fba67062}\n",
      "INFO:root:Listing Attack-Patterns with filters [{\"key\": \"name\", \"values\": \"Trusted Relationship\"}].\n",
      "INFO:root:Listing Stix-Domain-Entities with filters [{\"key\": \"name\", \"values\": [\"Trusted Relationship\"]}].\n",
      "INFO:root:Reading Report {1f2cbc39-8893-4bec-9c59-b9f8fba67062}.\n"
     ]
    },
    {
     "name": "stdout",
     "output_type": "stream",
     "text": [
      "None\n"
     ]
    },
    {
     "name": "stderr",
     "output_type": "stream",
     "text": [
      "INFO:root:Adding Stix-Entity {191d0c8f-7b92-4723-94e0-086f38d8679e} to Report {1f2cbc39-8893-4bec-9c59-b9f8fba67062}\n",
      "INFO:root:Listing Attack-Patterns with filters [{\"key\": \"name\", \"values\": \"User Execution\"}].\n",
      "INFO:root:Listing Stix-Domain-Entities with filters [{\"key\": \"name\", \"values\": [\"User Execution\"]}].\n",
      "INFO:root:Updating Stix-Domain-Entity {56a0a83f-118c-43cb-99fb-8cbad400c35e} field {required_permission}.\n"
     ]
    },
    {
     "name": "stdout",
     "output_type": "stream",
     "text": [
      "User\n"
     ]
    },
    {
     "name": "stderr",
     "output_type": "stream",
     "text": [
      "INFO:root:Reading Report {1f2cbc39-8893-4bec-9c59-b9f8fba67062}.\n",
      "INFO:root:Adding Stix-Entity {56a0a83f-118c-43cb-99fb-8cbad400c35e} to Report {1f2cbc39-8893-4bec-9c59-b9f8fba67062}\n",
      "INFO:root:Listing Attack-Patterns with filters [{\"key\": \"name\", \"values\": \"Valid Accounts\"}].\n",
      "INFO:root:Listing Stix-Domain-Entities with filters [{\"key\": \"name\", \"values\": [\"Valid Accounts\"]}].\n"
     ]
    },
    {
     "name": "stdout",
     "output_type": "stream",
     "text": [
      "User,Administator\n"
     ]
    },
    {
     "name": "stderr",
     "output_type": "stream",
     "text": [
      "INFO:root:Updating Stix-Domain-Entity {d5e0d90a-8502-4705-bfcf-eb57ebd44053} field {required_permission}.\n",
      "INFO:root:Reading Report {1f2cbc39-8893-4bec-9c59-b9f8fba67062}.\n",
      "INFO:root:Adding Stix-Entity {d5e0d90a-8502-4705-bfcf-eb57ebd44053} to Report {1f2cbc39-8893-4bec-9c59-b9f8fba67062}\n",
      "INFO:root:Listing Attack-Patterns with filters [{\"key\": \"name\", \"values\": \"Valid Accounts\"}].\n",
      "INFO:root:Listing Stix-Domain-Entities with filters [{\"key\": \"name\", \"values\": [\"Valid Accounts\"]}].\n"
     ]
    },
    {
     "name": "stdout",
     "output_type": "stream",
     "text": [
      "None\n"
     ]
    },
    {
     "name": "stderr",
     "output_type": "stream",
     "text": [
      "ERROR:root:[opencti_stix_domain_entity] Missing parameters: id and key and value\n",
      "INFO:root:Reading Report {1f2cbc39-8893-4bec-9c59-b9f8fba67062}.\n",
      "INFO:root:Listing Malwares with filters [{\"key\": \"name\", \"values\": \"ADVSTORESHELL\"}].\n",
      "INFO:root:Listing Stix-Domain-Entities with filters [{\"key\": \"name\", \"values\": [\"ADVSTORESHELL\"]}].\n",
      "INFO:root:Reading Report {1f2cbc39-8893-4bec-9c59-b9f8fba67062}.\n",
      "INFO:root:Adding Stix-Entity {c9630199-c590-4a66-9e4b-095f0acae785} to Report {1f2cbc39-8893-4bec-9c59-b9f8fba67062}\n",
      "INFO:root:Listing Malwares with filters [{\"key\": \"name\", \"values\": \"Cannon\"}].\n",
      "INFO:root:Listing Stix-Domain-Entities with filters [{\"key\": \"name\", \"values\": [\"Cannon\"]}].\n",
      "INFO:root:Reading Report {1f2cbc39-8893-4bec-9c59-b9f8fba67062}.\n",
      "INFO:root:Adding Stix-Entity {88cbb5de-7cd0-4a00-a14e-e893267afdde} to Report {1f2cbc39-8893-4bec-9c59-b9f8fba67062}\n",
      "INFO:root:Listing Malwares with filters [{\"key\": \"name\", \"values\": \"CHOPSTICK\"}].\n",
      "INFO:root:Listing Stix-Domain-Entities with filters [{\"key\": \"name\", \"values\": [\"CHOPSTICK\"]}].\n",
      "INFO:root:Reading Report {1f2cbc39-8893-4bec-9c59-b9f8fba67062}.\n",
      "INFO:root:Adding Stix-Entity {d160a012-7be8-4de4-86d3-957cc310d76b} to Report {1f2cbc39-8893-4bec-9c59-b9f8fba67062}\n",
      "INFO:root:Listing Malwares with filters [{\"key\": \"name\", \"values\": \"CORESHELL\"}].\n",
      "INFO:root:Listing Stix-Domain-Entities with filters [{\"key\": \"name\", \"values\": [\"CORESHELL\"]}].\n",
      "INFO:root:Reading Report {1f2cbc39-8893-4bec-9c59-b9f8fba67062}.\n",
      "INFO:root:Adding Stix-Entity {d2f5de38-118b-465f-84ef-5e8f2ba6f138} to Report {1f2cbc39-8893-4bec-9c59-b9f8fba67062}\n",
      "INFO:root:Listing Malwares with filters [{\"key\": \"name\", \"values\": \"DealersChoice\"}].\n",
      "INFO:root:Listing Stix-Domain-Entities with filters [{\"key\": \"name\", \"values\": [\"DealersChoice\"]}].\n",
      "INFO:root:Reading Report {1f2cbc39-8893-4bec-9c59-b9f8fba67062}.\n",
      "INFO:root:Adding Stix-Entity {992c84bb-2737-4600-bec3-71c96e20bbc0} to Report {1f2cbc39-8893-4bec-9c59-b9f8fba67062}\n",
      "INFO:root:Listing Malwares with filters [{\"key\": \"name\", \"values\": \"Downdelph\"}].\n",
      "INFO:root:Listing Stix-Domain-Entities with filters [{\"key\": \"name\", \"values\": [\"Downdelph\"]}].\n",
      "INFO:root:Reading Report {1f2cbc39-8893-4bec-9c59-b9f8fba67062}.\n",
      "INFO:root:Adding Stix-Entity {06ef98bc-90d3-44d0-9b31-47dd138daa3d} to Report {1f2cbc39-8893-4bec-9c59-b9f8fba67062}\n",
      "INFO:root:Listing Malwares with filters [{\"key\": \"name\", \"values\": \"Fysbis\"}].\n",
      "INFO:root:Listing Stix-Domain-Entities with filters [{\"key\": \"name\", \"values\": [\"Fysbis\"]}].\n",
      "INFO:root:Reading Report {1f2cbc39-8893-4bec-9c59-b9f8fba67062}.\n",
      "INFO:root:Adding Stix-Entity {9fa5e609-537d-483a-98fe-f463e405df11} to Report {1f2cbc39-8893-4bec-9c59-b9f8fba67062}\n",
      "INFO:root:Listing Malwares with filters [{\"key\": \"name\", \"values\": \"HIDEDRV\"}].\n",
      "INFO:root:Listing Stix-Domain-Entities with filters [{\"key\": \"name\", \"values\": [\"HIDEDRV\"]}].\n",
      "INFO:root:Reading Report {1f2cbc39-8893-4bec-9c59-b9f8fba67062}.\n",
      "INFO:root:Adding Stix-Entity {f14a312d-c43b-4c07-9951-f3448dfb7ba6} to Report {1f2cbc39-8893-4bec-9c59-b9f8fba67062}\n",
      "INFO:root:Listing Malwares with filters [{\"key\": \"name\", \"values\": \"JHUHUGIT\"}].\n",
      "INFO:root:Listing Stix-Domain-Entities with filters [{\"key\": \"name\", \"values\": [\"JHUHUGIT\"]}].\n",
      "INFO:root:Reading Report {1f2cbc39-8893-4bec-9c59-b9f8fba67062}.\n",
      "INFO:root:Adding Stix-Entity {d380cf57-9810-438b-bb25-a652aaca9ab2} to Report {1f2cbc39-8893-4bec-9c59-b9f8fba67062}\n",
      "INFO:root:Listing Tools with filters [{\"key\": \"name\", \"values\": \"certutil\"}].\n",
      "INFO:root:Listing Stix-Domain-Entities with filters [{\"key\": \"name\", \"values\": [\"certutil\"]}].\n",
      "INFO:root:Reading Report {1f2cbc39-8893-4bec-9c59-b9f8fba67062}.\n",
      "INFO:root:Adding Stix-Entity {2e241d8f-a3c3-48ef-9e83-d17826a30efd} to Report {1f2cbc39-8893-4bec-9c59-b9f8fba67062}\n",
      "INFO:root:Listing Tools with filters [{\"key\": \"name\", \"values\": \"Forfiles\"}].\n",
      "INFO:root:Listing Stix-Domain-Entities with filters [{\"key\": \"name\", \"values\": [\"Forfiles\"]}].\n",
      "INFO:root:Reading Report {1f2cbc39-8893-4bec-9c59-b9f8fba67062}.\n",
      "INFO:root:Adding Stix-Entity {beccb409-2457-4f5a-b775-a0f0a1e5b640} to Report {1f2cbc39-8893-4bec-9c59-b9f8fba67062}\n",
      "INFO:root:Listing Tools with filters [{\"key\": \"name\", \"values\": \"Koadic\"}].\n",
      "INFO:root:Listing Stix-Domain-Entities with filters [{\"key\": \"name\", \"values\": [\"Koadic\"]}].\n",
      "INFO:root:Reading Report {1f2cbc39-8893-4bec-9c59-b9f8fba67062}.\n",
      "INFO:root:Adding Stix-Entity {f31cb6c1-7a9a-44c8-a0ab-11041c32271a} to Report {1f2cbc39-8893-4bec-9c59-b9f8fba67062}\n",
      "INFO:root:Listing Tools with filters [{\"key\": \"name\", \"values\": \"Mimikatz\"}].\n",
      "INFO:root:Listing Stix-Domain-Entities with filters [{\"key\": \"name\", \"values\": [\"Mimikatz\"]}].\n",
      "INFO:root:Reading Report {1f2cbc39-8893-4bec-9c59-b9f8fba67062}.\n",
      "INFO:root:Adding Stix-Entity {5d9b3459-582c-4fab-9152-32e73ef52891} to Report {1f2cbc39-8893-4bec-9c59-b9f8fba67062}\n",
      "INFO:root:Listing Tools with filters [{\"key\": \"name\", \"values\": \"Winexe\"}].\n",
      "INFO:root:Listing Stix-Domain-Entities with filters [{\"key\": \"name\", \"values\": [\"Winexe\"]}].\n",
      "INFO:root:Reading Report {1f2cbc39-8893-4bec-9c59-b9f8fba67062}.\n",
      "INFO:root:Adding Stix-Entity {c8a3d175-bdbd-4c73-a79f-b15a52b940af} to Report {1f2cbc39-8893-4bec-9c59-b9f8fba67062}\n",
      "INFO:root:Listing Vulnerabilities with filters [{\"key\": \"name\", \"values\": \"CVE-2013-1347\"}].\n",
      "INFO:root:Listing Stix-Domain-Entities with filters [{\"key\": \"name\", \"values\": [\"CVE-2013-1347\"]}].\n",
      "INFO:root:Reading Report {1f2cbc39-8893-4bec-9c59-b9f8fba67062}.\n",
      "INFO:root:Adding Stix-Entity {1c0a703e-8245-4206-b21b-1104224a89dc} to Report {1f2cbc39-8893-4bec-9c59-b9f8fba67062}\n",
      "INFO:root:Listing Vulnerabilities with filters [{\"key\": \"name\", \"values\": \"CVE-2013-3897\"}].\n",
      "INFO:root:Listing Stix-Domain-Entities with filters [{\"key\": \"name\", \"values\": [\"CVE-2013-3897\"]}].\n",
      "INFO:root:Reading Report {1f2cbc39-8893-4bec-9c59-b9f8fba67062}.\n",
      "INFO:root:Adding Stix-Entity {b797c618-45cb-407a-b5ce-9549a5056bd6} to Report {1f2cbc39-8893-4bec-9c59-b9f8fba67062}\n",
      "INFO:root:Listing Vulnerabilities with filters [{\"key\": \"name\", \"values\": \"CVE-2014-1510\"}].\n",
      "INFO:root:Listing Stix-Domain-Entities with filters [{\"key\": \"name\", \"values\": [\"CVE-2014-1510\"]}].\n",
      "INFO:root:Reading Report {1f2cbc39-8893-4bec-9c59-b9f8fba67062}.\n",
      "INFO:root:Adding Stix-Entity {92a0b258-745e-438b-aa7a-8ddbdb414750} to Report {1f2cbc39-8893-4bec-9c59-b9f8fba67062}\n",
      "INFO:root:Listing Vulnerabilities with filters [{\"key\": \"name\", \"values\": \"CVE-2014-1511\"}].\n",
      "INFO:root:Listing Stix-Domain-Entities with filters [{\"key\": \"name\", \"values\": [\"CVE-2014-1511\"]}].\n",
      "INFO:root:Reading Report {1f2cbc39-8893-4bec-9c59-b9f8fba67062}.\n",
      "INFO:root:Adding Stix-Entity {b27363f1-c462-4b2e-9ce3-6cd45a851d56} to Report {1f2cbc39-8893-4bec-9c59-b9f8fba67062}\n",
      "INFO:root:Listing Vulnerabilities with filters [{\"key\": \"name\", \"values\": \"CVE-2014-1776\"}].\n",
      "INFO:root:Listing Stix-Domain-Entities with filters [{\"key\": \"name\", \"values\": [\"CVE-2014-1776\"]}].\n",
      "INFO:root:Reading Report {1f2cbc39-8893-4bec-9c59-b9f8fba67062}.\n",
      "INFO:root:Adding Stix-Entity {8e88e738-6a82-46a3-ae9d-6c7c546ca4b3} to Report {1f2cbc39-8893-4bec-9c59-b9f8fba67062}\n",
      "INFO:root:Listing Vulnerabilities with filters [{\"key\": \"name\", \"values\": \"CVE-2014-6332\"}].\n",
      "INFO:root:Listing Stix-Domain-Entities with filters [{\"key\": \"name\", \"values\": [\"CVE-2014-6332\"]}].\n",
      "INFO:root:Reading Report {1f2cbc39-8893-4bec-9c59-b9f8fba67062}.\n",
      "INFO:root:Adding Stix-Entity {a763f532-6889-47ae-8976-abf99ce14bbb} to Report {1f2cbc39-8893-4bec-9c59-b9f8fba67062}\n",
      "INFO:root:Listing Vulnerabilities with filters [{\"key\": \"name\", \"values\": \"\\nCVE-2015-2590\"}].\n",
      "INFO:root:Listing Stix-Domain-Entities with filters [{\"key\": \"name\", \"values\": [\"CVE-2015-2590\"]}].\n",
      "INFO:root:Reading Report {1f2cbc39-8893-4bec-9c59-b9f8fba67062}.\n",
      "INFO:root:Adding Stix-Entity {0d618989-96c1-4cef-8b34-f4dc5a8b7f05} to Report {1f2cbc39-8893-4bec-9c59-b9f8fba67062}\n",
      "INFO:root:Listing Vulnerabilities with filters [{\"key\": \"name\", \"values\": \"CVE-2015-4902\"}].\n",
      "INFO:root:Listing Stix-Domain-Entities with filters [{\"key\": \"name\", \"values\": [\"CVE-2015-4902\"]}].\n",
      "INFO:root:Reading Report {1f2cbc39-8893-4bec-9c59-b9f8fba67062}.\n",
      "INFO:root:Adding Stix-Entity {d45d618d-9a31-4905-be50-91a94f605f99} to Report {1f2cbc39-8893-4bec-9c59-b9f8fba67062}\n",
      "INFO:root:Listing Vulnerabilities with filters [{\"key\": \"name\", \"values\": \"CVE-2015-3043\"}].\n"
     ]
    },
    {
     "name": "stderr",
     "output_type": "stream",
     "text": [
      "INFO:root:Listing Stix-Domain-Entities with filters [{\"key\": \"name\", \"values\": [\"CVE-2015-3043\"]}].\n",
      "INFO:root:Reading Report {1f2cbc39-8893-4bec-9c59-b9f8fba67062}.\n",
      "INFO:root:Adding Stix-Entity {4e7c53b2-e4f7-4409-9bd5-50837de2bc44} to Report {1f2cbc39-8893-4bec-9c59-b9f8fba67062}\n",
      "INFO:root:Listing Vulnerabilities with filters [{\"key\": \"name\", \"values\": \"CVE-2015-5119\"}].\n",
      "INFO:root:Listing Stix-Domain-Entities with filters [{\"key\": \"name\", \"values\": [\"CVE-2015-5119\"]}].\n",
      "INFO:root:Reading Report {1f2cbc39-8893-4bec-9c59-b9f8fba67062}.\n",
      "INFO:root:Adding Stix-Entity {9652484c-8af7-4147-83c3-f47890487079} to Report {1f2cbc39-8893-4bec-9c59-b9f8fba67062}\n",
      "INFO:root:Listing Vulnerabilities with filters [{\"key\": \"name\", \"values\": \"\\n\\n\\n\\n\\n\\n\\n\\n\\nCVE-2015-7645\\n\"}].\n",
      "INFO:root:Listing Stix-Domain-Entities with filters [{\"key\": \"name\", \"values\": [\"CVE-2015-7645\"]}].\n",
      "INFO:root:Reading Report {1f2cbc39-8893-4bec-9c59-b9f8fba67062}.\n",
      "INFO:root:Adding Stix-Entity {c23e2eb0-bd52-482e-9a5c-b97e31d9225b} to Report {1f2cbc39-8893-4bec-9c59-b9f8fba67062}\n",
      "INFO:root:Listing Indicators with filters [{\"key\": \"indicator_pattern\", \"values\": [\"[file:hashes.MD5 = c3ae4a37094ecfe95c2badecf40bf5bb]\"]}].\n",
      "INFO:root:Reading Report {1f2cbc39-8893-4bec-9c59-b9f8fba67062}.\n",
      "INFO:root:Adding Stix-Entity {547971a2-4cb3-4448-a0cb-5d6484043880} to Report {1f2cbc39-8893-4bec-9c59-b9f8fba67062}\n",
      "INFO:root:Listing Indicators with filters [{\"key\": \"indicator_pattern\", \"values\": [\"[file:hashes.MD5 = ce8b99df8642c065b6af43fde1f786a3]\"]}].\n",
      "INFO:root:Reading Report {1f2cbc39-8893-4bec-9c59-b9f8fba67062}.\n",
      "INFO:root:Adding Stix-Entity {ccb6936b-34d2-4299-8696-9baf0abcc19d} to Report {1f2cbc39-8893-4bec-9c59-b9f8fba67062}\n",
      "INFO:root:Listing Indicators with filters [{\"key\": \"indicator_pattern\", \"values\": [\"[file:hashes.MD5 = f6f88caf49a3e32174387cacfa144a89]\"]}].\n",
      "INFO:root:Reading Report {1f2cbc39-8893-4bec-9c59-b9f8fba67062}.\n",
      "INFO:root:Adding Stix-Entity {93a45d31-aff0-4943-9c7c-e030b99b5f5a} to Report {1f2cbc39-8893-4bec-9c59-b9f8fba67062}\n",
      "INFO:root:Listing Indicators with filters [{\"key\": \"indicator_pattern\", \"values\": [\"[file:hashes.MD5 = 8c4d896957c36ec4abeb07b2802268b9]\"]}].\n",
      "INFO:root:Reading Report {1f2cbc39-8893-4bec-9c59-b9f8fba67062}.\n",
      "INFO:root:Adding Stix-Entity {7c869d95-c014-49aa-ba37-a24e5929e8fa} to Report {1f2cbc39-8893-4bec-9c59-b9f8fba67062}\n",
      "INFO:root:Listing Indicators with filters [{\"key\": \"indicator_pattern\", \"values\": [\"[file:hashes.MD5 = 0369620eb139c3875a62e36bb7abdae8]\"]}].\n",
      "INFO:root:Reading Report {1f2cbc39-8893-4bec-9c59-b9f8fba67062}.\n",
      "INFO:root:Adding Stix-Entity {14f1d298-a87e-451b-ba60-76a5dbee520d} to Report {1f2cbc39-8893-4bec-9c59-b9f8fba67062}\n",
      "INFO:root:Listing Indicators with filters [{\"key\": \"indicator_pattern\", \"values\": [\"[file:hashes.MD5 = 8b238931a7f64fddcad3057a96855f6c]\"]}].\n",
      "INFO:root:Reading Report {1f2cbc39-8893-4bec-9c59-b9f8fba67062}.\n",
      "INFO:root:Adding Stix-Entity {5390f2f4-ba00-4105-8116-2826b90e5e84} to Report {1f2cbc39-8893-4bec-9c59-b9f8fba67062}\n",
      "INFO:root:Listing Indicators with filters [{\"key\": \"indicator_pattern\", \"values\": [\"[file:hashes.MD5 = ce151285e8f0e7b2b90162ba171a4b90]\"]}].\n",
      "INFO:root:Reading Report {1f2cbc39-8893-4bec-9c59-b9f8fba67062}.\n",
      "INFO:root:Adding Stix-Entity {11556748-940b-4f49-9e08-657f5f396839} to Report {1f2cbc39-8893-4bec-9c59-b9f8fba67062}\n",
      "INFO:root:Listing Indicators with filters [{\"key\": \"indicator_pattern\", \"values\": [\"[file:hashes.MD5 = f6f88caf49a3e32174387cacfa144a89]\"]}].\n",
      "INFO:root:Reading Report {1f2cbc39-8893-4bec-9c59-b9f8fba67062}.\n",
      "INFO:root:Listing Indicators with filters [{\"key\": \"indicator_pattern\", \"values\": [\"[file:hashes.MD5 = a96f4b8ac7aa9dbf4624424b7602d4f7]\"]}].\n",
      "INFO:root:Reading Report {1f2cbc39-8893-4bec-9c59-b9f8fba67062}.\n",
      "INFO:root:Adding Stix-Entity {b47992c6-18d4-49b9-a778-8443c7197910} to Report {1f2cbc39-8893-4bec-9c59-b9f8fba67062}\n",
      "INFO:root:Listing Indicators with filters [{\"key\": \"indicator_pattern\", \"values\": [\"[file:hashes.MD5 = 9d2f9e19db8c20dc0d20d50869c7a373]\"]}].\n",
      "INFO:root:Reading Report {1f2cbc39-8893-4bec-9c59-b9f8fba67062}.\n",
      "INFO:root:Adding Stix-Entity {75fc5775-0c83-416a-ab52-dd60e1c17e27} to Report {1f2cbc39-8893-4bec-9c59-b9f8fba67062}\n",
      "INFO:root:Listing Indicators with filters [{\"key\": \"indicator_pattern\", \"values\": [\"[domain-name:value = drivres-update.info]\"]}].\n",
      "INFO:root:Reading Report {1f2cbc39-8893-4bec-9c59-b9f8fba67062}.\n",
      "INFO:root:Adding Stix-Entity {490771ca-eaa0-4999-b537-b618a1878dea} to Report {1f2cbc39-8893-4bec-9c59-b9f8fba67062}\n",
      "INFO:root:Listing Indicators with filters [{\"key\": \"indicator_pattern\", \"values\": [\"[domain-name:value = intelnetservice.com]\"]}].\n",
      "INFO:root:Reading Report {1f2cbc39-8893-4bec-9c59-b9f8fba67062}.\n",
      "INFO:root:Adding Stix-Entity {7d7e7303-203a-4d90-951f-131dc09b2c52} to Report {1f2cbc39-8893-4bec-9c59-b9f8fba67062}\n",
      "INFO:root:Listing Indicators with filters [{\"key\": \"indicator_pattern\", \"values\": [\"[domain-name:value = intelsupport.net]\"]}].\n",
      "INFO:root:Reading Report {1f2cbc39-8893-4bec-9c59-b9f8fba67062}.\n",
      "INFO:root:Adding Stix-Entity {1efe3504-5849-46ee-961f-5ae566de5b5e} to Report {1f2cbc39-8893-4bec-9c59-b9f8fba67062}\n",
      "INFO:root:Listing Indicators with filters [{\"key\": \"indicator_pattern\", \"values\": [\"[domain-name:value = softupdates.info  ]\"]}].\n",
      "INFO:root:Reading Report {1f2cbc39-8893-4bec-9c59-b9f8fba67062}.\n",
      "INFO:root:Adding Stix-Entity {b958cf9e-0bdc-4f4e-8da7-d69abe3a435f} to Report {1f2cbc39-8893-4bec-9c59-b9f8fba67062}\n",
      "INFO:root:Listing Indicators with filters [{\"key\": \"indicator_pattern\", \"values\": [\"[file:hashes.SHA256 = 2cfc4b3686511f959f14889d26d3d9a0d06e27ee2bb54c9afb1ada6b8205c55f]\"]}].\n",
      "INFO:root:Reading Report {1f2cbc39-8893-4bec-9c59-b9f8fba67062}.\n",
      "INFO:root:Adding Stix-Entity {da5e9871-e066-4067-803f-b8becff18d8f} to Report {1f2cbc39-8893-4bec-9c59-b9f8fba67062}\n",
      "INFO:root:Listing Indicators with filters [{\"key\": \"indicator_pattern\", \"values\": [\"[file:hashes.SHA256 = c20e5d56b35992fe74e92aebb09c40a9ec4f3d9b3c2a01efbe761fa7921dd97f]\"]}].\n",
      "INFO:root:Reading Report {1f2cbc39-8893-4bec-9c59-b9f8fba67062}.\n",
      "INFO:root:Adding Stix-Entity {c83ed5b8-da99-4c16-8645-d49755e12f2f} to Report {1f2cbc39-8893-4bec-9c59-b9f8fba67062}\n",
      "INFO:root:Listing Indicators with filters [{\"key\": \"indicator_pattern\", \"values\": [\"[file:hashes.SHA256 = abfc14f7f708f662046bfcad81a719c71a35a8dc5aa111407c2c93496e52db74]\"]}].\n",
      "INFO:root:Reading Report {1f2cbc39-8893-4bec-9c59-b9f8fba67062}.\n",
      "INFO:root:Adding Stix-Entity {bd3dd7a6-9723-4895-b825-f71d9f1b2fbc} to Report {1f2cbc39-8893-4bec-9c59-b9f8fba67062}\n",
      "INFO:root:Listing Indicators with filters [{\"key\": \"indicator_pattern\", \"values\": [\"[file:hashes.SHA256 = 40318f3593bca859673827b88d65c5d2f0d80a76948be936a60bda67dff27be9]\"]}].\n",
      "INFO:root:Reading Report {1f2cbc39-8893-4bec-9c59-b9f8fba67062}.\n",
      "INFO:root:Adding Stix-Entity {eb39aaa9-35ba-4624-93c8-355e804cb720} to Report {1f2cbc39-8893-4bec-9c59-b9f8fba67062}\n",
      "INFO:root:Listing Indicators with filters [{\"key\": \"indicator_pattern\", \"values\": [\"[file:hashes.SHA256 = 5749eb9d7b8afa278be24a4db66f122aeb323eaa73a9c9e52d77ac3952da5e7d]\"]}].\n",
      "INFO:root:Reading Report {1f2cbc39-8893-4bec-9c59-b9f8fba67062}.\n",
      "INFO:root:Adding Stix-Entity {ab5d5a2c-e943-4d66-9047-cbac81fc2926} to Report {1f2cbc39-8893-4bec-9c59-b9f8fba67062}\n",
      "INFO:root:Listing Indicators with filters [{\"key\": \"indicator_pattern\", \"values\": [\"[file:hashes.SHA256 = af77e845f1b0a3ae32cb5cfa53ff22cc9dae883f05200e18ad8e10d7a8106392]\"]}].\n",
      "INFO:root:Reading Report {1f2cbc39-8893-4bec-9c59-b9f8fba67062}.\n",
      "INFO:root:Adding Stix-Entity {6b621de5-fce1-4513-997c-e5a5249dbb27} to Report {1f2cbc39-8893-4bec-9c59-b9f8fba67062}\n",
      "INFO:root:Listing Indicators with filters [{\"key\": \"indicator_pattern\", \"values\": [\"[file:hashes.SHA256 = 34bdb5b364358a07f598da4d26b30bac37e139a7dc2b9914debb3a16311f3ded]\"]}].\n",
      "INFO:root:Reading Report {1f2cbc39-8893-4bec-9c59-b9f8fba67062}.\n",
      "INFO:root:Adding Stix-Entity {de242b61-26fe-4f29-bf00-a566a10fc0ba} to Report {1f2cbc39-8893-4bec-9c59-b9f8fba67062}\n",
      "INFO:root:Listing Indicators with filters [{\"key\": \"indicator_pattern\", \"values\": [\"[file:hashes.SHA256 = 79bd5f34867229176869572a027bd601bd8c0bc3f56d37443d403a6d1819a7e5]\"]}].\n",
      "INFO:root:Reading Report {1f2cbc39-8893-4bec-9c59-b9f8fba67062}.\n",
      "INFO:root:Adding Stix-Entity {aab3af69-2751-4b8e-b294-fe72d9a6dafd} to Report {1f2cbc39-8893-4bec-9c59-b9f8fba67062}\n"
     ]
    },
    {
     "name": "stderr",
     "output_type": "stream",
     "text": [
      "INFO:root:Listing Indicators with filters [{\"key\": \"indicator_pattern\", \"values\": [\"[file:hashes.SHA256 = 77ff53211bd994293400cb3f93e3d3df6754d8d477cb76f52221704adebad83a]\"]}].\n",
      "INFO:root:Reading Report {1f2cbc39-8893-4bec-9c59-b9f8fba67062}.\n",
      "INFO:root:Adding Stix-Entity {838f63eb-9066-4cc8-82d4-9408452395ac} to Report {1f2cbc39-8893-4bec-9c59-b9f8fba67062}\n",
      "INFO:root:Listing Indicators with filters [{\"key\": \"indicator_pattern\", \"values\": [\"[file:hashes.SHA256 = f1e2bceae81ccd54777f7862c616f22b581b47e0dda5cb02d0a722168ef194a5]\"]}].\n",
      "INFO:root:Reading Report {1f2cbc39-8893-4bec-9c59-b9f8fba67062}.\n",
      "INFO:root:Adding Stix-Entity {047bfb5d-b8fc-447f-9c6a-26e1869c1f14} to Report {1f2cbc39-8893-4bec-9c59-b9f8fba67062}\n",
      "INFO:root:Listing Indicators with filters [{\"key\": \"indicator_pattern\", \"values\": [\"[file:hashes.SHA256 = 86bb3b00bcd4878b081e4e4f126bba321b81a17e544d54377a0f590f95209e46]\"]}].\n",
      "INFO:root:Reading Report {1f2cbc39-8893-4bec-9c59-b9f8fba67062}.\n",
      "INFO:root:Adding Stix-Entity {78b9076b-9c78-47ce-a067-4f6db994090e} to Report {1f2cbc39-8893-4bec-9c59-b9f8fba67062}\n",
      "INFO:root:Listing Indicators with filters [{\"key\": \"indicator_pattern\", \"values\": [\"[file:hashes.SHA256 = 2da5a388b891e42df4ed62cffbc167db2021e2441e6075d651ecc1d0ffd32ec8]\"]}].\n",
      "INFO:root:Reading Report {1f2cbc39-8893-4bec-9c59-b9f8fba67062}.\n",
      "INFO:root:Adding Stix-Entity {270ea3b7-cdec-4fe3-9d97-ea87aa352515} to Report {1f2cbc39-8893-4bec-9c59-b9f8fba67062}\n",
      "INFO:root:Listing Indicators with filters [{\"key\": \"indicator_pattern\", \"values\": [\"[file:hashes.SHA256 = 0d7b945b9c912d205974f44e3742c696b5038c2120ed4775710ed6d51fbc58ef]\"]}].\n",
      "INFO:root:Reading Report {1f2cbc39-8893-4bec-9c59-b9f8fba67062}.\n",
      "INFO:root:Adding Stix-Entity {667ed941-005a-49ce-a1f6-89c7cbe9b760} to Report {1f2cbc39-8893-4bec-9c59-b9f8fba67062}\n",
      "INFO:root:Listing Indicators with filters [{\"key\": \"indicator_pattern\", \"values\": [\"[file:hashes.SHA256 = fc69fb278e12fc7f9c49a020eff9f84c58b71e680a9e18f78d4e6540693f557d]\"]}].\n",
      "INFO:root:Reading Report {1f2cbc39-8893-4bec-9c59-b9f8fba67062}.\n",
      "INFO:root:Adding Stix-Entity {26c19424-d4cc-4c8e-a947-95b676b0b330} to Report {1f2cbc39-8893-4bec-9c59-b9f8fba67062}\n",
      "INFO:root:Listing Indicators with filters [{\"key\": \"indicator_pattern\", \"values\": [\"[file:hashes.SHA256 = ed8f52cdfc5f4c4be95a6b2e935661e00b50324bee5fe8974599743ccfd8daba]\"]}].\n",
      "INFO:root:Reading Report {1f2cbc39-8893-4bec-9c59-b9f8fba67062}.\n",
      "INFO:root:Adding Stix-Entity {75cbca55-7183-441b-b7c7-23e73e5b1726} to Report {1f2cbc39-8893-4bec-9c59-b9f8fba67062}\n",
      "INFO:root:Listing Indicators with filters [{\"key\": \"indicator_pattern\", \"values\": [\"[file:hashes.SHA256 = b9f3af84a69cd39e2e10a86207f8612dd2839873c5839af533ffbc45fc56f809]\"]}].\n",
      "INFO:root:Reading Report {1f2cbc39-8893-4bec-9c59-b9f8fba67062}.\n",
      "INFO:root:Adding Stix-Entity {1a33ae11-74cf-4fb5-bc33-a87d99086454} to Report {1f2cbc39-8893-4bec-9c59-b9f8fba67062}\n",
      "INFO:root:Listing Indicators with filters [{\"key\": \"indicator_pattern\", \"values\": [\"[file:hashes.SHA256 = 861b6bc1f9869017c48930af5848930dd037fb70fc506d8a7e43e1a0dbd1e8cb]\"]}].\n",
      "INFO:root:Reading Report {1f2cbc39-8893-4bec-9c59-b9f8fba67062}.\n",
      "INFO:root:Adding Stix-Entity {d7c041f1-824f-4ad4-b4d8-e157daf9801d} to Report {1f2cbc39-8893-4bec-9c59-b9f8fba67062}\n",
      "INFO:root:Listing Indicators with filters [{\"key\": \"indicator_pattern\", \"values\": [\"[file:hashes.SHA256 = 4405cfbf28e0dfafa9ea292e494f385592383d2476a9c49d12596b8d22a63c47]\"]}].\n",
      "INFO:root:Reading Report {1f2cbc39-8893-4bec-9c59-b9f8fba67062}.\n",
      "INFO:root:Adding Stix-Entity {8fb68203-68ed-4152-ad6f-925e71649e02} to Report {1f2cbc39-8893-4bec-9c59-b9f8fba67062}\n",
      "INFO:root:Listing Indicators with filters [{\"key\": \"indicator_pattern\", \"values\": [\"[file:hashes.SHA256 = 174effcdeec0b84c67d7dc23351418f6fa4825550d595344214cc746f1a01c1a]\"]}].\n",
      "INFO:root:Reading Report {1f2cbc39-8893-4bec-9c59-b9f8fba67062}.\n",
      "INFO:root:Adding Stix-Entity {833c1c08-7c78-45fd-97bc-56e42ad7f733} to Report {1f2cbc39-8893-4bec-9c59-b9f8fba67062}\n",
      "INFO:root:Listing Indicators with filters [{\"key\": \"indicator_pattern\", \"values\": [\"[file:hashes.SHA256 = a23261e2b693750a7009569df96ec4cf61e57acc9424c98d6fe1087ff8c659ce]\"]}].\n",
      "INFO:root:Reading Report {1f2cbc39-8893-4bec-9c59-b9f8fba67062}.\n",
      "INFO:root:Adding Stix-Entity {f41ae5f8-8d91-4057-ad95-b072d3ae8c29} to Report {1f2cbc39-8893-4bec-9c59-b9f8fba67062}\n",
      "INFO:root:Listing Indicators with filters [{\"key\": \"indicator_pattern\", \"values\": [\"[file:hashes.SHA256 = 651d5aab82e53711563ce074c047cbaa0703931673fa3ad20933d6a63c5c3b12]\"]}].\n",
      "INFO:root:Reading Report {1f2cbc39-8893-4bec-9c59-b9f8fba67062}.\n",
      "INFO:root:Adding Stix-Entity {c8aec087-6e47-4e5e-afb9-eb010c1ccf1c} to Report {1f2cbc39-8893-4bec-9c59-b9f8fba67062}\n",
      "INFO:root:Listing Indicators with filters [{\"key\": \"indicator_pattern\", \"values\": [\"[file:hashes.SHA256 = 68df0f924ce79765573156eabffee3a7bb0fa972d2b67d12dd91dea3ec255d24]\"]}].\n",
      "INFO:root:Reading Report {1f2cbc39-8893-4bec-9c59-b9f8fba67062}.\n",
      "INFO:root:Adding Stix-Entity {0948691d-1e31-4b13-8041-b512bdb5296e} to Report {1f2cbc39-8893-4bec-9c59-b9f8fba67062}\n",
      "INFO:root:Listing Indicators with filters [{\"key\": \"indicator_pattern\", \"values\": [\"[file:hashes.SHA256 = 61a1f3b4fb4dbd2877c91e81db4b1af8395547eab199bf920e9dd11a1127221e]\"]}].\n",
      "INFO:root:Reading Report {1f2cbc39-8893-4bec-9c59-b9f8fba67062}.\n",
      "INFO:root:Adding Stix-Entity {1bd1a60e-d3ea-4b84-9783-1f6022554466} to Report {1f2cbc39-8893-4bec-9c59-b9f8fba67062}\n",
      "INFO:root:Listing Indicators with filters [{\"key\": \"indicator_pattern\", \"values\": [\"[file:hashes.SHA256 = 5a02d4e5f6d6a89ad41554295114506540f0876e7288464e4a70c9ba51d24f12]\"]}].\n",
      "INFO:root:Reading Report {1f2cbc39-8893-4bec-9c59-b9f8fba67062}.\n",
      "INFO:root:Adding Stix-Entity {c744b11d-776c-47e4-9cff-3c1974644ed3} to Report {1f2cbc39-8893-4bec-9c59-b9f8fba67062}\n",
      "INFO:root:Listing Indicators with filters [{\"key\": \"indicator_pattern\", \"values\": [\"[file:hashes.SHA256 = d06be83a408f4796616b1c446e3637009d7691c131d121eb165c55bdd5ba50b4]\"]}].\n",
      "INFO:root:Reading Report {1f2cbc39-8893-4bec-9c59-b9f8fba67062}.\n",
      "INFO:root:Adding Stix-Entity {9399e6a6-5f58-4e12-b6bc-579e1e7d2c73} to Report {1f2cbc39-8893-4bec-9c59-b9f8fba67062}\n",
      "INFO:root:Listing Indicators with filters [{\"key\": \"indicator_pattern\", \"values\": [\"[file:hashes.SHA256 = 78adc8e5e4e86146317420fa3b2274c9805f6942c9973963467479cb1bbd4ead]\"]}].\n",
      "INFO:root:Reading Report {1f2cbc39-8893-4bec-9c59-b9f8fba67062}.\n",
      "INFO:root:Adding Stix-Entity {0c5337cc-9c44-4275-b109-18726fb25e7e} to Report {1f2cbc39-8893-4bec-9c59-b9f8fba67062}\n",
      "INFO:root:Listing Indicators with filters [{\"key\": \"indicator_pattern\", \"values\": [\"[file:hashes.SHA256 = 054c5aa73d6b6d293170785a82453446429c0efc742df75979b760682ac3026b]\"]}].\n",
      "INFO:root:Reading Report {1f2cbc39-8893-4bec-9c59-b9f8fba67062}.\n",
      "INFO:root:Adding Stix-Entity {37158f3e-96a7-4b83-b3df-45d60ab6f975} to Report {1f2cbc39-8893-4bec-9c59-b9f8fba67062}\n",
      "INFO:root:Listing Indicators with filters [{\"key\": \"indicator_pattern\", \"values\": [\"[file:hashes.SHA256 = cac630c11c4bf6363c067fbf7741eae0ec70238d9c5e60d41f3ed8f65b56c1d1]\"]}].\n",
      "INFO:root:Reading Report {1f2cbc39-8893-4bec-9c59-b9f8fba67062}.\n",
      "INFO:root:Adding Stix-Entity {2727152d-e7a4-4cfb-bd6d-ef3bb5a63578} to Report {1f2cbc39-8893-4bec-9c59-b9f8fba67062}\n",
      "INFO:root:Listing Indicators with filters [{\"key\": \"indicator_pattern\", \"values\": [\"[file:hashes.SHA256 = ecc5805898e037c2ef9bc52ea6c6e59b537984f84c3d680c8436c6a38bdecdf4]\"]}].\n",
      "INFO:root:Reading Report {1f2cbc39-8893-4bec-9c59-b9f8fba67062}.\n",
      "INFO:root:Adding Stix-Entity {8525df65-0459-45c0-819a-2195e6fe2c5e} to Report {1f2cbc39-8893-4bec-9c59-b9f8fba67062}\n",
      "INFO:root:Listing Indicators with filters [{\"key\": \"indicator_pattern\", \"values\": [\"[file:hashes.SHA256 = 215f7c08c2e3ef5835c7ebc9a329b04b8d5215773b7ebfc9fd755d93451ce1ae]\"]}].\n",
      "INFO:root:Reading Report {1f2cbc39-8893-4bec-9c59-b9f8fba67062}.\n",
      "INFO:root:Adding Stix-Entity {88e04981-34f6-4f8f-9a97-ec3cf28f013a} to Report {1f2cbc39-8893-4bec-9c59-b9f8fba67062}\n",
      "INFO:root:Listing Indicators with filters [{\"key\": \"indicator_pattern\", \"values\": [\"[ipv4-addr:value = 188.241.58.170]\"]}].\n",
      "INFO:root:Reading Report {1f2cbc39-8893-4bec-9c59-b9f8fba67062}.\n",
      "INFO:root:Adding Stix-Entity {31c7a2bb-436d-4ed3-b96e-daa232f35b24} to Report {1f2cbc39-8893-4bec-9c59-b9f8fba67062}\n"
     ]
    },
    {
     "name": "stderr",
     "output_type": "stream",
     "text": [
      "INFO:root:Listing Indicators with filters [{\"key\": \"indicator_pattern\", \"values\": [\"[ipv4-addr:value = 185.203.118.198]\"]}].\n",
      "INFO:root:Reading Report {1f2cbc39-8893-4bec-9c59-b9f8fba67062}.\n",
      "INFO:root:Adding Stix-Entity {096cae42-ba77-45d9-8388-51655df64d90} to Report {1f2cbc39-8893-4bec-9c59-b9f8fba67062}\n",
      "INFO:root:Listing Indicators with filters [{\"key\": \"indicator_pattern\", \"values\": [\"[ipv4-addr:value = 185.203.118.198]\"]}].\n",
      "INFO:root:Reading Report {1f2cbc39-8893-4bec-9c59-b9f8fba67062}.\n",
      "INFO:root:Listing Indicators with filters [{\"key\": \"indicator_pattern\", \"values\": [\"[ipv4-addr:value = 145.249.105.165]\"]}].\n",
      "INFO:root:Reading Report {1f2cbc39-8893-4bec-9c59-b9f8fba67062}.\n",
      "INFO:root:Adding Stix-Entity {1dd753c6-829d-42f9-8dfc-4a192aa69459} to Report {1f2cbc39-8893-4bec-9c59-b9f8fba67062}\n",
      "INFO:root:Listing Indicators with filters [{\"key\": \"indicator_pattern\", \"values\": [\"[ipv4-addr:value = 145.249.105.165]\"]}].\n",
      "INFO:root:Reading Report {1f2cbc39-8893-4bec-9c59-b9f8fba67062}.\n",
      "INFO:root:Listing Indicators with filters [{\"key\": \"indicator_pattern\", \"values\": [\"[ipv4-addr:value = 188.241.58.170]\"]}].\n",
      "INFO:root:Reading Report {1f2cbc39-8893-4bec-9c59-b9f8fba67062}.\n",
      "INFO:root:Listing Indicators with filters [{\"key\": \"indicator_pattern\", \"values\": [\"[ipv4-addr:value = 109.248.148.42]\"]}].\n",
      "INFO:root:Reading Report {1f2cbc39-8893-4bec-9c59-b9f8fba67062}.\n",
      "INFO:root:Adding Stix-Entity {615b8c34-efc9-4787-90bc-4c5e6e4439fe} to Report {1f2cbc39-8893-4bec-9c59-b9f8fba67062}\n",
      "INFO:root:Listing Indicators with filters [{\"key\": \"indicator_pattern\", \"values\": [\"[email-addr:value = sym777.gat@post.cz]\"]}].\n",
      "INFO:root:Reading Report {1f2cbc39-8893-4bec-9c59-b9f8fba67062}.\n",
      "INFO:root:Adding Stix-Entity {492a45d4-ae59-462e-82a8-29c7b93a6b74} to Report {1f2cbc39-8893-4bec-9c59-b9f8fba67062}\n",
      "INFO:root:Listing Indicators with filters [{\"key\": \"indicator_pattern\", \"values\": [\"[email-addr:value = kae.mezhnosh@post.cz]\"]}].\n",
      "INFO:root:Reading Report {1f2cbc39-8893-4bec-9c59-b9f8fba67062}.\n",
      "INFO:root:Adding Stix-Entity {5e70cf13-b062-4b35-a097-9f6fdfd514c9} to Report {1f2cbc39-8893-4bec-9c59-b9f8fba67062}\n",
      "INFO:root:Listing Indicators with filters [{\"key\": \"indicator_pattern\", \"values\": [\"[email-addr:value = vebek.morozh30@post.cz]\"]}].\n",
      "INFO:root:Reading Report {1f2cbc39-8893-4bec-9c59-b9f8fba67062}.\n",
      "INFO:root:Adding Stix-Entity {00ad334a-d1d7-4661-a569-24cee0809afc} to Report {1f2cbc39-8893-4bec-9c59-b9f8fba67062}\n",
      "INFO:root:Listing Indicators with filters [{\"key\": \"indicator_pattern\", \"values\": [\"[email-addr:value = g0r7tsa45s@post.cz]\"]}].\n",
      "INFO:root:Reading Report {1f2cbc39-8893-4bec-9c59-b9f8fba67062}.\n",
      "INFO:root:Adding Stix-Entity {56da9235-700f-403d-ba63-ae76f4f358fa} to Report {1f2cbc39-8893-4bec-9c59-b9f8fba67062}\n",
      "INFO:root:Listing Indicators with filters [{\"key\": \"indicator_pattern\", \"values\": [\"[email-addr:value = marvel.polezha@post.cz]\"]}].\n",
      "INFO:root:Reading Report {1f2cbc39-8893-4bec-9c59-b9f8fba67062}.\n",
      "INFO:root:Adding Stix-Entity {653b4fa5-4e7e-4ceb-b5ff-0d1c4b9ca53d} to Report {1f2cbc39-8893-4bec-9c59-b9f8fba67062}\n",
      "INFO:root:Listing Indicators with filters [{\"key\": \"indicator_pattern\", \"values\": [\"[email-addr:value = sahro.bella7@post.cz]\"]}].\n",
      "INFO:root:Reading Report {1f2cbc39-8893-4bec-9c59-b9f8fba67062}.\n",
      "INFO:root:Adding Stix-Entity {8ea40372-b7c1-42d9-b881-c4cb756d8988} to Report {1f2cbc39-8893-4bec-9c59-b9f8fba67062}\n",
      "INFO:root:Listing Indicators with filters [{\"key\": \"indicator_pattern\", \"values\": [\"[email-addr:value = trala.cosh2@post.cz]\"]}].\n",
      "INFO:root:Reading Report {1f2cbc39-8893-4bec-9c59-b9f8fba67062}.\n",
      "INFO:root:Adding Stix-Entity {dd7737da-add1-4a84-bd1f-66159c019666} to Report {1f2cbc39-8893-4bec-9c59-b9f8fba67062}\n",
      "INFO:root:Listing Indicators with filters [{\"key\": \"indicator_pattern\", \"values\": [\"[email-addr:value = Bishtr.cam47@post.cz]\"]}].\n",
      "INFO:root:Reading Report {1f2cbc39-8893-4bec-9c59-b9f8fba67062}.\n",
      "INFO:root:Adding Stix-Entity {b805996a-7651-4c97-8de1-4d5da1d841c3} to Report {1f2cbc39-8893-4bec-9c59-b9f8fba67062}\n",
      "INFO:root:Listing Indicators with filters [{\"key\": \"indicator_pattern\", \"values\": [\"[email-addr:value = Lobrek.chizh@post.cz]\"]}].\n",
      "INFO:root:Reading Report {1f2cbc39-8893-4bec-9c59-b9f8fba67062}.\n",
      "INFO:root:Adding Stix-Entity {3346bf74-4e40-4f2e-b753-cead1d12f0cf} to Report {1f2cbc39-8893-4bec-9c59-b9f8fba67062}\n",
      "INFO:root:Listing Indicators with filters [{\"key\": \"indicator_pattern\", \"values\": [\"[email-addr:value = Cervot.woprov@post.cz]\"]}].\n",
      "INFO:root:Reading Report {1f2cbc39-8893-4bec-9c59-b9f8fba67062}.\n",
      "INFO:root:Adding Stix-Entity {3f43c2b7-3df0-4080-a58d-235cfebef2bf} to Report {1f2cbc39-8893-4bec-9c59-b9f8fba67062}\n",
      "INFO:root:Listing Indicators with filters [{\"key\": \"indicator_pattern\", \"values\": [\"[email-addr:value = heatlth500@ambcomission.com]\"]}].\n",
      "INFO:root:Reading Report {1f2cbc39-8893-4bec-9c59-b9f8fba67062}.\n",
      "INFO:root:Adding Stix-Entity {df78e550-327f-4351-bbfe-84762373d51a} to Report {1f2cbc39-8893-4bec-9c59-b9f8fba67062}\n",
      "INFO:root:Listing Indicators with filters [{\"key\": \"indicator_pattern\", \"values\": [\"[email-addr:value = trash023@ambcomission.com]\"]}].\n",
      "INFO:root:Reading Report {1f2cbc39-8893-4bec-9c59-b9f8fba67062}.\n",
      "INFO:root:Adding Stix-Entity {84fd12a3-8d1a-4dff-8c43-3c0d7b8dacee} to Report {1f2cbc39-8893-4bec-9c59-b9f8fba67062}\n",
      "INFO:root:Listing Indicators with filters [{\"key\": \"indicator_pattern\", \"values\": [\"[email-addr:value = trasler22@ambcomission.com]\"]}].\n",
      "INFO:root:Reading Report {1f2cbc39-8893-4bec-9c59-b9f8fba67062}.\n",
      "INFO:root:Adding Stix-Entity {adb6fa3f-2d89-46f3-9d59-b4d99490c4e2} to Report {1f2cbc39-8893-4bec-9c59-b9f8fba67062}\n",
      "INFO:root:Listing Indicators with filters [{\"key\": \"indicator_pattern\", \"values\": [\"[email-addr:value = rishit333@ambcomission.com]\"]}].\n",
      "INFO:root:Reading Report {1f2cbc39-8893-4bec-9c59-b9f8fba67062}.\n",
      "INFO:root:Adding Stix-Entity {541ee782-769c-409c-8ee9-62d559d460e1} to Report {1f2cbc39-8893-4bec-9c59-b9f8fba67062}\n",
      "INFO:root:Listing Indicators with filters [{\"key\": \"indicator_pattern\", \"values\": [\"[email-addr:value = tomasso25@ambcomission.com]\"]}].\n",
      "INFO:root:Reading Report {1f2cbc39-8893-4bec-9c59-b9f8fba67062}.\n",
      "INFO:root:Adding Stix-Entity {0e5e928f-11dc-4764-999d-885d924cd5e3} to Report {1f2cbc39-8893-4bec-9c59-b9f8fba67062}\n",
      "INFO:root:Listing Indicators with filters [{\"key\": \"indicator_pattern\", \"values\": [\"[email-addr:value = kevin30@ambcomission.com]\"]}].\n",
      "INFO:root:Reading Report {1f2cbc39-8893-4bec-9c59-b9f8fba67062}.\n",
      "INFO:root:Adding Stix-Entity {be9197fa-e9de-4955-82f9-b02b59642802} to Report {1f2cbc39-8893-4bec-9c59-b9f8fba67062}\n",
      "INFO:root:Listing Indicators with filters [{\"key\": \"indicator_pattern\", \"values\": [\"[file:hashes.MD5 = 46e2957e699fae6de1a212dd98ba4e2bb969497d ]\"]}].\n",
      "INFO:root:Reading Report {1f2cbc39-8893-4bec-9c59-b9f8fba67062}.\n",
      "INFO:root:Adding Stix-Entity {7498e175-e42d-4447-8cbf-ec9f88bd8c05} to Report {1f2cbc39-8893-4bec-9c59-b9f8fba67062}\n",
      "INFO:root:Listing Indicators with filters [{\"key\": \"indicator_pattern\", \"values\": [\"[file:hashes.MD5 = c53930772beb2779d932655d6c3de5548810af3d ]\"]}].\n",
      "INFO:root:Reading Report {1f2cbc39-8893-4bec-9c59-b9f8fba67062}.\n",
      "INFO:root:Adding Stix-Entity {61f32d6a-849b-4a07-9e37-7040604bd2e6} to Report {1f2cbc39-8893-4bec-9c59-b9f8fba67062}\n",
      "INFO:root:Listing Indicators with filters [{\"key\": \"indicator_pattern\", \"values\": [\"[file:hashes.MD5 = fa695e88c87843ca0ba9fc04b176899ff90e9ac5 ]\"]}].\n",
      "INFO:root:Reading Report {1f2cbc39-8893-4bec-9c59-b9f8fba67062}.\n",
      "INFO:root:Adding Stix-Entity {a55891fb-94e6-41c5-8119-bf5fe0b162a5} to Report {1f2cbc39-8893-4bec-9c59-b9f8fba67062}\n",
      "INFO:root:Listing Indicators with filters [{\"key\": \"indicator_pattern\", \"values\": [\"[file:hashes.MD5 = 046a8adc2ef0f68107e96babc59f41b6f0a57803 ]\"]}].\n",
      "INFO:root:Reading Report {1f2cbc39-8893-4bec-9c59-b9f8fba67062}.\n",
      "INFO:root:Adding Stix-Entity {ce7502d4-b66a-43d1-ad56-9d3bfcd7417b} to Report {1f2cbc39-8893-4bec-9c59-b9f8fba67062}\n",
      "INFO:root:Listing Indicators with filters [{\"key\": \"indicator_pattern\", \"values\": [\"[ipv4-addr:value = 139.5.177.205             ]\"]}].\n",
      "INFO:root:Reading Report {1f2cbc39-8893-4bec-9c59-b9f8fba67062}.\n",
      "INFO:root:Adding Stix-Entity {fee66496-d6e8-4b61-93e7-1f813c9d3511} to Report {1f2cbc39-8893-4bec-9c59-b9f8fba67062}\n",
      "INFO:root:Listing Indicators with filters [{\"key\": \"indicator_pattern\", \"values\": [\"[ipv4-addr:value = 80.255.6.15               ]\"]}].\n"
     ]
    },
    {
     "name": "stderr",
     "output_type": "stream",
     "text": [
      "INFO:root:Reading Report {1f2cbc39-8893-4bec-9c59-b9f8fba67062}.\n",
      "INFO:root:Adding Stix-Entity {0f41c4bd-c76d-4a40-a6ca-c2a4dac4a7e5} to Report {1f2cbc39-8893-4bec-9c59-b9f8fba67062}\n",
      "INFO:root:Listing Indicators with filters [{\"key\": \"indicator_pattern\", \"values\": [\"[ipv4-addr:value = 89.34.111.107             ]\"]}].\n",
      "INFO:root:Reading Report {1f2cbc39-8893-4bec-9c59-b9f8fba67062}.\n",
      "INFO:root:Adding Stix-Entity {a9421cc2-2b10-4589-8423-528fa99a0a82} to Report {1f2cbc39-8893-4bec-9c59-b9f8fba67062}\n",
      "INFO:root:Listing Indicators with filters [{\"key\": \"indicator_pattern\", \"values\": [\"[ipv4-addr:value = 86.106.131.229           ]\"]}].\n",
      "INFO:root:Reading Report {1f2cbc39-8893-4bec-9c59-b9f8fba67062}.\n",
      "INFO:root:Adding Stix-Entity {cec22f58-99b3-461e-aed9-9cac332985b9} to Report {1f2cbc39-8893-4bec-9c59-b9f8fba67062}\n",
      "INFO:root:Listing Indicators with filters [{\"key\": \"indicator_pattern\", \"values\": [\"[ipv4-addr:value = 139.5.177.206                ]\"]}].\n",
      "INFO:root:Reading Report {1f2cbc39-8893-4bec-9c59-b9f8fba67062}.\n",
      "INFO:root:Adding Stix-Entity {8b4ee54d-3a14-4848-8c1b-a5811159e727} to Report {1f2cbc39-8893-4bec-9c59-b9f8fba67062}\n",
      "INFO:root:Listing Indicators with filters [{\"key\": \"indicator_pattern\", \"values\": [\"[ipv4-addr:value = 185.181.102.203         ]\"]}].\n",
      "INFO:root:Reading Report {1f2cbc39-8893-4bec-9c59-b9f8fba67062}.\n",
      "INFO:root:Adding Stix-Entity {03352e99-7f82-41fe-acb7-17c80a141c01} to Report {1f2cbc39-8893-4bec-9c59-b9f8fba67062}\n",
      "INFO:root:Listing Indicators with filters [{\"key\": \"indicator_pattern\", \"values\": [\"[ipv4-addr:value = 185.181.102.204           ]\"]}].\n",
      "INFO:root:Reading Report {1f2cbc39-8893-4bec-9c59-b9f8fba67062}.\n",
      "INFO:root:Adding Stix-Entity {afa996a1-7f9d-48a6-802b-af16fb849086} to Report {1f2cbc39-8893-4bec-9c59-b9f8fba67062}\n",
      "INFO:root:Listing Indicators with filters [{\"key\": \"indicator_pattern\", \"values\": [\"[ipv4-addr:value = 169.239.129.31            ]\"]}].\n",
      "INFO:root:Reading Report {1f2cbc39-8893-4bec-9c59-b9f8fba67062}.\n",
      "INFO:root:Adding Stix-Entity {ab86a582-81d3-4801-a6bf-c4e8abad0c13} to Report {1f2cbc39-8893-4bec-9c59-b9f8fba67062}\n",
      "INFO:root:Listing Indicators with filters [{\"key\": \"indicator_pattern\", \"values\": [\"[ipv4-addr:value = 213.252.247.112          ]\"]}].\n",
      "INFO:root:Reading Report {1f2cbc39-8893-4bec-9c59-b9f8fba67062}.\n",
      "INFO:root:Adding Stix-Entity {623223fb-fef1-4305-8d66-e59e6d0800e4} to Report {1f2cbc39-8893-4bec-9c59-b9f8fba67062}\n",
      "INFO:root:Listing Indicators with filters [{\"key\": \"indicator_pattern\", \"values\": [\"[ipv4-addr:value = 185.86.148.15                ]\"]}].\n",
      "INFO:root:Reading Report {1f2cbc39-8893-4bec-9c59-b9f8fba67062}.\n",
      "INFO:root:Adding Stix-Entity {3c917d43-db23-4a70-9d08-7da647b730e8} to Report {1f2cbc39-8893-4bec-9c59-b9f8fba67062}\n",
      "INFO:root:Listing Indicators with filters [{\"key\": \"indicator_pattern\", \"values\": [\"[ipv4-addr:value = 89.45.67.110                  ]\"]}].\n",
      "INFO:root:Reading Report {1f2cbc39-8893-4bec-9c59-b9f8fba67062}.\n",
      "INFO:root:Adding Stix-Entity {168a48ef-c96b-4bc1-bf02-0f139ecba1ea} to Report {1f2cbc39-8893-4bec-9c59-b9f8fba67062}\n",
      "INFO:root:Listing Indicators with filters [{\"key\": \"indicator_pattern\", \"values\": [\"[ipv4-addr:value = 185.86.150.205              ]\"]}].\n",
      "INFO:root:Reading Report {1f2cbc39-8893-4bec-9c59-b9f8fba67062}.\n",
      "INFO:root:Adding Stix-Entity {ae916479-5c89-42bf-9d5e-0068947173da} to Report {1f2cbc39-8893-4bec-9c59-b9f8fba67062}\n",
      "INFO:root:Listing Indicators with filters [{\"key\": \"indicator_pattern\", \"values\": [\"[ipv4-addr:value = 193.37.255.10              ]\"]}].\n",
      "INFO:root:Reading Report {1f2cbc39-8893-4bec-9c59-b9f8fba67062}.\n",
      "INFO:root:Adding Stix-Entity {fbc13f89-7532-4919-9f36-f19b21dd3e63} to Report {1f2cbc39-8893-4bec-9c59-b9f8fba67062}\n",
      "INFO:root:Listing Indicators with filters [{\"key\": \"indicator_pattern\", \"values\": [\"[ipv4-addr:value = 195.12.50.171              ]\"]}].\n",
      "INFO:root:Reading Report {1f2cbc39-8893-4bec-9c59-b9f8fba67062}.\n",
      "INFO:root:Adding Stix-Entity {9dc10563-aa29-427f-a886-777e49375c00} to Report {1f2cbc39-8893-4bec-9c59-b9f8fba67062}\n",
      "INFO:root:Listing Indicators with filters [{\"key\": \"indicator_pattern\", \"values\": [\"[ipv4-addr:value = 51.38.128.110              ]\"]}].\n",
      "INFO:root:Reading Report {1f2cbc39-8893-4bec-9c59-b9f8fba67062}.\n",
      "INFO:root:Adding Stix-Entity {604a4270-7f05-4acd-8c5b-7511cf7a6b72} to Report {1f2cbc39-8893-4bec-9c59-b9f8fba67062}\n",
      "INFO:root:Listing Indicators with filters [{\"key\": \"indicator_pattern\", \"values\": [\"[ipv4-addr:value = 185.144.83.124           ]\"]}].\n",
      "INFO:root:Reading Report {1f2cbc39-8893-4bec-9c59-b9f8fba67062}.\n",
      "INFO:root:Adding Stix-Entity {df573636-4587-44a9-8c64-1d3ab11944d6} to Report {1f2cbc39-8893-4bec-9c59-b9f8fba67062}\n",
      "INFO:root:Listing Indicators with filters [{\"key\": \"indicator_pattern\", \"values\": [\"[ipv4-addr:value = 185.216.35.10            ]\"]}].\n",
      "INFO:root:Reading Report {1f2cbc39-8893-4bec-9c59-b9f8fba67062}.\n",
      "INFO:root:Adding Stix-Entity {9f440d7d-dece-4fd6-9ba2-db52fa6fed8c} to Report {1f2cbc39-8893-4bec-9c59-b9f8fba67062}\n",
      "INFO:root:Listing Indicators with filters [{\"key\": \"indicator_pattern\", \"values\": [\"[ipv4-addr:value = 185.94.192.122             ]\"]}].\n",
      "INFO:root:Reading Report {1f2cbc39-8893-4bec-9c59-b9f8fba67062}.\n",
      "INFO:root:Adding Stix-Entity {7bddeb15-cc1c-4ca0-beaa-f075de472a5d} to Report {1f2cbc39-8893-4bec-9c59-b9f8fba67062}\n",
      "INFO:root:Listing Indicators with filters [{\"key\": \"indicator_pattern\", \"values\": [\"[ipv4-addr:value = 185.216.35.7             ]\"]}].\n",
      "INFO:root:Reading Report {1f2cbc39-8893-4bec-9c59-b9f8fba67062}.\n",
      "INFO:root:Adding Stix-Entity {103e2f9c-5e13-4196-9985-05c4c1dc4925} to Report {1f2cbc39-8893-4bec-9c59-b9f8fba67062}\n",
      "INFO:root:Listing Indicators with filters [{\"key\": \"indicator_pattern\", \"values\": [\"[ipv4-addr:value = 103.253.41.124             ]\"]}].\n",
      "INFO:root:Reading Report {1f2cbc39-8893-4bec-9c59-b9f8fba67062}.\n",
      "INFO:root:Adding Stix-Entity {c6ef69c7-2076-4b43-8691-4dc5d03c3697} to Report {1f2cbc39-8893-4bec-9c59-b9f8fba67062}\n",
      "INFO:root:Listing Indicators with filters [{\"key\": \"indicator_pattern\", \"values\": [\"[ipv4-addr:value = 185.189.112.195           ]\"]}].\n",
      "INFO:root:Reading Report {1f2cbc39-8893-4bec-9c59-b9f8fba67062}.\n",
      "INFO:root:Adding Stix-Entity {de39fba2-fd53-4987-bfed-1c18181a6483} to Report {1f2cbc39-8893-4bec-9c59-b9f8fba67062}\n",
      "INFO:root:Listing Indicators with filters [{\"key\": \"indicator_pattern\", \"values\": [\"[ipv4-addr:value = 185.230.124.246          ]\"]}].\n",
      "INFO:root:Reading Report {1f2cbc39-8893-4bec-9c59-b9f8fba67062}.\n",
      "INFO:root:Adding Stix-Entity {040870f4-90a2-48d5-9f97-3352f42ca1c6} to Report {1f2cbc39-8893-4bec-9c59-b9f8fba67062}\n",
      "INFO:root:Listing Indicators with filters [{\"key\": \"indicator_pattern\", \"values\": [\"[ipv4-addr:value = 87.120.254.106            ]\"]}].\n",
      "INFO:root:Reading Report {1f2cbc39-8893-4bec-9c59-b9f8fba67062}.\n",
      "INFO:root:Adding Stix-Entity {ee82dc4d-6d6e-438a-873d-6a173970c19c} to Report {1f2cbc39-8893-4bec-9c59-b9f8fba67062}\n",
      "INFO:root:Listing Indicators with filters [{\"key\": \"indicator_pattern\", \"values\": [\"[ipv4-addr:value = 77.81.98.122               ]\"]}].\n",
      "INFO:root:Reading Report {1f2cbc39-8893-4bec-9c59-b9f8fba67062}.\n",
      "INFO:root:Adding Stix-Entity {079b74e8-d6a5-40d9-bdd7-a4a7e1f903cd} to Report {1f2cbc39-8893-4bec-9c59-b9f8fba67062}\n",
      "INFO:root:Listing Indicators with filters [{\"key\": \"indicator_pattern\", \"values\": [\"[ipv4-addr:value = 89.34.111.132              ]\"]}].\n",
      "INFO:root:Reading Report {1f2cbc39-8893-4bec-9c59-b9f8fba67062}.\n",
      "INFO:root:Adding Stix-Entity {32bbf5af-8902-43cc-9c5e-8daf8b211afd} to Report {1f2cbc39-8893-4bec-9c59-b9f8fba67062}\n",
      "INFO:root:Listing Indicators with filters [{\"key\": \"indicator_pattern\", \"values\": [\"[ipv4-addr:value = 46.21.147.55               ]\"]}].\n",
      "INFO:root:Reading Report {1f2cbc39-8893-4bec-9c59-b9f8fba67062}.\n",
      "INFO:root:Adding Stix-Entity {31469232-6b70-4dd3-84ca-8242f1d136c3} to Report {1f2cbc39-8893-4bec-9c59-b9f8fba67062}\n",
      "INFO:root:Listing Indicators with filters [{\"key\": \"indicator_pattern\", \"values\": [\"[ipv4-addr:value = 103.208.86.57             ]\"]}].\n",
      "INFO:root:Reading Report {1f2cbc39-8893-4bec-9c59-b9f8fba67062}.\n",
      "INFO:root:Adding Stix-Entity {fd65cbfd-7fe8-4c55-ac2c-f31c720efca1} to Report {1f2cbc39-8893-4bec-9c59-b9f8fba67062}\n",
      "INFO:root:Listing Indicators with filters [{\"key\": \"indicator_pattern\", \"values\": [\"[ipv4-addr:value = 185.128.24.104             ]\"]}].\n"
     ]
    },
    {
     "name": "stderr",
     "output_type": "stream",
     "text": [
      "INFO:root:Reading Report {1f2cbc39-8893-4bec-9c59-b9f8fba67062}.\n",
      "INFO:root:Adding Stix-Entity {7b64c59f-6079-404c-bfc9-d918c09a3c8e} to Report {1f2cbc39-8893-4bec-9c59-b9f8fba67062}\n",
      "INFO:root:Listing Indicators with filters [{\"key\": \"indicator_pattern\", \"values\": [\"[ipv4-addr:value = 145.239.67.8               ]\"]}].\n",
      "INFO:root:Reading Report {1f2cbc39-8893-4bec-9c59-b9f8fba67062}.\n",
      "INFO:root:Adding Stix-Entity {d7b25ac8-632e-41ba-8341-186bd9270d80} to Report {1f2cbc39-8893-4bec-9c59-b9f8fba67062}\n",
      "INFO:root:Listing Indicators with filters [{\"key\": \"indicator_pattern\", \"values\": [\"[ipv4-addr:value = 185.210.219.250       ]\"]}].\n",
      "INFO:root:Reading Report {1f2cbc39-8893-4bec-9c59-b9f8fba67062}.\n",
      "INFO:root:Adding Stix-Entity {34cd16d7-2de2-46fa-8798-264ebf7197af} to Report {1f2cbc39-8893-4bec-9c59-b9f8fba67062}\n",
      "INFO:root:Listing Indicators with filters [{\"key\": \"indicator_pattern\", \"values\": [\"[ipv4-addr:value = 86.105.9.174              ]\"]}].\n",
      "INFO:root:Reading Report {1f2cbc39-8893-4bec-9c59-b9f8fba67062}.\n",
      "INFO:root:Adding Stix-Entity {1abb352a-6eb4-4af8-bae5-eca447258cee} to Report {1f2cbc39-8893-4bec-9c59-b9f8fba67062}\n",
      "INFO:root:Listing Indicators with filters [{\"key\": \"indicator_pattern\", \"values\": [\"[ipv4-addr:value = 89.34.111.107   ]\"]}].\n",
      "INFO:root:Reading Report {1f2cbc39-8893-4bec-9c59-b9f8fba67062}.\n",
      "INFO:root:Adding Stix-Entity {0698ec72-dccf-4d47-8e03-37cf7c798d2f} to Report {1f2cbc39-8893-4bec-9c59-b9f8fba67062}\n",
      "INFO:root:Listing Indicators with filters [{\"key\": \"indicator_pattern\", \"values\": [\"[domain-name:value = malaytravelgroup.com ]\"]}].\n",
      "INFO:root:Reading Report {1f2cbc39-8893-4bec-9c59-b9f8fba67062}.\n",
      "INFO:root:Adding Stix-Entity {efa1ec56-09be-42ed-8baa-6c8a7a5bd06f} to Report {1f2cbc39-8893-4bec-9c59-b9f8fba67062}\n",
      "INFO:root:Listing Indicators with filters [{\"key\": \"indicator_pattern\", \"values\": [\"[domain-name:value = worldimagebucket.com ]\"]}].\n",
      "INFO:root:Reading Report {1f2cbc39-8893-4bec-9c59-b9f8fba67062}.\n",
      "INFO:root:Adding Stix-Entity {124d1929-378a-4161-83f7-de26d2632ad1} to Report {1f2cbc39-8893-4bec-9c59-b9f8fba67062}\n",
      "INFO:root:Listing Indicators with filters [{\"key\": \"indicator_pattern\", \"values\": [\"[domain-name:value = fundseats.com ]\"]}].\n",
      "INFO:root:Reading Report {1f2cbc39-8893-4bec-9c59-b9f8fba67062}.\n",
      "INFO:root:Adding Stix-Entity {5e539fb6-3cfd-4157-a9a2-bdbff3fad9d8} to Report {1f2cbc39-8893-4bec-9c59-b9f8fba67062}\n",
      "INFO:root:Listing Indicators with filters [{\"key\": \"indicator_pattern\", \"values\": [\"[domain-name:value = globaltechengineers.org ]\"]}].\n",
      "INFO:root:Reading Report {1f2cbc39-8893-4bec-9c59-b9f8fba67062}.\n",
      "INFO:root:Adding Stix-Entity {bb4ab667-8ede-491d-ad44-d1b1599cb221} to Report {1f2cbc39-8893-4bec-9c59-b9f8fba67062}\n",
      "INFO:root:Listing Indicators with filters [{\"key\": \"indicator_pattern\", \"values\": [\"[domain-name:value = beststreammusic.com ]\"]}].\n",
      "INFO:root:Reading Report {1f2cbc39-8893-4bec-9c59-b9f8fba67062}.\n",
      "INFO:root:Adding Stix-Entity {7fc0bacc-67c0-4231-a59b-273298e1624e} to Report {1f2cbc39-8893-4bec-9c59-b9f8fba67062}\n",
      "INFO:root:Listing Indicators with filters [{\"key\": \"indicator_pattern\", \"values\": [\"[domain-name:value = thepiratecinemaclub.org ]\"]}].\n",
      "INFO:root:Reading Report {1f2cbc39-8893-4bec-9c59-b9f8fba67062}.\n",
      "INFO:root:Adding Stix-Entity {74e2f2e3-8a8a-471e-87f0-a5097f44d6f9} to Report {1f2cbc39-8893-4bec-9c59-b9f8fba67062}\n",
      "INFO:root:Listing Indicators with filters [{\"key\": \"indicator_pattern\", \"values\": [\"[domain-name:value = coindmarket.com ]\"]}].\n",
      "INFO:root:Reading Report {1f2cbc39-8893-4bec-9c59-b9f8fba67062}.\n",
      "INFO:root:Adding Stix-Entity {aed910fc-d7a7-4bee-817d-d631a3b45feb} to Report {1f2cbc39-8893-4bec-9c59-b9f8fba67062}\n",
      "INFO:root:Listing Indicators with filters [{\"key\": \"indicator_pattern\", \"values\": [\"[domain-name:value = creekcounty.net3]\"]}].\n",
      "INFO:root:Reading Report {1f2cbc39-8893-4bec-9c59-b9f8fba67062}.\n",
      "INFO:root:Adding Stix-Entity {667ab360-1fca-4c04-a6a5-df7c83e82c8e} to Report {1f2cbc39-8893-4bec-9c59-b9f8fba67062}\n",
      "INFO:root:Listing Indicators with filters [{\"key\": \"indicator_pattern\", \"values\": [\"[domain-name:value = virtsvc.com ]\"]}].\n",
      "INFO:root:Reading Report {1f2cbc39-8893-4bec-9c59-b9f8fba67062}.\n",
      "INFO:root:Adding Stix-Entity {d58821cf-995b-42f9-922b-955aeab7625d} to Report {1f2cbc39-8893-4bec-9c59-b9f8fba67062}\n",
      "INFO:root:Listing Indicators with filters [{\"key\": \"indicator_pattern\", \"values\": [\"[domain-name:value = moderntips.org ]\"]}].\n",
      "INFO:root:Reading Report {1f2cbc39-8893-4bec-9c59-b9f8fba67062}.\n",
      "INFO:root:Adding Stix-Entity {3512dfff-5548-4bc5-a34f-113bf05726c0} to Report {1f2cbc39-8893-4bec-9c59-b9f8fba67062}\n",
      "INFO:root:Listing Indicators with filters [{\"key\": \"indicator_pattern\", \"values\": [\"[domain-name:value = daysheduler.org ]\"]}].\n",
      "INFO:root:Reading Report {1f2cbc39-8893-4bec-9c59-b9f8fba67062}.\n",
      "INFO:root:Adding Stix-Entity {193c75bc-c367-4531-b8a6-92523278549b} to Report {1f2cbc39-8893-4bec-9c59-b9f8fba67062}\n",
      "INFO:root:Listing Indicators with filters [{\"key\": \"indicator_pattern\", \"values\": [\"[domain-name:value = escochart.com ]\"]}].\n",
      "INFO:root:Reading Report {1f2cbc39-8893-4bec-9c59-b9f8fba67062}.\n",
      "INFO:root:Adding Stix-Entity {327bc124-41c6-4ac3-9f32-cc101a10cfcb} to Report {1f2cbc39-8893-4bec-9c59-b9f8fba67062}\n",
      "INFO:root:Listing Indicators with filters [{\"key\": \"indicator_pattern\", \"values\": [\"[domain-name:value = loungecinemaclub.com ]\"]}].\n",
      "INFO:root:Reading Report {1f2cbc39-8893-4bec-9c59-b9f8fba67062}.\n",
      "INFO:root:Adding Stix-Entity {5afb1f5e-8541-4d37-a4d4-3e9fce6be3a0} to Report {1f2cbc39-8893-4bec-9c59-b9f8fba67062}\n",
      "INFO:root:Listing Indicators with filters [{\"key\": \"indicator_pattern\", \"values\": [\"[domain-name:value = genericnetworkaddress.com ]\"]}].\n",
      "INFO:root:Reading Report {1f2cbc39-8893-4bec-9c59-b9f8fba67062}.\n",
      "INFO:root:Adding Stix-Entity {8de68113-7529-42d7-b98c-9e87c309a71f} to Report {1f2cbc39-8893-4bec-9c59-b9f8fba67062}\n",
      "INFO:root:Listing Indicators with filters [{\"key\": \"indicator_pattern\", \"values\": [\"[domain-name:value = bulgariatripholidays.com ]\"]}].\n",
      "INFO:root:Reading Report {1f2cbc39-8893-4bec-9c59-b9f8fba67062}.\n",
      "INFO:root:Adding Stix-Entity {d035a959-8355-4826-8f20-d42f57519604} to Report {1f2cbc39-8893-4bec-9c59-b9f8fba67062}\n",
      "INFO:root:Listing Indicators with filters [{\"key\": \"indicator_pattern\", \"values\": [\"[domain-name:value = georgia-travel.org ]\"]}].\n",
      "INFO:root:Reading Report {1f2cbc39-8893-4bec-9c59-b9f8fba67062}.\n",
      "INFO:root:Adding Stix-Entity {e9b93931-73b3-420d-82bc-84fd09ac6bea} to Report {1f2cbc39-8893-4bec-9c59-b9f8fba67062}\n",
      "INFO:root:Listing Indicators with filters [{\"key\": \"indicator_pattern\", \"values\": [\"[domain-name:value = bbcweather.org ]\"]}].\n",
      "INFO:root:Reading Report {1f2cbc39-8893-4bec-9c59-b9f8fba67062}.\n",
      "INFO:root:Adding Stix-Entity {f2d9d7de-9de5-49cb-bf64-fe5710c25f55} to Report {1f2cbc39-8893-4bec-9c59-b9f8fba67062}\n",
      "INFO:root:Listing Indicators with filters [{\"key\": \"indicator_pattern\", \"values\": [\"[domain-name:value = politicweekend.com ]\"]}].\n",
      "INFO:root:Reading Report {1f2cbc39-8893-4bec-9c59-b9f8fba67062}.\n",
      "INFO:root:Adding Stix-Entity {3fc8a720-c763-40fa-8d9b-57486be33ef5} to Report {1f2cbc39-8893-4bec-9c59-b9f8fba67062}\n",
      "INFO:root:Listing Indicators with filters [{\"key\": \"indicator_pattern\", \"values\": [\"[domain-name:value = truefashionnews.com ]\"]}].\n",
      "INFO:root:Reading Report {1f2cbc39-8893-4bec-9c59-b9f8fba67062}.\n",
      "INFO:root:Adding Stix-Entity {ee8c444e-7816-4220-8b72-a95d0e66fc24} to Report {1f2cbc39-8893-4bec-9c59-b9f8fba67062}\n",
      "INFO:root:Listing Indicators with filters [{\"key\": \"indicator_pattern\", \"values\": [\"[domain-name:value = protonhardstorage.com ]\"]}].\n",
      "INFO:root:Reading Report {1f2cbc39-8893-4bec-9c59-b9f8fba67062}.\n",
      "INFO:root:Adding Stix-Entity {3ff3a753-8db7-4d74-a63c-f04a4813d608} to Report {1f2cbc39-8893-4bec-9c59-b9f8fba67062}\n",
      "INFO:root:Listing Indicators with filters [{\"key\": \"indicator_pattern\", \"values\": [\"[domain-name:value = moldtravelgroup.com ]\"]}].\n",
      "INFO:root:Reading Report {1f2cbc39-8893-4bec-9c59-b9f8fba67062}.\n",
      "INFO:root:Adding Stix-Entity {f7640f5c-8ed9-4eb0-8815-be3e2ecd78fa} to Report {1f2cbc39-8893-4bec-9c59-b9f8fba67062}\n",
      "INFO:root:Listing Indicators with filters [{\"key\": \"indicator_pattern\", \"values\": [\"[domain-name:value = iboxmit.com ]\"]}].\n",
      "INFO:root:Reading Report {1f2cbc39-8893-4bec-9c59-b9f8fba67062}.\n"
     ]
    },
    {
     "name": "stderr",
     "output_type": "stream",
     "text": [
      "INFO:root:Adding Stix-Entity {ee9a945c-cc3c-42c1-85ad-ca79dd58ba9c} to Report {1f2cbc39-8893-4bec-9c59-b9f8fba67062}\n",
      "INFO:root:Listing Indicators with filters [{\"key\": \"indicator_pattern\", \"values\": [\"[domain-name:value = brownvelocity.org ]\"]}].\n",
      "INFO:root:Reading Report {1f2cbc39-8893-4bec-9c59-b9f8fba67062}.\n",
      "INFO:root:Adding Stix-Entity {96a11998-54de-4f29-ab05-8a63fe6a69dd} to Report {1f2cbc39-8893-4bec-9c59-b9f8fba67062}\n",
      "INFO:root:Listing Indicators with filters [{\"key\": \"indicator_pattern\", \"values\": [\"[domain-name:value = pointtk.com ]\"]}].\n",
      "INFO:root:Reading Report {1f2cbc39-8893-4bec-9c59-b9f8fba67062}.\n",
      "INFO:root:Adding Stix-Entity {f6bf92c7-48a3-4c5d-877c-324abc692854} to Report {1f2cbc39-8893-4bec-9c59-b9f8fba67062}\n",
      "INFO:root:Listing Indicators with filters [{\"key\": \"indicator_pattern\", \"values\": [\"[domain-name:value = narrowpass.net ]\"]}].\n",
      "INFO:root:Reading Report {1f2cbc39-8893-4bec-9c59-b9f8fba67062}.\n",
      "INFO:root:Adding Stix-Entity {b18181b0-5791-4e4b-819c-05e994bd7d99} to Report {1f2cbc39-8893-4bec-9c59-b9f8fba67062}\n",
      "INFO:root:Listing Indicators with filters [{\"key\": \"indicator_pattern\", \"values\": [\"[domain-name:value = powernoderesources.com ]\"]}].\n",
      "INFO:root:Reading Report {1f2cbc39-8893-4bec-9c59-b9f8fba67062}.\n",
      "INFO:root:Adding Stix-Entity {a353337f-d018-4a13-b1a2-c904a9d207ea} to Report {1f2cbc39-8893-4bec-9c59-b9f8fba67062}\n",
      "INFO:root:Listing Indicators with filters [{\"key\": \"indicator_pattern\", \"values\": [\"[domain-name:value = topcinemaclub.com ]\"]}].\n",
      "INFO:root:Reading Report {1f2cbc39-8893-4bec-9c59-b9f8fba67062}.\n",
      "INFO:root:Adding Stix-Entity {ccc0e52c-2e6b-4ffd-bce4-aafe7663c44f} to Report {1f2cbc39-8893-4bec-9c59-b9f8fba67062}\n",
      "INFO:root:Listing Indicators with filters [{\"key\": \"indicator_pattern\", \"values\": [\"[domain-name:value = fundseats.com ]\"]}].\n",
      "INFO:root:Reading Report {1f2cbc39-8893-4bec-9c59-b9f8fba67062}.\n",
      "INFO:root:Listing Indicators with filters [{\"key\": \"indicator_pattern\", \"values\": [\"[file:hashes.SHA256 = d54173be095b688016528f18dc97f2d583efcf5ce562ec766afc0b294eb51ac7]\"]}].\n",
      "INFO:root:Reading Report {1f2cbc39-8893-4bec-9c59-b9f8fba67062}.\n",
      "INFO:root:Adding Stix-Entity {01c9a186-dd58-4988-8460-57da4e81bb5d} to Report {1f2cbc39-8893-4bec-9c59-b9f8fba67062}\n",
      "INFO:root:Listing Indicators with filters [{\"key\": \"indicator_pattern\", \"values\": [\"[file:hashes.SHA256 = 03ed773bde6c6a1ac3b24bde6003322df8d41d3d1c85109b8669c430b58d2f69]\"]}].\n",
      "INFO:root:Reading Report {1f2cbc39-8893-4bec-9c59-b9f8fba67062}.\n",
      "INFO:root:Adding Stix-Entity {43effaa1-5ae5-4cb4-9a3c-ea2413dcad6a} to Report {1f2cbc39-8893-4bec-9c59-b9f8fba67062}\n",
      "INFO:root:Listing Indicators with filters [{\"key\": \"indicator_pattern\", \"values\": [\"[file:hashes.SHA256 = 7f6f9645499f5840b59fb59525343045abf91bc57183aae459dca98dc8216965]\"]}].\n",
      "INFO:root:Reading Report {1f2cbc39-8893-4bec-9c59-b9f8fba67062}.\n",
      "INFO:root:Adding Stix-Entity {693e53f2-bbad-41a8-9b60-c07c12124d7b} to Report {1f2cbc39-8893-4bec-9c59-b9f8fba67062}\n",
      "INFO:root:Listing Indicators with filters [{\"key\": \"indicator_pattern\", \"values\": [\"[file:hashes.SHA256 = c8087186a215553d2f95c68c03398e17e67517553f6e9a8adc906faa51bce946]\"]}].\n",
      "INFO:root:Reading Report {1f2cbc39-8893-4bec-9c59-b9f8fba67062}.\n",
      "INFO:root:Adding Stix-Entity {e92a5f42-17d8-4130-92d5-b0841191eb9c} to Report {1f2cbc39-8893-4bec-9c59-b9f8fba67062}\n",
      "INFO:root:Listing Indicators with filters [{\"key\": \"indicator_pattern\", \"values\": [\"[file:hashes.SHA256 = 744f2a1e1a62dff2a8d5bd273304a4d21ee37a3c9b0bdcffeeca50374bd10a39]\"]}].\n",
      "INFO:root:Reading Report {1f2cbc39-8893-4bec-9c59-b9f8fba67062}.\n",
      "INFO:root:Adding Stix-Entity {dafb4daf-66f2-49d8-9cfd-eba4813398f6} to Report {1f2cbc39-8893-4bec-9c59-b9f8fba67062}\n",
      "INFO:root:Listing Indicators with filters [{\"key\": \"indicator_pattern\", \"values\": [\"[file:hashes.SHA256 = 423a0799efe41b28a8b765fa505699183c8278d5a7bf07658b3bd507bfa5346f]\"]}].\n",
      "INFO:root:Reading Report {1f2cbc39-8893-4bec-9c59-b9f8fba67062}.\n",
      "INFO:root:Adding Stix-Entity {ab253ef9-c294-40da-9402-1b8a7f0eb9c4} to Report {1f2cbc39-8893-4bec-9c59-b9f8fba67062}\n",
      "INFO:root:Listing Indicators with filters [{\"key\": \"indicator_pattern\", \"values\": [\"[file:hashes.SHA256 = 102b0158bcd5a8b64de44d9f765193dd80df1504e398ce52d37b7c8c33f2552a]\"]}].\n",
      "INFO:root:Reading Report {1f2cbc39-8893-4bec-9c59-b9f8fba67062}.\n",
      "INFO:root:Adding Stix-Entity {b7fc7415-a1bf-45bb-a763-5ae4768fc75d} to Report {1f2cbc39-8893-4bec-9c59-b9f8fba67062}\n",
      "INFO:root:Listing Indicators with filters [{\"key\": \"indicator_pattern\", \"values\": [\"[file:hashes.SHA256 = 7695f20315f84bb1d940149b17dd58383210ea3498450b45fefa22a450e7968]\"]}].\n",
      "INFO:root:Reading Report {1f2cbc39-8893-4bec-9c59-b9f8fba67062}.\n",
      "INFO:root:Adding Stix-Entity {9b662712-247c-450f-a376-b1ceb1ec41e2} to Report {1f2cbc39-8893-4bec-9c59-b9f8fba67062}\n",
      "INFO:root:Listing Indicators with filters [{\"key\": \"indicator_pattern\", \"values\": [\"[file:hashes.SHA256 = d58f2a799552aff8358e9c63a4345ea971b27edd14b8eac825db30a8321d1a7a ]\"]}].\n",
      "INFO:root:Reading Report {1f2cbc39-8893-4bec-9c59-b9f8fba67062}.\n",
      "INFO:root:Adding Stix-Entity {10523b55-264a-4f4f-a5c6-bf7ecbcd66e5} to Report {1f2cbc39-8893-4bec-9c59-b9f8fba67062}\n",
      "INFO:root:Listing Indicators with filters [{\"key\": \"indicator_pattern\", \"values\": [\"[file:hashes.SHA256 = 423a0799efe41b28a8b765fa505699183c8278d5a7bf07658b3bd507bfa5346f]\"]}].\n",
      "INFO:root:Reading Report {1f2cbc39-8893-4bec-9c59-b9f8fba67062}.\n",
      "INFO:root:Listing Indicators with filters [{\"key\": \"indicator_pattern\", \"values\": [\"[file:hashes.SHA256 = 093f2aedcf59c831cda7a92df48b146326c2c81c0a3f1d4f3bdc7c6b9a7c71e4]\"]}].\n",
      "INFO:root:Reading Report {1f2cbc39-8893-4bec-9c59-b9f8fba67062}.\n",
      "INFO:root:Adding Stix-Entity {f87e99b2-bb39-494f-909b-3f0133b1e724} to Report {1f2cbc39-8893-4bec-9c59-b9f8fba67062}\n",
      "INFO:root:Listing Indicators with filters [{\"key\": \"indicator_pattern\", \"values\": [\"[file:hashes.SHA256 = 1140c624fbfe28b9ef19fef2e9aa251adfbe8c157820d5f0356d88b4d80c2c88]\"]}].\n",
      "INFO:root:Reading Report {1f2cbc39-8893-4bec-9c59-b9f8fba67062}.\n",
      "INFO:root:Adding Stix-Entity {b28e37e7-654e-4ffd-aae5-c1fc7b6110c6} to Report {1f2cbc39-8893-4bec-9c59-b9f8fba67062}\n",
      "INFO:root:Listing Indicators with filters [{\"key\": \"indicator_pattern\", \"values\": [\"[file:hashes.SHA256 = 11cd541511cc793e7416655cda1e100d0a70fb043dfe7f6664564b91733431d0]\"]}].\n",
      "INFO:root:Reading Report {1f2cbc39-8893-4bec-9c59-b9f8fba67062}.\n",
      "INFO:root:Adding Stix-Entity {d73b7575-5b15-4d15-aa8d-61d25afeb66f} to Report {1f2cbc39-8893-4bec-9c59-b9f8fba67062}\n",
      "INFO:root:Listing Indicators with filters [{\"key\": \"indicator_pattern\", \"values\": [\"[file:hashes.SHA256 = 12e6642cf6413bdf5388bee663080fa299591b2ba023d069286f3be9647547c8]\"]}].\n",
      "INFO:root:Reading Report {1f2cbc39-8893-4bec-9c59-b9f8fba67062}.\n",
      "INFO:root:Adding Stix-Entity {5f0f09e1-45c0-44ee-8a8c-98206e3ffa7f} to Report {1f2cbc39-8893-4bec-9c59-b9f8fba67062}\n",
      "INFO:root:Listing Indicators with filters [{\"key\": \"indicator_pattern\", \"values\": [\"[file:hashes.SHA256 = 23411bb30042c9357ac4928dc6fca6955390361e660fec7ac238bbdcc8b83701]\"]}].\n",
      "INFO:root:Reading Report {1f2cbc39-8893-4bec-9c59-b9f8fba67062}.\n",
      "INFO:root:Adding Stix-Entity {d1390805-54ba-48b5-b0bd-31a40d5fa5e8} to Report {1f2cbc39-8893-4bec-9c59-b9f8fba67062}\n",
      "INFO:root:Listing Indicators with filters [{\"key\": \"indicator_pattern\", \"values\": [\"[file:hashes.SHA256 = 3ac11a74275725a22c233cd974229d2b167c336da667410f7262b4926dabd31b]\"]}].\n",
      "INFO:root:Reading Report {1f2cbc39-8893-4bec-9c59-b9f8fba67062}.\n",
      "INFO:root:Adding Stix-Entity {c14ef091-ce29-4a5e-ae6b-fa91488aa07d} to Report {1f2cbc39-8893-4bec-9c59-b9f8fba67062}\n",
      "INFO:root:Listing Indicators with filters [{\"key\": \"indicator_pattern\", \"values\": [\"[file:hashes.SHA256 = 3b87bfb837339445987cdf2e97169cb0c63072dc1d5bffa8ffb4af108a410988]\"]}].\n",
      "INFO:root:Reading Report {1f2cbc39-8893-4bec-9c59-b9f8fba67062}.\n",
      "INFO:root:Adding Stix-Entity {f60fefc3-0b8c-43a1-a839-49ac299e9a63} to Report {1f2cbc39-8893-4bec-9c59-b9f8fba67062}\n",
      "INFO:root:Listing Indicators with filters [{\"key\": \"indicator_pattern\", \"values\": [\"[file:hashes.SHA256 = 5fdc673941ceac84f8f19d550f04a5e1a82c13cbd04771016b68fbf586ff6dc3]\"]}].\n",
      "INFO:root:Reading Report {1f2cbc39-8893-4bec-9c59-b9f8fba67062}.\n",
      "INFO:root:Adding Stix-Entity {d6794fd7-a683-4328-b97a-7d5a2979ad71} to Report {1f2cbc39-8893-4bec-9c59-b9f8fba67062}\n"
     ]
    },
    {
     "name": "stderr",
     "output_type": "stream",
     "text": [
      "INFO:root:Listing Indicators with filters [{\"key\": \"indicator_pattern\", \"values\": [\"[file:hashes.SHA256 = 8c47961181d9929333628af20bdd750021e925f40065374e6b876e3b8afbba57]\"]}].\n",
      "INFO:root:Reading Report {1f2cbc39-8893-4bec-9c59-b9f8fba67062}.\n",
      "INFO:root:Adding Stix-Entity {d2a135dc-423c-4950-9cb6-76702e9643d4} to Report {1f2cbc39-8893-4bec-9c59-b9f8fba67062}\n",
      "INFO:root:Listing Indicators with filters [{\"key\": \"indicator_pattern\", \"values\": [\"[file:hashes.SHA256 = a5742651c3dab8d6ed6f49c2f9fb3ee3bea5cd01c3ec8e73ff0a6f400e32faeb]\"]}].\n",
      "INFO:root:Reading Report {1f2cbc39-8893-4bec-9c59-b9f8fba67062}.\n",
      "INFO:root:Adding Stix-Entity {73db1ae5-8dcd-41fd-8eab-14c21c2c7744} to Report {1f2cbc39-8893-4bec-9c59-b9f8fba67062}\n",
      "INFO:root:Listing Indicators with filters [{\"key\": \"indicator_pattern\", \"values\": [\"[file:hashes.SHA256 = c3b2c7bbd2aa1e3100b9382ed78dfa0041af764e0e02013acdf282410b302ead]\"]}].\n",
      "INFO:root:Reading Report {1f2cbc39-8893-4bec-9c59-b9f8fba67062}.\n",
      "INFO:root:Adding Stix-Entity {f169290a-7cab-4192-845c-4eae91127112} to Report {1f2cbc39-8893-4bec-9c59-b9f8fba67062}\n",
      "INFO:root:Listing Indicators with filters [{\"key\": \"indicator_pattern\", \"values\": [\"[file:hashes.SHA256 = ef027405492bc0719437eb58c3d2774cc87845f30c40040bbebbcc09a4e3dd18]\"]}].\n",
      "INFO:root:Reading Report {1f2cbc39-8893-4bec-9c59-b9f8fba67062}.\n",
      "INFO:root:Adding Stix-Entity {0d314eef-2be6-4ee3-8413-de4dd1684824} to Report {1f2cbc39-8893-4bec-9c59-b9f8fba67062}\n",
      "INFO:root:Listing Indicators with filters [{\"key\": \"indicator_pattern\", \"values\": [\"[file:hashes.MD5 = 272f0fde35dbdfccbca1e33373b3570d ]\"]}].\n",
      "INFO:root:Reading Report {1f2cbc39-8893-4bec-9c59-b9f8fba67062}.\n",
      "INFO:root:Adding Stix-Entity {a8135dcf-8130-46f6-b8a3-b1a809a64027} to Report {1f2cbc39-8893-4bec-9c59-b9f8fba67062}\n",
      "INFO:root:Listing Indicators with filters [{\"key\": \"indicator_pattern\", \"values\": [\"[file:hashes.MD5 = 8b92fe86c5b7a9e34f433a6fbac8bc3a ]\"]}].\n",
      "INFO:root:Reading Report {1f2cbc39-8893-4bec-9c59-b9f8fba67062}.\n",
      "INFO:root:Adding Stix-Entity {76a55bb1-f9a6-4c7a-bbfa-684dde4922d7} to Report {1f2cbc39-8893-4bec-9c59-b9f8fba67062}\n",
      "INFO:root:Listing Indicators with filters [{\"key\": \"indicator_pattern\", \"values\": [\"[file:hashes.MD5 = 9eebfebe3987fec3c395594dc57a0c4c ]\"]}].\n",
      "INFO:root:Reading Report {1f2cbc39-8893-4bec-9c59-b9f8fba67062}.\n",
      "INFO:root:Adding Stix-Entity {4471ac59-5cca-498d-9492-c8267b7ffb44} to Report {1f2cbc39-8893-4bec-9c59-b9f8fba67062}\n",
      "INFO:root:Listing Indicators with filters [{\"key\": \"indicator_pattern\", \"values\": [\"[file:hashes.MD5 = da2a657dc69d7320f2ffc87013f257ad ]\"]}].\n",
      "INFO:root:Reading Report {1f2cbc39-8893-4bec-9c59-b9f8fba67062}.\n",
      "INFO:root:Adding Stix-Entity {49566e8a-f980-445d-86be-45ec6fa87252} to Report {1f2cbc39-8893-4bec-9c59-b9f8fba67062}\n",
      "INFO:root:Listing Indicators with filters [{\"key\": \"indicator_pattern\", \"values\": [\"[file:hashes.MD5 = 1259c4fe5efd9bf07fc4c78466f2dd09]\"]}].\n",
      "INFO:root:Reading Report {1f2cbc39-8893-4bec-9c59-b9f8fba67062}.\n",
      "INFO:root:Adding Stix-Entity {e1d415bc-1a6e-42aa-91fa-b7aaa13ae18d} to Report {1f2cbc39-8893-4bec-9c59-b9f8fba67062}\n",
      "INFO:root:Listing Indicators with filters [{\"key\": \"indicator_pattern\", \"values\": [\"[file:hashes.MD5 = 3b0ecd011500f61237c205834db0e13a ]\"]}].\n",
      "INFO:root:Reading Report {1f2cbc39-8893-4bec-9c59-b9f8fba67062}.\n",
      "INFO:root:Adding Stix-Entity {59c31fc5-1c9f-4481-a41c-8e2c76bdaa41} to Report {1f2cbc39-8893-4bec-9c59-b9f8fba67062}\n",
      "INFO:root:Listing Indicators with filters [{\"key\": \"indicator_pattern\", \"values\": [\"[file:hashes.MD5 = 5882fda97fdf78b47081cc4105d44f7c]\"]}].\n",
      "INFO:root:Reading Report {1f2cbc39-8893-4bec-9c59-b9f8fba67062}.\n",
      "INFO:root:Adding Stix-Entity {6229ba01-17af-4fb2-a71d-4d2ec1b57f70} to Report {1f2cbc39-8893-4bec-9c59-b9f8fba67062}\n",
      "INFO:root:Listing Indicators with filters [{\"key\": \"indicator_pattern\", \"values\": [\"[file:hashes.MD5 = 791428601ad12b9230b9ace4f2138713 ]\"]}].\n",
      "INFO:root:Reading Report {1f2cbc39-8893-4bec-9c59-b9f8fba67062}.\n",
      "INFO:root:Adding Stix-Entity {d8bd9d99-dab0-4943-8677-0b622e68ebad} to Report {1f2cbc39-8893-4bec-9c59-b9f8fba67062}\n",
      "INFO:root:Listing Indicators with filters [{\"key\": \"indicator_pattern\", \"values\": [\"[file:hashes.MD5 = ead4ec18ebce6890d20757bb9f5285b1 ]\"]}].\n",
      "INFO:root:Reading Report {1f2cbc39-8893-4bec-9c59-b9f8fba67062}.\n",
      "INFO:root:Adding Stix-Entity {71600162-e1bd-4793-a4db-76bb47261068} to Report {1f2cbc39-8893-4bec-9c59-b9f8fba67062}\n",
      "INFO:root:Listing Indicators with filters [{\"key\": \"indicator_pattern\", \"values\": [\"[file:hashes.MD5 = 48656a93f9ba39410763a2196aabc67f ]\"]}].\n",
      "INFO:root:Reading Report {1f2cbc39-8893-4bec-9c59-b9f8fba67062}.\n",
      "INFO:root:Adding Stix-Entity {79225a8f-521a-44a3-ace0-666ebcf0db0e} to Report {1f2cbc39-8893-4bec-9c59-b9f8fba67062}\n",
      "INFO:root:Listing Indicators with filters [{\"key\": \"indicator_pattern\", \"values\": [\"[file:hashes.MD5 = 8c4fa713c5e2b009114adda758adc445]\"]}].\n",
      "INFO:root:Reading Report {1f2cbc39-8893-4bec-9c59-b9f8fba67062}.\n",
      "INFO:root:Adding Stix-Entity {47325261-b809-4f28-8842-d5529d561fe6} to Report {1f2cbc39-8893-4bec-9c59-b9f8fba67062}\n",
      "INFO:root:Listing Indicators with filters [{\"key\": \"indicator_pattern\", \"values\": [\"[file:hashes.MD5 = 3b0ecd011500f61237c205834db0e13a                 ]\"]}].\n",
      "INFO:root:Reading Report {1f2cbc39-8893-4bec-9c59-b9f8fba67062}.\n",
      "INFO:root:Adding Stix-Entity {96ccfac8-f440-402e-b1e4-8ffe69b1b706} to Report {1f2cbc39-8893-4bec-9c59-b9f8fba67062}\n",
      "INFO:root:Listing Indicators with filters [{\"key\": \"indicator_pattern\", \"values\": [\"[file:hashes.MD5 = 8b92fe86c5b7a9e34f433a6fbac8bc3a                  ]\"]}].\n",
      "INFO:root:Reading Report {1f2cbc39-8893-4bec-9c59-b9f8fba67062}.\n",
      "INFO:root:Adding Stix-Entity {b53741e4-3cc7-400c-bf9b-197e9c677395} to Report {1f2cbc39-8893-4bec-9c59-b9f8fba67062}\n",
      "INFO:root:Listing Indicators with filters [{\"key\": \"indicator_pattern\", \"values\": [\"[file:hashes.MD5 = 48656a93f9ba39410763a2196aabc67f                   ]\"]}].\n",
      "INFO:root:Reading Report {1f2cbc39-8893-4bec-9c59-b9f8fba67062}.\n",
      "INFO:root:Adding Stix-Entity {44c890ce-a3df-47fc-a5b5-bb8d45c8aad0} to Report {1f2cbc39-8893-4bec-9c59-b9f8fba67062}\n",
      "INFO:root:Listing Indicators with filters [{\"key\": \"indicator_pattern\", \"values\": [\"[file:hashes.MD5 = 5882fda97fdf78b47081cc4105d44f7c                   ]\"]}].\n",
      "INFO:root:Reading Report {1f2cbc39-8893-4bec-9c59-b9f8fba67062}.\n",
      "INFO:root:Adding Stix-Entity {9e0ac305-19c5-4cd8-a1df-4cbad45060fb} to Report {1f2cbc39-8893-4bec-9c59-b9f8fba67062}\n",
      "INFO:root:Listing Indicators with filters [{\"key\": \"indicator_pattern\", \"values\": [\"[file:hashes.MD5 = 272f0fde35dbdfccbca1e33373b3570d          ]\"]}].\n",
      "INFO:root:Reading Report {1f2cbc39-8893-4bec-9c59-b9f8fba67062}.\n",
      "INFO:root:Adding Stix-Entity {e5977e21-8985-4e96-bee1-b452a2bdcc69} to Report {1f2cbc39-8893-4bec-9c59-b9f8fba67062}\n",
      "INFO:root:Listing Indicators with filters [{\"key\": \"indicator_pattern\", \"values\": [\"[file:hashes.MD5 = 1259c4fe5efd9bf07fc4c78466f2dd09         ]\"]}].\n",
      "INFO:root:Reading Report {1f2cbc39-8893-4bec-9c59-b9f8fba67062}.\n",
      "INFO:root:Adding Stix-Entity {b4a5d279-b01e-4bcf-93b0-9c4213dcd4fb} to Report {1f2cbc39-8893-4bec-9c59-b9f8fba67062}\n",
      "INFO:root:Listing Indicators with filters [{\"key\": \"indicator_pattern\", \"values\": [\"[file:hashes.MD5 = 9eebfebe3987fec3c395594dc57a0c4c          ]\"]}].\n",
      "INFO:root:Reading Report {1f2cbc39-8893-4bec-9c59-b9f8fba67062}.\n",
      "INFO:root:Adding Stix-Entity {64b46452-7834-4331-a3e3-dd7199d8b72d} to Report {1f2cbc39-8893-4bec-9c59-b9f8fba67062}\n",
      "INFO:root:Listing Indicators with filters [{\"key\": \"indicator_pattern\", \"values\": [\"[file:hashes.MD5 = ead4ec18ebce6890d20757bb9f5285b1       ]\"]}].\n",
      "INFO:root:Reading Report {1f2cbc39-8893-4bec-9c59-b9f8fba67062}.\n",
      "INFO:root:Adding Stix-Entity {e8218d05-da73-4021-906a-472ea83ae350} to Report {1f2cbc39-8893-4bec-9c59-b9f8fba67062}\n",
      "INFO:root:Listing Indicators with filters [{\"key\": \"indicator_pattern\", \"values\": [\"[file:hashes.MD5 = 8c4fa713c5e2b009114adda758adc445       ]\"]}].\n",
      "INFO:root:Reading Report {1f2cbc39-8893-4bec-9c59-b9f8fba67062}.\n",
      "INFO:root:Adding Stix-Entity {b8a99bc7-7620-4ffc-baf2-41b83a7a7fe8} to Report {1f2cbc39-8893-4bec-9c59-b9f8fba67062}\n",
      "INFO:root:Listing Indicators with filters [{\"key\": \"indicator_pattern\", \"values\": [\"[file:hashes.MD5 = 272f0fde35dbdfccbca1e33373b3570d       ]\"]}].\n",
      "INFO:root:Reading Report {1f2cbc39-8893-4bec-9c59-b9f8fba67062}.\n"
     ]
    },
    {
     "name": "stderr",
     "output_type": "stream",
     "text": [
      "INFO:root:Adding Stix-Entity {a4f0c76f-0ad9-43d1-a1d6-80372f638d63} to Report {1f2cbc39-8893-4bec-9c59-b9f8fba67062}\n",
      "INFO:root:Listing Indicators with filters [{\"key\": \"indicator_pattern\", \"values\": [\"[file:hashes.MD5 = da2a657dc69d7320f2ffc87013f257ad                ]\"]}].\n",
      "INFO:root:Reading Report {1f2cbc39-8893-4bec-9c59-b9f8fba67062}.\n",
      "INFO:root:Adding Stix-Entity {cbbcad38-66e3-4883-82d6-d8f9a4e199f9} to Report {1f2cbc39-8893-4bec-9c59-b9f8fba67062}\n",
      "INFO:root:Listing Indicators with filters [{\"key\": \"indicator_pattern\", \"values\": [\"[file:hashes.SHA1 = 1cc2b6b208b7687763659aeb5dcb76c5c2fbbf26]\"]}].\n",
      "INFO:root:Reading Report {1f2cbc39-8893-4bec-9c59-b9f8fba67062}.\n",
      "INFO:root:Adding Stix-Entity {b21b38eb-f60c-4d2b-8deb-6829143aeff5} to Report {1f2cbc39-8893-4bec-9c59-b9f8fba67062}\n",
      "INFO:root:Listing Indicators with filters [{\"key\": \"indicator_pattern\", \"values\": [\"[file:hashes.SHA1 = 49acba812894444c634b034962d46f986e0257cf]\"]}].\n",
      "INFO:root:Reading Report {1f2cbc39-8893-4bec-9c59-b9f8fba67062}.\n",
      "INFO:root:Adding Stix-Entity {e125ef7f-93e4-4de1-8132-6dc66b82ec70} to Report {1f2cbc39-8893-4bec-9c59-b9f8fba67062}\n",
      "INFO:root:Listing Indicators with filters [{\"key\": \"indicator_pattern\", \"values\": [\"[file:hashes.SHA1 = 4c9c7c4fd83edaf7ec80687a7a957826de038dd7]\"]}].\n",
      "INFO:root:Reading Report {1f2cbc39-8893-4bec-9c59-b9f8fba67062}.\n",
      "INFO:root:Adding Stix-Entity {c19b4c16-e9dd-4832-bc18-93aea4d49aa7} to Report {1f2cbc39-8893-4bec-9c59-b9f8fba67062}\n",
      "INFO:root:Listing Indicators with filters [{\"key\": \"indicator_pattern\", \"values\": [\"[file:hashes.SHA1 = 4f92d364ce871c1aebbf3c5d2445c296ef535632]\"]}].\n",
      "INFO:root:Reading Report {1f2cbc39-8893-4bec-9c59-b9f8fba67062}.\n",
      "INFO:root:Adding Stix-Entity {f7037649-8909-4abc-b803-a25e68f6c564} to Report {1f2cbc39-8893-4bec-9c59-b9f8fba67062}\n",
      "INFO:root:Listing Indicators with filters [{\"key\": \"indicator_pattern\", \"values\": [\"[file:hashes.SHA1 = 516ec3584073a1c05c0d909b8b6c15ecb10933f1]\"]}].\n",
      "INFO:root:Reading Report {1f2cbc39-8893-4bec-9c59-b9f8fba67062}.\n",
      "INFO:root:Adding Stix-Entity {9fbfc386-a703-4592-beda-75c0d656f828} to Report {1f2cbc39-8893-4bec-9c59-b9f8fba67062}\n",
      "INFO:root:Listing Indicators with filters [{\"key\": \"indicator_pattern\", \"values\": [\"[file:hashes.SHA1 = 593d0eb95227e41d299659842395e76b55aa048d]\"]}].\n",
      "INFO:root:Reading Report {1f2cbc39-8893-4bec-9c59-b9f8fba67062}.\n",
      "INFO:root:Adding Stix-Entity {e75c4d44-8d8e-4b1c-94ba-d35a361171d9} to Report {1f2cbc39-8893-4bec-9c59-b9f8fba67062}\n",
      "INFO:root:Listing Indicators with filters [{\"key\": \"indicator_pattern\", \"values\": [\"[file:hashes.SHA1 = 5c132ae63e3b41f7b2385740b9109b473856a6a5]\"]}].\n",
      "INFO:root:Reading Report {1f2cbc39-8893-4bec-9c59-b9f8fba67062}.\n",
      "INFO:root:Adding Stix-Entity {ab686a82-7b73-4adc-9525-d6cd5808b393} to Report {1f2cbc39-8893-4bec-9c59-b9f8fba67062}\n",
      "INFO:root:Listing Indicators with filters [{\"key\": \"indicator_pattern\", \"values\": [\"[file:hashes.SHA1 = 5fc4d555ca7e0536d18043977602d421a6fd65f9]\"]}].\n",
      "INFO:root:Reading Report {1f2cbc39-8893-4bec-9c59-b9f8fba67062}.\n",
      "INFO:root:Adding Stix-Entity {e97e18c0-1290-4da5-891c-d9ab129ede39} to Report {1f2cbc39-8893-4bec-9c59-b9f8fba67062}\n",
      "INFO:root:Listing Indicators with filters [{\"key\": \"indicator_pattern\", \"values\": [\"[file:hashes.SHA1 = 669a02e330f5afc55a3775c4c6959b3f9e9965cf]\"]}].\n",
      "INFO:root:Reading Report {1f2cbc39-8893-4bec-9c59-b9f8fba67062}.\n",
      "INFO:root:Adding Stix-Entity {ee63a31c-cfcd-4415-9165-619841035e92} to Report {1f2cbc39-8893-4bec-9c59-b9f8fba67062}\n",
      "INFO:root:Listing Indicators with filters [{\"key\": \"indicator_pattern\", \"values\": [\"[file:hashes.SHA1 = 6caa48cd9532da4cabd6994f62b8211ab9672d9e]\"]}].\n",
      "INFO:root:Reading Report {1f2cbc39-8893-4bec-9c59-b9f8fba67062}.\n",
      "INFO:root:Adding Stix-Entity {feb240d1-3915-4933-8455-d0261a8f8cdd} to Report {1f2cbc39-8893-4bec-9c59-b9f8fba67062}\n",
      "INFO:root:Listing Indicators with filters [{\"key\": \"indicator_pattern\", \"values\": [\"[file:hashes.SHA1 = 7394ea20c3d510c938ef83a2d0195b767cd99ed7]\"]}].\n",
      "INFO:root:Reading Report {1f2cbc39-8893-4bec-9c59-b9f8fba67062}.\n",
      "INFO:root:Adding Stix-Entity {0ee26bba-0a8e-4a42-ab37-00289cae0607} to Report {1f2cbc39-8893-4bec-9c59-b9f8fba67062}\n",
      "INFO:root:Listing Indicators with filters [{\"key\": \"indicator_pattern\", \"values\": [\"[file:hashes.SHA1 = 9f3ab8779f2b81cae83f62245afb124266765939]\"]}].\n",
      "INFO:root:Reading Report {1f2cbc39-8893-4bec-9c59-b9f8fba67062}.\n",
      "INFO:root:Adding Stix-Entity {c439cea6-2038-4961-ba4c-788857dcb352} to Report {1f2cbc39-8893-4bec-9c59-b9f8fba67062}\n",
      "INFO:root:Listing Indicators with filters [{\"key\": \"indicator_pattern\", \"values\": [\"[file:hashes.SHA1 = e8aca4b0cfe509783a34ff908287f98cab968d9e]\"]}].\n",
      "INFO:root:Reading Report {1f2cbc39-8893-4bec-9c59-b9f8fba67062}.\n",
      "INFO:root:Adding Stix-Entity {0ddad760-fd03-4b50-b20d-fbf6c57bdb2c} to Report {1f2cbc39-8893-4bec-9c59-b9f8fba67062}\n",
      "INFO:root:Listing Indicators with filters [{\"key\": \"indicator_pattern\", \"values\": [\"[file:hashes.SHA1 = ee788901cd804965f1cd00a0afc713c8623430c4]\"]}].\n",
      "INFO:root:Reading Report {1f2cbc39-8893-4bec-9c59-b9f8fba67062}.\n",
      "INFO:root:Adding Stix-Entity {5ea14422-c3b4-40c6-959c-52498573c8d8} to Report {1f2cbc39-8893-4bec-9c59-b9f8fba67062}\n",
      "INFO:root:Listing Indicators with filters [{\"key\": \"indicator_pattern\", \"values\": [\"[ipv4-addr:value = 104.171.117.216]\"]}].\n",
      "INFO:root:Reading Report {1f2cbc39-8893-4bec-9c59-b9f8fba67062}.\n",
      "INFO:root:Adding Stix-Entity {eb06b5a9-ead0-4f6a-93e1-74cf6a8a2921} to Report {1f2cbc39-8893-4bec-9c59-b9f8fba67062}\n",
      "INFO:root:Listing Indicators with filters [{\"key\": \"indicator_pattern\", \"values\": [\"[ipv4-addr:value = 141.255.160.52]\"]}].\n",
      "INFO:root:Reading Report {1f2cbc39-8893-4bec-9c59-b9f8fba67062}.\n",
      "INFO:root:Adding Stix-Entity {426f632c-899e-4cc2-b6cb-9d368e7f7920} to Report {1f2cbc39-8893-4bec-9c59-b9f8fba67062}\n",
      "INFO:root:Listing Indicators with filters [{\"key\": \"indicator_pattern\", \"values\": [\"[domain-name:value = intelmeserver.com]\"]}].\n",
      "INFO:root:Reading Report {1f2cbc39-8893-4bec-9c59-b9f8fba67062}.\n",
      "INFO:root:Adding Stix-Entity {4e8df8d4-569d-4dc2-9bde-4358c5cd20fe} to Report {1f2cbc39-8893-4bec-9c59-b9f8fba67062}\n",
      "INFO:root:Listing Indicators with filters [{\"key\": \"indicator_pattern\", \"values\": [\"[file:hashes.SHA256 = 8bca0031f3b691421cb15f9c6e71ce193355d2d8cf2b190438b6962761d0c6bb]\"]}].\n",
      "INFO:root:Reading Report {1f2cbc39-8893-4bec-9c59-b9f8fba67062}.\n",
      "INFO:root:Adding Stix-Entity {8837f219-8346-4475-8dad-d7dbd65fa693} to Report {1f2cbc39-8893-4bec-9c59-b9f8fba67062}\n",
      "INFO:root:Listing Indicators with filters [{\"key\": \"indicator_pattern\", \"values\": [\"[file:hashes.SHA256 = 02c7cf55fd5c5809ce2dce56085ba43795f2480423a4256537bfdfda0df85592]\"]}].\n",
      "INFO:root:Reading Report {1f2cbc39-8893-4bec-9c59-b9f8fba67062}.\n",
      "INFO:root:Adding Stix-Entity {0db02c4d-fd35-4efa-bc7a-a3f3fdf9f01f} to Report {1f2cbc39-8893-4bec-9c59-b9f8fba67062}\n",
      "INFO:root:Listing Indicators with filters [{\"key\": \"indicator_pattern\", \"values\": [\"[file:hashes.SHA256 = fd8b2ea9a2e8a67e4cb3904b49c789d57ed9b1ce5bebfe54fe3d98214d6a0f61]\"]}].\n",
      "INFO:root:Reading Report {1f2cbc39-8893-4bec-9c59-b9f8fba67062}.\n",
      "INFO:root:Adding Stix-Entity {ed4507bb-1469-41a2-90bc-a8a71e1cef6f} to Report {1f2cbc39-8893-4bec-9c59-b9f8fba67062}\n",
      "INFO:root:Listing Indicators with filters [{\"key\": \"indicator_pattern\", \"values\": [\"[file:hashes.SHA256 = 8bca0031f3b691421cb15f9c6e71ce193355d2d8cf2b190438b6962761d0c6bb]\"]}].\n",
      "INFO:root:Reading Report {1f2cbc39-8893-4bec-9c59-b9f8fba67062}.\n",
      "INFO:root:Adding Stix-Entity {8837f219-8346-4475-8dad-d7dbd65fa693} to Report {1f2cbc39-8893-4bec-9c59-b9f8fba67062}\n",
      "ERROR:root:A database error has occured!\n",
      "INFO:root:Listing Indicators with filters [{\"key\": \"indicator_pattern\", \"values\": [\"[file:hashes.SHA1 = 9444d2b29c6401bc7c2d14f071b11ec9014ae040]\"]}].\n",
      "INFO:root:Reading Report {1f2cbc39-8893-4bec-9c59-b9f8fba67062}.\n",
      "INFO:root:Adding Stix-Entity {7c52a80f-7ab3-4a4f-b2aa-278471c95565} to Report {1f2cbc39-8893-4bec-9c59-b9f8fba67062}\n",
      "INFO:root:Listing Indicators with filters [{\"key\": \"indicator_pattern\", \"values\": [\"[file:hashes.MD5 = 364ff454dcf00420cff13a57bcb78467]\"]}].\n",
      "INFO:root:Reading Report {1f2cbc39-8893-4bec-9c59-b9f8fba67062}.\n",
      "INFO:root:Adding Stix-Entity {ad1b5d92-8cfb-4dfe-95bf-746cde9036f4} to Report {1f2cbc39-8893-4bec-9c59-b9f8fba67062}\n",
      "INFO:root:Listing Indicators with filters [{\"key\": \"indicator_pattern\", \"values\": [\"[file:hashes.MD5 = 364ff454dcf00420cff13a57bcb78467]\"]}].\n"
     ]
    },
    {
     "name": "stderr",
     "output_type": "stream",
     "text": [
      "INFO:root:Reading Report {1f2cbc39-8893-4bec-9c59-b9f8fba67062}.\n",
      "INFO:root:Adding Stix-Entity {ad1b5d92-8cfb-4dfe-95bf-746cde9036f4} to Report {1f2cbc39-8893-4bec-9c59-b9f8fba67062}\n",
      "ERROR:root:A database error has occured!\n",
      "INFO:root:Listing Indicators with filters [{\"key\": \"indicator_pattern\", \"values\": [\"[file:hashes.MD5 = e107c5c84ded6cd9391aede7f04d64c8]\"]}].\n",
      "INFO:root:Reading Report {1f2cbc39-8893-4bec-9c59-b9f8fba67062}.\n",
      "INFO:root:Adding Stix-Entity {adf56d7d-98be-45bd-8c46-9d879e5d5aae} to Report {1f2cbc39-8893-4bec-9c59-b9f8fba67062}\n",
      "INFO:root:Listing Indicators with filters [{\"key\": \"indicator_pattern\", \"values\": [\"[file:hashes.MD5 = 075b6695ab63f36af65f7ffd45cccd39]\"]}].\n",
      "INFO:root:Reading Report {1f2cbc39-8893-4bec-9c59-b9f8fba67062}.\n",
      "INFO:root:Adding Stix-Entity {b68c14a7-1ab1-4c47-9c47-086886522f2e} to Report {1f2cbc39-8893-4bec-9c59-b9f8fba67062}\n",
      "INFO:root:Listing Indicators with filters [{\"key\": \"indicator_pattern\", \"values\": [\"[ipv4-addr:value = 198.105.125.74 ]\"]}].\n",
      "INFO:root:Reading Report {1f2cbc39-8893-4bec-9c59-b9f8fba67062}.\n",
      "INFO:root:Adding Stix-Entity {e2143866-c48f-44c5-b668-a638248f8a1c} to Report {1f2cbc39-8893-4bec-9c59-b9f8fba67062}\n",
      "INFO:root:Listing Indicators with filters [{\"key\": \"indicator_pattern\", \"values\": [\"[domain-name:value = azureon-line.com]\"]}].\n",
      "INFO:root:Reading Report {1f2cbc39-8893-4bec-9c59-b9f8fba67062}.\n",
      "INFO:root:Adding Stix-Entity {4b5d8be0-5a7e-44a7-a011-abde3eee3b52} to Report {1f2cbc39-8893-4bec-9c59-b9f8fba67062}\n",
      "INFO:root:Listing Indicators with filters [{\"key\": \"indicator_pattern\", \"values\": [\"[domain-name:value = mozilla-plugins.com]\"]}].\n",
      "INFO:root:Reading Report {1f2cbc39-8893-4bec-9c59-b9f8fba67062}.\n",
      "INFO:root:Adding Stix-Entity {aee87195-ccd7-4e4e-8efa-c42f94d1791b} to Report {1f2cbc39-8893-4bec-9c59-b9f8fba67062}\n",
      "INFO:root:Listing Indicators with filters [{\"key\": \"indicator_pattern\", \"values\": [\"[domain-name:value = Mozillaplagins.com ]\"]}].\n",
      "INFO:root:Reading Report {1f2cbc39-8893-4bec-9c59-b9f8fba67062}.\n",
      "INFO:root:Adding Stix-Entity {999cde0a-ebe4-44ef-a91e-95f3606e5b08} to Report {1f2cbc39-8893-4bec-9c59-b9f8fba67062}\n",
      "INFO:root:Listing Indicators with filters [{\"key\": \"indicator_pattern\", \"values\": [\"[file:hashes.SHA256 = 093f2aedcf59c831cda7a92df48b146326c2c81c0a3f1d4f3bdc7c6b9a7c71e4]\"]}].\n",
      "INFO:root:Reading Report {1f2cbc39-8893-4bec-9c59-b9f8fba67062}.\n",
      "INFO:root:Listing Indicators with filters [{\"key\": \"indicator_pattern\", \"values\": [\"[file:hashes.SHA256 = 1140c624fbfe28b9ef19fef2e9aa251adfbe8c157820d5f0356d88b4d80c2c88]\"]}].\n",
      "INFO:root:Reading Report {1f2cbc39-8893-4bec-9c59-b9f8fba67062}.\n",
      "INFO:root:Listing Indicators with filters [{\"key\": \"indicator_pattern\", \"values\": [\"[file:hashes.SHA256 = 11cd541511cc793e7416655cda1e100d0a70fb043dfe7f6664564b91733431d0]\"]}].\n",
      "INFO:root:Reading Report {1f2cbc39-8893-4bec-9c59-b9f8fba67062}.\n",
      "INFO:root:Listing Indicators with filters [{\"key\": \"indicator_pattern\", \"values\": [\"[file:hashes.SHA256 = 12e6642cf6413bdf5388bee663080fa299591b2ba023d069286f3be9647547c8]\"]}].\n",
      "INFO:root:Reading Report {1f2cbc39-8893-4bec-9c59-b9f8fba67062}.\n",
      "INFO:root:Listing Indicators with filters [{\"key\": \"indicator_pattern\", \"values\": [\"[file:hashes.SHA256 = 23411bb30042c9357ac4928dc6fca6955390361e660fec7ac238bbdcc8b83701]\"]}].\n",
      "INFO:root:Reading Report {1f2cbc39-8893-4bec-9c59-b9f8fba67062}.\n",
      "INFO:root:Listing Indicators with filters [{\"key\": \"indicator_pattern\", \"values\": [\"[file:hashes.SHA256 = 3ac11a74275725a22c233cd974229d2b167c336da667410f7262b4926dabd31b]\"]}].\n",
      "INFO:root:Reading Report {1f2cbc39-8893-4bec-9c59-b9f8fba67062}.\n",
      "INFO:root:Listing Indicators with filters [{\"key\": \"indicator_pattern\", \"values\": [\"[file:hashes.SHA256 = 3b87bfb837339445987cdf2e97169cb0c63072dc1d5bffa8ffb4af108a410988]\"]}].\n",
      "INFO:root:Reading Report {1f2cbc39-8893-4bec-9c59-b9f8fba67062}.\n",
      "INFO:root:Listing Indicators with filters [{\"key\": \"indicator_pattern\", \"values\": [\"[file:hashes.SHA256 = 5fdc673941ceac84f8f19d550f04a5e1a82c13cbd04771016b68fbf586ff6dc3]\"]}].\n",
      "INFO:root:Reading Report {1f2cbc39-8893-4bec-9c59-b9f8fba67062}.\n",
      "INFO:root:Listing Indicators with filters [{\"key\": \"indicator_pattern\", \"values\": [\"[file:hashes.SHA256 = 8c47961181d9929333628af20bdd750021e925f40065374e6b876e3b8afbba57]\"]}].\n",
      "INFO:root:Reading Report {1f2cbc39-8893-4bec-9c59-b9f8fba67062}.\n",
      "INFO:root:Listing Indicators with filters [{\"key\": \"indicator_pattern\", \"values\": [\"[file:hashes.SHA256 = a5742651c3dab8d6ed6f49c2f9fb3ee3bea5cd01c3ec8e73ff0a6f400e32faeb]\"]}].\n",
      "INFO:root:Reading Report {1f2cbc39-8893-4bec-9c59-b9f8fba67062}.\n",
      "INFO:root:Listing Indicators with filters [{\"key\": \"indicator_pattern\", \"values\": [\"[file:hashes.SHA256 = c3b2c7bbd2aa1e3100b9382ed78dfa0041af764e0e02013acdf282410b302ead]\"]}].\n",
      "INFO:root:Reading Report {1f2cbc39-8893-4bec-9c59-b9f8fba67062}.\n",
      "INFO:root:Listing Indicators with filters [{\"key\": \"indicator_pattern\", \"values\": [\"[file:hashes.SHA256 = ef027405492bc0719437eb58c3d2774cc87845f30c40040bbebbcc09a4e3dd18]\"]}].\n",
      "INFO:root:Reading Report {1f2cbc39-8893-4bec-9c59-b9f8fba67062}.\n",
      "INFO:root:Listing Indicators with filters [{\"key\": \"indicator_pattern\", \"values\": [\"[file:hashes.SHA1 = 9f6bed7d7f4728490117cbc85819c2e6c494251b]\"]}].\n",
      "INFO:root:Reading Report {1f2cbc39-8893-4bec-9c59-b9f8fba67062}.\n",
      "INFO:root:Adding Stix-Entity {d4b7f77f-9497-4bbc-89c8-e2ab87d5a6ab} to Report {1f2cbc39-8893-4bec-9c59-b9f8fba67062}\n",
      "INFO:root:Listing Indicators with filters [{\"key\": \"indicator_pattern\", \"values\": [\"[file:hashes.SHA1 = 6e167da3c5d887fa2e58da848a2245d11b6c5ad6 ]\"]}].\n",
      "INFO:root:Reading Report {1f2cbc39-8893-4bec-9c59-b9f8fba67062}.\n",
      "INFO:root:Adding Stix-Entity {2a462d29-7bf3-496f-97c1-16e64de4cdc4} to Report {1f2cbc39-8893-4bec-9c59-b9f8fba67062}\n",
      "INFO:root:Listing Indicators with filters [{\"key\": \"indicator_pattern\", \"values\": [\"[file:hashes.SHA1 = e338d49c270baf64363879e5eecb8fa6bdde8ad9]\"]}].\n",
      "INFO:root:Reading Report {1f2cbc39-8893-4bec-9c59-b9f8fba67062}.\n",
      "INFO:root:Adding Stix-Entity {1e7ced89-7209-4729-9f10-ba69cf15a6a7} to Report {1f2cbc39-8893-4bec-9c59-b9f8fba67062}\n",
      "INFO:root:Listing Indicators with filters [{\"key\": \"indicator_pattern\", \"values\": [\"[file:hashes.SHA1 = f9fd3f1d8da4ffd6a494228b934549d09e3c59d1 ]\"]}].\n",
      "INFO:root:Reading Report {1f2cbc39-8893-4bec-9c59-b9f8fba67062}.\n",
      "INFO:root:Adding Stix-Entity {2d95885e-5457-4a14-a2e7-376151e4bbd0} to Report {1f2cbc39-8893-4bec-9c59-b9f8fba67062}\n",
      "INFO:root:Listing Indicators with filters [{\"key\": \"indicator_pattern\", \"values\": [\"[file:hashes.SHA1 = 476fc1d31722ac26b46154cbf0c631d60268b28a]\"]}].\n",
      "INFO:root:Reading Report {1f2cbc39-8893-4bec-9c59-b9f8fba67062}.\n",
      "INFO:root:Adding Stix-Entity {ade04b83-29a8-4ecf-a486-3e7decdbd7a3} to Report {1f2cbc39-8893-4bec-9c59-b9f8fba67062}\n",
      "INFO:root:Listing Indicators with filters [{\"key\": \"indicator_pattern\", \"values\": [\"[file:hashes.SHA1 = 8a68f26d01372114f660e32ac4c9117e5d0577f1]\"]}].\n",
      "INFO:root:Reading Report {1f2cbc39-8893-4bec-9c59-b9f8fba67062}.\n",
      "INFO:root:Adding Stix-Entity {11bfef3d-a1fe-4560-a470-9038325b2048} to Report {1f2cbc39-8893-4bec-9c59-b9f8fba67062}\n",
      "INFO:root:Listing Indicators with filters [{\"key\": \"indicator_pattern\", \"values\": [\"[file:hashes.SHA1 = 9c47ca3883196b3a84d67676a804ff50e22b0a9f]\"]}].\n",
      "INFO:root:Reading Report {1f2cbc39-8893-4bec-9c59-b9f8fba67062}.\n",
      "INFO:root:Adding Stix-Entity {de305cb5-1b59-4fb0-bbcf-1aed2d220e95} to Report {1f2cbc39-8893-4bec-9c59-b9f8fba67062}\n",
      "INFO:root:Listing Indicators with filters [{\"key\": \"indicator_pattern\", \"values\": [\"[file:hashes.SHA1 = ab354807e687993fbeb1b325eb6e4ab38d428a1e]\"]}].\n",
      "INFO:root:Reading Report {1f2cbc39-8893-4bec-9c59-b9f8fba67062}.\n",
      "INFO:root:Adding Stix-Entity {1e01de5c-fde1-4285-9e11-4f7de7b2aa84} to Report {1f2cbc39-8893-4bec-9c59-b9f8fba67062}\n",
      "INFO:root:Listing Indicators with filters [{\"key\": \"indicator_pattern\", \"values\": [\"[file:hashes.SHA1 = 4bc722a9b0492a50bd86a1341f02c74c0d773db7]\"]}].\n",
      "INFO:root:Reading Report {1f2cbc39-8893-4bec-9c59-b9f8fba67062}.\n",
      "INFO:root:Adding Stix-Entity {2c01c491-e00f-4392-8b07-dc25c4e30f2d} to Report {1f2cbc39-8893-4bec-9c59-b9f8fba67062}\n",
      "INFO:root:Listing Indicators with filters [{\"key\": \"indicator_pattern\", \"values\": [\"[file:hashes.MD5 = 0b803922a629f440f3a34e168d4639e2]\"]}].\n",
      "INFO:root:Reading Report {1f2cbc39-8893-4bec-9c59-b9f8fba67062}.\n"
     ]
    },
    {
     "name": "stderr",
     "output_type": "stream",
     "text": [
      "INFO:root:Adding Stix-Entity {21ab4ef5-9297-4ae2-9fac-62b50ebbaac6} to Report {1f2cbc39-8893-4bec-9c59-b9f8fba67062}\n",
      "INFO:root:Listing Indicators with filters [{\"key\": \"indicator_pattern\", \"values\": [\"[file:hashes.MD5 = ebdc6098c733b23e99daa60e55cf858b]\"]}].\n",
      "INFO:root:Reading Report {1f2cbc39-8893-4bec-9c59-b9f8fba67062}.\n",
      "INFO:root:Adding Stix-Entity {74d0b648-ba9c-48f6-a6c9-56ce608f765e} to Report {1f2cbc39-8893-4bec-9c59-b9f8fba67062}\n",
      "INFO:root:Listing Indicators with filters [{\"key\": \"indicator_pattern\", \"values\": [\"[file:hashes.MD5 = f8a778d21003098075c9aef8ed58c6c3]\"]}].\n",
      "INFO:root:Reading Report {1f2cbc39-8893-4bec-9c59-b9f8fba67062}.\n",
      "INFO:root:Adding Stix-Entity {bafbde6d-3399-440d-8b5b-9af8e95c8fd2} to Report {1f2cbc39-8893-4bec-9c59-b9f8fba67062}\n",
      "INFO:root:Listing Indicators with filters [{\"key\": \"indicator_pattern\", \"values\": [\"[ipv4-addr:value = 185.216.35.26]\"]}].\n",
      "INFO:root:Reading Report {1f2cbc39-8893-4bec-9c59-b9f8fba67062}.\n",
      "INFO:root:Adding Stix-Entity {7ef823f1-0195-4b38-9dab-207e290ce510} to Report {1f2cbc39-8893-4bec-9c59-b9f8fba67062}\n",
      "INFO:root:Listing Indicators with filters [{\"key\": \"indicator_pattern\", \"values\": [\"[ipv4-addr:value = 89.34.111.160]\"]}].\n",
      "INFO:root:Reading Report {1f2cbc39-8893-4bec-9c59-b9f8fba67062}.\n",
      "INFO:root:Adding Stix-Entity {899f2aa3-74f1-4727-a09f-24e793eedcc8} to Report {1f2cbc39-8893-4bec-9c59-b9f8fba67062}\n",
      "INFO:root:Listing Indicators with filters [{\"key\": \"indicator_pattern\", \"values\": [\"[ipv4-addr:value = 86.106.131.141]\"]}].\n",
      "INFO:root:Reading Report {1f2cbc39-8893-4bec-9c59-b9f8fba67062}.\n",
      "INFO:root:Adding Stix-Entity {26f2c760-8f92-4b12-a7f1-d8c76521f5f5} to Report {1f2cbc39-8893-4bec-9c59-b9f8fba67062}\n",
      "INFO:root:Listing Indicators with filters [{\"key\": \"indicator_pattern\", \"values\": [\"[ipv4-addr:value = 146.185.253.132]\"]}].\n",
      "INFO:root:Reading Report {1f2cbc39-8893-4bec-9c59-b9f8fba67062}.\n",
      "INFO:root:Adding Stix-Entity {3803bcc7-f78b-4528-a181-be3884988380} to Report {1f2cbc39-8893-4bec-9c59-b9f8fba67062}\n",
      "INFO:root:Listing Indicators with filters [{\"key\": \"indicator_pattern\", \"values\": [\"[ipv4-addr:value = 146.185.253.132]\"]}].\n",
      "INFO:root:Reading Report {1f2cbc39-8893-4bec-9c59-b9f8fba67062}.\n",
      "INFO:root:Adding Stix-Entity {3803bcc7-f78b-4528-a181-be3884988380} to Report {1f2cbc39-8893-4bec-9c59-b9f8fba67062}\n",
      "ERROR:root:A database error has occured!\n",
      "INFO:root:Listing Indicators with filters [{\"key\": \"indicator_pattern\", \"values\": [\"[ipv4-addr:value = 89.187.150.44]\"]}].\n",
      "INFO:root:Reading Report {1f2cbc39-8893-4bec-9c59-b9f8fba67062}.\n",
      "INFO:root:Adding Stix-Entity {2d93631e-bf77-4378-acd9-c7dcec5e059b} to Report {1f2cbc39-8893-4bec-9c59-b9f8fba67062}\n",
      "INFO:root:Listing Indicators with filters [{\"key\": \"indicator_pattern\", \"values\": [\"[ipv4-addr:value = 89.45.67.144]\"]}].\n",
      "INFO:root:Reading Report {1f2cbc39-8893-4bec-9c59-b9f8fba67062}.\n",
      "INFO:root:Adding Stix-Entity {dd3ba5d6-8c3e-45b2-9778-1c17af49a476} to Report {1f2cbc39-8893-4bec-9c59-b9f8fba67062}\n",
      "INFO:root:Listing Indicators with filters [{\"key\": \"indicator_pattern\", \"values\": [\"[ipv4-addr:value = 89.33.246.117]\"]}].\n",
      "INFO:root:Reading Report {1f2cbc39-8893-4bec-9c59-b9f8fba67062}.\n",
      "INFO:root:Adding Stix-Entity {782d43fa-2c17-4010-97dd-7e7d3ec6d9e1} to Report {1f2cbc39-8893-4bec-9c59-b9f8fba67062}\n",
      "INFO:root:Listing Indicators with filters [{\"key\": \"indicator_pattern\", \"values\": [\"[ipv4-addr:value = 95.215.45.43]\"]}].\n",
      "INFO:root:Reading Report {1f2cbc39-8893-4bec-9c59-b9f8fba67062}.\n",
      "INFO:root:Adding Stix-Entity {dc64a28f-b671-4997-81fc-6cf1caa9b9ff} to Report {1f2cbc39-8893-4bec-9c59-b9f8fba67062}\n",
      "INFO:root:Listing Indicators with filters [{\"key\": \"indicator_pattern\", \"values\": [\"[ipv4-addr:value = 185.156.173.1]\"]}].\n",
      "INFO:root:Reading Report {1f2cbc39-8893-4bec-9c59-b9f8fba67062}.\n",
      "INFO:root:Adding Stix-Entity {e322676c-00a4-42dd-9329-26a7170caf00} to Report {1f2cbc39-8893-4bec-9c59-b9f8fba67062}\n",
      "INFO:root:Listing Indicators with filters [{\"key\": \"indicator_pattern\", \"values\": [\"[ipv4-addr:value = 7191.101.31.96]\"]}].\n",
      "INFO:root:Reading Report {1f2cbc39-8893-4bec-9c59-b9f8fba67062}.\n",
      "INFO:root:Adding Stix-Entity {e6df31a7-f561-4804-9abb-422dc45159a1} to Report {1f2cbc39-8893-4bec-9c59-b9f8fba67062}\n",
      "INFO:root:Listing Indicators with filters [{\"key\": \"indicator_pattern\", \"values\": [\"[ipv4-addr:value = 87.236.211.182]\"]}].\n",
      "INFO:root:Reading Report {1f2cbc39-8893-4bec-9c59-b9f8fba67062}.\n",
      "INFO:root:Adding Stix-Entity {9bf4bff1-fe60-4287-844e-a31fdd7779f2} to Report {1f2cbc39-8893-4bec-9c59-b9f8fba67062}\n",
      "INFO:root:Listing Indicators with filters [{\"key\": \"indicator_pattern\", \"values\": [\"[ipv4-addr:value = 185.86.150.193]\"]}].\n",
      "INFO:root:Reading Report {1f2cbc39-8893-4bec-9c59-b9f8fba67062}.\n",
      "INFO:root:Adding Stix-Entity {a63b2da0-1886-4e9a-b7c2-54626c6ee6fe} to Report {1f2cbc39-8893-4bec-9c59-b9f8fba67062}\n",
      "INFO:root:Listing Indicators with filters [{\"key\": \"indicator_pattern\", \"values\": [\"[domain-name:value = photopoststories.com]\"]}].\n",
      "INFO:root:Reading Report {1f2cbc39-8893-4bec-9c59-b9f8fba67062}.\n",
      "INFO:root:Adding Stix-Entity {4a5d8135-8133-4567-ba98-1346abf484d0} to Report {1f2cbc39-8893-4bec-9c59-b9f8fba67062}\n",
      "INFO:root:Listing Indicators with filters [{\"key\": \"indicator_pattern\", \"values\": [\"[domain-name:value = mail.photopoststories.com]\"]}].\n",
      "INFO:root:Reading Report {1f2cbc39-8893-4bec-9c59-b9f8fba67062}.\n",
      "INFO:root:Adding Stix-Entity {8f5bc80d-30ca-4c10-b294-27dad63d3061} to Report {1f2cbc39-8893-4bec-9c59-b9f8fba67062}\n",
      "INFO:root:Listing Indicators with filters [{\"key\": \"indicator_pattern\", \"values\": [\"[domain-name:value = chakozkan@protonmail.com]\"]}].\n",
      "INFO:root:Reading Report {1f2cbc39-8893-4bec-9c59-b9f8fba67062}.\n",
      "INFO:root:Adding Stix-Entity {7fc83aa3-8c7a-40da-8cf4-0b9b90c4c0ac} to Report {1f2cbc39-8893-4bec-9c59-b9f8fba67062}\n",
      "INFO:root:Listing Indicators with filters [{\"key\": \"indicator_pattern\", \"values\": [\"[file:hashes.SHA256 = 4bfe2216ee63657312af1b2507c8f2bf362fdf1d63c88faba397e880c2e39430]\"]}].\n",
      "INFO:root:Reading Report {1f2cbc39-8893-4bec-9c59-b9f8fba67062}.\n",
      "INFO:root:Adding Stix-Entity {be19e5c7-c324-4215-adc8-0479a3d6c21c} to Report {1f2cbc39-8893-4bec-9c59-b9f8fba67062}\n",
      "INFO:root:Listing Indicators with filters [{\"key\": \"indicator_pattern\", \"values\": [\"[file:hashes.SHA256 = 2a06f142d87bd9b66621a30088683d6fcec019ba5cc9e5793e54f8d920ab0134]\"]}].\n",
      "INFO:root:Reading Report {1f2cbc39-8893-4bec-9c59-b9f8fba67062}.\n",
      "INFO:root:Adding Stix-Entity {3184c21f-6433-4bea-8d97-c98b158907e0} to Report {1f2cbc39-8893-4bec-9c59-b9f8fba67062}\n",
      "INFO:root:Listing Indicators with filters [{\"key\": \"indicator_pattern\", \"values\": [\"[file:hashes.SHA256 = c1b8fc00d815e777e39f34a520342d1942ebd29695c9453951a988c61875bcd7]\"]}].\n",
      "INFO:root:Reading Report {1f2cbc39-8893-4bec-9c59-b9f8fba67062}.\n",
      "INFO:root:Adding Stix-Entity {f25f4d5e-c8fa-4f36-987a-7f2b9d44df72} to Report {1f2cbc39-8893-4bec-9c59-b9f8fba67062}\n",
      "INFO:root:Listing Indicators with filters [{\"key\": \"indicator_pattern\", \"values\": [\"[file:hashes.SHA256 = cffa1d9fc336a1ad89af90443b15c98b71e679aeb03b3a68a5e9c3e7ecabc3d4]\"]}].\n",
      "INFO:root:Reading Report {1f2cbc39-8893-4bec-9c59-b9f8fba67062}.\n",
      "INFO:root:Adding Stix-Entity {2933b343-620b-41c2-b8e6-16dde7e6b5ed} to Report {1f2cbc39-8893-4bec-9c59-b9f8fba67062}\n",
      "INFO:root:Listing Indicators with filters [{\"key\": \"indicator_pattern\", \"values\": [\"[file:hashes.SHA256 = 96a19a90caa41406b632a2046f3a39b5579fbf730aca2357f84bf23f2cbc1fd3]\"]}].\n",
      "INFO:root:Reading Report {1f2cbc39-8893-4bec-9c59-b9f8fba67062}.\n",
      "INFO:root:Adding Stix-Entity {4c66bed2-aa09-40b6-87ca-0f6cc6356a21} to Report {1f2cbc39-8893-4bec-9c59-b9f8fba67062}\n",
      "INFO:root:Listing Indicators with filters [{\"key\": \"indicator_pattern\", \"values\": [\"[file:hashes.SHA256 = 227b7fe495ad9951aebf0aae3c317c1ac526cdd255953f111341b0b11be3bbc5]\"]}].\n",
      "INFO:root:Reading Report {1f2cbc39-8893-4bec-9c59-b9f8fba67062}.\n",
      "INFO:root:Adding Stix-Entity {a6c5cfe5-7d52-4acc-b350-e33d0edd2a5d} to Report {1f2cbc39-8893-4bec-9c59-b9f8fba67062}\n",
      "INFO:root:Listing Indicators with filters [{\"key\": \"indicator_pattern\", \"values\": [\"[file:hashes.SHA256 = 45a93e4b9ae5bece0d53a3a9a83186b8975953344d4dfb340e9de0015a247c54]\"]}].\n",
      "INFO:root:Reading Report {1f2cbc39-8893-4bec-9c59-b9f8fba67062}.\n",
      "INFO:root:Adding Stix-Entity {be1d49c7-cc22-4a51-b79b-61454c2ec2e7} to Report {1f2cbc39-8893-4bec-9c59-b9f8fba67062}\n"
     ]
    },
    {
     "name": "stderr",
     "output_type": "stream",
     "text": [
      "INFO:root:Listing Indicators with filters [{\"key\": \"indicator_pattern\", \"values\": [\"[file:hashes.SHA256 = 2a854997a44f4ba7e307d408ea2d9c1d84dde035c5dab830689aa45c5b5746ea]\"]}].\n",
      "INFO:root:Reading Report {1f2cbc39-8893-4bec-9c59-b9f8fba67062}.\n",
      "INFO:root:Adding Stix-Entity {84f0fbdd-1a3a-4ec8-ba1c-7b0569272c8b} to Report {1f2cbc39-8893-4bec-9c59-b9f8fba67062}\n",
      "INFO:root:Listing Indicators with filters [{\"key\": \"indicator_pattern\", \"values\": [\"[ipv4-addr:value = 185.10.58.170]\"]}].\n",
      "INFO:root:Reading Report {1f2cbc39-8893-4bec-9c59-b9f8fba67062}.\n",
      "INFO:root:Adding Stix-Entity {ca954681-9467-44d2-a7e4-37454c7f97fa} to Report {1f2cbc39-8893-4bec-9c59-b9f8fba67062}\n",
      "INFO:root:Listing Indicators with filters [{\"key\": \"indicator_pattern\", \"values\": [\"[ipv4-addr:value = 23.227.196.215 ]\"]}].\n",
      "INFO:root:Reading Report {1f2cbc39-8893-4bec-9c59-b9f8fba67062}.\n",
      "INFO:root:Adding Stix-Entity {e0f92261-345c-4b84-860b-47017bc175dd} to Report {1f2cbc39-8893-4bec-9c59-b9f8fba67062}\n",
      "INFO:root:Listing Indicators with filters [{\"key\": \"indicator_pattern\", \"values\": [\"[domain-name:value = appleupdate.org]\"]}].\n",
      "INFO:root:Reading Report {1f2cbc39-8893-4bec-9c59-b9f8fba67062}.\n",
      "INFO:root:Adding Stix-Entity {62ec9f36-d6be-4976-ada3-cc9b0075d862} to Report {1f2cbc39-8893-4bec-9c59-b9f8fba67062}\n",
      "INFO:root:Listing Indicators with filters [{\"key\": \"indicator_pattern\", \"values\": [\"[domain-name:value = apple-iclouds.net]\"]}].\n",
      "INFO:root:Reading Report {1f2cbc39-8893-4bec-9c59-b9f8fba67062}.\n",
      "INFO:root:Adding Stix-Entity {dd95a746-6944-4a9d-8a7c-458a3cc5fbdf} to Report {1f2cbc39-8893-4bec-9c59-b9f8fba67062}\n",
      "INFO:root:Listing Indicators with filters [{\"key\": \"indicator_pattern\", \"values\": [\"[domain-name:value = itunes-helper.net]\"]}].\n",
      "INFO:root:Reading Report {1f2cbc39-8893-4bec-9c59-b9f8fba67062}.\n",
      "INFO:root:Adding Stix-Entity {20ec5d17-49bb-470a-89c0-b2095f418932} to Report {1f2cbc39-8893-4bec-9c59-b9f8fba67062}\n",
      "INFO:root:Listing Indicators with filters [{\"key\": \"indicator_pattern\", \"values\": [\"[domain-name:value = apple-iclods.org]\"]}].\n",
      "INFO:root:Reading Report {1f2cbc39-8893-4bec-9c59-b9f8fba67062}.\n",
      "INFO:root:Adding Stix-Entity {2c23cf32-f558-4dfe-a62d-169728c7b786} to Report {1f2cbc39-8893-4bec-9c59-b9f8fba67062}\n",
      "INFO:root:Listing Indicators with filters [{\"key\": \"indicator_pattern\", \"values\": [\"[domain-name:value = apple-checker.org]\"]}].\n",
      "INFO:root:Reading Report {1f2cbc39-8893-4bec-9c59-b9f8fba67062}.\n",
      "INFO:root:Adding Stix-Entity {eb13478f-c660-49e5-92b8-06084dfa869f} to Report {1f2cbc39-8893-4bec-9c59-b9f8fba67062}\n",
      "INFO:root:Listing Indicators with filters [{\"key\": \"indicator_pattern\", \"values\": [\"[domain-name:value = apple-uptoday.org]\"]}].\n",
      "INFO:root:Reading Report {1f2cbc39-8893-4bec-9c59-b9f8fba67062}.\n",
      "INFO:root:Adding Stix-Entity {1f2d41ac-b80c-460d-b0fd-06b6ec7dd9ad} to Report {1f2cbc39-8893-4bec-9c59-b9f8fba67062}\n",
      "INFO:root:Listing Indicators with filters [{\"key\": \"indicator_pattern\", \"values\": [\"[domain-name:value = apple-search.info]\"]}].\n",
      "INFO:root:Reading Report {1f2cbc39-8893-4bec-9c59-b9f8fba67062}.\n",
      "INFO:root:Adding Stix-Entity {64788e60-7f60-42b2-b5c0-e9ff4b7a43b4} to Report {1f2cbc39-8893-4bec-9c59-b9f8fba67062}\n",
      "INFO:root:Listing Indicators with filters [{\"key\": \"indicator_pattern\", \"values\": [\"[file:hashes.SHA1 = ea728abe26bac161e110970051e1561fd51db93b]\"]}].\n",
      "INFO:root:Reading Report {1f2cbc39-8893-4bec-9c59-b9f8fba67062}.\n",
      "INFO:root:Adding Stix-Entity {9ae0ed72-1534-4cdd-b993-a32456d2d02b} to Report {1f2cbc39-8893-4bec-9c59-b9f8fba67062}\n",
      "INFO:root:Listing Indicators with filters [{\"key\": \"indicator_pattern\", \"values\": [\"[file:hashes.SHA1 = cc217342373967d1916cb20eca5ccb29caaf7c1b]\"]}].\n",
      "INFO:root:Reading Report {1f2cbc39-8893-4bec-9c59-b9f8fba67062}.\n",
      "INFO:root:Adding Stix-Entity {1cecbe34-dad9-4684-965c-b06ad5b5351a} to Report {1f2cbc39-8893-4bec-9c59-b9f8fba67062}\n",
      "INFO:root:Listing Indicators with filters [{\"key\": \"indicator_pattern\", \"values\": [\"[file:hashes.SHA1 = f2be778971ad9df2082a266bd04ab657bd287413]\"]}].\n",
      "INFO:root:Reading Report {1f2cbc39-8893-4bec-9c59-b9f8fba67062}.\n",
      "INFO:root:Adding Stix-Entity {db0eaf54-2a83-42ce-8a15-dc65f4522fe9} to Report {1f2cbc39-8893-4bec-9c59-b9f8fba67062}\n",
      "INFO:root:Listing Indicators with filters [{\"key\": \"indicator_pattern\", \"values\": [\"[file:hashes.SHA1 = 4b9e71615b37aea1eaeb5b1cfa0eee048118ff72]\"]}].\n",
      "INFO:root:Reading Report {1f2cbc39-8893-4bec-9c59-b9f8fba67062}.\n",
      "INFO:root:Adding Stix-Entity {de851da2-cf0b-45da-9ce3-c05104ca64e2} to Report {1f2cbc39-8893-4bec-9c59-b9f8fba67062}\n",
      "INFO:root:Listing Indicators with filters [{\"key\": \"indicator_pattern\", \"values\": [\"[file:hashes.SHA1 = 700d7e763f59e706b4f05c69911319690f85432e]\"]}].\n",
      "INFO:root:Reading Report {1f2cbc39-8893-4bec-9c59-b9f8fba67062}.\n",
      "INFO:root:Adding Stix-Entity {bca55c2e-b1b3-4449-bb62-6459c017d878} to Report {1f2cbc39-8893-4bec-9c59-b9f8fba67062}\n",
      "INFO:root:Listing Indicators with filters [{\"key\": \"indicator_pattern\", \"values\": [\"[file:hashes.SHA1 = 1771e435ba25f9cdfa77168899490d87681f2029]\"]}].\n",
      "INFO:root:Reading Report {1f2cbc39-8893-4bec-9c59-b9f8fba67062}.\n",
      "INFO:root:Adding Stix-Entity {9fd6a15b-8317-4f52-861e-461994ce73cf} to Report {1f2cbc39-8893-4bec-9c59-b9f8fba67062}\n",
      "INFO:root:Listing Indicators with filters [{\"key\": \"indicator_pattern\", \"values\": [\"[file:hashes.SHA1 = ddaa06a4021baf980a08caea899f2904609410b9]\"]}].\n",
      "INFO:root:Reading Report {1f2cbc39-8893-4bec-9c59-b9f8fba67062}.\n",
      "INFO:root:Adding Stix-Entity {54722511-f4fa-435b-93a4-aafd4b9946d0} to Report {1f2cbc39-8893-4bec-9c59-b9f8fba67062}\n",
      "INFO:root:Listing Indicators with filters [{\"key\": \"indicator_pattern\", \"values\": [\"[file:hashes.SHA1 = 10d571d66d3ab7b9ddf6a850cb9b8e38b07623c0]\"]}].\n",
      "INFO:root:Reading Report {1f2cbc39-8893-4bec-9c59-b9f8fba67062}.\n",
      "INFO:root:Adding Stix-Entity {fa874c58-05e6-4c4e-8a73-e7e1e32fd6f5} to Report {1f2cbc39-8893-4bec-9c59-b9f8fba67062}\n",
      "INFO:root:Listing Indicators with filters [{\"key\": \"indicator_pattern\", \"values\": [\"[file:hashes.SHA1 = 2529f6eda28d54490119d2123d22da56783c704f]\"]}].\n",
      "INFO:root:Reading Report {1f2cbc39-8893-4bec-9c59-b9f8fba67062}.\n",
      "INFO:root:Adding Stix-Entity {ca5bb5de-2a0a-460e-8100-92f4f6855f83} to Report {1f2cbc39-8893-4bec-9c59-b9f8fba67062}\n",
      "INFO:root:Listing Indicators with filters [{\"key\": \"indicator_pattern\", \"values\": [\"[file:hashes.SHA1 = e923ac79046ffa06f67d3f4c567e84a82dd7ff1b]\"]}].\n",
      "INFO:root:Reading Report {1f2cbc39-8893-4bec-9c59-b9f8fba67062}.\n",
      "INFO:root:Adding Stix-Entity {6c4a880a-ca25-404e-b3b4-6c073a8de45b} to Report {1f2cbc39-8893-4bec-9c59-b9f8fba67062}\n",
      "INFO:root:Listing Indicators with filters [{\"key\": \"indicator_pattern\", \"values\": [\"[file:hashes.SHA1 = 8e138eecea8e9937a83bffe100d842d6381b6bb1]\"]}].\n",
      "INFO:root:Reading Report {1f2cbc39-8893-4bec-9c59-b9f8fba67062}.\n",
      "INFO:root:Adding Stix-Entity {567c2e33-e9bf-41b3-b39a-a127d713343a} to Report {1f2cbc39-8893-4bec-9c59-b9f8fba67062}\n",
      "INFO:root:Listing Indicators with filters [{\"key\": \"indicator_pattern\", \"values\": [\"[file:hashes.SHA1 = ef860dca7d7c928b68c4218007fb9069c6e654e9]\"]}].\n",
      "INFO:root:Reading Report {1f2cbc39-8893-4bec-9c59-b9f8fba67062}.\n",
      "INFO:root:Adding Stix-Entity {c9bc2f19-d206-4ed3-9be2-6caa66dabb91} to Report {1f2cbc39-8893-4bec-9c59-b9f8fba67062}\n",
      "INFO:root:Listing Indicators with filters [{\"key\": \"indicator_pattern\", \"values\": [\"[file:hashes.SHA1 = e8f07caafb23eff83020406c21645d8ed0005ca6]\"]}].\n",
      "INFO:root:Reading Report {1f2cbc39-8893-4bec-9c59-b9f8fba67062}.\n",
      "INFO:root:Adding Stix-Entity {87900989-b41b-4f39-bdd6-1ded7b21156f} to Report {1f2cbc39-8893-4bec-9c59-b9f8fba67062}\n",
      "INFO:root:Listing Indicators with filters [{\"key\": \"indicator_pattern\", \"values\": [\"[file:hashes.SHA1 = 09d2e2c26247a4a908952fee36b56b360561984f]\"]}].\n",
      "INFO:root:Reading Report {1f2cbc39-8893-4bec-9c59-b9f8fba67062}.\n",
      "INFO:root:Adding Stix-Entity {29d4b154-684e-4a7d-9c95-35a22f2f1b2c} to Report {1f2cbc39-8893-4bec-9c59-b9f8fba67062}\n",
      "INFO:root:Listing Indicators with filters [{\"key\": \"indicator_pattern\", \"values\": [\"[file:hashes.SHA1 = f90ccf57e75923812c2c1da9f56166b36d1482be]\"]}].\n",
      "INFO:root:Reading Report {1f2cbc39-8893-4bec-9c59-b9f8fba67062}.\n",
      "INFO:root:Adding Stix-Entity {8535bae6-0010-46ad-97d1-2a461d612f95} to Report {1f2cbc39-8893-4bec-9c59-b9f8fba67062}\n",
      "INFO:root:Listing Indicators with filters [{\"key\": \"indicator_pattern\", \"values\": [\"[file:hashes.SHA1 = 397d97e278110a48bd2cb11bb5632b99a9100dbd]\"]}].\n"
     ]
    },
    {
     "name": "stderr",
     "output_type": "stream",
     "text": [
      "INFO:root:Reading Report {1f2cbc39-8893-4bec-9c59-b9f8fba67062}.\n",
      "INFO:root:Adding Stix-Entity {70c12d3b-e334-4ce4-95ac-e9afec8d8263} to Report {1f2cbc39-8893-4bec-9c59-b9f8fba67062}\n",
      "INFO:root:Listing Indicators with filters [{\"key\": \"indicator_pattern\", \"values\": [\"[file:hashes.MD5 = dcbfd12321fa7c4fa9a72486ced5 ]\"]}].\n",
      "INFO:root:Reading Report {1f2cbc39-8893-4bec-9c59-b9f8fba67062}.\n",
      "INFO:root:Adding Stix-Entity {9cd1ced5-0e0a-4cfc-8722-305e76443afb} to Report {1f2cbc39-8893-4bec-9c59-b9f8fba67062}\n",
      "INFO:root:Listing Indicators with filters [{\"key\": \"indicator_pattern\", \"values\": [\"[file:hashes.MD5 = 78fdc00dcee79e6d95aa481791f ]\"]}].\n",
      "INFO:root:Reading Report {1f2cbc39-8893-4bec-9c59-b9f8fba67062}.\n",
      "INFO:root:Adding Stix-Entity {62ba6f40-30cd-4614-8ab6-d3424aa8e315} to Report {1f2cbc39-8893-4bec-9c59-b9f8fba67062}\n",
      "INFO:root:Listing Indicators with filters [{\"key\": \"indicator_pattern\", \"values\": [\"[file:hashes.SHA1 = d70db6a6d660aae58ccfc688a2890391fd873bfb ]\"]}].\n",
      "INFO:root:Reading Report {1f2cbc39-8893-4bec-9c59-b9f8fba67062}.\n",
      "INFO:root:Adding Stix-Entity {179b59a7-1508-4b82-a9d9-9c8795c3aed1} to Report {1f2cbc39-8893-4bec-9c59-b9f8fba67062}\n",
      "INFO:root:Listing Indicators with filters [{\"key\": \"indicator_pattern\", \"values\": [\"[ipv4-addr:value = 185.77.129.106]\"]}].\n",
      "INFO:root:Reading Report {1f2cbc39-8893-4bec-9c59-b9f8fba67062}.\n",
      "INFO:root:Adding Stix-Entity {adc629f5-040d-4505-988e-67c3ba75469c} to Report {1f2cbc39-8893-4bec-9c59-b9f8fba67062}\n",
      "INFO:root:Listing Indicators with filters [{\"key\": \"indicator_pattern\", \"values\": [\"[ipv4-addr:value = 185.144.82.239]\"]}].\n",
      "INFO:root:Reading Report {1f2cbc39-8893-4bec-9c59-b9f8fba67062}.\n",
      "INFO:root:Adding Stix-Entity {d6c0db47-5eb4-4c4a-987f-3fc4f5c3a540} to Report {1f2cbc39-8893-4bec-9c59-b9f8fba67062}\n",
      "INFO:root:Listing Indicators with filters [{\"key\": \"indicator_pattern\", \"values\": [\"[ipv4-addr:value = 93.113.131.103]\"]}].\n",
      "INFO:root:Reading Report {1f2cbc39-8893-4bec-9c59-b9f8fba67062}.\n",
      "INFO:root:Adding Stix-Entity {8f3ace3d-a536-4134-9127-09b81993e475} to Report {1f2cbc39-8893-4bec-9c59-b9f8fba67062}\n",
      "INFO:root:Listing Indicators with filters [{\"key\": \"indicator_pattern\", \"values\": [\"[ipv4-addr:value = 185.86.149.54]\"]}].\n",
      "INFO:root:Reading Report {1f2cbc39-8893-4bec-9c59-b9f8fba67062}.\n",
      "INFO:root:Adding Stix-Entity {ce105aa3-48a6-4495-946f-0ef7bf05c6cd} to Report {1f2cbc39-8893-4bec-9c59-b9f8fba67062}\n",
      "INFO:root:Listing Indicators with filters [{\"key\": \"indicator_pattern\", \"values\": [\"[ipv4-addr:value = 185.86.151.104]\"]}].\n",
      "INFO:root:Reading Report {1f2cbc39-8893-4bec-9c59-b9f8fba67062}.\n",
      "INFO:root:Adding Stix-Entity {075e28e2-4a3d-4464-a26b-e925d9158e86} to Report {1f2cbc39-8893-4bec-9c59-b9f8fba67062}\n",
      "INFO:root:Listing Indicators with filters [{\"key\": \"indicator_pattern\", \"values\": [\"[ipv4-addr:value = 103.41.177.43]\"]}].\n",
      "INFO:root:Reading Report {1f2cbc39-8893-4bec-9c59-b9f8fba67062}.\n",
      "INFO:root:Adding Stix-Entity {9189a2fc-a55a-4fd9-822b-89b4bae1ccfc} to Report {1f2cbc39-8893-4bec-9c59-b9f8fba67062}\n",
      "INFO:root:Listing Indicators with filters [{\"key\": \"indicator_pattern\", \"values\": [\"[ipv4-addr:value = 185.86.148.184]\"]}].\n",
      "INFO:root:Reading Report {1f2cbc39-8893-4bec-9c59-b9f8fba67062}.\n",
      "INFO:root:Adding Stix-Entity {62501c00-4448-466c-8d16-add3f10e5ccc} to Report {1f2cbc39-8893-4bec-9c59-b9f8fba67062}\n",
      "INFO:root:Listing Indicators with filters [{\"key\": \"indicator_pattern\", \"values\": [\"[ipv4-addr:value = 185.94.191.65]\"]}].\n",
      "INFO:root:Reading Report {1f2cbc39-8893-4bec-9c59-b9f8fba67062}.\n",
      "INFO:root:Adding Stix-Entity {bffd67c0-7f9b-43b5-a3f2-8241ee6c789f} to Report {1f2cbc39-8893-4bec-9c59-b9f8fba67062}\n",
      "INFO:root:Listing Indicators with filters [{\"key\": \"indicator_pattern\", \"values\": [\"[ipv4-addr:value = 86.106.131.54]\"]}].\n",
      "INFO:root:Reading Report {1f2cbc39-8893-4bec-9c59-b9f8fba67062}.\n",
      "INFO:root:Adding Stix-Entity {0fbbf943-04dc-4806-8dbb-d67a003535bd} to Report {1f2cbc39-8893-4bec-9c59-b9f8fba67062}\n",
      "INFO:root:Listing Indicators with filters [{\"key\": \"indicator_pattern\", \"values\": [\"[ipv4-addr:value = 185.86.151.2 ]\"]}].\n",
      "INFO:root:Reading Report {1f2cbc39-8893-4bec-9c59-b9f8fba67062}.\n",
      "INFO:root:Adding Stix-Entity {f9201cbe-119c-4ca8-b815-923c12ac0ae5} to Report {1f2cbc39-8893-4bec-9c59-b9f8fba67062}\n",
      "INFO:root:Listing Indicators with filters [{\"key\": \"indicator_pattern\", \"values\": [\"[ipv4-addr:value = 46.21.147.76 ]\"]}].\n",
      "INFO:root:Reading Report {1f2cbc39-8893-4bec-9c59-b9f8fba67062}.\n",
      "INFO:root:Adding Stix-Entity {1e09434f-faf9-4c8b-a159-ee66b903fc1b} to Report {1f2cbc39-8893-4bec-9c59-b9f8fba67062}\n",
      "INFO:root:Listing Indicators with filters [{\"key\": \"indicator_pattern\", \"values\": [\"[ipv4-addr:value = 46.21.147.71 ]\"]}].\n",
      "INFO:root:Reading Report {1f2cbc39-8893-4bec-9c59-b9f8fba67062}.\n",
      "INFO:root:Adding Stix-Entity {35d89604-55f2-4db3-ace9-88b19890b6da} to Report {1f2cbc39-8893-4bec-9c59-b9f8fba67062}\n",
      "INFO:root:Listing Indicators with filters [{\"key\": \"indicator_pattern\", \"values\": [\"[ipv4-addr:value = 162.208.10.66 ]\"]}].\n",
      "INFO:root:Reading Report {1f2cbc39-8893-4bec-9c59-b9f8fba67062}.\n",
      "INFO:root:Adding Stix-Entity {26d17e5b-efcb-4cb9-967b-7f15bb5ca363} to Report {1f2cbc39-8893-4bec-9c59-b9f8fba67062}\n",
      "INFO:root:Listing Indicators with filters [{\"key\": \"indicator_pattern\", \"values\": [\"[ipv4-addr:value = 185.86.151.104 ]\"]}].\n",
      "INFO:root:Reading Report {1f2cbc39-8893-4bec-9c59-b9f8fba67062}.\n",
      "INFO:root:Adding Stix-Entity {e3d4d7a8-cad0-434a-83bb-c06eebd7870a} to Report {1f2cbc39-8893-4bec-9c59-b9f8fba67062}\n",
      "INFO:root:Listing Indicators with filters [{\"key\": \"indicator_pattern\", \"values\": [\"[ipv4-addr:value = 185.86.149.116 ]\"]}].\n",
      "INFO:root:Reading Report {1f2cbc39-8893-4bec-9c59-b9f8fba67062}.\n",
      "INFO:root:Adding Stix-Entity {14042a9e-ceae-4fa4-88fd-ff05d8728500} to Report {1f2cbc39-8893-4bec-9c59-b9f8fba67062}\n",
      "INFO:root:Listing Indicators with filters [{\"key\": \"indicator_pattern\", \"values\": [\"[ipv4-addr:value = 86.106.131.54 ]\"]}].\n",
      "INFO:root:Reading Report {1f2cbc39-8893-4bec-9c59-b9f8fba67062}.\n",
      "INFO:root:Adding Stix-Entity {d51a7df8-a4d8-4693-9392-b0edd5fb81a6} to Report {1f2cbc39-8893-4bec-9c59-b9f8fba67062}\n",
      "INFO:root:Listing Indicators with filters [{\"key\": \"indicator_pattern\", \"values\": [\"[ipv4-addr:value = 185.181.102.201 ]\"]}].\n",
      "INFO:root:Reading Report {1f2cbc39-8893-4bec-9c59-b9f8fba67062}.\n",
      "INFO:root:Adding Stix-Entity {98dae959-ab55-44e6-b3e4-e6e29605e404} to Report {1f2cbc39-8893-4bec-9c59-b9f8fba67062}\n",
      "INFO:root:Listing Indicators with filters [{\"key\": \"indicator_pattern\", \"values\": [\"[ipv4-addr:value = 179.43.158.20 ]\"]}].\n",
      "INFO:root:Reading Report {1f2cbc39-8893-4bec-9c59-b9f8fba67062}.\n",
      "INFO:root:Adding Stix-Entity {62719eea-bb99-4a15-bce4-0c08f2cdff06} to Report {1f2cbc39-8893-4bec-9c59-b9f8fba67062}\n",
      "INFO:root:Listing Indicators with filters [{\"key\": \"indicator_pattern\", \"values\": [\"[ipv4-addr:value = 85.204.124.77 ]\"]}].\n",
      "INFO:root:Reading Report {1f2cbc39-8893-4bec-9c59-b9f8fba67062}.\n",
      "INFO:root:Adding Stix-Entity {c50c8d40-8110-4af5-89ac-2a06a09ab98f} to Report {1f2cbc39-8893-4bec-9c59-b9f8fba67062}\n",
      "INFO:root:Listing Indicators with filters [{\"key\": \"indicator_pattern\", \"values\": [\"[ipv4-addr:value = 185.86.148.184 ]\"]}].\n",
      "INFO:root:Reading Report {1f2cbc39-8893-4bec-9c59-b9f8fba67062}.\n",
      "INFO:root:Adding Stix-Entity {9f80fd64-1949-47eb-ad19-430932a03a08} to Report {1f2cbc39-8893-4bec-9c59-b9f8fba67062}\n",
      "INFO:root:Listing Indicators with filters [{\"key\": \"indicator_pattern\", \"values\": [\"[ipv4-addr:value = 185.183.107.40 ]\"]}].\n",
      "INFO:root:Reading Report {1f2cbc39-8893-4bec-9c59-b9f8fba67062}.\n",
      "INFO:root:Adding Stix-Entity {21bd1d1e-97f8-4930-a6a8-971b366a6b22} to Report {1f2cbc39-8893-4bec-9c59-b9f8fba67062}\n",
      "INFO:root:Listing Indicators with filters [{\"key\": \"indicator_pattern\", \"values\": [\"[ipv4-addr:value = 185.94.191.65 ]\"]}].\n",
      "INFO:root:Reading Report {1f2cbc39-8893-4bec-9c59-b9f8fba67062}.\n",
      "INFO:root:Adding Stix-Entity {6dbb12cd-96c7-4276-94b7-8b6b345599d3} to Report {1f2cbc39-8893-4bec-9c59-b9f8fba67062}\n",
      "INFO:root:Listing Indicators with filters [{\"key\": \"indicator_pattern\", \"values\": [\"[ipv4-addr:value = 94.177.12.150 ]\"]}].\n",
      "INFO:root:Reading Report {1f2cbc39-8893-4bec-9c59-b9f8fba67062}.\n",
      "INFO:root:Adding Stix-Entity {881fdc70-3b2f-4433-98a1-ab5bc9287600} to Report {1f2cbc39-8893-4bec-9c59-b9f8fba67062}\n"
     ]
    },
    {
     "name": "stderr",
     "output_type": "stream",
     "text": [
      "INFO:root:Listing Indicators with filters [{\"key\": \"indicator_pattern\", \"values\": [\"[ipv4-addr:value = 54.37.104.106 ]\"]}].\n",
      "INFO:root:Reading Report {1f2cbc39-8893-4bec-9c59-b9f8fba67062}.\n",
      "INFO:root:Adding Stix-Entity {403d6f83-651c-4a65-be8c-8acf90e3aa35} to Report {1f2cbc39-8893-4bec-9c59-b9f8fba67062}\n",
      "INFO:root:Listing Indicators with filters [{\"key\": \"indicator_pattern\", \"values\": [\"[ipv4-addr:value = 93.113.131.103 ]\"]}].\n",
      "INFO:root:Reading Report {1f2cbc39-8893-4bec-9c59-b9f8fba67062}.\n",
      "INFO:root:Adding Stix-Entity {1c5ed1bf-3dbc-45b7-986b-7b060b2637f8} to Report {1f2cbc39-8893-4bec-9c59-b9f8fba67062}\n",
      "INFO:root:Listing Indicators with filters [{\"key\": \"indicator_pattern\", \"values\": [\"[ipv4-addr:value = 169.239.129.121 ]\"]}].\n",
      "INFO:root:Reading Report {1f2cbc39-8893-4bec-9c59-b9f8fba67062}.\n",
      "INFO:root:Adding Stix-Entity {e2312893-b3e6-4a58-a1ee-54d8d3e121aa} to Report {1f2cbc39-8893-4bec-9c59-b9f8fba67062}\n",
      "INFO:root:Listing Indicators with filters [{\"key\": \"indicator_pattern\", \"values\": [\"[ipv4-addr:value = 169.239.128.133 ]\"]}].\n",
      "INFO:root:Reading Report {1f2cbc39-8893-4bec-9c59-b9f8fba67062}.\n",
      "INFO:root:Adding Stix-Entity {c5f8a2aa-4204-428a-b273-270834599765} to Report {1f2cbc39-8893-4bec-9c59-b9f8fba67062}\n",
      "INFO:root:Listing Indicators with filters [{\"key\": \"indicator_pattern\", \"values\": [\"[domain-name:value = secao.org]\"]}].\n",
      "INFO:root:Reading Report {1f2cbc39-8893-4bec-9c59-b9f8fba67062}.\n",
      "INFO:root:Adding Stix-Entity {7923a602-e19b-49ab-aadf-14b5f4f4aa58} to Report {1f2cbc39-8893-4bec-9c59-b9f8fba67062}\n",
      "INFO:root:Listing Indicators with filters [{\"key\": \"indicator_pattern\", \"values\": [\"[domain-name:value = ikmtrust.com]\"]}].\n",
      "INFO:root:Reading Report {1f2cbc39-8893-4bec-9c59-b9f8fba67062}.\n",
      "INFO:root:Adding Stix-Entity {fd60910a-3e42-46f2-b80a-fd65db997764} to Report {1f2cbc39-8893-4bec-9c59-b9f8fba67062}\n",
      "INFO:root:Listing Indicators with filters [{\"key\": \"indicator_pattern\", \"values\": [\"[domain-name:value = sysanalyticweb.com]\"]}].\n",
      "INFO:root:Reading Report {1f2cbc39-8893-4bec-9c59-b9f8fba67062}.\n",
      "INFO:root:Adding Stix-Entity {88cbc538-d8cc-4d62-ad04-b0b2f7a52cd1} to Report {1f2cbc39-8893-4bec-9c59-b9f8fba67062}\n",
      "INFO:root:Listing Indicators with filters [{\"key\": \"indicator_pattern\", \"values\": [\"[domain-name:value = lxwo.org]\"]}].\n",
      "INFO:root:Reading Report {1f2cbc39-8893-4bec-9c59-b9f8fba67062}.\n",
      "INFO:root:Adding Stix-Entity {351af52a-df08-4d11-9dab-b1892a1ac208} to Report {1f2cbc39-8893-4bec-9c59-b9f8fba67062}\n",
      "INFO:root:Listing Indicators with filters [{\"key\": \"indicator_pattern\", \"values\": [\"[domain-name:value = jflynci.com]\"]}].\n",
      "INFO:root:Reading Report {1f2cbc39-8893-4bec-9c59-b9f8fba67062}.\n",
      "INFO:root:Adding Stix-Entity {dc7787ac-1681-4532-b5fc-b222d3222366} to Report {1f2cbc39-8893-4bec-9c59-b9f8fba67062}\n",
      "INFO:root:Listing Indicators with filters [{\"key\": \"indicator_pattern\", \"values\": [\"[domain-name:value = remotepx.net]\"]}].\n",
      "INFO:root:Reading Report {1f2cbc39-8893-4bec-9c59-b9f8fba67062}.\n",
      "INFO:root:Adding Stix-Entity {573d9eb9-0490-43a8-9805-b2784a637bbf} to Report {1f2cbc39-8893-4bec-9c59-b9f8fba67062}\n",
      "INFO:root:Listing Indicators with filters [{\"key\": \"indicator_pattern\", \"values\": [\"[domain-name:value = rdsnets.com]\"]}].\n",
      "INFO:root:Reading Report {1f2cbc39-8893-4bec-9c59-b9f8fba67062}.\n",
      "INFO:root:Adding Stix-Entity {107404f3-d39a-4537-a996-fe667d3d69ff} to Report {1f2cbc39-8893-4bec-9c59-b9f8fba67062}\n",
      "INFO:root:Listing Indicators with filters [{\"key\": \"indicator_pattern\", \"values\": [\"[domain-name:value = rpcnetconnect.com]\"]}].\n",
      "INFO:root:Reading Report {1f2cbc39-8893-4bec-9c59-b9f8fba67062}.\n",
      "INFO:root:Adding Stix-Entity {39888e91-d7e5-4004-96a1-c6591bf4b53d} to Report {1f2cbc39-8893-4bec-9c59-b9f8fba67062}\n",
      "INFO:root:Listing Indicators with filters [{\"key\": \"indicator_pattern\", \"values\": [\"[domain-name:value = webstp.com]\"]}].\n",
      "INFO:root:Reading Report {1f2cbc39-8893-4bec-9c59-b9f8fba67062}.\n",
      "INFO:root:Adding Stix-Entity {81758216-9fa4-417c-aac5-75454661beee} to Report {1f2cbc39-8893-4bec-9c59-b9f8fba67062}\n",
      "INFO:root:Listing Indicators with filters [{\"key\": \"indicator_pattern\", \"values\": [\"[domain-name:value = elaxo.org]\"]}].\n",
      "INFO:root:Reading Report {1f2cbc39-8893-4bec-9c59-b9f8fba67062}.\n",
      "INFO:root:Adding Stix-Entity {c9373c93-9021-4aee-a480-70a787699577} to Report {1f2cbc39-8893-4bec-9c59-b9f8fba67062}\n",
      "C:\\ProgramData\\Anaconda3\\lib\\site-packages\\ipykernel_launcher.py:300: DeprecationWarning: Call to deprecated method get_stix_domain_entity. (Replaced by the StixDomainEntity class in pycti) -- Deprecated since version 2.1.0.\n",
      "INFO:root:Reading Stix-Domain-Entity {22175c83-6fb7-4f81-b2e6-8e296a6ac451}.\n",
      "C:\\ProgramData\\Anaconda3\\lib\\site-packages\\ipykernel_launcher.py:303: DeprecationWarning: Call to deprecated method get_stix_domain_entity. (Replaced by the StixDomainEntity class in pycti) -- Deprecated since version 2.1.0.\n",
      "INFO:root:Reading Stix-Domain-Entity {f98a818c-d149-4bb5-8963-2fe7ce605986}.\n"
     ]
    },
    {
     "name": "stdout",
     "output_type": "stream",
     "text": [
      "22175c83-6fb7-4f81-b2e6-8e296a6ac451\n",
      "f98a818c-d149-4bb5-8963-2fe7ce605986\n"
     ]
    },
    {
     "name": "stderr",
     "output_type": "stream",
     "text": [
      "INFO:root:Listing stix_relations with {type: uses, from_id: 22175c83-6fb7-4f81-b2e6-8e296a6ac451, to_id: f98a818c-d149-4bb5-8963-2fe7ce605986}\n",
      "INFO:root:Reading Report {1f2cbc39-8893-4bec-9c59-b9f8fba67062}.\n",
      "INFO:root:Adding Stix-Entity {592edc65-4cb8-4d59-a41d-6ec9fb7e87e6} to Report {1f2cbc39-8893-4bec-9c59-b9f8fba67062}\n",
      "C:\\ProgramData\\Anaconda3\\lib\\site-packages\\ipykernel_launcher.py:300: DeprecationWarning: Call to deprecated method get_stix_domain_entity. (Replaced by the StixDomainEntity class in pycti) -- Deprecated since version 2.1.0.\n",
      "INFO:root:Reading Stix-Domain-Entity {22175c83-6fb7-4f81-b2e6-8e296a6ac451}.\n",
      "C:\\ProgramData\\Anaconda3\\lib\\site-packages\\ipykernel_launcher.py:303: DeprecationWarning: Call to deprecated method get_stix_domain_entity. (Replaced by the StixDomainEntity class in pycti) -- Deprecated since version 2.1.0.\n",
      "INFO:root:Reading Stix-Domain-Entity {a2c6b37c-fa8f-4537-b548-9294727d2ca2}.\n"
     ]
    },
    {
     "name": "stdout",
     "output_type": "stream",
     "text": [
      "22175c83-6fb7-4f81-b2e6-8e296a6ac451\n",
      "a2c6b37c-fa8f-4537-b548-9294727d2ca2\n"
     ]
    },
    {
     "name": "stderr",
     "output_type": "stream",
     "text": [
      "INFO:root:Listing stix_relations with {type: uses, from_id: 22175c83-6fb7-4f81-b2e6-8e296a6ac451, to_id: a2c6b37c-fa8f-4537-b548-9294727d2ca2}\n",
      "INFO:root:Reading Report {1f2cbc39-8893-4bec-9c59-b9f8fba67062}.\n",
      "INFO:root:Adding Stix-Entity {a5369d2f-938d-4327-8bc8-84d1d9c9c06b} to Report {1f2cbc39-8893-4bec-9c59-b9f8fba67062}\n",
      "C:\\ProgramData\\Anaconda3\\lib\\site-packages\\ipykernel_launcher.py:300: DeprecationWarning: Call to deprecated method get_stix_domain_entity. (Replaced by the StixDomainEntity class in pycti) -- Deprecated since version 2.1.0.\n",
      "INFO:root:Reading Stix-Domain-Entity {22175c83-6fb7-4f81-b2e6-8e296a6ac451}.\n",
      "C:\\ProgramData\\Anaconda3\\lib\\site-packages\\ipykernel_launcher.py:303: DeprecationWarning: Call to deprecated method get_stix_domain_entity. (Replaced by the StixDomainEntity class in pycti) -- Deprecated since version 2.1.0.\n",
      "INFO:root:Reading Stix-Domain-Entity {830843c5-2a10-4e76-8b65-4111878d0925}.\n"
     ]
    },
    {
     "name": "stdout",
     "output_type": "stream",
     "text": [
      "22175c83-6fb7-4f81-b2e6-8e296a6ac451\n",
      "830843c5-2a10-4e76-8b65-4111878d0925\n"
     ]
    },
    {
     "name": "stderr",
     "output_type": "stream",
     "text": [
      "INFO:root:Listing stix_relations with {type: uses, from_id: 22175c83-6fb7-4f81-b2e6-8e296a6ac451, to_id: 830843c5-2a10-4e76-8b65-4111878d0925}\n",
      "INFO:root:Reading Report {1f2cbc39-8893-4bec-9c59-b9f8fba67062}.\n",
      "INFO:root:Adding Stix-Entity {c602f453-f520-4010-8b5d-71b1f1ce5993} to Report {1f2cbc39-8893-4bec-9c59-b9f8fba67062}\n",
      "C:\\ProgramData\\Anaconda3\\lib\\site-packages\\ipykernel_launcher.py:300: DeprecationWarning: Call to deprecated method get_stix_domain_entity. (Replaced by the StixDomainEntity class in pycti) -- Deprecated since version 2.1.0.\n",
      "INFO:root:Reading Stix-Domain-Entity {22175c83-6fb7-4f81-b2e6-8e296a6ac451}.\n",
      "C:\\ProgramData\\Anaconda3\\lib\\site-packages\\ipykernel_launcher.py:303: DeprecationWarning: Call to deprecated method get_stix_domain_entity. (Replaced by the StixDomainEntity class in pycti) -- Deprecated since version 2.1.0.\n",
      "INFO:root:Reading Stix-Domain-Entity {ec1b152b-759b-4656-8417-fd9caebf312b}.\n"
     ]
    },
    {
     "name": "stdout",
     "output_type": "stream",
     "text": [
      "22175c83-6fb7-4f81-b2e6-8e296a6ac451\n",
      "ec1b152b-759b-4656-8417-fd9caebf312b\n"
     ]
    },
    {
     "name": "stderr",
     "output_type": "stream",
     "text": [
      "INFO:root:Listing stix_relations with {type: uses, from_id: 22175c83-6fb7-4f81-b2e6-8e296a6ac451, to_id: ec1b152b-759b-4656-8417-fd9caebf312b}\n",
      "INFO:root:Reading Report {1f2cbc39-8893-4bec-9c59-b9f8fba67062}.\n",
      "INFO:root:Adding Stix-Entity {fc4022b5-bd11-438a-96aa-4ea32566cdba} to Report {1f2cbc39-8893-4bec-9c59-b9f8fba67062}\n",
      "C:\\ProgramData\\Anaconda3\\lib\\site-packages\\ipykernel_launcher.py:300: DeprecationWarning: Call to deprecated method get_stix_domain_entity. (Replaced by the StixDomainEntity class in pycti) -- Deprecated since version 2.1.0.\n",
      "INFO:root:Reading Stix-Domain-Entity {22175c83-6fb7-4f81-b2e6-8e296a6ac451}.\n",
      "C:\\ProgramData\\Anaconda3\\lib\\site-packages\\ipykernel_launcher.py:303: DeprecationWarning: Call to deprecated method get_stix_domain_entity. (Replaced by the StixDomainEntity class in pycti) -- Deprecated since version 2.1.0.\n",
      "INFO:root:Reading Stix-Domain-Entity {77ac5165-2682-46c7-b86c-76c5d2c38a4e}.\n"
     ]
    },
    {
     "name": "stdout",
     "output_type": "stream",
     "text": [
      "22175c83-6fb7-4f81-b2e6-8e296a6ac451\n",
      "77ac5165-2682-46c7-b86c-76c5d2c38a4e\n"
     ]
    },
    {
     "name": "stderr",
     "output_type": "stream",
     "text": [
      "INFO:root:Listing stix_relations with {type: uses, from_id: 22175c83-6fb7-4f81-b2e6-8e296a6ac451, to_id: 77ac5165-2682-46c7-b86c-76c5d2c38a4e}\n",
      "INFO:root:Reading Report {1f2cbc39-8893-4bec-9c59-b9f8fba67062}.\n",
      "INFO:root:Adding Stix-Entity {95963848-7808-4167-ac6c-1429848a153d} to Report {1f2cbc39-8893-4bec-9c59-b9f8fba67062}\n",
      "C:\\ProgramData\\Anaconda3\\lib\\site-packages\\ipykernel_launcher.py:300: DeprecationWarning: Call to deprecated method get_stix_domain_entity. (Replaced by the StixDomainEntity class in pycti) -- Deprecated since version 2.1.0.\n",
      "INFO:root:Reading Stix-Domain-Entity {22175c83-6fb7-4f81-b2e6-8e296a6ac451}.\n",
      "C:\\ProgramData\\Anaconda3\\lib\\site-packages\\ipykernel_launcher.py:303: DeprecationWarning: Call to deprecated method get_stix_domain_entity. (Replaced by the StixDomainEntity class in pycti) -- Deprecated since version 2.1.0.\n",
      "INFO:root:Reading Stix-Domain-Entity {0ba1b7ae-d989-4b6b-b90e-75be1438e8d0}.\n",
      "INFO:root:Listing stix_relations with {type: uses, from_id: 22175c83-6fb7-4f81-b2e6-8e296a6ac451, to_id: 0ba1b7ae-d989-4b6b-b90e-75be1438e8d0}\n"
     ]
    },
    {
     "name": "stdout",
     "output_type": "stream",
     "text": [
      "22175c83-6fb7-4f81-b2e6-8e296a6ac451\n",
      "0ba1b7ae-d989-4b6b-b90e-75be1438e8d0\n"
     ]
    },
    {
     "name": "stderr",
     "output_type": "stream",
     "text": [
      "INFO:root:Reading Report {1f2cbc39-8893-4bec-9c59-b9f8fba67062}.\n",
      "INFO:root:Adding Stix-Entity {1cd9dbe1-1c6b-4697-b916-9b492cd95651} to Report {1f2cbc39-8893-4bec-9c59-b9f8fba67062}\n",
      "C:\\ProgramData\\Anaconda3\\lib\\site-packages\\ipykernel_launcher.py:300: DeprecationWarning: Call to deprecated method get_stix_domain_entity. (Replaced by the StixDomainEntity class in pycti) -- Deprecated since version 2.1.0.\n",
      "INFO:root:Reading Stix-Domain-Entity {22175c83-6fb7-4f81-b2e6-8e296a6ac451}.\n",
      "C:\\ProgramData\\Anaconda3\\lib\\site-packages\\ipykernel_launcher.py:303: DeprecationWarning: Call to deprecated method get_stix_domain_entity. (Replaced by the StixDomainEntity class in pycti) -- Deprecated since version 2.1.0.\n",
      "INFO:root:Reading Stix-Domain-Entity {885223eb-a293-4d4a-aaa8-2dd8d4487076}.\n"
     ]
    },
    {
     "name": "stdout",
     "output_type": "stream",
     "text": [
      "22175c83-6fb7-4f81-b2e6-8e296a6ac451\n",
      "885223eb-a293-4d4a-aaa8-2dd8d4487076\n"
     ]
    },
    {
     "name": "stderr",
     "output_type": "stream",
     "text": [
      "INFO:root:Listing stix_relations with {type: uses, from_id: 22175c83-6fb7-4f81-b2e6-8e296a6ac451, to_id: 885223eb-a293-4d4a-aaa8-2dd8d4487076}\n",
      "INFO:root:Reading Report {1f2cbc39-8893-4bec-9c59-b9f8fba67062}.\n",
      "INFO:root:Adding Stix-Entity {dc3a03ef-65e8-400e-9b9d-8c24bc007614} to Report {1f2cbc39-8893-4bec-9c59-b9f8fba67062}\n",
      "C:\\ProgramData\\Anaconda3\\lib\\site-packages\\ipykernel_launcher.py:300: DeprecationWarning: Call to deprecated method get_stix_domain_entity. (Replaced by the StixDomainEntity class in pycti) -- Deprecated since version 2.1.0.\n",
      "INFO:root:Reading Stix-Domain-Entity {22175c83-6fb7-4f81-b2e6-8e296a6ac451}.\n",
      "C:\\ProgramData\\Anaconda3\\lib\\site-packages\\ipykernel_launcher.py:303: DeprecationWarning: Call to deprecated method get_stix_domain_entity. (Replaced by the StixDomainEntity class in pycti) -- Deprecated since version 2.1.0.\n",
      "INFO:root:Reading Stix-Domain-Entity {651e2539-4a7d-47fc-8df2-ff67583c3801}.\n",
      "INFO:root:Listing stix_relations with {type: uses, from_id: 22175c83-6fb7-4f81-b2e6-8e296a6ac451, to_id: 651e2539-4a7d-47fc-8df2-ff67583c3801}\n"
     ]
    },
    {
     "name": "stdout",
     "output_type": "stream",
     "text": [
      "22175c83-6fb7-4f81-b2e6-8e296a6ac451\n",
      "651e2539-4a7d-47fc-8df2-ff67583c3801\n"
     ]
    },
    {
     "name": "stderr",
     "output_type": "stream",
     "text": [
      "INFO:root:Reading Report {1f2cbc39-8893-4bec-9c59-b9f8fba67062}.\n",
      "INFO:root:Adding Stix-Entity {36adaae7-ba30-4b6b-99ba-535964791578} to Report {1f2cbc39-8893-4bec-9c59-b9f8fba67062}\n",
      "C:\\ProgramData\\Anaconda3\\lib\\site-packages\\ipykernel_launcher.py:300: DeprecationWarning: Call to deprecated method get_stix_domain_entity. (Replaced by the StixDomainEntity class in pycti) -- Deprecated since version 2.1.0.\n",
      "INFO:root:Reading Stix-Domain-Entity {22175c83-6fb7-4f81-b2e6-8e296a6ac451}.\n",
      "C:\\ProgramData\\Anaconda3\\lib\\site-packages\\ipykernel_launcher.py:303: DeprecationWarning: Call to deprecated method get_stix_domain_entity. (Replaced by the StixDomainEntity class in pycti) -- Deprecated since version 2.1.0.\n",
      "INFO:root:Reading Stix-Domain-Entity {6f01d49b-f9aa-4610-8bf2-246f9d3e4875}.\n"
     ]
    },
    {
     "name": "stdout",
     "output_type": "stream",
     "text": [
      "22175c83-6fb7-4f81-b2e6-8e296a6ac451\n",
      "6f01d49b-f9aa-4610-8bf2-246f9d3e4875\n"
     ]
    },
    {
     "name": "stderr",
     "output_type": "stream",
     "text": [
      "INFO:root:Listing stix_relations with {type: uses, from_id: 22175c83-6fb7-4f81-b2e6-8e296a6ac451, to_id: 6f01d49b-f9aa-4610-8bf2-246f9d3e4875}\n",
      "INFO:root:Reading Report {1f2cbc39-8893-4bec-9c59-b9f8fba67062}.\n",
      "INFO:root:Adding Stix-Entity {6034bbcf-ee2f-4cab-ab0d-a409bce63c31} to Report {1f2cbc39-8893-4bec-9c59-b9f8fba67062}\n",
      "C:\\ProgramData\\Anaconda3\\lib\\site-packages\\ipykernel_launcher.py:300: DeprecationWarning: Call to deprecated method get_stix_domain_entity. (Replaced by the StixDomainEntity class in pycti) -- Deprecated since version 2.1.0.\n",
      "INFO:root:Reading Stix-Domain-Entity {22175c83-6fb7-4f81-b2e6-8e296a6ac451}.\n",
      "C:\\ProgramData\\Anaconda3\\lib\\site-packages\\ipykernel_launcher.py:303: DeprecationWarning: Call to deprecated method get_stix_domain_entity. (Replaced by the StixDomainEntity class in pycti) -- Deprecated since version 2.1.0.\n",
      "INFO:root:Reading Stix-Domain-Entity {ba4ce101-a595-428e-b56b-a7fd085ab3ed}.\n",
      "INFO:root:Listing stix_relations with {type: uses, from_id: 22175c83-6fb7-4f81-b2e6-8e296a6ac451, to_id: ba4ce101-a595-428e-b56b-a7fd085ab3ed}\n"
     ]
    },
    {
     "name": "stdout",
     "output_type": "stream",
     "text": [
      "22175c83-6fb7-4f81-b2e6-8e296a6ac451\n",
      "ba4ce101-a595-428e-b56b-a7fd085ab3ed\n"
     ]
    },
    {
     "name": "stderr",
     "output_type": "stream",
     "text": [
      "INFO:root:Reading Report {1f2cbc39-8893-4bec-9c59-b9f8fba67062}.\n",
      "INFO:root:Adding Stix-Entity {690c79fc-dff5-45dc-b456-5c42911cf261} to Report {1f2cbc39-8893-4bec-9c59-b9f8fba67062}\n",
      "C:\\ProgramData\\Anaconda3\\lib\\site-packages\\ipykernel_launcher.py:300: DeprecationWarning: Call to deprecated method get_stix_domain_entity. (Replaced by the StixDomainEntity class in pycti) -- Deprecated since version 2.1.0.\n",
      "INFO:root:Reading Stix-Domain-Entity {22175c83-6fb7-4f81-b2e6-8e296a6ac451}.\n",
      "C:\\ProgramData\\Anaconda3\\lib\\site-packages\\ipykernel_launcher.py:303: DeprecationWarning: Call to deprecated method get_stix_domain_entity. (Replaced by the StixDomainEntity class in pycti) -- Deprecated since version 2.1.0.\n",
      "INFO:root:Reading Stix-Domain-Entity {8c57bb26-ccef-4301-83cb-6a0ae1bcc508}.\n",
      "INFO:root:Listing stix_relations with {type: uses, from_id: 22175c83-6fb7-4f81-b2e6-8e296a6ac451, to_id: 8c57bb26-ccef-4301-83cb-6a0ae1bcc508}\n"
     ]
    },
    {
     "name": "stdout",
     "output_type": "stream",
     "text": [
      "22175c83-6fb7-4f81-b2e6-8e296a6ac451\n",
      "8c57bb26-ccef-4301-83cb-6a0ae1bcc508\n"
     ]
    },
    {
     "name": "stderr",
     "output_type": "stream",
     "text": [
      "INFO:root:Reading Report {1f2cbc39-8893-4bec-9c59-b9f8fba67062}.\n",
      "INFO:root:Adding Stix-Entity {13e6c3ce-a18c-4ba1-948a-0a23bbd8944d} to Report {1f2cbc39-8893-4bec-9c59-b9f8fba67062}\n",
      "C:\\ProgramData\\Anaconda3\\lib\\site-packages\\ipykernel_launcher.py:300: DeprecationWarning: Call to deprecated method get_stix_domain_entity. (Replaced by the StixDomainEntity class in pycti) -- Deprecated since version 2.1.0.\n",
      "INFO:root:Reading Stix-Domain-Entity {22175c83-6fb7-4f81-b2e6-8e296a6ac451}.\n",
      "C:\\ProgramData\\Anaconda3\\lib\\site-packages\\ipykernel_launcher.py:303: DeprecationWarning: Call to deprecated method get_stix_domain_entity. (Replaced by the StixDomainEntity class in pycti) -- Deprecated since version 2.1.0.\n",
      "INFO:root:Reading Stix-Domain-Entity {9c364890-7132-4d41-b324-7a4e44aad1f6}.\n"
     ]
    },
    {
     "name": "stdout",
     "output_type": "stream",
     "text": [
      "22175c83-6fb7-4f81-b2e6-8e296a6ac451\n",
      "9c364890-7132-4d41-b324-7a4e44aad1f6\n"
     ]
    },
    {
     "name": "stderr",
     "output_type": "stream",
     "text": [
      "INFO:root:Listing stix_relations with {type: uses, from_id: 22175c83-6fb7-4f81-b2e6-8e296a6ac451, to_id: 9c364890-7132-4d41-b324-7a4e44aad1f6}\n",
      "INFO:root:Reading Report {1f2cbc39-8893-4bec-9c59-b9f8fba67062}.\n",
      "INFO:root:Adding Stix-Entity {981b1d65-3ec5-4e64-8a92-58426f3ca4bb} to Report {1f2cbc39-8893-4bec-9c59-b9f8fba67062}\n",
      "C:\\ProgramData\\Anaconda3\\lib\\site-packages\\ipykernel_launcher.py:300: DeprecationWarning: Call to deprecated method get_stix_domain_entity. (Replaced by the StixDomainEntity class in pycti) -- Deprecated since version 2.1.0.\n",
      "INFO:root:Reading Stix-Domain-Entity {22175c83-6fb7-4f81-b2e6-8e296a6ac451}.\n",
      "C:\\ProgramData\\Anaconda3\\lib\\site-packages\\ipykernel_launcher.py:303: DeprecationWarning: Call to deprecated method get_stix_domain_entity. (Replaced by the StixDomainEntity class in pycti) -- Deprecated since version 2.1.0.\n",
      "INFO:root:Reading Stix-Domain-Entity {923139f5-b823-482c-8fd9-0f0e49672e78}.\n",
      "INFO:root:Listing stix_relations with {type: uses, from_id: 22175c83-6fb7-4f81-b2e6-8e296a6ac451, to_id: 923139f5-b823-482c-8fd9-0f0e49672e78}\n"
     ]
    },
    {
     "name": "stdout",
     "output_type": "stream",
     "text": [
      "22175c83-6fb7-4f81-b2e6-8e296a6ac451\n",
      "923139f5-b823-482c-8fd9-0f0e49672e78\n"
     ]
    },
    {
     "name": "stderr",
     "output_type": "stream",
     "text": [
      "INFO:root:Reading Report {1f2cbc39-8893-4bec-9c59-b9f8fba67062}.\n",
      "INFO:root:Adding Stix-Entity {525181c8-888c-4722-82c1-f487c5956da0} to Report {1f2cbc39-8893-4bec-9c59-b9f8fba67062}\n",
      "C:\\ProgramData\\Anaconda3\\lib\\site-packages\\ipykernel_launcher.py:300: DeprecationWarning: Call to deprecated method get_stix_domain_entity. (Replaced by the StixDomainEntity class in pycti) -- Deprecated since version 2.1.0.\n",
      "INFO:root:Reading Stix-Domain-Entity {22175c83-6fb7-4f81-b2e6-8e296a6ac451}.\n",
      "C:\\ProgramData\\Anaconda3\\lib\\site-packages\\ipykernel_launcher.py:303: DeprecationWarning: Call to deprecated method get_stix_domain_entity. (Replaced by the StixDomainEntity class in pycti) -- Deprecated since version 2.1.0.\n",
      "INFO:root:Reading Stix-Domain-Entity {1f010009-f6eb-4223-a098-807e6384a1ae}.\n"
     ]
    },
    {
     "name": "stdout",
     "output_type": "stream",
     "text": [
      "22175c83-6fb7-4f81-b2e6-8e296a6ac451\n",
      "1f010009-f6eb-4223-a098-807e6384a1ae\n"
     ]
    },
    {
     "name": "stderr",
     "output_type": "stream",
     "text": [
      "INFO:root:Listing stix_relations with {type: uses, from_id: 22175c83-6fb7-4f81-b2e6-8e296a6ac451, to_id: 1f010009-f6eb-4223-a098-807e6384a1ae}\n",
      "INFO:root:Reading Report {1f2cbc39-8893-4bec-9c59-b9f8fba67062}.\n",
      "INFO:root:Adding Stix-Entity {294d60f2-1112-4457-b0e7-54362485d81f} to Report {1f2cbc39-8893-4bec-9c59-b9f8fba67062}\n",
      "C:\\ProgramData\\Anaconda3\\lib\\site-packages\\ipykernel_launcher.py:300: DeprecationWarning: Call to deprecated method get_stix_domain_entity. (Replaced by the StixDomainEntity class in pycti) -- Deprecated since version 2.1.0.\n",
      "INFO:root:Reading Stix-Domain-Entity {22175c83-6fb7-4f81-b2e6-8e296a6ac451}.\n",
      "C:\\ProgramData\\Anaconda3\\lib\\site-packages\\ipykernel_launcher.py:303: DeprecationWarning: Call to deprecated method get_stix_domain_entity. (Replaced by the StixDomainEntity class in pycti) -- Deprecated since version 2.1.0.\n",
      "INFO:root:Reading Stix-Domain-Entity {153ca3c3-7ee0-4238-b41e-17806af21acd}.\n",
      "INFO:root:Listing stix_relations with {type: uses, from_id: 22175c83-6fb7-4f81-b2e6-8e296a6ac451, to_id: 153ca3c3-7ee0-4238-b41e-17806af21acd}\n"
     ]
    },
    {
     "name": "stdout",
     "output_type": "stream",
     "text": [
      "22175c83-6fb7-4f81-b2e6-8e296a6ac451\n",
      "153ca3c3-7ee0-4238-b41e-17806af21acd\n"
     ]
    },
    {
     "name": "stderr",
     "output_type": "stream",
     "text": [
      "INFO:root:Reading Report {1f2cbc39-8893-4bec-9c59-b9f8fba67062}.\n",
      "INFO:root:Adding Stix-Entity {c45d70a7-8dcd-4555-84e6-7c797f9a8407} to Report {1f2cbc39-8893-4bec-9c59-b9f8fba67062}\n",
      "C:\\ProgramData\\Anaconda3\\lib\\site-packages\\ipykernel_launcher.py:300: DeprecationWarning: Call to deprecated method get_stix_domain_entity. (Replaced by the StixDomainEntity class in pycti) -- Deprecated since version 2.1.0.\n",
      "INFO:root:Reading Stix-Domain-Entity {22175c83-6fb7-4f81-b2e6-8e296a6ac451}.\n",
      "C:\\ProgramData\\Anaconda3\\lib\\site-packages\\ipykernel_launcher.py:303: DeprecationWarning: Call to deprecated method get_stix_domain_entity. (Replaced by the StixDomainEntity class in pycti) -- Deprecated since version 2.1.0.\n",
      "INFO:root:Reading Stix-Domain-Entity {e659e8a4-5b5b-4929-bcf7-10f9202551cd}.\n"
     ]
    },
    {
     "name": "stdout",
     "output_type": "stream",
     "text": [
      "22175c83-6fb7-4f81-b2e6-8e296a6ac451\n",
      "e659e8a4-5b5b-4929-bcf7-10f9202551cd\n"
     ]
    },
    {
     "name": "stderr",
     "output_type": "stream",
     "text": [
      "INFO:root:Listing stix_relations with {type: uses, from_id: 22175c83-6fb7-4f81-b2e6-8e296a6ac451, to_id: e659e8a4-5b5b-4929-bcf7-10f9202551cd}\n",
      "INFO:root:Reading Report {1f2cbc39-8893-4bec-9c59-b9f8fba67062}.\n",
      "INFO:root:Adding Stix-Entity {69d3657f-8108-4db3-8592-03706f2058eb} to Report {1f2cbc39-8893-4bec-9c59-b9f8fba67062}\n",
      "C:\\ProgramData\\Anaconda3\\lib\\site-packages\\ipykernel_launcher.py:300: DeprecationWarning: Call to deprecated method get_stix_domain_entity. (Replaced by the StixDomainEntity class in pycti) -- Deprecated since version 2.1.0.\n",
      "INFO:root:Reading Stix-Domain-Entity {22175c83-6fb7-4f81-b2e6-8e296a6ac451}.\n",
      "C:\\ProgramData\\Anaconda3\\lib\\site-packages\\ipykernel_launcher.py:303: DeprecationWarning: Call to deprecated method get_stix_domain_entity. (Replaced by the StixDomainEntity class in pycti) -- Deprecated since version 2.1.0.\n",
      "INFO:root:Reading Stix-Domain-Entity {9c3270b6-4894-48b7-940c-2c1b1aa59be4}.\n"
     ]
    },
    {
     "name": "stdout",
     "output_type": "stream",
     "text": [
      "22175c83-6fb7-4f81-b2e6-8e296a6ac451\n",
      "9c3270b6-4894-48b7-940c-2c1b1aa59be4\n"
     ]
    },
    {
     "name": "stderr",
     "output_type": "stream",
     "text": [
      "INFO:root:Listing stix_relations with {type: uses, from_id: 22175c83-6fb7-4f81-b2e6-8e296a6ac451, to_id: 9c3270b6-4894-48b7-940c-2c1b1aa59be4}\n",
      "INFO:root:Reading Report {1f2cbc39-8893-4bec-9c59-b9f8fba67062}.\n",
      "INFO:root:Adding Stix-Entity {f098cb9b-561f-41c2-9a03-5ceba90e7437} to Report {1f2cbc39-8893-4bec-9c59-b9f8fba67062}\n",
      "C:\\ProgramData\\Anaconda3\\lib\\site-packages\\ipykernel_launcher.py:300: DeprecationWarning: Call to deprecated method get_stix_domain_entity. (Replaced by the StixDomainEntity class in pycti) -- Deprecated since version 2.1.0.\n",
      "INFO:root:Reading Stix-Domain-Entity {22175c83-6fb7-4f81-b2e6-8e296a6ac451}.\n",
      "C:\\ProgramData\\Anaconda3\\lib\\site-packages\\ipykernel_launcher.py:303: DeprecationWarning: Call to deprecated method get_stix_domain_entity. (Replaced by the StixDomainEntity class in pycti) -- Deprecated since version 2.1.0.\n",
      "INFO:root:Reading Stix-Domain-Entity {e3f49f39-45fb-40cc-b44f-4af592d48328}.\n"
     ]
    },
    {
     "name": "stdout",
     "output_type": "stream",
     "text": [
      "22175c83-6fb7-4f81-b2e6-8e296a6ac451\n",
      "e3f49f39-45fb-40cc-b44f-4af592d48328\n"
     ]
    },
    {
     "name": "stderr",
     "output_type": "stream",
     "text": [
      "INFO:root:Listing stix_relations with {type: uses, from_id: 22175c83-6fb7-4f81-b2e6-8e296a6ac451, to_id: e3f49f39-45fb-40cc-b44f-4af592d48328}\n",
      "INFO:root:Reading Report {1f2cbc39-8893-4bec-9c59-b9f8fba67062}.\n",
      "INFO:root:Adding Stix-Entity {a9566522-340f-4e3f-991c-8a6f92cf27b8} to Report {1f2cbc39-8893-4bec-9c59-b9f8fba67062}\n",
      "C:\\ProgramData\\Anaconda3\\lib\\site-packages\\ipykernel_launcher.py:300: DeprecationWarning: Call to deprecated method get_stix_domain_entity. (Replaced by the StixDomainEntity class in pycti) -- Deprecated since version 2.1.0.\n",
      "INFO:root:Reading Stix-Domain-Entity {22175c83-6fb7-4f81-b2e6-8e296a6ac451}.\n",
      "C:\\ProgramData\\Anaconda3\\lib\\site-packages\\ipykernel_launcher.py:303: DeprecationWarning: Call to deprecated method get_stix_domain_entity. (Replaced by the StixDomainEntity class in pycti) -- Deprecated since version 2.1.0.\n",
      "INFO:root:Reading Stix-Domain-Entity {cc82f17e-f006-4b60-94a0-91ab35a9fc32}.\n"
     ]
    },
    {
     "name": "stdout",
     "output_type": "stream",
     "text": [
      "22175c83-6fb7-4f81-b2e6-8e296a6ac451\n",
      "cc82f17e-f006-4b60-94a0-91ab35a9fc32\n"
     ]
    },
    {
     "name": "stderr",
     "output_type": "stream",
     "text": [
      "INFO:root:Listing stix_relations with {type: uses, from_id: 22175c83-6fb7-4f81-b2e6-8e296a6ac451, to_id: cc82f17e-f006-4b60-94a0-91ab35a9fc32}\n",
      "INFO:root:Reading Report {1f2cbc39-8893-4bec-9c59-b9f8fba67062}.\n",
      "INFO:root:Adding Stix-Entity {708bec5e-b23f-4096-9ccc-9a55a7e8e858} to Report {1f2cbc39-8893-4bec-9c59-b9f8fba67062}\n",
      "C:\\ProgramData\\Anaconda3\\lib\\site-packages\\ipykernel_launcher.py:300: DeprecationWarning: Call to deprecated method get_stix_domain_entity. (Replaced by the StixDomainEntity class in pycti) -- Deprecated since version 2.1.0.\n",
      "INFO:root:Reading Stix-Domain-Entity {22175c83-6fb7-4f81-b2e6-8e296a6ac451}.\n",
      "C:\\ProgramData\\Anaconda3\\lib\\site-packages\\ipykernel_launcher.py:303: DeprecationWarning: Call to deprecated method get_stix_domain_entity. (Replaced by the StixDomainEntity class in pycti) -- Deprecated since version 2.1.0.\n",
      "INFO:root:Reading Stix-Domain-Entity {50e79339-28dd-4b61-8fad-e70e7cd93d58}.\n"
     ]
    },
    {
     "name": "stdout",
     "output_type": "stream",
     "text": [
      "22175c83-6fb7-4f81-b2e6-8e296a6ac451\n",
      "50e79339-28dd-4b61-8fad-e70e7cd93d58\n"
     ]
    },
    {
     "name": "stderr",
     "output_type": "stream",
     "text": [
      "INFO:root:Listing stix_relations with {type: uses, from_id: 22175c83-6fb7-4f81-b2e6-8e296a6ac451, to_id: 50e79339-28dd-4b61-8fad-e70e7cd93d58}\n",
      "INFO:root:Reading Report {1f2cbc39-8893-4bec-9c59-b9f8fba67062}.\n",
      "INFO:root:Adding Stix-Entity {04a24627-a4fd-4d8b-9a3f-3d6325e429c3} to Report {1f2cbc39-8893-4bec-9c59-b9f8fba67062}\n",
      "C:\\ProgramData\\Anaconda3\\lib\\site-packages\\ipykernel_launcher.py:300: DeprecationWarning: Call to deprecated method get_stix_domain_entity. (Replaced by the StixDomainEntity class in pycti) -- Deprecated since version 2.1.0.\n",
      "INFO:root:Reading Stix-Domain-Entity {22175c83-6fb7-4f81-b2e6-8e296a6ac451}.\n",
      "C:\\ProgramData\\Anaconda3\\lib\\site-packages\\ipykernel_launcher.py:303: DeprecationWarning: Call to deprecated method get_stix_domain_entity. (Replaced by the StixDomainEntity class in pycti) -- Deprecated since version 2.1.0.\n",
      "INFO:root:Reading Stix-Domain-Entity {b3749bd5-6c0c-471c-9f7e-4ddd120d3433}.\n"
     ]
    },
    {
     "name": "stdout",
     "output_type": "stream",
     "text": [
      "22175c83-6fb7-4f81-b2e6-8e296a6ac451\n",
      "b3749bd5-6c0c-471c-9f7e-4ddd120d3433\n"
     ]
    },
    {
     "name": "stderr",
     "output_type": "stream",
     "text": [
      "INFO:root:Listing stix_relations with {type: uses, from_id: 22175c83-6fb7-4f81-b2e6-8e296a6ac451, to_id: b3749bd5-6c0c-471c-9f7e-4ddd120d3433}\n",
      "INFO:root:Reading Report {1f2cbc39-8893-4bec-9c59-b9f8fba67062}.\n",
      "INFO:root:Adding Stix-Entity {c8f361eb-dc53-4d53-a719-39f0236caa13} to Report {1f2cbc39-8893-4bec-9c59-b9f8fba67062}\n",
      "C:\\ProgramData\\Anaconda3\\lib\\site-packages\\ipykernel_launcher.py:300: DeprecationWarning: Call to deprecated method get_stix_domain_entity. (Replaced by the StixDomainEntity class in pycti) -- Deprecated since version 2.1.0.\n",
      "INFO:root:Reading Stix-Domain-Entity {22175c83-6fb7-4f81-b2e6-8e296a6ac451}.\n",
      "C:\\ProgramData\\Anaconda3\\lib\\site-packages\\ipykernel_launcher.py:303: DeprecationWarning: Call to deprecated method get_stix_domain_entity. (Replaced by the StixDomainEntity class in pycti) -- Deprecated since version 2.1.0.\n",
      "INFO:root:Reading Stix-Domain-Entity {7e9af0ad-f71a-45bb-8ab7-2a29482cd4dd}.\n"
     ]
    },
    {
     "name": "stdout",
     "output_type": "stream",
     "text": [
      "22175c83-6fb7-4f81-b2e6-8e296a6ac451\n",
      "7e9af0ad-f71a-45bb-8ab7-2a29482cd4dd\n"
     ]
    },
    {
     "name": "stderr",
     "output_type": "stream",
     "text": [
      "INFO:root:Listing stix_relations with {type: uses, from_id: 22175c83-6fb7-4f81-b2e6-8e296a6ac451, to_id: 7e9af0ad-f71a-45bb-8ab7-2a29482cd4dd}\n",
      "INFO:root:Reading Report {1f2cbc39-8893-4bec-9c59-b9f8fba67062}.\n",
      "INFO:root:Adding Stix-Entity {0b11eb92-3170-47f4-a9b4-73eba20d254f} to Report {1f2cbc39-8893-4bec-9c59-b9f8fba67062}\n",
      "C:\\ProgramData\\Anaconda3\\lib\\site-packages\\ipykernel_launcher.py:300: DeprecationWarning: Call to deprecated method get_stix_domain_entity. (Replaced by the StixDomainEntity class in pycti) -- Deprecated since version 2.1.0.\n",
      "INFO:root:Reading Stix-Domain-Entity {22175c83-6fb7-4f81-b2e6-8e296a6ac451}.\n",
      "C:\\ProgramData\\Anaconda3\\lib\\site-packages\\ipykernel_launcher.py:303: DeprecationWarning: Call to deprecated method get_stix_domain_entity. (Replaced by the StixDomainEntity class in pycti) -- Deprecated since version 2.1.0.\n",
      "INFO:root:Reading Stix-Domain-Entity {862b82d3-59bd-4209-b4c2-ec1d32aeb466}.\n"
     ]
    },
    {
     "name": "stdout",
     "output_type": "stream",
     "text": [
      "22175c83-6fb7-4f81-b2e6-8e296a6ac451\n",
      "862b82d3-59bd-4209-b4c2-ec1d32aeb466\n"
     ]
    },
    {
     "name": "stderr",
     "output_type": "stream",
     "text": [
      "INFO:root:Listing stix_relations with {type: uses, from_id: 22175c83-6fb7-4f81-b2e6-8e296a6ac451, to_id: 862b82d3-59bd-4209-b4c2-ec1d32aeb466}\n",
      "INFO:root:Reading Report {1f2cbc39-8893-4bec-9c59-b9f8fba67062}.\n",
      "INFO:root:Adding Stix-Entity {82e96101-8276-4e22-a3b6-f583285ce9f4} to Report {1f2cbc39-8893-4bec-9c59-b9f8fba67062}\n",
      "C:\\ProgramData\\Anaconda3\\lib\\site-packages\\ipykernel_launcher.py:300: DeprecationWarning: Call to deprecated method get_stix_domain_entity. (Replaced by the StixDomainEntity class in pycti) -- Deprecated since version 2.1.0.\n",
      "INFO:root:Reading Stix-Domain-Entity {22175c83-6fb7-4f81-b2e6-8e296a6ac451}.\n",
      "C:\\ProgramData\\Anaconda3\\lib\\site-packages\\ipykernel_launcher.py:303: DeprecationWarning: Call to deprecated method get_stix_domain_entity. (Replaced by the StixDomainEntity class in pycti) -- Deprecated since version 2.1.0.\n",
      "INFO:root:Reading Stix-Domain-Entity {b4a44dca-bd27-4047-adff-2a72b0b53107}.\n"
     ]
    },
    {
     "name": "stdout",
     "output_type": "stream",
     "text": [
      "22175c83-6fb7-4f81-b2e6-8e296a6ac451\n",
      "b4a44dca-bd27-4047-adff-2a72b0b53107\n"
     ]
    },
    {
     "name": "stderr",
     "output_type": "stream",
     "text": [
      "INFO:root:Listing stix_relations with {type: uses, from_id: 22175c83-6fb7-4f81-b2e6-8e296a6ac451, to_id: b4a44dca-bd27-4047-adff-2a72b0b53107}\n",
      "INFO:root:Reading Report {1f2cbc39-8893-4bec-9c59-b9f8fba67062}.\n",
      "INFO:root:Adding Stix-Entity {0669380e-276b-4b2a-9a02-92b8bb259d7a} to Report {1f2cbc39-8893-4bec-9c59-b9f8fba67062}\n",
      "C:\\ProgramData\\Anaconda3\\lib\\site-packages\\ipykernel_launcher.py:300: DeprecationWarning: Call to deprecated method get_stix_domain_entity. (Replaced by the StixDomainEntity class in pycti) -- Deprecated since version 2.1.0.\n",
      "INFO:root:Reading Stix-Domain-Entity {22175c83-6fb7-4f81-b2e6-8e296a6ac451}.\n",
      "C:\\ProgramData\\Anaconda3\\lib\\site-packages\\ipykernel_launcher.py:303: DeprecationWarning: Call to deprecated method get_stix_domain_entity. (Replaced by the StixDomainEntity class in pycti) -- Deprecated since version 2.1.0.\n",
      "INFO:root:Reading Stix-Domain-Entity {91115399-8fac-48f0-8877-aea1484a4dbd}.\n",
      "INFO:root:Listing stix_relations with {type: uses, from_id: 22175c83-6fb7-4f81-b2e6-8e296a6ac451, to_id: 91115399-8fac-48f0-8877-aea1484a4dbd}\n"
     ]
    },
    {
     "name": "stdout",
     "output_type": "stream",
     "text": [
      "22175c83-6fb7-4f81-b2e6-8e296a6ac451\n",
      "91115399-8fac-48f0-8877-aea1484a4dbd\n"
     ]
    },
    {
     "name": "stderr",
     "output_type": "stream",
     "text": [
      "INFO:root:Reading Report {1f2cbc39-8893-4bec-9c59-b9f8fba67062}.\n",
      "INFO:root:Adding Stix-Entity {40b85e3f-8239-4c10-9ac5-7ef0aa21f045} to Report {1f2cbc39-8893-4bec-9c59-b9f8fba67062}\n",
      "C:\\ProgramData\\Anaconda3\\lib\\site-packages\\ipykernel_launcher.py:300: DeprecationWarning: Call to deprecated method get_stix_domain_entity. (Replaced by the StixDomainEntity class in pycti) -- Deprecated since version 2.1.0.\n",
      "INFO:root:Reading Stix-Domain-Entity {22175c83-6fb7-4f81-b2e6-8e296a6ac451}.\n",
      "C:\\ProgramData\\Anaconda3\\lib\\site-packages\\ipykernel_launcher.py:303: DeprecationWarning: Call to deprecated method get_stix_domain_entity. (Replaced by the StixDomainEntity class in pycti) -- Deprecated since version 2.1.0.\n",
      "INFO:root:Reading Stix-Domain-Entity {c6cb1bb3-2902-45cc-93b4-83ceb1031509}.\n"
     ]
    },
    {
     "name": "stdout",
     "output_type": "stream",
     "text": [
      "22175c83-6fb7-4f81-b2e6-8e296a6ac451\n",
      "c6cb1bb3-2902-45cc-93b4-83ceb1031509\n"
     ]
    },
    {
     "name": "stderr",
     "output_type": "stream",
     "text": [
      "INFO:root:Listing stix_relations with {type: uses, from_id: 22175c83-6fb7-4f81-b2e6-8e296a6ac451, to_id: c6cb1bb3-2902-45cc-93b4-83ceb1031509}\n",
      "INFO:root:Reading Report {1f2cbc39-8893-4bec-9c59-b9f8fba67062}.\n",
      "INFO:root:Adding Stix-Entity {20f500c2-75e1-404b-a532-64c62107360d} to Report {1f2cbc39-8893-4bec-9c59-b9f8fba67062}\n",
      "C:\\ProgramData\\Anaconda3\\lib\\site-packages\\ipykernel_launcher.py:300: DeprecationWarning: Call to deprecated method get_stix_domain_entity. (Replaced by the StixDomainEntity class in pycti) -- Deprecated since version 2.1.0.\n",
      "INFO:root:Reading Stix-Domain-Entity {22175c83-6fb7-4f81-b2e6-8e296a6ac451}.\n",
      "C:\\ProgramData\\Anaconda3\\lib\\site-packages\\ipykernel_launcher.py:303: DeprecationWarning: Call to deprecated method get_stix_domain_entity. (Replaced by the StixDomainEntity class in pycti) -- Deprecated since version 2.1.0.\n",
      "INFO:root:Reading Stix-Domain-Entity {5ef8a53d-1e82-47b5-990e-2a0a46aa5e86}.\n"
     ]
    },
    {
     "name": "stdout",
     "output_type": "stream",
     "text": [
      "22175c83-6fb7-4f81-b2e6-8e296a6ac451\n",
      "5ef8a53d-1e82-47b5-990e-2a0a46aa5e86\n"
     ]
    },
    {
     "name": "stderr",
     "output_type": "stream",
     "text": [
      "INFO:root:Listing stix_relations with {type: uses, from_id: 22175c83-6fb7-4f81-b2e6-8e296a6ac451, to_id: 5ef8a53d-1e82-47b5-990e-2a0a46aa5e86}\n",
      "INFO:root:Reading Report {1f2cbc39-8893-4bec-9c59-b9f8fba67062}.\n",
      "INFO:root:Adding Stix-Entity {3d644de3-3849-467d-97e6-a1f86bc619d6} to Report {1f2cbc39-8893-4bec-9c59-b9f8fba67062}\n",
      "C:\\ProgramData\\Anaconda3\\lib\\site-packages\\ipykernel_launcher.py:300: DeprecationWarning: Call to deprecated method get_stix_domain_entity. (Replaced by the StixDomainEntity class in pycti) -- Deprecated since version 2.1.0.\n",
      "INFO:root:Reading Stix-Domain-Entity {22175c83-6fb7-4f81-b2e6-8e296a6ac451}.\n",
      "C:\\ProgramData\\Anaconda3\\lib\\site-packages\\ipykernel_launcher.py:303: DeprecationWarning: Call to deprecated method get_stix_domain_entity. (Replaced by the StixDomainEntity class in pycti) -- Deprecated since version 2.1.0.\n",
      "INFO:root:Reading Stix-Domain-Entity {9247f9bc-4811-4c37-8b80-f8f13a57b14a}.\n"
     ]
    },
    {
     "name": "stdout",
     "output_type": "stream",
     "text": [
      "22175c83-6fb7-4f81-b2e6-8e296a6ac451\n",
      "9247f9bc-4811-4c37-8b80-f8f13a57b14a\n"
     ]
    },
    {
     "name": "stderr",
     "output_type": "stream",
     "text": [
      "INFO:root:Listing stix_relations with {type: uses, from_id: 22175c83-6fb7-4f81-b2e6-8e296a6ac451, to_id: 9247f9bc-4811-4c37-8b80-f8f13a57b14a}\n",
      "INFO:root:Reading Report {1f2cbc39-8893-4bec-9c59-b9f8fba67062}.\n",
      "INFO:root:Adding Stix-Entity {1eff06ff-267b-4e36-904f-4f639c917300} to Report {1f2cbc39-8893-4bec-9c59-b9f8fba67062}\n",
      "C:\\ProgramData\\Anaconda3\\lib\\site-packages\\ipykernel_launcher.py:300: DeprecationWarning: Call to deprecated method get_stix_domain_entity. (Replaced by the StixDomainEntity class in pycti) -- Deprecated since version 2.1.0.\n",
      "INFO:root:Reading Stix-Domain-Entity {22175c83-6fb7-4f81-b2e6-8e296a6ac451}.\n",
      "C:\\ProgramData\\Anaconda3\\lib\\site-packages\\ipykernel_launcher.py:303: DeprecationWarning: Call to deprecated method get_stix_domain_entity. (Replaced by the StixDomainEntity class in pycti) -- Deprecated since version 2.1.0.\n",
      "INFO:root:Reading Stix-Domain-Entity {f119b741-c310-42ca-8297-1e8b7c9bada4}.\n",
      "INFO:root:Listing stix_relations with {type: uses, from_id: 22175c83-6fb7-4f81-b2e6-8e296a6ac451, to_id: f119b741-c310-42ca-8297-1e8b7c9bada4}\n"
     ]
    },
    {
     "name": "stdout",
     "output_type": "stream",
     "text": [
      "22175c83-6fb7-4f81-b2e6-8e296a6ac451\n",
      "f119b741-c310-42ca-8297-1e8b7c9bada4\n"
     ]
    },
    {
     "name": "stderr",
     "output_type": "stream",
     "text": [
      "INFO:root:Reading Report {1f2cbc39-8893-4bec-9c59-b9f8fba67062}.\n",
      "INFO:root:Adding Stix-Entity {8e788e7e-fd53-4d3f-bb67-382708c17f64} to Report {1f2cbc39-8893-4bec-9c59-b9f8fba67062}\n",
      "C:\\ProgramData\\Anaconda3\\lib\\site-packages\\ipykernel_launcher.py:300: DeprecationWarning: Call to deprecated method get_stix_domain_entity. (Replaced by the StixDomainEntity class in pycti) -- Deprecated since version 2.1.0.\n",
      "INFO:root:Reading Stix-Domain-Entity {22175c83-6fb7-4f81-b2e6-8e296a6ac451}.\n",
      "C:\\ProgramData\\Anaconda3\\lib\\site-packages\\ipykernel_launcher.py:303: DeprecationWarning: Call to deprecated method get_stix_domain_entity. (Replaced by the StixDomainEntity class in pycti) -- Deprecated since version 2.1.0.\n",
      "INFO:root:Reading Stix-Domain-Entity {cc6169cb-76f8-45bc-af0d-7b593c0496bb}.\n",
      "INFO:root:Listing stix_relations with {type: uses, from_id: 22175c83-6fb7-4f81-b2e6-8e296a6ac451, to_id: cc6169cb-76f8-45bc-af0d-7b593c0496bb}\n"
     ]
    },
    {
     "name": "stdout",
     "output_type": "stream",
     "text": [
      "22175c83-6fb7-4f81-b2e6-8e296a6ac451\n",
      "cc6169cb-76f8-45bc-af0d-7b593c0496bb\n"
     ]
    },
    {
     "name": "stderr",
     "output_type": "stream",
     "text": [
      "INFO:root:Reading Report {1f2cbc39-8893-4bec-9c59-b9f8fba67062}.\n",
      "INFO:root:Adding Stix-Entity {c1cd16b7-31d4-4b5b-9ec9-6cd86c93b24e} to Report {1f2cbc39-8893-4bec-9c59-b9f8fba67062}\n",
      "C:\\ProgramData\\Anaconda3\\lib\\site-packages\\ipykernel_launcher.py:300: DeprecationWarning: Call to deprecated method get_stix_domain_entity. (Replaced by the StixDomainEntity class in pycti) -- Deprecated since version 2.1.0.\n",
      "INFO:root:Reading Stix-Domain-Entity {22175c83-6fb7-4f81-b2e6-8e296a6ac451}.\n",
      "C:\\ProgramData\\Anaconda3\\lib\\site-packages\\ipykernel_launcher.py:303: DeprecationWarning: Call to deprecated method get_stix_domain_entity. (Replaced by the StixDomainEntity class in pycti) -- Deprecated since version 2.1.0.\n",
      "INFO:root:Reading Stix-Domain-Entity {aaf9cc50-5384-45df-b184-2d6048f4ecdd}.\n"
     ]
    },
    {
     "name": "stdout",
     "output_type": "stream",
     "text": [
      "22175c83-6fb7-4f81-b2e6-8e296a6ac451\n",
      "aaf9cc50-5384-45df-b184-2d6048f4ecdd\n"
     ]
    },
    {
     "name": "stderr",
     "output_type": "stream",
     "text": [
      "INFO:root:Listing stix_relations with {type: uses, from_id: 22175c83-6fb7-4f81-b2e6-8e296a6ac451, to_id: aaf9cc50-5384-45df-b184-2d6048f4ecdd}\n",
      "INFO:root:Reading Report {1f2cbc39-8893-4bec-9c59-b9f8fba67062}.\n",
      "INFO:root:Adding Stix-Entity {86aef7e0-41a2-46ff-8f8b-9b4a8a4d2268} to Report {1f2cbc39-8893-4bec-9c59-b9f8fba67062}\n",
      "C:\\ProgramData\\Anaconda3\\lib\\site-packages\\ipykernel_launcher.py:300: DeprecationWarning: Call to deprecated method get_stix_domain_entity. (Replaced by the StixDomainEntity class in pycti) -- Deprecated since version 2.1.0.\n",
      "INFO:root:Reading Stix-Domain-Entity {22175c83-6fb7-4f81-b2e6-8e296a6ac451}.\n",
      "C:\\ProgramData\\Anaconda3\\lib\\site-packages\\ipykernel_launcher.py:303: DeprecationWarning: Call to deprecated method get_stix_domain_entity. (Replaced by the StixDomainEntity class in pycti) -- Deprecated since version 2.1.0.\n",
      "INFO:root:Reading Stix-Domain-Entity {beb1cad9-016f-49c5-ad3c-f23bff549ff2}.\n",
      "INFO:root:Listing stix_relations with {type: uses, from_id: 22175c83-6fb7-4f81-b2e6-8e296a6ac451, to_id: beb1cad9-016f-49c5-ad3c-f23bff549ff2}\n"
     ]
    },
    {
     "name": "stdout",
     "output_type": "stream",
     "text": [
      "22175c83-6fb7-4f81-b2e6-8e296a6ac451\n",
      "beb1cad9-016f-49c5-ad3c-f23bff549ff2\n"
     ]
    },
    {
     "name": "stderr",
     "output_type": "stream",
     "text": [
      "INFO:root:Reading Report {1f2cbc39-8893-4bec-9c59-b9f8fba67062}.\n",
      "INFO:root:Adding Stix-Entity {762601b2-0b73-40c6-99af-34a52fa79607} to Report {1f2cbc39-8893-4bec-9c59-b9f8fba67062}\n",
      "C:\\ProgramData\\Anaconda3\\lib\\site-packages\\ipykernel_launcher.py:300: DeprecationWarning: Call to deprecated method get_stix_domain_entity. (Replaced by the StixDomainEntity class in pycti) -- Deprecated since version 2.1.0.\n",
      "INFO:root:Reading Stix-Domain-Entity {22175c83-6fb7-4f81-b2e6-8e296a6ac451}.\n",
      "C:\\ProgramData\\Anaconda3\\lib\\site-packages\\ipykernel_launcher.py:303: DeprecationWarning: Call to deprecated method get_stix_domain_entity. (Replaced by the StixDomainEntity class in pycti) -- Deprecated since version 2.1.0.\n",
      "INFO:root:Reading Stix-Domain-Entity {b7be70f8-662e-411d-bdf0-8b573530d967}.\n",
      "INFO:root:Listing stix_relations with {type: uses, from_id: 22175c83-6fb7-4f81-b2e6-8e296a6ac451, to_id: b7be70f8-662e-411d-bdf0-8b573530d967}\n"
     ]
    },
    {
     "name": "stdout",
     "output_type": "stream",
     "text": [
      "22175c83-6fb7-4f81-b2e6-8e296a6ac451\n",
      "b7be70f8-662e-411d-bdf0-8b573530d967\n"
     ]
    },
    {
     "name": "stderr",
     "output_type": "stream",
     "text": [
      "INFO:root:Reading Report {1f2cbc39-8893-4bec-9c59-b9f8fba67062}.\n",
      "INFO:root:Adding Stix-Entity {620257a0-f343-4c59-8c1e-d77237a07801} to Report {1f2cbc39-8893-4bec-9c59-b9f8fba67062}\n",
      "C:\\ProgramData\\Anaconda3\\lib\\site-packages\\ipykernel_launcher.py:300: DeprecationWarning: Call to deprecated method get_stix_domain_entity. (Replaced by the StixDomainEntity class in pycti) -- Deprecated since version 2.1.0.\n",
      "INFO:root:Reading Stix-Domain-Entity {22175c83-6fb7-4f81-b2e6-8e296a6ac451}.\n",
      "C:\\ProgramData\\Anaconda3\\lib\\site-packages\\ipykernel_launcher.py:303: DeprecationWarning: Call to deprecated method get_stix_domain_entity. (Replaced by the StixDomainEntity class in pycti) -- Deprecated since version 2.1.0.\n",
      "INFO:root:Reading Stix-Domain-Entity {58eacb3e-a736-41c8-ba57-9328e4adbca5}.\n"
     ]
    },
    {
     "name": "stdout",
     "output_type": "stream",
     "text": [
      "22175c83-6fb7-4f81-b2e6-8e296a6ac451\n",
      "58eacb3e-a736-41c8-ba57-9328e4adbca5\n"
     ]
    },
    {
     "name": "stderr",
     "output_type": "stream",
     "text": [
      "INFO:root:Listing stix_relations with {type: uses, from_id: 22175c83-6fb7-4f81-b2e6-8e296a6ac451, to_id: 58eacb3e-a736-41c8-ba57-9328e4adbca5}\n",
      "INFO:root:Reading Report {1f2cbc39-8893-4bec-9c59-b9f8fba67062}.\n",
      "INFO:root:Adding Stix-Entity {0b912956-0268-43ea-a6d8-f2daea00a2fc} to Report {1f2cbc39-8893-4bec-9c59-b9f8fba67062}\n",
      "C:\\ProgramData\\Anaconda3\\lib\\site-packages\\ipykernel_launcher.py:300: DeprecationWarning: Call to deprecated method get_stix_domain_entity. (Replaced by the StixDomainEntity class in pycti) -- Deprecated since version 2.1.0.\n",
      "INFO:root:Reading Stix-Domain-Entity {22175c83-6fb7-4f81-b2e6-8e296a6ac451}.\n",
      "C:\\ProgramData\\Anaconda3\\lib\\site-packages\\ipykernel_launcher.py:303: DeprecationWarning: Call to deprecated method get_stix_domain_entity. (Replaced by the StixDomainEntity class in pycti) -- Deprecated since version 2.1.0.\n",
      "INFO:root:Reading Stix-Domain-Entity {e0e7107f-4b5c-4238-9742-9922329b343f}.\n",
      "INFO:root:Listing stix_relations with {type: uses, from_id: 22175c83-6fb7-4f81-b2e6-8e296a6ac451, to_id: e0e7107f-4b5c-4238-9742-9922329b343f}\n"
     ]
    },
    {
     "name": "stdout",
     "output_type": "stream",
     "text": [
      "22175c83-6fb7-4f81-b2e6-8e296a6ac451\n",
      "e0e7107f-4b5c-4238-9742-9922329b343f\n"
     ]
    },
    {
     "name": "stderr",
     "output_type": "stream",
     "text": [
      "INFO:root:Reading Report {1f2cbc39-8893-4bec-9c59-b9f8fba67062}.\n",
      "INFO:root:Adding Stix-Entity {1d24261c-ae34-412a-b081-eaec2a24a3d0} to Report {1f2cbc39-8893-4bec-9c59-b9f8fba67062}\n",
      "C:\\ProgramData\\Anaconda3\\lib\\site-packages\\ipykernel_launcher.py:300: DeprecationWarning: Call to deprecated method get_stix_domain_entity. (Replaced by the StixDomainEntity class in pycti) -- Deprecated since version 2.1.0.\n",
      "INFO:root:Reading Stix-Domain-Entity {22175c83-6fb7-4f81-b2e6-8e296a6ac451}.\n",
      "C:\\ProgramData\\Anaconda3\\lib\\site-packages\\ipykernel_launcher.py:303: DeprecationWarning: Call to deprecated method get_stix_domain_entity. (Replaced by the StixDomainEntity class in pycti) -- Deprecated since version 2.1.0.\n",
      "INFO:root:Reading Stix-Domain-Entity {6a186439-adac-4416-94a2-fcd101a67bef}.\n",
      "INFO:root:Listing stix_relations with {type: uses, from_id: 22175c83-6fb7-4f81-b2e6-8e296a6ac451, to_id: 6a186439-adac-4416-94a2-fcd101a67bef}\n"
     ]
    },
    {
     "name": "stdout",
     "output_type": "stream",
     "text": [
      "22175c83-6fb7-4f81-b2e6-8e296a6ac451\n",
      "6a186439-adac-4416-94a2-fcd101a67bef\n"
     ]
    },
    {
     "name": "stderr",
     "output_type": "stream",
     "text": [
      "INFO:root:Reading Report {1f2cbc39-8893-4bec-9c59-b9f8fba67062}.\n",
      "INFO:root:Adding Stix-Entity {6f9db8f7-c53e-41ac-b777-14fb6f663763} to Report {1f2cbc39-8893-4bec-9c59-b9f8fba67062}\n",
      "C:\\ProgramData\\Anaconda3\\lib\\site-packages\\ipykernel_launcher.py:300: DeprecationWarning: Call to deprecated method get_stix_domain_entity. (Replaced by the StixDomainEntity class in pycti) -- Deprecated since version 2.1.0.\n",
      "INFO:root:Reading Stix-Domain-Entity {22175c83-6fb7-4f81-b2e6-8e296a6ac451}.\n",
      "C:\\ProgramData\\Anaconda3\\lib\\site-packages\\ipykernel_launcher.py:303: DeprecationWarning: Call to deprecated method get_stix_domain_entity. (Replaced by the StixDomainEntity class in pycti) -- Deprecated since version 2.1.0.\n",
      "INFO:root:Reading Stix-Domain-Entity {5c60fe15-cbc3-4135-bc56-52387e7c1457}.\n",
      "INFO:root:Listing stix_relations with {type: uses, from_id: 22175c83-6fb7-4f81-b2e6-8e296a6ac451, to_id: 5c60fe15-cbc3-4135-bc56-52387e7c1457}\n"
     ]
    },
    {
     "name": "stdout",
     "output_type": "stream",
     "text": [
      "22175c83-6fb7-4f81-b2e6-8e296a6ac451\n",
      "5c60fe15-cbc3-4135-bc56-52387e7c1457\n"
     ]
    },
    {
     "name": "stderr",
     "output_type": "stream",
     "text": [
      "INFO:root:Reading Report {1f2cbc39-8893-4bec-9c59-b9f8fba67062}.\n",
      "INFO:root:Adding Stix-Entity {528c86fb-c33c-4259-adaa-5b057417363f} to Report {1f2cbc39-8893-4bec-9c59-b9f8fba67062}\n",
      "C:\\ProgramData\\Anaconda3\\lib\\site-packages\\ipykernel_launcher.py:300: DeprecationWarning: Call to deprecated method get_stix_domain_entity. (Replaced by the StixDomainEntity class in pycti) -- Deprecated since version 2.1.0.\n",
      "INFO:root:Reading Stix-Domain-Entity {22175c83-6fb7-4f81-b2e6-8e296a6ac451}.\n",
      "C:\\ProgramData\\Anaconda3\\lib\\site-packages\\ipykernel_launcher.py:303: DeprecationWarning: Call to deprecated method get_stix_domain_entity. (Replaced by the StixDomainEntity class in pycti) -- Deprecated since version 2.1.0.\n",
      "INFO:root:Reading Stix-Domain-Entity {522a0990-7258-44fe-be11-dbbea1275883}.\n"
     ]
    },
    {
     "name": "stdout",
     "output_type": "stream",
     "text": [
      "22175c83-6fb7-4f81-b2e6-8e296a6ac451\n",
      "522a0990-7258-44fe-be11-dbbea1275883\n"
     ]
    },
    {
     "name": "stderr",
     "output_type": "stream",
     "text": [
      "INFO:root:Listing stix_relations with {type: uses, from_id: 22175c83-6fb7-4f81-b2e6-8e296a6ac451, to_id: 522a0990-7258-44fe-be11-dbbea1275883}\n",
      "INFO:root:Reading Report {1f2cbc39-8893-4bec-9c59-b9f8fba67062}.\n",
      "INFO:root:Adding Stix-Entity {8127d0e8-d27b-4937-a5ce-3540e7083f5e} to Report {1f2cbc39-8893-4bec-9c59-b9f8fba67062}\n",
      "C:\\ProgramData\\Anaconda3\\lib\\site-packages\\ipykernel_launcher.py:300: DeprecationWarning: Call to deprecated method get_stix_domain_entity. (Replaced by the StixDomainEntity class in pycti) -- Deprecated since version 2.1.0.\n",
      "INFO:root:Reading Stix-Domain-Entity {22175c83-6fb7-4f81-b2e6-8e296a6ac451}.\n",
      "C:\\ProgramData\\Anaconda3\\lib\\site-packages\\ipykernel_launcher.py:303: DeprecationWarning: Call to deprecated method get_stix_domain_entity. (Replaced by the StixDomainEntity class in pycti) -- Deprecated since version 2.1.0.\n",
      "INFO:root:Reading Stix-Domain-Entity {65e096e1-3467-4bd5-a574-9a475701fbdb}.\n"
     ]
    },
    {
     "name": "stdout",
     "output_type": "stream",
     "text": [
      "22175c83-6fb7-4f81-b2e6-8e296a6ac451\n",
      "65e096e1-3467-4bd5-a574-9a475701fbdb\n"
     ]
    },
    {
     "name": "stderr",
     "output_type": "stream",
     "text": [
      "INFO:root:Listing stix_relations with {type: uses, from_id: 22175c83-6fb7-4f81-b2e6-8e296a6ac451, to_id: 65e096e1-3467-4bd5-a574-9a475701fbdb}\n",
      "INFO:root:Reading Report {1f2cbc39-8893-4bec-9c59-b9f8fba67062}.\n",
      "INFO:root:Adding Stix-Entity {6539eb9b-710d-4477-bd76-13fe35715fa1} to Report {1f2cbc39-8893-4bec-9c59-b9f8fba67062}\n",
      "C:\\ProgramData\\Anaconda3\\lib\\site-packages\\ipykernel_launcher.py:300: DeprecationWarning: Call to deprecated method get_stix_domain_entity. (Replaced by the StixDomainEntity class in pycti) -- Deprecated since version 2.1.0.\n",
      "INFO:root:Reading Stix-Domain-Entity {22175c83-6fb7-4f81-b2e6-8e296a6ac451}.\n",
      "C:\\ProgramData\\Anaconda3\\lib\\site-packages\\ipykernel_launcher.py:303: DeprecationWarning: Call to deprecated method get_stix_domain_entity. (Replaced by the StixDomainEntity class in pycti) -- Deprecated since version 2.1.0.\n",
      "INFO:root:Reading Stix-Domain-Entity {a66f1395-d712-4bb0-a268-5547d454dd0f}.\n",
      "INFO:root:Listing stix_relations with {type: uses, from_id: 22175c83-6fb7-4f81-b2e6-8e296a6ac451, to_id: a66f1395-d712-4bb0-a268-5547d454dd0f}\n"
     ]
    },
    {
     "name": "stdout",
     "output_type": "stream",
     "text": [
      "22175c83-6fb7-4f81-b2e6-8e296a6ac451\n",
      "a66f1395-d712-4bb0-a268-5547d454dd0f\n"
     ]
    },
    {
     "name": "stderr",
     "output_type": "stream",
     "text": [
      "INFO:root:Reading Report {1f2cbc39-8893-4bec-9c59-b9f8fba67062}.\n",
      "INFO:root:Adding Stix-Entity {ac35c7cd-c8a6-4c44-881e-3e9156eb443f} to Report {1f2cbc39-8893-4bec-9c59-b9f8fba67062}\n",
      "C:\\ProgramData\\Anaconda3\\lib\\site-packages\\ipykernel_launcher.py:300: DeprecationWarning: Call to deprecated method get_stix_domain_entity. (Replaced by the StixDomainEntity class in pycti) -- Deprecated since version 2.1.0.\n",
      "INFO:root:Reading Stix-Domain-Entity {22175c83-6fb7-4f81-b2e6-8e296a6ac451}.\n",
      "C:\\ProgramData\\Anaconda3\\lib\\site-packages\\ipykernel_launcher.py:303: DeprecationWarning: Call to deprecated method get_stix_domain_entity. (Replaced by the StixDomainEntity class in pycti) -- Deprecated since version 2.1.0.\n",
      "INFO:root:Reading Stix-Domain-Entity {e61a95eb-d86f-400a-885d-f6895ede1327}.\n"
     ]
    },
    {
     "name": "stdout",
     "output_type": "stream",
     "text": [
      "22175c83-6fb7-4f81-b2e6-8e296a6ac451\n",
      "e61a95eb-d86f-400a-885d-f6895ede1327\n"
     ]
    },
    {
     "name": "stderr",
     "output_type": "stream",
     "text": [
      "INFO:root:Listing stix_relations with {type: uses, from_id: 22175c83-6fb7-4f81-b2e6-8e296a6ac451, to_id: e61a95eb-d86f-400a-885d-f6895ede1327}\n",
      "INFO:root:Reading Report {1f2cbc39-8893-4bec-9c59-b9f8fba67062}.\n",
      "INFO:root:Adding Stix-Entity {75e69c2e-4622-40e8-9abd-550b073ffa4d} to Report {1f2cbc39-8893-4bec-9c59-b9f8fba67062}\n",
      "C:\\ProgramData\\Anaconda3\\lib\\site-packages\\ipykernel_launcher.py:300: DeprecationWarning: Call to deprecated method get_stix_domain_entity. (Replaced by the StixDomainEntity class in pycti) -- Deprecated since version 2.1.0.\n",
      "INFO:root:Reading Stix-Domain-Entity {22175c83-6fb7-4f81-b2e6-8e296a6ac451}.\n",
      "C:\\ProgramData\\Anaconda3\\lib\\site-packages\\ipykernel_launcher.py:303: DeprecationWarning: Call to deprecated method get_stix_domain_entity. (Replaced by the StixDomainEntity class in pycti) -- Deprecated since version 2.1.0.\n",
      "INFO:root:Reading Stix-Domain-Entity {f76a44e3-4503-48f7-b5e8-cf83bcd6cf83}.\n"
     ]
    },
    {
     "name": "stdout",
     "output_type": "stream",
     "text": [
      "22175c83-6fb7-4f81-b2e6-8e296a6ac451\n",
      "f76a44e3-4503-48f7-b5e8-cf83bcd6cf83\n"
     ]
    },
    {
     "name": "stderr",
     "output_type": "stream",
     "text": [
      "INFO:root:Listing stix_relations with {type: uses, from_id: 22175c83-6fb7-4f81-b2e6-8e296a6ac451, to_id: f76a44e3-4503-48f7-b5e8-cf83bcd6cf83}\n",
      "INFO:root:Reading Report {1f2cbc39-8893-4bec-9c59-b9f8fba67062}.\n",
      "INFO:root:Adding Stix-Entity {af58b1f6-ba5b-4cea-8af5-0243be8c1928} to Report {1f2cbc39-8893-4bec-9c59-b9f8fba67062}\n",
      "C:\\ProgramData\\Anaconda3\\lib\\site-packages\\ipykernel_launcher.py:300: DeprecationWarning: Call to deprecated method get_stix_domain_entity. (Replaced by the StixDomainEntity class in pycti) -- Deprecated since version 2.1.0.\n",
      "INFO:root:Reading Stix-Domain-Entity {22175c83-6fb7-4f81-b2e6-8e296a6ac451}.\n",
      "C:\\ProgramData\\Anaconda3\\lib\\site-packages\\ipykernel_launcher.py:303: DeprecationWarning: Call to deprecated method get_stix_domain_entity. (Replaced by the StixDomainEntity class in pycti) -- Deprecated since version 2.1.0.\n",
      "INFO:root:Reading Stix-Domain-Entity {de251092-8d94-428a-b26d-713b96658a46}.\n"
     ]
    },
    {
     "name": "stdout",
     "output_type": "stream",
     "text": [
      "22175c83-6fb7-4f81-b2e6-8e296a6ac451\n",
      "de251092-8d94-428a-b26d-713b96658a46\n"
     ]
    },
    {
     "name": "stderr",
     "output_type": "stream",
     "text": [
      "INFO:root:Listing stix_relations with {type: uses, from_id: 22175c83-6fb7-4f81-b2e6-8e296a6ac451, to_id: de251092-8d94-428a-b26d-713b96658a46}\n",
      "INFO:root:Reading Report {1f2cbc39-8893-4bec-9c59-b9f8fba67062}.\n",
      "INFO:root:Adding Stix-Entity {e0b23e5e-a254-4984-b2d4-dbf389002d90} to Report {1f2cbc39-8893-4bec-9c59-b9f8fba67062}\n",
      "C:\\ProgramData\\Anaconda3\\lib\\site-packages\\ipykernel_launcher.py:300: DeprecationWarning: Call to deprecated method get_stix_domain_entity. (Replaced by the StixDomainEntity class in pycti) -- Deprecated since version 2.1.0.\n",
      "INFO:root:Reading Stix-Domain-Entity {22175c83-6fb7-4f81-b2e6-8e296a6ac451}.\n",
      "C:\\ProgramData\\Anaconda3\\lib\\site-packages\\ipykernel_launcher.py:303: DeprecationWarning: Call to deprecated method get_stix_domain_entity. (Replaced by the StixDomainEntity class in pycti) -- Deprecated since version 2.1.0.\n",
      "INFO:root:Reading Stix-Domain-Entity {7c30bee8-9d28-40ff-a89d-e7b9ba12038a}.\n"
     ]
    },
    {
     "name": "stdout",
     "output_type": "stream",
     "text": [
      "22175c83-6fb7-4f81-b2e6-8e296a6ac451\n",
      "7c30bee8-9d28-40ff-a89d-e7b9ba12038a\n"
     ]
    },
    {
     "name": "stderr",
     "output_type": "stream",
     "text": [
      "INFO:root:Listing stix_relations with {type: uses, from_id: 22175c83-6fb7-4f81-b2e6-8e296a6ac451, to_id: 7c30bee8-9d28-40ff-a89d-e7b9ba12038a}\n",
      "INFO:root:Reading Report {1f2cbc39-8893-4bec-9c59-b9f8fba67062}.\n",
      "INFO:root:Adding Stix-Entity {97ec894b-5555-4203-b3e3-9c145c870a8c} to Report {1f2cbc39-8893-4bec-9c59-b9f8fba67062}\n",
      "C:\\ProgramData\\Anaconda3\\lib\\site-packages\\ipykernel_launcher.py:300: DeprecationWarning: Call to deprecated method get_stix_domain_entity. (Replaced by the StixDomainEntity class in pycti) -- Deprecated since version 2.1.0.\n",
      "INFO:root:Reading Stix-Domain-Entity {22175c83-6fb7-4f81-b2e6-8e296a6ac451}.\n",
      "C:\\ProgramData\\Anaconda3\\lib\\site-packages\\ipykernel_launcher.py:303: DeprecationWarning: Call to deprecated method get_stix_domain_entity. (Replaced by the StixDomainEntity class in pycti) -- Deprecated since version 2.1.0.\n",
      "INFO:root:Reading Stix-Domain-Entity {98fd75a1-aca9-4b77-9db8-6c6a10e30246}.\n"
     ]
    },
    {
     "name": "stdout",
     "output_type": "stream",
     "text": [
      "22175c83-6fb7-4f81-b2e6-8e296a6ac451\n",
      "98fd75a1-aca9-4b77-9db8-6c6a10e30246\n"
     ]
    },
    {
     "name": "stderr",
     "output_type": "stream",
     "text": [
      "INFO:root:Listing stix_relations with {type: uses, from_id: 22175c83-6fb7-4f81-b2e6-8e296a6ac451, to_id: 98fd75a1-aca9-4b77-9db8-6c6a10e30246}\n",
      "INFO:root:Reading Report {1f2cbc39-8893-4bec-9c59-b9f8fba67062}.\n",
      "INFO:root:Adding Stix-Entity {7db233c5-3881-4e89-ba3f-a0bed5d0baa1} to Report {1f2cbc39-8893-4bec-9c59-b9f8fba67062}\n",
      "C:\\ProgramData\\Anaconda3\\lib\\site-packages\\ipykernel_launcher.py:300: DeprecationWarning: Call to deprecated method get_stix_domain_entity. (Replaced by the StixDomainEntity class in pycti) -- Deprecated since version 2.1.0.\n",
      "INFO:root:Reading Stix-Domain-Entity {22175c83-6fb7-4f81-b2e6-8e296a6ac451}.\n",
      "C:\\ProgramData\\Anaconda3\\lib\\site-packages\\ipykernel_launcher.py:303: DeprecationWarning: Call to deprecated method get_stix_domain_entity. (Replaced by the StixDomainEntity class in pycti) -- Deprecated since version 2.1.0.\n",
      "INFO:root:Reading Stix-Domain-Entity {e44a1c10-d1d2-4ee6-848a-5ae77128aec0}.\n"
     ]
    },
    {
     "name": "stdout",
     "output_type": "stream",
     "text": [
      "22175c83-6fb7-4f81-b2e6-8e296a6ac451\n",
      "e44a1c10-d1d2-4ee6-848a-5ae77128aec0\n"
     ]
    },
    {
     "name": "stderr",
     "output_type": "stream",
     "text": [
      "INFO:root:Listing stix_relations with {type: uses, from_id: 22175c83-6fb7-4f81-b2e6-8e296a6ac451, to_id: e44a1c10-d1d2-4ee6-848a-5ae77128aec0}\n",
      "INFO:root:Reading Report {1f2cbc39-8893-4bec-9c59-b9f8fba67062}.\n",
      "INFO:root:Adding Stix-Entity {c6278858-7067-4892-b393-ef95290d337d} to Report {1f2cbc39-8893-4bec-9c59-b9f8fba67062}\n",
      "C:\\ProgramData\\Anaconda3\\lib\\site-packages\\ipykernel_launcher.py:300: DeprecationWarning: Call to deprecated method get_stix_domain_entity. (Replaced by the StixDomainEntity class in pycti) -- Deprecated since version 2.1.0.\n",
      "INFO:root:Reading Stix-Domain-Entity {22175c83-6fb7-4f81-b2e6-8e296a6ac451}.\n",
      "C:\\ProgramData\\Anaconda3\\lib\\site-packages\\ipykernel_launcher.py:303: DeprecationWarning: Call to deprecated method get_stix_domain_entity. (Replaced by the StixDomainEntity class in pycti) -- Deprecated since version 2.1.0.\n",
      "INFO:root:Reading Stix-Domain-Entity {2fbbe108-832e-4454-8bc6-d4e4f682b70b}.\n"
     ]
    },
    {
     "name": "stdout",
     "output_type": "stream",
     "text": [
      "22175c83-6fb7-4f81-b2e6-8e296a6ac451\n",
      "2fbbe108-832e-4454-8bc6-d4e4f682b70b\n"
     ]
    },
    {
     "name": "stderr",
     "output_type": "stream",
     "text": [
      "INFO:root:Listing stix_relations with {type: uses, from_id: 22175c83-6fb7-4f81-b2e6-8e296a6ac451, to_id: 2fbbe108-832e-4454-8bc6-d4e4f682b70b}\n",
      "INFO:root:Reading Report {1f2cbc39-8893-4bec-9c59-b9f8fba67062}.\n",
      "INFO:root:Adding Stix-Entity {16413bc4-7502-4a98-aafe-1eb44348ef91} to Report {1f2cbc39-8893-4bec-9c59-b9f8fba67062}\n",
      "C:\\ProgramData\\Anaconda3\\lib\\site-packages\\ipykernel_launcher.py:300: DeprecationWarning: Call to deprecated method get_stix_domain_entity. (Replaced by the StixDomainEntity class in pycti) -- Deprecated since version 2.1.0.\n",
      "INFO:root:Reading Stix-Domain-Entity {22175c83-6fb7-4f81-b2e6-8e296a6ac451}.\n",
      "C:\\ProgramData\\Anaconda3\\lib\\site-packages\\ipykernel_launcher.py:303: DeprecationWarning: Call to deprecated method get_stix_domain_entity. (Replaced by the StixDomainEntity class in pycti) -- Deprecated since version 2.1.0.\n",
      "INFO:root:Reading Stix-Domain-Entity {83a6e868-6791-4a58-a658-646d271c49c6}.\n",
      "INFO:root:Listing stix_relations with {type: uses, from_id: 22175c83-6fb7-4f81-b2e6-8e296a6ac451, to_id: 83a6e868-6791-4a58-a658-646d271c49c6}\n"
     ]
    },
    {
     "name": "stdout",
     "output_type": "stream",
     "text": [
      "22175c83-6fb7-4f81-b2e6-8e296a6ac451\n",
      "83a6e868-6791-4a58-a658-646d271c49c6\n"
     ]
    },
    {
     "name": "stderr",
     "output_type": "stream",
     "text": [
      "INFO:root:Reading Report {1f2cbc39-8893-4bec-9c59-b9f8fba67062}.\n",
      "INFO:root:Adding Stix-Entity {79107150-873f-400d-ac91-c8c1b3b71da1} to Report {1f2cbc39-8893-4bec-9c59-b9f8fba67062}\n",
      "C:\\ProgramData\\Anaconda3\\lib\\site-packages\\ipykernel_launcher.py:300: DeprecationWarning: Call to deprecated method get_stix_domain_entity. (Replaced by the StixDomainEntity class in pycti) -- Deprecated since version 2.1.0.\n",
      "INFO:root:Reading Stix-Domain-Entity {22175c83-6fb7-4f81-b2e6-8e296a6ac451}.\n",
      "C:\\ProgramData\\Anaconda3\\lib\\site-packages\\ipykernel_launcher.py:303: DeprecationWarning: Call to deprecated method get_stix_domain_entity. (Replaced by the StixDomainEntity class in pycti) -- Deprecated since version 2.1.0.\n",
      "INFO:root:Reading Stix-Domain-Entity {020f02e8-75d1-4527-8000-19fcf34a2b1c}.\n"
     ]
    },
    {
     "name": "stdout",
     "output_type": "stream",
     "text": [
      "22175c83-6fb7-4f81-b2e6-8e296a6ac451\n",
      "020f02e8-75d1-4527-8000-19fcf34a2b1c\n"
     ]
    },
    {
     "name": "stderr",
     "output_type": "stream",
     "text": [
      "INFO:root:Listing stix_relations with {type: uses, from_id: 22175c83-6fb7-4f81-b2e6-8e296a6ac451, to_id: 020f02e8-75d1-4527-8000-19fcf34a2b1c}\n",
      "INFO:root:Reading Report {1f2cbc39-8893-4bec-9c59-b9f8fba67062}.\n",
      "INFO:root:Adding Stix-Entity {e998e676-752b-48e3-8ae8-d8c90af60f66} to Report {1f2cbc39-8893-4bec-9c59-b9f8fba67062}\n",
      "C:\\ProgramData\\Anaconda3\\lib\\site-packages\\ipykernel_launcher.py:300: DeprecationWarning: Call to deprecated method get_stix_domain_entity. (Replaced by the StixDomainEntity class in pycti) -- Deprecated since version 2.1.0.\n",
      "INFO:root:Reading Stix-Domain-Entity {22175c83-6fb7-4f81-b2e6-8e296a6ac451}.\n",
      "C:\\ProgramData\\Anaconda3\\lib\\site-packages\\ipykernel_launcher.py:303: DeprecationWarning: Call to deprecated method get_stix_domain_entity. (Replaced by the StixDomainEntity class in pycti) -- Deprecated since version 2.1.0.\n",
      "INFO:root:Reading Stix-Domain-Entity {a5f70f2f-52d3-4412-abd9-b77276de4887}.\n"
     ]
    },
    {
     "name": "stdout",
     "output_type": "stream",
     "text": [
      "22175c83-6fb7-4f81-b2e6-8e296a6ac451\n",
      "a5f70f2f-52d3-4412-abd9-b77276de4887\n"
     ]
    },
    {
     "name": "stderr",
     "output_type": "stream",
     "text": [
      "INFO:root:Listing stix_relations with {type: uses, from_id: 22175c83-6fb7-4f81-b2e6-8e296a6ac451, to_id: a5f70f2f-52d3-4412-abd9-b77276de4887}\n",
      "INFO:root:Reading Report {1f2cbc39-8893-4bec-9c59-b9f8fba67062}.\n",
      "INFO:root:Adding Stix-Entity {3b309146-6167-4c43-a77e-467f9649de78} to Report {1f2cbc39-8893-4bec-9c59-b9f8fba67062}\n",
      "C:\\ProgramData\\Anaconda3\\lib\\site-packages\\ipykernel_launcher.py:300: DeprecationWarning: Call to deprecated method get_stix_domain_entity. (Replaced by the StixDomainEntity class in pycti) -- Deprecated since version 2.1.0.\n",
      "INFO:root:Reading Stix-Domain-Entity {22175c83-6fb7-4f81-b2e6-8e296a6ac451}.\n",
      "C:\\ProgramData\\Anaconda3\\lib\\site-packages\\ipykernel_launcher.py:303: DeprecationWarning: Call to deprecated method get_stix_domain_entity. (Replaced by the StixDomainEntity class in pycti) -- Deprecated since version 2.1.0.\n",
      "INFO:root:Reading Stix-Domain-Entity {191d0c8f-7b92-4723-94e0-086f38d8679e}.\n"
     ]
    },
    {
     "name": "stdout",
     "output_type": "stream",
     "text": [
      "22175c83-6fb7-4f81-b2e6-8e296a6ac451\n",
      "191d0c8f-7b92-4723-94e0-086f38d8679e\n"
     ]
    },
    {
     "name": "stderr",
     "output_type": "stream",
     "text": [
      "INFO:root:Listing stix_relations with {type: uses, from_id: 22175c83-6fb7-4f81-b2e6-8e296a6ac451, to_id: 191d0c8f-7b92-4723-94e0-086f38d8679e}\n",
      "INFO:root:Reading Report {1f2cbc39-8893-4bec-9c59-b9f8fba67062}.\n",
      "INFO:root:Adding Stix-Entity {2bec7c20-1ba8-49a8-b7d8-917cb6be818f} to Report {1f2cbc39-8893-4bec-9c59-b9f8fba67062}\n",
      "C:\\ProgramData\\Anaconda3\\lib\\site-packages\\ipykernel_launcher.py:300: DeprecationWarning: Call to deprecated method get_stix_domain_entity. (Replaced by the StixDomainEntity class in pycti) -- Deprecated since version 2.1.0.\n",
      "INFO:root:Reading Stix-Domain-Entity {22175c83-6fb7-4f81-b2e6-8e296a6ac451}.\n",
      "C:\\ProgramData\\Anaconda3\\lib\\site-packages\\ipykernel_launcher.py:303: DeprecationWarning: Call to deprecated method get_stix_domain_entity. (Replaced by the StixDomainEntity class in pycti) -- Deprecated since version 2.1.0.\n",
      "INFO:root:Reading Stix-Domain-Entity {56a0a83f-118c-43cb-99fb-8cbad400c35e}.\n"
     ]
    },
    {
     "name": "stdout",
     "output_type": "stream",
     "text": [
      "22175c83-6fb7-4f81-b2e6-8e296a6ac451\n",
      "56a0a83f-118c-43cb-99fb-8cbad400c35e\n"
     ]
    },
    {
     "name": "stderr",
     "output_type": "stream",
     "text": [
      "INFO:root:Listing stix_relations with {type: uses, from_id: 22175c83-6fb7-4f81-b2e6-8e296a6ac451, to_id: 56a0a83f-118c-43cb-99fb-8cbad400c35e}\n",
      "INFO:root:Reading Report {1f2cbc39-8893-4bec-9c59-b9f8fba67062}.\n",
      "INFO:root:Adding Stix-Entity {e7d553e0-ff69-4083-b954-dba5d64d91f9} to Report {1f2cbc39-8893-4bec-9c59-b9f8fba67062}\n",
      "C:\\ProgramData\\Anaconda3\\lib\\site-packages\\ipykernel_launcher.py:300: DeprecationWarning: Call to deprecated method get_stix_domain_entity. (Replaced by the StixDomainEntity class in pycti) -- Deprecated since version 2.1.0.\n",
      "INFO:root:Reading Stix-Domain-Entity {22175c83-6fb7-4f81-b2e6-8e296a6ac451}.\n",
      "C:\\ProgramData\\Anaconda3\\lib\\site-packages\\ipykernel_launcher.py:303: DeprecationWarning: Call to deprecated method get_stix_domain_entity. (Replaced by the StixDomainEntity class in pycti) -- Deprecated since version 2.1.0.\n",
      "INFO:root:Reading Stix-Domain-Entity {d5e0d90a-8502-4705-bfcf-eb57ebd44053}.\n"
     ]
    },
    {
     "name": "stdout",
     "output_type": "stream",
     "text": [
      "22175c83-6fb7-4f81-b2e6-8e296a6ac451\n",
      "d5e0d90a-8502-4705-bfcf-eb57ebd44053\n"
     ]
    },
    {
     "name": "stderr",
     "output_type": "stream",
     "text": [
      "INFO:root:Listing stix_relations with {type: uses, from_id: 22175c83-6fb7-4f81-b2e6-8e296a6ac451, to_id: d5e0d90a-8502-4705-bfcf-eb57ebd44053}\n",
      "INFO:root:Reading Report {1f2cbc39-8893-4bec-9c59-b9f8fba67062}.\n",
      "INFO:root:Adding Stix-Entity {13079f39-745f-4c98-bb86-291f23b78b05} to Report {1f2cbc39-8893-4bec-9c59-b9f8fba67062}\n",
      "C:\\ProgramData\\Anaconda3\\lib\\site-packages\\ipykernel_launcher.py:300: DeprecationWarning: Call to deprecated method get_stix_domain_entity. (Replaced by the StixDomainEntity class in pycti) -- Deprecated since version 2.1.0.\n",
      "INFO:root:Reading Stix-Domain-Entity {22175c83-6fb7-4f81-b2e6-8e296a6ac451}.\n",
      "C:\\ProgramData\\Anaconda3\\lib\\site-packages\\ipykernel_launcher.py:303: DeprecationWarning: Call to deprecated method get_stix_domain_entity. (Replaced by the StixDomainEntity class in pycti) -- Deprecated since version 2.1.0.\n",
      "INFO:root:Reading Stix-Domain-Entity {1c0a703e-8245-4206-b21b-1104224a89dc}.\n"
     ]
    },
    {
     "name": "stdout",
     "output_type": "stream",
     "text": [
      "22175c83-6fb7-4f81-b2e6-8e296a6ac451\n",
      "1c0a703e-8245-4206-b21b-1104224a89dc\n"
     ]
    },
    {
     "name": "stderr",
     "output_type": "stream",
     "text": [
      "INFO:root:Listing stix_relations with {type: targets, from_id: 22175c83-6fb7-4f81-b2e6-8e296a6ac451, to_id: 1c0a703e-8245-4206-b21b-1104224a89dc}\n",
      "INFO:root:Reading Report {1f2cbc39-8893-4bec-9c59-b9f8fba67062}.\n",
      "INFO:root:Adding Stix-Entity {a4ec1130-edfb-47de-8b06-050d7c16ee9a} to Report {1f2cbc39-8893-4bec-9c59-b9f8fba67062}\n",
      "C:\\ProgramData\\Anaconda3\\lib\\site-packages\\ipykernel_launcher.py:300: DeprecationWarning: Call to deprecated method get_stix_domain_entity. (Replaced by the StixDomainEntity class in pycti) -- Deprecated since version 2.1.0.\n",
      "INFO:root:Reading Stix-Domain-Entity {22175c83-6fb7-4f81-b2e6-8e296a6ac451}.\n",
      "C:\\ProgramData\\Anaconda3\\lib\\site-packages\\ipykernel_launcher.py:303: DeprecationWarning: Call to deprecated method get_stix_domain_entity. (Replaced by the StixDomainEntity class in pycti) -- Deprecated since version 2.1.0.\n",
      "INFO:root:Reading Stix-Domain-Entity {b797c618-45cb-407a-b5ce-9549a5056bd6}.\n"
     ]
    },
    {
     "name": "stdout",
     "output_type": "stream",
     "text": [
      "22175c83-6fb7-4f81-b2e6-8e296a6ac451\n",
      "b797c618-45cb-407a-b5ce-9549a5056bd6\n"
     ]
    },
    {
     "name": "stderr",
     "output_type": "stream",
     "text": [
      "INFO:root:Listing stix_relations with {type: targets, from_id: 22175c83-6fb7-4f81-b2e6-8e296a6ac451, to_id: b797c618-45cb-407a-b5ce-9549a5056bd6}\n",
      "INFO:root:Reading Report {1f2cbc39-8893-4bec-9c59-b9f8fba67062}.\n",
      "INFO:root:Adding Stix-Entity {bd8c98d4-c95f-4135-9493-20f3ee147020} to Report {1f2cbc39-8893-4bec-9c59-b9f8fba67062}\n",
      "C:\\ProgramData\\Anaconda3\\lib\\site-packages\\ipykernel_launcher.py:300: DeprecationWarning: Call to deprecated method get_stix_domain_entity. (Replaced by the StixDomainEntity class in pycti) -- Deprecated since version 2.1.0.\n",
      "INFO:root:Reading Stix-Domain-Entity {22175c83-6fb7-4f81-b2e6-8e296a6ac451}.\n",
      "C:\\ProgramData\\Anaconda3\\lib\\site-packages\\ipykernel_launcher.py:303: DeprecationWarning: Call to deprecated method get_stix_domain_entity. (Replaced by the StixDomainEntity class in pycti) -- Deprecated since version 2.1.0.\n",
      "INFO:root:Reading Stix-Domain-Entity {92a0b258-745e-438b-aa7a-8ddbdb414750}.\n"
     ]
    },
    {
     "name": "stdout",
     "output_type": "stream",
     "text": [
      "22175c83-6fb7-4f81-b2e6-8e296a6ac451\n",
      "92a0b258-745e-438b-aa7a-8ddbdb414750\n"
     ]
    },
    {
     "name": "stderr",
     "output_type": "stream",
     "text": [
      "INFO:root:Listing stix_relations with {type: targets, from_id: 22175c83-6fb7-4f81-b2e6-8e296a6ac451, to_id: 92a0b258-745e-438b-aa7a-8ddbdb414750}\n",
      "INFO:root:Reading Report {1f2cbc39-8893-4bec-9c59-b9f8fba67062}.\n",
      "INFO:root:Adding Stix-Entity {dec2e63f-1248-401c-8b47-66a8612910c6} to Report {1f2cbc39-8893-4bec-9c59-b9f8fba67062}\n",
      "C:\\ProgramData\\Anaconda3\\lib\\site-packages\\ipykernel_launcher.py:300: DeprecationWarning: Call to deprecated method get_stix_domain_entity. (Replaced by the StixDomainEntity class in pycti) -- Deprecated since version 2.1.0.\n",
      "INFO:root:Reading Stix-Domain-Entity {22175c83-6fb7-4f81-b2e6-8e296a6ac451}.\n",
      "C:\\ProgramData\\Anaconda3\\lib\\site-packages\\ipykernel_launcher.py:303: DeprecationWarning: Call to deprecated method get_stix_domain_entity. (Replaced by the StixDomainEntity class in pycti) -- Deprecated since version 2.1.0.\n",
      "INFO:root:Reading Stix-Domain-Entity {b27363f1-c462-4b2e-9ce3-6cd45a851d56}.\n"
     ]
    },
    {
     "name": "stdout",
     "output_type": "stream",
     "text": [
      "22175c83-6fb7-4f81-b2e6-8e296a6ac451\n",
      "b27363f1-c462-4b2e-9ce3-6cd45a851d56\n"
     ]
    },
    {
     "name": "stderr",
     "output_type": "stream",
     "text": [
      "INFO:root:Listing stix_relations with {type: targets, from_id: 22175c83-6fb7-4f81-b2e6-8e296a6ac451, to_id: b27363f1-c462-4b2e-9ce3-6cd45a851d56}\n",
      "INFO:root:Reading Report {1f2cbc39-8893-4bec-9c59-b9f8fba67062}.\n",
      "INFO:root:Adding Stix-Entity {a96f9952-88eb-49f7-8a2a-8eca9ad1e89e} to Report {1f2cbc39-8893-4bec-9c59-b9f8fba67062}\n",
      "C:\\ProgramData\\Anaconda3\\lib\\site-packages\\ipykernel_launcher.py:300: DeprecationWarning: Call to deprecated method get_stix_domain_entity. (Replaced by the StixDomainEntity class in pycti) -- Deprecated since version 2.1.0.\n",
      "INFO:root:Reading Stix-Domain-Entity {22175c83-6fb7-4f81-b2e6-8e296a6ac451}.\n",
      "C:\\ProgramData\\Anaconda3\\lib\\site-packages\\ipykernel_launcher.py:303: DeprecationWarning: Call to deprecated method get_stix_domain_entity. (Replaced by the StixDomainEntity class in pycti) -- Deprecated since version 2.1.0.\n",
      "INFO:root:Reading Stix-Domain-Entity {8e88e738-6a82-46a3-ae9d-6c7c546ca4b3}.\n"
     ]
    },
    {
     "name": "stdout",
     "output_type": "stream",
     "text": [
      "22175c83-6fb7-4f81-b2e6-8e296a6ac451\n",
      "8e88e738-6a82-46a3-ae9d-6c7c546ca4b3\n"
     ]
    },
    {
     "name": "stderr",
     "output_type": "stream",
     "text": [
      "INFO:root:Listing stix_relations with {type: targets, from_id: 22175c83-6fb7-4f81-b2e6-8e296a6ac451, to_id: 8e88e738-6a82-46a3-ae9d-6c7c546ca4b3}\n",
      "INFO:root:Reading Report {1f2cbc39-8893-4bec-9c59-b9f8fba67062}.\n",
      "INFO:root:Adding Stix-Entity {97b7f38d-8c56-4639-aa44-ac8bf4c132c0} to Report {1f2cbc39-8893-4bec-9c59-b9f8fba67062}\n",
      "C:\\ProgramData\\Anaconda3\\lib\\site-packages\\ipykernel_launcher.py:300: DeprecationWarning: Call to deprecated method get_stix_domain_entity. (Replaced by the StixDomainEntity class in pycti) -- Deprecated since version 2.1.0.\n",
      "INFO:root:Reading Stix-Domain-Entity {22175c83-6fb7-4f81-b2e6-8e296a6ac451}.\n",
      "C:\\ProgramData\\Anaconda3\\lib\\site-packages\\ipykernel_launcher.py:303: DeprecationWarning: Call to deprecated method get_stix_domain_entity. (Replaced by the StixDomainEntity class in pycti) -- Deprecated since version 2.1.0.\n",
      "INFO:root:Reading Stix-Domain-Entity {a763f532-6889-47ae-8976-abf99ce14bbb}.\n"
     ]
    },
    {
     "name": "stdout",
     "output_type": "stream",
     "text": [
      "22175c83-6fb7-4f81-b2e6-8e296a6ac451\n",
      "a763f532-6889-47ae-8976-abf99ce14bbb\n"
     ]
    },
    {
     "name": "stderr",
     "output_type": "stream",
     "text": [
      "INFO:root:Listing stix_relations with {type: targets, from_id: 22175c83-6fb7-4f81-b2e6-8e296a6ac451, to_id: a763f532-6889-47ae-8976-abf99ce14bbb}\n",
      "INFO:root:Reading Report {1f2cbc39-8893-4bec-9c59-b9f8fba67062}.\n",
      "INFO:root:Adding Stix-Entity {b19bbe03-a15e-40ce-b536-3b64640f8ac9} to Report {1f2cbc39-8893-4bec-9c59-b9f8fba67062}\n",
      "C:\\ProgramData\\Anaconda3\\lib\\site-packages\\ipykernel_launcher.py:300: DeprecationWarning: Call to deprecated method get_stix_domain_entity. (Replaced by the StixDomainEntity class in pycti) -- Deprecated since version 2.1.0.\n",
      "INFO:root:Reading Stix-Domain-Entity {22175c83-6fb7-4f81-b2e6-8e296a6ac451}.\n",
      "C:\\ProgramData\\Anaconda3\\lib\\site-packages\\ipykernel_launcher.py:303: DeprecationWarning: Call to deprecated method get_stix_domain_entity. (Replaced by the StixDomainEntity class in pycti) -- Deprecated since version 2.1.0.\n",
      "INFO:root:Reading Stix-Domain-Entity {0d618989-96c1-4cef-8b34-f4dc5a8b7f05}.\n"
     ]
    },
    {
     "name": "stdout",
     "output_type": "stream",
     "text": [
      "22175c83-6fb7-4f81-b2e6-8e296a6ac451\n",
      "0d618989-96c1-4cef-8b34-f4dc5a8b7f05\n"
     ]
    },
    {
     "name": "stderr",
     "output_type": "stream",
     "text": [
      "INFO:root:Listing stix_relations with {type: targets, from_id: 22175c83-6fb7-4f81-b2e6-8e296a6ac451, to_id: 0d618989-96c1-4cef-8b34-f4dc5a8b7f05}\n",
      "INFO:root:Reading Report {1f2cbc39-8893-4bec-9c59-b9f8fba67062}.\n",
      "INFO:root:Adding Stix-Entity {923aa967-7e78-4bfe-9b60-280d402d6abc} to Report {1f2cbc39-8893-4bec-9c59-b9f8fba67062}\n",
      "C:\\ProgramData\\Anaconda3\\lib\\site-packages\\ipykernel_launcher.py:300: DeprecationWarning: Call to deprecated method get_stix_domain_entity. (Replaced by the StixDomainEntity class in pycti) -- Deprecated since version 2.1.0.\n",
      "INFO:root:Reading Stix-Domain-Entity {22175c83-6fb7-4f81-b2e6-8e296a6ac451}.\n",
      "C:\\ProgramData\\Anaconda3\\lib\\site-packages\\ipykernel_launcher.py:303: DeprecationWarning: Call to deprecated method get_stix_domain_entity. (Replaced by the StixDomainEntity class in pycti) -- Deprecated since version 2.1.0.\n",
      "INFO:root:Reading Stix-Domain-Entity {d45d618d-9a31-4905-be50-91a94f605f99}.\n"
     ]
    },
    {
     "name": "stdout",
     "output_type": "stream",
     "text": [
      "22175c83-6fb7-4f81-b2e6-8e296a6ac451\n",
      "d45d618d-9a31-4905-be50-91a94f605f99\n"
     ]
    },
    {
     "name": "stderr",
     "output_type": "stream",
     "text": [
      "INFO:root:Listing stix_relations with {type: targets, from_id: 22175c83-6fb7-4f81-b2e6-8e296a6ac451, to_id: d45d618d-9a31-4905-be50-91a94f605f99}\n",
      "INFO:root:Reading Report {1f2cbc39-8893-4bec-9c59-b9f8fba67062}.\n",
      "INFO:root:Adding Stix-Entity {45cb0b98-8622-4c2e-b3b9-673eff16b2fa} to Report {1f2cbc39-8893-4bec-9c59-b9f8fba67062}\n",
      "C:\\ProgramData\\Anaconda3\\lib\\site-packages\\ipykernel_launcher.py:300: DeprecationWarning: Call to deprecated method get_stix_domain_entity. (Replaced by the StixDomainEntity class in pycti) -- Deprecated since version 2.1.0.\n",
      "INFO:root:Reading Stix-Domain-Entity {22175c83-6fb7-4f81-b2e6-8e296a6ac451}.\n",
      "C:\\ProgramData\\Anaconda3\\lib\\site-packages\\ipykernel_launcher.py:303: DeprecationWarning: Call to deprecated method get_stix_domain_entity. (Replaced by the StixDomainEntity class in pycti) -- Deprecated since version 2.1.0.\n",
      "INFO:root:Reading Stix-Domain-Entity {4e7c53b2-e4f7-4409-9bd5-50837de2bc44}.\n"
     ]
    },
    {
     "name": "stdout",
     "output_type": "stream",
     "text": [
      "22175c83-6fb7-4f81-b2e6-8e296a6ac451\n",
      "4e7c53b2-e4f7-4409-9bd5-50837de2bc44\n"
     ]
    },
    {
     "name": "stderr",
     "output_type": "stream",
     "text": [
      "INFO:root:Listing stix_relations with {type: targets, from_id: 22175c83-6fb7-4f81-b2e6-8e296a6ac451, to_id: 4e7c53b2-e4f7-4409-9bd5-50837de2bc44}\n",
      "INFO:root:Reading Report {1f2cbc39-8893-4bec-9c59-b9f8fba67062}.\n",
      "INFO:root:Adding Stix-Entity {61b8da36-a903-445a-a395-b9f51925da97} to Report {1f2cbc39-8893-4bec-9c59-b9f8fba67062}\n",
      "C:\\ProgramData\\Anaconda3\\lib\\site-packages\\ipykernel_launcher.py:300: DeprecationWarning: Call to deprecated method get_stix_domain_entity. (Replaced by the StixDomainEntity class in pycti) -- Deprecated since version 2.1.0.\n",
      "INFO:root:Reading Stix-Domain-Entity {22175c83-6fb7-4f81-b2e6-8e296a6ac451}.\n",
      "C:\\ProgramData\\Anaconda3\\lib\\site-packages\\ipykernel_launcher.py:303: DeprecationWarning: Call to deprecated method get_stix_domain_entity. (Replaced by the StixDomainEntity class in pycti) -- Deprecated since version 2.1.0.\n",
      "INFO:root:Reading Stix-Domain-Entity {9652484c-8af7-4147-83c3-f47890487079}.\n"
     ]
    },
    {
     "name": "stdout",
     "output_type": "stream",
     "text": [
      "22175c83-6fb7-4f81-b2e6-8e296a6ac451\n",
      "9652484c-8af7-4147-83c3-f47890487079\n"
     ]
    },
    {
     "name": "stderr",
     "output_type": "stream",
     "text": [
      "INFO:root:Listing stix_relations with {type: targets, from_id: 22175c83-6fb7-4f81-b2e6-8e296a6ac451, to_id: 9652484c-8af7-4147-83c3-f47890487079}\n",
      "INFO:root:Reading Report {1f2cbc39-8893-4bec-9c59-b9f8fba67062}.\n",
      "INFO:root:Adding Stix-Entity {1dc2d01a-0bad-4cb7-86df-846670b9ca29} to Report {1f2cbc39-8893-4bec-9c59-b9f8fba67062}\n",
      "C:\\ProgramData\\Anaconda3\\lib\\site-packages\\ipykernel_launcher.py:300: DeprecationWarning: Call to deprecated method get_stix_domain_entity. (Replaced by the StixDomainEntity class in pycti) -- Deprecated since version 2.1.0.\n",
      "INFO:root:Reading Stix-Domain-Entity {22175c83-6fb7-4f81-b2e6-8e296a6ac451}.\n",
      "C:\\ProgramData\\Anaconda3\\lib\\site-packages\\ipykernel_launcher.py:303: DeprecationWarning: Call to deprecated method get_stix_domain_entity. (Replaced by the StixDomainEntity class in pycti) -- Deprecated since version 2.1.0.\n",
      "INFO:root:Reading Stix-Domain-Entity {c23e2eb0-bd52-482e-9a5c-b97e31d9225b}.\n"
     ]
    },
    {
     "name": "stdout",
     "output_type": "stream",
     "text": [
      "22175c83-6fb7-4f81-b2e6-8e296a6ac451\n",
      "c23e2eb0-bd52-482e-9a5c-b97e31d9225b\n"
     ]
    },
    {
     "name": "stderr",
     "output_type": "stream",
     "text": [
      "INFO:root:Listing stix_relations with {type: targets, from_id: 22175c83-6fb7-4f81-b2e6-8e296a6ac451, to_id: c23e2eb0-bd52-482e-9a5c-b97e31d9225b}\n",
      "INFO:root:Reading Report {1f2cbc39-8893-4bec-9c59-b9f8fba67062}.\n",
      "INFO:root:Adding Stix-Entity {29d79802-f2e7-4a5d-bd1d-9d3e937de4ff} to Report {1f2cbc39-8893-4bec-9c59-b9f8fba67062}\n",
      "C:\\ProgramData\\Anaconda3\\lib\\site-packages\\ipykernel_launcher.py:300: DeprecationWarning: Call to deprecated method get_stix_domain_entity. (Replaced by the StixDomainEntity class in pycti) -- Deprecated since version 2.1.0.\n",
      "INFO:root:Reading Stix-Domain-Entity {c9630199-c590-4a66-9e4b-095f0acae785}.\n",
      "C:\\ProgramData\\Anaconda3\\lib\\site-packages\\ipykernel_launcher.py:303: DeprecationWarning: Call to deprecated method get_stix_domain_entity. (Replaced by the StixDomainEntity class in pycti) -- Deprecated since version 2.1.0.\n",
      "INFO:root:Reading Stix-Domain-Entity {885223eb-a293-4d4a-aaa8-2dd8d4487076}.\n"
     ]
    },
    {
     "name": "stdout",
     "output_type": "stream",
     "text": [
      "c9630199-c590-4a66-9e4b-095f0acae785\n",
      "885223eb-a293-4d4a-aaa8-2dd8d4487076\n"
     ]
    },
    {
     "name": "stderr",
     "output_type": "stream",
     "text": [
      "INFO:root:Listing stix_relations with {type: uses, from_id: c9630199-c590-4a66-9e4b-095f0acae785, to_id: 885223eb-a293-4d4a-aaa8-2dd8d4487076}\n",
      "INFO:root:Reading Report {1f2cbc39-8893-4bec-9c59-b9f8fba67062}.\n",
      "INFO:root:Adding Stix-Entity {d4a5322e-dac2-4471-b631-3e01dd01b700} to Report {1f2cbc39-8893-4bec-9c59-b9f8fba67062}\n",
      "C:\\ProgramData\\Anaconda3\\lib\\site-packages\\ipykernel_launcher.py:300: DeprecationWarning: Call to deprecated method get_stix_domain_entity. (Replaced by the StixDomainEntity class in pycti) -- Deprecated since version 2.1.0.\n",
      "INFO:root:Reading Stix-Domain-Entity {c9630199-c590-4a66-9e4b-095f0acae785}.\n",
      "C:\\ProgramData\\Anaconda3\\lib\\site-packages\\ipykernel_launcher.py:303: DeprecationWarning: Call to deprecated method get_stix_domain_entity. (Replaced by the StixDomainEntity class in pycti) -- Deprecated since version 2.1.0.\n",
      "INFO:root:Reading Stix-Domain-Entity {651e2539-4a7d-47fc-8df2-ff67583c3801}.\n",
      "INFO:root:Listing stix_relations with {type: uses, from_id: c9630199-c590-4a66-9e4b-095f0acae785, to_id: 651e2539-4a7d-47fc-8df2-ff67583c3801}\n"
     ]
    },
    {
     "name": "stdout",
     "output_type": "stream",
     "text": [
      "c9630199-c590-4a66-9e4b-095f0acae785\n",
      "651e2539-4a7d-47fc-8df2-ff67583c3801\n"
     ]
    },
    {
     "name": "stderr",
     "output_type": "stream",
     "text": [
      "INFO:root:Reading Report {1f2cbc39-8893-4bec-9c59-b9f8fba67062}.\n",
      "INFO:root:Adding Stix-Entity {002597b6-07ab-467b-88d1-d3585e262dc5} to Report {1f2cbc39-8893-4bec-9c59-b9f8fba67062}\n",
      "C:\\ProgramData\\Anaconda3\\lib\\site-packages\\ipykernel_launcher.py:300: DeprecationWarning: Call to deprecated method get_stix_domain_entity. (Replaced by the StixDomainEntity class in pycti) -- Deprecated since version 2.1.0.\n",
      "INFO:root:Reading Stix-Domain-Entity {c9630199-c590-4a66-9e4b-095f0acae785}.\n",
      "C:\\ProgramData\\Anaconda3\\lib\\site-packages\\ipykernel_launcher.py:303: DeprecationWarning: Call to deprecated method get_stix_domain_entity. (Replaced by the StixDomainEntity class in pycti) -- Deprecated since version 2.1.0.\n",
      "INFO:root:Reading Stix-Domain-Entity {ba4ce101-a595-428e-b56b-a7fd085ab3ed}.\n"
     ]
    },
    {
     "name": "stdout",
     "output_type": "stream",
     "text": [
      "c9630199-c590-4a66-9e4b-095f0acae785\n",
      "ba4ce101-a595-428e-b56b-a7fd085ab3ed\n"
     ]
    },
    {
     "name": "stderr",
     "output_type": "stream",
     "text": [
      "INFO:root:Listing stix_relations with {type: uses, from_id: c9630199-c590-4a66-9e4b-095f0acae785, to_id: ba4ce101-a595-428e-b56b-a7fd085ab3ed}\n",
      "INFO:root:Reading Report {1f2cbc39-8893-4bec-9c59-b9f8fba67062}.\n",
      "INFO:root:Adding Stix-Entity {2a1dd83f-8f47-4dde-9e4d-c0b9d016979f} to Report {1f2cbc39-8893-4bec-9c59-b9f8fba67062}\n",
      "C:\\ProgramData\\Anaconda3\\lib\\site-packages\\ipykernel_launcher.py:300: DeprecationWarning: Call to deprecated method get_stix_domain_entity. (Replaced by the StixDomainEntity class in pycti) -- Deprecated since version 2.1.0.\n",
      "INFO:root:Reading Stix-Domain-Entity {c9630199-c590-4a66-9e4b-095f0acae785}.\n",
      "C:\\ProgramData\\Anaconda3\\lib\\site-packages\\ipykernel_launcher.py:303: DeprecationWarning: Call to deprecated method get_stix_domain_entity. (Replaced by the StixDomainEntity class in pycti) -- Deprecated since version 2.1.0.\n",
      "INFO:root:Reading Stix-Domain-Entity {1f010009-f6eb-4223-a098-807e6384a1ae}.\n"
     ]
    },
    {
     "name": "stdout",
     "output_type": "stream",
     "text": [
      "c9630199-c590-4a66-9e4b-095f0acae785\n",
      "1f010009-f6eb-4223-a098-807e6384a1ae\n"
     ]
    },
    {
     "name": "stderr",
     "output_type": "stream",
     "text": [
      "INFO:root:Listing stix_relations with {type: uses, from_id: c9630199-c590-4a66-9e4b-095f0acae785, to_id: 1f010009-f6eb-4223-a098-807e6384a1ae}\n",
      "INFO:root:Reading Report {1f2cbc39-8893-4bec-9c59-b9f8fba67062}.\n",
      "INFO:root:Adding Stix-Entity {2fd09b2e-09d1-47dc-b3d2-98e06b4fb4d7} to Report {1f2cbc39-8893-4bec-9c59-b9f8fba67062}\n",
      "C:\\ProgramData\\Anaconda3\\lib\\site-packages\\ipykernel_launcher.py:300: DeprecationWarning: Call to deprecated method get_stix_domain_entity. (Replaced by the StixDomainEntity class in pycti) -- Deprecated since version 2.1.0.\n",
      "INFO:root:Reading Stix-Domain-Entity {c9630199-c590-4a66-9e4b-095f0acae785}.\n",
      "C:\\ProgramData\\Anaconda3\\lib\\site-packages\\ipykernel_launcher.py:303: DeprecationWarning: Call to deprecated method get_stix_domain_entity. (Replaced by the StixDomainEntity class in pycti) -- Deprecated since version 2.1.0.\n",
      "INFO:root:Reading Stix-Domain-Entity {cc82f17e-f006-4b60-94a0-91ab35a9fc32}.\n"
     ]
    },
    {
     "name": "stdout",
     "output_type": "stream",
     "text": [
      "c9630199-c590-4a66-9e4b-095f0acae785\n",
      "cc82f17e-f006-4b60-94a0-91ab35a9fc32\n"
     ]
    },
    {
     "name": "stderr",
     "output_type": "stream",
     "text": [
      "INFO:root:Listing stix_relations with {type: uses, from_id: c9630199-c590-4a66-9e4b-095f0acae785, to_id: cc82f17e-f006-4b60-94a0-91ab35a9fc32}\n",
      "INFO:root:Reading Report {1f2cbc39-8893-4bec-9c59-b9f8fba67062}.\n",
      "INFO:root:Adding Stix-Entity {45254898-14e0-4758-9a8a-e0e8bd35bd86} to Report {1f2cbc39-8893-4bec-9c59-b9f8fba67062}\n",
      "C:\\ProgramData\\Anaconda3\\lib\\site-packages\\ipykernel_launcher.py:300: DeprecationWarning: Call to deprecated method get_stix_domain_entity. (Replaced by the StixDomainEntity class in pycti) -- Deprecated since version 2.1.0.\n",
      "INFO:root:Reading Stix-Domain-Entity {c9630199-c590-4a66-9e4b-095f0acae785}.\n",
      "C:\\ProgramData\\Anaconda3\\lib\\site-packages\\ipykernel_launcher.py:303: DeprecationWarning: Call to deprecated method get_stix_domain_entity. (Replaced by the StixDomainEntity class in pycti) -- Deprecated since version 2.1.0.\n",
      "INFO:root:Reading Stix-Domain-Entity {c6cb1bb3-2902-45cc-93b4-83ceb1031509}.\n",
      "INFO:root:Listing stix_relations with {type: uses, from_id: c9630199-c590-4a66-9e4b-095f0acae785, to_id: c6cb1bb3-2902-45cc-93b4-83ceb1031509}\n"
     ]
    },
    {
     "name": "stdout",
     "output_type": "stream",
     "text": [
      "c9630199-c590-4a66-9e4b-095f0acae785\n",
      "c6cb1bb3-2902-45cc-93b4-83ceb1031509\n"
     ]
    },
    {
     "name": "stderr",
     "output_type": "stream",
     "text": [
      "INFO:root:Reading Report {1f2cbc39-8893-4bec-9c59-b9f8fba67062}.\n",
      "INFO:root:Adding Stix-Entity {0196ad7a-033f-447b-aebc-b8b7ee1fa9cb} to Report {1f2cbc39-8893-4bec-9c59-b9f8fba67062}\n",
      "C:\\ProgramData\\Anaconda3\\lib\\site-packages\\ipykernel_launcher.py:300: DeprecationWarning: Call to deprecated method get_stix_domain_entity. (Replaced by the StixDomainEntity class in pycti) -- Deprecated since version 2.1.0.\n",
      "INFO:root:Reading Stix-Domain-Entity {c9630199-c590-4a66-9e4b-095f0acae785}.\n",
      "C:\\ProgramData\\Anaconda3\\lib\\site-packages\\ipykernel_launcher.py:303: DeprecationWarning: Call to deprecated method get_stix_domain_entity. (Replaced by the StixDomainEntity class in pycti) -- Deprecated since version 2.1.0.\n",
      "INFO:root:Reading Stix-Domain-Entity {5ef8a53d-1e82-47b5-990e-2a0a46aa5e86}.\n"
     ]
    },
    {
     "name": "stdout",
     "output_type": "stream",
     "text": [
      "c9630199-c590-4a66-9e4b-095f0acae785\n",
      "5ef8a53d-1e82-47b5-990e-2a0a46aa5e86\n"
     ]
    },
    {
     "name": "stderr",
     "output_type": "stream",
     "text": [
      "INFO:root:Listing stix_relations with {type: uses, from_id: c9630199-c590-4a66-9e4b-095f0acae785, to_id: 5ef8a53d-1e82-47b5-990e-2a0a46aa5e86}\n",
      "INFO:root:Reading Report {1f2cbc39-8893-4bec-9c59-b9f8fba67062}.\n",
      "INFO:root:Adding Stix-Entity {48de8c68-ec05-4d58-9deb-61cdb1daf078} to Report {1f2cbc39-8893-4bec-9c59-b9f8fba67062}\n",
      "C:\\ProgramData\\Anaconda3\\lib\\site-packages\\ipykernel_launcher.py:300: DeprecationWarning: Call to deprecated method get_stix_domain_entity. (Replaced by the StixDomainEntity class in pycti) -- Deprecated since version 2.1.0.\n",
      "INFO:root:Reading Stix-Domain-Entity {c9630199-c590-4a66-9e4b-095f0acae785}.\n",
      "C:\\ProgramData\\Anaconda3\\lib\\site-packages\\ipykernel_launcher.py:303: DeprecationWarning: Call to deprecated method get_stix_domain_entity. (Replaced by the StixDomainEntity class in pycti) -- Deprecated since version 2.1.0.\n",
      "INFO:root:Reading Stix-Domain-Entity {aaf9cc50-5384-45df-b184-2d6048f4ecdd}.\n"
     ]
    },
    {
     "name": "stdout",
     "output_type": "stream",
     "text": [
      "c9630199-c590-4a66-9e4b-095f0acae785\n",
      "aaf9cc50-5384-45df-b184-2d6048f4ecdd\n"
     ]
    },
    {
     "name": "stderr",
     "output_type": "stream",
     "text": [
      "INFO:root:Listing stix_relations with {type: uses, from_id: c9630199-c590-4a66-9e4b-095f0acae785, to_id: aaf9cc50-5384-45df-b184-2d6048f4ecdd}\n",
      "INFO:root:Reading Report {1f2cbc39-8893-4bec-9c59-b9f8fba67062}.\n",
      "INFO:root:Adding Stix-Entity {bb947abe-b30a-43d2-b942-3cb020c49e22} to Report {1f2cbc39-8893-4bec-9c59-b9f8fba67062}\n",
      "C:\\ProgramData\\Anaconda3\\lib\\site-packages\\ipykernel_launcher.py:300: DeprecationWarning: Call to deprecated method get_stix_domain_entity. (Replaced by the StixDomainEntity class in pycti) -- Deprecated since version 2.1.0.\n",
      "INFO:root:Reading Stix-Domain-Entity {c9630199-c590-4a66-9e4b-095f0acae785}.\n",
      "C:\\ProgramData\\Anaconda3\\lib\\site-packages\\ipykernel_launcher.py:303: DeprecationWarning: Call to deprecated method get_stix_domain_entity. (Replaced by the StixDomainEntity class in pycti) -- Deprecated since version 2.1.0.\n",
      "INFO:root:Reading Stix-Domain-Entity {58eacb3e-a736-41c8-ba57-9328e4adbca5}.\n"
     ]
    },
    {
     "name": "stdout",
     "output_type": "stream",
     "text": [
      "c9630199-c590-4a66-9e4b-095f0acae785\n",
      "58eacb3e-a736-41c8-ba57-9328e4adbca5\n"
     ]
    },
    {
     "name": "stderr",
     "output_type": "stream",
     "text": [
      "INFO:root:Listing stix_relations with {type: uses, from_id: c9630199-c590-4a66-9e4b-095f0acae785, to_id: 58eacb3e-a736-41c8-ba57-9328e4adbca5}\n",
      "INFO:root:Reading Report {1f2cbc39-8893-4bec-9c59-b9f8fba67062}.\n",
      "INFO:root:Adding Stix-Entity {53e8b67c-4f72-4f89-bcea-67f61ee767f4} to Report {1f2cbc39-8893-4bec-9c59-b9f8fba67062}\n",
      "C:\\ProgramData\\Anaconda3\\lib\\site-packages\\ipykernel_launcher.py:300: DeprecationWarning: Call to deprecated method get_stix_domain_entity. (Replaced by the StixDomainEntity class in pycti) -- Deprecated since version 2.1.0.\n",
      "INFO:root:Reading Stix-Domain-Entity {c9630199-c590-4a66-9e4b-095f0acae785}.\n",
      "C:\\ProgramData\\Anaconda3\\lib\\site-packages\\ipykernel_launcher.py:303: DeprecationWarning: Call to deprecated method get_stix_domain_entity. (Replaced by the StixDomainEntity class in pycti) -- Deprecated since version 2.1.0.\n",
      "INFO:root:Reading Stix-Domain-Entity {5c60fe15-cbc3-4135-bc56-52387e7c1457}.\n",
      "INFO:root:Listing stix_relations with {type: uses, from_id: c9630199-c590-4a66-9e4b-095f0acae785, to_id: 5c60fe15-cbc3-4135-bc56-52387e7c1457}\n"
     ]
    },
    {
     "name": "stdout",
     "output_type": "stream",
     "text": [
      "c9630199-c590-4a66-9e4b-095f0acae785\n",
      "5c60fe15-cbc3-4135-bc56-52387e7c1457\n"
     ]
    },
    {
     "name": "stderr",
     "output_type": "stream",
     "text": [
      "INFO:root:Reading Report {1f2cbc39-8893-4bec-9c59-b9f8fba67062}.\n",
      "INFO:root:Adding Stix-Entity {3c8c3c4e-4ec0-44c3-8833-a266469f6836} to Report {1f2cbc39-8893-4bec-9c59-b9f8fba67062}\n",
      "C:\\ProgramData\\Anaconda3\\lib\\site-packages\\ipykernel_launcher.py:300: DeprecationWarning: Call to deprecated method get_stix_domain_entity. (Replaced by the StixDomainEntity class in pycti) -- Deprecated since version 2.1.0.\n",
      "INFO:root:Reading Stix-Domain-Entity {c9630199-c590-4a66-9e4b-095f0acae785}.\n",
      "C:\\ProgramData\\Anaconda3\\lib\\site-packages\\ipykernel_launcher.py:303: DeprecationWarning: Call to deprecated method get_stix_domain_entity. (Replaced by the StixDomainEntity class in pycti) -- Deprecated since version 2.1.0.\n",
      "INFO:root:Reading Stix-Domain-Entity {65e096e1-3467-4bd5-a574-9a475701fbdb}.\n"
     ]
    },
    {
     "name": "stdout",
     "output_type": "stream",
     "text": [
      "c9630199-c590-4a66-9e4b-095f0acae785\n",
      "65e096e1-3467-4bd5-a574-9a475701fbdb\n"
     ]
    },
    {
     "name": "stderr",
     "output_type": "stream",
     "text": [
      "INFO:root:Listing stix_relations with {type: uses, from_id: c9630199-c590-4a66-9e4b-095f0acae785, to_id: 65e096e1-3467-4bd5-a574-9a475701fbdb}\n",
      "INFO:root:Reading Report {1f2cbc39-8893-4bec-9c59-b9f8fba67062}.\n",
      "INFO:root:Adding Stix-Entity {b19bb47f-953c-4d21-a27b-c6bed32bb2ba} to Report {1f2cbc39-8893-4bec-9c59-b9f8fba67062}\n",
      "C:\\ProgramData\\Anaconda3\\lib\\site-packages\\ipykernel_launcher.py:300: DeprecationWarning: Call to deprecated method get_stix_domain_entity. (Replaced by the StixDomainEntity class in pycti) -- Deprecated since version 2.1.0.\n",
      "INFO:root:Reading Stix-Domain-Entity {c9630199-c590-4a66-9e4b-095f0acae785}.\n",
      "C:\\ProgramData\\Anaconda3\\lib\\site-packages\\ipykernel_launcher.py:303: DeprecationWarning: Call to deprecated method get_stix_domain_entity. (Replaced by the StixDomainEntity class in pycti) -- Deprecated since version 2.1.0.\n",
      "INFO:root:Reading Stix-Domain-Entity {de251092-8d94-428a-b26d-713b96658a46}.\n",
      "INFO:root:Listing stix_relations with {type: uses, from_id: c9630199-c590-4a66-9e4b-095f0acae785, to_id: de251092-8d94-428a-b26d-713b96658a46}\n"
     ]
    },
    {
     "name": "stdout",
     "output_type": "stream",
     "text": [
      "c9630199-c590-4a66-9e4b-095f0acae785\n",
      "de251092-8d94-428a-b26d-713b96658a46\n"
     ]
    },
    {
     "name": "stderr",
     "output_type": "stream",
     "text": [
      "INFO:root:Reading Report {1f2cbc39-8893-4bec-9c59-b9f8fba67062}.\n",
      "INFO:root:Adding Stix-Entity {4ebe13db-51e1-4ba6-ad02-4b5a2d4b3efc} to Report {1f2cbc39-8893-4bec-9c59-b9f8fba67062}\n",
      "C:\\ProgramData\\Anaconda3\\lib\\site-packages\\ipykernel_launcher.py:300: DeprecationWarning: Call to deprecated method get_stix_domain_entity. (Replaced by the StixDomainEntity class in pycti) -- Deprecated since version 2.1.0.\n",
      "INFO:root:Reading Stix-Domain-Entity {c9630199-c590-4a66-9e4b-095f0acae785}.\n",
      "C:\\ProgramData\\Anaconda3\\lib\\site-packages\\ipykernel_launcher.py:303: DeprecationWarning: Call to deprecated method get_stix_domain_entity. (Replaced by the StixDomainEntity class in pycti) -- Deprecated since version 2.1.0.\n",
      "INFO:root:Reading Stix-Domain-Entity {2fbbe108-832e-4454-8bc6-d4e4f682b70b}.\n"
     ]
    },
    {
     "name": "stdout",
     "output_type": "stream",
     "text": [
      "c9630199-c590-4a66-9e4b-095f0acae785\n",
      "2fbbe108-832e-4454-8bc6-d4e4f682b70b\n"
     ]
    },
    {
     "name": "stderr",
     "output_type": "stream",
     "text": [
      "INFO:root:Listing stix_relations with {type: uses, from_id: c9630199-c590-4a66-9e4b-095f0acae785, to_id: 2fbbe108-832e-4454-8bc6-d4e4f682b70b}\n",
      "INFO:root:Reading Report {1f2cbc39-8893-4bec-9c59-b9f8fba67062}.\n",
      "INFO:root:Adding Stix-Entity {c1facd7a-7a89-408b-9cac-1a422777335b} to Report {1f2cbc39-8893-4bec-9c59-b9f8fba67062}\n",
      "C:\\ProgramData\\Anaconda3\\lib\\site-packages\\ipykernel_launcher.py:300: DeprecationWarning: Call to deprecated method get_stix_domain_entity. (Replaced by the StixDomainEntity class in pycti) -- Deprecated since version 2.1.0.\n",
      "INFO:root:Reading Stix-Domain-Entity {88cbb5de-7cd0-4a00-a14e-e893267afdde}.\n",
      "C:\\ProgramData\\Anaconda3\\lib\\site-packages\\ipykernel_launcher.py:303: DeprecationWarning: Call to deprecated method get_stix_domain_entity. (Replaced by the StixDomainEntity class in pycti) -- Deprecated since version 2.1.0.\n",
      "INFO:root:Reading Stix-Domain-Entity {c6cb1bb3-2902-45cc-93b4-83ceb1031509}.\n"
     ]
    },
    {
     "name": "stdout",
     "output_type": "stream",
     "text": [
      "88cbb5de-7cd0-4a00-a14e-e893267afdde\n",
      "c6cb1bb3-2902-45cc-93b4-83ceb1031509\n"
     ]
    },
    {
     "name": "stderr",
     "output_type": "stream",
     "text": [
      "INFO:root:Listing stix_relations with {type: uses, from_id: 88cbb5de-7cd0-4a00-a14e-e893267afdde, to_id: c6cb1bb3-2902-45cc-93b4-83ceb1031509}\n",
      "INFO:root:Reading Report {1f2cbc39-8893-4bec-9c59-b9f8fba67062}.\n",
      "INFO:root:Adding Stix-Entity {583c31c9-6e50-4a0f-bec0-db81ba4d5afd} to Report {1f2cbc39-8893-4bec-9c59-b9f8fba67062}\n",
      "C:\\ProgramData\\Anaconda3\\lib\\site-packages\\ipykernel_launcher.py:300: DeprecationWarning: Call to deprecated method get_stix_domain_entity. (Replaced by the StixDomainEntity class in pycti) -- Deprecated since version 2.1.0.\n",
      "INFO:root:Reading Stix-Domain-Entity {88cbb5de-7cd0-4a00-a14e-e893267afdde}.\n",
      "C:\\ProgramData\\Anaconda3\\lib\\site-packages\\ipykernel_launcher.py:303: DeprecationWarning: Call to deprecated method get_stix_domain_entity. (Replaced by the StixDomainEntity class in pycti) -- Deprecated since version 2.1.0.\n",
      "INFO:root:Reading Stix-Domain-Entity {65e096e1-3467-4bd5-a574-9a475701fbdb}.\n"
     ]
    },
    {
     "name": "stdout",
     "output_type": "stream",
     "text": [
      "88cbb5de-7cd0-4a00-a14e-e893267afdde\n",
      "65e096e1-3467-4bd5-a574-9a475701fbdb\n"
     ]
    },
    {
     "name": "stderr",
     "output_type": "stream",
     "text": [
      "INFO:root:Listing stix_relations with {type: uses, from_id: 88cbb5de-7cd0-4a00-a14e-e893267afdde, to_id: 65e096e1-3467-4bd5-a574-9a475701fbdb}\n",
      "INFO:root:Reading Report {1f2cbc39-8893-4bec-9c59-b9f8fba67062}.\n",
      "INFO:root:Adding Stix-Entity {02fe4ccf-6c26-48ce-a2fe-d8b66a78fb13} to Report {1f2cbc39-8893-4bec-9c59-b9f8fba67062}\n",
      "C:\\ProgramData\\Anaconda3\\lib\\site-packages\\ipykernel_launcher.py:300: DeprecationWarning: Call to deprecated method get_stix_domain_entity. (Replaced by the StixDomainEntity class in pycti) -- Deprecated since version 2.1.0.\n",
      "INFO:root:Reading Stix-Domain-Entity {88cbb5de-7cd0-4a00-a14e-e893267afdde}.\n",
      "C:\\ProgramData\\Anaconda3\\lib\\site-packages\\ipykernel_launcher.py:303: DeprecationWarning: Call to deprecated method get_stix_domain_entity. (Replaced by the StixDomainEntity class in pycti) -- Deprecated since version 2.1.0.\n",
      "INFO:root:Reading Stix-Domain-Entity {a66f1395-d712-4bb0-a268-5547d454dd0f}.\n"
     ]
    },
    {
     "name": "stdout",
     "output_type": "stream",
     "text": [
      "88cbb5de-7cd0-4a00-a14e-e893267afdde\n",
      "a66f1395-d712-4bb0-a268-5547d454dd0f\n"
     ]
    },
    {
     "name": "stderr",
     "output_type": "stream",
     "text": [
      "INFO:root:Listing stix_relations with {type: uses, from_id: 88cbb5de-7cd0-4a00-a14e-e893267afdde, to_id: a66f1395-d712-4bb0-a268-5547d454dd0f}\n",
      "INFO:root:Reading Report {1f2cbc39-8893-4bec-9c59-b9f8fba67062}.\n",
      "INFO:root:Adding Stix-Entity {c7a271ee-eb7a-4979-9f9e-06226b0fb5c2} to Report {1f2cbc39-8893-4bec-9c59-b9f8fba67062}\n",
      "C:\\ProgramData\\Anaconda3\\lib\\site-packages\\ipykernel_launcher.py:300: DeprecationWarning: Call to deprecated method get_stix_domain_entity. (Replaced by the StixDomainEntity class in pycti) -- Deprecated since version 2.1.0.\n",
      "INFO:root:Reading Stix-Domain-Entity {88cbb5de-7cd0-4a00-a14e-e893267afdde}.\n",
      "C:\\ProgramData\\Anaconda3\\lib\\site-packages\\ipykernel_launcher.py:303: DeprecationWarning: Call to deprecated method get_stix_domain_entity. (Replaced by the StixDomainEntity class in pycti) -- Deprecated since version 2.1.0.\n",
      "INFO:root:Reading Stix-Domain-Entity {7c30bee8-9d28-40ff-a89d-e7b9ba12038a}.\n"
     ]
    },
    {
     "name": "stdout",
     "output_type": "stream",
     "text": [
      "88cbb5de-7cd0-4a00-a14e-e893267afdde\n",
      "7c30bee8-9d28-40ff-a89d-e7b9ba12038a\n"
     ]
    },
    {
     "name": "stderr",
     "output_type": "stream",
     "text": [
      "INFO:root:Listing stix_relations with {type: uses, from_id: 88cbb5de-7cd0-4a00-a14e-e893267afdde, to_id: 7c30bee8-9d28-40ff-a89d-e7b9ba12038a}\n",
      "INFO:root:Reading Report {1f2cbc39-8893-4bec-9c59-b9f8fba67062}.\n",
      "INFO:root:Adding Stix-Entity {506d84d2-80b6-4e74-a6a2-ef4d48b8285c} to Report {1f2cbc39-8893-4bec-9c59-b9f8fba67062}\n",
      "C:\\ProgramData\\Anaconda3\\lib\\site-packages\\ipykernel_launcher.py:300: DeprecationWarning: Call to deprecated method get_stix_domain_entity. (Replaced by the StixDomainEntity class in pycti) -- Deprecated since version 2.1.0.\n",
      "INFO:root:Reading Stix-Domain-Entity {88cbb5de-7cd0-4a00-a14e-e893267afdde}.\n",
      "C:\\ProgramData\\Anaconda3\\lib\\site-packages\\ipykernel_launcher.py:303: DeprecationWarning: Call to deprecated method get_stix_domain_entity. (Replaced by the StixDomainEntity class in pycti) -- Deprecated since version 2.1.0.\n",
      "INFO:root:Reading Stix-Domain-Entity {2fbbe108-832e-4454-8bc6-d4e4f682b70b}.\n"
     ]
    },
    {
     "name": "stdout",
     "output_type": "stream",
     "text": [
      "88cbb5de-7cd0-4a00-a14e-e893267afdde\n",
      "2fbbe108-832e-4454-8bc6-d4e4f682b70b\n"
     ]
    },
    {
     "name": "stderr",
     "output_type": "stream",
     "text": [
      "INFO:root:Listing stix_relations with {type: uses, from_id: 88cbb5de-7cd0-4a00-a14e-e893267afdde, to_id: 2fbbe108-832e-4454-8bc6-d4e4f682b70b}\n",
      "INFO:root:Reading Report {1f2cbc39-8893-4bec-9c59-b9f8fba67062}.\n",
      "INFO:root:Adding Stix-Entity {f051c0d4-df5d-41be-bafa-cc358c47af8b} to Report {1f2cbc39-8893-4bec-9c59-b9f8fba67062}\n",
      "C:\\ProgramData\\Anaconda3\\lib\\site-packages\\ipykernel_launcher.py:300: DeprecationWarning: Call to deprecated method get_stix_domain_entity. (Replaced by the StixDomainEntity class in pycti) -- Deprecated since version 2.1.0.\n",
      "INFO:root:Reading Stix-Domain-Entity {d160a012-7be8-4de4-86d3-957cc310d76b}.\n",
      "C:\\ProgramData\\Anaconda3\\lib\\site-packages\\ipykernel_launcher.py:303: DeprecationWarning: Call to deprecated method get_stix_domain_entity. (Replaced by the StixDomainEntity class in pycti) -- Deprecated since version 2.1.0.\n",
      "INFO:root:Reading Stix-Domain-Entity {885223eb-a293-4d4a-aaa8-2dd8d4487076}.\n"
     ]
    },
    {
     "name": "stdout",
     "output_type": "stream",
     "text": [
      "d160a012-7be8-4de4-86d3-957cc310d76b\n",
      "885223eb-a293-4d4a-aaa8-2dd8d4487076\n"
     ]
    },
    {
     "name": "stderr",
     "output_type": "stream",
     "text": [
      "INFO:root:Listing stix_relations with {type: uses, from_id: d160a012-7be8-4de4-86d3-957cc310d76b, to_id: 885223eb-a293-4d4a-aaa8-2dd8d4487076}\n",
      "INFO:root:Reading Report {1f2cbc39-8893-4bec-9c59-b9f8fba67062}.\n",
      "INFO:root:Adding Stix-Entity {65f8b64a-07e2-457a-a044-125f8c11927b} to Report {1f2cbc39-8893-4bec-9c59-b9f8fba67062}\n",
      "C:\\ProgramData\\Anaconda3\\lib\\site-packages\\ipykernel_launcher.py:300: DeprecationWarning: Call to deprecated method get_stix_domain_entity. (Replaced by the StixDomainEntity class in pycti) -- Deprecated since version 2.1.0.\n",
      "INFO:root:Reading Stix-Domain-Entity {d160a012-7be8-4de4-86d3-957cc310d76b}.\n",
      "C:\\ProgramData\\Anaconda3\\lib\\site-packages\\ipykernel_launcher.py:303: DeprecationWarning: Call to deprecated method get_stix_domain_entity. (Replaced by the StixDomainEntity class in pycti) -- Deprecated since version 2.1.0.\n",
      "INFO:root:Reading Stix-Domain-Entity {6f01d49b-f9aa-4610-8bf2-246f9d3e4875}.\n"
     ]
    },
    {
     "name": "stdout",
     "output_type": "stream",
     "text": [
      "d160a012-7be8-4de4-86d3-957cc310d76b\n",
      "6f01d49b-f9aa-4610-8bf2-246f9d3e4875\n"
     ]
    },
    {
     "name": "stderr",
     "output_type": "stream",
     "text": [
      "INFO:root:Listing stix_relations with {type: uses, from_id: d160a012-7be8-4de4-86d3-957cc310d76b, to_id: 6f01d49b-f9aa-4610-8bf2-246f9d3e4875}\n",
      "INFO:root:Reading Report {1f2cbc39-8893-4bec-9c59-b9f8fba67062}.\n",
      "INFO:root:Adding Stix-Entity {467d2b20-2d71-4a72-ae05-e5150e6bec84} to Report {1f2cbc39-8893-4bec-9c59-b9f8fba67062}\n",
      "C:\\ProgramData\\Anaconda3\\lib\\site-packages\\ipykernel_launcher.py:300: DeprecationWarning: Call to deprecated method get_stix_domain_entity. (Replaced by the StixDomainEntity class in pycti) -- Deprecated since version 2.1.0.\n",
      "INFO:root:Reading Stix-Domain-Entity {d160a012-7be8-4de4-86d3-957cc310d76b}.\n",
      "C:\\ProgramData\\Anaconda3\\lib\\site-packages\\ipykernel_launcher.py:303: DeprecationWarning: Call to deprecated method get_stix_domain_entity. (Replaced by the StixDomainEntity class in pycti) -- Deprecated since version 2.1.0.\n",
      "INFO:root:Reading Stix-Domain-Entity {6f01d49b-f9aa-4610-8bf2-246f9d3e4875}.\n"
     ]
    },
    {
     "name": "stdout",
     "output_type": "stream",
     "text": [
      "d160a012-7be8-4de4-86d3-957cc310d76b\n",
      "6f01d49b-f9aa-4610-8bf2-246f9d3e4875\n"
     ]
    },
    {
     "name": "stderr",
     "output_type": "stream",
     "text": [
      "INFO:root:Listing stix_relations with {type: uses, from_id: d160a012-7be8-4de4-86d3-957cc310d76b, to_id: 6f01d49b-f9aa-4610-8bf2-246f9d3e4875}\n",
      "INFO:root:Reading Report {1f2cbc39-8893-4bec-9c59-b9f8fba67062}.\n",
      "C:\\ProgramData\\Anaconda3\\lib\\site-packages\\ipykernel_launcher.py:300: DeprecationWarning: Call to deprecated method get_stix_domain_entity. (Replaced by the StixDomainEntity class in pycti) -- Deprecated since version 2.1.0.\n",
      "INFO:root:Reading Stix-Domain-Entity {d160a012-7be8-4de4-86d3-957cc310d76b}.\n",
      "C:\\ProgramData\\Anaconda3\\lib\\site-packages\\ipykernel_launcher.py:303: DeprecationWarning: Call to deprecated method get_stix_domain_entity. (Replaced by the StixDomainEntity class in pycti) -- Deprecated since version 2.1.0.\n",
      "INFO:root:Reading Stix-Domain-Entity {8c57bb26-ccef-4301-83cb-6a0ae1bcc508}.\n"
     ]
    },
    {
     "name": "stdout",
     "output_type": "stream",
     "text": [
      "d160a012-7be8-4de4-86d3-957cc310d76b\n",
      "8c57bb26-ccef-4301-83cb-6a0ae1bcc508\n"
     ]
    },
    {
     "name": "stderr",
     "output_type": "stream",
     "text": [
      "INFO:root:Listing stix_relations with {type: uses, from_id: d160a012-7be8-4de4-86d3-957cc310d76b, to_id: 8c57bb26-ccef-4301-83cb-6a0ae1bcc508}\n",
      "INFO:root:Reading Report {1f2cbc39-8893-4bec-9c59-b9f8fba67062}.\n",
      "INFO:root:Adding Stix-Entity {39e09541-e288-4848-b8c9-19f0815fae70} to Report {1f2cbc39-8893-4bec-9c59-b9f8fba67062}\n",
      "C:\\ProgramData\\Anaconda3\\lib\\site-packages\\ipykernel_launcher.py:300: DeprecationWarning: Call to deprecated method get_stix_domain_entity. (Replaced by the StixDomainEntity class in pycti) -- Deprecated since version 2.1.0.\n",
      "INFO:root:Reading Stix-Domain-Entity {d160a012-7be8-4de4-86d3-957cc310d76b}.\n",
      "C:\\ProgramData\\Anaconda3\\lib\\site-packages\\ipykernel_launcher.py:303: DeprecationWarning: Call to deprecated method get_stix_domain_entity. (Replaced by the StixDomainEntity class in pycti) -- Deprecated since version 2.1.0.\n",
      "INFO:root:Reading Stix-Domain-Entity {c6cb1bb3-2902-45cc-93b4-83ceb1031509}.\n",
      "INFO:root:Listing stix_relations with {type: uses, from_id: d160a012-7be8-4de4-86d3-957cc310d76b, to_id: c6cb1bb3-2902-45cc-93b4-83ceb1031509}\n"
     ]
    },
    {
     "name": "stdout",
     "output_type": "stream",
     "text": [
      "d160a012-7be8-4de4-86d3-957cc310d76b\n",
      "c6cb1bb3-2902-45cc-93b4-83ceb1031509\n"
     ]
    },
    {
     "name": "stderr",
     "output_type": "stream",
     "text": [
      "INFO:root:Reading Report {1f2cbc39-8893-4bec-9c59-b9f8fba67062}.\n",
      "INFO:root:Adding Stix-Entity {2ea615a9-e0b7-4fc1-b45a-192f3e318fac} to Report {1f2cbc39-8893-4bec-9c59-b9f8fba67062}\n",
      "C:\\ProgramData\\Anaconda3\\lib\\site-packages\\ipykernel_launcher.py:300: DeprecationWarning: Call to deprecated method get_stix_domain_entity. (Replaced by the StixDomainEntity class in pycti) -- Deprecated since version 2.1.0.\n",
      "INFO:root:Reading Stix-Domain-Entity {d160a012-7be8-4de4-86d3-957cc310d76b}.\n",
      "C:\\ProgramData\\Anaconda3\\lib\\site-packages\\ipykernel_launcher.py:303: DeprecationWarning: Call to deprecated method get_stix_domain_entity. (Replaced by the StixDomainEntity class in pycti) -- Deprecated since version 2.1.0.\n",
      "INFO:root:Reading Stix-Domain-Entity {aaf9cc50-5384-45df-b184-2d6048f4ecdd}.\n"
     ]
    },
    {
     "name": "stdout",
     "output_type": "stream",
     "text": [
      "d160a012-7be8-4de4-86d3-957cc310d76b\n",
      "aaf9cc50-5384-45df-b184-2d6048f4ecdd\n"
     ]
    },
    {
     "name": "stderr",
     "output_type": "stream",
     "text": [
      "INFO:root:Listing stix_relations with {type: uses, from_id: d160a012-7be8-4de4-86d3-957cc310d76b, to_id: aaf9cc50-5384-45df-b184-2d6048f4ecdd}\n",
      "INFO:root:Reading Report {1f2cbc39-8893-4bec-9c59-b9f8fba67062}.\n",
      "INFO:root:Adding Stix-Entity {71292036-0234-400c-8a9e-1ea1db03a4c6} to Report {1f2cbc39-8893-4bec-9c59-b9f8fba67062}\n",
      "C:\\ProgramData\\Anaconda3\\lib\\site-packages\\ipykernel_launcher.py:300: DeprecationWarning: Call to deprecated method get_stix_domain_entity. (Replaced by the StixDomainEntity class in pycti) -- Deprecated since version 2.1.0.\n",
      "INFO:root:Reading Stix-Domain-Entity {d160a012-7be8-4de4-86d3-957cc310d76b}.\n",
      "C:\\ProgramData\\Anaconda3\\lib\\site-packages\\ipykernel_launcher.py:303: DeprecationWarning: Call to deprecated method get_stix_domain_entity. (Replaced by the StixDomainEntity class in pycti) -- Deprecated since version 2.1.0.\n",
      "INFO:root:Reading Stix-Domain-Entity {a66f1395-d712-4bb0-a268-5547d454dd0f}.\n"
     ]
    },
    {
     "name": "stdout",
     "output_type": "stream",
     "text": [
      "d160a012-7be8-4de4-86d3-957cc310d76b\n",
      "a66f1395-d712-4bb0-a268-5547d454dd0f\n"
     ]
    },
    {
     "name": "stderr",
     "output_type": "stream",
     "text": [
      "INFO:root:Listing stix_relations with {type: uses, from_id: d160a012-7be8-4de4-86d3-957cc310d76b, to_id: a66f1395-d712-4bb0-a268-5547d454dd0f}\n",
      "INFO:root:Reading Report {1f2cbc39-8893-4bec-9c59-b9f8fba67062}.\n",
      "INFO:root:Adding Stix-Entity {6fa6ca13-18c8-4636-8a8d-3ac458061c35} to Report {1f2cbc39-8893-4bec-9c59-b9f8fba67062}\n",
      "C:\\ProgramData\\Anaconda3\\lib\\site-packages\\ipykernel_launcher.py:300: DeprecationWarning: Call to deprecated method get_stix_domain_entity. (Replaced by the StixDomainEntity class in pycti) -- Deprecated since version 2.1.0.\n",
      "INFO:root:Reading Stix-Domain-Entity {d160a012-7be8-4de4-86d3-957cc310d76b}.\n",
      "C:\\ProgramData\\Anaconda3\\lib\\site-packages\\ipykernel_launcher.py:303: DeprecationWarning: Call to deprecated method get_stix_domain_entity. (Replaced by the StixDomainEntity class in pycti) -- Deprecated since version 2.1.0.\n",
      "INFO:root:Reading Stix-Domain-Entity {e61a95eb-d86f-400a-885d-f6895ede1327}.\n"
     ]
    },
    {
     "name": "stdout",
     "output_type": "stream",
     "text": [
      "d160a012-7be8-4de4-86d3-957cc310d76b\n",
      "e61a95eb-d86f-400a-885d-f6895ede1327\n"
     ]
    },
    {
     "name": "stderr",
     "output_type": "stream",
     "text": [
      "INFO:root:Listing stix_relations with {type: uses, from_id: d160a012-7be8-4de4-86d3-957cc310d76b, to_id: e61a95eb-d86f-400a-885d-f6895ede1327}\n",
      "INFO:root:Reading Report {1f2cbc39-8893-4bec-9c59-b9f8fba67062}.\n",
      "INFO:root:Adding Stix-Entity {1aa9f8c1-3d63-458d-8582-2eeb602a232d} to Report {1f2cbc39-8893-4bec-9c59-b9f8fba67062}\n",
      "C:\\ProgramData\\Anaconda3\\lib\\site-packages\\ipykernel_launcher.py:300: DeprecationWarning: Call to deprecated method get_stix_domain_entity. (Replaced by the StixDomainEntity class in pycti) -- Deprecated since version 2.1.0.\n",
      "INFO:root:Reading Stix-Domain-Entity {d160a012-7be8-4de4-86d3-957cc310d76b}.\n",
      "C:\\ProgramData\\Anaconda3\\lib\\site-packages\\ipykernel_launcher.py:303: DeprecationWarning: Call to deprecated method get_stix_domain_entity. (Replaced by the StixDomainEntity class in pycti) -- Deprecated since version 2.1.0.\n",
      "INFO:root:Reading Stix-Domain-Entity {e61a95eb-d86f-400a-885d-f6895ede1327}.\n"
     ]
    },
    {
     "name": "stdout",
     "output_type": "stream",
     "text": [
      "d160a012-7be8-4de4-86d3-957cc310d76b\n",
      "e61a95eb-d86f-400a-885d-f6895ede1327\n"
     ]
    },
    {
     "name": "stderr",
     "output_type": "stream",
     "text": [
      "INFO:root:Listing stix_relations with {type: uses, from_id: d160a012-7be8-4de4-86d3-957cc310d76b, to_id: e61a95eb-d86f-400a-885d-f6895ede1327}\n",
      "INFO:root:Reading Report {1f2cbc39-8893-4bec-9c59-b9f8fba67062}.\n",
      "C:\\ProgramData\\Anaconda3\\lib\\site-packages\\ipykernel_launcher.py:300: DeprecationWarning: Call to deprecated method get_stix_domain_entity. (Replaced by the StixDomainEntity class in pycti) -- Deprecated since version 2.1.0.\n",
      "INFO:root:Reading Stix-Domain-Entity {d160a012-7be8-4de4-86d3-957cc310d76b}.\n",
      "C:\\ProgramData\\Anaconda3\\lib\\site-packages\\ipykernel_launcher.py:303: DeprecationWarning: Call to deprecated method get_stix_domain_entity. (Replaced by the StixDomainEntity class in pycti) -- Deprecated since version 2.1.0.\n",
      "INFO:root:Reading Stix-Domain-Entity {7c30bee8-9d28-40ff-a89d-e7b9ba12038a}.\n"
     ]
    },
    {
     "name": "stdout",
     "output_type": "stream",
     "text": [
      "d160a012-7be8-4de4-86d3-957cc310d76b\n",
      "7c30bee8-9d28-40ff-a89d-e7b9ba12038a\n"
     ]
    },
    {
     "name": "stderr",
     "output_type": "stream",
     "text": [
      "INFO:root:Listing stix_relations with {type: uses, from_id: d160a012-7be8-4de4-86d3-957cc310d76b, to_id: 7c30bee8-9d28-40ff-a89d-e7b9ba12038a}\n",
      "INFO:root:Reading Report {1f2cbc39-8893-4bec-9c59-b9f8fba67062}.\n",
      "INFO:root:Adding Stix-Entity {60d0315a-88f5-4f3a-a1d3-3cf8f2bbeb09} to Report {1f2cbc39-8893-4bec-9c59-b9f8fba67062}\n",
      "C:\\ProgramData\\Anaconda3\\lib\\site-packages\\ipykernel_launcher.py:300: DeprecationWarning: Call to deprecated method get_stix_domain_entity. (Replaced by the StixDomainEntity class in pycti) -- Deprecated since version 2.1.0.\n",
      "INFO:root:Reading Stix-Domain-Entity {d160a012-7be8-4de4-86d3-957cc310d76b}.\n",
      "C:\\ProgramData\\Anaconda3\\lib\\site-packages\\ipykernel_launcher.py:303: DeprecationWarning: Call to deprecated method get_stix_domain_entity. (Replaced by the StixDomainEntity class in pycti) -- Deprecated since version 2.1.0.\n",
      "INFO:root:Reading Stix-Domain-Entity {2fbbe108-832e-4454-8bc6-d4e4f682b70b}.\n"
     ]
    },
    {
     "name": "stdout",
     "output_type": "stream",
     "text": [
      "d160a012-7be8-4de4-86d3-957cc310d76b\n",
      "2fbbe108-832e-4454-8bc6-d4e4f682b70b\n"
     ]
    },
    {
     "name": "stderr",
     "output_type": "stream",
     "text": [
      "INFO:root:Listing stix_relations with {type: uses, from_id: d160a012-7be8-4de4-86d3-957cc310d76b, to_id: 2fbbe108-832e-4454-8bc6-d4e4f682b70b}\n",
      "INFO:root:Reading Report {1f2cbc39-8893-4bec-9c59-b9f8fba67062}.\n",
      "INFO:root:Adding Stix-Entity {82d4b2db-d22b-469f-8dab-0ed604ca446f} to Report {1f2cbc39-8893-4bec-9c59-b9f8fba67062}\n",
      "C:\\ProgramData\\Anaconda3\\lib\\site-packages\\ipykernel_launcher.py:300: DeprecationWarning: Call to deprecated method get_stix_domain_entity. (Replaced by the StixDomainEntity class in pycti) -- Deprecated since version 2.1.0.\n",
      "INFO:root:Reading Stix-Domain-Entity {d2f5de38-118b-465f-84ef-5e8f2ba6f138}.\n",
      "C:\\ProgramData\\Anaconda3\\lib\\site-packages\\ipykernel_launcher.py:303: DeprecationWarning: Call to deprecated method get_stix_domain_entity. (Replaced by the StixDomainEntity class in pycti) -- Deprecated since version 2.1.0.\n",
      "INFO:root:Reading Stix-Domain-Entity {923139f5-b823-482c-8fd9-0f0e49672e78}.\n",
      "INFO:root:Listing stix_relations with {type: uses, from_id: d2f5de38-118b-465f-84ef-5e8f2ba6f138, to_id: 923139f5-b823-482c-8fd9-0f0e49672e78}\n"
     ]
    },
    {
     "name": "stdout",
     "output_type": "stream",
     "text": [
      "d2f5de38-118b-465f-84ef-5e8f2ba6f138\n",
      "923139f5-b823-482c-8fd9-0f0e49672e78\n"
     ]
    },
    {
     "name": "stderr",
     "output_type": "stream",
     "text": [
      "INFO:root:Reading Report {1f2cbc39-8893-4bec-9c59-b9f8fba67062}.\n",
      "INFO:root:Adding Stix-Entity {e0582f7b-19e8-438f-bb92-3cab9e1770ac} to Report {1f2cbc39-8893-4bec-9c59-b9f8fba67062}\n",
      "C:\\ProgramData\\Anaconda3\\lib\\site-packages\\ipykernel_launcher.py:300: DeprecationWarning: Call to deprecated method get_stix_domain_entity. (Replaced by the StixDomainEntity class in pycti) -- Deprecated since version 2.1.0.\n",
      "INFO:root:Reading Stix-Domain-Entity {d2f5de38-118b-465f-84ef-5e8f2ba6f138}.\n",
      "C:\\ProgramData\\Anaconda3\\lib\\site-packages\\ipykernel_launcher.py:303: DeprecationWarning: Call to deprecated method get_stix_domain_entity. (Replaced by the StixDomainEntity class in pycti) -- Deprecated since version 2.1.0.\n",
      "INFO:root:Reading Stix-Domain-Entity {58eacb3e-a736-41c8-ba57-9328e4adbca5}.\n"
     ]
    },
    {
     "name": "stdout",
     "output_type": "stream",
     "text": [
      "d2f5de38-118b-465f-84ef-5e8f2ba6f138\n",
      "58eacb3e-a736-41c8-ba57-9328e4adbca5\n"
     ]
    },
    {
     "name": "stderr",
     "output_type": "stream",
     "text": [
      "INFO:root:Listing stix_relations with {type: uses, from_id: d2f5de38-118b-465f-84ef-5e8f2ba6f138, to_id: 58eacb3e-a736-41c8-ba57-9328e4adbca5}\n",
      "INFO:root:Reading Report {1f2cbc39-8893-4bec-9c59-b9f8fba67062}.\n",
      "INFO:root:Adding Stix-Entity {406c2af6-8059-40c6-a5e0-04f6415b8d84} to Report {1f2cbc39-8893-4bec-9c59-b9f8fba67062}\n",
      "C:\\ProgramData\\Anaconda3\\lib\\site-packages\\ipykernel_launcher.py:300: DeprecationWarning: Call to deprecated method get_stix_domain_entity. (Replaced by the StixDomainEntity class in pycti) -- Deprecated since version 2.1.0.\n",
      "INFO:root:Reading Stix-Domain-Entity {d2f5de38-118b-465f-84ef-5e8f2ba6f138}.\n",
      "C:\\ProgramData\\Anaconda3\\lib\\site-packages\\ipykernel_launcher.py:303: DeprecationWarning: Call to deprecated method get_stix_domain_entity. (Replaced by the StixDomainEntity class in pycti) -- Deprecated since version 2.1.0.\n",
      "INFO:root:Reading Stix-Domain-Entity {a66f1395-d712-4bb0-a268-5547d454dd0f}.\n",
      "INFO:root:Listing stix_relations with {type: uses, from_id: d2f5de38-118b-465f-84ef-5e8f2ba6f138, to_id: a66f1395-d712-4bb0-a268-5547d454dd0f}\n"
     ]
    },
    {
     "name": "stdout",
     "output_type": "stream",
     "text": [
      "d2f5de38-118b-465f-84ef-5e8f2ba6f138\n",
      "a66f1395-d712-4bb0-a268-5547d454dd0f\n"
     ]
    },
    {
     "name": "stderr",
     "output_type": "stream",
     "text": [
      "INFO:root:Reading Report {1f2cbc39-8893-4bec-9c59-b9f8fba67062}.\n",
      "INFO:root:Adding Stix-Entity {d22b15e8-84ed-4d5a-ad61-ce1b9338ede4} to Report {1f2cbc39-8893-4bec-9c59-b9f8fba67062}\n",
      "C:\\ProgramData\\Anaconda3\\lib\\site-packages\\ipykernel_launcher.py:300: DeprecationWarning: Call to deprecated method get_stix_domain_entity. (Replaced by the StixDomainEntity class in pycti) -- Deprecated since version 2.1.0.\n",
      "INFO:root:Reading Stix-Domain-Entity {d2f5de38-118b-465f-84ef-5e8f2ba6f138}.\n",
      "C:\\ProgramData\\Anaconda3\\lib\\site-packages\\ipykernel_launcher.py:303: DeprecationWarning: Call to deprecated method get_stix_domain_entity. (Replaced by the StixDomainEntity class in pycti) -- Deprecated since version 2.1.0.\n",
      "INFO:root:Reading Stix-Domain-Entity {de251092-8d94-428a-b26d-713b96658a46}.\n",
      "INFO:root:Listing stix_relations with {type: uses, from_id: d2f5de38-118b-465f-84ef-5e8f2ba6f138, to_id: de251092-8d94-428a-b26d-713b96658a46}\n"
     ]
    },
    {
     "name": "stdout",
     "output_type": "stream",
     "text": [
      "d2f5de38-118b-465f-84ef-5e8f2ba6f138\n",
      "de251092-8d94-428a-b26d-713b96658a46\n"
     ]
    },
    {
     "name": "stderr",
     "output_type": "stream",
     "text": [
      "INFO:root:Reading Report {1f2cbc39-8893-4bec-9c59-b9f8fba67062}.\n",
      "INFO:root:Adding Stix-Entity {c0ff1401-2e64-4bdc-b607-812ded10ef70} to Report {1f2cbc39-8893-4bec-9c59-b9f8fba67062}\n",
      "C:\\ProgramData\\Anaconda3\\lib\\site-packages\\ipykernel_launcher.py:300: DeprecationWarning: Call to deprecated method get_stix_domain_entity. (Replaced by the StixDomainEntity class in pycti) -- Deprecated since version 2.1.0.\n",
      "INFO:root:Reading Stix-Domain-Entity {d2f5de38-118b-465f-84ef-5e8f2ba6f138}.\n",
      "C:\\ProgramData\\Anaconda3\\lib\\site-packages\\ipykernel_launcher.py:303: DeprecationWarning: Call to deprecated method get_stix_domain_entity. (Replaced by the StixDomainEntity class in pycti) -- Deprecated since version 2.1.0.\n",
      "INFO:root:Reading Stix-Domain-Entity {2fbbe108-832e-4454-8bc6-d4e4f682b70b}.\n"
     ]
    },
    {
     "name": "stdout",
     "output_type": "stream",
     "text": [
      "d2f5de38-118b-465f-84ef-5e8f2ba6f138\n",
      "2fbbe108-832e-4454-8bc6-d4e4f682b70b\n"
     ]
    },
    {
     "name": "stderr",
     "output_type": "stream",
     "text": [
      "INFO:root:Listing stix_relations with {type: uses, from_id: d2f5de38-118b-465f-84ef-5e8f2ba6f138, to_id: 2fbbe108-832e-4454-8bc6-d4e4f682b70b}\n",
      "INFO:root:Reading Report {1f2cbc39-8893-4bec-9c59-b9f8fba67062}.\n",
      "INFO:root:Adding Stix-Entity {df7014e2-6595-4507-94a8-e3a7d7092385} to Report {1f2cbc39-8893-4bec-9c59-b9f8fba67062}\n",
      "C:\\ProgramData\\Anaconda3\\lib\\site-packages\\ipykernel_launcher.py:300: DeprecationWarning: Call to deprecated method get_stix_domain_entity. (Replaced by the StixDomainEntity class in pycti) -- Deprecated since version 2.1.0.\n",
      "INFO:root:Reading Stix-Domain-Entity {992c84bb-2737-4600-bec3-71c96e20bbc0}.\n",
      "C:\\ProgramData\\Anaconda3\\lib\\site-packages\\ipykernel_launcher.py:303: DeprecationWarning: Call to deprecated method get_stix_domain_entity. (Replaced by the StixDomainEntity class in pycti) -- Deprecated since version 2.1.0.\n",
      "INFO:root:Reading Stix-Domain-Entity {98fd75a1-aca9-4b77-9db8-6c6a10e30246}.\n"
     ]
    },
    {
     "name": "stdout",
     "output_type": "stream",
     "text": [
      "992c84bb-2737-4600-bec3-71c96e20bbc0\n",
      "98fd75a1-aca9-4b77-9db8-6c6a10e30246\n"
     ]
    },
    {
     "name": "stderr",
     "output_type": "stream",
     "text": [
      "INFO:root:Listing stix_relations with {type: uses, from_id: 992c84bb-2737-4600-bec3-71c96e20bbc0, to_id: 98fd75a1-aca9-4b77-9db8-6c6a10e30246}\n",
      "INFO:root:Reading Report {1f2cbc39-8893-4bec-9c59-b9f8fba67062}.\n",
      "INFO:root:Adding Stix-Entity {f24cb099-31e5-4ada-8c42-41ec7441ab41} to Report {1f2cbc39-8893-4bec-9c59-b9f8fba67062}\n",
      "C:\\ProgramData\\Anaconda3\\lib\\site-packages\\ipykernel_launcher.py:300: DeprecationWarning: Call to deprecated method get_stix_domain_entity. (Replaced by the StixDomainEntity class in pycti) -- Deprecated since version 2.1.0.\n",
      "INFO:root:Reading Stix-Domain-Entity {992c84bb-2737-4600-bec3-71c96e20bbc0}.\n",
      "C:\\ProgramData\\Anaconda3\\lib\\site-packages\\ipykernel_launcher.py:303: DeprecationWarning: Call to deprecated method get_stix_domain_entity. (Replaced by the StixDomainEntity class in pycti) -- Deprecated since version 2.1.0.\n",
      "INFO:root:Reading Stix-Domain-Entity {98fd75a1-aca9-4b77-9db8-6c6a10e30246}.\n"
     ]
    },
    {
     "name": "stdout",
     "output_type": "stream",
     "text": [
      "992c84bb-2737-4600-bec3-71c96e20bbc0\n",
      "98fd75a1-aca9-4b77-9db8-6c6a10e30246\n"
     ]
    },
    {
     "name": "stderr",
     "output_type": "stream",
     "text": [
      "INFO:root:Listing stix_relations with {type: uses, from_id: 992c84bb-2737-4600-bec3-71c96e20bbc0, to_id: 98fd75a1-aca9-4b77-9db8-6c6a10e30246}\n",
      "INFO:root:Reading Report {1f2cbc39-8893-4bec-9c59-b9f8fba67062}.\n",
      "C:\\ProgramData\\Anaconda3\\lib\\site-packages\\ipykernel_launcher.py:300: DeprecationWarning: Call to deprecated method get_stix_domain_entity. (Replaced by the StixDomainEntity class in pycti) -- Deprecated since version 2.1.0.\n",
      "INFO:root:Reading Stix-Domain-Entity {992c84bb-2737-4600-bec3-71c96e20bbc0}.\n",
      "C:\\ProgramData\\Anaconda3\\lib\\site-packages\\ipykernel_launcher.py:303: DeprecationWarning: Call to deprecated method get_stix_domain_entity. (Replaced by the StixDomainEntity class in pycti) -- Deprecated since version 2.1.0.\n",
      "INFO:root:Reading Stix-Domain-Entity {2fbbe108-832e-4454-8bc6-d4e4f682b70b}.\n"
     ]
    },
    {
     "name": "stdout",
     "output_type": "stream",
     "text": [
      "992c84bb-2737-4600-bec3-71c96e20bbc0\n",
      "2fbbe108-832e-4454-8bc6-d4e4f682b70b\n"
     ]
    },
    {
     "name": "stderr",
     "output_type": "stream",
     "text": [
      "INFO:root:Listing stix_relations with {type: uses, from_id: 992c84bb-2737-4600-bec3-71c96e20bbc0, to_id: 2fbbe108-832e-4454-8bc6-d4e4f682b70b}\n",
      "INFO:root:Reading Report {1f2cbc39-8893-4bec-9c59-b9f8fba67062}.\n",
      "INFO:root:Adding Stix-Entity {3717ab3c-7f64-4976-9c9c-83b2e5558431} to Report {1f2cbc39-8893-4bec-9c59-b9f8fba67062}\n",
      "C:\\ProgramData\\Anaconda3\\lib\\site-packages\\ipykernel_launcher.py:300: DeprecationWarning: Call to deprecated method get_stix_domain_entity. (Replaced by the StixDomainEntity class in pycti) -- Deprecated since version 2.1.0.\n",
      "INFO:root:Reading Stix-Domain-Entity {06ef98bc-90d3-44d0-9b31-47dd138daa3d}.\n",
      "C:\\ProgramData\\Anaconda3\\lib\\site-packages\\ipykernel_launcher.py:303: DeprecationWarning: Call to deprecated method get_stix_domain_entity. (Replaced by the StixDomainEntity class in pycti) -- Deprecated since version 2.1.0.\n",
      "INFO:root:Reading Stix-Domain-Entity {e3f49f39-45fb-40cc-b44f-4af592d48328}.\n"
     ]
    },
    {
     "name": "stdout",
     "output_type": "stream",
     "text": [
      "06ef98bc-90d3-44d0-9b31-47dd138daa3d\n",
      "e3f49f39-45fb-40cc-b44f-4af592d48328\n"
     ]
    },
    {
     "name": "stderr",
     "output_type": "stream",
     "text": [
      "INFO:root:Listing stix_relations with {type: uses, from_id: 06ef98bc-90d3-44d0-9b31-47dd138daa3d, to_id: e3f49f39-45fb-40cc-b44f-4af592d48328}\n",
      "INFO:root:Reading Report {1f2cbc39-8893-4bec-9c59-b9f8fba67062}.\n",
      "INFO:root:Adding Stix-Entity {be0bac34-2a9a-4d7a-838d-567179501156} to Report {1f2cbc39-8893-4bec-9c59-b9f8fba67062}\n",
      "C:\\ProgramData\\Anaconda3\\lib\\site-packages\\ipykernel_launcher.py:300: DeprecationWarning: Call to deprecated method get_stix_domain_entity. (Replaced by the StixDomainEntity class in pycti) -- Deprecated since version 2.1.0.\n",
      "INFO:root:Reading Stix-Domain-Entity {06ef98bc-90d3-44d0-9b31-47dd138daa3d}.\n",
      "C:\\ProgramData\\Anaconda3\\lib\\site-packages\\ipykernel_launcher.py:303: DeprecationWarning: Call to deprecated method get_stix_domain_entity. (Replaced by the StixDomainEntity class in pycti) -- Deprecated since version 2.1.0.\n",
      "INFO:root:Reading Stix-Domain-Entity {a66f1395-d712-4bb0-a268-5547d454dd0f}.\n"
     ]
    },
    {
     "name": "stdout",
     "output_type": "stream",
     "text": [
      "06ef98bc-90d3-44d0-9b31-47dd138daa3d\n",
      "a66f1395-d712-4bb0-a268-5547d454dd0f\n"
     ]
    },
    {
     "name": "stderr",
     "output_type": "stream",
     "text": [
      "INFO:root:Listing stix_relations with {type: uses, from_id: 06ef98bc-90d3-44d0-9b31-47dd138daa3d, to_id: a66f1395-d712-4bb0-a268-5547d454dd0f}\n",
      "INFO:root:Reading Report {1f2cbc39-8893-4bec-9c59-b9f8fba67062}.\n",
      "INFO:root:Adding Stix-Entity {2faf162a-fdb4-4be4-91fe-54ac30e11c6a} to Report {1f2cbc39-8893-4bec-9c59-b9f8fba67062}\n",
      "C:\\ProgramData\\Anaconda3\\lib\\site-packages\\ipykernel_launcher.py:300: DeprecationWarning: Call to deprecated method get_stix_domain_entity. (Replaced by the StixDomainEntity class in pycti) -- Deprecated since version 2.1.0.\n",
      "INFO:root:Reading Stix-Domain-Entity {9fa5e609-537d-483a-98fe-f463e405df11}.\n",
      "C:\\ProgramData\\Anaconda3\\lib\\site-packages\\ipykernel_launcher.py:303: DeprecationWarning: Call to deprecated method get_stix_domain_entity. (Replaced by the StixDomainEntity class in pycti) -- Deprecated since version 2.1.0.\n",
      "INFO:root:Reading Stix-Domain-Entity {885223eb-a293-4d4a-aaa8-2dd8d4487076}.\n"
     ]
    },
    {
     "name": "stdout",
     "output_type": "stream",
     "text": [
      "9fa5e609-537d-483a-98fe-f463e405df11\n",
      "885223eb-a293-4d4a-aaa8-2dd8d4487076\n"
     ]
    },
    {
     "name": "stderr",
     "output_type": "stream",
     "text": [
      "INFO:root:Listing stix_relations with {type: uses, from_id: 9fa5e609-537d-483a-98fe-f463e405df11, to_id: 885223eb-a293-4d4a-aaa8-2dd8d4487076}\n",
      "INFO:root:Reading Report {1f2cbc39-8893-4bec-9c59-b9f8fba67062}.\n",
      "INFO:root:Adding Stix-Entity {6ecb027e-9f22-4410-8ae5-1984a2d98e05} to Report {1f2cbc39-8893-4bec-9c59-b9f8fba67062}\n",
      "C:\\ProgramData\\Anaconda3\\lib\\site-packages\\ipykernel_launcher.py:300: DeprecationWarning: Call to deprecated method get_stix_domain_entity. (Replaced by the StixDomainEntity class in pycti) -- Deprecated since version 2.1.0.\n",
      "INFO:root:Reading Stix-Domain-Entity {9fa5e609-537d-483a-98fe-f463e405df11}.\n",
      "C:\\ProgramData\\Anaconda3\\lib\\site-packages\\ipykernel_launcher.py:303: DeprecationWarning: Call to deprecated method get_stix_domain_entity. (Replaced by the StixDomainEntity class in pycti) -- Deprecated since version 2.1.0.\n",
      "INFO:root:Reading Stix-Domain-Entity {651e2539-4a7d-47fc-8df2-ff67583c3801}.\n"
     ]
    },
    {
     "name": "stdout",
     "output_type": "stream",
     "text": [
      "9fa5e609-537d-483a-98fe-f463e405df11\n",
      "651e2539-4a7d-47fc-8df2-ff67583c3801\n"
     ]
    },
    {
     "name": "stderr",
     "output_type": "stream",
     "text": [
      "INFO:root:Listing stix_relations with {type: uses, from_id: 9fa5e609-537d-483a-98fe-f463e405df11, to_id: 651e2539-4a7d-47fc-8df2-ff67583c3801}\n",
      "INFO:root:Reading Report {1f2cbc39-8893-4bec-9c59-b9f8fba67062}.\n",
      "INFO:root:Adding Stix-Entity {538f0599-1e57-4ea2-b423-8f3d66f8c47f} to Report {1f2cbc39-8893-4bec-9c59-b9f8fba67062}\n",
      "C:\\ProgramData\\Anaconda3\\lib\\site-packages\\ipykernel_launcher.py:300: DeprecationWarning: Call to deprecated method get_stix_domain_entity. (Replaced by the StixDomainEntity class in pycti) -- Deprecated since version 2.1.0.\n",
      "INFO:root:Reading Stix-Domain-Entity {9fa5e609-537d-483a-98fe-f463e405df11}.\n",
      "C:\\ProgramData\\Anaconda3\\lib\\site-packages\\ipykernel_launcher.py:303: DeprecationWarning: Call to deprecated method get_stix_domain_entity. (Replaced by the StixDomainEntity class in pycti) -- Deprecated since version 2.1.0.\n",
      "INFO:root:Reading Stix-Domain-Entity {651e2539-4a7d-47fc-8df2-ff67583c3801}.\n"
     ]
    },
    {
     "name": "stdout",
     "output_type": "stream",
     "text": [
      "9fa5e609-537d-483a-98fe-f463e405df11\n",
      "651e2539-4a7d-47fc-8df2-ff67583c3801\n"
     ]
    },
    {
     "name": "stderr",
     "output_type": "stream",
     "text": [
      "INFO:root:Listing stix_relations with {type: uses, from_id: 9fa5e609-537d-483a-98fe-f463e405df11, to_id: 651e2539-4a7d-47fc-8df2-ff67583c3801}\n",
      "INFO:root:Reading Report {1f2cbc39-8893-4bec-9c59-b9f8fba67062}.\n",
      "C:\\ProgramData\\Anaconda3\\lib\\site-packages\\ipykernel_launcher.py:300: DeprecationWarning: Call to deprecated method get_stix_domain_entity. (Replaced by the StixDomainEntity class in pycti) -- Deprecated since version 2.1.0.\n",
      "INFO:root:Reading Stix-Domain-Entity {9fa5e609-537d-483a-98fe-f463e405df11}.\n",
      "C:\\ProgramData\\Anaconda3\\lib\\site-packages\\ipykernel_launcher.py:303: DeprecationWarning: Call to deprecated method get_stix_domain_entity. (Replaced by the StixDomainEntity class in pycti) -- Deprecated since version 2.1.0.\n",
      "INFO:root:Reading Stix-Domain-Entity {c6cb1bb3-2902-45cc-93b4-83ceb1031509}.\n"
     ]
    },
    {
     "name": "stdout",
     "output_type": "stream",
     "text": [
      "9fa5e609-537d-483a-98fe-f463e405df11\n",
      "c6cb1bb3-2902-45cc-93b4-83ceb1031509\n"
     ]
    },
    {
     "name": "stderr",
     "output_type": "stream",
     "text": [
      "INFO:root:Listing stix_relations with {type: uses, from_id: 9fa5e609-537d-483a-98fe-f463e405df11, to_id: c6cb1bb3-2902-45cc-93b4-83ceb1031509}\n",
      "INFO:root:Reading Report {1f2cbc39-8893-4bec-9c59-b9f8fba67062}.\n",
      "INFO:root:Adding Stix-Entity {cd423f31-cc1d-42b8-ba79-5e9634331c9b} to Report {1f2cbc39-8893-4bec-9c59-b9f8fba67062}\n",
      "C:\\ProgramData\\Anaconda3\\lib\\site-packages\\ipykernel_launcher.py:300: DeprecationWarning: Call to deprecated method get_stix_domain_entity. (Replaced by the StixDomainEntity class in pycti) -- Deprecated since version 2.1.0.\n",
      "INFO:root:Reading Stix-Domain-Entity {9fa5e609-537d-483a-98fe-f463e405df11}.\n",
      "C:\\ProgramData\\Anaconda3\\lib\\site-packages\\ipykernel_launcher.py:303: DeprecationWarning: Call to deprecated method get_stix_domain_entity. (Replaced by the StixDomainEntity class in pycti) -- Deprecated since version 2.1.0.\n",
      "INFO:root:Reading Stix-Domain-Entity {5ef8a53d-1e82-47b5-990e-2a0a46aa5e86}.\n"
     ]
    },
    {
     "name": "stdout",
     "output_type": "stream",
     "text": [
      "9fa5e609-537d-483a-98fe-f463e405df11\n",
      "5ef8a53d-1e82-47b5-990e-2a0a46aa5e86\n"
     ]
    },
    {
     "name": "stderr",
     "output_type": "stream",
     "text": [
      "INFO:root:Listing stix_relations with {type: uses, from_id: 9fa5e609-537d-483a-98fe-f463e405df11, to_id: 5ef8a53d-1e82-47b5-990e-2a0a46aa5e86}\n",
      "INFO:root:Reading Report {1f2cbc39-8893-4bec-9c59-b9f8fba67062}.\n",
      "INFO:root:Adding Stix-Entity {cca9b381-fee9-4ede-bad2-a692287c5fe1} to Report {1f2cbc39-8893-4bec-9c59-b9f8fba67062}\n",
      "C:\\ProgramData\\Anaconda3\\lib\\site-packages\\ipykernel_launcher.py:300: DeprecationWarning: Call to deprecated method get_stix_domain_entity. (Replaced by the StixDomainEntity class in pycti) -- Deprecated since version 2.1.0.\n",
      "INFO:root:Reading Stix-Domain-Entity {9fa5e609-537d-483a-98fe-f463e405df11}.\n",
      "C:\\ProgramData\\Anaconda3\\lib\\site-packages\\ipykernel_launcher.py:303: DeprecationWarning: Call to deprecated method get_stix_domain_entity. (Replaced by the StixDomainEntity class in pycti) -- Deprecated since version 2.1.0.\n",
      "INFO:root:Reading Stix-Domain-Entity {aaf9cc50-5384-45df-b184-2d6048f4ecdd}.\n"
     ]
    },
    {
     "name": "stdout",
     "output_type": "stream",
     "text": [
      "9fa5e609-537d-483a-98fe-f463e405df11\n",
      "aaf9cc50-5384-45df-b184-2d6048f4ecdd\n"
     ]
    },
    {
     "name": "stderr",
     "output_type": "stream",
     "text": [
      "INFO:root:Listing stix_relations with {type: uses, from_id: 9fa5e609-537d-483a-98fe-f463e405df11, to_id: aaf9cc50-5384-45df-b184-2d6048f4ecdd}\n",
      "INFO:root:Reading Report {1f2cbc39-8893-4bec-9c59-b9f8fba67062}.\n",
      "INFO:root:Adding Stix-Entity {0db2f249-1b34-44b6-a16f-7bc84d81c5f8} to Report {1f2cbc39-8893-4bec-9c59-b9f8fba67062}\n",
      "C:\\ProgramData\\Anaconda3\\lib\\site-packages\\ipykernel_launcher.py:300: DeprecationWarning: Call to deprecated method get_stix_domain_entity. (Replaced by the StixDomainEntity class in pycti) -- Deprecated since version 2.1.0.\n",
      "INFO:root:Reading Stix-Domain-Entity {9fa5e609-537d-483a-98fe-f463e405df11}.\n",
      "C:\\ProgramData\\Anaconda3\\lib\\site-packages\\ipykernel_launcher.py:303: DeprecationWarning: Call to deprecated method get_stix_domain_entity. (Replaced by the StixDomainEntity class in pycti) -- Deprecated since version 2.1.0.\n",
      "INFO:root:Reading Stix-Domain-Entity {58eacb3e-a736-41c8-ba57-9328e4adbca5}.\n"
     ]
    },
    {
     "name": "stdout",
     "output_type": "stream",
     "text": [
      "9fa5e609-537d-483a-98fe-f463e405df11\n",
      "58eacb3e-a736-41c8-ba57-9328e4adbca5\n"
     ]
    },
    {
     "name": "stderr",
     "output_type": "stream",
     "text": [
      "INFO:root:Listing stix_relations with {type: uses, from_id: 9fa5e609-537d-483a-98fe-f463e405df11, to_id: 58eacb3e-a736-41c8-ba57-9328e4adbca5}\n",
      "INFO:root:Reading Report {1f2cbc39-8893-4bec-9c59-b9f8fba67062}.\n",
      "INFO:root:Adding Stix-Entity {0b7c752b-6db4-4203-9f77-4f442b8e1e71} to Report {1f2cbc39-8893-4bec-9c59-b9f8fba67062}\n",
      "C:\\ProgramData\\Anaconda3\\lib\\site-packages\\ipykernel_launcher.py:300: DeprecationWarning: Call to deprecated method get_stix_domain_entity. (Replaced by the StixDomainEntity class in pycti) -- Deprecated since version 2.1.0.\n",
      "INFO:root:Reading Stix-Domain-Entity {9fa5e609-537d-483a-98fe-f463e405df11}.\n",
      "C:\\ProgramData\\Anaconda3\\lib\\site-packages\\ipykernel_launcher.py:303: DeprecationWarning: Call to deprecated method get_stix_domain_entity. (Replaced by the StixDomainEntity class in pycti) -- Deprecated since version 2.1.0.\n",
      "INFO:root:Reading Stix-Domain-Entity {65e096e1-3467-4bd5-a574-9a475701fbdb}.\n"
     ]
    },
    {
     "name": "stdout",
     "output_type": "stream",
     "text": [
      "9fa5e609-537d-483a-98fe-f463e405df11\n",
      "65e096e1-3467-4bd5-a574-9a475701fbdb\n"
     ]
    },
    {
     "name": "stderr",
     "output_type": "stream",
     "text": [
      "INFO:root:Listing stix_relations with {type: uses, from_id: 9fa5e609-537d-483a-98fe-f463e405df11, to_id: 65e096e1-3467-4bd5-a574-9a475701fbdb}\n",
      "INFO:root:Reading Report {1f2cbc39-8893-4bec-9c59-b9f8fba67062}.\n",
      "INFO:root:Adding Stix-Entity {042df8d4-9b54-4ba8-8354-9c7be3097ee5} to Report {1f2cbc39-8893-4bec-9c59-b9f8fba67062}\n",
      "C:\\ProgramData\\Anaconda3\\lib\\site-packages\\ipykernel_launcher.py:300: DeprecationWarning: Call to deprecated method get_stix_domain_entity. (Replaced by the StixDomainEntity class in pycti) -- Deprecated since version 2.1.0.\n",
      "INFO:root:Reading Stix-Domain-Entity {f14a312d-c43b-4c07-9951-f3448dfb7ba6}.\n",
      "C:\\ProgramData\\Anaconda3\\lib\\site-packages\\ipykernel_launcher.py:303: DeprecationWarning: Call to deprecated method get_stix_domain_entity. (Replaced by the StixDomainEntity class in pycti) -- Deprecated since version 2.1.0.\n",
      "INFO:root:Reading Stix-Domain-Entity {f76a44e3-4503-48f7-b5e8-cf83bcd6cf83}.\n"
     ]
    },
    {
     "name": "stdout",
     "output_type": "stream",
     "text": [
      "f14a312d-c43b-4c07-9951-f3448dfb7ba6\n",
      "f76a44e3-4503-48f7-b5e8-cf83bcd6cf83\n"
     ]
    },
    {
     "name": "stderr",
     "output_type": "stream",
     "text": [
      "INFO:root:Listing stix_relations with {type: uses, from_id: f14a312d-c43b-4c07-9951-f3448dfb7ba6, to_id: f76a44e3-4503-48f7-b5e8-cf83bcd6cf83}\n",
      "INFO:root:Reading Report {1f2cbc39-8893-4bec-9c59-b9f8fba67062}.\n",
      "INFO:root:Adding Stix-Entity {715d898b-df4d-473e-b8aa-2c2381cb95d8} to Report {1f2cbc39-8893-4bec-9c59-b9f8fba67062}\n",
      "C:\\ProgramData\\Anaconda3\\lib\\site-packages\\ipykernel_launcher.py:300: DeprecationWarning: Call to deprecated method get_stix_domain_entity. (Replaced by the StixDomainEntity class in pycti) -- Deprecated since version 2.1.0.\n",
      "INFO:root:Reading Stix-Domain-Entity {d380cf57-9810-438b-bb25-a652aaca9ab2}.\n",
      "C:\\ProgramData\\Anaconda3\\lib\\site-packages\\ipykernel_launcher.py:303: DeprecationWarning: Call to deprecated method get_stix_domain_entity. (Replaced by the StixDomainEntity class in pycti) -- Deprecated since version 2.1.0.\n",
      "INFO:root:Reading Stix-Domain-Entity {ba4ce101-a595-428e-b56b-a7fd085ab3ed}.\n",
      "INFO:root:Listing stix_relations with {type: uses, from_id: d380cf57-9810-438b-bb25-a652aaca9ab2, to_id: ba4ce101-a595-428e-b56b-a7fd085ab3ed}\n"
     ]
    },
    {
     "name": "stdout",
     "output_type": "stream",
     "text": [
      "d380cf57-9810-438b-bb25-a652aaca9ab2\n",
      "ba4ce101-a595-428e-b56b-a7fd085ab3ed\n"
     ]
    },
    {
     "name": "stderr",
     "output_type": "stream",
     "text": [
      "INFO:root:Reading Report {1f2cbc39-8893-4bec-9c59-b9f8fba67062}.\n",
      "INFO:root:Adding Stix-Entity {27dc63fd-3391-4700-b24b-a2847aa24cb6} to Report {1f2cbc39-8893-4bec-9c59-b9f8fba67062}\n",
      "C:\\ProgramData\\Anaconda3\\lib\\site-packages\\ipykernel_launcher.py:300: DeprecationWarning: Call to deprecated method get_stix_domain_entity. (Replaced by the StixDomainEntity class in pycti) -- Deprecated since version 2.1.0.\n",
      "INFO:root:Reading Stix-Domain-Entity {d380cf57-9810-438b-bb25-a652aaca9ab2}.\n",
      "C:\\ProgramData\\Anaconda3\\lib\\site-packages\\ipykernel_launcher.py:303: DeprecationWarning: Call to deprecated method get_stix_domain_entity. (Replaced by the StixDomainEntity class in pycti) -- Deprecated since version 2.1.0.\n",
      "INFO:root:Reading Stix-Domain-Entity {b4a44dca-bd27-4047-adff-2a72b0b53107}.\n"
     ]
    },
    {
     "name": "stdout",
     "output_type": "stream",
     "text": [
      "d380cf57-9810-438b-bb25-a652aaca9ab2\n",
      "b4a44dca-bd27-4047-adff-2a72b0b53107\n"
     ]
    },
    {
     "name": "stderr",
     "output_type": "stream",
     "text": [
      "INFO:root:Listing stix_relations with {type: uses, from_id: d380cf57-9810-438b-bb25-a652aaca9ab2, to_id: b4a44dca-bd27-4047-adff-2a72b0b53107}\n",
      "INFO:root:Reading Report {1f2cbc39-8893-4bec-9c59-b9f8fba67062}.\n",
      "INFO:root:Adding Stix-Entity {a61dcac9-2fe0-4b3e-922d-1271978b1ed0} to Report {1f2cbc39-8893-4bec-9c59-b9f8fba67062}\n",
      "C:\\ProgramData\\Anaconda3\\lib\\site-packages\\ipykernel_launcher.py:300: DeprecationWarning: Call to deprecated method get_stix_domain_entity. (Replaced by the StixDomainEntity class in pycti) -- Deprecated since version 2.1.0.\n",
      "INFO:root:Reading Stix-Domain-Entity {d380cf57-9810-438b-bb25-a652aaca9ab2}.\n",
      "C:\\ProgramData\\Anaconda3\\lib\\site-packages\\ipykernel_launcher.py:303: DeprecationWarning: Call to deprecated method get_stix_domain_entity. (Replaced by the StixDomainEntity class in pycti) -- Deprecated since version 2.1.0.\n",
      "INFO:root:Reading Stix-Domain-Entity {b4a44dca-bd27-4047-adff-2a72b0b53107}.\n"
     ]
    },
    {
     "name": "stdout",
     "output_type": "stream",
     "text": [
      "d380cf57-9810-438b-bb25-a652aaca9ab2\n",
      "b4a44dca-bd27-4047-adff-2a72b0b53107\n"
     ]
    },
    {
     "name": "stderr",
     "output_type": "stream",
     "text": [
      "INFO:root:Listing stix_relations with {type: uses, from_id: d380cf57-9810-438b-bb25-a652aaca9ab2, to_id: b4a44dca-bd27-4047-adff-2a72b0b53107}\n",
      "INFO:root:Reading Report {1f2cbc39-8893-4bec-9c59-b9f8fba67062}.\n",
      "C:\\ProgramData\\Anaconda3\\lib\\site-packages\\ipykernel_launcher.py:300: DeprecationWarning: Call to deprecated method get_stix_domain_entity. (Replaced by the StixDomainEntity class in pycti) -- Deprecated since version 2.1.0.\n",
      "INFO:root:Reading Stix-Domain-Entity {d380cf57-9810-438b-bb25-a652aaca9ab2}.\n",
      "C:\\ProgramData\\Anaconda3\\lib\\site-packages\\ipykernel_launcher.py:303: DeprecationWarning: Call to deprecated method get_stix_domain_entity. (Replaced by the StixDomainEntity class in pycti) -- Deprecated since version 2.1.0.\n",
      "INFO:root:Reading Stix-Domain-Entity {b4a44dca-bd27-4047-adff-2a72b0b53107}.\n"
     ]
    },
    {
     "name": "stdout",
     "output_type": "stream",
     "text": [
      "d380cf57-9810-438b-bb25-a652aaca9ab2\n",
      "b4a44dca-bd27-4047-adff-2a72b0b53107\n"
     ]
    },
    {
     "name": "stderr",
     "output_type": "stream",
     "text": [
      "INFO:root:Listing stix_relations with {type: uses, from_id: d380cf57-9810-438b-bb25-a652aaca9ab2, to_id: b4a44dca-bd27-4047-adff-2a72b0b53107}\n",
      "INFO:root:Reading Report {1f2cbc39-8893-4bec-9c59-b9f8fba67062}.\n",
      "C:\\ProgramData\\Anaconda3\\lib\\site-packages\\ipykernel_launcher.py:300: DeprecationWarning: Call to deprecated method get_stix_domain_entity. (Replaced by the StixDomainEntity class in pycti) -- Deprecated since version 2.1.0.\n",
      "INFO:root:Reading Stix-Domain-Entity {d380cf57-9810-438b-bb25-a652aaca9ab2}.\n",
      "C:\\ProgramData\\Anaconda3\\lib\\site-packages\\ipykernel_launcher.py:303: DeprecationWarning: Call to deprecated method get_stix_domain_entity. (Replaced by the StixDomainEntity class in pycti) -- Deprecated since version 2.1.0.\n",
      "INFO:root:Reading Stix-Domain-Entity {b4a44dca-bd27-4047-adff-2a72b0b53107}.\n",
      "INFO:root:Listing stix_relations with {type: uses, from_id: d380cf57-9810-438b-bb25-a652aaca9ab2, to_id: b4a44dca-bd27-4047-adff-2a72b0b53107}\n"
     ]
    },
    {
     "name": "stdout",
     "output_type": "stream",
     "text": [
      "d380cf57-9810-438b-bb25-a652aaca9ab2\n",
      "b4a44dca-bd27-4047-adff-2a72b0b53107\n"
     ]
    },
    {
     "name": "stderr",
     "output_type": "stream",
     "text": [
      "INFO:root:Reading Report {1f2cbc39-8893-4bec-9c59-b9f8fba67062}.\n",
      "C:\\ProgramData\\Anaconda3\\lib\\site-packages\\ipykernel_launcher.py:300: DeprecationWarning: Call to deprecated method get_stix_domain_entity. (Replaced by the StixDomainEntity class in pycti) -- Deprecated since version 2.1.0.\n",
      "INFO:root:Reading Stix-Domain-Entity {d380cf57-9810-438b-bb25-a652aaca9ab2}.\n",
      "C:\\ProgramData\\Anaconda3\\lib\\site-packages\\ipykernel_launcher.py:303: DeprecationWarning: Call to deprecated method get_stix_domain_entity. (Replaced by the StixDomainEntity class in pycti) -- Deprecated since version 2.1.0.\n",
      "INFO:root:Reading Stix-Domain-Entity {5ef8a53d-1e82-47b5-990e-2a0a46aa5e86}.\n"
     ]
    },
    {
     "name": "stdout",
     "output_type": "stream",
     "text": [
      "d380cf57-9810-438b-bb25-a652aaca9ab2\n",
      "5ef8a53d-1e82-47b5-990e-2a0a46aa5e86\n"
     ]
    },
    {
     "name": "stderr",
     "output_type": "stream",
     "text": [
      "INFO:root:Listing stix_relations with {type: uses, from_id: d380cf57-9810-438b-bb25-a652aaca9ab2, to_id: 5ef8a53d-1e82-47b5-990e-2a0a46aa5e86}\n",
      "INFO:root:Reading Report {1f2cbc39-8893-4bec-9c59-b9f8fba67062}.\n",
      "INFO:root:Adding Stix-Entity {8e370095-1ce7-4ebe-8773-eb3474dda2c1} to Report {1f2cbc39-8893-4bec-9c59-b9f8fba67062}\n",
      "C:\\ProgramData\\Anaconda3\\lib\\site-packages\\ipykernel_launcher.py:300: DeprecationWarning: Call to deprecated method get_stix_domain_entity. (Replaced by the StixDomainEntity class in pycti) -- Deprecated since version 2.1.0.\n",
      "INFO:root:Reading Stix-Domain-Entity {d380cf57-9810-438b-bb25-a652aaca9ab2}.\n",
      "C:\\ProgramData\\Anaconda3\\lib\\site-packages\\ipykernel_launcher.py:303: DeprecationWarning: Call to deprecated method get_stix_domain_entity. (Replaced by the StixDomainEntity class in pycti) -- Deprecated since version 2.1.0.\n",
      "INFO:root:Reading Stix-Domain-Entity {beb1cad9-016f-49c5-ad3c-f23bff549ff2}.\n"
     ]
    },
    {
     "name": "stdout",
     "output_type": "stream",
     "text": [
      "d380cf57-9810-438b-bb25-a652aaca9ab2\n",
      "beb1cad9-016f-49c5-ad3c-f23bff549ff2\n"
     ]
    },
    {
     "name": "stderr",
     "output_type": "stream",
     "text": [
      "INFO:root:Listing stix_relations with {type: uses, from_id: d380cf57-9810-438b-bb25-a652aaca9ab2, to_id: beb1cad9-016f-49c5-ad3c-f23bff549ff2}\n",
      "INFO:root:Reading Report {1f2cbc39-8893-4bec-9c59-b9f8fba67062}.\n",
      "INFO:root:Adding Stix-Entity {4ce7669f-fe60-4bbb-990d-f4b1d1813864} to Report {1f2cbc39-8893-4bec-9c59-b9f8fba67062}\n",
      "C:\\ProgramData\\Anaconda3\\lib\\site-packages\\ipykernel_launcher.py:300: DeprecationWarning: Call to deprecated method get_stix_domain_entity. (Replaced by the StixDomainEntity class in pycti) -- Deprecated since version 2.1.0.\n",
      "INFO:root:Reading Stix-Domain-Entity {d380cf57-9810-438b-bb25-a652aaca9ab2}.\n",
      "C:\\ProgramData\\Anaconda3\\lib\\site-packages\\ipykernel_launcher.py:303: DeprecationWarning: Call to deprecated method get_stix_domain_entity. (Replaced by the StixDomainEntity class in pycti) -- Deprecated since version 2.1.0.\n",
      "INFO:root:Reading Stix-Domain-Entity {58eacb3e-a736-41c8-ba57-9328e4adbca5}.\n"
     ]
    },
    {
     "name": "stdout",
     "output_type": "stream",
     "text": [
      "d380cf57-9810-438b-bb25-a652aaca9ab2\n",
      "58eacb3e-a736-41c8-ba57-9328e4adbca5\n"
     ]
    },
    {
     "name": "stderr",
     "output_type": "stream",
     "text": [
      "INFO:root:Listing stix_relations with {type: uses, from_id: d380cf57-9810-438b-bb25-a652aaca9ab2, to_id: 58eacb3e-a736-41c8-ba57-9328e4adbca5}\n",
      "INFO:root:Reading Report {1f2cbc39-8893-4bec-9c59-b9f8fba67062}.\n",
      "INFO:root:Adding Stix-Entity {a379e5ea-3430-4369-8f23-c51c82383d5a} to Report {1f2cbc39-8893-4bec-9c59-b9f8fba67062}\n",
      "C:\\ProgramData\\Anaconda3\\lib\\site-packages\\ipykernel_launcher.py:300: DeprecationWarning: Call to deprecated method get_stix_domain_entity. (Replaced by the StixDomainEntity class in pycti) -- Deprecated since version 2.1.0.\n",
      "INFO:root:Reading Stix-Domain-Entity {d380cf57-9810-438b-bb25-a652aaca9ab2}.\n",
      "C:\\ProgramData\\Anaconda3\\lib\\site-packages\\ipykernel_launcher.py:303: DeprecationWarning: Call to deprecated method get_stix_domain_entity. (Replaced by the StixDomainEntity class in pycti) -- Deprecated since version 2.1.0.\n",
      "INFO:root:Reading Stix-Domain-Entity {65e096e1-3467-4bd5-a574-9a475701fbdb}.\n"
     ]
    },
    {
     "name": "stdout",
     "output_type": "stream",
     "text": [
      "d380cf57-9810-438b-bb25-a652aaca9ab2\n",
      "65e096e1-3467-4bd5-a574-9a475701fbdb\n"
     ]
    },
    {
     "name": "stderr",
     "output_type": "stream",
     "text": [
      "INFO:root:Listing stix_relations with {type: uses, from_id: d380cf57-9810-438b-bb25-a652aaca9ab2, to_id: 65e096e1-3467-4bd5-a574-9a475701fbdb}\n",
      "INFO:root:Reading Report {1f2cbc39-8893-4bec-9c59-b9f8fba67062}.\n",
      "INFO:root:Adding Stix-Entity {29f8f02a-df6c-46aa-a1ef-6922b0572ecb} to Report {1f2cbc39-8893-4bec-9c59-b9f8fba67062}\n",
      "C:\\ProgramData\\Anaconda3\\lib\\site-packages\\ipykernel_launcher.py:300: DeprecationWarning: Call to deprecated method get_stix_domain_entity. (Replaced by the StixDomainEntity class in pycti) -- Deprecated since version 2.1.0.\n",
      "INFO:root:Reading Stix-Domain-Entity {d380cf57-9810-438b-bb25-a652aaca9ab2}.\n",
      "C:\\ProgramData\\Anaconda3\\lib\\site-packages\\ipykernel_launcher.py:303: DeprecationWarning: Call to deprecated method get_stix_domain_entity. (Replaced by the StixDomainEntity class in pycti) -- Deprecated since version 2.1.0.\n",
      "INFO:root:Reading Stix-Domain-Entity {a66f1395-d712-4bb0-a268-5547d454dd0f}.\n"
     ]
    },
    {
     "name": "stdout",
     "output_type": "stream",
     "text": [
      "d380cf57-9810-438b-bb25-a652aaca9ab2\n",
      "a66f1395-d712-4bb0-a268-5547d454dd0f\n"
     ]
    },
    {
     "name": "stderr",
     "output_type": "stream",
     "text": [
      "INFO:root:Listing stix_relations with {type: uses, from_id: d380cf57-9810-438b-bb25-a652aaca9ab2, to_id: a66f1395-d712-4bb0-a268-5547d454dd0f}\n",
      "INFO:root:Reading Report {1f2cbc39-8893-4bec-9c59-b9f8fba67062}.\n",
      "INFO:root:Adding Stix-Entity {6eacb234-f115-4f09-b7b8-0523ebdb42ef} to Report {1f2cbc39-8893-4bec-9c59-b9f8fba67062}\n",
      "C:\\ProgramData\\Anaconda3\\lib\\site-packages\\ipykernel_launcher.py:300: DeprecationWarning: Call to deprecated method get_stix_domain_entity. (Replaced by the StixDomainEntity class in pycti) -- Deprecated since version 2.1.0.\n",
      "INFO:root:Reading Stix-Domain-Entity {93a45d31-aff0-4943-9c7c-e030b99b5f5a}.\n",
      "C:\\ProgramData\\Anaconda3\\lib\\site-packages\\ipykernel_launcher.py:303: DeprecationWarning: Call to deprecated method get_stix_domain_entity. (Replaced by the StixDomainEntity class in pycti) -- Deprecated since version 2.1.0.\n",
      "INFO:root:Reading Stix-Domain-Entity {c9630199-c590-4a66-9e4b-095f0acae785}.\n"
     ]
    },
    {
     "name": "stdout",
     "output_type": "stream",
     "text": [
      "93a45d31-aff0-4943-9c7c-e030b99b5f5a\n",
      "c9630199-c590-4a66-9e4b-095f0acae785\n"
     ]
    },
    {
     "name": "stderr",
     "output_type": "stream",
     "text": [
      "INFO:root:Listing stix_relations with {type: indicates, from_id: 93a45d31-aff0-4943-9c7c-e030b99b5f5a, to_id: c9630199-c590-4a66-9e4b-095f0acae785}\n",
      "INFO:root:Reading Report {1f2cbc39-8893-4bec-9c59-b9f8fba67062}.\n",
      "INFO:root:Adding Stix-Entity {ea43e946-1d01-4335-b9c8-33ca190b1ebd} to Report {1f2cbc39-8893-4bec-9c59-b9f8fba67062}\n",
      "C:\\ProgramData\\Anaconda3\\lib\\site-packages\\ipykernel_launcher.py:300: DeprecationWarning: Call to deprecated method get_stix_domain_entity. (Replaced by the StixDomainEntity class in pycti) -- Deprecated since version 2.1.0.\n",
      "INFO:root:Reading Stix-Domain-Entity {7c869d95-c014-49aa-ba37-a24e5929e8fa}.\n",
      "C:\\ProgramData\\Anaconda3\\lib\\site-packages\\ipykernel_launcher.py:303: DeprecationWarning: Call to deprecated method get_stix_domain_entity. (Replaced by the StixDomainEntity class in pycti) -- Deprecated since version 2.1.0.\n",
      "INFO:root:Reading Stix-Domain-Entity {c9630199-c590-4a66-9e4b-095f0acae785}.\n"
     ]
    },
    {
     "name": "stdout",
     "output_type": "stream",
     "text": [
      "7c869d95-c014-49aa-ba37-a24e5929e8fa\n",
      "c9630199-c590-4a66-9e4b-095f0acae785\n"
     ]
    },
    {
     "name": "stderr",
     "output_type": "stream",
     "text": [
      "INFO:root:Listing stix_relations with {type: indicates, from_id: 7c869d95-c014-49aa-ba37-a24e5929e8fa, to_id: c9630199-c590-4a66-9e4b-095f0acae785}\n",
      "INFO:root:Reading Report {1f2cbc39-8893-4bec-9c59-b9f8fba67062}.\n",
      "INFO:root:Adding Stix-Entity {7bdc685b-daf1-42e1-bc7a-d53a06dc8917} to Report {1f2cbc39-8893-4bec-9c59-b9f8fba67062}\n",
      "C:\\ProgramData\\Anaconda3\\lib\\site-packages\\ipykernel_launcher.py:300: DeprecationWarning: Call to deprecated method get_stix_domain_entity. (Replaced by the StixDomainEntity class in pycti) -- Deprecated since version 2.1.0.\n",
      "INFO:root:Reading Stix-Domain-Entity {14f1d298-a87e-451b-ba60-76a5dbee520d}.\n",
      "C:\\ProgramData\\Anaconda3\\lib\\site-packages\\ipykernel_launcher.py:303: DeprecationWarning: Call to deprecated method get_stix_domain_entity. (Replaced by the StixDomainEntity class in pycti) -- Deprecated since version 2.1.0.\n",
      "INFO:root:Reading Stix-Domain-Entity {c9630199-c590-4a66-9e4b-095f0acae785}.\n"
     ]
    },
    {
     "name": "stdout",
     "output_type": "stream",
     "text": [
      "14f1d298-a87e-451b-ba60-76a5dbee520d\n",
      "c9630199-c590-4a66-9e4b-095f0acae785\n"
     ]
    },
    {
     "name": "stderr",
     "output_type": "stream",
     "text": [
      "INFO:root:Listing stix_relations with {type: indicates, from_id: 14f1d298-a87e-451b-ba60-76a5dbee520d, to_id: c9630199-c590-4a66-9e4b-095f0acae785}\n",
      "INFO:root:Reading Report {1f2cbc39-8893-4bec-9c59-b9f8fba67062}.\n",
      "INFO:root:Adding Stix-Entity {dedc228c-d677-490f-b4ff-0d068d834c7d} to Report {1f2cbc39-8893-4bec-9c59-b9f8fba67062}\n",
      "C:\\ProgramData\\Anaconda3\\lib\\site-packages\\ipykernel_launcher.py:300: DeprecationWarning: Call to deprecated method get_stix_domain_entity. (Replaced by the StixDomainEntity class in pycti) -- Deprecated since version 2.1.0.\n",
      "INFO:root:Reading Stix-Domain-Entity {5390f2f4-ba00-4105-8116-2826b90e5e84}.\n",
      "C:\\ProgramData\\Anaconda3\\lib\\site-packages\\ipykernel_launcher.py:303: DeprecationWarning: Call to deprecated method get_stix_domain_entity. (Replaced by the StixDomainEntity class in pycti) -- Deprecated since version 2.1.0.\n",
      "INFO:root:Reading Stix-Domain-Entity {c9630199-c590-4a66-9e4b-095f0acae785}.\n"
     ]
    },
    {
     "name": "stdout",
     "output_type": "stream",
     "text": [
      "5390f2f4-ba00-4105-8116-2826b90e5e84\n",
      "c9630199-c590-4a66-9e4b-095f0acae785\n"
     ]
    },
    {
     "name": "stderr",
     "output_type": "stream",
     "text": [
      "INFO:root:Listing stix_relations with {type: indicates, from_id: 5390f2f4-ba00-4105-8116-2826b90e5e84, to_id: c9630199-c590-4a66-9e4b-095f0acae785}\n",
      "INFO:root:Reading Report {1f2cbc39-8893-4bec-9c59-b9f8fba67062}.\n",
      "INFO:root:Adding Stix-Entity {bdf4afa0-b8c3-4979-ac1b-f88c967c029c} to Report {1f2cbc39-8893-4bec-9c59-b9f8fba67062}\n",
      "C:\\ProgramData\\Anaconda3\\lib\\site-packages\\ipykernel_launcher.py:300: DeprecationWarning: Call to deprecated method get_stix_domain_entity. (Replaced by the StixDomainEntity class in pycti) -- Deprecated since version 2.1.0.\n",
      "INFO:root:Reading Stix-Domain-Entity {11556748-940b-4f49-9e08-657f5f396839}.\n",
      "C:\\ProgramData\\Anaconda3\\lib\\site-packages\\ipykernel_launcher.py:303: DeprecationWarning: Call to deprecated method get_stix_domain_entity. (Replaced by the StixDomainEntity class in pycti) -- Deprecated since version 2.1.0.\n",
      "INFO:root:Reading Stix-Domain-Entity {c9630199-c590-4a66-9e4b-095f0acae785}.\n"
     ]
    },
    {
     "name": "stdout",
     "output_type": "stream",
     "text": [
      "11556748-940b-4f49-9e08-657f5f396839\n",
      "c9630199-c590-4a66-9e4b-095f0acae785\n"
     ]
    },
    {
     "name": "stderr",
     "output_type": "stream",
     "text": [
      "INFO:root:Listing stix_relations with {type: indicates, from_id: 11556748-940b-4f49-9e08-657f5f396839, to_id: c9630199-c590-4a66-9e4b-095f0acae785}\n",
      "INFO:root:Reading Report {1f2cbc39-8893-4bec-9c59-b9f8fba67062}.\n",
      "INFO:root:Adding Stix-Entity {173c5989-5363-43d7-85f3-0e48f52cd7ad} to Report {1f2cbc39-8893-4bec-9c59-b9f8fba67062}\n",
      "C:\\ProgramData\\Anaconda3\\lib\\site-packages\\ipykernel_launcher.py:300: DeprecationWarning: Call to deprecated method get_stix_domain_entity. (Replaced by the StixDomainEntity class in pycti) -- Deprecated since version 2.1.0.\n",
      "INFO:root:Reading Stix-Domain-Entity {93a45d31-aff0-4943-9c7c-e030b99b5f5a}.\n",
      "C:\\ProgramData\\Anaconda3\\lib\\site-packages\\ipykernel_launcher.py:303: DeprecationWarning: Call to deprecated method get_stix_domain_entity. (Replaced by the StixDomainEntity class in pycti) -- Deprecated since version 2.1.0.\n",
      "INFO:root:Reading Stix-Domain-Entity {c9630199-c590-4a66-9e4b-095f0acae785}.\n"
     ]
    },
    {
     "name": "stdout",
     "output_type": "stream",
     "text": [
      "93a45d31-aff0-4943-9c7c-e030b99b5f5a\n",
      "c9630199-c590-4a66-9e4b-095f0acae785\n"
     ]
    },
    {
     "name": "stderr",
     "output_type": "stream",
     "text": [
      "INFO:root:Listing stix_relations with {type: indicates, from_id: 93a45d31-aff0-4943-9c7c-e030b99b5f5a, to_id: c9630199-c590-4a66-9e4b-095f0acae785}\n",
      "INFO:root:Reading Report {1f2cbc39-8893-4bec-9c59-b9f8fba67062}.\n",
      "C:\\ProgramData\\Anaconda3\\lib\\site-packages\\ipykernel_launcher.py:300: DeprecationWarning: Call to deprecated method get_stix_domain_entity. (Replaced by the StixDomainEntity class in pycti) -- Deprecated since version 2.1.0.\n",
      "INFO:root:Reading Stix-Domain-Entity {b47992c6-18d4-49b9-a778-8443c7197910}.\n"
     ]
    },
    {
     "name": "stdout",
     "output_type": "stream",
     "text": [
      "b47992c6-18d4-49b9-a778-8443c7197910\n",
      "c9630199-c590-4a66-9e4b-095f0acae785\n"
     ]
    },
    {
     "name": "stderr",
     "output_type": "stream",
     "text": [
      "C:\\ProgramData\\Anaconda3\\lib\\site-packages\\ipykernel_launcher.py:303: DeprecationWarning: Call to deprecated method get_stix_domain_entity. (Replaced by the StixDomainEntity class in pycti) -- Deprecated since version 2.1.0.\n",
      "INFO:root:Reading Stix-Domain-Entity {c9630199-c590-4a66-9e4b-095f0acae785}.\n",
      "INFO:root:Listing stix_relations with {type: indicates, from_id: b47992c6-18d4-49b9-a778-8443c7197910, to_id: c9630199-c590-4a66-9e4b-095f0acae785}\n",
      "INFO:root:Reading Report {1f2cbc39-8893-4bec-9c59-b9f8fba67062}.\n",
      "INFO:root:Adding Stix-Entity {dd9aa8bd-d39a-4b8c-831a-cc3499230ca4} to Report {1f2cbc39-8893-4bec-9c59-b9f8fba67062}\n",
      "C:\\ProgramData\\Anaconda3\\lib\\site-packages\\ipykernel_launcher.py:300: DeprecationWarning: Call to deprecated method get_stix_domain_entity. (Replaced by the StixDomainEntity class in pycti) -- Deprecated since version 2.1.0.\n",
      "INFO:root:Reading Stix-Domain-Entity {75fc5775-0c83-416a-ab52-dd60e1c17e27}.\n",
      "C:\\ProgramData\\Anaconda3\\lib\\site-packages\\ipykernel_launcher.py:303: DeprecationWarning: Call to deprecated method get_stix_domain_entity. (Replaced by the StixDomainEntity class in pycti) -- Deprecated since version 2.1.0.\n",
      "INFO:root:Reading Stix-Domain-Entity {c9630199-c590-4a66-9e4b-095f0acae785}.\n"
     ]
    },
    {
     "name": "stdout",
     "output_type": "stream",
     "text": [
      "75fc5775-0c83-416a-ab52-dd60e1c17e27\n",
      "c9630199-c590-4a66-9e4b-095f0acae785\n"
     ]
    },
    {
     "name": "stderr",
     "output_type": "stream",
     "text": [
      "INFO:root:Listing stix_relations with {type: indicates, from_id: 75fc5775-0c83-416a-ab52-dd60e1c17e27, to_id: c9630199-c590-4a66-9e4b-095f0acae785}\n",
      "INFO:root:Reading Report {1f2cbc39-8893-4bec-9c59-b9f8fba67062}.\n",
      "INFO:root:Adding Stix-Entity {273ce7c7-d500-41a7-a25d-9cc31d430314} to Report {1f2cbc39-8893-4bec-9c59-b9f8fba67062}\n",
      "C:\\ProgramData\\Anaconda3\\lib\\site-packages\\ipykernel_launcher.py:300: DeprecationWarning: Call to deprecated method get_stix_domain_entity. (Replaced by the StixDomainEntity class in pycti) -- Deprecated since version 2.1.0.\n",
      "INFO:root:Reading Stix-Domain-Entity {da5e9871-e066-4067-803f-b8becff18d8f}.\n",
      "C:\\ProgramData\\Anaconda3\\lib\\site-packages\\ipykernel_launcher.py:303: DeprecationWarning: Call to deprecated method get_stix_domain_entity. (Replaced by the StixDomainEntity class in pycti) -- Deprecated since version 2.1.0.\n",
      "INFO:root:Reading Stix-Domain-Entity {88cbb5de-7cd0-4a00-a14e-e893267afdde}.\n"
     ]
    },
    {
     "name": "stdout",
     "output_type": "stream",
     "text": [
      "da5e9871-e066-4067-803f-b8becff18d8f\n",
      "88cbb5de-7cd0-4a00-a14e-e893267afdde\n"
     ]
    },
    {
     "name": "stderr",
     "output_type": "stream",
     "text": [
      "INFO:root:Listing stix_relations with {type: indicates, from_id: da5e9871-e066-4067-803f-b8becff18d8f, to_id: 88cbb5de-7cd0-4a00-a14e-e893267afdde}\n",
      "INFO:root:Reading Report {1f2cbc39-8893-4bec-9c59-b9f8fba67062}.\n",
      "INFO:root:Adding Stix-Entity {797b6787-02d4-42b8-ac4c-3e1ee693d804} to Report {1f2cbc39-8893-4bec-9c59-b9f8fba67062}\n",
      "C:\\ProgramData\\Anaconda3\\lib\\site-packages\\ipykernel_launcher.py:300: DeprecationWarning: Call to deprecated method get_stix_domain_entity. (Replaced by the StixDomainEntity class in pycti) -- Deprecated since version 2.1.0.\n",
      "INFO:root:Reading Stix-Domain-Entity {c83ed5b8-da99-4c16-8645-d49755e12f2f}.\n",
      "C:\\ProgramData\\Anaconda3\\lib\\site-packages\\ipykernel_launcher.py:303: DeprecationWarning: Call to deprecated method get_stix_domain_entity. (Replaced by the StixDomainEntity class in pycti) -- Deprecated since version 2.1.0.\n",
      "INFO:root:Reading Stix-Domain-Entity {88cbb5de-7cd0-4a00-a14e-e893267afdde}.\n"
     ]
    },
    {
     "name": "stdout",
     "output_type": "stream",
     "text": [
      "c83ed5b8-da99-4c16-8645-d49755e12f2f\n",
      "88cbb5de-7cd0-4a00-a14e-e893267afdde\n"
     ]
    },
    {
     "name": "stderr",
     "output_type": "stream",
     "text": [
      "INFO:root:Listing stix_relations with {type: indicates, from_id: c83ed5b8-da99-4c16-8645-d49755e12f2f, to_id: 88cbb5de-7cd0-4a00-a14e-e893267afdde}\n",
      "INFO:root:Reading Report {1f2cbc39-8893-4bec-9c59-b9f8fba67062}.\n",
      "INFO:root:Adding Stix-Entity {3647a913-252d-4196-a465-fbe7a918a40e} to Report {1f2cbc39-8893-4bec-9c59-b9f8fba67062}\n",
      "C:\\ProgramData\\Anaconda3\\lib\\site-packages\\ipykernel_launcher.py:300: DeprecationWarning: Call to deprecated method get_stix_domain_entity. (Replaced by the StixDomainEntity class in pycti) -- Deprecated since version 2.1.0.\n",
      "INFO:root:Reading Stix-Domain-Entity {bd3dd7a6-9723-4895-b825-f71d9f1b2fbc}.\n",
      "C:\\ProgramData\\Anaconda3\\lib\\site-packages\\ipykernel_launcher.py:303: DeprecationWarning: Call to deprecated method get_stix_domain_entity. (Replaced by the StixDomainEntity class in pycti) -- Deprecated since version 2.1.0.\n",
      "INFO:root:Reading Stix-Domain-Entity {88cbb5de-7cd0-4a00-a14e-e893267afdde}.\n"
     ]
    },
    {
     "name": "stdout",
     "output_type": "stream",
     "text": [
      "bd3dd7a6-9723-4895-b825-f71d9f1b2fbc\n",
      "88cbb5de-7cd0-4a00-a14e-e893267afdde\n"
     ]
    },
    {
     "name": "stderr",
     "output_type": "stream",
     "text": [
      "INFO:root:Listing stix_relations with {type: indicates, from_id: bd3dd7a6-9723-4895-b825-f71d9f1b2fbc, to_id: 88cbb5de-7cd0-4a00-a14e-e893267afdde}\n",
      "INFO:root:Reading Report {1f2cbc39-8893-4bec-9c59-b9f8fba67062}.\n",
      "INFO:root:Adding Stix-Entity {4e2d853d-74d0-4640-9b9c-889ec57d34b4} to Report {1f2cbc39-8893-4bec-9c59-b9f8fba67062}\n",
      "C:\\ProgramData\\Anaconda3\\lib\\site-packages\\ipykernel_launcher.py:300: DeprecationWarning: Call to deprecated method get_stix_domain_entity. (Replaced by the StixDomainEntity class in pycti) -- Deprecated since version 2.1.0.\n",
      "INFO:root:Reading Stix-Domain-Entity {eb39aaa9-35ba-4624-93c8-355e804cb720}.\n",
      "C:\\ProgramData\\Anaconda3\\lib\\site-packages\\ipykernel_launcher.py:303: DeprecationWarning: Call to deprecated method get_stix_domain_entity. (Replaced by the StixDomainEntity class in pycti) -- Deprecated since version 2.1.0.\n",
      "INFO:root:Reading Stix-Domain-Entity {88cbb5de-7cd0-4a00-a14e-e893267afdde}.\n"
     ]
    },
    {
     "name": "stdout",
     "output_type": "stream",
     "text": [
      "eb39aaa9-35ba-4624-93c8-355e804cb720\n",
      "88cbb5de-7cd0-4a00-a14e-e893267afdde\n"
     ]
    },
    {
     "name": "stderr",
     "output_type": "stream",
     "text": [
      "INFO:root:Listing stix_relations with {type: indicates, from_id: eb39aaa9-35ba-4624-93c8-355e804cb720, to_id: 88cbb5de-7cd0-4a00-a14e-e893267afdde}\n",
      "INFO:root:Reading Report {1f2cbc39-8893-4bec-9c59-b9f8fba67062}.\n",
      "INFO:root:Adding Stix-Entity {c001783b-a825-411c-a354-aa9e4856f833} to Report {1f2cbc39-8893-4bec-9c59-b9f8fba67062}\n",
      "C:\\ProgramData\\Anaconda3\\lib\\site-packages\\ipykernel_launcher.py:300: DeprecationWarning: Call to deprecated method get_stix_domain_entity. (Replaced by the StixDomainEntity class in pycti) -- Deprecated since version 2.1.0.\n",
      "INFO:root:Reading Stix-Domain-Entity {ab5d5a2c-e943-4d66-9047-cbac81fc2926}.\n",
      "C:\\ProgramData\\Anaconda3\\lib\\site-packages\\ipykernel_launcher.py:303: DeprecationWarning: Call to deprecated method get_stix_domain_entity. (Replaced by the StixDomainEntity class in pycti) -- Deprecated since version 2.1.0.\n",
      "INFO:root:Reading Stix-Domain-Entity {88cbb5de-7cd0-4a00-a14e-e893267afdde}.\n"
     ]
    },
    {
     "name": "stdout",
     "output_type": "stream",
     "text": [
      "ab5d5a2c-e943-4d66-9047-cbac81fc2926\n",
      "88cbb5de-7cd0-4a00-a14e-e893267afdde\n"
     ]
    },
    {
     "name": "stderr",
     "output_type": "stream",
     "text": [
      "INFO:root:Listing stix_relations with {type: indicates, from_id: ab5d5a2c-e943-4d66-9047-cbac81fc2926, to_id: 88cbb5de-7cd0-4a00-a14e-e893267afdde}\n",
      "INFO:root:Reading Report {1f2cbc39-8893-4bec-9c59-b9f8fba67062}.\n",
      "INFO:root:Adding Stix-Entity {d85d3684-c5eb-45d0-ae65-7d872d7bf806} to Report {1f2cbc39-8893-4bec-9c59-b9f8fba67062}\n",
      "C:\\ProgramData\\Anaconda3\\lib\\site-packages\\ipykernel_launcher.py:300: DeprecationWarning: Call to deprecated method get_stix_domain_entity. (Replaced by the StixDomainEntity class in pycti) -- Deprecated since version 2.1.0.\n",
      "INFO:root:Reading Stix-Domain-Entity {6b621de5-fce1-4513-997c-e5a5249dbb27}.\n",
      "C:\\ProgramData\\Anaconda3\\lib\\site-packages\\ipykernel_launcher.py:303: DeprecationWarning: Call to deprecated method get_stix_domain_entity. (Replaced by the StixDomainEntity class in pycti) -- Deprecated since version 2.1.0.\n",
      "INFO:root:Reading Stix-Domain-Entity {88cbb5de-7cd0-4a00-a14e-e893267afdde}.\n"
     ]
    },
    {
     "name": "stdout",
     "output_type": "stream",
     "text": [
      "6b621de5-fce1-4513-997c-e5a5249dbb27\n",
      "88cbb5de-7cd0-4a00-a14e-e893267afdde\n"
     ]
    },
    {
     "name": "stderr",
     "output_type": "stream",
     "text": [
      "INFO:root:Listing stix_relations with {type: indicates, from_id: 6b621de5-fce1-4513-997c-e5a5249dbb27, to_id: 88cbb5de-7cd0-4a00-a14e-e893267afdde}\n",
      "INFO:root:Reading Report {1f2cbc39-8893-4bec-9c59-b9f8fba67062}.\n",
      "INFO:root:Adding Stix-Entity {a789af19-134b-490c-b35a-db0ed783f770} to Report {1f2cbc39-8893-4bec-9c59-b9f8fba67062}\n",
      "C:\\ProgramData\\Anaconda3\\lib\\site-packages\\ipykernel_launcher.py:300: DeprecationWarning: Call to deprecated method get_stix_domain_entity. (Replaced by the StixDomainEntity class in pycti) -- Deprecated since version 2.1.0.\n",
      "INFO:root:Reading Stix-Domain-Entity {de242b61-26fe-4f29-bf00-a566a10fc0ba}.\n",
      "C:\\ProgramData\\Anaconda3\\lib\\site-packages\\ipykernel_launcher.py:303: DeprecationWarning: Call to deprecated method get_stix_domain_entity. (Replaced by the StixDomainEntity class in pycti) -- Deprecated since version 2.1.0.\n",
      "INFO:root:Reading Stix-Domain-Entity {88cbb5de-7cd0-4a00-a14e-e893267afdde}.\n"
     ]
    },
    {
     "name": "stdout",
     "output_type": "stream",
     "text": [
      "de242b61-26fe-4f29-bf00-a566a10fc0ba\n",
      "88cbb5de-7cd0-4a00-a14e-e893267afdde\n"
     ]
    },
    {
     "name": "stderr",
     "output_type": "stream",
     "text": [
      "INFO:root:Listing stix_relations with {type: indicates, from_id: de242b61-26fe-4f29-bf00-a566a10fc0ba, to_id: 88cbb5de-7cd0-4a00-a14e-e893267afdde}\n",
      "INFO:root:Reading Report {1f2cbc39-8893-4bec-9c59-b9f8fba67062}.\n",
      "INFO:root:Adding Stix-Entity {b751e82e-f87b-4672-99b1-04cc7e8afeef} to Report {1f2cbc39-8893-4bec-9c59-b9f8fba67062}\n",
      "C:\\ProgramData\\Anaconda3\\lib\\site-packages\\ipykernel_launcher.py:300: DeprecationWarning: Call to deprecated method get_stix_domain_entity. (Replaced by the StixDomainEntity class in pycti) -- Deprecated since version 2.1.0.\n",
      "INFO:root:Reading Stix-Domain-Entity {aab3af69-2751-4b8e-b294-fe72d9a6dafd}.\n",
      "C:\\ProgramData\\Anaconda3\\lib\\site-packages\\ipykernel_launcher.py:303: DeprecationWarning: Call to deprecated method get_stix_domain_entity. (Replaced by the StixDomainEntity class in pycti) -- Deprecated since version 2.1.0.\n",
      "INFO:root:Reading Stix-Domain-Entity {88cbb5de-7cd0-4a00-a14e-e893267afdde}.\n"
     ]
    },
    {
     "name": "stdout",
     "output_type": "stream",
     "text": [
      "aab3af69-2751-4b8e-b294-fe72d9a6dafd\n",
      "88cbb5de-7cd0-4a00-a14e-e893267afdde\n"
     ]
    },
    {
     "name": "stderr",
     "output_type": "stream",
     "text": [
      "INFO:root:Listing stix_relations with {type: indicates, from_id: aab3af69-2751-4b8e-b294-fe72d9a6dafd, to_id: 88cbb5de-7cd0-4a00-a14e-e893267afdde}\n",
      "INFO:root:Reading Report {1f2cbc39-8893-4bec-9c59-b9f8fba67062}.\n",
      "INFO:root:Adding Stix-Entity {525ccf43-b867-4111-b3b0-336485ffd004} to Report {1f2cbc39-8893-4bec-9c59-b9f8fba67062}\n",
      "C:\\ProgramData\\Anaconda3\\lib\\site-packages\\ipykernel_launcher.py:300: DeprecationWarning: Call to deprecated method get_stix_domain_entity. (Replaced by the StixDomainEntity class in pycti) -- Deprecated since version 2.1.0.\n",
      "INFO:root:Reading Stix-Domain-Entity {838f63eb-9066-4cc8-82d4-9408452395ac}.\n",
      "C:\\ProgramData\\Anaconda3\\lib\\site-packages\\ipykernel_launcher.py:303: DeprecationWarning: Call to deprecated method get_stix_domain_entity. (Replaced by the StixDomainEntity class in pycti) -- Deprecated since version 2.1.0.\n",
      "INFO:root:Reading Stix-Domain-Entity {88cbb5de-7cd0-4a00-a14e-e893267afdde}.\n"
     ]
    },
    {
     "name": "stdout",
     "output_type": "stream",
     "text": [
      "838f63eb-9066-4cc8-82d4-9408452395ac\n",
      "88cbb5de-7cd0-4a00-a14e-e893267afdde\n"
     ]
    },
    {
     "name": "stderr",
     "output_type": "stream",
     "text": [
      "INFO:root:Listing stix_relations with {type: indicates, from_id: 838f63eb-9066-4cc8-82d4-9408452395ac, to_id: 88cbb5de-7cd0-4a00-a14e-e893267afdde}\n",
      "INFO:root:Reading Report {1f2cbc39-8893-4bec-9c59-b9f8fba67062}.\n",
      "INFO:root:Adding Stix-Entity {6025907e-fdd1-4a4b-abe6-7c46627aa406} to Report {1f2cbc39-8893-4bec-9c59-b9f8fba67062}\n",
      "C:\\ProgramData\\Anaconda3\\lib\\site-packages\\ipykernel_launcher.py:300: DeprecationWarning: Call to deprecated method get_stix_domain_entity. (Replaced by the StixDomainEntity class in pycti) -- Deprecated since version 2.1.0.\n",
      "INFO:root:Reading Stix-Domain-Entity {047bfb5d-b8fc-447f-9c6a-26e1869c1f14}.\n",
      "C:\\ProgramData\\Anaconda3\\lib\\site-packages\\ipykernel_launcher.py:303: DeprecationWarning: Call to deprecated method get_stix_domain_entity. (Replaced by the StixDomainEntity class in pycti) -- Deprecated since version 2.1.0.\n",
      "INFO:root:Reading Stix-Domain-Entity {88cbb5de-7cd0-4a00-a14e-e893267afdde}.\n"
     ]
    },
    {
     "name": "stdout",
     "output_type": "stream",
     "text": [
      "047bfb5d-b8fc-447f-9c6a-26e1869c1f14\n",
      "88cbb5de-7cd0-4a00-a14e-e893267afdde\n"
     ]
    },
    {
     "name": "stderr",
     "output_type": "stream",
     "text": [
      "INFO:root:Listing stix_relations with {type: indicates, from_id: 047bfb5d-b8fc-447f-9c6a-26e1869c1f14, to_id: 88cbb5de-7cd0-4a00-a14e-e893267afdde}\n",
      "INFO:root:Reading Report {1f2cbc39-8893-4bec-9c59-b9f8fba67062}.\n",
      "INFO:root:Adding Stix-Entity {e6747e8b-2c5a-4591-8799-ce45053514fb} to Report {1f2cbc39-8893-4bec-9c59-b9f8fba67062}\n",
      "C:\\ProgramData\\Anaconda3\\lib\\site-packages\\ipykernel_launcher.py:300: DeprecationWarning: Call to deprecated method get_stix_domain_entity. (Replaced by the StixDomainEntity class in pycti) -- Deprecated since version 2.1.0.\n",
      "INFO:root:Reading Stix-Domain-Entity {78b9076b-9c78-47ce-a067-4f6db994090e}.\n",
      "C:\\ProgramData\\Anaconda3\\lib\\site-packages\\ipykernel_launcher.py:303: DeprecationWarning: Call to deprecated method get_stix_domain_entity. (Replaced by the StixDomainEntity class in pycti) -- Deprecated since version 2.1.0.\n",
      "INFO:root:Reading Stix-Domain-Entity {88cbb5de-7cd0-4a00-a14e-e893267afdde}.\n"
     ]
    },
    {
     "name": "stdout",
     "output_type": "stream",
     "text": [
      "78b9076b-9c78-47ce-a067-4f6db994090e\n",
      "88cbb5de-7cd0-4a00-a14e-e893267afdde\n"
     ]
    },
    {
     "name": "stderr",
     "output_type": "stream",
     "text": [
      "INFO:root:Listing stix_relations with {type: indicates, from_id: 78b9076b-9c78-47ce-a067-4f6db994090e, to_id: 88cbb5de-7cd0-4a00-a14e-e893267afdde}\n",
      "INFO:root:Reading Report {1f2cbc39-8893-4bec-9c59-b9f8fba67062}.\n",
      "INFO:root:Adding Stix-Entity {06d49673-d572-4d6e-8498-e6f5776c26d8} to Report {1f2cbc39-8893-4bec-9c59-b9f8fba67062}\n",
      "C:\\ProgramData\\Anaconda3\\lib\\site-packages\\ipykernel_launcher.py:300: DeprecationWarning: Call to deprecated method get_stix_domain_entity. (Replaced by the StixDomainEntity class in pycti) -- Deprecated since version 2.1.0.\n",
      "INFO:root:Reading Stix-Domain-Entity {270ea3b7-cdec-4fe3-9d97-ea87aa352515}.\n",
      "C:\\ProgramData\\Anaconda3\\lib\\site-packages\\ipykernel_launcher.py:303: DeprecationWarning: Call to deprecated method get_stix_domain_entity. (Replaced by the StixDomainEntity class in pycti) -- Deprecated since version 2.1.0.\n",
      "INFO:root:Reading Stix-Domain-Entity {88cbb5de-7cd0-4a00-a14e-e893267afdde}.\n"
     ]
    },
    {
     "name": "stdout",
     "output_type": "stream",
     "text": [
      "270ea3b7-cdec-4fe3-9d97-ea87aa352515\n",
      "88cbb5de-7cd0-4a00-a14e-e893267afdde\n"
     ]
    },
    {
     "name": "stderr",
     "output_type": "stream",
     "text": [
      "INFO:root:Listing stix_relations with {type: indicates, from_id: 270ea3b7-cdec-4fe3-9d97-ea87aa352515, to_id: 88cbb5de-7cd0-4a00-a14e-e893267afdde}\n",
      "INFO:root:Reading Report {1f2cbc39-8893-4bec-9c59-b9f8fba67062}.\n",
      "INFO:root:Adding Stix-Entity {0d68aa24-e74d-4be0-b01b-a888a93e2e20} to Report {1f2cbc39-8893-4bec-9c59-b9f8fba67062}\n",
      "C:\\ProgramData\\Anaconda3\\lib\\site-packages\\ipykernel_launcher.py:300: DeprecationWarning: Call to deprecated method get_stix_domain_entity. (Replaced by the StixDomainEntity class in pycti) -- Deprecated since version 2.1.0.\n",
      "INFO:root:Reading Stix-Domain-Entity {667ed941-005a-49ce-a1f6-89c7cbe9b760}.\n",
      "C:\\ProgramData\\Anaconda3\\lib\\site-packages\\ipykernel_launcher.py:303: DeprecationWarning: Call to deprecated method get_stix_domain_entity. (Replaced by the StixDomainEntity class in pycti) -- Deprecated since version 2.1.0.\n",
      "INFO:root:Reading Stix-Domain-Entity {88cbb5de-7cd0-4a00-a14e-e893267afdde}.\n"
     ]
    },
    {
     "name": "stdout",
     "output_type": "stream",
     "text": [
      "667ed941-005a-49ce-a1f6-89c7cbe9b760\n",
      "88cbb5de-7cd0-4a00-a14e-e893267afdde\n"
     ]
    },
    {
     "name": "stderr",
     "output_type": "stream",
     "text": [
      "INFO:root:Listing stix_relations with {type: indicates, from_id: 667ed941-005a-49ce-a1f6-89c7cbe9b760, to_id: 88cbb5de-7cd0-4a00-a14e-e893267afdde}\n",
      "INFO:root:Reading Report {1f2cbc39-8893-4bec-9c59-b9f8fba67062}.\n",
      "INFO:root:Adding Stix-Entity {dc4ab2c0-5eb1-4d79-b72a-67da7ac29dd7} to Report {1f2cbc39-8893-4bec-9c59-b9f8fba67062}\n",
      "C:\\ProgramData\\Anaconda3\\lib\\site-packages\\ipykernel_launcher.py:300: DeprecationWarning: Call to deprecated method get_stix_domain_entity. (Replaced by the StixDomainEntity class in pycti) -- Deprecated since version 2.1.0.\n",
      "INFO:root:Reading Stix-Domain-Entity {26c19424-d4cc-4c8e-a947-95b676b0b330}.\n",
      "C:\\ProgramData\\Anaconda3\\lib\\site-packages\\ipykernel_launcher.py:303: DeprecationWarning: Call to deprecated method get_stix_domain_entity. (Replaced by the StixDomainEntity class in pycti) -- Deprecated since version 2.1.0.\n",
      "INFO:root:Reading Stix-Domain-Entity {88cbb5de-7cd0-4a00-a14e-e893267afdde}.\n"
     ]
    },
    {
     "name": "stdout",
     "output_type": "stream",
     "text": [
      "26c19424-d4cc-4c8e-a947-95b676b0b330\n",
      "88cbb5de-7cd0-4a00-a14e-e893267afdde\n"
     ]
    },
    {
     "name": "stderr",
     "output_type": "stream",
     "text": [
      "INFO:root:Listing stix_relations with {type: indicates, from_id: 26c19424-d4cc-4c8e-a947-95b676b0b330, to_id: 88cbb5de-7cd0-4a00-a14e-e893267afdde}\n",
      "INFO:root:Reading Report {1f2cbc39-8893-4bec-9c59-b9f8fba67062}.\n",
      "INFO:root:Adding Stix-Entity {e2cc0f51-029d-4bea-82aa-60e5eb147a44} to Report {1f2cbc39-8893-4bec-9c59-b9f8fba67062}\n",
      "C:\\ProgramData\\Anaconda3\\lib\\site-packages\\ipykernel_launcher.py:300: DeprecationWarning: Call to deprecated method get_stix_domain_entity. (Replaced by the StixDomainEntity class in pycti) -- Deprecated since version 2.1.0.\n",
      "INFO:root:Reading Stix-Domain-Entity {75cbca55-7183-441b-b7c7-23e73e5b1726}.\n",
      "C:\\ProgramData\\Anaconda3\\lib\\site-packages\\ipykernel_launcher.py:303: DeprecationWarning: Call to deprecated method get_stix_domain_entity. (Replaced by the StixDomainEntity class in pycti) -- Deprecated since version 2.1.0.\n",
      "INFO:root:Reading Stix-Domain-Entity {88cbb5de-7cd0-4a00-a14e-e893267afdde}.\n"
     ]
    },
    {
     "name": "stdout",
     "output_type": "stream",
     "text": [
      "75cbca55-7183-441b-b7c7-23e73e5b1726\n",
      "88cbb5de-7cd0-4a00-a14e-e893267afdde\n"
     ]
    },
    {
     "name": "stderr",
     "output_type": "stream",
     "text": [
      "INFO:root:Listing stix_relations with {type: indicates, from_id: 75cbca55-7183-441b-b7c7-23e73e5b1726, to_id: 88cbb5de-7cd0-4a00-a14e-e893267afdde}\n",
      "INFO:root:Reading Report {1f2cbc39-8893-4bec-9c59-b9f8fba67062}.\n",
      "INFO:root:Adding Stix-Entity {2cc814e3-8457-4bdd-80b7-175b327ab62e} to Report {1f2cbc39-8893-4bec-9c59-b9f8fba67062}\n",
      "C:\\ProgramData\\Anaconda3\\lib\\site-packages\\ipykernel_launcher.py:300: DeprecationWarning: Call to deprecated method get_stix_domain_entity. (Replaced by the StixDomainEntity class in pycti) -- Deprecated since version 2.1.0.\n",
      "INFO:root:Reading Stix-Domain-Entity {1a33ae11-74cf-4fb5-bc33-a87d99086454}.\n",
      "C:\\ProgramData\\Anaconda3\\lib\\site-packages\\ipykernel_launcher.py:303: DeprecationWarning: Call to deprecated method get_stix_domain_entity. (Replaced by the StixDomainEntity class in pycti) -- Deprecated since version 2.1.0.\n",
      "INFO:root:Reading Stix-Domain-Entity {88cbb5de-7cd0-4a00-a14e-e893267afdde}.\n"
     ]
    },
    {
     "name": "stdout",
     "output_type": "stream",
     "text": [
      "1a33ae11-74cf-4fb5-bc33-a87d99086454\n",
      "88cbb5de-7cd0-4a00-a14e-e893267afdde\n"
     ]
    },
    {
     "name": "stderr",
     "output_type": "stream",
     "text": [
      "INFO:root:Listing stix_relations with {type: indicates, from_id: 1a33ae11-74cf-4fb5-bc33-a87d99086454, to_id: 88cbb5de-7cd0-4a00-a14e-e893267afdde}\n",
      "INFO:root:Reading Report {1f2cbc39-8893-4bec-9c59-b9f8fba67062}.\n",
      "INFO:root:Adding Stix-Entity {0d03be5d-111e-4e83-9108-2d79c49d5085} to Report {1f2cbc39-8893-4bec-9c59-b9f8fba67062}\n",
      "C:\\ProgramData\\Anaconda3\\lib\\site-packages\\ipykernel_launcher.py:300: DeprecationWarning: Call to deprecated method get_stix_domain_entity. (Replaced by the StixDomainEntity class in pycti) -- Deprecated since version 2.1.0.\n",
      "INFO:root:Reading Stix-Domain-Entity {d7c041f1-824f-4ad4-b4d8-e157daf9801d}.\n",
      "C:\\ProgramData\\Anaconda3\\lib\\site-packages\\ipykernel_launcher.py:303: DeprecationWarning: Call to deprecated method get_stix_domain_entity. (Replaced by the StixDomainEntity class in pycti) -- Deprecated since version 2.1.0.\n",
      "INFO:root:Reading Stix-Domain-Entity {88cbb5de-7cd0-4a00-a14e-e893267afdde}.\n"
     ]
    },
    {
     "name": "stdout",
     "output_type": "stream",
     "text": [
      "d7c041f1-824f-4ad4-b4d8-e157daf9801d\n",
      "88cbb5de-7cd0-4a00-a14e-e893267afdde\n"
     ]
    },
    {
     "name": "stderr",
     "output_type": "stream",
     "text": [
      "INFO:root:Listing stix_relations with {type: indicates, from_id: d7c041f1-824f-4ad4-b4d8-e157daf9801d, to_id: 88cbb5de-7cd0-4a00-a14e-e893267afdde}\n",
      "INFO:root:Reading Report {1f2cbc39-8893-4bec-9c59-b9f8fba67062}.\n",
      "INFO:root:Adding Stix-Entity {3e95dd76-3c00-46cb-9c56-cb1b601e27e8} to Report {1f2cbc39-8893-4bec-9c59-b9f8fba67062}\n",
      "C:\\ProgramData\\Anaconda3\\lib\\site-packages\\ipykernel_launcher.py:300: DeprecationWarning: Call to deprecated method get_stix_domain_entity. (Replaced by the StixDomainEntity class in pycti) -- Deprecated since version 2.1.0.\n",
      "INFO:root:Reading Stix-Domain-Entity {8fb68203-68ed-4152-ad6f-925e71649e02}.\n",
      "C:\\ProgramData\\Anaconda3\\lib\\site-packages\\ipykernel_launcher.py:303: DeprecationWarning: Call to deprecated method get_stix_domain_entity. (Replaced by the StixDomainEntity class in pycti) -- Deprecated since version 2.1.0.\n",
      "INFO:root:Reading Stix-Domain-Entity {88cbb5de-7cd0-4a00-a14e-e893267afdde}.\n"
     ]
    },
    {
     "name": "stdout",
     "output_type": "stream",
     "text": [
      "8fb68203-68ed-4152-ad6f-925e71649e02\n",
      "88cbb5de-7cd0-4a00-a14e-e893267afdde\n"
     ]
    },
    {
     "name": "stderr",
     "output_type": "stream",
     "text": [
      "INFO:root:Listing stix_relations with {type: indicates, from_id: 8fb68203-68ed-4152-ad6f-925e71649e02, to_id: 88cbb5de-7cd0-4a00-a14e-e893267afdde}\n",
      "INFO:root:Reading Report {1f2cbc39-8893-4bec-9c59-b9f8fba67062}.\n",
      "INFO:root:Adding Stix-Entity {37a4f140-8a7d-4075-967a-155154e83d6e} to Report {1f2cbc39-8893-4bec-9c59-b9f8fba67062}\n",
      "C:\\ProgramData\\Anaconda3\\lib\\site-packages\\ipykernel_launcher.py:300: DeprecationWarning: Call to deprecated method get_stix_domain_entity. (Replaced by the StixDomainEntity class in pycti) -- Deprecated since version 2.1.0.\n",
      "INFO:root:Reading Stix-Domain-Entity {833c1c08-7c78-45fd-97bc-56e42ad7f733}.\n"
     ]
    },
    {
     "name": "stdout",
     "output_type": "stream",
     "text": [
      "833c1c08-7c78-45fd-97bc-56e42ad7f733\n",
      "88cbb5de-7cd0-4a00-a14e-e893267afdde\n"
     ]
    },
    {
     "name": "stderr",
     "output_type": "stream",
     "text": [
      "C:\\ProgramData\\Anaconda3\\lib\\site-packages\\ipykernel_launcher.py:303: DeprecationWarning: Call to deprecated method get_stix_domain_entity. (Replaced by the StixDomainEntity class in pycti) -- Deprecated since version 2.1.0.\n",
      "INFO:root:Reading Stix-Domain-Entity {88cbb5de-7cd0-4a00-a14e-e893267afdde}.\n",
      "INFO:root:Listing stix_relations with {type: indicates, from_id: 833c1c08-7c78-45fd-97bc-56e42ad7f733, to_id: 88cbb5de-7cd0-4a00-a14e-e893267afdde}\n",
      "INFO:root:Reading Report {1f2cbc39-8893-4bec-9c59-b9f8fba67062}.\n",
      "INFO:root:Adding Stix-Entity {436c909f-f074-4027-bbc0-99b303679ebb} to Report {1f2cbc39-8893-4bec-9c59-b9f8fba67062}\n",
      "C:\\ProgramData\\Anaconda3\\lib\\site-packages\\ipykernel_launcher.py:300: DeprecationWarning: Call to deprecated method get_stix_domain_entity. (Replaced by the StixDomainEntity class in pycti) -- Deprecated since version 2.1.0.\n",
      "INFO:root:Reading Stix-Domain-Entity {f41ae5f8-8d91-4057-ad95-b072d3ae8c29}.\n",
      "C:\\ProgramData\\Anaconda3\\lib\\site-packages\\ipykernel_launcher.py:303: DeprecationWarning: Call to deprecated method get_stix_domain_entity. (Replaced by the StixDomainEntity class in pycti) -- Deprecated since version 2.1.0.\n",
      "INFO:root:Reading Stix-Domain-Entity {88cbb5de-7cd0-4a00-a14e-e893267afdde}.\n"
     ]
    },
    {
     "name": "stdout",
     "output_type": "stream",
     "text": [
      "f41ae5f8-8d91-4057-ad95-b072d3ae8c29\n",
      "88cbb5de-7cd0-4a00-a14e-e893267afdde\n"
     ]
    },
    {
     "name": "stderr",
     "output_type": "stream",
     "text": [
      "INFO:root:Listing stix_relations with {type: indicates, from_id: f41ae5f8-8d91-4057-ad95-b072d3ae8c29, to_id: 88cbb5de-7cd0-4a00-a14e-e893267afdde}\n",
      "INFO:root:Reading Report {1f2cbc39-8893-4bec-9c59-b9f8fba67062}.\n",
      "INFO:root:Adding Stix-Entity {2a1b182e-a9ab-4066-a1af-e3c1055d6ec0} to Report {1f2cbc39-8893-4bec-9c59-b9f8fba67062}\n",
      "C:\\ProgramData\\Anaconda3\\lib\\site-packages\\ipykernel_launcher.py:300: DeprecationWarning: Call to deprecated method get_stix_domain_entity. (Replaced by the StixDomainEntity class in pycti) -- Deprecated since version 2.1.0.\n",
      "INFO:root:Reading Stix-Domain-Entity {c8aec087-6e47-4e5e-afb9-eb010c1ccf1c}.\n",
      "C:\\ProgramData\\Anaconda3\\lib\\site-packages\\ipykernel_launcher.py:303: DeprecationWarning: Call to deprecated method get_stix_domain_entity. (Replaced by the StixDomainEntity class in pycti) -- Deprecated since version 2.1.0.\n",
      "INFO:root:Reading Stix-Domain-Entity {88cbb5de-7cd0-4a00-a14e-e893267afdde}.\n"
     ]
    },
    {
     "name": "stdout",
     "output_type": "stream",
     "text": [
      "c8aec087-6e47-4e5e-afb9-eb010c1ccf1c\n",
      "88cbb5de-7cd0-4a00-a14e-e893267afdde\n"
     ]
    },
    {
     "name": "stderr",
     "output_type": "stream",
     "text": [
      "INFO:root:Listing stix_relations with {type: indicates, from_id: c8aec087-6e47-4e5e-afb9-eb010c1ccf1c, to_id: 88cbb5de-7cd0-4a00-a14e-e893267afdde}\n",
      "INFO:root:Reading Report {1f2cbc39-8893-4bec-9c59-b9f8fba67062}.\n",
      "INFO:root:Adding Stix-Entity {982afaee-69ae-4c67-8ac4-4535b661facc} to Report {1f2cbc39-8893-4bec-9c59-b9f8fba67062}\n",
      "C:\\ProgramData\\Anaconda3\\lib\\site-packages\\ipykernel_launcher.py:300: DeprecationWarning: Call to deprecated method get_stix_domain_entity. (Replaced by the StixDomainEntity class in pycti) -- Deprecated since version 2.1.0.\n",
      "INFO:root:Reading Stix-Domain-Entity {0948691d-1e31-4b13-8041-b512bdb5296e}.\n",
      "C:\\ProgramData\\Anaconda3\\lib\\site-packages\\ipykernel_launcher.py:303: DeprecationWarning: Call to deprecated method get_stix_domain_entity. (Replaced by the StixDomainEntity class in pycti) -- Deprecated since version 2.1.0.\n",
      "INFO:root:Reading Stix-Domain-Entity {88cbb5de-7cd0-4a00-a14e-e893267afdde}.\n"
     ]
    },
    {
     "name": "stdout",
     "output_type": "stream",
     "text": [
      "0948691d-1e31-4b13-8041-b512bdb5296e\n",
      "88cbb5de-7cd0-4a00-a14e-e893267afdde\n"
     ]
    },
    {
     "name": "stderr",
     "output_type": "stream",
     "text": [
      "INFO:root:Listing stix_relations with {type: indicates, from_id: 0948691d-1e31-4b13-8041-b512bdb5296e, to_id: 88cbb5de-7cd0-4a00-a14e-e893267afdde}\n",
      "INFO:root:Reading Report {1f2cbc39-8893-4bec-9c59-b9f8fba67062}.\n",
      "INFO:root:Adding Stix-Entity {5d1d3079-0022-4a9c-a7ba-51c62ac81ce5} to Report {1f2cbc39-8893-4bec-9c59-b9f8fba67062}\n",
      "C:\\ProgramData\\Anaconda3\\lib\\site-packages\\ipykernel_launcher.py:300: DeprecationWarning: Call to deprecated method get_stix_domain_entity. (Replaced by the StixDomainEntity class in pycti) -- Deprecated since version 2.1.0.\n",
      "INFO:root:Reading Stix-Domain-Entity {1bd1a60e-d3ea-4b84-9783-1f6022554466}.\n",
      "C:\\ProgramData\\Anaconda3\\lib\\site-packages\\ipykernel_launcher.py:303: DeprecationWarning: Call to deprecated method get_stix_domain_entity. (Replaced by the StixDomainEntity class in pycti) -- Deprecated since version 2.1.0.\n",
      "INFO:root:Reading Stix-Domain-Entity {88cbb5de-7cd0-4a00-a14e-e893267afdde}.\n"
     ]
    },
    {
     "name": "stdout",
     "output_type": "stream",
     "text": [
      "1bd1a60e-d3ea-4b84-9783-1f6022554466\n",
      "88cbb5de-7cd0-4a00-a14e-e893267afdde\n"
     ]
    },
    {
     "name": "stderr",
     "output_type": "stream",
     "text": [
      "INFO:root:Listing stix_relations with {type: indicates, from_id: 1bd1a60e-d3ea-4b84-9783-1f6022554466, to_id: 88cbb5de-7cd0-4a00-a14e-e893267afdde}\n",
      "INFO:root:Reading Report {1f2cbc39-8893-4bec-9c59-b9f8fba67062}.\n",
      "INFO:root:Adding Stix-Entity {49b9aab0-bb75-4cf7-abba-8542425ddccc} to Report {1f2cbc39-8893-4bec-9c59-b9f8fba67062}\n",
      "C:\\ProgramData\\Anaconda3\\lib\\site-packages\\ipykernel_launcher.py:300: DeprecationWarning: Call to deprecated method get_stix_domain_entity. (Replaced by the StixDomainEntity class in pycti) -- Deprecated since version 2.1.0.\n",
      "INFO:root:Reading Stix-Domain-Entity {c744b11d-776c-47e4-9cff-3c1974644ed3}.\n",
      "C:\\ProgramData\\Anaconda3\\lib\\site-packages\\ipykernel_launcher.py:303: DeprecationWarning: Call to deprecated method get_stix_domain_entity. (Replaced by the StixDomainEntity class in pycti) -- Deprecated since version 2.1.0.\n",
      "INFO:root:Reading Stix-Domain-Entity {88cbb5de-7cd0-4a00-a14e-e893267afdde}.\n"
     ]
    },
    {
     "name": "stdout",
     "output_type": "stream",
     "text": [
      "c744b11d-776c-47e4-9cff-3c1974644ed3\n",
      "88cbb5de-7cd0-4a00-a14e-e893267afdde\n"
     ]
    },
    {
     "name": "stderr",
     "output_type": "stream",
     "text": [
      "INFO:root:Listing stix_relations with {type: indicates, from_id: c744b11d-776c-47e4-9cff-3c1974644ed3, to_id: 88cbb5de-7cd0-4a00-a14e-e893267afdde}\n",
      "INFO:root:Reading Report {1f2cbc39-8893-4bec-9c59-b9f8fba67062}.\n",
      "INFO:root:Adding Stix-Entity {b1b9deb3-4428-4a3e-b7fa-b91bb8c19edd} to Report {1f2cbc39-8893-4bec-9c59-b9f8fba67062}\n",
      "C:\\ProgramData\\Anaconda3\\lib\\site-packages\\ipykernel_launcher.py:300: DeprecationWarning: Call to deprecated method get_stix_domain_entity. (Replaced by the StixDomainEntity class in pycti) -- Deprecated since version 2.1.0.\n",
      "INFO:root:Reading Stix-Domain-Entity {9399e6a6-5f58-4e12-b6bc-579e1e7d2c73}.\n",
      "C:\\ProgramData\\Anaconda3\\lib\\site-packages\\ipykernel_launcher.py:303: DeprecationWarning: Call to deprecated method get_stix_domain_entity. (Replaced by the StixDomainEntity class in pycti) -- Deprecated since version 2.1.0.\n",
      "INFO:root:Reading Stix-Domain-Entity {88cbb5de-7cd0-4a00-a14e-e893267afdde}.\n"
     ]
    },
    {
     "name": "stdout",
     "output_type": "stream",
     "text": [
      "9399e6a6-5f58-4e12-b6bc-579e1e7d2c73\n",
      "88cbb5de-7cd0-4a00-a14e-e893267afdde\n"
     ]
    },
    {
     "name": "stderr",
     "output_type": "stream",
     "text": [
      "INFO:root:Listing stix_relations with {type: indicates, from_id: 9399e6a6-5f58-4e12-b6bc-579e1e7d2c73, to_id: 88cbb5de-7cd0-4a00-a14e-e893267afdde}\n",
      "INFO:root:Reading Report {1f2cbc39-8893-4bec-9c59-b9f8fba67062}.\n",
      "INFO:root:Adding Stix-Entity {e3103b30-296d-43ef-b5ef-f5c17612a77f} to Report {1f2cbc39-8893-4bec-9c59-b9f8fba67062}\n",
      "C:\\ProgramData\\Anaconda3\\lib\\site-packages\\ipykernel_launcher.py:300: DeprecationWarning: Call to deprecated method get_stix_domain_entity. (Replaced by the StixDomainEntity class in pycti) -- Deprecated since version 2.1.0.\n",
      "INFO:root:Reading Stix-Domain-Entity {0c5337cc-9c44-4275-b109-18726fb25e7e}.\n",
      "C:\\ProgramData\\Anaconda3\\lib\\site-packages\\ipykernel_launcher.py:303: DeprecationWarning: Call to deprecated method get_stix_domain_entity. (Replaced by the StixDomainEntity class in pycti) -- Deprecated since version 2.1.0.\n",
      "INFO:root:Reading Stix-Domain-Entity {88cbb5de-7cd0-4a00-a14e-e893267afdde}.\n"
     ]
    },
    {
     "name": "stdout",
     "output_type": "stream",
     "text": [
      "0c5337cc-9c44-4275-b109-18726fb25e7e\n",
      "88cbb5de-7cd0-4a00-a14e-e893267afdde\n"
     ]
    },
    {
     "name": "stderr",
     "output_type": "stream",
     "text": [
      "INFO:root:Listing stix_relations with {type: indicates, from_id: 0c5337cc-9c44-4275-b109-18726fb25e7e, to_id: 88cbb5de-7cd0-4a00-a14e-e893267afdde}\n",
      "INFO:root:Reading Report {1f2cbc39-8893-4bec-9c59-b9f8fba67062}.\n",
      "INFO:root:Adding Stix-Entity {a1897713-af55-4f0c-8dd8-85e96f1da120} to Report {1f2cbc39-8893-4bec-9c59-b9f8fba67062}\n",
      "C:\\ProgramData\\Anaconda3\\lib\\site-packages\\ipykernel_launcher.py:300: DeprecationWarning: Call to deprecated method get_stix_domain_entity. (Replaced by the StixDomainEntity class in pycti) -- Deprecated since version 2.1.0.\n",
      "INFO:root:Reading Stix-Domain-Entity {37158f3e-96a7-4b83-b3df-45d60ab6f975}.\n",
      "C:\\ProgramData\\Anaconda3\\lib\\site-packages\\ipykernel_launcher.py:303: DeprecationWarning: Call to deprecated method get_stix_domain_entity. (Replaced by the StixDomainEntity class in pycti) -- Deprecated since version 2.1.0.\n",
      "INFO:root:Reading Stix-Domain-Entity {88cbb5de-7cd0-4a00-a14e-e893267afdde}.\n"
     ]
    },
    {
     "name": "stdout",
     "output_type": "stream",
     "text": [
      "37158f3e-96a7-4b83-b3df-45d60ab6f975\n",
      "88cbb5de-7cd0-4a00-a14e-e893267afdde\n"
     ]
    },
    {
     "name": "stderr",
     "output_type": "stream",
     "text": [
      "INFO:root:Listing stix_relations with {type: indicates, from_id: 37158f3e-96a7-4b83-b3df-45d60ab6f975, to_id: 88cbb5de-7cd0-4a00-a14e-e893267afdde}\n",
      "INFO:root:Reading Report {1f2cbc39-8893-4bec-9c59-b9f8fba67062}.\n",
      "INFO:root:Adding Stix-Entity {e5d714fe-5b82-4cff-a748-37319330de23} to Report {1f2cbc39-8893-4bec-9c59-b9f8fba67062}\n",
      "C:\\ProgramData\\Anaconda3\\lib\\site-packages\\ipykernel_launcher.py:300: DeprecationWarning: Call to deprecated method get_stix_domain_entity. (Replaced by the StixDomainEntity class in pycti) -- Deprecated since version 2.1.0.\n",
      "INFO:root:Reading Stix-Domain-Entity {2727152d-e7a4-4cfb-bd6d-ef3bb5a63578}.\n",
      "C:\\ProgramData\\Anaconda3\\lib\\site-packages\\ipykernel_launcher.py:303: DeprecationWarning: Call to deprecated method get_stix_domain_entity. (Replaced by the StixDomainEntity class in pycti) -- Deprecated since version 2.1.0.\n",
      "INFO:root:Reading Stix-Domain-Entity {88cbb5de-7cd0-4a00-a14e-e893267afdde}.\n"
     ]
    },
    {
     "name": "stdout",
     "output_type": "stream",
     "text": [
      "2727152d-e7a4-4cfb-bd6d-ef3bb5a63578\n",
      "88cbb5de-7cd0-4a00-a14e-e893267afdde\n"
     ]
    },
    {
     "name": "stderr",
     "output_type": "stream",
     "text": [
      "INFO:root:Listing stix_relations with {type: indicates, from_id: 2727152d-e7a4-4cfb-bd6d-ef3bb5a63578, to_id: 88cbb5de-7cd0-4a00-a14e-e893267afdde}\n",
      "INFO:root:Reading Report {1f2cbc39-8893-4bec-9c59-b9f8fba67062}.\n",
      "INFO:root:Adding Stix-Entity {fa15c1f6-65fe-4b5d-9eda-fcb4ed526605} to Report {1f2cbc39-8893-4bec-9c59-b9f8fba67062}\n",
      "C:\\ProgramData\\Anaconda3\\lib\\site-packages\\ipykernel_launcher.py:300: DeprecationWarning: Call to deprecated method get_stix_domain_entity. (Replaced by the StixDomainEntity class in pycti) -- Deprecated since version 2.1.0.\n",
      "INFO:root:Reading Stix-Domain-Entity {8525df65-0459-45c0-819a-2195e6fe2c5e}.\n",
      "C:\\ProgramData\\Anaconda3\\lib\\site-packages\\ipykernel_launcher.py:303: DeprecationWarning: Call to deprecated method get_stix_domain_entity. (Replaced by the StixDomainEntity class in pycti) -- Deprecated since version 2.1.0.\n",
      "INFO:root:Reading Stix-Domain-Entity {88cbb5de-7cd0-4a00-a14e-e893267afdde}.\n"
     ]
    },
    {
     "name": "stdout",
     "output_type": "stream",
     "text": [
      "8525df65-0459-45c0-819a-2195e6fe2c5e\n",
      "88cbb5de-7cd0-4a00-a14e-e893267afdde\n"
     ]
    },
    {
     "name": "stderr",
     "output_type": "stream",
     "text": [
      "INFO:root:Listing stix_relations with {type: indicates, from_id: 8525df65-0459-45c0-819a-2195e6fe2c5e, to_id: 88cbb5de-7cd0-4a00-a14e-e893267afdde}\n",
      "INFO:root:Reading Report {1f2cbc39-8893-4bec-9c59-b9f8fba67062}.\n",
      "INFO:root:Adding Stix-Entity {b412d573-2b73-4cd0-bd59-7e98a582f472} to Report {1f2cbc39-8893-4bec-9c59-b9f8fba67062}\n",
      "C:\\ProgramData\\Anaconda3\\lib\\site-packages\\ipykernel_launcher.py:300: DeprecationWarning: Call to deprecated method get_stix_domain_entity. (Replaced by the StixDomainEntity class in pycti) -- Deprecated since version 2.1.0.\n",
      "INFO:root:Reading Stix-Domain-Entity {88e04981-34f6-4f8f-9a97-ec3cf28f013a}.\n",
      "C:\\ProgramData\\Anaconda3\\lib\\site-packages\\ipykernel_launcher.py:303: DeprecationWarning: Call to deprecated method get_stix_domain_entity. (Replaced by the StixDomainEntity class in pycti) -- Deprecated since version 2.1.0.\n",
      "INFO:root:Reading Stix-Domain-Entity {88cbb5de-7cd0-4a00-a14e-e893267afdde}.\n"
     ]
    },
    {
     "name": "stdout",
     "output_type": "stream",
     "text": [
      "88e04981-34f6-4f8f-9a97-ec3cf28f013a\n",
      "88cbb5de-7cd0-4a00-a14e-e893267afdde\n"
     ]
    },
    {
     "name": "stderr",
     "output_type": "stream",
     "text": [
      "INFO:root:Listing stix_relations with {type: indicates, from_id: 88e04981-34f6-4f8f-9a97-ec3cf28f013a, to_id: 88cbb5de-7cd0-4a00-a14e-e893267afdde}\n",
      "INFO:root:Reading Report {1f2cbc39-8893-4bec-9c59-b9f8fba67062}.\n",
      "INFO:root:Adding Stix-Entity {0eb98753-a122-4c5b-8c5c-b8f9de5b5e39} to Report {1f2cbc39-8893-4bec-9c59-b9f8fba67062}\n",
      "C:\\ProgramData\\Anaconda3\\lib\\site-packages\\ipykernel_launcher.py:300: DeprecationWarning: Call to deprecated method get_stix_domain_entity. (Replaced by the StixDomainEntity class in pycti) -- Deprecated since version 2.1.0.\n",
      "INFO:root:Reading Stix-Domain-Entity {31c7a2bb-436d-4ed3-b96e-daa232f35b24}.\n",
      "C:\\ProgramData\\Anaconda3\\lib\\site-packages\\ipykernel_launcher.py:303: DeprecationWarning: Call to deprecated method get_stix_domain_entity. (Replaced by the StixDomainEntity class in pycti) -- Deprecated since version 2.1.0.\n",
      "INFO:root:Reading Stix-Domain-Entity {88cbb5de-7cd0-4a00-a14e-e893267afdde}.\n"
     ]
    },
    {
     "name": "stdout",
     "output_type": "stream",
     "text": [
      "31c7a2bb-436d-4ed3-b96e-daa232f35b24\n",
      "88cbb5de-7cd0-4a00-a14e-e893267afdde\n"
     ]
    },
    {
     "name": "stderr",
     "output_type": "stream",
     "text": [
      "INFO:root:Listing stix_relations with {type: indicates, from_id: 31c7a2bb-436d-4ed3-b96e-daa232f35b24, to_id: 88cbb5de-7cd0-4a00-a14e-e893267afdde}\n",
      "INFO:root:Reading Report {1f2cbc39-8893-4bec-9c59-b9f8fba67062}.\n",
      "INFO:root:Adding Stix-Entity {87804fa2-4b9a-496d-a106-2e126ad3a57e} to Report {1f2cbc39-8893-4bec-9c59-b9f8fba67062}\n",
      "C:\\ProgramData\\Anaconda3\\lib\\site-packages\\ipykernel_launcher.py:300: DeprecationWarning: Call to deprecated method get_stix_domain_entity. (Replaced by the StixDomainEntity class in pycti) -- Deprecated since version 2.1.0.\n",
      "INFO:root:Reading Stix-Domain-Entity {096cae42-ba77-45d9-8388-51655df64d90}.\n",
      "C:\\ProgramData\\Anaconda3\\lib\\site-packages\\ipykernel_launcher.py:303: DeprecationWarning: Call to deprecated method get_stix_domain_entity. (Replaced by the StixDomainEntity class in pycti) -- Deprecated since version 2.1.0.\n",
      "INFO:root:Reading Stix-Domain-Entity {88cbb5de-7cd0-4a00-a14e-e893267afdde}.\n"
     ]
    },
    {
     "name": "stdout",
     "output_type": "stream",
     "text": [
      "096cae42-ba77-45d9-8388-51655df64d90\n",
      "88cbb5de-7cd0-4a00-a14e-e893267afdde\n"
     ]
    },
    {
     "name": "stderr",
     "output_type": "stream",
     "text": [
      "INFO:root:Listing stix_relations with {type: indicates, from_id: 096cae42-ba77-45d9-8388-51655df64d90, to_id: 88cbb5de-7cd0-4a00-a14e-e893267afdde}\n",
      "INFO:root:Reading Report {1f2cbc39-8893-4bec-9c59-b9f8fba67062}.\n",
      "INFO:root:Adding Stix-Entity {9db63cd8-88a7-497d-afd5-251718f9257b} to Report {1f2cbc39-8893-4bec-9c59-b9f8fba67062}\n",
      "C:\\ProgramData\\Anaconda3\\lib\\site-packages\\ipykernel_launcher.py:300: DeprecationWarning: Call to deprecated method get_stix_domain_entity. (Replaced by the StixDomainEntity class in pycti) -- Deprecated since version 2.1.0.\n",
      "INFO:root:Reading Stix-Domain-Entity {096cae42-ba77-45d9-8388-51655df64d90}.\n",
      "C:\\ProgramData\\Anaconda3\\lib\\site-packages\\ipykernel_launcher.py:303: DeprecationWarning: Call to deprecated method get_stix_domain_entity. (Replaced by the StixDomainEntity class in pycti) -- Deprecated since version 2.1.0.\n",
      "INFO:root:Reading Stix-Domain-Entity {88cbb5de-7cd0-4a00-a14e-e893267afdde}.\n"
     ]
    },
    {
     "name": "stdout",
     "output_type": "stream",
     "text": [
      "096cae42-ba77-45d9-8388-51655df64d90\n",
      "88cbb5de-7cd0-4a00-a14e-e893267afdde\n"
     ]
    },
    {
     "name": "stderr",
     "output_type": "stream",
     "text": [
      "INFO:root:Listing stix_relations with {type: indicates, from_id: 096cae42-ba77-45d9-8388-51655df64d90, to_id: 88cbb5de-7cd0-4a00-a14e-e893267afdde}\n",
      "INFO:root:Reading Report {1f2cbc39-8893-4bec-9c59-b9f8fba67062}.\n",
      "INFO:root:Adding Stix-Entity {9db63cd8-88a7-497d-afd5-251718f9257b} to Report {1f2cbc39-8893-4bec-9c59-b9f8fba67062}\n",
      "ERROR:root:A database error has occured!\n",
      "C:\\ProgramData\\Anaconda3\\lib\\site-packages\\ipykernel_launcher.py:300: DeprecationWarning: Call to deprecated method get_stix_domain_entity. (Replaced by the StixDomainEntity class in pycti) -- Deprecated since version 2.1.0.\n",
      "INFO:root:Reading Stix-Domain-Entity {1dd753c6-829d-42f9-8dfc-4a192aa69459}.\n",
      "C:\\ProgramData\\Anaconda3\\lib\\site-packages\\ipykernel_launcher.py:303: DeprecationWarning: Call to deprecated method get_stix_domain_entity. (Replaced by the StixDomainEntity class in pycti) -- Deprecated since version 2.1.0.\n",
      "INFO:root:Reading Stix-Domain-Entity {88cbb5de-7cd0-4a00-a14e-e893267afdde}.\n"
     ]
    },
    {
     "name": "stdout",
     "output_type": "stream",
     "text": [
      "1dd753c6-829d-42f9-8dfc-4a192aa69459\n",
      "88cbb5de-7cd0-4a00-a14e-e893267afdde\n"
     ]
    },
    {
     "name": "stderr",
     "output_type": "stream",
     "text": [
      "INFO:root:Listing stix_relations with {type: indicates, from_id: 1dd753c6-829d-42f9-8dfc-4a192aa69459, to_id: 88cbb5de-7cd0-4a00-a14e-e893267afdde}\n",
      "INFO:root:Reading Report {1f2cbc39-8893-4bec-9c59-b9f8fba67062}.\n",
      "INFO:root:Adding Stix-Entity {c7ec5469-f484-41b7-9929-580353e572a3} to Report {1f2cbc39-8893-4bec-9c59-b9f8fba67062}\n",
      "C:\\ProgramData\\Anaconda3\\lib\\site-packages\\ipykernel_launcher.py:300: DeprecationWarning: Call to deprecated method get_stix_domain_entity. (Replaced by the StixDomainEntity class in pycti) -- Deprecated since version 2.1.0.\n",
      "INFO:root:Reading Stix-Domain-Entity {1dd753c6-829d-42f9-8dfc-4a192aa69459}.\n",
      "C:\\ProgramData\\Anaconda3\\lib\\site-packages\\ipykernel_launcher.py:303: DeprecationWarning: Call to deprecated method get_stix_domain_entity. (Replaced by the StixDomainEntity class in pycti) -- Deprecated since version 2.1.0.\n",
      "INFO:root:Reading Stix-Domain-Entity {88cbb5de-7cd0-4a00-a14e-e893267afdde}.\n"
     ]
    },
    {
     "name": "stdout",
     "output_type": "stream",
     "text": [
      "1dd753c6-829d-42f9-8dfc-4a192aa69459\n",
      "88cbb5de-7cd0-4a00-a14e-e893267afdde\n"
     ]
    },
    {
     "name": "stderr",
     "output_type": "stream",
     "text": [
      "INFO:root:Listing stix_relations with {type: indicates, from_id: 1dd753c6-829d-42f9-8dfc-4a192aa69459, to_id: 88cbb5de-7cd0-4a00-a14e-e893267afdde}\n",
      "INFO:root:Reading Report {1f2cbc39-8893-4bec-9c59-b9f8fba67062}.\n",
      "C:\\ProgramData\\Anaconda3\\lib\\site-packages\\ipykernel_launcher.py:300: DeprecationWarning: Call to deprecated method get_stix_domain_entity. (Replaced by the StixDomainEntity class in pycti) -- Deprecated since version 2.1.0.\n",
      "INFO:root:Reading Stix-Domain-Entity {31c7a2bb-436d-4ed3-b96e-daa232f35b24}.\n",
      "C:\\ProgramData\\Anaconda3\\lib\\site-packages\\ipykernel_launcher.py:303: DeprecationWarning: Call to deprecated method get_stix_domain_entity. (Replaced by the StixDomainEntity class in pycti) -- Deprecated since version 2.1.0.\n",
      "INFO:root:Reading Stix-Domain-Entity {88cbb5de-7cd0-4a00-a14e-e893267afdde}.\n"
     ]
    },
    {
     "name": "stdout",
     "output_type": "stream",
     "text": [
      "31c7a2bb-436d-4ed3-b96e-daa232f35b24\n",
      "88cbb5de-7cd0-4a00-a14e-e893267afdde\n"
     ]
    },
    {
     "name": "stderr",
     "output_type": "stream",
     "text": [
      "INFO:root:Listing stix_relations with {type: indicates, from_id: 31c7a2bb-436d-4ed3-b96e-daa232f35b24, to_id: 88cbb5de-7cd0-4a00-a14e-e893267afdde}\n",
      "INFO:root:Reading Report {1f2cbc39-8893-4bec-9c59-b9f8fba67062}.\n",
      "C:\\ProgramData\\Anaconda3\\lib\\site-packages\\ipykernel_launcher.py:300: DeprecationWarning: Call to deprecated method get_stix_domain_entity. (Replaced by the StixDomainEntity class in pycti) -- Deprecated since version 2.1.0.\n",
      "INFO:root:Reading Stix-Domain-Entity {615b8c34-efc9-4787-90bc-4c5e6e4439fe}.\n",
      "C:\\ProgramData\\Anaconda3\\lib\\site-packages\\ipykernel_launcher.py:303: DeprecationWarning: Call to deprecated method get_stix_domain_entity. (Replaced by the StixDomainEntity class in pycti) -- Deprecated since version 2.1.0.\n",
      "INFO:root:Reading Stix-Domain-Entity {88cbb5de-7cd0-4a00-a14e-e893267afdde}.\n"
     ]
    },
    {
     "name": "stdout",
     "output_type": "stream",
     "text": [
      "615b8c34-efc9-4787-90bc-4c5e6e4439fe\n",
      "88cbb5de-7cd0-4a00-a14e-e893267afdde\n"
     ]
    },
    {
     "name": "stderr",
     "output_type": "stream",
     "text": [
      "INFO:root:Listing stix_relations with {type: indicates, from_id: 615b8c34-efc9-4787-90bc-4c5e6e4439fe, to_id: 88cbb5de-7cd0-4a00-a14e-e893267afdde}\n",
      "INFO:root:Reading Report {1f2cbc39-8893-4bec-9c59-b9f8fba67062}.\n",
      "INFO:root:Adding Stix-Entity {8c2a70f0-ea6e-4fcb-af30-d6817f7c0dc2} to Report {1f2cbc39-8893-4bec-9c59-b9f8fba67062}\n",
      "C:\\ProgramData\\Anaconda3\\lib\\site-packages\\ipykernel_launcher.py:300: DeprecationWarning: Call to deprecated method get_stix_domain_entity. (Replaced by the StixDomainEntity class in pycti) -- Deprecated since version 2.1.0.\n",
      "INFO:root:Reading Stix-Domain-Entity {492a45d4-ae59-462e-82a8-29c7b93a6b74}.\n",
      "C:\\ProgramData\\Anaconda3\\lib\\site-packages\\ipykernel_launcher.py:303: DeprecationWarning: Call to deprecated method get_stix_domain_entity. (Replaced by the StixDomainEntity class in pycti) -- Deprecated since version 2.1.0.\n",
      "INFO:root:Reading Stix-Domain-Entity {88cbb5de-7cd0-4a00-a14e-e893267afdde}.\n"
     ]
    },
    {
     "name": "stdout",
     "output_type": "stream",
     "text": [
      "492a45d4-ae59-462e-82a8-29c7b93a6b74\n",
      "88cbb5de-7cd0-4a00-a14e-e893267afdde\n"
     ]
    },
    {
     "name": "stderr",
     "output_type": "stream",
     "text": [
      "INFO:root:Listing stix_relations with {type: indicates, from_id: 492a45d4-ae59-462e-82a8-29c7b93a6b74, to_id: 88cbb5de-7cd0-4a00-a14e-e893267afdde}\n",
      "INFO:root:Reading Report {1f2cbc39-8893-4bec-9c59-b9f8fba67062}.\n",
      "INFO:root:Adding Stix-Entity {37050a9e-b4ea-4271-a0f9-e2eba8eda192} to Report {1f2cbc39-8893-4bec-9c59-b9f8fba67062}\n",
      "C:\\ProgramData\\Anaconda3\\lib\\site-packages\\ipykernel_launcher.py:300: DeprecationWarning: Call to deprecated method get_stix_domain_entity. (Replaced by the StixDomainEntity class in pycti) -- Deprecated since version 2.1.0.\n",
      "INFO:root:Reading Stix-Domain-Entity {5e70cf13-b062-4b35-a097-9f6fdfd514c9}.\n",
      "C:\\ProgramData\\Anaconda3\\lib\\site-packages\\ipykernel_launcher.py:303: DeprecationWarning: Call to deprecated method get_stix_domain_entity. (Replaced by the StixDomainEntity class in pycti) -- Deprecated since version 2.1.0.\n",
      "INFO:root:Reading Stix-Domain-Entity {88cbb5de-7cd0-4a00-a14e-e893267afdde}.\n"
     ]
    },
    {
     "name": "stdout",
     "output_type": "stream",
     "text": [
      "5e70cf13-b062-4b35-a097-9f6fdfd514c9\n",
      "88cbb5de-7cd0-4a00-a14e-e893267afdde\n"
     ]
    },
    {
     "name": "stderr",
     "output_type": "stream",
     "text": [
      "INFO:root:Listing stix_relations with {type: indicates, from_id: 5e70cf13-b062-4b35-a097-9f6fdfd514c9, to_id: 88cbb5de-7cd0-4a00-a14e-e893267afdde}\n",
      "INFO:root:Reading Report {1f2cbc39-8893-4bec-9c59-b9f8fba67062}.\n",
      "INFO:root:Adding Stix-Entity {95ad9550-e564-454b-94a6-18a48cb7b15e} to Report {1f2cbc39-8893-4bec-9c59-b9f8fba67062}\n",
      "C:\\ProgramData\\Anaconda3\\lib\\site-packages\\ipykernel_launcher.py:300: DeprecationWarning: Call to deprecated method get_stix_domain_entity. (Replaced by the StixDomainEntity class in pycti) -- Deprecated since version 2.1.0.\n",
      "INFO:root:Reading Stix-Domain-Entity {00ad334a-d1d7-4661-a569-24cee0809afc}.\n",
      "C:\\ProgramData\\Anaconda3\\lib\\site-packages\\ipykernel_launcher.py:303: DeprecationWarning: Call to deprecated method get_stix_domain_entity. (Replaced by the StixDomainEntity class in pycti) -- Deprecated since version 2.1.0.\n",
      "INFO:root:Reading Stix-Domain-Entity {88cbb5de-7cd0-4a00-a14e-e893267afdde}.\n"
     ]
    },
    {
     "name": "stdout",
     "output_type": "stream",
     "text": [
      "00ad334a-d1d7-4661-a569-24cee0809afc\n",
      "88cbb5de-7cd0-4a00-a14e-e893267afdde\n"
     ]
    },
    {
     "name": "stderr",
     "output_type": "stream",
     "text": [
      "INFO:root:Listing stix_relations with {type: indicates, from_id: 00ad334a-d1d7-4661-a569-24cee0809afc, to_id: 88cbb5de-7cd0-4a00-a14e-e893267afdde}\n",
      "INFO:root:Reading Report {1f2cbc39-8893-4bec-9c59-b9f8fba67062}.\n",
      "INFO:root:Adding Stix-Entity {259b2d05-5f12-4bc5-a1e6-6bacfae7cec2} to Report {1f2cbc39-8893-4bec-9c59-b9f8fba67062}\n",
      "C:\\ProgramData\\Anaconda3\\lib\\site-packages\\ipykernel_launcher.py:300: DeprecationWarning: Call to deprecated method get_stix_domain_entity. (Replaced by the StixDomainEntity class in pycti) -- Deprecated since version 2.1.0.\n",
      "INFO:root:Reading Stix-Domain-Entity {56da9235-700f-403d-ba63-ae76f4f358fa}.\n",
      "C:\\ProgramData\\Anaconda3\\lib\\site-packages\\ipykernel_launcher.py:303: DeprecationWarning: Call to deprecated method get_stix_domain_entity. (Replaced by the StixDomainEntity class in pycti) -- Deprecated since version 2.1.0.\n",
      "INFO:root:Reading Stix-Domain-Entity {88cbb5de-7cd0-4a00-a14e-e893267afdde}.\n"
     ]
    },
    {
     "name": "stdout",
     "output_type": "stream",
     "text": [
      "56da9235-700f-403d-ba63-ae76f4f358fa\n",
      "88cbb5de-7cd0-4a00-a14e-e893267afdde\n"
     ]
    },
    {
     "name": "stderr",
     "output_type": "stream",
     "text": [
      "INFO:root:Listing stix_relations with {type: indicates, from_id: 56da9235-700f-403d-ba63-ae76f4f358fa, to_id: 88cbb5de-7cd0-4a00-a14e-e893267afdde}\n",
      "INFO:root:Reading Report {1f2cbc39-8893-4bec-9c59-b9f8fba67062}.\n",
      "INFO:root:Adding Stix-Entity {8df5238d-a4f7-43d1-8c4d-8f99a4806c35} to Report {1f2cbc39-8893-4bec-9c59-b9f8fba67062}\n",
      "C:\\ProgramData\\Anaconda3\\lib\\site-packages\\ipykernel_launcher.py:300: DeprecationWarning: Call to deprecated method get_stix_domain_entity. (Replaced by the StixDomainEntity class in pycti) -- Deprecated since version 2.1.0.\n",
      "INFO:root:Reading Stix-Domain-Entity {653b4fa5-4e7e-4ceb-b5ff-0d1c4b9ca53d}.\n",
      "C:\\ProgramData\\Anaconda3\\lib\\site-packages\\ipykernel_launcher.py:303: DeprecationWarning: Call to deprecated method get_stix_domain_entity. (Replaced by the StixDomainEntity class in pycti) -- Deprecated since version 2.1.0.\n",
      "INFO:root:Reading Stix-Domain-Entity {88cbb5de-7cd0-4a00-a14e-e893267afdde}.\n"
     ]
    },
    {
     "name": "stdout",
     "output_type": "stream",
     "text": [
      "653b4fa5-4e7e-4ceb-b5ff-0d1c4b9ca53d\n",
      "88cbb5de-7cd0-4a00-a14e-e893267afdde\n"
     ]
    },
    {
     "name": "stderr",
     "output_type": "stream",
     "text": [
      "INFO:root:Listing stix_relations with {type: indicates, from_id: 653b4fa5-4e7e-4ceb-b5ff-0d1c4b9ca53d, to_id: 88cbb5de-7cd0-4a00-a14e-e893267afdde}\n",
      "INFO:root:Reading Report {1f2cbc39-8893-4bec-9c59-b9f8fba67062}.\n",
      "INFO:root:Adding Stix-Entity {6e2e830f-43ee-4525-93f4-ece77775e2c6} to Report {1f2cbc39-8893-4bec-9c59-b9f8fba67062}\n",
      "C:\\ProgramData\\Anaconda3\\lib\\site-packages\\ipykernel_launcher.py:300: DeprecationWarning: Call to deprecated method get_stix_domain_entity. (Replaced by the StixDomainEntity class in pycti) -- Deprecated since version 2.1.0.\n",
      "INFO:root:Reading Stix-Domain-Entity {8ea40372-b7c1-42d9-b881-c4cb756d8988}.\n",
      "C:\\ProgramData\\Anaconda3\\lib\\site-packages\\ipykernel_launcher.py:303: DeprecationWarning: Call to deprecated method get_stix_domain_entity. (Replaced by the StixDomainEntity class in pycti) -- Deprecated since version 2.1.0.\n",
      "INFO:root:Reading Stix-Domain-Entity {88cbb5de-7cd0-4a00-a14e-e893267afdde}.\n"
     ]
    },
    {
     "name": "stdout",
     "output_type": "stream",
     "text": [
      "8ea40372-b7c1-42d9-b881-c4cb756d8988\n",
      "88cbb5de-7cd0-4a00-a14e-e893267afdde\n"
     ]
    },
    {
     "name": "stderr",
     "output_type": "stream",
     "text": [
      "INFO:root:Listing stix_relations with {type: indicates, from_id: 8ea40372-b7c1-42d9-b881-c4cb756d8988, to_id: 88cbb5de-7cd0-4a00-a14e-e893267afdde}\n",
      "INFO:root:Reading Report {1f2cbc39-8893-4bec-9c59-b9f8fba67062}.\n",
      "INFO:root:Adding Stix-Entity {46f814e0-5ef7-4195-80a1-416548fca456} to Report {1f2cbc39-8893-4bec-9c59-b9f8fba67062}\n",
      "C:\\ProgramData\\Anaconda3\\lib\\site-packages\\ipykernel_launcher.py:300: DeprecationWarning: Call to deprecated method get_stix_domain_entity. (Replaced by the StixDomainEntity class in pycti) -- Deprecated since version 2.1.0.\n",
      "INFO:root:Reading Stix-Domain-Entity {dd7737da-add1-4a84-bd1f-66159c019666}.\n",
      "C:\\ProgramData\\Anaconda3\\lib\\site-packages\\ipykernel_launcher.py:303: DeprecationWarning: Call to deprecated method get_stix_domain_entity. (Replaced by the StixDomainEntity class in pycti) -- Deprecated since version 2.1.0.\n",
      "INFO:root:Reading Stix-Domain-Entity {88cbb5de-7cd0-4a00-a14e-e893267afdde}.\n"
     ]
    },
    {
     "name": "stdout",
     "output_type": "stream",
     "text": [
      "dd7737da-add1-4a84-bd1f-66159c019666\n",
      "88cbb5de-7cd0-4a00-a14e-e893267afdde\n"
     ]
    },
    {
     "name": "stderr",
     "output_type": "stream",
     "text": [
      "INFO:root:Listing stix_relations with {type: indicates, from_id: dd7737da-add1-4a84-bd1f-66159c019666, to_id: 88cbb5de-7cd0-4a00-a14e-e893267afdde}\n",
      "INFO:root:Reading Report {1f2cbc39-8893-4bec-9c59-b9f8fba67062}.\n",
      "INFO:root:Adding Stix-Entity {d9569f77-ad6c-4ac6-9b35-2b7c0174beff} to Report {1f2cbc39-8893-4bec-9c59-b9f8fba67062}\n",
      "C:\\ProgramData\\Anaconda3\\lib\\site-packages\\ipykernel_launcher.py:300: DeprecationWarning: Call to deprecated method get_stix_domain_entity. (Replaced by the StixDomainEntity class in pycti) -- Deprecated since version 2.1.0.\n",
      "INFO:root:Reading Stix-Domain-Entity {b805996a-7651-4c97-8de1-4d5da1d841c3}.\n",
      "C:\\ProgramData\\Anaconda3\\lib\\site-packages\\ipykernel_launcher.py:303: DeprecationWarning: Call to deprecated method get_stix_domain_entity. (Replaced by the StixDomainEntity class in pycti) -- Deprecated since version 2.1.0.\n",
      "INFO:root:Reading Stix-Domain-Entity {88cbb5de-7cd0-4a00-a14e-e893267afdde}.\n"
     ]
    },
    {
     "name": "stdout",
     "output_type": "stream",
     "text": [
      "b805996a-7651-4c97-8de1-4d5da1d841c3\n",
      "88cbb5de-7cd0-4a00-a14e-e893267afdde\n"
     ]
    },
    {
     "name": "stderr",
     "output_type": "stream",
     "text": [
      "INFO:root:Listing stix_relations with {type: indicates, from_id: b805996a-7651-4c97-8de1-4d5da1d841c3, to_id: 88cbb5de-7cd0-4a00-a14e-e893267afdde}\n",
      "INFO:root:Reading Report {1f2cbc39-8893-4bec-9c59-b9f8fba67062}.\n",
      "INFO:root:Adding Stix-Entity {53d55e67-dc40-48a1-afe4-3f283e6e6d64} to Report {1f2cbc39-8893-4bec-9c59-b9f8fba67062}\n",
      "C:\\ProgramData\\Anaconda3\\lib\\site-packages\\ipykernel_launcher.py:300: DeprecationWarning: Call to deprecated method get_stix_domain_entity. (Replaced by the StixDomainEntity class in pycti) -- Deprecated since version 2.1.0.\n",
      "INFO:root:Reading Stix-Domain-Entity {3346bf74-4e40-4f2e-b753-cead1d12f0cf}.\n",
      "C:\\ProgramData\\Anaconda3\\lib\\site-packages\\ipykernel_launcher.py:303: DeprecationWarning: Call to deprecated method get_stix_domain_entity. (Replaced by the StixDomainEntity class in pycti) -- Deprecated since version 2.1.0.\n",
      "INFO:root:Reading Stix-Domain-Entity {88cbb5de-7cd0-4a00-a14e-e893267afdde}.\n"
     ]
    },
    {
     "name": "stdout",
     "output_type": "stream",
     "text": [
      "3346bf74-4e40-4f2e-b753-cead1d12f0cf\n",
      "88cbb5de-7cd0-4a00-a14e-e893267afdde\n"
     ]
    },
    {
     "name": "stderr",
     "output_type": "stream",
     "text": [
      "INFO:root:Listing stix_relations with {type: indicates, from_id: 3346bf74-4e40-4f2e-b753-cead1d12f0cf, to_id: 88cbb5de-7cd0-4a00-a14e-e893267afdde}\n",
      "INFO:root:Reading Report {1f2cbc39-8893-4bec-9c59-b9f8fba67062}.\n",
      "INFO:root:Adding Stix-Entity {985d7478-5473-4c4d-801d-b79a86c19e0f} to Report {1f2cbc39-8893-4bec-9c59-b9f8fba67062}\n",
      "C:\\ProgramData\\Anaconda3\\lib\\site-packages\\ipykernel_launcher.py:300: DeprecationWarning: Call to deprecated method get_stix_domain_entity. (Replaced by the StixDomainEntity class in pycti) -- Deprecated since version 2.1.0.\n",
      "INFO:root:Reading Stix-Domain-Entity {3f43c2b7-3df0-4080-a58d-235cfebef2bf}.\n",
      "C:\\ProgramData\\Anaconda3\\lib\\site-packages\\ipykernel_launcher.py:303: DeprecationWarning: Call to deprecated method get_stix_domain_entity. (Replaced by the StixDomainEntity class in pycti) -- Deprecated since version 2.1.0.\n",
      "INFO:root:Reading Stix-Domain-Entity {88cbb5de-7cd0-4a00-a14e-e893267afdde}.\n"
     ]
    },
    {
     "name": "stdout",
     "output_type": "stream",
     "text": [
      "3f43c2b7-3df0-4080-a58d-235cfebef2bf\n",
      "88cbb5de-7cd0-4a00-a14e-e893267afdde\n"
     ]
    },
    {
     "name": "stderr",
     "output_type": "stream",
     "text": [
      "INFO:root:Listing stix_relations with {type: indicates, from_id: 3f43c2b7-3df0-4080-a58d-235cfebef2bf, to_id: 88cbb5de-7cd0-4a00-a14e-e893267afdde}\n",
      "INFO:root:Reading Report {1f2cbc39-8893-4bec-9c59-b9f8fba67062}.\n",
      "INFO:root:Adding Stix-Entity {ba479305-7d3c-41b9-8bfc-da38abf1da4e} to Report {1f2cbc39-8893-4bec-9c59-b9f8fba67062}\n",
      "C:\\ProgramData\\Anaconda3\\lib\\site-packages\\ipykernel_launcher.py:300: DeprecationWarning: Call to deprecated method get_stix_domain_entity. (Replaced by the StixDomainEntity class in pycti) -- Deprecated since version 2.1.0.\n",
      "INFO:root:Reading Stix-Domain-Entity {df78e550-327f-4351-bbfe-84762373d51a}.\n",
      "C:\\ProgramData\\Anaconda3\\lib\\site-packages\\ipykernel_launcher.py:303: DeprecationWarning: Call to deprecated method get_stix_domain_entity. (Replaced by the StixDomainEntity class in pycti) -- Deprecated since version 2.1.0.\n",
      "INFO:root:Reading Stix-Domain-Entity {88cbb5de-7cd0-4a00-a14e-e893267afdde}.\n"
     ]
    },
    {
     "name": "stdout",
     "output_type": "stream",
     "text": [
      "df78e550-327f-4351-bbfe-84762373d51a\n",
      "88cbb5de-7cd0-4a00-a14e-e893267afdde\n"
     ]
    },
    {
     "name": "stderr",
     "output_type": "stream",
     "text": [
      "INFO:root:Listing stix_relations with {type: indicates, from_id: df78e550-327f-4351-bbfe-84762373d51a, to_id: 88cbb5de-7cd0-4a00-a14e-e893267afdde}\n",
      "INFO:root:Reading Report {1f2cbc39-8893-4bec-9c59-b9f8fba67062}.\n",
      "INFO:root:Adding Stix-Entity {f52627f7-f06f-400a-8877-ac6beffa143c} to Report {1f2cbc39-8893-4bec-9c59-b9f8fba67062}\n",
      "C:\\ProgramData\\Anaconda3\\lib\\site-packages\\ipykernel_launcher.py:300: DeprecationWarning: Call to deprecated method get_stix_domain_entity. (Replaced by the StixDomainEntity class in pycti) -- Deprecated since version 2.1.0.\n",
      "INFO:root:Reading Stix-Domain-Entity {84fd12a3-8d1a-4dff-8c43-3c0d7b8dacee}.\n",
      "C:\\ProgramData\\Anaconda3\\lib\\site-packages\\ipykernel_launcher.py:303: DeprecationWarning: Call to deprecated method get_stix_domain_entity. (Replaced by the StixDomainEntity class in pycti) -- Deprecated since version 2.1.0.\n",
      "INFO:root:Reading Stix-Domain-Entity {88cbb5de-7cd0-4a00-a14e-e893267afdde}.\n"
     ]
    },
    {
     "name": "stdout",
     "output_type": "stream",
     "text": [
      "84fd12a3-8d1a-4dff-8c43-3c0d7b8dacee\n",
      "88cbb5de-7cd0-4a00-a14e-e893267afdde\n"
     ]
    },
    {
     "name": "stderr",
     "output_type": "stream",
     "text": [
      "INFO:root:Listing stix_relations with {type: indicates, from_id: 84fd12a3-8d1a-4dff-8c43-3c0d7b8dacee, to_id: 88cbb5de-7cd0-4a00-a14e-e893267afdde}\n",
      "INFO:root:Reading Report {1f2cbc39-8893-4bec-9c59-b9f8fba67062}.\n",
      "INFO:root:Adding Stix-Entity {9128b177-8434-49ca-baf6-21fe5d4c52b9} to Report {1f2cbc39-8893-4bec-9c59-b9f8fba67062}\n",
      "C:\\ProgramData\\Anaconda3\\lib\\site-packages\\ipykernel_launcher.py:300: DeprecationWarning: Call to deprecated method get_stix_domain_entity. (Replaced by the StixDomainEntity class in pycti) -- Deprecated since version 2.1.0.\n",
      "INFO:root:Reading Stix-Domain-Entity {adb6fa3f-2d89-46f3-9d59-b4d99490c4e2}.\n",
      "C:\\ProgramData\\Anaconda3\\lib\\site-packages\\ipykernel_launcher.py:303: DeprecationWarning: Call to deprecated method get_stix_domain_entity. (Replaced by the StixDomainEntity class in pycti) -- Deprecated since version 2.1.0.\n",
      "INFO:root:Reading Stix-Domain-Entity {88cbb5de-7cd0-4a00-a14e-e893267afdde}.\n"
     ]
    },
    {
     "name": "stdout",
     "output_type": "stream",
     "text": [
      "adb6fa3f-2d89-46f3-9d59-b4d99490c4e2\n",
      "88cbb5de-7cd0-4a00-a14e-e893267afdde\n"
     ]
    },
    {
     "name": "stderr",
     "output_type": "stream",
     "text": [
      "INFO:root:Listing stix_relations with {type: indicates, from_id: adb6fa3f-2d89-46f3-9d59-b4d99490c4e2, to_id: 88cbb5de-7cd0-4a00-a14e-e893267afdde}\n",
      "INFO:root:Reading Report {1f2cbc39-8893-4bec-9c59-b9f8fba67062}.\n",
      "INFO:root:Adding Stix-Entity {9fdafb3c-2764-4688-b075-eacf353881c8} to Report {1f2cbc39-8893-4bec-9c59-b9f8fba67062}\n",
      "C:\\ProgramData\\Anaconda3\\lib\\site-packages\\ipykernel_launcher.py:300: DeprecationWarning: Call to deprecated method get_stix_domain_entity. (Replaced by the StixDomainEntity class in pycti) -- Deprecated since version 2.1.0.\n",
      "INFO:root:Reading Stix-Domain-Entity {541ee782-769c-409c-8ee9-62d559d460e1}.\n",
      "C:\\ProgramData\\Anaconda3\\lib\\site-packages\\ipykernel_launcher.py:303: DeprecationWarning: Call to deprecated method get_stix_domain_entity. (Replaced by the StixDomainEntity class in pycti) -- Deprecated since version 2.1.0.\n",
      "INFO:root:Reading Stix-Domain-Entity {88cbb5de-7cd0-4a00-a14e-e893267afdde}.\n"
     ]
    },
    {
     "name": "stdout",
     "output_type": "stream",
     "text": [
      "541ee782-769c-409c-8ee9-62d559d460e1\n",
      "88cbb5de-7cd0-4a00-a14e-e893267afdde\n"
     ]
    },
    {
     "name": "stderr",
     "output_type": "stream",
     "text": [
      "INFO:root:Listing stix_relations with {type: indicates, from_id: 541ee782-769c-409c-8ee9-62d559d460e1, to_id: 88cbb5de-7cd0-4a00-a14e-e893267afdde}\n",
      "INFO:root:Reading Report {1f2cbc39-8893-4bec-9c59-b9f8fba67062}.\n",
      "INFO:root:Adding Stix-Entity {d7693135-f31b-47ef-b31a-f7a8389a3dd8} to Report {1f2cbc39-8893-4bec-9c59-b9f8fba67062}\n",
      "C:\\ProgramData\\Anaconda3\\lib\\site-packages\\ipykernel_launcher.py:300: DeprecationWarning: Call to deprecated method get_stix_domain_entity. (Replaced by the StixDomainEntity class in pycti) -- Deprecated since version 2.1.0.\n",
      "INFO:root:Reading Stix-Domain-Entity {0e5e928f-11dc-4764-999d-885d924cd5e3}.\n",
      "C:\\ProgramData\\Anaconda3\\lib\\site-packages\\ipykernel_launcher.py:303: DeprecationWarning: Call to deprecated method get_stix_domain_entity. (Replaced by the StixDomainEntity class in pycti) -- Deprecated since version 2.1.0.\n",
      "INFO:root:Reading Stix-Domain-Entity {88cbb5de-7cd0-4a00-a14e-e893267afdde}.\n"
     ]
    },
    {
     "name": "stdout",
     "output_type": "stream",
     "text": [
      "0e5e928f-11dc-4764-999d-885d924cd5e3\n",
      "88cbb5de-7cd0-4a00-a14e-e893267afdde\n"
     ]
    },
    {
     "name": "stderr",
     "output_type": "stream",
     "text": [
      "INFO:root:Listing stix_relations with {type: indicates, from_id: 0e5e928f-11dc-4764-999d-885d924cd5e3, to_id: 88cbb5de-7cd0-4a00-a14e-e893267afdde}\n",
      "INFO:root:Reading Report {1f2cbc39-8893-4bec-9c59-b9f8fba67062}.\n",
      "INFO:root:Adding Stix-Entity {cdde4424-ab92-4eef-8696-394b5db34bb5} to Report {1f2cbc39-8893-4bec-9c59-b9f8fba67062}\n",
      "C:\\ProgramData\\Anaconda3\\lib\\site-packages\\ipykernel_launcher.py:300: DeprecationWarning: Call to deprecated method get_stix_domain_entity. (Replaced by the StixDomainEntity class in pycti) -- Deprecated since version 2.1.0.\n",
      "INFO:root:Reading Stix-Domain-Entity {be9197fa-e9de-4955-82f9-b02b59642802}.\n",
      "C:\\ProgramData\\Anaconda3\\lib\\site-packages\\ipykernel_launcher.py:303: DeprecationWarning: Call to deprecated method get_stix_domain_entity. (Replaced by the StixDomainEntity class in pycti) -- Deprecated since version 2.1.0.\n",
      "INFO:root:Reading Stix-Domain-Entity {88cbb5de-7cd0-4a00-a14e-e893267afdde}.\n"
     ]
    },
    {
     "name": "stdout",
     "output_type": "stream",
     "text": [
      "be9197fa-e9de-4955-82f9-b02b59642802\n",
      "88cbb5de-7cd0-4a00-a14e-e893267afdde\n"
     ]
    },
    {
     "name": "stderr",
     "output_type": "stream",
     "text": [
      "INFO:root:Listing stix_relations with {type: indicates, from_id: be9197fa-e9de-4955-82f9-b02b59642802, to_id: 88cbb5de-7cd0-4a00-a14e-e893267afdde}\n",
      "INFO:root:Reading Report {1f2cbc39-8893-4bec-9c59-b9f8fba67062}.\n",
      "INFO:root:Adding Stix-Entity {16278feb-8ec9-4066-871c-95fbaf75d3f5} to Report {1f2cbc39-8893-4bec-9c59-b9f8fba67062}\n",
      "C:\\ProgramData\\Anaconda3\\lib\\site-packages\\ipykernel_launcher.py:300: DeprecationWarning: Call to deprecated method get_stix_domain_entity. (Replaced by the StixDomainEntity class in pycti) -- Deprecated since version 2.1.0.\n",
      "INFO:root:Reading Stix-Domain-Entity {667ab360-1fca-4c04-a6a5-df7c83e82c8e}.\n",
      "C:\\ProgramData\\Anaconda3\\lib\\site-packages\\ipykernel_launcher.py:303: DeprecationWarning: Call to deprecated method get_stix_domain_entity. (Replaced by the StixDomainEntity class in pycti) -- Deprecated since version 2.1.0.\n",
      "INFO:root:Reading Stix-Domain-Entity {d160a012-7be8-4de4-86d3-957cc310d76b}.\n"
     ]
    },
    {
     "name": "stdout",
     "output_type": "stream",
     "text": [
      "667ab360-1fca-4c04-a6a5-df7c83e82c8e\n",
      "d160a012-7be8-4de4-86d3-957cc310d76b\n"
     ]
    },
    {
     "name": "stderr",
     "output_type": "stream",
     "text": [
      "INFO:root:Listing stix_relations with {type: indicates, from_id: 667ab360-1fca-4c04-a6a5-df7c83e82c8e, to_id: d160a012-7be8-4de4-86d3-957cc310d76b}\n",
      "INFO:root:Reading Report {1f2cbc39-8893-4bec-9c59-b9f8fba67062}.\n",
      "INFO:root:Adding Stix-Entity {f5bbf5b7-01ec-46b7-b190-6fad689393e5} to Report {1f2cbc39-8893-4bec-9c59-b9f8fba67062}\n",
      "C:\\ProgramData\\Anaconda3\\lib\\site-packages\\ipykernel_launcher.py:300: DeprecationWarning: Call to deprecated method get_stix_domain_entity. (Replaced by the StixDomainEntity class in pycti) -- Deprecated since version 2.1.0.\n",
      "INFO:root:Reading Stix-Domain-Entity {01c9a186-dd58-4988-8460-57da4e81bb5d}.\n",
      "C:\\ProgramData\\Anaconda3\\lib\\site-packages\\ipykernel_launcher.py:303: DeprecationWarning: Call to deprecated method get_stix_domain_entity. (Replaced by the StixDomainEntity class in pycti) -- Deprecated since version 2.1.0.\n",
      "INFO:root:Reading Stix-Domain-Entity {d2f5de38-118b-465f-84ef-5e8f2ba6f138}.\n"
     ]
    },
    {
     "name": "stdout",
     "output_type": "stream",
     "text": [
      "01c9a186-dd58-4988-8460-57da4e81bb5d\n",
      "d2f5de38-118b-465f-84ef-5e8f2ba6f138\n"
     ]
    },
    {
     "name": "stderr",
     "output_type": "stream",
     "text": [
      "INFO:root:Listing stix_relations with {type: indicates, from_id: 01c9a186-dd58-4988-8460-57da4e81bb5d, to_id: d2f5de38-118b-465f-84ef-5e8f2ba6f138}\n",
      "INFO:root:Reading Report {1f2cbc39-8893-4bec-9c59-b9f8fba67062}.\n",
      "INFO:root:Adding Stix-Entity {4126fff5-9f58-4506-8157-170f422bd9a3} to Report {1f2cbc39-8893-4bec-9c59-b9f8fba67062}\n",
      "C:\\ProgramData\\Anaconda3\\lib\\site-packages\\ipykernel_launcher.py:300: DeprecationWarning: Call to deprecated method get_stix_domain_entity. (Replaced by the StixDomainEntity class in pycti) -- Deprecated since version 2.1.0.\n",
      "INFO:root:Reading Stix-Domain-Entity {693e53f2-bbad-41a8-9b60-c07c12124d7b}.\n",
      "C:\\ProgramData\\Anaconda3\\lib\\site-packages\\ipykernel_launcher.py:303: DeprecationWarning: Call to deprecated method get_stix_domain_entity. (Replaced by the StixDomainEntity class in pycti) -- Deprecated since version 2.1.0.\n",
      "INFO:root:Reading Stix-Domain-Entity {d2f5de38-118b-465f-84ef-5e8f2ba6f138}.\n"
     ]
    },
    {
     "name": "stdout",
     "output_type": "stream",
     "text": [
      "693e53f2-bbad-41a8-9b60-c07c12124d7b\n",
      "d2f5de38-118b-465f-84ef-5e8f2ba6f138\n"
     ]
    },
    {
     "name": "stderr",
     "output_type": "stream",
     "text": [
      "INFO:root:Listing stix_relations with {type: indicates, from_id: 693e53f2-bbad-41a8-9b60-c07c12124d7b, to_id: d2f5de38-118b-465f-84ef-5e8f2ba6f138}\n",
      "INFO:root:Reading Report {1f2cbc39-8893-4bec-9c59-b9f8fba67062}.\n",
      "INFO:root:Adding Stix-Entity {f9656f87-4522-49db-8897-1dee4ea73f49} to Report {1f2cbc39-8893-4bec-9c59-b9f8fba67062}\n",
      "C:\\ProgramData\\Anaconda3\\lib\\site-packages\\ipykernel_launcher.py:300: DeprecationWarning: Call to deprecated method get_stix_domain_entity. (Replaced by the StixDomainEntity class in pycti) -- Deprecated since version 2.1.0.\n",
      "INFO:root:Reading Stix-Domain-Entity {43effaa1-5ae5-4cb4-9a3c-ea2413dcad6a}.\n",
      "C:\\ProgramData\\Anaconda3\\lib\\site-packages\\ipykernel_launcher.py:303: DeprecationWarning: Call to deprecated method get_stix_domain_entity. (Replaced by the StixDomainEntity class in pycti) -- Deprecated since version 2.1.0.\n",
      "INFO:root:Reading Stix-Domain-Entity {d2f5de38-118b-465f-84ef-5e8f2ba6f138}.\n"
     ]
    },
    {
     "name": "stdout",
     "output_type": "stream",
     "text": [
      "43effaa1-5ae5-4cb4-9a3c-ea2413dcad6a\n",
      "d2f5de38-118b-465f-84ef-5e8f2ba6f138\n"
     ]
    },
    {
     "name": "stderr",
     "output_type": "stream",
     "text": [
      "INFO:root:Listing stix_relations with {type: indicates, from_id: 43effaa1-5ae5-4cb4-9a3c-ea2413dcad6a, to_id: d2f5de38-118b-465f-84ef-5e8f2ba6f138}\n",
      "INFO:root:Reading Report {1f2cbc39-8893-4bec-9c59-b9f8fba67062}.\n",
      "INFO:root:Adding Stix-Entity {320ba86f-2e4a-4e6a-87fa-df80658f57f1} to Report {1f2cbc39-8893-4bec-9c59-b9f8fba67062}\n",
      "C:\\ProgramData\\Anaconda3\\lib\\site-packages\\ipykernel_launcher.py:300: DeprecationWarning: Call to deprecated method get_stix_domain_entity. (Replaced by the StixDomainEntity class in pycti) -- Deprecated since version 2.1.0.\n",
      "INFO:root:Reading Stix-Domain-Entity {e92a5f42-17d8-4130-92d5-b0841191eb9c}.\n",
      "C:\\ProgramData\\Anaconda3\\lib\\site-packages\\ipykernel_launcher.py:303: DeprecationWarning: Call to deprecated method get_stix_domain_entity. (Replaced by the StixDomainEntity class in pycti) -- Deprecated since version 2.1.0.\n",
      "INFO:root:Reading Stix-Domain-Entity {d2f5de38-118b-465f-84ef-5e8f2ba6f138}.\n"
     ]
    },
    {
     "name": "stdout",
     "output_type": "stream",
     "text": [
      "e92a5f42-17d8-4130-92d5-b0841191eb9c\n",
      "d2f5de38-118b-465f-84ef-5e8f2ba6f138\n"
     ]
    },
    {
     "name": "stderr",
     "output_type": "stream",
     "text": [
      "INFO:root:Listing stix_relations with {type: indicates, from_id: e92a5f42-17d8-4130-92d5-b0841191eb9c, to_id: d2f5de38-118b-465f-84ef-5e8f2ba6f138}\n",
      "INFO:root:Reading Report {1f2cbc39-8893-4bec-9c59-b9f8fba67062}.\n",
      "INFO:root:Adding Stix-Entity {ae18fc5d-4067-4b82-bff6-a6eafad12c68} to Report {1f2cbc39-8893-4bec-9c59-b9f8fba67062}\n",
      "C:\\ProgramData\\Anaconda3\\lib\\site-packages\\ipykernel_launcher.py:300: DeprecationWarning: Call to deprecated method get_stix_domain_entity. (Replaced by the StixDomainEntity class in pycti) -- Deprecated since version 2.1.0.\n",
      "INFO:root:Reading Stix-Domain-Entity {dafb4daf-66f2-49d8-9cfd-eba4813398f6}.\n",
      "C:\\ProgramData\\Anaconda3\\lib\\site-packages\\ipykernel_launcher.py:303: DeprecationWarning: Call to deprecated method get_stix_domain_entity. (Replaced by the StixDomainEntity class in pycti) -- Deprecated since version 2.1.0.\n",
      "INFO:root:Reading Stix-Domain-Entity {d2f5de38-118b-465f-84ef-5e8f2ba6f138}.\n"
     ]
    },
    {
     "name": "stdout",
     "output_type": "stream",
     "text": [
      "dafb4daf-66f2-49d8-9cfd-eba4813398f6\n",
      "d2f5de38-118b-465f-84ef-5e8f2ba6f138\n"
     ]
    },
    {
     "name": "stderr",
     "output_type": "stream",
     "text": [
      "INFO:root:Listing stix_relations with {type: indicates, from_id: dafb4daf-66f2-49d8-9cfd-eba4813398f6, to_id: d2f5de38-118b-465f-84ef-5e8f2ba6f138}\n",
      "INFO:root:Reading Report {1f2cbc39-8893-4bec-9c59-b9f8fba67062}.\n",
      "INFO:root:Adding Stix-Entity {f59743c6-5a01-4286-88e9-37bfc5b44d21} to Report {1f2cbc39-8893-4bec-9c59-b9f8fba67062}\n",
      "C:\\ProgramData\\Anaconda3\\lib\\site-packages\\ipykernel_launcher.py:300: DeprecationWarning: Call to deprecated method get_stix_domain_entity. (Replaced by the StixDomainEntity class in pycti) -- Deprecated since version 2.1.0.\n",
      "INFO:root:Reading Stix-Domain-Entity {ab253ef9-c294-40da-9402-1b8a7f0eb9c4}.\n",
      "C:\\ProgramData\\Anaconda3\\lib\\site-packages\\ipykernel_launcher.py:303: DeprecationWarning: Call to deprecated method get_stix_domain_entity. (Replaced by the StixDomainEntity class in pycti) -- Deprecated since version 2.1.0.\n",
      "INFO:root:Reading Stix-Domain-Entity {d2f5de38-118b-465f-84ef-5e8f2ba6f138}.\n"
     ]
    },
    {
     "name": "stdout",
     "output_type": "stream",
     "text": [
      "ab253ef9-c294-40da-9402-1b8a7f0eb9c4\n",
      "d2f5de38-118b-465f-84ef-5e8f2ba6f138\n"
     ]
    },
    {
     "name": "stderr",
     "output_type": "stream",
     "text": [
      "INFO:root:Listing stix_relations with {type: indicates, from_id: ab253ef9-c294-40da-9402-1b8a7f0eb9c4, to_id: d2f5de38-118b-465f-84ef-5e8f2ba6f138}\n",
      "INFO:root:Reading Report {1f2cbc39-8893-4bec-9c59-b9f8fba67062}.\n",
      "INFO:root:Adding Stix-Entity {838792e4-da86-47d7-ac95-0470e40e3bb9} to Report {1f2cbc39-8893-4bec-9c59-b9f8fba67062}\n",
      "C:\\ProgramData\\Anaconda3\\lib\\site-packages\\ipykernel_launcher.py:300: DeprecationWarning: Call to deprecated method get_stix_domain_entity. (Replaced by the StixDomainEntity class in pycti) -- Deprecated since version 2.1.0.\n",
      "INFO:root:Reading Stix-Domain-Entity {b7fc7415-a1bf-45bb-a763-5ae4768fc75d}.\n",
      "C:\\ProgramData\\Anaconda3\\lib\\site-packages\\ipykernel_launcher.py:303: DeprecationWarning: Call to deprecated method get_stix_domain_entity. (Replaced by the StixDomainEntity class in pycti) -- Deprecated since version 2.1.0.\n",
      "INFO:root:Reading Stix-Domain-Entity {d2f5de38-118b-465f-84ef-5e8f2ba6f138}.\n"
     ]
    },
    {
     "name": "stdout",
     "output_type": "stream",
     "text": [
      "b7fc7415-a1bf-45bb-a763-5ae4768fc75d\n",
      "d2f5de38-118b-465f-84ef-5e8f2ba6f138\n"
     ]
    },
    {
     "name": "stderr",
     "output_type": "stream",
     "text": [
      "INFO:root:Listing stix_relations with {type: indicates, from_id: b7fc7415-a1bf-45bb-a763-5ae4768fc75d, to_id: d2f5de38-118b-465f-84ef-5e8f2ba6f138}\n",
      "INFO:root:Reading Report {1f2cbc39-8893-4bec-9c59-b9f8fba67062}.\n",
      "INFO:root:Adding Stix-Entity {04391e9b-10e6-400c-b0fc-bf4bf40fd09d} to Report {1f2cbc39-8893-4bec-9c59-b9f8fba67062}\n",
      "C:\\ProgramData\\Anaconda3\\lib\\site-packages\\ipykernel_launcher.py:300: DeprecationWarning: Call to deprecated method get_stix_domain_entity. (Replaced by the StixDomainEntity class in pycti) -- Deprecated since version 2.1.0.\n",
      "INFO:root:Reading Stix-Domain-Entity {9b662712-247c-450f-a376-b1ceb1ec41e2}.\n",
      "C:\\ProgramData\\Anaconda3\\lib\\site-packages\\ipykernel_launcher.py:303: DeprecationWarning: Call to deprecated method get_stix_domain_entity. (Replaced by the StixDomainEntity class in pycti) -- Deprecated since version 2.1.0.\n",
      "INFO:root:Reading Stix-Domain-Entity {d2f5de38-118b-465f-84ef-5e8f2ba6f138}.\n"
     ]
    },
    {
     "name": "stdout",
     "output_type": "stream",
     "text": [
      "9b662712-247c-450f-a376-b1ceb1ec41e2\n",
      "d2f5de38-118b-465f-84ef-5e8f2ba6f138\n"
     ]
    },
    {
     "name": "stderr",
     "output_type": "stream",
     "text": [
      "INFO:root:Listing stix_relations with {type: indicates, from_id: 9b662712-247c-450f-a376-b1ceb1ec41e2, to_id: d2f5de38-118b-465f-84ef-5e8f2ba6f138}\n",
      "INFO:root:Reading Report {1f2cbc39-8893-4bec-9c59-b9f8fba67062}.\n",
      "INFO:root:Adding Stix-Entity {5816b975-dbd2-47c1-b487-b1df6f468485} to Report {1f2cbc39-8893-4bec-9c59-b9f8fba67062}\n",
      "C:\\ProgramData\\Anaconda3\\lib\\site-packages\\ipykernel_launcher.py:300: DeprecationWarning: Call to deprecated method get_stix_domain_entity. (Replaced by the StixDomainEntity class in pycti) -- Deprecated since version 2.1.0.\n",
      "INFO:root:Reading Stix-Domain-Entity {ab253ef9-c294-40da-9402-1b8a7f0eb9c4}.\n",
      "C:\\ProgramData\\Anaconda3\\lib\\site-packages\\ipykernel_launcher.py:303: DeprecationWarning: Call to deprecated method get_stix_domain_entity. (Replaced by the StixDomainEntity class in pycti) -- Deprecated since version 2.1.0.\n",
      "INFO:root:Reading Stix-Domain-Entity {d2f5de38-118b-465f-84ef-5e8f2ba6f138}.\n"
     ]
    },
    {
     "name": "stdout",
     "output_type": "stream",
     "text": [
      "ab253ef9-c294-40da-9402-1b8a7f0eb9c4\n",
      "d2f5de38-118b-465f-84ef-5e8f2ba6f138\n"
     ]
    },
    {
     "name": "stderr",
     "output_type": "stream",
     "text": [
      "INFO:root:Listing stix_relations with {type: indicates, from_id: ab253ef9-c294-40da-9402-1b8a7f0eb9c4, to_id: d2f5de38-118b-465f-84ef-5e8f2ba6f138}\n",
      "INFO:root:Reading Report {1f2cbc39-8893-4bec-9c59-b9f8fba67062}.\n",
      "INFO:root:Adding Stix-Entity {838792e4-da86-47d7-ac95-0470e40e3bb9} to Report {1f2cbc39-8893-4bec-9c59-b9f8fba67062}\n",
      "ERROR:root:A database error has occured!\n",
      "C:\\ProgramData\\Anaconda3\\lib\\site-packages\\ipykernel_launcher.py:300: DeprecationWarning: Call to deprecated method get_stix_domain_entity. (Replaced by the StixDomainEntity class in pycti) -- Deprecated since version 2.1.0.\n",
      "INFO:root:Reading Stix-Domain-Entity {f87e99b2-bb39-494f-909b-3f0133b1e724}.\n",
      "C:\\ProgramData\\Anaconda3\\lib\\site-packages\\ipykernel_launcher.py:303: DeprecationWarning: Call to deprecated method get_stix_domain_entity. (Replaced by the StixDomainEntity class in pycti) -- Deprecated since version 2.1.0.\n",
      "INFO:root:Reading Stix-Domain-Entity {d2f5de38-118b-465f-84ef-5e8f2ba6f138}.\n"
     ]
    },
    {
     "name": "stdout",
     "output_type": "stream",
     "text": [
      "f87e99b2-bb39-494f-909b-3f0133b1e724\n",
      "d2f5de38-118b-465f-84ef-5e8f2ba6f138\n"
     ]
    },
    {
     "name": "stderr",
     "output_type": "stream",
     "text": [
      "INFO:root:Listing stix_relations with {type: indicates, from_id: f87e99b2-bb39-494f-909b-3f0133b1e724, to_id: d2f5de38-118b-465f-84ef-5e8f2ba6f138}\n",
      "INFO:root:Reading Report {1f2cbc39-8893-4bec-9c59-b9f8fba67062}.\n",
      "INFO:root:Adding Stix-Entity {bf2ada81-034a-42df-9599-552fbf5100d3} to Report {1f2cbc39-8893-4bec-9c59-b9f8fba67062}\n",
      "C:\\ProgramData\\Anaconda3\\lib\\site-packages\\ipykernel_launcher.py:300: DeprecationWarning: Call to deprecated method get_stix_domain_entity. (Replaced by the StixDomainEntity class in pycti) -- Deprecated since version 2.1.0.\n",
      "INFO:root:Reading Stix-Domain-Entity {b28e37e7-654e-4ffd-aae5-c1fc7b6110c6}.\n",
      "C:\\ProgramData\\Anaconda3\\lib\\site-packages\\ipykernel_launcher.py:303: DeprecationWarning: Call to deprecated method get_stix_domain_entity. (Replaced by the StixDomainEntity class in pycti) -- Deprecated since version 2.1.0.\n",
      "INFO:root:Reading Stix-Domain-Entity {d2f5de38-118b-465f-84ef-5e8f2ba6f138}.\n"
     ]
    },
    {
     "name": "stdout",
     "output_type": "stream",
     "text": [
      "b28e37e7-654e-4ffd-aae5-c1fc7b6110c6\n",
      "d2f5de38-118b-465f-84ef-5e8f2ba6f138\n"
     ]
    },
    {
     "name": "stderr",
     "output_type": "stream",
     "text": [
      "INFO:root:Listing stix_relations with {type: indicates, from_id: b28e37e7-654e-4ffd-aae5-c1fc7b6110c6, to_id: d2f5de38-118b-465f-84ef-5e8f2ba6f138}\n",
      "INFO:root:Reading Report {1f2cbc39-8893-4bec-9c59-b9f8fba67062}.\n",
      "INFO:root:Adding Stix-Entity {441affbc-691b-4a68-87b0-6082933d9392} to Report {1f2cbc39-8893-4bec-9c59-b9f8fba67062}\n",
      "C:\\ProgramData\\Anaconda3\\lib\\site-packages\\ipykernel_launcher.py:300: DeprecationWarning: Call to deprecated method get_stix_domain_entity. (Replaced by the StixDomainEntity class in pycti) -- Deprecated since version 2.1.0.\n",
      "INFO:root:Reading Stix-Domain-Entity {d73b7575-5b15-4d15-aa8d-61d25afeb66f}.\n",
      "C:\\ProgramData\\Anaconda3\\lib\\site-packages\\ipykernel_launcher.py:303: DeprecationWarning: Call to deprecated method get_stix_domain_entity. (Replaced by the StixDomainEntity class in pycti) -- Deprecated since version 2.1.0.\n",
      "INFO:root:Reading Stix-Domain-Entity {d2f5de38-118b-465f-84ef-5e8f2ba6f138}.\n"
     ]
    },
    {
     "name": "stdout",
     "output_type": "stream",
     "text": [
      "d73b7575-5b15-4d15-aa8d-61d25afeb66f\n",
      "d2f5de38-118b-465f-84ef-5e8f2ba6f138\n"
     ]
    },
    {
     "name": "stderr",
     "output_type": "stream",
     "text": [
      "INFO:root:Listing stix_relations with {type: indicates, from_id: d73b7575-5b15-4d15-aa8d-61d25afeb66f, to_id: d2f5de38-118b-465f-84ef-5e8f2ba6f138}\n",
      "INFO:root:Reading Report {1f2cbc39-8893-4bec-9c59-b9f8fba67062}.\n",
      "INFO:root:Adding Stix-Entity {541d3d47-77a0-42cd-b6ce-637775db0d42} to Report {1f2cbc39-8893-4bec-9c59-b9f8fba67062}\n",
      "C:\\ProgramData\\Anaconda3\\lib\\site-packages\\ipykernel_launcher.py:300: DeprecationWarning: Call to deprecated method get_stix_domain_entity. (Replaced by the StixDomainEntity class in pycti) -- Deprecated since version 2.1.0.\n",
      "INFO:root:Reading Stix-Domain-Entity {5f0f09e1-45c0-44ee-8a8c-98206e3ffa7f}.\n",
      "C:\\ProgramData\\Anaconda3\\lib\\site-packages\\ipykernel_launcher.py:303: DeprecationWarning: Call to deprecated method get_stix_domain_entity. (Replaced by the StixDomainEntity class in pycti) -- Deprecated since version 2.1.0.\n",
      "INFO:root:Reading Stix-Domain-Entity {d2f5de38-118b-465f-84ef-5e8f2ba6f138}.\n"
     ]
    },
    {
     "name": "stdout",
     "output_type": "stream",
     "text": [
      "5f0f09e1-45c0-44ee-8a8c-98206e3ffa7f\n",
      "d2f5de38-118b-465f-84ef-5e8f2ba6f138\n"
     ]
    },
    {
     "name": "stderr",
     "output_type": "stream",
     "text": [
      "INFO:root:Listing stix_relations with {type: indicates, from_id: 5f0f09e1-45c0-44ee-8a8c-98206e3ffa7f, to_id: d2f5de38-118b-465f-84ef-5e8f2ba6f138}\n",
      "INFO:root:Reading Report {1f2cbc39-8893-4bec-9c59-b9f8fba67062}.\n",
      "INFO:root:Adding Stix-Entity {f72fdfe4-9fd8-4b58-835a-eb448127b7db} to Report {1f2cbc39-8893-4bec-9c59-b9f8fba67062}\n",
      "C:\\ProgramData\\Anaconda3\\lib\\site-packages\\ipykernel_launcher.py:300: DeprecationWarning: Call to deprecated method get_stix_domain_entity. (Replaced by the StixDomainEntity class in pycti) -- Deprecated since version 2.1.0.\n",
      "INFO:root:Reading Stix-Domain-Entity {d1390805-54ba-48b5-b0bd-31a40d5fa5e8}.\n",
      "C:\\ProgramData\\Anaconda3\\lib\\site-packages\\ipykernel_launcher.py:303: DeprecationWarning: Call to deprecated method get_stix_domain_entity. (Replaced by the StixDomainEntity class in pycti) -- Deprecated since version 2.1.0.\n",
      "INFO:root:Reading Stix-Domain-Entity {d2f5de38-118b-465f-84ef-5e8f2ba6f138}.\n"
     ]
    },
    {
     "name": "stdout",
     "output_type": "stream",
     "text": [
      "d1390805-54ba-48b5-b0bd-31a40d5fa5e8\n",
      "d2f5de38-118b-465f-84ef-5e8f2ba6f138\n"
     ]
    },
    {
     "name": "stderr",
     "output_type": "stream",
     "text": [
      "INFO:root:Listing stix_relations with {type: indicates, from_id: d1390805-54ba-48b5-b0bd-31a40d5fa5e8, to_id: d2f5de38-118b-465f-84ef-5e8f2ba6f138}\n",
      "INFO:root:Reading Report {1f2cbc39-8893-4bec-9c59-b9f8fba67062}.\n",
      "INFO:root:Adding Stix-Entity {5681c93b-03d7-45be-a2c7-4fde4b2287ce} to Report {1f2cbc39-8893-4bec-9c59-b9f8fba67062}\n",
      "C:\\ProgramData\\Anaconda3\\lib\\site-packages\\ipykernel_launcher.py:300: DeprecationWarning: Call to deprecated method get_stix_domain_entity. (Replaced by the StixDomainEntity class in pycti) -- Deprecated since version 2.1.0.\n",
      "INFO:root:Reading Stix-Domain-Entity {c14ef091-ce29-4a5e-ae6b-fa91488aa07d}.\n",
      "C:\\ProgramData\\Anaconda3\\lib\\site-packages\\ipykernel_launcher.py:303: DeprecationWarning: Call to deprecated method get_stix_domain_entity. (Replaced by the StixDomainEntity class in pycti) -- Deprecated since version 2.1.0.\n",
      "INFO:root:Reading Stix-Domain-Entity {d2f5de38-118b-465f-84ef-5e8f2ba6f138}.\n"
     ]
    },
    {
     "name": "stdout",
     "output_type": "stream",
     "text": [
      "c14ef091-ce29-4a5e-ae6b-fa91488aa07d\n",
      "d2f5de38-118b-465f-84ef-5e8f2ba6f138\n"
     ]
    },
    {
     "name": "stderr",
     "output_type": "stream",
     "text": [
      "INFO:root:Listing stix_relations with {type: indicates, from_id: c14ef091-ce29-4a5e-ae6b-fa91488aa07d, to_id: d2f5de38-118b-465f-84ef-5e8f2ba6f138}\n",
      "INFO:root:Reading Report {1f2cbc39-8893-4bec-9c59-b9f8fba67062}.\n",
      "INFO:root:Adding Stix-Entity {409c5199-1a6f-401d-b72a-22eab2291d52} to Report {1f2cbc39-8893-4bec-9c59-b9f8fba67062}\n",
      "C:\\ProgramData\\Anaconda3\\lib\\site-packages\\ipykernel_launcher.py:300: DeprecationWarning: Call to deprecated method get_stix_domain_entity. (Replaced by the StixDomainEntity class in pycti) -- Deprecated since version 2.1.0.\n",
      "INFO:root:Reading Stix-Domain-Entity {f60fefc3-0b8c-43a1-a839-49ac299e9a63}.\n",
      "C:\\ProgramData\\Anaconda3\\lib\\site-packages\\ipykernel_launcher.py:303: DeprecationWarning: Call to deprecated method get_stix_domain_entity. (Replaced by the StixDomainEntity class in pycti) -- Deprecated since version 2.1.0.\n",
      "INFO:root:Reading Stix-Domain-Entity {d2f5de38-118b-465f-84ef-5e8f2ba6f138}.\n"
     ]
    },
    {
     "name": "stdout",
     "output_type": "stream",
     "text": [
      "f60fefc3-0b8c-43a1-a839-49ac299e9a63\n",
      "d2f5de38-118b-465f-84ef-5e8f2ba6f138\n"
     ]
    },
    {
     "name": "stderr",
     "output_type": "stream",
     "text": [
      "INFO:root:Listing stix_relations with {type: indicates, from_id: f60fefc3-0b8c-43a1-a839-49ac299e9a63, to_id: d2f5de38-118b-465f-84ef-5e8f2ba6f138}\n",
      "INFO:root:Reading Report {1f2cbc39-8893-4bec-9c59-b9f8fba67062}.\n",
      "INFO:root:Adding Stix-Entity {83d3cc63-d1f7-40e0-be94-e6f966276a23} to Report {1f2cbc39-8893-4bec-9c59-b9f8fba67062}\n",
      "C:\\ProgramData\\Anaconda3\\lib\\site-packages\\ipykernel_launcher.py:300: DeprecationWarning: Call to deprecated method get_stix_domain_entity. (Replaced by the StixDomainEntity class in pycti) -- Deprecated since version 2.1.0.\n",
      "INFO:root:Reading Stix-Domain-Entity {d6794fd7-a683-4328-b97a-7d5a2979ad71}.\n",
      "C:\\ProgramData\\Anaconda3\\lib\\site-packages\\ipykernel_launcher.py:303: DeprecationWarning: Call to deprecated method get_stix_domain_entity. (Replaced by the StixDomainEntity class in pycti) -- Deprecated since version 2.1.0.\n",
      "INFO:root:Reading Stix-Domain-Entity {d2f5de38-118b-465f-84ef-5e8f2ba6f138}.\n"
     ]
    },
    {
     "name": "stdout",
     "output_type": "stream",
     "text": [
      "d6794fd7-a683-4328-b97a-7d5a2979ad71\n",
      "d2f5de38-118b-465f-84ef-5e8f2ba6f138\n"
     ]
    },
    {
     "name": "stderr",
     "output_type": "stream",
     "text": [
      "INFO:root:Listing stix_relations with {type: indicates, from_id: d6794fd7-a683-4328-b97a-7d5a2979ad71, to_id: d2f5de38-118b-465f-84ef-5e8f2ba6f138}\n",
      "INFO:root:Reading Report {1f2cbc39-8893-4bec-9c59-b9f8fba67062}.\n",
      "INFO:root:Adding Stix-Entity {d55bee79-8293-43b4-89ae-e575d8ec27a5} to Report {1f2cbc39-8893-4bec-9c59-b9f8fba67062}\n",
      "C:\\ProgramData\\Anaconda3\\lib\\site-packages\\ipykernel_launcher.py:300: DeprecationWarning: Call to deprecated method get_stix_domain_entity. (Replaced by the StixDomainEntity class in pycti) -- Deprecated since version 2.1.0.\n",
      "INFO:root:Reading Stix-Domain-Entity {d2a135dc-423c-4950-9cb6-76702e9643d4}.\n",
      "C:\\ProgramData\\Anaconda3\\lib\\site-packages\\ipykernel_launcher.py:303: DeprecationWarning: Call to deprecated method get_stix_domain_entity. (Replaced by the StixDomainEntity class in pycti) -- Deprecated since version 2.1.0.\n",
      "INFO:root:Reading Stix-Domain-Entity {d2f5de38-118b-465f-84ef-5e8f2ba6f138}.\n"
     ]
    },
    {
     "name": "stdout",
     "output_type": "stream",
     "text": [
      "d2a135dc-423c-4950-9cb6-76702e9643d4\n",
      "d2f5de38-118b-465f-84ef-5e8f2ba6f138\n"
     ]
    },
    {
     "name": "stderr",
     "output_type": "stream",
     "text": [
      "INFO:root:Listing stix_relations with {type: indicates, from_id: d2a135dc-423c-4950-9cb6-76702e9643d4, to_id: d2f5de38-118b-465f-84ef-5e8f2ba6f138}\n",
      "INFO:root:Reading Report {1f2cbc39-8893-4bec-9c59-b9f8fba67062}.\n",
      "INFO:root:Adding Stix-Entity {0f867eb4-6924-4b56-8894-f051b03b4fe6} to Report {1f2cbc39-8893-4bec-9c59-b9f8fba67062}\n",
      "C:\\ProgramData\\Anaconda3\\lib\\site-packages\\ipykernel_launcher.py:300: DeprecationWarning: Call to deprecated method get_stix_domain_entity. (Replaced by the StixDomainEntity class in pycti) -- Deprecated since version 2.1.0.\n",
      "INFO:root:Reading Stix-Domain-Entity {73db1ae5-8dcd-41fd-8eab-14c21c2c7744}.\n",
      "C:\\ProgramData\\Anaconda3\\lib\\site-packages\\ipykernel_launcher.py:303: DeprecationWarning: Call to deprecated method get_stix_domain_entity. (Replaced by the StixDomainEntity class in pycti) -- Deprecated since version 2.1.0.\n",
      "INFO:root:Reading Stix-Domain-Entity {d2f5de38-118b-465f-84ef-5e8f2ba6f138}.\n"
     ]
    },
    {
     "name": "stdout",
     "output_type": "stream",
     "text": [
      "73db1ae5-8dcd-41fd-8eab-14c21c2c7744\n",
      "d2f5de38-118b-465f-84ef-5e8f2ba6f138\n"
     ]
    },
    {
     "name": "stderr",
     "output_type": "stream",
     "text": [
      "INFO:root:Listing stix_relations with {type: indicates, from_id: 73db1ae5-8dcd-41fd-8eab-14c21c2c7744, to_id: d2f5de38-118b-465f-84ef-5e8f2ba6f138}\n",
      "INFO:root:Reading Report {1f2cbc39-8893-4bec-9c59-b9f8fba67062}.\n",
      "INFO:root:Adding Stix-Entity {6e87cb29-1992-4acf-97c1-bc997e62d7d7} to Report {1f2cbc39-8893-4bec-9c59-b9f8fba67062}\n",
      "C:\\ProgramData\\Anaconda3\\lib\\site-packages\\ipykernel_launcher.py:300: DeprecationWarning: Call to deprecated method get_stix_domain_entity. (Replaced by the StixDomainEntity class in pycti) -- Deprecated since version 2.1.0.\n",
      "INFO:root:Reading Stix-Domain-Entity {f169290a-7cab-4192-845c-4eae91127112}.\n",
      "C:\\ProgramData\\Anaconda3\\lib\\site-packages\\ipykernel_launcher.py:303: DeprecationWarning: Call to deprecated method get_stix_domain_entity. (Replaced by the StixDomainEntity class in pycti) -- Deprecated since version 2.1.0.\n",
      "INFO:root:Reading Stix-Domain-Entity {d2f5de38-118b-465f-84ef-5e8f2ba6f138}.\n"
     ]
    },
    {
     "name": "stdout",
     "output_type": "stream",
     "text": [
      "f169290a-7cab-4192-845c-4eae91127112\n",
      "d2f5de38-118b-465f-84ef-5e8f2ba6f138\n"
     ]
    },
    {
     "name": "stderr",
     "output_type": "stream",
     "text": [
      "INFO:root:Listing stix_relations with {type: indicates, from_id: f169290a-7cab-4192-845c-4eae91127112, to_id: d2f5de38-118b-465f-84ef-5e8f2ba6f138}\n",
      "INFO:root:Reading Report {1f2cbc39-8893-4bec-9c59-b9f8fba67062}.\n",
      "INFO:root:Adding Stix-Entity {1ee6bb96-971e-4d01-a9c3-52255986af7c} to Report {1f2cbc39-8893-4bec-9c59-b9f8fba67062}\n",
      "C:\\ProgramData\\Anaconda3\\lib\\site-packages\\ipykernel_launcher.py:300: DeprecationWarning: Call to deprecated method get_stix_domain_entity. (Replaced by the StixDomainEntity class in pycti) -- Deprecated since version 2.1.0.\n",
      "INFO:root:Reading Stix-Domain-Entity {0d314eef-2be6-4ee3-8413-de4dd1684824}.\n",
      "C:\\ProgramData\\Anaconda3\\lib\\site-packages\\ipykernel_launcher.py:303: DeprecationWarning: Call to deprecated method get_stix_domain_entity. (Replaced by the StixDomainEntity class in pycti) -- Deprecated since version 2.1.0.\n",
      "INFO:root:Reading Stix-Domain-Entity {d2f5de38-118b-465f-84ef-5e8f2ba6f138}.\n"
     ]
    },
    {
     "name": "stdout",
     "output_type": "stream",
     "text": [
      "0d314eef-2be6-4ee3-8413-de4dd1684824\n",
      "d2f5de38-118b-465f-84ef-5e8f2ba6f138\n"
     ]
    },
    {
     "name": "stderr",
     "output_type": "stream",
     "text": [
      "INFO:root:Listing stix_relations with {type: indicates, from_id: 0d314eef-2be6-4ee3-8413-de4dd1684824, to_id: d2f5de38-118b-465f-84ef-5e8f2ba6f138}\n",
      "INFO:root:Reading Report {1f2cbc39-8893-4bec-9c59-b9f8fba67062}.\n",
      "INFO:root:Adding Stix-Entity {2416dcf8-b2b1-45bf-9083-d74478d421d0} to Report {1f2cbc39-8893-4bec-9c59-b9f8fba67062}\n",
      "C:\\ProgramData\\Anaconda3\\lib\\site-packages\\ipykernel_launcher.py:300: DeprecationWarning: Call to deprecated method get_stix_domain_entity. (Replaced by the StixDomainEntity class in pycti) -- Deprecated since version 2.1.0.\n",
      "INFO:root:Reading Stix-Domain-Entity {b4a5d279-b01e-4bcf-93b0-9c4213dcd4fb}.\n",
      "C:\\ProgramData\\Anaconda3\\lib\\site-packages\\ipykernel_launcher.py:303: DeprecationWarning: Call to deprecated method get_stix_domain_entity. (Replaced by the StixDomainEntity class in pycti) -- Deprecated since version 2.1.0.\n",
      "INFO:root:Reading Stix-Domain-Entity {d2f5de38-118b-465f-84ef-5e8f2ba6f138}.\n"
     ]
    },
    {
     "name": "stdout",
     "output_type": "stream",
     "text": [
      "b4a5d279-b01e-4bcf-93b0-9c4213dcd4fb\n",
      "d2f5de38-118b-465f-84ef-5e8f2ba6f138\n"
     ]
    },
    {
     "name": "stderr",
     "output_type": "stream",
     "text": [
      "INFO:root:Listing stix_relations with {type: indicates, from_id: b4a5d279-b01e-4bcf-93b0-9c4213dcd4fb, to_id: d2f5de38-118b-465f-84ef-5e8f2ba6f138}\n",
      "INFO:root:Reading Report {1f2cbc39-8893-4bec-9c59-b9f8fba67062}.\n",
      "INFO:root:Adding Stix-Entity {5d02651e-b9ac-4c4e-8154-48dc4c6a825e} to Report {1f2cbc39-8893-4bec-9c59-b9f8fba67062}\n",
      "C:\\ProgramData\\Anaconda3\\lib\\site-packages\\ipykernel_launcher.py:300: DeprecationWarning: Call to deprecated method get_stix_domain_entity. (Replaced by the StixDomainEntity class in pycti) -- Deprecated since version 2.1.0.\n",
      "INFO:root:Reading Stix-Domain-Entity {9e0ac305-19c5-4cd8-a1df-4cbad45060fb}.\n",
      "C:\\ProgramData\\Anaconda3\\lib\\site-packages\\ipykernel_launcher.py:303: DeprecationWarning: Call to deprecated method get_stix_domain_entity. (Replaced by the StixDomainEntity class in pycti) -- Deprecated since version 2.1.0.\n",
      "INFO:root:Reading Stix-Domain-Entity {d2f5de38-118b-465f-84ef-5e8f2ba6f138}.\n"
     ]
    },
    {
     "name": "stdout",
     "output_type": "stream",
     "text": [
      "9e0ac305-19c5-4cd8-a1df-4cbad45060fb\n",
      "d2f5de38-118b-465f-84ef-5e8f2ba6f138\n"
     ]
    },
    {
     "name": "stderr",
     "output_type": "stream",
     "text": [
      "INFO:root:Listing stix_relations with {type: indicates, from_id: 9e0ac305-19c5-4cd8-a1df-4cbad45060fb, to_id: d2f5de38-118b-465f-84ef-5e8f2ba6f138}\n",
      "INFO:root:Reading Report {1f2cbc39-8893-4bec-9c59-b9f8fba67062}.\n",
      "INFO:root:Adding Stix-Entity {b8b1ecc5-2e60-401c-a12c-442200082df6} to Report {1f2cbc39-8893-4bec-9c59-b9f8fba67062}\n",
      "C:\\ProgramData\\Anaconda3\\lib\\site-packages\\ipykernel_launcher.py:300: DeprecationWarning: Call to deprecated method get_stix_domain_entity. (Replaced by the StixDomainEntity class in pycti) -- Deprecated since version 2.1.0.\n",
      "INFO:root:Reading Stix-Domain-Entity {b8a99bc7-7620-4ffc-baf2-41b83a7a7fe8}.\n",
      "C:\\ProgramData\\Anaconda3\\lib\\site-packages\\ipykernel_launcher.py:303: DeprecationWarning: Call to deprecated method get_stix_domain_entity. (Replaced by the StixDomainEntity class in pycti) -- Deprecated since version 2.1.0.\n",
      "INFO:root:Reading Stix-Domain-Entity {d2f5de38-118b-465f-84ef-5e8f2ba6f138}.\n"
     ]
    },
    {
     "name": "stdout",
     "output_type": "stream",
     "text": [
      "b8a99bc7-7620-4ffc-baf2-41b83a7a7fe8\n",
      "d2f5de38-118b-465f-84ef-5e8f2ba6f138\n"
     ]
    },
    {
     "name": "stderr",
     "output_type": "stream",
     "text": [
      "INFO:root:Listing stix_relations with {type: indicates, from_id: b8a99bc7-7620-4ffc-baf2-41b83a7a7fe8, to_id: d2f5de38-118b-465f-84ef-5e8f2ba6f138}\n",
      "INFO:root:Reading Report {1f2cbc39-8893-4bec-9c59-b9f8fba67062}.\n",
      "INFO:root:Adding Stix-Entity {d83cd1d6-5e22-4862-9a1a-0bb5eb9d3ee5} to Report {1f2cbc39-8893-4bec-9c59-b9f8fba67062}\n",
      "C:\\ProgramData\\Anaconda3\\lib\\site-packages\\ipykernel_launcher.py:300: DeprecationWarning: Call to deprecated method get_stix_domain_entity. (Replaced by the StixDomainEntity class in pycti) -- Deprecated since version 2.1.0.\n",
      "INFO:root:Reading Stix-Domain-Entity {b21b38eb-f60c-4d2b-8deb-6829143aeff5}.\n",
      "C:\\ProgramData\\Anaconda3\\lib\\site-packages\\ipykernel_launcher.py:303: DeprecationWarning: Call to deprecated method get_stix_domain_entity. (Replaced by the StixDomainEntity class in pycti) -- Deprecated since version 2.1.0.\n",
      "INFO:root:Reading Stix-Domain-Entity {06ef98bc-90d3-44d0-9b31-47dd138daa3d}.\n"
     ]
    },
    {
     "name": "stdout",
     "output_type": "stream",
     "text": [
      "b21b38eb-f60c-4d2b-8deb-6829143aeff5\n",
      "06ef98bc-90d3-44d0-9b31-47dd138daa3d\n"
     ]
    },
    {
     "name": "stderr",
     "output_type": "stream",
     "text": [
      "INFO:root:Listing stix_relations with {type: indicates, from_id: b21b38eb-f60c-4d2b-8deb-6829143aeff5, to_id: 06ef98bc-90d3-44d0-9b31-47dd138daa3d}\n",
      "INFO:root:Reading Report {1f2cbc39-8893-4bec-9c59-b9f8fba67062}.\n",
      "INFO:root:Adding Stix-Entity {7f83cbda-38ee-4594-8881-985c111586d5} to Report {1f2cbc39-8893-4bec-9c59-b9f8fba67062}\n",
      "C:\\ProgramData\\Anaconda3\\lib\\site-packages\\ipykernel_launcher.py:300: DeprecationWarning: Call to deprecated method get_stix_domain_entity. (Replaced by the StixDomainEntity class in pycti) -- Deprecated since version 2.1.0.\n",
      "INFO:root:Reading Stix-Domain-Entity {e125ef7f-93e4-4de1-8132-6dc66b82ec70}.\n",
      "C:\\ProgramData\\Anaconda3\\lib\\site-packages\\ipykernel_launcher.py:303: DeprecationWarning: Call to deprecated method get_stix_domain_entity. (Replaced by the StixDomainEntity class in pycti) -- Deprecated since version 2.1.0.\n",
      "INFO:root:Reading Stix-Domain-Entity {06ef98bc-90d3-44d0-9b31-47dd138daa3d}.\n"
     ]
    },
    {
     "name": "stdout",
     "output_type": "stream",
     "text": [
      "e125ef7f-93e4-4de1-8132-6dc66b82ec70\n",
      "06ef98bc-90d3-44d0-9b31-47dd138daa3d\n"
     ]
    },
    {
     "name": "stderr",
     "output_type": "stream",
     "text": [
      "INFO:root:Listing stix_relations with {type: indicates, from_id: e125ef7f-93e4-4de1-8132-6dc66b82ec70, to_id: 06ef98bc-90d3-44d0-9b31-47dd138daa3d}\n",
      "INFO:root:Reading Report {1f2cbc39-8893-4bec-9c59-b9f8fba67062}.\n",
      "INFO:root:Adding Stix-Entity {b73d8ffc-ea36-4739-a930-11dc5a8a7add} to Report {1f2cbc39-8893-4bec-9c59-b9f8fba67062}\n",
      "C:\\ProgramData\\Anaconda3\\lib\\site-packages\\ipykernel_launcher.py:300: DeprecationWarning: Call to deprecated method get_stix_domain_entity. (Replaced by the StixDomainEntity class in pycti) -- Deprecated since version 2.1.0.\n",
      "INFO:root:Reading Stix-Domain-Entity {c19b4c16-e9dd-4832-bc18-93aea4d49aa7}.\n",
      "C:\\ProgramData\\Anaconda3\\lib\\site-packages\\ipykernel_launcher.py:303: DeprecationWarning: Call to deprecated method get_stix_domain_entity. (Replaced by the StixDomainEntity class in pycti) -- Deprecated since version 2.1.0.\n",
      "INFO:root:Reading Stix-Domain-Entity {06ef98bc-90d3-44d0-9b31-47dd138daa3d}.\n"
     ]
    },
    {
     "name": "stdout",
     "output_type": "stream",
     "text": [
      "c19b4c16-e9dd-4832-bc18-93aea4d49aa7\n",
      "06ef98bc-90d3-44d0-9b31-47dd138daa3d\n"
     ]
    },
    {
     "name": "stderr",
     "output_type": "stream",
     "text": [
      "INFO:root:Listing stix_relations with {type: indicates, from_id: c19b4c16-e9dd-4832-bc18-93aea4d49aa7, to_id: 06ef98bc-90d3-44d0-9b31-47dd138daa3d}\n",
      "INFO:root:Reading Report {1f2cbc39-8893-4bec-9c59-b9f8fba67062}.\n",
      "INFO:root:Adding Stix-Entity {3bb03a2d-b8f9-4b4b-8826-17eb7d69c664} to Report {1f2cbc39-8893-4bec-9c59-b9f8fba67062}\n",
      "C:\\ProgramData\\Anaconda3\\lib\\site-packages\\ipykernel_launcher.py:300: DeprecationWarning: Call to deprecated method get_stix_domain_entity. (Replaced by the StixDomainEntity class in pycti) -- Deprecated since version 2.1.0.\n",
      "INFO:root:Reading Stix-Domain-Entity {f7037649-8909-4abc-b803-a25e68f6c564}.\n",
      "C:\\ProgramData\\Anaconda3\\lib\\site-packages\\ipykernel_launcher.py:303: DeprecationWarning: Call to deprecated method get_stix_domain_entity. (Replaced by the StixDomainEntity class in pycti) -- Deprecated since version 2.1.0.\n",
      "INFO:root:Reading Stix-Domain-Entity {06ef98bc-90d3-44d0-9b31-47dd138daa3d}.\n"
     ]
    },
    {
     "name": "stdout",
     "output_type": "stream",
     "text": [
      "f7037649-8909-4abc-b803-a25e68f6c564\n",
      "06ef98bc-90d3-44d0-9b31-47dd138daa3d\n"
     ]
    },
    {
     "name": "stderr",
     "output_type": "stream",
     "text": [
      "INFO:root:Listing stix_relations with {type: indicates, from_id: f7037649-8909-4abc-b803-a25e68f6c564, to_id: 06ef98bc-90d3-44d0-9b31-47dd138daa3d}\n",
      "INFO:root:Reading Report {1f2cbc39-8893-4bec-9c59-b9f8fba67062}.\n",
      "INFO:root:Adding Stix-Entity {24d2a1cd-df8b-4e56-8e4c-34dda7ffa51c} to Report {1f2cbc39-8893-4bec-9c59-b9f8fba67062}\n",
      "C:\\ProgramData\\Anaconda3\\lib\\site-packages\\ipykernel_launcher.py:300: DeprecationWarning: Call to deprecated method get_stix_domain_entity. (Replaced by the StixDomainEntity class in pycti) -- Deprecated since version 2.1.0.\n",
      "INFO:root:Reading Stix-Domain-Entity {9fbfc386-a703-4592-beda-75c0d656f828}.\n",
      "C:\\ProgramData\\Anaconda3\\lib\\site-packages\\ipykernel_launcher.py:303: DeprecationWarning: Call to deprecated method get_stix_domain_entity. (Replaced by the StixDomainEntity class in pycti) -- Deprecated since version 2.1.0.\n",
      "INFO:root:Reading Stix-Domain-Entity {06ef98bc-90d3-44d0-9b31-47dd138daa3d}.\n"
     ]
    },
    {
     "name": "stdout",
     "output_type": "stream",
     "text": [
      "9fbfc386-a703-4592-beda-75c0d656f828\n",
      "06ef98bc-90d3-44d0-9b31-47dd138daa3d\n"
     ]
    },
    {
     "name": "stderr",
     "output_type": "stream",
     "text": [
      "INFO:root:Listing stix_relations with {type: indicates, from_id: 9fbfc386-a703-4592-beda-75c0d656f828, to_id: 06ef98bc-90d3-44d0-9b31-47dd138daa3d}\n",
      "INFO:root:Reading Report {1f2cbc39-8893-4bec-9c59-b9f8fba67062}.\n",
      "INFO:root:Adding Stix-Entity {411b728c-fcf8-4a86-bd27-57770960794e} to Report {1f2cbc39-8893-4bec-9c59-b9f8fba67062}\n",
      "C:\\ProgramData\\Anaconda3\\lib\\site-packages\\ipykernel_launcher.py:300: DeprecationWarning: Call to deprecated method get_stix_domain_entity. (Replaced by the StixDomainEntity class in pycti) -- Deprecated since version 2.1.0.\n",
      "INFO:root:Reading Stix-Domain-Entity {e75c4d44-8d8e-4b1c-94ba-d35a361171d9}.\n",
      "C:\\ProgramData\\Anaconda3\\lib\\site-packages\\ipykernel_launcher.py:303: DeprecationWarning: Call to deprecated method get_stix_domain_entity. (Replaced by the StixDomainEntity class in pycti) -- Deprecated since version 2.1.0.\n",
      "INFO:root:Reading Stix-Domain-Entity {06ef98bc-90d3-44d0-9b31-47dd138daa3d}.\n"
     ]
    },
    {
     "name": "stdout",
     "output_type": "stream",
     "text": [
      "e75c4d44-8d8e-4b1c-94ba-d35a361171d9\n",
      "06ef98bc-90d3-44d0-9b31-47dd138daa3d\n"
     ]
    },
    {
     "name": "stderr",
     "output_type": "stream",
     "text": [
      "INFO:root:Listing stix_relations with {type: indicates, from_id: e75c4d44-8d8e-4b1c-94ba-d35a361171d9, to_id: 06ef98bc-90d3-44d0-9b31-47dd138daa3d}\n",
      "INFO:root:Reading Report {1f2cbc39-8893-4bec-9c59-b9f8fba67062}.\n",
      "INFO:root:Adding Stix-Entity {86539d17-6d79-4b02-941f-bb361cc861de} to Report {1f2cbc39-8893-4bec-9c59-b9f8fba67062}\n",
      "C:\\ProgramData\\Anaconda3\\lib\\site-packages\\ipykernel_launcher.py:300: DeprecationWarning: Call to deprecated method get_stix_domain_entity. (Replaced by the StixDomainEntity class in pycti) -- Deprecated since version 2.1.0.\n",
      "INFO:root:Reading Stix-Domain-Entity {ab686a82-7b73-4adc-9525-d6cd5808b393}.\n",
      "C:\\ProgramData\\Anaconda3\\lib\\site-packages\\ipykernel_launcher.py:303: DeprecationWarning: Call to deprecated method get_stix_domain_entity. (Replaced by the StixDomainEntity class in pycti) -- Deprecated since version 2.1.0.\n",
      "INFO:root:Reading Stix-Domain-Entity {06ef98bc-90d3-44d0-9b31-47dd138daa3d}.\n"
     ]
    },
    {
     "name": "stdout",
     "output_type": "stream",
     "text": [
      "ab686a82-7b73-4adc-9525-d6cd5808b393\n",
      "06ef98bc-90d3-44d0-9b31-47dd138daa3d\n"
     ]
    },
    {
     "name": "stderr",
     "output_type": "stream",
     "text": [
      "INFO:root:Listing stix_relations with {type: indicates, from_id: ab686a82-7b73-4adc-9525-d6cd5808b393, to_id: 06ef98bc-90d3-44d0-9b31-47dd138daa3d}\n",
      "INFO:root:Reading Report {1f2cbc39-8893-4bec-9c59-b9f8fba67062}.\n",
      "INFO:root:Adding Stix-Entity {4caad1f6-acbc-4407-a1e7-f33c3d5c8ca9} to Report {1f2cbc39-8893-4bec-9c59-b9f8fba67062}\n",
      "C:\\ProgramData\\Anaconda3\\lib\\site-packages\\ipykernel_launcher.py:300: DeprecationWarning: Call to deprecated method get_stix_domain_entity. (Replaced by the StixDomainEntity class in pycti) -- Deprecated since version 2.1.0.\n",
      "INFO:root:Reading Stix-Domain-Entity {e97e18c0-1290-4da5-891c-d9ab129ede39}.\n",
      "C:\\ProgramData\\Anaconda3\\lib\\site-packages\\ipykernel_launcher.py:303: DeprecationWarning: Call to deprecated method get_stix_domain_entity. (Replaced by the StixDomainEntity class in pycti) -- Deprecated since version 2.1.0.\n",
      "INFO:root:Reading Stix-Domain-Entity {06ef98bc-90d3-44d0-9b31-47dd138daa3d}.\n"
     ]
    },
    {
     "name": "stdout",
     "output_type": "stream",
     "text": [
      "e97e18c0-1290-4da5-891c-d9ab129ede39\n",
      "06ef98bc-90d3-44d0-9b31-47dd138daa3d\n"
     ]
    },
    {
     "name": "stderr",
     "output_type": "stream",
     "text": [
      "INFO:root:Listing stix_relations with {type: indicates, from_id: e97e18c0-1290-4da5-891c-d9ab129ede39, to_id: 06ef98bc-90d3-44d0-9b31-47dd138daa3d}\n",
      "INFO:root:Reading Report {1f2cbc39-8893-4bec-9c59-b9f8fba67062}.\n",
      "INFO:root:Adding Stix-Entity {a8a2e8b3-0afb-48a9-b092-92f9ef1beca3} to Report {1f2cbc39-8893-4bec-9c59-b9f8fba67062}\n",
      "C:\\ProgramData\\Anaconda3\\lib\\site-packages\\ipykernel_launcher.py:300: DeprecationWarning: Call to deprecated method get_stix_domain_entity. (Replaced by the StixDomainEntity class in pycti) -- Deprecated since version 2.1.0.\n",
      "INFO:root:Reading Stix-Domain-Entity {ee63a31c-cfcd-4415-9165-619841035e92}.\n",
      "C:\\ProgramData\\Anaconda3\\lib\\site-packages\\ipykernel_launcher.py:303: DeprecationWarning: Call to deprecated method get_stix_domain_entity. (Replaced by the StixDomainEntity class in pycti) -- Deprecated since version 2.1.0.\n",
      "INFO:root:Reading Stix-Domain-Entity {06ef98bc-90d3-44d0-9b31-47dd138daa3d}.\n"
     ]
    },
    {
     "name": "stdout",
     "output_type": "stream",
     "text": [
      "ee63a31c-cfcd-4415-9165-619841035e92\n",
      "06ef98bc-90d3-44d0-9b31-47dd138daa3d\n"
     ]
    },
    {
     "name": "stderr",
     "output_type": "stream",
     "text": [
      "INFO:root:Listing stix_relations with {type: indicates, from_id: ee63a31c-cfcd-4415-9165-619841035e92, to_id: 06ef98bc-90d3-44d0-9b31-47dd138daa3d}\n",
      "INFO:root:Reading Report {1f2cbc39-8893-4bec-9c59-b9f8fba67062}.\n",
      "INFO:root:Adding Stix-Entity {82feebc6-9f07-4a91-8c6e-247c2a44734d} to Report {1f2cbc39-8893-4bec-9c59-b9f8fba67062}\n",
      "C:\\ProgramData\\Anaconda3\\lib\\site-packages\\ipykernel_launcher.py:300: DeprecationWarning: Call to deprecated method get_stix_domain_entity. (Replaced by the StixDomainEntity class in pycti) -- Deprecated since version 2.1.0.\n",
      "INFO:root:Reading Stix-Domain-Entity {feb240d1-3915-4933-8455-d0261a8f8cdd}.\n",
      "C:\\ProgramData\\Anaconda3\\lib\\site-packages\\ipykernel_launcher.py:303: DeprecationWarning: Call to deprecated method get_stix_domain_entity. (Replaced by the StixDomainEntity class in pycti) -- Deprecated since version 2.1.0.\n",
      "INFO:root:Reading Stix-Domain-Entity {06ef98bc-90d3-44d0-9b31-47dd138daa3d}.\n"
     ]
    },
    {
     "name": "stdout",
     "output_type": "stream",
     "text": [
      "feb240d1-3915-4933-8455-d0261a8f8cdd\n",
      "06ef98bc-90d3-44d0-9b31-47dd138daa3d\n"
     ]
    },
    {
     "name": "stderr",
     "output_type": "stream",
     "text": [
      "INFO:root:Listing stix_relations with {type: indicates, from_id: feb240d1-3915-4933-8455-d0261a8f8cdd, to_id: 06ef98bc-90d3-44d0-9b31-47dd138daa3d}\n",
      "INFO:root:Reading Report {1f2cbc39-8893-4bec-9c59-b9f8fba67062}.\n",
      "INFO:root:Adding Stix-Entity {203bcd76-255c-4512-8fb0-7fdecbc08bc2} to Report {1f2cbc39-8893-4bec-9c59-b9f8fba67062}\n",
      "C:\\ProgramData\\Anaconda3\\lib\\site-packages\\ipykernel_launcher.py:300: DeprecationWarning: Call to deprecated method get_stix_domain_entity. (Replaced by the StixDomainEntity class in pycti) -- Deprecated since version 2.1.0.\n",
      "INFO:root:Reading Stix-Domain-Entity {0ee26bba-0a8e-4a42-ab37-00289cae0607}.\n"
     ]
    },
    {
     "name": "stdout",
     "output_type": "stream",
     "text": [
      "0ee26bba-0a8e-4a42-ab37-00289cae0607\n",
      "06ef98bc-90d3-44d0-9b31-47dd138daa3d\n"
     ]
    },
    {
     "name": "stderr",
     "output_type": "stream",
     "text": [
      "C:\\ProgramData\\Anaconda3\\lib\\site-packages\\ipykernel_launcher.py:303: DeprecationWarning: Call to deprecated method get_stix_domain_entity. (Replaced by the StixDomainEntity class in pycti) -- Deprecated since version 2.1.0.\n",
      "INFO:root:Reading Stix-Domain-Entity {06ef98bc-90d3-44d0-9b31-47dd138daa3d}.\n",
      "INFO:root:Listing stix_relations with {type: indicates, from_id: 0ee26bba-0a8e-4a42-ab37-00289cae0607, to_id: 06ef98bc-90d3-44d0-9b31-47dd138daa3d}\n",
      "INFO:root:Reading Report {1f2cbc39-8893-4bec-9c59-b9f8fba67062}.\n",
      "INFO:root:Adding Stix-Entity {1ea022db-7317-4b32-be9a-e60dd10bc56c} to Report {1f2cbc39-8893-4bec-9c59-b9f8fba67062}\n",
      "C:\\ProgramData\\Anaconda3\\lib\\site-packages\\ipykernel_launcher.py:300: DeprecationWarning: Call to deprecated method get_stix_domain_entity. (Replaced by the StixDomainEntity class in pycti) -- Deprecated since version 2.1.0.\n",
      "INFO:root:Reading Stix-Domain-Entity {c439cea6-2038-4961-ba4c-788857dcb352}.\n",
      "C:\\ProgramData\\Anaconda3\\lib\\site-packages\\ipykernel_launcher.py:303: DeprecationWarning: Call to deprecated method get_stix_domain_entity. (Replaced by the StixDomainEntity class in pycti) -- Deprecated since version 2.1.0.\n",
      "INFO:root:Reading Stix-Domain-Entity {06ef98bc-90d3-44d0-9b31-47dd138daa3d}.\n"
     ]
    },
    {
     "name": "stdout",
     "output_type": "stream",
     "text": [
      "c439cea6-2038-4961-ba4c-788857dcb352\n",
      "06ef98bc-90d3-44d0-9b31-47dd138daa3d\n"
     ]
    },
    {
     "name": "stderr",
     "output_type": "stream",
     "text": [
      "INFO:root:Listing stix_relations with {type: indicates, from_id: c439cea6-2038-4961-ba4c-788857dcb352, to_id: 06ef98bc-90d3-44d0-9b31-47dd138daa3d}\n",
      "INFO:root:Reading Report {1f2cbc39-8893-4bec-9c59-b9f8fba67062}.\n",
      "INFO:root:Adding Stix-Entity {de75c512-1910-4c27-ad9e-b6c68cb9c11d} to Report {1f2cbc39-8893-4bec-9c59-b9f8fba67062}\n",
      "C:\\ProgramData\\Anaconda3\\lib\\site-packages\\ipykernel_launcher.py:300: DeprecationWarning: Call to deprecated method get_stix_domain_entity. (Replaced by the StixDomainEntity class in pycti) -- Deprecated since version 2.1.0.\n",
      "INFO:root:Reading Stix-Domain-Entity {0ddad760-fd03-4b50-b20d-fbf6c57bdb2c}.\n",
      "C:\\ProgramData\\Anaconda3\\lib\\site-packages\\ipykernel_launcher.py:303: DeprecationWarning: Call to deprecated method get_stix_domain_entity. (Replaced by the StixDomainEntity class in pycti) -- Deprecated since version 2.1.0.\n",
      "INFO:root:Reading Stix-Domain-Entity {06ef98bc-90d3-44d0-9b31-47dd138daa3d}.\n"
     ]
    },
    {
     "name": "stdout",
     "output_type": "stream",
     "text": [
      "0ddad760-fd03-4b50-b20d-fbf6c57bdb2c\n",
      "06ef98bc-90d3-44d0-9b31-47dd138daa3d\n"
     ]
    },
    {
     "name": "stderr",
     "output_type": "stream",
     "text": [
      "INFO:root:Listing stix_relations with {type: indicates, from_id: 0ddad760-fd03-4b50-b20d-fbf6c57bdb2c, to_id: 06ef98bc-90d3-44d0-9b31-47dd138daa3d}\n",
      "INFO:root:Reading Report {1f2cbc39-8893-4bec-9c59-b9f8fba67062}.\n",
      "INFO:root:Adding Stix-Entity {c166da35-8759-42ff-9152-1a6c4de13573} to Report {1f2cbc39-8893-4bec-9c59-b9f8fba67062}\n",
      "C:\\ProgramData\\Anaconda3\\lib\\site-packages\\ipykernel_launcher.py:300: DeprecationWarning: Call to deprecated method get_stix_domain_entity. (Replaced by the StixDomainEntity class in pycti) -- Deprecated since version 2.1.0.\n",
      "INFO:root:Reading Stix-Domain-Entity {5ea14422-c3b4-40c6-959c-52498573c8d8}.\n",
      "C:\\ProgramData\\Anaconda3\\lib\\site-packages\\ipykernel_launcher.py:303: DeprecationWarning: Call to deprecated method get_stix_domain_entity. (Replaced by the StixDomainEntity class in pycti) -- Deprecated since version 2.1.0.\n",
      "INFO:root:Reading Stix-Domain-Entity {06ef98bc-90d3-44d0-9b31-47dd138daa3d}.\n"
     ]
    },
    {
     "name": "stdout",
     "output_type": "stream",
     "text": [
      "5ea14422-c3b4-40c6-959c-52498573c8d8\n",
      "06ef98bc-90d3-44d0-9b31-47dd138daa3d\n"
     ]
    },
    {
     "name": "stderr",
     "output_type": "stream",
     "text": [
      "INFO:root:Listing stix_relations with {type: indicates, from_id: 5ea14422-c3b4-40c6-959c-52498573c8d8, to_id: 06ef98bc-90d3-44d0-9b31-47dd138daa3d}\n",
      "INFO:root:Reading Report {1f2cbc39-8893-4bec-9c59-b9f8fba67062}.\n",
      "INFO:root:Adding Stix-Entity {863e3e06-da59-4298-92f3-b0009794fe0c} to Report {1f2cbc39-8893-4bec-9c59-b9f8fba67062}\n",
      "C:\\ProgramData\\Anaconda3\\lib\\site-packages\\ipykernel_launcher.py:300: DeprecationWarning: Call to deprecated method get_stix_domain_entity. (Replaced by the StixDomainEntity class in pycti) -- Deprecated since version 2.1.0.\n",
      "INFO:root:Reading Stix-Domain-Entity {eb06b5a9-ead0-4f6a-93e1-74cf6a8a2921}.\n",
      "C:\\ProgramData\\Anaconda3\\lib\\site-packages\\ipykernel_launcher.py:303: DeprecationWarning: Call to deprecated method get_stix_domain_entity. (Replaced by the StixDomainEntity class in pycti) -- Deprecated since version 2.1.0.\n",
      "INFO:root:Reading Stix-Domain-Entity {06ef98bc-90d3-44d0-9b31-47dd138daa3d}.\n"
     ]
    },
    {
     "name": "stdout",
     "output_type": "stream",
     "text": [
      "eb06b5a9-ead0-4f6a-93e1-74cf6a8a2921\n",
      "06ef98bc-90d3-44d0-9b31-47dd138daa3d\n"
     ]
    },
    {
     "name": "stderr",
     "output_type": "stream",
     "text": [
      "INFO:root:Listing stix_relations with {type: indicates, from_id: eb06b5a9-ead0-4f6a-93e1-74cf6a8a2921, to_id: 06ef98bc-90d3-44d0-9b31-47dd138daa3d}\n",
      "INFO:root:Reading Report {1f2cbc39-8893-4bec-9c59-b9f8fba67062}.\n",
      "INFO:root:Adding Stix-Entity {9ea63276-078e-41eb-a456-54ee2a6cb464} to Report {1f2cbc39-8893-4bec-9c59-b9f8fba67062}\n",
      "C:\\ProgramData\\Anaconda3\\lib\\site-packages\\ipykernel_launcher.py:300: DeprecationWarning: Call to deprecated method get_stix_domain_entity. (Replaced by the StixDomainEntity class in pycti) -- Deprecated since version 2.1.0.\n",
      "INFO:root:Reading Stix-Domain-Entity {426f632c-899e-4cc2-b6cb-9d368e7f7920}.\n",
      "C:\\ProgramData\\Anaconda3\\lib\\site-packages\\ipykernel_launcher.py:303: DeprecationWarning: Call to deprecated method get_stix_domain_entity. (Replaced by the StixDomainEntity class in pycti) -- Deprecated since version 2.1.0.\n",
      "INFO:root:Reading Stix-Domain-Entity {06ef98bc-90d3-44d0-9b31-47dd138daa3d}.\n"
     ]
    },
    {
     "name": "stdout",
     "output_type": "stream",
     "text": [
      "426f632c-899e-4cc2-b6cb-9d368e7f7920\n",
      "06ef98bc-90d3-44d0-9b31-47dd138daa3d\n"
     ]
    },
    {
     "name": "stderr",
     "output_type": "stream",
     "text": [
      "INFO:root:Listing stix_relations with {type: indicates, from_id: 426f632c-899e-4cc2-b6cb-9d368e7f7920, to_id: 06ef98bc-90d3-44d0-9b31-47dd138daa3d}\n",
      "INFO:root:Reading Report {1f2cbc39-8893-4bec-9c59-b9f8fba67062}.\n",
      "INFO:root:Adding Stix-Entity {345dbea4-1115-4811-b184-99a1e73cb64e} to Report {1f2cbc39-8893-4bec-9c59-b9f8fba67062}\n",
      "C:\\ProgramData\\Anaconda3\\lib\\site-packages\\ipykernel_launcher.py:300: DeprecationWarning: Call to deprecated method get_stix_domain_entity. (Replaced by the StixDomainEntity class in pycti) -- Deprecated since version 2.1.0.\n",
      "INFO:root:Reading Stix-Domain-Entity {4e8df8d4-569d-4dc2-9bde-4358c5cd20fe}.\n",
      "C:\\ProgramData\\Anaconda3\\lib\\site-packages\\ipykernel_launcher.py:303: DeprecationWarning: Call to deprecated method get_stix_domain_entity. (Replaced by the StixDomainEntity class in pycti) -- Deprecated since version 2.1.0.\n",
      "INFO:root:Reading Stix-Domain-Entity {06ef98bc-90d3-44d0-9b31-47dd138daa3d}.\n"
     ]
    },
    {
     "name": "stdout",
     "output_type": "stream",
     "text": [
      "4e8df8d4-569d-4dc2-9bde-4358c5cd20fe\n",
      "06ef98bc-90d3-44d0-9b31-47dd138daa3d\n"
     ]
    },
    {
     "name": "stderr",
     "output_type": "stream",
     "text": [
      "INFO:root:Listing stix_relations with {type: indicates, from_id: 4e8df8d4-569d-4dc2-9bde-4358c5cd20fe, to_id: 06ef98bc-90d3-44d0-9b31-47dd138daa3d}\n",
      "INFO:root:Reading Report {1f2cbc39-8893-4bec-9c59-b9f8fba67062}.\n",
      "INFO:root:Adding Stix-Entity {797e130a-1a74-43d9-ba08-19d58da7e14f} to Report {1f2cbc39-8893-4bec-9c59-b9f8fba67062}\n",
      "C:\\ProgramData\\Anaconda3\\lib\\site-packages\\ipykernel_launcher.py:300: DeprecationWarning: Call to deprecated method get_stix_domain_entity. (Replaced by the StixDomainEntity class in pycti) -- Deprecated since version 2.1.0.\n",
      "INFO:root:Reading Stix-Domain-Entity {ad1b5d92-8cfb-4dfe-95bf-746cde9036f4}.\n",
      "C:\\ProgramData\\Anaconda3\\lib\\site-packages\\ipykernel_launcher.py:303: DeprecationWarning: Call to deprecated method get_stix_domain_entity. (Replaced by the StixDomainEntity class in pycti) -- Deprecated since version 2.1.0.\n",
      "INFO:root:Reading Stix-Domain-Entity {9fa5e609-537d-483a-98fe-f463e405df11}.\n"
     ]
    },
    {
     "name": "stdout",
     "output_type": "stream",
     "text": [
      "ad1b5d92-8cfb-4dfe-95bf-746cde9036f4\n",
      "9fa5e609-537d-483a-98fe-f463e405df11\n"
     ]
    },
    {
     "name": "stderr",
     "output_type": "stream",
     "text": [
      "INFO:root:Listing stix_relations with {type: indicates, from_id: ad1b5d92-8cfb-4dfe-95bf-746cde9036f4, to_id: 9fa5e609-537d-483a-98fe-f463e405df11}\n",
      "INFO:root:Reading Report {1f2cbc39-8893-4bec-9c59-b9f8fba67062}.\n",
      "INFO:root:Adding Stix-Entity {fca7f806-bb20-4963-9ee8-b57268d9c86e} to Report {1f2cbc39-8893-4bec-9c59-b9f8fba67062}\n",
      "C:\\ProgramData\\Anaconda3\\lib\\site-packages\\ipykernel_launcher.py:300: DeprecationWarning: Call to deprecated method get_stix_domain_entity. (Replaced by the StixDomainEntity class in pycti) -- Deprecated since version 2.1.0.\n",
      "INFO:root:Reading Stix-Domain-Entity {8837f219-8346-4475-8dad-d7dbd65fa693}.\n",
      "C:\\ProgramData\\Anaconda3\\lib\\site-packages\\ipykernel_launcher.py:303: DeprecationWarning: Call to deprecated method get_stix_domain_entity. (Replaced by the StixDomainEntity class in pycti) -- Deprecated since version 2.1.0.\n",
      "INFO:root:Reading Stix-Domain-Entity {9fa5e609-537d-483a-98fe-f463e405df11}.\n"
     ]
    },
    {
     "name": "stdout",
     "output_type": "stream",
     "text": [
      "8837f219-8346-4475-8dad-d7dbd65fa693\n",
      "9fa5e609-537d-483a-98fe-f463e405df11\n"
     ]
    },
    {
     "name": "stderr",
     "output_type": "stream",
     "text": [
      "INFO:root:Listing stix_relations with {type: indicates, from_id: 8837f219-8346-4475-8dad-d7dbd65fa693, to_id: 9fa5e609-537d-483a-98fe-f463e405df11}\n",
      "INFO:root:Reading Report {1f2cbc39-8893-4bec-9c59-b9f8fba67062}.\n",
      "INFO:root:Adding Stix-Entity {2f3f9863-0fc8-4b86-a9f8-338fb9dfad50} to Report {1f2cbc39-8893-4bec-9c59-b9f8fba67062}\n",
      "C:\\ProgramData\\Anaconda3\\lib\\site-packages\\ipykernel_launcher.py:300: DeprecationWarning: Call to deprecated method get_stix_domain_entity. (Replaced by the StixDomainEntity class in pycti) -- Deprecated since version 2.1.0.\n",
      "INFO:root:Reading Stix-Domain-Entity {b68c14a7-1ab1-4c47-9c47-086886522f2e}.\n"
     ]
    },
    {
     "name": "stdout",
     "output_type": "stream",
     "text": [
      "b68c14a7-1ab1-4c47-9c47-086886522f2e\n",
      "9fa5e609-537d-483a-98fe-f463e405df11\n"
     ]
    },
    {
     "name": "stderr",
     "output_type": "stream",
     "text": [
      "C:\\ProgramData\\Anaconda3\\lib\\site-packages\\ipykernel_launcher.py:303: DeprecationWarning: Call to deprecated method get_stix_domain_entity. (Replaced by the StixDomainEntity class in pycti) -- Deprecated since version 2.1.0.\n",
      "INFO:root:Reading Stix-Domain-Entity {9fa5e609-537d-483a-98fe-f463e405df11}.\n",
      "INFO:root:Listing stix_relations with {type: indicates, from_id: b68c14a7-1ab1-4c47-9c47-086886522f2e, to_id: 9fa5e609-537d-483a-98fe-f463e405df11}\n",
      "INFO:root:Reading Report {1f2cbc39-8893-4bec-9c59-b9f8fba67062}.\n",
      "INFO:root:Adding Stix-Entity {8a2a3018-4d4b-47a1-a16e-84f1948d15c2} to Report {1f2cbc39-8893-4bec-9c59-b9f8fba67062}\n",
      "C:\\ProgramData\\Anaconda3\\lib\\site-packages\\ipykernel_launcher.py:300: DeprecationWarning: Call to deprecated method get_stix_domain_entity. (Replaced by the StixDomainEntity class in pycti) -- Deprecated since version 2.1.0.\n",
      "INFO:root:Reading Stix-Domain-Entity {0db02c4d-fd35-4efa-bc7a-a3f3fdf9f01f}.\n",
      "C:\\ProgramData\\Anaconda3\\lib\\site-packages\\ipykernel_launcher.py:303: DeprecationWarning: Call to deprecated method get_stix_domain_entity. (Replaced by the StixDomainEntity class in pycti) -- Deprecated since version 2.1.0.\n",
      "INFO:root:Reading Stix-Domain-Entity {9fa5e609-537d-483a-98fe-f463e405df11}.\n"
     ]
    },
    {
     "name": "stdout",
     "output_type": "stream",
     "text": [
      "0db02c4d-fd35-4efa-bc7a-a3f3fdf9f01f\n",
      "9fa5e609-537d-483a-98fe-f463e405df11\n"
     ]
    },
    {
     "name": "stderr",
     "output_type": "stream",
     "text": [
      "INFO:root:Listing stix_relations with {type: indicates, from_id: 0db02c4d-fd35-4efa-bc7a-a3f3fdf9f01f, to_id: 9fa5e609-537d-483a-98fe-f463e405df11}\n",
      "INFO:root:Reading Report {1f2cbc39-8893-4bec-9c59-b9f8fba67062}.\n",
      "INFO:root:Adding Stix-Entity {e012c855-128a-4a8f-8143-3cf6d2906ab9} to Report {1f2cbc39-8893-4bec-9c59-b9f8fba67062}\n",
      "C:\\ProgramData\\Anaconda3\\lib\\site-packages\\ipykernel_launcher.py:300: DeprecationWarning: Call to deprecated method get_stix_domain_entity. (Replaced by the StixDomainEntity class in pycti) -- Deprecated since version 2.1.0.\n",
      "INFO:root:Reading Stix-Domain-Entity {adf56d7d-98be-45bd-8c46-9d879e5d5aae}.\n",
      "C:\\ProgramData\\Anaconda3\\lib\\site-packages\\ipykernel_launcher.py:303: DeprecationWarning: Call to deprecated method get_stix_domain_entity. (Replaced by the StixDomainEntity class in pycti) -- Deprecated since version 2.1.0.\n",
      "INFO:root:Reading Stix-Domain-Entity {9fa5e609-537d-483a-98fe-f463e405df11}.\n"
     ]
    },
    {
     "name": "stdout",
     "output_type": "stream",
     "text": [
      "adf56d7d-98be-45bd-8c46-9d879e5d5aae\n",
      "9fa5e609-537d-483a-98fe-f463e405df11\n"
     ]
    },
    {
     "name": "stderr",
     "output_type": "stream",
     "text": [
      "INFO:root:Listing stix_relations with {type: indicates, from_id: adf56d7d-98be-45bd-8c46-9d879e5d5aae, to_id: 9fa5e609-537d-483a-98fe-f463e405df11}\n",
      "INFO:root:Reading Report {1f2cbc39-8893-4bec-9c59-b9f8fba67062}.\n",
      "INFO:root:Adding Stix-Entity {270e25f4-9f3f-4922-8cee-0ba441086aa9} to Report {1f2cbc39-8893-4bec-9c59-b9f8fba67062}\n",
      "C:\\ProgramData\\Anaconda3\\lib\\site-packages\\ipykernel_launcher.py:300: DeprecationWarning: Call to deprecated method get_stix_domain_entity. (Replaced by the StixDomainEntity class in pycti) -- Deprecated since version 2.1.0.\n",
      "INFO:root:Reading Stix-Domain-Entity {ed4507bb-1469-41a2-90bc-a8a71e1cef6f}.\n",
      "C:\\ProgramData\\Anaconda3\\lib\\site-packages\\ipykernel_launcher.py:303: DeprecationWarning: Call to deprecated method get_stix_domain_entity. (Replaced by the StixDomainEntity class in pycti) -- Deprecated since version 2.1.0.\n",
      "INFO:root:Reading Stix-Domain-Entity {9fa5e609-537d-483a-98fe-f463e405df11}.\n"
     ]
    },
    {
     "name": "stdout",
     "output_type": "stream",
     "text": [
      "ed4507bb-1469-41a2-90bc-a8a71e1cef6f\n",
      "9fa5e609-537d-483a-98fe-f463e405df11\n"
     ]
    },
    {
     "name": "stderr",
     "output_type": "stream",
     "text": [
      "INFO:root:Listing stix_relations with {type: indicates, from_id: ed4507bb-1469-41a2-90bc-a8a71e1cef6f, to_id: 9fa5e609-537d-483a-98fe-f463e405df11}\n",
      "INFO:root:Reading Report {1f2cbc39-8893-4bec-9c59-b9f8fba67062}.\n",
      "INFO:root:Adding Stix-Entity {a28b14e4-784f-42e3-8c2f-1998b2c42cb2} to Report {1f2cbc39-8893-4bec-9c59-b9f8fba67062}\n",
      "C:\\ProgramData\\Anaconda3\\lib\\site-packages\\ipykernel_launcher.py:300: DeprecationWarning: Call to deprecated method get_stix_domain_entity. (Replaced by the StixDomainEntity class in pycti) -- Deprecated since version 2.1.0.\n",
      "INFO:root:Reading Stix-Domain-Entity {8837f219-8346-4475-8dad-d7dbd65fa693}.\n",
      "C:\\ProgramData\\Anaconda3\\lib\\site-packages\\ipykernel_launcher.py:303: DeprecationWarning: Call to deprecated method get_stix_domain_entity. (Replaced by the StixDomainEntity class in pycti) -- Deprecated since version 2.1.0.\n",
      "INFO:root:Reading Stix-Domain-Entity {9fa5e609-537d-483a-98fe-f463e405df11}.\n"
     ]
    },
    {
     "name": "stdout",
     "output_type": "stream",
     "text": [
      "8837f219-8346-4475-8dad-d7dbd65fa693\n",
      "9fa5e609-537d-483a-98fe-f463e405df11\n"
     ]
    },
    {
     "name": "stderr",
     "output_type": "stream",
     "text": [
      "INFO:root:Listing stix_relations with {type: indicates, from_id: 8837f219-8346-4475-8dad-d7dbd65fa693, to_id: 9fa5e609-537d-483a-98fe-f463e405df11}\n",
      "INFO:root:Reading Report {1f2cbc39-8893-4bec-9c59-b9f8fba67062}.\n",
      "INFO:root:Adding Stix-Entity {2f3f9863-0fc8-4b86-a9f8-338fb9dfad50} to Report {1f2cbc39-8893-4bec-9c59-b9f8fba67062}\n",
      "ERROR:root:A database error has occured!\n",
      "C:\\ProgramData\\Anaconda3\\lib\\site-packages\\ipykernel_launcher.py:300: DeprecationWarning: Call to deprecated method get_stix_domain_entity. (Replaced by the StixDomainEntity class in pycti) -- Deprecated since version 2.1.0.\n",
      "INFO:root:Reading Stix-Domain-Entity {7c52a80f-7ab3-4a4f-b2aa-278471c95565}.\n",
      "C:\\ProgramData\\Anaconda3\\lib\\site-packages\\ipykernel_launcher.py:303: DeprecationWarning: Call to deprecated method get_stix_domain_entity. (Replaced by the StixDomainEntity class in pycti) -- Deprecated since version 2.1.0.\n",
      "INFO:root:Reading Stix-Domain-Entity {9fa5e609-537d-483a-98fe-f463e405df11}.\n"
     ]
    },
    {
     "name": "stdout",
     "output_type": "stream",
     "text": [
      "7c52a80f-7ab3-4a4f-b2aa-278471c95565\n",
      "9fa5e609-537d-483a-98fe-f463e405df11\n"
     ]
    },
    {
     "name": "stderr",
     "output_type": "stream",
     "text": [
      "INFO:root:Listing stix_relations with {type: indicates, from_id: 7c52a80f-7ab3-4a4f-b2aa-278471c95565, to_id: 9fa5e609-537d-483a-98fe-f463e405df11}\n",
      "INFO:root:Reading Report {1f2cbc39-8893-4bec-9c59-b9f8fba67062}.\n",
      "INFO:root:Adding Stix-Entity {8adeb5b0-b5ed-4686-ba86-ffc9f500c2a5} to Report {1f2cbc39-8893-4bec-9c59-b9f8fba67062}\n",
      "C:\\ProgramData\\Anaconda3\\lib\\site-packages\\ipykernel_launcher.py:300: DeprecationWarning: Call to deprecated method get_stix_domain_entity. (Replaced by the StixDomainEntity class in pycti) -- Deprecated since version 2.1.0.\n",
      "INFO:root:Reading Stix-Domain-Entity {ad1b5d92-8cfb-4dfe-95bf-746cde9036f4}.\n",
      "C:\\ProgramData\\Anaconda3\\lib\\site-packages\\ipykernel_launcher.py:303: DeprecationWarning: Call to deprecated method get_stix_domain_entity. (Replaced by the StixDomainEntity class in pycti) -- Deprecated since version 2.1.0.\n",
      "INFO:root:Reading Stix-Domain-Entity {9fa5e609-537d-483a-98fe-f463e405df11}.\n"
     ]
    },
    {
     "name": "stdout",
     "output_type": "stream",
     "text": [
      "ad1b5d92-8cfb-4dfe-95bf-746cde9036f4\n",
      "9fa5e609-537d-483a-98fe-f463e405df11\n"
     ]
    },
    {
     "name": "stderr",
     "output_type": "stream",
     "text": [
      "INFO:root:Listing stix_relations with {type: indicates, from_id: ad1b5d92-8cfb-4dfe-95bf-746cde9036f4, to_id: 9fa5e609-537d-483a-98fe-f463e405df11}\n",
      "INFO:root:Reading Report {1f2cbc39-8893-4bec-9c59-b9f8fba67062}.\n",
      "INFO:root:Adding Stix-Entity {fca7f806-bb20-4963-9ee8-b57268d9c86e} to Report {1f2cbc39-8893-4bec-9c59-b9f8fba67062}\n",
      "ERROR:root:A database error has occured!\n",
      "C:\\ProgramData\\Anaconda3\\lib\\site-packages\\ipykernel_launcher.py:300: DeprecationWarning: Call to deprecated method get_stix_domain_entity. (Replaced by the StixDomainEntity class in pycti) -- Deprecated since version 2.1.0.\n",
      "INFO:root:Reading Stix-Domain-Entity {4b5d8be0-5a7e-44a7-a011-abde3eee3b52}.\n",
      "C:\\ProgramData\\Anaconda3\\lib\\site-packages\\ipykernel_launcher.py:303: DeprecationWarning: Call to deprecated method get_stix_domain_entity. (Replaced by the StixDomainEntity class in pycti) -- Deprecated since version 2.1.0.\n",
      "INFO:root:Reading Stix-Domain-Entity {9fa5e609-537d-483a-98fe-f463e405df11}.\n"
     ]
    },
    {
     "name": "stdout",
     "output_type": "stream",
     "text": [
      "4b5d8be0-5a7e-44a7-a011-abde3eee3b52\n",
      "9fa5e609-537d-483a-98fe-f463e405df11\n"
     ]
    },
    {
     "name": "stderr",
     "output_type": "stream",
     "text": [
      "INFO:root:Listing stix_relations with {type: indicates, from_id: 4b5d8be0-5a7e-44a7-a011-abde3eee3b52, to_id: 9fa5e609-537d-483a-98fe-f463e405df11}\n",
      "INFO:root:Reading Report {1f2cbc39-8893-4bec-9c59-b9f8fba67062}.\n",
      "INFO:root:Adding Stix-Entity {931e324e-37f1-45b9-9a02-ae50b309d6d4} to Report {1f2cbc39-8893-4bec-9c59-b9f8fba67062}\n",
      "C:\\ProgramData\\Anaconda3\\lib\\site-packages\\ipykernel_launcher.py:300: DeprecationWarning: Call to deprecated method get_stix_domain_entity. (Replaced by the StixDomainEntity class in pycti) -- Deprecated since version 2.1.0.\n",
      "INFO:root:Reading Stix-Domain-Entity {aee87195-ccd7-4e4e-8efa-c42f94d1791b}.\n",
      "C:\\ProgramData\\Anaconda3\\lib\\site-packages\\ipykernel_launcher.py:303: DeprecationWarning: Call to deprecated method get_stix_domain_entity. (Replaced by the StixDomainEntity class in pycti) -- Deprecated since version 2.1.0.\n",
      "INFO:root:Reading Stix-Domain-Entity {9fa5e609-537d-483a-98fe-f463e405df11}.\n"
     ]
    },
    {
     "name": "stdout",
     "output_type": "stream",
     "text": [
      "aee87195-ccd7-4e4e-8efa-c42f94d1791b\n",
      "9fa5e609-537d-483a-98fe-f463e405df11\n"
     ]
    },
    {
     "name": "stderr",
     "output_type": "stream",
     "text": [
      "INFO:root:Listing stix_relations with {type: indicates, from_id: aee87195-ccd7-4e4e-8efa-c42f94d1791b, to_id: 9fa5e609-537d-483a-98fe-f463e405df11}\n",
      "INFO:root:Reading Report {1f2cbc39-8893-4bec-9c59-b9f8fba67062}.\n",
      "INFO:root:Adding Stix-Entity {2acfa473-5def-4e3e-ac33-677b779d11b7} to Report {1f2cbc39-8893-4bec-9c59-b9f8fba67062}\n",
      "C:\\ProgramData\\Anaconda3\\lib\\site-packages\\ipykernel_launcher.py:300: DeprecationWarning: Call to deprecated method get_stix_domain_entity. (Replaced by the StixDomainEntity class in pycti) -- Deprecated since version 2.1.0.\n",
      "INFO:root:Reading Stix-Domain-Entity {f87e99b2-bb39-494f-909b-3f0133b1e724}.\n",
      "C:\\ProgramData\\Anaconda3\\lib\\site-packages\\ipykernel_launcher.py:303: DeprecationWarning: Call to deprecated method get_stix_domain_entity. (Replaced by the StixDomainEntity class in pycti) -- Deprecated since version 2.1.0.\n",
      "INFO:root:Reading Stix-Domain-Entity {d380cf57-9810-438b-bb25-a652aaca9ab2}.\n"
     ]
    },
    {
     "name": "stdout",
     "output_type": "stream",
     "text": [
      "f87e99b2-bb39-494f-909b-3f0133b1e724\n",
      "d380cf57-9810-438b-bb25-a652aaca9ab2\n"
     ]
    },
    {
     "name": "stderr",
     "output_type": "stream",
     "text": [
      "INFO:root:Listing stix_relations with {type: indicates, from_id: f87e99b2-bb39-494f-909b-3f0133b1e724, to_id: d380cf57-9810-438b-bb25-a652aaca9ab2}\n",
      "INFO:root:Reading Report {1f2cbc39-8893-4bec-9c59-b9f8fba67062}.\n",
      "INFO:root:Adding Stix-Entity {9e6984b2-9377-41bb-9c48-89251e84e314} to Report {1f2cbc39-8893-4bec-9c59-b9f8fba67062}\n",
      "C:\\ProgramData\\Anaconda3\\lib\\site-packages\\ipykernel_launcher.py:300: DeprecationWarning: Call to deprecated method get_stix_domain_entity. (Replaced by the StixDomainEntity class in pycti) -- Deprecated since version 2.1.0.\n",
      "INFO:root:Reading Stix-Domain-Entity {b28e37e7-654e-4ffd-aae5-c1fc7b6110c6}.\n",
      "C:\\ProgramData\\Anaconda3\\lib\\site-packages\\ipykernel_launcher.py:303: DeprecationWarning: Call to deprecated method get_stix_domain_entity. (Replaced by the StixDomainEntity class in pycti) -- Deprecated since version 2.1.0.\n",
      "INFO:root:Reading Stix-Domain-Entity {d380cf57-9810-438b-bb25-a652aaca9ab2}.\n"
     ]
    },
    {
     "name": "stdout",
     "output_type": "stream",
     "text": [
      "b28e37e7-654e-4ffd-aae5-c1fc7b6110c6\n",
      "d380cf57-9810-438b-bb25-a652aaca9ab2\n"
     ]
    },
    {
     "name": "stderr",
     "output_type": "stream",
     "text": [
      "INFO:root:Listing stix_relations with {type: indicates, from_id: b28e37e7-654e-4ffd-aae5-c1fc7b6110c6, to_id: d380cf57-9810-438b-bb25-a652aaca9ab2}\n",
      "INFO:root:Reading Report {1f2cbc39-8893-4bec-9c59-b9f8fba67062}.\n",
      "INFO:root:Adding Stix-Entity {7a0ba1df-6b76-441c-8ff3-6699694f9d9a} to Report {1f2cbc39-8893-4bec-9c59-b9f8fba67062}\n",
      "C:\\ProgramData\\Anaconda3\\lib\\site-packages\\ipykernel_launcher.py:300: DeprecationWarning: Call to deprecated method get_stix_domain_entity. (Replaced by the StixDomainEntity class in pycti) -- Deprecated since version 2.1.0.\n",
      "INFO:root:Reading Stix-Domain-Entity {d73b7575-5b15-4d15-aa8d-61d25afeb66f}.\n",
      "C:\\ProgramData\\Anaconda3\\lib\\site-packages\\ipykernel_launcher.py:303: DeprecationWarning: Call to deprecated method get_stix_domain_entity. (Replaced by the StixDomainEntity class in pycti) -- Deprecated since version 2.1.0.\n",
      "INFO:root:Reading Stix-Domain-Entity {d380cf57-9810-438b-bb25-a652aaca9ab2}.\n"
     ]
    },
    {
     "name": "stdout",
     "output_type": "stream",
     "text": [
      "d73b7575-5b15-4d15-aa8d-61d25afeb66f\n",
      "d380cf57-9810-438b-bb25-a652aaca9ab2\n"
     ]
    },
    {
     "name": "stderr",
     "output_type": "stream",
     "text": [
      "INFO:root:Listing stix_relations with {type: indicates, from_id: d73b7575-5b15-4d15-aa8d-61d25afeb66f, to_id: d380cf57-9810-438b-bb25-a652aaca9ab2}\n",
      "INFO:root:Reading Report {1f2cbc39-8893-4bec-9c59-b9f8fba67062}.\n",
      "INFO:root:Adding Stix-Entity {e99a913a-645b-4c9a-aa45-00d784b91bc9} to Report {1f2cbc39-8893-4bec-9c59-b9f8fba67062}\n",
      "C:\\ProgramData\\Anaconda3\\lib\\site-packages\\ipykernel_launcher.py:300: DeprecationWarning: Call to deprecated method get_stix_domain_entity. (Replaced by the StixDomainEntity class in pycti) -- Deprecated since version 2.1.0.\n",
      "INFO:root:Reading Stix-Domain-Entity {5f0f09e1-45c0-44ee-8a8c-98206e3ffa7f}.\n",
      "C:\\ProgramData\\Anaconda3\\lib\\site-packages\\ipykernel_launcher.py:303: DeprecationWarning: Call to deprecated method get_stix_domain_entity. (Replaced by the StixDomainEntity class in pycti) -- Deprecated since version 2.1.0.\n",
      "INFO:root:Reading Stix-Domain-Entity {d380cf57-9810-438b-bb25-a652aaca9ab2}.\n"
     ]
    },
    {
     "name": "stdout",
     "output_type": "stream",
     "text": [
      "5f0f09e1-45c0-44ee-8a8c-98206e3ffa7f\n",
      "d380cf57-9810-438b-bb25-a652aaca9ab2\n"
     ]
    },
    {
     "name": "stderr",
     "output_type": "stream",
     "text": [
      "INFO:root:Listing stix_relations with {type: indicates, from_id: 5f0f09e1-45c0-44ee-8a8c-98206e3ffa7f, to_id: d380cf57-9810-438b-bb25-a652aaca9ab2}\n",
      "INFO:root:Reading Report {1f2cbc39-8893-4bec-9c59-b9f8fba67062}.\n",
      "INFO:root:Adding Stix-Entity {12a32e9d-86fb-4055-9675-0d7e2f6cea2d} to Report {1f2cbc39-8893-4bec-9c59-b9f8fba67062}\n",
      "C:\\ProgramData\\Anaconda3\\lib\\site-packages\\ipykernel_launcher.py:300: DeprecationWarning: Call to deprecated method get_stix_domain_entity. (Replaced by the StixDomainEntity class in pycti) -- Deprecated since version 2.1.0.\n",
      "INFO:root:Reading Stix-Domain-Entity {d1390805-54ba-48b5-b0bd-31a40d5fa5e8}.\n",
      "C:\\ProgramData\\Anaconda3\\lib\\site-packages\\ipykernel_launcher.py:303: DeprecationWarning: Call to deprecated method get_stix_domain_entity. (Replaced by the StixDomainEntity class in pycti) -- Deprecated since version 2.1.0.\n",
      "INFO:root:Reading Stix-Domain-Entity {d380cf57-9810-438b-bb25-a652aaca9ab2}.\n"
     ]
    },
    {
     "name": "stdout",
     "output_type": "stream",
     "text": [
      "d1390805-54ba-48b5-b0bd-31a40d5fa5e8\n",
      "d380cf57-9810-438b-bb25-a652aaca9ab2\n"
     ]
    },
    {
     "name": "stderr",
     "output_type": "stream",
     "text": [
      "INFO:root:Listing stix_relations with {type: indicates, from_id: d1390805-54ba-48b5-b0bd-31a40d5fa5e8, to_id: d380cf57-9810-438b-bb25-a652aaca9ab2}\n",
      "INFO:root:Reading Report {1f2cbc39-8893-4bec-9c59-b9f8fba67062}.\n",
      "INFO:root:Adding Stix-Entity {e2e412cb-cc2d-4ef4-93d4-db82ffcd8755} to Report {1f2cbc39-8893-4bec-9c59-b9f8fba67062}\n",
      "C:\\ProgramData\\Anaconda3\\lib\\site-packages\\ipykernel_launcher.py:300: DeprecationWarning: Call to deprecated method get_stix_domain_entity. (Replaced by the StixDomainEntity class in pycti) -- Deprecated since version 2.1.0.\n",
      "INFO:root:Reading Stix-Domain-Entity {c14ef091-ce29-4a5e-ae6b-fa91488aa07d}.\n",
      "C:\\ProgramData\\Anaconda3\\lib\\site-packages\\ipykernel_launcher.py:303: DeprecationWarning: Call to deprecated method get_stix_domain_entity. (Replaced by the StixDomainEntity class in pycti) -- Deprecated since version 2.1.0.\n",
      "INFO:root:Reading Stix-Domain-Entity {d380cf57-9810-438b-bb25-a652aaca9ab2}.\n"
     ]
    },
    {
     "name": "stdout",
     "output_type": "stream",
     "text": [
      "c14ef091-ce29-4a5e-ae6b-fa91488aa07d\n",
      "d380cf57-9810-438b-bb25-a652aaca9ab2\n"
     ]
    },
    {
     "name": "stderr",
     "output_type": "stream",
     "text": [
      "INFO:root:Listing stix_relations with {type: indicates, from_id: c14ef091-ce29-4a5e-ae6b-fa91488aa07d, to_id: d380cf57-9810-438b-bb25-a652aaca9ab2}\n",
      "INFO:root:Reading Report {1f2cbc39-8893-4bec-9c59-b9f8fba67062}.\n",
      "INFO:root:Adding Stix-Entity {beb45313-2082-4606-bcba-16dd32dbc848} to Report {1f2cbc39-8893-4bec-9c59-b9f8fba67062}\n",
      "C:\\ProgramData\\Anaconda3\\lib\\site-packages\\ipykernel_launcher.py:300: DeprecationWarning: Call to deprecated method get_stix_domain_entity. (Replaced by the StixDomainEntity class in pycti) -- Deprecated since version 2.1.0.\n",
      "INFO:root:Reading Stix-Domain-Entity {f60fefc3-0b8c-43a1-a839-49ac299e9a63}.\n",
      "C:\\ProgramData\\Anaconda3\\lib\\site-packages\\ipykernel_launcher.py:303: DeprecationWarning: Call to deprecated method get_stix_domain_entity. (Replaced by the StixDomainEntity class in pycti) -- Deprecated since version 2.1.0.\n",
      "INFO:root:Reading Stix-Domain-Entity {d380cf57-9810-438b-bb25-a652aaca9ab2}.\n"
     ]
    },
    {
     "name": "stdout",
     "output_type": "stream",
     "text": [
      "f60fefc3-0b8c-43a1-a839-49ac299e9a63\n",
      "d380cf57-9810-438b-bb25-a652aaca9ab2\n"
     ]
    },
    {
     "name": "stderr",
     "output_type": "stream",
     "text": [
      "INFO:root:Listing stix_relations with {type: indicates, from_id: f60fefc3-0b8c-43a1-a839-49ac299e9a63, to_id: d380cf57-9810-438b-bb25-a652aaca9ab2}\n",
      "INFO:root:Reading Report {1f2cbc39-8893-4bec-9c59-b9f8fba67062}.\n",
      "INFO:root:Adding Stix-Entity {70017d3f-e6b1-4f3b-9298-2c77d913a69b} to Report {1f2cbc39-8893-4bec-9c59-b9f8fba67062}\n",
      "C:\\ProgramData\\Anaconda3\\lib\\site-packages\\ipykernel_launcher.py:300: DeprecationWarning: Call to deprecated method get_stix_domain_entity. (Replaced by the StixDomainEntity class in pycti) -- Deprecated since version 2.1.0.\n",
      "INFO:root:Reading Stix-Domain-Entity {d6794fd7-a683-4328-b97a-7d5a2979ad71}.\n",
      "C:\\ProgramData\\Anaconda3\\lib\\site-packages\\ipykernel_launcher.py:303: DeprecationWarning: Call to deprecated method get_stix_domain_entity. (Replaced by the StixDomainEntity class in pycti) -- Deprecated since version 2.1.0.\n",
      "INFO:root:Reading Stix-Domain-Entity {d380cf57-9810-438b-bb25-a652aaca9ab2}.\n"
     ]
    },
    {
     "name": "stdout",
     "output_type": "stream",
     "text": [
      "d6794fd7-a683-4328-b97a-7d5a2979ad71\n",
      "d380cf57-9810-438b-bb25-a652aaca9ab2\n"
     ]
    },
    {
     "name": "stderr",
     "output_type": "stream",
     "text": [
      "INFO:root:Listing stix_relations with {type: indicates, from_id: d6794fd7-a683-4328-b97a-7d5a2979ad71, to_id: d380cf57-9810-438b-bb25-a652aaca9ab2}\n",
      "INFO:root:Reading Report {1f2cbc39-8893-4bec-9c59-b9f8fba67062}.\n",
      "INFO:root:Adding Stix-Entity {375fb3c1-5ffa-4987-8cb4-b4bece18ebe4} to Report {1f2cbc39-8893-4bec-9c59-b9f8fba67062}\n",
      "C:\\ProgramData\\Anaconda3\\lib\\site-packages\\ipykernel_launcher.py:300: DeprecationWarning: Call to deprecated method get_stix_domain_entity. (Replaced by the StixDomainEntity class in pycti) -- Deprecated since version 2.1.0.\n",
      "INFO:root:Reading Stix-Domain-Entity {d2a135dc-423c-4950-9cb6-76702e9643d4}.\n",
      "C:\\ProgramData\\Anaconda3\\lib\\site-packages\\ipykernel_launcher.py:303: DeprecationWarning: Call to deprecated method get_stix_domain_entity. (Replaced by the StixDomainEntity class in pycti) -- Deprecated since version 2.1.0.\n",
      "INFO:root:Reading Stix-Domain-Entity {d380cf57-9810-438b-bb25-a652aaca9ab2}.\n"
     ]
    },
    {
     "name": "stdout",
     "output_type": "stream",
     "text": [
      "d2a135dc-423c-4950-9cb6-76702e9643d4\n",
      "d380cf57-9810-438b-bb25-a652aaca9ab2\n"
     ]
    },
    {
     "name": "stderr",
     "output_type": "stream",
     "text": [
      "INFO:root:Listing stix_relations with {type: indicates, from_id: d2a135dc-423c-4950-9cb6-76702e9643d4, to_id: d380cf57-9810-438b-bb25-a652aaca9ab2}\n",
      "INFO:root:Reading Report {1f2cbc39-8893-4bec-9c59-b9f8fba67062}.\n",
      "INFO:root:Adding Stix-Entity {77d8616f-efae-4609-a6e0-c2bd41901271} to Report {1f2cbc39-8893-4bec-9c59-b9f8fba67062}\n",
      "C:\\ProgramData\\Anaconda3\\lib\\site-packages\\ipykernel_launcher.py:300: DeprecationWarning: Call to deprecated method get_stix_domain_entity. (Replaced by the StixDomainEntity class in pycti) -- Deprecated since version 2.1.0.\n",
      "INFO:root:Reading Stix-Domain-Entity {73db1ae5-8dcd-41fd-8eab-14c21c2c7744}.\n",
      "C:\\ProgramData\\Anaconda3\\lib\\site-packages\\ipykernel_launcher.py:303: DeprecationWarning: Call to deprecated method get_stix_domain_entity. (Replaced by the StixDomainEntity class in pycti) -- Deprecated since version 2.1.0.\n",
      "INFO:root:Reading Stix-Domain-Entity {d380cf57-9810-438b-bb25-a652aaca9ab2}.\n"
     ]
    },
    {
     "name": "stdout",
     "output_type": "stream",
     "text": [
      "73db1ae5-8dcd-41fd-8eab-14c21c2c7744\n",
      "d380cf57-9810-438b-bb25-a652aaca9ab2\n"
     ]
    },
    {
     "name": "stderr",
     "output_type": "stream",
     "text": [
      "INFO:root:Listing stix_relations with {type: indicates, from_id: 73db1ae5-8dcd-41fd-8eab-14c21c2c7744, to_id: d380cf57-9810-438b-bb25-a652aaca9ab2}\n",
      "INFO:root:Reading Report {1f2cbc39-8893-4bec-9c59-b9f8fba67062}.\n",
      "INFO:root:Adding Stix-Entity {68e23357-14d5-4ed5-9c45-4a39e3a557e3} to Report {1f2cbc39-8893-4bec-9c59-b9f8fba67062}\n",
      "C:\\ProgramData\\Anaconda3\\lib\\site-packages\\ipykernel_launcher.py:300: DeprecationWarning: Call to deprecated method get_stix_domain_entity. (Replaced by the StixDomainEntity class in pycti) -- Deprecated since version 2.1.0.\n",
      "INFO:root:Reading Stix-Domain-Entity {f169290a-7cab-4192-845c-4eae91127112}.\n",
      "C:\\ProgramData\\Anaconda3\\lib\\site-packages\\ipykernel_launcher.py:303: DeprecationWarning: Call to deprecated method get_stix_domain_entity. (Replaced by the StixDomainEntity class in pycti) -- Deprecated since version 2.1.0.\n",
      "INFO:root:Reading Stix-Domain-Entity {d380cf57-9810-438b-bb25-a652aaca9ab2}.\n"
     ]
    },
    {
     "name": "stdout",
     "output_type": "stream",
     "text": [
      "f169290a-7cab-4192-845c-4eae91127112\n",
      "d380cf57-9810-438b-bb25-a652aaca9ab2\n"
     ]
    },
    {
     "name": "stderr",
     "output_type": "stream",
     "text": [
      "INFO:root:Listing stix_relations with {type: indicates, from_id: f169290a-7cab-4192-845c-4eae91127112, to_id: d380cf57-9810-438b-bb25-a652aaca9ab2}\n",
      "INFO:root:Reading Report {1f2cbc39-8893-4bec-9c59-b9f8fba67062}.\n",
      "INFO:root:Adding Stix-Entity {217c1044-fea6-4132-a3c8-d9b61b23541a} to Report {1f2cbc39-8893-4bec-9c59-b9f8fba67062}\n",
      "C:\\ProgramData\\Anaconda3\\lib\\site-packages\\ipykernel_launcher.py:300: DeprecationWarning: Call to deprecated method get_stix_domain_entity. (Replaced by the StixDomainEntity class in pycti) -- Deprecated since version 2.1.0.\n",
      "INFO:root:Reading Stix-Domain-Entity {0d314eef-2be6-4ee3-8413-de4dd1684824}.\n",
      "C:\\ProgramData\\Anaconda3\\lib\\site-packages\\ipykernel_launcher.py:303: DeprecationWarning: Call to deprecated method get_stix_domain_entity. (Replaced by the StixDomainEntity class in pycti) -- Deprecated since version 2.1.0.\n",
      "INFO:root:Reading Stix-Domain-Entity {d380cf57-9810-438b-bb25-a652aaca9ab2}.\n"
     ]
    },
    {
     "name": "stdout",
     "output_type": "stream",
     "text": [
      "0d314eef-2be6-4ee3-8413-de4dd1684824\n",
      "d380cf57-9810-438b-bb25-a652aaca9ab2\n"
     ]
    },
    {
     "name": "stderr",
     "output_type": "stream",
     "text": [
      "INFO:root:Listing stix_relations with {type: indicates, from_id: 0d314eef-2be6-4ee3-8413-de4dd1684824, to_id: d380cf57-9810-438b-bb25-a652aaca9ab2}\n",
      "INFO:root:Reading Report {1f2cbc39-8893-4bec-9c59-b9f8fba67062}.\n",
      "INFO:root:Adding Stix-Entity {c8b9fc9f-1904-42ca-9f62-850788785019} to Report {1f2cbc39-8893-4bec-9c59-b9f8fba67062}\n",
      "C:\\ProgramData\\Anaconda3\\lib\\site-packages\\ipykernel_launcher.py:300: DeprecationWarning: Call to deprecated method get_stix_domain_entity. (Replaced by the StixDomainEntity class in pycti) -- Deprecated since version 2.1.0.\n",
      "INFO:root:Reading Stix-Domain-Entity {d4b7f77f-9497-4bbc-89c8-e2ab87d5a6ab}.\n",
      "C:\\ProgramData\\Anaconda3\\lib\\site-packages\\ipykernel_launcher.py:303: DeprecationWarning: Call to deprecated method get_stix_domain_entity. (Replaced by the StixDomainEntity class in pycti) -- Deprecated since version 2.1.0.\n",
      "INFO:root:Reading Stix-Domain-Entity {d380cf57-9810-438b-bb25-a652aaca9ab2}.\n"
     ]
    },
    {
     "name": "stdout",
     "output_type": "stream",
     "text": [
      "d4b7f77f-9497-4bbc-89c8-e2ab87d5a6ab\n",
      "d380cf57-9810-438b-bb25-a652aaca9ab2\n"
     ]
    },
    {
     "name": "stderr",
     "output_type": "stream",
     "text": [
      "INFO:root:Listing stix_relations with {type: indicates, from_id: d4b7f77f-9497-4bbc-89c8-e2ab87d5a6ab, to_id: d380cf57-9810-438b-bb25-a652aaca9ab2}\n",
      "INFO:root:Reading Report {1f2cbc39-8893-4bec-9c59-b9f8fba67062}.\n",
      "INFO:root:Adding Stix-Entity {199ddab7-bfa4-4bf3-bdb2-74ac10d60851} to Report {1f2cbc39-8893-4bec-9c59-b9f8fba67062}\n",
      "C:\\ProgramData\\Anaconda3\\lib\\site-packages\\ipykernel_launcher.py:300: DeprecationWarning: Call to deprecated method get_stix_domain_entity. (Replaced by the StixDomainEntity class in pycti) -- Deprecated since version 2.1.0.\n",
      "INFO:root:Reading Stix-Domain-Entity {1e7ced89-7209-4729-9f10-ba69cf15a6a7}.\n",
      "C:\\ProgramData\\Anaconda3\\lib\\site-packages\\ipykernel_launcher.py:303: DeprecationWarning: Call to deprecated method get_stix_domain_entity. (Replaced by the StixDomainEntity class in pycti) -- Deprecated since version 2.1.0.\n",
      "INFO:root:Reading Stix-Domain-Entity {d380cf57-9810-438b-bb25-a652aaca9ab2}.\n"
     ]
    },
    {
     "name": "stdout",
     "output_type": "stream",
     "text": [
      "1e7ced89-7209-4729-9f10-ba69cf15a6a7\n",
      "d380cf57-9810-438b-bb25-a652aaca9ab2\n"
     ]
    },
    {
     "name": "stderr",
     "output_type": "stream",
     "text": [
      "INFO:root:Listing stix_relations with {type: indicates, from_id: 1e7ced89-7209-4729-9f10-ba69cf15a6a7, to_id: d380cf57-9810-438b-bb25-a652aaca9ab2}\n",
      "INFO:root:Reading Report {1f2cbc39-8893-4bec-9c59-b9f8fba67062}.\n",
      "INFO:root:Adding Stix-Entity {915d72b7-786b-4ef5-a9b7-e904d3c74dd3} to Report {1f2cbc39-8893-4bec-9c59-b9f8fba67062}\n",
      "C:\\ProgramData\\Anaconda3\\lib\\site-packages\\ipykernel_launcher.py:300: DeprecationWarning: Call to deprecated method get_stix_domain_entity. (Replaced by the StixDomainEntity class in pycti) -- Deprecated since version 2.1.0.\n",
      "INFO:root:Reading Stix-Domain-Entity {ade04b83-29a8-4ecf-a486-3e7decdbd7a3}.\n",
      "C:\\ProgramData\\Anaconda3\\lib\\site-packages\\ipykernel_launcher.py:303: DeprecationWarning: Call to deprecated method get_stix_domain_entity. (Replaced by the StixDomainEntity class in pycti) -- Deprecated since version 2.1.0.\n",
      "INFO:root:Reading Stix-Domain-Entity {d380cf57-9810-438b-bb25-a652aaca9ab2}.\n"
     ]
    },
    {
     "name": "stdout",
     "output_type": "stream",
     "text": [
      "ade04b83-29a8-4ecf-a486-3e7decdbd7a3\n",
      "d380cf57-9810-438b-bb25-a652aaca9ab2\n"
     ]
    },
    {
     "name": "stderr",
     "output_type": "stream",
     "text": [
      "INFO:root:Listing stix_relations with {type: indicates, from_id: ade04b83-29a8-4ecf-a486-3e7decdbd7a3, to_id: d380cf57-9810-438b-bb25-a652aaca9ab2}\n",
      "INFO:root:Reading Report {1f2cbc39-8893-4bec-9c59-b9f8fba67062}.\n",
      "INFO:root:Adding Stix-Entity {9de8a99e-9b60-4ca8-bd17-5781f5e58502} to Report {1f2cbc39-8893-4bec-9c59-b9f8fba67062}\n",
      "C:\\ProgramData\\Anaconda3\\lib\\site-packages\\ipykernel_launcher.py:300: DeprecationWarning: Call to deprecated method get_stix_domain_entity. (Replaced by the StixDomainEntity class in pycti) -- Deprecated since version 2.1.0.\n",
      "INFO:root:Reading Stix-Domain-Entity {11bfef3d-a1fe-4560-a470-9038325b2048}.\n",
      "C:\\ProgramData\\Anaconda3\\lib\\site-packages\\ipykernel_launcher.py:303: DeprecationWarning: Call to deprecated method get_stix_domain_entity. (Replaced by the StixDomainEntity class in pycti) -- Deprecated since version 2.1.0.\n",
      "INFO:root:Reading Stix-Domain-Entity {d380cf57-9810-438b-bb25-a652aaca9ab2}.\n"
     ]
    },
    {
     "name": "stdout",
     "output_type": "stream",
     "text": [
      "11bfef3d-a1fe-4560-a470-9038325b2048\n",
      "d380cf57-9810-438b-bb25-a652aaca9ab2\n"
     ]
    },
    {
     "name": "stderr",
     "output_type": "stream",
     "text": [
      "INFO:root:Listing stix_relations with {type: indicates, from_id: 11bfef3d-a1fe-4560-a470-9038325b2048, to_id: d380cf57-9810-438b-bb25-a652aaca9ab2}\n",
      "INFO:root:Reading Report {1f2cbc39-8893-4bec-9c59-b9f8fba67062}.\n",
      "INFO:root:Adding Stix-Entity {aa4f88ca-9bd0-4ac7-ba7e-8873f0144400} to Report {1f2cbc39-8893-4bec-9c59-b9f8fba67062}\n",
      "C:\\ProgramData\\Anaconda3\\lib\\site-packages\\ipykernel_launcher.py:300: DeprecationWarning: Call to deprecated method get_stix_domain_entity. (Replaced by the StixDomainEntity class in pycti) -- Deprecated since version 2.1.0.\n",
      "INFO:root:Reading Stix-Domain-Entity {de305cb5-1b59-4fb0-bbcf-1aed2d220e95}.\n",
      "C:\\ProgramData\\Anaconda3\\lib\\site-packages\\ipykernel_launcher.py:303: DeprecationWarning: Call to deprecated method get_stix_domain_entity. (Replaced by the StixDomainEntity class in pycti) -- Deprecated since version 2.1.0.\n",
      "INFO:root:Reading Stix-Domain-Entity {d380cf57-9810-438b-bb25-a652aaca9ab2}.\n"
     ]
    },
    {
     "name": "stdout",
     "output_type": "stream",
     "text": [
      "de305cb5-1b59-4fb0-bbcf-1aed2d220e95\n",
      "d380cf57-9810-438b-bb25-a652aaca9ab2\n"
     ]
    },
    {
     "name": "stderr",
     "output_type": "stream",
     "text": [
      "INFO:root:Listing stix_relations with {type: indicates, from_id: de305cb5-1b59-4fb0-bbcf-1aed2d220e95, to_id: d380cf57-9810-438b-bb25-a652aaca9ab2}\n",
      "INFO:root:Reading Report {1f2cbc39-8893-4bec-9c59-b9f8fba67062}.\n",
      "INFO:root:Adding Stix-Entity {df91345b-c0e4-499b-b26e-6119c7f33254} to Report {1f2cbc39-8893-4bec-9c59-b9f8fba67062}\n",
      "C:\\ProgramData\\Anaconda3\\lib\\site-packages\\ipykernel_launcher.py:300: DeprecationWarning: Call to deprecated method get_stix_domain_entity. (Replaced by the StixDomainEntity class in pycti) -- Deprecated since version 2.1.0.\n",
      "INFO:root:Reading Stix-Domain-Entity {1e01de5c-fde1-4285-9e11-4f7de7b2aa84}.\n",
      "C:\\ProgramData\\Anaconda3\\lib\\site-packages\\ipykernel_launcher.py:303: DeprecationWarning: Call to deprecated method get_stix_domain_entity. (Replaced by the StixDomainEntity class in pycti) -- Deprecated since version 2.1.0.\n",
      "INFO:root:Reading Stix-Domain-Entity {d380cf57-9810-438b-bb25-a652aaca9ab2}.\n"
     ]
    },
    {
     "name": "stdout",
     "output_type": "stream",
     "text": [
      "1e01de5c-fde1-4285-9e11-4f7de7b2aa84\n",
      "d380cf57-9810-438b-bb25-a652aaca9ab2\n"
     ]
    },
    {
     "name": "stderr",
     "output_type": "stream",
     "text": [
      "INFO:root:Listing stix_relations with {type: indicates, from_id: 1e01de5c-fde1-4285-9e11-4f7de7b2aa84, to_id: d380cf57-9810-438b-bb25-a652aaca9ab2}\n",
      "INFO:root:Reading Report {1f2cbc39-8893-4bec-9c59-b9f8fba67062}.\n",
      "INFO:root:Adding Stix-Entity {2a5b58be-dfa3-4af5-b676-45a6a61566a7} to Report {1f2cbc39-8893-4bec-9c59-b9f8fba67062}\n",
      "C:\\ProgramData\\Anaconda3\\lib\\site-packages\\ipykernel_launcher.py:300: DeprecationWarning: Call to deprecated method get_stix_domain_entity. (Replaced by the StixDomainEntity class in pycti) -- Deprecated since version 2.1.0.\n",
      "INFO:root:Reading Stix-Domain-Entity {2c01c491-e00f-4392-8b07-dc25c4e30f2d}.\n",
      "C:\\ProgramData\\Anaconda3\\lib\\site-packages\\ipykernel_launcher.py:303: DeprecationWarning: Call to deprecated method get_stix_domain_entity. (Replaced by the StixDomainEntity class in pycti) -- Deprecated since version 2.1.0.\n",
      "INFO:root:Reading Stix-Domain-Entity {d380cf57-9810-438b-bb25-a652aaca9ab2}.\n"
     ]
    },
    {
     "name": "stdout",
     "output_type": "stream",
     "text": [
      "2c01c491-e00f-4392-8b07-dc25c4e30f2d\n",
      "d380cf57-9810-438b-bb25-a652aaca9ab2\n"
     ]
    },
    {
     "name": "stderr",
     "output_type": "stream",
     "text": [
      "INFO:root:Listing stix_relations with {type: indicates, from_id: 2c01c491-e00f-4392-8b07-dc25c4e30f2d, to_id: d380cf57-9810-438b-bb25-a652aaca9ab2}\n",
      "INFO:root:Reading Report {1f2cbc39-8893-4bec-9c59-b9f8fba67062}.\n",
      "INFO:root:Adding Stix-Entity {7875757e-e01f-411f-8049-d4ceb0da62b6} to Report {1f2cbc39-8893-4bec-9c59-b9f8fba67062}\n",
      "C:\\ProgramData\\Anaconda3\\lib\\site-packages\\ipykernel_launcher.py:300: DeprecationWarning: Call to deprecated method get_stix_domain_entity. (Replaced by the StixDomainEntity class in pycti) -- Deprecated since version 2.1.0.\n",
      "INFO:root:Reading Stix-Domain-Entity {21ab4ef5-9297-4ae2-9fac-62b50ebbaac6}.\n",
      "C:\\ProgramData\\Anaconda3\\lib\\site-packages\\ipykernel_launcher.py:303: DeprecationWarning: Call to deprecated method get_stix_domain_entity. (Replaced by the StixDomainEntity class in pycti) -- Deprecated since version 2.1.0.\n",
      "INFO:root:Reading Stix-Domain-Entity {d380cf57-9810-438b-bb25-a652aaca9ab2}.\n"
     ]
    },
    {
     "name": "stdout",
     "output_type": "stream",
     "text": [
      "21ab4ef5-9297-4ae2-9fac-62b50ebbaac6\n",
      "d380cf57-9810-438b-bb25-a652aaca9ab2\n"
     ]
    },
    {
     "name": "stderr",
     "output_type": "stream",
     "text": [
      "INFO:root:Listing stix_relations with {type: indicates, from_id: 21ab4ef5-9297-4ae2-9fac-62b50ebbaac6, to_id: d380cf57-9810-438b-bb25-a652aaca9ab2}\n",
      "INFO:root:Reading Report {1f2cbc39-8893-4bec-9c59-b9f8fba67062}.\n",
      "INFO:root:Adding Stix-Entity {4d9c50f8-c379-43ee-b81b-99b98c2c6420} to Report {1f2cbc39-8893-4bec-9c59-b9f8fba67062}\n",
      "C:\\ProgramData\\Anaconda3\\lib\\site-packages\\ipykernel_launcher.py:300: DeprecationWarning: Call to deprecated method get_stix_domain_entity. (Replaced by the StixDomainEntity class in pycti) -- Deprecated since version 2.1.0.\n",
      "INFO:root:Reading Stix-Domain-Entity {74d0b648-ba9c-48f6-a6c9-56ce608f765e}.\n",
      "C:\\ProgramData\\Anaconda3\\lib\\site-packages\\ipykernel_launcher.py:303: DeprecationWarning: Call to deprecated method get_stix_domain_entity. (Replaced by the StixDomainEntity class in pycti) -- Deprecated since version 2.1.0.\n",
      "INFO:root:Reading Stix-Domain-Entity {d380cf57-9810-438b-bb25-a652aaca9ab2}.\n"
     ]
    },
    {
     "name": "stdout",
     "output_type": "stream",
     "text": [
      "74d0b648-ba9c-48f6-a6c9-56ce608f765e\n",
      "d380cf57-9810-438b-bb25-a652aaca9ab2\n"
     ]
    },
    {
     "name": "stderr",
     "output_type": "stream",
     "text": [
      "INFO:root:Listing stix_relations with {type: indicates, from_id: 74d0b648-ba9c-48f6-a6c9-56ce608f765e, to_id: d380cf57-9810-438b-bb25-a652aaca9ab2}\n",
      "INFO:root:Reading Report {1f2cbc39-8893-4bec-9c59-b9f8fba67062}.\n",
      "INFO:root:Adding Stix-Entity {093719f6-1cf9-4d1c-a73a-bed7a4680018} to Report {1f2cbc39-8893-4bec-9c59-b9f8fba67062}\n",
      "C:\\ProgramData\\Anaconda3\\lib\\site-packages\\ipykernel_launcher.py:300: DeprecationWarning: Call to deprecated method get_stix_domain_entity. (Replaced by the StixDomainEntity class in pycti) -- Deprecated since version 2.1.0.\n",
      "INFO:root:Reading Stix-Domain-Entity {bafbde6d-3399-440d-8b5b-9af8e95c8fd2}.\n",
      "C:\\ProgramData\\Anaconda3\\lib\\site-packages\\ipykernel_launcher.py:303: DeprecationWarning: Call to deprecated method get_stix_domain_entity. (Replaced by the StixDomainEntity class in pycti) -- Deprecated since version 2.1.0.\n",
      "INFO:root:Reading Stix-Domain-Entity {d380cf57-9810-438b-bb25-a652aaca9ab2}.\n"
     ]
    },
    {
     "name": "stdout",
     "output_type": "stream",
     "text": [
      "bafbde6d-3399-440d-8b5b-9af8e95c8fd2\n",
      "d380cf57-9810-438b-bb25-a652aaca9ab2\n"
     ]
    },
    {
     "name": "stderr",
     "output_type": "stream",
     "text": [
      "INFO:root:Listing stix_relations with {type: indicates, from_id: bafbde6d-3399-440d-8b5b-9af8e95c8fd2, to_id: d380cf57-9810-438b-bb25-a652aaca9ab2}\n",
      "INFO:root:Reading Report {1f2cbc39-8893-4bec-9c59-b9f8fba67062}.\n",
      "INFO:root:Adding Stix-Entity {4d85dfb3-a392-4401-9797-5f596b22b67f} to Report {1f2cbc39-8893-4bec-9c59-b9f8fba67062}\n",
      "C:\\ProgramData\\Anaconda3\\lib\\site-packages\\ipykernel_launcher.py:300: DeprecationWarning: Call to deprecated method get_stix_domain_entity. (Replaced by the StixDomainEntity class in pycti) -- Deprecated since version 2.1.0.\n",
      "INFO:root:Reading Stix-Domain-Entity {7ef823f1-0195-4b38-9dab-207e290ce510}.\n",
      "C:\\ProgramData\\Anaconda3\\lib\\site-packages\\ipykernel_launcher.py:303: DeprecationWarning: Call to deprecated method get_stix_domain_entity. (Replaced by the StixDomainEntity class in pycti) -- Deprecated since version 2.1.0.\n",
      "INFO:root:Reading Stix-Domain-Entity {d380cf57-9810-438b-bb25-a652aaca9ab2}.\n"
     ]
    },
    {
     "name": "stdout",
     "output_type": "stream",
     "text": [
      "7ef823f1-0195-4b38-9dab-207e290ce510\n",
      "d380cf57-9810-438b-bb25-a652aaca9ab2\n"
     ]
    },
    {
     "name": "stderr",
     "output_type": "stream",
     "text": [
      "INFO:root:Listing stix_relations with {type: indicates, from_id: 7ef823f1-0195-4b38-9dab-207e290ce510, to_id: d380cf57-9810-438b-bb25-a652aaca9ab2}\n",
      "INFO:root:Reading Report {1f2cbc39-8893-4bec-9c59-b9f8fba67062}.\n",
      "INFO:root:Adding Stix-Entity {6c47e23e-d081-4a9f-827c-a4f54d0dced3} to Report {1f2cbc39-8893-4bec-9c59-b9f8fba67062}\n",
      "C:\\ProgramData\\Anaconda3\\lib\\site-packages\\ipykernel_launcher.py:300: DeprecationWarning: Call to deprecated method get_stix_domain_entity. (Replaced by the StixDomainEntity class in pycti) -- Deprecated since version 2.1.0.\n",
      "INFO:root:Reading Stix-Domain-Entity {899f2aa3-74f1-4727-a09f-24e793eedcc8}.\n",
      "C:\\ProgramData\\Anaconda3\\lib\\site-packages\\ipykernel_launcher.py:303: DeprecationWarning: Call to deprecated method get_stix_domain_entity. (Replaced by the StixDomainEntity class in pycti) -- Deprecated since version 2.1.0.\n",
      "INFO:root:Reading Stix-Domain-Entity {d380cf57-9810-438b-bb25-a652aaca9ab2}.\n"
     ]
    },
    {
     "name": "stdout",
     "output_type": "stream",
     "text": [
      "899f2aa3-74f1-4727-a09f-24e793eedcc8\n",
      "d380cf57-9810-438b-bb25-a652aaca9ab2\n"
     ]
    },
    {
     "name": "stderr",
     "output_type": "stream",
     "text": [
      "INFO:root:Listing stix_relations with {type: indicates, from_id: 899f2aa3-74f1-4727-a09f-24e793eedcc8, to_id: d380cf57-9810-438b-bb25-a652aaca9ab2}\n",
      "INFO:root:Reading Report {1f2cbc39-8893-4bec-9c59-b9f8fba67062}.\n",
      "INFO:root:Adding Stix-Entity {203368db-8662-4dbf-acba-02614ffc3338} to Report {1f2cbc39-8893-4bec-9c59-b9f8fba67062}\n",
      "C:\\ProgramData\\Anaconda3\\lib\\site-packages\\ipykernel_launcher.py:300: DeprecationWarning: Call to deprecated method get_stix_domain_entity. (Replaced by the StixDomainEntity class in pycti) -- Deprecated since version 2.1.0.\n",
      "INFO:root:Reading Stix-Domain-Entity {26f2c760-8f92-4b12-a7f1-d8c76521f5f5}.\n",
      "C:\\ProgramData\\Anaconda3\\lib\\site-packages\\ipykernel_launcher.py:303: DeprecationWarning: Call to deprecated method get_stix_domain_entity. (Replaced by the StixDomainEntity class in pycti) -- Deprecated since version 2.1.0.\n",
      "INFO:root:Reading Stix-Domain-Entity {d380cf57-9810-438b-bb25-a652aaca9ab2}.\n"
     ]
    },
    {
     "name": "stdout",
     "output_type": "stream",
     "text": [
      "26f2c760-8f92-4b12-a7f1-d8c76521f5f5\n",
      "d380cf57-9810-438b-bb25-a652aaca9ab2\n"
     ]
    },
    {
     "name": "stderr",
     "output_type": "stream",
     "text": [
      "INFO:root:Listing stix_relations with {type: indicates, from_id: 26f2c760-8f92-4b12-a7f1-d8c76521f5f5, to_id: d380cf57-9810-438b-bb25-a652aaca9ab2}\n",
      "INFO:root:Reading Report {1f2cbc39-8893-4bec-9c59-b9f8fba67062}.\n",
      "INFO:root:Adding Stix-Entity {43234ade-9222-4f5b-bcc9-3ad8c24c67e8} to Report {1f2cbc39-8893-4bec-9c59-b9f8fba67062}\n",
      "C:\\ProgramData\\Anaconda3\\lib\\site-packages\\ipykernel_launcher.py:300: DeprecationWarning: Call to deprecated method get_stix_domain_entity. (Replaced by the StixDomainEntity class in pycti) -- Deprecated since version 2.1.0.\n",
      "INFO:root:Reading Stix-Domain-Entity {3803bcc7-f78b-4528-a181-be3884988380}.\n",
      "C:\\ProgramData\\Anaconda3\\lib\\site-packages\\ipykernel_launcher.py:303: DeprecationWarning: Call to deprecated method get_stix_domain_entity. (Replaced by the StixDomainEntity class in pycti) -- Deprecated since version 2.1.0.\n",
      "INFO:root:Reading Stix-Domain-Entity {d380cf57-9810-438b-bb25-a652aaca9ab2}.\n"
     ]
    },
    {
     "name": "stdout",
     "output_type": "stream",
     "text": [
      "3803bcc7-f78b-4528-a181-be3884988380\n",
      "d380cf57-9810-438b-bb25-a652aaca9ab2\n"
     ]
    },
    {
     "name": "stderr",
     "output_type": "stream",
     "text": [
      "INFO:root:Listing stix_relations with {type: indicates, from_id: 3803bcc7-f78b-4528-a181-be3884988380, to_id: d380cf57-9810-438b-bb25-a652aaca9ab2}\n",
      "INFO:root:Reading Report {1f2cbc39-8893-4bec-9c59-b9f8fba67062}.\n",
      "INFO:root:Adding Stix-Entity {9a3f363d-4210-46c7-9251-919a85c34089} to Report {1f2cbc39-8893-4bec-9c59-b9f8fba67062}\n",
      "C:\\ProgramData\\Anaconda3\\lib\\site-packages\\ipykernel_launcher.py:300: DeprecationWarning: Call to deprecated method get_stix_domain_entity. (Replaced by the StixDomainEntity class in pycti) -- Deprecated since version 2.1.0.\n",
      "INFO:root:Reading Stix-Domain-Entity {3803bcc7-f78b-4528-a181-be3884988380}.\n",
      "C:\\ProgramData\\Anaconda3\\lib\\site-packages\\ipykernel_launcher.py:303: DeprecationWarning: Call to deprecated method get_stix_domain_entity. (Replaced by the StixDomainEntity class in pycti) -- Deprecated since version 2.1.0.\n",
      "INFO:root:Reading Stix-Domain-Entity {d380cf57-9810-438b-bb25-a652aaca9ab2}.\n"
     ]
    },
    {
     "name": "stdout",
     "output_type": "stream",
     "text": [
      "3803bcc7-f78b-4528-a181-be3884988380\n",
      "d380cf57-9810-438b-bb25-a652aaca9ab2\n"
     ]
    },
    {
     "name": "stderr",
     "output_type": "stream",
     "text": [
      "INFO:root:Listing stix_relations with {type: indicates, from_id: 3803bcc7-f78b-4528-a181-be3884988380, to_id: d380cf57-9810-438b-bb25-a652aaca9ab2}\n",
      "INFO:root:Reading Report {1f2cbc39-8893-4bec-9c59-b9f8fba67062}.\n",
      "INFO:root:Adding Stix-Entity {9a3f363d-4210-46c7-9251-919a85c34089} to Report {1f2cbc39-8893-4bec-9c59-b9f8fba67062}\n",
      "ERROR:root:A database error has occured!\n",
      "C:\\ProgramData\\Anaconda3\\lib\\site-packages\\ipykernel_launcher.py:300: DeprecationWarning: Call to deprecated method get_stix_domain_entity. (Replaced by the StixDomainEntity class in pycti) -- Deprecated since version 2.1.0.\n",
      "INFO:root:Reading Stix-Domain-Entity {2d93631e-bf77-4378-acd9-c7dcec5e059b}.\n",
      "C:\\ProgramData\\Anaconda3\\lib\\site-packages\\ipykernel_launcher.py:303: DeprecationWarning: Call to deprecated method get_stix_domain_entity. (Replaced by the StixDomainEntity class in pycti) -- Deprecated since version 2.1.0.\n",
      "INFO:root:Reading Stix-Domain-Entity {d380cf57-9810-438b-bb25-a652aaca9ab2}.\n"
     ]
    },
    {
     "name": "stdout",
     "output_type": "stream",
     "text": [
      "2d93631e-bf77-4378-acd9-c7dcec5e059b\n",
      "d380cf57-9810-438b-bb25-a652aaca9ab2\n"
     ]
    },
    {
     "name": "stderr",
     "output_type": "stream",
     "text": [
      "INFO:root:Listing stix_relations with {type: indicates, from_id: 2d93631e-bf77-4378-acd9-c7dcec5e059b, to_id: d380cf57-9810-438b-bb25-a652aaca9ab2}\n",
      "INFO:root:Reading Report {1f2cbc39-8893-4bec-9c59-b9f8fba67062}.\n",
      "INFO:root:Adding Stix-Entity {6f230fda-08a3-4b47-b692-d1d49298b8f5} to Report {1f2cbc39-8893-4bec-9c59-b9f8fba67062}\n",
      "C:\\ProgramData\\Anaconda3\\lib\\site-packages\\ipykernel_launcher.py:300: DeprecationWarning: Call to deprecated method get_stix_domain_entity. (Replaced by the StixDomainEntity class in pycti) -- Deprecated since version 2.1.0.\n",
      "INFO:root:Reading Stix-Domain-Entity {dd3ba5d6-8c3e-45b2-9778-1c17af49a476}.\n"
     ]
    },
    {
     "name": "stdout",
     "output_type": "stream",
     "text": [
      "dd3ba5d6-8c3e-45b2-9778-1c17af49a476\n",
      "d380cf57-9810-438b-bb25-a652aaca9ab2\n"
     ]
    },
    {
     "name": "stderr",
     "output_type": "stream",
     "text": [
      "C:\\ProgramData\\Anaconda3\\lib\\site-packages\\ipykernel_launcher.py:303: DeprecationWarning: Call to deprecated method get_stix_domain_entity. (Replaced by the StixDomainEntity class in pycti) -- Deprecated since version 2.1.0.\n",
      "INFO:root:Reading Stix-Domain-Entity {d380cf57-9810-438b-bb25-a652aaca9ab2}.\n",
      "INFO:root:Listing stix_relations with {type: indicates, from_id: dd3ba5d6-8c3e-45b2-9778-1c17af49a476, to_id: d380cf57-9810-438b-bb25-a652aaca9ab2}\n",
      "INFO:root:Reading Report {1f2cbc39-8893-4bec-9c59-b9f8fba67062}.\n",
      "INFO:root:Adding Stix-Entity {442d0a27-6616-423a-9f86-09d48874b578} to Report {1f2cbc39-8893-4bec-9c59-b9f8fba67062}\n",
      "C:\\ProgramData\\Anaconda3\\lib\\site-packages\\ipykernel_launcher.py:300: DeprecationWarning: Call to deprecated method get_stix_domain_entity. (Replaced by the StixDomainEntity class in pycti) -- Deprecated since version 2.1.0.\n",
      "INFO:root:Reading Stix-Domain-Entity {782d43fa-2c17-4010-97dd-7e7d3ec6d9e1}.\n",
      "C:\\ProgramData\\Anaconda3\\lib\\site-packages\\ipykernel_launcher.py:303: DeprecationWarning: Call to deprecated method get_stix_domain_entity. (Replaced by the StixDomainEntity class in pycti) -- Deprecated since version 2.1.0.\n",
      "INFO:root:Reading Stix-Domain-Entity {d380cf57-9810-438b-bb25-a652aaca9ab2}.\n"
     ]
    },
    {
     "name": "stdout",
     "output_type": "stream",
     "text": [
      "782d43fa-2c17-4010-97dd-7e7d3ec6d9e1\n",
      "d380cf57-9810-438b-bb25-a652aaca9ab2\n"
     ]
    },
    {
     "name": "stderr",
     "output_type": "stream",
     "text": [
      "INFO:root:Listing stix_relations with {type: indicates, from_id: 782d43fa-2c17-4010-97dd-7e7d3ec6d9e1, to_id: d380cf57-9810-438b-bb25-a652aaca9ab2}\n",
      "INFO:root:Reading Report {1f2cbc39-8893-4bec-9c59-b9f8fba67062}.\n",
      "INFO:root:Adding Stix-Entity {eda565fc-5501-4e0b-82a1-8d5fcad81c44} to Report {1f2cbc39-8893-4bec-9c59-b9f8fba67062}\n",
      "C:\\ProgramData\\Anaconda3\\lib\\site-packages\\ipykernel_launcher.py:300: DeprecationWarning: Call to deprecated method get_stix_domain_entity. (Replaced by the StixDomainEntity class in pycti) -- Deprecated since version 2.1.0.\n",
      "INFO:root:Reading Stix-Domain-Entity {dc64a28f-b671-4997-81fc-6cf1caa9b9ff}.\n",
      "C:\\ProgramData\\Anaconda3\\lib\\site-packages\\ipykernel_launcher.py:303: DeprecationWarning: Call to deprecated method get_stix_domain_entity. (Replaced by the StixDomainEntity class in pycti) -- Deprecated since version 2.1.0.\n",
      "INFO:root:Reading Stix-Domain-Entity {d380cf57-9810-438b-bb25-a652aaca9ab2}.\n"
     ]
    },
    {
     "name": "stdout",
     "output_type": "stream",
     "text": [
      "dc64a28f-b671-4997-81fc-6cf1caa9b9ff\n",
      "d380cf57-9810-438b-bb25-a652aaca9ab2\n"
     ]
    },
    {
     "name": "stderr",
     "output_type": "stream",
     "text": [
      "INFO:root:Listing stix_relations with {type: indicates, from_id: dc64a28f-b671-4997-81fc-6cf1caa9b9ff, to_id: d380cf57-9810-438b-bb25-a652aaca9ab2}\n",
      "INFO:root:Reading Report {1f2cbc39-8893-4bec-9c59-b9f8fba67062}.\n",
      "INFO:root:Adding Stix-Entity {2a69657a-bc07-4590-aa70-3591a90c2445} to Report {1f2cbc39-8893-4bec-9c59-b9f8fba67062}\n",
      "C:\\ProgramData\\Anaconda3\\lib\\site-packages\\ipykernel_launcher.py:300: DeprecationWarning: Call to deprecated method get_stix_domain_entity. (Replaced by the StixDomainEntity class in pycti) -- Deprecated since version 2.1.0.\n",
      "INFO:root:Reading Stix-Domain-Entity {e322676c-00a4-42dd-9329-26a7170caf00}.\n",
      "C:\\ProgramData\\Anaconda3\\lib\\site-packages\\ipykernel_launcher.py:303: DeprecationWarning: Call to deprecated method get_stix_domain_entity. (Replaced by the StixDomainEntity class in pycti) -- Deprecated since version 2.1.0.\n",
      "INFO:root:Reading Stix-Domain-Entity {d380cf57-9810-438b-bb25-a652aaca9ab2}.\n"
     ]
    },
    {
     "name": "stdout",
     "output_type": "stream",
     "text": [
      "e322676c-00a4-42dd-9329-26a7170caf00\n",
      "d380cf57-9810-438b-bb25-a652aaca9ab2\n"
     ]
    },
    {
     "name": "stderr",
     "output_type": "stream",
     "text": [
      "INFO:root:Listing stix_relations with {type: indicates, from_id: e322676c-00a4-42dd-9329-26a7170caf00, to_id: d380cf57-9810-438b-bb25-a652aaca9ab2}\n",
      "INFO:root:Reading Report {1f2cbc39-8893-4bec-9c59-b9f8fba67062}.\n",
      "INFO:root:Adding Stix-Entity {dfb2c3fa-a5a6-4bb3-8625-7a9905db2ef9} to Report {1f2cbc39-8893-4bec-9c59-b9f8fba67062}\n",
      "C:\\ProgramData\\Anaconda3\\lib\\site-packages\\ipykernel_launcher.py:300: DeprecationWarning: Call to deprecated method get_stix_domain_entity. (Replaced by the StixDomainEntity class in pycti) -- Deprecated since version 2.1.0.\n",
      "INFO:root:Reading Stix-Domain-Entity {e6df31a7-f561-4804-9abb-422dc45159a1}.\n",
      "C:\\ProgramData\\Anaconda3\\lib\\site-packages\\ipykernel_launcher.py:303: DeprecationWarning: Call to deprecated method get_stix_domain_entity. (Replaced by the StixDomainEntity class in pycti) -- Deprecated since version 2.1.0.\n",
      "INFO:root:Reading Stix-Domain-Entity {d380cf57-9810-438b-bb25-a652aaca9ab2}.\n"
     ]
    },
    {
     "name": "stdout",
     "output_type": "stream",
     "text": [
      "e6df31a7-f561-4804-9abb-422dc45159a1\n",
      "d380cf57-9810-438b-bb25-a652aaca9ab2\n"
     ]
    },
    {
     "name": "stderr",
     "output_type": "stream",
     "text": [
      "INFO:root:Listing stix_relations with {type: indicates, from_id: e6df31a7-f561-4804-9abb-422dc45159a1, to_id: d380cf57-9810-438b-bb25-a652aaca9ab2}\n",
      "INFO:root:Reading Report {1f2cbc39-8893-4bec-9c59-b9f8fba67062}.\n",
      "INFO:root:Adding Stix-Entity {d8a4fc4c-63e1-4d51-902a-66c1b4bbd772} to Report {1f2cbc39-8893-4bec-9c59-b9f8fba67062}\n",
      "C:\\ProgramData\\Anaconda3\\lib\\site-packages\\ipykernel_launcher.py:300: DeprecationWarning: Call to deprecated method get_stix_domain_entity. (Replaced by the StixDomainEntity class in pycti) -- Deprecated since version 2.1.0.\n",
      "INFO:root:Reading Stix-Domain-Entity {9bf4bff1-fe60-4287-844e-a31fdd7779f2}.\n",
      "C:\\ProgramData\\Anaconda3\\lib\\site-packages\\ipykernel_launcher.py:303: DeprecationWarning: Call to deprecated method get_stix_domain_entity. (Replaced by the StixDomainEntity class in pycti) -- Deprecated since version 2.1.0.\n",
      "INFO:root:Reading Stix-Domain-Entity {d380cf57-9810-438b-bb25-a652aaca9ab2}.\n"
     ]
    },
    {
     "name": "stdout",
     "output_type": "stream",
     "text": [
      "9bf4bff1-fe60-4287-844e-a31fdd7779f2\n",
      "d380cf57-9810-438b-bb25-a652aaca9ab2\n"
     ]
    },
    {
     "name": "stderr",
     "output_type": "stream",
     "text": [
      "INFO:root:Listing stix_relations with {type: indicates, from_id: 9bf4bff1-fe60-4287-844e-a31fdd7779f2, to_id: d380cf57-9810-438b-bb25-a652aaca9ab2}\n",
      "INFO:root:Reading Report {1f2cbc39-8893-4bec-9c59-b9f8fba67062}.\n",
      "INFO:root:Adding Stix-Entity {81ef9f2d-0f6c-48ed-9c1e-9a4226abdb82} to Report {1f2cbc39-8893-4bec-9c59-b9f8fba67062}\n",
      "C:\\ProgramData\\Anaconda3\\lib\\site-packages\\ipykernel_launcher.py:300: DeprecationWarning: Call to deprecated method get_stix_domain_entity. (Replaced by the StixDomainEntity class in pycti) -- Deprecated since version 2.1.0.\n",
      "INFO:root:Reading Stix-Domain-Entity {a63b2da0-1886-4e9a-b7c2-54626c6ee6fe}.\n",
      "C:\\ProgramData\\Anaconda3\\lib\\site-packages\\ipykernel_launcher.py:303: DeprecationWarning: Call to deprecated method get_stix_domain_entity. (Replaced by the StixDomainEntity class in pycti) -- Deprecated since version 2.1.0.\n",
      "INFO:root:Reading Stix-Domain-Entity {d380cf57-9810-438b-bb25-a652aaca9ab2}.\n"
     ]
    },
    {
     "name": "stdout",
     "output_type": "stream",
     "text": [
      "a63b2da0-1886-4e9a-b7c2-54626c6ee6fe\n",
      "d380cf57-9810-438b-bb25-a652aaca9ab2\n"
     ]
    },
    {
     "name": "stderr",
     "output_type": "stream",
     "text": [
      "INFO:root:Listing stix_relations with {type: indicates, from_id: a63b2da0-1886-4e9a-b7c2-54626c6ee6fe, to_id: d380cf57-9810-438b-bb25-a652aaca9ab2}\n",
      "INFO:root:Reading Report {1f2cbc39-8893-4bec-9c59-b9f8fba67062}.\n",
      "INFO:root:Adding Stix-Entity {dcfc760d-9b99-4a0e-9124-f6036e329eff} to Report {1f2cbc39-8893-4bec-9c59-b9f8fba67062}\n",
      "C:\\ProgramData\\Anaconda3\\lib\\site-packages\\ipykernel_launcher.py:300: DeprecationWarning: Call to deprecated method get_stix_domain_entity. (Replaced by the StixDomainEntity class in pycti) -- Deprecated since version 2.1.0.\n",
      "INFO:root:Reading Stix-Domain-Entity {4a5d8135-8133-4567-ba98-1346abf484d0}.\n",
      "C:\\ProgramData\\Anaconda3\\lib\\site-packages\\ipykernel_launcher.py:303: DeprecationWarning: Call to deprecated method get_stix_domain_entity. (Replaced by the StixDomainEntity class in pycti) -- Deprecated since version 2.1.0.\n",
      "INFO:root:Reading Stix-Domain-Entity {d380cf57-9810-438b-bb25-a652aaca9ab2}.\n"
     ]
    },
    {
     "name": "stdout",
     "output_type": "stream",
     "text": [
      "4a5d8135-8133-4567-ba98-1346abf484d0\n",
      "d380cf57-9810-438b-bb25-a652aaca9ab2\n"
     ]
    },
    {
     "name": "stderr",
     "output_type": "stream",
     "text": [
      "INFO:root:Listing stix_relations with {type: indicates, from_id: 4a5d8135-8133-4567-ba98-1346abf484d0, to_id: d380cf57-9810-438b-bb25-a652aaca9ab2}\n",
      "INFO:root:Reading Report {1f2cbc39-8893-4bec-9c59-b9f8fba67062}.\n",
      "INFO:root:Adding Stix-Entity {7bb90a52-2259-4a66-b57c-30b3ae9f3bcf} to Report {1f2cbc39-8893-4bec-9c59-b9f8fba67062}\n",
      "C:\\ProgramData\\Anaconda3\\lib\\site-packages\\ipykernel_launcher.py:300: DeprecationWarning: Call to deprecated method get_stix_domain_entity. (Replaced by the StixDomainEntity class in pycti) -- Deprecated since version 2.1.0.\n",
      "INFO:root:Reading Stix-Domain-Entity {8f5bc80d-30ca-4c10-b294-27dad63d3061}.\n",
      "C:\\ProgramData\\Anaconda3\\lib\\site-packages\\ipykernel_launcher.py:303: DeprecationWarning: Call to deprecated method get_stix_domain_entity. (Replaced by the StixDomainEntity class in pycti) -- Deprecated since version 2.1.0.\n",
      "INFO:root:Reading Stix-Domain-Entity {d380cf57-9810-438b-bb25-a652aaca9ab2}.\n"
     ]
    },
    {
     "name": "stdout",
     "output_type": "stream",
     "text": [
      "8f5bc80d-30ca-4c10-b294-27dad63d3061\n",
      "d380cf57-9810-438b-bb25-a652aaca9ab2\n"
     ]
    },
    {
     "name": "stderr",
     "output_type": "stream",
     "text": [
      "INFO:root:Listing stix_relations with {type: indicates, from_id: 8f5bc80d-30ca-4c10-b294-27dad63d3061, to_id: d380cf57-9810-438b-bb25-a652aaca9ab2}\n",
      "INFO:root:Reading Report {1f2cbc39-8893-4bec-9c59-b9f8fba67062}.\n",
      "INFO:root:Adding Stix-Entity {7d8127b7-8924-43dc-9c78-7ead43377217} to Report {1f2cbc39-8893-4bec-9c59-b9f8fba67062}\n",
      "C:\\ProgramData\\Anaconda3\\lib\\site-packages\\ipykernel_launcher.py:300: DeprecationWarning: Call to deprecated method get_stix_domain_entity. (Replaced by the StixDomainEntity class in pycti) -- Deprecated since version 2.1.0.\n",
      "INFO:root:Reading Stix-Domain-Entity {7fc83aa3-8c7a-40da-8cf4-0b9b90c4c0ac}.\n",
      "C:\\ProgramData\\Anaconda3\\lib\\site-packages\\ipykernel_launcher.py:303: DeprecationWarning: Call to deprecated method get_stix_domain_entity. (Replaced by the StixDomainEntity class in pycti) -- Deprecated since version 2.1.0.\n",
      "INFO:root:Reading Stix-Domain-Entity {d380cf57-9810-438b-bb25-a652aaca9ab2}.\n"
     ]
    },
    {
     "name": "stdout",
     "output_type": "stream",
     "text": [
      "7fc83aa3-8c7a-40da-8cf4-0b9b90c4c0ac\n",
      "d380cf57-9810-438b-bb25-a652aaca9ab2\n"
     ]
    },
    {
     "name": "stderr",
     "output_type": "stream",
     "text": [
      "INFO:root:Listing stix_relations with {type: indicates, from_id: 7fc83aa3-8c7a-40da-8cf4-0b9b90c4c0ac, to_id: d380cf57-9810-438b-bb25-a652aaca9ab2}\n",
      "INFO:root:Reading Report {1f2cbc39-8893-4bec-9c59-b9f8fba67062}.\n",
      "INFO:root:Adding Stix-Entity {b570b5b8-4d12-4a42-8ec5-740729eb486a} to Report {1f2cbc39-8893-4bec-9c59-b9f8fba67062}\n",
      "C:\\ProgramData\\Anaconda3\\lib\\site-packages\\ipykernel_launcher.py:300: DeprecationWarning: Call to deprecated method get_stix_domain_entity. (Replaced by the StixDomainEntity class in pycti) -- Deprecated since version 2.1.0.\n",
      "INFO:root:Reading Stix-Domain-Entity {be19e5c7-c324-4215-adc8-0479a3d6c21c}.\n",
      "C:\\ProgramData\\Anaconda3\\lib\\site-packages\\ipykernel_launcher.py:303: DeprecationWarning: Call to deprecated method get_stix_domain_entity. (Replaced by the StixDomainEntity class in pycti) -- Deprecated since version 2.1.0.\n",
      "INFO:root:Reading Stix-Domain-Entity {f14a312d-c43b-4c07-9951-f3448dfb7ba6}.\n"
     ]
    },
    {
     "name": "stdout",
     "output_type": "stream",
     "text": [
      "be19e5c7-c324-4215-adc8-0479a3d6c21c\n",
      "f14a312d-c43b-4c07-9951-f3448dfb7ba6\n"
     ]
    },
    {
     "name": "stderr",
     "output_type": "stream",
     "text": [
      "INFO:root:Listing stix_relations with {type: indicates, from_id: be19e5c7-c324-4215-adc8-0479a3d6c21c, to_id: f14a312d-c43b-4c07-9951-f3448dfb7ba6}\n",
      "INFO:root:Reading Report {1f2cbc39-8893-4bec-9c59-b9f8fba67062}.\n",
      "INFO:root:Adding Stix-Entity {ef76b9dd-b8e8-4906-bbab-f3d2d7528d71} to Report {1f2cbc39-8893-4bec-9c59-b9f8fba67062}\n"
     ]
    },
    {
     "data": {
      "text/plain": [
       "[{'fakeapt28': '22175c83-6fb7-4f81-b2e6-8e296a6ac451',\n",
       "  'Buy domain name': 'f98a818c-d149-4bb5-8963-2fe7ce605986',\n",
       "  'Obtain/re-use payloads': 'a2c6b37c-fa8f-4537-b548-9294727d2ca2',\n",
       "  'Access Token Manipulation': '830843c5-2a10-4e76-8b65-4111878d0925',\n",
       "  'Application Access Token': 'ec1b152b-759b-4656-8417-fd9caebf312b',\n",
       "  'Automated Collection': '77ac5165-2682-46c7-b86c-76c5d2c38a4e',\n",
       "  'Bootkit': '0ba1b7ae-d989-4b6b-b90e-75be1438e8d0',\n",
       "  'Command-Line Interface': '885223eb-a293-4d4a-aaa8-2dd8d4487076',\n",
       "  'Commonly Used Port': '651e2539-4a7d-47fc-8df2-ff67583c3801',\n",
       "  'Communication Through Removable Media': '6f01d49b-f9aa-4610-8bf2-246f9d3e4875',\n",
       "  'Component Object Model Hijacking': 'ba4ce101-a595-428e-b56b-a7fd085ab3ed',\n",
       "  'Connection Proxy': '8c57bb26-ccef-4301-83cb-6a0ae1bcc508',\n",
       "  'Credential Dumping': '9c364890-7132-4d41-b324-7a4e44aad1f6',\n",
       "  'Custom Cryptographic Protocol': '923139f5-b823-482c-8fd9-0f0e49672e78',\n",
       "  'Data Compressed': '1f010009-f6eb-4223-a098-807e6384a1ae',\n",
       "  'Data from Information Repositories': '153ca3c3-7ee0-4238-b41e-17806af21acd',\n",
       "  'Data from Local System': 'e659e8a4-5b5b-4929-bcf7-10f9202551cd',\n",
       "  'Data from Removable Media': '9c3270b6-4894-48b7-940c-2c1b1aa59be4',\n",
       "  'Data Obfuscation': 'e3f49f39-45fb-40cc-b44f-4af592d48328',\n",
       "  'Data Staged': 'cc82f17e-f006-4b60-94a0-91ab35a9fc32',\n",
       "  'Deobfuscate/Decode Files or Information': '50e79339-28dd-4b61-8fad-e70e7cd93d58',\n",
       "  'Dynamic Data Exchange': 'b3749bd5-6c0c-471c-9f7e-4ddd120d3433',\n",
       "  'Email Collection': '7e9af0ad-f71a-45bb-8ab7-2a29482cd4dd',\n",
       "  'Exploitation for Defense Evasion': '862b82d3-59bd-4209-b4c2-ec1d32aeb466',\n",
       "  'Exploitation for Privilege Escalation': 'b4a44dca-bd27-4047-adff-2a72b0b53107',\n",
       "  'Exploitation of Remote Services': '91115399-8fac-48f0-8877-aea1484a4dbd',\n",
       "  'File and Directory Discovery': 'c6cb1bb3-2902-45cc-93b4-83ceb1031509',\n",
       "  'File Deletion': '5ef8a53d-1e82-47b5-990e-2a0a46aa5e86',\n",
       "  'Hidden Files and Directories': '9247f9bc-4811-4c37-8b80-f8f13a57b14a',\n",
       "  'Hidden Window': 'f119b741-c310-42ca-8297-1e8b7c9bada4',\n",
       "  'Indicator Removal on Host': 'cc6169cb-76f8-45bc-af0d-7b593c0496bb',\n",
       "  'Input Capture': 'aaf9cc50-5384-45df-b184-2d6048f4ecdd',\n",
       "  'Logon Scripts': 'beb1cad9-016f-49c5-ad3c-f23bff549ff2',\n",
       "  'Network Sniffing': 'b7be70f8-662e-411d-bdf0-8b573530d967',\n",
       "  'Obfuscated Files or Information': '58eacb3e-a736-41c8-ba57-9328e4adbca5',\n",
       "  'Office Application Startup': 'e0e7107f-4b5c-4238-9742-9922329b343f',\n",
       "  'Pass the Hash': '6a186439-adac-4416-94a2-fcd101a67bef',\n",
       "  'Peripheral Device Discovery': '5c60fe15-cbc3-4135-bc56-52387e7c1457',\n",
       "  'PowerShell': '522a0990-7258-44fe-be11-dbbea1275883',\n",
       "  'Process Discovery': '65e096e1-3467-4bd5-a574-9a475701fbdb',\n",
       "  'Remote File Copy': 'a66f1395-d712-4bb0-a268-5547d454dd0f',\n",
       "  'Replication Through Removable Media': 'e61a95eb-d86f-400a-885d-f6895ede1327',\n",
       "  'Rootkit': 'f76a44e3-4503-48f7-b5e8-cf83bcd6cf83',\n",
       "  'Rundll32': 'de251092-8d94-428a-b26d-713b96658a46',\n",
       "  'Screen Capture': '7c30bee8-9d28-40ff-a89d-e7b9ba12038a',\n",
       "  'Scripting': '98fd75a1-aca9-4b77-9db8-6c6a10e30246',\n",
       "  'Spearphishing Attachment': 'e44a1c10-d1d2-4ee6-848a-5ae77128aec0',\n",
       "  'Standard Application Layer Protocol': '2fbbe108-832e-4454-8bc6-d4e4f682b70b',\n",
       "  'Steal Application Access Token': '83a6e868-6791-4a58-a658-646d271c49c6',\n",
       "  'Template Injection': '020f02e8-75d1-4527-8000-19fcf34a2b1c',\n",
       "  'Timestomp': 'a5f70f2f-52d3-4412-abd9-b77276de4887',\n",
       "  'Trusted Relationship': '191d0c8f-7b92-4723-94e0-086f38d8679e',\n",
       "  'User Execution': '56a0a83f-118c-43cb-99fb-8cbad400c35e',\n",
       "  'Valid Accounts': 'd5e0d90a-8502-4705-bfcf-eb57ebd44053',\n",
       "  'ADVSTORESHELL': 'c9630199-c590-4a66-9e4b-095f0acae785',\n",
       "  'Cannon': '88cbb5de-7cd0-4a00-a14e-e893267afdde',\n",
       "  'CHOPSTICK': 'd160a012-7be8-4de4-86d3-957cc310d76b',\n",
       "  'CORESHELL': 'd2f5de38-118b-465f-84ef-5e8f2ba6f138',\n",
       "  'DealersChoice': '992c84bb-2737-4600-bec3-71c96e20bbc0',\n",
       "  'Downdelph': '06ef98bc-90d3-44d0-9b31-47dd138daa3d',\n",
       "  'Fysbis': '9fa5e609-537d-483a-98fe-f463e405df11',\n",
       "  'HIDEDRV': 'f14a312d-c43b-4c07-9951-f3448dfb7ba6',\n",
       "  'JHUHUGIT': 'd380cf57-9810-438b-bb25-a652aaca9ab2',\n",
       "  'certutil': '2e241d8f-a3c3-48ef-9e83-d17826a30efd',\n",
       "  'Forfiles': 'beccb409-2457-4f5a-b775-a0f0a1e5b640',\n",
       "  'Koadic': 'f31cb6c1-7a9a-44c8-a0ab-11041c32271a',\n",
       "  'Mimikatz': '5d9b3459-582c-4fab-9152-32e73ef52891',\n",
       "  'Winexe': 'c8a3d175-bdbd-4c73-a79f-b15a52b940af',\n",
       "  'CVE-2013-1347': '1c0a703e-8245-4206-b21b-1104224a89dc',\n",
       "  'CVE-2013-3897': 'b797c618-45cb-407a-b5ce-9549a5056bd6',\n",
       "  'CVE-2014-1510': '92a0b258-745e-438b-aa7a-8ddbdb414750',\n",
       "  'CVE-2014-1511': 'b27363f1-c462-4b2e-9ce3-6cd45a851d56',\n",
       "  'CVE-2014-1776': '8e88e738-6a82-46a3-ae9d-6c7c546ca4b3',\n",
       "  'CVE-2014-6332': 'a763f532-6889-47ae-8976-abf99ce14bbb',\n",
       "  'CVE-2015-2590': '0d618989-96c1-4cef-8b34-f4dc5a8b7f05',\n",
       "  'CVE-2015-4902': 'd45d618d-9a31-4905-be50-91a94f605f99',\n",
       "  'CVE-2015-3043': '4e7c53b2-e4f7-4409-9bd5-50837de2bc44',\n",
       "  'CVE-2015-5119': '9652484c-8af7-4147-83c3-f47890487079',\n",
       "  'CVE-2015-7645': 'c23e2eb0-bd52-482e-9a5c-b97e31d9225b',\n",
       "  'c3ae4a37094ecfe95c2badecf40bf5bb': '547971a2-4cb3-4448-a0cb-5d6484043880',\n",
       "  'ce8b99df8642c065b6af43fde1f786a3': 'ccb6936b-34d2-4299-8696-9baf0abcc19d',\n",
       "  'f6f88caf49a3e32174387cacfa144a89': '93a45d31-aff0-4943-9c7c-e030b99b5f5a',\n",
       "  '8c4d896957c36ec4abeb07b2802268b9': '7c869d95-c014-49aa-ba37-a24e5929e8fa',\n",
       "  '0369620eb139c3875a62e36bb7abdae8': '14f1d298-a87e-451b-ba60-76a5dbee520d',\n",
       "  '8b238931a7f64fddcad3057a96855f6c': '5390f2f4-ba00-4105-8116-2826b90e5e84',\n",
       "  'ce151285e8f0e7b2b90162ba171a4b90': '11556748-940b-4f49-9e08-657f5f396839',\n",
       "  'a96f4b8ac7aa9dbf4624424b7602d4f7': 'b47992c6-18d4-49b9-a778-8443c7197910',\n",
       "  '9d2f9e19db8c20dc0d20d50869c7a373': '75fc5775-0c83-416a-ab52-dd60e1c17e27',\n",
       "  'drivres-update.info': '490771ca-eaa0-4999-b537-b618a1878dea',\n",
       "  'intelnetservice.com': '7d7e7303-203a-4d90-951f-131dc09b2c52',\n",
       "  'intelsupport.net': '1efe3504-5849-46ee-961f-5ae566de5b5e',\n",
       "  'softupdates.info': 'b958cf9e-0bdc-4f4e-8da7-d69abe3a435f',\n",
       "  '2cfc4b3686511f959f14889d26d3d9a0d06e27ee2bb54c9afb1ada6b8205c55f': 'da5e9871-e066-4067-803f-b8becff18d8f',\n",
       "  'c20e5d56b35992fe74e92aebb09c40a9ec4f3d9b3c2a01efbe761fa7921dd97f': 'c83ed5b8-da99-4c16-8645-d49755e12f2f',\n",
       "  'abfc14f7f708f662046bfcad81a719c71a35a8dc5aa111407c2c93496e52db74': 'bd3dd7a6-9723-4895-b825-f71d9f1b2fbc',\n",
       "  '40318f3593bca859673827b88d65c5d2f0d80a76948be936a60bda67dff27be9': 'eb39aaa9-35ba-4624-93c8-355e804cb720',\n",
       "  '5749eb9d7b8afa278be24a4db66f122aeb323eaa73a9c9e52d77ac3952da5e7d': 'ab5d5a2c-e943-4d66-9047-cbac81fc2926',\n",
       "  'af77e845f1b0a3ae32cb5cfa53ff22cc9dae883f05200e18ad8e10d7a8106392': '6b621de5-fce1-4513-997c-e5a5249dbb27',\n",
       "  '34bdb5b364358a07f598da4d26b30bac37e139a7dc2b9914debb3a16311f3ded': 'de242b61-26fe-4f29-bf00-a566a10fc0ba',\n",
       "  '79bd5f34867229176869572a027bd601bd8c0bc3f56d37443d403a6d1819a7e5': 'aab3af69-2751-4b8e-b294-fe72d9a6dafd',\n",
       "  '77ff53211bd994293400cb3f93e3d3df6754d8d477cb76f52221704adebad83a': '838f63eb-9066-4cc8-82d4-9408452395ac',\n",
       "  'f1e2bceae81ccd54777f7862c616f22b581b47e0dda5cb02d0a722168ef194a5': '047bfb5d-b8fc-447f-9c6a-26e1869c1f14',\n",
       "  '86bb3b00bcd4878b081e4e4f126bba321b81a17e544d54377a0f590f95209e46': '78b9076b-9c78-47ce-a067-4f6db994090e',\n",
       "  '2da5a388b891e42df4ed62cffbc167db2021e2441e6075d651ecc1d0ffd32ec8': '270ea3b7-cdec-4fe3-9d97-ea87aa352515',\n",
       "  '0d7b945b9c912d205974f44e3742c696b5038c2120ed4775710ed6d51fbc58ef': '667ed941-005a-49ce-a1f6-89c7cbe9b760',\n",
       "  'fc69fb278e12fc7f9c49a020eff9f84c58b71e680a9e18f78d4e6540693f557d': '26c19424-d4cc-4c8e-a947-95b676b0b330',\n",
       "  'ed8f52cdfc5f4c4be95a6b2e935661e00b50324bee5fe8974599743ccfd8daba': '75cbca55-7183-441b-b7c7-23e73e5b1726',\n",
       "  'b9f3af84a69cd39e2e10a86207f8612dd2839873c5839af533ffbc45fc56f809': '1a33ae11-74cf-4fb5-bc33-a87d99086454',\n",
       "  '861b6bc1f9869017c48930af5848930dd037fb70fc506d8a7e43e1a0dbd1e8cb': 'd7c041f1-824f-4ad4-b4d8-e157daf9801d',\n",
       "  '4405cfbf28e0dfafa9ea292e494f385592383d2476a9c49d12596b8d22a63c47': '8fb68203-68ed-4152-ad6f-925e71649e02',\n",
       "  '174effcdeec0b84c67d7dc23351418f6fa4825550d595344214cc746f1a01c1a': '833c1c08-7c78-45fd-97bc-56e42ad7f733',\n",
       "  'a23261e2b693750a7009569df96ec4cf61e57acc9424c98d6fe1087ff8c659ce': 'f41ae5f8-8d91-4057-ad95-b072d3ae8c29',\n",
       "  '651d5aab82e53711563ce074c047cbaa0703931673fa3ad20933d6a63c5c3b12': 'c8aec087-6e47-4e5e-afb9-eb010c1ccf1c',\n",
       "  '68df0f924ce79765573156eabffee3a7bb0fa972d2b67d12dd91dea3ec255d24': '0948691d-1e31-4b13-8041-b512bdb5296e',\n",
       "  '61a1f3b4fb4dbd2877c91e81db4b1af8395547eab199bf920e9dd11a1127221e': '1bd1a60e-d3ea-4b84-9783-1f6022554466',\n",
       "  '5a02d4e5f6d6a89ad41554295114506540f0876e7288464e4a70c9ba51d24f12': 'c744b11d-776c-47e4-9cff-3c1974644ed3',\n",
       "  'd06be83a408f4796616b1c446e3637009d7691c131d121eb165c55bdd5ba50b4': '9399e6a6-5f58-4e12-b6bc-579e1e7d2c73',\n",
       "  '78adc8e5e4e86146317420fa3b2274c9805f6942c9973963467479cb1bbd4ead': '0c5337cc-9c44-4275-b109-18726fb25e7e',\n",
       "  '054c5aa73d6b6d293170785a82453446429c0efc742df75979b760682ac3026b': '37158f3e-96a7-4b83-b3df-45d60ab6f975',\n",
       "  'cac630c11c4bf6363c067fbf7741eae0ec70238d9c5e60d41f3ed8f65b56c1d1': '2727152d-e7a4-4cfb-bd6d-ef3bb5a63578',\n",
       "  'ecc5805898e037c2ef9bc52ea6c6e59b537984f84c3d680c8436c6a38bdecdf4': '8525df65-0459-45c0-819a-2195e6fe2c5e',\n",
       "  '215f7c08c2e3ef5835c7ebc9a329b04b8d5215773b7ebfc9fd755d93451ce1ae': '88e04981-34f6-4f8f-9a97-ec3cf28f013a',\n",
       "  '188.241.58.170': '31c7a2bb-436d-4ed3-b96e-daa232f35b24',\n",
       "  '185.203.118.198': '096cae42-ba77-45d9-8388-51655df64d90',\n",
       "  '145.249.105.165': '1dd753c6-829d-42f9-8dfc-4a192aa69459',\n",
       "  '109.248.148.42': '615b8c34-efc9-4787-90bc-4c5e6e4439fe',\n",
       "  'sym777.gat@post.cz': '492a45d4-ae59-462e-82a8-29c7b93a6b74',\n",
       "  'kae.mezhnosh@post.cz': '5e70cf13-b062-4b35-a097-9f6fdfd514c9',\n",
       "  'vebek.morozh30@post.cz': '00ad334a-d1d7-4661-a569-24cee0809afc',\n",
       "  'g0r7tsa45s@post.cz': '56da9235-700f-403d-ba63-ae76f4f358fa',\n",
       "  'marvel.polezha@post.cz': '653b4fa5-4e7e-4ceb-b5ff-0d1c4b9ca53d',\n",
       "  'sahro.bella7@post.cz': '8ea40372-b7c1-42d9-b881-c4cb756d8988',\n",
       "  'trala.cosh2@post.cz': 'dd7737da-add1-4a84-bd1f-66159c019666',\n",
       "  'Bishtr.cam47@post.cz': 'b805996a-7651-4c97-8de1-4d5da1d841c3',\n",
       "  'Lobrek.chizh@post.cz': '3346bf74-4e40-4f2e-b753-cead1d12f0cf',\n",
       "  'Cervot.woprov@post.cz': '3f43c2b7-3df0-4080-a58d-235cfebef2bf',\n",
       "  'heatlth500@ambcomission.com': 'df78e550-327f-4351-bbfe-84762373d51a',\n",
       "  'trash023@ambcomission.com': '84fd12a3-8d1a-4dff-8c43-3c0d7b8dacee',\n",
       "  'trasler22@ambcomission.com': 'adb6fa3f-2d89-46f3-9d59-b4d99490c4e2',\n",
       "  'rishit333@ambcomission.com': '541ee782-769c-409c-8ee9-62d559d460e1',\n",
       "  'tomasso25@ambcomission.com': '0e5e928f-11dc-4764-999d-885d924cd5e3',\n",
       "  'kevin30@ambcomission.com': 'be9197fa-e9de-4955-82f9-b02b59642802',\n",
       "  '46e2957e699fae6de1a212dd98ba4e2bb969497d': '7498e175-e42d-4447-8cbf-ec9f88bd8c05',\n",
       "  'c53930772beb2779d932655d6c3de5548810af3d': '61f32d6a-849b-4a07-9e37-7040604bd2e6',\n",
       "  'fa695e88c87843ca0ba9fc04b176899ff90e9ac5': 'a55891fb-94e6-41c5-8119-bf5fe0b162a5',\n",
       "  '046a8adc2ef0f68107e96babc59f41b6f0a57803': 'ce7502d4-b66a-43d1-ad56-9d3bfcd7417b',\n",
       "  '139.5.177.205': 'fee66496-d6e8-4b61-93e7-1f813c9d3511',\n",
       "  '80.255.6.15': '0f41c4bd-c76d-4a40-a6ca-c2a4dac4a7e5',\n",
       "  '89.34.111.107': '0698ec72-dccf-4d47-8e03-37cf7c798d2f',\n",
       "  '86.106.131.229': 'cec22f58-99b3-461e-aed9-9cac332985b9',\n",
       "  '139.5.177.206': '8b4ee54d-3a14-4848-8c1b-a5811159e727',\n",
       "  '185.181.102.203': '03352e99-7f82-41fe-acb7-17c80a141c01',\n",
       "  '185.181.102.204': 'afa996a1-7f9d-48a6-802b-af16fb849086',\n",
       "  '169.239.129.31': 'ab86a582-81d3-4801-a6bf-c4e8abad0c13',\n",
       "  '213.252.247.112': '623223fb-fef1-4305-8d66-e59e6d0800e4',\n",
       "  '185.86.148.15': '3c917d43-db23-4a70-9d08-7da647b730e8',\n",
       "  '89.45.67.110': '168a48ef-c96b-4bc1-bf02-0f139ecba1ea',\n",
       "  '185.86.150.205': 'ae916479-5c89-42bf-9d5e-0068947173da',\n",
       "  '193.37.255.10': 'fbc13f89-7532-4919-9f36-f19b21dd3e63',\n",
       "  '195.12.50.171': '9dc10563-aa29-427f-a886-777e49375c00',\n",
       "  '51.38.128.110': '604a4270-7f05-4acd-8c5b-7511cf7a6b72',\n",
       "  '185.144.83.124': 'df573636-4587-44a9-8c64-1d3ab11944d6',\n",
       "  '185.216.35.10': '9f440d7d-dece-4fd6-9ba2-db52fa6fed8c',\n",
       "  '185.94.192.122': '7bddeb15-cc1c-4ca0-beaa-f075de472a5d',\n",
       "  '185.216.35.7': '103e2f9c-5e13-4196-9985-05c4c1dc4925',\n",
       "  '103.253.41.124': 'c6ef69c7-2076-4b43-8691-4dc5d03c3697',\n",
       "  '185.189.112.195': 'de39fba2-fd53-4987-bfed-1c18181a6483',\n",
       "  '185.230.124.246': '040870f4-90a2-48d5-9f97-3352f42ca1c6',\n",
       "  '87.120.254.106': 'ee82dc4d-6d6e-438a-873d-6a173970c19c',\n",
       "  '77.81.98.122': '079b74e8-d6a5-40d9-bdd7-a4a7e1f903cd',\n",
       "  '89.34.111.132': '32bbf5af-8902-43cc-9c5e-8daf8b211afd',\n",
       "  '46.21.147.55': '31469232-6b70-4dd3-84ca-8242f1d136c3',\n",
       "  '103.208.86.57': 'fd65cbfd-7fe8-4c55-ac2c-f31c720efca1',\n",
       "  '185.128.24.104': '7b64c59f-6079-404c-bfc9-d918c09a3c8e',\n",
       "  '145.239.67.8': 'd7b25ac8-632e-41ba-8341-186bd9270d80',\n",
       "  '185.210.219.250': '34cd16d7-2de2-46fa-8798-264ebf7197af',\n",
       "  '86.105.9.174': '1abb352a-6eb4-4af8-bae5-eca447258cee',\n",
       "  'malaytravelgroup.com': 'efa1ec56-09be-42ed-8baa-6c8a7a5bd06f',\n",
       "  'worldimagebucket.com': '124d1929-378a-4161-83f7-de26d2632ad1',\n",
       "  'fundseats.com': '5e539fb6-3cfd-4157-a9a2-bdbff3fad9d8',\n",
       "  'globaltechengineers.org': 'bb4ab667-8ede-491d-ad44-d1b1599cb221',\n",
       "  'beststreammusic.com': '7fc0bacc-67c0-4231-a59b-273298e1624e',\n",
       "  'thepiratecinemaclub.org': '74e2f2e3-8a8a-471e-87f0-a5097f44d6f9',\n",
       "  'coindmarket.com': 'aed910fc-d7a7-4bee-817d-d631a3b45feb',\n",
       "  'creekcounty.net3': '667ab360-1fca-4c04-a6a5-df7c83e82c8e',\n",
       "  'virtsvc.com': 'd58821cf-995b-42f9-922b-955aeab7625d',\n",
       "  'moderntips.org': '3512dfff-5548-4bc5-a34f-113bf05726c0',\n",
       "  'daysheduler.org': '193c75bc-c367-4531-b8a6-92523278549b',\n",
       "  'escochart.com': '327bc124-41c6-4ac3-9f32-cc101a10cfcb',\n",
       "  'loungecinemaclub.com': '5afb1f5e-8541-4d37-a4d4-3e9fce6be3a0',\n",
       "  'genericnetworkaddress.com': '8de68113-7529-42d7-b98c-9e87c309a71f',\n",
       "  'bulgariatripholidays.com': 'd035a959-8355-4826-8f20-d42f57519604',\n",
       "  'georgia-travel.org': 'e9b93931-73b3-420d-82bc-84fd09ac6bea',\n",
       "  'bbcweather.org': 'f2d9d7de-9de5-49cb-bf64-fe5710c25f55',\n",
       "  'politicweekend.com': '3fc8a720-c763-40fa-8d9b-57486be33ef5',\n",
       "  'truefashionnews.com': 'ee8c444e-7816-4220-8b72-a95d0e66fc24',\n",
       "  'protonhardstorage.com': '3ff3a753-8db7-4d74-a63c-f04a4813d608',\n",
       "  'moldtravelgroup.com': 'f7640f5c-8ed9-4eb0-8815-be3e2ecd78fa',\n",
       "  'iboxmit.com': 'ee9a945c-cc3c-42c1-85ad-ca79dd58ba9c',\n",
       "  'brownvelocity.org': '96a11998-54de-4f29-ab05-8a63fe6a69dd',\n",
       "  'pointtk.com': 'f6bf92c7-48a3-4c5d-877c-324abc692854',\n",
       "  'narrowpass.net': 'b18181b0-5791-4e4b-819c-05e994bd7d99',\n",
       "  'powernoderesources.com': 'a353337f-d018-4a13-b1a2-c904a9d207ea',\n",
       "  'topcinemaclub.com': 'ccc0e52c-2e6b-4ffd-bce4-aafe7663c44f',\n",
       "  'd54173be095b688016528f18dc97f2d583efcf5ce562ec766afc0b294eb51ac7': '01c9a186-dd58-4988-8460-57da4e81bb5d',\n",
       "  '03ed773bde6c6a1ac3b24bde6003322df8d41d3d1c85109b8669c430b58d2f69': '43effaa1-5ae5-4cb4-9a3c-ea2413dcad6a',\n",
       "  '7f6f9645499f5840b59fb59525343045abf91bc57183aae459dca98dc8216965': '693e53f2-bbad-41a8-9b60-c07c12124d7b',\n",
       "  'c8087186a215553d2f95c68c03398e17e67517553f6e9a8adc906faa51bce946': 'e92a5f42-17d8-4130-92d5-b0841191eb9c',\n",
       "  '744f2a1e1a62dff2a8d5bd273304a4d21ee37a3c9b0bdcffeeca50374bd10a39': 'dafb4daf-66f2-49d8-9cfd-eba4813398f6',\n",
       "  '423a0799efe41b28a8b765fa505699183c8278d5a7bf07658b3bd507bfa5346f': 'ab253ef9-c294-40da-9402-1b8a7f0eb9c4',\n",
       "  '102b0158bcd5a8b64de44d9f765193dd80df1504e398ce52d37b7c8c33f2552a': 'b7fc7415-a1bf-45bb-a763-5ae4768fc75d',\n",
       "  '7695f20315f84bb1d940149b17dd58383210ea3498450b45fefa22a450e7968': '9b662712-247c-450f-a376-b1ceb1ec41e2',\n",
       "  'd58f2a799552aff8358e9c63a4345ea971b27edd14b8eac825db30a8321d1a7a': '10523b55-264a-4f4f-a5c6-bf7ecbcd66e5',\n",
       "  '093f2aedcf59c831cda7a92df48b146326c2c81c0a3f1d4f3bdc7c6b9a7c71e4': 'f87e99b2-bb39-494f-909b-3f0133b1e724',\n",
       "  '1140c624fbfe28b9ef19fef2e9aa251adfbe8c157820d5f0356d88b4d80c2c88': 'b28e37e7-654e-4ffd-aae5-c1fc7b6110c6',\n",
       "  '11cd541511cc793e7416655cda1e100d0a70fb043dfe7f6664564b91733431d0': 'd73b7575-5b15-4d15-aa8d-61d25afeb66f',\n",
       "  '12e6642cf6413bdf5388bee663080fa299591b2ba023d069286f3be9647547c8': '5f0f09e1-45c0-44ee-8a8c-98206e3ffa7f',\n",
       "  '23411bb30042c9357ac4928dc6fca6955390361e660fec7ac238bbdcc8b83701': 'd1390805-54ba-48b5-b0bd-31a40d5fa5e8',\n",
       "  '3ac11a74275725a22c233cd974229d2b167c336da667410f7262b4926dabd31b': 'c14ef091-ce29-4a5e-ae6b-fa91488aa07d',\n",
       "  '3b87bfb837339445987cdf2e97169cb0c63072dc1d5bffa8ffb4af108a410988': 'f60fefc3-0b8c-43a1-a839-49ac299e9a63',\n",
       "  '5fdc673941ceac84f8f19d550f04a5e1a82c13cbd04771016b68fbf586ff6dc3': 'd6794fd7-a683-4328-b97a-7d5a2979ad71',\n",
       "  '8c47961181d9929333628af20bdd750021e925f40065374e6b876e3b8afbba57': 'd2a135dc-423c-4950-9cb6-76702e9643d4',\n",
       "  'a5742651c3dab8d6ed6f49c2f9fb3ee3bea5cd01c3ec8e73ff0a6f400e32faeb': '73db1ae5-8dcd-41fd-8eab-14c21c2c7744',\n",
       "  'c3b2c7bbd2aa1e3100b9382ed78dfa0041af764e0e02013acdf282410b302ead': 'f169290a-7cab-4192-845c-4eae91127112',\n",
       "  'ef027405492bc0719437eb58c3d2774cc87845f30c40040bbebbcc09a4e3dd18': '0d314eef-2be6-4ee3-8413-de4dd1684824',\n",
       "  '272f0fde35dbdfccbca1e33373b3570d': 'a4f0c76f-0ad9-43d1-a1d6-80372f638d63',\n",
       "  '8b92fe86c5b7a9e34f433a6fbac8bc3a': 'b53741e4-3cc7-400c-bf9b-197e9c677395',\n",
       "  '9eebfebe3987fec3c395594dc57a0c4c': '64b46452-7834-4331-a3e3-dd7199d8b72d',\n",
       "  'da2a657dc69d7320f2ffc87013f257ad': 'cbbcad38-66e3-4883-82d6-d8f9a4e199f9',\n",
       "  '1259c4fe5efd9bf07fc4c78466f2dd09': 'b4a5d279-b01e-4bcf-93b0-9c4213dcd4fb',\n",
       "  '3b0ecd011500f61237c205834db0e13a': '96ccfac8-f440-402e-b1e4-8ffe69b1b706',\n",
       "  '5882fda97fdf78b47081cc4105d44f7c': '9e0ac305-19c5-4cd8-a1df-4cbad45060fb',\n",
       "  '791428601ad12b9230b9ace4f2138713': 'd8bd9d99-dab0-4943-8677-0b622e68ebad',\n",
       "  'ead4ec18ebce6890d20757bb9f5285b1': 'e8218d05-da73-4021-906a-472ea83ae350',\n",
       "  '48656a93f9ba39410763a2196aabc67f': '44c890ce-a3df-47fc-a5b5-bb8d45c8aad0',\n",
       "  '8c4fa713c5e2b009114adda758adc445': 'b8a99bc7-7620-4ffc-baf2-41b83a7a7fe8',\n",
       "  '1cc2b6b208b7687763659aeb5dcb76c5c2fbbf26': 'b21b38eb-f60c-4d2b-8deb-6829143aeff5',\n",
       "  '49acba812894444c634b034962d46f986e0257cf': 'e125ef7f-93e4-4de1-8132-6dc66b82ec70',\n",
       "  '4c9c7c4fd83edaf7ec80687a7a957826de038dd7': 'c19b4c16-e9dd-4832-bc18-93aea4d49aa7',\n",
       "  '4f92d364ce871c1aebbf3c5d2445c296ef535632': 'f7037649-8909-4abc-b803-a25e68f6c564',\n",
       "  '516ec3584073a1c05c0d909b8b6c15ecb10933f1': '9fbfc386-a703-4592-beda-75c0d656f828',\n",
       "  '593d0eb95227e41d299659842395e76b55aa048d': 'e75c4d44-8d8e-4b1c-94ba-d35a361171d9',\n",
       "  '5c132ae63e3b41f7b2385740b9109b473856a6a5': 'ab686a82-7b73-4adc-9525-d6cd5808b393',\n",
       "  '5fc4d555ca7e0536d18043977602d421a6fd65f9': 'e97e18c0-1290-4da5-891c-d9ab129ede39',\n",
       "  '669a02e330f5afc55a3775c4c6959b3f9e9965cf': 'ee63a31c-cfcd-4415-9165-619841035e92',\n",
       "  '6caa48cd9532da4cabd6994f62b8211ab9672d9e': 'feb240d1-3915-4933-8455-d0261a8f8cdd',\n",
       "  '7394ea20c3d510c938ef83a2d0195b767cd99ed7': '0ee26bba-0a8e-4a42-ab37-00289cae0607',\n",
       "  '9f3ab8779f2b81cae83f62245afb124266765939': 'c439cea6-2038-4961-ba4c-788857dcb352',\n",
       "  'e8aca4b0cfe509783a34ff908287f98cab968d9e': '0ddad760-fd03-4b50-b20d-fbf6c57bdb2c',\n",
       "  'ee788901cd804965f1cd00a0afc713c8623430c4': '5ea14422-c3b4-40c6-959c-52498573c8d8',\n",
       "  '104.171.117.216': 'eb06b5a9-ead0-4f6a-93e1-74cf6a8a2921',\n",
       "  '141.255.160.52': '426f632c-899e-4cc2-b6cb-9d368e7f7920',\n",
       "  'intelmeserver.com': '4e8df8d4-569d-4dc2-9bde-4358c5cd20fe',\n",
       "  '8bca0031f3b691421cb15f9c6e71ce193355d2d8cf2b190438b6962761d0c6bb': '8837f219-8346-4475-8dad-d7dbd65fa693',\n",
       "  '02c7cf55fd5c5809ce2dce56085ba43795f2480423a4256537bfdfda0df85592': '0db02c4d-fd35-4efa-bc7a-a3f3fdf9f01f',\n",
       "  'fd8b2ea9a2e8a67e4cb3904b49c789d57ed9b1ce5bebfe54fe3d98214d6a0f61': 'ed4507bb-1469-41a2-90bc-a8a71e1cef6f',\n",
       "  '9444d2b29c6401bc7c2d14f071b11ec9014ae040': '7c52a80f-7ab3-4a4f-b2aa-278471c95565',\n",
       "  '364ff454dcf00420cff13a57bcb78467': 'ad1b5d92-8cfb-4dfe-95bf-746cde9036f4',\n",
       "  'e107c5c84ded6cd9391aede7f04d64c8': 'adf56d7d-98be-45bd-8c46-9d879e5d5aae',\n",
       "  '075b6695ab63f36af65f7ffd45cccd39': 'b68c14a7-1ab1-4c47-9c47-086886522f2e',\n",
       "  '198.105.125.74': 'e2143866-c48f-44c5-b668-a638248f8a1c',\n",
       "  'azureon-line.com': '4b5d8be0-5a7e-44a7-a011-abde3eee3b52',\n",
       "  'mozilla-plugins.com': 'aee87195-ccd7-4e4e-8efa-c42f94d1791b',\n",
       "  'Mozillaplagins.com': '999cde0a-ebe4-44ef-a91e-95f3606e5b08',\n",
       "  '9f6bed7d7f4728490117cbc85819c2e6c494251b': 'd4b7f77f-9497-4bbc-89c8-e2ab87d5a6ab',\n",
       "  '6e167da3c5d887fa2e58da848a2245d11b6c5ad6': '2a462d29-7bf3-496f-97c1-16e64de4cdc4',\n",
       "  'e338d49c270baf64363879e5eecb8fa6bdde8ad9': '1e7ced89-7209-4729-9f10-ba69cf15a6a7',\n",
       "  'f9fd3f1d8da4ffd6a494228b934549d09e3c59d1': '2d95885e-5457-4a14-a2e7-376151e4bbd0',\n",
       "  '476fc1d31722ac26b46154cbf0c631d60268b28a': 'ade04b83-29a8-4ecf-a486-3e7decdbd7a3',\n",
       "  '8a68f26d01372114f660e32ac4c9117e5d0577f1': '11bfef3d-a1fe-4560-a470-9038325b2048',\n",
       "  '9c47ca3883196b3a84d67676a804ff50e22b0a9f': 'de305cb5-1b59-4fb0-bbcf-1aed2d220e95',\n",
       "  'ab354807e687993fbeb1b325eb6e4ab38d428a1e': '1e01de5c-fde1-4285-9e11-4f7de7b2aa84',\n",
       "  '4bc722a9b0492a50bd86a1341f02c74c0d773db7': '2c01c491-e00f-4392-8b07-dc25c4e30f2d',\n",
       "  '0b803922a629f440f3a34e168d4639e2': '21ab4ef5-9297-4ae2-9fac-62b50ebbaac6',\n",
       "  'ebdc6098c733b23e99daa60e55cf858b': '74d0b648-ba9c-48f6-a6c9-56ce608f765e',\n",
       "  'f8a778d21003098075c9aef8ed58c6c3': 'bafbde6d-3399-440d-8b5b-9af8e95c8fd2',\n",
       "  '185.216.35.26': '7ef823f1-0195-4b38-9dab-207e290ce510',\n",
       "  '89.34.111.160': '899f2aa3-74f1-4727-a09f-24e793eedcc8',\n",
       "  '86.106.131.141': '26f2c760-8f92-4b12-a7f1-d8c76521f5f5',\n",
       "  '146.185.253.132': '3803bcc7-f78b-4528-a181-be3884988380',\n",
       "  '89.187.150.44': '2d93631e-bf77-4378-acd9-c7dcec5e059b',\n",
       "  '89.45.67.144': 'dd3ba5d6-8c3e-45b2-9778-1c17af49a476',\n",
       "  '89.33.246.117': '782d43fa-2c17-4010-97dd-7e7d3ec6d9e1',\n",
       "  '95.215.45.43': 'dc64a28f-b671-4997-81fc-6cf1caa9b9ff',\n",
       "  '185.156.173.1': 'e322676c-00a4-42dd-9329-26a7170caf00',\n",
       "  '7191.101.31.96': 'e6df31a7-f561-4804-9abb-422dc45159a1',\n",
       "  '87.236.211.182': '9bf4bff1-fe60-4287-844e-a31fdd7779f2',\n",
       "  '185.86.150.193': 'a63b2da0-1886-4e9a-b7c2-54626c6ee6fe',\n",
       "  'photopoststories.com': '4a5d8135-8133-4567-ba98-1346abf484d0',\n",
       "  'mail.photopoststories.com': '8f5bc80d-30ca-4c10-b294-27dad63d3061',\n",
       "  'chakozkan@protonmail.com': '7fc83aa3-8c7a-40da-8cf4-0b9b90c4c0ac',\n",
       "  '4bfe2216ee63657312af1b2507c8f2bf362fdf1d63c88faba397e880c2e39430': 'be19e5c7-c324-4215-adc8-0479a3d6c21c',\n",
       "  '2a06f142d87bd9b66621a30088683d6fcec019ba5cc9e5793e54f8d920ab0134': '3184c21f-6433-4bea-8d97-c98b158907e0',\n",
       "  'c1b8fc00d815e777e39f34a520342d1942ebd29695c9453951a988c61875bcd7': 'f25f4d5e-c8fa-4f36-987a-7f2b9d44df72',\n",
       "  'cffa1d9fc336a1ad89af90443b15c98b71e679aeb03b3a68a5e9c3e7ecabc3d4': '2933b343-620b-41c2-b8e6-16dde7e6b5ed',\n",
       "  '96a19a90caa41406b632a2046f3a39b5579fbf730aca2357f84bf23f2cbc1fd3': '4c66bed2-aa09-40b6-87ca-0f6cc6356a21',\n",
       "  '227b7fe495ad9951aebf0aae3c317c1ac526cdd255953f111341b0b11be3bbc5': 'a6c5cfe5-7d52-4acc-b350-e33d0edd2a5d',\n",
       "  '45a93e4b9ae5bece0d53a3a9a83186b8975953344d4dfb340e9de0015a247c54': 'be1d49c7-cc22-4a51-b79b-61454c2ec2e7',\n",
       "  '2a854997a44f4ba7e307d408ea2d9c1d84dde035c5dab830689aa45c5b5746ea': '84f0fbdd-1a3a-4ec8-ba1c-7b0569272c8b',\n",
       "  '185.10.58.170': 'ca954681-9467-44d2-a7e4-37454c7f97fa',\n",
       "  '23.227.196.215': 'e0f92261-345c-4b84-860b-47017bc175dd',\n",
       "  'appleupdate.org': '62ec9f36-d6be-4976-ada3-cc9b0075d862',\n",
       "  'apple-iclouds.net': 'dd95a746-6944-4a9d-8a7c-458a3cc5fbdf',\n",
       "  'itunes-helper.net': '20ec5d17-49bb-470a-89c0-b2095f418932',\n",
       "  'apple-iclods.org': '2c23cf32-f558-4dfe-a62d-169728c7b786',\n",
       "  'apple-checker.org': 'eb13478f-c660-49e5-92b8-06084dfa869f',\n",
       "  'apple-uptoday.org': '1f2d41ac-b80c-460d-b0fd-06b6ec7dd9ad',\n",
       "  'apple-search.info': '64788e60-7f60-42b2-b5c0-e9ff4b7a43b4',\n",
       "  'ea728abe26bac161e110970051e1561fd51db93b': '9ae0ed72-1534-4cdd-b993-a32456d2d02b',\n",
       "  'cc217342373967d1916cb20eca5ccb29caaf7c1b': '1cecbe34-dad9-4684-965c-b06ad5b5351a',\n",
       "  'f2be778971ad9df2082a266bd04ab657bd287413': 'db0eaf54-2a83-42ce-8a15-dc65f4522fe9',\n",
       "  '4b9e71615b37aea1eaeb5b1cfa0eee048118ff72': 'de851da2-cf0b-45da-9ce3-c05104ca64e2',\n",
       "  '700d7e763f59e706b4f05c69911319690f85432e': 'bca55c2e-b1b3-4449-bb62-6459c017d878',\n",
       "  '1771e435ba25f9cdfa77168899490d87681f2029': '9fd6a15b-8317-4f52-861e-461994ce73cf',\n",
       "  'ddaa06a4021baf980a08caea899f2904609410b9': '54722511-f4fa-435b-93a4-aafd4b9946d0',\n",
       "  '10d571d66d3ab7b9ddf6a850cb9b8e38b07623c0': 'fa874c58-05e6-4c4e-8a73-e7e1e32fd6f5',\n",
       "  '2529f6eda28d54490119d2123d22da56783c704f': 'ca5bb5de-2a0a-460e-8100-92f4f6855f83',\n",
       "  'e923ac79046ffa06f67d3f4c567e84a82dd7ff1b': '6c4a880a-ca25-404e-b3b4-6c073a8de45b',\n",
       "  '8e138eecea8e9937a83bffe100d842d6381b6bb1': '567c2e33-e9bf-41b3-b39a-a127d713343a',\n",
       "  'ef860dca7d7c928b68c4218007fb9069c6e654e9': 'c9bc2f19-d206-4ed3-9be2-6caa66dabb91',\n",
       "  'e8f07caafb23eff83020406c21645d8ed0005ca6': '87900989-b41b-4f39-bdd6-1ded7b21156f',\n",
       "  '09d2e2c26247a4a908952fee36b56b360561984f': '29d4b154-684e-4a7d-9c95-35a22f2f1b2c',\n",
       "  'f90ccf57e75923812c2c1da9f56166b36d1482be': '8535bae6-0010-46ad-97d1-2a461d612f95',\n",
       "  '397d97e278110a48bd2cb11bb5632b99a9100dbd': '70c12d3b-e334-4ce4-95ac-e9afec8d8263',\n",
       "  'dcbfd12321fa7c4fa9a72486ced5': '9cd1ced5-0e0a-4cfc-8722-305e76443afb',\n",
       "  '78fdc00dcee79e6d95aa481791f': '62ba6f40-30cd-4614-8ab6-d3424aa8e315',\n",
       "  'd70db6a6d660aae58ccfc688a2890391fd873bfb': '179b59a7-1508-4b82-a9d9-9c8795c3aed1',\n",
       "  '185.77.129.106': 'adc629f5-040d-4505-988e-67c3ba75469c',\n",
       "  '185.144.82.239': 'd6c0db47-5eb4-4c4a-987f-3fc4f5c3a540',\n",
       "  '93.113.131.103': '1c5ed1bf-3dbc-45b7-986b-7b060b2637f8',\n",
       "  '185.86.149.54': 'ce105aa3-48a6-4495-946f-0ef7bf05c6cd',\n",
       "  '185.86.151.104': 'e3d4d7a8-cad0-434a-83bb-c06eebd7870a',\n",
       "  '103.41.177.43': '9189a2fc-a55a-4fd9-822b-89b4bae1ccfc',\n",
       "  '185.86.148.184': '9f80fd64-1949-47eb-ad19-430932a03a08',\n",
       "  '185.94.191.65': '6dbb12cd-96c7-4276-94b7-8b6b345599d3',\n",
       "  '86.106.131.54': 'd51a7df8-a4d8-4693-9392-b0edd5fb81a6',\n",
       "  '185.86.151.2': 'f9201cbe-119c-4ca8-b815-923c12ac0ae5',\n",
       "  '46.21.147.76': '1e09434f-faf9-4c8b-a159-ee66b903fc1b',\n",
       "  '46.21.147.71': '35d89604-55f2-4db3-ace9-88b19890b6da',\n",
       "  '162.208.10.66': '26d17e5b-efcb-4cb9-967b-7f15bb5ca363',\n",
       "  '185.86.149.116': '14042a9e-ceae-4fa4-88fd-ff05d8728500',\n",
       "  '185.181.102.201': '98dae959-ab55-44e6-b3e4-e6e29605e404',\n",
       "  '179.43.158.20': '62719eea-bb99-4a15-bce4-0c08f2cdff06',\n",
       "  '85.204.124.77': 'c50c8d40-8110-4af5-89ac-2a06a09ab98f',\n",
       "  '185.183.107.40': '21bd1d1e-97f8-4930-a6a8-971b366a6b22',\n",
       "  '94.177.12.150': '881fdc70-3b2f-4433-98a1-ab5bc9287600',\n",
       "  '54.37.104.106': '403d6f83-651c-4a65-be8c-8acf90e3aa35',\n",
       "  '169.239.129.121': 'e2312893-b3e6-4a58-a1ee-54d8d3e121aa',\n",
       "  '169.239.128.133': 'c5f8a2aa-4204-428a-b273-270834599765',\n",
       "  'secao.org': '7923a602-e19b-49ab-aadf-14b5f4f4aa58',\n",
       "  'ikmtrust.com': 'fd60910a-3e42-46f2-b80a-fd65db997764',\n",
       "  'sysanalyticweb.com': '88cbc538-d8cc-4d62-ad04-b0b2f7a52cd1',\n",
       "  'lxwo.org': '351af52a-df08-4d11-9dab-b1892a1ac208',\n",
       "  'jflynci.com': 'dc7787ac-1681-4532-b5fc-b222d3222366',\n",
       "  'remotepx.net': '573d9eb9-0490-43a8-9805-b2784a637bbf',\n",
       "  'rdsnets.com': '107404f3-d39a-4537-a996-fe667d3d69ff',\n",
       "  'rpcnetconnect.com': '39888e91-d7e5-4004-96a1-c6591bf4b53d',\n",
       "  'webstp.com': '81758216-9fa4-417c-aac5-75454661beee',\n",
       "  'elaxo.org': 'c9373c93-9021-4aee-a480-70a787699577'},\n",
       " {'link:https://www.crowdstrike.com/blog/whois-numbered-panda/': 'b83dd90a-af30-4141-a907-57a90916bf1c',\n",
       "  'https://www.thaicert.or.th/downloads/files/A_Threat_Actor_Encyclopedia.pdf': 'df04121c-2152-4fd3-aba7-b91ac44027af',\n",
       "  'https://attack.mitre.org/groups/G0005/': '0b6149a7-74f6-4b59-8549-7774595335fc',\n",
       "  'https://www.youtube.com/watch?v=dy72wfyXlrM': '46766f43-367e-4ebd-bdba-3ddaf13cbb57',\n",
       "  'https://www.crowdstrike.com/blog/whois-numbered-panda/': '286699cb-dcdf-40c9-b1ae-49bdc326644f',\n",
       "  'https://www.trendmicro.de/cloud-content/us/pdfs/security-intelligence/white-papers/wp_ixeshe.pdf': '7b1e6e9f-10e5-4d8e-8298-0e3c61d674dd',\n",
       "  'https://malpedia.caad.fkie.fraunhofer.de/actor/ixeshe': '664a3b90-07b7-4507-a9d5-bf65eb40f4d9',\n",
       "  'https://attack.mitre.org/software/S0015/': '5d12c3a4-ef35-4b50-9508-6f56aae99981',\n",
       "  'https://www.fireeye.com/blog/threat-research/2013/08/survival-of-the-fittest-new-york-times-attackers-evolve-quickly.html': '9ec15f4b-f0c0-4065-815b-5d5df382bc13',\n",
       "  'https://www.fireeye.com/blog/threat-research/2014/09/darwins-favorite-apt-group-2.html': 'd43ab93a-663a-4839-b283-b1a449b9974a',\n",
       "  'https://malpedia.caad.fkie.fraunhofer.de': '4b1e8bb5-c1e2-4bdc-bdde-a2a5a2654bfe'}]"
      ]
     },
     "execution_count": 128,
     "metadata": {},
     "output_type": "execute_result"
    }
   ],
   "source": [
    "en.create_report()"
   ]
  },
  {
   "cell_type": "code",
   "execution_count": 125,
   "metadata": {},
   "outputs": [
    {
     "name": "stderr",
     "output_type": "stream",
     "text": [
      "C:\\ProgramData\\Anaconda3\\lib\\site-packages\\ipykernel_launcher.py:300: DeprecationWarning: Call to deprecated method get_stix_domain_entity. (Replaced by the StixDomainEntity class in pycti) -- Deprecated since version 2.1.0.\n",
      "INFO:root:Reading Stix-Domain-Entity {22175c83-6fb7-4f81-b2e6-8e296a6ac451}.\n",
      "C:\\ProgramData\\Anaconda3\\lib\\site-packages\\ipykernel_launcher.py:303: DeprecationWarning: Call to deprecated method get_stix_domain_entity. (Replaced by the StixDomainEntity class in pycti) -- Deprecated since version 2.1.0.\n",
      "INFO:root:Reading Stix-Domain-Entity {f98a818c-d149-4bb5-8963-2fe7ce605986}.\n"
     ]
    },
    {
     "name": "stdout",
     "output_type": "stream",
     "text": [
      "22175c83-6fb7-4f81-b2e6-8e296a6ac451\n",
      "f98a818c-d149-4bb5-8963-2fe7ce605986\n"
     ]
    },
    {
     "name": "stderr",
     "output_type": "stream",
     "text": [
      "INFO:root:Listing stix_relations with {type: uses, from_id: 22175c83-6fb7-4f81-b2e6-8e296a6ac451, to_id: f98a818c-d149-4bb5-8963-2fe7ce605986}\n",
      "INFO:root:Reading Report {a216498d-1d4c-4555-a6a5-c62f38300e74}.\n",
      "INFO:root:Adding Stix-Entity {592edc65-4cb8-4d59-a41d-6ec9fb7e87e6} to Report {a216498d-1d4c-4555-a6a5-c62f38300e74}\n",
      "C:\\ProgramData\\Anaconda3\\lib\\site-packages\\ipykernel_launcher.py:300: DeprecationWarning: Call to deprecated method get_stix_domain_entity. (Replaced by the StixDomainEntity class in pycti) -- Deprecated since version 2.1.0.\n",
      "INFO:root:Reading Stix-Domain-Entity {22175c83-6fb7-4f81-b2e6-8e296a6ac451}.\n",
      "C:\\ProgramData\\Anaconda3\\lib\\site-packages\\ipykernel_launcher.py:303: DeprecationWarning: Call to deprecated method get_stix_domain_entity. (Replaced by the StixDomainEntity class in pycti) -- Deprecated since version 2.1.0.\n",
      "INFO:root:Reading Stix-Domain-Entity {a2c6b37c-fa8f-4537-b548-9294727d2ca2}.\n"
     ]
    },
    {
     "name": "stdout",
     "output_type": "stream",
     "text": [
      "22175c83-6fb7-4f81-b2e6-8e296a6ac451\n",
      "a2c6b37c-fa8f-4537-b548-9294727d2ca2\n"
     ]
    },
    {
     "name": "stderr",
     "output_type": "stream",
     "text": [
      "INFO:root:Listing stix_relations with {type: uses, from_id: 22175c83-6fb7-4f81-b2e6-8e296a6ac451, to_id: a2c6b37c-fa8f-4537-b548-9294727d2ca2}\n",
      "INFO:root:Reading Report {a216498d-1d4c-4555-a6a5-c62f38300e74}.\n",
      "INFO:root:Adding Stix-Entity {a5369d2f-938d-4327-8bc8-84d1d9c9c06b} to Report {a216498d-1d4c-4555-a6a5-c62f38300e74}\n",
      "C:\\ProgramData\\Anaconda3\\lib\\site-packages\\ipykernel_launcher.py:300: DeprecationWarning: Call to deprecated method get_stix_domain_entity. (Replaced by the StixDomainEntity class in pycti) -- Deprecated since version 2.1.0.\n",
      "INFO:root:Reading Stix-Domain-Entity {22175c83-6fb7-4f81-b2e6-8e296a6ac451}.\n",
      "C:\\ProgramData\\Anaconda3\\lib\\site-packages\\ipykernel_launcher.py:303: DeprecationWarning: Call to deprecated method get_stix_domain_entity. (Replaced by the StixDomainEntity class in pycti) -- Deprecated since version 2.1.0.\n",
      "INFO:root:Reading Stix-Domain-Entity {830843c5-2a10-4e76-8b65-4111878d0925}.\n"
     ]
    },
    {
     "name": "stdout",
     "output_type": "stream",
     "text": [
      "22175c83-6fb7-4f81-b2e6-8e296a6ac451\n",
      "830843c5-2a10-4e76-8b65-4111878d0925\n"
     ]
    },
    {
     "name": "stderr",
     "output_type": "stream",
     "text": [
      "INFO:root:Listing stix_relations with {type: uses, from_id: 22175c83-6fb7-4f81-b2e6-8e296a6ac451, to_id: 830843c5-2a10-4e76-8b65-4111878d0925}\n",
      "INFO:root:Reading Report {a216498d-1d4c-4555-a6a5-c62f38300e74}.\n",
      "INFO:root:Adding Stix-Entity {c602f453-f520-4010-8b5d-71b1f1ce5993} to Report {a216498d-1d4c-4555-a6a5-c62f38300e74}\n",
      "C:\\ProgramData\\Anaconda3\\lib\\site-packages\\ipykernel_launcher.py:300: DeprecationWarning: Call to deprecated method get_stix_domain_entity. (Replaced by the StixDomainEntity class in pycti) -- Deprecated since version 2.1.0.\n",
      "INFO:root:Reading Stix-Domain-Entity {22175c83-6fb7-4f81-b2e6-8e296a6ac451}.\n",
      "C:\\ProgramData\\Anaconda3\\lib\\site-packages\\ipykernel_launcher.py:303: DeprecationWarning: Call to deprecated method get_stix_domain_entity. (Replaced by the StixDomainEntity class in pycti) -- Deprecated since version 2.1.0.\n",
      "INFO:root:Reading Stix-Domain-Entity {ec1b152b-759b-4656-8417-fd9caebf312b}.\n"
     ]
    },
    {
     "name": "stdout",
     "output_type": "stream",
     "text": [
      "22175c83-6fb7-4f81-b2e6-8e296a6ac451\n",
      "ec1b152b-759b-4656-8417-fd9caebf312b\n"
     ]
    },
    {
     "name": "stderr",
     "output_type": "stream",
     "text": [
      "INFO:root:Listing stix_relations with {type: uses, from_id: 22175c83-6fb7-4f81-b2e6-8e296a6ac451, to_id: ec1b152b-759b-4656-8417-fd9caebf312b}\n",
      "INFO:root:Reading Report {a216498d-1d4c-4555-a6a5-c62f38300e74}.\n",
      "INFO:root:Adding Stix-Entity {fc4022b5-bd11-438a-96aa-4ea32566cdba} to Report {a216498d-1d4c-4555-a6a5-c62f38300e74}\n",
      "C:\\ProgramData\\Anaconda3\\lib\\site-packages\\ipykernel_launcher.py:300: DeprecationWarning: Call to deprecated method get_stix_domain_entity. (Replaced by the StixDomainEntity class in pycti) -- Deprecated since version 2.1.0.\n",
      "INFO:root:Reading Stix-Domain-Entity {22175c83-6fb7-4f81-b2e6-8e296a6ac451}.\n",
      "C:\\ProgramData\\Anaconda3\\lib\\site-packages\\ipykernel_launcher.py:303: DeprecationWarning: Call to deprecated method get_stix_domain_entity. (Replaced by the StixDomainEntity class in pycti) -- Deprecated since version 2.1.0.\n",
      "INFO:root:Reading Stix-Domain-Entity {77ac5165-2682-46c7-b86c-76c5d2c38a4e}.\n"
     ]
    },
    {
     "name": "stdout",
     "output_type": "stream",
     "text": [
      "22175c83-6fb7-4f81-b2e6-8e296a6ac451\n",
      "77ac5165-2682-46c7-b86c-76c5d2c38a4e\n"
     ]
    },
    {
     "name": "stderr",
     "output_type": "stream",
     "text": [
      "INFO:root:Listing stix_relations with {type: uses, from_id: 22175c83-6fb7-4f81-b2e6-8e296a6ac451, to_id: 77ac5165-2682-46c7-b86c-76c5d2c38a4e}\n",
      "INFO:root:Reading Report {a216498d-1d4c-4555-a6a5-c62f38300e74}.\n",
      "INFO:root:Adding Stix-Entity {95963848-7808-4167-ac6c-1429848a153d} to Report {a216498d-1d4c-4555-a6a5-c62f38300e74}\n",
      "C:\\ProgramData\\Anaconda3\\lib\\site-packages\\ipykernel_launcher.py:300: DeprecationWarning: Call to deprecated method get_stix_domain_entity. (Replaced by the StixDomainEntity class in pycti) -- Deprecated since version 2.1.0.\n",
      "INFO:root:Reading Stix-Domain-Entity {22175c83-6fb7-4f81-b2e6-8e296a6ac451}.\n",
      "C:\\ProgramData\\Anaconda3\\lib\\site-packages\\ipykernel_launcher.py:303: DeprecationWarning: Call to deprecated method get_stix_domain_entity. (Replaced by the StixDomainEntity class in pycti) -- Deprecated since version 2.1.0.\n",
      "INFO:root:Reading Stix-Domain-Entity {0ba1b7ae-d989-4b6b-b90e-75be1438e8d0}.\n",
      "INFO:root:Listing stix_relations with {type: uses, from_id: 22175c83-6fb7-4f81-b2e6-8e296a6ac451, to_id: 0ba1b7ae-d989-4b6b-b90e-75be1438e8d0}\n"
     ]
    },
    {
     "name": "stdout",
     "output_type": "stream",
     "text": [
      "22175c83-6fb7-4f81-b2e6-8e296a6ac451\n",
      "0ba1b7ae-d989-4b6b-b90e-75be1438e8d0\n"
     ]
    },
    {
     "name": "stderr",
     "output_type": "stream",
     "text": [
      "INFO:root:Reading Report {a216498d-1d4c-4555-a6a5-c62f38300e74}.\n",
      "INFO:root:Adding Stix-Entity {1cd9dbe1-1c6b-4697-b916-9b492cd95651} to Report {a216498d-1d4c-4555-a6a5-c62f38300e74}\n",
      "C:\\ProgramData\\Anaconda3\\lib\\site-packages\\ipykernel_launcher.py:300: DeprecationWarning: Call to deprecated method get_stix_domain_entity. (Replaced by the StixDomainEntity class in pycti) -- Deprecated since version 2.1.0.\n",
      "INFO:root:Reading Stix-Domain-Entity {22175c83-6fb7-4f81-b2e6-8e296a6ac451}.\n",
      "C:\\ProgramData\\Anaconda3\\lib\\site-packages\\ipykernel_launcher.py:303: DeprecationWarning: Call to deprecated method get_stix_domain_entity. (Replaced by the StixDomainEntity class in pycti) -- Deprecated since version 2.1.0.\n",
      "INFO:root:Reading Stix-Domain-Entity {885223eb-a293-4d4a-aaa8-2dd8d4487076}.\n"
     ]
    },
    {
     "name": "stdout",
     "output_type": "stream",
     "text": [
      "22175c83-6fb7-4f81-b2e6-8e296a6ac451\n",
      "885223eb-a293-4d4a-aaa8-2dd8d4487076\n"
     ]
    },
    {
     "name": "stderr",
     "output_type": "stream",
     "text": [
      "INFO:root:Listing stix_relations with {type: uses, from_id: 22175c83-6fb7-4f81-b2e6-8e296a6ac451, to_id: 885223eb-a293-4d4a-aaa8-2dd8d4487076}\n",
      "INFO:root:Reading Report {a216498d-1d4c-4555-a6a5-c62f38300e74}.\n",
      "INFO:root:Adding Stix-Entity {dc3a03ef-65e8-400e-9b9d-8c24bc007614} to Report {a216498d-1d4c-4555-a6a5-c62f38300e74}\n",
      "C:\\ProgramData\\Anaconda3\\lib\\site-packages\\ipykernel_launcher.py:300: DeprecationWarning: Call to deprecated method get_stix_domain_entity. (Replaced by the StixDomainEntity class in pycti) -- Deprecated since version 2.1.0.\n",
      "INFO:root:Reading Stix-Domain-Entity {22175c83-6fb7-4f81-b2e6-8e296a6ac451}.\n",
      "C:\\ProgramData\\Anaconda3\\lib\\site-packages\\ipykernel_launcher.py:303: DeprecationWarning: Call to deprecated method get_stix_domain_entity. (Replaced by the StixDomainEntity class in pycti) -- Deprecated since version 2.1.0.\n",
      "INFO:root:Reading Stix-Domain-Entity {651e2539-4a7d-47fc-8df2-ff67583c3801}.\n"
     ]
    },
    {
     "name": "stdout",
     "output_type": "stream",
     "text": [
      "22175c83-6fb7-4f81-b2e6-8e296a6ac451\n",
      "651e2539-4a7d-47fc-8df2-ff67583c3801\n"
     ]
    },
    {
     "name": "stderr",
     "output_type": "stream",
     "text": [
      "INFO:root:Listing stix_relations with {type: uses, from_id: 22175c83-6fb7-4f81-b2e6-8e296a6ac451, to_id: 651e2539-4a7d-47fc-8df2-ff67583c3801}\n",
      "INFO:root:Reading Report {a216498d-1d4c-4555-a6a5-c62f38300e74}.\n",
      "INFO:root:Adding Stix-Entity {36adaae7-ba30-4b6b-99ba-535964791578} to Report {a216498d-1d4c-4555-a6a5-c62f38300e74}\n",
      "C:\\ProgramData\\Anaconda3\\lib\\site-packages\\ipykernel_launcher.py:300: DeprecationWarning: Call to deprecated method get_stix_domain_entity. (Replaced by the StixDomainEntity class in pycti) -- Deprecated since version 2.1.0.\n",
      "INFO:root:Reading Stix-Domain-Entity {22175c83-6fb7-4f81-b2e6-8e296a6ac451}.\n",
      "C:\\ProgramData\\Anaconda3\\lib\\site-packages\\ipykernel_launcher.py:303: DeprecationWarning: Call to deprecated method get_stix_domain_entity. (Replaced by the StixDomainEntity class in pycti) -- Deprecated since version 2.1.0.\n",
      "INFO:root:Reading Stix-Domain-Entity {6f01d49b-f9aa-4610-8bf2-246f9d3e4875}.\n"
     ]
    },
    {
     "name": "stdout",
     "output_type": "stream",
     "text": [
      "22175c83-6fb7-4f81-b2e6-8e296a6ac451\n",
      "6f01d49b-f9aa-4610-8bf2-246f9d3e4875\n"
     ]
    },
    {
     "name": "stderr",
     "output_type": "stream",
     "text": [
      "INFO:root:Listing stix_relations with {type: uses, from_id: 22175c83-6fb7-4f81-b2e6-8e296a6ac451, to_id: 6f01d49b-f9aa-4610-8bf2-246f9d3e4875}\n",
      "INFO:root:Reading Report {a216498d-1d4c-4555-a6a5-c62f38300e74}.\n",
      "INFO:root:Adding Stix-Entity {6034bbcf-ee2f-4cab-ab0d-a409bce63c31} to Report {a216498d-1d4c-4555-a6a5-c62f38300e74}\n",
      "C:\\ProgramData\\Anaconda3\\lib\\site-packages\\ipykernel_launcher.py:300: DeprecationWarning: Call to deprecated method get_stix_domain_entity. (Replaced by the StixDomainEntity class in pycti) -- Deprecated since version 2.1.0.\n",
      "INFO:root:Reading Stix-Domain-Entity {22175c83-6fb7-4f81-b2e6-8e296a6ac451}.\n",
      "C:\\ProgramData\\Anaconda3\\lib\\site-packages\\ipykernel_launcher.py:303: DeprecationWarning: Call to deprecated method get_stix_domain_entity. (Replaced by the StixDomainEntity class in pycti) -- Deprecated since version 2.1.0.\n",
      "INFO:root:Reading Stix-Domain-Entity {ba4ce101-a595-428e-b56b-a7fd085ab3ed}.\n",
      "INFO:root:Listing stix_relations with {type: uses, from_id: 22175c83-6fb7-4f81-b2e6-8e296a6ac451, to_id: ba4ce101-a595-428e-b56b-a7fd085ab3ed}\n"
     ]
    },
    {
     "name": "stdout",
     "output_type": "stream",
     "text": [
      "22175c83-6fb7-4f81-b2e6-8e296a6ac451\n",
      "ba4ce101-a595-428e-b56b-a7fd085ab3ed\n"
     ]
    },
    {
     "name": "stderr",
     "output_type": "stream",
     "text": [
      "INFO:root:Reading Report {a216498d-1d4c-4555-a6a5-c62f38300e74}.\n",
      "INFO:root:Adding Stix-Entity {690c79fc-dff5-45dc-b456-5c42911cf261} to Report {a216498d-1d4c-4555-a6a5-c62f38300e74}\n",
      "C:\\ProgramData\\Anaconda3\\lib\\site-packages\\ipykernel_launcher.py:300: DeprecationWarning: Call to deprecated method get_stix_domain_entity. (Replaced by the StixDomainEntity class in pycti) -- Deprecated since version 2.1.0.\n",
      "INFO:root:Reading Stix-Domain-Entity {22175c83-6fb7-4f81-b2e6-8e296a6ac451}.\n",
      "C:\\ProgramData\\Anaconda3\\lib\\site-packages\\ipykernel_launcher.py:303: DeprecationWarning: Call to deprecated method get_stix_domain_entity. (Replaced by the StixDomainEntity class in pycti) -- Deprecated since version 2.1.0.\n",
      "INFO:root:Reading Stix-Domain-Entity {8c57bb26-ccef-4301-83cb-6a0ae1bcc508}.\n",
      "INFO:root:Listing stix_relations with {type: uses, from_id: 22175c83-6fb7-4f81-b2e6-8e296a6ac451, to_id: 8c57bb26-ccef-4301-83cb-6a0ae1bcc508}\n"
     ]
    },
    {
     "name": "stdout",
     "output_type": "stream",
     "text": [
      "22175c83-6fb7-4f81-b2e6-8e296a6ac451\n",
      "8c57bb26-ccef-4301-83cb-6a0ae1bcc508\n"
     ]
    },
    {
     "name": "stderr",
     "output_type": "stream",
     "text": [
      "INFO:root:Reading Report {a216498d-1d4c-4555-a6a5-c62f38300e74}.\n",
      "INFO:root:Adding Stix-Entity {13e6c3ce-a18c-4ba1-948a-0a23bbd8944d} to Report {a216498d-1d4c-4555-a6a5-c62f38300e74}\n",
      "C:\\ProgramData\\Anaconda3\\lib\\site-packages\\ipykernel_launcher.py:300: DeprecationWarning: Call to deprecated method get_stix_domain_entity. (Replaced by the StixDomainEntity class in pycti) -- Deprecated since version 2.1.0.\n",
      "INFO:root:Reading Stix-Domain-Entity {22175c83-6fb7-4f81-b2e6-8e296a6ac451}.\n",
      "C:\\ProgramData\\Anaconda3\\lib\\site-packages\\ipykernel_launcher.py:303: DeprecationWarning: Call to deprecated method get_stix_domain_entity. (Replaced by the StixDomainEntity class in pycti) -- Deprecated since version 2.1.0.\n",
      "INFO:root:Reading Stix-Domain-Entity {9c364890-7132-4d41-b324-7a4e44aad1f6}.\n"
     ]
    },
    {
     "name": "stdout",
     "output_type": "stream",
     "text": [
      "22175c83-6fb7-4f81-b2e6-8e296a6ac451\n",
      "9c364890-7132-4d41-b324-7a4e44aad1f6\n"
     ]
    },
    {
     "name": "stderr",
     "output_type": "stream",
     "text": [
      "INFO:root:Listing stix_relations with {type: uses, from_id: 22175c83-6fb7-4f81-b2e6-8e296a6ac451, to_id: 9c364890-7132-4d41-b324-7a4e44aad1f6}\n",
      "INFO:root:Reading Report {a216498d-1d4c-4555-a6a5-c62f38300e74}.\n",
      "INFO:root:Adding Stix-Entity {981b1d65-3ec5-4e64-8a92-58426f3ca4bb} to Report {a216498d-1d4c-4555-a6a5-c62f38300e74}\n",
      "C:\\ProgramData\\Anaconda3\\lib\\site-packages\\ipykernel_launcher.py:300: DeprecationWarning: Call to deprecated method get_stix_domain_entity. (Replaced by the StixDomainEntity class in pycti) -- Deprecated since version 2.1.0.\n",
      "INFO:root:Reading Stix-Domain-Entity {22175c83-6fb7-4f81-b2e6-8e296a6ac451}.\n",
      "C:\\ProgramData\\Anaconda3\\lib\\site-packages\\ipykernel_launcher.py:303: DeprecationWarning: Call to deprecated method get_stix_domain_entity. (Replaced by the StixDomainEntity class in pycti) -- Deprecated since version 2.1.0.\n",
      "INFO:root:Reading Stix-Domain-Entity {923139f5-b823-482c-8fd9-0f0e49672e78}.\n",
      "INFO:root:Listing stix_relations with {type: uses, from_id: 22175c83-6fb7-4f81-b2e6-8e296a6ac451, to_id: 923139f5-b823-482c-8fd9-0f0e49672e78}\n"
     ]
    },
    {
     "name": "stdout",
     "output_type": "stream",
     "text": [
      "22175c83-6fb7-4f81-b2e6-8e296a6ac451\n",
      "923139f5-b823-482c-8fd9-0f0e49672e78\n"
     ]
    },
    {
     "name": "stderr",
     "output_type": "stream",
     "text": [
      "INFO:root:Reading Report {a216498d-1d4c-4555-a6a5-c62f38300e74}.\n",
      "INFO:root:Adding Stix-Entity {525181c8-888c-4722-82c1-f487c5956da0} to Report {a216498d-1d4c-4555-a6a5-c62f38300e74}\n",
      "C:\\ProgramData\\Anaconda3\\lib\\site-packages\\ipykernel_launcher.py:300: DeprecationWarning: Call to deprecated method get_stix_domain_entity. (Replaced by the StixDomainEntity class in pycti) -- Deprecated since version 2.1.0.\n",
      "INFO:root:Reading Stix-Domain-Entity {22175c83-6fb7-4f81-b2e6-8e296a6ac451}.\n",
      "C:\\ProgramData\\Anaconda3\\lib\\site-packages\\ipykernel_launcher.py:303: DeprecationWarning: Call to deprecated method get_stix_domain_entity. (Replaced by the StixDomainEntity class in pycti) -- Deprecated since version 2.1.0.\n",
      "INFO:root:Reading Stix-Domain-Entity {1f010009-f6eb-4223-a098-807e6384a1ae}.\n"
     ]
    },
    {
     "name": "stdout",
     "output_type": "stream",
     "text": [
      "22175c83-6fb7-4f81-b2e6-8e296a6ac451\n",
      "1f010009-f6eb-4223-a098-807e6384a1ae\n"
     ]
    },
    {
     "name": "stderr",
     "output_type": "stream",
     "text": [
      "INFO:root:Listing stix_relations with {type: uses, from_id: 22175c83-6fb7-4f81-b2e6-8e296a6ac451, to_id: 1f010009-f6eb-4223-a098-807e6384a1ae}\n",
      "INFO:root:Reading Report {a216498d-1d4c-4555-a6a5-c62f38300e74}.\n",
      "INFO:root:Adding Stix-Entity {294d60f2-1112-4457-b0e7-54362485d81f} to Report {a216498d-1d4c-4555-a6a5-c62f38300e74}\n",
      "C:\\ProgramData\\Anaconda3\\lib\\site-packages\\ipykernel_launcher.py:300: DeprecationWarning: Call to deprecated method get_stix_domain_entity. (Replaced by the StixDomainEntity class in pycti) -- Deprecated since version 2.1.0.\n",
      "INFO:root:Reading Stix-Domain-Entity {22175c83-6fb7-4f81-b2e6-8e296a6ac451}.\n",
      "C:\\ProgramData\\Anaconda3\\lib\\site-packages\\ipykernel_launcher.py:303: DeprecationWarning: Call to deprecated method get_stix_domain_entity. (Replaced by the StixDomainEntity class in pycti) -- Deprecated since version 2.1.0.\n",
      "INFO:root:Reading Stix-Domain-Entity {153ca3c3-7ee0-4238-b41e-17806af21acd}.\n",
      "INFO:root:Listing stix_relations with {type: uses, from_id: 22175c83-6fb7-4f81-b2e6-8e296a6ac451, to_id: 153ca3c3-7ee0-4238-b41e-17806af21acd}\n"
     ]
    },
    {
     "name": "stdout",
     "output_type": "stream",
     "text": [
      "22175c83-6fb7-4f81-b2e6-8e296a6ac451\n",
      "153ca3c3-7ee0-4238-b41e-17806af21acd\n"
     ]
    },
    {
     "name": "stderr",
     "output_type": "stream",
     "text": [
      "INFO:root:Reading Report {a216498d-1d4c-4555-a6a5-c62f38300e74}.\n",
      "INFO:root:Adding Stix-Entity {c45d70a7-8dcd-4555-84e6-7c797f9a8407} to Report {a216498d-1d4c-4555-a6a5-c62f38300e74}\n",
      "C:\\ProgramData\\Anaconda3\\lib\\site-packages\\ipykernel_launcher.py:300: DeprecationWarning: Call to deprecated method get_stix_domain_entity. (Replaced by the StixDomainEntity class in pycti) -- Deprecated since version 2.1.0.\n",
      "INFO:root:Reading Stix-Domain-Entity {22175c83-6fb7-4f81-b2e6-8e296a6ac451}.\n",
      "C:\\ProgramData\\Anaconda3\\lib\\site-packages\\ipykernel_launcher.py:303: DeprecationWarning: Call to deprecated method get_stix_domain_entity. (Replaced by the StixDomainEntity class in pycti) -- Deprecated since version 2.1.0.\n",
      "INFO:root:Reading Stix-Domain-Entity {e659e8a4-5b5b-4929-bcf7-10f9202551cd}.\n"
     ]
    },
    {
     "name": "stdout",
     "output_type": "stream",
     "text": [
      "22175c83-6fb7-4f81-b2e6-8e296a6ac451\n",
      "e659e8a4-5b5b-4929-bcf7-10f9202551cd\n"
     ]
    },
    {
     "name": "stderr",
     "output_type": "stream",
     "text": [
      "INFO:root:Listing stix_relations with {type: uses, from_id: 22175c83-6fb7-4f81-b2e6-8e296a6ac451, to_id: e659e8a4-5b5b-4929-bcf7-10f9202551cd}\n",
      "INFO:root:Reading Report {a216498d-1d4c-4555-a6a5-c62f38300e74}.\n",
      "INFO:root:Adding Stix-Entity {69d3657f-8108-4db3-8592-03706f2058eb} to Report {a216498d-1d4c-4555-a6a5-c62f38300e74}\n",
      "C:\\ProgramData\\Anaconda3\\lib\\site-packages\\ipykernel_launcher.py:300: DeprecationWarning: Call to deprecated method get_stix_domain_entity. (Replaced by the StixDomainEntity class in pycti) -- Deprecated since version 2.1.0.\n",
      "INFO:root:Reading Stix-Domain-Entity {22175c83-6fb7-4f81-b2e6-8e296a6ac451}.\n",
      "C:\\ProgramData\\Anaconda3\\lib\\site-packages\\ipykernel_launcher.py:303: DeprecationWarning: Call to deprecated method get_stix_domain_entity. (Replaced by the StixDomainEntity class in pycti) -- Deprecated since version 2.1.0.\n",
      "INFO:root:Reading Stix-Domain-Entity {9c3270b6-4894-48b7-940c-2c1b1aa59be4}.\n"
     ]
    },
    {
     "name": "stdout",
     "output_type": "stream",
     "text": [
      "22175c83-6fb7-4f81-b2e6-8e296a6ac451\n",
      "9c3270b6-4894-48b7-940c-2c1b1aa59be4\n"
     ]
    },
    {
     "name": "stderr",
     "output_type": "stream",
     "text": [
      "INFO:root:Listing stix_relations with {type: uses, from_id: 22175c83-6fb7-4f81-b2e6-8e296a6ac451, to_id: 9c3270b6-4894-48b7-940c-2c1b1aa59be4}\n",
      "INFO:root:Reading Report {a216498d-1d4c-4555-a6a5-c62f38300e74}.\n",
      "INFO:root:Adding Stix-Entity {f098cb9b-561f-41c2-9a03-5ceba90e7437} to Report {a216498d-1d4c-4555-a6a5-c62f38300e74}\n",
      "C:\\ProgramData\\Anaconda3\\lib\\site-packages\\ipykernel_launcher.py:300: DeprecationWarning: Call to deprecated method get_stix_domain_entity. (Replaced by the StixDomainEntity class in pycti) -- Deprecated since version 2.1.0.\n",
      "INFO:root:Reading Stix-Domain-Entity {22175c83-6fb7-4f81-b2e6-8e296a6ac451}.\n",
      "C:\\ProgramData\\Anaconda3\\lib\\site-packages\\ipykernel_launcher.py:303: DeprecationWarning: Call to deprecated method get_stix_domain_entity. (Replaced by the StixDomainEntity class in pycti) -- Deprecated since version 2.1.0.\n",
      "INFO:root:Reading Stix-Domain-Entity {e3f49f39-45fb-40cc-b44f-4af592d48328}.\n"
     ]
    },
    {
     "name": "stdout",
     "output_type": "stream",
     "text": [
      "22175c83-6fb7-4f81-b2e6-8e296a6ac451\n",
      "e3f49f39-45fb-40cc-b44f-4af592d48328\n"
     ]
    },
    {
     "name": "stderr",
     "output_type": "stream",
     "text": [
      "INFO:root:Listing stix_relations with {type: uses, from_id: 22175c83-6fb7-4f81-b2e6-8e296a6ac451, to_id: e3f49f39-45fb-40cc-b44f-4af592d48328}\n",
      "INFO:root:Reading Report {a216498d-1d4c-4555-a6a5-c62f38300e74}.\n",
      "INFO:root:Adding Stix-Entity {a9566522-340f-4e3f-991c-8a6f92cf27b8} to Report {a216498d-1d4c-4555-a6a5-c62f38300e74}\n",
      "C:\\ProgramData\\Anaconda3\\lib\\site-packages\\ipykernel_launcher.py:300: DeprecationWarning: Call to deprecated method get_stix_domain_entity. (Replaced by the StixDomainEntity class in pycti) -- Deprecated since version 2.1.0.\n",
      "INFO:root:Reading Stix-Domain-Entity {22175c83-6fb7-4f81-b2e6-8e296a6ac451}.\n",
      "C:\\ProgramData\\Anaconda3\\lib\\site-packages\\ipykernel_launcher.py:303: DeprecationWarning: Call to deprecated method get_stix_domain_entity. (Replaced by the StixDomainEntity class in pycti) -- Deprecated since version 2.1.0.\n",
      "INFO:root:Reading Stix-Domain-Entity {cc82f17e-f006-4b60-94a0-91ab35a9fc32}.\n"
     ]
    },
    {
     "name": "stdout",
     "output_type": "stream",
     "text": [
      "22175c83-6fb7-4f81-b2e6-8e296a6ac451\n",
      "cc82f17e-f006-4b60-94a0-91ab35a9fc32\n"
     ]
    },
    {
     "name": "stderr",
     "output_type": "stream",
     "text": [
      "INFO:root:Listing stix_relations with {type: uses, from_id: 22175c83-6fb7-4f81-b2e6-8e296a6ac451, to_id: cc82f17e-f006-4b60-94a0-91ab35a9fc32}\n",
      "INFO:root:Reading Report {a216498d-1d4c-4555-a6a5-c62f38300e74}.\n",
      "INFO:root:Adding Stix-Entity {708bec5e-b23f-4096-9ccc-9a55a7e8e858} to Report {a216498d-1d4c-4555-a6a5-c62f38300e74}\n",
      "C:\\ProgramData\\Anaconda3\\lib\\site-packages\\ipykernel_launcher.py:300: DeprecationWarning: Call to deprecated method get_stix_domain_entity. (Replaced by the StixDomainEntity class in pycti) -- Deprecated since version 2.1.0.\n",
      "INFO:root:Reading Stix-Domain-Entity {22175c83-6fb7-4f81-b2e6-8e296a6ac451}.\n",
      "C:\\ProgramData\\Anaconda3\\lib\\site-packages\\ipykernel_launcher.py:303: DeprecationWarning: Call to deprecated method get_stix_domain_entity. (Replaced by the StixDomainEntity class in pycti) -- Deprecated since version 2.1.0.\n",
      "INFO:root:Reading Stix-Domain-Entity {50e79339-28dd-4b61-8fad-e70e7cd93d58}.\n"
     ]
    },
    {
     "name": "stdout",
     "output_type": "stream",
     "text": [
      "22175c83-6fb7-4f81-b2e6-8e296a6ac451\n",
      "50e79339-28dd-4b61-8fad-e70e7cd93d58\n"
     ]
    },
    {
     "name": "stderr",
     "output_type": "stream",
     "text": [
      "INFO:root:Listing stix_relations with {type: uses, from_id: 22175c83-6fb7-4f81-b2e6-8e296a6ac451, to_id: 50e79339-28dd-4b61-8fad-e70e7cd93d58}\n",
      "INFO:root:Reading Report {a216498d-1d4c-4555-a6a5-c62f38300e74}.\n",
      "INFO:root:Adding Stix-Entity {04a24627-a4fd-4d8b-9a3f-3d6325e429c3} to Report {a216498d-1d4c-4555-a6a5-c62f38300e74}\n",
      "C:\\ProgramData\\Anaconda3\\lib\\site-packages\\ipykernel_launcher.py:300: DeprecationWarning: Call to deprecated method get_stix_domain_entity. (Replaced by the StixDomainEntity class in pycti) -- Deprecated since version 2.1.0.\n",
      "INFO:root:Reading Stix-Domain-Entity {22175c83-6fb7-4f81-b2e6-8e296a6ac451}.\n",
      "C:\\ProgramData\\Anaconda3\\lib\\site-packages\\ipykernel_launcher.py:303: DeprecationWarning: Call to deprecated method get_stix_domain_entity. (Replaced by the StixDomainEntity class in pycti) -- Deprecated since version 2.1.0.\n",
      "INFO:root:Reading Stix-Domain-Entity {b3749bd5-6c0c-471c-9f7e-4ddd120d3433}.\n"
     ]
    },
    {
     "name": "stdout",
     "output_type": "stream",
     "text": [
      "22175c83-6fb7-4f81-b2e6-8e296a6ac451\n",
      "b3749bd5-6c0c-471c-9f7e-4ddd120d3433\n"
     ]
    },
    {
     "name": "stderr",
     "output_type": "stream",
     "text": [
      "INFO:root:Listing stix_relations with {type: uses, from_id: 22175c83-6fb7-4f81-b2e6-8e296a6ac451, to_id: b3749bd5-6c0c-471c-9f7e-4ddd120d3433}\n",
      "INFO:root:Reading Report {a216498d-1d4c-4555-a6a5-c62f38300e74}.\n",
      "INFO:root:Adding Stix-Entity {c8f361eb-dc53-4d53-a719-39f0236caa13} to Report {a216498d-1d4c-4555-a6a5-c62f38300e74}\n",
      "C:\\ProgramData\\Anaconda3\\lib\\site-packages\\ipykernel_launcher.py:300: DeprecationWarning: Call to deprecated method get_stix_domain_entity. (Replaced by the StixDomainEntity class in pycti) -- Deprecated since version 2.1.0.\n",
      "INFO:root:Reading Stix-Domain-Entity {22175c83-6fb7-4f81-b2e6-8e296a6ac451}.\n",
      "C:\\ProgramData\\Anaconda3\\lib\\site-packages\\ipykernel_launcher.py:303: DeprecationWarning: Call to deprecated method get_stix_domain_entity. (Replaced by the StixDomainEntity class in pycti) -- Deprecated since version 2.1.0.\n",
      "INFO:root:Reading Stix-Domain-Entity {7e9af0ad-f71a-45bb-8ab7-2a29482cd4dd}.\n"
     ]
    },
    {
     "name": "stdout",
     "output_type": "stream",
     "text": [
      "22175c83-6fb7-4f81-b2e6-8e296a6ac451\n",
      "7e9af0ad-f71a-45bb-8ab7-2a29482cd4dd\n"
     ]
    },
    {
     "name": "stderr",
     "output_type": "stream",
     "text": [
      "INFO:root:Listing stix_relations with {type: uses, from_id: 22175c83-6fb7-4f81-b2e6-8e296a6ac451, to_id: 7e9af0ad-f71a-45bb-8ab7-2a29482cd4dd}\n",
      "INFO:root:Reading Report {a216498d-1d4c-4555-a6a5-c62f38300e74}.\n",
      "INFO:root:Adding Stix-Entity {0b11eb92-3170-47f4-a9b4-73eba20d254f} to Report {a216498d-1d4c-4555-a6a5-c62f38300e74}\n",
      "C:\\ProgramData\\Anaconda3\\lib\\site-packages\\ipykernel_launcher.py:300: DeprecationWarning: Call to deprecated method get_stix_domain_entity. (Replaced by the StixDomainEntity class in pycti) -- Deprecated since version 2.1.0.\n",
      "INFO:root:Reading Stix-Domain-Entity {22175c83-6fb7-4f81-b2e6-8e296a6ac451}.\n",
      "C:\\ProgramData\\Anaconda3\\lib\\site-packages\\ipykernel_launcher.py:303: DeprecationWarning: Call to deprecated method get_stix_domain_entity. (Replaced by the StixDomainEntity class in pycti) -- Deprecated since version 2.1.0.\n",
      "INFO:root:Reading Stix-Domain-Entity {862b82d3-59bd-4209-b4c2-ec1d32aeb466}.\n"
     ]
    },
    {
     "name": "stdout",
     "output_type": "stream",
     "text": [
      "22175c83-6fb7-4f81-b2e6-8e296a6ac451\n",
      "862b82d3-59bd-4209-b4c2-ec1d32aeb466\n"
     ]
    },
    {
     "name": "stderr",
     "output_type": "stream",
     "text": [
      "INFO:root:Listing stix_relations with {type: uses, from_id: 22175c83-6fb7-4f81-b2e6-8e296a6ac451, to_id: 862b82d3-59bd-4209-b4c2-ec1d32aeb466}\n",
      "INFO:root:Reading Report {a216498d-1d4c-4555-a6a5-c62f38300e74}.\n",
      "INFO:root:Adding Stix-Entity {82e96101-8276-4e22-a3b6-f583285ce9f4} to Report {a216498d-1d4c-4555-a6a5-c62f38300e74}\n",
      "C:\\ProgramData\\Anaconda3\\lib\\site-packages\\ipykernel_launcher.py:300: DeprecationWarning: Call to deprecated method get_stix_domain_entity. (Replaced by the StixDomainEntity class in pycti) -- Deprecated since version 2.1.0.\n",
      "INFO:root:Reading Stix-Domain-Entity {22175c83-6fb7-4f81-b2e6-8e296a6ac451}.\n",
      "C:\\ProgramData\\Anaconda3\\lib\\site-packages\\ipykernel_launcher.py:303: DeprecationWarning: Call to deprecated method get_stix_domain_entity. (Replaced by the StixDomainEntity class in pycti) -- Deprecated since version 2.1.0.\n",
      "INFO:root:Reading Stix-Domain-Entity {b4a44dca-bd27-4047-adff-2a72b0b53107}.\n",
      "INFO:root:Listing stix_relations with {type: uses, from_id: 22175c83-6fb7-4f81-b2e6-8e296a6ac451, to_id: b4a44dca-bd27-4047-adff-2a72b0b53107}\n"
     ]
    },
    {
     "name": "stdout",
     "output_type": "stream",
     "text": [
      "22175c83-6fb7-4f81-b2e6-8e296a6ac451\n",
      "b4a44dca-bd27-4047-adff-2a72b0b53107\n"
     ]
    },
    {
     "name": "stderr",
     "output_type": "stream",
     "text": [
      "INFO:root:Reading Report {a216498d-1d4c-4555-a6a5-c62f38300e74}.\n",
      "INFO:root:Adding Stix-Entity {0669380e-276b-4b2a-9a02-92b8bb259d7a} to Report {a216498d-1d4c-4555-a6a5-c62f38300e74}\n",
      "C:\\ProgramData\\Anaconda3\\lib\\site-packages\\ipykernel_launcher.py:300: DeprecationWarning: Call to deprecated method get_stix_domain_entity. (Replaced by the StixDomainEntity class in pycti) -- Deprecated since version 2.1.0.\n",
      "INFO:root:Reading Stix-Domain-Entity {22175c83-6fb7-4f81-b2e6-8e296a6ac451}.\n",
      "C:\\ProgramData\\Anaconda3\\lib\\site-packages\\ipykernel_launcher.py:303: DeprecationWarning: Call to deprecated method get_stix_domain_entity. (Replaced by the StixDomainEntity class in pycti) -- Deprecated since version 2.1.0.\n",
      "INFO:root:Reading Stix-Domain-Entity {91115399-8fac-48f0-8877-aea1484a4dbd}.\n",
      "INFO:root:Listing stix_relations with {type: uses, from_id: 22175c83-6fb7-4f81-b2e6-8e296a6ac451, to_id: 91115399-8fac-48f0-8877-aea1484a4dbd}\n"
     ]
    },
    {
     "name": "stdout",
     "output_type": "stream",
     "text": [
      "22175c83-6fb7-4f81-b2e6-8e296a6ac451\n",
      "91115399-8fac-48f0-8877-aea1484a4dbd\n"
     ]
    },
    {
     "name": "stderr",
     "output_type": "stream",
     "text": [
      "INFO:root:Reading Report {a216498d-1d4c-4555-a6a5-c62f38300e74}.\n",
      "INFO:root:Adding Stix-Entity {40b85e3f-8239-4c10-9ac5-7ef0aa21f045} to Report {a216498d-1d4c-4555-a6a5-c62f38300e74}\n",
      "C:\\ProgramData\\Anaconda3\\lib\\site-packages\\ipykernel_launcher.py:300: DeprecationWarning: Call to deprecated method get_stix_domain_entity. (Replaced by the StixDomainEntity class in pycti) -- Deprecated since version 2.1.0.\n",
      "INFO:root:Reading Stix-Domain-Entity {22175c83-6fb7-4f81-b2e6-8e296a6ac451}.\n",
      "C:\\ProgramData\\Anaconda3\\lib\\site-packages\\ipykernel_launcher.py:303: DeprecationWarning: Call to deprecated method get_stix_domain_entity. (Replaced by the StixDomainEntity class in pycti) -- Deprecated since version 2.1.0.\n",
      "INFO:root:Reading Stix-Domain-Entity {c6cb1bb3-2902-45cc-93b4-83ceb1031509}.\n",
      "INFO:root:Listing stix_relations with {type: uses, from_id: 22175c83-6fb7-4f81-b2e6-8e296a6ac451, to_id: c6cb1bb3-2902-45cc-93b4-83ceb1031509}\n"
     ]
    },
    {
     "name": "stdout",
     "output_type": "stream",
     "text": [
      "22175c83-6fb7-4f81-b2e6-8e296a6ac451\n",
      "c6cb1bb3-2902-45cc-93b4-83ceb1031509\n"
     ]
    },
    {
     "name": "stderr",
     "output_type": "stream",
     "text": [
      "INFO:root:Reading Report {a216498d-1d4c-4555-a6a5-c62f38300e74}.\n",
      "INFO:root:Adding Stix-Entity {20f500c2-75e1-404b-a532-64c62107360d} to Report {a216498d-1d4c-4555-a6a5-c62f38300e74}\n",
      "C:\\ProgramData\\Anaconda3\\lib\\site-packages\\ipykernel_launcher.py:300: DeprecationWarning: Call to deprecated method get_stix_domain_entity. (Replaced by the StixDomainEntity class in pycti) -- Deprecated since version 2.1.0.\n",
      "INFO:root:Reading Stix-Domain-Entity {22175c83-6fb7-4f81-b2e6-8e296a6ac451}.\n",
      "C:\\ProgramData\\Anaconda3\\lib\\site-packages\\ipykernel_launcher.py:303: DeprecationWarning: Call to deprecated method get_stix_domain_entity. (Replaced by the StixDomainEntity class in pycti) -- Deprecated since version 2.1.0.\n",
      "INFO:root:Reading Stix-Domain-Entity {5ef8a53d-1e82-47b5-990e-2a0a46aa5e86}.\n"
     ]
    },
    {
     "name": "stdout",
     "output_type": "stream",
     "text": [
      "22175c83-6fb7-4f81-b2e6-8e296a6ac451\n",
      "5ef8a53d-1e82-47b5-990e-2a0a46aa5e86\n"
     ]
    },
    {
     "name": "stderr",
     "output_type": "stream",
     "text": [
      "INFO:root:Listing stix_relations with {type: uses, from_id: 22175c83-6fb7-4f81-b2e6-8e296a6ac451, to_id: 5ef8a53d-1e82-47b5-990e-2a0a46aa5e86}\n",
      "INFO:root:Reading Report {a216498d-1d4c-4555-a6a5-c62f38300e74}.\n",
      "INFO:root:Adding Stix-Entity {3d644de3-3849-467d-97e6-a1f86bc619d6} to Report {a216498d-1d4c-4555-a6a5-c62f38300e74}\n",
      "C:\\ProgramData\\Anaconda3\\lib\\site-packages\\ipykernel_launcher.py:300: DeprecationWarning: Call to deprecated method get_stix_domain_entity. (Replaced by the StixDomainEntity class in pycti) -- Deprecated since version 2.1.0.\n",
      "INFO:root:Reading Stix-Domain-Entity {22175c83-6fb7-4f81-b2e6-8e296a6ac451}.\n",
      "C:\\ProgramData\\Anaconda3\\lib\\site-packages\\ipykernel_launcher.py:303: DeprecationWarning: Call to deprecated method get_stix_domain_entity. (Replaced by the StixDomainEntity class in pycti) -- Deprecated since version 2.1.0.\n",
      "INFO:root:Reading Stix-Domain-Entity {9247f9bc-4811-4c37-8b80-f8f13a57b14a}.\n"
     ]
    },
    {
     "name": "stdout",
     "output_type": "stream",
     "text": [
      "22175c83-6fb7-4f81-b2e6-8e296a6ac451\n",
      "9247f9bc-4811-4c37-8b80-f8f13a57b14a\n"
     ]
    },
    {
     "name": "stderr",
     "output_type": "stream",
     "text": [
      "INFO:root:Listing stix_relations with {type: uses, from_id: 22175c83-6fb7-4f81-b2e6-8e296a6ac451, to_id: 9247f9bc-4811-4c37-8b80-f8f13a57b14a}\n",
      "INFO:root:Reading Report {a216498d-1d4c-4555-a6a5-c62f38300e74}.\n",
      "INFO:root:Adding Stix-Entity {1eff06ff-267b-4e36-904f-4f639c917300} to Report {a216498d-1d4c-4555-a6a5-c62f38300e74}\n",
      "C:\\ProgramData\\Anaconda3\\lib\\site-packages\\ipykernel_launcher.py:300: DeprecationWarning: Call to deprecated method get_stix_domain_entity. (Replaced by the StixDomainEntity class in pycti) -- Deprecated since version 2.1.0.\n",
      "INFO:root:Reading Stix-Domain-Entity {22175c83-6fb7-4f81-b2e6-8e296a6ac451}.\n",
      "C:\\ProgramData\\Anaconda3\\lib\\site-packages\\ipykernel_launcher.py:303: DeprecationWarning: Call to deprecated method get_stix_domain_entity. (Replaced by the StixDomainEntity class in pycti) -- Deprecated since version 2.1.0.\n",
      "INFO:root:Reading Stix-Domain-Entity {f119b741-c310-42ca-8297-1e8b7c9bada4}.\n",
      "INFO:root:Listing stix_relations with {type: uses, from_id: 22175c83-6fb7-4f81-b2e6-8e296a6ac451, to_id: f119b741-c310-42ca-8297-1e8b7c9bada4}\n"
     ]
    },
    {
     "name": "stdout",
     "output_type": "stream",
     "text": [
      "22175c83-6fb7-4f81-b2e6-8e296a6ac451\n",
      "f119b741-c310-42ca-8297-1e8b7c9bada4\n"
     ]
    },
    {
     "name": "stderr",
     "output_type": "stream",
     "text": [
      "INFO:root:Reading Report {a216498d-1d4c-4555-a6a5-c62f38300e74}.\n",
      "INFO:root:Adding Stix-Entity {8e788e7e-fd53-4d3f-bb67-382708c17f64} to Report {a216498d-1d4c-4555-a6a5-c62f38300e74}\n",
      "C:\\ProgramData\\Anaconda3\\lib\\site-packages\\ipykernel_launcher.py:300: DeprecationWarning: Call to deprecated method get_stix_domain_entity. (Replaced by the StixDomainEntity class in pycti) -- Deprecated since version 2.1.0.\n",
      "INFO:root:Reading Stix-Domain-Entity {22175c83-6fb7-4f81-b2e6-8e296a6ac451}.\n",
      "C:\\ProgramData\\Anaconda3\\lib\\site-packages\\ipykernel_launcher.py:303: DeprecationWarning: Call to deprecated method get_stix_domain_entity. (Replaced by the StixDomainEntity class in pycti) -- Deprecated since version 2.1.0.\n",
      "INFO:root:Reading Stix-Domain-Entity {cc6169cb-76f8-45bc-af0d-7b593c0496bb}.\n",
      "INFO:root:Listing stix_relations with {type: uses, from_id: 22175c83-6fb7-4f81-b2e6-8e296a6ac451, to_id: cc6169cb-76f8-45bc-af0d-7b593c0496bb}\n"
     ]
    },
    {
     "name": "stdout",
     "output_type": "stream",
     "text": [
      "22175c83-6fb7-4f81-b2e6-8e296a6ac451\n",
      "cc6169cb-76f8-45bc-af0d-7b593c0496bb\n"
     ]
    },
    {
     "name": "stderr",
     "output_type": "stream",
     "text": [
      "INFO:root:Reading Report {a216498d-1d4c-4555-a6a5-c62f38300e74}.\n",
      "INFO:root:Adding Stix-Entity {c1cd16b7-31d4-4b5b-9ec9-6cd86c93b24e} to Report {a216498d-1d4c-4555-a6a5-c62f38300e74}\n",
      "C:\\ProgramData\\Anaconda3\\lib\\site-packages\\ipykernel_launcher.py:300: DeprecationWarning: Call to deprecated method get_stix_domain_entity. (Replaced by the StixDomainEntity class in pycti) -- Deprecated since version 2.1.0.\n",
      "INFO:root:Reading Stix-Domain-Entity {22175c83-6fb7-4f81-b2e6-8e296a6ac451}.\n",
      "C:\\ProgramData\\Anaconda3\\lib\\site-packages\\ipykernel_launcher.py:303: DeprecationWarning: Call to deprecated method get_stix_domain_entity. (Replaced by the StixDomainEntity class in pycti) -- Deprecated since version 2.1.0.\n",
      "INFO:root:Reading Stix-Domain-Entity {aaf9cc50-5384-45df-b184-2d6048f4ecdd}.\n"
     ]
    },
    {
     "name": "stdout",
     "output_type": "stream",
     "text": [
      "22175c83-6fb7-4f81-b2e6-8e296a6ac451\n",
      "aaf9cc50-5384-45df-b184-2d6048f4ecdd\n"
     ]
    },
    {
     "name": "stderr",
     "output_type": "stream",
     "text": [
      "INFO:root:Listing stix_relations with {type: uses, from_id: 22175c83-6fb7-4f81-b2e6-8e296a6ac451, to_id: aaf9cc50-5384-45df-b184-2d6048f4ecdd}\n",
      "INFO:root:Reading Report {a216498d-1d4c-4555-a6a5-c62f38300e74}.\n",
      "INFO:root:Adding Stix-Entity {86aef7e0-41a2-46ff-8f8b-9b4a8a4d2268} to Report {a216498d-1d4c-4555-a6a5-c62f38300e74}\n",
      "C:\\ProgramData\\Anaconda3\\lib\\site-packages\\ipykernel_launcher.py:300: DeprecationWarning: Call to deprecated method get_stix_domain_entity. (Replaced by the StixDomainEntity class in pycti) -- Deprecated since version 2.1.0.\n",
      "INFO:root:Reading Stix-Domain-Entity {22175c83-6fb7-4f81-b2e6-8e296a6ac451}.\n",
      "C:\\ProgramData\\Anaconda3\\lib\\site-packages\\ipykernel_launcher.py:303: DeprecationWarning: Call to deprecated method get_stix_domain_entity. (Replaced by the StixDomainEntity class in pycti) -- Deprecated since version 2.1.0.\n",
      "INFO:root:Reading Stix-Domain-Entity {beb1cad9-016f-49c5-ad3c-f23bff549ff2}.\n"
     ]
    },
    {
     "name": "stdout",
     "output_type": "stream",
     "text": [
      "22175c83-6fb7-4f81-b2e6-8e296a6ac451\n",
      "beb1cad9-016f-49c5-ad3c-f23bff549ff2\n"
     ]
    },
    {
     "name": "stderr",
     "output_type": "stream",
     "text": [
      "INFO:root:Listing stix_relations with {type: uses, from_id: 22175c83-6fb7-4f81-b2e6-8e296a6ac451, to_id: beb1cad9-016f-49c5-ad3c-f23bff549ff2}\n",
      "INFO:root:Reading Report {a216498d-1d4c-4555-a6a5-c62f38300e74}.\n",
      "INFO:root:Adding Stix-Entity {762601b2-0b73-40c6-99af-34a52fa79607} to Report {a216498d-1d4c-4555-a6a5-c62f38300e74}\n",
      "C:\\ProgramData\\Anaconda3\\lib\\site-packages\\ipykernel_launcher.py:300: DeprecationWarning: Call to deprecated method get_stix_domain_entity. (Replaced by the StixDomainEntity class in pycti) -- Deprecated since version 2.1.0.\n",
      "INFO:root:Reading Stix-Domain-Entity {22175c83-6fb7-4f81-b2e6-8e296a6ac451}.\n",
      "C:\\ProgramData\\Anaconda3\\lib\\site-packages\\ipykernel_launcher.py:303: DeprecationWarning: Call to deprecated method get_stix_domain_entity. (Replaced by the StixDomainEntity class in pycti) -- Deprecated since version 2.1.0.\n",
      "INFO:root:Reading Stix-Domain-Entity {b7be70f8-662e-411d-bdf0-8b573530d967}.\n"
     ]
    },
    {
     "name": "stdout",
     "output_type": "stream",
     "text": [
      "22175c83-6fb7-4f81-b2e6-8e296a6ac451\n",
      "b7be70f8-662e-411d-bdf0-8b573530d967\n"
     ]
    },
    {
     "name": "stderr",
     "output_type": "stream",
     "text": [
      "INFO:root:Listing stix_relations with {type: uses, from_id: 22175c83-6fb7-4f81-b2e6-8e296a6ac451, to_id: b7be70f8-662e-411d-bdf0-8b573530d967}\n",
      "INFO:root:Reading Report {a216498d-1d4c-4555-a6a5-c62f38300e74}.\n",
      "INFO:root:Adding Stix-Entity {620257a0-f343-4c59-8c1e-d77237a07801} to Report {a216498d-1d4c-4555-a6a5-c62f38300e74}\n",
      "C:\\ProgramData\\Anaconda3\\lib\\site-packages\\ipykernel_launcher.py:300: DeprecationWarning: Call to deprecated method get_stix_domain_entity. (Replaced by the StixDomainEntity class in pycti) -- Deprecated since version 2.1.0.\n",
      "INFO:root:Reading Stix-Domain-Entity {22175c83-6fb7-4f81-b2e6-8e296a6ac451}.\n",
      "C:\\ProgramData\\Anaconda3\\lib\\site-packages\\ipykernel_launcher.py:303: DeprecationWarning: Call to deprecated method get_stix_domain_entity. (Replaced by the StixDomainEntity class in pycti) -- Deprecated since version 2.1.0.\n",
      "INFO:root:Reading Stix-Domain-Entity {58eacb3e-a736-41c8-ba57-9328e4adbca5}.\n"
     ]
    },
    {
     "name": "stdout",
     "output_type": "stream",
     "text": [
      "22175c83-6fb7-4f81-b2e6-8e296a6ac451\n",
      "58eacb3e-a736-41c8-ba57-9328e4adbca5\n"
     ]
    },
    {
     "name": "stderr",
     "output_type": "stream",
     "text": [
      "INFO:root:Listing stix_relations with {type: uses, from_id: 22175c83-6fb7-4f81-b2e6-8e296a6ac451, to_id: 58eacb3e-a736-41c8-ba57-9328e4adbca5}\n",
      "INFO:root:Reading Report {a216498d-1d4c-4555-a6a5-c62f38300e74}.\n",
      "INFO:root:Adding Stix-Entity {0b912956-0268-43ea-a6d8-f2daea00a2fc} to Report {a216498d-1d4c-4555-a6a5-c62f38300e74}\n",
      "C:\\ProgramData\\Anaconda3\\lib\\site-packages\\ipykernel_launcher.py:300: DeprecationWarning: Call to deprecated method get_stix_domain_entity. (Replaced by the StixDomainEntity class in pycti) -- Deprecated since version 2.1.0.\n",
      "INFO:root:Reading Stix-Domain-Entity {22175c83-6fb7-4f81-b2e6-8e296a6ac451}.\n",
      "C:\\ProgramData\\Anaconda3\\lib\\site-packages\\ipykernel_launcher.py:303: DeprecationWarning: Call to deprecated method get_stix_domain_entity. (Replaced by the StixDomainEntity class in pycti) -- Deprecated since version 2.1.0.\n",
      "INFO:root:Reading Stix-Domain-Entity {e0e7107f-4b5c-4238-9742-9922329b343f}.\n",
      "INFO:root:Listing stix_relations with {type: uses, from_id: 22175c83-6fb7-4f81-b2e6-8e296a6ac451, to_id: e0e7107f-4b5c-4238-9742-9922329b343f}\n"
     ]
    },
    {
     "name": "stdout",
     "output_type": "stream",
     "text": [
      "22175c83-6fb7-4f81-b2e6-8e296a6ac451\n",
      "e0e7107f-4b5c-4238-9742-9922329b343f\n"
     ]
    },
    {
     "name": "stderr",
     "output_type": "stream",
     "text": [
      "INFO:root:Reading Report {a216498d-1d4c-4555-a6a5-c62f38300e74}.\n",
      "INFO:root:Adding Stix-Entity {1d24261c-ae34-412a-b081-eaec2a24a3d0} to Report {a216498d-1d4c-4555-a6a5-c62f38300e74}\n",
      "C:\\ProgramData\\Anaconda3\\lib\\site-packages\\ipykernel_launcher.py:300: DeprecationWarning: Call to deprecated method get_stix_domain_entity. (Replaced by the StixDomainEntity class in pycti) -- Deprecated since version 2.1.0.\n",
      "INFO:root:Reading Stix-Domain-Entity {22175c83-6fb7-4f81-b2e6-8e296a6ac451}.\n",
      "C:\\ProgramData\\Anaconda3\\lib\\site-packages\\ipykernel_launcher.py:303: DeprecationWarning: Call to deprecated method get_stix_domain_entity. (Replaced by the StixDomainEntity class in pycti) -- Deprecated since version 2.1.0.\n",
      "INFO:root:Reading Stix-Domain-Entity {6a186439-adac-4416-94a2-fcd101a67bef}.\n"
     ]
    },
    {
     "name": "stdout",
     "output_type": "stream",
     "text": [
      "22175c83-6fb7-4f81-b2e6-8e296a6ac451\n",
      "6a186439-adac-4416-94a2-fcd101a67bef\n"
     ]
    },
    {
     "name": "stderr",
     "output_type": "stream",
     "text": [
      "INFO:root:Listing stix_relations with {type: uses, from_id: 22175c83-6fb7-4f81-b2e6-8e296a6ac451, to_id: 6a186439-adac-4416-94a2-fcd101a67bef}\n",
      "INFO:root:Reading Report {a216498d-1d4c-4555-a6a5-c62f38300e74}.\n",
      "INFO:root:Adding Stix-Entity {6f9db8f7-c53e-41ac-b777-14fb6f663763} to Report {a216498d-1d4c-4555-a6a5-c62f38300e74}\n",
      "C:\\ProgramData\\Anaconda3\\lib\\site-packages\\ipykernel_launcher.py:300: DeprecationWarning: Call to deprecated method get_stix_domain_entity. (Replaced by the StixDomainEntity class in pycti) -- Deprecated since version 2.1.0.\n",
      "INFO:root:Reading Stix-Domain-Entity {22175c83-6fb7-4f81-b2e6-8e296a6ac451}.\n",
      "C:\\ProgramData\\Anaconda3\\lib\\site-packages\\ipykernel_launcher.py:303: DeprecationWarning: Call to deprecated method get_stix_domain_entity. (Replaced by the StixDomainEntity class in pycti) -- Deprecated since version 2.1.0.\n",
      "INFO:root:Reading Stix-Domain-Entity {5c60fe15-cbc3-4135-bc56-52387e7c1457}.\n",
      "INFO:root:Listing stix_relations with {type: uses, from_id: 22175c83-6fb7-4f81-b2e6-8e296a6ac451, to_id: 5c60fe15-cbc3-4135-bc56-52387e7c1457}\n"
     ]
    },
    {
     "name": "stdout",
     "output_type": "stream",
     "text": [
      "22175c83-6fb7-4f81-b2e6-8e296a6ac451\n",
      "5c60fe15-cbc3-4135-bc56-52387e7c1457\n"
     ]
    },
    {
     "name": "stderr",
     "output_type": "stream",
     "text": [
      "INFO:root:Reading Report {a216498d-1d4c-4555-a6a5-c62f38300e74}.\n",
      "INFO:root:Adding Stix-Entity {528c86fb-c33c-4259-adaa-5b057417363f} to Report {a216498d-1d4c-4555-a6a5-c62f38300e74}\n",
      "C:\\ProgramData\\Anaconda3\\lib\\site-packages\\ipykernel_launcher.py:300: DeprecationWarning: Call to deprecated method get_stix_domain_entity. (Replaced by the StixDomainEntity class in pycti) -- Deprecated since version 2.1.0.\n",
      "INFO:root:Reading Stix-Domain-Entity {22175c83-6fb7-4f81-b2e6-8e296a6ac451}.\n",
      "C:\\ProgramData\\Anaconda3\\lib\\site-packages\\ipykernel_launcher.py:303: DeprecationWarning: Call to deprecated method get_stix_domain_entity. (Replaced by the StixDomainEntity class in pycti) -- Deprecated since version 2.1.0.\n",
      "INFO:root:Reading Stix-Domain-Entity {522a0990-7258-44fe-be11-dbbea1275883}.\n"
     ]
    },
    {
     "name": "stdout",
     "output_type": "stream",
     "text": [
      "22175c83-6fb7-4f81-b2e6-8e296a6ac451\n",
      "522a0990-7258-44fe-be11-dbbea1275883\n"
     ]
    },
    {
     "name": "stderr",
     "output_type": "stream",
     "text": [
      "INFO:root:Listing stix_relations with {type: uses, from_id: 22175c83-6fb7-4f81-b2e6-8e296a6ac451, to_id: 522a0990-7258-44fe-be11-dbbea1275883}\n",
      "INFO:root:Reading Report {a216498d-1d4c-4555-a6a5-c62f38300e74}.\n",
      "INFO:root:Adding Stix-Entity {8127d0e8-d27b-4937-a5ce-3540e7083f5e} to Report {a216498d-1d4c-4555-a6a5-c62f38300e74}\n",
      "C:\\ProgramData\\Anaconda3\\lib\\site-packages\\ipykernel_launcher.py:300: DeprecationWarning: Call to deprecated method get_stix_domain_entity. (Replaced by the StixDomainEntity class in pycti) -- Deprecated since version 2.1.0.\n",
      "INFO:root:Reading Stix-Domain-Entity {22175c83-6fb7-4f81-b2e6-8e296a6ac451}.\n",
      "C:\\ProgramData\\Anaconda3\\lib\\site-packages\\ipykernel_launcher.py:303: DeprecationWarning: Call to deprecated method get_stix_domain_entity. (Replaced by the StixDomainEntity class in pycti) -- Deprecated since version 2.1.0.\n",
      "INFO:root:Reading Stix-Domain-Entity {65e096e1-3467-4bd5-a574-9a475701fbdb}.\n"
     ]
    },
    {
     "name": "stdout",
     "output_type": "stream",
     "text": [
      "22175c83-6fb7-4f81-b2e6-8e296a6ac451\n",
      "65e096e1-3467-4bd5-a574-9a475701fbdb\n"
     ]
    },
    {
     "name": "stderr",
     "output_type": "stream",
     "text": [
      "INFO:root:Listing stix_relations with {type: uses, from_id: 22175c83-6fb7-4f81-b2e6-8e296a6ac451, to_id: 65e096e1-3467-4bd5-a574-9a475701fbdb}\n",
      "INFO:root:Reading Report {a216498d-1d4c-4555-a6a5-c62f38300e74}.\n",
      "INFO:root:Adding Stix-Entity {6539eb9b-710d-4477-bd76-13fe35715fa1} to Report {a216498d-1d4c-4555-a6a5-c62f38300e74}\n",
      "C:\\ProgramData\\Anaconda3\\lib\\site-packages\\ipykernel_launcher.py:300: DeprecationWarning: Call to deprecated method get_stix_domain_entity. (Replaced by the StixDomainEntity class in pycti) -- Deprecated since version 2.1.0.\n",
      "INFO:root:Reading Stix-Domain-Entity {22175c83-6fb7-4f81-b2e6-8e296a6ac451}.\n",
      "C:\\ProgramData\\Anaconda3\\lib\\site-packages\\ipykernel_launcher.py:303: DeprecationWarning: Call to deprecated method get_stix_domain_entity. (Replaced by the StixDomainEntity class in pycti) -- Deprecated since version 2.1.0.\n",
      "INFO:root:Reading Stix-Domain-Entity {a66f1395-d712-4bb0-a268-5547d454dd0f}.\n"
     ]
    },
    {
     "name": "stdout",
     "output_type": "stream",
     "text": [
      "22175c83-6fb7-4f81-b2e6-8e296a6ac451\n",
      "a66f1395-d712-4bb0-a268-5547d454dd0f\n"
     ]
    },
    {
     "name": "stderr",
     "output_type": "stream",
     "text": [
      "INFO:root:Listing stix_relations with {type: uses, from_id: 22175c83-6fb7-4f81-b2e6-8e296a6ac451, to_id: a66f1395-d712-4bb0-a268-5547d454dd0f}\n",
      "INFO:root:Reading Report {a216498d-1d4c-4555-a6a5-c62f38300e74}.\n",
      "INFO:root:Adding Stix-Entity {ac35c7cd-c8a6-4c44-881e-3e9156eb443f} to Report {a216498d-1d4c-4555-a6a5-c62f38300e74}\n",
      "C:\\ProgramData\\Anaconda3\\lib\\site-packages\\ipykernel_launcher.py:300: DeprecationWarning: Call to deprecated method get_stix_domain_entity. (Replaced by the StixDomainEntity class in pycti) -- Deprecated since version 2.1.0.\n",
      "INFO:root:Reading Stix-Domain-Entity {22175c83-6fb7-4f81-b2e6-8e296a6ac451}.\n",
      "C:\\ProgramData\\Anaconda3\\lib\\site-packages\\ipykernel_launcher.py:303: DeprecationWarning: Call to deprecated method get_stix_domain_entity. (Replaced by the StixDomainEntity class in pycti) -- Deprecated since version 2.1.0.\n",
      "INFO:root:Reading Stix-Domain-Entity {e61a95eb-d86f-400a-885d-f6895ede1327}.\n"
     ]
    },
    {
     "name": "stdout",
     "output_type": "stream",
     "text": [
      "22175c83-6fb7-4f81-b2e6-8e296a6ac451\n",
      "e61a95eb-d86f-400a-885d-f6895ede1327\n"
     ]
    },
    {
     "name": "stderr",
     "output_type": "stream",
     "text": [
      "INFO:root:Listing stix_relations with {type: uses, from_id: 22175c83-6fb7-4f81-b2e6-8e296a6ac451, to_id: e61a95eb-d86f-400a-885d-f6895ede1327}\n",
      "INFO:root:Reading Report {a216498d-1d4c-4555-a6a5-c62f38300e74}.\n",
      "INFO:root:Adding Stix-Entity {75e69c2e-4622-40e8-9abd-550b073ffa4d} to Report {a216498d-1d4c-4555-a6a5-c62f38300e74}\n",
      "C:\\ProgramData\\Anaconda3\\lib\\site-packages\\ipykernel_launcher.py:300: DeprecationWarning: Call to deprecated method get_stix_domain_entity. (Replaced by the StixDomainEntity class in pycti) -- Deprecated since version 2.1.0.\n",
      "INFO:root:Reading Stix-Domain-Entity {22175c83-6fb7-4f81-b2e6-8e296a6ac451}.\n",
      "C:\\ProgramData\\Anaconda3\\lib\\site-packages\\ipykernel_launcher.py:303: DeprecationWarning: Call to deprecated method get_stix_domain_entity. (Replaced by the StixDomainEntity class in pycti) -- Deprecated since version 2.1.0.\n",
      "INFO:root:Reading Stix-Domain-Entity {f76a44e3-4503-48f7-b5e8-cf83bcd6cf83}.\n"
     ]
    },
    {
     "name": "stdout",
     "output_type": "stream",
     "text": [
      "22175c83-6fb7-4f81-b2e6-8e296a6ac451\n",
      "f76a44e3-4503-48f7-b5e8-cf83bcd6cf83\n"
     ]
    },
    {
     "name": "stderr",
     "output_type": "stream",
     "text": [
      "INFO:root:Listing stix_relations with {type: uses, from_id: 22175c83-6fb7-4f81-b2e6-8e296a6ac451, to_id: f76a44e3-4503-48f7-b5e8-cf83bcd6cf83}\n",
      "INFO:root:Reading Report {a216498d-1d4c-4555-a6a5-c62f38300e74}.\n",
      "INFO:root:Adding Stix-Entity {af58b1f6-ba5b-4cea-8af5-0243be8c1928} to Report {a216498d-1d4c-4555-a6a5-c62f38300e74}\n",
      "C:\\ProgramData\\Anaconda3\\lib\\site-packages\\ipykernel_launcher.py:300: DeprecationWarning: Call to deprecated method get_stix_domain_entity. (Replaced by the StixDomainEntity class in pycti) -- Deprecated since version 2.1.0.\n",
      "INFO:root:Reading Stix-Domain-Entity {22175c83-6fb7-4f81-b2e6-8e296a6ac451}.\n",
      "C:\\ProgramData\\Anaconda3\\lib\\site-packages\\ipykernel_launcher.py:303: DeprecationWarning: Call to deprecated method get_stix_domain_entity. (Replaced by the StixDomainEntity class in pycti) -- Deprecated since version 2.1.0.\n",
      "INFO:root:Reading Stix-Domain-Entity {de251092-8d94-428a-b26d-713b96658a46}.\n"
     ]
    },
    {
     "name": "stdout",
     "output_type": "stream",
     "text": [
      "22175c83-6fb7-4f81-b2e6-8e296a6ac451\n",
      "de251092-8d94-428a-b26d-713b96658a46\n"
     ]
    },
    {
     "name": "stderr",
     "output_type": "stream",
     "text": [
      "INFO:root:Listing stix_relations with {type: uses, from_id: 22175c83-6fb7-4f81-b2e6-8e296a6ac451, to_id: de251092-8d94-428a-b26d-713b96658a46}\n",
      "INFO:root:Reading Report {a216498d-1d4c-4555-a6a5-c62f38300e74}.\n",
      "INFO:root:Adding Stix-Entity {e0b23e5e-a254-4984-b2d4-dbf389002d90} to Report {a216498d-1d4c-4555-a6a5-c62f38300e74}\n",
      "C:\\ProgramData\\Anaconda3\\lib\\site-packages\\ipykernel_launcher.py:300: DeprecationWarning: Call to deprecated method get_stix_domain_entity. (Replaced by the StixDomainEntity class in pycti) -- Deprecated since version 2.1.0.\n",
      "INFO:root:Reading Stix-Domain-Entity {22175c83-6fb7-4f81-b2e6-8e296a6ac451}.\n",
      "C:\\ProgramData\\Anaconda3\\lib\\site-packages\\ipykernel_launcher.py:303: DeprecationWarning: Call to deprecated method get_stix_domain_entity. (Replaced by the StixDomainEntity class in pycti) -- Deprecated since version 2.1.0.\n",
      "INFO:root:Reading Stix-Domain-Entity {7c30bee8-9d28-40ff-a89d-e7b9ba12038a}.\n"
     ]
    },
    {
     "name": "stdout",
     "output_type": "stream",
     "text": [
      "22175c83-6fb7-4f81-b2e6-8e296a6ac451\n",
      "7c30bee8-9d28-40ff-a89d-e7b9ba12038a\n"
     ]
    },
    {
     "name": "stderr",
     "output_type": "stream",
     "text": [
      "INFO:root:Listing stix_relations with {type: uses, from_id: 22175c83-6fb7-4f81-b2e6-8e296a6ac451, to_id: 7c30bee8-9d28-40ff-a89d-e7b9ba12038a}\n",
      "INFO:root:Reading Report {a216498d-1d4c-4555-a6a5-c62f38300e74}.\n",
      "INFO:root:Adding Stix-Entity {97ec894b-5555-4203-b3e3-9c145c870a8c} to Report {a216498d-1d4c-4555-a6a5-c62f38300e74}\n",
      "C:\\ProgramData\\Anaconda3\\lib\\site-packages\\ipykernel_launcher.py:300: DeprecationWarning: Call to deprecated method get_stix_domain_entity. (Replaced by the StixDomainEntity class in pycti) -- Deprecated since version 2.1.0.\n",
      "INFO:root:Reading Stix-Domain-Entity {22175c83-6fb7-4f81-b2e6-8e296a6ac451}.\n",
      "C:\\ProgramData\\Anaconda3\\lib\\site-packages\\ipykernel_launcher.py:303: DeprecationWarning: Call to deprecated method get_stix_domain_entity. (Replaced by the StixDomainEntity class in pycti) -- Deprecated since version 2.1.0.\n",
      "INFO:root:Reading Stix-Domain-Entity {98fd75a1-aca9-4b77-9db8-6c6a10e30246}.\n"
     ]
    },
    {
     "name": "stdout",
     "output_type": "stream",
     "text": [
      "22175c83-6fb7-4f81-b2e6-8e296a6ac451\n",
      "98fd75a1-aca9-4b77-9db8-6c6a10e30246\n"
     ]
    },
    {
     "name": "stderr",
     "output_type": "stream",
     "text": [
      "INFO:root:Listing stix_relations with {type: uses, from_id: 22175c83-6fb7-4f81-b2e6-8e296a6ac451, to_id: 98fd75a1-aca9-4b77-9db8-6c6a10e30246}\n",
      "INFO:root:Reading Report {a216498d-1d4c-4555-a6a5-c62f38300e74}.\n",
      "INFO:root:Adding Stix-Entity {7db233c5-3881-4e89-ba3f-a0bed5d0baa1} to Report {a216498d-1d4c-4555-a6a5-c62f38300e74}\n",
      "C:\\ProgramData\\Anaconda3\\lib\\site-packages\\ipykernel_launcher.py:300: DeprecationWarning: Call to deprecated method get_stix_domain_entity. (Replaced by the StixDomainEntity class in pycti) -- Deprecated since version 2.1.0.\n",
      "INFO:root:Reading Stix-Domain-Entity {22175c83-6fb7-4f81-b2e6-8e296a6ac451}.\n",
      "C:\\ProgramData\\Anaconda3\\lib\\site-packages\\ipykernel_launcher.py:303: DeprecationWarning: Call to deprecated method get_stix_domain_entity. (Replaced by the StixDomainEntity class in pycti) -- Deprecated since version 2.1.0.\n",
      "INFO:root:Reading Stix-Domain-Entity {e44a1c10-d1d2-4ee6-848a-5ae77128aec0}.\n",
      "INFO:root:Listing stix_relations with {type: uses, from_id: 22175c83-6fb7-4f81-b2e6-8e296a6ac451, to_id: e44a1c10-d1d2-4ee6-848a-5ae77128aec0}\n"
     ]
    },
    {
     "name": "stdout",
     "output_type": "stream",
     "text": [
      "22175c83-6fb7-4f81-b2e6-8e296a6ac451\n",
      "e44a1c10-d1d2-4ee6-848a-5ae77128aec0\n"
     ]
    },
    {
     "name": "stderr",
     "output_type": "stream",
     "text": [
      "INFO:root:Reading Report {a216498d-1d4c-4555-a6a5-c62f38300e74}.\n",
      "INFO:root:Adding Stix-Entity {c6278858-7067-4892-b393-ef95290d337d} to Report {a216498d-1d4c-4555-a6a5-c62f38300e74}\n",
      "C:\\ProgramData\\Anaconda3\\lib\\site-packages\\ipykernel_launcher.py:300: DeprecationWarning: Call to deprecated method get_stix_domain_entity. (Replaced by the StixDomainEntity class in pycti) -- Deprecated since version 2.1.0.\n",
      "INFO:root:Reading Stix-Domain-Entity {22175c83-6fb7-4f81-b2e6-8e296a6ac451}.\n",
      "C:\\ProgramData\\Anaconda3\\lib\\site-packages\\ipykernel_launcher.py:303: DeprecationWarning: Call to deprecated method get_stix_domain_entity. (Replaced by the StixDomainEntity class in pycti) -- Deprecated since version 2.1.0.\n",
      "INFO:root:Reading Stix-Domain-Entity {2fbbe108-832e-4454-8bc6-d4e4f682b70b}.\n"
     ]
    },
    {
     "name": "stdout",
     "output_type": "stream",
     "text": [
      "22175c83-6fb7-4f81-b2e6-8e296a6ac451\n",
      "2fbbe108-832e-4454-8bc6-d4e4f682b70b\n"
     ]
    },
    {
     "name": "stderr",
     "output_type": "stream",
     "text": [
      "INFO:root:Listing stix_relations with {type: uses, from_id: 22175c83-6fb7-4f81-b2e6-8e296a6ac451, to_id: 2fbbe108-832e-4454-8bc6-d4e4f682b70b}\n",
      "INFO:root:Reading Report {a216498d-1d4c-4555-a6a5-c62f38300e74}.\n",
      "INFO:root:Adding Stix-Entity {16413bc4-7502-4a98-aafe-1eb44348ef91} to Report {a216498d-1d4c-4555-a6a5-c62f38300e74}\n",
      "C:\\ProgramData\\Anaconda3\\lib\\site-packages\\ipykernel_launcher.py:300: DeprecationWarning: Call to deprecated method get_stix_domain_entity. (Replaced by the StixDomainEntity class in pycti) -- Deprecated since version 2.1.0.\n",
      "INFO:root:Reading Stix-Domain-Entity {22175c83-6fb7-4f81-b2e6-8e296a6ac451}.\n",
      "C:\\ProgramData\\Anaconda3\\lib\\site-packages\\ipykernel_launcher.py:303: DeprecationWarning: Call to deprecated method get_stix_domain_entity. (Replaced by the StixDomainEntity class in pycti) -- Deprecated since version 2.1.0.\n",
      "INFO:root:Reading Stix-Domain-Entity {83a6e868-6791-4a58-a658-646d271c49c6}.\n"
     ]
    },
    {
     "name": "stdout",
     "output_type": "stream",
     "text": [
      "22175c83-6fb7-4f81-b2e6-8e296a6ac451\n",
      "83a6e868-6791-4a58-a658-646d271c49c6\n"
     ]
    },
    {
     "name": "stderr",
     "output_type": "stream",
     "text": [
      "INFO:root:Listing stix_relations with {type: uses, from_id: 22175c83-6fb7-4f81-b2e6-8e296a6ac451, to_id: 83a6e868-6791-4a58-a658-646d271c49c6}\n",
      "INFO:root:Reading Report {a216498d-1d4c-4555-a6a5-c62f38300e74}.\n",
      "INFO:root:Adding Stix-Entity {79107150-873f-400d-ac91-c8c1b3b71da1} to Report {a216498d-1d4c-4555-a6a5-c62f38300e74}\n",
      "C:\\ProgramData\\Anaconda3\\lib\\site-packages\\ipykernel_launcher.py:300: DeprecationWarning: Call to deprecated method get_stix_domain_entity. (Replaced by the StixDomainEntity class in pycti) -- Deprecated since version 2.1.0.\n",
      "INFO:root:Reading Stix-Domain-Entity {22175c83-6fb7-4f81-b2e6-8e296a6ac451}.\n",
      "C:\\ProgramData\\Anaconda3\\lib\\site-packages\\ipykernel_launcher.py:303: DeprecationWarning: Call to deprecated method get_stix_domain_entity. (Replaced by the StixDomainEntity class in pycti) -- Deprecated since version 2.1.0.\n",
      "INFO:root:Reading Stix-Domain-Entity {020f02e8-75d1-4527-8000-19fcf34a2b1c}.\n"
     ]
    },
    {
     "name": "stdout",
     "output_type": "stream",
     "text": [
      "22175c83-6fb7-4f81-b2e6-8e296a6ac451\n",
      "020f02e8-75d1-4527-8000-19fcf34a2b1c\n"
     ]
    },
    {
     "name": "stderr",
     "output_type": "stream",
     "text": [
      "INFO:root:Listing stix_relations with {type: uses, from_id: 22175c83-6fb7-4f81-b2e6-8e296a6ac451, to_id: 020f02e8-75d1-4527-8000-19fcf34a2b1c}\n",
      "INFO:root:Reading Report {a216498d-1d4c-4555-a6a5-c62f38300e74}.\n",
      "INFO:root:Adding Stix-Entity {e998e676-752b-48e3-8ae8-d8c90af60f66} to Report {a216498d-1d4c-4555-a6a5-c62f38300e74}\n",
      "C:\\ProgramData\\Anaconda3\\lib\\site-packages\\ipykernel_launcher.py:300: DeprecationWarning: Call to deprecated method get_stix_domain_entity. (Replaced by the StixDomainEntity class in pycti) -- Deprecated since version 2.1.0.\n",
      "INFO:root:Reading Stix-Domain-Entity {22175c83-6fb7-4f81-b2e6-8e296a6ac451}.\n",
      "C:\\ProgramData\\Anaconda3\\lib\\site-packages\\ipykernel_launcher.py:303: DeprecationWarning: Call to deprecated method get_stix_domain_entity. (Replaced by the StixDomainEntity class in pycti) -- Deprecated since version 2.1.0.\n",
      "INFO:root:Reading Stix-Domain-Entity {a5f70f2f-52d3-4412-abd9-b77276de4887}.\n"
     ]
    },
    {
     "name": "stdout",
     "output_type": "stream",
     "text": [
      "22175c83-6fb7-4f81-b2e6-8e296a6ac451\n",
      "a5f70f2f-52d3-4412-abd9-b77276de4887\n"
     ]
    },
    {
     "name": "stderr",
     "output_type": "stream",
     "text": [
      "INFO:root:Listing stix_relations with {type: uses, from_id: 22175c83-6fb7-4f81-b2e6-8e296a6ac451, to_id: a5f70f2f-52d3-4412-abd9-b77276de4887}\n",
      "INFO:root:Reading Report {a216498d-1d4c-4555-a6a5-c62f38300e74}.\n",
      "INFO:root:Adding Stix-Entity {3b309146-6167-4c43-a77e-467f9649de78} to Report {a216498d-1d4c-4555-a6a5-c62f38300e74}\n",
      "C:\\ProgramData\\Anaconda3\\lib\\site-packages\\ipykernel_launcher.py:300: DeprecationWarning: Call to deprecated method get_stix_domain_entity. (Replaced by the StixDomainEntity class in pycti) -- Deprecated since version 2.1.0.\n",
      "INFO:root:Reading Stix-Domain-Entity {22175c83-6fb7-4f81-b2e6-8e296a6ac451}.\n",
      "C:\\ProgramData\\Anaconda3\\lib\\site-packages\\ipykernel_launcher.py:303: DeprecationWarning: Call to deprecated method get_stix_domain_entity. (Replaced by the StixDomainEntity class in pycti) -- Deprecated since version 2.1.0.\n",
      "INFO:root:Reading Stix-Domain-Entity {191d0c8f-7b92-4723-94e0-086f38d8679e}.\n"
     ]
    },
    {
     "name": "stdout",
     "output_type": "stream",
     "text": [
      "22175c83-6fb7-4f81-b2e6-8e296a6ac451\n",
      "191d0c8f-7b92-4723-94e0-086f38d8679e\n"
     ]
    },
    {
     "name": "stderr",
     "output_type": "stream",
     "text": [
      "INFO:root:Listing stix_relations with {type: uses, from_id: 22175c83-6fb7-4f81-b2e6-8e296a6ac451, to_id: 191d0c8f-7b92-4723-94e0-086f38d8679e}\n",
      "INFO:root:Reading Report {a216498d-1d4c-4555-a6a5-c62f38300e74}.\n",
      "INFO:root:Adding Stix-Entity {2bec7c20-1ba8-49a8-b7d8-917cb6be818f} to Report {a216498d-1d4c-4555-a6a5-c62f38300e74}\n",
      "C:\\ProgramData\\Anaconda3\\lib\\site-packages\\ipykernel_launcher.py:300: DeprecationWarning: Call to deprecated method get_stix_domain_entity. (Replaced by the StixDomainEntity class in pycti) -- Deprecated since version 2.1.0.\n",
      "INFO:root:Reading Stix-Domain-Entity {22175c83-6fb7-4f81-b2e6-8e296a6ac451}.\n",
      "C:\\ProgramData\\Anaconda3\\lib\\site-packages\\ipykernel_launcher.py:303: DeprecationWarning: Call to deprecated method get_stix_domain_entity. (Replaced by the StixDomainEntity class in pycti) -- Deprecated since version 2.1.0.\n",
      "INFO:root:Reading Stix-Domain-Entity {56a0a83f-118c-43cb-99fb-8cbad400c35e}.\n"
     ]
    },
    {
     "name": "stdout",
     "output_type": "stream",
     "text": [
      "22175c83-6fb7-4f81-b2e6-8e296a6ac451\n",
      "56a0a83f-118c-43cb-99fb-8cbad400c35e\n"
     ]
    },
    {
     "name": "stderr",
     "output_type": "stream",
     "text": [
      "INFO:root:Listing stix_relations with {type: uses, from_id: 22175c83-6fb7-4f81-b2e6-8e296a6ac451, to_id: 56a0a83f-118c-43cb-99fb-8cbad400c35e}\n",
      "INFO:root:Reading Report {a216498d-1d4c-4555-a6a5-c62f38300e74}.\n",
      "INFO:root:Adding Stix-Entity {e7d553e0-ff69-4083-b954-dba5d64d91f9} to Report {a216498d-1d4c-4555-a6a5-c62f38300e74}\n",
      "C:\\ProgramData\\Anaconda3\\lib\\site-packages\\ipykernel_launcher.py:300: DeprecationWarning: Call to deprecated method get_stix_domain_entity. (Replaced by the StixDomainEntity class in pycti) -- Deprecated since version 2.1.0.\n",
      "INFO:root:Reading Stix-Domain-Entity {22175c83-6fb7-4f81-b2e6-8e296a6ac451}.\n",
      "C:\\ProgramData\\Anaconda3\\lib\\site-packages\\ipykernel_launcher.py:303: DeprecationWarning: Call to deprecated method get_stix_domain_entity. (Replaced by the StixDomainEntity class in pycti) -- Deprecated since version 2.1.0.\n",
      "INFO:root:Reading Stix-Domain-Entity {d5e0d90a-8502-4705-bfcf-eb57ebd44053}.\n"
     ]
    },
    {
     "name": "stdout",
     "output_type": "stream",
     "text": [
      "22175c83-6fb7-4f81-b2e6-8e296a6ac451\n",
      "d5e0d90a-8502-4705-bfcf-eb57ebd44053\n"
     ]
    },
    {
     "name": "stderr",
     "output_type": "stream",
     "text": [
      "INFO:root:Listing stix_relations with {type: uses, from_id: 22175c83-6fb7-4f81-b2e6-8e296a6ac451, to_id: d5e0d90a-8502-4705-bfcf-eb57ebd44053}\n",
      "INFO:root:Reading Report {a216498d-1d4c-4555-a6a5-c62f38300e74}.\n",
      "INFO:root:Adding Stix-Entity {13079f39-745f-4c98-bb86-291f23b78b05} to Report {a216498d-1d4c-4555-a6a5-c62f38300e74}\n",
      "C:\\ProgramData\\Anaconda3\\lib\\site-packages\\ipykernel_launcher.py:300: DeprecationWarning: Call to deprecated method get_stix_domain_entity. (Replaced by the StixDomainEntity class in pycti) -- Deprecated since version 2.1.0.\n",
      "INFO:root:Reading Stix-Domain-Entity {22175c83-6fb7-4f81-b2e6-8e296a6ac451}.\n",
      "C:\\ProgramData\\Anaconda3\\lib\\site-packages\\ipykernel_launcher.py:303: DeprecationWarning: Call to deprecated method get_stix_domain_entity. (Replaced by the StixDomainEntity class in pycti) -- Deprecated since version 2.1.0.\n",
      "INFO:root:Reading Stix-Domain-Entity {1c0a703e-8245-4206-b21b-1104224a89dc}.\n"
     ]
    },
    {
     "name": "stdout",
     "output_type": "stream",
     "text": [
      "22175c83-6fb7-4f81-b2e6-8e296a6ac451\n",
      "1c0a703e-8245-4206-b21b-1104224a89dc\n"
     ]
    },
    {
     "name": "stderr",
     "output_type": "stream",
     "text": [
      "INFO:root:Listing stix_relations with {type: targets, from_id: 22175c83-6fb7-4f81-b2e6-8e296a6ac451, to_id: 1c0a703e-8245-4206-b21b-1104224a89dc}\n",
      "INFO:root:Reading Report {a216498d-1d4c-4555-a6a5-c62f38300e74}.\n",
      "INFO:root:Adding Stix-Entity {a4ec1130-edfb-47de-8b06-050d7c16ee9a} to Report {a216498d-1d4c-4555-a6a5-c62f38300e74}\n",
      "C:\\ProgramData\\Anaconda3\\lib\\site-packages\\ipykernel_launcher.py:300: DeprecationWarning: Call to deprecated method get_stix_domain_entity. (Replaced by the StixDomainEntity class in pycti) -- Deprecated since version 2.1.0.\n",
      "INFO:root:Reading Stix-Domain-Entity {22175c83-6fb7-4f81-b2e6-8e296a6ac451}.\n",
      "C:\\ProgramData\\Anaconda3\\lib\\site-packages\\ipykernel_launcher.py:303: DeprecationWarning: Call to deprecated method get_stix_domain_entity. (Replaced by the StixDomainEntity class in pycti) -- Deprecated since version 2.1.0.\n",
      "INFO:root:Reading Stix-Domain-Entity {b797c618-45cb-407a-b5ce-9549a5056bd6}.\n"
     ]
    },
    {
     "name": "stdout",
     "output_type": "stream",
     "text": [
      "22175c83-6fb7-4f81-b2e6-8e296a6ac451\n",
      "b797c618-45cb-407a-b5ce-9549a5056bd6\n"
     ]
    },
    {
     "name": "stderr",
     "output_type": "stream",
     "text": [
      "INFO:root:Listing stix_relations with {type: targets, from_id: 22175c83-6fb7-4f81-b2e6-8e296a6ac451, to_id: b797c618-45cb-407a-b5ce-9549a5056bd6}\n",
      "INFO:root:Reading Report {a216498d-1d4c-4555-a6a5-c62f38300e74}.\n",
      "INFO:root:Adding Stix-Entity {bd8c98d4-c95f-4135-9493-20f3ee147020} to Report {a216498d-1d4c-4555-a6a5-c62f38300e74}\n",
      "C:\\ProgramData\\Anaconda3\\lib\\site-packages\\ipykernel_launcher.py:300: DeprecationWarning: Call to deprecated method get_stix_domain_entity. (Replaced by the StixDomainEntity class in pycti) -- Deprecated since version 2.1.0.\n",
      "INFO:root:Reading Stix-Domain-Entity {22175c83-6fb7-4f81-b2e6-8e296a6ac451}.\n",
      "C:\\ProgramData\\Anaconda3\\lib\\site-packages\\ipykernel_launcher.py:303: DeprecationWarning: Call to deprecated method get_stix_domain_entity. (Replaced by the StixDomainEntity class in pycti) -- Deprecated since version 2.1.0.\n",
      "INFO:root:Reading Stix-Domain-Entity {92a0b258-745e-438b-aa7a-8ddbdb414750}.\n"
     ]
    },
    {
     "name": "stdout",
     "output_type": "stream",
     "text": [
      "22175c83-6fb7-4f81-b2e6-8e296a6ac451\n",
      "92a0b258-745e-438b-aa7a-8ddbdb414750\n"
     ]
    },
    {
     "name": "stderr",
     "output_type": "stream",
     "text": [
      "INFO:root:Listing stix_relations with {type: targets, from_id: 22175c83-6fb7-4f81-b2e6-8e296a6ac451, to_id: 92a0b258-745e-438b-aa7a-8ddbdb414750}\n",
      "INFO:root:Reading Report {a216498d-1d4c-4555-a6a5-c62f38300e74}.\n",
      "INFO:root:Adding Stix-Entity {dec2e63f-1248-401c-8b47-66a8612910c6} to Report {a216498d-1d4c-4555-a6a5-c62f38300e74}\n",
      "C:\\ProgramData\\Anaconda3\\lib\\site-packages\\ipykernel_launcher.py:300: DeprecationWarning: Call to deprecated method get_stix_domain_entity. (Replaced by the StixDomainEntity class in pycti) -- Deprecated since version 2.1.0.\n",
      "INFO:root:Reading Stix-Domain-Entity {22175c83-6fb7-4f81-b2e6-8e296a6ac451}.\n",
      "C:\\ProgramData\\Anaconda3\\lib\\site-packages\\ipykernel_launcher.py:303: DeprecationWarning: Call to deprecated method get_stix_domain_entity. (Replaced by the StixDomainEntity class in pycti) -- Deprecated since version 2.1.0.\n",
      "INFO:root:Reading Stix-Domain-Entity {b27363f1-c462-4b2e-9ce3-6cd45a851d56}.\n"
     ]
    },
    {
     "name": "stdout",
     "output_type": "stream",
     "text": [
      "22175c83-6fb7-4f81-b2e6-8e296a6ac451\n",
      "b27363f1-c462-4b2e-9ce3-6cd45a851d56\n"
     ]
    },
    {
     "name": "stderr",
     "output_type": "stream",
     "text": [
      "INFO:root:Listing stix_relations with {type: targets, from_id: 22175c83-6fb7-4f81-b2e6-8e296a6ac451, to_id: b27363f1-c462-4b2e-9ce3-6cd45a851d56}\n",
      "INFO:root:Reading Report {a216498d-1d4c-4555-a6a5-c62f38300e74}.\n",
      "INFO:root:Adding Stix-Entity {a96f9952-88eb-49f7-8a2a-8eca9ad1e89e} to Report {a216498d-1d4c-4555-a6a5-c62f38300e74}\n",
      "C:\\ProgramData\\Anaconda3\\lib\\site-packages\\ipykernel_launcher.py:300: DeprecationWarning: Call to deprecated method get_stix_domain_entity. (Replaced by the StixDomainEntity class in pycti) -- Deprecated since version 2.1.0.\n",
      "INFO:root:Reading Stix-Domain-Entity {22175c83-6fb7-4f81-b2e6-8e296a6ac451}.\n",
      "C:\\ProgramData\\Anaconda3\\lib\\site-packages\\ipykernel_launcher.py:303: DeprecationWarning: Call to deprecated method get_stix_domain_entity. (Replaced by the StixDomainEntity class in pycti) -- Deprecated since version 2.1.0.\n",
      "INFO:root:Reading Stix-Domain-Entity {8e88e738-6a82-46a3-ae9d-6c7c546ca4b3}.\n"
     ]
    },
    {
     "name": "stdout",
     "output_type": "stream",
     "text": [
      "22175c83-6fb7-4f81-b2e6-8e296a6ac451\n",
      "8e88e738-6a82-46a3-ae9d-6c7c546ca4b3\n"
     ]
    },
    {
     "name": "stderr",
     "output_type": "stream",
     "text": [
      "INFO:root:Listing stix_relations with {type: targets, from_id: 22175c83-6fb7-4f81-b2e6-8e296a6ac451, to_id: 8e88e738-6a82-46a3-ae9d-6c7c546ca4b3}\n",
      "INFO:root:Reading Report {a216498d-1d4c-4555-a6a5-c62f38300e74}.\n",
      "INFO:root:Adding Stix-Entity {97b7f38d-8c56-4639-aa44-ac8bf4c132c0} to Report {a216498d-1d4c-4555-a6a5-c62f38300e74}\n",
      "C:\\ProgramData\\Anaconda3\\lib\\site-packages\\ipykernel_launcher.py:300: DeprecationWarning: Call to deprecated method get_stix_domain_entity. (Replaced by the StixDomainEntity class in pycti) -- Deprecated since version 2.1.0.\n",
      "INFO:root:Reading Stix-Domain-Entity {22175c83-6fb7-4f81-b2e6-8e296a6ac451}.\n",
      "C:\\ProgramData\\Anaconda3\\lib\\site-packages\\ipykernel_launcher.py:303: DeprecationWarning: Call to deprecated method get_stix_domain_entity. (Replaced by the StixDomainEntity class in pycti) -- Deprecated since version 2.1.0.\n",
      "INFO:root:Reading Stix-Domain-Entity {a763f532-6889-47ae-8976-abf99ce14bbb}.\n"
     ]
    },
    {
     "name": "stdout",
     "output_type": "stream",
     "text": [
      "22175c83-6fb7-4f81-b2e6-8e296a6ac451\n",
      "a763f532-6889-47ae-8976-abf99ce14bbb\n"
     ]
    },
    {
     "name": "stderr",
     "output_type": "stream",
     "text": [
      "INFO:root:Listing stix_relations with {type: targets, from_id: 22175c83-6fb7-4f81-b2e6-8e296a6ac451, to_id: a763f532-6889-47ae-8976-abf99ce14bbb}\n",
      "INFO:root:Reading Report {a216498d-1d4c-4555-a6a5-c62f38300e74}.\n",
      "INFO:root:Adding Stix-Entity {b19bbe03-a15e-40ce-b536-3b64640f8ac9} to Report {a216498d-1d4c-4555-a6a5-c62f38300e74}\n",
      "C:\\ProgramData\\Anaconda3\\lib\\site-packages\\ipykernel_launcher.py:300: DeprecationWarning: Call to deprecated method get_stix_domain_entity. (Replaced by the StixDomainEntity class in pycti) -- Deprecated since version 2.1.0.\n",
      "INFO:root:Reading Stix-Domain-Entity {22175c83-6fb7-4f81-b2e6-8e296a6ac451}.\n",
      "C:\\ProgramData\\Anaconda3\\lib\\site-packages\\ipykernel_launcher.py:303: DeprecationWarning: Call to deprecated method get_stix_domain_entity. (Replaced by the StixDomainEntity class in pycti) -- Deprecated since version 2.1.0.\n",
      "INFO:root:Reading Stix-Domain-Entity {0d618989-96c1-4cef-8b34-f4dc5a8b7f05}.\n"
     ]
    },
    {
     "name": "stdout",
     "output_type": "stream",
     "text": [
      "22175c83-6fb7-4f81-b2e6-8e296a6ac451\n",
      "0d618989-96c1-4cef-8b34-f4dc5a8b7f05\n"
     ]
    },
    {
     "name": "stderr",
     "output_type": "stream",
     "text": [
      "INFO:root:Listing stix_relations with {type: targets, from_id: 22175c83-6fb7-4f81-b2e6-8e296a6ac451, to_id: 0d618989-96c1-4cef-8b34-f4dc5a8b7f05}\n",
      "INFO:root:Reading Report {a216498d-1d4c-4555-a6a5-c62f38300e74}.\n",
      "INFO:root:Adding Stix-Entity {923aa967-7e78-4bfe-9b60-280d402d6abc} to Report {a216498d-1d4c-4555-a6a5-c62f38300e74}\n",
      "C:\\ProgramData\\Anaconda3\\lib\\site-packages\\ipykernel_launcher.py:300: DeprecationWarning: Call to deprecated method get_stix_domain_entity. (Replaced by the StixDomainEntity class in pycti) -- Deprecated since version 2.1.0.\n",
      "INFO:root:Reading Stix-Domain-Entity {22175c83-6fb7-4f81-b2e6-8e296a6ac451}.\n",
      "C:\\ProgramData\\Anaconda3\\lib\\site-packages\\ipykernel_launcher.py:303: DeprecationWarning: Call to deprecated method get_stix_domain_entity. (Replaced by the StixDomainEntity class in pycti) -- Deprecated since version 2.1.0.\n",
      "INFO:root:Reading Stix-Domain-Entity {d45d618d-9a31-4905-be50-91a94f605f99}.\n"
     ]
    },
    {
     "name": "stdout",
     "output_type": "stream",
     "text": [
      "22175c83-6fb7-4f81-b2e6-8e296a6ac451\n",
      "d45d618d-9a31-4905-be50-91a94f605f99\n"
     ]
    },
    {
     "name": "stderr",
     "output_type": "stream",
     "text": [
      "INFO:root:Listing stix_relations with {type: targets, from_id: 22175c83-6fb7-4f81-b2e6-8e296a6ac451, to_id: d45d618d-9a31-4905-be50-91a94f605f99}\n",
      "INFO:root:Reading Report {a216498d-1d4c-4555-a6a5-c62f38300e74}.\n",
      "INFO:root:Adding Stix-Entity {45cb0b98-8622-4c2e-b3b9-673eff16b2fa} to Report {a216498d-1d4c-4555-a6a5-c62f38300e74}\n",
      "C:\\ProgramData\\Anaconda3\\lib\\site-packages\\ipykernel_launcher.py:300: DeprecationWarning: Call to deprecated method get_stix_domain_entity. (Replaced by the StixDomainEntity class in pycti) -- Deprecated since version 2.1.0.\n",
      "INFO:root:Reading Stix-Domain-Entity {22175c83-6fb7-4f81-b2e6-8e296a6ac451}.\n",
      "C:\\ProgramData\\Anaconda3\\lib\\site-packages\\ipykernel_launcher.py:303: DeprecationWarning: Call to deprecated method get_stix_domain_entity. (Replaced by the StixDomainEntity class in pycti) -- Deprecated since version 2.1.0.\n",
      "INFO:root:Reading Stix-Domain-Entity {4e7c53b2-e4f7-4409-9bd5-50837de2bc44}.\n"
     ]
    },
    {
     "name": "stdout",
     "output_type": "stream",
     "text": [
      "22175c83-6fb7-4f81-b2e6-8e296a6ac451\n",
      "4e7c53b2-e4f7-4409-9bd5-50837de2bc44\n"
     ]
    },
    {
     "name": "stderr",
     "output_type": "stream",
     "text": [
      "INFO:root:Listing stix_relations with {type: targets, from_id: 22175c83-6fb7-4f81-b2e6-8e296a6ac451, to_id: 4e7c53b2-e4f7-4409-9bd5-50837de2bc44}\n",
      "INFO:root:Reading Report {a216498d-1d4c-4555-a6a5-c62f38300e74}.\n",
      "INFO:root:Adding Stix-Entity {61b8da36-a903-445a-a395-b9f51925da97} to Report {a216498d-1d4c-4555-a6a5-c62f38300e74}\n",
      "C:\\ProgramData\\Anaconda3\\lib\\site-packages\\ipykernel_launcher.py:300: DeprecationWarning: Call to deprecated method get_stix_domain_entity. (Replaced by the StixDomainEntity class in pycti) -- Deprecated since version 2.1.0.\n",
      "INFO:root:Reading Stix-Domain-Entity {22175c83-6fb7-4f81-b2e6-8e296a6ac451}.\n",
      "C:\\ProgramData\\Anaconda3\\lib\\site-packages\\ipykernel_launcher.py:303: DeprecationWarning: Call to deprecated method get_stix_domain_entity. (Replaced by the StixDomainEntity class in pycti) -- Deprecated since version 2.1.0.\n",
      "INFO:root:Reading Stix-Domain-Entity {9652484c-8af7-4147-83c3-f47890487079}.\n"
     ]
    },
    {
     "name": "stdout",
     "output_type": "stream",
     "text": [
      "22175c83-6fb7-4f81-b2e6-8e296a6ac451\n",
      "9652484c-8af7-4147-83c3-f47890487079\n"
     ]
    },
    {
     "name": "stderr",
     "output_type": "stream",
     "text": [
      "INFO:root:Listing stix_relations with {type: targets, from_id: 22175c83-6fb7-4f81-b2e6-8e296a6ac451, to_id: 9652484c-8af7-4147-83c3-f47890487079}\n",
      "INFO:root:Reading Report {a216498d-1d4c-4555-a6a5-c62f38300e74}.\n",
      "INFO:root:Adding Stix-Entity {1dc2d01a-0bad-4cb7-86df-846670b9ca29} to Report {a216498d-1d4c-4555-a6a5-c62f38300e74}\n",
      "C:\\ProgramData\\Anaconda3\\lib\\site-packages\\ipykernel_launcher.py:300: DeprecationWarning: Call to deprecated method get_stix_domain_entity. (Replaced by the StixDomainEntity class in pycti) -- Deprecated since version 2.1.0.\n",
      "INFO:root:Reading Stix-Domain-Entity {22175c83-6fb7-4f81-b2e6-8e296a6ac451}.\n",
      "C:\\ProgramData\\Anaconda3\\lib\\site-packages\\ipykernel_launcher.py:303: DeprecationWarning: Call to deprecated method get_stix_domain_entity. (Replaced by the StixDomainEntity class in pycti) -- Deprecated since version 2.1.0.\n",
      "INFO:root:Reading Stix-Domain-Entity {c23e2eb0-bd52-482e-9a5c-b97e31d9225b}.\n"
     ]
    },
    {
     "name": "stdout",
     "output_type": "stream",
     "text": [
      "22175c83-6fb7-4f81-b2e6-8e296a6ac451\n",
      "c23e2eb0-bd52-482e-9a5c-b97e31d9225b\n"
     ]
    },
    {
     "name": "stderr",
     "output_type": "stream",
     "text": [
      "INFO:root:Listing stix_relations with {type: targets, from_id: 22175c83-6fb7-4f81-b2e6-8e296a6ac451, to_id: c23e2eb0-bd52-482e-9a5c-b97e31d9225b}\n",
      "INFO:root:Reading Report {a216498d-1d4c-4555-a6a5-c62f38300e74}.\n",
      "INFO:root:Adding Stix-Entity {29d79802-f2e7-4a5d-bd1d-9d3e937de4ff} to Report {a216498d-1d4c-4555-a6a5-c62f38300e74}\n",
      "C:\\ProgramData\\Anaconda3\\lib\\site-packages\\ipykernel_launcher.py:300: DeprecationWarning: Call to deprecated method get_stix_domain_entity. (Replaced by the StixDomainEntity class in pycti) -- Deprecated since version 2.1.0.\n",
      "INFO:root:Reading Stix-Domain-Entity {c9630199-c590-4a66-9e4b-095f0acae785}.\n",
      "C:\\ProgramData\\Anaconda3\\lib\\site-packages\\ipykernel_launcher.py:303: DeprecationWarning: Call to deprecated method get_stix_domain_entity. (Replaced by the StixDomainEntity class in pycti) -- Deprecated since version 2.1.0.\n",
      "INFO:root:Reading Stix-Domain-Entity {885223eb-a293-4d4a-aaa8-2dd8d4487076}.\n"
     ]
    },
    {
     "name": "stdout",
     "output_type": "stream",
     "text": [
      "c9630199-c590-4a66-9e4b-095f0acae785\n",
      "885223eb-a293-4d4a-aaa8-2dd8d4487076\n"
     ]
    },
    {
     "name": "stderr",
     "output_type": "stream",
     "text": [
      "INFO:root:Listing stix_relations with {type: uses, from_id: c9630199-c590-4a66-9e4b-095f0acae785, to_id: 885223eb-a293-4d4a-aaa8-2dd8d4487076}\n",
      "INFO:root:Reading Report {a216498d-1d4c-4555-a6a5-c62f38300e74}.\n",
      "INFO:root:Adding Stix-Entity {d4a5322e-dac2-4471-b631-3e01dd01b700} to Report {a216498d-1d4c-4555-a6a5-c62f38300e74}\n",
      "C:\\ProgramData\\Anaconda3\\lib\\site-packages\\ipykernel_launcher.py:300: DeprecationWarning: Call to deprecated method get_stix_domain_entity. (Replaced by the StixDomainEntity class in pycti) -- Deprecated since version 2.1.0.\n",
      "INFO:root:Reading Stix-Domain-Entity {c9630199-c590-4a66-9e4b-095f0acae785}.\n",
      "C:\\ProgramData\\Anaconda3\\lib\\site-packages\\ipykernel_launcher.py:303: DeprecationWarning: Call to deprecated method get_stix_domain_entity. (Replaced by the StixDomainEntity class in pycti) -- Deprecated since version 2.1.0.\n",
      "INFO:root:Reading Stix-Domain-Entity {651e2539-4a7d-47fc-8df2-ff67583c3801}.\n"
     ]
    },
    {
     "name": "stdout",
     "output_type": "stream",
     "text": [
      "c9630199-c590-4a66-9e4b-095f0acae785\n",
      "651e2539-4a7d-47fc-8df2-ff67583c3801\n"
     ]
    },
    {
     "name": "stderr",
     "output_type": "stream",
     "text": [
      "INFO:root:Listing stix_relations with {type: uses, from_id: c9630199-c590-4a66-9e4b-095f0acae785, to_id: 651e2539-4a7d-47fc-8df2-ff67583c3801}\n",
      "INFO:root:Reading Report {a216498d-1d4c-4555-a6a5-c62f38300e74}.\n",
      "INFO:root:Adding Stix-Entity {002597b6-07ab-467b-88d1-d3585e262dc5} to Report {a216498d-1d4c-4555-a6a5-c62f38300e74}\n",
      "C:\\ProgramData\\Anaconda3\\lib\\site-packages\\ipykernel_launcher.py:300: DeprecationWarning: Call to deprecated method get_stix_domain_entity. (Replaced by the StixDomainEntity class in pycti) -- Deprecated since version 2.1.0.\n",
      "INFO:root:Reading Stix-Domain-Entity {c9630199-c590-4a66-9e4b-095f0acae785}.\n",
      "C:\\ProgramData\\Anaconda3\\lib\\site-packages\\ipykernel_launcher.py:303: DeprecationWarning: Call to deprecated method get_stix_domain_entity. (Replaced by the StixDomainEntity class in pycti) -- Deprecated since version 2.1.0.\n",
      "INFO:root:Reading Stix-Domain-Entity {ba4ce101-a595-428e-b56b-a7fd085ab3ed}.\n",
      "INFO:root:Listing stix_relations with {type: uses, from_id: c9630199-c590-4a66-9e4b-095f0acae785, to_id: ba4ce101-a595-428e-b56b-a7fd085ab3ed}\n"
     ]
    },
    {
     "name": "stdout",
     "output_type": "stream",
     "text": [
      "c9630199-c590-4a66-9e4b-095f0acae785\n",
      "ba4ce101-a595-428e-b56b-a7fd085ab3ed\n"
     ]
    },
    {
     "name": "stderr",
     "output_type": "stream",
     "text": [
      "INFO:root:Reading Report {a216498d-1d4c-4555-a6a5-c62f38300e74}.\n",
      "INFO:root:Adding Stix-Entity {2a1dd83f-8f47-4dde-9e4d-c0b9d016979f} to Report {a216498d-1d4c-4555-a6a5-c62f38300e74}\n",
      "C:\\ProgramData\\Anaconda3\\lib\\site-packages\\ipykernel_launcher.py:300: DeprecationWarning: Call to deprecated method get_stix_domain_entity. (Replaced by the StixDomainEntity class in pycti) -- Deprecated since version 2.1.0.\n",
      "INFO:root:Reading Stix-Domain-Entity {c9630199-c590-4a66-9e4b-095f0acae785}.\n",
      "C:\\ProgramData\\Anaconda3\\lib\\site-packages\\ipykernel_launcher.py:303: DeprecationWarning: Call to deprecated method get_stix_domain_entity. (Replaced by the StixDomainEntity class in pycti) -- Deprecated since version 2.1.0.\n",
      "INFO:root:Reading Stix-Domain-Entity {1f010009-f6eb-4223-a098-807e6384a1ae}.\n"
     ]
    },
    {
     "name": "stdout",
     "output_type": "stream",
     "text": [
      "c9630199-c590-4a66-9e4b-095f0acae785\n",
      "1f010009-f6eb-4223-a098-807e6384a1ae\n"
     ]
    },
    {
     "name": "stderr",
     "output_type": "stream",
     "text": [
      "INFO:root:Listing stix_relations with {type: uses, from_id: c9630199-c590-4a66-9e4b-095f0acae785, to_id: 1f010009-f6eb-4223-a098-807e6384a1ae}\n",
      "INFO:root:Reading Report {a216498d-1d4c-4555-a6a5-c62f38300e74}.\n",
      "INFO:root:Adding Stix-Entity {2fd09b2e-09d1-47dc-b3d2-98e06b4fb4d7} to Report {a216498d-1d4c-4555-a6a5-c62f38300e74}\n",
      "C:\\ProgramData\\Anaconda3\\lib\\site-packages\\ipykernel_launcher.py:300: DeprecationWarning: Call to deprecated method get_stix_domain_entity. (Replaced by the StixDomainEntity class in pycti) -- Deprecated since version 2.1.0.\n",
      "INFO:root:Reading Stix-Domain-Entity {c9630199-c590-4a66-9e4b-095f0acae785}.\n",
      "C:\\ProgramData\\Anaconda3\\lib\\site-packages\\ipykernel_launcher.py:303: DeprecationWarning: Call to deprecated method get_stix_domain_entity. (Replaced by the StixDomainEntity class in pycti) -- Deprecated since version 2.1.0.\n",
      "INFO:root:Reading Stix-Domain-Entity {cc82f17e-f006-4b60-94a0-91ab35a9fc32}.\n"
     ]
    },
    {
     "name": "stdout",
     "output_type": "stream",
     "text": [
      "c9630199-c590-4a66-9e4b-095f0acae785\n",
      "cc82f17e-f006-4b60-94a0-91ab35a9fc32\n"
     ]
    },
    {
     "name": "stderr",
     "output_type": "stream",
     "text": [
      "INFO:root:Listing stix_relations with {type: uses, from_id: c9630199-c590-4a66-9e4b-095f0acae785, to_id: cc82f17e-f006-4b60-94a0-91ab35a9fc32}\n",
      "INFO:root:Reading Report {a216498d-1d4c-4555-a6a5-c62f38300e74}.\n",
      "INFO:root:Adding Stix-Entity {45254898-14e0-4758-9a8a-e0e8bd35bd86} to Report {a216498d-1d4c-4555-a6a5-c62f38300e74}\n",
      "C:\\ProgramData\\Anaconda3\\lib\\site-packages\\ipykernel_launcher.py:300: DeprecationWarning: Call to deprecated method get_stix_domain_entity. (Replaced by the StixDomainEntity class in pycti) -- Deprecated since version 2.1.0.\n",
      "INFO:root:Reading Stix-Domain-Entity {c9630199-c590-4a66-9e4b-095f0acae785}.\n",
      "C:\\ProgramData\\Anaconda3\\lib\\site-packages\\ipykernel_launcher.py:303: DeprecationWarning: Call to deprecated method get_stix_domain_entity. (Replaced by the StixDomainEntity class in pycti) -- Deprecated since version 2.1.0.\n",
      "INFO:root:Reading Stix-Domain-Entity {c6cb1bb3-2902-45cc-93b4-83ceb1031509}.\n",
      "INFO:root:Listing stix_relations with {type: uses, from_id: c9630199-c590-4a66-9e4b-095f0acae785, to_id: c6cb1bb3-2902-45cc-93b4-83ceb1031509}\n"
     ]
    },
    {
     "name": "stdout",
     "output_type": "stream",
     "text": [
      "c9630199-c590-4a66-9e4b-095f0acae785\n",
      "c6cb1bb3-2902-45cc-93b4-83ceb1031509\n"
     ]
    },
    {
     "name": "stderr",
     "output_type": "stream",
     "text": [
      "INFO:root:Reading Report {a216498d-1d4c-4555-a6a5-c62f38300e74}.\n",
      "INFO:root:Adding Stix-Entity {0196ad7a-033f-447b-aebc-b8b7ee1fa9cb} to Report {a216498d-1d4c-4555-a6a5-c62f38300e74}\n",
      "C:\\ProgramData\\Anaconda3\\lib\\site-packages\\ipykernel_launcher.py:300: DeprecationWarning: Call to deprecated method get_stix_domain_entity. (Replaced by the StixDomainEntity class in pycti) -- Deprecated since version 2.1.0.\n",
      "INFO:root:Reading Stix-Domain-Entity {c9630199-c590-4a66-9e4b-095f0acae785}.\n",
      "C:\\ProgramData\\Anaconda3\\lib\\site-packages\\ipykernel_launcher.py:303: DeprecationWarning: Call to deprecated method get_stix_domain_entity. (Replaced by the StixDomainEntity class in pycti) -- Deprecated since version 2.1.0.\n",
      "INFO:root:Reading Stix-Domain-Entity {5ef8a53d-1e82-47b5-990e-2a0a46aa5e86}.\n"
     ]
    },
    {
     "name": "stdout",
     "output_type": "stream",
     "text": [
      "c9630199-c590-4a66-9e4b-095f0acae785\n",
      "5ef8a53d-1e82-47b5-990e-2a0a46aa5e86\n"
     ]
    },
    {
     "name": "stderr",
     "output_type": "stream",
     "text": [
      "INFO:root:Listing stix_relations with {type: uses, from_id: c9630199-c590-4a66-9e4b-095f0acae785, to_id: 5ef8a53d-1e82-47b5-990e-2a0a46aa5e86}\n",
      "INFO:root:Reading Report {a216498d-1d4c-4555-a6a5-c62f38300e74}.\n",
      "INFO:root:Adding Stix-Entity {48de8c68-ec05-4d58-9deb-61cdb1daf078} to Report {a216498d-1d4c-4555-a6a5-c62f38300e74}\n",
      "C:\\ProgramData\\Anaconda3\\lib\\site-packages\\ipykernel_launcher.py:300: DeprecationWarning: Call to deprecated method get_stix_domain_entity. (Replaced by the StixDomainEntity class in pycti) -- Deprecated since version 2.1.0.\n",
      "INFO:root:Reading Stix-Domain-Entity {c9630199-c590-4a66-9e4b-095f0acae785}.\n",
      "C:\\ProgramData\\Anaconda3\\lib\\site-packages\\ipykernel_launcher.py:303: DeprecationWarning: Call to deprecated method get_stix_domain_entity. (Replaced by the StixDomainEntity class in pycti) -- Deprecated since version 2.1.0.\n",
      "INFO:root:Reading Stix-Domain-Entity {aaf9cc50-5384-45df-b184-2d6048f4ecdd}.\n"
     ]
    },
    {
     "name": "stdout",
     "output_type": "stream",
     "text": [
      "c9630199-c590-4a66-9e4b-095f0acae785\n",
      "aaf9cc50-5384-45df-b184-2d6048f4ecdd\n"
     ]
    },
    {
     "name": "stderr",
     "output_type": "stream",
     "text": [
      "INFO:root:Listing stix_relations with {type: uses, from_id: c9630199-c590-4a66-9e4b-095f0acae785, to_id: aaf9cc50-5384-45df-b184-2d6048f4ecdd}\n",
      "INFO:root:Reading Report {a216498d-1d4c-4555-a6a5-c62f38300e74}.\n",
      "INFO:root:Adding Stix-Entity {bb947abe-b30a-43d2-b942-3cb020c49e22} to Report {a216498d-1d4c-4555-a6a5-c62f38300e74}\n",
      "C:\\ProgramData\\Anaconda3\\lib\\site-packages\\ipykernel_launcher.py:300: DeprecationWarning: Call to deprecated method get_stix_domain_entity. (Replaced by the StixDomainEntity class in pycti) -- Deprecated since version 2.1.0.\n",
      "INFO:root:Reading Stix-Domain-Entity {c9630199-c590-4a66-9e4b-095f0acae785}.\n",
      "C:\\ProgramData\\Anaconda3\\lib\\site-packages\\ipykernel_launcher.py:303: DeprecationWarning: Call to deprecated method get_stix_domain_entity. (Replaced by the StixDomainEntity class in pycti) -- Deprecated since version 2.1.0.\n",
      "INFO:root:Reading Stix-Domain-Entity {58eacb3e-a736-41c8-ba57-9328e4adbca5}.\n"
     ]
    },
    {
     "name": "stdout",
     "output_type": "stream",
     "text": [
      "c9630199-c590-4a66-9e4b-095f0acae785\n",
      "58eacb3e-a736-41c8-ba57-9328e4adbca5\n"
     ]
    },
    {
     "name": "stderr",
     "output_type": "stream",
     "text": [
      "INFO:root:Listing stix_relations with {type: uses, from_id: c9630199-c590-4a66-9e4b-095f0acae785, to_id: 58eacb3e-a736-41c8-ba57-9328e4adbca5}\n",
      "INFO:root:Reading Report {a216498d-1d4c-4555-a6a5-c62f38300e74}.\n",
      "INFO:root:Adding Stix-Entity {53e8b67c-4f72-4f89-bcea-67f61ee767f4} to Report {a216498d-1d4c-4555-a6a5-c62f38300e74}\n",
      "C:\\ProgramData\\Anaconda3\\lib\\site-packages\\ipykernel_launcher.py:300: DeprecationWarning: Call to deprecated method get_stix_domain_entity. (Replaced by the StixDomainEntity class in pycti) -- Deprecated since version 2.1.0.\n",
      "INFO:root:Reading Stix-Domain-Entity {c9630199-c590-4a66-9e4b-095f0acae785}.\n",
      "C:\\ProgramData\\Anaconda3\\lib\\site-packages\\ipykernel_launcher.py:303: DeprecationWarning: Call to deprecated method get_stix_domain_entity. (Replaced by the StixDomainEntity class in pycti) -- Deprecated since version 2.1.0.\n",
      "INFO:root:Reading Stix-Domain-Entity {5c60fe15-cbc3-4135-bc56-52387e7c1457}.\n",
      "INFO:root:Listing stix_relations with {type: uses, from_id: c9630199-c590-4a66-9e4b-095f0acae785, to_id: 5c60fe15-cbc3-4135-bc56-52387e7c1457}\n"
     ]
    },
    {
     "name": "stdout",
     "output_type": "stream",
     "text": [
      "c9630199-c590-4a66-9e4b-095f0acae785\n",
      "5c60fe15-cbc3-4135-bc56-52387e7c1457\n"
     ]
    },
    {
     "name": "stderr",
     "output_type": "stream",
     "text": [
      "INFO:root:Reading Report {a216498d-1d4c-4555-a6a5-c62f38300e74}.\n",
      "INFO:root:Adding Stix-Entity {3c8c3c4e-4ec0-44c3-8833-a266469f6836} to Report {a216498d-1d4c-4555-a6a5-c62f38300e74}\n",
      "C:\\ProgramData\\Anaconda3\\lib\\site-packages\\ipykernel_launcher.py:300: DeprecationWarning: Call to deprecated method get_stix_domain_entity. (Replaced by the StixDomainEntity class in pycti) -- Deprecated since version 2.1.0.\n",
      "INFO:root:Reading Stix-Domain-Entity {c9630199-c590-4a66-9e4b-095f0acae785}.\n",
      "C:\\ProgramData\\Anaconda3\\lib\\site-packages\\ipykernel_launcher.py:303: DeprecationWarning: Call to deprecated method get_stix_domain_entity. (Replaced by the StixDomainEntity class in pycti) -- Deprecated since version 2.1.0.\n",
      "INFO:root:Reading Stix-Domain-Entity {65e096e1-3467-4bd5-a574-9a475701fbdb}.\n"
     ]
    },
    {
     "name": "stdout",
     "output_type": "stream",
     "text": [
      "c9630199-c590-4a66-9e4b-095f0acae785\n",
      "65e096e1-3467-4bd5-a574-9a475701fbdb\n"
     ]
    },
    {
     "name": "stderr",
     "output_type": "stream",
     "text": [
      "INFO:root:Listing stix_relations with {type: uses, from_id: c9630199-c590-4a66-9e4b-095f0acae785, to_id: 65e096e1-3467-4bd5-a574-9a475701fbdb}\n",
      "INFO:root:Reading Report {a216498d-1d4c-4555-a6a5-c62f38300e74}.\n",
      "INFO:root:Adding Stix-Entity {b19bb47f-953c-4d21-a27b-c6bed32bb2ba} to Report {a216498d-1d4c-4555-a6a5-c62f38300e74}\n",
      "C:\\ProgramData\\Anaconda3\\lib\\site-packages\\ipykernel_launcher.py:300: DeprecationWarning: Call to deprecated method get_stix_domain_entity. (Replaced by the StixDomainEntity class in pycti) -- Deprecated since version 2.1.0.\n",
      "INFO:root:Reading Stix-Domain-Entity {c9630199-c590-4a66-9e4b-095f0acae785}.\n",
      "C:\\ProgramData\\Anaconda3\\lib\\site-packages\\ipykernel_launcher.py:303: DeprecationWarning: Call to deprecated method get_stix_domain_entity. (Replaced by the StixDomainEntity class in pycti) -- Deprecated since version 2.1.0.\n",
      "INFO:root:Reading Stix-Domain-Entity {de251092-8d94-428a-b26d-713b96658a46}.\n"
     ]
    },
    {
     "name": "stdout",
     "output_type": "stream",
     "text": [
      "c9630199-c590-4a66-9e4b-095f0acae785\n",
      "de251092-8d94-428a-b26d-713b96658a46\n"
     ]
    },
    {
     "name": "stderr",
     "output_type": "stream",
     "text": [
      "INFO:root:Listing stix_relations with {type: uses, from_id: c9630199-c590-4a66-9e4b-095f0acae785, to_id: de251092-8d94-428a-b26d-713b96658a46}\n",
      "INFO:root:Reading Report {a216498d-1d4c-4555-a6a5-c62f38300e74}.\n",
      "INFO:root:Adding Stix-Entity {4ebe13db-51e1-4ba6-ad02-4b5a2d4b3efc} to Report {a216498d-1d4c-4555-a6a5-c62f38300e74}\n",
      "C:\\ProgramData\\Anaconda3\\lib\\site-packages\\ipykernel_launcher.py:300: DeprecationWarning: Call to deprecated method get_stix_domain_entity. (Replaced by the StixDomainEntity class in pycti) -- Deprecated since version 2.1.0.\n",
      "INFO:root:Reading Stix-Domain-Entity {c9630199-c590-4a66-9e4b-095f0acae785}.\n",
      "C:\\ProgramData\\Anaconda3\\lib\\site-packages\\ipykernel_launcher.py:303: DeprecationWarning: Call to deprecated method get_stix_domain_entity. (Replaced by the StixDomainEntity class in pycti) -- Deprecated since version 2.1.0.\n",
      "INFO:root:Reading Stix-Domain-Entity {2fbbe108-832e-4454-8bc6-d4e4f682b70b}.\n"
     ]
    },
    {
     "name": "stdout",
     "output_type": "stream",
     "text": [
      "c9630199-c590-4a66-9e4b-095f0acae785\n",
      "2fbbe108-832e-4454-8bc6-d4e4f682b70b\n"
     ]
    },
    {
     "name": "stderr",
     "output_type": "stream",
     "text": [
      "INFO:root:Listing stix_relations with {type: uses, from_id: c9630199-c590-4a66-9e4b-095f0acae785, to_id: 2fbbe108-832e-4454-8bc6-d4e4f682b70b}\n",
      "INFO:root:Reading Report {a216498d-1d4c-4555-a6a5-c62f38300e74}.\n",
      "INFO:root:Adding Stix-Entity {c1facd7a-7a89-408b-9cac-1a422777335b} to Report {a216498d-1d4c-4555-a6a5-c62f38300e74}\n",
      "C:\\ProgramData\\Anaconda3\\lib\\site-packages\\ipykernel_launcher.py:300: DeprecationWarning: Call to deprecated method get_stix_domain_entity. (Replaced by the StixDomainEntity class in pycti) -- Deprecated since version 2.1.0.\n",
      "INFO:root:Reading Stix-Domain-Entity {88cbb5de-7cd0-4a00-a14e-e893267afdde}.\n",
      "C:\\ProgramData\\Anaconda3\\lib\\site-packages\\ipykernel_launcher.py:303: DeprecationWarning: Call to deprecated method get_stix_domain_entity. (Replaced by the StixDomainEntity class in pycti) -- Deprecated since version 2.1.0.\n",
      "INFO:root:Reading Stix-Domain-Entity {c6cb1bb3-2902-45cc-93b4-83ceb1031509}.\n"
     ]
    },
    {
     "name": "stdout",
     "output_type": "stream",
     "text": [
      "88cbb5de-7cd0-4a00-a14e-e893267afdde\n",
      "c6cb1bb3-2902-45cc-93b4-83ceb1031509\n"
     ]
    },
    {
     "name": "stderr",
     "output_type": "stream",
     "text": [
      "INFO:root:Listing stix_relations with {type: uses, from_id: 88cbb5de-7cd0-4a00-a14e-e893267afdde, to_id: c6cb1bb3-2902-45cc-93b4-83ceb1031509}\n",
      "INFO:root:Reading Report {a216498d-1d4c-4555-a6a5-c62f38300e74}.\n",
      "INFO:root:Adding Stix-Entity {583c31c9-6e50-4a0f-bec0-db81ba4d5afd} to Report {a216498d-1d4c-4555-a6a5-c62f38300e74}\n",
      "C:\\ProgramData\\Anaconda3\\lib\\site-packages\\ipykernel_launcher.py:300: DeprecationWarning: Call to deprecated method get_stix_domain_entity. (Replaced by the StixDomainEntity class in pycti) -- Deprecated since version 2.1.0.\n",
      "INFO:root:Reading Stix-Domain-Entity {88cbb5de-7cd0-4a00-a14e-e893267afdde}.\n",
      "C:\\ProgramData\\Anaconda3\\lib\\site-packages\\ipykernel_launcher.py:303: DeprecationWarning: Call to deprecated method get_stix_domain_entity. (Replaced by the StixDomainEntity class in pycti) -- Deprecated since version 2.1.0.\n",
      "INFO:root:Reading Stix-Domain-Entity {65e096e1-3467-4bd5-a574-9a475701fbdb}.\n"
     ]
    },
    {
     "name": "stdout",
     "output_type": "stream",
     "text": [
      "88cbb5de-7cd0-4a00-a14e-e893267afdde\n",
      "65e096e1-3467-4bd5-a574-9a475701fbdb\n"
     ]
    },
    {
     "name": "stderr",
     "output_type": "stream",
     "text": [
      "INFO:root:Listing stix_relations with {type: uses, from_id: 88cbb5de-7cd0-4a00-a14e-e893267afdde, to_id: 65e096e1-3467-4bd5-a574-9a475701fbdb}\n",
      "INFO:root:Reading Report {a216498d-1d4c-4555-a6a5-c62f38300e74}.\n",
      "INFO:root:Adding Stix-Entity {02fe4ccf-6c26-48ce-a2fe-d8b66a78fb13} to Report {a216498d-1d4c-4555-a6a5-c62f38300e74}\n",
      "C:\\ProgramData\\Anaconda3\\lib\\site-packages\\ipykernel_launcher.py:300: DeprecationWarning: Call to deprecated method get_stix_domain_entity. (Replaced by the StixDomainEntity class in pycti) -- Deprecated since version 2.1.0.\n",
      "INFO:root:Reading Stix-Domain-Entity {88cbb5de-7cd0-4a00-a14e-e893267afdde}.\n",
      "C:\\ProgramData\\Anaconda3\\lib\\site-packages\\ipykernel_launcher.py:303: DeprecationWarning: Call to deprecated method get_stix_domain_entity. (Replaced by the StixDomainEntity class in pycti) -- Deprecated since version 2.1.0.\n",
      "INFO:root:Reading Stix-Domain-Entity {a66f1395-d712-4bb0-a268-5547d454dd0f}.\n"
     ]
    },
    {
     "name": "stdout",
     "output_type": "stream",
     "text": [
      "88cbb5de-7cd0-4a00-a14e-e893267afdde\n",
      "a66f1395-d712-4bb0-a268-5547d454dd0f\n"
     ]
    },
    {
     "name": "stderr",
     "output_type": "stream",
     "text": [
      "INFO:root:Listing stix_relations with {type: uses, from_id: 88cbb5de-7cd0-4a00-a14e-e893267afdde, to_id: a66f1395-d712-4bb0-a268-5547d454dd0f}\n",
      "INFO:root:Reading Report {a216498d-1d4c-4555-a6a5-c62f38300e74}.\n",
      "INFO:root:Adding Stix-Entity {c7a271ee-eb7a-4979-9f9e-06226b0fb5c2} to Report {a216498d-1d4c-4555-a6a5-c62f38300e74}\n",
      "C:\\ProgramData\\Anaconda3\\lib\\site-packages\\ipykernel_launcher.py:300: DeprecationWarning: Call to deprecated method get_stix_domain_entity. (Replaced by the StixDomainEntity class in pycti) -- Deprecated since version 2.1.0.\n",
      "INFO:root:Reading Stix-Domain-Entity {88cbb5de-7cd0-4a00-a14e-e893267afdde}.\n",
      "C:\\ProgramData\\Anaconda3\\lib\\site-packages\\ipykernel_launcher.py:303: DeprecationWarning: Call to deprecated method get_stix_domain_entity. (Replaced by the StixDomainEntity class in pycti) -- Deprecated since version 2.1.0.\n",
      "INFO:root:Reading Stix-Domain-Entity {7c30bee8-9d28-40ff-a89d-e7b9ba12038a}.\n"
     ]
    },
    {
     "name": "stdout",
     "output_type": "stream",
     "text": [
      "88cbb5de-7cd0-4a00-a14e-e893267afdde\n",
      "7c30bee8-9d28-40ff-a89d-e7b9ba12038a\n"
     ]
    },
    {
     "name": "stderr",
     "output_type": "stream",
     "text": [
      "INFO:root:Listing stix_relations with {type: uses, from_id: 88cbb5de-7cd0-4a00-a14e-e893267afdde, to_id: 7c30bee8-9d28-40ff-a89d-e7b9ba12038a}\n",
      "INFO:root:Reading Report {a216498d-1d4c-4555-a6a5-c62f38300e74}.\n",
      "INFO:root:Adding Stix-Entity {506d84d2-80b6-4e74-a6a2-ef4d48b8285c} to Report {a216498d-1d4c-4555-a6a5-c62f38300e74}\n",
      "C:\\ProgramData\\Anaconda3\\lib\\site-packages\\ipykernel_launcher.py:300: DeprecationWarning: Call to deprecated method get_stix_domain_entity. (Replaced by the StixDomainEntity class in pycti) -- Deprecated since version 2.1.0.\n",
      "INFO:root:Reading Stix-Domain-Entity {88cbb5de-7cd0-4a00-a14e-e893267afdde}.\n",
      "C:\\ProgramData\\Anaconda3\\lib\\site-packages\\ipykernel_launcher.py:303: DeprecationWarning: Call to deprecated method get_stix_domain_entity. (Replaced by the StixDomainEntity class in pycti) -- Deprecated since version 2.1.0.\n",
      "INFO:root:Reading Stix-Domain-Entity {2fbbe108-832e-4454-8bc6-d4e4f682b70b}.\n"
     ]
    },
    {
     "name": "stdout",
     "output_type": "stream",
     "text": [
      "88cbb5de-7cd0-4a00-a14e-e893267afdde\n",
      "2fbbe108-832e-4454-8bc6-d4e4f682b70b\n"
     ]
    },
    {
     "name": "stderr",
     "output_type": "stream",
     "text": [
      "INFO:root:Listing stix_relations with {type: uses, from_id: 88cbb5de-7cd0-4a00-a14e-e893267afdde, to_id: 2fbbe108-832e-4454-8bc6-d4e4f682b70b}\n",
      "INFO:root:Reading Report {a216498d-1d4c-4555-a6a5-c62f38300e74}.\n",
      "INFO:root:Adding Stix-Entity {f051c0d4-df5d-41be-bafa-cc358c47af8b} to Report {a216498d-1d4c-4555-a6a5-c62f38300e74}\n",
      "C:\\ProgramData\\Anaconda3\\lib\\site-packages\\ipykernel_launcher.py:300: DeprecationWarning: Call to deprecated method get_stix_domain_entity. (Replaced by the StixDomainEntity class in pycti) -- Deprecated since version 2.1.0.\n",
      "INFO:root:Reading Stix-Domain-Entity {d160a012-7be8-4de4-86d3-957cc310d76b}.\n",
      "C:\\ProgramData\\Anaconda3\\lib\\site-packages\\ipykernel_launcher.py:303: DeprecationWarning: Call to deprecated method get_stix_domain_entity. (Replaced by the StixDomainEntity class in pycti) -- Deprecated since version 2.1.0.\n",
      "INFO:root:Reading Stix-Domain-Entity {885223eb-a293-4d4a-aaa8-2dd8d4487076}.\n"
     ]
    },
    {
     "name": "stdout",
     "output_type": "stream",
     "text": [
      "d160a012-7be8-4de4-86d3-957cc310d76b\n",
      "885223eb-a293-4d4a-aaa8-2dd8d4487076\n"
     ]
    },
    {
     "name": "stderr",
     "output_type": "stream",
     "text": [
      "INFO:root:Listing stix_relations with {type: uses, from_id: d160a012-7be8-4de4-86d3-957cc310d76b, to_id: 885223eb-a293-4d4a-aaa8-2dd8d4487076}\n",
      "INFO:root:Reading Report {a216498d-1d4c-4555-a6a5-c62f38300e74}.\n",
      "INFO:root:Adding Stix-Entity {65f8b64a-07e2-457a-a044-125f8c11927b} to Report {a216498d-1d4c-4555-a6a5-c62f38300e74}\n",
      "C:\\ProgramData\\Anaconda3\\lib\\site-packages\\ipykernel_launcher.py:300: DeprecationWarning: Call to deprecated method get_stix_domain_entity. (Replaced by the StixDomainEntity class in pycti) -- Deprecated since version 2.1.0.\n",
      "INFO:root:Reading Stix-Domain-Entity {d160a012-7be8-4de4-86d3-957cc310d76b}.\n",
      "C:\\ProgramData\\Anaconda3\\lib\\site-packages\\ipykernel_launcher.py:303: DeprecationWarning: Call to deprecated method get_stix_domain_entity. (Replaced by the StixDomainEntity class in pycti) -- Deprecated since version 2.1.0.\n",
      "INFO:root:Reading Stix-Domain-Entity {6f01d49b-f9aa-4610-8bf2-246f9d3e4875}.\n"
     ]
    },
    {
     "name": "stdout",
     "output_type": "stream",
     "text": [
      "d160a012-7be8-4de4-86d3-957cc310d76b\n",
      "6f01d49b-f9aa-4610-8bf2-246f9d3e4875\n"
     ]
    },
    {
     "name": "stderr",
     "output_type": "stream",
     "text": [
      "INFO:root:Listing stix_relations with {type: uses, from_id: d160a012-7be8-4de4-86d3-957cc310d76b, to_id: 6f01d49b-f9aa-4610-8bf2-246f9d3e4875}\n",
      "INFO:root:Reading Report {a216498d-1d4c-4555-a6a5-c62f38300e74}.\n",
      "INFO:root:Adding Stix-Entity {467d2b20-2d71-4a72-ae05-e5150e6bec84} to Report {a216498d-1d4c-4555-a6a5-c62f38300e74}\n",
      "C:\\ProgramData\\Anaconda3\\lib\\site-packages\\ipykernel_launcher.py:300: DeprecationWarning: Call to deprecated method get_stix_domain_entity. (Replaced by the StixDomainEntity class in pycti) -- Deprecated since version 2.1.0.\n",
      "INFO:root:Reading Stix-Domain-Entity {d160a012-7be8-4de4-86d3-957cc310d76b}.\n",
      "C:\\ProgramData\\Anaconda3\\lib\\site-packages\\ipykernel_launcher.py:303: DeprecationWarning: Call to deprecated method get_stix_domain_entity. (Replaced by the StixDomainEntity class in pycti) -- Deprecated since version 2.1.0.\n",
      "INFO:root:Reading Stix-Domain-Entity {6f01d49b-f9aa-4610-8bf2-246f9d3e4875}.\n"
     ]
    },
    {
     "name": "stdout",
     "output_type": "stream",
     "text": [
      "d160a012-7be8-4de4-86d3-957cc310d76b\n",
      "6f01d49b-f9aa-4610-8bf2-246f9d3e4875\n"
     ]
    },
    {
     "name": "stderr",
     "output_type": "stream",
     "text": [
      "INFO:root:Listing stix_relations with {type: uses, from_id: d160a012-7be8-4de4-86d3-957cc310d76b, to_id: 6f01d49b-f9aa-4610-8bf2-246f9d3e4875}\n",
      "INFO:root:Reading Report {a216498d-1d4c-4555-a6a5-c62f38300e74}.\n",
      "C:\\ProgramData\\Anaconda3\\lib\\site-packages\\ipykernel_launcher.py:300: DeprecationWarning: Call to deprecated method get_stix_domain_entity. (Replaced by the StixDomainEntity class in pycti) -- Deprecated since version 2.1.0.\n",
      "INFO:root:Reading Stix-Domain-Entity {d160a012-7be8-4de4-86d3-957cc310d76b}.\n",
      "C:\\ProgramData\\Anaconda3\\lib\\site-packages\\ipykernel_launcher.py:303: DeprecationWarning: Call to deprecated method get_stix_domain_entity. (Replaced by the StixDomainEntity class in pycti) -- Deprecated since version 2.1.0.\n",
      "INFO:root:Reading Stix-Domain-Entity {8c57bb26-ccef-4301-83cb-6a0ae1bcc508}.\n"
     ]
    },
    {
     "name": "stdout",
     "output_type": "stream",
     "text": [
      "d160a012-7be8-4de4-86d3-957cc310d76b\n",
      "8c57bb26-ccef-4301-83cb-6a0ae1bcc508\n"
     ]
    },
    {
     "name": "stderr",
     "output_type": "stream",
     "text": [
      "INFO:root:Listing stix_relations with {type: uses, from_id: d160a012-7be8-4de4-86d3-957cc310d76b, to_id: 8c57bb26-ccef-4301-83cb-6a0ae1bcc508}\n",
      "INFO:root:Reading Report {a216498d-1d4c-4555-a6a5-c62f38300e74}.\n",
      "INFO:root:Adding Stix-Entity {39e09541-e288-4848-b8c9-19f0815fae70} to Report {a216498d-1d4c-4555-a6a5-c62f38300e74}\n",
      "C:\\ProgramData\\Anaconda3\\lib\\site-packages\\ipykernel_launcher.py:300: DeprecationWarning: Call to deprecated method get_stix_domain_entity. (Replaced by the StixDomainEntity class in pycti) -- Deprecated since version 2.1.0.\n",
      "INFO:root:Reading Stix-Domain-Entity {d160a012-7be8-4de4-86d3-957cc310d76b}.\n",
      "C:\\ProgramData\\Anaconda3\\lib\\site-packages\\ipykernel_launcher.py:303: DeprecationWarning: Call to deprecated method get_stix_domain_entity. (Replaced by the StixDomainEntity class in pycti) -- Deprecated since version 2.1.0.\n",
      "INFO:root:Reading Stix-Domain-Entity {c6cb1bb3-2902-45cc-93b4-83ceb1031509}.\n",
      "INFO:root:Listing stix_relations with {type: uses, from_id: d160a012-7be8-4de4-86d3-957cc310d76b, to_id: c6cb1bb3-2902-45cc-93b4-83ceb1031509}\n"
     ]
    },
    {
     "name": "stdout",
     "output_type": "stream",
     "text": [
      "d160a012-7be8-4de4-86d3-957cc310d76b\n",
      "c6cb1bb3-2902-45cc-93b4-83ceb1031509\n"
     ]
    },
    {
     "name": "stderr",
     "output_type": "stream",
     "text": [
      "INFO:root:Reading Report {a216498d-1d4c-4555-a6a5-c62f38300e74}.\n",
      "INFO:root:Adding Stix-Entity {2ea615a9-e0b7-4fc1-b45a-192f3e318fac} to Report {a216498d-1d4c-4555-a6a5-c62f38300e74}\n",
      "C:\\ProgramData\\Anaconda3\\lib\\site-packages\\ipykernel_launcher.py:300: DeprecationWarning: Call to deprecated method get_stix_domain_entity. (Replaced by the StixDomainEntity class in pycti) -- Deprecated since version 2.1.0.\n",
      "INFO:root:Reading Stix-Domain-Entity {d160a012-7be8-4de4-86d3-957cc310d76b}.\n",
      "C:\\ProgramData\\Anaconda3\\lib\\site-packages\\ipykernel_launcher.py:303: DeprecationWarning: Call to deprecated method get_stix_domain_entity. (Replaced by the StixDomainEntity class in pycti) -- Deprecated since version 2.1.0.\n",
      "INFO:root:Reading Stix-Domain-Entity {aaf9cc50-5384-45df-b184-2d6048f4ecdd}.\n"
     ]
    },
    {
     "name": "stdout",
     "output_type": "stream",
     "text": [
      "d160a012-7be8-4de4-86d3-957cc310d76b\n",
      "aaf9cc50-5384-45df-b184-2d6048f4ecdd\n"
     ]
    },
    {
     "name": "stderr",
     "output_type": "stream",
     "text": [
      "INFO:root:Listing stix_relations with {type: uses, from_id: d160a012-7be8-4de4-86d3-957cc310d76b, to_id: aaf9cc50-5384-45df-b184-2d6048f4ecdd}\n",
      "INFO:root:Reading Report {a216498d-1d4c-4555-a6a5-c62f38300e74}.\n",
      "INFO:root:Adding Stix-Entity {71292036-0234-400c-8a9e-1ea1db03a4c6} to Report {a216498d-1d4c-4555-a6a5-c62f38300e74}\n",
      "C:\\ProgramData\\Anaconda3\\lib\\site-packages\\ipykernel_launcher.py:300: DeprecationWarning: Call to deprecated method get_stix_domain_entity. (Replaced by the StixDomainEntity class in pycti) -- Deprecated since version 2.1.0.\n",
      "INFO:root:Reading Stix-Domain-Entity {d160a012-7be8-4de4-86d3-957cc310d76b}.\n",
      "C:\\ProgramData\\Anaconda3\\lib\\site-packages\\ipykernel_launcher.py:303: DeprecationWarning: Call to deprecated method get_stix_domain_entity. (Replaced by the StixDomainEntity class in pycti) -- Deprecated since version 2.1.0.\n",
      "INFO:root:Reading Stix-Domain-Entity {a66f1395-d712-4bb0-a268-5547d454dd0f}.\n",
      "INFO:root:Listing stix_relations with {type: uses, from_id: d160a012-7be8-4de4-86d3-957cc310d76b, to_id: a66f1395-d712-4bb0-a268-5547d454dd0f}\n"
     ]
    },
    {
     "name": "stdout",
     "output_type": "stream",
     "text": [
      "d160a012-7be8-4de4-86d3-957cc310d76b\n",
      "a66f1395-d712-4bb0-a268-5547d454dd0f\n"
     ]
    },
    {
     "name": "stderr",
     "output_type": "stream",
     "text": [
      "INFO:root:Reading Report {a216498d-1d4c-4555-a6a5-c62f38300e74}.\n",
      "INFO:root:Adding Stix-Entity {6fa6ca13-18c8-4636-8a8d-3ac458061c35} to Report {a216498d-1d4c-4555-a6a5-c62f38300e74}\n",
      "C:\\ProgramData\\Anaconda3\\lib\\site-packages\\ipykernel_launcher.py:300: DeprecationWarning: Call to deprecated method get_stix_domain_entity. (Replaced by the StixDomainEntity class in pycti) -- Deprecated since version 2.1.0.\n",
      "INFO:root:Reading Stix-Domain-Entity {d160a012-7be8-4de4-86d3-957cc310d76b}.\n",
      "C:\\ProgramData\\Anaconda3\\lib\\site-packages\\ipykernel_launcher.py:303: DeprecationWarning: Call to deprecated method get_stix_domain_entity. (Replaced by the StixDomainEntity class in pycti) -- Deprecated since version 2.1.0.\n",
      "INFO:root:Reading Stix-Domain-Entity {e61a95eb-d86f-400a-885d-f6895ede1327}.\n"
     ]
    },
    {
     "name": "stdout",
     "output_type": "stream",
     "text": [
      "d160a012-7be8-4de4-86d3-957cc310d76b\n",
      "e61a95eb-d86f-400a-885d-f6895ede1327\n"
     ]
    },
    {
     "name": "stderr",
     "output_type": "stream",
     "text": [
      "INFO:root:Listing stix_relations with {type: uses, from_id: d160a012-7be8-4de4-86d3-957cc310d76b, to_id: e61a95eb-d86f-400a-885d-f6895ede1327}\n",
      "INFO:root:Reading Report {a216498d-1d4c-4555-a6a5-c62f38300e74}.\n",
      "INFO:root:Adding Stix-Entity {1aa9f8c1-3d63-458d-8582-2eeb602a232d} to Report {a216498d-1d4c-4555-a6a5-c62f38300e74}\n",
      "C:\\ProgramData\\Anaconda3\\lib\\site-packages\\ipykernel_launcher.py:300: DeprecationWarning: Call to deprecated method get_stix_domain_entity. (Replaced by the StixDomainEntity class in pycti) -- Deprecated since version 2.1.0.\n",
      "INFO:root:Reading Stix-Domain-Entity {d160a012-7be8-4de4-86d3-957cc310d76b}.\n",
      "C:\\ProgramData\\Anaconda3\\lib\\site-packages\\ipykernel_launcher.py:303: DeprecationWarning: Call to deprecated method get_stix_domain_entity. (Replaced by the StixDomainEntity class in pycti) -- Deprecated since version 2.1.0.\n",
      "INFO:root:Reading Stix-Domain-Entity {e61a95eb-d86f-400a-885d-f6895ede1327}.\n"
     ]
    },
    {
     "name": "stdout",
     "output_type": "stream",
     "text": [
      "d160a012-7be8-4de4-86d3-957cc310d76b\n",
      "e61a95eb-d86f-400a-885d-f6895ede1327\n"
     ]
    },
    {
     "name": "stderr",
     "output_type": "stream",
     "text": [
      "INFO:root:Listing stix_relations with {type: uses, from_id: d160a012-7be8-4de4-86d3-957cc310d76b, to_id: e61a95eb-d86f-400a-885d-f6895ede1327}\n",
      "INFO:root:Reading Report {a216498d-1d4c-4555-a6a5-c62f38300e74}.\n",
      "C:\\ProgramData\\Anaconda3\\lib\\site-packages\\ipykernel_launcher.py:300: DeprecationWarning: Call to deprecated method get_stix_domain_entity. (Replaced by the StixDomainEntity class in pycti) -- Deprecated since version 2.1.0.\n",
      "INFO:root:Reading Stix-Domain-Entity {d160a012-7be8-4de4-86d3-957cc310d76b}.\n",
      "C:\\ProgramData\\Anaconda3\\lib\\site-packages\\ipykernel_launcher.py:303: DeprecationWarning: Call to deprecated method get_stix_domain_entity. (Replaced by the StixDomainEntity class in pycti) -- Deprecated since version 2.1.0.\n",
      "INFO:root:Reading Stix-Domain-Entity {7c30bee8-9d28-40ff-a89d-e7b9ba12038a}.\n"
     ]
    },
    {
     "name": "stdout",
     "output_type": "stream",
     "text": [
      "d160a012-7be8-4de4-86d3-957cc310d76b\n",
      "7c30bee8-9d28-40ff-a89d-e7b9ba12038a\n"
     ]
    },
    {
     "name": "stderr",
     "output_type": "stream",
     "text": [
      "INFO:root:Listing stix_relations with {type: uses, from_id: d160a012-7be8-4de4-86d3-957cc310d76b, to_id: 7c30bee8-9d28-40ff-a89d-e7b9ba12038a}\n",
      "INFO:root:Reading Report {a216498d-1d4c-4555-a6a5-c62f38300e74}.\n",
      "INFO:root:Adding Stix-Entity {60d0315a-88f5-4f3a-a1d3-3cf8f2bbeb09} to Report {a216498d-1d4c-4555-a6a5-c62f38300e74}\n",
      "C:\\ProgramData\\Anaconda3\\lib\\site-packages\\ipykernel_launcher.py:300: DeprecationWarning: Call to deprecated method get_stix_domain_entity. (Replaced by the StixDomainEntity class in pycti) -- Deprecated since version 2.1.0.\n",
      "INFO:root:Reading Stix-Domain-Entity {d160a012-7be8-4de4-86d3-957cc310d76b}.\n",
      "C:\\ProgramData\\Anaconda3\\lib\\site-packages\\ipykernel_launcher.py:303: DeprecationWarning: Call to deprecated method get_stix_domain_entity. (Replaced by the StixDomainEntity class in pycti) -- Deprecated since version 2.1.0.\n",
      "INFO:root:Reading Stix-Domain-Entity {2fbbe108-832e-4454-8bc6-d4e4f682b70b}.\n"
     ]
    },
    {
     "name": "stdout",
     "output_type": "stream",
     "text": [
      "d160a012-7be8-4de4-86d3-957cc310d76b\n",
      "2fbbe108-832e-4454-8bc6-d4e4f682b70b\n"
     ]
    },
    {
     "name": "stderr",
     "output_type": "stream",
     "text": [
      "INFO:root:Listing stix_relations with {type: uses, from_id: d160a012-7be8-4de4-86d3-957cc310d76b, to_id: 2fbbe108-832e-4454-8bc6-d4e4f682b70b}\n",
      "INFO:root:Reading Report {a216498d-1d4c-4555-a6a5-c62f38300e74}.\n",
      "INFO:root:Adding Stix-Entity {82d4b2db-d22b-469f-8dab-0ed604ca446f} to Report {a216498d-1d4c-4555-a6a5-c62f38300e74}\n",
      "C:\\ProgramData\\Anaconda3\\lib\\site-packages\\ipykernel_launcher.py:300: DeprecationWarning: Call to deprecated method get_stix_domain_entity. (Replaced by the StixDomainEntity class in pycti) -- Deprecated since version 2.1.0.\n",
      "INFO:root:Reading Stix-Domain-Entity {d2f5de38-118b-465f-84ef-5e8f2ba6f138}.\n",
      "C:\\ProgramData\\Anaconda3\\lib\\site-packages\\ipykernel_launcher.py:303: DeprecationWarning: Call to deprecated method get_stix_domain_entity. (Replaced by the StixDomainEntity class in pycti) -- Deprecated since version 2.1.0.\n",
      "INFO:root:Reading Stix-Domain-Entity {923139f5-b823-482c-8fd9-0f0e49672e78}.\n",
      "INFO:root:Listing stix_relations with {type: uses, from_id: d2f5de38-118b-465f-84ef-5e8f2ba6f138, to_id: 923139f5-b823-482c-8fd9-0f0e49672e78}\n"
     ]
    },
    {
     "name": "stdout",
     "output_type": "stream",
     "text": [
      "d2f5de38-118b-465f-84ef-5e8f2ba6f138\n",
      "923139f5-b823-482c-8fd9-0f0e49672e78\n"
     ]
    },
    {
     "name": "stderr",
     "output_type": "stream",
     "text": [
      "INFO:root:Reading Report {a216498d-1d4c-4555-a6a5-c62f38300e74}.\n",
      "INFO:root:Adding Stix-Entity {e0582f7b-19e8-438f-bb92-3cab9e1770ac} to Report {a216498d-1d4c-4555-a6a5-c62f38300e74}\n",
      "C:\\ProgramData\\Anaconda3\\lib\\site-packages\\ipykernel_launcher.py:300: DeprecationWarning: Call to deprecated method get_stix_domain_entity. (Replaced by the StixDomainEntity class in pycti) -- Deprecated since version 2.1.0.\n",
      "INFO:root:Reading Stix-Domain-Entity {d2f5de38-118b-465f-84ef-5e8f2ba6f138}.\n",
      "C:\\ProgramData\\Anaconda3\\lib\\site-packages\\ipykernel_launcher.py:303: DeprecationWarning: Call to deprecated method get_stix_domain_entity. (Replaced by the StixDomainEntity class in pycti) -- Deprecated since version 2.1.0.\n",
      "INFO:root:Reading Stix-Domain-Entity {58eacb3e-a736-41c8-ba57-9328e4adbca5}.\n"
     ]
    },
    {
     "name": "stdout",
     "output_type": "stream",
     "text": [
      "d2f5de38-118b-465f-84ef-5e8f2ba6f138\n",
      "58eacb3e-a736-41c8-ba57-9328e4adbca5\n"
     ]
    },
    {
     "name": "stderr",
     "output_type": "stream",
     "text": [
      "INFO:root:Listing stix_relations with {type: uses, from_id: d2f5de38-118b-465f-84ef-5e8f2ba6f138, to_id: 58eacb3e-a736-41c8-ba57-9328e4adbca5}\n",
      "INFO:root:Reading Report {a216498d-1d4c-4555-a6a5-c62f38300e74}.\n",
      "INFO:root:Adding Stix-Entity {406c2af6-8059-40c6-a5e0-04f6415b8d84} to Report {a216498d-1d4c-4555-a6a5-c62f38300e74}\n",
      "C:\\ProgramData\\Anaconda3\\lib\\site-packages\\ipykernel_launcher.py:300: DeprecationWarning: Call to deprecated method get_stix_domain_entity. (Replaced by the StixDomainEntity class in pycti) -- Deprecated since version 2.1.0.\n",
      "INFO:root:Reading Stix-Domain-Entity {d2f5de38-118b-465f-84ef-5e8f2ba6f138}.\n",
      "C:\\ProgramData\\Anaconda3\\lib\\site-packages\\ipykernel_launcher.py:303: DeprecationWarning: Call to deprecated method get_stix_domain_entity. (Replaced by the StixDomainEntity class in pycti) -- Deprecated since version 2.1.0.\n",
      "INFO:root:Reading Stix-Domain-Entity {a66f1395-d712-4bb0-a268-5547d454dd0f}.\n"
     ]
    },
    {
     "name": "stdout",
     "output_type": "stream",
     "text": [
      "d2f5de38-118b-465f-84ef-5e8f2ba6f138\n",
      "a66f1395-d712-4bb0-a268-5547d454dd0f\n"
     ]
    },
    {
     "name": "stderr",
     "output_type": "stream",
     "text": [
      "INFO:root:Listing stix_relations with {type: uses, from_id: d2f5de38-118b-465f-84ef-5e8f2ba6f138, to_id: a66f1395-d712-4bb0-a268-5547d454dd0f}\n",
      "INFO:root:Reading Report {a216498d-1d4c-4555-a6a5-c62f38300e74}.\n",
      "INFO:root:Adding Stix-Entity {d22b15e8-84ed-4d5a-ad61-ce1b9338ede4} to Report {a216498d-1d4c-4555-a6a5-c62f38300e74}\n",
      "C:\\ProgramData\\Anaconda3\\lib\\site-packages\\ipykernel_launcher.py:300: DeprecationWarning: Call to deprecated method get_stix_domain_entity. (Replaced by the StixDomainEntity class in pycti) -- Deprecated since version 2.1.0.\n",
      "INFO:root:Reading Stix-Domain-Entity {d2f5de38-118b-465f-84ef-5e8f2ba6f138}.\n",
      "C:\\ProgramData\\Anaconda3\\lib\\site-packages\\ipykernel_launcher.py:303: DeprecationWarning: Call to deprecated method get_stix_domain_entity. (Replaced by the StixDomainEntity class in pycti) -- Deprecated since version 2.1.0.\n",
      "INFO:root:Reading Stix-Domain-Entity {de251092-8d94-428a-b26d-713b96658a46}.\n",
      "INFO:root:Listing stix_relations with {type: uses, from_id: d2f5de38-118b-465f-84ef-5e8f2ba6f138, to_id: de251092-8d94-428a-b26d-713b96658a46}\n"
     ]
    },
    {
     "name": "stdout",
     "output_type": "stream",
     "text": [
      "d2f5de38-118b-465f-84ef-5e8f2ba6f138\n",
      "de251092-8d94-428a-b26d-713b96658a46\n"
     ]
    },
    {
     "name": "stderr",
     "output_type": "stream",
     "text": [
      "INFO:root:Reading Report {a216498d-1d4c-4555-a6a5-c62f38300e74}.\n",
      "INFO:root:Adding Stix-Entity {c0ff1401-2e64-4bdc-b607-812ded10ef70} to Report {a216498d-1d4c-4555-a6a5-c62f38300e74}\n",
      "C:\\ProgramData\\Anaconda3\\lib\\site-packages\\ipykernel_launcher.py:300: DeprecationWarning: Call to deprecated method get_stix_domain_entity. (Replaced by the StixDomainEntity class in pycti) -- Deprecated since version 2.1.0.\n",
      "INFO:root:Reading Stix-Domain-Entity {d2f5de38-118b-465f-84ef-5e8f2ba6f138}.\n",
      "C:\\ProgramData\\Anaconda3\\lib\\site-packages\\ipykernel_launcher.py:303: DeprecationWarning: Call to deprecated method get_stix_domain_entity. (Replaced by the StixDomainEntity class in pycti) -- Deprecated since version 2.1.0.\n",
      "INFO:root:Reading Stix-Domain-Entity {2fbbe108-832e-4454-8bc6-d4e4f682b70b}.\n"
     ]
    },
    {
     "name": "stdout",
     "output_type": "stream",
     "text": [
      "d2f5de38-118b-465f-84ef-5e8f2ba6f138\n",
      "2fbbe108-832e-4454-8bc6-d4e4f682b70b\n"
     ]
    },
    {
     "name": "stderr",
     "output_type": "stream",
     "text": [
      "INFO:root:Listing stix_relations with {type: uses, from_id: d2f5de38-118b-465f-84ef-5e8f2ba6f138, to_id: 2fbbe108-832e-4454-8bc6-d4e4f682b70b}\n",
      "INFO:root:Reading Report {a216498d-1d4c-4555-a6a5-c62f38300e74}.\n",
      "INFO:root:Adding Stix-Entity {df7014e2-6595-4507-94a8-e3a7d7092385} to Report {a216498d-1d4c-4555-a6a5-c62f38300e74}\n",
      "C:\\ProgramData\\Anaconda3\\lib\\site-packages\\ipykernel_launcher.py:300: DeprecationWarning: Call to deprecated method get_stix_domain_entity. (Replaced by the StixDomainEntity class in pycti) -- Deprecated since version 2.1.0.\n",
      "INFO:root:Reading Stix-Domain-Entity {992c84bb-2737-4600-bec3-71c96e20bbc0}.\n",
      "C:\\ProgramData\\Anaconda3\\lib\\site-packages\\ipykernel_launcher.py:303: DeprecationWarning: Call to deprecated method get_stix_domain_entity. (Replaced by the StixDomainEntity class in pycti) -- Deprecated since version 2.1.0.\n",
      "INFO:root:Reading Stix-Domain-Entity {98fd75a1-aca9-4b77-9db8-6c6a10e30246}.\n"
     ]
    },
    {
     "name": "stdout",
     "output_type": "stream",
     "text": [
      "992c84bb-2737-4600-bec3-71c96e20bbc0\n",
      "98fd75a1-aca9-4b77-9db8-6c6a10e30246\n"
     ]
    },
    {
     "name": "stderr",
     "output_type": "stream",
     "text": [
      "INFO:root:Listing stix_relations with {type: uses, from_id: 992c84bb-2737-4600-bec3-71c96e20bbc0, to_id: 98fd75a1-aca9-4b77-9db8-6c6a10e30246}\n",
      "INFO:root:Reading Report {a216498d-1d4c-4555-a6a5-c62f38300e74}.\n",
      "INFO:root:Adding Stix-Entity {f24cb099-31e5-4ada-8c42-41ec7441ab41} to Report {a216498d-1d4c-4555-a6a5-c62f38300e74}\n",
      "C:\\ProgramData\\Anaconda3\\lib\\site-packages\\ipykernel_launcher.py:300: DeprecationWarning: Call to deprecated method get_stix_domain_entity. (Replaced by the StixDomainEntity class in pycti) -- Deprecated since version 2.1.0.\n",
      "INFO:root:Reading Stix-Domain-Entity {992c84bb-2737-4600-bec3-71c96e20bbc0}.\n",
      "C:\\ProgramData\\Anaconda3\\lib\\site-packages\\ipykernel_launcher.py:303: DeprecationWarning: Call to deprecated method get_stix_domain_entity. (Replaced by the StixDomainEntity class in pycti) -- Deprecated since version 2.1.0.\n",
      "INFO:root:Reading Stix-Domain-Entity {98fd75a1-aca9-4b77-9db8-6c6a10e30246}.\n"
     ]
    },
    {
     "name": "stdout",
     "output_type": "stream",
     "text": [
      "992c84bb-2737-4600-bec3-71c96e20bbc0\n",
      "98fd75a1-aca9-4b77-9db8-6c6a10e30246\n"
     ]
    },
    {
     "name": "stderr",
     "output_type": "stream",
     "text": [
      "INFO:root:Listing stix_relations with {type: uses, from_id: 992c84bb-2737-4600-bec3-71c96e20bbc0, to_id: 98fd75a1-aca9-4b77-9db8-6c6a10e30246}\n",
      "INFO:root:Reading Report {a216498d-1d4c-4555-a6a5-c62f38300e74}.\n",
      "C:\\ProgramData\\Anaconda3\\lib\\site-packages\\ipykernel_launcher.py:300: DeprecationWarning: Call to deprecated method get_stix_domain_entity. (Replaced by the StixDomainEntity class in pycti) -- Deprecated since version 2.1.0.\n",
      "INFO:root:Reading Stix-Domain-Entity {992c84bb-2737-4600-bec3-71c96e20bbc0}.\n",
      "C:\\ProgramData\\Anaconda3\\lib\\site-packages\\ipykernel_launcher.py:303: DeprecationWarning: Call to deprecated method get_stix_domain_entity. (Replaced by the StixDomainEntity class in pycti) -- Deprecated since version 2.1.0.\n",
      "INFO:root:Reading Stix-Domain-Entity {2fbbe108-832e-4454-8bc6-d4e4f682b70b}.\n"
     ]
    },
    {
     "name": "stdout",
     "output_type": "stream",
     "text": [
      "992c84bb-2737-4600-bec3-71c96e20bbc0\n",
      "2fbbe108-832e-4454-8bc6-d4e4f682b70b\n"
     ]
    },
    {
     "name": "stderr",
     "output_type": "stream",
     "text": [
      "INFO:root:Listing stix_relations with {type: uses, from_id: 992c84bb-2737-4600-bec3-71c96e20bbc0, to_id: 2fbbe108-832e-4454-8bc6-d4e4f682b70b}\n",
      "INFO:root:Reading Report {a216498d-1d4c-4555-a6a5-c62f38300e74}.\n",
      "INFO:root:Adding Stix-Entity {3717ab3c-7f64-4976-9c9c-83b2e5558431} to Report {a216498d-1d4c-4555-a6a5-c62f38300e74}\n",
      "C:\\ProgramData\\Anaconda3\\lib\\site-packages\\ipykernel_launcher.py:300: DeprecationWarning: Call to deprecated method get_stix_domain_entity. (Replaced by the StixDomainEntity class in pycti) -- Deprecated since version 2.1.0.\n",
      "INFO:root:Reading Stix-Domain-Entity {06ef98bc-90d3-44d0-9b31-47dd138daa3d}.\n",
      "C:\\ProgramData\\Anaconda3\\lib\\site-packages\\ipykernel_launcher.py:303: DeprecationWarning: Call to deprecated method get_stix_domain_entity. (Replaced by the StixDomainEntity class in pycti) -- Deprecated since version 2.1.0.\n",
      "INFO:root:Reading Stix-Domain-Entity {e3f49f39-45fb-40cc-b44f-4af592d48328}.\n"
     ]
    },
    {
     "name": "stdout",
     "output_type": "stream",
     "text": [
      "06ef98bc-90d3-44d0-9b31-47dd138daa3d\n",
      "e3f49f39-45fb-40cc-b44f-4af592d48328\n"
     ]
    },
    {
     "name": "stderr",
     "output_type": "stream",
     "text": [
      "INFO:root:Listing stix_relations with {type: uses, from_id: 06ef98bc-90d3-44d0-9b31-47dd138daa3d, to_id: e3f49f39-45fb-40cc-b44f-4af592d48328}\n",
      "INFO:root:Reading Report {a216498d-1d4c-4555-a6a5-c62f38300e74}.\n",
      "INFO:root:Adding Stix-Entity {be0bac34-2a9a-4d7a-838d-567179501156} to Report {a216498d-1d4c-4555-a6a5-c62f38300e74}\n",
      "C:\\ProgramData\\Anaconda3\\lib\\site-packages\\ipykernel_launcher.py:300: DeprecationWarning: Call to deprecated method get_stix_domain_entity. (Replaced by the StixDomainEntity class in pycti) -- Deprecated since version 2.1.0.\n",
      "INFO:root:Reading Stix-Domain-Entity {06ef98bc-90d3-44d0-9b31-47dd138daa3d}.\n",
      "C:\\ProgramData\\Anaconda3\\lib\\site-packages\\ipykernel_launcher.py:303: DeprecationWarning: Call to deprecated method get_stix_domain_entity. (Replaced by the StixDomainEntity class in pycti) -- Deprecated since version 2.1.0.\n",
      "INFO:root:Reading Stix-Domain-Entity {a66f1395-d712-4bb0-a268-5547d454dd0f}.\n"
     ]
    },
    {
     "name": "stdout",
     "output_type": "stream",
     "text": [
      "06ef98bc-90d3-44d0-9b31-47dd138daa3d\n",
      "a66f1395-d712-4bb0-a268-5547d454dd0f\n"
     ]
    },
    {
     "name": "stderr",
     "output_type": "stream",
     "text": [
      "INFO:root:Listing stix_relations with {type: uses, from_id: 06ef98bc-90d3-44d0-9b31-47dd138daa3d, to_id: a66f1395-d712-4bb0-a268-5547d454dd0f}\n",
      "INFO:root:Reading Report {a216498d-1d4c-4555-a6a5-c62f38300e74}.\n",
      "INFO:root:Adding Stix-Entity {2faf162a-fdb4-4be4-91fe-54ac30e11c6a} to Report {a216498d-1d4c-4555-a6a5-c62f38300e74}\n",
      "C:\\ProgramData\\Anaconda3\\lib\\site-packages\\ipykernel_launcher.py:300: DeprecationWarning: Call to deprecated method get_stix_domain_entity. (Replaced by the StixDomainEntity class in pycti) -- Deprecated since version 2.1.0.\n",
      "INFO:root:Reading Stix-Domain-Entity {9fa5e609-537d-483a-98fe-f463e405df11}.\n",
      "C:\\ProgramData\\Anaconda3\\lib\\site-packages\\ipykernel_launcher.py:303: DeprecationWarning: Call to deprecated method get_stix_domain_entity. (Replaced by the StixDomainEntity class in pycti) -- Deprecated since version 2.1.0.\n",
      "INFO:root:Reading Stix-Domain-Entity {885223eb-a293-4d4a-aaa8-2dd8d4487076}.\n"
     ]
    },
    {
     "name": "stdout",
     "output_type": "stream",
     "text": [
      "9fa5e609-537d-483a-98fe-f463e405df11\n",
      "885223eb-a293-4d4a-aaa8-2dd8d4487076\n"
     ]
    },
    {
     "name": "stderr",
     "output_type": "stream",
     "text": [
      "INFO:root:Listing stix_relations with {type: uses, from_id: 9fa5e609-537d-483a-98fe-f463e405df11, to_id: 885223eb-a293-4d4a-aaa8-2dd8d4487076}\n",
      "INFO:root:Reading Report {a216498d-1d4c-4555-a6a5-c62f38300e74}.\n",
      "INFO:root:Adding Stix-Entity {6ecb027e-9f22-4410-8ae5-1984a2d98e05} to Report {a216498d-1d4c-4555-a6a5-c62f38300e74}\n",
      "C:\\ProgramData\\Anaconda3\\lib\\site-packages\\ipykernel_launcher.py:300: DeprecationWarning: Call to deprecated method get_stix_domain_entity. (Replaced by the StixDomainEntity class in pycti) -- Deprecated since version 2.1.0.\n",
      "INFO:root:Reading Stix-Domain-Entity {9fa5e609-537d-483a-98fe-f463e405df11}.\n",
      "C:\\ProgramData\\Anaconda3\\lib\\site-packages\\ipykernel_launcher.py:303: DeprecationWarning: Call to deprecated method get_stix_domain_entity. (Replaced by the StixDomainEntity class in pycti) -- Deprecated since version 2.1.0.\n",
      "INFO:root:Reading Stix-Domain-Entity {651e2539-4a7d-47fc-8df2-ff67583c3801}.\n",
      "INFO:root:Listing stix_relations with {type: uses, from_id: 9fa5e609-537d-483a-98fe-f463e405df11, to_id: 651e2539-4a7d-47fc-8df2-ff67583c3801}\n"
     ]
    },
    {
     "name": "stdout",
     "output_type": "stream",
     "text": [
      "9fa5e609-537d-483a-98fe-f463e405df11\n",
      "651e2539-4a7d-47fc-8df2-ff67583c3801\n"
     ]
    },
    {
     "name": "stderr",
     "output_type": "stream",
     "text": [
      "INFO:root:Reading Report {a216498d-1d4c-4555-a6a5-c62f38300e74}.\n",
      "INFO:root:Adding Stix-Entity {538f0599-1e57-4ea2-b423-8f3d66f8c47f} to Report {a216498d-1d4c-4555-a6a5-c62f38300e74}\n",
      "C:\\ProgramData\\Anaconda3\\lib\\site-packages\\ipykernel_launcher.py:300: DeprecationWarning: Call to deprecated method get_stix_domain_entity. (Replaced by the StixDomainEntity class in pycti) -- Deprecated since version 2.1.0.\n",
      "INFO:root:Reading Stix-Domain-Entity {9fa5e609-537d-483a-98fe-f463e405df11}.\n",
      "C:\\ProgramData\\Anaconda3\\lib\\site-packages\\ipykernel_launcher.py:303: DeprecationWarning: Call to deprecated method get_stix_domain_entity. (Replaced by the StixDomainEntity class in pycti) -- Deprecated since version 2.1.0.\n",
      "INFO:root:Reading Stix-Domain-Entity {651e2539-4a7d-47fc-8df2-ff67583c3801}.\n"
     ]
    },
    {
     "name": "stdout",
     "output_type": "stream",
     "text": [
      "9fa5e609-537d-483a-98fe-f463e405df11\n",
      "651e2539-4a7d-47fc-8df2-ff67583c3801\n"
     ]
    },
    {
     "name": "stderr",
     "output_type": "stream",
     "text": [
      "INFO:root:Listing stix_relations with {type: uses, from_id: 9fa5e609-537d-483a-98fe-f463e405df11, to_id: 651e2539-4a7d-47fc-8df2-ff67583c3801}\n",
      "INFO:root:Reading Report {a216498d-1d4c-4555-a6a5-c62f38300e74}.\n",
      "C:\\ProgramData\\Anaconda3\\lib\\site-packages\\ipykernel_launcher.py:300: DeprecationWarning: Call to deprecated method get_stix_domain_entity. (Replaced by the StixDomainEntity class in pycti) -- Deprecated since version 2.1.0.\n",
      "INFO:root:Reading Stix-Domain-Entity {9fa5e609-537d-483a-98fe-f463e405df11}.\n",
      "C:\\ProgramData\\Anaconda3\\lib\\site-packages\\ipykernel_launcher.py:303: DeprecationWarning: Call to deprecated method get_stix_domain_entity. (Replaced by the StixDomainEntity class in pycti) -- Deprecated since version 2.1.0.\n",
      "INFO:root:Reading Stix-Domain-Entity {c6cb1bb3-2902-45cc-93b4-83ceb1031509}.\n"
     ]
    },
    {
     "name": "stdout",
     "output_type": "stream",
     "text": [
      "9fa5e609-537d-483a-98fe-f463e405df11\n",
      "c6cb1bb3-2902-45cc-93b4-83ceb1031509\n"
     ]
    },
    {
     "name": "stderr",
     "output_type": "stream",
     "text": [
      "INFO:root:Listing stix_relations with {type: uses, from_id: 9fa5e609-537d-483a-98fe-f463e405df11, to_id: c6cb1bb3-2902-45cc-93b4-83ceb1031509}\n",
      "INFO:root:Reading Report {a216498d-1d4c-4555-a6a5-c62f38300e74}.\n",
      "INFO:root:Adding Stix-Entity {cd423f31-cc1d-42b8-ba79-5e9634331c9b} to Report {a216498d-1d4c-4555-a6a5-c62f38300e74}\n",
      "C:\\ProgramData\\Anaconda3\\lib\\site-packages\\ipykernel_launcher.py:300: DeprecationWarning: Call to deprecated method get_stix_domain_entity. (Replaced by the StixDomainEntity class in pycti) -- Deprecated since version 2.1.0.\n",
      "INFO:root:Reading Stix-Domain-Entity {9fa5e609-537d-483a-98fe-f463e405df11}.\n",
      "C:\\ProgramData\\Anaconda3\\lib\\site-packages\\ipykernel_launcher.py:303: DeprecationWarning: Call to deprecated method get_stix_domain_entity. (Replaced by the StixDomainEntity class in pycti) -- Deprecated since version 2.1.0.\n",
      "INFO:root:Reading Stix-Domain-Entity {5ef8a53d-1e82-47b5-990e-2a0a46aa5e86}.\n"
     ]
    },
    {
     "name": "stdout",
     "output_type": "stream",
     "text": [
      "9fa5e609-537d-483a-98fe-f463e405df11\n",
      "5ef8a53d-1e82-47b5-990e-2a0a46aa5e86\n"
     ]
    },
    {
     "name": "stderr",
     "output_type": "stream",
     "text": [
      "INFO:root:Listing stix_relations with {type: uses, from_id: 9fa5e609-537d-483a-98fe-f463e405df11, to_id: 5ef8a53d-1e82-47b5-990e-2a0a46aa5e86}\n",
      "INFO:root:Reading Report {a216498d-1d4c-4555-a6a5-c62f38300e74}.\n",
      "INFO:root:Adding Stix-Entity {cca9b381-fee9-4ede-bad2-a692287c5fe1} to Report {a216498d-1d4c-4555-a6a5-c62f38300e74}\n",
      "C:\\ProgramData\\Anaconda3\\lib\\site-packages\\ipykernel_launcher.py:300: DeprecationWarning: Call to deprecated method get_stix_domain_entity. (Replaced by the StixDomainEntity class in pycti) -- Deprecated since version 2.1.0.\n",
      "INFO:root:Reading Stix-Domain-Entity {9fa5e609-537d-483a-98fe-f463e405df11}.\n",
      "C:\\ProgramData\\Anaconda3\\lib\\site-packages\\ipykernel_launcher.py:303: DeprecationWarning: Call to deprecated method get_stix_domain_entity. (Replaced by the StixDomainEntity class in pycti) -- Deprecated since version 2.1.0.\n",
      "INFO:root:Reading Stix-Domain-Entity {aaf9cc50-5384-45df-b184-2d6048f4ecdd}.\n"
     ]
    },
    {
     "name": "stdout",
     "output_type": "stream",
     "text": [
      "9fa5e609-537d-483a-98fe-f463e405df11\n",
      "aaf9cc50-5384-45df-b184-2d6048f4ecdd\n"
     ]
    },
    {
     "name": "stderr",
     "output_type": "stream",
     "text": [
      "INFO:root:Listing stix_relations with {type: uses, from_id: 9fa5e609-537d-483a-98fe-f463e405df11, to_id: aaf9cc50-5384-45df-b184-2d6048f4ecdd}\n",
      "INFO:root:Reading Report {a216498d-1d4c-4555-a6a5-c62f38300e74}.\n",
      "INFO:root:Adding Stix-Entity {0db2f249-1b34-44b6-a16f-7bc84d81c5f8} to Report {a216498d-1d4c-4555-a6a5-c62f38300e74}\n",
      "C:\\ProgramData\\Anaconda3\\lib\\site-packages\\ipykernel_launcher.py:300: DeprecationWarning: Call to deprecated method get_stix_domain_entity. (Replaced by the StixDomainEntity class in pycti) -- Deprecated since version 2.1.0.\n",
      "INFO:root:Reading Stix-Domain-Entity {9fa5e609-537d-483a-98fe-f463e405df11}.\n",
      "C:\\ProgramData\\Anaconda3\\lib\\site-packages\\ipykernel_launcher.py:303: DeprecationWarning: Call to deprecated method get_stix_domain_entity. (Replaced by the StixDomainEntity class in pycti) -- Deprecated since version 2.1.0.\n",
      "INFO:root:Reading Stix-Domain-Entity {58eacb3e-a736-41c8-ba57-9328e4adbca5}.\n"
     ]
    },
    {
     "name": "stdout",
     "output_type": "stream",
     "text": [
      "9fa5e609-537d-483a-98fe-f463e405df11\n",
      "58eacb3e-a736-41c8-ba57-9328e4adbca5\n"
     ]
    },
    {
     "name": "stderr",
     "output_type": "stream",
     "text": [
      "INFO:root:Listing stix_relations with {type: uses, from_id: 9fa5e609-537d-483a-98fe-f463e405df11, to_id: 58eacb3e-a736-41c8-ba57-9328e4adbca5}\n",
      "INFO:root:Reading Report {a216498d-1d4c-4555-a6a5-c62f38300e74}.\n",
      "INFO:root:Adding Stix-Entity {0b7c752b-6db4-4203-9f77-4f442b8e1e71} to Report {a216498d-1d4c-4555-a6a5-c62f38300e74}\n",
      "C:\\ProgramData\\Anaconda3\\lib\\site-packages\\ipykernel_launcher.py:300: DeprecationWarning: Call to deprecated method get_stix_domain_entity. (Replaced by the StixDomainEntity class in pycti) -- Deprecated since version 2.1.0.\n",
      "INFO:root:Reading Stix-Domain-Entity {9fa5e609-537d-483a-98fe-f463e405df11}.\n",
      "C:\\ProgramData\\Anaconda3\\lib\\site-packages\\ipykernel_launcher.py:303: DeprecationWarning: Call to deprecated method get_stix_domain_entity. (Replaced by the StixDomainEntity class in pycti) -- Deprecated since version 2.1.0.\n",
      "INFO:root:Reading Stix-Domain-Entity {65e096e1-3467-4bd5-a574-9a475701fbdb}.\n"
     ]
    },
    {
     "name": "stdout",
     "output_type": "stream",
     "text": [
      "9fa5e609-537d-483a-98fe-f463e405df11\n",
      "65e096e1-3467-4bd5-a574-9a475701fbdb\n"
     ]
    },
    {
     "name": "stderr",
     "output_type": "stream",
     "text": [
      "INFO:root:Listing stix_relations with {type: uses, from_id: 9fa5e609-537d-483a-98fe-f463e405df11, to_id: 65e096e1-3467-4bd5-a574-9a475701fbdb}\n",
      "INFO:root:Reading Report {a216498d-1d4c-4555-a6a5-c62f38300e74}.\n",
      "INFO:root:Adding Stix-Entity {042df8d4-9b54-4ba8-8354-9c7be3097ee5} to Report {a216498d-1d4c-4555-a6a5-c62f38300e74}\n",
      "C:\\ProgramData\\Anaconda3\\lib\\site-packages\\ipykernel_launcher.py:300: DeprecationWarning: Call to deprecated method get_stix_domain_entity. (Replaced by the StixDomainEntity class in pycti) -- Deprecated since version 2.1.0.\n",
      "INFO:root:Reading Stix-Domain-Entity {f14a312d-c43b-4c07-9951-f3448dfb7ba6}.\n",
      "C:\\ProgramData\\Anaconda3\\lib\\site-packages\\ipykernel_launcher.py:303: DeprecationWarning: Call to deprecated method get_stix_domain_entity. (Replaced by the StixDomainEntity class in pycti) -- Deprecated since version 2.1.0.\n",
      "INFO:root:Reading Stix-Domain-Entity {f76a44e3-4503-48f7-b5e8-cf83bcd6cf83}.\n"
     ]
    },
    {
     "name": "stdout",
     "output_type": "stream",
     "text": [
      "f14a312d-c43b-4c07-9951-f3448dfb7ba6\n",
      "f76a44e3-4503-48f7-b5e8-cf83bcd6cf83\n"
     ]
    },
    {
     "name": "stderr",
     "output_type": "stream",
     "text": [
      "INFO:root:Listing stix_relations with {type: uses, from_id: f14a312d-c43b-4c07-9951-f3448dfb7ba6, to_id: f76a44e3-4503-48f7-b5e8-cf83bcd6cf83}\n",
      "INFO:root:Reading Report {a216498d-1d4c-4555-a6a5-c62f38300e74}.\n",
      "INFO:root:Adding Stix-Entity {715d898b-df4d-473e-b8aa-2c2381cb95d8} to Report {a216498d-1d4c-4555-a6a5-c62f38300e74}\n",
      "C:\\ProgramData\\Anaconda3\\lib\\site-packages\\ipykernel_launcher.py:300: DeprecationWarning: Call to deprecated method get_stix_domain_entity. (Replaced by the StixDomainEntity class in pycti) -- Deprecated since version 2.1.0.\n",
      "INFO:root:Reading Stix-Domain-Entity {d380cf57-9810-438b-bb25-a652aaca9ab2}.\n",
      "C:\\ProgramData\\Anaconda3\\lib\\site-packages\\ipykernel_launcher.py:303: DeprecationWarning: Call to deprecated method get_stix_domain_entity. (Replaced by the StixDomainEntity class in pycti) -- Deprecated since version 2.1.0.\n",
      "INFO:root:Reading Stix-Domain-Entity {ba4ce101-a595-428e-b56b-a7fd085ab3ed}.\n",
      "INFO:root:Listing stix_relations with {type: uses, from_id: d380cf57-9810-438b-bb25-a652aaca9ab2, to_id: ba4ce101-a595-428e-b56b-a7fd085ab3ed}\n"
     ]
    },
    {
     "name": "stdout",
     "output_type": "stream",
     "text": [
      "d380cf57-9810-438b-bb25-a652aaca9ab2\n",
      "ba4ce101-a595-428e-b56b-a7fd085ab3ed\n"
     ]
    },
    {
     "name": "stderr",
     "output_type": "stream",
     "text": [
      "INFO:root:Reading Report {a216498d-1d4c-4555-a6a5-c62f38300e74}.\n",
      "INFO:root:Adding Stix-Entity {27dc63fd-3391-4700-b24b-a2847aa24cb6} to Report {a216498d-1d4c-4555-a6a5-c62f38300e74}\n",
      "C:\\ProgramData\\Anaconda3\\lib\\site-packages\\ipykernel_launcher.py:300: DeprecationWarning: Call to deprecated method get_stix_domain_entity. (Replaced by the StixDomainEntity class in pycti) -- Deprecated since version 2.1.0.\n",
      "INFO:root:Reading Stix-Domain-Entity {d380cf57-9810-438b-bb25-a652aaca9ab2}.\n",
      "C:\\ProgramData\\Anaconda3\\lib\\site-packages\\ipykernel_launcher.py:303: DeprecationWarning: Call to deprecated method get_stix_domain_entity. (Replaced by the StixDomainEntity class in pycti) -- Deprecated since version 2.1.0.\n",
      "INFO:root:Reading Stix-Domain-Entity {b4a44dca-bd27-4047-adff-2a72b0b53107}.\n"
     ]
    },
    {
     "name": "stdout",
     "output_type": "stream",
     "text": [
      "d380cf57-9810-438b-bb25-a652aaca9ab2\n",
      "b4a44dca-bd27-4047-adff-2a72b0b53107\n"
     ]
    },
    {
     "name": "stderr",
     "output_type": "stream",
     "text": [
      "INFO:root:Listing stix_relations with {type: uses, from_id: d380cf57-9810-438b-bb25-a652aaca9ab2, to_id: b4a44dca-bd27-4047-adff-2a72b0b53107}\n",
      "INFO:root:Reading Report {a216498d-1d4c-4555-a6a5-c62f38300e74}.\n",
      "INFO:root:Adding Stix-Entity {a61dcac9-2fe0-4b3e-922d-1271978b1ed0} to Report {a216498d-1d4c-4555-a6a5-c62f38300e74}\n",
      "C:\\ProgramData\\Anaconda3\\lib\\site-packages\\ipykernel_launcher.py:300: DeprecationWarning: Call to deprecated method get_stix_domain_entity. (Replaced by the StixDomainEntity class in pycti) -- Deprecated since version 2.1.0.\n",
      "INFO:root:Reading Stix-Domain-Entity {d380cf57-9810-438b-bb25-a652aaca9ab2}.\n",
      "C:\\ProgramData\\Anaconda3\\lib\\site-packages\\ipykernel_launcher.py:303: DeprecationWarning: Call to deprecated method get_stix_domain_entity. (Replaced by the StixDomainEntity class in pycti) -- Deprecated since version 2.1.0.\n",
      "INFO:root:Reading Stix-Domain-Entity {b4a44dca-bd27-4047-adff-2a72b0b53107}.\n"
     ]
    },
    {
     "name": "stdout",
     "output_type": "stream",
     "text": [
      "d380cf57-9810-438b-bb25-a652aaca9ab2\n",
      "b4a44dca-bd27-4047-adff-2a72b0b53107\n"
     ]
    },
    {
     "name": "stderr",
     "output_type": "stream",
     "text": [
      "INFO:root:Listing stix_relations with {type: uses, from_id: d380cf57-9810-438b-bb25-a652aaca9ab2, to_id: b4a44dca-bd27-4047-adff-2a72b0b53107}\n",
      "INFO:root:Reading Report {a216498d-1d4c-4555-a6a5-c62f38300e74}.\n",
      "C:\\ProgramData\\Anaconda3\\lib\\site-packages\\ipykernel_launcher.py:300: DeprecationWarning: Call to deprecated method get_stix_domain_entity. (Replaced by the StixDomainEntity class in pycti) -- Deprecated since version 2.1.0.\n",
      "INFO:root:Reading Stix-Domain-Entity {d380cf57-9810-438b-bb25-a652aaca9ab2}.\n",
      "C:\\ProgramData\\Anaconda3\\lib\\site-packages\\ipykernel_launcher.py:303: DeprecationWarning: Call to deprecated method get_stix_domain_entity. (Replaced by the StixDomainEntity class in pycti) -- Deprecated since version 2.1.0.\n",
      "INFO:root:Reading Stix-Domain-Entity {b4a44dca-bd27-4047-adff-2a72b0b53107}.\n",
      "INFO:root:Listing stix_relations with {type: uses, from_id: d380cf57-9810-438b-bb25-a652aaca9ab2, to_id: b4a44dca-bd27-4047-adff-2a72b0b53107}\n"
     ]
    },
    {
     "name": "stdout",
     "output_type": "stream",
     "text": [
      "d380cf57-9810-438b-bb25-a652aaca9ab2\n",
      "b4a44dca-bd27-4047-adff-2a72b0b53107\n"
     ]
    },
    {
     "name": "stderr",
     "output_type": "stream",
     "text": [
      "INFO:root:Reading Report {a216498d-1d4c-4555-a6a5-c62f38300e74}.\n",
      "C:\\ProgramData\\Anaconda3\\lib\\site-packages\\ipykernel_launcher.py:300: DeprecationWarning: Call to deprecated method get_stix_domain_entity. (Replaced by the StixDomainEntity class in pycti) -- Deprecated since version 2.1.0.\n",
      "INFO:root:Reading Stix-Domain-Entity {d380cf57-9810-438b-bb25-a652aaca9ab2}.\n",
      "C:\\ProgramData\\Anaconda3\\lib\\site-packages\\ipykernel_launcher.py:303: DeprecationWarning: Call to deprecated method get_stix_domain_entity. (Replaced by the StixDomainEntity class in pycti) -- Deprecated since version 2.1.0.\n",
      "INFO:root:Reading Stix-Domain-Entity {b4a44dca-bd27-4047-adff-2a72b0b53107}.\n",
      "INFO:root:Listing stix_relations with {type: uses, from_id: d380cf57-9810-438b-bb25-a652aaca9ab2, to_id: b4a44dca-bd27-4047-adff-2a72b0b53107}\n"
     ]
    },
    {
     "name": "stdout",
     "output_type": "stream",
     "text": [
      "d380cf57-9810-438b-bb25-a652aaca9ab2\n",
      "b4a44dca-bd27-4047-adff-2a72b0b53107\n"
     ]
    },
    {
     "name": "stderr",
     "output_type": "stream",
     "text": [
      "INFO:root:Reading Report {a216498d-1d4c-4555-a6a5-c62f38300e74}.\n",
      "C:\\ProgramData\\Anaconda3\\lib\\site-packages\\ipykernel_launcher.py:300: DeprecationWarning: Call to deprecated method get_stix_domain_entity. (Replaced by the StixDomainEntity class in pycti) -- Deprecated since version 2.1.0.\n",
      "INFO:root:Reading Stix-Domain-Entity {d380cf57-9810-438b-bb25-a652aaca9ab2}.\n",
      "C:\\ProgramData\\Anaconda3\\lib\\site-packages\\ipykernel_launcher.py:303: DeprecationWarning: Call to deprecated method get_stix_domain_entity. (Replaced by the StixDomainEntity class in pycti) -- Deprecated since version 2.1.0.\n",
      "INFO:root:Reading Stix-Domain-Entity {5ef8a53d-1e82-47b5-990e-2a0a46aa5e86}.\n"
     ]
    },
    {
     "name": "stdout",
     "output_type": "stream",
     "text": [
      "d380cf57-9810-438b-bb25-a652aaca9ab2\n",
      "5ef8a53d-1e82-47b5-990e-2a0a46aa5e86\n"
     ]
    },
    {
     "name": "stderr",
     "output_type": "stream",
     "text": [
      "INFO:root:Listing stix_relations with {type: uses, from_id: d380cf57-9810-438b-bb25-a652aaca9ab2, to_id: 5ef8a53d-1e82-47b5-990e-2a0a46aa5e86}\n",
      "INFO:root:Reading Report {a216498d-1d4c-4555-a6a5-c62f38300e74}.\n",
      "INFO:root:Adding Stix-Entity {8e370095-1ce7-4ebe-8773-eb3474dda2c1} to Report {a216498d-1d4c-4555-a6a5-c62f38300e74}\n",
      "C:\\ProgramData\\Anaconda3\\lib\\site-packages\\ipykernel_launcher.py:300: DeprecationWarning: Call to deprecated method get_stix_domain_entity. (Replaced by the StixDomainEntity class in pycti) -- Deprecated since version 2.1.0.\n",
      "INFO:root:Reading Stix-Domain-Entity {d380cf57-9810-438b-bb25-a652aaca9ab2}.\n",
      "C:\\ProgramData\\Anaconda3\\lib\\site-packages\\ipykernel_launcher.py:303: DeprecationWarning: Call to deprecated method get_stix_domain_entity. (Replaced by the StixDomainEntity class in pycti) -- Deprecated since version 2.1.0.\n",
      "INFO:root:Reading Stix-Domain-Entity {beb1cad9-016f-49c5-ad3c-f23bff549ff2}.\n",
      "INFO:root:Listing stix_relations with {type: uses, from_id: d380cf57-9810-438b-bb25-a652aaca9ab2, to_id: beb1cad9-016f-49c5-ad3c-f23bff549ff2}\n"
     ]
    },
    {
     "name": "stdout",
     "output_type": "stream",
     "text": [
      "d380cf57-9810-438b-bb25-a652aaca9ab2\n",
      "beb1cad9-016f-49c5-ad3c-f23bff549ff2\n"
     ]
    },
    {
     "name": "stderr",
     "output_type": "stream",
     "text": [
      "INFO:root:Reading Report {a216498d-1d4c-4555-a6a5-c62f38300e74}.\n",
      "INFO:root:Adding Stix-Entity {4ce7669f-fe60-4bbb-990d-f4b1d1813864} to Report {a216498d-1d4c-4555-a6a5-c62f38300e74}\n",
      "C:\\ProgramData\\Anaconda3\\lib\\site-packages\\ipykernel_launcher.py:300: DeprecationWarning: Call to deprecated method get_stix_domain_entity. (Replaced by the StixDomainEntity class in pycti) -- Deprecated since version 2.1.0.\n",
      "INFO:root:Reading Stix-Domain-Entity {d380cf57-9810-438b-bb25-a652aaca9ab2}.\n",
      "C:\\ProgramData\\Anaconda3\\lib\\site-packages\\ipykernel_launcher.py:303: DeprecationWarning: Call to deprecated method get_stix_domain_entity. (Replaced by the StixDomainEntity class in pycti) -- Deprecated since version 2.1.0.\n",
      "INFO:root:Reading Stix-Domain-Entity {58eacb3e-a736-41c8-ba57-9328e4adbca5}.\n"
     ]
    },
    {
     "name": "stdout",
     "output_type": "stream",
     "text": [
      "d380cf57-9810-438b-bb25-a652aaca9ab2\n",
      "58eacb3e-a736-41c8-ba57-9328e4adbca5\n"
     ]
    },
    {
     "name": "stderr",
     "output_type": "stream",
     "text": [
      "INFO:root:Listing stix_relations with {type: uses, from_id: d380cf57-9810-438b-bb25-a652aaca9ab2, to_id: 58eacb3e-a736-41c8-ba57-9328e4adbca5}\n",
      "INFO:root:Reading Report {a216498d-1d4c-4555-a6a5-c62f38300e74}.\n",
      "INFO:root:Adding Stix-Entity {a379e5ea-3430-4369-8f23-c51c82383d5a} to Report {a216498d-1d4c-4555-a6a5-c62f38300e74}\n",
      "C:\\ProgramData\\Anaconda3\\lib\\site-packages\\ipykernel_launcher.py:300: DeprecationWarning: Call to deprecated method get_stix_domain_entity. (Replaced by the StixDomainEntity class in pycti) -- Deprecated since version 2.1.0.\n",
      "INFO:root:Reading Stix-Domain-Entity {d380cf57-9810-438b-bb25-a652aaca9ab2}.\n",
      "C:\\ProgramData\\Anaconda3\\lib\\site-packages\\ipykernel_launcher.py:303: DeprecationWarning: Call to deprecated method get_stix_domain_entity. (Replaced by the StixDomainEntity class in pycti) -- Deprecated since version 2.1.0.\n",
      "INFO:root:Reading Stix-Domain-Entity {65e096e1-3467-4bd5-a574-9a475701fbdb}.\n"
     ]
    },
    {
     "name": "stdout",
     "output_type": "stream",
     "text": [
      "d380cf57-9810-438b-bb25-a652aaca9ab2\n",
      "65e096e1-3467-4bd5-a574-9a475701fbdb\n"
     ]
    },
    {
     "name": "stderr",
     "output_type": "stream",
     "text": [
      "INFO:root:Listing stix_relations with {type: uses, from_id: d380cf57-9810-438b-bb25-a652aaca9ab2, to_id: 65e096e1-3467-4bd5-a574-9a475701fbdb}\n",
      "INFO:root:Reading Report {a216498d-1d4c-4555-a6a5-c62f38300e74}.\n",
      "INFO:root:Adding Stix-Entity {29f8f02a-df6c-46aa-a1ef-6922b0572ecb} to Report {a216498d-1d4c-4555-a6a5-c62f38300e74}\n",
      "C:\\ProgramData\\Anaconda3\\lib\\site-packages\\ipykernel_launcher.py:300: DeprecationWarning: Call to deprecated method get_stix_domain_entity. (Replaced by the StixDomainEntity class in pycti) -- Deprecated since version 2.1.0.\n",
      "INFO:root:Reading Stix-Domain-Entity {d380cf57-9810-438b-bb25-a652aaca9ab2}.\n",
      "C:\\ProgramData\\Anaconda3\\lib\\site-packages\\ipykernel_launcher.py:303: DeprecationWarning: Call to deprecated method get_stix_domain_entity. (Replaced by the StixDomainEntity class in pycti) -- Deprecated since version 2.1.0.\n",
      "INFO:root:Reading Stix-Domain-Entity {a66f1395-d712-4bb0-a268-5547d454dd0f}.\n",
      "INFO:root:Listing stix_relations with {type: uses, from_id: d380cf57-9810-438b-bb25-a652aaca9ab2, to_id: a66f1395-d712-4bb0-a268-5547d454dd0f}\n"
     ]
    },
    {
     "name": "stdout",
     "output_type": "stream",
     "text": [
      "d380cf57-9810-438b-bb25-a652aaca9ab2\n",
      "a66f1395-d712-4bb0-a268-5547d454dd0f\n"
     ]
    },
    {
     "name": "stderr",
     "output_type": "stream",
     "text": [
      "INFO:root:Reading Report {a216498d-1d4c-4555-a6a5-c62f38300e74}.\n",
      "INFO:root:Adding Stix-Entity {6eacb234-f115-4f09-b7b8-0523ebdb42ef} to Report {a216498d-1d4c-4555-a6a5-c62f38300e74}\n",
      "C:\\ProgramData\\Anaconda3\\lib\\site-packages\\ipykernel_launcher.py:300: DeprecationWarning: Call to deprecated method get_stix_domain_entity. (Replaced by the StixDomainEntity class in pycti) -- Deprecated since version 2.1.0.\n",
      "INFO:root:Reading Stix-Domain-Entity {93a45d31-aff0-4943-9c7c-e030b99b5f5a}.\n",
      "C:\\ProgramData\\Anaconda3\\lib\\site-packages\\ipykernel_launcher.py:303: DeprecationWarning: Call to deprecated method get_stix_domain_entity. (Replaced by the StixDomainEntity class in pycti) -- Deprecated since version 2.1.0.\n",
      "INFO:root:Reading Stix-Domain-Entity {c9630199-c590-4a66-9e4b-095f0acae785}.\n"
     ]
    },
    {
     "name": "stdout",
     "output_type": "stream",
     "text": [
      "93a45d31-aff0-4943-9c7c-e030b99b5f5a\n",
      "c9630199-c590-4a66-9e4b-095f0acae785\n"
     ]
    },
    {
     "name": "stderr",
     "output_type": "stream",
     "text": [
      "INFO:root:Listing stix_relations with {type: indicates, from_id: 93a45d31-aff0-4943-9c7c-e030b99b5f5a, to_id: c9630199-c590-4a66-9e4b-095f0acae785}\n",
      "INFO:root:Reading Report {a216498d-1d4c-4555-a6a5-c62f38300e74}.\n",
      "INFO:root:Adding Stix-Entity {ea43e946-1d01-4335-b9c8-33ca190b1ebd} to Report {a216498d-1d4c-4555-a6a5-c62f38300e74}\n",
      "C:\\ProgramData\\Anaconda3\\lib\\site-packages\\ipykernel_launcher.py:300: DeprecationWarning: Call to deprecated method get_stix_domain_entity. (Replaced by the StixDomainEntity class in pycti) -- Deprecated since version 2.1.0.\n",
      "INFO:root:Reading Stix-Domain-Entity {7c869d95-c014-49aa-ba37-a24e5929e8fa}.\n",
      "C:\\ProgramData\\Anaconda3\\lib\\site-packages\\ipykernel_launcher.py:303: DeprecationWarning: Call to deprecated method get_stix_domain_entity. (Replaced by the StixDomainEntity class in pycti) -- Deprecated since version 2.1.0.\n",
      "INFO:root:Reading Stix-Domain-Entity {c9630199-c590-4a66-9e4b-095f0acae785}.\n"
     ]
    },
    {
     "name": "stdout",
     "output_type": "stream",
     "text": [
      "7c869d95-c014-49aa-ba37-a24e5929e8fa\n",
      "c9630199-c590-4a66-9e4b-095f0acae785\n"
     ]
    },
    {
     "name": "stderr",
     "output_type": "stream",
     "text": [
      "INFO:root:Listing stix_relations with {type: indicates, from_id: 7c869d95-c014-49aa-ba37-a24e5929e8fa, to_id: c9630199-c590-4a66-9e4b-095f0acae785}\n",
      "INFO:root:Reading Report {a216498d-1d4c-4555-a6a5-c62f38300e74}.\n",
      "INFO:root:Adding Stix-Entity {7bdc685b-daf1-42e1-bc7a-d53a06dc8917} to Report {a216498d-1d4c-4555-a6a5-c62f38300e74}\n",
      "C:\\ProgramData\\Anaconda3\\lib\\site-packages\\ipykernel_launcher.py:300: DeprecationWarning: Call to deprecated method get_stix_domain_entity. (Replaced by the StixDomainEntity class in pycti) -- Deprecated since version 2.1.0.\n",
      "INFO:root:Reading Stix-Domain-Entity {14f1d298-a87e-451b-ba60-76a5dbee520d}.\n",
      "C:\\ProgramData\\Anaconda3\\lib\\site-packages\\ipykernel_launcher.py:303: DeprecationWarning: Call to deprecated method get_stix_domain_entity. (Replaced by the StixDomainEntity class in pycti) -- Deprecated since version 2.1.0.\n",
      "INFO:root:Reading Stix-Domain-Entity {c9630199-c590-4a66-9e4b-095f0acae785}.\n"
     ]
    },
    {
     "name": "stdout",
     "output_type": "stream",
     "text": [
      "14f1d298-a87e-451b-ba60-76a5dbee520d\n",
      "c9630199-c590-4a66-9e4b-095f0acae785\n"
     ]
    },
    {
     "name": "stderr",
     "output_type": "stream",
     "text": [
      "INFO:root:Listing stix_relations with {type: indicates, from_id: 14f1d298-a87e-451b-ba60-76a5dbee520d, to_id: c9630199-c590-4a66-9e4b-095f0acae785}\n",
      "INFO:root:Reading Report {a216498d-1d4c-4555-a6a5-c62f38300e74}.\n",
      "INFO:root:Adding Stix-Entity {dedc228c-d677-490f-b4ff-0d068d834c7d} to Report {a216498d-1d4c-4555-a6a5-c62f38300e74}\n",
      "C:\\ProgramData\\Anaconda3\\lib\\site-packages\\ipykernel_launcher.py:300: DeprecationWarning: Call to deprecated method get_stix_domain_entity. (Replaced by the StixDomainEntity class in pycti) -- Deprecated since version 2.1.0.\n",
      "INFO:root:Reading Stix-Domain-Entity {5390f2f4-ba00-4105-8116-2826b90e5e84}.\n",
      "C:\\ProgramData\\Anaconda3\\lib\\site-packages\\ipykernel_launcher.py:303: DeprecationWarning: Call to deprecated method get_stix_domain_entity. (Replaced by the StixDomainEntity class in pycti) -- Deprecated since version 2.1.0.\n",
      "INFO:root:Reading Stix-Domain-Entity {c9630199-c590-4a66-9e4b-095f0acae785}.\n"
     ]
    },
    {
     "name": "stdout",
     "output_type": "stream",
     "text": [
      "5390f2f4-ba00-4105-8116-2826b90e5e84\n",
      "c9630199-c590-4a66-9e4b-095f0acae785\n"
     ]
    },
    {
     "name": "stderr",
     "output_type": "stream",
     "text": [
      "INFO:root:Listing stix_relations with {type: indicates, from_id: 5390f2f4-ba00-4105-8116-2826b90e5e84, to_id: c9630199-c590-4a66-9e4b-095f0acae785}\n",
      "INFO:root:Reading Report {a216498d-1d4c-4555-a6a5-c62f38300e74}.\n",
      "INFO:root:Adding Stix-Entity {bdf4afa0-b8c3-4979-ac1b-f88c967c029c} to Report {a216498d-1d4c-4555-a6a5-c62f38300e74}\n",
      "C:\\ProgramData\\Anaconda3\\lib\\site-packages\\ipykernel_launcher.py:300: DeprecationWarning: Call to deprecated method get_stix_domain_entity. (Replaced by the StixDomainEntity class in pycti) -- Deprecated since version 2.1.0.\n",
      "INFO:root:Reading Stix-Domain-Entity {11556748-940b-4f49-9e08-657f5f396839}.\n",
      "C:\\ProgramData\\Anaconda3\\lib\\site-packages\\ipykernel_launcher.py:303: DeprecationWarning: Call to deprecated method get_stix_domain_entity. (Replaced by the StixDomainEntity class in pycti) -- Deprecated since version 2.1.0.\n",
      "INFO:root:Reading Stix-Domain-Entity {c9630199-c590-4a66-9e4b-095f0acae785}.\n"
     ]
    },
    {
     "name": "stdout",
     "output_type": "stream",
     "text": [
      "11556748-940b-4f49-9e08-657f5f396839\n",
      "c9630199-c590-4a66-9e4b-095f0acae785\n"
     ]
    },
    {
     "name": "stderr",
     "output_type": "stream",
     "text": [
      "INFO:root:Listing stix_relations with {type: indicates, from_id: 11556748-940b-4f49-9e08-657f5f396839, to_id: c9630199-c590-4a66-9e4b-095f0acae785}\n",
      "INFO:root:Reading Report {a216498d-1d4c-4555-a6a5-c62f38300e74}.\n",
      "INFO:root:Adding Stix-Entity {173c5989-5363-43d7-85f3-0e48f52cd7ad} to Report {a216498d-1d4c-4555-a6a5-c62f38300e74}\n",
      "C:\\ProgramData\\Anaconda3\\lib\\site-packages\\ipykernel_launcher.py:300: DeprecationWarning: Call to deprecated method get_stix_domain_entity. (Replaced by the StixDomainEntity class in pycti) -- Deprecated since version 2.1.0.\n",
      "INFO:root:Reading Stix-Domain-Entity {93a45d31-aff0-4943-9c7c-e030b99b5f5a}.\n",
      "C:\\ProgramData\\Anaconda3\\lib\\site-packages\\ipykernel_launcher.py:303: DeprecationWarning: Call to deprecated method get_stix_domain_entity. (Replaced by the StixDomainEntity class in pycti) -- Deprecated since version 2.1.0.\n",
      "INFO:root:Reading Stix-Domain-Entity {c9630199-c590-4a66-9e4b-095f0acae785}.\n"
     ]
    },
    {
     "name": "stdout",
     "output_type": "stream",
     "text": [
      "93a45d31-aff0-4943-9c7c-e030b99b5f5a\n",
      "c9630199-c590-4a66-9e4b-095f0acae785\n"
     ]
    },
    {
     "name": "stderr",
     "output_type": "stream",
     "text": [
      "INFO:root:Listing stix_relations with {type: indicates, from_id: 93a45d31-aff0-4943-9c7c-e030b99b5f5a, to_id: c9630199-c590-4a66-9e4b-095f0acae785}\n",
      "INFO:root:Reading Report {a216498d-1d4c-4555-a6a5-c62f38300e74}.\n",
      "C:\\ProgramData\\Anaconda3\\lib\\site-packages\\ipykernel_launcher.py:300: DeprecationWarning: Call to deprecated method get_stix_domain_entity. (Replaced by the StixDomainEntity class in pycti) -- Deprecated since version 2.1.0.\n",
      "INFO:root:Reading Stix-Domain-Entity {b47992c6-18d4-49b9-a778-8443c7197910}.\n",
      "C:\\ProgramData\\Anaconda3\\lib\\site-packages\\ipykernel_launcher.py:303: DeprecationWarning: Call to deprecated method get_stix_domain_entity. (Replaced by the StixDomainEntity class in pycti) -- Deprecated since version 2.1.0.\n",
      "INFO:root:Reading Stix-Domain-Entity {c9630199-c590-4a66-9e4b-095f0acae785}.\n"
     ]
    },
    {
     "name": "stdout",
     "output_type": "stream",
     "text": [
      "b47992c6-18d4-49b9-a778-8443c7197910\n",
      "c9630199-c590-4a66-9e4b-095f0acae785\n"
     ]
    },
    {
     "name": "stderr",
     "output_type": "stream",
     "text": [
      "INFO:root:Listing stix_relations with {type: indicates, from_id: b47992c6-18d4-49b9-a778-8443c7197910, to_id: c9630199-c590-4a66-9e4b-095f0acae785}\n",
      "INFO:root:Reading Report {a216498d-1d4c-4555-a6a5-c62f38300e74}.\n",
      "INFO:root:Adding Stix-Entity {dd9aa8bd-d39a-4b8c-831a-cc3499230ca4} to Report {a216498d-1d4c-4555-a6a5-c62f38300e74}\n",
      "C:\\ProgramData\\Anaconda3\\lib\\site-packages\\ipykernel_launcher.py:300: DeprecationWarning: Call to deprecated method get_stix_domain_entity. (Replaced by the StixDomainEntity class in pycti) -- Deprecated since version 2.1.0.\n",
      "INFO:root:Reading Stix-Domain-Entity {75fc5775-0c83-416a-ab52-dd60e1c17e27}.\n",
      "C:\\ProgramData\\Anaconda3\\lib\\site-packages\\ipykernel_launcher.py:303: DeprecationWarning: Call to deprecated method get_stix_domain_entity. (Replaced by the StixDomainEntity class in pycti) -- Deprecated since version 2.1.0.\n",
      "INFO:root:Reading Stix-Domain-Entity {c9630199-c590-4a66-9e4b-095f0acae785}.\n"
     ]
    },
    {
     "name": "stdout",
     "output_type": "stream",
     "text": [
      "75fc5775-0c83-416a-ab52-dd60e1c17e27\n",
      "c9630199-c590-4a66-9e4b-095f0acae785\n"
     ]
    },
    {
     "name": "stderr",
     "output_type": "stream",
     "text": [
      "INFO:root:Listing stix_relations with {type: indicates, from_id: 75fc5775-0c83-416a-ab52-dd60e1c17e27, to_id: c9630199-c590-4a66-9e4b-095f0acae785}\n",
      "INFO:root:Reading Report {a216498d-1d4c-4555-a6a5-c62f38300e74}.\n",
      "INFO:root:Adding Stix-Entity {273ce7c7-d500-41a7-a25d-9cc31d430314} to Report {a216498d-1d4c-4555-a6a5-c62f38300e74}\n",
      "C:\\ProgramData\\Anaconda3\\lib\\site-packages\\ipykernel_launcher.py:300: DeprecationWarning: Call to deprecated method get_stix_domain_entity. (Replaced by the StixDomainEntity class in pycti) -- Deprecated since version 2.1.0.\n",
      "INFO:root:Reading Stix-Domain-Entity {da5e9871-e066-4067-803f-b8becff18d8f}.\n",
      "C:\\ProgramData\\Anaconda3\\lib\\site-packages\\ipykernel_launcher.py:303: DeprecationWarning: Call to deprecated method get_stix_domain_entity. (Replaced by the StixDomainEntity class in pycti) -- Deprecated since version 2.1.0.\n",
      "INFO:root:Reading Stix-Domain-Entity {88cbb5de-7cd0-4a00-a14e-e893267afdde}.\n"
     ]
    },
    {
     "name": "stdout",
     "output_type": "stream",
     "text": [
      "da5e9871-e066-4067-803f-b8becff18d8f\n",
      "88cbb5de-7cd0-4a00-a14e-e893267afdde\n"
     ]
    },
    {
     "name": "stderr",
     "output_type": "stream",
     "text": [
      "INFO:root:Listing stix_relations with {type: indicates, from_id: da5e9871-e066-4067-803f-b8becff18d8f, to_id: 88cbb5de-7cd0-4a00-a14e-e893267afdde}\n",
      "INFO:root:Reading Report {a216498d-1d4c-4555-a6a5-c62f38300e74}.\n",
      "INFO:root:Adding Stix-Entity {797b6787-02d4-42b8-ac4c-3e1ee693d804} to Report {a216498d-1d4c-4555-a6a5-c62f38300e74}\n",
      "C:\\ProgramData\\Anaconda3\\lib\\site-packages\\ipykernel_launcher.py:300: DeprecationWarning: Call to deprecated method get_stix_domain_entity. (Replaced by the StixDomainEntity class in pycti) -- Deprecated since version 2.1.0.\n",
      "INFO:root:Reading Stix-Domain-Entity {c83ed5b8-da99-4c16-8645-d49755e12f2f}.\n",
      "C:\\ProgramData\\Anaconda3\\lib\\site-packages\\ipykernel_launcher.py:303: DeprecationWarning: Call to deprecated method get_stix_domain_entity. (Replaced by the StixDomainEntity class in pycti) -- Deprecated since version 2.1.0.\n",
      "INFO:root:Reading Stix-Domain-Entity {88cbb5de-7cd0-4a00-a14e-e893267afdde}.\n"
     ]
    },
    {
     "name": "stdout",
     "output_type": "stream",
     "text": [
      "c83ed5b8-da99-4c16-8645-d49755e12f2f\n",
      "88cbb5de-7cd0-4a00-a14e-e893267afdde\n"
     ]
    },
    {
     "name": "stderr",
     "output_type": "stream",
     "text": [
      "INFO:root:Listing stix_relations with {type: indicates, from_id: c83ed5b8-da99-4c16-8645-d49755e12f2f, to_id: 88cbb5de-7cd0-4a00-a14e-e893267afdde}\n",
      "INFO:root:Reading Report {a216498d-1d4c-4555-a6a5-c62f38300e74}.\n",
      "INFO:root:Adding Stix-Entity {3647a913-252d-4196-a465-fbe7a918a40e} to Report {a216498d-1d4c-4555-a6a5-c62f38300e74}\n",
      "C:\\ProgramData\\Anaconda3\\lib\\site-packages\\ipykernel_launcher.py:300: DeprecationWarning: Call to deprecated method get_stix_domain_entity. (Replaced by the StixDomainEntity class in pycti) -- Deprecated since version 2.1.0.\n",
      "INFO:root:Reading Stix-Domain-Entity {bd3dd7a6-9723-4895-b825-f71d9f1b2fbc}.\n",
      "C:\\ProgramData\\Anaconda3\\lib\\site-packages\\ipykernel_launcher.py:303: DeprecationWarning: Call to deprecated method get_stix_domain_entity. (Replaced by the StixDomainEntity class in pycti) -- Deprecated since version 2.1.0.\n",
      "INFO:root:Reading Stix-Domain-Entity {88cbb5de-7cd0-4a00-a14e-e893267afdde}.\n"
     ]
    },
    {
     "name": "stdout",
     "output_type": "stream",
     "text": [
      "bd3dd7a6-9723-4895-b825-f71d9f1b2fbc\n",
      "88cbb5de-7cd0-4a00-a14e-e893267afdde\n"
     ]
    },
    {
     "name": "stderr",
     "output_type": "stream",
     "text": [
      "INFO:root:Listing stix_relations with {type: indicates, from_id: bd3dd7a6-9723-4895-b825-f71d9f1b2fbc, to_id: 88cbb5de-7cd0-4a00-a14e-e893267afdde}\n",
      "INFO:root:Reading Report {a216498d-1d4c-4555-a6a5-c62f38300e74}.\n",
      "INFO:root:Adding Stix-Entity {4e2d853d-74d0-4640-9b9c-889ec57d34b4} to Report {a216498d-1d4c-4555-a6a5-c62f38300e74}\n",
      "C:\\ProgramData\\Anaconda3\\lib\\site-packages\\ipykernel_launcher.py:300: DeprecationWarning: Call to deprecated method get_stix_domain_entity. (Replaced by the StixDomainEntity class in pycti) -- Deprecated since version 2.1.0.\n",
      "INFO:root:Reading Stix-Domain-Entity {eb39aaa9-35ba-4624-93c8-355e804cb720}.\n",
      "C:\\ProgramData\\Anaconda3\\lib\\site-packages\\ipykernel_launcher.py:303: DeprecationWarning: Call to deprecated method get_stix_domain_entity. (Replaced by the StixDomainEntity class in pycti) -- Deprecated since version 2.1.0.\n",
      "INFO:root:Reading Stix-Domain-Entity {88cbb5de-7cd0-4a00-a14e-e893267afdde}.\n"
     ]
    },
    {
     "name": "stdout",
     "output_type": "stream",
     "text": [
      "eb39aaa9-35ba-4624-93c8-355e804cb720\n",
      "88cbb5de-7cd0-4a00-a14e-e893267afdde\n"
     ]
    },
    {
     "name": "stderr",
     "output_type": "stream",
     "text": [
      "INFO:root:Listing stix_relations with {type: indicates, from_id: eb39aaa9-35ba-4624-93c8-355e804cb720, to_id: 88cbb5de-7cd0-4a00-a14e-e893267afdde}\n",
      "INFO:root:Reading Report {a216498d-1d4c-4555-a6a5-c62f38300e74}.\n",
      "INFO:root:Adding Stix-Entity {c001783b-a825-411c-a354-aa9e4856f833} to Report {a216498d-1d4c-4555-a6a5-c62f38300e74}\n",
      "C:\\ProgramData\\Anaconda3\\lib\\site-packages\\ipykernel_launcher.py:300: DeprecationWarning: Call to deprecated method get_stix_domain_entity. (Replaced by the StixDomainEntity class in pycti) -- Deprecated since version 2.1.0.\n",
      "INFO:root:Reading Stix-Domain-Entity {ab5d5a2c-e943-4d66-9047-cbac81fc2926}.\n",
      "C:\\ProgramData\\Anaconda3\\lib\\site-packages\\ipykernel_launcher.py:303: DeprecationWarning: Call to deprecated method get_stix_domain_entity. (Replaced by the StixDomainEntity class in pycti) -- Deprecated since version 2.1.0.\n",
      "INFO:root:Reading Stix-Domain-Entity {88cbb5de-7cd0-4a00-a14e-e893267afdde}.\n"
     ]
    },
    {
     "name": "stdout",
     "output_type": "stream",
     "text": [
      "ab5d5a2c-e943-4d66-9047-cbac81fc2926\n",
      "88cbb5de-7cd0-4a00-a14e-e893267afdde\n"
     ]
    },
    {
     "name": "stderr",
     "output_type": "stream",
     "text": [
      "INFO:root:Listing stix_relations with {type: indicates, from_id: ab5d5a2c-e943-4d66-9047-cbac81fc2926, to_id: 88cbb5de-7cd0-4a00-a14e-e893267afdde}\n",
      "INFO:root:Reading Report {a216498d-1d4c-4555-a6a5-c62f38300e74}.\n",
      "INFO:root:Adding Stix-Entity {d85d3684-c5eb-45d0-ae65-7d872d7bf806} to Report {a216498d-1d4c-4555-a6a5-c62f38300e74}\n",
      "C:\\ProgramData\\Anaconda3\\lib\\site-packages\\ipykernel_launcher.py:300: DeprecationWarning: Call to deprecated method get_stix_domain_entity. (Replaced by the StixDomainEntity class in pycti) -- Deprecated since version 2.1.0.\n",
      "INFO:root:Reading Stix-Domain-Entity {6b621de5-fce1-4513-997c-e5a5249dbb27}.\n",
      "C:\\ProgramData\\Anaconda3\\lib\\site-packages\\ipykernel_launcher.py:303: DeprecationWarning: Call to deprecated method get_stix_domain_entity. (Replaced by the StixDomainEntity class in pycti) -- Deprecated since version 2.1.0.\n",
      "INFO:root:Reading Stix-Domain-Entity {88cbb5de-7cd0-4a00-a14e-e893267afdde}.\n"
     ]
    },
    {
     "name": "stdout",
     "output_type": "stream",
     "text": [
      "6b621de5-fce1-4513-997c-e5a5249dbb27\n",
      "88cbb5de-7cd0-4a00-a14e-e893267afdde\n"
     ]
    },
    {
     "name": "stderr",
     "output_type": "stream",
     "text": [
      "INFO:root:Listing stix_relations with {type: indicates, from_id: 6b621de5-fce1-4513-997c-e5a5249dbb27, to_id: 88cbb5de-7cd0-4a00-a14e-e893267afdde}\n",
      "INFO:root:Reading Report {a216498d-1d4c-4555-a6a5-c62f38300e74}.\n",
      "INFO:root:Adding Stix-Entity {a789af19-134b-490c-b35a-db0ed783f770} to Report {a216498d-1d4c-4555-a6a5-c62f38300e74}\n",
      "C:\\ProgramData\\Anaconda3\\lib\\site-packages\\ipykernel_launcher.py:300: DeprecationWarning: Call to deprecated method get_stix_domain_entity. (Replaced by the StixDomainEntity class in pycti) -- Deprecated since version 2.1.0.\n",
      "INFO:root:Reading Stix-Domain-Entity {de242b61-26fe-4f29-bf00-a566a10fc0ba}.\n",
      "C:\\ProgramData\\Anaconda3\\lib\\site-packages\\ipykernel_launcher.py:303: DeprecationWarning: Call to deprecated method get_stix_domain_entity. (Replaced by the StixDomainEntity class in pycti) -- Deprecated since version 2.1.0.\n",
      "INFO:root:Reading Stix-Domain-Entity {88cbb5de-7cd0-4a00-a14e-e893267afdde}.\n"
     ]
    },
    {
     "name": "stdout",
     "output_type": "stream",
     "text": [
      "de242b61-26fe-4f29-bf00-a566a10fc0ba\n",
      "88cbb5de-7cd0-4a00-a14e-e893267afdde\n"
     ]
    },
    {
     "name": "stderr",
     "output_type": "stream",
     "text": [
      "INFO:root:Listing stix_relations with {type: indicates, from_id: de242b61-26fe-4f29-bf00-a566a10fc0ba, to_id: 88cbb5de-7cd0-4a00-a14e-e893267afdde}\n",
      "INFO:root:Reading Report {a216498d-1d4c-4555-a6a5-c62f38300e74}.\n",
      "INFO:root:Adding Stix-Entity {b751e82e-f87b-4672-99b1-04cc7e8afeef} to Report {a216498d-1d4c-4555-a6a5-c62f38300e74}\n",
      "C:\\ProgramData\\Anaconda3\\lib\\site-packages\\ipykernel_launcher.py:300: DeprecationWarning: Call to deprecated method get_stix_domain_entity. (Replaced by the StixDomainEntity class in pycti) -- Deprecated since version 2.1.0.\n",
      "INFO:root:Reading Stix-Domain-Entity {aab3af69-2751-4b8e-b294-fe72d9a6dafd}.\n",
      "C:\\ProgramData\\Anaconda3\\lib\\site-packages\\ipykernel_launcher.py:303: DeprecationWarning: Call to deprecated method get_stix_domain_entity. (Replaced by the StixDomainEntity class in pycti) -- Deprecated since version 2.1.0.\n",
      "INFO:root:Reading Stix-Domain-Entity {88cbb5de-7cd0-4a00-a14e-e893267afdde}.\n"
     ]
    },
    {
     "name": "stdout",
     "output_type": "stream",
     "text": [
      "aab3af69-2751-4b8e-b294-fe72d9a6dafd\n",
      "88cbb5de-7cd0-4a00-a14e-e893267afdde\n"
     ]
    },
    {
     "name": "stderr",
     "output_type": "stream",
     "text": [
      "INFO:root:Listing stix_relations with {type: indicates, from_id: aab3af69-2751-4b8e-b294-fe72d9a6dafd, to_id: 88cbb5de-7cd0-4a00-a14e-e893267afdde}\n",
      "INFO:root:Reading Report {a216498d-1d4c-4555-a6a5-c62f38300e74}.\n",
      "INFO:root:Adding Stix-Entity {525ccf43-b867-4111-b3b0-336485ffd004} to Report {a216498d-1d4c-4555-a6a5-c62f38300e74}\n",
      "C:\\ProgramData\\Anaconda3\\lib\\site-packages\\ipykernel_launcher.py:300: DeprecationWarning: Call to deprecated method get_stix_domain_entity. (Replaced by the StixDomainEntity class in pycti) -- Deprecated since version 2.1.0.\n",
      "INFO:root:Reading Stix-Domain-Entity {838f63eb-9066-4cc8-82d4-9408452395ac}.\n",
      "C:\\ProgramData\\Anaconda3\\lib\\site-packages\\ipykernel_launcher.py:303: DeprecationWarning: Call to deprecated method get_stix_domain_entity. (Replaced by the StixDomainEntity class in pycti) -- Deprecated since version 2.1.0.\n",
      "INFO:root:Reading Stix-Domain-Entity {88cbb5de-7cd0-4a00-a14e-e893267afdde}.\n"
     ]
    },
    {
     "name": "stdout",
     "output_type": "stream",
     "text": [
      "838f63eb-9066-4cc8-82d4-9408452395ac\n",
      "88cbb5de-7cd0-4a00-a14e-e893267afdde\n"
     ]
    },
    {
     "name": "stderr",
     "output_type": "stream",
     "text": [
      "INFO:root:Listing stix_relations with {type: indicates, from_id: 838f63eb-9066-4cc8-82d4-9408452395ac, to_id: 88cbb5de-7cd0-4a00-a14e-e893267afdde}\n",
      "INFO:root:Reading Report {a216498d-1d4c-4555-a6a5-c62f38300e74}.\n",
      "INFO:root:Adding Stix-Entity {6025907e-fdd1-4a4b-abe6-7c46627aa406} to Report {a216498d-1d4c-4555-a6a5-c62f38300e74}\n",
      "C:\\ProgramData\\Anaconda3\\lib\\site-packages\\ipykernel_launcher.py:300: DeprecationWarning: Call to deprecated method get_stix_domain_entity. (Replaced by the StixDomainEntity class in pycti) -- Deprecated since version 2.1.0.\n",
      "INFO:root:Reading Stix-Domain-Entity {047bfb5d-b8fc-447f-9c6a-26e1869c1f14}.\n",
      "C:\\ProgramData\\Anaconda3\\lib\\site-packages\\ipykernel_launcher.py:303: DeprecationWarning: Call to deprecated method get_stix_domain_entity. (Replaced by the StixDomainEntity class in pycti) -- Deprecated since version 2.1.0.\n",
      "INFO:root:Reading Stix-Domain-Entity {88cbb5de-7cd0-4a00-a14e-e893267afdde}.\n"
     ]
    },
    {
     "name": "stdout",
     "output_type": "stream",
     "text": [
      "047bfb5d-b8fc-447f-9c6a-26e1869c1f14\n",
      "88cbb5de-7cd0-4a00-a14e-e893267afdde\n"
     ]
    },
    {
     "name": "stderr",
     "output_type": "stream",
     "text": [
      "INFO:root:Listing stix_relations with {type: indicates, from_id: 047bfb5d-b8fc-447f-9c6a-26e1869c1f14, to_id: 88cbb5de-7cd0-4a00-a14e-e893267afdde}\n",
      "INFO:root:Reading Report {a216498d-1d4c-4555-a6a5-c62f38300e74}.\n",
      "INFO:root:Adding Stix-Entity {e6747e8b-2c5a-4591-8799-ce45053514fb} to Report {a216498d-1d4c-4555-a6a5-c62f38300e74}\n",
      "C:\\ProgramData\\Anaconda3\\lib\\site-packages\\ipykernel_launcher.py:300: DeprecationWarning: Call to deprecated method get_stix_domain_entity. (Replaced by the StixDomainEntity class in pycti) -- Deprecated since version 2.1.0.\n",
      "INFO:root:Reading Stix-Domain-Entity {78b9076b-9c78-47ce-a067-4f6db994090e}.\n",
      "C:\\ProgramData\\Anaconda3\\lib\\site-packages\\ipykernel_launcher.py:303: DeprecationWarning: Call to deprecated method get_stix_domain_entity. (Replaced by the StixDomainEntity class in pycti) -- Deprecated since version 2.1.0.\n",
      "INFO:root:Reading Stix-Domain-Entity {88cbb5de-7cd0-4a00-a14e-e893267afdde}.\n"
     ]
    },
    {
     "name": "stdout",
     "output_type": "stream",
     "text": [
      "78b9076b-9c78-47ce-a067-4f6db994090e\n",
      "88cbb5de-7cd0-4a00-a14e-e893267afdde\n"
     ]
    },
    {
     "name": "stderr",
     "output_type": "stream",
     "text": [
      "INFO:root:Listing stix_relations with {type: indicates, from_id: 78b9076b-9c78-47ce-a067-4f6db994090e, to_id: 88cbb5de-7cd0-4a00-a14e-e893267afdde}\n",
      "INFO:root:Reading Report {a216498d-1d4c-4555-a6a5-c62f38300e74}.\n",
      "INFO:root:Adding Stix-Entity {06d49673-d572-4d6e-8498-e6f5776c26d8} to Report {a216498d-1d4c-4555-a6a5-c62f38300e74}\n",
      "C:\\ProgramData\\Anaconda3\\lib\\site-packages\\ipykernel_launcher.py:300: DeprecationWarning: Call to deprecated method get_stix_domain_entity. (Replaced by the StixDomainEntity class in pycti) -- Deprecated since version 2.1.0.\n",
      "INFO:root:Reading Stix-Domain-Entity {270ea3b7-cdec-4fe3-9d97-ea87aa352515}.\n",
      "C:\\ProgramData\\Anaconda3\\lib\\site-packages\\ipykernel_launcher.py:303: DeprecationWarning: Call to deprecated method get_stix_domain_entity. (Replaced by the StixDomainEntity class in pycti) -- Deprecated since version 2.1.0.\n",
      "INFO:root:Reading Stix-Domain-Entity {88cbb5de-7cd0-4a00-a14e-e893267afdde}.\n"
     ]
    },
    {
     "name": "stdout",
     "output_type": "stream",
     "text": [
      "270ea3b7-cdec-4fe3-9d97-ea87aa352515\n",
      "88cbb5de-7cd0-4a00-a14e-e893267afdde\n"
     ]
    },
    {
     "name": "stderr",
     "output_type": "stream",
     "text": [
      "INFO:root:Listing stix_relations with {type: indicates, from_id: 270ea3b7-cdec-4fe3-9d97-ea87aa352515, to_id: 88cbb5de-7cd0-4a00-a14e-e893267afdde}\n",
      "INFO:root:Reading Report {a216498d-1d4c-4555-a6a5-c62f38300e74}.\n",
      "INFO:root:Adding Stix-Entity {0d68aa24-e74d-4be0-b01b-a888a93e2e20} to Report {a216498d-1d4c-4555-a6a5-c62f38300e74}\n",
      "C:\\ProgramData\\Anaconda3\\lib\\site-packages\\ipykernel_launcher.py:300: DeprecationWarning: Call to deprecated method get_stix_domain_entity. (Replaced by the StixDomainEntity class in pycti) -- Deprecated since version 2.1.0.\n",
      "INFO:root:Reading Stix-Domain-Entity {667ed941-005a-49ce-a1f6-89c7cbe9b760}.\n",
      "C:\\ProgramData\\Anaconda3\\lib\\site-packages\\ipykernel_launcher.py:303: DeprecationWarning: Call to deprecated method get_stix_domain_entity. (Replaced by the StixDomainEntity class in pycti) -- Deprecated since version 2.1.0.\n",
      "INFO:root:Reading Stix-Domain-Entity {88cbb5de-7cd0-4a00-a14e-e893267afdde}.\n"
     ]
    },
    {
     "name": "stdout",
     "output_type": "stream",
     "text": [
      "667ed941-005a-49ce-a1f6-89c7cbe9b760\n",
      "88cbb5de-7cd0-4a00-a14e-e893267afdde\n"
     ]
    },
    {
     "name": "stderr",
     "output_type": "stream",
     "text": [
      "INFO:root:Listing stix_relations with {type: indicates, from_id: 667ed941-005a-49ce-a1f6-89c7cbe9b760, to_id: 88cbb5de-7cd0-4a00-a14e-e893267afdde}\n",
      "INFO:root:Reading Report {a216498d-1d4c-4555-a6a5-c62f38300e74}.\n",
      "INFO:root:Adding Stix-Entity {dc4ab2c0-5eb1-4d79-b72a-67da7ac29dd7} to Report {a216498d-1d4c-4555-a6a5-c62f38300e74}\n",
      "C:\\ProgramData\\Anaconda3\\lib\\site-packages\\ipykernel_launcher.py:300: DeprecationWarning: Call to deprecated method get_stix_domain_entity. (Replaced by the StixDomainEntity class in pycti) -- Deprecated since version 2.1.0.\n",
      "INFO:root:Reading Stix-Domain-Entity {26c19424-d4cc-4c8e-a947-95b676b0b330}.\n",
      "C:\\ProgramData\\Anaconda3\\lib\\site-packages\\ipykernel_launcher.py:303: DeprecationWarning: Call to deprecated method get_stix_domain_entity. (Replaced by the StixDomainEntity class in pycti) -- Deprecated since version 2.1.0.\n",
      "INFO:root:Reading Stix-Domain-Entity {88cbb5de-7cd0-4a00-a14e-e893267afdde}.\n"
     ]
    },
    {
     "name": "stdout",
     "output_type": "stream",
     "text": [
      "26c19424-d4cc-4c8e-a947-95b676b0b330\n",
      "88cbb5de-7cd0-4a00-a14e-e893267afdde\n"
     ]
    },
    {
     "name": "stderr",
     "output_type": "stream",
     "text": [
      "INFO:root:Listing stix_relations with {type: indicates, from_id: 26c19424-d4cc-4c8e-a947-95b676b0b330, to_id: 88cbb5de-7cd0-4a00-a14e-e893267afdde}\n",
      "INFO:root:Reading Report {a216498d-1d4c-4555-a6a5-c62f38300e74}.\n",
      "INFO:root:Adding Stix-Entity {e2cc0f51-029d-4bea-82aa-60e5eb147a44} to Report {a216498d-1d4c-4555-a6a5-c62f38300e74}\n",
      "C:\\ProgramData\\Anaconda3\\lib\\site-packages\\ipykernel_launcher.py:300: DeprecationWarning: Call to deprecated method get_stix_domain_entity. (Replaced by the StixDomainEntity class in pycti) -- Deprecated since version 2.1.0.\n",
      "INFO:root:Reading Stix-Domain-Entity {75cbca55-7183-441b-b7c7-23e73e5b1726}.\n",
      "C:\\ProgramData\\Anaconda3\\lib\\site-packages\\ipykernel_launcher.py:303: DeprecationWarning: Call to deprecated method get_stix_domain_entity. (Replaced by the StixDomainEntity class in pycti) -- Deprecated since version 2.1.0.\n",
      "INFO:root:Reading Stix-Domain-Entity {88cbb5de-7cd0-4a00-a14e-e893267afdde}.\n"
     ]
    },
    {
     "name": "stdout",
     "output_type": "stream",
     "text": [
      "75cbca55-7183-441b-b7c7-23e73e5b1726\n",
      "88cbb5de-7cd0-4a00-a14e-e893267afdde\n"
     ]
    },
    {
     "name": "stderr",
     "output_type": "stream",
     "text": [
      "INFO:root:Listing stix_relations with {type: indicates, from_id: 75cbca55-7183-441b-b7c7-23e73e5b1726, to_id: 88cbb5de-7cd0-4a00-a14e-e893267afdde}\n",
      "INFO:root:Reading Report {a216498d-1d4c-4555-a6a5-c62f38300e74}.\n",
      "INFO:root:Adding Stix-Entity {2cc814e3-8457-4bdd-80b7-175b327ab62e} to Report {a216498d-1d4c-4555-a6a5-c62f38300e74}\n",
      "C:\\ProgramData\\Anaconda3\\lib\\site-packages\\ipykernel_launcher.py:300: DeprecationWarning: Call to deprecated method get_stix_domain_entity. (Replaced by the StixDomainEntity class in pycti) -- Deprecated since version 2.1.0.\n",
      "INFO:root:Reading Stix-Domain-Entity {1a33ae11-74cf-4fb5-bc33-a87d99086454}.\n",
      "C:\\ProgramData\\Anaconda3\\lib\\site-packages\\ipykernel_launcher.py:303: DeprecationWarning: Call to deprecated method get_stix_domain_entity. (Replaced by the StixDomainEntity class in pycti) -- Deprecated since version 2.1.0.\n",
      "INFO:root:Reading Stix-Domain-Entity {88cbb5de-7cd0-4a00-a14e-e893267afdde}.\n"
     ]
    },
    {
     "name": "stdout",
     "output_type": "stream",
     "text": [
      "1a33ae11-74cf-4fb5-bc33-a87d99086454\n",
      "88cbb5de-7cd0-4a00-a14e-e893267afdde\n"
     ]
    },
    {
     "name": "stderr",
     "output_type": "stream",
     "text": [
      "INFO:root:Listing stix_relations with {type: indicates, from_id: 1a33ae11-74cf-4fb5-bc33-a87d99086454, to_id: 88cbb5de-7cd0-4a00-a14e-e893267afdde}\n",
      "INFO:root:Reading Report {a216498d-1d4c-4555-a6a5-c62f38300e74}.\n",
      "INFO:root:Adding Stix-Entity {0d03be5d-111e-4e83-9108-2d79c49d5085} to Report {a216498d-1d4c-4555-a6a5-c62f38300e74}\n",
      "C:\\ProgramData\\Anaconda3\\lib\\site-packages\\ipykernel_launcher.py:300: DeprecationWarning: Call to deprecated method get_stix_domain_entity. (Replaced by the StixDomainEntity class in pycti) -- Deprecated since version 2.1.0.\n",
      "INFO:root:Reading Stix-Domain-Entity {d7c041f1-824f-4ad4-b4d8-e157daf9801d}.\n",
      "C:\\ProgramData\\Anaconda3\\lib\\site-packages\\ipykernel_launcher.py:303: DeprecationWarning: Call to deprecated method get_stix_domain_entity. (Replaced by the StixDomainEntity class in pycti) -- Deprecated since version 2.1.0.\n",
      "INFO:root:Reading Stix-Domain-Entity {88cbb5de-7cd0-4a00-a14e-e893267afdde}.\n"
     ]
    },
    {
     "name": "stdout",
     "output_type": "stream",
     "text": [
      "d7c041f1-824f-4ad4-b4d8-e157daf9801d\n",
      "88cbb5de-7cd0-4a00-a14e-e893267afdde\n"
     ]
    },
    {
     "name": "stderr",
     "output_type": "stream",
     "text": [
      "INFO:root:Listing stix_relations with {type: indicates, from_id: d7c041f1-824f-4ad4-b4d8-e157daf9801d, to_id: 88cbb5de-7cd0-4a00-a14e-e893267afdde}\n",
      "INFO:root:Reading Report {a216498d-1d4c-4555-a6a5-c62f38300e74}.\n",
      "INFO:root:Adding Stix-Entity {3e95dd76-3c00-46cb-9c56-cb1b601e27e8} to Report {a216498d-1d4c-4555-a6a5-c62f38300e74}\n",
      "C:\\ProgramData\\Anaconda3\\lib\\site-packages\\ipykernel_launcher.py:300: DeprecationWarning: Call to deprecated method get_stix_domain_entity. (Replaced by the StixDomainEntity class in pycti) -- Deprecated since version 2.1.0.\n",
      "INFO:root:Reading Stix-Domain-Entity {8fb68203-68ed-4152-ad6f-925e71649e02}.\n",
      "C:\\ProgramData\\Anaconda3\\lib\\site-packages\\ipykernel_launcher.py:303: DeprecationWarning: Call to deprecated method get_stix_domain_entity. (Replaced by the StixDomainEntity class in pycti) -- Deprecated since version 2.1.0.\n",
      "INFO:root:Reading Stix-Domain-Entity {88cbb5de-7cd0-4a00-a14e-e893267afdde}.\n"
     ]
    },
    {
     "name": "stdout",
     "output_type": "stream",
     "text": [
      "8fb68203-68ed-4152-ad6f-925e71649e02\n",
      "88cbb5de-7cd0-4a00-a14e-e893267afdde\n"
     ]
    },
    {
     "name": "stderr",
     "output_type": "stream",
     "text": [
      "INFO:root:Listing stix_relations with {type: indicates, from_id: 8fb68203-68ed-4152-ad6f-925e71649e02, to_id: 88cbb5de-7cd0-4a00-a14e-e893267afdde}\n",
      "INFO:root:Reading Report {a216498d-1d4c-4555-a6a5-c62f38300e74}.\n",
      "INFO:root:Adding Stix-Entity {37a4f140-8a7d-4075-967a-155154e83d6e} to Report {a216498d-1d4c-4555-a6a5-c62f38300e74}\n",
      "C:\\ProgramData\\Anaconda3\\lib\\site-packages\\ipykernel_launcher.py:300: DeprecationWarning: Call to deprecated method get_stix_domain_entity. (Replaced by the StixDomainEntity class in pycti) -- Deprecated since version 2.1.0.\n",
      "INFO:root:Reading Stix-Domain-Entity {833c1c08-7c78-45fd-97bc-56e42ad7f733}.\n",
      "C:\\ProgramData\\Anaconda3\\lib\\site-packages\\ipykernel_launcher.py:303: DeprecationWarning: Call to deprecated method get_stix_domain_entity. (Replaced by the StixDomainEntity class in pycti) -- Deprecated since version 2.1.0.\n",
      "INFO:root:Reading Stix-Domain-Entity {88cbb5de-7cd0-4a00-a14e-e893267afdde}.\n"
     ]
    },
    {
     "name": "stdout",
     "output_type": "stream",
     "text": [
      "833c1c08-7c78-45fd-97bc-56e42ad7f733\n",
      "88cbb5de-7cd0-4a00-a14e-e893267afdde\n"
     ]
    },
    {
     "name": "stderr",
     "output_type": "stream",
     "text": [
      "INFO:root:Listing stix_relations with {type: indicates, from_id: 833c1c08-7c78-45fd-97bc-56e42ad7f733, to_id: 88cbb5de-7cd0-4a00-a14e-e893267afdde}\n",
      "INFO:root:Reading Report {a216498d-1d4c-4555-a6a5-c62f38300e74}.\n",
      "INFO:root:Adding Stix-Entity {436c909f-f074-4027-bbc0-99b303679ebb} to Report {a216498d-1d4c-4555-a6a5-c62f38300e74}\n",
      "C:\\ProgramData\\Anaconda3\\lib\\site-packages\\ipykernel_launcher.py:300: DeprecationWarning: Call to deprecated method get_stix_domain_entity. (Replaced by the StixDomainEntity class in pycti) -- Deprecated since version 2.1.0.\n",
      "INFO:root:Reading Stix-Domain-Entity {f41ae5f8-8d91-4057-ad95-b072d3ae8c29}.\n",
      "C:\\ProgramData\\Anaconda3\\lib\\site-packages\\ipykernel_launcher.py:303: DeprecationWarning: Call to deprecated method get_stix_domain_entity. (Replaced by the StixDomainEntity class in pycti) -- Deprecated since version 2.1.0.\n",
      "INFO:root:Reading Stix-Domain-Entity {88cbb5de-7cd0-4a00-a14e-e893267afdde}.\n"
     ]
    },
    {
     "name": "stdout",
     "output_type": "stream",
     "text": [
      "f41ae5f8-8d91-4057-ad95-b072d3ae8c29\n",
      "88cbb5de-7cd0-4a00-a14e-e893267afdde\n"
     ]
    },
    {
     "name": "stderr",
     "output_type": "stream",
     "text": [
      "INFO:root:Listing stix_relations with {type: indicates, from_id: f41ae5f8-8d91-4057-ad95-b072d3ae8c29, to_id: 88cbb5de-7cd0-4a00-a14e-e893267afdde}\n",
      "INFO:root:Reading Report {a216498d-1d4c-4555-a6a5-c62f38300e74}.\n",
      "INFO:root:Adding Stix-Entity {2a1b182e-a9ab-4066-a1af-e3c1055d6ec0} to Report {a216498d-1d4c-4555-a6a5-c62f38300e74}\n",
      "C:\\ProgramData\\Anaconda3\\lib\\site-packages\\ipykernel_launcher.py:300: DeprecationWarning: Call to deprecated method get_stix_domain_entity. (Replaced by the StixDomainEntity class in pycti) -- Deprecated since version 2.1.0.\n",
      "INFO:root:Reading Stix-Domain-Entity {c8aec087-6e47-4e5e-afb9-eb010c1ccf1c}.\n",
      "C:\\ProgramData\\Anaconda3\\lib\\site-packages\\ipykernel_launcher.py:303: DeprecationWarning: Call to deprecated method get_stix_domain_entity. (Replaced by the StixDomainEntity class in pycti) -- Deprecated since version 2.1.0.\n",
      "INFO:root:Reading Stix-Domain-Entity {88cbb5de-7cd0-4a00-a14e-e893267afdde}.\n"
     ]
    },
    {
     "name": "stdout",
     "output_type": "stream",
     "text": [
      "c8aec087-6e47-4e5e-afb9-eb010c1ccf1c\n",
      "88cbb5de-7cd0-4a00-a14e-e893267afdde\n"
     ]
    },
    {
     "name": "stderr",
     "output_type": "stream",
     "text": [
      "INFO:root:Listing stix_relations with {type: indicates, from_id: c8aec087-6e47-4e5e-afb9-eb010c1ccf1c, to_id: 88cbb5de-7cd0-4a00-a14e-e893267afdde}\n",
      "INFO:root:Reading Report {a216498d-1d4c-4555-a6a5-c62f38300e74}.\n",
      "INFO:root:Adding Stix-Entity {982afaee-69ae-4c67-8ac4-4535b661facc} to Report {a216498d-1d4c-4555-a6a5-c62f38300e74}\n",
      "C:\\ProgramData\\Anaconda3\\lib\\site-packages\\ipykernel_launcher.py:300: DeprecationWarning: Call to deprecated method get_stix_domain_entity. (Replaced by the StixDomainEntity class in pycti) -- Deprecated since version 2.1.0.\n",
      "INFO:root:Reading Stix-Domain-Entity {0948691d-1e31-4b13-8041-b512bdb5296e}.\n",
      "C:\\ProgramData\\Anaconda3\\lib\\site-packages\\ipykernel_launcher.py:303: DeprecationWarning: Call to deprecated method get_stix_domain_entity. (Replaced by the StixDomainEntity class in pycti) -- Deprecated since version 2.1.0.\n",
      "INFO:root:Reading Stix-Domain-Entity {88cbb5de-7cd0-4a00-a14e-e893267afdde}.\n"
     ]
    },
    {
     "name": "stdout",
     "output_type": "stream",
     "text": [
      "0948691d-1e31-4b13-8041-b512bdb5296e\n",
      "88cbb5de-7cd0-4a00-a14e-e893267afdde\n"
     ]
    },
    {
     "name": "stderr",
     "output_type": "stream",
     "text": [
      "INFO:root:Listing stix_relations with {type: indicates, from_id: 0948691d-1e31-4b13-8041-b512bdb5296e, to_id: 88cbb5de-7cd0-4a00-a14e-e893267afdde}\n",
      "INFO:root:Reading Report {a216498d-1d4c-4555-a6a5-c62f38300e74}.\n",
      "INFO:root:Adding Stix-Entity {5d1d3079-0022-4a9c-a7ba-51c62ac81ce5} to Report {a216498d-1d4c-4555-a6a5-c62f38300e74}\n",
      "C:\\ProgramData\\Anaconda3\\lib\\site-packages\\ipykernel_launcher.py:300: DeprecationWarning: Call to deprecated method get_stix_domain_entity. (Replaced by the StixDomainEntity class in pycti) -- Deprecated since version 2.1.0.\n",
      "INFO:root:Reading Stix-Domain-Entity {1bd1a60e-d3ea-4b84-9783-1f6022554466}.\n",
      "C:\\ProgramData\\Anaconda3\\lib\\site-packages\\ipykernel_launcher.py:303: DeprecationWarning: Call to deprecated method get_stix_domain_entity. (Replaced by the StixDomainEntity class in pycti) -- Deprecated since version 2.1.0.\n",
      "INFO:root:Reading Stix-Domain-Entity {88cbb5de-7cd0-4a00-a14e-e893267afdde}.\n"
     ]
    },
    {
     "name": "stdout",
     "output_type": "stream",
     "text": [
      "1bd1a60e-d3ea-4b84-9783-1f6022554466\n",
      "88cbb5de-7cd0-4a00-a14e-e893267afdde\n"
     ]
    },
    {
     "name": "stderr",
     "output_type": "stream",
     "text": [
      "INFO:root:Listing stix_relations with {type: indicates, from_id: 1bd1a60e-d3ea-4b84-9783-1f6022554466, to_id: 88cbb5de-7cd0-4a00-a14e-e893267afdde}\n",
      "INFO:root:Reading Report {a216498d-1d4c-4555-a6a5-c62f38300e74}.\n",
      "INFO:root:Adding Stix-Entity {49b9aab0-bb75-4cf7-abba-8542425ddccc} to Report {a216498d-1d4c-4555-a6a5-c62f38300e74}\n",
      "C:\\ProgramData\\Anaconda3\\lib\\site-packages\\ipykernel_launcher.py:300: DeprecationWarning: Call to deprecated method get_stix_domain_entity. (Replaced by the StixDomainEntity class in pycti) -- Deprecated since version 2.1.0.\n",
      "INFO:root:Reading Stix-Domain-Entity {c744b11d-776c-47e4-9cff-3c1974644ed3}.\n",
      "C:\\ProgramData\\Anaconda3\\lib\\site-packages\\ipykernel_launcher.py:303: DeprecationWarning: Call to deprecated method get_stix_domain_entity. (Replaced by the StixDomainEntity class in pycti) -- Deprecated since version 2.1.0.\n",
      "INFO:root:Reading Stix-Domain-Entity {88cbb5de-7cd0-4a00-a14e-e893267afdde}.\n"
     ]
    },
    {
     "name": "stdout",
     "output_type": "stream",
     "text": [
      "c744b11d-776c-47e4-9cff-3c1974644ed3\n",
      "88cbb5de-7cd0-4a00-a14e-e893267afdde\n"
     ]
    },
    {
     "name": "stderr",
     "output_type": "stream",
     "text": [
      "INFO:root:Listing stix_relations with {type: indicates, from_id: c744b11d-776c-47e4-9cff-3c1974644ed3, to_id: 88cbb5de-7cd0-4a00-a14e-e893267afdde}\n",
      "INFO:root:Reading Report {a216498d-1d4c-4555-a6a5-c62f38300e74}.\n",
      "INFO:root:Adding Stix-Entity {b1b9deb3-4428-4a3e-b7fa-b91bb8c19edd} to Report {a216498d-1d4c-4555-a6a5-c62f38300e74}\n",
      "C:\\ProgramData\\Anaconda3\\lib\\site-packages\\ipykernel_launcher.py:300: DeprecationWarning: Call to deprecated method get_stix_domain_entity. (Replaced by the StixDomainEntity class in pycti) -- Deprecated since version 2.1.0.\n",
      "INFO:root:Reading Stix-Domain-Entity {9399e6a6-5f58-4e12-b6bc-579e1e7d2c73}.\n",
      "C:\\ProgramData\\Anaconda3\\lib\\site-packages\\ipykernel_launcher.py:303: DeprecationWarning: Call to deprecated method get_stix_domain_entity. (Replaced by the StixDomainEntity class in pycti) -- Deprecated since version 2.1.0.\n",
      "INFO:root:Reading Stix-Domain-Entity {88cbb5de-7cd0-4a00-a14e-e893267afdde}.\n"
     ]
    },
    {
     "name": "stdout",
     "output_type": "stream",
     "text": [
      "9399e6a6-5f58-4e12-b6bc-579e1e7d2c73\n",
      "88cbb5de-7cd0-4a00-a14e-e893267afdde\n"
     ]
    },
    {
     "name": "stderr",
     "output_type": "stream",
     "text": [
      "INFO:root:Listing stix_relations with {type: indicates, from_id: 9399e6a6-5f58-4e12-b6bc-579e1e7d2c73, to_id: 88cbb5de-7cd0-4a00-a14e-e893267afdde}\n",
      "INFO:root:Reading Report {a216498d-1d4c-4555-a6a5-c62f38300e74}.\n",
      "INFO:root:Adding Stix-Entity {e3103b30-296d-43ef-b5ef-f5c17612a77f} to Report {a216498d-1d4c-4555-a6a5-c62f38300e74}\n",
      "C:\\ProgramData\\Anaconda3\\lib\\site-packages\\ipykernel_launcher.py:300: DeprecationWarning: Call to deprecated method get_stix_domain_entity. (Replaced by the StixDomainEntity class in pycti) -- Deprecated since version 2.1.0.\n",
      "INFO:root:Reading Stix-Domain-Entity {0c5337cc-9c44-4275-b109-18726fb25e7e}.\n",
      "C:\\ProgramData\\Anaconda3\\lib\\site-packages\\ipykernel_launcher.py:303: DeprecationWarning: Call to deprecated method get_stix_domain_entity. (Replaced by the StixDomainEntity class in pycti) -- Deprecated since version 2.1.0.\n",
      "INFO:root:Reading Stix-Domain-Entity {88cbb5de-7cd0-4a00-a14e-e893267afdde}.\n"
     ]
    },
    {
     "name": "stdout",
     "output_type": "stream",
     "text": [
      "0c5337cc-9c44-4275-b109-18726fb25e7e\n",
      "88cbb5de-7cd0-4a00-a14e-e893267afdde\n"
     ]
    },
    {
     "name": "stderr",
     "output_type": "stream",
     "text": [
      "INFO:root:Listing stix_relations with {type: indicates, from_id: 0c5337cc-9c44-4275-b109-18726fb25e7e, to_id: 88cbb5de-7cd0-4a00-a14e-e893267afdde}\n",
      "INFO:root:Reading Report {a216498d-1d4c-4555-a6a5-c62f38300e74}.\n",
      "INFO:root:Adding Stix-Entity {a1897713-af55-4f0c-8dd8-85e96f1da120} to Report {a216498d-1d4c-4555-a6a5-c62f38300e74}\n",
      "C:\\ProgramData\\Anaconda3\\lib\\site-packages\\ipykernel_launcher.py:300: DeprecationWarning: Call to deprecated method get_stix_domain_entity. (Replaced by the StixDomainEntity class in pycti) -- Deprecated since version 2.1.0.\n",
      "INFO:root:Reading Stix-Domain-Entity {37158f3e-96a7-4b83-b3df-45d60ab6f975}.\n",
      "C:\\ProgramData\\Anaconda3\\lib\\site-packages\\ipykernel_launcher.py:303: DeprecationWarning: Call to deprecated method get_stix_domain_entity. (Replaced by the StixDomainEntity class in pycti) -- Deprecated since version 2.1.0.\n",
      "INFO:root:Reading Stix-Domain-Entity {88cbb5de-7cd0-4a00-a14e-e893267afdde}.\n"
     ]
    },
    {
     "name": "stdout",
     "output_type": "stream",
     "text": [
      "37158f3e-96a7-4b83-b3df-45d60ab6f975\n",
      "88cbb5de-7cd0-4a00-a14e-e893267afdde\n"
     ]
    },
    {
     "name": "stderr",
     "output_type": "stream",
     "text": [
      "INFO:root:Listing stix_relations with {type: indicates, from_id: 37158f3e-96a7-4b83-b3df-45d60ab6f975, to_id: 88cbb5de-7cd0-4a00-a14e-e893267afdde}\n",
      "INFO:root:Reading Report {a216498d-1d4c-4555-a6a5-c62f38300e74}.\n",
      "INFO:root:Adding Stix-Entity {e5d714fe-5b82-4cff-a748-37319330de23} to Report {a216498d-1d4c-4555-a6a5-c62f38300e74}\n",
      "C:\\ProgramData\\Anaconda3\\lib\\site-packages\\ipykernel_launcher.py:300: DeprecationWarning: Call to deprecated method get_stix_domain_entity. (Replaced by the StixDomainEntity class in pycti) -- Deprecated since version 2.1.0.\n",
      "INFO:root:Reading Stix-Domain-Entity {2727152d-e7a4-4cfb-bd6d-ef3bb5a63578}.\n",
      "C:\\ProgramData\\Anaconda3\\lib\\site-packages\\ipykernel_launcher.py:303: DeprecationWarning: Call to deprecated method get_stix_domain_entity. (Replaced by the StixDomainEntity class in pycti) -- Deprecated since version 2.1.0.\n",
      "INFO:root:Reading Stix-Domain-Entity {88cbb5de-7cd0-4a00-a14e-e893267afdde}.\n"
     ]
    },
    {
     "name": "stdout",
     "output_type": "stream",
     "text": [
      "2727152d-e7a4-4cfb-bd6d-ef3bb5a63578\n",
      "88cbb5de-7cd0-4a00-a14e-e893267afdde\n"
     ]
    },
    {
     "name": "stderr",
     "output_type": "stream",
     "text": [
      "INFO:root:Listing stix_relations with {type: indicates, from_id: 2727152d-e7a4-4cfb-bd6d-ef3bb5a63578, to_id: 88cbb5de-7cd0-4a00-a14e-e893267afdde}\n",
      "INFO:root:Reading Report {a216498d-1d4c-4555-a6a5-c62f38300e74}.\n",
      "INFO:root:Adding Stix-Entity {fa15c1f6-65fe-4b5d-9eda-fcb4ed526605} to Report {a216498d-1d4c-4555-a6a5-c62f38300e74}\n",
      "C:\\ProgramData\\Anaconda3\\lib\\site-packages\\ipykernel_launcher.py:300: DeprecationWarning: Call to deprecated method get_stix_domain_entity. (Replaced by the StixDomainEntity class in pycti) -- Deprecated since version 2.1.0.\n",
      "INFO:root:Reading Stix-Domain-Entity {8525df65-0459-45c0-819a-2195e6fe2c5e}.\n",
      "C:\\ProgramData\\Anaconda3\\lib\\site-packages\\ipykernel_launcher.py:303: DeprecationWarning: Call to deprecated method get_stix_domain_entity. (Replaced by the StixDomainEntity class in pycti) -- Deprecated since version 2.1.0.\n",
      "INFO:root:Reading Stix-Domain-Entity {88cbb5de-7cd0-4a00-a14e-e893267afdde}.\n"
     ]
    },
    {
     "name": "stdout",
     "output_type": "stream",
     "text": [
      "8525df65-0459-45c0-819a-2195e6fe2c5e\n",
      "88cbb5de-7cd0-4a00-a14e-e893267afdde\n"
     ]
    },
    {
     "name": "stderr",
     "output_type": "stream",
     "text": [
      "INFO:root:Listing stix_relations with {type: indicates, from_id: 8525df65-0459-45c0-819a-2195e6fe2c5e, to_id: 88cbb5de-7cd0-4a00-a14e-e893267afdde}\n",
      "INFO:root:Reading Report {a216498d-1d4c-4555-a6a5-c62f38300e74}.\n",
      "INFO:root:Adding Stix-Entity {b412d573-2b73-4cd0-bd59-7e98a582f472} to Report {a216498d-1d4c-4555-a6a5-c62f38300e74}\n",
      "C:\\ProgramData\\Anaconda3\\lib\\site-packages\\ipykernel_launcher.py:300: DeprecationWarning: Call to deprecated method get_stix_domain_entity. (Replaced by the StixDomainEntity class in pycti) -- Deprecated since version 2.1.0.\n",
      "INFO:root:Reading Stix-Domain-Entity {88e04981-34f6-4f8f-9a97-ec3cf28f013a}.\n",
      "C:\\ProgramData\\Anaconda3\\lib\\site-packages\\ipykernel_launcher.py:303: DeprecationWarning: Call to deprecated method get_stix_domain_entity. (Replaced by the StixDomainEntity class in pycti) -- Deprecated since version 2.1.0.\n",
      "INFO:root:Reading Stix-Domain-Entity {88cbb5de-7cd0-4a00-a14e-e893267afdde}.\n"
     ]
    },
    {
     "name": "stdout",
     "output_type": "stream",
     "text": [
      "88e04981-34f6-4f8f-9a97-ec3cf28f013a\n",
      "88cbb5de-7cd0-4a00-a14e-e893267afdde\n"
     ]
    },
    {
     "name": "stderr",
     "output_type": "stream",
     "text": [
      "INFO:root:Listing stix_relations with {type: indicates, from_id: 88e04981-34f6-4f8f-9a97-ec3cf28f013a, to_id: 88cbb5de-7cd0-4a00-a14e-e893267afdde}\n",
      "INFO:root:Reading Report {a216498d-1d4c-4555-a6a5-c62f38300e74}.\n",
      "INFO:root:Adding Stix-Entity {0eb98753-a122-4c5b-8c5c-b8f9de5b5e39} to Report {a216498d-1d4c-4555-a6a5-c62f38300e74}\n",
      "C:\\ProgramData\\Anaconda3\\lib\\site-packages\\ipykernel_launcher.py:300: DeprecationWarning: Call to deprecated method get_stix_domain_entity. (Replaced by the StixDomainEntity class in pycti) -- Deprecated since version 2.1.0.\n",
      "INFO:root:Reading Stix-Domain-Entity {31c7a2bb-436d-4ed3-b96e-daa232f35b24}.\n",
      "C:\\ProgramData\\Anaconda3\\lib\\site-packages\\ipykernel_launcher.py:303: DeprecationWarning: Call to deprecated method get_stix_domain_entity. (Replaced by the StixDomainEntity class in pycti) -- Deprecated since version 2.1.0.\n",
      "INFO:root:Reading Stix-Domain-Entity {88cbb5de-7cd0-4a00-a14e-e893267afdde}.\n"
     ]
    },
    {
     "name": "stdout",
     "output_type": "stream",
     "text": [
      "31c7a2bb-436d-4ed3-b96e-daa232f35b24\n",
      "88cbb5de-7cd0-4a00-a14e-e893267afdde\n"
     ]
    },
    {
     "name": "stderr",
     "output_type": "stream",
     "text": [
      "INFO:root:Listing stix_relations with {type: indicates, from_id: 31c7a2bb-436d-4ed3-b96e-daa232f35b24, to_id: 88cbb5de-7cd0-4a00-a14e-e893267afdde}\n",
      "INFO:root:Reading Report {a216498d-1d4c-4555-a6a5-c62f38300e74}.\n",
      "INFO:root:Adding Stix-Entity {87804fa2-4b9a-496d-a106-2e126ad3a57e} to Report {a216498d-1d4c-4555-a6a5-c62f38300e74}\n",
      "C:\\ProgramData\\Anaconda3\\lib\\site-packages\\ipykernel_launcher.py:300: DeprecationWarning: Call to deprecated method get_stix_domain_entity. (Replaced by the StixDomainEntity class in pycti) -- Deprecated since version 2.1.0.\n",
      "INFO:root:Reading Stix-Domain-Entity {096cae42-ba77-45d9-8388-51655df64d90}.\n",
      "C:\\ProgramData\\Anaconda3\\lib\\site-packages\\ipykernel_launcher.py:303: DeprecationWarning: Call to deprecated method get_stix_domain_entity. (Replaced by the StixDomainEntity class in pycti) -- Deprecated since version 2.1.0.\n",
      "INFO:root:Reading Stix-Domain-Entity {88cbb5de-7cd0-4a00-a14e-e893267afdde}.\n"
     ]
    },
    {
     "name": "stdout",
     "output_type": "stream",
     "text": [
      "096cae42-ba77-45d9-8388-51655df64d90\n",
      "88cbb5de-7cd0-4a00-a14e-e893267afdde\n"
     ]
    },
    {
     "name": "stderr",
     "output_type": "stream",
     "text": [
      "INFO:root:Listing stix_relations with {type: indicates, from_id: 096cae42-ba77-45d9-8388-51655df64d90, to_id: 88cbb5de-7cd0-4a00-a14e-e893267afdde}\n",
      "INFO:root:Reading Report {a216498d-1d4c-4555-a6a5-c62f38300e74}.\n",
      "INFO:root:Adding Stix-Entity {9db63cd8-88a7-497d-afd5-251718f9257b} to Report {a216498d-1d4c-4555-a6a5-c62f38300e74}\n",
      "C:\\ProgramData\\Anaconda3\\lib\\site-packages\\ipykernel_launcher.py:300: DeprecationWarning: Call to deprecated method get_stix_domain_entity. (Replaced by the StixDomainEntity class in pycti) -- Deprecated since version 2.1.0.\n",
      "INFO:root:Reading Stix-Domain-Entity {096cae42-ba77-45d9-8388-51655df64d90}.\n",
      "C:\\ProgramData\\Anaconda3\\lib\\site-packages\\ipykernel_launcher.py:303: DeprecationWarning: Call to deprecated method get_stix_domain_entity. (Replaced by the StixDomainEntity class in pycti) -- Deprecated since version 2.1.0.\n",
      "INFO:root:Reading Stix-Domain-Entity {88cbb5de-7cd0-4a00-a14e-e893267afdde}.\n"
     ]
    },
    {
     "name": "stdout",
     "output_type": "stream",
     "text": [
      "096cae42-ba77-45d9-8388-51655df64d90\n",
      "88cbb5de-7cd0-4a00-a14e-e893267afdde\n"
     ]
    },
    {
     "name": "stderr",
     "output_type": "stream",
     "text": [
      "INFO:root:Listing stix_relations with {type: indicates, from_id: 096cae42-ba77-45d9-8388-51655df64d90, to_id: 88cbb5de-7cd0-4a00-a14e-e893267afdde}\n",
      "INFO:root:Reading Report {a216498d-1d4c-4555-a6a5-c62f38300e74}.\n",
      "INFO:root:Adding Stix-Entity {9db63cd8-88a7-497d-afd5-251718f9257b} to Report {a216498d-1d4c-4555-a6a5-c62f38300e74}\n",
      "ERROR:root:A database error has occured!\n",
      "C:\\ProgramData\\Anaconda3\\lib\\site-packages\\ipykernel_launcher.py:300: DeprecationWarning: Call to deprecated method get_stix_domain_entity. (Replaced by the StixDomainEntity class in pycti) -- Deprecated since version 2.1.0.\n",
      "INFO:root:Reading Stix-Domain-Entity {1dd753c6-829d-42f9-8dfc-4a192aa69459}.\n",
      "C:\\ProgramData\\Anaconda3\\lib\\site-packages\\ipykernel_launcher.py:303: DeprecationWarning: Call to deprecated method get_stix_domain_entity. (Replaced by the StixDomainEntity class in pycti) -- Deprecated since version 2.1.0.\n",
      "INFO:root:Reading Stix-Domain-Entity {88cbb5de-7cd0-4a00-a14e-e893267afdde}.\n"
     ]
    },
    {
     "name": "stdout",
     "output_type": "stream",
     "text": [
      "1dd753c6-829d-42f9-8dfc-4a192aa69459\n",
      "88cbb5de-7cd0-4a00-a14e-e893267afdde\n"
     ]
    },
    {
     "name": "stderr",
     "output_type": "stream",
     "text": [
      "INFO:root:Listing stix_relations with {type: indicates, from_id: 1dd753c6-829d-42f9-8dfc-4a192aa69459, to_id: 88cbb5de-7cd0-4a00-a14e-e893267afdde}\n",
      "INFO:root:Reading Report {a216498d-1d4c-4555-a6a5-c62f38300e74}.\n",
      "INFO:root:Adding Stix-Entity {c7ec5469-f484-41b7-9929-580353e572a3} to Report {a216498d-1d4c-4555-a6a5-c62f38300e74}\n",
      "C:\\ProgramData\\Anaconda3\\lib\\site-packages\\ipykernel_launcher.py:300: DeprecationWarning: Call to deprecated method get_stix_domain_entity. (Replaced by the StixDomainEntity class in pycti) -- Deprecated since version 2.1.0.\n",
      "INFO:root:Reading Stix-Domain-Entity {1dd753c6-829d-42f9-8dfc-4a192aa69459}.\n",
      "C:\\ProgramData\\Anaconda3\\lib\\site-packages\\ipykernel_launcher.py:303: DeprecationWarning: Call to deprecated method get_stix_domain_entity. (Replaced by the StixDomainEntity class in pycti) -- Deprecated since version 2.1.0.\n",
      "INFO:root:Reading Stix-Domain-Entity {88cbb5de-7cd0-4a00-a14e-e893267afdde}.\n"
     ]
    },
    {
     "name": "stdout",
     "output_type": "stream",
     "text": [
      "1dd753c6-829d-42f9-8dfc-4a192aa69459\n",
      "88cbb5de-7cd0-4a00-a14e-e893267afdde\n"
     ]
    },
    {
     "name": "stderr",
     "output_type": "stream",
     "text": [
      "INFO:root:Listing stix_relations with {type: indicates, from_id: 1dd753c6-829d-42f9-8dfc-4a192aa69459, to_id: 88cbb5de-7cd0-4a00-a14e-e893267afdde}\n",
      "INFO:root:Reading Report {a216498d-1d4c-4555-a6a5-c62f38300e74}.\n",
      "INFO:root:Adding Stix-Entity {c7ec5469-f484-41b7-9929-580353e572a3} to Report {a216498d-1d4c-4555-a6a5-c62f38300e74}\n",
      "ERROR:root:A database error has occured!\n",
      "C:\\ProgramData\\Anaconda3\\lib\\site-packages\\ipykernel_launcher.py:300: DeprecationWarning: Call to deprecated method get_stix_domain_entity. (Replaced by the StixDomainEntity class in pycti) -- Deprecated since version 2.1.0.\n",
      "INFO:root:Reading Stix-Domain-Entity {31c7a2bb-436d-4ed3-b96e-daa232f35b24}.\n",
      "C:\\ProgramData\\Anaconda3\\lib\\site-packages\\ipykernel_launcher.py:303: DeprecationWarning: Call to deprecated method get_stix_domain_entity. (Replaced by the StixDomainEntity class in pycti) -- Deprecated since version 2.1.0.\n",
      "INFO:root:Reading Stix-Domain-Entity {88cbb5de-7cd0-4a00-a14e-e893267afdde}.\n"
     ]
    },
    {
     "name": "stdout",
     "output_type": "stream",
     "text": [
      "31c7a2bb-436d-4ed3-b96e-daa232f35b24\n",
      "88cbb5de-7cd0-4a00-a14e-e893267afdde\n"
     ]
    },
    {
     "name": "stderr",
     "output_type": "stream",
     "text": [
      "INFO:root:Listing stix_relations with {type: indicates, from_id: 31c7a2bb-436d-4ed3-b96e-daa232f35b24, to_id: 88cbb5de-7cd0-4a00-a14e-e893267afdde}\n",
      "INFO:root:Reading Report {a216498d-1d4c-4555-a6a5-c62f38300e74}.\n",
      "INFO:root:Adding Stix-Entity {87804fa2-4b9a-496d-a106-2e126ad3a57e} to Report {a216498d-1d4c-4555-a6a5-c62f38300e74}\n",
      "ERROR:root:A database error has occured!\n",
      "C:\\ProgramData\\Anaconda3\\lib\\site-packages\\ipykernel_launcher.py:300: DeprecationWarning: Call to deprecated method get_stix_domain_entity. (Replaced by the StixDomainEntity class in pycti) -- Deprecated since version 2.1.0.\n",
      "INFO:root:Reading Stix-Domain-Entity {615b8c34-efc9-4787-90bc-4c5e6e4439fe}.\n",
      "C:\\ProgramData\\Anaconda3\\lib\\site-packages\\ipykernel_launcher.py:303: DeprecationWarning: Call to deprecated method get_stix_domain_entity. (Replaced by the StixDomainEntity class in pycti) -- Deprecated since version 2.1.0.\n",
      "INFO:root:Reading Stix-Domain-Entity {88cbb5de-7cd0-4a00-a14e-e893267afdde}.\n"
     ]
    },
    {
     "name": "stdout",
     "output_type": "stream",
     "text": [
      "615b8c34-efc9-4787-90bc-4c5e6e4439fe\n",
      "88cbb5de-7cd0-4a00-a14e-e893267afdde\n"
     ]
    },
    {
     "name": "stderr",
     "output_type": "stream",
     "text": [
      "INFO:root:Listing stix_relations with {type: indicates, from_id: 615b8c34-efc9-4787-90bc-4c5e6e4439fe, to_id: 88cbb5de-7cd0-4a00-a14e-e893267afdde}\n",
      "INFO:root:Reading Report {a216498d-1d4c-4555-a6a5-c62f38300e74}.\n",
      "INFO:root:Adding Stix-Entity {8c2a70f0-ea6e-4fcb-af30-d6817f7c0dc2} to Report {a216498d-1d4c-4555-a6a5-c62f38300e74}\n",
      "C:\\ProgramData\\Anaconda3\\lib\\site-packages\\ipykernel_launcher.py:300: DeprecationWarning: Call to deprecated method get_stix_domain_entity. (Replaced by the StixDomainEntity class in pycti) -- Deprecated since version 2.1.0.\n",
      "INFO:root:Reading Stix-Domain-Entity {492a45d4-ae59-462e-82a8-29c7b93a6b74}.\n",
      "C:\\ProgramData\\Anaconda3\\lib\\site-packages\\ipykernel_launcher.py:303: DeprecationWarning: Call to deprecated method get_stix_domain_entity. (Replaced by the StixDomainEntity class in pycti) -- Deprecated since version 2.1.0.\n",
      "INFO:root:Reading Stix-Domain-Entity {88cbb5de-7cd0-4a00-a14e-e893267afdde}.\n"
     ]
    },
    {
     "name": "stdout",
     "output_type": "stream",
     "text": [
      "492a45d4-ae59-462e-82a8-29c7b93a6b74\n",
      "88cbb5de-7cd0-4a00-a14e-e893267afdde\n"
     ]
    },
    {
     "name": "stderr",
     "output_type": "stream",
     "text": [
      "INFO:root:Listing stix_relations with {type: indicates, from_id: 492a45d4-ae59-462e-82a8-29c7b93a6b74, to_id: 88cbb5de-7cd0-4a00-a14e-e893267afdde}\n",
      "INFO:root:Reading Report {a216498d-1d4c-4555-a6a5-c62f38300e74}.\n",
      "INFO:root:Adding Stix-Entity {37050a9e-b4ea-4271-a0f9-e2eba8eda192} to Report {a216498d-1d4c-4555-a6a5-c62f38300e74}\n",
      "C:\\ProgramData\\Anaconda3\\lib\\site-packages\\ipykernel_launcher.py:300: DeprecationWarning: Call to deprecated method get_stix_domain_entity. (Replaced by the StixDomainEntity class in pycti) -- Deprecated since version 2.1.0.\n",
      "INFO:root:Reading Stix-Domain-Entity {5e70cf13-b062-4b35-a097-9f6fdfd514c9}.\n",
      "C:\\ProgramData\\Anaconda3\\lib\\site-packages\\ipykernel_launcher.py:303: DeprecationWarning: Call to deprecated method get_stix_domain_entity. (Replaced by the StixDomainEntity class in pycti) -- Deprecated since version 2.1.0.\n",
      "INFO:root:Reading Stix-Domain-Entity {88cbb5de-7cd0-4a00-a14e-e893267afdde}.\n"
     ]
    },
    {
     "name": "stdout",
     "output_type": "stream",
     "text": [
      "5e70cf13-b062-4b35-a097-9f6fdfd514c9\n",
      "88cbb5de-7cd0-4a00-a14e-e893267afdde\n"
     ]
    },
    {
     "name": "stderr",
     "output_type": "stream",
     "text": [
      "INFO:root:Listing stix_relations with {type: indicates, from_id: 5e70cf13-b062-4b35-a097-9f6fdfd514c9, to_id: 88cbb5de-7cd0-4a00-a14e-e893267afdde}\n",
      "INFO:root:Reading Report {a216498d-1d4c-4555-a6a5-c62f38300e74}.\n",
      "INFO:root:Adding Stix-Entity {95ad9550-e564-454b-94a6-18a48cb7b15e} to Report {a216498d-1d4c-4555-a6a5-c62f38300e74}\n",
      "C:\\ProgramData\\Anaconda3\\lib\\site-packages\\ipykernel_launcher.py:300: DeprecationWarning: Call to deprecated method get_stix_domain_entity. (Replaced by the StixDomainEntity class in pycti) -- Deprecated since version 2.1.0.\n",
      "INFO:root:Reading Stix-Domain-Entity {00ad334a-d1d7-4661-a569-24cee0809afc}.\n",
      "C:\\ProgramData\\Anaconda3\\lib\\site-packages\\ipykernel_launcher.py:303: DeprecationWarning: Call to deprecated method get_stix_domain_entity. (Replaced by the StixDomainEntity class in pycti) -- Deprecated since version 2.1.0.\n",
      "INFO:root:Reading Stix-Domain-Entity {88cbb5de-7cd0-4a00-a14e-e893267afdde}.\n"
     ]
    },
    {
     "name": "stdout",
     "output_type": "stream",
     "text": [
      "00ad334a-d1d7-4661-a569-24cee0809afc\n",
      "88cbb5de-7cd0-4a00-a14e-e893267afdde\n"
     ]
    },
    {
     "name": "stderr",
     "output_type": "stream",
     "text": [
      "INFO:root:Listing stix_relations with {type: indicates, from_id: 00ad334a-d1d7-4661-a569-24cee0809afc, to_id: 88cbb5de-7cd0-4a00-a14e-e893267afdde}\n",
      "INFO:root:Reading Report {a216498d-1d4c-4555-a6a5-c62f38300e74}.\n",
      "INFO:root:Adding Stix-Entity {259b2d05-5f12-4bc5-a1e6-6bacfae7cec2} to Report {a216498d-1d4c-4555-a6a5-c62f38300e74}\n",
      "C:\\ProgramData\\Anaconda3\\lib\\site-packages\\ipykernel_launcher.py:300: DeprecationWarning: Call to deprecated method get_stix_domain_entity. (Replaced by the StixDomainEntity class in pycti) -- Deprecated since version 2.1.0.\n",
      "INFO:root:Reading Stix-Domain-Entity {56da9235-700f-403d-ba63-ae76f4f358fa}.\n",
      "C:\\ProgramData\\Anaconda3\\lib\\site-packages\\ipykernel_launcher.py:303: DeprecationWarning: Call to deprecated method get_stix_domain_entity. (Replaced by the StixDomainEntity class in pycti) -- Deprecated since version 2.1.0.\n",
      "INFO:root:Reading Stix-Domain-Entity {88cbb5de-7cd0-4a00-a14e-e893267afdde}.\n"
     ]
    },
    {
     "name": "stdout",
     "output_type": "stream",
     "text": [
      "56da9235-700f-403d-ba63-ae76f4f358fa\n",
      "88cbb5de-7cd0-4a00-a14e-e893267afdde\n"
     ]
    },
    {
     "name": "stderr",
     "output_type": "stream",
     "text": [
      "INFO:root:Listing stix_relations with {type: indicates, from_id: 56da9235-700f-403d-ba63-ae76f4f358fa, to_id: 88cbb5de-7cd0-4a00-a14e-e893267afdde}\n",
      "INFO:root:Reading Report {a216498d-1d4c-4555-a6a5-c62f38300e74}.\n",
      "INFO:root:Adding Stix-Entity {8df5238d-a4f7-43d1-8c4d-8f99a4806c35} to Report {a216498d-1d4c-4555-a6a5-c62f38300e74}\n",
      "C:\\ProgramData\\Anaconda3\\lib\\site-packages\\ipykernel_launcher.py:300: DeprecationWarning: Call to deprecated method get_stix_domain_entity. (Replaced by the StixDomainEntity class in pycti) -- Deprecated since version 2.1.0.\n",
      "INFO:root:Reading Stix-Domain-Entity {653b4fa5-4e7e-4ceb-b5ff-0d1c4b9ca53d}.\n",
      "C:\\ProgramData\\Anaconda3\\lib\\site-packages\\ipykernel_launcher.py:303: DeprecationWarning: Call to deprecated method get_stix_domain_entity. (Replaced by the StixDomainEntity class in pycti) -- Deprecated since version 2.1.0.\n",
      "INFO:root:Reading Stix-Domain-Entity {88cbb5de-7cd0-4a00-a14e-e893267afdde}.\n"
     ]
    },
    {
     "name": "stdout",
     "output_type": "stream",
     "text": [
      "653b4fa5-4e7e-4ceb-b5ff-0d1c4b9ca53d\n",
      "88cbb5de-7cd0-4a00-a14e-e893267afdde\n"
     ]
    },
    {
     "name": "stderr",
     "output_type": "stream",
     "text": [
      "INFO:root:Listing stix_relations with {type: indicates, from_id: 653b4fa5-4e7e-4ceb-b5ff-0d1c4b9ca53d, to_id: 88cbb5de-7cd0-4a00-a14e-e893267afdde}\n",
      "INFO:root:Reading Report {a216498d-1d4c-4555-a6a5-c62f38300e74}.\n",
      "INFO:root:Adding Stix-Entity {6e2e830f-43ee-4525-93f4-ece77775e2c6} to Report {a216498d-1d4c-4555-a6a5-c62f38300e74}\n",
      "C:\\ProgramData\\Anaconda3\\lib\\site-packages\\ipykernel_launcher.py:300: DeprecationWarning: Call to deprecated method get_stix_domain_entity. (Replaced by the StixDomainEntity class in pycti) -- Deprecated since version 2.1.0.\n",
      "INFO:root:Reading Stix-Domain-Entity {8ea40372-b7c1-42d9-b881-c4cb756d8988}.\n",
      "C:\\ProgramData\\Anaconda3\\lib\\site-packages\\ipykernel_launcher.py:303: DeprecationWarning: Call to deprecated method get_stix_domain_entity. (Replaced by the StixDomainEntity class in pycti) -- Deprecated since version 2.1.0.\n",
      "INFO:root:Reading Stix-Domain-Entity {88cbb5de-7cd0-4a00-a14e-e893267afdde}.\n"
     ]
    },
    {
     "name": "stdout",
     "output_type": "stream",
     "text": [
      "8ea40372-b7c1-42d9-b881-c4cb756d8988\n",
      "88cbb5de-7cd0-4a00-a14e-e893267afdde\n"
     ]
    },
    {
     "name": "stderr",
     "output_type": "stream",
     "text": [
      "INFO:root:Listing stix_relations with {type: indicates, from_id: 8ea40372-b7c1-42d9-b881-c4cb756d8988, to_id: 88cbb5de-7cd0-4a00-a14e-e893267afdde}\n",
      "INFO:root:Reading Report {a216498d-1d4c-4555-a6a5-c62f38300e74}.\n",
      "INFO:root:Adding Stix-Entity {46f814e0-5ef7-4195-80a1-416548fca456} to Report {a216498d-1d4c-4555-a6a5-c62f38300e74}\n",
      "C:\\ProgramData\\Anaconda3\\lib\\site-packages\\ipykernel_launcher.py:300: DeprecationWarning: Call to deprecated method get_stix_domain_entity. (Replaced by the StixDomainEntity class in pycti) -- Deprecated since version 2.1.0.\n",
      "INFO:root:Reading Stix-Domain-Entity {dd7737da-add1-4a84-bd1f-66159c019666}.\n",
      "C:\\ProgramData\\Anaconda3\\lib\\site-packages\\ipykernel_launcher.py:303: DeprecationWarning: Call to deprecated method get_stix_domain_entity. (Replaced by the StixDomainEntity class in pycti) -- Deprecated since version 2.1.0.\n",
      "INFO:root:Reading Stix-Domain-Entity {88cbb5de-7cd0-4a00-a14e-e893267afdde}.\n"
     ]
    },
    {
     "name": "stdout",
     "output_type": "stream",
     "text": [
      "dd7737da-add1-4a84-bd1f-66159c019666\n",
      "88cbb5de-7cd0-4a00-a14e-e893267afdde\n"
     ]
    },
    {
     "name": "stderr",
     "output_type": "stream",
     "text": [
      "INFO:root:Listing stix_relations with {type: indicates, from_id: dd7737da-add1-4a84-bd1f-66159c019666, to_id: 88cbb5de-7cd0-4a00-a14e-e893267afdde}\n",
      "INFO:root:Reading Report {a216498d-1d4c-4555-a6a5-c62f38300e74}.\n",
      "INFO:root:Adding Stix-Entity {d9569f77-ad6c-4ac6-9b35-2b7c0174beff} to Report {a216498d-1d4c-4555-a6a5-c62f38300e74}\n",
      "C:\\ProgramData\\Anaconda3\\lib\\site-packages\\ipykernel_launcher.py:300: DeprecationWarning: Call to deprecated method get_stix_domain_entity. (Replaced by the StixDomainEntity class in pycti) -- Deprecated since version 2.1.0.\n",
      "INFO:root:Reading Stix-Domain-Entity {b805996a-7651-4c97-8de1-4d5da1d841c3}.\n",
      "C:\\ProgramData\\Anaconda3\\lib\\site-packages\\ipykernel_launcher.py:303: DeprecationWarning: Call to deprecated method get_stix_domain_entity. (Replaced by the StixDomainEntity class in pycti) -- Deprecated since version 2.1.0.\n",
      "INFO:root:Reading Stix-Domain-Entity {88cbb5de-7cd0-4a00-a14e-e893267afdde}.\n"
     ]
    },
    {
     "name": "stdout",
     "output_type": "stream",
     "text": [
      "b805996a-7651-4c97-8de1-4d5da1d841c3\n",
      "88cbb5de-7cd0-4a00-a14e-e893267afdde\n"
     ]
    },
    {
     "name": "stderr",
     "output_type": "stream",
     "text": [
      "INFO:root:Listing stix_relations with {type: indicates, from_id: b805996a-7651-4c97-8de1-4d5da1d841c3, to_id: 88cbb5de-7cd0-4a00-a14e-e893267afdde}\n",
      "INFO:root:Reading Report {a216498d-1d4c-4555-a6a5-c62f38300e74}.\n",
      "INFO:root:Adding Stix-Entity {53d55e67-dc40-48a1-afe4-3f283e6e6d64} to Report {a216498d-1d4c-4555-a6a5-c62f38300e74}\n",
      "C:\\ProgramData\\Anaconda3\\lib\\site-packages\\ipykernel_launcher.py:300: DeprecationWarning: Call to deprecated method get_stix_domain_entity. (Replaced by the StixDomainEntity class in pycti) -- Deprecated since version 2.1.0.\n",
      "INFO:root:Reading Stix-Domain-Entity {3346bf74-4e40-4f2e-b753-cead1d12f0cf}.\n",
      "C:\\ProgramData\\Anaconda3\\lib\\site-packages\\ipykernel_launcher.py:303: DeprecationWarning: Call to deprecated method get_stix_domain_entity. (Replaced by the StixDomainEntity class in pycti) -- Deprecated since version 2.1.0.\n",
      "INFO:root:Reading Stix-Domain-Entity {88cbb5de-7cd0-4a00-a14e-e893267afdde}.\n"
     ]
    },
    {
     "name": "stdout",
     "output_type": "stream",
     "text": [
      "3346bf74-4e40-4f2e-b753-cead1d12f0cf\n",
      "88cbb5de-7cd0-4a00-a14e-e893267afdde\n"
     ]
    },
    {
     "name": "stderr",
     "output_type": "stream",
     "text": [
      "INFO:root:Listing stix_relations with {type: indicates, from_id: 3346bf74-4e40-4f2e-b753-cead1d12f0cf, to_id: 88cbb5de-7cd0-4a00-a14e-e893267afdde}\n",
      "INFO:root:Reading Report {a216498d-1d4c-4555-a6a5-c62f38300e74}.\n",
      "INFO:root:Adding Stix-Entity {985d7478-5473-4c4d-801d-b79a86c19e0f} to Report {a216498d-1d4c-4555-a6a5-c62f38300e74}\n",
      "C:\\ProgramData\\Anaconda3\\lib\\site-packages\\ipykernel_launcher.py:300: DeprecationWarning: Call to deprecated method get_stix_domain_entity. (Replaced by the StixDomainEntity class in pycti) -- Deprecated since version 2.1.0.\n",
      "INFO:root:Reading Stix-Domain-Entity {3f43c2b7-3df0-4080-a58d-235cfebef2bf}.\n",
      "C:\\ProgramData\\Anaconda3\\lib\\site-packages\\ipykernel_launcher.py:303: DeprecationWarning: Call to deprecated method get_stix_domain_entity. (Replaced by the StixDomainEntity class in pycti) -- Deprecated since version 2.1.0.\n",
      "INFO:root:Reading Stix-Domain-Entity {88cbb5de-7cd0-4a00-a14e-e893267afdde}.\n"
     ]
    },
    {
     "name": "stdout",
     "output_type": "stream",
     "text": [
      "3f43c2b7-3df0-4080-a58d-235cfebef2bf\n",
      "88cbb5de-7cd0-4a00-a14e-e893267afdde\n"
     ]
    },
    {
     "name": "stderr",
     "output_type": "stream",
     "text": [
      "INFO:root:Listing stix_relations with {type: indicates, from_id: 3f43c2b7-3df0-4080-a58d-235cfebef2bf, to_id: 88cbb5de-7cd0-4a00-a14e-e893267afdde}\n",
      "INFO:root:Reading Report {a216498d-1d4c-4555-a6a5-c62f38300e74}.\n",
      "INFO:root:Adding Stix-Entity {ba479305-7d3c-41b9-8bfc-da38abf1da4e} to Report {a216498d-1d4c-4555-a6a5-c62f38300e74}\n",
      "C:\\ProgramData\\Anaconda3\\lib\\site-packages\\ipykernel_launcher.py:300: DeprecationWarning: Call to deprecated method get_stix_domain_entity. (Replaced by the StixDomainEntity class in pycti) -- Deprecated since version 2.1.0.\n",
      "INFO:root:Reading Stix-Domain-Entity {df78e550-327f-4351-bbfe-84762373d51a}.\n",
      "C:\\ProgramData\\Anaconda3\\lib\\site-packages\\ipykernel_launcher.py:303: DeprecationWarning: Call to deprecated method get_stix_domain_entity. (Replaced by the StixDomainEntity class in pycti) -- Deprecated since version 2.1.0.\n",
      "INFO:root:Reading Stix-Domain-Entity {88cbb5de-7cd0-4a00-a14e-e893267afdde}.\n"
     ]
    },
    {
     "name": "stdout",
     "output_type": "stream",
     "text": [
      "df78e550-327f-4351-bbfe-84762373d51a\n",
      "88cbb5de-7cd0-4a00-a14e-e893267afdde\n"
     ]
    },
    {
     "name": "stderr",
     "output_type": "stream",
     "text": [
      "INFO:root:Listing stix_relations with {type: indicates, from_id: df78e550-327f-4351-bbfe-84762373d51a, to_id: 88cbb5de-7cd0-4a00-a14e-e893267afdde}\n",
      "INFO:root:Reading Report {a216498d-1d4c-4555-a6a5-c62f38300e74}.\n",
      "INFO:root:Adding Stix-Entity {f52627f7-f06f-400a-8877-ac6beffa143c} to Report {a216498d-1d4c-4555-a6a5-c62f38300e74}\n",
      "C:\\ProgramData\\Anaconda3\\lib\\site-packages\\ipykernel_launcher.py:300: DeprecationWarning: Call to deprecated method get_stix_domain_entity. (Replaced by the StixDomainEntity class in pycti) -- Deprecated since version 2.1.0.\n",
      "INFO:root:Reading Stix-Domain-Entity {84fd12a3-8d1a-4dff-8c43-3c0d7b8dacee}.\n",
      "C:\\ProgramData\\Anaconda3\\lib\\site-packages\\ipykernel_launcher.py:303: DeprecationWarning: Call to deprecated method get_stix_domain_entity. (Replaced by the StixDomainEntity class in pycti) -- Deprecated since version 2.1.0.\n",
      "INFO:root:Reading Stix-Domain-Entity {88cbb5de-7cd0-4a00-a14e-e893267afdde}.\n"
     ]
    },
    {
     "name": "stdout",
     "output_type": "stream",
     "text": [
      "84fd12a3-8d1a-4dff-8c43-3c0d7b8dacee\n",
      "88cbb5de-7cd0-4a00-a14e-e893267afdde\n"
     ]
    },
    {
     "name": "stderr",
     "output_type": "stream",
     "text": [
      "INFO:root:Listing stix_relations with {type: indicates, from_id: 84fd12a3-8d1a-4dff-8c43-3c0d7b8dacee, to_id: 88cbb5de-7cd0-4a00-a14e-e893267afdde}\n",
      "INFO:root:Reading Report {a216498d-1d4c-4555-a6a5-c62f38300e74}.\n",
      "INFO:root:Adding Stix-Entity {9128b177-8434-49ca-baf6-21fe5d4c52b9} to Report {a216498d-1d4c-4555-a6a5-c62f38300e74}\n",
      "C:\\ProgramData\\Anaconda3\\lib\\site-packages\\ipykernel_launcher.py:300: DeprecationWarning: Call to deprecated method get_stix_domain_entity. (Replaced by the StixDomainEntity class in pycti) -- Deprecated since version 2.1.0.\n",
      "INFO:root:Reading Stix-Domain-Entity {adb6fa3f-2d89-46f3-9d59-b4d99490c4e2}.\n",
      "C:\\ProgramData\\Anaconda3\\lib\\site-packages\\ipykernel_launcher.py:303: DeprecationWarning: Call to deprecated method get_stix_domain_entity. (Replaced by the StixDomainEntity class in pycti) -- Deprecated since version 2.1.0.\n",
      "INFO:root:Reading Stix-Domain-Entity {88cbb5de-7cd0-4a00-a14e-e893267afdde}.\n"
     ]
    },
    {
     "name": "stdout",
     "output_type": "stream",
     "text": [
      "adb6fa3f-2d89-46f3-9d59-b4d99490c4e2\n",
      "88cbb5de-7cd0-4a00-a14e-e893267afdde\n"
     ]
    },
    {
     "name": "stderr",
     "output_type": "stream",
     "text": [
      "INFO:root:Listing stix_relations with {type: indicates, from_id: adb6fa3f-2d89-46f3-9d59-b4d99490c4e2, to_id: 88cbb5de-7cd0-4a00-a14e-e893267afdde}\n",
      "INFO:root:Reading Report {a216498d-1d4c-4555-a6a5-c62f38300e74}.\n",
      "INFO:root:Adding Stix-Entity {9fdafb3c-2764-4688-b075-eacf353881c8} to Report {a216498d-1d4c-4555-a6a5-c62f38300e74}\n",
      "C:\\ProgramData\\Anaconda3\\lib\\site-packages\\ipykernel_launcher.py:300: DeprecationWarning: Call to deprecated method get_stix_domain_entity. (Replaced by the StixDomainEntity class in pycti) -- Deprecated since version 2.1.0.\n",
      "INFO:root:Reading Stix-Domain-Entity {541ee782-769c-409c-8ee9-62d559d460e1}.\n",
      "C:\\ProgramData\\Anaconda3\\lib\\site-packages\\ipykernel_launcher.py:303: DeprecationWarning: Call to deprecated method get_stix_domain_entity. (Replaced by the StixDomainEntity class in pycti) -- Deprecated since version 2.1.0.\n",
      "INFO:root:Reading Stix-Domain-Entity {88cbb5de-7cd0-4a00-a14e-e893267afdde}.\n"
     ]
    },
    {
     "name": "stdout",
     "output_type": "stream",
     "text": [
      "541ee782-769c-409c-8ee9-62d559d460e1\n",
      "88cbb5de-7cd0-4a00-a14e-e893267afdde\n"
     ]
    },
    {
     "name": "stderr",
     "output_type": "stream",
     "text": [
      "INFO:root:Listing stix_relations with {type: indicates, from_id: 541ee782-769c-409c-8ee9-62d559d460e1, to_id: 88cbb5de-7cd0-4a00-a14e-e893267afdde}\n",
      "INFO:root:Reading Report {a216498d-1d4c-4555-a6a5-c62f38300e74}.\n",
      "INFO:root:Adding Stix-Entity {d7693135-f31b-47ef-b31a-f7a8389a3dd8} to Report {a216498d-1d4c-4555-a6a5-c62f38300e74}\n",
      "C:\\ProgramData\\Anaconda3\\lib\\site-packages\\ipykernel_launcher.py:300: DeprecationWarning: Call to deprecated method get_stix_domain_entity. (Replaced by the StixDomainEntity class in pycti) -- Deprecated since version 2.1.0.\n",
      "INFO:root:Reading Stix-Domain-Entity {0e5e928f-11dc-4764-999d-885d924cd5e3}.\n",
      "C:\\ProgramData\\Anaconda3\\lib\\site-packages\\ipykernel_launcher.py:303: DeprecationWarning: Call to deprecated method get_stix_domain_entity. (Replaced by the StixDomainEntity class in pycti) -- Deprecated since version 2.1.0.\n",
      "INFO:root:Reading Stix-Domain-Entity {88cbb5de-7cd0-4a00-a14e-e893267afdde}.\n"
     ]
    },
    {
     "name": "stdout",
     "output_type": "stream",
     "text": [
      "0e5e928f-11dc-4764-999d-885d924cd5e3\n",
      "88cbb5de-7cd0-4a00-a14e-e893267afdde\n"
     ]
    },
    {
     "name": "stderr",
     "output_type": "stream",
     "text": [
      "INFO:root:Listing stix_relations with {type: indicates, from_id: 0e5e928f-11dc-4764-999d-885d924cd5e3, to_id: 88cbb5de-7cd0-4a00-a14e-e893267afdde}\n",
      "INFO:root:Reading Report {a216498d-1d4c-4555-a6a5-c62f38300e74}.\n",
      "INFO:root:Adding Stix-Entity {cdde4424-ab92-4eef-8696-394b5db34bb5} to Report {a216498d-1d4c-4555-a6a5-c62f38300e74}\n",
      "C:\\ProgramData\\Anaconda3\\lib\\site-packages\\ipykernel_launcher.py:300: DeprecationWarning: Call to deprecated method get_stix_domain_entity. (Replaced by the StixDomainEntity class in pycti) -- Deprecated since version 2.1.0.\n",
      "INFO:root:Reading Stix-Domain-Entity {be9197fa-e9de-4955-82f9-b02b59642802}.\n",
      "C:\\ProgramData\\Anaconda3\\lib\\site-packages\\ipykernel_launcher.py:303: DeprecationWarning: Call to deprecated method get_stix_domain_entity. (Replaced by the StixDomainEntity class in pycti) -- Deprecated since version 2.1.0.\n",
      "INFO:root:Reading Stix-Domain-Entity {88cbb5de-7cd0-4a00-a14e-e893267afdde}.\n"
     ]
    },
    {
     "name": "stdout",
     "output_type": "stream",
     "text": [
      "be9197fa-e9de-4955-82f9-b02b59642802\n",
      "88cbb5de-7cd0-4a00-a14e-e893267afdde\n"
     ]
    },
    {
     "name": "stderr",
     "output_type": "stream",
     "text": [
      "INFO:root:Listing stix_relations with {type: indicates, from_id: be9197fa-e9de-4955-82f9-b02b59642802, to_id: 88cbb5de-7cd0-4a00-a14e-e893267afdde}\n",
      "INFO:root:Reading Report {a216498d-1d4c-4555-a6a5-c62f38300e74}.\n",
      "INFO:root:Adding Stix-Entity {16278feb-8ec9-4066-871c-95fbaf75d3f5} to Report {a216498d-1d4c-4555-a6a5-c62f38300e74}\n",
      "C:\\ProgramData\\Anaconda3\\lib\\site-packages\\ipykernel_launcher.py:300: DeprecationWarning: Call to deprecated method get_stix_domain_entity. (Replaced by the StixDomainEntity class in pycti) -- Deprecated since version 2.1.0.\n",
      "INFO:root:Reading Stix-Domain-Entity {667ab360-1fca-4c04-a6a5-df7c83e82c8e}.\n",
      "C:\\ProgramData\\Anaconda3\\lib\\site-packages\\ipykernel_launcher.py:303: DeprecationWarning: Call to deprecated method get_stix_domain_entity. (Replaced by the StixDomainEntity class in pycti) -- Deprecated since version 2.1.0.\n",
      "INFO:root:Reading Stix-Domain-Entity {d160a012-7be8-4de4-86d3-957cc310d76b}.\n"
     ]
    },
    {
     "name": "stdout",
     "output_type": "stream",
     "text": [
      "667ab360-1fca-4c04-a6a5-df7c83e82c8e\n",
      "d160a012-7be8-4de4-86d3-957cc310d76b\n"
     ]
    },
    {
     "name": "stderr",
     "output_type": "stream",
     "text": [
      "INFO:root:Listing stix_relations with {type: indicates, from_id: 667ab360-1fca-4c04-a6a5-df7c83e82c8e, to_id: d160a012-7be8-4de4-86d3-957cc310d76b}\n",
      "INFO:root:Reading Report {a216498d-1d4c-4555-a6a5-c62f38300e74}.\n",
      "INFO:root:Adding Stix-Entity {f5bbf5b7-01ec-46b7-b190-6fad689393e5} to Report {a216498d-1d4c-4555-a6a5-c62f38300e74}\n",
      "C:\\ProgramData\\Anaconda3\\lib\\site-packages\\ipykernel_launcher.py:300: DeprecationWarning: Call to deprecated method get_stix_domain_entity. (Replaced by the StixDomainEntity class in pycti) -- Deprecated since version 2.1.0.\n",
      "INFO:root:Reading Stix-Domain-Entity {01c9a186-dd58-4988-8460-57da4e81bb5d}.\n",
      "C:\\ProgramData\\Anaconda3\\lib\\site-packages\\ipykernel_launcher.py:303: DeprecationWarning: Call to deprecated method get_stix_domain_entity. (Replaced by the StixDomainEntity class in pycti) -- Deprecated since version 2.1.0.\n",
      "INFO:root:Reading Stix-Domain-Entity {d2f5de38-118b-465f-84ef-5e8f2ba6f138}.\n"
     ]
    },
    {
     "name": "stdout",
     "output_type": "stream",
     "text": [
      "01c9a186-dd58-4988-8460-57da4e81bb5d\n",
      "d2f5de38-118b-465f-84ef-5e8f2ba6f138\n"
     ]
    },
    {
     "name": "stderr",
     "output_type": "stream",
     "text": [
      "INFO:root:Listing stix_relations with {type: indicates, from_id: 01c9a186-dd58-4988-8460-57da4e81bb5d, to_id: d2f5de38-118b-465f-84ef-5e8f2ba6f138}\n",
      "INFO:root:Reading Report {a216498d-1d4c-4555-a6a5-c62f38300e74}.\n",
      "INFO:root:Adding Stix-Entity {4126fff5-9f58-4506-8157-170f422bd9a3} to Report {a216498d-1d4c-4555-a6a5-c62f38300e74}\n",
      "C:\\ProgramData\\Anaconda3\\lib\\site-packages\\ipykernel_launcher.py:300: DeprecationWarning: Call to deprecated method get_stix_domain_entity. (Replaced by the StixDomainEntity class in pycti) -- Deprecated since version 2.1.0.\n",
      "INFO:root:Reading Stix-Domain-Entity {693e53f2-bbad-41a8-9b60-c07c12124d7b}.\n",
      "C:\\ProgramData\\Anaconda3\\lib\\site-packages\\ipykernel_launcher.py:303: DeprecationWarning: Call to deprecated method get_stix_domain_entity. (Replaced by the StixDomainEntity class in pycti) -- Deprecated since version 2.1.0.\n",
      "INFO:root:Reading Stix-Domain-Entity {d2f5de38-118b-465f-84ef-5e8f2ba6f138}.\n"
     ]
    },
    {
     "name": "stdout",
     "output_type": "stream",
     "text": [
      "693e53f2-bbad-41a8-9b60-c07c12124d7b\n",
      "d2f5de38-118b-465f-84ef-5e8f2ba6f138\n"
     ]
    },
    {
     "name": "stderr",
     "output_type": "stream",
     "text": [
      "INFO:root:Listing stix_relations with {type: indicates, from_id: 693e53f2-bbad-41a8-9b60-c07c12124d7b, to_id: d2f5de38-118b-465f-84ef-5e8f2ba6f138}\n",
      "INFO:root:Reading Report {a216498d-1d4c-4555-a6a5-c62f38300e74}.\n",
      "INFO:root:Adding Stix-Entity {f9656f87-4522-49db-8897-1dee4ea73f49} to Report {a216498d-1d4c-4555-a6a5-c62f38300e74}\n",
      "C:\\ProgramData\\Anaconda3\\lib\\site-packages\\ipykernel_launcher.py:300: DeprecationWarning: Call to deprecated method get_stix_domain_entity. (Replaced by the StixDomainEntity class in pycti) -- Deprecated since version 2.1.0.\n",
      "INFO:root:Reading Stix-Domain-Entity {43effaa1-5ae5-4cb4-9a3c-ea2413dcad6a}.\n",
      "C:\\ProgramData\\Anaconda3\\lib\\site-packages\\ipykernel_launcher.py:303: DeprecationWarning: Call to deprecated method get_stix_domain_entity. (Replaced by the StixDomainEntity class in pycti) -- Deprecated since version 2.1.0.\n",
      "INFO:root:Reading Stix-Domain-Entity {d2f5de38-118b-465f-84ef-5e8f2ba6f138}.\n"
     ]
    },
    {
     "name": "stdout",
     "output_type": "stream",
     "text": [
      "43effaa1-5ae5-4cb4-9a3c-ea2413dcad6a\n",
      "d2f5de38-118b-465f-84ef-5e8f2ba6f138\n"
     ]
    },
    {
     "name": "stderr",
     "output_type": "stream",
     "text": [
      "INFO:root:Listing stix_relations with {type: indicates, from_id: 43effaa1-5ae5-4cb4-9a3c-ea2413dcad6a, to_id: d2f5de38-118b-465f-84ef-5e8f2ba6f138}\n",
      "INFO:root:Reading Report {a216498d-1d4c-4555-a6a5-c62f38300e74}.\n",
      "INFO:root:Adding Stix-Entity {320ba86f-2e4a-4e6a-87fa-df80658f57f1} to Report {a216498d-1d4c-4555-a6a5-c62f38300e74}\n",
      "C:\\ProgramData\\Anaconda3\\lib\\site-packages\\ipykernel_launcher.py:300: DeprecationWarning: Call to deprecated method get_stix_domain_entity. (Replaced by the StixDomainEntity class in pycti) -- Deprecated since version 2.1.0.\n",
      "INFO:root:Reading Stix-Domain-Entity {e92a5f42-17d8-4130-92d5-b0841191eb9c}.\n",
      "C:\\ProgramData\\Anaconda3\\lib\\site-packages\\ipykernel_launcher.py:303: DeprecationWarning: Call to deprecated method get_stix_domain_entity. (Replaced by the StixDomainEntity class in pycti) -- Deprecated since version 2.1.0.\n",
      "INFO:root:Reading Stix-Domain-Entity {d2f5de38-118b-465f-84ef-5e8f2ba6f138}.\n"
     ]
    },
    {
     "name": "stdout",
     "output_type": "stream",
     "text": [
      "e92a5f42-17d8-4130-92d5-b0841191eb9c\n",
      "d2f5de38-118b-465f-84ef-5e8f2ba6f138\n"
     ]
    },
    {
     "name": "stderr",
     "output_type": "stream",
     "text": [
      "INFO:root:Listing stix_relations with {type: indicates, from_id: e92a5f42-17d8-4130-92d5-b0841191eb9c, to_id: d2f5de38-118b-465f-84ef-5e8f2ba6f138}\n",
      "INFO:root:Reading Report {a216498d-1d4c-4555-a6a5-c62f38300e74}.\n",
      "INFO:root:Adding Stix-Entity {ae18fc5d-4067-4b82-bff6-a6eafad12c68} to Report {a216498d-1d4c-4555-a6a5-c62f38300e74}\n",
      "C:\\ProgramData\\Anaconda3\\lib\\site-packages\\ipykernel_launcher.py:300: DeprecationWarning: Call to deprecated method get_stix_domain_entity. (Replaced by the StixDomainEntity class in pycti) -- Deprecated since version 2.1.0.\n",
      "INFO:root:Reading Stix-Domain-Entity {dafb4daf-66f2-49d8-9cfd-eba4813398f6}.\n",
      "C:\\ProgramData\\Anaconda3\\lib\\site-packages\\ipykernel_launcher.py:303: DeprecationWarning: Call to deprecated method get_stix_domain_entity. (Replaced by the StixDomainEntity class in pycti) -- Deprecated since version 2.1.0.\n",
      "INFO:root:Reading Stix-Domain-Entity {d2f5de38-118b-465f-84ef-5e8f2ba6f138}.\n"
     ]
    },
    {
     "name": "stdout",
     "output_type": "stream",
     "text": [
      "dafb4daf-66f2-49d8-9cfd-eba4813398f6\n",
      "d2f5de38-118b-465f-84ef-5e8f2ba6f138\n"
     ]
    },
    {
     "name": "stderr",
     "output_type": "stream",
     "text": [
      "INFO:root:Listing stix_relations with {type: indicates, from_id: dafb4daf-66f2-49d8-9cfd-eba4813398f6, to_id: d2f5de38-118b-465f-84ef-5e8f2ba6f138}\n",
      "INFO:root:Reading Report {a216498d-1d4c-4555-a6a5-c62f38300e74}.\n",
      "INFO:root:Adding Stix-Entity {f59743c6-5a01-4286-88e9-37bfc5b44d21} to Report {a216498d-1d4c-4555-a6a5-c62f38300e74}\n",
      "C:\\ProgramData\\Anaconda3\\lib\\site-packages\\ipykernel_launcher.py:300: DeprecationWarning: Call to deprecated method get_stix_domain_entity. (Replaced by the StixDomainEntity class in pycti) -- Deprecated since version 2.1.0.\n",
      "INFO:root:Reading Stix-Domain-Entity {ab253ef9-c294-40da-9402-1b8a7f0eb9c4}.\n",
      "C:\\ProgramData\\Anaconda3\\lib\\site-packages\\ipykernel_launcher.py:303: DeprecationWarning: Call to deprecated method get_stix_domain_entity. (Replaced by the StixDomainEntity class in pycti) -- Deprecated since version 2.1.0.\n",
      "INFO:root:Reading Stix-Domain-Entity {d2f5de38-118b-465f-84ef-5e8f2ba6f138}.\n"
     ]
    },
    {
     "name": "stdout",
     "output_type": "stream",
     "text": [
      "ab253ef9-c294-40da-9402-1b8a7f0eb9c4\n",
      "d2f5de38-118b-465f-84ef-5e8f2ba6f138\n"
     ]
    },
    {
     "name": "stderr",
     "output_type": "stream",
     "text": [
      "INFO:root:Listing stix_relations with {type: indicates, from_id: ab253ef9-c294-40da-9402-1b8a7f0eb9c4, to_id: d2f5de38-118b-465f-84ef-5e8f2ba6f138}\n",
      "INFO:root:Reading Report {a216498d-1d4c-4555-a6a5-c62f38300e74}.\n",
      "INFO:root:Adding Stix-Entity {838792e4-da86-47d7-ac95-0470e40e3bb9} to Report {a216498d-1d4c-4555-a6a5-c62f38300e74}\n",
      "C:\\ProgramData\\Anaconda3\\lib\\site-packages\\ipykernel_launcher.py:300: DeprecationWarning: Call to deprecated method get_stix_domain_entity. (Replaced by the StixDomainEntity class in pycti) -- Deprecated since version 2.1.0.\n",
      "INFO:root:Reading Stix-Domain-Entity {b7fc7415-a1bf-45bb-a763-5ae4768fc75d}.\n",
      "C:\\ProgramData\\Anaconda3\\lib\\site-packages\\ipykernel_launcher.py:303: DeprecationWarning: Call to deprecated method get_stix_domain_entity. (Replaced by the StixDomainEntity class in pycti) -- Deprecated since version 2.1.0.\n",
      "INFO:root:Reading Stix-Domain-Entity {d2f5de38-118b-465f-84ef-5e8f2ba6f138}.\n"
     ]
    },
    {
     "name": "stdout",
     "output_type": "stream",
     "text": [
      "b7fc7415-a1bf-45bb-a763-5ae4768fc75d\n",
      "d2f5de38-118b-465f-84ef-5e8f2ba6f138\n"
     ]
    },
    {
     "name": "stderr",
     "output_type": "stream",
     "text": [
      "INFO:root:Listing stix_relations with {type: indicates, from_id: b7fc7415-a1bf-45bb-a763-5ae4768fc75d, to_id: d2f5de38-118b-465f-84ef-5e8f2ba6f138}\n",
      "INFO:root:Reading Report {a216498d-1d4c-4555-a6a5-c62f38300e74}.\n",
      "INFO:root:Adding Stix-Entity {04391e9b-10e6-400c-b0fc-bf4bf40fd09d} to Report {a216498d-1d4c-4555-a6a5-c62f38300e74}\n",
      "C:\\ProgramData\\Anaconda3\\lib\\site-packages\\ipykernel_launcher.py:300: DeprecationWarning: Call to deprecated method get_stix_domain_entity. (Replaced by the StixDomainEntity class in pycti) -- Deprecated since version 2.1.0.\n",
      "INFO:root:Reading Stix-Domain-Entity {9b662712-247c-450f-a376-b1ceb1ec41e2}.\n",
      "C:\\ProgramData\\Anaconda3\\lib\\site-packages\\ipykernel_launcher.py:303: DeprecationWarning: Call to deprecated method get_stix_domain_entity. (Replaced by the StixDomainEntity class in pycti) -- Deprecated since version 2.1.0.\n",
      "INFO:root:Reading Stix-Domain-Entity {d2f5de38-118b-465f-84ef-5e8f2ba6f138}.\n"
     ]
    },
    {
     "name": "stdout",
     "output_type": "stream",
     "text": [
      "9b662712-247c-450f-a376-b1ceb1ec41e2\n",
      "d2f5de38-118b-465f-84ef-5e8f2ba6f138\n"
     ]
    },
    {
     "name": "stderr",
     "output_type": "stream",
     "text": [
      "INFO:root:Listing stix_relations with {type: indicates, from_id: 9b662712-247c-450f-a376-b1ceb1ec41e2, to_id: d2f5de38-118b-465f-84ef-5e8f2ba6f138}\n",
      "INFO:root:Reading Report {a216498d-1d4c-4555-a6a5-c62f38300e74}.\n",
      "INFO:root:Adding Stix-Entity {5816b975-dbd2-47c1-b487-b1df6f468485} to Report {a216498d-1d4c-4555-a6a5-c62f38300e74}\n",
      "C:\\ProgramData\\Anaconda3\\lib\\site-packages\\ipykernel_launcher.py:300: DeprecationWarning: Call to deprecated method get_stix_domain_entity. (Replaced by the StixDomainEntity class in pycti) -- Deprecated since version 2.1.0.\n",
      "INFO:root:Reading Stix-Domain-Entity {ab253ef9-c294-40da-9402-1b8a7f0eb9c4}.\n",
      "C:\\ProgramData\\Anaconda3\\lib\\site-packages\\ipykernel_launcher.py:303: DeprecationWarning: Call to deprecated method get_stix_domain_entity. (Replaced by the StixDomainEntity class in pycti) -- Deprecated since version 2.1.0.\n",
      "INFO:root:Reading Stix-Domain-Entity {d2f5de38-118b-465f-84ef-5e8f2ba6f138}.\n"
     ]
    },
    {
     "name": "stdout",
     "output_type": "stream",
     "text": [
      "ab253ef9-c294-40da-9402-1b8a7f0eb9c4\n",
      "d2f5de38-118b-465f-84ef-5e8f2ba6f138\n"
     ]
    },
    {
     "name": "stderr",
     "output_type": "stream",
     "text": [
      "INFO:root:Listing stix_relations with {type: indicates, from_id: ab253ef9-c294-40da-9402-1b8a7f0eb9c4, to_id: d2f5de38-118b-465f-84ef-5e8f2ba6f138}\n",
      "INFO:root:Reading Report {a216498d-1d4c-4555-a6a5-c62f38300e74}.\n",
      "C:\\ProgramData\\Anaconda3\\lib\\site-packages\\ipykernel_launcher.py:300: DeprecationWarning: Call to deprecated method get_stix_domain_entity. (Replaced by the StixDomainEntity class in pycti) -- Deprecated since version 2.1.0.\n",
      "INFO:root:Reading Stix-Domain-Entity {f87e99b2-bb39-494f-909b-3f0133b1e724}.\n",
      "C:\\ProgramData\\Anaconda3\\lib\\site-packages\\ipykernel_launcher.py:303: DeprecationWarning: Call to deprecated method get_stix_domain_entity. (Replaced by the StixDomainEntity class in pycti) -- Deprecated since version 2.1.0.\n",
      "INFO:root:Reading Stix-Domain-Entity {d2f5de38-118b-465f-84ef-5e8f2ba6f138}.\n"
     ]
    },
    {
     "name": "stdout",
     "output_type": "stream",
     "text": [
      "f87e99b2-bb39-494f-909b-3f0133b1e724\n",
      "d2f5de38-118b-465f-84ef-5e8f2ba6f138\n"
     ]
    },
    {
     "name": "stderr",
     "output_type": "stream",
     "text": [
      "INFO:root:Listing stix_relations with {type: indicates, from_id: f87e99b2-bb39-494f-909b-3f0133b1e724, to_id: d2f5de38-118b-465f-84ef-5e8f2ba6f138}\n",
      "INFO:root:Reading Report {a216498d-1d4c-4555-a6a5-c62f38300e74}.\n",
      "INFO:root:Adding Stix-Entity {bf2ada81-034a-42df-9599-552fbf5100d3} to Report {a216498d-1d4c-4555-a6a5-c62f38300e74}\n",
      "C:\\ProgramData\\Anaconda3\\lib\\site-packages\\ipykernel_launcher.py:300: DeprecationWarning: Call to deprecated method get_stix_domain_entity. (Replaced by the StixDomainEntity class in pycti) -- Deprecated since version 2.1.0.\n",
      "INFO:root:Reading Stix-Domain-Entity {b28e37e7-654e-4ffd-aae5-c1fc7b6110c6}.\n",
      "C:\\ProgramData\\Anaconda3\\lib\\site-packages\\ipykernel_launcher.py:303: DeprecationWarning: Call to deprecated method get_stix_domain_entity. (Replaced by the StixDomainEntity class in pycti) -- Deprecated since version 2.1.0.\n",
      "INFO:root:Reading Stix-Domain-Entity {d2f5de38-118b-465f-84ef-5e8f2ba6f138}.\n"
     ]
    },
    {
     "name": "stdout",
     "output_type": "stream",
     "text": [
      "b28e37e7-654e-4ffd-aae5-c1fc7b6110c6\n",
      "d2f5de38-118b-465f-84ef-5e8f2ba6f138\n"
     ]
    },
    {
     "name": "stderr",
     "output_type": "stream",
     "text": [
      "INFO:root:Listing stix_relations with {type: indicates, from_id: b28e37e7-654e-4ffd-aae5-c1fc7b6110c6, to_id: d2f5de38-118b-465f-84ef-5e8f2ba6f138}\n",
      "INFO:root:Reading Report {a216498d-1d4c-4555-a6a5-c62f38300e74}.\n",
      "INFO:root:Adding Stix-Entity {441affbc-691b-4a68-87b0-6082933d9392} to Report {a216498d-1d4c-4555-a6a5-c62f38300e74}\n",
      "C:\\ProgramData\\Anaconda3\\lib\\site-packages\\ipykernel_launcher.py:300: DeprecationWarning: Call to deprecated method get_stix_domain_entity. (Replaced by the StixDomainEntity class in pycti) -- Deprecated since version 2.1.0.\n",
      "INFO:root:Reading Stix-Domain-Entity {d73b7575-5b15-4d15-aa8d-61d25afeb66f}.\n",
      "C:\\ProgramData\\Anaconda3\\lib\\site-packages\\ipykernel_launcher.py:303: DeprecationWarning: Call to deprecated method get_stix_domain_entity. (Replaced by the StixDomainEntity class in pycti) -- Deprecated since version 2.1.0.\n",
      "INFO:root:Reading Stix-Domain-Entity {d2f5de38-118b-465f-84ef-5e8f2ba6f138}.\n"
     ]
    },
    {
     "name": "stdout",
     "output_type": "stream",
     "text": [
      "d73b7575-5b15-4d15-aa8d-61d25afeb66f\n",
      "d2f5de38-118b-465f-84ef-5e8f2ba6f138\n"
     ]
    },
    {
     "name": "stderr",
     "output_type": "stream",
     "text": [
      "INFO:root:Listing stix_relations with {type: indicates, from_id: d73b7575-5b15-4d15-aa8d-61d25afeb66f, to_id: d2f5de38-118b-465f-84ef-5e8f2ba6f138}\n",
      "INFO:root:Reading Report {a216498d-1d4c-4555-a6a5-c62f38300e74}.\n",
      "INFO:root:Adding Stix-Entity {541d3d47-77a0-42cd-b6ce-637775db0d42} to Report {a216498d-1d4c-4555-a6a5-c62f38300e74}\n",
      "C:\\ProgramData\\Anaconda3\\lib\\site-packages\\ipykernel_launcher.py:300: DeprecationWarning: Call to deprecated method get_stix_domain_entity. (Replaced by the StixDomainEntity class in pycti) -- Deprecated since version 2.1.0.\n",
      "INFO:root:Reading Stix-Domain-Entity {5f0f09e1-45c0-44ee-8a8c-98206e3ffa7f}.\n",
      "C:\\ProgramData\\Anaconda3\\lib\\site-packages\\ipykernel_launcher.py:303: DeprecationWarning: Call to deprecated method get_stix_domain_entity. (Replaced by the StixDomainEntity class in pycti) -- Deprecated since version 2.1.0.\n",
      "INFO:root:Reading Stix-Domain-Entity {d2f5de38-118b-465f-84ef-5e8f2ba6f138}.\n"
     ]
    },
    {
     "name": "stdout",
     "output_type": "stream",
     "text": [
      "5f0f09e1-45c0-44ee-8a8c-98206e3ffa7f\n",
      "d2f5de38-118b-465f-84ef-5e8f2ba6f138\n"
     ]
    },
    {
     "name": "stderr",
     "output_type": "stream",
     "text": [
      "INFO:root:Listing stix_relations with {type: indicates, from_id: 5f0f09e1-45c0-44ee-8a8c-98206e3ffa7f, to_id: d2f5de38-118b-465f-84ef-5e8f2ba6f138}\n",
      "INFO:root:Reading Report {a216498d-1d4c-4555-a6a5-c62f38300e74}.\n",
      "INFO:root:Adding Stix-Entity {f72fdfe4-9fd8-4b58-835a-eb448127b7db} to Report {a216498d-1d4c-4555-a6a5-c62f38300e74}\n",
      "C:\\ProgramData\\Anaconda3\\lib\\site-packages\\ipykernel_launcher.py:300: DeprecationWarning: Call to deprecated method get_stix_domain_entity. (Replaced by the StixDomainEntity class in pycti) -- Deprecated since version 2.1.0.\n",
      "INFO:root:Reading Stix-Domain-Entity {d1390805-54ba-48b5-b0bd-31a40d5fa5e8}.\n",
      "C:\\ProgramData\\Anaconda3\\lib\\site-packages\\ipykernel_launcher.py:303: DeprecationWarning: Call to deprecated method get_stix_domain_entity. (Replaced by the StixDomainEntity class in pycti) -- Deprecated since version 2.1.0.\n",
      "INFO:root:Reading Stix-Domain-Entity {d2f5de38-118b-465f-84ef-5e8f2ba6f138}.\n"
     ]
    },
    {
     "name": "stdout",
     "output_type": "stream",
     "text": [
      "d1390805-54ba-48b5-b0bd-31a40d5fa5e8\n",
      "d2f5de38-118b-465f-84ef-5e8f2ba6f138\n"
     ]
    },
    {
     "name": "stderr",
     "output_type": "stream",
     "text": [
      "INFO:root:Listing stix_relations with {type: indicates, from_id: d1390805-54ba-48b5-b0bd-31a40d5fa5e8, to_id: d2f5de38-118b-465f-84ef-5e8f2ba6f138}\n",
      "INFO:root:Reading Report {a216498d-1d4c-4555-a6a5-c62f38300e74}.\n",
      "INFO:root:Adding Stix-Entity {5681c93b-03d7-45be-a2c7-4fde4b2287ce} to Report {a216498d-1d4c-4555-a6a5-c62f38300e74}\n",
      "C:\\ProgramData\\Anaconda3\\lib\\site-packages\\ipykernel_launcher.py:300: DeprecationWarning: Call to deprecated method get_stix_domain_entity. (Replaced by the StixDomainEntity class in pycti) -- Deprecated since version 2.1.0.\n",
      "INFO:root:Reading Stix-Domain-Entity {c14ef091-ce29-4a5e-ae6b-fa91488aa07d}.\n",
      "C:\\ProgramData\\Anaconda3\\lib\\site-packages\\ipykernel_launcher.py:303: DeprecationWarning: Call to deprecated method get_stix_domain_entity. (Replaced by the StixDomainEntity class in pycti) -- Deprecated since version 2.1.0.\n",
      "INFO:root:Reading Stix-Domain-Entity {d2f5de38-118b-465f-84ef-5e8f2ba6f138}.\n"
     ]
    },
    {
     "name": "stdout",
     "output_type": "stream",
     "text": [
      "c14ef091-ce29-4a5e-ae6b-fa91488aa07d\n",
      "d2f5de38-118b-465f-84ef-5e8f2ba6f138\n"
     ]
    },
    {
     "name": "stderr",
     "output_type": "stream",
     "text": [
      "INFO:root:Listing stix_relations with {type: indicates, from_id: c14ef091-ce29-4a5e-ae6b-fa91488aa07d, to_id: d2f5de38-118b-465f-84ef-5e8f2ba6f138}\n",
      "INFO:root:Reading Report {a216498d-1d4c-4555-a6a5-c62f38300e74}.\n",
      "INFO:root:Adding Stix-Entity {409c5199-1a6f-401d-b72a-22eab2291d52} to Report {a216498d-1d4c-4555-a6a5-c62f38300e74}\n",
      "C:\\ProgramData\\Anaconda3\\lib\\site-packages\\ipykernel_launcher.py:300: DeprecationWarning: Call to deprecated method get_stix_domain_entity. (Replaced by the StixDomainEntity class in pycti) -- Deprecated since version 2.1.0.\n",
      "INFO:root:Reading Stix-Domain-Entity {f60fefc3-0b8c-43a1-a839-49ac299e9a63}.\n",
      "C:\\ProgramData\\Anaconda3\\lib\\site-packages\\ipykernel_launcher.py:303: DeprecationWarning: Call to deprecated method get_stix_domain_entity. (Replaced by the StixDomainEntity class in pycti) -- Deprecated since version 2.1.0.\n",
      "INFO:root:Reading Stix-Domain-Entity {d2f5de38-118b-465f-84ef-5e8f2ba6f138}.\n"
     ]
    },
    {
     "name": "stdout",
     "output_type": "stream",
     "text": [
      "f60fefc3-0b8c-43a1-a839-49ac299e9a63\n",
      "d2f5de38-118b-465f-84ef-5e8f2ba6f138\n"
     ]
    },
    {
     "name": "stderr",
     "output_type": "stream",
     "text": [
      "INFO:root:Listing stix_relations with {type: indicates, from_id: f60fefc3-0b8c-43a1-a839-49ac299e9a63, to_id: d2f5de38-118b-465f-84ef-5e8f2ba6f138}\n",
      "INFO:root:Reading Report {a216498d-1d4c-4555-a6a5-c62f38300e74}.\n",
      "INFO:root:Adding Stix-Entity {83d3cc63-d1f7-40e0-be94-e6f966276a23} to Report {a216498d-1d4c-4555-a6a5-c62f38300e74}\n",
      "C:\\ProgramData\\Anaconda3\\lib\\site-packages\\ipykernel_launcher.py:300: DeprecationWarning: Call to deprecated method get_stix_domain_entity. (Replaced by the StixDomainEntity class in pycti) -- Deprecated since version 2.1.0.\n",
      "INFO:root:Reading Stix-Domain-Entity {d6794fd7-a683-4328-b97a-7d5a2979ad71}.\n",
      "C:\\ProgramData\\Anaconda3\\lib\\site-packages\\ipykernel_launcher.py:303: DeprecationWarning: Call to deprecated method get_stix_domain_entity. (Replaced by the StixDomainEntity class in pycti) -- Deprecated since version 2.1.0.\n",
      "INFO:root:Reading Stix-Domain-Entity {d2f5de38-118b-465f-84ef-5e8f2ba6f138}.\n"
     ]
    },
    {
     "name": "stdout",
     "output_type": "stream",
     "text": [
      "d6794fd7-a683-4328-b97a-7d5a2979ad71\n",
      "d2f5de38-118b-465f-84ef-5e8f2ba6f138\n"
     ]
    },
    {
     "name": "stderr",
     "output_type": "stream",
     "text": [
      "INFO:root:Listing stix_relations with {type: indicates, from_id: d6794fd7-a683-4328-b97a-7d5a2979ad71, to_id: d2f5de38-118b-465f-84ef-5e8f2ba6f138}\n",
      "INFO:root:Reading Report {a216498d-1d4c-4555-a6a5-c62f38300e74}.\n",
      "INFO:root:Adding Stix-Entity {d55bee79-8293-43b4-89ae-e575d8ec27a5} to Report {a216498d-1d4c-4555-a6a5-c62f38300e74}\n",
      "C:\\ProgramData\\Anaconda3\\lib\\site-packages\\ipykernel_launcher.py:300: DeprecationWarning: Call to deprecated method get_stix_domain_entity. (Replaced by the StixDomainEntity class in pycti) -- Deprecated since version 2.1.0.\n",
      "INFO:root:Reading Stix-Domain-Entity {d2a135dc-423c-4950-9cb6-76702e9643d4}.\n",
      "C:\\ProgramData\\Anaconda3\\lib\\site-packages\\ipykernel_launcher.py:303: DeprecationWarning: Call to deprecated method get_stix_domain_entity. (Replaced by the StixDomainEntity class in pycti) -- Deprecated since version 2.1.0.\n",
      "INFO:root:Reading Stix-Domain-Entity {d2f5de38-118b-465f-84ef-5e8f2ba6f138}.\n"
     ]
    },
    {
     "name": "stdout",
     "output_type": "stream",
     "text": [
      "d2a135dc-423c-4950-9cb6-76702e9643d4\n",
      "d2f5de38-118b-465f-84ef-5e8f2ba6f138\n"
     ]
    },
    {
     "name": "stderr",
     "output_type": "stream",
     "text": [
      "INFO:root:Listing stix_relations with {type: indicates, from_id: d2a135dc-423c-4950-9cb6-76702e9643d4, to_id: d2f5de38-118b-465f-84ef-5e8f2ba6f138}\n",
      "INFO:root:Reading Report {a216498d-1d4c-4555-a6a5-c62f38300e74}.\n",
      "INFO:root:Adding Stix-Entity {0f867eb4-6924-4b56-8894-f051b03b4fe6} to Report {a216498d-1d4c-4555-a6a5-c62f38300e74}\n",
      "C:\\ProgramData\\Anaconda3\\lib\\site-packages\\ipykernel_launcher.py:300: DeprecationWarning: Call to deprecated method get_stix_domain_entity. (Replaced by the StixDomainEntity class in pycti) -- Deprecated since version 2.1.0.\n",
      "INFO:root:Reading Stix-Domain-Entity {73db1ae5-8dcd-41fd-8eab-14c21c2c7744}.\n",
      "C:\\ProgramData\\Anaconda3\\lib\\site-packages\\ipykernel_launcher.py:303: DeprecationWarning: Call to deprecated method get_stix_domain_entity. (Replaced by the StixDomainEntity class in pycti) -- Deprecated since version 2.1.0.\n",
      "INFO:root:Reading Stix-Domain-Entity {d2f5de38-118b-465f-84ef-5e8f2ba6f138}.\n"
     ]
    },
    {
     "name": "stdout",
     "output_type": "stream",
     "text": [
      "73db1ae5-8dcd-41fd-8eab-14c21c2c7744\n",
      "d2f5de38-118b-465f-84ef-5e8f2ba6f138\n"
     ]
    },
    {
     "name": "stderr",
     "output_type": "stream",
     "text": [
      "INFO:root:Listing stix_relations with {type: indicates, from_id: 73db1ae5-8dcd-41fd-8eab-14c21c2c7744, to_id: d2f5de38-118b-465f-84ef-5e8f2ba6f138}\n",
      "INFO:root:Reading Report {a216498d-1d4c-4555-a6a5-c62f38300e74}.\n",
      "INFO:root:Adding Stix-Entity {6e87cb29-1992-4acf-97c1-bc997e62d7d7} to Report {a216498d-1d4c-4555-a6a5-c62f38300e74}\n",
      "C:\\ProgramData\\Anaconda3\\lib\\site-packages\\ipykernel_launcher.py:300: DeprecationWarning: Call to deprecated method get_stix_domain_entity. (Replaced by the StixDomainEntity class in pycti) -- Deprecated since version 2.1.0.\n",
      "INFO:root:Reading Stix-Domain-Entity {f169290a-7cab-4192-845c-4eae91127112}.\n",
      "C:\\ProgramData\\Anaconda3\\lib\\site-packages\\ipykernel_launcher.py:303: DeprecationWarning: Call to deprecated method get_stix_domain_entity. (Replaced by the StixDomainEntity class in pycti) -- Deprecated since version 2.1.0.\n",
      "INFO:root:Reading Stix-Domain-Entity {d2f5de38-118b-465f-84ef-5e8f2ba6f138}.\n"
     ]
    },
    {
     "name": "stdout",
     "output_type": "stream",
     "text": [
      "f169290a-7cab-4192-845c-4eae91127112\n",
      "d2f5de38-118b-465f-84ef-5e8f2ba6f138\n"
     ]
    },
    {
     "name": "stderr",
     "output_type": "stream",
     "text": [
      "INFO:root:Listing stix_relations with {type: indicates, from_id: f169290a-7cab-4192-845c-4eae91127112, to_id: d2f5de38-118b-465f-84ef-5e8f2ba6f138}\n",
      "INFO:root:Reading Report {a216498d-1d4c-4555-a6a5-c62f38300e74}.\n",
      "INFO:root:Adding Stix-Entity {1ee6bb96-971e-4d01-a9c3-52255986af7c} to Report {a216498d-1d4c-4555-a6a5-c62f38300e74}\n",
      "C:\\ProgramData\\Anaconda3\\lib\\site-packages\\ipykernel_launcher.py:300: DeprecationWarning: Call to deprecated method get_stix_domain_entity. (Replaced by the StixDomainEntity class in pycti) -- Deprecated since version 2.1.0.\n",
      "INFO:root:Reading Stix-Domain-Entity {0d314eef-2be6-4ee3-8413-de4dd1684824}.\n",
      "C:\\ProgramData\\Anaconda3\\lib\\site-packages\\ipykernel_launcher.py:303: DeprecationWarning: Call to deprecated method get_stix_domain_entity. (Replaced by the StixDomainEntity class in pycti) -- Deprecated since version 2.1.0.\n",
      "INFO:root:Reading Stix-Domain-Entity {d2f5de38-118b-465f-84ef-5e8f2ba6f138}.\n"
     ]
    },
    {
     "name": "stdout",
     "output_type": "stream",
     "text": [
      "0d314eef-2be6-4ee3-8413-de4dd1684824\n",
      "d2f5de38-118b-465f-84ef-5e8f2ba6f138\n"
     ]
    },
    {
     "name": "stderr",
     "output_type": "stream",
     "text": [
      "INFO:root:Listing stix_relations with {type: indicates, from_id: 0d314eef-2be6-4ee3-8413-de4dd1684824, to_id: d2f5de38-118b-465f-84ef-5e8f2ba6f138}\n",
      "INFO:root:Reading Report {a216498d-1d4c-4555-a6a5-c62f38300e74}.\n",
      "INFO:root:Adding Stix-Entity {2416dcf8-b2b1-45bf-9083-d74478d421d0} to Report {a216498d-1d4c-4555-a6a5-c62f38300e74}\n",
      "C:\\ProgramData\\Anaconda3\\lib\\site-packages\\ipykernel_launcher.py:300: DeprecationWarning: Call to deprecated method get_stix_domain_entity. (Replaced by the StixDomainEntity class in pycti) -- Deprecated since version 2.1.0.\n",
      "INFO:root:Reading Stix-Domain-Entity {b4a5d279-b01e-4bcf-93b0-9c4213dcd4fb}.\n",
      "C:\\ProgramData\\Anaconda3\\lib\\site-packages\\ipykernel_launcher.py:303: DeprecationWarning: Call to deprecated method get_stix_domain_entity. (Replaced by the StixDomainEntity class in pycti) -- Deprecated since version 2.1.0.\n",
      "INFO:root:Reading Stix-Domain-Entity {d2f5de38-118b-465f-84ef-5e8f2ba6f138}.\n"
     ]
    },
    {
     "name": "stdout",
     "output_type": "stream",
     "text": [
      "b4a5d279-b01e-4bcf-93b0-9c4213dcd4fb\n",
      "d2f5de38-118b-465f-84ef-5e8f2ba6f138\n"
     ]
    },
    {
     "name": "stderr",
     "output_type": "stream",
     "text": [
      "INFO:root:Listing stix_relations with {type: indicates, from_id: b4a5d279-b01e-4bcf-93b0-9c4213dcd4fb, to_id: d2f5de38-118b-465f-84ef-5e8f2ba6f138}\n",
      "INFO:root:Reading Report {a216498d-1d4c-4555-a6a5-c62f38300e74}.\n",
      "INFO:root:Adding Stix-Entity {5d02651e-b9ac-4c4e-8154-48dc4c6a825e} to Report {a216498d-1d4c-4555-a6a5-c62f38300e74}\n",
      "C:\\ProgramData\\Anaconda3\\lib\\site-packages\\ipykernel_launcher.py:300: DeprecationWarning: Call to deprecated method get_stix_domain_entity. (Replaced by the StixDomainEntity class in pycti) -- Deprecated since version 2.1.0.\n",
      "INFO:root:Reading Stix-Domain-Entity {9e0ac305-19c5-4cd8-a1df-4cbad45060fb}.\n",
      "C:\\ProgramData\\Anaconda3\\lib\\site-packages\\ipykernel_launcher.py:303: DeprecationWarning: Call to deprecated method get_stix_domain_entity. (Replaced by the StixDomainEntity class in pycti) -- Deprecated since version 2.1.0.\n",
      "INFO:root:Reading Stix-Domain-Entity {d2f5de38-118b-465f-84ef-5e8f2ba6f138}.\n"
     ]
    },
    {
     "name": "stdout",
     "output_type": "stream",
     "text": [
      "9e0ac305-19c5-4cd8-a1df-4cbad45060fb\n",
      "d2f5de38-118b-465f-84ef-5e8f2ba6f138\n"
     ]
    },
    {
     "name": "stderr",
     "output_type": "stream",
     "text": [
      "INFO:root:Listing stix_relations with {type: indicates, from_id: 9e0ac305-19c5-4cd8-a1df-4cbad45060fb, to_id: d2f5de38-118b-465f-84ef-5e8f2ba6f138}\n",
      "INFO:root:Reading Report {a216498d-1d4c-4555-a6a5-c62f38300e74}.\n",
      "INFO:root:Adding Stix-Entity {b8b1ecc5-2e60-401c-a12c-442200082df6} to Report {a216498d-1d4c-4555-a6a5-c62f38300e74}\n",
      "C:\\ProgramData\\Anaconda3\\lib\\site-packages\\ipykernel_launcher.py:300: DeprecationWarning: Call to deprecated method get_stix_domain_entity. (Replaced by the StixDomainEntity class in pycti) -- Deprecated since version 2.1.0.\n",
      "INFO:root:Reading Stix-Domain-Entity {b8a99bc7-7620-4ffc-baf2-41b83a7a7fe8}.\n",
      "C:\\ProgramData\\Anaconda3\\lib\\site-packages\\ipykernel_launcher.py:303: DeprecationWarning: Call to deprecated method get_stix_domain_entity. (Replaced by the StixDomainEntity class in pycti) -- Deprecated since version 2.1.0.\n",
      "INFO:root:Reading Stix-Domain-Entity {d2f5de38-118b-465f-84ef-5e8f2ba6f138}.\n"
     ]
    },
    {
     "name": "stdout",
     "output_type": "stream",
     "text": [
      "b8a99bc7-7620-4ffc-baf2-41b83a7a7fe8\n",
      "d2f5de38-118b-465f-84ef-5e8f2ba6f138\n"
     ]
    },
    {
     "name": "stderr",
     "output_type": "stream",
     "text": [
      "INFO:root:Listing stix_relations with {type: indicates, from_id: b8a99bc7-7620-4ffc-baf2-41b83a7a7fe8, to_id: d2f5de38-118b-465f-84ef-5e8f2ba6f138}\n",
      "INFO:root:Reading Report {a216498d-1d4c-4555-a6a5-c62f38300e74}.\n",
      "INFO:root:Adding Stix-Entity {d83cd1d6-5e22-4862-9a1a-0bb5eb9d3ee5} to Report {a216498d-1d4c-4555-a6a5-c62f38300e74}\n",
      "C:\\ProgramData\\Anaconda3\\lib\\site-packages\\ipykernel_launcher.py:300: DeprecationWarning: Call to deprecated method get_stix_domain_entity. (Replaced by the StixDomainEntity class in pycti) -- Deprecated since version 2.1.0.\n",
      "INFO:root:Reading Stix-Domain-Entity {b21b38eb-f60c-4d2b-8deb-6829143aeff5}.\n",
      "C:\\ProgramData\\Anaconda3\\lib\\site-packages\\ipykernel_launcher.py:303: DeprecationWarning: Call to deprecated method get_stix_domain_entity. (Replaced by the StixDomainEntity class in pycti) -- Deprecated since version 2.1.0.\n",
      "INFO:root:Reading Stix-Domain-Entity {06ef98bc-90d3-44d0-9b31-47dd138daa3d}.\n"
     ]
    },
    {
     "name": "stdout",
     "output_type": "stream",
     "text": [
      "b21b38eb-f60c-4d2b-8deb-6829143aeff5\n",
      "06ef98bc-90d3-44d0-9b31-47dd138daa3d\n"
     ]
    },
    {
     "name": "stderr",
     "output_type": "stream",
     "text": [
      "INFO:root:Listing stix_relations with {type: indicates, from_id: b21b38eb-f60c-4d2b-8deb-6829143aeff5, to_id: 06ef98bc-90d3-44d0-9b31-47dd138daa3d}\n",
      "INFO:root:Reading Report {a216498d-1d4c-4555-a6a5-c62f38300e74}.\n",
      "INFO:root:Adding Stix-Entity {7f83cbda-38ee-4594-8881-985c111586d5} to Report {a216498d-1d4c-4555-a6a5-c62f38300e74}\n",
      "C:\\ProgramData\\Anaconda3\\lib\\site-packages\\ipykernel_launcher.py:300: DeprecationWarning: Call to deprecated method get_stix_domain_entity. (Replaced by the StixDomainEntity class in pycti) -- Deprecated since version 2.1.0.\n",
      "INFO:root:Reading Stix-Domain-Entity {e125ef7f-93e4-4de1-8132-6dc66b82ec70}.\n",
      "C:\\ProgramData\\Anaconda3\\lib\\site-packages\\ipykernel_launcher.py:303: DeprecationWarning: Call to deprecated method get_stix_domain_entity. (Replaced by the StixDomainEntity class in pycti) -- Deprecated since version 2.1.0.\n",
      "INFO:root:Reading Stix-Domain-Entity {06ef98bc-90d3-44d0-9b31-47dd138daa3d}.\n"
     ]
    },
    {
     "name": "stdout",
     "output_type": "stream",
     "text": [
      "e125ef7f-93e4-4de1-8132-6dc66b82ec70\n",
      "06ef98bc-90d3-44d0-9b31-47dd138daa3d\n"
     ]
    },
    {
     "name": "stderr",
     "output_type": "stream",
     "text": [
      "INFO:root:Listing stix_relations with {type: indicates, from_id: e125ef7f-93e4-4de1-8132-6dc66b82ec70, to_id: 06ef98bc-90d3-44d0-9b31-47dd138daa3d}\n",
      "INFO:root:Reading Report {a216498d-1d4c-4555-a6a5-c62f38300e74}.\n",
      "INFO:root:Adding Stix-Entity {b73d8ffc-ea36-4739-a930-11dc5a8a7add} to Report {a216498d-1d4c-4555-a6a5-c62f38300e74}\n",
      "C:\\ProgramData\\Anaconda3\\lib\\site-packages\\ipykernel_launcher.py:300: DeprecationWarning: Call to deprecated method get_stix_domain_entity. (Replaced by the StixDomainEntity class in pycti) -- Deprecated since version 2.1.0.\n",
      "INFO:root:Reading Stix-Domain-Entity {c19b4c16-e9dd-4832-bc18-93aea4d49aa7}.\n",
      "C:\\ProgramData\\Anaconda3\\lib\\site-packages\\ipykernel_launcher.py:303: DeprecationWarning: Call to deprecated method get_stix_domain_entity. (Replaced by the StixDomainEntity class in pycti) -- Deprecated since version 2.1.0.\n",
      "INFO:root:Reading Stix-Domain-Entity {06ef98bc-90d3-44d0-9b31-47dd138daa3d}.\n"
     ]
    },
    {
     "name": "stdout",
     "output_type": "stream",
     "text": [
      "c19b4c16-e9dd-4832-bc18-93aea4d49aa7\n",
      "06ef98bc-90d3-44d0-9b31-47dd138daa3d\n"
     ]
    },
    {
     "name": "stderr",
     "output_type": "stream",
     "text": [
      "INFO:root:Listing stix_relations with {type: indicates, from_id: c19b4c16-e9dd-4832-bc18-93aea4d49aa7, to_id: 06ef98bc-90d3-44d0-9b31-47dd138daa3d}\n",
      "INFO:root:Reading Report {a216498d-1d4c-4555-a6a5-c62f38300e74}.\n",
      "INFO:root:Adding Stix-Entity {3bb03a2d-b8f9-4b4b-8826-17eb7d69c664} to Report {a216498d-1d4c-4555-a6a5-c62f38300e74}\n",
      "C:\\ProgramData\\Anaconda3\\lib\\site-packages\\ipykernel_launcher.py:300: DeprecationWarning: Call to deprecated method get_stix_domain_entity. (Replaced by the StixDomainEntity class in pycti) -- Deprecated since version 2.1.0.\n",
      "INFO:root:Reading Stix-Domain-Entity {f7037649-8909-4abc-b803-a25e68f6c564}.\n",
      "C:\\ProgramData\\Anaconda3\\lib\\site-packages\\ipykernel_launcher.py:303: DeprecationWarning: Call to deprecated method get_stix_domain_entity. (Replaced by the StixDomainEntity class in pycti) -- Deprecated since version 2.1.0.\n",
      "INFO:root:Reading Stix-Domain-Entity {06ef98bc-90d3-44d0-9b31-47dd138daa3d}.\n"
     ]
    },
    {
     "name": "stdout",
     "output_type": "stream",
     "text": [
      "f7037649-8909-4abc-b803-a25e68f6c564\n",
      "06ef98bc-90d3-44d0-9b31-47dd138daa3d\n"
     ]
    },
    {
     "name": "stderr",
     "output_type": "stream",
     "text": [
      "INFO:root:Listing stix_relations with {type: indicates, from_id: f7037649-8909-4abc-b803-a25e68f6c564, to_id: 06ef98bc-90d3-44d0-9b31-47dd138daa3d}\n",
      "INFO:root:Reading Report {a216498d-1d4c-4555-a6a5-c62f38300e74}.\n",
      "INFO:root:Adding Stix-Entity {24d2a1cd-df8b-4e56-8e4c-34dda7ffa51c} to Report {a216498d-1d4c-4555-a6a5-c62f38300e74}\n",
      "C:\\ProgramData\\Anaconda3\\lib\\site-packages\\ipykernel_launcher.py:300: DeprecationWarning: Call to deprecated method get_stix_domain_entity. (Replaced by the StixDomainEntity class in pycti) -- Deprecated since version 2.1.0.\n",
      "INFO:root:Reading Stix-Domain-Entity {9fbfc386-a703-4592-beda-75c0d656f828}.\n",
      "C:\\ProgramData\\Anaconda3\\lib\\site-packages\\ipykernel_launcher.py:303: DeprecationWarning: Call to deprecated method get_stix_domain_entity. (Replaced by the StixDomainEntity class in pycti) -- Deprecated since version 2.1.0.\n",
      "INFO:root:Reading Stix-Domain-Entity {06ef98bc-90d3-44d0-9b31-47dd138daa3d}.\n"
     ]
    },
    {
     "name": "stdout",
     "output_type": "stream",
     "text": [
      "9fbfc386-a703-4592-beda-75c0d656f828\n",
      "06ef98bc-90d3-44d0-9b31-47dd138daa3d\n"
     ]
    },
    {
     "name": "stderr",
     "output_type": "stream",
     "text": [
      "INFO:root:Listing stix_relations with {type: indicates, from_id: 9fbfc386-a703-4592-beda-75c0d656f828, to_id: 06ef98bc-90d3-44d0-9b31-47dd138daa3d}\n",
      "INFO:root:Reading Report {a216498d-1d4c-4555-a6a5-c62f38300e74}.\n",
      "INFO:root:Adding Stix-Entity {411b728c-fcf8-4a86-bd27-57770960794e} to Report {a216498d-1d4c-4555-a6a5-c62f38300e74}\n",
      "C:\\ProgramData\\Anaconda3\\lib\\site-packages\\ipykernel_launcher.py:300: DeprecationWarning: Call to deprecated method get_stix_domain_entity. (Replaced by the StixDomainEntity class in pycti) -- Deprecated since version 2.1.0.\n",
      "INFO:root:Reading Stix-Domain-Entity {e75c4d44-8d8e-4b1c-94ba-d35a361171d9}.\n",
      "C:\\ProgramData\\Anaconda3\\lib\\site-packages\\ipykernel_launcher.py:303: DeprecationWarning: Call to deprecated method get_stix_domain_entity. (Replaced by the StixDomainEntity class in pycti) -- Deprecated since version 2.1.0.\n",
      "INFO:root:Reading Stix-Domain-Entity {06ef98bc-90d3-44d0-9b31-47dd138daa3d}.\n"
     ]
    },
    {
     "name": "stdout",
     "output_type": "stream",
     "text": [
      "e75c4d44-8d8e-4b1c-94ba-d35a361171d9\n",
      "06ef98bc-90d3-44d0-9b31-47dd138daa3d\n"
     ]
    },
    {
     "name": "stderr",
     "output_type": "stream",
     "text": [
      "INFO:root:Listing stix_relations with {type: indicates, from_id: e75c4d44-8d8e-4b1c-94ba-d35a361171d9, to_id: 06ef98bc-90d3-44d0-9b31-47dd138daa3d}\n",
      "INFO:root:Reading Report {a216498d-1d4c-4555-a6a5-c62f38300e74}.\n",
      "INFO:root:Adding Stix-Entity {86539d17-6d79-4b02-941f-bb361cc861de} to Report {a216498d-1d4c-4555-a6a5-c62f38300e74}\n",
      "C:\\ProgramData\\Anaconda3\\lib\\site-packages\\ipykernel_launcher.py:300: DeprecationWarning: Call to deprecated method get_stix_domain_entity. (Replaced by the StixDomainEntity class in pycti) -- Deprecated since version 2.1.0.\n",
      "INFO:root:Reading Stix-Domain-Entity {ab686a82-7b73-4adc-9525-d6cd5808b393}.\n",
      "C:\\ProgramData\\Anaconda3\\lib\\site-packages\\ipykernel_launcher.py:303: DeprecationWarning: Call to deprecated method get_stix_domain_entity. (Replaced by the StixDomainEntity class in pycti) -- Deprecated since version 2.1.0.\n",
      "INFO:root:Reading Stix-Domain-Entity {06ef98bc-90d3-44d0-9b31-47dd138daa3d}.\n"
     ]
    },
    {
     "name": "stdout",
     "output_type": "stream",
     "text": [
      "ab686a82-7b73-4adc-9525-d6cd5808b393\n",
      "06ef98bc-90d3-44d0-9b31-47dd138daa3d\n"
     ]
    },
    {
     "name": "stderr",
     "output_type": "stream",
     "text": [
      "INFO:root:Listing stix_relations with {type: indicates, from_id: ab686a82-7b73-4adc-9525-d6cd5808b393, to_id: 06ef98bc-90d3-44d0-9b31-47dd138daa3d}\n",
      "INFO:root:Reading Report {a216498d-1d4c-4555-a6a5-c62f38300e74}.\n",
      "INFO:root:Adding Stix-Entity {4caad1f6-acbc-4407-a1e7-f33c3d5c8ca9} to Report {a216498d-1d4c-4555-a6a5-c62f38300e74}\n",
      "C:\\ProgramData\\Anaconda3\\lib\\site-packages\\ipykernel_launcher.py:300: DeprecationWarning: Call to deprecated method get_stix_domain_entity. (Replaced by the StixDomainEntity class in pycti) -- Deprecated since version 2.1.0.\n",
      "INFO:root:Reading Stix-Domain-Entity {e97e18c0-1290-4da5-891c-d9ab129ede39}.\n",
      "C:\\ProgramData\\Anaconda3\\lib\\site-packages\\ipykernel_launcher.py:303: DeprecationWarning: Call to deprecated method get_stix_domain_entity. (Replaced by the StixDomainEntity class in pycti) -- Deprecated since version 2.1.0.\n",
      "INFO:root:Reading Stix-Domain-Entity {06ef98bc-90d3-44d0-9b31-47dd138daa3d}.\n"
     ]
    },
    {
     "name": "stdout",
     "output_type": "stream",
     "text": [
      "e97e18c0-1290-4da5-891c-d9ab129ede39\n",
      "06ef98bc-90d3-44d0-9b31-47dd138daa3d\n"
     ]
    },
    {
     "name": "stderr",
     "output_type": "stream",
     "text": [
      "INFO:root:Listing stix_relations with {type: indicates, from_id: e97e18c0-1290-4da5-891c-d9ab129ede39, to_id: 06ef98bc-90d3-44d0-9b31-47dd138daa3d}\n",
      "INFO:root:Reading Report {a216498d-1d4c-4555-a6a5-c62f38300e74}.\n",
      "INFO:root:Adding Stix-Entity {a8a2e8b3-0afb-48a9-b092-92f9ef1beca3} to Report {a216498d-1d4c-4555-a6a5-c62f38300e74}\n",
      "C:\\ProgramData\\Anaconda3\\lib\\site-packages\\ipykernel_launcher.py:300: DeprecationWarning: Call to deprecated method get_stix_domain_entity. (Replaced by the StixDomainEntity class in pycti) -- Deprecated since version 2.1.0.\n",
      "INFO:root:Reading Stix-Domain-Entity {ee63a31c-cfcd-4415-9165-619841035e92}.\n",
      "C:\\ProgramData\\Anaconda3\\lib\\site-packages\\ipykernel_launcher.py:303: DeprecationWarning: Call to deprecated method get_stix_domain_entity. (Replaced by the StixDomainEntity class in pycti) -- Deprecated since version 2.1.0.\n",
      "INFO:root:Reading Stix-Domain-Entity {06ef98bc-90d3-44d0-9b31-47dd138daa3d}.\n"
     ]
    },
    {
     "name": "stdout",
     "output_type": "stream",
     "text": [
      "ee63a31c-cfcd-4415-9165-619841035e92\n",
      "06ef98bc-90d3-44d0-9b31-47dd138daa3d\n"
     ]
    },
    {
     "name": "stderr",
     "output_type": "stream",
     "text": [
      "INFO:root:Listing stix_relations with {type: indicates, from_id: ee63a31c-cfcd-4415-9165-619841035e92, to_id: 06ef98bc-90d3-44d0-9b31-47dd138daa3d}\n",
      "INFO:root:Reading Report {a216498d-1d4c-4555-a6a5-c62f38300e74}.\n",
      "INFO:root:Adding Stix-Entity {82feebc6-9f07-4a91-8c6e-247c2a44734d} to Report {a216498d-1d4c-4555-a6a5-c62f38300e74}\n",
      "C:\\ProgramData\\Anaconda3\\lib\\site-packages\\ipykernel_launcher.py:300: DeprecationWarning: Call to deprecated method get_stix_domain_entity. (Replaced by the StixDomainEntity class in pycti) -- Deprecated since version 2.1.0.\n",
      "INFO:root:Reading Stix-Domain-Entity {feb240d1-3915-4933-8455-d0261a8f8cdd}.\n",
      "C:\\ProgramData\\Anaconda3\\lib\\site-packages\\ipykernel_launcher.py:303: DeprecationWarning: Call to deprecated method get_stix_domain_entity. (Replaced by the StixDomainEntity class in pycti) -- Deprecated since version 2.1.0.\n",
      "INFO:root:Reading Stix-Domain-Entity {06ef98bc-90d3-44d0-9b31-47dd138daa3d}.\n"
     ]
    },
    {
     "name": "stdout",
     "output_type": "stream",
     "text": [
      "feb240d1-3915-4933-8455-d0261a8f8cdd\n",
      "06ef98bc-90d3-44d0-9b31-47dd138daa3d\n"
     ]
    },
    {
     "name": "stderr",
     "output_type": "stream",
     "text": [
      "INFO:root:Listing stix_relations with {type: indicates, from_id: feb240d1-3915-4933-8455-d0261a8f8cdd, to_id: 06ef98bc-90d3-44d0-9b31-47dd138daa3d}\n",
      "INFO:root:Reading Report {a216498d-1d4c-4555-a6a5-c62f38300e74}.\n",
      "INFO:root:Adding Stix-Entity {203bcd76-255c-4512-8fb0-7fdecbc08bc2} to Report {a216498d-1d4c-4555-a6a5-c62f38300e74}\n",
      "C:\\ProgramData\\Anaconda3\\lib\\site-packages\\ipykernel_launcher.py:300: DeprecationWarning: Call to deprecated method get_stix_domain_entity. (Replaced by the StixDomainEntity class in pycti) -- Deprecated since version 2.1.0.\n",
      "INFO:root:Reading Stix-Domain-Entity {0ee26bba-0a8e-4a42-ab37-00289cae0607}.\n",
      "C:\\ProgramData\\Anaconda3\\lib\\site-packages\\ipykernel_launcher.py:303: DeprecationWarning: Call to deprecated method get_stix_domain_entity. (Replaced by the StixDomainEntity class in pycti) -- Deprecated since version 2.1.0.\n",
      "INFO:root:Reading Stix-Domain-Entity {06ef98bc-90d3-44d0-9b31-47dd138daa3d}.\n"
     ]
    },
    {
     "name": "stdout",
     "output_type": "stream",
     "text": [
      "0ee26bba-0a8e-4a42-ab37-00289cae0607\n",
      "06ef98bc-90d3-44d0-9b31-47dd138daa3d\n"
     ]
    },
    {
     "name": "stderr",
     "output_type": "stream",
     "text": [
      "INFO:root:Listing stix_relations with {type: indicates, from_id: 0ee26bba-0a8e-4a42-ab37-00289cae0607, to_id: 06ef98bc-90d3-44d0-9b31-47dd138daa3d}\n",
      "INFO:root:Reading Report {a216498d-1d4c-4555-a6a5-c62f38300e74}.\n",
      "INFO:root:Adding Stix-Entity {1ea022db-7317-4b32-be9a-e60dd10bc56c} to Report {a216498d-1d4c-4555-a6a5-c62f38300e74}\n",
      "C:\\ProgramData\\Anaconda3\\lib\\site-packages\\ipykernel_launcher.py:300: DeprecationWarning: Call to deprecated method get_stix_domain_entity. (Replaced by the StixDomainEntity class in pycti) -- Deprecated since version 2.1.0.\n",
      "INFO:root:Reading Stix-Domain-Entity {c439cea6-2038-4961-ba4c-788857dcb352}.\n",
      "C:\\ProgramData\\Anaconda3\\lib\\site-packages\\ipykernel_launcher.py:303: DeprecationWarning: Call to deprecated method get_stix_domain_entity. (Replaced by the StixDomainEntity class in pycti) -- Deprecated since version 2.1.0.\n",
      "INFO:root:Reading Stix-Domain-Entity {06ef98bc-90d3-44d0-9b31-47dd138daa3d}.\n"
     ]
    },
    {
     "name": "stdout",
     "output_type": "stream",
     "text": [
      "c439cea6-2038-4961-ba4c-788857dcb352\n",
      "06ef98bc-90d3-44d0-9b31-47dd138daa3d\n"
     ]
    },
    {
     "name": "stderr",
     "output_type": "stream",
     "text": [
      "INFO:root:Listing stix_relations with {type: indicates, from_id: c439cea6-2038-4961-ba4c-788857dcb352, to_id: 06ef98bc-90d3-44d0-9b31-47dd138daa3d}\n",
      "INFO:root:Reading Report {a216498d-1d4c-4555-a6a5-c62f38300e74}.\n",
      "INFO:root:Adding Stix-Entity {de75c512-1910-4c27-ad9e-b6c68cb9c11d} to Report {a216498d-1d4c-4555-a6a5-c62f38300e74}\n",
      "C:\\ProgramData\\Anaconda3\\lib\\site-packages\\ipykernel_launcher.py:300: DeprecationWarning: Call to deprecated method get_stix_domain_entity. (Replaced by the StixDomainEntity class in pycti) -- Deprecated since version 2.1.0.\n",
      "INFO:root:Reading Stix-Domain-Entity {0ddad760-fd03-4b50-b20d-fbf6c57bdb2c}.\n",
      "C:\\ProgramData\\Anaconda3\\lib\\site-packages\\ipykernel_launcher.py:303: DeprecationWarning: Call to deprecated method get_stix_domain_entity. (Replaced by the StixDomainEntity class in pycti) -- Deprecated since version 2.1.0.\n",
      "INFO:root:Reading Stix-Domain-Entity {06ef98bc-90d3-44d0-9b31-47dd138daa3d}.\n"
     ]
    },
    {
     "name": "stdout",
     "output_type": "stream",
     "text": [
      "0ddad760-fd03-4b50-b20d-fbf6c57bdb2c\n",
      "06ef98bc-90d3-44d0-9b31-47dd138daa3d\n"
     ]
    },
    {
     "name": "stderr",
     "output_type": "stream",
     "text": [
      "INFO:root:Listing stix_relations with {type: indicates, from_id: 0ddad760-fd03-4b50-b20d-fbf6c57bdb2c, to_id: 06ef98bc-90d3-44d0-9b31-47dd138daa3d}\n",
      "INFO:root:Reading Report {a216498d-1d4c-4555-a6a5-c62f38300e74}.\n",
      "INFO:root:Adding Stix-Entity {c166da35-8759-42ff-9152-1a6c4de13573} to Report {a216498d-1d4c-4555-a6a5-c62f38300e74}\n",
      "C:\\ProgramData\\Anaconda3\\lib\\site-packages\\ipykernel_launcher.py:300: DeprecationWarning: Call to deprecated method get_stix_domain_entity. (Replaced by the StixDomainEntity class in pycti) -- Deprecated since version 2.1.0.\n",
      "INFO:root:Reading Stix-Domain-Entity {5ea14422-c3b4-40c6-959c-52498573c8d8}.\n",
      "C:\\ProgramData\\Anaconda3\\lib\\site-packages\\ipykernel_launcher.py:303: DeprecationWarning: Call to deprecated method get_stix_domain_entity. (Replaced by the StixDomainEntity class in pycti) -- Deprecated since version 2.1.0.\n",
      "INFO:root:Reading Stix-Domain-Entity {06ef98bc-90d3-44d0-9b31-47dd138daa3d}.\n"
     ]
    },
    {
     "name": "stdout",
     "output_type": "stream",
     "text": [
      "5ea14422-c3b4-40c6-959c-52498573c8d8\n",
      "06ef98bc-90d3-44d0-9b31-47dd138daa3d\n"
     ]
    },
    {
     "name": "stderr",
     "output_type": "stream",
     "text": [
      "INFO:root:Listing stix_relations with {type: indicates, from_id: 5ea14422-c3b4-40c6-959c-52498573c8d8, to_id: 06ef98bc-90d3-44d0-9b31-47dd138daa3d}\n",
      "INFO:root:Reading Report {a216498d-1d4c-4555-a6a5-c62f38300e74}.\n",
      "INFO:root:Adding Stix-Entity {863e3e06-da59-4298-92f3-b0009794fe0c} to Report {a216498d-1d4c-4555-a6a5-c62f38300e74}\n",
      "C:\\ProgramData\\Anaconda3\\lib\\site-packages\\ipykernel_launcher.py:300: DeprecationWarning: Call to deprecated method get_stix_domain_entity. (Replaced by the StixDomainEntity class in pycti) -- Deprecated since version 2.1.0.\n",
      "INFO:root:Reading Stix-Domain-Entity {eb06b5a9-ead0-4f6a-93e1-74cf6a8a2921}.\n",
      "C:\\ProgramData\\Anaconda3\\lib\\site-packages\\ipykernel_launcher.py:303: DeprecationWarning: Call to deprecated method get_stix_domain_entity. (Replaced by the StixDomainEntity class in pycti) -- Deprecated since version 2.1.0.\n",
      "INFO:root:Reading Stix-Domain-Entity {06ef98bc-90d3-44d0-9b31-47dd138daa3d}.\n"
     ]
    },
    {
     "name": "stdout",
     "output_type": "stream",
     "text": [
      "eb06b5a9-ead0-4f6a-93e1-74cf6a8a2921\n",
      "06ef98bc-90d3-44d0-9b31-47dd138daa3d\n"
     ]
    },
    {
     "name": "stderr",
     "output_type": "stream",
     "text": [
      "INFO:root:Listing stix_relations with {type: indicates, from_id: eb06b5a9-ead0-4f6a-93e1-74cf6a8a2921, to_id: 06ef98bc-90d3-44d0-9b31-47dd138daa3d}\n",
      "INFO:root:Reading Report {a216498d-1d4c-4555-a6a5-c62f38300e74}.\n",
      "INFO:root:Adding Stix-Entity {9ea63276-078e-41eb-a456-54ee2a6cb464} to Report {a216498d-1d4c-4555-a6a5-c62f38300e74}\n",
      "C:\\ProgramData\\Anaconda3\\lib\\site-packages\\ipykernel_launcher.py:300: DeprecationWarning: Call to deprecated method get_stix_domain_entity. (Replaced by the StixDomainEntity class in pycti) -- Deprecated since version 2.1.0.\n",
      "INFO:root:Reading Stix-Domain-Entity {426f632c-899e-4cc2-b6cb-9d368e7f7920}.\n",
      "C:\\ProgramData\\Anaconda3\\lib\\site-packages\\ipykernel_launcher.py:303: DeprecationWarning: Call to deprecated method get_stix_domain_entity. (Replaced by the StixDomainEntity class in pycti) -- Deprecated since version 2.1.0.\n",
      "INFO:root:Reading Stix-Domain-Entity {06ef98bc-90d3-44d0-9b31-47dd138daa3d}.\n"
     ]
    },
    {
     "name": "stdout",
     "output_type": "stream",
     "text": [
      "426f632c-899e-4cc2-b6cb-9d368e7f7920\n",
      "06ef98bc-90d3-44d0-9b31-47dd138daa3d\n"
     ]
    },
    {
     "name": "stderr",
     "output_type": "stream",
     "text": [
      "INFO:root:Listing stix_relations with {type: indicates, from_id: 426f632c-899e-4cc2-b6cb-9d368e7f7920, to_id: 06ef98bc-90d3-44d0-9b31-47dd138daa3d}\n",
      "INFO:root:Reading Report {a216498d-1d4c-4555-a6a5-c62f38300e74}.\n",
      "INFO:root:Adding Stix-Entity {345dbea4-1115-4811-b184-99a1e73cb64e} to Report {a216498d-1d4c-4555-a6a5-c62f38300e74}\n",
      "C:\\ProgramData\\Anaconda3\\lib\\site-packages\\ipykernel_launcher.py:300: DeprecationWarning: Call to deprecated method get_stix_domain_entity. (Replaced by the StixDomainEntity class in pycti) -- Deprecated since version 2.1.0.\n",
      "INFO:root:Reading Stix-Domain-Entity {4e8df8d4-569d-4dc2-9bde-4358c5cd20fe}.\n",
      "C:\\ProgramData\\Anaconda3\\lib\\site-packages\\ipykernel_launcher.py:303: DeprecationWarning: Call to deprecated method get_stix_domain_entity. (Replaced by the StixDomainEntity class in pycti) -- Deprecated since version 2.1.0.\n",
      "INFO:root:Reading Stix-Domain-Entity {06ef98bc-90d3-44d0-9b31-47dd138daa3d}.\n"
     ]
    },
    {
     "name": "stdout",
     "output_type": "stream",
     "text": [
      "4e8df8d4-569d-4dc2-9bde-4358c5cd20fe\n",
      "06ef98bc-90d3-44d0-9b31-47dd138daa3d\n"
     ]
    },
    {
     "name": "stderr",
     "output_type": "stream",
     "text": [
      "INFO:root:Listing stix_relations with {type: indicates, from_id: 4e8df8d4-569d-4dc2-9bde-4358c5cd20fe, to_id: 06ef98bc-90d3-44d0-9b31-47dd138daa3d}\n",
      "INFO:root:Reading Report {a216498d-1d4c-4555-a6a5-c62f38300e74}.\n",
      "INFO:root:Adding Stix-Entity {797e130a-1a74-43d9-ba08-19d58da7e14f} to Report {a216498d-1d4c-4555-a6a5-c62f38300e74}\n",
      "C:\\ProgramData\\Anaconda3\\lib\\site-packages\\ipykernel_launcher.py:300: DeprecationWarning: Call to deprecated method get_stix_domain_entity. (Replaced by the StixDomainEntity class in pycti) -- Deprecated since version 2.1.0.\n",
      "INFO:root:Reading Stix-Domain-Entity {ad1b5d92-8cfb-4dfe-95bf-746cde9036f4}.\n",
      "C:\\ProgramData\\Anaconda3\\lib\\site-packages\\ipykernel_launcher.py:303: DeprecationWarning: Call to deprecated method get_stix_domain_entity. (Replaced by the StixDomainEntity class in pycti) -- Deprecated since version 2.1.0.\n",
      "INFO:root:Reading Stix-Domain-Entity {9fa5e609-537d-483a-98fe-f463e405df11}.\n"
     ]
    },
    {
     "name": "stdout",
     "output_type": "stream",
     "text": [
      "ad1b5d92-8cfb-4dfe-95bf-746cde9036f4\n",
      "9fa5e609-537d-483a-98fe-f463e405df11\n"
     ]
    },
    {
     "name": "stderr",
     "output_type": "stream",
     "text": [
      "INFO:root:Listing stix_relations with {type: indicates, from_id: ad1b5d92-8cfb-4dfe-95bf-746cde9036f4, to_id: 9fa5e609-537d-483a-98fe-f463e405df11}\n",
      "INFO:root:Reading Report {a216498d-1d4c-4555-a6a5-c62f38300e74}.\n",
      "INFO:root:Adding Stix-Entity {fca7f806-bb20-4963-9ee8-b57268d9c86e} to Report {a216498d-1d4c-4555-a6a5-c62f38300e74}\n",
      "C:\\ProgramData\\Anaconda3\\lib\\site-packages\\ipykernel_launcher.py:300: DeprecationWarning: Call to deprecated method get_stix_domain_entity. (Replaced by the StixDomainEntity class in pycti) -- Deprecated since version 2.1.0.\n",
      "INFO:root:Reading Stix-Domain-Entity {8837f219-8346-4475-8dad-d7dbd65fa693}.\n",
      "C:\\ProgramData\\Anaconda3\\lib\\site-packages\\ipykernel_launcher.py:303: DeprecationWarning: Call to deprecated method get_stix_domain_entity. (Replaced by the StixDomainEntity class in pycti) -- Deprecated since version 2.1.0.\n",
      "INFO:root:Reading Stix-Domain-Entity {9fa5e609-537d-483a-98fe-f463e405df11}.\n"
     ]
    },
    {
     "name": "stdout",
     "output_type": "stream",
     "text": [
      "8837f219-8346-4475-8dad-d7dbd65fa693\n",
      "9fa5e609-537d-483a-98fe-f463e405df11\n"
     ]
    },
    {
     "name": "stderr",
     "output_type": "stream",
     "text": [
      "INFO:root:Listing stix_relations with {type: indicates, from_id: 8837f219-8346-4475-8dad-d7dbd65fa693, to_id: 9fa5e609-537d-483a-98fe-f463e405df11}\n",
      "INFO:root:Reading Report {a216498d-1d4c-4555-a6a5-c62f38300e74}.\n",
      "INFO:root:Adding Stix-Entity {2f3f9863-0fc8-4b86-a9f8-338fb9dfad50} to Report {a216498d-1d4c-4555-a6a5-c62f38300e74}\n",
      "C:\\ProgramData\\Anaconda3\\lib\\site-packages\\ipykernel_launcher.py:300: DeprecationWarning: Call to deprecated method get_stix_domain_entity. (Replaced by the StixDomainEntity class in pycti) -- Deprecated since version 2.1.0.\n",
      "INFO:root:Reading Stix-Domain-Entity {b68c14a7-1ab1-4c47-9c47-086886522f2e}.\n",
      "C:\\ProgramData\\Anaconda3\\lib\\site-packages\\ipykernel_launcher.py:303: DeprecationWarning: Call to deprecated method get_stix_domain_entity. (Replaced by the StixDomainEntity class in pycti) -- Deprecated since version 2.1.0.\n",
      "INFO:root:Reading Stix-Domain-Entity {9fa5e609-537d-483a-98fe-f463e405df11}.\n"
     ]
    },
    {
     "name": "stdout",
     "output_type": "stream",
     "text": [
      "b68c14a7-1ab1-4c47-9c47-086886522f2e\n",
      "9fa5e609-537d-483a-98fe-f463e405df11\n"
     ]
    },
    {
     "name": "stderr",
     "output_type": "stream",
     "text": [
      "INFO:root:Listing stix_relations with {type: indicates, from_id: b68c14a7-1ab1-4c47-9c47-086886522f2e, to_id: 9fa5e609-537d-483a-98fe-f463e405df11}\n",
      "INFO:root:Reading Report {a216498d-1d4c-4555-a6a5-c62f38300e74}.\n",
      "INFO:root:Adding Stix-Entity {8a2a3018-4d4b-47a1-a16e-84f1948d15c2} to Report {a216498d-1d4c-4555-a6a5-c62f38300e74}\n",
      "C:\\ProgramData\\Anaconda3\\lib\\site-packages\\ipykernel_launcher.py:300: DeprecationWarning: Call to deprecated method get_stix_domain_entity. (Replaced by the StixDomainEntity class in pycti) -- Deprecated since version 2.1.0.\n",
      "INFO:root:Reading Stix-Domain-Entity {0db02c4d-fd35-4efa-bc7a-a3f3fdf9f01f}.\n",
      "C:\\ProgramData\\Anaconda3\\lib\\site-packages\\ipykernel_launcher.py:303: DeprecationWarning: Call to deprecated method get_stix_domain_entity. (Replaced by the StixDomainEntity class in pycti) -- Deprecated since version 2.1.0.\n",
      "INFO:root:Reading Stix-Domain-Entity {9fa5e609-537d-483a-98fe-f463e405df11}.\n"
     ]
    },
    {
     "name": "stdout",
     "output_type": "stream",
     "text": [
      "0db02c4d-fd35-4efa-bc7a-a3f3fdf9f01f\n",
      "9fa5e609-537d-483a-98fe-f463e405df11\n"
     ]
    },
    {
     "name": "stderr",
     "output_type": "stream",
     "text": [
      "INFO:root:Listing stix_relations with {type: indicates, from_id: 0db02c4d-fd35-4efa-bc7a-a3f3fdf9f01f, to_id: 9fa5e609-537d-483a-98fe-f463e405df11}\n",
      "INFO:root:Reading Report {a216498d-1d4c-4555-a6a5-c62f38300e74}.\n",
      "INFO:root:Adding Stix-Entity {e012c855-128a-4a8f-8143-3cf6d2906ab9} to Report {a216498d-1d4c-4555-a6a5-c62f38300e74}\n",
      "C:\\ProgramData\\Anaconda3\\lib\\site-packages\\ipykernel_launcher.py:300: DeprecationWarning: Call to deprecated method get_stix_domain_entity. (Replaced by the StixDomainEntity class in pycti) -- Deprecated since version 2.1.0.\n",
      "INFO:root:Reading Stix-Domain-Entity {adf56d7d-98be-45bd-8c46-9d879e5d5aae}.\n",
      "C:\\ProgramData\\Anaconda3\\lib\\site-packages\\ipykernel_launcher.py:303: DeprecationWarning: Call to deprecated method get_stix_domain_entity. (Replaced by the StixDomainEntity class in pycti) -- Deprecated since version 2.1.0.\n",
      "INFO:root:Reading Stix-Domain-Entity {9fa5e609-537d-483a-98fe-f463e405df11}.\n"
     ]
    },
    {
     "name": "stdout",
     "output_type": "stream",
     "text": [
      "adf56d7d-98be-45bd-8c46-9d879e5d5aae\n",
      "9fa5e609-537d-483a-98fe-f463e405df11\n"
     ]
    },
    {
     "name": "stderr",
     "output_type": "stream",
     "text": [
      "INFO:root:Listing stix_relations with {type: indicates, from_id: adf56d7d-98be-45bd-8c46-9d879e5d5aae, to_id: 9fa5e609-537d-483a-98fe-f463e405df11}\n",
      "INFO:root:Reading Report {a216498d-1d4c-4555-a6a5-c62f38300e74}.\n",
      "INFO:root:Adding Stix-Entity {270e25f4-9f3f-4922-8cee-0ba441086aa9} to Report {a216498d-1d4c-4555-a6a5-c62f38300e74}\n",
      "C:\\ProgramData\\Anaconda3\\lib\\site-packages\\ipykernel_launcher.py:300: DeprecationWarning: Call to deprecated method get_stix_domain_entity. (Replaced by the StixDomainEntity class in pycti) -- Deprecated since version 2.1.0.\n",
      "INFO:root:Reading Stix-Domain-Entity {ed4507bb-1469-41a2-90bc-a8a71e1cef6f}.\n",
      "C:\\ProgramData\\Anaconda3\\lib\\site-packages\\ipykernel_launcher.py:303: DeprecationWarning: Call to deprecated method get_stix_domain_entity. (Replaced by the StixDomainEntity class in pycti) -- Deprecated since version 2.1.0.\n",
      "INFO:root:Reading Stix-Domain-Entity {9fa5e609-537d-483a-98fe-f463e405df11}.\n"
     ]
    },
    {
     "name": "stdout",
     "output_type": "stream",
     "text": [
      "ed4507bb-1469-41a2-90bc-a8a71e1cef6f\n",
      "9fa5e609-537d-483a-98fe-f463e405df11\n"
     ]
    },
    {
     "name": "stderr",
     "output_type": "stream",
     "text": [
      "INFO:root:Listing stix_relations with {type: indicates, from_id: ed4507bb-1469-41a2-90bc-a8a71e1cef6f, to_id: 9fa5e609-537d-483a-98fe-f463e405df11}\n",
      "INFO:root:Reading Report {a216498d-1d4c-4555-a6a5-c62f38300e74}.\n",
      "INFO:root:Adding Stix-Entity {a28b14e4-784f-42e3-8c2f-1998b2c42cb2} to Report {a216498d-1d4c-4555-a6a5-c62f38300e74}\n",
      "C:\\ProgramData\\Anaconda3\\lib\\site-packages\\ipykernel_launcher.py:300: DeprecationWarning: Call to deprecated method get_stix_domain_entity. (Replaced by the StixDomainEntity class in pycti) -- Deprecated since version 2.1.0.\n",
      "INFO:root:Reading Stix-Domain-Entity {8837f219-8346-4475-8dad-d7dbd65fa693}.\n",
      "C:\\ProgramData\\Anaconda3\\lib\\site-packages\\ipykernel_launcher.py:303: DeprecationWarning: Call to deprecated method get_stix_domain_entity. (Replaced by the StixDomainEntity class in pycti) -- Deprecated since version 2.1.0.\n",
      "INFO:root:Reading Stix-Domain-Entity {9fa5e609-537d-483a-98fe-f463e405df11}.\n"
     ]
    },
    {
     "name": "stdout",
     "output_type": "stream",
     "text": [
      "8837f219-8346-4475-8dad-d7dbd65fa693\n",
      "9fa5e609-537d-483a-98fe-f463e405df11\n"
     ]
    },
    {
     "name": "stderr",
     "output_type": "stream",
     "text": [
      "INFO:root:Listing stix_relations with {type: indicates, from_id: 8837f219-8346-4475-8dad-d7dbd65fa693, to_id: 9fa5e609-537d-483a-98fe-f463e405df11}\n",
      "INFO:root:Reading Report {a216498d-1d4c-4555-a6a5-c62f38300e74}.\n",
      "INFO:root:Adding Stix-Entity {2f3f9863-0fc8-4b86-a9f8-338fb9dfad50} to Report {a216498d-1d4c-4555-a6a5-c62f38300e74}\n",
      "ERROR:root:A database error has occured!\n",
      "C:\\ProgramData\\Anaconda3\\lib\\site-packages\\ipykernel_launcher.py:300: DeprecationWarning: Call to deprecated method get_stix_domain_entity. (Replaced by the StixDomainEntity class in pycti) -- Deprecated since version 2.1.0.\n",
      "INFO:root:Reading Stix-Domain-Entity {7c52a80f-7ab3-4a4f-b2aa-278471c95565}.\n",
      "C:\\ProgramData\\Anaconda3\\lib\\site-packages\\ipykernel_launcher.py:303: DeprecationWarning: Call to deprecated method get_stix_domain_entity. (Replaced by the StixDomainEntity class in pycti) -- Deprecated since version 2.1.0.\n",
      "INFO:root:Reading Stix-Domain-Entity {9fa5e609-537d-483a-98fe-f463e405df11}.\n"
     ]
    },
    {
     "name": "stdout",
     "output_type": "stream",
     "text": [
      "7c52a80f-7ab3-4a4f-b2aa-278471c95565\n",
      "9fa5e609-537d-483a-98fe-f463e405df11\n"
     ]
    },
    {
     "name": "stderr",
     "output_type": "stream",
     "text": [
      "INFO:root:Listing stix_relations with {type: indicates, from_id: 7c52a80f-7ab3-4a4f-b2aa-278471c95565, to_id: 9fa5e609-537d-483a-98fe-f463e405df11}\n",
      "INFO:root:Reading Report {a216498d-1d4c-4555-a6a5-c62f38300e74}.\n",
      "INFO:root:Adding Stix-Entity {8adeb5b0-b5ed-4686-ba86-ffc9f500c2a5} to Report {a216498d-1d4c-4555-a6a5-c62f38300e74}\n",
      "C:\\ProgramData\\Anaconda3\\lib\\site-packages\\ipykernel_launcher.py:300: DeprecationWarning: Call to deprecated method get_stix_domain_entity. (Replaced by the StixDomainEntity class in pycti) -- Deprecated since version 2.1.0.\n",
      "INFO:root:Reading Stix-Domain-Entity {ad1b5d92-8cfb-4dfe-95bf-746cde9036f4}.\n",
      "C:\\ProgramData\\Anaconda3\\lib\\site-packages\\ipykernel_launcher.py:303: DeprecationWarning: Call to deprecated method get_stix_domain_entity. (Replaced by the StixDomainEntity class in pycti) -- Deprecated since version 2.1.0.\n",
      "INFO:root:Reading Stix-Domain-Entity {9fa5e609-537d-483a-98fe-f463e405df11}.\n"
     ]
    },
    {
     "name": "stdout",
     "output_type": "stream",
     "text": [
      "ad1b5d92-8cfb-4dfe-95bf-746cde9036f4\n",
      "9fa5e609-537d-483a-98fe-f463e405df11\n"
     ]
    },
    {
     "name": "stderr",
     "output_type": "stream",
     "text": [
      "INFO:root:Listing stix_relations with {type: indicates, from_id: ad1b5d92-8cfb-4dfe-95bf-746cde9036f4, to_id: 9fa5e609-537d-483a-98fe-f463e405df11}\n",
      "INFO:root:Reading Report {a216498d-1d4c-4555-a6a5-c62f38300e74}.\n",
      "INFO:root:Adding Stix-Entity {fca7f806-bb20-4963-9ee8-b57268d9c86e} to Report {a216498d-1d4c-4555-a6a5-c62f38300e74}\n",
      "ERROR:root:A database error has occured!\n",
      "C:\\ProgramData\\Anaconda3\\lib\\site-packages\\ipykernel_launcher.py:300: DeprecationWarning: Call to deprecated method get_stix_domain_entity. (Replaced by the StixDomainEntity class in pycti) -- Deprecated since version 2.1.0.\n",
      "INFO:root:Reading Stix-Domain-Entity {4b5d8be0-5a7e-44a7-a011-abde3eee3b52}.\n",
      "C:\\ProgramData\\Anaconda3\\lib\\site-packages\\ipykernel_launcher.py:303: DeprecationWarning: Call to deprecated method get_stix_domain_entity. (Replaced by the StixDomainEntity class in pycti) -- Deprecated since version 2.1.0.\n",
      "INFO:root:Reading Stix-Domain-Entity {9fa5e609-537d-483a-98fe-f463e405df11}.\n"
     ]
    },
    {
     "name": "stdout",
     "output_type": "stream",
     "text": [
      "4b5d8be0-5a7e-44a7-a011-abde3eee3b52\n",
      "9fa5e609-537d-483a-98fe-f463e405df11\n"
     ]
    },
    {
     "name": "stderr",
     "output_type": "stream",
     "text": [
      "INFO:root:Listing stix_relations with {type: indicates, from_id: 4b5d8be0-5a7e-44a7-a011-abde3eee3b52, to_id: 9fa5e609-537d-483a-98fe-f463e405df11}\n",
      "INFO:root:Reading Report {a216498d-1d4c-4555-a6a5-c62f38300e74}.\n",
      "INFO:root:Adding Stix-Entity {931e324e-37f1-45b9-9a02-ae50b309d6d4} to Report {a216498d-1d4c-4555-a6a5-c62f38300e74}\n",
      "C:\\ProgramData\\Anaconda3\\lib\\site-packages\\ipykernel_launcher.py:300: DeprecationWarning: Call to deprecated method get_stix_domain_entity. (Replaced by the StixDomainEntity class in pycti) -- Deprecated since version 2.1.0.\n",
      "INFO:root:Reading Stix-Domain-Entity {aee87195-ccd7-4e4e-8efa-c42f94d1791b}.\n",
      "C:\\ProgramData\\Anaconda3\\lib\\site-packages\\ipykernel_launcher.py:303: DeprecationWarning: Call to deprecated method get_stix_domain_entity. (Replaced by the StixDomainEntity class in pycti) -- Deprecated since version 2.1.0.\n",
      "INFO:root:Reading Stix-Domain-Entity {9fa5e609-537d-483a-98fe-f463e405df11}.\n"
     ]
    },
    {
     "name": "stdout",
     "output_type": "stream",
     "text": [
      "aee87195-ccd7-4e4e-8efa-c42f94d1791b\n",
      "9fa5e609-537d-483a-98fe-f463e405df11\n"
     ]
    },
    {
     "name": "stderr",
     "output_type": "stream",
     "text": [
      "INFO:root:Listing stix_relations with {type: indicates, from_id: aee87195-ccd7-4e4e-8efa-c42f94d1791b, to_id: 9fa5e609-537d-483a-98fe-f463e405df11}\n",
      "INFO:root:Reading Report {a216498d-1d4c-4555-a6a5-c62f38300e74}.\n",
      "INFO:root:Adding Stix-Entity {2acfa473-5def-4e3e-ac33-677b779d11b7} to Report {a216498d-1d4c-4555-a6a5-c62f38300e74}\n",
      "C:\\ProgramData\\Anaconda3\\lib\\site-packages\\ipykernel_launcher.py:300: DeprecationWarning: Call to deprecated method get_stix_domain_entity. (Replaced by the StixDomainEntity class in pycti) -- Deprecated since version 2.1.0.\n",
      "INFO:root:Reading Stix-Domain-Entity {f87e99b2-bb39-494f-909b-3f0133b1e724}.\n",
      "C:\\ProgramData\\Anaconda3\\lib\\site-packages\\ipykernel_launcher.py:303: DeprecationWarning: Call to deprecated method get_stix_domain_entity. (Replaced by the StixDomainEntity class in pycti) -- Deprecated since version 2.1.0.\n",
      "INFO:root:Reading Stix-Domain-Entity {d380cf57-9810-438b-bb25-a652aaca9ab2}.\n"
     ]
    },
    {
     "name": "stdout",
     "output_type": "stream",
     "text": [
      "f87e99b2-bb39-494f-909b-3f0133b1e724\n",
      "d380cf57-9810-438b-bb25-a652aaca9ab2\n"
     ]
    },
    {
     "name": "stderr",
     "output_type": "stream",
     "text": [
      "INFO:root:Listing stix_relations with {type: indicates, from_id: f87e99b2-bb39-494f-909b-3f0133b1e724, to_id: d380cf57-9810-438b-bb25-a652aaca9ab2}\n",
      "INFO:root:Reading Report {a216498d-1d4c-4555-a6a5-c62f38300e74}.\n",
      "INFO:root:Adding Stix-Entity {9e6984b2-9377-41bb-9c48-89251e84e314} to Report {a216498d-1d4c-4555-a6a5-c62f38300e74}\n",
      "C:\\ProgramData\\Anaconda3\\lib\\site-packages\\ipykernel_launcher.py:300: DeprecationWarning: Call to deprecated method get_stix_domain_entity. (Replaced by the StixDomainEntity class in pycti) -- Deprecated since version 2.1.0.\n",
      "INFO:root:Reading Stix-Domain-Entity {b28e37e7-654e-4ffd-aae5-c1fc7b6110c6}.\n",
      "C:\\ProgramData\\Anaconda3\\lib\\site-packages\\ipykernel_launcher.py:303: DeprecationWarning: Call to deprecated method get_stix_domain_entity. (Replaced by the StixDomainEntity class in pycti) -- Deprecated since version 2.1.0.\n",
      "INFO:root:Reading Stix-Domain-Entity {d380cf57-9810-438b-bb25-a652aaca9ab2}.\n"
     ]
    },
    {
     "name": "stdout",
     "output_type": "stream",
     "text": [
      "b28e37e7-654e-4ffd-aae5-c1fc7b6110c6\n",
      "d380cf57-9810-438b-bb25-a652aaca9ab2\n"
     ]
    },
    {
     "name": "stderr",
     "output_type": "stream",
     "text": [
      "INFO:root:Listing stix_relations with {type: indicates, from_id: b28e37e7-654e-4ffd-aae5-c1fc7b6110c6, to_id: d380cf57-9810-438b-bb25-a652aaca9ab2}\n",
      "INFO:root:Reading Report {a216498d-1d4c-4555-a6a5-c62f38300e74}.\n",
      "INFO:root:Adding Stix-Entity {7a0ba1df-6b76-441c-8ff3-6699694f9d9a} to Report {a216498d-1d4c-4555-a6a5-c62f38300e74}\n",
      "C:\\ProgramData\\Anaconda3\\lib\\site-packages\\ipykernel_launcher.py:300: DeprecationWarning: Call to deprecated method get_stix_domain_entity. (Replaced by the StixDomainEntity class in pycti) -- Deprecated since version 2.1.0.\n",
      "INFO:root:Reading Stix-Domain-Entity {d73b7575-5b15-4d15-aa8d-61d25afeb66f}.\n",
      "C:\\ProgramData\\Anaconda3\\lib\\site-packages\\ipykernel_launcher.py:303: DeprecationWarning: Call to deprecated method get_stix_domain_entity. (Replaced by the StixDomainEntity class in pycti) -- Deprecated since version 2.1.0.\n",
      "INFO:root:Reading Stix-Domain-Entity {d380cf57-9810-438b-bb25-a652aaca9ab2}.\n"
     ]
    },
    {
     "name": "stdout",
     "output_type": "stream",
     "text": [
      "d73b7575-5b15-4d15-aa8d-61d25afeb66f\n",
      "d380cf57-9810-438b-bb25-a652aaca9ab2\n"
     ]
    },
    {
     "name": "stderr",
     "output_type": "stream",
     "text": [
      "INFO:root:Listing stix_relations with {type: indicates, from_id: d73b7575-5b15-4d15-aa8d-61d25afeb66f, to_id: d380cf57-9810-438b-bb25-a652aaca9ab2}\n",
      "INFO:root:Reading Report {a216498d-1d4c-4555-a6a5-c62f38300e74}.\n",
      "INFO:root:Adding Stix-Entity {e99a913a-645b-4c9a-aa45-00d784b91bc9} to Report {a216498d-1d4c-4555-a6a5-c62f38300e74}\n",
      "C:\\ProgramData\\Anaconda3\\lib\\site-packages\\ipykernel_launcher.py:300: DeprecationWarning: Call to deprecated method get_stix_domain_entity. (Replaced by the StixDomainEntity class in pycti) -- Deprecated since version 2.1.0.\n",
      "INFO:root:Reading Stix-Domain-Entity {5f0f09e1-45c0-44ee-8a8c-98206e3ffa7f}.\n",
      "C:\\ProgramData\\Anaconda3\\lib\\site-packages\\ipykernel_launcher.py:303: DeprecationWarning: Call to deprecated method get_stix_domain_entity. (Replaced by the StixDomainEntity class in pycti) -- Deprecated since version 2.1.0.\n",
      "INFO:root:Reading Stix-Domain-Entity {d380cf57-9810-438b-bb25-a652aaca9ab2}.\n"
     ]
    },
    {
     "name": "stdout",
     "output_type": "stream",
     "text": [
      "5f0f09e1-45c0-44ee-8a8c-98206e3ffa7f\n",
      "d380cf57-9810-438b-bb25-a652aaca9ab2\n"
     ]
    },
    {
     "name": "stderr",
     "output_type": "stream",
     "text": [
      "INFO:root:Listing stix_relations with {type: indicates, from_id: 5f0f09e1-45c0-44ee-8a8c-98206e3ffa7f, to_id: d380cf57-9810-438b-bb25-a652aaca9ab2}\n",
      "INFO:root:Reading Report {a216498d-1d4c-4555-a6a5-c62f38300e74}.\n",
      "INFO:root:Adding Stix-Entity {12a32e9d-86fb-4055-9675-0d7e2f6cea2d} to Report {a216498d-1d4c-4555-a6a5-c62f38300e74}\n",
      "C:\\ProgramData\\Anaconda3\\lib\\site-packages\\ipykernel_launcher.py:300: DeprecationWarning: Call to deprecated method get_stix_domain_entity. (Replaced by the StixDomainEntity class in pycti) -- Deprecated since version 2.1.0.\n",
      "INFO:root:Reading Stix-Domain-Entity {d1390805-54ba-48b5-b0bd-31a40d5fa5e8}.\n",
      "C:\\ProgramData\\Anaconda3\\lib\\site-packages\\ipykernel_launcher.py:303: DeprecationWarning: Call to deprecated method get_stix_domain_entity. (Replaced by the StixDomainEntity class in pycti) -- Deprecated since version 2.1.0.\n",
      "INFO:root:Reading Stix-Domain-Entity {d380cf57-9810-438b-bb25-a652aaca9ab2}.\n"
     ]
    },
    {
     "name": "stdout",
     "output_type": "stream",
     "text": [
      "d1390805-54ba-48b5-b0bd-31a40d5fa5e8\n",
      "d380cf57-9810-438b-bb25-a652aaca9ab2\n"
     ]
    },
    {
     "name": "stderr",
     "output_type": "stream",
     "text": [
      "INFO:root:Listing stix_relations with {type: indicates, from_id: d1390805-54ba-48b5-b0bd-31a40d5fa5e8, to_id: d380cf57-9810-438b-bb25-a652aaca9ab2}\n",
      "INFO:root:Reading Report {a216498d-1d4c-4555-a6a5-c62f38300e74}.\n",
      "INFO:root:Adding Stix-Entity {e2e412cb-cc2d-4ef4-93d4-db82ffcd8755} to Report {a216498d-1d4c-4555-a6a5-c62f38300e74}\n",
      "C:\\ProgramData\\Anaconda3\\lib\\site-packages\\ipykernel_launcher.py:300: DeprecationWarning: Call to deprecated method get_stix_domain_entity. (Replaced by the StixDomainEntity class in pycti) -- Deprecated since version 2.1.0.\n",
      "INFO:root:Reading Stix-Domain-Entity {c14ef091-ce29-4a5e-ae6b-fa91488aa07d}.\n",
      "C:\\ProgramData\\Anaconda3\\lib\\site-packages\\ipykernel_launcher.py:303: DeprecationWarning: Call to deprecated method get_stix_domain_entity. (Replaced by the StixDomainEntity class in pycti) -- Deprecated since version 2.1.0.\n",
      "INFO:root:Reading Stix-Domain-Entity {d380cf57-9810-438b-bb25-a652aaca9ab2}.\n"
     ]
    },
    {
     "name": "stdout",
     "output_type": "stream",
     "text": [
      "c14ef091-ce29-4a5e-ae6b-fa91488aa07d\n",
      "d380cf57-9810-438b-bb25-a652aaca9ab2\n"
     ]
    },
    {
     "name": "stderr",
     "output_type": "stream",
     "text": [
      "INFO:root:Listing stix_relations with {type: indicates, from_id: c14ef091-ce29-4a5e-ae6b-fa91488aa07d, to_id: d380cf57-9810-438b-bb25-a652aaca9ab2}\n",
      "INFO:root:Reading Report {a216498d-1d4c-4555-a6a5-c62f38300e74}.\n",
      "INFO:root:Adding Stix-Entity {beb45313-2082-4606-bcba-16dd32dbc848} to Report {a216498d-1d4c-4555-a6a5-c62f38300e74}\n",
      "C:\\ProgramData\\Anaconda3\\lib\\site-packages\\ipykernel_launcher.py:300: DeprecationWarning: Call to deprecated method get_stix_domain_entity. (Replaced by the StixDomainEntity class in pycti) -- Deprecated since version 2.1.0.\n",
      "INFO:root:Reading Stix-Domain-Entity {f60fefc3-0b8c-43a1-a839-49ac299e9a63}.\n",
      "C:\\ProgramData\\Anaconda3\\lib\\site-packages\\ipykernel_launcher.py:303: DeprecationWarning: Call to deprecated method get_stix_domain_entity. (Replaced by the StixDomainEntity class in pycti) -- Deprecated since version 2.1.0.\n",
      "INFO:root:Reading Stix-Domain-Entity {d380cf57-9810-438b-bb25-a652aaca9ab2}.\n"
     ]
    },
    {
     "name": "stdout",
     "output_type": "stream",
     "text": [
      "f60fefc3-0b8c-43a1-a839-49ac299e9a63\n",
      "d380cf57-9810-438b-bb25-a652aaca9ab2\n"
     ]
    },
    {
     "name": "stderr",
     "output_type": "stream",
     "text": [
      "INFO:root:Listing stix_relations with {type: indicates, from_id: f60fefc3-0b8c-43a1-a839-49ac299e9a63, to_id: d380cf57-9810-438b-bb25-a652aaca9ab2}\n",
      "INFO:root:Reading Report {a216498d-1d4c-4555-a6a5-c62f38300e74}.\n",
      "INFO:root:Adding Stix-Entity {70017d3f-e6b1-4f3b-9298-2c77d913a69b} to Report {a216498d-1d4c-4555-a6a5-c62f38300e74}\n",
      "C:\\ProgramData\\Anaconda3\\lib\\site-packages\\ipykernel_launcher.py:300: DeprecationWarning: Call to deprecated method get_stix_domain_entity. (Replaced by the StixDomainEntity class in pycti) -- Deprecated since version 2.1.0.\n",
      "INFO:root:Reading Stix-Domain-Entity {d6794fd7-a683-4328-b97a-7d5a2979ad71}.\n",
      "C:\\ProgramData\\Anaconda3\\lib\\site-packages\\ipykernel_launcher.py:303: DeprecationWarning: Call to deprecated method get_stix_domain_entity. (Replaced by the StixDomainEntity class in pycti) -- Deprecated since version 2.1.0.\n",
      "INFO:root:Reading Stix-Domain-Entity {d380cf57-9810-438b-bb25-a652aaca9ab2}.\n"
     ]
    },
    {
     "name": "stdout",
     "output_type": "stream",
     "text": [
      "d6794fd7-a683-4328-b97a-7d5a2979ad71\n",
      "d380cf57-9810-438b-bb25-a652aaca9ab2\n"
     ]
    },
    {
     "name": "stderr",
     "output_type": "stream",
     "text": [
      "INFO:root:Listing stix_relations with {type: indicates, from_id: d6794fd7-a683-4328-b97a-7d5a2979ad71, to_id: d380cf57-9810-438b-bb25-a652aaca9ab2}\n",
      "INFO:root:Reading Report {a216498d-1d4c-4555-a6a5-c62f38300e74}.\n",
      "INFO:root:Adding Stix-Entity {375fb3c1-5ffa-4987-8cb4-b4bece18ebe4} to Report {a216498d-1d4c-4555-a6a5-c62f38300e74}\n",
      "C:\\ProgramData\\Anaconda3\\lib\\site-packages\\ipykernel_launcher.py:300: DeprecationWarning: Call to deprecated method get_stix_domain_entity. (Replaced by the StixDomainEntity class in pycti) -- Deprecated since version 2.1.0.\n",
      "INFO:root:Reading Stix-Domain-Entity {d2a135dc-423c-4950-9cb6-76702e9643d4}.\n",
      "C:\\ProgramData\\Anaconda3\\lib\\site-packages\\ipykernel_launcher.py:303: DeprecationWarning: Call to deprecated method get_stix_domain_entity. (Replaced by the StixDomainEntity class in pycti) -- Deprecated since version 2.1.0.\n",
      "INFO:root:Reading Stix-Domain-Entity {d380cf57-9810-438b-bb25-a652aaca9ab2}.\n"
     ]
    },
    {
     "name": "stdout",
     "output_type": "stream",
     "text": [
      "d2a135dc-423c-4950-9cb6-76702e9643d4\n",
      "d380cf57-9810-438b-bb25-a652aaca9ab2\n"
     ]
    },
    {
     "name": "stderr",
     "output_type": "stream",
     "text": [
      "INFO:root:Listing stix_relations with {type: indicates, from_id: d2a135dc-423c-4950-9cb6-76702e9643d4, to_id: d380cf57-9810-438b-bb25-a652aaca9ab2}\n",
      "INFO:root:Reading Report {a216498d-1d4c-4555-a6a5-c62f38300e74}.\n",
      "INFO:root:Adding Stix-Entity {77d8616f-efae-4609-a6e0-c2bd41901271} to Report {a216498d-1d4c-4555-a6a5-c62f38300e74}\n",
      "C:\\ProgramData\\Anaconda3\\lib\\site-packages\\ipykernel_launcher.py:300: DeprecationWarning: Call to deprecated method get_stix_domain_entity. (Replaced by the StixDomainEntity class in pycti) -- Deprecated since version 2.1.0.\n",
      "INFO:root:Reading Stix-Domain-Entity {73db1ae5-8dcd-41fd-8eab-14c21c2c7744}.\n",
      "C:\\ProgramData\\Anaconda3\\lib\\site-packages\\ipykernel_launcher.py:303: DeprecationWarning: Call to deprecated method get_stix_domain_entity. (Replaced by the StixDomainEntity class in pycti) -- Deprecated since version 2.1.0.\n",
      "INFO:root:Reading Stix-Domain-Entity {d380cf57-9810-438b-bb25-a652aaca9ab2}.\n"
     ]
    },
    {
     "name": "stdout",
     "output_type": "stream",
     "text": [
      "73db1ae5-8dcd-41fd-8eab-14c21c2c7744\n",
      "d380cf57-9810-438b-bb25-a652aaca9ab2\n"
     ]
    },
    {
     "name": "stderr",
     "output_type": "stream",
     "text": [
      "INFO:root:Listing stix_relations with {type: indicates, from_id: 73db1ae5-8dcd-41fd-8eab-14c21c2c7744, to_id: d380cf57-9810-438b-bb25-a652aaca9ab2}\n",
      "INFO:root:Reading Report {a216498d-1d4c-4555-a6a5-c62f38300e74}.\n",
      "INFO:root:Adding Stix-Entity {68e23357-14d5-4ed5-9c45-4a39e3a557e3} to Report {a216498d-1d4c-4555-a6a5-c62f38300e74}\n",
      "C:\\ProgramData\\Anaconda3\\lib\\site-packages\\ipykernel_launcher.py:300: DeprecationWarning: Call to deprecated method get_stix_domain_entity. (Replaced by the StixDomainEntity class in pycti) -- Deprecated since version 2.1.0.\n",
      "INFO:root:Reading Stix-Domain-Entity {f169290a-7cab-4192-845c-4eae91127112}.\n",
      "C:\\ProgramData\\Anaconda3\\lib\\site-packages\\ipykernel_launcher.py:303: DeprecationWarning: Call to deprecated method get_stix_domain_entity. (Replaced by the StixDomainEntity class in pycti) -- Deprecated since version 2.1.0.\n",
      "INFO:root:Reading Stix-Domain-Entity {d380cf57-9810-438b-bb25-a652aaca9ab2}.\n"
     ]
    },
    {
     "name": "stdout",
     "output_type": "stream",
     "text": [
      "f169290a-7cab-4192-845c-4eae91127112\n",
      "d380cf57-9810-438b-bb25-a652aaca9ab2\n"
     ]
    },
    {
     "name": "stderr",
     "output_type": "stream",
     "text": [
      "INFO:root:Listing stix_relations with {type: indicates, from_id: f169290a-7cab-4192-845c-4eae91127112, to_id: d380cf57-9810-438b-bb25-a652aaca9ab2}\n",
      "INFO:root:Reading Report {a216498d-1d4c-4555-a6a5-c62f38300e74}.\n",
      "INFO:root:Adding Stix-Entity {217c1044-fea6-4132-a3c8-d9b61b23541a} to Report {a216498d-1d4c-4555-a6a5-c62f38300e74}\n",
      "C:\\ProgramData\\Anaconda3\\lib\\site-packages\\ipykernel_launcher.py:300: DeprecationWarning: Call to deprecated method get_stix_domain_entity. (Replaced by the StixDomainEntity class in pycti) -- Deprecated since version 2.1.0.\n",
      "INFO:root:Reading Stix-Domain-Entity {0d314eef-2be6-4ee3-8413-de4dd1684824}.\n",
      "C:\\ProgramData\\Anaconda3\\lib\\site-packages\\ipykernel_launcher.py:303: DeprecationWarning: Call to deprecated method get_stix_domain_entity. (Replaced by the StixDomainEntity class in pycti) -- Deprecated since version 2.1.0.\n",
      "INFO:root:Reading Stix-Domain-Entity {d380cf57-9810-438b-bb25-a652aaca9ab2}.\n"
     ]
    },
    {
     "name": "stdout",
     "output_type": "stream",
     "text": [
      "0d314eef-2be6-4ee3-8413-de4dd1684824\n",
      "d380cf57-9810-438b-bb25-a652aaca9ab2\n"
     ]
    },
    {
     "name": "stderr",
     "output_type": "stream",
     "text": [
      "INFO:root:Listing stix_relations with {type: indicates, from_id: 0d314eef-2be6-4ee3-8413-de4dd1684824, to_id: d380cf57-9810-438b-bb25-a652aaca9ab2}\n",
      "INFO:root:Reading Report {a216498d-1d4c-4555-a6a5-c62f38300e74}.\n",
      "INFO:root:Adding Stix-Entity {c8b9fc9f-1904-42ca-9f62-850788785019} to Report {a216498d-1d4c-4555-a6a5-c62f38300e74}\n",
      "C:\\ProgramData\\Anaconda3\\lib\\site-packages\\ipykernel_launcher.py:300: DeprecationWarning: Call to deprecated method get_stix_domain_entity. (Replaced by the StixDomainEntity class in pycti) -- Deprecated since version 2.1.0.\n",
      "INFO:root:Reading Stix-Domain-Entity {d4b7f77f-9497-4bbc-89c8-e2ab87d5a6ab}.\n",
      "C:\\ProgramData\\Anaconda3\\lib\\site-packages\\ipykernel_launcher.py:303: DeprecationWarning: Call to deprecated method get_stix_domain_entity. (Replaced by the StixDomainEntity class in pycti) -- Deprecated since version 2.1.0.\n",
      "INFO:root:Reading Stix-Domain-Entity {d380cf57-9810-438b-bb25-a652aaca9ab2}.\n"
     ]
    },
    {
     "name": "stdout",
     "output_type": "stream",
     "text": [
      "d4b7f77f-9497-4bbc-89c8-e2ab87d5a6ab\n",
      "d380cf57-9810-438b-bb25-a652aaca9ab2\n"
     ]
    },
    {
     "name": "stderr",
     "output_type": "stream",
     "text": [
      "INFO:root:Listing stix_relations with {type: indicates, from_id: d4b7f77f-9497-4bbc-89c8-e2ab87d5a6ab, to_id: d380cf57-9810-438b-bb25-a652aaca9ab2}\n",
      "INFO:root:Reading Report {a216498d-1d4c-4555-a6a5-c62f38300e74}.\n",
      "INFO:root:Adding Stix-Entity {199ddab7-bfa4-4bf3-bdb2-74ac10d60851} to Report {a216498d-1d4c-4555-a6a5-c62f38300e74}\n",
      "C:\\ProgramData\\Anaconda3\\lib\\site-packages\\ipykernel_launcher.py:300: DeprecationWarning: Call to deprecated method get_stix_domain_entity. (Replaced by the StixDomainEntity class in pycti) -- Deprecated since version 2.1.0.\n",
      "INFO:root:Reading Stix-Domain-Entity {1e7ced89-7209-4729-9f10-ba69cf15a6a7}.\n",
      "C:\\ProgramData\\Anaconda3\\lib\\site-packages\\ipykernel_launcher.py:303: DeprecationWarning: Call to deprecated method get_stix_domain_entity. (Replaced by the StixDomainEntity class in pycti) -- Deprecated since version 2.1.0.\n",
      "INFO:root:Reading Stix-Domain-Entity {d380cf57-9810-438b-bb25-a652aaca9ab2}.\n"
     ]
    },
    {
     "name": "stdout",
     "output_type": "stream",
     "text": [
      "1e7ced89-7209-4729-9f10-ba69cf15a6a7\n",
      "d380cf57-9810-438b-bb25-a652aaca9ab2\n"
     ]
    },
    {
     "name": "stderr",
     "output_type": "stream",
     "text": [
      "INFO:root:Listing stix_relations with {type: indicates, from_id: 1e7ced89-7209-4729-9f10-ba69cf15a6a7, to_id: d380cf57-9810-438b-bb25-a652aaca9ab2}\n",
      "INFO:root:Reading Report {a216498d-1d4c-4555-a6a5-c62f38300e74}.\n",
      "INFO:root:Adding Stix-Entity {915d72b7-786b-4ef5-a9b7-e904d3c74dd3} to Report {a216498d-1d4c-4555-a6a5-c62f38300e74}\n",
      "C:\\ProgramData\\Anaconda3\\lib\\site-packages\\ipykernel_launcher.py:300: DeprecationWarning: Call to deprecated method get_stix_domain_entity. (Replaced by the StixDomainEntity class in pycti) -- Deprecated since version 2.1.0.\n",
      "INFO:root:Reading Stix-Domain-Entity {ade04b83-29a8-4ecf-a486-3e7decdbd7a3}.\n",
      "C:\\ProgramData\\Anaconda3\\lib\\site-packages\\ipykernel_launcher.py:303: DeprecationWarning: Call to deprecated method get_stix_domain_entity. (Replaced by the StixDomainEntity class in pycti) -- Deprecated since version 2.1.0.\n",
      "INFO:root:Reading Stix-Domain-Entity {d380cf57-9810-438b-bb25-a652aaca9ab2}.\n"
     ]
    },
    {
     "name": "stdout",
     "output_type": "stream",
     "text": [
      "ade04b83-29a8-4ecf-a486-3e7decdbd7a3\n",
      "d380cf57-9810-438b-bb25-a652aaca9ab2\n"
     ]
    },
    {
     "name": "stderr",
     "output_type": "stream",
     "text": [
      "INFO:root:Listing stix_relations with {type: indicates, from_id: ade04b83-29a8-4ecf-a486-3e7decdbd7a3, to_id: d380cf57-9810-438b-bb25-a652aaca9ab2}\n",
      "INFO:root:Reading Report {a216498d-1d4c-4555-a6a5-c62f38300e74}.\n",
      "INFO:root:Adding Stix-Entity {9de8a99e-9b60-4ca8-bd17-5781f5e58502} to Report {a216498d-1d4c-4555-a6a5-c62f38300e74}\n",
      "C:\\ProgramData\\Anaconda3\\lib\\site-packages\\ipykernel_launcher.py:300: DeprecationWarning: Call to deprecated method get_stix_domain_entity. (Replaced by the StixDomainEntity class in pycti) -- Deprecated since version 2.1.0.\n",
      "INFO:root:Reading Stix-Domain-Entity {11bfef3d-a1fe-4560-a470-9038325b2048}.\n",
      "C:\\ProgramData\\Anaconda3\\lib\\site-packages\\ipykernel_launcher.py:303: DeprecationWarning: Call to deprecated method get_stix_domain_entity. (Replaced by the StixDomainEntity class in pycti) -- Deprecated since version 2.1.0.\n",
      "INFO:root:Reading Stix-Domain-Entity {d380cf57-9810-438b-bb25-a652aaca9ab2}.\n"
     ]
    },
    {
     "name": "stdout",
     "output_type": "stream",
     "text": [
      "11bfef3d-a1fe-4560-a470-9038325b2048\n",
      "d380cf57-9810-438b-bb25-a652aaca9ab2\n"
     ]
    },
    {
     "name": "stderr",
     "output_type": "stream",
     "text": [
      "INFO:root:Listing stix_relations with {type: indicates, from_id: 11bfef3d-a1fe-4560-a470-9038325b2048, to_id: d380cf57-9810-438b-bb25-a652aaca9ab2}\n",
      "INFO:root:Reading Report {a216498d-1d4c-4555-a6a5-c62f38300e74}.\n",
      "INFO:root:Adding Stix-Entity {aa4f88ca-9bd0-4ac7-ba7e-8873f0144400} to Report {a216498d-1d4c-4555-a6a5-c62f38300e74}\n",
      "C:\\ProgramData\\Anaconda3\\lib\\site-packages\\ipykernel_launcher.py:300: DeprecationWarning: Call to deprecated method get_stix_domain_entity. (Replaced by the StixDomainEntity class in pycti) -- Deprecated since version 2.1.0.\n",
      "INFO:root:Reading Stix-Domain-Entity {de305cb5-1b59-4fb0-bbcf-1aed2d220e95}.\n",
      "C:\\ProgramData\\Anaconda3\\lib\\site-packages\\ipykernel_launcher.py:303: DeprecationWarning: Call to deprecated method get_stix_domain_entity. (Replaced by the StixDomainEntity class in pycti) -- Deprecated since version 2.1.0.\n",
      "INFO:root:Reading Stix-Domain-Entity {d380cf57-9810-438b-bb25-a652aaca9ab2}.\n"
     ]
    },
    {
     "name": "stdout",
     "output_type": "stream",
     "text": [
      "de305cb5-1b59-4fb0-bbcf-1aed2d220e95\n",
      "d380cf57-9810-438b-bb25-a652aaca9ab2\n"
     ]
    },
    {
     "name": "stderr",
     "output_type": "stream",
     "text": [
      "INFO:root:Listing stix_relations with {type: indicates, from_id: de305cb5-1b59-4fb0-bbcf-1aed2d220e95, to_id: d380cf57-9810-438b-bb25-a652aaca9ab2}\n",
      "INFO:root:Reading Report {a216498d-1d4c-4555-a6a5-c62f38300e74}.\n",
      "INFO:root:Adding Stix-Entity {df91345b-c0e4-499b-b26e-6119c7f33254} to Report {a216498d-1d4c-4555-a6a5-c62f38300e74}\n",
      "C:\\ProgramData\\Anaconda3\\lib\\site-packages\\ipykernel_launcher.py:300: DeprecationWarning: Call to deprecated method get_stix_domain_entity. (Replaced by the StixDomainEntity class in pycti) -- Deprecated since version 2.1.0.\n",
      "INFO:root:Reading Stix-Domain-Entity {1e01de5c-fde1-4285-9e11-4f7de7b2aa84}.\n",
      "C:\\ProgramData\\Anaconda3\\lib\\site-packages\\ipykernel_launcher.py:303: DeprecationWarning: Call to deprecated method get_stix_domain_entity. (Replaced by the StixDomainEntity class in pycti) -- Deprecated since version 2.1.0.\n",
      "INFO:root:Reading Stix-Domain-Entity {d380cf57-9810-438b-bb25-a652aaca9ab2}.\n"
     ]
    },
    {
     "name": "stdout",
     "output_type": "stream",
     "text": [
      "1e01de5c-fde1-4285-9e11-4f7de7b2aa84\n",
      "d380cf57-9810-438b-bb25-a652aaca9ab2\n"
     ]
    },
    {
     "name": "stderr",
     "output_type": "stream",
     "text": [
      "INFO:root:Listing stix_relations with {type: indicates, from_id: 1e01de5c-fde1-4285-9e11-4f7de7b2aa84, to_id: d380cf57-9810-438b-bb25-a652aaca9ab2}\n",
      "INFO:root:Reading Report {a216498d-1d4c-4555-a6a5-c62f38300e74}.\n",
      "INFO:root:Adding Stix-Entity {2a5b58be-dfa3-4af5-b676-45a6a61566a7} to Report {a216498d-1d4c-4555-a6a5-c62f38300e74}\n",
      "C:\\ProgramData\\Anaconda3\\lib\\site-packages\\ipykernel_launcher.py:300: DeprecationWarning: Call to deprecated method get_stix_domain_entity. (Replaced by the StixDomainEntity class in pycti) -- Deprecated since version 2.1.0.\n",
      "INFO:root:Reading Stix-Domain-Entity {2c01c491-e00f-4392-8b07-dc25c4e30f2d}.\n",
      "C:\\ProgramData\\Anaconda3\\lib\\site-packages\\ipykernel_launcher.py:303: DeprecationWarning: Call to deprecated method get_stix_domain_entity. (Replaced by the StixDomainEntity class in pycti) -- Deprecated since version 2.1.0.\n",
      "INFO:root:Reading Stix-Domain-Entity {d380cf57-9810-438b-bb25-a652aaca9ab2}.\n"
     ]
    },
    {
     "name": "stdout",
     "output_type": "stream",
     "text": [
      "2c01c491-e00f-4392-8b07-dc25c4e30f2d\n",
      "d380cf57-9810-438b-bb25-a652aaca9ab2\n"
     ]
    },
    {
     "name": "stderr",
     "output_type": "stream",
     "text": [
      "INFO:root:Listing stix_relations with {type: indicates, from_id: 2c01c491-e00f-4392-8b07-dc25c4e30f2d, to_id: d380cf57-9810-438b-bb25-a652aaca9ab2}\n",
      "INFO:root:Reading Report {a216498d-1d4c-4555-a6a5-c62f38300e74}.\n",
      "INFO:root:Adding Stix-Entity {7875757e-e01f-411f-8049-d4ceb0da62b6} to Report {a216498d-1d4c-4555-a6a5-c62f38300e74}\n",
      "C:\\ProgramData\\Anaconda3\\lib\\site-packages\\ipykernel_launcher.py:300: DeprecationWarning: Call to deprecated method get_stix_domain_entity. (Replaced by the StixDomainEntity class in pycti) -- Deprecated since version 2.1.0.\n",
      "INFO:root:Reading Stix-Domain-Entity {21ab4ef5-9297-4ae2-9fac-62b50ebbaac6}.\n",
      "C:\\ProgramData\\Anaconda3\\lib\\site-packages\\ipykernel_launcher.py:303: DeprecationWarning: Call to deprecated method get_stix_domain_entity. (Replaced by the StixDomainEntity class in pycti) -- Deprecated since version 2.1.0.\n",
      "INFO:root:Reading Stix-Domain-Entity {d380cf57-9810-438b-bb25-a652aaca9ab2}.\n"
     ]
    },
    {
     "name": "stdout",
     "output_type": "stream",
     "text": [
      "21ab4ef5-9297-4ae2-9fac-62b50ebbaac6\n",
      "d380cf57-9810-438b-bb25-a652aaca9ab2\n"
     ]
    },
    {
     "name": "stderr",
     "output_type": "stream",
     "text": [
      "INFO:root:Listing stix_relations with {type: indicates, from_id: 21ab4ef5-9297-4ae2-9fac-62b50ebbaac6, to_id: d380cf57-9810-438b-bb25-a652aaca9ab2}\n",
      "INFO:root:Reading Report {a216498d-1d4c-4555-a6a5-c62f38300e74}.\n",
      "INFO:root:Adding Stix-Entity {4d9c50f8-c379-43ee-b81b-99b98c2c6420} to Report {a216498d-1d4c-4555-a6a5-c62f38300e74}\n",
      "C:\\ProgramData\\Anaconda3\\lib\\site-packages\\ipykernel_launcher.py:300: DeprecationWarning: Call to deprecated method get_stix_domain_entity. (Replaced by the StixDomainEntity class in pycti) -- Deprecated since version 2.1.0.\n",
      "INFO:root:Reading Stix-Domain-Entity {74d0b648-ba9c-48f6-a6c9-56ce608f765e}.\n",
      "C:\\ProgramData\\Anaconda3\\lib\\site-packages\\ipykernel_launcher.py:303: DeprecationWarning: Call to deprecated method get_stix_domain_entity. (Replaced by the StixDomainEntity class in pycti) -- Deprecated since version 2.1.0.\n",
      "INFO:root:Reading Stix-Domain-Entity {d380cf57-9810-438b-bb25-a652aaca9ab2}.\n"
     ]
    },
    {
     "name": "stdout",
     "output_type": "stream",
     "text": [
      "74d0b648-ba9c-48f6-a6c9-56ce608f765e\n",
      "d380cf57-9810-438b-bb25-a652aaca9ab2\n"
     ]
    },
    {
     "name": "stderr",
     "output_type": "stream",
     "text": [
      "INFO:root:Listing stix_relations with {type: indicates, from_id: 74d0b648-ba9c-48f6-a6c9-56ce608f765e, to_id: d380cf57-9810-438b-bb25-a652aaca9ab2}\n",
      "INFO:root:Reading Report {a216498d-1d4c-4555-a6a5-c62f38300e74}.\n",
      "INFO:root:Adding Stix-Entity {093719f6-1cf9-4d1c-a73a-bed7a4680018} to Report {a216498d-1d4c-4555-a6a5-c62f38300e74}\n",
      "C:\\ProgramData\\Anaconda3\\lib\\site-packages\\ipykernel_launcher.py:300: DeprecationWarning: Call to deprecated method get_stix_domain_entity. (Replaced by the StixDomainEntity class in pycti) -- Deprecated since version 2.1.0.\n",
      "INFO:root:Reading Stix-Domain-Entity {bafbde6d-3399-440d-8b5b-9af8e95c8fd2}.\n",
      "C:\\ProgramData\\Anaconda3\\lib\\site-packages\\ipykernel_launcher.py:303: DeprecationWarning: Call to deprecated method get_stix_domain_entity. (Replaced by the StixDomainEntity class in pycti) -- Deprecated since version 2.1.0.\n",
      "INFO:root:Reading Stix-Domain-Entity {d380cf57-9810-438b-bb25-a652aaca9ab2}.\n"
     ]
    },
    {
     "name": "stdout",
     "output_type": "stream",
     "text": [
      "bafbde6d-3399-440d-8b5b-9af8e95c8fd2\n",
      "d380cf57-9810-438b-bb25-a652aaca9ab2\n"
     ]
    },
    {
     "name": "stderr",
     "output_type": "stream",
     "text": [
      "INFO:root:Listing stix_relations with {type: indicates, from_id: bafbde6d-3399-440d-8b5b-9af8e95c8fd2, to_id: d380cf57-9810-438b-bb25-a652aaca9ab2}\n",
      "INFO:root:Reading Report {a216498d-1d4c-4555-a6a5-c62f38300e74}.\n",
      "INFO:root:Adding Stix-Entity {4d85dfb3-a392-4401-9797-5f596b22b67f} to Report {a216498d-1d4c-4555-a6a5-c62f38300e74}\n",
      "C:\\ProgramData\\Anaconda3\\lib\\site-packages\\ipykernel_launcher.py:300: DeprecationWarning: Call to deprecated method get_stix_domain_entity. (Replaced by the StixDomainEntity class in pycti) -- Deprecated since version 2.1.0.\n",
      "INFO:root:Reading Stix-Domain-Entity {7ef823f1-0195-4b38-9dab-207e290ce510}.\n",
      "C:\\ProgramData\\Anaconda3\\lib\\site-packages\\ipykernel_launcher.py:303: DeprecationWarning: Call to deprecated method get_stix_domain_entity. (Replaced by the StixDomainEntity class in pycti) -- Deprecated since version 2.1.0.\n",
      "INFO:root:Reading Stix-Domain-Entity {d380cf57-9810-438b-bb25-a652aaca9ab2}.\n"
     ]
    },
    {
     "name": "stdout",
     "output_type": "stream",
     "text": [
      "7ef823f1-0195-4b38-9dab-207e290ce510\n",
      "d380cf57-9810-438b-bb25-a652aaca9ab2\n"
     ]
    },
    {
     "name": "stderr",
     "output_type": "stream",
     "text": [
      "INFO:root:Listing stix_relations with {type: indicates, from_id: 7ef823f1-0195-4b38-9dab-207e290ce510, to_id: d380cf57-9810-438b-bb25-a652aaca9ab2}\n",
      "INFO:root:Reading Report {a216498d-1d4c-4555-a6a5-c62f38300e74}.\n",
      "INFO:root:Adding Stix-Entity {6c47e23e-d081-4a9f-827c-a4f54d0dced3} to Report {a216498d-1d4c-4555-a6a5-c62f38300e74}\n",
      "C:\\ProgramData\\Anaconda3\\lib\\site-packages\\ipykernel_launcher.py:300: DeprecationWarning: Call to deprecated method get_stix_domain_entity. (Replaced by the StixDomainEntity class in pycti) -- Deprecated since version 2.1.0.\n",
      "INFO:root:Reading Stix-Domain-Entity {899f2aa3-74f1-4727-a09f-24e793eedcc8}.\n",
      "C:\\ProgramData\\Anaconda3\\lib\\site-packages\\ipykernel_launcher.py:303: DeprecationWarning: Call to deprecated method get_stix_domain_entity. (Replaced by the StixDomainEntity class in pycti) -- Deprecated since version 2.1.0.\n",
      "INFO:root:Reading Stix-Domain-Entity {d380cf57-9810-438b-bb25-a652aaca9ab2}.\n"
     ]
    },
    {
     "name": "stdout",
     "output_type": "stream",
     "text": [
      "899f2aa3-74f1-4727-a09f-24e793eedcc8\n",
      "d380cf57-9810-438b-bb25-a652aaca9ab2\n"
     ]
    },
    {
     "name": "stderr",
     "output_type": "stream",
     "text": [
      "INFO:root:Listing stix_relations with {type: indicates, from_id: 899f2aa3-74f1-4727-a09f-24e793eedcc8, to_id: d380cf57-9810-438b-bb25-a652aaca9ab2}\n",
      "INFO:root:Reading Report {a216498d-1d4c-4555-a6a5-c62f38300e74}.\n",
      "INFO:root:Adding Stix-Entity {203368db-8662-4dbf-acba-02614ffc3338} to Report {a216498d-1d4c-4555-a6a5-c62f38300e74}\n",
      "C:\\ProgramData\\Anaconda3\\lib\\site-packages\\ipykernel_launcher.py:300: DeprecationWarning: Call to deprecated method get_stix_domain_entity. (Replaced by the StixDomainEntity class in pycti) -- Deprecated since version 2.1.0.\n",
      "INFO:root:Reading Stix-Domain-Entity {26f2c760-8f92-4b12-a7f1-d8c76521f5f5}.\n",
      "C:\\ProgramData\\Anaconda3\\lib\\site-packages\\ipykernel_launcher.py:303: DeprecationWarning: Call to deprecated method get_stix_domain_entity. (Replaced by the StixDomainEntity class in pycti) -- Deprecated since version 2.1.0.\n",
      "INFO:root:Reading Stix-Domain-Entity {d380cf57-9810-438b-bb25-a652aaca9ab2}.\n"
     ]
    },
    {
     "name": "stdout",
     "output_type": "stream",
     "text": [
      "26f2c760-8f92-4b12-a7f1-d8c76521f5f5\n",
      "d380cf57-9810-438b-bb25-a652aaca9ab2\n"
     ]
    },
    {
     "name": "stderr",
     "output_type": "stream",
     "text": [
      "INFO:root:Listing stix_relations with {type: indicates, from_id: 26f2c760-8f92-4b12-a7f1-d8c76521f5f5, to_id: d380cf57-9810-438b-bb25-a652aaca9ab2}\n",
      "INFO:root:Reading Report {a216498d-1d4c-4555-a6a5-c62f38300e74}.\n",
      "INFO:root:Adding Stix-Entity {43234ade-9222-4f5b-bcc9-3ad8c24c67e8} to Report {a216498d-1d4c-4555-a6a5-c62f38300e74}\n",
      "C:\\ProgramData\\Anaconda3\\lib\\site-packages\\ipykernel_launcher.py:300: DeprecationWarning: Call to deprecated method get_stix_domain_entity. (Replaced by the StixDomainEntity class in pycti) -- Deprecated since version 2.1.0.\n",
      "INFO:root:Reading Stix-Domain-Entity {3803bcc7-f78b-4528-a181-be3884988380}.\n",
      "C:\\ProgramData\\Anaconda3\\lib\\site-packages\\ipykernel_launcher.py:303: DeprecationWarning: Call to deprecated method get_stix_domain_entity. (Replaced by the StixDomainEntity class in pycti) -- Deprecated since version 2.1.0.\n",
      "INFO:root:Reading Stix-Domain-Entity {d380cf57-9810-438b-bb25-a652aaca9ab2}.\n"
     ]
    },
    {
     "name": "stdout",
     "output_type": "stream",
     "text": [
      "3803bcc7-f78b-4528-a181-be3884988380\n",
      "d380cf57-9810-438b-bb25-a652aaca9ab2\n"
     ]
    },
    {
     "name": "stderr",
     "output_type": "stream",
     "text": [
      "INFO:root:Listing stix_relations with {type: indicates, from_id: 3803bcc7-f78b-4528-a181-be3884988380, to_id: d380cf57-9810-438b-bb25-a652aaca9ab2}\n",
      "INFO:root:Reading Report {a216498d-1d4c-4555-a6a5-c62f38300e74}.\n",
      "INFO:root:Adding Stix-Entity {9a3f363d-4210-46c7-9251-919a85c34089} to Report {a216498d-1d4c-4555-a6a5-c62f38300e74}\n",
      "C:\\ProgramData\\Anaconda3\\lib\\site-packages\\ipykernel_launcher.py:300: DeprecationWarning: Call to deprecated method get_stix_domain_entity. (Replaced by the StixDomainEntity class in pycti) -- Deprecated since version 2.1.0.\n",
      "INFO:root:Reading Stix-Domain-Entity {3803bcc7-f78b-4528-a181-be3884988380}.\n",
      "C:\\ProgramData\\Anaconda3\\lib\\site-packages\\ipykernel_launcher.py:303: DeprecationWarning: Call to deprecated method get_stix_domain_entity. (Replaced by the StixDomainEntity class in pycti) -- Deprecated since version 2.1.0.\n",
      "INFO:root:Reading Stix-Domain-Entity {d380cf57-9810-438b-bb25-a652aaca9ab2}.\n"
     ]
    },
    {
     "name": "stdout",
     "output_type": "stream",
     "text": [
      "3803bcc7-f78b-4528-a181-be3884988380\n",
      "d380cf57-9810-438b-bb25-a652aaca9ab2\n"
     ]
    },
    {
     "name": "stderr",
     "output_type": "stream",
     "text": [
      "INFO:root:Listing stix_relations with {type: indicates, from_id: 3803bcc7-f78b-4528-a181-be3884988380, to_id: d380cf57-9810-438b-bb25-a652aaca9ab2}\n",
      "INFO:root:Reading Report {a216498d-1d4c-4555-a6a5-c62f38300e74}.\n",
      "INFO:root:Adding Stix-Entity {9a3f363d-4210-46c7-9251-919a85c34089} to Report {a216498d-1d4c-4555-a6a5-c62f38300e74}\n",
      "ERROR:root:A database error has occured!\n",
      "C:\\ProgramData\\Anaconda3\\lib\\site-packages\\ipykernel_launcher.py:300: DeprecationWarning: Call to deprecated method get_stix_domain_entity. (Replaced by the StixDomainEntity class in pycti) -- Deprecated since version 2.1.0.\n",
      "INFO:root:Reading Stix-Domain-Entity {2d93631e-bf77-4378-acd9-c7dcec5e059b}.\n",
      "C:\\ProgramData\\Anaconda3\\lib\\site-packages\\ipykernel_launcher.py:303: DeprecationWarning: Call to deprecated method get_stix_domain_entity. (Replaced by the StixDomainEntity class in pycti) -- Deprecated since version 2.1.0.\n",
      "INFO:root:Reading Stix-Domain-Entity {d380cf57-9810-438b-bb25-a652aaca9ab2}.\n"
     ]
    },
    {
     "name": "stdout",
     "output_type": "stream",
     "text": [
      "2d93631e-bf77-4378-acd9-c7dcec5e059b\n",
      "d380cf57-9810-438b-bb25-a652aaca9ab2\n"
     ]
    },
    {
     "name": "stderr",
     "output_type": "stream",
     "text": [
      "INFO:root:Listing stix_relations with {type: indicates, from_id: 2d93631e-bf77-4378-acd9-c7dcec5e059b, to_id: d380cf57-9810-438b-bb25-a652aaca9ab2}\n",
      "INFO:root:Reading Report {a216498d-1d4c-4555-a6a5-c62f38300e74}.\n",
      "INFO:root:Adding Stix-Entity {6f230fda-08a3-4b47-b692-d1d49298b8f5} to Report {a216498d-1d4c-4555-a6a5-c62f38300e74}\n",
      "C:\\ProgramData\\Anaconda3\\lib\\site-packages\\ipykernel_launcher.py:300: DeprecationWarning: Call to deprecated method get_stix_domain_entity. (Replaced by the StixDomainEntity class in pycti) -- Deprecated since version 2.1.0.\n",
      "INFO:root:Reading Stix-Domain-Entity {dd3ba5d6-8c3e-45b2-9778-1c17af49a476}.\n",
      "C:\\ProgramData\\Anaconda3\\lib\\site-packages\\ipykernel_launcher.py:303: DeprecationWarning: Call to deprecated method get_stix_domain_entity. (Replaced by the StixDomainEntity class in pycti) -- Deprecated since version 2.1.0.\n",
      "INFO:root:Reading Stix-Domain-Entity {d380cf57-9810-438b-bb25-a652aaca9ab2}.\n"
     ]
    },
    {
     "name": "stdout",
     "output_type": "stream",
     "text": [
      "dd3ba5d6-8c3e-45b2-9778-1c17af49a476\n",
      "d380cf57-9810-438b-bb25-a652aaca9ab2\n"
     ]
    },
    {
     "name": "stderr",
     "output_type": "stream",
     "text": [
      "INFO:root:Listing stix_relations with {type: indicates, from_id: dd3ba5d6-8c3e-45b2-9778-1c17af49a476, to_id: d380cf57-9810-438b-bb25-a652aaca9ab2}\n",
      "INFO:root:Reading Report {a216498d-1d4c-4555-a6a5-c62f38300e74}.\n",
      "INFO:root:Adding Stix-Entity {442d0a27-6616-423a-9f86-09d48874b578} to Report {a216498d-1d4c-4555-a6a5-c62f38300e74}\n",
      "C:\\ProgramData\\Anaconda3\\lib\\site-packages\\ipykernel_launcher.py:300: DeprecationWarning: Call to deprecated method get_stix_domain_entity. (Replaced by the StixDomainEntity class in pycti) -- Deprecated since version 2.1.0.\n",
      "INFO:root:Reading Stix-Domain-Entity {782d43fa-2c17-4010-97dd-7e7d3ec6d9e1}.\n",
      "C:\\ProgramData\\Anaconda3\\lib\\site-packages\\ipykernel_launcher.py:303: DeprecationWarning: Call to deprecated method get_stix_domain_entity. (Replaced by the StixDomainEntity class in pycti) -- Deprecated since version 2.1.0.\n",
      "INFO:root:Reading Stix-Domain-Entity {d380cf57-9810-438b-bb25-a652aaca9ab2}.\n"
     ]
    },
    {
     "name": "stdout",
     "output_type": "stream",
     "text": [
      "782d43fa-2c17-4010-97dd-7e7d3ec6d9e1\n",
      "d380cf57-9810-438b-bb25-a652aaca9ab2\n"
     ]
    },
    {
     "name": "stderr",
     "output_type": "stream",
     "text": [
      "INFO:root:Listing stix_relations with {type: indicates, from_id: 782d43fa-2c17-4010-97dd-7e7d3ec6d9e1, to_id: d380cf57-9810-438b-bb25-a652aaca9ab2}\n",
      "INFO:root:Reading Report {a216498d-1d4c-4555-a6a5-c62f38300e74}.\n",
      "INFO:root:Adding Stix-Entity {eda565fc-5501-4e0b-82a1-8d5fcad81c44} to Report {a216498d-1d4c-4555-a6a5-c62f38300e74}\n",
      "C:\\ProgramData\\Anaconda3\\lib\\site-packages\\ipykernel_launcher.py:300: DeprecationWarning: Call to deprecated method get_stix_domain_entity. (Replaced by the StixDomainEntity class in pycti) -- Deprecated since version 2.1.0.\n",
      "INFO:root:Reading Stix-Domain-Entity {dc64a28f-b671-4997-81fc-6cf1caa9b9ff}.\n",
      "C:\\ProgramData\\Anaconda3\\lib\\site-packages\\ipykernel_launcher.py:303: DeprecationWarning: Call to deprecated method get_stix_domain_entity. (Replaced by the StixDomainEntity class in pycti) -- Deprecated since version 2.1.0.\n",
      "INFO:root:Reading Stix-Domain-Entity {d380cf57-9810-438b-bb25-a652aaca9ab2}.\n"
     ]
    },
    {
     "name": "stdout",
     "output_type": "stream",
     "text": [
      "dc64a28f-b671-4997-81fc-6cf1caa9b9ff\n",
      "d380cf57-9810-438b-bb25-a652aaca9ab2\n"
     ]
    },
    {
     "name": "stderr",
     "output_type": "stream",
     "text": [
      "INFO:root:Listing stix_relations with {type: indicates, from_id: dc64a28f-b671-4997-81fc-6cf1caa9b9ff, to_id: d380cf57-9810-438b-bb25-a652aaca9ab2}\n",
      "INFO:root:Reading Report {a216498d-1d4c-4555-a6a5-c62f38300e74}.\n",
      "INFO:root:Adding Stix-Entity {2a69657a-bc07-4590-aa70-3591a90c2445} to Report {a216498d-1d4c-4555-a6a5-c62f38300e74}\n",
      "C:\\ProgramData\\Anaconda3\\lib\\site-packages\\ipykernel_launcher.py:300: DeprecationWarning: Call to deprecated method get_stix_domain_entity. (Replaced by the StixDomainEntity class in pycti) -- Deprecated since version 2.1.0.\n",
      "INFO:root:Reading Stix-Domain-Entity {e322676c-00a4-42dd-9329-26a7170caf00}.\n",
      "C:\\ProgramData\\Anaconda3\\lib\\site-packages\\ipykernel_launcher.py:303: DeprecationWarning: Call to deprecated method get_stix_domain_entity. (Replaced by the StixDomainEntity class in pycti) -- Deprecated since version 2.1.0.\n",
      "INFO:root:Reading Stix-Domain-Entity {d380cf57-9810-438b-bb25-a652aaca9ab2}.\n"
     ]
    },
    {
     "name": "stdout",
     "output_type": "stream",
     "text": [
      "e322676c-00a4-42dd-9329-26a7170caf00\n",
      "d380cf57-9810-438b-bb25-a652aaca9ab2\n"
     ]
    },
    {
     "name": "stderr",
     "output_type": "stream",
     "text": [
      "INFO:root:Listing stix_relations with {type: indicates, from_id: e322676c-00a4-42dd-9329-26a7170caf00, to_id: d380cf57-9810-438b-bb25-a652aaca9ab2}\n",
      "INFO:root:Reading Report {a216498d-1d4c-4555-a6a5-c62f38300e74}.\n",
      "INFO:root:Adding Stix-Entity {dfb2c3fa-a5a6-4bb3-8625-7a9905db2ef9} to Report {a216498d-1d4c-4555-a6a5-c62f38300e74}\n",
      "C:\\ProgramData\\Anaconda3\\lib\\site-packages\\ipykernel_launcher.py:300: DeprecationWarning: Call to deprecated method get_stix_domain_entity. (Replaced by the StixDomainEntity class in pycti) -- Deprecated since version 2.1.0.\n",
      "INFO:root:Reading Stix-Domain-Entity {e6df31a7-f561-4804-9abb-422dc45159a1}.\n",
      "C:\\ProgramData\\Anaconda3\\lib\\site-packages\\ipykernel_launcher.py:303: DeprecationWarning: Call to deprecated method get_stix_domain_entity. (Replaced by the StixDomainEntity class in pycti) -- Deprecated since version 2.1.0.\n",
      "INFO:root:Reading Stix-Domain-Entity {d380cf57-9810-438b-bb25-a652aaca9ab2}.\n"
     ]
    },
    {
     "name": "stdout",
     "output_type": "stream",
     "text": [
      "e6df31a7-f561-4804-9abb-422dc45159a1\n",
      "d380cf57-9810-438b-bb25-a652aaca9ab2\n"
     ]
    },
    {
     "name": "stderr",
     "output_type": "stream",
     "text": [
      "INFO:root:Listing stix_relations with {type: indicates, from_id: e6df31a7-f561-4804-9abb-422dc45159a1, to_id: d380cf57-9810-438b-bb25-a652aaca9ab2}\n",
      "INFO:root:Reading Report {a216498d-1d4c-4555-a6a5-c62f38300e74}.\n",
      "INFO:root:Adding Stix-Entity {d8a4fc4c-63e1-4d51-902a-66c1b4bbd772} to Report {a216498d-1d4c-4555-a6a5-c62f38300e74}\n",
      "C:\\ProgramData\\Anaconda3\\lib\\site-packages\\ipykernel_launcher.py:300: DeprecationWarning: Call to deprecated method get_stix_domain_entity. (Replaced by the StixDomainEntity class in pycti) -- Deprecated since version 2.1.0.\n",
      "INFO:root:Reading Stix-Domain-Entity {9bf4bff1-fe60-4287-844e-a31fdd7779f2}.\n",
      "C:\\ProgramData\\Anaconda3\\lib\\site-packages\\ipykernel_launcher.py:303: DeprecationWarning: Call to deprecated method get_stix_domain_entity. (Replaced by the StixDomainEntity class in pycti) -- Deprecated since version 2.1.0.\n",
      "INFO:root:Reading Stix-Domain-Entity {d380cf57-9810-438b-bb25-a652aaca9ab2}.\n"
     ]
    },
    {
     "name": "stdout",
     "output_type": "stream",
     "text": [
      "9bf4bff1-fe60-4287-844e-a31fdd7779f2\n",
      "d380cf57-9810-438b-bb25-a652aaca9ab2\n"
     ]
    },
    {
     "name": "stderr",
     "output_type": "stream",
     "text": [
      "INFO:root:Listing stix_relations with {type: indicates, from_id: 9bf4bff1-fe60-4287-844e-a31fdd7779f2, to_id: d380cf57-9810-438b-bb25-a652aaca9ab2}\n",
      "INFO:root:Reading Report {a216498d-1d4c-4555-a6a5-c62f38300e74}.\n",
      "INFO:root:Adding Stix-Entity {81ef9f2d-0f6c-48ed-9c1e-9a4226abdb82} to Report {a216498d-1d4c-4555-a6a5-c62f38300e74}\n",
      "C:\\ProgramData\\Anaconda3\\lib\\site-packages\\ipykernel_launcher.py:300: DeprecationWarning: Call to deprecated method get_stix_domain_entity. (Replaced by the StixDomainEntity class in pycti) -- Deprecated since version 2.1.0.\n",
      "INFO:root:Reading Stix-Domain-Entity {a63b2da0-1886-4e9a-b7c2-54626c6ee6fe}.\n",
      "C:\\ProgramData\\Anaconda3\\lib\\site-packages\\ipykernel_launcher.py:303: DeprecationWarning: Call to deprecated method get_stix_domain_entity. (Replaced by the StixDomainEntity class in pycti) -- Deprecated since version 2.1.0.\n",
      "INFO:root:Reading Stix-Domain-Entity {d380cf57-9810-438b-bb25-a652aaca9ab2}.\n"
     ]
    },
    {
     "name": "stdout",
     "output_type": "stream",
     "text": [
      "a63b2da0-1886-4e9a-b7c2-54626c6ee6fe\n",
      "d380cf57-9810-438b-bb25-a652aaca9ab2\n"
     ]
    },
    {
     "name": "stderr",
     "output_type": "stream",
     "text": [
      "INFO:root:Listing stix_relations with {type: indicates, from_id: a63b2da0-1886-4e9a-b7c2-54626c6ee6fe, to_id: d380cf57-9810-438b-bb25-a652aaca9ab2}\n",
      "INFO:root:Reading Report {a216498d-1d4c-4555-a6a5-c62f38300e74}.\n",
      "INFO:root:Adding Stix-Entity {dcfc760d-9b99-4a0e-9124-f6036e329eff} to Report {a216498d-1d4c-4555-a6a5-c62f38300e74}\n",
      "C:\\ProgramData\\Anaconda3\\lib\\site-packages\\ipykernel_launcher.py:300: DeprecationWarning: Call to deprecated method get_stix_domain_entity. (Replaced by the StixDomainEntity class in pycti) -- Deprecated since version 2.1.0.\n",
      "INFO:root:Reading Stix-Domain-Entity {4a5d8135-8133-4567-ba98-1346abf484d0}.\n",
      "C:\\ProgramData\\Anaconda3\\lib\\site-packages\\ipykernel_launcher.py:303: DeprecationWarning: Call to deprecated method get_stix_domain_entity. (Replaced by the StixDomainEntity class in pycti) -- Deprecated since version 2.1.0.\n",
      "INFO:root:Reading Stix-Domain-Entity {d380cf57-9810-438b-bb25-a652aaca9ab2}.\n"
     ]
    },
    {
     "name": "stdout",
     "output_type": "stream",
     "text": [
      "4a5d8135-8133-4567-ba98-1346abf484d0\n",
      "d380cf57-9810-438b-bb25-a652aaca9ab2\n"
     ]
    },
    {
     "name": "stderr",
     "output_type": "stream",
     "text": [
      "INFO:root:Listing stix_relations with {type: indicates, from_id: 4a5d8135-8133-4567-ba98-1346abf484d0, to_id: d380cf57-9810-438b-bb25-a652aaca9ab2}\n",
      "INFO:root:Reading Report {a216498d-1d4c-4555-a6a5-c62f38300e74}.\n",
      "INFO:root:Adding Stix-Entity {7bb90a52-2259-4a66-b57c-30b3ae9f3bcf} to Report {a216498d-1d4c-4555-a6a5-c62f38300e74}\n",
      "C:\\ProgramData\\Anaconda3\\lib\\site-packages\\ipykernel_launcher.py:300: DeprecationWarning: Call to deprecated method get_stix_domain_entity. (Replaced by the StixDomainEntity class in pycti) -- Deprecated since version 2.1.0.\n",
      "INFO:root:Reading Stix-Domain-Entity {8f5bc80d-30ca-4c10-b294-27dad63d3061}.\n",
      "C:\\ProgramData\\Anaconda3\\lib\\site-packages\\ipykernel_launcher.py:303: DeprecationWarning: Call to deprecated method get_stix_domain_entity. (Replaced by the StixDomainEntity class in pycti) -- Deprecated since version 2.1.0.\n",
      "INFO:root:Reading Stix-Domain-Entity {d380cf57-9810-438b-bb25-a652aaca9ab2}.\n"
     ]
    },
    {
     "name": "stdout",
     "output_type": "stream",
     "text": [
      "8f5bc80d-30ca-4c10-b294-27dad63d3061\n",
      "d380cf57-9810-438b-bb25-a652aaca9ab2\n"
     ]
    },
    {
     "name": "stderr",
     "output_type": "stream",
     "text": [
      "INFO:root:Listing stix_relations with {type: indicates, from_id: 8f5bc80d-30ca-4c10-b294-27dad63d3061, to_id: d380cf57-9810-438b-bb25-a652aaca9ab2}\n",
      "INFO:root:Reading Report {a216498d-1d4c-4555-a6a5-c62f38300e74}.\n",
      "INFO:root:Adding Stix-Entity {7d8127b7-8924-43dc-9c78-7ead43377217} to Report {a216498d-1d4c-4555-a6a5-c62f38300e74}\n",
      "C:\\ProgramData\\Anaconda3\\lib\\site-packages\\ipykernel_launcher.py:300: DeprecationWarning: Call to deprecated method get_stix_domain_entity. (Replaced by the StixDomainEntity class in pycti) -- Deprecated since version 2.1.0.\n",
      "INFO:root:Reading Stix-Domain-Entity {7fc83aa3-8c7a-40da-8cf4-0b9b90c4c0ac}.\n",
      "C:\\ProgramData\\Anaconda3\\lib\\site-packages\\ipykernel_launcher.py:303: DeprecationWarning: Call to deprecated method get_stix_domain_entity. (Replaced by the StixDomainEntity class in pycti) -- Deprecated since version 2.1.0.\n",
      "INFO:root:Reading Stix-Domain-Entity {d380cf57-9810-438b-bb25-a652aaca9ab2}.\n"
     ]
    },
    {
     "name": "stdout",
     "output_type": "stream",
     "text": [
      "7fc83aa3-8c7a-40da-8cf4-0b9b90c4c0ac\n",
      "d380cf57-9810-438b-bb25-a652aaca9ab2\n"
     ]
    },
    {
     "name": "stderr",
     "output_type": "stream",
     "text": [
      "INFO:root:Listing stix_relations with {type: indicates, from_id: 7fc83aa3-8c7a-40da-8cf4-0b9b90c4c0ac, to_id: d380cf57-9810-438b-bb25-a652aaca9ab2}\n",
      "INFO:root:Reading Report {a216498d-1d4c-4555-a6a5-c62f38300e74}.\n",
      "INFO:root:Adding Stix-Entity {b570b5b8-4d12-4a42-8ec5-740729eb486a} to Report {a216498d-1d4c-4555-a6a5-c62f38300e74}\n",
      "C:\\ProgramData\\Anaconda3\\lib\\site-packages\\ipykernel_launcher.py:300: DeprecationWarning: Call to deprecated method get_stix_domain_entity. (Replaced by the StixDomainEntity class in pycti) -- Deprecated since version 2.1.0.\n",
      "INFO:root:Reading Stix-Domain-Entity {be19e5c7-c324-4215-adc8-0479a3d6c21c}.\n",
      "C:\\ProgramData\\Anaconda3\\lib\\site-packages\\ipykernel_launcher.py:303: DeprecationWarning: Call to deprecated method get_stix_domain_entity. (Replaced by the StixDomainEntity class in pycti) -- Deprecated since version 2.1.0.\n",
      "INFO:root:Reading Stix-Domain-Entity {f14a312d-c43b-4c07-9951-f3448dfb7ba6}.\n"
     ]
    },
    {
     "name": "stdout",
     "output_type": "stream",
     "text": [
      "be19e5c7-c324-4215-adc8-0479a3d6c21c\n",
      "f14a312d-c43b-4c07-9951-f3448dfb7ba6\n"
     ]
    },
    {
     "name": "stderr",
     "output_type": "stream",
     "text": [
      "INFO:root:Listing stix_relations with {type: indicates, from_id: be19e5c7-c324-4215-adc8-0479a3d6c21c, to_id: f14a312d-c43b-4c07-9951-f3448dfb7ba6}\n",
      "INFO:root:Reading Report {a216498d-1d4c-4555-a6a5-c62f38300e74}.\n",
      "INFO:root:Adding Stix-Entity {ef76b9dd-b8e8-4906-bbab-f3d2d7528d71} to Report {a216498d-1d4c-4555-a6a5-c62f38300e74}\n"
     ]
    }
   ],
   "source": [
    "en.create_relationships(report = 'a216498d-1d4c-4555-a6a5-c62f38300e74')"
   ]
  },
  {
   "cell_type": "code",
   "execution_count": 30,
   "metadata": {},
   "outputs": [
    {
     "name": "stderr",
     "output_type": "stream",
     "text": [
      "INFO:root:Listing StixObservables with filters [{\"key\": \"observable_value\", \"values\": [\"16a9f340c0d353332ba6f525376c93e1\"]}].\n"
     ]
    },
    {
     "data": {
      "text/plain": [
       "{'id': 'f83d95e4-3540-4417-bbcd-b422bdb45d93',\n",
       " 'stix_id_key': 'observable--5506469d-f820-4ddb-8edd-4cf04e6457aa',\n",
       " 'entity_type': 'file',\n",
       " 'name': '',\n",
       " 'description': None,\n",
       " 'observable_value': '16a9f340c0d353332ba6f525376c93e1',\n",
       " 'created_at': '2020-02-01T12:16:25.666Z',\n",
       " 'updated_at': '2020-02-01T12:16:25.666Z',\n",
       " 'createdByRef': None,\n",
       " 'tags': [],\n",
       " 'markingDefinitions': [],\n",
       " 'externalReferences': [],\n",
       " 'indicators': [],\n",
       " 'markingDefinitionsIds': [],\n",
       " 'tagsIds': [],\n",
       " 'externalReferencesIds': [],\n",
       " 'indicatorsIds': []}"
      ]
     },
     "execution_count": 30,
     "metadata": {},
     "output_type": "execute_result"
    }
   ],
   "source": [
    "opencti_api_client.stix_observable.create(type='File-MD5',observable_value='16a9f340c0d353332ba6f525376c93e1')"
   ]
  },
  {
   "cell_type": "code",
   "execution_count": 57,
   "metadata": {},
   "outputs": [],
   "source": [
    "df=pd.read_excel(r\"D:\\Threat_intel_services\\srikanth\\fakeapt12.xlsx\",sheet_name = 'Indicator' ) "
   ]
  },
  {
   "cell_type": "code",
   "execution_count": null,
   "metadata": {},
   "outputs": [],
   "source": [
    "indicator = opencti_api_client.indicator.create(\n",
    "    name=row['name'],\n",
    "    description= row['description'],\n",
    "    pattern_type= row['pattern_type'],\n",
    "    indicator_pattern= row ['main_observable_type'],\n",
    "    main_observable_type=\"File\",\n",
    ")"
   ]
  },
  {
   "cell_type": "code",
   "execution_count": null,
   "metadata": {},
   "outputs": [],
   "source": []
  },
  {
   "cell_type": "code",
   "execution_count": 122,
   "metadata": {},
   "outputs": [
    {
     "name": "stderr",
     "output_type": "stream",
     "text": [
      "INFO:root:Reading Indicator {020f02e8-75d1-4527-8000-19fcf34a2b1c}.\n",
      "ERROR:root:An unknown error has occurred!  Please try again later.\n"
     ]
    },
    {
     "ename": "TypeError",
     "evalue": "'NoneType' object is not subscriptable",
     "output_type": "error",
     "traceback": [
      "\u001b[1;31m---------------------------------------------------------------------------\u001b[0m",
      "\u001b[1;31mTypeError\u001b[0m                                 Traceback (most recent call last)",
      "\u001b[1;32m<ipython-input-122-7409a8b3c35a>\u001b[0m in \u001b[0;36m<module>\u001b[1;34m\u001b[0m\n\u001b[1;32m----> 1\u001b[1;33m \u001b[0mopencti_api_client\u001b[0m\u001b[1;33m.\u001b[0m\u001b[0mindicator\u001b[0m\u001b[1;33m.\u001b[0m\u001b[0mread\u001b[0m\u001b[1;33m(\u001b[0m \u001b[0mid\u001b[0m \u001b[1;33m=\u001b[0m\u001b[1;34m'020f02e8-75d1-4527-8000-19fcf34a2b1c'\u001b[0m\u001b[1;33m)\u001b[0m\u001b[1;33m\u001b[0m\u001b[1;33m\u001b[0m\u001b[0m\n\u001b[0m",
      "\u001b[1;32mC:\\ProgramData\\Anaconda3\\lib\\site-packages\\pycti\\entities\\opencti_indicator.py\u001b[0m in \u001b[0;36mread\u001b[1;34m(self, **kwargs)\u001b[0m\n\u001b[0;32m    235\u001b[0m             )\n\u001b[0;32m    236\u001b[0m             \u001b[0mresult\u001b[0m \u001b[1;33m=\u001b[0m \u001b[0mself\u001b[0m\u001b[1;33m.\u001b[0m\u001b[0mopencti\u001b[0m\u001b[1;33m.\u001b[0m\u001b[0mquery\u001b[0m\u001b[1;33m(\u001b[0m\u001b[0mquery\u001b[0m\u001b[1;33m,\u001b[0m \u001b[1;33m{\u001b[0m\u001b[1;34m\"id\"\u001b[0m\u001b[1;33m:\u001b[0m \u001b[0mid\u001b[0m\u001b[1;33m}\u001b[0m\u001b[1;33m)\u001b[0m\u001b[1;33m\u001b[0m\u001b[1;33m\u001b[0m\u001b[0m\n\u001b[1;32m--> 237\u001b[1;33m             \u001b[1;32mreturn\u001b[0m \u001b[0mself\u001b[0m\u001b[1;33m.\u001b[0m\u001b[0mopencti\u001b[0m\u001b[1;33m.\u001b[0m\u001b[0mprocess_multiple_fields\u001b[0m\u001b[1;33m(\u001b[0m\u001b[0mresult\u001b[0m\u001b[1;33m[\u001b[0m\u001b[1;34m\"data\"\u001b[0m\u001b[1;33m]\u001b[0m\u001b[1;33m[\u001b[0m\u001b[1;34m\"indicator\"\u001b[0m\u001b[1;33m]\u001b[0m\u001b[1;33m)\u001b[0m\u001b[1;33m\u001b[0m\u001b[1;33m\u001b[0m\u001b[0m\n\u001b[0m\u001b[0;32m    238\u001b[0m         \u001b[1;32melif\u001b[0m \u001b[0mfilters\u001b[0m \u001b[1;32mis\u001b[0m \u001b[1;32mnot\u001b[0m \u001b[1;32mNone\u001b[0m\u001b[1;33m:\u001b[0m\u001b[1;33m\u001b[0m\u001b[1;33m\u001b[0m\u001b[0m\n\u001b[0;32m    239\u001b[0m             \u001b[0mresult\u001b[0m \u001b[1;33m=\u001b[0m \u001b[0mself\u001b[0m\u001b[1;33m.\u001b[0m\u001b[0mlist\u001b[0m\u001b[1;33m(\u001b[0m\u001b[0mfilters\u001b[0m\u001b[1;33m=\u001b[0m\u001b[0mfilters\u001b[0m\u001b[1;33m)\u001b[0m\u001b[1;33m\u001b[0m\u001b[1;33m\u001b[0m\u001b[0m\n",
      "\u001b[1;31mTypeError\u001b[0m: 'NoneType' object is not subscriptable"
     ]
    }
   ],
   "source": [
    "opencti_api_client.indicator.read( id ='020f02e8-75d1-4527-8000-19fcf34a2b1c')"
   ]
  },
  {
   "cell_type": "code",
   "execution_count": null,
   "metadata": {},
   "outputs": [],
   "source": []
  },
  {
   "cell_type": "code",
   "execution_count": null,
   "metadata": {},
   "outputs": [],
   "source": []
  },
  {
   "cell_type": "code",
   "execution_count": 93,
   "metadata": {},
   "outputs": [
    {
     "name": "stderr",
     "output_type": "stream",
     "text": [
      "INFO:root:Reading Indicator {2fddbc1b-a3db-4156-8bf5-839f2c54ada9}.\n"
     ]
    },
    {
     "data": {
      "text/plain": [
       "{'id': '2fddbc1b-a3db-4156-8bf5-839f2c54ada9',\n",
       " 'stix_id_key': 'indicator--93bc28bc-a1bb-40be-920a-9bbb34a5509e',\n",
       " 'stix_label': None,\n",
       " 'entity_type': 'indicator',\n",
       " 'parent_types': ['Indicator', 'Stix-Domain-Entity', 'Stix-Domain'],\n",
       " 'name': '8.8.8.8',\n",
       " 'alias': [''],\n",
       " 'description': 'Simple indicator of observable {8.8.8.8}',\n",
       " 'graph_data': None,\n",
       " 'indicator_pattern': \"[ipv4-addr:value = '8.8.8.8']\",\n",
       " 'pattern_type': 'stix',\n",
       " 'valid_from': '2020-01-23T00:51:50.426Z',\n",
       " 'valid_until': '2021-01-22T00:51:50.426Z',\n",
       " 'score': 50,\n",
       " 'created': '2020-01-23T00:51:50.426Z',\n",
       " 'modified': '2020-01-23T00:51:50.426Z',\n",
       " 'created_at': '2020-01-23T00:51:50.426Z',\n",
       " 'updated_at': '2020-01-23T00:51:50.426Z',\n",
       " 'killChainPhases': [],\n",
       " 'createdByRef': None,\n",
       " 'markingDefinitions': [{'id': '41f90184-7fcb-412f-8fa4-567c3346f0d6',\n",
       "   'entity_type': 'marking-definition',\n",
       "   'stix_id_key': 'marking-definition--613f2e26-407d-48c7-9eca-b8e91df99dc9',\n",
       "   'definition_type': 'TLP',\n",
       "   'definition': 'TLP:WHITE',\n",
       "   'level': 1,\n",
       "   'color': '#ffffff',\n",
       "   'created': '2020-01-22T19:30:46.000Z',\n",
       "   'modified': '2020-01-22T19:30:46.000Z',\n",
       "   'remote_relation_id': '8846f7df-f1a5-5647-965d-80f77b03204c',\n",
       "   'createdByRef': None}],\n",
       " 'tags': [],\n",
       " 'externalReferences': [],\n",
       " 'observableRefs': [{'id': 'e9e1c04e-9eba-4df1-9d73-febedccb099f',\n",
       "   'entity_type': 'ipv4-addr',\n",
       "   'stix_id_key': 'observable--9dff5265-9f26-4569-a731-d627a3422d67',\n",
       "   'observable_value': '8.8.8.8',\n",
       "   'remote_relation_id': '89722880-677e-574d-ac81-bff683b0d8dc',\n",
       "   'createdByRef': None}],\n",
       " 'markingDefinitionsIds': ['41f90184-7fcb-412f-8fa4-567c3346f0d6'],\n",
       " 'tagsIds': [],\n",
       " 'killChainPhasesIds': [],\n",
       " 'externalReferencesIds': [],\n",
       " 'observableRefsIds': ['e9e1c04e-9eba-4df1-9d73-febedccb099f']}"
      ]
     },
     "execution_count": 93,
     "metadata": {},
     "output_type": "execute_result"
    }
   ],
   "source": [
    "opencti_api_client.indicator.read(id = '2fddbc1b-a3db-4156-8bf5-839f2c54ada9')\n"
   ]
  },
  {
   "cell_type": "code",
   "execution_count": null,
   "metadata": {},
   "outputs": [],
   "source": [
    "main_dict={'fakeapt12': 'f55ab06f-da9c-417f-bcd5-5127e4bd459b',\n",
    "  'Spear phishing': 'fa1fd76f-4535-45e3-9e0b-86b3c5b98a24',\n",
    "  'Exploitation for Client Execution': 'ed27d3c8-e054-49ff-80d1-19c0d72dc286',\n",
    "  'Spearphishing attachment': '3a2e89b6-4dbd-4172-8340-b424dff022f9',\n",
    "  'User Execution': 'aa4dac29-3d7a-449c-9455-28977b7f27a2',\n",
    "  'Web Service': '3b5277c0-34c5-4371-8516-3aeee9c14d69',\n",
    "  'Command-Line Interface': '7aa0b906-0670-4d97-a0f3-00fb626856d4',\n",
    "  'Commonly Used Port': 'fab5312a-b85a-4b52-961c-a18deed6a0ef',\n",
    "  'Data from Local System': '97d127c9-761b-422f-b2af-f162779e2c72',\n",
    "  'Data Obfuscation': 'd1aa53d0-9808-4325-b46a-612b83212b4a',\n",
    "  'File and Directory Discovery': '3b6464bf-890d-494a-835f-f5f8cc4b2d58',\n",
    "  'File Deletion': '5d0c505b-999d-4039-8e18-a704b234f972',\n",
    "  'Hidden Files and Directories': '7df7f45d-47f9-4e60-b984-a12cfcd4e034',\n",
    "  'Masquerading': 'ba2deef8-4c2f-4346-b412-36a148697fec',\n",
    "  'Process Discovery': '637c1675-6cff-479b-abf2-a6828ee06f49',\n",
    "  'Registry Run Keys / Startup Folder': 'cdc06ba5-99f3-4023-9534-2aa2e2d033f6',\n",
    "  'Remote File Copy': 'bffaec7e-4751-41d7-a700-03d3131e6ce6',\n",
    "  'Standard Application Layer Protocol': '746fa63c-2c4a-48aa-b7a9-50433725ecd7',\n",
    "  'System Information Discovery': '0f4235bc-d348-4228-bf8c-59bef3d57c6c',\n",
    "  'System Network Configuration Discovery': '63d0b6b7-3720-42f4-96ab-d6e46c3c133d',\n",
    "  'System Owner/User Discovery': 'c6728d7c-2822-43ff-be59-80b7d6c5a033',\n",
    "  'System Service Discovery': '7f54a4d8-f454-4a48-a510-be07ff5d2f93',\n",
    "  'Standard Cryptographic Protocol': '213b60fb-44e3-46f0-ab02-faae8ce62653',\n",
    "  'Connection Proxy': '079578de-fe65-45f2-b0d7-882f8f0b1f4b',\n",
    "  'Process Injection': '06e637be-7ca5-4750-8ac3-de6d82fdd174',\n",
    "  'Rootkit': 'b7e54f8e-1390-4eec-81fa-7fe83f7b8b18',\n",
    "  'Ixeshe': '96d9e9c1-c06c-490f-9453-d578c93e14ba',\n",
    "  'Aumlib': '5cf859fe-b7bc-4a2a-a7f1-6a7e22dd00cf',\n",
    "  'Threebyte': '6d53e9e7-9c6f-43a7-ad6c-1def2eee030e',\n",
    "  'Hightide': '8a91cd27-e581-45e8-bf55-26084bcfdaad',\n",
    "  'Waterspout': 'f15bce7b-e2cd-49e9-8001-2d6fdd94d4e0',\n",
    "  'HTRAN': 'ad08da3f-5f3c-44a6-81ff-9082ef710e4c',\n",
    "  'CVE-2009-4324': '7b22dff2-486b-402b-b338-c67950a59126',\n",
    "  'CVE-2009-0927': '671c5891-435c-416d-8576-8b4e7237a354',\n",
    "  'CVE-2011-0609': '116e96f5-675e-4271-ad95-ab324db18dce',\n",
    "  'CVE-2011-0611': '2c0765b3-c1ba-4e19-81a5-0149be5d55b2',\n",
    "  'CVE-2009-3129': '3f3c06e1-c26d-447f-917d-70d8c998b284',\n",
    "  'CVE-2012-0158': '95e3a6fc-aba3-432e-9a33-3be79d0b5e62'}"
   ]
  },
  {
   "cell_type": "code",
   "execution_count": 26,
   "metadata": {},
   "outputs": [
    {
     "name": "stderr",
     "output_type": "stream",
     "text": [
      "INFO:root:Listing Stix-Domain-Entities with filters [{\"key\": \"name\", \"values\": [\"My new Intrusion Set\"]}].\n",
      "INFO:root:{\"errors\":[{\"message\":\"Cannot query field \\\"observableRefs\\\" on type \\\"Incident\\\".\",\"locations\":[{\"line\":126,\"column\":17}],\"extensions\":{\"code\":\"GRAPHQL_VALIDATION_FAILED\"}}]}\n",
      "\n"
     ]
    },
    {
     "ename": "TypeError",
     "evalue": "'NoneType' object is not subscriptable",
     "output_type": "error",
     "traceback": [
      "\u001b[1;31m---------------------------------------------------------------------------\u001b[0m",
      "\u001b[1;31mTypeError\u001b[0m                                 Traceback (most recent call last)",
      "\u001b[1;32m<ipython-input-26-660958540f94>\u001b[0m in \u001b[0;36m<module>\u001b[1;34m\u001b[0m\n\u001b[0;32m      4\u001b[0m     \u001b[0mfirst_seen\u001b[0m\u001b[1;33m=\u001b[0m\u001b[0mdatetime\u001b[0m\u001b[1;33m.\u001b[0m\u001b[0mdate\u001b[0m\u001b[1;33m.\u001b[0m\u001b[0mtoday\u001b[0m\u001b[1;33m(\u001b[0m\u001b[1;33m)\u001b[0m\u001b[1;33m.\u001b[0m\u001b[0mstrftime\u001b[0m\u001b[1;33m(\u001b[0m\u001b[1;34m\"%Y-%m-%dT%H:%M:%S+00:00\"\u001b[0m\u001b[1;33m)\u001b[0m\u001b[1;33m,\u001b[0m\u001b[1;33m\u001b[0m\u001b[1;33m\u001b[0m\u001b[0m\n\u001b[0;32m      5\u001b[0m     \u001b[0mlast_seen\u001b[0m\u001b[1;33m=\u001b[0m\u001b[0mdatetime\u001b[0m\u001b[1;33m.\u001b[0m\u001b[0mdate\u001b[0m\u001b[1;33m.\u001b[0m\u001b[0mtoday\u001b[0m\u001b[1;33m(\u001b[0m\u001b[1;33m)\u001b[0m\u001b[1;33m.\u001b[0m\u001b[0mstrftime\u001b[0m\u001b[1;33m(\u001b[0m\u001b[1;34m\"%Y-%m-%dT%H:%M:%S+00:00\"\u001b[0m\u001b[1;33m)\u001b[0m\u001b[1;33m,\u001b[0m\u001b[1;33m\u001b[0m\u001b[1;33m\u001b[0m\u001b[0m\n\u001b[1;32m----> 6\u001b[1;33m     \u001b[0mupdate\u001b[0m\u001b[1;33m=\u001b[0m\u001b[1;32mTrue\u001b[0m\u001b[1;33m,\u001b[0m\u001b[1;33m\u001b[0m\u001b[1;33m\u001b[0m\u001b[0m\n\u001b[0m\u001b[0;32m      7\u001b[0m )\n",
      "\u001b[1;32mC:\\ProgramData\\Anaconda3\\lib\\site-packages\\pycti\\entities\\opencti_intrusion_set.py\u001b[0m in \u001b[0;36mcreate\u001b[1;34m(self, **kwargs)\u001b[0m\n",
      "\u001b[1;32mC:\\ProgramData\\Anaconda3\\lib\\site-packages\\pycti\\entities\\opencti_stix_domain_entity.py\u001b[0m in \u001b[0;36mget_by_stix_id_or_name\u001b[1;34m(self, **kwargs)\u001b[0m\n",
      "\u001b[1;32mC:\\ProgramData\\Anaconda3\\lib\\site-packages\\pycti\\entities\\opencti_stix_domain_entity.py\u001b[0m in \u001b[0;36mread\u001b[1;34m(self, **kwargs)\u001b[0m\n",
      "\u001b[1;32mC:\\ProgramData\\Anaconda3\\lib\\site-packages\\pycti\\entities\\opencti_stix_domain_entity.py\u001b[0m in \u001b[0;36mlist\u001b[1;34m(self, **kwargs)\u001b[0m\n",
      "\u001b[1;31mTypeError\u001b[0m: 'NoneType' object is not subscriptable"
     ]
    }
   ],
   "source": [
    "intrusion_set = opencti_api_client.intrusion_set.create(\n",
    "    name=\"My new Intrusion Set\",\n",
    "    description=\"Evil Cluster\",\n",
    "    first_seen=datetime.date.today().strftime(\"%Y-%m-%dT%H:%M:%S+00:00\"),\n",
    "    last_seen=datetime.date.today().strftime(\"%Y-%m-%dT%H:%M:%S+00:00\"),\n",
    "    update=True,\n",
    ")"
   ]
  },
  {
   "cell_type": "code",
   "execution_count": 11,
   "metadata": {},
   "outputs": [
    {
     "name": "stderr",
     "output_type": "stream",
     "text": [
      "INFO:root:Reading StixObservable {ce4664ee-b323-4b79-a72b-e05ef9278ab6}.\n"
     ]
    },
    {
     "data": {
      "text/plain": [
       "{'id': 'ce4664ee-b323-4b79-a72b-e05ef9278ab6',\n",
       " 'stix_id_key': 'observable--2945ea37-d547-4f0f-b34f-376363422f97',\n",
       " 'entity_type': 'file-sha256',\n",
       " 'name': '3603abdb3a307872b8bad338640095b65ca59439a34a372584073ff794a306e3',\n",
       " 'description': 'Sample',\n",
       " 'observable_value': '3603abdb3a307872b8bad338640095b65ca59439a34a372584073ff794a306e3',\n",
       " 'created_at': '2020-02-02T01:59:21.917Z',\n",
       " 'updated_at': '2020-02-02T01:59:21.917Z',\n",
       " 'createdByRef': {'id': '2e0562f3-a790-4b18-9696-8a602d29d380',\n",
       "  'entity_type': 'organization',\n",
       "  'stix_id_key': 'identity--65a61e6d-d108-44b6-86cb-a60c585d1e5a',\n",
       "  'stix_label': None,\n",
       "  'name': 'CIRCL',\n",
       "  'alias': [''],\n",
       "  'description': '',\n",
       "  'created': '2020-01-22T23:40:04.261Z',\n",
       "  'modified': '2020-01-23T00:00:14.579Z',\n",
       "  'organization_class': 'vendor',\n",
       "  'remote_relation_id': '8bbef61e-a0ed-56db-95b2-601a126f7738'},\n",
       " 'tags': [],\n",
       " 'markingDefinitions': [{'id': '41f90184-7fcb-412f-8fa4-567c3346f0d6',\n",
       "   'entity_type': 'marking-definition',\n",
       "   'stix_id_key': 'marking-definition--613f2e26-407d-48c7-9eca-b8e91df99dc9',\n",
       "   'definition_type': 'TLP',\n",
       "   'definition': 'TLP:WHITE',\n",
       "   'level': 1,\n",
       "   'color': '#ffffff',\n",
       "   'created': '2020-01-22T19:30:46.000Z',\n",
       "   'modified': '2020-01-22T19:30:46.000Z',\n",
       "   'remote_relation_id': '1aecb7af-0652-5f92-adae-28fe698f597e',\n",
       "   'createdByRef': None}],\n",
       " 'externalReferences': [],\n",
       " 'indicators': [{'id': '8928c356-c5cc-473f-a3e5-d4200eec99b1',\n",
       "   'entity_type': 'indicator',\n",
       "   'stix_id_key': 'indicator--8a573ffe-9157-4bca-b736-a99f7255ff01',\n",
       "   'valid_from': '2016-07-05T20:27:26.000Z',\n",
       "   'valid_until': '2017-07-05T20:27:26.000Z',\n",
       "   'score': 50,\n",
       "   'pattern_type': 'stix',\n",
       "   'indicator_pattern': \"[file:hashes.SHA256 = '3603abdb3a307872b8bad338640095b65ca59439a34a372584073ff794a306e3']\",\n",
       "   'created': '2020-01-31T02:12:42.190Z',\n",
       "   'modified': '2020-01-31T02:12:42.190Z',\n",
       "   'remote_relation_id': '4747d50e-586a-5d74-9af3-f2b618123965',\n",
       "   'createdByRef': None}],\n",
       " 'markingDefinitionsIds': ['41f90184-7fcb-412f-8fa4-567c3346f0d6'],\n",
       " 'tagsIds': [],\n",
       " 'externalReferencesIds': [],\n",
       " 'indicatorsIds': ['8928c356-c5cc-473f-a3e5-d4200eec99b1']}"
      ]
     },
     "execution_count": 11,
     "metadata": {},
     "output_type": "execute_result"
    }
   ],
   "source": [
    "opencti_api_client.stix_observable.read ( id ='ce4664ee-b323-4b79-a72b-e05ef9278ab6')"
   ]
  },
  {
   "cell_type": "code",
   "execution_count": null,
   "metadata": {},
   "outputs": [],
   "source": []
  },
  {
   "cell_type": "code",
   "execution_count": null,
   "metadata": {},
   "outputs": [],
   "source": []
  },
  {
   "cell_type": "code",
   "execution_count": null,
   "metadata": {},
   "outputs": [],
   "source": []
  },
  {
   "cell_type": "code",
   "execution_count": null,
   "metadata": {},
   "outputs": [],
   "source": []
  },
  {
   "cell_type": "code",
   "execution_count": null,
   "metadata": {},
   "outputs": [],
   "source": []
  },
  {
   "cell_type": "code",
   "execution_count": null,
   "metadata": {},
   "outputs": [],
   "source": []
  },
  {
   "cell_type": "code",
   "execution_count": null,
   "metadata": {},
   "outputs": [],
   "source": []
  },
  {
   "cell_type": "code",
   "execution_count": null,
   "metadata": {},
   "outputs": [],
   "source": []
  },
  {
   "cell_type": "code",
   "execution_count": null,
   "metadata": {},
   "outputs": [],
   "source": []
  },
  {
   "cell_type": "code",
   "execution_count": null,
   "metadata": {},
   "outputs": [],
   "source": []
  },
  {
   "cell_type": "code",
   "execution_count": null,
   "metadata": {},
   "outputs": [],
   "source": []
  },
  {
   "cell_type": "code",
   "execution_count": null,
   "metadata": {},
   "outputs": [],
   "source": []
  },
  {
   "cell_type": "code",
   "execution_count": null,
   "metadata": {},
   "outputs": [],
   "source": []
  },
  {
   "cell_type": "code",
   "execution_count": null,
   "metadata": {},
   "outputs": [],
   "source": []
  },
  {
   "cell_type": "code",
   "execution_count": null,
   "metadata": {},
   "outputs": [],
   "source": [
    "#add self\n",
    "def create_relationships(relation_path,report ='2dc633ee-3a27-48c1-900f-58428765ea55'):\n",
    "    \n",
    "    relation_details= pd.read_excel(relation_path,sheet_name='threat_actor_relations')\n",
    "    relation_details = relation_details.where(relation_details.notnull(), None)\n",
    "    \n",
    "    df=relation_details.copy()\n",
    "    df['to'] = [str(i).strip() for i in df['to']]\n",
    "    df['to']=df['to'].map(main_dict)\n",
    "    df['from']=df['from'].map(main_dict)\n",
    "    \n",
    "    df = df.where(df.notnull(), None)\n",
    "    \n",
    "    \n",
    "    for index,row in df.iterrows():\n",
    "        \n",
    "        if ((row['from']) is not None ) & ((row['to']) is not None ):\n",
    "        \n",
    "                print(row['from'])\n",
    "                print(row['to'])\n",
    "                relation = opencti_api_client.stix_relation.create(\n",
    "                fromType= opencti_api_client.get_stix_domain_entity (id =row['from'])['entity_type'],\n",
    "                fromId=row['from'],\n",
    "                relationship_type = row['relation'],\n",
    "                toType=opencti_api_client.get_stix_domain_entity (row['to'])['entity_type'],\n",
    "                toId= row ['to'],\n",
    "                )\n",
    "        \n",
    "                opencti_api_client.report.add_stix_entity(id=report,entity_id = relation['id'] )"
   ]
  },
  {
   "cell_type": "code",
   "execution_count": null,
   "metadata": {},
   "outputs": [],
   "source": [
    "#add self\n",
    "def create_relationships(relation_path,report ='2dc633ee-3a27-48c1-900f-58428765ea55'):\n",
    "    \n",
    "    relation_details= pd.read_excel(relation_path,sheet_name='threat_actor_relations')\n",
    "    relation_details = relation_details.where(relation_details.notnull(), None)\n",
    "    \n",
    "    df=relation_details.copy()\n",
    "    df['to'] = [str(i).strip() for i in df['to']]\n",
    "    df['to']=df['to'].map(main_dict)\n",
    "    df['from']=df['from'].map(main_dict)\n",
    "    \n",
    "    df = df.where(df.notnull(), None)\n",
    "    \n",
    "    \n",
    "    for index,row in df.iterrows():\n",
    "        \n",
    "        if ((row['from']) is not None ) & ((row['to']) is not None ):\n",
    "        \n",
    "                print(row['from'])\n",
    "                print(row['to'])\n",
    "                relation = opencti_api_client.stix_relation.create(\n",
    "                fromType= opencti_api_client.get_stix_domain_entity (id =row['from'])['entity_type'],\n",
    "                fromId=row['from'],\n",
    "                relationship_type = row['relation'],\n",
    "                toType=opencti_api_client.get_stix_domain_entity (row['to'])['entity_type'],\n",
    "                toId= row ['to'],\n",
    "                )\n",
    "        \n",
    "                opencti_api_client.report.add_stix_entity(id=report,entity_id = relation['id'] )"
   ]
  },
  {
   "cell_type": "code",
   "execution_count": null,
   "metadata": {},
   "outputs": [],
   "source": [
    "def create_tool(self,by,report):           #malware insertion    \n",
    "            \n",
    "            tool_details = pd.read_excel(self.report_path,sheet_name = 'tool')\n",
    "            tool_details = tool_details.where(tool_details.notnull(), None)\n",
    "            \n",
    "            for index,row in tool_details.iterrows():\n",
    "            \n",
    "                if row['alias'] is not None:\n",
    "                    aliases =row['alias'].split(',')\n",
    "                    print(aliases)\n",
    "                else:\n",
    "                    aliases = None\n",
    "                \n",
    "                exist = opencti_api_client.tool.list ( filters=[{'key' : 'name' , 'values' : row['name']}])\n",
    "            \n",
    "                if (len(exist) > 0):\n",
    "                    tool = opencti_api_client.tool.create(\n",
    "                                                name = row['name'],\n",
    "                                                description = row['description'],\n",
    "                                                alias = aliases ,\n",
    "                                                modified = datetime.date.today().strftime(\"%Y-%m-%dT%H:%M:%S+00:00\") ,\n",
    "                                                createdByRef = by,\n",
    "                                                )\n",
    "                else:\n",
    "                     tool = opencti_api_client.tool.create(\n",
    "                                                name = row['name'],\n",
    "                                                description = row['description'],\n",
    "                                                alias = aliases ,\n",
    "                                                modified = datetime.date.today().strftime(\"%Y-%m-%dT%H:%M:%S+00:00\") ,\n",
    "                                                update = True,\n",
    "                                                 )\n",
    "                if row['marking_definitions'] is not None:\n",
    "                        self.add_mark_def(stix_id=tool['id'],row=row)\n",
    "                        \n",
    "                opencti_api_client.report.add_stix_entity(id=report,entity_id = tool['id'] )"
   ]
  },
  {
   "cell_type": "code",
   "execution_count": null,
   "metadata": {},
   "outputs": [],
   "source": [
    "def create_report(self,report_by):\n",
    "\n",
    "    report_details=pd.read_excel(self.report_path,sheet_name = 'report')\n",
    "    report_by = opencti_api_client.identity.read(filters=[{'key':'name','values': report_by }])\n",
    "    \n",
    "    if report_by is None: \n",
    "        warnings.warn(\"Since \" + report_by + \" is not inserted in opencti.Rhymtechnologies is taken as default\")\n",
    "        report_by = organization = opencti_api_client.identity.create(\n",
    "                                    type='Organization',\n",
    "                                    name=\"Rhymtechnologies\",\n",
    "                                    alias=[\"Rhymtech\"],\n",
    "                                    description=\"A young and innovative company formed with a vision to create world leading Cyber Security products and services. The promoters are a group of highly successful professionals with diverse backgrounds across IT Delivery, Sales and Consulting, Cyber Security, Artificial Intelligence, Machine Learning and Data Sciences. Our group of consultants led by some of the best minds in the industry have successfully provided strategic and value-add services for multiple large organizations globally.\",\n",
    "                                    )\n",
    "                        \n",
    "    \n",
    "    \n",
    "    for index,row in report_details.iterrows():\n",
    "        \n",
    "        date = parse(row['published']).strftime(\"%Y-%m-%dT%H:%M:%SZ\")\n",
    "        if source_confidence_level is None:\n",
    "                    report = opencti_api_client.report.create(\n",
    "                                                    name=row['name'],\n",
    "                                                    description= row['description'],\n",
    "                                                    report_class=\"Internal Report\",\n",
    "                                                    published=date,\n",
    "                                                    createdByRef= report_by['id'],\n",
    "                                                    object_status = 0,\n",
    "                                                    update = True,\n",
    "                                                    )\n",
    "        else:\n",
    "             report = opencti_api_client.report.create(\n",
    "                                                    name=row['name'],\n",
    "                                                    description= row['description'],\n",
    "                                                    report_class=\"Internal Report\",\n",
    "                                                    published=date,\n",
    "                                                    createdByRef= report_by['id'],\n",
    "                                                    object_status = row['object_status'],\n",
    "                                                    source_confidence_level = row ['source_confidence_level'],\n",
    "                                                    update = True,\n",
    "                                                    )\n"
   ]
  },
  {
   "cell_type": "code",
   "execution_count": null,
   "metadata": {},
   "outputs": [],
   "source": [
    "create_report()"
   ]
  }
 ],
 "metadata": {
  "kernelspec": {
   "display_name": "Python 3",
   "language": "python",
   "name": "python3"
  },
  "language_info": {
   "codemirror_mode": {
    "name": "ipython",
    "version": 3
   },
   "file_extension": ".py",
   "mimetype": "text/x-python",
   "name": "python",
   "nbconvert_exporter": "python",
   "pygments_lexer": "ipython3",
   "version": "3.7.4"
  }
 },
 "nbformat": 4,
 "nbformat_minor": 2
}
