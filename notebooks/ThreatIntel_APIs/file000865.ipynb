{
 "cells": [
  {
   "cell_type": "code",
   "execution_count": 1,
   "metadata": {},
   "outputs": [],
   "source": [
    "import datetime\n",
    "from pycti import OpenCTIApiClient\n",
    "from dateutil.parser import parse\n",
    "import pandas as pd\n",
    "import os\n",
    "import warnings"
   ]
  },
  {
   "cell_type": "code",
   "execution_count": 107,
   "metadata": {},
   "outputs": [
    {
     "name": "stderr",
     "output_type": "stream",
     "text": [
      "INFO:root:Listing Threat-Actors with filters null.\n"
     ]
    }
   ],
   "source": [
    "api_url = \"http://192.168.1.251:8080\"\n",
    "api_token = \"b939cbc2-09b0-4282-bdd7-126162946ba3\"\n",
    "\n",
    "# OpenCTI initialization\n",
    "opencti_api_client = OpenCTIApiClient(api_url, api_token)\n"
   ]
  },
  {
   "cell_type": "code",
   "execution_count": 2,
   "metadata": {},
   "outputs": [
    {
     "name": "stderr",
     "output_type": "stream",
     "text": [
      "INFO:root:Listing Threat-Actors with filters null.\n"
     ]
    }
   ],
   "source": [
    "api_url = \"https://demo.opencti.io\"\n",
    "api_token = \"2b4f29e3-5ea8-4890-8cf5-a76f61f1e2b2\"\n",
    "\n",
    "# OpenCTI initialization\n",
    "opencti_api_client = OpenCTIApiClient(api_url, api_token)\n"
   ]
  },
  {
   "cell_type": "code",
   "execution_count": 30,
   "metadata": {},
   "outputs": [],
   "source": [
    "class entity_insertion:\n",
    "    \n",
    "   \n",
    "        \n",
    "\n",
    "    def __init__(self,report_path,relation_path,stix_domain= dict(),ext_ref=dict()):\n",
    "    \n",
    "        self.report_path = report_path\n",
    "        self.stix_domain = stix_domain\n",
    "        self.ext_ref = ext_ref\n",
    "        self.relation_path =None\n",
    "    \n",
    "    def add_mark_def(self,row,stix_id):\n",
    "        mark      =row['marking_definitions']\n",
    "        all_marks =opencti_api_client.marking_definition.list()\n",
    "        for i in all_marks:\n",
    "            if mark in i['definition'].lower():\n",
    "                mark_code= i['id']\n",
    "                opencti_api_client.stix_entity.add_marking_definition(id=stix_id,marking_definition_id=mark_code)  \n",
    "                \n",
    "    def add_external_references_to_stix_entity(self,url,entity_id,ext_ref):\n",
    "        \n",
    "        key=ext_ref.keys()\n",
    "        if url in key :\n",
    "                opencti_api_client.stix_entity.add_external_reference(id=entity_id, external_reference_id= self.stix_domain[url]\n",
    "                                                                     )\n",
    "    def creating_and_adding_ext_ref(self,by,report):\n",
    "        \n",
    "        ext_ref_details = pd.read_excel(self.report_path,sheet_name = 'external_ref')\n",
    "        ext_ref_details = ext_ref_details.where(ext_ref_details.notnull(), None)\n",
    "        \n",
    "        for index,row in ext_ref_details.iterrows():\n",
    "                \n",
    "                external_reference = opencti_api_client.external_reference.create(\n",
    "                            source_name= row['source_name'],\n",
    "                            url= row['url'].strip(),\n",
    "                            external_id =row['external_id'],\n",
    "                            description = row['description']\n",
    "                )\n",
    "                    \n",
    "                opencti_api_client.stix_entity.add_external_reference(id=report,external_reference_id = external_reference['id'] )  \n",
    "                self.ext_ref.update ({row['url'].strip() : external_reference['id']})               \n",
    "     \n",
    "    def create_threat_actor(self,by,report):\n",
    "            \n",
    "            threat_actor_details = pd.read_csv(self.report_path+os.sep+'threat_actor.csv')\n",
    "            threat_actor_details = threat_actor_details.where(threat_actor_details.notnull(), None)\n",
    "            \n",
    "            for index,row in threat_actor_details.iterrows():\n",
    "            \n",
    "                print(row['name'])\n",
    "                if row['alias'] is not None:\n",
    "                    aliases =row['alias'].split(',')\n",
    "                else:\n",
    "                    aliases = None\n",
    "                    \n",
    "\n",
    "                \n",
    "                threat_actor = opencti_api_client.threat_actor.create(\n",
    "                                                name = row['name'].strip(),\n",
    "                                                description = row['description'],\n",
    "                                                alias = aliases ,\n",
    "                                                goal = row['goal'] ,\n",
    "                                                sophistication = row['sophistication'] ,\n",
    "                                                resource_level = row['resource_level'] ,\n",
    "                                                primary_motivation = row['primary_motivation'] ,\n",
    "                                                secondary_motivation = row['secondary_motivation'] ,\n",
    "                                                personal_motivation = row['personal_motivation'] ,\n",
    "                                                modified = datetime.date.today().strftime(\"%Y-%m-%dT%H:%M:%S+00:00\") ,\n",
    "                                                createdByRef = by,\n",
    "                                                update = False\n",
    "                                                 )\n",
    "                    \n",
    "                if row['marking_definitions'] is not None:\n",
    "                        self.add_mark_def(stix_id=threat_actor['id'],row=row)\n",
    "                        \n",
    "                opencti_api_client.report.add_stix_entity(id=report,entity_id = threat_actor['id'] )       \n",
    "                self.stix_domain.update ({row['name'].strip() : threat_actor['id']})\n",
    "                self.add_external_references_to_stix_entity (url=row['external_references'],entity_id =threat_actor['id'],ext_ref =self.ext_ref )\n",
    "                \n",
    "                        \n",
    "    def create_attack_pattern(self,by,report):           #attack_pattern insertion    \n",
    "            \n",
    "            attack_pattern_details = pd.read_csv(self.report_path+os.sep+'attack_pattern.csv')\n",
    "            attack_pattern_details = attack_pattern_details.where(attack_pattern_details.notnull(), None)\n",
    "            \n",
    "            for index,row in attack_pattern_details.iterrows():\n",
    "            \n",
    "                if row['alias'] is not None:\n",
    "                    aliases =row['alias'].split(',')\n",
    "                else:\n",
    "                    aliases = None\n",
    "                    \n",
    "                if row['platform'] is not None:\n",
    "                    platforms =row['platform'].split(',')\n",
    "                else:\n",
    "                    platforms = None\n",
    "                    \n",
    "                print(row['required_permission'])   \n",
    "                \n",
    "                exist = opencti_api_client.attack_pattern.list ( filters=[{'key' : 'name' , 'values' : row['name']}])\n",
    "                \n",
    "                if (len(exist) == 0):\n",
    "                    by = by\n",
    "                else:\n",
    "                    by = None\n",
    "                \n",
    "                \n",
    "                attack_pattern = opencti_api_client.attack_pattern.create(\n",
    "                                                name = row['name'].strip(),\n",
    "                                                description = row['description'],\n",
    "                                                alias = aliases,\n",
    "                                                platform  = platforms ,\n",
    "                                                required_permission = row['required_permission'] ,\n",
    "                                                external_id  = row['external_id'] ,\n",
    "                                                modified = datetime.date.today().strftime(\"%Y-%m-%dT%H:%M:%S+00:00\") ,\n",
    "                                                createdByRef = by,\n",
    "                                                update=True\n",
    "                                                )\n",
    "                                          \n",
    "                if row['marking_definitions'] is not None:\n",
    "                        self.add_mark_def(stix_id=attack_pattern['id'],row=row)\n",
    "                        \n",
    "                        \n",
    "                opencti_api_client.report.add_stix_entity(id=report,entity_id = attack_pattern['id'] )  \n",
    "                self.stix_domain.update ({row['name'].strip() : attack_pattern['id']})      \n",
    "                self.add_external_references_to_stix_entity (url=row['external_references'],entity_id =attack_pattern['id'],ext_ref =self.ext_ref ) \n",
    "                    \n",
    "    def create_malware(self,by,report):           #malware insertion    \n",
    "            \n",
    "            malware_details = pd.read_csv(self.report_path+os.sep+'malwares.csv')\n",
    "            malware_details = malware_details.where(malware_details.notnull(), None)\n",
    "            \n",
    "            for index,row in malware_details.iterrows():\n",
    "            \n",
    "                if row['alias'] is not None:\n",
    "                    aliases =row['alias'].split(',')\n",
    "                    print(aliases)\n",
    "                else:\n",
    "                    aliases = None\n",
    "                \n",
    "                exist = opencti_api_client.malware.list ( filters=[{'key' : 'name' , 'values' : row['name']}])\n",
    "            \n",
    "                if (len(exist) == 0):\n",
    "                    malware = opencti_api_client.malware.create(\n",
    "                                                name = row['name'].strip(),\n",
    "                                                description = row['description'],\n",
    "                                                alias = aliases ,\n",
    "                                                modified = datetime.date.today().strftime(\"%Y-%m-%dT%H:%M:%S+00:00\") ,\n",
    "                                                createdByRef = by,\n",
    "                                                )\n",
    "                else:\n",
    "                     malware = opencti_api_client.malware.create(\n",
    "                                                name = row['name'].strip(),\n",
    "                                                description = row['description'],\n",
    "                                                alias = aliases ,\n",
    "                                                modified = datetime.date.today().strftime(\"%Y-%m-%dT%H:%M:%S+00:00\") ,\n",
    "                                                update = True,\n",
    "                                                 )\n",
    "                if row['marking_definitions'] is not None:\n",
    "                        self.add_mark_def(stix_id=malware['id'],row=row)\n",
    "                        \n",
    "                opencti_api_client.report.add_stix_entity(id=report,entity_id = malware['id'] )\n",
    "                self.stix_domain.update ({row['name'].strip() : malware['id']}) \n",
    "                self.add_external_references_to_stix_entity (url=row['external_references'],entity_id =malware['id'],ext_ref =self.ext_ref )\n",
    "                \n",
    "    def create_tool(self,by,report):           #malware insertion    \n",
    "            \n",
    "            tool_details = pd.read_csv(self.report_path+os.sep+'tools.csv')\n",
    "            tool_details = tool_details.where(tool_details.notnull(), None)\n",
    "            \n",
    "            for index,row in tool_details.iterrows():\n",
    "            \n",
    "                if row['alias'] is not None:\n",
    "                    aliases =row['alias'].split(',')\n",
    "                    print(aliases)\n",
    "                else:\n",
    "                    aliases = None\n",
    "                \n",
    "                exist = opencti_api_client.tool.list ( filters=[{'key' : 'name' , 'values' : row['name']}])\n",
    "            \n",
    "                if (len(exist) == 0):\n",
    "                    tool = opencti_api_client.tool.create(\n",
    "                                                name = row['name'].strip(),\n",
    "                                                description = row['description'],\n",
    "                                                alias = aliases ,\n",
    "                                                modified = datetime.date.today().strftime(\"%Y-%m-%dT%H:%M:%S+00:00\") ,\n",
    "                                                createdByRef = by,\n",
    "                                                )\n",
    "                else:\n",
    "                     tool = opencti_api_client.tool.create(\n",
    "                                                name = row['name'].strip(),\n",
    "                                                description = row['description'],\n",
    "                                                alias = aliases ,\n",
    "                                                modified = datetime.date.today().strftime(\"%Y-%m-%dT%H:%M:%S+00:00\") ,\n",
    "                                                update = True,\n",
    "                                                 )\n",
    "                if row['marking_definitions'] is not None:\n",
    "                        self.add_mark_def(stix_id=tool['id'],row=row)\n",
    "                        \n",
    "                opencti_api_client.report.add_stix_entity(id=report,entity_id = tool['id'] )\n",
    "                self.stix_domain.update ({row['name'].strip() : tool['id']})\n",
    "                self.add_external_references_to_stix_entity (url=row['external_references'],entity_id =tool['id'],ext_ref =self.ext_ref )\n",
    "                \n",
    "    def create_vulnerabilty(self,by,report):           #vulnerability insertion    \n",
    "            \n",
    "            vul_details = pd.read_csv(self.report_path+os.sep+'vulnearbility.csv')\n",
    "            vul_details = vul_details.where(vul_details.notnull(), None)\n",
    "            \n",
    "            for index,row in vul_details.iterrows():\n",
    "            \n",
    "                if row['alias'] is not None:\n",
    "                    aliases =row['alias'].split(',')\n",
    "                    print(aliases)\n",
    "                else:\n",
    "                    aliases = None\n",
    "                \n",
    "                exist = opencti_api_client.vulnerability.list ( filters=[{'key' : 'name' , 'values' : row['name']}])\n",
    "            \n",
    "                if (len(exist) == 0):\n",
    "                    vulnerability = opencti_api_client.vulnerability.create(\n",
    "                                                name = row['name'].strip(),\n",
    "                                                description = row['description'],\n",
    "                                                alias = aliases ,\n",
    "                                                modified = datetime.date.today().strftime(\"%Y-%m-%dT%H:%M:%S+00:00\") ,\n",
    "                                                createdByRef = by,\n",
    "                                                )\n",
    "                else:\n",
    "                     vulnerability = opencti_api_client.vulnerability.create(\n",
    "                                                name = row['name'].strip(),\n",
    "                                                description = row['description'],\n",
    "                                                alias = aliases ,\n",
    "                                                modified = datetime.date.today().strftime(\"%Y-%m-%dT%H:%M:%S+00:00\") ,\n",
    "                                                update = True,\n",
    "                                                 )\n",
    "                if row['marking_definitions'] is not None:\n",
    "                        self.add_mark_def(stix_id=vulnerability['id'],row=row)\n",
    "                        \n",
    "                opencti_api_client.report.add_stix_entity(id=report,entity_id = vulnerability['id'] )\n",
    "                self.stix_domain.update ({row['name'].strip() : vulnerability['id']})  \n",
    "                self.add_external_references_to_stix_entity (url=row['external_references'],entity_id =vulnerability['id'],ext_ref =self.ext_ref )\n",
    "                \n",
    "    def create_indicator(self,by,report):           #vulnerability insertion    \n",
    "            \n",
    "            indicator_details = pd.read_csv(self.report_path+os.sep+'indicators.csv')\n",
    "            indicator_details = indicator_details.where(indicator_details.notnull(), None)\n",
    "            \n",
    "            for index,row in indicator_details.iterrows():\n",
    "            \n",
    "                #exist = opencti_api_client.indicator.list ( filters=[{'key' : 'name' , 'values' : row['name']}])\n",
    "                exist=[]\n",
    "                if (len(exist) == 0):\n",
    "                    indicator = opencti_api_client.indicator.create(\n",
    "                                                                name=row['name'],\n",
    "                                                                description= row['description'],\n",
    "                                                                pattern_type= row['pattern_type'],\n",
    "                                                                main_observable_type= row ['main_observable_type'],\n",
    "                                                                indicator_pattern=row ['indicator_pattern'],\n",
    "                                                                createdByRef = by,\n",
    "                                                                )\n",
    "                else:\n",
    "                      indicator = opencti_api_client.indicator.create(\n",
    "                                                                name=row['name'],\n",
    "                                                                description= row['description'],\n",
    "                                                                pattern_type= row['pattern_type'],\n",
    "                                                                indicator_pattern= row ['main_observable_type'],\n",
    "                                                                main_observable_type=\"File\",\n",
    "                                                                createdByRef = by,\n",
    "                                                                update =True\n",
    "                                                                  )\n",
    "                if row['marking_definitions'] is not None:\n",
    "                        self.add_mark_def(stix_id=vulnerability['id'],row=row)\n",
    "                        \n",
    "                opencti_api_client.report.add_stix_entity(id=report,entity_id = indicator['id'] )\n",
    "                self.stix_domain.update ({row['name'].strip() : indicator['id']})  \n",
    "                self.add_external_references_to_stix_entity (url=row['external_references'],entity_id =indicator['id'],ext_ref =self.ext_ref ) \n",
    "                \n",
    "\n",
    "        \n",
    "    def create_relationships(self,report):\n",
    "\n",
    "        relation_details= pd.read_excel(self.relation_path,sheet_name='relations')\n",
    "        relation_details = relation_details.where(relation_details.notnull(), None)\n",
    "\n",
    "        df=relation_details.copy()\n",
    "        df['to'] = [str(i).strip() for i in df['to']]\n",
    "        df['to']=df['to'].map(self.stix_domain)\n",
    "        df['from']=df['from'].map(self.stix_domain)\n",
    "\n",
    "        df = df.where(df.notnull(), None)\n",
    "\n",
    "\n",
    "        for index,row in df.iterrows():\n",
    "\n",
    "            if ((row['from']) is not None ) & ((row['to']) is not None ):\n",
    "\n",
    "                    print(row['from'])\n",
    "                    print(row['to'])\n",
    "                    relation = opencti_api_client.stix_relation.create(\n",
    "                    fromType= opencti_api_client.get_stix_domain_entity (id =row['from'])['entity_type'],\n",
    "                    fromId=row['from'],\n",
    "                    relationship_type = row['relation'],\n",
    "                    toType=opencti_api_client.get_stix_domain_entity (row['to'])['entity_type'],\n",
    "                    toId= row ['to'],\n",
    "                    )\n",
    "\n",
    "                    opencti_api_client.report.add_stix_entity(id=report,entity_id = relation['id'] )\n",
    "\n",
    "    \n",
    "    def create_report(self):\n",
    "\n",
    "        report_details = pd.read_csv(self.report_path+os.sep+'report.csv')\n",
    "        report_details = report_details.where(report_details.notnull(), None)\n",
    "        \n",
    "        #report creation\n",
    "        for index,row in report_details.iterrows():\n",
    "#             report_by = opencti_api_client.identity.list(filters=[{'key':'name','values': row['created_by_ref'] }])\n",
    "           \n",
    "#             if len(report_by) == 0 : \n",
    "#                 warnings.warn(\"Since \" + row['created_by_ref'] + \" is not inserted in opencti.Rhymtechnologies is taken as default\")\n",
    "#                 report_by = organization = opencti_api_client.identity.create(\n",
    "#                                             type='Organization',\n",
    "#                                             name=\"Rhymtechnologies\",\n",
    "#                                             alias=[\"Rhymtech\"],\n",
    "#                                             description=\"A young and innovative company formed with a vision to create world leading Cyber Security products and services. The promoters are a group of highly successful professionals with diverse backgrounds across IT Delivery, Sales and Consulting, Cyber Security, Artificial Intelligence, Machine Learning and Data Sciences. Our group of consultants led by some of the best minds in the industry have successfully provided strategic and value-add services for multiple large organizations globally.\",\n",
    "#                                             )\n",
    "#             else:\n",
    "#                 report_by = report_by[0]\n",
    "                \n",
    "            report_by = {'id': None}\n",
    "                \n",
    "            \n",
    "            print(row ['source_confidence_level'])\n",
    "            \n",
    "            report = opencti_api_client.report.create(\n",
    "                                                            name=row['name'],\n",
    "                                                            description= row['description'],\n",
    "                                                            report_class=\"Internal Report\",\n",
    "                                                            published=datetime.date.today().strftime(\"%Y-%m-%dT%H:%M:%S+00:00\"),\n",
    "                                                            createdByRef= report_by['id'],\n",
    "                                                            object_status = row['object_status'],\n",
    "                                                            source_confidence_level = row ['source_confidence_level'],\n",
    "                                                            update = True,\n",
    "                                                            )\n",
    "            if row['marking_definitions'] is not None:\n",
    "                        self.add_mark_def(stix_id=threat_actor['id'],row=row)\n",
    "            print(\"one_completed\")\n",
    "            \n",
    "            #self.creating_and_adding_ext_ref(by = report_by['id'] ,report = report['id'])  \n",
    "            self.create_threat_actor(by = report_by['id'] ,report = report['id'])  \n",
    "            self.create_attack_pattern(by = report_by['id'] , report =report ['id'])\n",
    "            self.create_malware (by = report_by['id'] , report = report ['id'])\n",
    "            self.create_tool (by = report_by['id'] , report = report ['id'])\n",
    "            self.create_vulnerabilty (by = report_by['id'] , report = report ['id'])\n",
    "            self.create_indicator (by = report_by['id'] , report = report ['id'])\n",
    "            #self.create_relationships (report = report ['id'])\n",
    "            \n",
    "            \n",
    "            return [self.stix_domain,self.ext_ref]\n",
    "                 \n",
    "                \n",
    "        "
   ]
  },
  {
   "cell_type": "code",
   "execution_count": null,
   "metadata": {},
   "outputs": [],
   "source": []
  },
  {
   "cell_type": "code",
   "execution_count": 31,
   "metadata": {},
   "outputs": [],
   "source": [
    "en=entity_insertion(report_path=r\"D:\\Threat_intel_services\\TIP_project\\ISR\\automated_collected_mitre_data\\apt28\",relation_path=None)"
   ]
  },
  {
   "cell_type": "code",
   "execution_count": 32,
   "metadata": {
    "scrolled": true
   },
   "outputs": [
    {
     "name": "stderr",
     "output_type": "stream",
     "text": [
      "INFO:root:Listing Reports with filters [{\"key\": \"name\", \"values\": [\"fake_apt28\"]}, {\"key\": \"published_day\", \"values\": [\"2020-04-06\"]}].\n"
     ]
    },
    {
     "name": "stdout",
     "output_type": "stream",
     "text": [
      "1\n"
     ]
    },
    {
     "name": "stderr",
     "output_type": "stream",
     "text": [
      "INFO:root:Listing Stix-Domain-Entities with filters [{\"key\": \"name\", \"values\": [\"apt28\"]}].\n"
     ]
    },
    {
     "name": "stdout",
     "output_type": "stream",
     "text": [
      "one_completed\n",
      "apt28\n"
     ]
    },
    {
     "name": "stderr",
     "output_type": "stream",
     "text": [
      "INFO:root:Reading Report {626d63aa-02d0-4fa7-962c-e324374da15e}.\n",
      "INFO:root:Listing Attack-Patterns with filters [{\"key\": \"name\", \"values\": \"Buy domain name\"}].\n"
     ]
    },
    {
     "name": "stdout",
     "output_type": "stream",
     "text": [
      "None\n"
     ]
    },
    {
     "name": "stderr",
     "output_type": "stream",
     "text": [
      "INFO:root:Listing Stix-Domain-Entities with filters [{\"key\": \"name\", \"values\": [\"Buy domain name\"]}].\n",
      "INFO:root:Reading Report {626d63aa-02d0-4fa7-962c-e324374da15e}.\n",
      "INFO:root:Listing Attack-Patterns with filters [{\"key\": \"name\", \"values\": \"Obtain/re-use payloads\"}].\n"
     ]
    },
    {
     "name": "stdout",
     "output_type": "stream",
     "text": [
      "None\n"
     ]
    },
    {
     "name": "stderr",
     "output_type": "stream",
     "text": [
      "INFO:root:Listing Stix-Domain-Entities with filters [{\"key\": \"name\", \"values\": [\"Obtain/re-use payloads\"]}].\n",
      "INFO:root:Reading Report {626d63aa-02d0-4fa7-962c-e324374da15e}.\n",
      "INFO:root:Listing Attack-Patterns with filters [{\"key\": \"name\", \"values\": \"Access Token Manipulation\"}].\n"
     ]
    },
    {
     "name": "stdout",
     "output_type": "stream",
     "text": [
      " User, Administrator\n"
     ]
    },
    {
     "name": "stderr",
     "output_type": "stream",
     "text": [
      "INFO:root:Listing Stix-Domain-Entities with filters [{\"key\": \"name\", \"values\": [\"Access Token Manipulation\"]}].\n",
      "INFO:root:Updating Stix-Domain-Entity {33c23b89-0b64-4538-9398-c42acc78ac5f} field {required_permission}.\n",
      "INFO:root:Reading Report {626d63aa-02d0-4fa7-962c-e324374da15e}.\n",
      "INFO:root:Listing Attack-Patterns with filters [{\"key\": \"name\", \"values\": \"Application Access Token\"}].\n"
     ]
    },
    {
     "name": "stdout",
     "output_type": "stream",
     "text": [
      " User\n"
     ]
    },
    {
     "name": "stderr",
     "output_type": "stream",
     "text": [
      "INFO:root:Listing Stix-Domain-Entities with filters [{\"key\": \"name\", \"values\": [\"Application Access Token\"]}].\n",
      "INFO:root:Updating Stix-Domain-Entity {962e5e0b-c134-4ac8-bfa4-3a8db68f1d95} field {required_permission}.\n",
      "INFO:root:Reading Report {626d63aa-02d0-4fa7-962c-e324374da15e}.\n",
      "INFO:root:Listing Attack-Patterns with filters [{\"key\": \"name\", \"values\": \"Automated Collection\"}].\n"
     ]
    },
    {
     "name": "stdout",
     "output_type": "stream",
     "text": [
      " User\n"
     ]
    },
    {
     "name": "stderr",
     "output_type": "stream",
     "text": [
      "INFO:root:Listing Stix-Domain-Entities with filters [{\"key\": \"name\", \"values\": [\"Automated Collection\"]}].\n",
      "INFO:root:Updating Stix-Domain-Entity {eb204345-8cc7-426a-a1fc-2f5fc04c0441} field {required_permission}.\n",
      "INFO:root:Reading Report {626d63aa-02d0-4fa7-962c-e324374da15e}.\n",
      "INFO:root:Listing Attack-Patterns with filters [{\"key\": \"name\", \"values\": \"Bootkit\"}].\n"
     ]
    },
    {
     "name": "stdout",
     "output_type": "stream",
     "text": [
      " Administrator, SYSTEM\n"
     ]
    },
    {
     "name": "stderr",
     "output_type": "stream",
     "text": [
      "INFO:root:Listing Stix-Domain-Entities with filters [{\"key\": \"name\", \"values\": [\"Bootkit\"]}].\n",
      "INFO:root:Updating Stix-Domain-Entity {356bc78f-78a7-4b7f-adff-2bef2c23db71} field {required_permission}.\n",
      "INFO:root:Reading Report {626d63aa-02d0-4fa7-962c-e324374da15e}.\n",
      "INFO:root:Listing Attack-Patterns with filters [{\"key\": \"name\", \"values\": \"Command-Line Interface\"}].\n"
     ]
    },
    {
     "name": "stdout",
     "output_type": "stream",
     "text": [
      " User, Administrator, SYSTEM\n"
     ]
    },
    {
     "name": "stderr",
     "output_type": "stream",
     "text": [
      "INFO:root:Listing Stix-Domain-Entities with filters [{\"key\": \"name\", \"values\": [\"Command-Line Interface\"]}].\n",
      "INFO:root:Updating Stix-Domain-Entity {dc6a0630-d68e-4e66-a89c-07200f4d134d} field {required_permission}.\n",
      "INFO:root:Reading Report {626d63aa-02d0-4fa7-962c-e324374da15e}.\n",
      "INFO:root:Listing Attack-Patterns with filters [{\"key\": \"name\", \"values\": \"Commonly Used Port\"}].\n"
     ]
    },
    {
     "name": "stdout",
     "output_type": "stream",
     "text": [
      "None\n"
     ]
    },
    {
     "name": "stderr",
     "output_type": "stream",
     "text": [
      "INFO:root:Listing Stix-Domain-Entities with filters [{\"key\": \"name\", \"values\": [\"Commonly Used Port\"]}].\n",
      "INFO:root:Reading Report {626d63aa-02d0-4fa7-962c-e324374da15e}.\n",
      "INFO:root:Listing Attack-Patterns with filters [{\"key\": \"name\", \"values\": \"Communication Through Removable Media\"}].\n"
     ]
    },
    {
     "name": "stdout",
     "output_type": "stream",
     "text": [
      "None\n"
     ]
    },
    {
     "name": "stderr",
     "output_type": "stream",
     "text": [
      "INFO:root:Listing Stix-Domain-Entities with filters [{\"key\": \"name\", \"values\": [\"Communication Through Removable Media\"]}].\n",
      "INFO:root:Reading Report {626d63aa-02d0-4fa7-962c-e324374da15e}.\n",
      "INFO:root:Listing Attack-Patterns with filters [{\"key\": \"name\", \"values\": \"Component Object Model Hijacking\"}].\n"
     ]
    },
    {
     "name": "stdout",
     "output_type": "stream",
     "text": [
      " User\n"
     ]
    },
    {
     "name": "stderr",
     "output_type": "stream",
     "text": [
      "INFO:root:Listing Stix-Domain-Entities with filters [{\"key\": \"name\", \"values\": [\"Component Object Model Hijacking\"]}].\n",
      "INFO:root:Updating Stix-Domain-Entity {220465bd-942e-42b8-af41-c1ddb52b1b13} field {required_permission}.\n",
      "INFO:root:Reading Report {626d63aa-02d0-4fa7-962c-e324374da15e}.\n",
      "INFO:root:Listing Attack-Patterns with filters [{\"key\": \"name\", \"values\": \"Connection Proxy\"}].\n"
     ]
    },
    {
     "name": "stdout",
     "output_type": "stream",
     "text": [
      "None\n"
     ]
    },
    {
     "name": "stderr",
     "output_type": "stream",
     "text": [
      "INFO:root:Listing Stix-Domain-Entities with filters [{\"key\": \"name\", \"values\": [\"Connection Proxy\"]}].\n",
      "INFO:root:Reading Report {626d63aa-02d0-4fa7-962c-e324374da15e}.\n",
      "INFO:root:Listing Attack-Patterns with filters [{\"key\": \"name\", \"values\": \"Credential Dumping\"}].\n"
     ]
    },
    {
     "name": "stdout",
     "output_type": "stream",
     "text": [
      " Administrator, SYSTEM, root\n"
     ]
    },
    {
     "name": "stderr",
     "output_type": "stream",
     "text": [
      "INFO:root:Listing Stix-Domain-Entities with filters [{\"key\": \"name\", \"values\": [\"Credential Dumping\"]}].\n",
      "INFO:root:Updating Stix-Domain-Entity {2e2b0e85-313c-4ba6-a855-9dabe8bc0ee6} field {required_permission}.\n",
      "INFO:root:Reading Report {626d63aa-02d0-4fa7-962c-e324374da15e}.\n",
      "INFO:root:Listing Attack-Patterns with filters [{\"key\": \"name\", \"values\": \"Custom Cryptographic Protocol\"}].\n"
     ]
    },
    {
     "name": "stdout",
     "output_type": "stream",
     "text": [
      "None\n"
     ]
    },
    {
     "name": "stderr",
     "output_type": "stream",
     "text": [
      "INFO:root:Listing Stix-Domain-Entities with filters [{\"key\": \"name\", \"values\": [\"Custom Cryptographic Protocol\"]}].\n",
      "INFO:root:Reading Report {626d63aa-02d0-4fa7-962c-e324374da15e}.\n",
      "INFO:root:Listing Attack-Patterns with filters [{\"key\": \"name\", \"values\": \"Data Compressed\"}].\n"
     ]
    },
    {
     "name": "stdout",
     "output_type": "stream",
     "text": [
      "None\n"
     ]
    },
    {
     "name": "stderr",
     "output_type": "stream",
     "text": [
      "INFO:root:Listing Stix-Domain-Entities with filters [{\"key\": \"name\", \"values\": [\"Data Compressed\"]}].\n",
      "INFO:root:Reading Report {626d63aa-02d0-4fa7-962c-e324374da15e}.\n",
      "INFO:root:Listing Attack-Patterns with filters [{\"key\": \"name\", \"values\": \"Data from Information Repositories\"}].\n"
     ]
    },
    {
     "name": "stdout",
     "output_type": "stream",
     "text": [
      " User\n"
     ]
    },
    {
     "name": "stderr",
     "output_type": "stream",
     "text": [
      "INFO:root:Listing Stix-Domain-Entities with filters [{\"key\": \"name\", \"values\": [\"Data from Information Repositories\"]}].\n",
      "INFO:root:Updating Stix-Domain-Entity {85eb3ab0-297d-43c4-ae4e-2df54c32e6a6} field {required_permission}.\n",
      "INFO:root:Reading Report {626d63aa-02d0-4fa7-962c-e324374da15e}.\n",
      "INFO:root:Listing Attack-Patterns with filters [{\"key\": \"name\", \"values\": \"Data from Local System\"}].\n"
     ]
    },
    {
     "name": "stdout",
     "output_type": "stream",
     "text": [
      "None\n"
     ]
    },
    {
     "name": "stderr",
     "output_type": "stream",
     "text": [
      "INFO:root:Listing Stix-Domain-Entities with filters [{\"key\": \"name\", \"values\": [\"Data from Local System\"]}].\n",
      "INFO:root:Reading Report {626d63aa-02d0-4fa7-962c-e324374da15e}.\n",
      "INFO:root:Listing Attack-Patterns with filters [{\"key\": \"name\", \"values\": \"Data from Removable Media\"}].\n"
     ]
    },
    {
     "name": "stdout",
     "output_type": "stream",
     "text": [
      "None\n"
     ]
    },
    {
     "name": "stderr",
     "output_type": "stream",
     "text": [
      "INFO:root:Listing Stix-Domain-Entities with filters [{\"key\": \"name\", \"values\": [\"Data from Removable Media\"]}].\n",
      "INFO:root:Reading Report {626d63aa-02d0-4fa7-962c-e324374da15e}.\n",
      "INFO:root:Listing Attack-Patterns with filters [{\"key\": \"name\", \"values\": \"Data Obfuscation\"}].\n"
     ]
    },
    {
     "name": "stdout",
     "output_type": "stream",
     "text": [
      "None\n"
     ]
    },
    {
     "name": "stderr",
     "output_type": "stream",
     "text": [
      "INFO:root:Listing Stix-Domain-Entities with filters [{\"key\": \"name\", \"values\": [\"Data Obfuscation\"]}].\n",
      "INFO:root:Reading Report {626d63aa-02d0-4fa7-962c-e324374da15e}.\n",
      "INFO:root:Listing Attack-Patterns with filters [{\"key\": \"name\", \"values\": \"Data Staged\"}].\n"
     ]
    },
    {
     "name": "stdout",
     "output_type": "stream",
     "text": [
      "None\n"
     ]
    },
    {
     "name": "stderr",
     "output_type": "stream",
     "text": [
      "INFO:root:Listing Stix-Domain-Entities with filters [{\"key\": \"name\", \"values\": [\"Data Staged\"]}].\n",
      "INFO:root:Reading Report {626d63aa-02d0-4fa7-962c-e324374da15e}.\n",
      "INFO:root:Listing Attack-Patterns with filters [{\"key\": \"name\", \"values\": \"Deobfuscate/Decode Files or Information\"}].\n"
     ]
    },
    {
     "name": "stdout",
     "output_type": "stream",
     "text": [
      " User\n"
     ]
    },
    {
     "name": "stderr",
     "output_type": "stream",
     "text": [
      "INFO:root:Listing Stix-Domain-Entities with filters [{\"key\": \"name\", \"values\": [\"Deobfuscate/Decode Files or Information\"]}].\n",
      "INFO:root:Updating Stix-Domain-Entity {297d81b8-ac60-43ca-9af5-63628e6f316f} field {required_permission}.\n",
      "INFO:root:Reading Report {626d63aa-02d0-4fa7-962c-e324374da15e}.\n",
      "INFO:root:Listing Attack-Patterns with filters [{\"key\": \"name\", \"values\": \"Dynamic Data Exchange\"}].\n"
     ]
    },
    {
     "name": "stdout",
     "output_type": "stream",
     "text": [
      " User\n"
     ]
    },
    {
     "name": "stderr",
     "output_type": "stream",
     "text": [
      "INFO:root:Listing Stix-Domain-Entities with filters [{\"key\": \"name\", \"values\": [\"Dynamic Data Exchange\"]}].\n",
      "INFO:root:Updating Stix-Domain-Entity {4c5ac0e4-3b67-48c3-930b-180c1b4575fb} field {required_permission}.\n",
      "INFO:root:Reading Report {626d63aa-02d0-4fa7-962c-e324374da15e}.\n",
      "INFO:root:Listing Attack-Patterns with filters [{\"key\": \"name\", \"values\": \"Email Collection\"}].\n"
     ]
    },
    {
     "name": "stdout",
     "output_type": "stream",
     "text": [
      " User\n"
     ]
    },
    {
     "name": "stderr",
     "output_type": "stream",
     "text": [
      "INFO:root:Listing Stix-Domain-Entities with filters [{\"key\": \"name\", \"values\": [\"Email Collection\"]}].\n",
      "INFO:root:Updating Stix-Domain-Entity {aad1e1d8-bc53-4067-b9c3-6e5e524020e7} field {required_permission}.\n",
      "INFO:root:Reading Report {626d63aa-02d0-4fa7-962c-e324374da15e}.\n",
      "INFO:root:Listing Attack-Patterns with filters [{\"key\": \"name\", \"values\": \"Exploitation for Client Execution\"}].\n"
     ]
    },
    {
     "name": "stdout",
     "output_type": "stream",
     "text": [
      "None\n"
     ]
    },
    {
     "name": "stderr",
     "output_type": "stream",
     "text": [
      "INFO:root:Listing Stix-Domain-Entities with filters [{\"key\": \"name\", \"values\": [\"Exploitation for Client Execution\"]}].\n",
      "INFO:root:Reading Report {626d63aa-02d0-4fa7-962c-e324374da15e}.\n",
      "INFO:root:Listing Attack-Patterns with filters [{\"key\": \"name\", \"values\": \"Exploitation for Defense Evasion\"}].\n"
     ]
    },
    {
     "name": "stdout",
     "output_type": "stream",
     "text": [
      " User\n"
     ]
    },
    {
     "name": "stderr",
     "output_type": "stream",
     "text": [
      "INFO:root:Listing Stix-Domain-Entities with filters [{\"key\": \"name\", \"values\": [\"Exploitation for Defense Evasion\"]}].\n",
      "INFO:root:Updating Stix-Domain-Entity {39ab9e4d-367e-4332-b1d9-8d67bbb9b1d6} field {required_permission}.\n",
      "INFO:root:Reading Report {626d63aa-02d0-4fa7-962c-e324374da15e}.\n",
      "INFO:root:Listing Attack-Patterns with filters [{\"key\": \"name\", \"values\": \"Exploitation for Privilege Escalation\"}].\n"
     ]
    },
    {
     "name": "stdout",
     "output_type": "stream",
     "text": [
      " User\n"
     ]
    },
    {
     "name": "stderr",
     "output_type": "stream",
     "text": [
      "INFO:root:Listing Stix-Domain-Entities with filters [{\"key\": \"name\", \"values\": [\"Exploitation for Privilege Escalation\"]}].\n",
      "INFO:root:Updating Stix-Domain-Entity {456c599b-9037-4607-871e-01cccd8fa26b} field {required_permission}.\n",
      "INFO:root:Reading Report {626d63aa-02d0-4fa7-962c-e324374da15e}.\n",
      "INFO:root:Listing Attack-Patterns with filters [{\"key\": \"name\", \"values\": \"Exploitation of Remote Services\"}].\n"
     ]
    },
    {
     "name": "stdout",
     "output_type": "stream",
     "text": [
      " User\n"
     ]
    },
    {
     "name": "stderr",
     "output_type": "stream",
     "text": [
      "INFO:root:Listing Stix-Domain-Entities with filters [{\"key\": \"name\", \"values\": [\"Exploitation of Remote Services\"]}].\n",
      "INFO:root:Updating Stix-Domain-Entity {6b8a3279-3d16-4e1a-bd51-da2dbdd771ac} field {required_permission}.\n",
      "INFO:root:Reading Report {626d63aa-02d0-4fa7-962c-e324374da15e}.\n",
      "INFO:root:Listing Attack-Patterns with filters [{\"key\": \"name\", \"values\": \"File and Directory Discovery\"}].\n"
     ]
    },
    {
     "name": "stdout",
     "output_type": "stream",
     "text": [
      " User, Administrator, SYSTEM\n"
     ]
    },
    {
     "name": "stderr",
     "output_type": "stream",
     "text": [
      "INFO:root:Listing Stix-Domain-Entities with filters [{\"key\": \"name\", \"values\": [\"File and Directory Discovery\"]}].\n",
      "INFO:root:Updating Stix-Domain-Entity {21f6af9f-dc3e-47ca-a48d-d962eefa7229} field {required_permission}.\n",
      "INFO:root:Reading Report {626d63aa-02d0-4fa7-962c-e324374da15e}.\n",
      "INFO:root:Listing Attack-Patterns with filters [{\"key\": \"name\", \"values\": \"File Deletion\"}].\n"
     ]
    },
    {
     "name": "stdout",
     "output_type": "stream",
     "text": [
      " User\n"
     ]
    },
    {
     "name": "stderr",
     "output_type": "stream",
     "text": [
      "INFO:root:Listing Stix-Domain-Entities with filters [{\"key\": \"name\", \"values\": [\"File Deletion\"]}].\n",
      "INFO:root:Updating Stix-Domain-Entity {234113a5-ff10-4123-b520-166b0065b176} field {required_permission}.\n",
      "INFO:root:Reading Report {626d63aa-02d0-4fa7-962c-e324374da15e}.\n",
      "INFO:root:Listing Attack-Patterns with filters [{\"key\": \"name\", \"values\": \"Hidden Files and Directories\"}].\n"
     ]
    },
    {
     "name": "stdout",
     "output_type": "stream",
     "text": [
      " User\n"
     ]
    },
    {
     "name": "stderr",
     "output_type": "stream",
     "text": [
      "INFO:root:Listing Stix-Domain-Entities with filters [{\"key\": \"name\", \"values\": [\"Hidden Files and Directories\"]}].\n",
      "INFO:root:Updating Stix-Domain-Entity {63dc3613-cd4d-4dad-aaa9-81a5c944a1ae} field {required_permission}.\n",
      "INFO:root:Reading Report {626d63aa-02d0-4fa7-962c-e324374da15e}.\n",
      "INFO:root:Listing Attack-Patterns with filters [{\"key\": \"name\", \"values\": \"Hidden Window\"}].\n"
     ]
    },
    {
     "name": "stdout",
     "output_type": "stream",
     "text": [
      " User\n"
     ]
    },
    {
     "name": "stderr",
     "output_type": "stream",
     "text": [
      "INFO:root:Listing Stix-Domain-Entities with filters [{\"key\": \"name\", \"values\": [\"Hidden Window\"]}].\n",
      "INFO:root:Updating Stix-Domain-Entity {3b856977-037b-469b-a5d8-63bfb7e65c6d} field {required_permission}.\n",
      "INFO:root:Reading Report {626d63aa-02d0-4fa7-962c-e324374da15e}.\n",
      "INFO:root:Listing Attack-Patterns with filters [{\"key\": \"name\", \"values\": \"Indicator Removal on Host\"}].\n"
     ]
    },
    {
     "name": "stdout",
     "output_type": "stream",
     "text": [
      "None\n"
     ]
    },
    {
     "name": "stderr",
     "output_type": "stream",
     "text": [
      "INFO:root:Listing Stix-Domain-Entities with filters [{\"key\": \"name\", \"values\": [\"Indicator Removal on Host\"]}].\n",
      "INFO:root:Reading Report {626d63aa-02d0-4fa7-962c-e324374da15e}.\n",
      "INFO:root:Listing Attack-Patterns with filters [{\"key\": \"name\", \"values\": \"Input Capture\"}].\n"
     ]
    },
    {
     "name": "stdout",
     "output_type": "stream",
     "text": [
      " Administrator, SYSTEM\n"
     ]
    },
    {
     "name": "stderr",
     "output_type": "stream",
     "text": [
      "INFO:root:Listing Stix-Domain-Entities with filters [{\"key\": \"name\", \"values\": [\"Input Capture\"]}].\n",
      "INFO:root:Updating Stix-Domain-Entity {3da92a00-dd3c-4323-9c98-61bab301e161} field {required_permission}.\n",
      "INFO:root:Reading Report {626d63aa-02d0-4fa7-962c-e324374da15e}.\n",
      "INFO:root:Listing Attack-Patterns with filters [{\"key\": \"name\", \"values\": \"Logon Scripts\"}].\n"
     ]
    },
    {
     "name": "stdout",
     "output_type": "stream",
     "text": [
      "None\n"
     ]
    },
    {
     "name": "stderr",
     "output_type": "stream",
     "text": [
      "INFO:root:Listing Stix-Domain-Entities with filters [{\"key\": \"name\", \"values\": [\"Logon Scripts\"]}].\n",
      "INFO:root:Reading Report {626d63aa-02d0-4fa7-962c-e324374da15e}.\n",
      "INFO:root:Listing Attack-Patterns with filters [{\"key\": \"name\", \"values\": \"Network Sniffing\"}].\n"
     ]
    },
    {
     "name": "stdout",
     "output_type": "stream",
     "text": [
      " Administrator, SYSTEM\n"
     ]
    },
    {
     "name": "stderr",
     "output_type": "stream",
     "text": [
      "INFO:root:Listing Stix-Domain-Entities with filters [{\"key\": \"name\", \"values\": [\"Network Sniffing\"]}].\n",
      "INFO:root:Updating Stix-Domain-Entity {51651961-6034-4d3b-8a9d-cc472343dee1} field {required_permission}.\n",
      "INFO:root:Reading Report {626d63aa-02d0-4fa7-962c-e324374da15e}.\n",
      "INFO:root:Listing Attack-Patterns with filters [{\"key\": \"name\", \"values\": \"Obfuscated Files or Information\"}].\n"
     ]
    },
    {
     "name": "stdout",
     "output_type": "stream",
     "text": [
      "None\n"
     ]
    },
    {
     "name": "stderr",
     "output_type": "stream",
     "text": [
      "INFO:root:Listing Stix-Domain-Entities with filters [{\"key\": \"name\", \"values\": [\"Obfuscated Files or Information\"]}].\n",
      "INFO:root:Reading Report {626d63aa-02d0-4fa7-962c-e324374da15e}.\n",
      "INFO:root:Listing Attack-Patterns with filters [{\"key\": \"name\", \"values\": \"Office Application Startup\"}].\n"
     ]
    },
    {
     "name": "stdout",
     "output_type": "stream",
     "text": [
      " User, Administrator\n"
     ]
    },
    {
     "name": "stderr",
     "output_type": "stream",
     "text": [
      "INFO:root:Listing Stix-Domain-Entities with filters [{\"key\": \"name\", \"values\": [\"Office Application Startup\"]}].\n",
      "INFO:root:Updating Stix-Domain-Entity {dc218e50-f2cb-4bfa-9ab4-f58dba4dace7} field {required_permission}.\n",
      "INFO:root:Reading Report {626d63aa-02d0-4fa7-962c-e324374da15e}.\n",
      "INFO:root:Listing Attack-Patterns with filters [{\"key\": \"name\", \"values\": \"Pass the Hash\"}].\n"
     ]
    },
    {
     "name": "stdout",
     "output_type": "stream",
     "text": [
      "None\n"
     ]
    },
    {
     "name": "stderr",
     "output_type": "stream",
     "text": [
      "INFO:root:Listing Stix-Domain-Entities with filters [{\"key\": \"name\", \"values\": [\"Pass the Hash\"]}].\n",
      "INFO:root:Reading Report {626d63aa-02d0-4fa7-962c-e324374da15e}.\n",
      "INFO:root:Listing Attack-Patterns with filters [{\"key\": \"name\", \"values\": \"Peripheral Device Discovery\"}].\n"
     ]
    },
    {
     "name": "stdout",
     "output_type": "stream",
     "text": [
      " User, Administrator, SYSTEM\n"
     ]
    },
    {
     "name": "stderr",
     "output_type": "stream",
     "text": [
      "INFO:root:Listing Stix-Domain-Entities with filters [{\"key\": \"name\", \"values\": [\"Peripheral Device Discovery\"]}].\n",
      "INFO:root:Updating Stix-Domain-Entity {ca1c5ee6-6dfd-4602-abc6-917b16bcf02e} field {required_permission}.\n",
      "INFO:root:Reading Report {626d63aa-02d0-4fa7-962c-e324374da15e}.\n",
      "INFO:root:Listing Attack-Patterns with filters [{\"key\": \"name\", \"values\": \"PowerShell\"}].\n"
     ]
    },
    {
     "name": "stdout",
     "output_type": "stream",
     "text": [
      " User, Administrator\n"
     ]
    },
    {
     "name": "stderr",
     "output_type": "stream",
     "text": [
      "INFO:root:Listing Stix-Domain-Entities with filters [{\"key\": \"name\", \"values\": [\"PowerShell\"]}].\n",
      "INFO:root:Updating Stix-Domain-Entity {f820f56c-312f-4afe-89c7-890d67e69534} field {required_permission}.\n",
      "INFO:root:Reading Report {626d63aa-02d0-4fa7-962c-e324374da15e}.\n",
      "INFO:root:Listing Attack-Patterns with filters [{\"key\": \"name\", \"values\": \"Process Discovery\"}].\n"
     ]
    },
    {
     "name": "stdout",
     "output_type": "stream",
     "text": [
      " User, Administrator, SYSTEM\n"
     ]
    },
    {
     "name": "stderr",
     "output_type": "stream",
     "text": [
      "INFO:root:Listing Stix-Domain-Entities with filters [{\"key\": \"name\", \"values\": [\"Process Discovery\"]}].\n",
      "INFO:root:Updating Stix-Domain-Entity {f089ea1c-c1d7-4948-a531-3a17b4e30a69} field {required_permission}.\n",
      "INFO:root:Reading Report {626d63aa-02d0-4fa7-962c-e324374da15e}.\n",
      "INFO:root:Listing Attack-Patterns with filters [{\"key\": \"name\", \"values\": \"Remote File Copy\"}].\n"
     ]
    },
    {
     "name": "stdout",
     "output_type": "stream",
     "text": [
      " User\n"
     ]
    },
    {
     "name": "stderr",
     "output_type": "stream",
     "text": [
      "INFO:root:Listing Stix-Domain-Entities with filters [{\"key\": \"name\", \"values\": [\"Remote File Copy\"]}].\n",
      "INFO:root:Updating Stix-Domain-Entity {0b4c5179-e659-4fba-aa37-4820126d9b61} field {required_permission}.\n",
      "INFO:root:Reading Report {626d63aa-02d0-4fa7-962c-e324374da15e}.\n",
      "INFO:root:Listing Attack-Patterns with filters [{\"key\": \"name\", \"values\": \"Replication Through Removable Media\"}].\n"
     ]
    },
    {
     "name": "stdout",
     "output_type": "stream",
     "text": [
      " User\n"
     ]
    },
    {
     "name": "stderr",
     "output_type": "stream",
     "text": [
      "INFO:root:Listing Stix-Domain-Entities with filters [{\"key\": \"name\", \"values\": [\"Replication Through Removable Media\"]}].\n",
      "INFO:root:Updating Stix-Domain-Entity {86c39d02-dda5-4400-848e-28a753ef7df0} field {required_permission}.\n",
      "INFO:root:Reading Report {626d63aa-02d0-4fa7-962c-e324374da15e}.\n",
      "INFO:root:Listing Attack-Patterns with filters [{\"key\": \"name\", \"values\": \"Rootkit\"}].\n"
     ]
    },
    {
     "name": "stdout",
     "output_type": "stream",
     "text": [
      " Administrator, SYSTEM, root\n"
     ]
    },
    {
     "name": "stderr",
     "output_type": "stream",
     "text": [
      "INFO:root:Listing Stix-Domain-Entities with filters [{\"key\": \"name\", \"values\": [\"Rootkit\"]}].\n",
      "INFO:root:Updating Stix-Domain-Entity {011f3e19-5aa9-49c9-b64c-8dbd7b0b934a} field {required_permission}.\n",
      "INFO:root:Reading Report {626d63aa-02d0-4fa7-962c-e324374da15e}.\n",
      "INFO:root:Listing Attack-Patterns with filters [{\"key\": \"name\", \"values\": \"Rundll32\"}].\n"
     ]
    },
    {
     "name": "stdout",
     "output_type": "stream",
     "text": [
      " User\n"
     ]
    },
    {
     "name": "stderr",
     "output_type": "stream",
     "text": [
      "INFO:root:Listing Stix-Domain-Entities with filters [{\"key\": \"name\", \"values\": [\"Rundll32\"]}].\n",
      "INFO:root:Updating Stix-Domain-Entity {91186066-fc1c-41cb-847b-f2bd09ae8118} field {required_permission}.\n",
      "INFO:root:Reading Report {626d63aa-02d0-4fa7-962c-e324374da15e}.\n",
      "INFO:root:Listing Attack-Patterns with filters [{\"key\": \"name\", \"values\": \"Screen Capture\"}].\n"
     ]
    },
    {
     "name": "stdout",
     "output_type": "stream",
     "text": [
      "None\n"
     ]
    },
    {
     "name": "stderr",
     "output_type": "stream",
     "text": [
      "INFO:root:Listing Stix-Domain-Entities with filters [{\"key\": \"name\", \"values\": [\"Screen Capture\"]}].\n",
      "INFO:root:Reading Report {626d63aa-02d0-4fa7-962c-e324374da15e}.\n",
      "INFO:root:Listing Attack-Patterns with filters [{\"key\": \"name\", \"values\": \"Scripting\"}].\n"
     ]
    },
    {
     "name": "stdout",
     "output_type": "stream",
     "text": [
      " User\n"
     ]
    },
    {
     "name": "stderr",
     "output_type": "stream",
     "text": [
      "INFO:root:Listing Stix-Domain-Entities with filters [{\"key\": \"name\", \"values\": [\"Scripting\"]}].\n",
      "INFO:root:Updating Stix-Domain-Entity {cab8e1a6-6be2-4a81-8059-a2f666ed16ed} field {required_permission}.\n",
      "INFO:root:Reading Report {626d63aa-02d0-4fa7-962c-e324374da15e}.\n",
      "INFO:root:Listing Attack-Patterns with filters [{\"key\": \"name\", \"values\": \"Spearphishing Attachment\"}].\n"
     ]
    },
    {
     "name": "stdout",
     "output_type": "stream",
     "text": [
      "None\n"
     ]
    },
    {
     "name": "stderr",
     "output_type": "stream",
     "text": [
      "INFO:root:Listing Stix-Domain-Entities with filters [{\"key\": \"name\", \"values\": [\"Spearphishing Attachment\"]}].\n",
      "INFO:root:Reading Report {626d63aa-02d0-4fa7-962c-e324374da15e}.\n",
      "INFO:root:Listing Attack-Patterns with filters [{\"key\": \"name\", \"values\": \"Spearphishing Link\"}].\n"
     ]
    },
    {
     "name": "stdout",
     "output_type": "stream",
     "text": [
      "None\n"
     ]
    },
    {
     "name": "stderr",
     "output_type": "stream",
     "text": [
      "INFO:root:Listing Stix-Domain-Entities with filters [{\"key\": \"name\", \"values\": [\"Spearphishing Link\"]}].\n",
      "INFO:root:Reading Report {626d63aa-02d0-4fa7-962c-e324374da15e}.\n",
      "INFO:root:Listing Attack-Patterns with filters [{\"key\": \"name\", \"values\": \"Standard Application Layer Protocol\"}].\n"
     ]
    },
    {
     "name": "stdout",
     "output_type": "stream",
     "text": [
      "None\n"
     ]
    },
    {
     "name": "stderr",
     "output_type": "stream",
     "text": [
      "INFO:root:Listing Stix-Domain-Entities with filters [{\"key\": \"name\", \"values\": [\"Standard Application Layer Protocol\"]}].\n",
      "INFO:root:Reading Report {626d63aa-02d0-4fa7-962c-e324374da15e}.\n",
      "INFO:root:Listing Attack-Patterns with filters [{\"key\": \"name\", \"values\": \"Steal Application Access Token\"}].\n"
     ]
    },
    {
     "name": "stdout",
     "output_type": "stream",
     "text": [
      " User\n"
     ]
    },
    {
     "name": "stderr",
     "output_type": "stream",
     "text": [
      "INFO:root:Listing Stix-Domain-Entities with filters [{\"key\": \"name\", \"values\": [\"Steal Application Access Token\"]}].\n",
      "INFO:root:Updating Stix-Domain-Entity {cf588175-ea0d-452a-b180-7c1c63b66171} field {required_permission}.\n",
      "INFO:root:Reading Report {626d63aa-02d0-4fa7-962c-e324374da15e}.\n",
      "INFO:root:Listing Attack-Patterns with filters [{\"key\": \"name\", \"values\": \"Template Injection\"}].\n"
     ]
    },
    {
     "name": "stdout",
     "output_type": "stream",
     "text": [
      " User\n"
     ]
    },
    {
     "name": "stderr",
     "output_type": "stream",
     "text": [
      "INFO:root:Listing Stix-Domain-Entities with filters [{\"key\": \"name\", \"values\": [\"Template Injection\"]}].\n",
      "INFO:root:Updating Stix-Domain-Entity {a66326cb-1f4d-4312-8369-5c266accfb91} field {required_permission}.\n",
      "INFO:root:Reading Report {626d63aa-02d0-4fa7-962c-e324374da15e}.\n",
      "INFO:root:Listing Attack-Patterns with filters [{\"key\": \"name\", \"values\": \"Timestomp\"}].\n"
     ]
    },
    {
     "name": "stdout",
     "output_type": "stream",
     "text": [
      " User, Administrator, SYSTEM\n"
     ]
    },
    {
     "name": "stderr",
     "output_type": "stream",
     "text": [
      "INFO:root:Listing Stix-Domain-Entities with filters [{\"key\": \"name\", \"values\": [\"Timestomp\"]}].\n",
      "INFO:root:Updating Stix-Domain-Entity {a0b8db7d-a95d-4c1c-a86f-6d5a033e4114} field {required_permission}.\n",
      "INFO:root:Reading Report {626d63aa-02d0-4fa7-962c-e324374da15e}.\n",
      "INFO:root:Listing Attack-Patterns with filters [{\"key\": \"name\", \"values\": \"Trusted Relationship\"}].\n"
     ]
    },
    {
     "name": "stdout",
     "output_type": "stream",
     "text": [
      "None\n"
     ]
    },
    {
     "name": "stderr",
     "output_type": "stream",
     "text": [
      "INFO:root:Listing Stix-Domain-Entities with filters [{\"key\": \"name\", \"values\": [\"Trusted Relationship\"]}].\n",
      "INFO:root:Reading Report {626d63aa-02d0-4fa7-962c-e324374da15e}.\n",
      "INFO:root:Listing Attack-Patterns with filters [{\"key\": \"name\", \"values\": \"User Execution\"}].\n"
     ]
    },
    {
     "name": "stdout",
     "output_type": "stream",
     "text": [
      " User\n"
     ]
    },
    {
     "name": "stderr",
     "output_type": "stream",
     "text": [
      "INFO:root:Listing Stix-Domain-Entities with filters [{\"key\": \"name\", \"values\": [\"User Execution\"]}].\n",
      "INFO:root:Updating Stix-Domain-Entity {2aa44778-626c-4b9c-ae9f-32aaf95a8758} field {required_permission}.\n",
      "INFO:root:Reading Report {626d63aa-02d0-4fa7-962c-e324374da15e}.\n",
      "INFO:root:Listing Attack-Patterns with filters [{\"key\": \"name\", \"values\": \"Valid Accounts\"}].\n"
     ]
    },
    {
     "name": "stdout",
     "output_type": "stream",
     "text": [
      " User, Administrator\n"
     ]
    },
    {
     "name": "stderr",
     "output_type": "stream",
     "text": [
      "INFO:root:Listing Stix-Domain-Entities with filters [{\"key\": \"name\", \"values\": [\"Valid Accounts\"]}].\n",
      "INFO:root:Updating Stix-Domain-Entity {3805ae7a-a0eb-4ca8-b7c1-4eb034df320c} field {required_permission}.\n",
      "INFO:root:Reading Report {626d63aa-02d0-4fa7-962c-e324374da15e}.\n",
      "INFO:root:Listing Malwares with filters [{\"key\": \"name\", \"values\": \"ADVSTORESHELL\"}].\n"
     ]
    },
    {
     "name": "stdout",
     "output_type": "stream",
     "text": [
      "['AZZY', ' EVILTOSS', ' NETUI', ' Sedreco']\n"
     ]
    },
    {
     "name": "stderr",
     "output_type": "stream",
     "text": [
      "INFO:root:Listing Stix-Domain-Entities with filters [{\"key\": \"name\", \"values\": [\"ADVSTORESHELL\"]}].\n",
      "INFO:root:Updating Stix-Domain-Entity {28978263-8da6-4055-b05a-23839c8fcea5} field {alias}.\n",
      "INFO:root:Reading Report {626d63aa-02d0-4fa7-962c-e324374da15e}.\n",
      "INFO:root:Listing Malwares with filters [{\"key\": \"name\", \"values\": \"Cannon\"}].\n",
      "INFO:root:Listing Stix-Domain-Entities with filters [{\"key\": \"name\", \"values\": [\"Cannon\"]}].\n",
      "INFO:root:Reading Report {626d63aa-02d0-4fa7-962c-e324374da15e}.\n",
      "INFO:root:Listing Malwares with filters [{\"key\": \"name\", \"values\": \"CHOPSTICK\"}].\n"
     ]
    },
    {
     "name": "stdout",
     "output_type": "stream",
     "text": [
      "['Backdoor.SofacyX', ' SPLM', ' Xagent', ' X-Agent', ' webhp']\n"
     ]
    },
    {
     "name": "stderr",
     "output_type": "stream",
     "text": [
      "INFO:root:Listing Stix-Domain-Entities with filters [{\"key\": \"name\", \"values\": [\"CHOPSTICK\"]}].\n",
      "INFO:root:Updating Stix-Domain-Entity {7811cff1-2621-45be-ab17-62582db805d1} field {alias}.\n",
      "INFO:root:Reading Report {626d63aa-02d0-4fa7-962c-e324374da15e}.\n",
      "INFO:root:Listing Malwares with filters [{\"key\": \"name\", \"values\": \"CORESHELL\"}].\n"
     ]
    },
    {
     "name": "stdout",
     "output_type": "stream",
     "text": [
      "['Sofacy', ' SOURFACE']\n"
     ]
    },
    {
     "name": "stderr",
     "output_type": "stream",
     "text": [
      "INFO:root:Listing Stix-Domain-Entities with filters [{\"key\": \"name\", \"values\": [\"CORESHELL\"]}].\n",
      "INFO:root:Updating Stix-Domain-Entity {51537ab2-38b3-4fbc-b976-c707f64bd094} field {alias}.\n",
      "INFO:root:Reading Report {626d63aa-02d0-4fa7-962c-e324374da15e}.\n",
      "INFO:root:Listing Malwares with filters [{\"key\": \"name\", \"values\": \"DealersChoice\"}].\n",
      "INFO:root:Listing Stix-Domain-Entities with filters [{\"key\": \"name\", \"values\": [\"DealersChoice\"]}].\n",
      "INFO:root:Reading Report {626d63aa-02d0-4fa7-962c-e324374da15e}.\n",
      "INFO:root:Listing Malwares with filters [{\"key\": \"name\", \"values\": \"Downdelph\"}].\n"
     ]
    },
    {
     "name": "stdout",
     "output_type": "stream",
     "text": [
      "['Delphacy']\n"
     ]
    },
    {
     "name": "stderr",
     "output_type": "stream",
     "text": [
      "INFO:root:Listing Stix-Domain-Entities with filters [{\"key\": \"name\", \"values\": [\"Downdelph\"]}].\n",
      "INFO:root:Updating Stix-Domain-Entity {87032700-7d2f-4843-9ed0-943b80eb3f40} field {alias}.\n",
      "INFO:root:Reading Report {626d63aa-02d0-4fa7-962c-e324374da15e}.\n",
      "INFO:root:Listing Malwares with filters [{\"key\": \"name\", \"values\": \"Fysbis\"}].\n",
      "INFO:root:Listing Stix-Domain-Entities with filters [{\"key\": \"name\", \"values\": [\"Fysbis\"]}].\n",
      "INFO:root:Reading Report {626d63aa-02d0-4fa7-962c-e324374da15e}.\n",
      "INFO:root:Listing Malwares with filters [{\"key\": \"name\", \"values\": \"HIDEDRV\"}].\n",
      "INFO:root:Listing Stix-Domain-Entities with filters [{\"key\": \"name\", \"values\": [\"HIDEDRV\"]}].\n",
      "INFO:root:Reading Report {626d63aa-02d0-4fa7-962c-e324374da15e}.\n",
      "INFO:root:Listing Malwares with filters [{\"key\": \"name\", \"values\": \"JHUHUGIT\"}].\n"
     ]
    },
    {
     "name": "stdout",
     "output_type": "stream",
     "text": [
      "['Trojan.Sofacy', ' Seduploader', ' JKEYSKW', ' Sednit', ' GAMEFISH', ' SofacyCarberp']\n"
     ]
    },
    {
     "name": "stderr",
     "output_type": "stream",
     "text": [
      "INFO:root:Listing Stix-Domain-Entities with filters [{\"key\": \"name\", \"values\": [\"JHUHUGIT\"]}].\n",
      "INFO:root:Updating Stix-Domain-Entity {ed931068-4af8-4adf-8c4e-90fd95625c13} field {alias}.\n",
      "INFO:root:Reading Report {626d63aa-02d0-4fa7-962c-e324374da15e}.\n",
      "INFO:root:Listing Malwares with filters [{\"key\": \"name\", \"values\": \"Komplex\"}].\n",
      "INFO:root:Listing Stix-Domain-Entities with filters [{\"key\": \"name\", \"values\": [\"Komplex\"]}].\n",
      "INFO:root:Reading Report {626d63aa-02d0-4fa7-962c-e324374da15e}.\n",
      "INFO:root:Listing Malwares with filters [{\"key\": \"name\", \"values\": \"LoJax\"}].\n",
      "INFO:root:Listing Stix-Domain-Entities with filters [{\"key\": \"name\", \"values\": [\"LoJax\"]}].\n",
      "INFO:root:Reading Report {626d63aa-02d0-4fa7-962c-e324374da15e}.\n",
      "INFO:root:Listing Malwares with filters [{\"key\": \"name\", \"values\": \"OLDBAIT\"}].\n"
     ]
    },
    {
     "name": "stdout",
     "output_type": "stream",
     "text": [
      "['Sasfis']\n"
     ]
    },
    {
     "name": "stderr",
     "output_type": "stream",
     "text": [
      "INFO:root:Listing Stix-Domain-Entities with filters [{\"key\": \"name\", \"values\": [\"OLDBAIT\"]}].\n",
      "INFO:root:Updating Stix-Domain-Entity {0bf977df-7610-489d-b7d8-47ab58f48575} field {alias}.\n",
      "INFO:root:Reading Report {626d63aa-02d0-4fa7-962c-e324374da15e}.\n",
      "INFO:root:Listing Malwares with filters [{\"key\": \"name\", \"values\": \"USBStealer\"}].\n"
     ]
    },
    {
     "name": "stdout",
     "output_type": "stream",
     "text": [
      "['USB Stealer', ' Win32/USBStealer']\n"
     ]
    },
    {
     "name": "stderr",
     "output_type": "stream",
     "text": [
      "INFO:root:Listing Stix-Domain-Entities with filters [{\"key\": \"name\", \"values\": [\"USBStealer\"]}].\n",
      "INFO:root:Updating Stix-Domain-Entity {ddce0c11-63eb-4bc7-b86b-5f90bcadc3c8} field {alias}.\n",
      "INFO:root:Reading Report {626d63aa-02d0-4fa7-962c-e324374da15e}.\n",
      "INFO:root:Listing Malwares with filters [{\"key\": \"name\", \"values\": \"X-Agent for Android\"}].\n",
      "INFO:root:Listing Stix-Domain-Entities with filters [{\"key\": \"name\", \"values\": [\"X-Agent for Android\"]}].\n",
      "INFO:root:Reading Report {626d63aa-02d0-4fa7-962c-e324374da15e}.\n",
      "INFO:root:Listing Malwares with filters [{\"key\": \"name\", \"values\": \"XAgentOSX\"}].\n"
     ]
    },
    {
     "name": "stdout",
     "output_type": "stream",
     "text": [
      "['OSX.Sofacy']\n"
     ]
    },
    {
     "name": "stderr",
     "output_type": "stream",
     "text": [
      "INFO:root:Listing Stix-Domain-Entities with filters [{\"key\": \"name\", \"values\": [\"XAgentOSX\"]}].\n",
      "INFO:root:Updating Stix-Domain-Entity {393b3172-087a-4ce7-a6ce-3861b3938a98} field {alias}.\n",
      "INFO:root:Reading Report {626d63aa-02d0-4fa7-962c-e324374da15e}.\n",
      "INFO:root:Listing Malwares with filters [{\"key\": \"name\", \"values\": \"XTunnel\"}].\n"
     ]
    },
    {
     "name": "stdout",
     "output_type": "stream",
     "text": [
      "['Trojan.Shunnael', ' X-Tunnel', ' XAPS']\n"
     ]
    },
    {
     "name": "stderr",
     "output_type": "stream",
     "text": [
      "INFO:root:Listing Stix-Domain-Entities with filters [{\"key\": \"name\", \"values\": [\"XTunnel\"]}].\n",
      "INFO:root:Updating Stix-Domain-Entity {39308474-f1bb-4b51-88dd-0c482f52540e} field {alias}.\n",
      "INFO:root:Reading Report {626d63aa-02d0-4fa7-962c-e324374da15e}.\n",
      "INFO:root:Listing Malwares with filters [{\"key\": \"name\", \"values\": \"Zebrocy\"}].\n"
     ]
    },
    {
     "name": "stdout",
     "output_type": "stream",
     "text": [
      "['Zekapab']\n"
     ]
    },
    {
     "name": "stderr",
     "output_type": "stream",
     "text": [
      "INFO:root:Listing Stix-Domain-Entities with filters [{\"key\": \"name\", \"values\": [\"Zebrocy\"]}].\n",
      "INFO:root:Updating Stix-Domain-Entity {4f706b24-7080-43de-8973-1cb21b99adf9} field {alias}.\n",
      "INFO:root:Reading Report {626d63aa-02d0-4fa7-962c-e324374da15e}.\n",
      "INFO:root:Listing Tools with filters [{\"key\": \"name\", \"values\": \"certutil\"}].\n"
     ]
    },
    {
     "name": "stdout",
     "output_type": "stream",
     "text": [
      "['certutil.exe']\n"
     ]
    },
    {
     "name": "stderr",
     "output_type": "stream",
     "text": [
      "INFO:root:Listing Stix-Domain-Entities with filters [{\"key\": \"name\", \"values\": [\"certutil\"]}].\n",
      "INFO:root:Updating Stix-Domain-Entity {b53366a5-4d92-4f98-92a2-66aaab1be611} field {alias}.\n",
      "INFO:root:Reading Report {626d63aa-02d0-4fa7-962c-e324374da15e}.\n",
      "INFO:root:Listing Tools with filters [{\"key\": \"name\", \"values\": \"Forfiles\"}].\n",
      "INFO:root:Listing Stix-Domain-Entities with filters [{\"key\": \"name\", \"values\": [\"Forfiles\"]}].\n",
      "INFO:root:Reading Report {626d63aa-02d0-4fa7-962c-e324374da15e}.\n",
      "INFO:root:Listing Tools with filters [{\"key\": \"name\", \"values\": \"Koadic\"}].\n",
      "INFO:root:Listing Stix-Domain-Entities with filters [{\"key\": \"name\", \"values\": [\"Koadic\"]}].\n",
      "INFO:root:Reading Report {626d63aa-02d0-4fa7-962c-e324374da15e}.\n",
      "INFO:root:Listing Tools with filters [{\"key\": \"name\", \"values\": \"Mimikatz\"}].\n",
      "INFO:root:Listing Stix-Domain-Entities with filters [{\"key\": \"name\", \"values\": [\"Mimikatz\"]}].\n",
      "INFO:root:Reading Report {626d63aa-02d0-4fa7-962c-e324374da15e}.\n",
      "INFO:root:Listing Tools with filters [{\"key\": \"name\", \"values\": \"Responder\"}].\n",
      "INFO:root:Listing Stix-Domain-Entities with filters [{\"key\": \"name\", \"values\": [\"Responder\"]}].\n",
      "INFO:root:Reading Report {626d63aa-02d0-4fa7-962c-e324374da15e}.\n",
      "INFO:root:Listing Tools with filters [{\"key\": \"name\", \"values\": \"Winexe\"}].\n",
      "INFO:root:Listing Stix-Domain-Entities with filters [{\"key\": \"name\", \"values\": [\"Winexe\"]}].\n",
      "INFO:root:Reading Report {626d63aa-02d0-4fa7-962c-e324374da15e}.\n",
      "INFO:root:Listing Vulnerabilities with filters [{\"key\": \"name\", \"values\": \"CVE-2017-0148\"}].\n",
      "INFO:root:Listing Stix-Domain-Entities with filters [{\"key\": \"name\", \"values\": [\"CVE-2017-0148\"]}].\n",
      "INFO:root:Reading Report {626d63aa-02d0-4fa7-962c-e324374da15e}.\n",
      "INFO:root:Listing Vulnerabilities with filters [{\"key\": \"name\", \"values\": \"CVE-2015-2424\"}].\n",
      "INFO:root:Listing Stix-Domain-Entities with filters [{\"key\": \"name\", \"values\": [\"CVE-2015-2424\"]}].\n",
      "INFO:root:Listing Stix-Domain-Entities with filters [{\"key\": \"alias\", \"values\": [\"CVE-2015-2424\"]}].\n",
      "INFO:root:Creating Vulnerability {CVE-2015-2424}.\n",
      "INFO:root:Reading Report {626d63aa-02d0-4fa7-962c-e324374da15e}.\n",
      "INFO:root:Adding Stix-Entity {f98e4827-737c-484e-aa8c-8cb180d244e2} to Report {626d63aa-02d0-4fa7-962c-e324374da15e}\n",
      "INFO:root:Listing Vulnerabilities with filters [{\"key\": \"name\", \"values\": \"CVE-2015-3043\"}].\n",
      "INFO:root:Listing Stix-Domain-Entities with filters [{\"key\": \"name\", \"values\": [\"CVE-2015-3043\"]}].\n",
      "INFO:root:Listing Stix-Domain-Entities with filters [{\"key\": \"alias\", \"values\": [\"CVE-2015-3043\"]}].\n",
      "INFO:root:Creating Vulnerability {CVE-2015-3043}.\n",
      "INFO:root:Reading Report {626d63aa-02d0-4fa7-962c-e324374da15e}.\n",
      "INFO:root:Adding Stix-Entity {e3250abe-4581-4422-84d2-ac725290fc31} to Report {626d63aa-02d0-4fa7-962c-e324374da15e}\n",
      "INFO:root:Listing Vulnerabilities with filters [{\"key\": \"name\", \"values\": \"CVE-2014-0515\"}].\n",
      "INFO:root:Listing Stix-Domain-Entities with filters [{\"key\": \"name\", \"values\": [\"CVE-2014-0515\"]}].\n",
      "INFO:root:Listing Stix-Domain-Entities with filters [{\"key\": \"alias\", \"values\": [\"CVE-2014-0515\"]}].\n",
      "INFO:root:Creating Vulnerability {CVE-2014-0515}.\n",
      "INFO:root:Reading Report {626d63aa-02d0-4fa7-962c-e324374da15e}.\n",
      "INFO:root:Adding Stix-Entity {0a805ce4-b56d-40c9-b8dc-66c2853d9f97} to Report {626d63aa-02d0-4fa7-962c-e324374da15e}\n",
      "INFO:root:Listing Vulnerabilities with filters [{\"key\": \"name\", \"values\": \"CVE-2017-0147\"}].\n",
      "INFO:root:Listing Stix-Domain-Entities with filters [{\"key\": \"name\", \"values\": [\"CVE-2017-0147\"]}].\n",
      "INFO:root:Listing Stix-Domain-Entities with filters [{\"key\": \"alias\", \"values\": [\"CVE-2017-0147\"]}].\n",
      "INFO:root:Creating Vulnerability {CVE-2017-0147}.\n",
      "INFO:root:Reading Report {626d63aa-02d0-4fa7-962c-e324374da15e}.\n",
      "INFO:root:Adding Stix-Entity {7a827f04-9173-484c-8947-fe7a2ec5a6b5} to Report {626d63aa-02d0-4fa7-962c-e324374da15e}\n",
      "INFO:root:Listing Vulnerabilities with filters [{\"key\": \"name\", \"values\": \"CVE-2015-2590\"}].\n",
      "INFO:root:Listing Stix-Domain-Entities with filters [{\"key\": \"name\", \"values\": [\"CVE-2015-2590\"]}].\n",
      "INFO:root:Listing Stix-Domain-Entities with filters [{\"key\": \"alias\", \"values\": [\"CVE-2015-2590\"]}].\n",
      "INFO:root:Creating Vulnerability {CVE-2015-2590}.\n",
      "INFO:root:Reading Report {626d63aa-02d0-4fa7-962c-e324374da15e}.\n",
      "INFO:root:Adding Stix-Entity {efcac6aa-2e6a-4b24-a981-2b561eb716d3} to Report {626d63aa-02d0-4fa7-962c-e324374da15e}\n",
      "INFO:root:Listing Vulnerabilities with filters [{\"key\": \"name\", \"values\": \"CVE-2017-0144\"}].\n",
      "INFO:root:Listing Stix-Domain-Entities with filters [{\"key\": \"name\", \"values\": [\"CVE-2017-0144\"]}].\n",
      "INFO:root:Listing Stix-Domain-Entities with filters [{\"key\": \"alias\", \"values\": [\"CVE-2017-0144\"]}].\n",
      "INFO:root:Creating Vulnerability {CVE-2017-0144}.\n",
      "INFO:root:Reading Report {626d63aa-02d0-4fa7-962c-e324374da15e}.\n",
      "INFO:root:Adding Stix-Entity {49538564-14e1-455e-8f7f-a879031ccd0f} to Report {626d63aa-02d0-4fa7-962c-e324374da15e}\n",
      "INFO:root:Listing Vulnerabilities with filters [{\"key\": \"name\", \"values\": \"CVE-2017-0262\"}].\n",
      "INFO:root:Listing Stix-Domain-Entities with filters [{\"key\": \"name\", \"values\": [\"CVE-2017-0262\"]}].\n",
      "INFO:root:Listing Stix-Domain-Entities with filters [{\"key\": \"alias\", \"values\": [\"CVE-2017-0262\"]}].\n",
      "INFO:root:Creating Vulnerability {CVE-2017-0262}.\n",
      "INFO:root:Reading Report {626d63aa-02d0-4fa7-962c-e324374da15e}.\n",
      "INFO:root:Adding Stix-Entity {549c7154-059e-4b34-998a-bbacdad9b478} to Report {626d63aa-02d0-4fa7-962c-e324374da15e}\n",
      "INFO:root:Listing Vulnerabilities with filters [{\"key\": \"name\", \"values\": \"CVE-2017-0145\"}].\n",
      "INFO:root:Listing Stix-Domain-Entities with filters [{\"key\": \"name\", \"values\": [\"CVE-2017-0145\"]}].\n",
      "INFO:root:Listing Stix-Domain-Entities with filters [{\"key\": \"alias\", \"values\": [\"CVE-2017-0145\"]}].\n",
      "INFO:root:Creating Vulnerability {CVE-2017-0145}.\n",
      "INFO:root:Reading Report {626d63aa-02d0-4fa7-962c-e324374da15e}.\n",
      "INFO:root:Adding Stix-Entity {2e62ea47-e4d0-46ca-81b6-c8fc5e114090} to Report {626d63aa-02d0-4fa7-962c-e324374da15e}\n",
      "INFO:root:Listing Vulnerabilities with filters [{\"key\": \"name\", \"values\": \"CVE-2015-1701\"}].\n",
      "INFO:root:Listing Stix-Domain-Entities with filters [{\"key\": \"name\", \"values\": [\"CVE-2015-1701\"]}].\n",
      "INFO:root:Listing Stix-Domain-Entities with filters [{\"key\": \"alias\", \"values\": [\"CVE-2015-1701\"]}].\n",
      "INFO:root:Creating Vulnerability {CVE-2015-1701}.\n",
      "INFO:root:Reading Report {626d63aa-02d0-4fa7-962c-e324374da15e}.\n",
      "INFO:root:Adding Stix-Entity {35d8b185-fc5e-4662-8813-05b1f0e9d602} to Report {626d63aa-02d0-4fa7-962c-e324374da15e}\n",
      "INFO:root:Listing Vulnerabilities with filters [{\"key\": \"name\", \"values\": \"CVE-2015-5119\"}].\n",
      "INFO:root:Listing Stix-Domain-Entities with filters [{\"key\": \"name\", \"values\": [\"CVE-2015-5119\"]}].\n",
      "INFO:root:Listing Stix-Domain-Entities with filters [{\"key\": \"alias\", \"values\": [\"CVE-2015-5119\"]}].\n",
      "INFO:root:Creating Vulnerability {CVE-2015-5119}.\n",
      "INFO:root:Reading Report {626d63aa-02d0-4fa7-962c-e324374da15e}.\n",
      "INFO:root:Adding Stix-Entity {948c9af6-8d65-434b-854b-0351e4df9287} to Report {626d63aa-02d0-4fa7-962c-e324374da15e}\n",
      "INFO:root:Listing Vulnerabilities with filters [{\"key\": \"name\", \"values\": \"CVE-2016-7855\"}].\n",
      "INFO:root:Listing Stix-Domain-Entities with filters [{\"key\": \"name\", \"values\": [\"CVE-2016-7855\"]}].\n",
      "INFO:root:Listing Stix-Domain-Entities with filters [{\"key\": \"alias\", \"values\": [\"CVE-2016-7855\"]}].\n",
      "INFO:root:Creating Vulnerability {CVE-2016-7855}.\n",
      "INFO:root:Reading Report {626d63aa-02d0-4fa7-962c-e324374da15e}.\n",
      "INFO:root:Adding Stix-Entity {a0566571-fdf3-4bf3-8693-de8211c5404d} to Report {626d63aa-02d0-4fa7-962c-e324374da15e}\n",
      "INFO:root:Listing Vulnerabilities with filters [{\"key\": \"name\", \"values\": \"CVE-2016-7255\"}].\n",
      "INFO:root:Listing Stix-Domain-Entities with filters [{\"key\": \"name\", \"values\": [\"CVE-2016-7255\"]}].\n",
      "INFO:root:Listing Stix-Domain-Entities with filters [{\"key\": \"alias\", \"values\": [\"CVE-2016-7255\"]}].\n",
      "INFO:root:Creating Vulnerability {CVE-2016-7255}.\n",
      "INFO:root:Reading Report {626d63aa-02d0-4fa7-962c-e324374da15e}.\n",
      "INFO:root:Adding Stix-Entity {3c50729a-e93f-4a65-bc45-d307b0266580} to Report {626d63aa-02d0-4fa7-962c-e324374da15e}\n",
      "INFO:root:Listing Vulnerabilities with filters [{\"key\": \"name\", \"values\": \"CVE-2017-0263\"}].\n",
      "INFO:root:Listing Stix-Domain-Entities with filters [{\"key\": \"name\", \"values\": [\"CVE-2017-0263\"]}].\n"
     ]
    },
    {
     "name": "stderr",
     "output_type": "stream",
     "text": [
      "INFO:root:Listing Stix-Domain-Entities with filters [{\"key\": \"alias\", \"values\": [\"CVE-2017-0263\"]}].\n",
      "INFO:root:Creating Vulnerability {CVE-2017-0263}.\n",
      "INFO:root:Reading Report {626d63aa-02d0-4fa7-962c-e324374da15e}.\n",
      "INFO:root:Adding Stix-Entity {d6e1e26a-12d0-4936-93bf-46c1066f0f92} to Report {626d63aa-02d0-4fa7-962c-e324374da15e}\n",
      "INFO:root:Listing Vulnerabilities with filters [{\"key\": \"name\", \"values\": \"CVE-2017-0143\"}].\n",
      "INFO:root:Listing Stix-Domain-Entities with filters [{\"key\": \"name\", \"values\": [\"CVE-2017-0143\"]}].\n",
      "INFO:root:Listing Stix-Domain-Entities with filters [{\"key\": \"alias\", \"values\": [\"CVE-2017-0143\"]}].\n",
      "INFO:root:Creating Vulnerability {CVE-2017-0143}.\n",
      "INFO:root:Reading Report {626d63aa-02d0-4fa7-962c-e324374da15e}.\n",
      "INFO:root:Adding Stix-Entity {266a3f9a-776f-42d2-9981-1ae18456537c} to Report {626d63aa-02d0-4fa7-962c-e324374da15e}\n",
      "INFO:root:Listing Vulnerabilities with filters [{\"key\": \"name\", \"values\": \"CVE-2017-0146\"}].\n",
      "INFO:root:Listing Stix-Domain-Entities with filters [{\"key\": \"name\", \"values\": [\"CVE-2017-0146\"]}].\n",
      "INFO:root:Listing Stix-Domain-Entities with filters [{\"key\": \"alias\", \"values\": [\"CVE-2017-0146\"]}].\n",
      "INFO:root:Creating Vulnerability {CVE-2017-0146}.\n",
      "INFO:root:Reading Report {626d63aa-02d0-4fa7-962c-e324374da15e}.\n",
      "INFO:root:Adding Stix-Entity {4326749b-9cff-4212-ab1d-5c32060c5cf3} to Report {626d63aa-02d0-4fa7-962c-e324374da15e}\n"
     ]
    },
    {
     "ename": "KeyError",
     "evalue": "'name'",
     "output_type": "error",
     "traceback": [
      "\u001b[1;31m---------------------------------------------------------------------------\u001b[0m",
      "\u001b[1;31mTypeError\u001b[0m                                 Traceback (most recent call last)",
      "\u001b[1;32m~\\AppData\\Roaming\\Python\\Python37\\site-packages\\pandas\\core\\indexes\\base.py\u001b[0m in \u001b[0;36mget_value\u001b[1;34m(self, series, key)\u001b[0m\n\u001b[0;32m   4409\u001b[0m             \u001b[1;32mtry\u001b[0m\u001b[1;33m:\u001b[0m\u001b[1;33m\u001b[0m\u001b[1;33m\u001b[0m\u001b[0m\n\u001b[1;32m-> 4410\u001b[1;33m                 \u001b[1;32mreturn\u001b[0m \u001b[0mlibindex\u001b[0m\u001b[1;33m.\u001b[0m\u001b[0mget_value_at\u001b[0m\u001b[1;33m(\u001b[0m\u001b[0ms\u001b[0m\u001b[1;33m,\u001b[0m \u001b[0mkey\u001b[0m\u001b[1;33m)\u001b[0m\u001b[1;33m\u001b[0m\u001b[1;33m\u001b[0m\u001b[0m\n\u001b[0m\u001b[0;32m   4411\u001b[0m             \u001b[1;32mexcept\u001b[0m \u001b[0mIndexError\u001b[0m\u001b[1;33m:\u001b[0m\u001b[1;33m\u001b[0m\u001b[1;33m\u001b[0m\u001b[0m\n",
      "\u001b[1;32mpandas\\_libs\\index.pyx\u001b[0m in \u001b[0;36mpandas._libs.index.get_value_at\u001b[1;34m()\u001b[0m\n",
      "\u001b[1;32mpandas\\_libs\\index.pyx\u001b[0m in \u001b[0;36mpandas._libs.index.get_value_at\u001b[1;34m()\u001b[0m\n",
      "\u001b[1;32mpandas\\_libs\\util.pxd\u001b[0m in \u001b[0;36mpandas._libs.util.get_value_at\u001b[1;34m()\u001b[0m\n",
      "\u001b[1;32mpandas\\_libs\\util.pxd\u001b[0m in \u001b[0;36mpandas._libs.util.validate_indexer\u001b[1;34m()\u001b[0m\n",
      "\u001b[1;31mTypeError\u001b[0m: 'str' object cannot be interpreted as an integer",
      "\nDuring handling of the above exception, another exception occurred:\n",
      "\u001b[1;31mKeyError\u001b[0m                                  Traceback (most recent call last)",
      "\u001b[1;32m<ipython-input-32-42d120f06ca4>\u001b[0m in \u001b[0;36m<module>\u001b[1;34m\u001b[0m\n\u001b[1;32m----> 1\u001b[1;33m \u001b[0men\u001b[0m\u001b[1;33m.\u001b[0m\u001b[0mcreate_report\u001b[0m\u001b[1;33m(\u001b[0m\u001b[1;33m)\u001b[0m\u001b[1;33m\u001b[0m\u001b[1;33m\u001b[0m\u001b[0m\n\u001b[0m",
      "\u001b[1;32m<ipython-input-30-31f1e22a3c26>\u001b[0m in \u001b[0;36mcreate_report\u001b[1;34m(self)\u001b[0m\n\u001b[0;32m    353\u001b[0m             \u001b[0mself\u001b[0m\u001b[1;33m.\u001b[0m\u001b[0mcreate_tool\u001b[0m \u001b[1;33m(\u001b[0m\u001b[0mby\u001b[0m \u001b[1;33m=\u001b[0m \u001b[0mreport_by\u001b[0m\u001b[1;33m[\u001b[0m\u001b[1;34m'id'\u001b[0m\u001b[1;33m]\u001b[0m \u001b[1;33m,\u001b[0m \u001b[0mreport\u001b[0m \u001b[1;33m=\u001b[0m \u001b[0mreport\u001b[0m \u001b[1;33m[\u001b[0m\u001b[1;34m'id'\u001b[0m\u001b[1;33m]\u001b[0m\u001b[1;33m)\u001b[0m\u001b[1;33m\u001b[0m\u001b[1;33m\u001b[0m\u001b[0m\n\u001b[0;32m    354\u001b[0m             \u001b[0mself\u001b[0m\u001b[1;33m.\u001b[0m\u001b[0mcreate_vulnerabilty\u001b[0m \u001b[1;33m(\u001b[0m\u001b[0mby\u001b[0m \u001b[1;33m=\u001b[0m \u001b[0mreport_by\u001b[0m\u001b[1;33m[\u001b[0m\u001b[1;34m'id'\u001b[0m\u001b[1;33m]\u001b[0m \u001b[1;33m,\u001b[0m \u001b[0mreport\u001b[0m \u001b[1;33m=\u001b[0m \u001b[0mreport\u001b[0m \u001b[1;33m[\u001b[0m\u001b[1;34m'id'\u001b[0m\u001b[1;33m]\u001b[0m\u001b[1;33m)\u001b[0m\u001b[1;33m\u001b[0m\u001b[1;33m\u001b[0m\u001b[0m\n\u001b[1;32m--> 355\u001b[1;33m             \u001b[0mself\u001b[0m\u001b[1;33m.\u001b[0m\u001b[0mcreate_indicator\u001b[0m \u001b[1;33m(\u001b[0m\u001b[0mby\u001b[0m \u001b[1;33m=\u001b[0m \u001b[0mreport_by\u001b[0m\u001b[1;33m[\u001b[0m\u001b[1;34m'id'\u001b[0m\u001b[1;33m]\u001b[0m \u001b[1;33m,\u001b[0m \u001b[0mreport\u001b[0m \u001b[1;33m=\u001b[0m \u001b[0mreport\u001b[0m \u001b[1;33m[\u001b[0m\u001b[1;34m'id'\u001b[0m\u001b[1;33m]\u001b[0m\u001b[1;33m)\u001b[0m\u001b[1;33m\u001b[0m\u001b[1;33m\u001b[0m\u001b[0m\n\u001b[0m\u001b[0;32m    356\u001b[0m             \u001b[1;31m#self.create_relationships (report = report ['id'])\u001b[0m\u001b[1;33m\u001b[0m\u001b[1;33m\u001b[0m\u001b[1;33m\u001b[0m\u001b[0m\n\u001b[0;32m    357\u001b[0m \u001b[1;33m\u001b[0m\u001b[0m\n",
      "\u001b[1;32m<ipython-input-30-31f1e22a3c26>\u001b[0m in \u001b[0;36mcreate_indicator\u001b[1;34m(self, by, report)\u001b[0m\n\u001b[0;32m    252\u001b[0m                 \u001b[1;32mif\u001b[0m \u001b[1;33m(\u001b[0m\u001b[0mlen\u001b[0m\u001b[1;33m(\u001b[0m\u001b[0mexist\u001b[0m\u001b[1;33m)\u001b[0m \u001b[1;33m==\u001b[0m \u001b[1;36m0\u001b[0m\u001b[1;33m)\u001b[0m\u001b[1;33m:\u001b[0m\u001b[1;33m\u001b[0m\u001b[1;33m\u001b[0m\u001b[0m\n\u001b[0;32m    253\u001b[0m                     indicator = opencti_api_client.indicator.create(\n\u001b[1;32m--> 254\u001b[1;33m                                                                 \u001b[0mname\u001b[0m\u001b[1;33m=\u001b[0m\u001b[0mrow\u001b[0m\u001b[1;33m[\u001b[0m\u001b[1;34m'name'\u001b[0m\u001b[1;33m]\u001b[0m\u001b[1;33m,\u001b[0m\u001b[1;33m\u001b[0m\u001b[1;33m\u001b[0m\u001b[0m\n\u001b[0m\u001b[0;32m    255\u001b[0m                                                                 \u001b[0mdescription\u001b[0m\u001b[1;33m=\u001b[0m \u001b[0mrow\u001b[0m\u001b[1;33m[\u001b[0m\u001b[1;34m'description'\u001b[0m\u001b[1;33m]\u001b[0m\u001b[1;33m,\u001b[0m\u001b[1;33m\u001b[0m\u001b[1;33m\u001b[0m\u001b[0m\n\u001b[0;32m    256\u001b[0m                                                                 \u001b[0mpattern_type\u001b[0m\u001b[1;33m=\u001b[0m \u001b[0mrow\u001b[0m\u001b[1;33m[\u001b[0m\u001b[1;34m'pattern_type'\u001b[0m\u001b[1;33m]\u001b[0m\u001b[1;33m,\u001b[0m\u001b[1;33m\u001b[0m\u001b[1;33m\u001b[0m\u001b[0m\n",
      "\u001b[1;32m~\\AppData\\Roaming\\Python\\Python37\\site-packages\\pandas\\core\\series.py\u001b[0m in \u001b[0;36m__getitem__\u001b[1;34m(self, key)\u001b[0m\n\u001b[0;32m    869\u001b[0m         \u001b[0mkey\u001b[0m \u001b[1;33m=\u001b[0m \u001b[0mcom\u001b[0m\u001b[1;33m.\u001b[0m\u001b[0mapply_if_callable\u001b[0m\u001b[1;33m(\u001b[0m\u001b[0mkey\u001b[0m\u001b[1;33m,\u001b[0m \u001b[0mself\u001b[0m\u001b[1;33m)\u001b[0m\u001b[1;33m\u001b[0m\u001b[1;33m\u001b[0m\u001b[0m\n\u001b[0;32m    870\u001b[0m         \u001b[1;32mtry\u001b[0m\u001b[1;33m:\u001b[0m\u001b[1;33m\u001b[0m\u001b[1;33m\u001b[0m\u001b[0m\n\u001b[1;32m--> 871\u001b[1;33m             \u001b[0mresult\u001b[0m \u001b[1;33m=\u001b[0m \u001b[0mself\u001b[0m\u001b[1;33m.\u001b[0m\u001b[0mindex\u001b[0m\u001b[1;33m.\u001b[0m\u001b[0mget_value\u001b[0m\u001b[1;33m(\u001b[0m\u001b[0mself\u001b[0m\u001b[1;33m,\u001b[0m \u001b[0mkey\u001b[0m\u001b[1;33m)\u001b[0m\u001b[1;33m\u001b[0m\u001b[1;33m\u001b[0m\u001b[0m\n\u001b[0m\u001b[0;32m    872\u001b[0m \u001b[1;33m\u001b[0m\u001b[0m\n\u001b[0;32m    873\u001b[0m             \u001b[1;32mif\u001b[0m \u001b[1;32mnot\u001b[0m \u001b[0mis_scalar\u001b[0m\u001b[1;33m(\u001b[0m\u001b[0mresult\u001b[0m\u001b[1;33m)\u001b[0m\u001b[1;33m:\u001b[0m\u001b[1;33m\u001b[0m\u001b[1;33m\u001b[0m\u001b[0m\n",
      "\u001b[1;32m~\\AppData\\Roaming\\Python\\Python37\\site-packages\\pandas\\core\\indexes\\base.py\u001b[0m in \u001b[0;36mget_value\u001b[1;34m(self, series, key)\u001b[0m\n\u001b[0;32m   4416\u001b[0m                     \u001b[1;32mraise\u001b[0m \u001b[0mInvalidIndexError\u001b[0m\u001b[1;33m(\u001b[0m\u001b[0mkey\u001b[0m\u001b[1;33m)\u001b[0m\u001b[1;33m\u001b[0m\u001b[1;33m\u001b[0m\u001b[0m\n\u001b[0;32m   4417\u001b[0m                 \u001b[1;32melse\u001b[0m\u001b[1;33m:\u001b[0m\u001b[1;33m\u001b[0m\u001b[1;33m\u001b[0m\u001b[0m\n\u001b[1;32m-> 4418\u001b[1;33m                     \u001b[1;32mraise\u001b[0m \u001b[0me1\u001b[0m\u001b[1;33m\u001b[0m\u001b[1;33m\u001b[0m\u001b[0m\n\u001b[0m\u001b[0;32m   4419\u001b[0m             \u001b[1;32mexcept\u001b[0m \u001b[0mException\u001b[0m\u001b[1;33m:\u001b[0m\u001b[1;33m\u001b[0m\u001b[1;33m\u001b[0m\u001b[0m\n\u001b[0;32m   4420\u001b[0m                 \u001b[1;32mraise\u001b[0m \u001b[0me1\u001b[0m\u001b[1;33m\u001b[0m\u001b[1;33m\u001b[0m\u001b[0m\n",
      "\u001b[1;32m~\\AppData\\Roaming\\Python\\Python37\\site-packages\\pandas\\core\\indexes\\base.py\u001b[0m in \u001b[0;36mget_value\u001b[1;34m(self, series, key)\u001b[0m\n\u001b[0;32m   4402\u001b[0m         \u001b[0mk\u001b[0m \u001b[1;33m=\u001b[0m \u001b[0mself\u001b[0m\u001b[1;33m.\u001b[0m\u001b[0m_convert_scalar_indexer\u001b[0m\u001b[1;33m(\u001b[0m\u001b[0mk\u001b[0m\u001b[1;33m,\u001b[0m \u001b[0mkind\u001b[0m\u001b[1;33m=\u001b[0m\u001b[1;34m\"getitem\"\u001b[0m\u001b[1;33m)\u001b[0m\u001b[1;33m\u001b[0m\u001b[1;33m\u001b[0m\u001b[0m\n\u001b[0;32m   4403\u001b[0m         \u001b[1;32mtry\u001b[0m\u001b[1;33m:\u001b[0m\u001b[1;33m\u001b[0m\u001b[1;33m\u001b[0m\u001b[0m\n\u001b[1;32m-> 4404\u001b[1;33m             \u001b[1;32mreturn\u001b[0m \u001b[0mself\u001b[0m\u001b[1;33m.\u001b[0m\u001b[0m_engine\u001b[0m\u001b[1;33m.\u001b[0m\u001b[0mget_value\u001b[0m\u001b[1;33m(\u001b[0m\u001b[0ms\u001b[0m\u001b[1;33m,\u001b[0m \u001b[0mk\u001b[0m\u001b[1;33m,\u001b[0m \u001b[0mtz\u001b[0m\u001b[1;33m=\u001b[0m\u001b[0mgetattr\u001b[0m\u001b[1;33m(\u001b[0m\u001b[0mseries\u001b[0m\u001b[1;33m.\u001b[0m\u001b[0mdtype\u001b[0m\u001b[1;33m,\u001b[0m \u001b[1;34m\"tz\"\u001b[0m\u001b[1;33m,\u001b[0m \u001b[1;32mNone\u001b[0m\u001b[1;33m)\u001b[0m\u001b[1;33m)\u001b[0m\u001b[1;33m\u001b[0m\u001b[1;33m\u001b[0m\u001b[0m\n\u001b[0m\u001b[0;32m   4405\u001b[0m         \u001b[1;32mexcept\u001b[0m \u001b[0mKeyError\u001b[0m \u001b[1;32mas\u001b[0m \u001b[0me1\u001b[0m\u001b[1;33m:\u001b[0m\u001b[1;33m\u001b[0m\u001b[1;33m\u001b[0m\u001b[0m\n\u001b[0;32m   4406\u001b[0m             \u001b[1;32mif\u001b[0m \u001b[0mlen\u001b[0m\u001b[1;33m(\u001b[0m\u001b[0mself\u001b[0m\u001b[1;33m)\u001b[0m \u001b[1;33m>\u001b[0m \u001b[1;36m0\u001b[0m \u001b[1;32mand\u001b[0m \u001b[1;33m(\u001b[0m\u001b[0mself\u001b[0m\u001b[1;33m.\u001b[0m\u001b[0mholds_integer\u001b[0m\u001b[1;33m(\u001b[0m\u001b[1;33m)\u001b[0m \u001b[1;32mor\u001b[0m \u001b[0mself\u001b[0m\u001b[1;33m.\u001b[0m\u001b[0mis_boolean\u001b[0m\u001b[1;33m(\u001b[0m\u001b[1;33m)\u001b[0m\u001b[1;33m)\u001b[0m\u001b[1;33m:\u001b[0m\u001b[1;33m\u001b[0m\u001b[1;33m\u001b[0m\u001b[0m\n",
      "\u001b[1;32mpandas\\_libs\\index.pyx\u001b[0m in \u001b[0;36mpandas._libs.index.IndexEngine.get_value\u001b[1;34m()\u001b[0m\n",
      "\u001b[1;32mpandas\\_libs\\index.pyx\u001b[0m in \u001b[0;36mpandas._libs.index.IndexEngine.get_value\u001b[1;34m()\u001b[0m\n",
      "\u001b[1;32mpandas\\_libs\\index.pyx\u001b[0m in \u001b[0;36mpandas._libs.index.IndexEngine.get_loc\u001b[1;34m()\u001b[0m\n",
      "\u001b[1;32mpandas\\_libs\\hashtable_class_helper.pxi\u001b[0m in \u001b[0;36mpandas._libs.hashtable.PyObjectHashTable.get_item\u001b[1;34m()\u001b[0m\n",
      "\u001b[1;32mpandas\\_libs\\hashtable_class_helper.pxi\u001b[0m in \u001b[0;36mpandas._libs.hashtable.PyObjectHashTable.get_item\u001b[1;34m()\u001b[0m\n",
      "\u001b[1;31mKeyError\u001b[0m: 'name'"
     ]
    }
   ],
   "source": [
    "en.create_report()"
   ]
  },
  {
   "cell_type": "code",
   "execution_count": 125,
   "metadata": {},
   "outputs": [
    {
     "name": "stderr",
     "output_type": "stream",
     "text": [
      "C:\\ProgramData\\Anaconda3\\lib\\site-packages\\ipykernel_launcher.py:300: DeprecationWarning: Call to deprecated method get_stix_domain_entity. (Replaced by the StixDomainEntity class in pycti) -- Deprecated since version 2.1.0.\n",
      "INFO:root:Reading Stix-Domain-Entity {22175c83-6fb7-4f81-b2e6-8e296a6ac451}.\n",
      "C:\\ProgramData\\Anaconda3\\lib\\site-packages\\ipykernel_launcher.py:303: DeprecationWarning: Call to deprecated method get_stix_domain_entity. (Replaced by the StixDomainEntity class in pycti) -- Deprecated since version 2.1.0.\n",
      "INFO:root:Reading Stix-Domain-Entity {f98a818c-d149-4bb5-8963-2fe7ce605986}.\n"
     ]
    },
    {
     "name": "stdout",
     "output_type": "stream",
     "text": [
      "22175c83-6fb7-4f81-b2e6-8e296a6ac451\n",
      "f98a818c-d149-4bb5-8963-2fe7ce605986\n"
     ]
    },
    {
     "name": "stderr",
     "output_type": "stream",
     "text": [
      "INFO:root:Listing stix_relations with {type: uses, from_id: 22175c83-6fb7-4f81-b2e6-8e296a6ac451, to_id: f98a818c-d149-4bb5-8963-2fe7ce605986}\n",
      "INFO:root:Reading Report {a216498d-1d4c-4555-a6a5-c62f38300e74}.\n",
      "INFO:root:Adding Stix-Entity {592edc65-4cb8-4d59-a41d-6ec9fb7e87e6} to Report {a216498d-1d4c-4555-a6a5-c62f38300e74}\n",
      "C:\\ProgramData\\Anaconda3\\lib\\site-packages\\ipykernel_launcher.py:300: DeprecationWarning: Call to deprecated method get_stix_domain_entity. (Replaced by the StixDomainEntity class in pycti) -- Deprecated since version 2.1.0.\n",
      "INFO:root:Reading Stix-Domain-Entity {22175c83-6fb7-4f81-b2e6-8e296a6ac451}.\n",
      "C:\\ProgramData\\Anaconda3\\lib\\site-packages\\ipykernel_launcher.py:303: DeprecationWarning: Call to deprecated method get_stix_domain_entity. (Replaced by the StixDomainEntity class in pycti) -- Deprecated since version 2.1.0.\n",
      "INFO:root:Reading Stix-Domain-Entity {a2c6b37c-fa8f-4537-b548-9294727d2ca2}.\n"
     ]
    },
    {
     "name": "stdout",
     "output_type": "stream",
     "text": [
      "22175c83-6fb7-4f81-b2e6-8e296a6ac451\n",
      "a2c6b37c-fa8f-4537-b548-9294727d2ca2\n"
     ]
    },
    {
     "name": "stderr",
     "output_type": "stream",
     "text": [
      "INFO:root:Listing stix_relations with {type: uses, from_id: 22175c83-6fb7-4f81-b2e6-8e296a6ac451, to_id: a2c6b37c-fa8f-4537-b548-9294727d2ca2}\n",
      "INFO:root:Reading Report {a216498d-1d4c-4555-a6a5-c62f38300e74}.\n",
      "INFO:root:Adding Stix-Entity {a5369d2f-938d-4327-8bc8-84d1d9c9c06b} to Report {a216498d-1d4c-4555-a6a5-c62f38300e74}\n",
      "C:\\ProgramData\\Anaconda3\\lib\\site-packages\\ipykernel_launcher.py:300: DeprecationWarning: Call to deprecated method get_stix_domain_entity. (Replaced by the StixDomainEntity class in pycti) -- Deprecated since version 2.1.0.\n",
      "INFO:root:Reading Stix-Domain-Entity {22175c83-6fb7-4f81-b2e6-8e296a6ac451}.\n",
      "C:\\ProgramData\\Anaconda3\\lib\\site-packages\\ipykernel_launcher.py:303: DeprecationWarning: Call to deprecated method get_stix_domain_entity. (Replaced by the StixDomainEntity class in pycti) -- Deprecated since version 2.1.0.\n",
      "INFO:root:Reading Stix-Domain-Entity {830843c5-2a10-4e76-8b65-4111878d0925}.\n"
     ]
    },
    {
     "name": "stdout",
     "output_type": "stream",
     "text": [
      "22175c83-6fb7-4f81-b2e6-8e296a6ac451\n",
      "830843c5-2a10-4e76-8b65-4111878d0925\n"
     ]
    },
    {
     "name": "stderr",
     "output_type": "stream",
     "text": [
      "INFO:root:Listing stix_relations with {type: uses, from_id: 22175c83-6fb7-4f81-b2e6-8e296a6ac451, to_id: 830843c5-2a10-4e76-8b65-4111878d0925}\n",
      "INFO:root:Reading Report {a216498d-1d4c-4555-a6a5-c62f38300e74}.\n",
      "INFO:root:Adding Stix-Entity {c602f453-f520-4010-8b5d-71b1f1ce5993} to Report {a216498d-1d4c-4555-a6a5-c62f38300e74}\n",
      "C:\\ProgramData\\Anaconda3\\lib\\site-packages\\ipykernel_launcher.py:300: DeprecationWarning: Call to deprecated method get_stix_domain_entity. (Replaced by the StixDomainEntity class in pycti) -- Deprecated since version 2.1.0.\n",
      "INFO:root:Reading Stix-Domain-Entity {22175c83-6fb7-4f81-b2e6-8e296a6ac451}.\n",
      "C:\\ProgramData\\Anaconda3\\lib\\site-packages\\ipykernel_launcher.py:303: DeprecationWarning: Call to deprecated method get_stix_domain_entity. (Replaced by the StixDomainEntity class in pycti) -- Deprecated since version 2.1.0.\n",
      "INFO:root:Reading Stix-Domain-Entity {ec1b152b-759b-4656-8417-fd9caebf312b}.\n"
     ]
    },
    {
     "name": "stdout",
     "output_type": "stream",
     "text": [
      "22175c83-6fb7-4f81-b2e6-8e296a6ac451\n",
      "ec1b152b-759b-4656-8417-fd9caebf312b\n"
     ]
    },
    {
     "name": "stderr",
     "output_type": "stream",
     "text": [
      "INFO:root:Listing stix_relations with {type: uses, from_id: 22175c83-6fb7-4f81-b2e6-8e296a6ac451, to_id: ec1b152b-759b-4656-8417-fd9caebf312b}\n",
      "INFO:root:Reading Report {a216498d-1d4c-4555-a6a5-c62f38300e74}.\n",
      "INFO:root:Adding Stix-Entity {fc4022b5-bd11-438a-96aa-4ea32566cdba} to Report {a216498d-1d4c-4555-a6a5-c62f38300e74}\n",
      "C:\\ProgramData\\Anaconda3\\lib\\site-packages\\ipykernel_launcher.py:300: DeprecationWarning: Call to deprecated method get_stix_domain_entity. (Replaced by the StixDomainEntity class in pycti) -- Deprecated since version 2.1.0.\n",
      "INFO:root:Reading Stix-Domain-Entity {22175c83-6fb7-4f81-b2e6-8e296a6ac451}.\n",
      "C:\\ProgramData\\Anaconda3\\lib\\site-packages\\ipykernel_launcher.py:303: DeprecationWarning: Call to deprecated method get_stix_domain_entity. (Replaced by the StixDomainEntity class in pycti) -- Deprecated since version 2.1.0.\n",
      "INFO:root:Reading Stix-Domain-Entity {77ac5165-2682-46c7-b86c-76c5d2c38a4e}.\n"
     ]
    },
    {
     "name": "stdout",
     "output_type": "stream",
     "text": [
      "22175c83-6fb7-4f81-b2e6-8e296a6ac451\n",
      "77ac5165-2682-46c7-b86c-76c5d2c38a4e\n"
     ]
    },
    {
     "name": "stderr",
     "output_type": "stream",
     "text": [
      "INFO:root:Listing stix_relations with {type: uses, from_id: 22175c83-6fb7-4f81-b2e6-8e296a6ac451, to_id: 77ac5165-2682-46c7-b86c-76c5d2c38a4e}\n",
      "INFO:root:Reading Report {a216498d-1d4c-4555-a6a5-c62f38300e74}.\n",
      "INFO:root:Adding Stix-Entity {95963848-7808-4167-ac6c-1429848a153d} to Report {a216498d-1d4c-4555-a6a5-c62f38300e74}\n",
      "C:\\ProgramData\\Anaconda3\\lib\\site-packages\\ipykernel_launcher.py:300: DeprecationWarning: Call to deprecated method get_stix_domain_entity. (Replaced by the StixDomainEntity class in pycti) -- Deprecated since version 2.1.0.\n",
      "INFO:root:Reading Stix-Domain-Entity {22175c83-6fb7-4f81-b2e6-8e296a6ac451}.\n",
      "C:\\ProgramData\\Anaconda3\\lib\\site-packages\\ipykernel_launcher.py:303: DeprecationWarning: Call to deprecated method get_stix_domain_entity. (Replaced by the StixDomainEntity class in pycti) -- Deprecated since version 2.1.0.\n",
      "INFO:root:Reading Stix-Domain-Entity {0ba1b7ae-d989-4b6b-b90e-75be1438e8d0}.\n",
      "INFO:root:Listing stix_relations with {type: uses, from_id: 22175c83-6fb7-4f81-b2e6-8e296a6ac451, to_id: 0ba1b7ae-d989-4b6b-b90e-75be1438e8d0}\n"
     ]
    },
    {
     "name": "stdout",
     "output_type": "stream",
     "text": [
      "22175c83-6fb7-4f81-b2e6-8e296a6ac451\n",
      "0ba1b7ae-d989-4b6b-b90e-75be1438e8d0\n"
     ]
    },
    {
     "name": "stderr",
     "output_type": "stream",
     "text": [
      "INFO:root:Reading Report {a216498d-1d4c-4555-a6a5-c62f38300e74}.\n",
      "INFO:root:Adding Stix-Entity {1cd9dbe1-1c6b-4697-b916-9b492cd95651} to Report {a216498d-1d4c-4555-a6a5-c62f38300e74}\n",
      "C:\\ProgramData\\Anaconda3\\lib\\site-packages\\ipykernel_launcher.py:300: DeprecationWarning: Call to deprecated method get_stix_domain_entity. (Replaced by the StixDomainEntity class in pycti) -- Deprecated since version 2.1.0.\n",
      "INFO:root:Reading Stix-Domain-Entity {22175c83-6fb7-4f81-b2e6-8e296a6ac451}.\n",
      "C:\\ProgramData\\Anaconda3\\lib\\site-packages\\ipykernel_launcher.py:303: DeprecationWarning: Call to deprecated method get_stix_domain_entity. (Replaced by the StixDomainEntity class in pycti) -- Deprecated since version 2.1.0.\n",
      "INFO:root:Reading Stix-Domain-Entity {885223eb-a293-4d4a-aaa8-2dd8d4487076}.\n"
     ]
    },
    {
     "name": "stdout",
     "output_type": "stream",
     "text": [
      "22175c83-6fb7-4f81-b2e6-8e296a6ac451\n",
      "885223eb-a293-4d4a-aaa8-2dd8d4487076\n"
     ]
    },
    {
     "name": "stderr",
     "output_type": "stream",
     "text": [
      "INFO:root:Listing stix_relations with {type: uses, from_id: 22175c83-6fb7-4f81-b2e6-8e296a6ac451, to_id: 885223eb-a293-4d4a-aaa8-2dd8d4487076}\n",
      "INFO:root:Reading Report {a216498d-1d4c-4555-a6a5-c62f38300e74}.\n",
      "INFO:root:Adding Stix-Entity {dc3a03ef-65e8-400e-9b9d-8c24bc007614} to Report {a216498d-1d4c-4555-a6a5-c62f38300e74}\n",
      "C:\\ProgramData\\Anaconda3\\lib\\site-packages\\ipykernel_launcher.py:300: DeprecationWarning: Call to deprecated method get_stix_domain_entity. (Replaced by the StixDomainEntity class in pycti) -- Deprecated since version 2.1.0.\n",
      "INFO:root:Reading Stix-Domain-Entity {22175c83-6fb7-4f81-b2e6-8e296a6ac451}.\n",
      "C:\\ProgramData\\Anaconda3\\lib\\site-packages\\ipykernel_launcher.py:303: DeprecationWarning: Call to deprecated method get_stix_domain_entity. (Replaced by the StixDomainEntity class in pycti) -- Deprecated since version 2.1.0.\n",
      "INFO:root:Reading Stix-Domain-Entity {651e2539-4a7d-47fc-8df2-ff67583c3801}.\n"
     ]
    },
    {
     "name": "stdout",
     "output_type": "stream",
     "text": [
      "22175c83-6fb7-4f81-b2e6-8e296a6ac451\n",
      "651e2539-4a7d-47fc-8df2-ff67583c3801\n"
     ]
    },
    {
     "name": "stderr",
     "output_type": "stream",
     "text": [
      "INFO:root:Listing stix_relations with {type: uses, from_id: 22175c83-6fb7-4f81-b2e6-8e296a6ac451, to_id: 651e2539-4a7d-47fc-8df2-ff67583c3801}\n",
      "INFO:root:Reading Report {a216498d-1d4c-4555-a6a5-c62f38300e74}.\n",
      "INFO:root:Adding Stix-Entity {36adaae7-ba30-4b6b-99ba-535964791578} to Report {a216498d-1d4c-4555-a6a5-c62f38300e74}\n",
      "C:\\ProgramData\\Anaconda3\\lib\\site-packages\\ipykernel_launcher.py:300: DeprecationWarning: Call to deprecated method get_stix_domain_entity. (Replaced by the StixDomainEntity class in pycti) -- Deprecated since version 2.1.0.\n",
      "INFO:root:Reading Stix-Domain-Entity {22175c83-6fb7-4f81-b2e6-8e296a6ac451}.\n",
      "C:\\ProgramData\\Anaconda3\\lib\\site-packages\\ipykernel_launcher.py:303: DeprecationWarning: Call to deprecated method get_stix_domain_entity. (Replaced by the StixDomainEntity class in pycti) -- Deprecated since version 2.1.0.\n",
      "INFO:root:Reading Stix-Domain-Entity {6f01d49b-f9aa-4610-8bf2-246f9d3e4875}.\n"
     ]
    },
    {
     "name": "stdout",
     "output_type": "stream",
     "text": [
      "22175c83-6fb7-4f81-b2e6-8e296a6ac451\n",
      "6f01d49b-f9aa-4610-8bf2-246f9d3e4875\n"
     ]
    },
    {
     "name": "stderr",
     "output_type": "stream",
     "text": [
      "INFO:root:Listing stix_relations with {type: uses, from_id: 22175c83-6fb7-4f81-b2e6-8e296a6ac451, to_id: 6f01d49b-f9aa-4610-8bf2-246f9d3e4875}\n",
      "INFO:root:Reading Report {a216498d-1d4c-4555-a6a5-c62f38300e74}.\n",
      "INFO:root:Adding Stix-Entity {6034bbcf-ee2f-4cab-ab0d-a409bce63c31} to Report {a216498d-1d4c-4555-a6a5-c62f38300e74}\n",
      "C:\\ProgramData\\Anaconda3\\lib\\site-packages\\ipykernel_launcher.py:300: DeprecationWarning: Call to deprecated method get_stix_domain_entity. (Replaced by the StixDomainEntity class in pycti) -- Deprecated since version 2.1.0.\n",
      "INFO:root:Reading Stix-Domain-Entity {22175c83-6fb7-4f81-b2e6-8e296a6ac451}.\n",
      "C:\\ProgramData\\Anaconda3\\lib\\site-packages\\ipykernel_launcher.py:303: DeprecationWarning: Call to deprecated method get_stix_domain_entity. (Replaced by the StixDomainEntity class in pycti) -- Deprecated since version 2.1.0.\n",
      "INFO:root:Reading Stix-Domain-Entity {ba4ce101-a595-428e-b56b-a7fd085ab3ed}.\n",
      "INFO:root:Listing stix_relations with {type: uses, from_id: 22175c83-6fb7-4f81-b2e6-8e296a6ac451, to_id: ba4ce101-a595-428e-b56b-a7fd085ab3ed}\n"
     ]
    },
    {
     "name": "stdout",
     "output_type": "stream",
     "text": [
      "22175c83-6fb7-4f81-b2e6-8e296a6ac451\n",
      "ba4ce101-a595-428e-b56b-a7fd085ab3ed\n"
     ]
    },
    {
     "name": "stderr",
     "output_type": "stream",
     "text": [
      "INFO:root:Reading Report {a216498d-1d4c-4555-a6a5-c62f38300e74}.\n",
      "INFO:root:Adding Stix-Entity {690c79fc-dff5-45dc-b456-5c42911cf261} to Report {a216498d-1d4c-4555-a6a5-c62f38300e74}\n",
      "C:\\ProgramData\\Anaconda3\\lib\\site-packages\\ipykernel_launcher.py:300: DeprecationWarning: Call to deprecated method get_stix_domain_entity. (Replaced by the StixDomainEntity class in pycti) -- Deprecated since version 2.1.0.\n",
      "INFO:root:Reading Stix-Domain-Entity {22175c83-6fb7-4f81-b2e6-8e296a6ac451}.\n",
      "C:\\ProgramData\\Anaconda3\\lib\\site-packages\\ipykernel_launcher.py:303: DeprecationWarning: Call to deprecated method get_stix_domain_entity. (Replaced by the StixDomainEntity class in pycti) -- Deprecated since version 2.1.0.\n",
      "INFO:root:Reading Stix-Domain-Entity {8c57bb26-ccef-4301-83cb-6a0ae1bcc508}.\n",
      "INFO:root:Listing stix_relations with {type: uses, from_id: 22175c83-6fb7-4f81-b2e6-8e296a6ac451, to_id: 8c57bb26-ccef-4301-83cb-6a0ae1bcc508}\n"
     ]
    },
    {
     "name": "stdout",
     "output_type": "stream",
     "text": [
      "22175c83-6fb7-4f81-b2e6-8e296a6ac451\n",
      "8c57bb26-ccef-4301-83cb-6a0ae1bcc508\n"
     ]
    },
    {
     "name": "stderr",
     "output_type": "stream",
     "text": [
      "INFO:root:Reading Report {a216498d-1d4c-4555-a6a5-c62f38300e74}.\n",
      "INFO:root:Adding Stix-Entity {13e6c3ce-a18c-4ba1-948a-0a23bbd8944d} to Report {a216498d-1d4c-4555-a6a5-c62f38300e74}\n",
      "C:\\ProgramData\\Anaconda3\\lib\\site-packages\\ipykernel_launcher.py:300: DeprecationWarning: Call to deprecated method get_stix_domain_entity. (Replaced by the StixDomainEntity class in pycti) -- Deprecated since version 2.1.0.\n",
      "INFO:root:Reading Stix-Domain-Entity {22175c83-6fb7-4f81-b2e6-8e296a6ac451}.\n",
      "C:\\ProgramData\\Anaconda3\\lib\\site-packages\\ipykernel_launcher.py:303: DeprecationWarning: Call to deprecated method get_stix_domain_entity. (Replaced by the StixDomainEntity class in pycti) -- Deprecated since version 2.1.0.\n",
      "INFO:root:Reading Stix-Domain-Entity {9c364890-7132-4d41-b324-7a4e44aad1f6}.\n"
     ]
    },
    {
     "name": "stdout",
     "output_type": "stream",
     "text": [
      "22175c83-6fb7-4f81-b2e6-8e296a6ac451\n",
      "9c364890-7132-4d41-b324-7a4e44aad1f6\n"
     ]
    },
    {
     "name": "stderr",
     "output_type": "stream",
     "text": [
      "INFO:root:Listing stix_relations with {type: uses, from_id: 22175c83-6fb7-4f81-b2e6-8e296a6ac451, to_id: 9c364890-7132-4d41-b324-7a4e44aad1f6}\n",
      "INFO:root:Reading Report {a216498d-1d4c-4555-a6a5-c62f38300e74}.\n",
      "INFO:root:Adding Stix-Entity {981b1d65-3ec5-4e64-8a92-58426f3ca4bb} to Report {a216498d-1d4c-4555-a6a5-c62f38300e74}\n",
      "C:\\ProgramData\\Anaconda3\\lib\\site-packages\\ipykernel_launcher.py:300: DeprecationWarning: Call to deprecated method get_stix_domain_entity. (Replaced by the StixDomainEntity class in pycti) -- Deprecated since version 2.1.0.\n",
      "INFO:root:Reading Stix-Domain-Entity {22175c83-6fb7-4f81-b2e6-8e296a6ac451}.\n",
      "C:\\ProgramData\\Anaconda3\\lib\\site-packages\\ipykernel_launcher.py:303: DeprecationWarning: Call to deprecated method get_stix_domain_entity. (Replaced by the StixDomainEntity class in pycti) -- Deprecated since version 2.1.0.\n",
      "INFO:root:Reading Stix-Domain-Entity {923139f5-b823-482c-8fd9-0f0e49672e78}.\n",
      "INFO:root:Listing stix_relations with {type: uses, from_id: 22175c83-6fb7-4f81-b2e6-8e296a6ac451, to_id: 923139f5-b823-482c-8fd9-0f0e49672e78}\n"
     ]
    },
    {
     "name": "stdout",
     "output_type": "stream",
     "text": [
      "22175c83-6fb7-4f81-b2e6-8e296a6ac451\n",
      "923139f5-b823-482c-8fd9-0f0e49672e78\n"
     ]
    },
    {
     "name": "stderr",
     "output_type": "stream",
     "text": [
      "INFO:root:Reading Report {a216498d-1d4c-4555-a6a5-c62f38300e74}.\n",
      "INFO:root:Adding Stix-Entity {525181c8-888c-4722-82c1-f487c5956da0} to Report {a216498d-1d4c-4555-a6a5-c62f38300e74}\n",
      "C:\\ProgramData\\Anaconda3\\lib\\site-packages\\ipykernel_launcher.py:300: DeprecationWarning: Call to deprecated method get_stix_domain_entity. (Replaced by the StixDomainEntity class in pycti) -- Deprecated since version 2.1.0.\n",
      "INFO:root:Reading Stix-Domain-Entity {22175c83-6fb7-4f81-b2e6-8e296a6ac451}.\n",
      "C:\\ProgramData\\Anaconda3\\lib\\site-packages\\ipykernel_launcher.py:303: DeprecationWarning: Call to deprecated method get_stix_domain_entity. (Replaced by the StixDomainEntity class in pycti) -- Deprecated since version 2.1.0.\n",
      "INFO:root:Reading Stix-Domain-Entity {1f010009-f6eb-4223-a098-807e6384a1ae}.\n"
     ]
    },
    {
     "name": "stdout",
     "output_type": "stream",
     "text": [
      "22175c83-6fb7-4f81-b2e6-8e296a6ac451\n",
      "1f010009-f6eb-4223-a098-807e6384a1ae\n"
     ]
    },
    {
     "name": "stderr",
     "output_type": "stream",
     "text": [
      "INFO:root:Listing stix_relations with {type: uses, from_id: 22175c83-6fb7-4f81-b2e6-8e296a6ac451, to_id: 1f010009-f6eb-4223-a098-807e6384a1ae}\n",
      "INFO:root:Reading Report {a216498d-1d4c-4555-a6a5-c62f38300e74}.\n",
      "INFO:root:Adding Stix-Entity {294d60f2-1112-4457-b0e7-54362485d81f} to Report {a216498d-1d4c-4555-a6a5-c62f38300e74}\n",
      "C:\\ProgramData\\Anaconda3\\lib\\site-packages\\ipykernel_launcher.py:300: DeprecationWarning: Call to deprecated method get_stix_domain_entity. (Replaced by the StixDomainEntity class in pycti) -- Deprecated since version 2.1.0.\n",
      "INFO:root:Reading Stix-Domain-Entity {22175c83-6fb7-4f81-b2e6-8e296a6ac451}.\n",
      "C:\\ProgramData\\Anaconda3\\lib\\site-packages\\ipykernel_launcher.py:303: DeprecationWarning: Call to deprecated method get_stix_domain_entity. (Replaced by the StixDomainEntity class in pycti) -- Deprecated since version 2.1.0.\n",
      "INFO:root:Reading Stix-Domain-Entity {153ca3c3-7ee0-4238-b41e-17806af21acd}.\n",
      "INFO:root:Listing stix_relations with {type: uses, from_id: 22175c83-6fb7-4f81-b2e6-8e296a6ac451, to_id: 153ca3c3-7ee0-4238-b41e-17806af21acd}\n"
     ]
    },
    {
     "name": "stdout",
     "output_type": "stream",
     "text": [
      "22175c83-6fb7-4f81-b2e6-8e296a6ac451\n",
      "153ca3c3-7ee0-4238-b41e-17806af21acd\n"
     ]
    },
    {
     "name": "stderr",
     "output_type": "stream",
     "text": [
      "INFO:root:Reading Report {a216498d-1d4c-4555-a6a5-c62f38300e74}.\n",
      "INFO:root:Adding Stix-Entity {c45d70a7-8dcd-4555-84e6-7c797f9a8407} to Report {a216498d-1d4c-4555-a6a5-c62f38300e74}\n",
      "C:\\ProgramData\\Anaconda3\\lib\\site-packages\\ipykernel_launcher.py:300: DeprecationWarning: Call to deprecated method get_stix_domain_entity. (Replaced by the StixDomainEntity class in pycti) -- Deprecated since version 2.1.0.\n",
      "INFO:root:Reading Stix-Domain-Entity {22175c83-6fb7-4f81-b2e6-8e296a6ac451}.\n",
      "C:\\ProgramData\\Anaconda3\\lib\\site-packages\\ipykernel_launcher.py:303: DeprecationWarning: Call to deprecated method get_stix_domain_entity. (Replaced by the StixDomainEntity class in pycti) -- Deprecated since version 2.1.0.\n",
      "INFO:root:Reading Stix-Domain-Entity {e659e8a4-5b5b-4929-bcf7-10f9202551cd}.\n"
     ]
    },
    {
     "name": "stdout",
     "output_type": "stream",
     "text": [
      "22175c83-6fb7-4f81-b2e6-8e296a6ac451\n",
      "e659e8a4-5b5b-4929-bcf7-10f9202551cd\n"
     ]
    },
    {
     "name": "stderr",
     "output_type": "stream",
     "text": [
      "INFO:root:Listing stix_relations with {type: uses, from_id: 22175c83-6fb7-4f81-b2e6-8e296a6ac451, to_id: e659e8a4-5b5b-4929-bcf7-10f9202551cd}\n",
      "INFO:root:Reading Report {a216498d-1d4c-4555-a6a5-c62f38300e74}.\n",
      "INFO:root:Adding Stix-Entity {69d3657f-8108-4db3-8592-03706f2058eb} to Report {a216498d-1d4c-4555-a6a5-c62f38300e74}\n",
      "C:\\ProgramData\\Anaconda3\\lib\\site-packages\\ipykernel_launcher.py:300: DeprecationWarning: Call to deprecated method get_stix_domain_entity. (Replaced by the StixDomainEntity class in pycti) -- Deprecated since version 2.1.0.\n",
      "INFO:root:Reading Stix-Domain-Entity {22175c83-6fb7-4f81-b2e6-8e296a6ac451}.\n",
      "C:\\ProgramData\\Anaconda3\\lib\\site-packages\\ipykernel_launcher.py:303: DeprecationWarning: Call to deprecated method get_stix_domain_entity. (Replaced by the StixDomainEntity class in pycti) -- Deprecated since version 2.1.0.\n",
      "INFO:root:Reading Stix-Domain-Entity {9c3270b6-4894-48b7-940c-2c1b1aa59be4}.\n"
     ]
    },
    {
     "name": "stdout",
     "output_type": "stream",
     "text": [
      "22175c83-6fb7-4f81-b2e6-8e296a6ac451\n",
      "9c3270b6-4894-48b7-940c-2c1b1aa59be4\n"
     ]
    },
    {
     "name": "stderr",
     "output_type": "stream",
     "text": [
      "INFO:root:Listing stix_relations with {type: uses, from_id: 22175c83-6fb7-4f81-b2e6-8e296a6ac451, to_id: 9c3270b6-4894-48b7-940c-2c1b1aa59be4}\n",
      "INFO:root:Reading Report {a216498d-1d4c-4555-a6a5-c62f38300e74}.\n",
      "INFO:root:Adding Stix-Entity {f098cb9b-561f-41c2-9a03-5ceba90e7437} to Report {a216498d-1d4c-4555-a6a5-c62f38300e74}\n",
      "C:\\ProgramData\\Anaconda3\\lib\\site-packages\\ipykernel_launcher.py:300: DeprecationWarning: Call to deprecated method get_stix_domain_entity. (Replaced by the StixDomainEntity class in pycti) -- Deprecated since version 2.1.0.\n",
      "INFO:root:Reading Stix-Domain-Entity {22175c83-6fb7-4f81-b2e6-8e296a6ac451}.\n",
      "C:\\ProgramData\\Anaconda3\\lib\\site-packages\\ipykernel_launcher.py:303: DeprecationWarning: Call to deprecated method get_stix_domain_entity. (Replaced by the StixDomainEntity class in pycti) -- Deprecated since version 2.1.0.\n",
      "INFO:root:Reading Stix-Domain-Entity {e3f49f39-45fb-40cc-b44f-4af592d48328}.\n"
     ]
    },
    {
     "name": "stdout",
     "output_type": "stream",
     "text": [
      "22175c83-6fb7-4f81-b2e6-8e296a6ac451\n",
      "e3f49f39-45fb-40cc-b44f-4af592d48328\n"
     ]
    },
    {
     "name": "stderr",
     "output_type": "stream",
     "text": [
      "INFO:root:Listing stix_relations with {type: uses, from_id: 22175c83-6fb7-4f81-b2e6-8e296a6ac451, to_id: e3f49f39-45fb-40cc-b44f-4af592d48328}\n",
      "INFO:root:Reading Report {a216498d-1d4c-4555-a6a5-c62f38300e74}.\n",
      "INFO:root:Adding Stix-Entity {a9566522-340f-4e3f-991c-8a6f92cf27b8} to Report {a216498d-1d4c-4555-a6a5-c62f38300e74}\n",
      "C:\\ProgramData\\Anaconda3\\lib\\site-packages\\ipykernel_launcher.py:300: DeprecationWarning: Call to deprecated method get_stix_domain_entity. (Replaced by the StixDomainEntity class in pycti) -- Deprecated since version 2.1.0.\n",
      "INFO:root:Reading Stix-Domain-Entity {22175c83-6fb7-4f81-b2e6-8e296a6ac451}.\n",
      "C:\\ProgramData\\Anaconda3\\lib\\site-packages\\ipykernel_launcher.py:303: DeprecationWarning: Call to deprecated method get_stix_domain_entity. (Replaced by the StixDomainEntity class in pycti) -- Deprecated since version 2.1.0.\n",
      "INFO:root:Reading Stix-Domain-Entity {cc82f17e-f006-4b60-94a0-91ab35a9fc32}.\n"
     ]
    },
    {
     "name": "stdout",
     "output_type": "stream",
     "text": [
      "22175c83-6fb7-4f81-b2e6-8e296a6ac451\n",
      "cc82f17e-f006-4b60-94a0-91ab35a9fc32\n"
     ]
    },
    {
     "name": "stderr",
     "output_type": "stream",
     "text": [
      "INFO:root:Listing stix_relations with {type: uses, from_id: 22175c83-6fb7-4f81-b2e6-8e296a6ac451, to_id: cc82f17e-f006-4b60-94a0-91ab35a9fc32}\n",
      "INFO:root:Reading Report {a216498d-1d4c-4555-a6a5-c62f38300e74}.\n",
      "INFO:root:Adding Stix-Entity {708bec5e-b23f-4096-9ccc-9a55a7e8e858} to Report {a216498d-1d4c-4555-a6a5-c62f38300e74}\n",
      "C:\\ProgramData\\Anaconda3\\lib\\site-packages\\ipykernel_launcher.py:300: DeprecationWarning: Call to deprecated method get_stix_domain_entity. (Replaced by the StixDomainEntity class in pycti) -- Deprecated since version 2.1.0.\n",
      "INFO:root:Reading Stix-Domain-Entity {22175c83-6fb7-4f81-b2e6-8e296a6ac451}.\n",
      "C:\\ProgramData\\Anaconda3\\lib\\site-packages\\ipykernel_launcher.py:303: DeprecationWarning: Call to deprecated method get_stix_domain_entity. (Replaced by the StixDomainEntity class in pycti) -- Deprecated since version 2.1.0.\n",
      "INFO:root:Reading Stix-Domain-Entity {50e79339-28dd-4b61-8fad-e70e7cd93d58}.\n"
     ]
    },
    {
     "name": "stdout",
     "output_type": "stream",
     "text": [
      "22175c83-6fb7-4f81-b2e6-8e296a6ac451\n",
      "50e79339-28dd-4b61-8fad-e70e7cd93d58\n"
     ]
    },
    {
     "name": "stderr",
     "output_type": "stream",
     "text": [
      "INFO:root:Listing stix_relations with {type: uses, from_id: 22175c83-6fb7-4f81-b2e6-8e296a6ac451, to_id: 50e79339-28dd-4b61-8fad-e70e7cd93d58}\n",
      "INFO:root:Reading Report {a216498d-1d4c-4555-a6a5-c62f38300e74}.\n",
      "INFO:root:Adding Stix-Entity {04a24627-a4fd-4d8b-9a3f-3d6325e429c3} to Report {a216498d-1d4c-4555-a6a5-c62f38300e74}\n",
      "C:\\ProgramData\\Anaconda3\\lib\\site-packages\\ipykernel_launcher.py:300: DeprecationWarning: Call to deprecated method get_stix_domain_entity. (Replaced by the StixDomainEntity class in pycti) -- Deprecated since version 2.1.0.\n",
      "INFO:root:Reading Stix-Domain-Entity {22175c83-6fb7-4f81-b2e6-8e296a6ac451}.\n",
      "C:\\ProgramData\\Anaconda3\\lib\\site-packages\\ipykernel_launcher.py:303: DeprecationWarning: Call to deprecated method get_stix_domain_entity. (Replaced by the StixDomainEntity class in pycti) -- Deprecated since version 2.1.0.\n",
      "INFO:root:Reading Stix-Domain-Entity {b3749bd5-6c0c-471c-9f7e-4ddd120d3433}.\n"
     ]
    },
    {
     "name": "stdout",
     "output_type": "stream",
     "text": [
      "22175c83-6fb7-4f81-b2e6-8e296a6ac451\n",
      "b3749bd5-6c0c-471c-9f7e-4ddd120d3433\n"
     ]
    },
    {
     "name": "stderr",
     "output_type": "stream",
     "text": [
      "INFO:root:Listing stix_relations with {type: uses, from_id: 22175c83-6fb7-4f81-b2e6-8e296a6ac451, to_id: b3749bd5-6c0c-471c-9f7e-4ddd120d3433}\n",
      "INFO:root:Reading Report {a216498d-1d4c-4555-a6a5-c62f38300e74}.\n",
      "INFO:root:Adding Stix-Entity {c8f361eb-dc53-4d53-a719-39f0236caa13} to Report {a216498d-1d4c-4555-a6a5-c62f38300e74}\n",
      "C:\\ProgramData\\Anaconda3\\lib\\site-packages\\ipykernel_launcher.py:300: DeprecationWarning: Call to deprecated method get_stix_domain_entity. (Replaced by the StixDomainEntity class in pycti) -- Deprecated since version 2.1.0.\n",
      "INFO:root:Reading Stix-Domain-Entity {22175c83-6fb7-4f81-b2e6-8e296a6ac451}.\n",
      "C:\\ProgramData\\Anaconda3\\lib\\site-packages\\ipykernel_launcher.py:303: DeprecationWarning: Call to deprecated method get_stix_domain_entity. (Replaced by the StixDomainEntity class in pycti) -- Deprecated since version 2.1.0.\n",
      "INFO:root:Reading Stix-Domain-Entity {7e9af0ad-f71a-45bb-8ab7-2a29482cd4dd}.\n"
     ]
    },
    {
     "name": "stdout",
     "output_type": "stream",
     "text": [
      "22175c83-6fb7-4f81-b2e6-8e296a6ac451\n",
      "7e9af0ad-f71a-45bb-8ab7-2a29482cd4dd\n"
     ]
    },
    {
     "name": "stderr",
     "output_type": "stream",
     "text": [
      "INFO:root:Listing stix_relations with {type: uses, from_id: 22175c83-6fb7-4f81-b2e6-8e296a6ac451, to_id: 7e9af0ad-f71a-45bb-8ab7-2a29482cd4dd}\n",
      "INFO:root:Reading Report {a216498d-1d4c-4555-a6a5-c62f38300e74}.\n",
      "INFO:root:Adding Stix-Entity {0b11eb92-3170-47f4-a9b4-73eba20d254f} to Report {a216498d-1d4c-4555-a6a5-c62f38300e74}\n",
      "C:\\ProgramData\\Anaconda3\\lib\\site-packages\\ipykernel_launcher.py:300: DeprecationWarning: Call to deprecated method get_stix_domain_entity. (Replaced by the StixDomainEntity class in pycti) -- Deprecated since version 2.1.0.\n",
      "INFO:root:Reading Stix-Domain-Entity {22175c83-6fb7-4f81-b2e6-8e296a6ac451}.\n",
      "C:\\ProgramData\\Anaconda3\\lib\\site-packages\\ipykernel_launcher.py:303: DeprecationWarning: Call to deprecated method get_stix_domain_entity. (Replaced by the StixDomainEntity class in pycti) -- Deprecated since version 2.1.0.\n",
      "INFO:root:Reading Stix-Domain-Entity {862b82d3-59bd-4209-b4c2-ec1d32aeb466}.\n"
     ]
    },
    {
     "name": "stdout",
     "output_type": "stream",
     "text": [
      "22175c83-6fb7-4f81-b2e6-8e296a6ac451\n",
      "862b82d3-59bd-4209-b4c2-ec1d32aeb466\n"
     ]
    },
    {
     "name": "stderr",
     "output_type": "stream",
     "text": [
      "INFO:root:Listing stix_relations with {type: uses, from_id: 22175c83-6fb7-4f81-b2e6-8e296a6ac451, to_id: 862b82d3-59bd-4209-b4c2-ec1d32aeb466}\n",
      "INFO:root:Reading Report {a216498d-1d4c-4555-a6a5-c62f38300e74}.\n",
      "INFO:root:Adding Stix-Entity {82e96101-8276-4e22-a3b6-f583285ce9f4} to Report {a216498d-1d4c-4555-a6a5-c62f38300e74}\n",
      "C:\\ProgramData\\Anaconda3\\lib\\site-packages\\ipykernel_launcher.py:300: DeprecationWarning: Call to deprecated method get_stix_domain_entity. (Replaced by the StixDomainEntity class in pycti) -- Deprecated since version 2.1.0.\n",
      "INFO:root:Reading Stix-Domain-Entity {22175c83-6fb7-4f81-b2e6-8e296a6ac451}.\n",
      "C:\\ProgramData\\Anaconda3\\lib\\site-packages\\ipykernel_launcher.py:303: DeprecationWarning: Call to deprecated method get_stix_domain_entity. (Replaced by the StixDomainEntity class in pycti) -- Deprecated since version 2.1.0.\n",
      "INFO:root:Reading Stix-Domain-Entity {b4a44dca-bd27-4047-adff-2a72b0b53107}.\n",
      "INFO:root:Listing stix_relations with {type: uses, from_id: 22175c83-6fb7-4f81-b2e6-8e296a6ac451, to_id: b4a44dca-bd27-4047-adff-2a72b0b53107}\n"
     ]
    },
    {
     "name": "stdout",
     "output_type": "stream",
     "text": [
      "22175c83-6fb7-4f81-b2e6-8e296a6ac451\n",
      "b4a44dca-bd27-4047-adff-2a72b0b53107\n"
     ]
    },
    {
     "name": "stderr",
     "output_type": "stream",
     "text": [
      "INFO:root:Reading Report {a216498d-1d4c-4555-a6a5-c62f38300e74}.\n",
      "INFO:root:Adding Stix-Entity {0669380e-276b-4b2a-9a02-92b8bb259d7a} to Report {a216498d-1d4c-4555-a6a5-c62f38300e74}\n",
      "C:\\ProgramData\\Anaconda3\\lib\\site-packages\\ipykernel_launcher.py:300: DeprecationWarning: Call to deprecated method get_stix_domain_entity. (Replaced by the StixDomainEntity class in pycti) -- Deprecated since version 2.1.0.\n",
      "INFO:root:Reading Stix-Domain-Entity {22175c83-6fb7-4f81-b2e6-8e296a6ac451}.\n",
      "C:\\ProgramData\\Anaconda3\\lib\\site-packages\\ipykernel_launcher.py:303: DeprecationWarning: Call to deprecated method get_stix_domain_entity. (Replaced by the StixDomainEntity class in pycti) -- Deprecated since version 2.1.0.\n",
      "INFO:root:Reading Stix-Domain-Entity {91115399-8fac-48f0-8877-aea1484a4dbd}.\n",
      "INFO:root:Listing stix_relations with {type: uses, from_id: 22175c83-6fb7-4f81-b2e6-8e296a6ac451, to_id: 91115399-8fac-48f0-8877-aea1484a4dbd}\n"
     ]
    },
    {
     "name": "stdout",
     "output_type": "stream",
     "text": [
      "22175c83-6fb7-4f81-b2e6-8e296a6ac451\n",
      "91115399-8fac-48f0-8877-aea1484a4dbd\n"
     ]
    },
    {
     "name": "stderr",
     "output_type": "stream",
     "text": [
      "INFO:root:Reading Report {a216498d-1d4c-4555-a6a5-c62f38300e74}.\n",
      "INFO:root:Adding Stix-Entity {40b85e3f-8239-4c10-9ac5-7ef0aa21f045} to Report {a216498d-1d4c-4555-a6a5-c62f38300e74}\n",
      "C:\\ProgramData\\Anaconda3\\lib\\site-packages\\ipykernel_launcher.py:300: DeprecationWarning: Call to deprecated method get_stix_domain_entity. (Replaced by the StixDomainEntity class in pycti) -- Deprecated since version 2.1.0.\n",
      "INFO:root:Reading Stix-Domain-Entity {22175c83-6fb7-4f81-b2e6-8e296a6ac451}.\n",
      "C:\\ProgramData\\Anaconda3\\lib\\site-packages\\ipykernel_launcher.py:303: DeprecationWarning: Call to deprecated method get_stix_domain_entity. (Replaced by the StixDomainEntity class in pycti) -- Deprecated since version 2.1.0.\n",
      "INFO:root:Reading Stix-Domain-Entity {c6cb1bb3-2902-45cc-93b4-83ceb1031509}.\n",
      "INFO:root:Listing stix_relations with {type: uses, from_id: 22175c83-6fb7-4f81-b2e6-8e296a6ac451, to_id: c6cb1bb3-2902-45cc-93b4-83ceb1031509}\n"
     ]
    },
    {
     "name": "stdout",
     "output_type": "stream",
     "text": [
      "22175c83-6fb7-4f81-b2e6-8e296a6ac451\n",
      "c6cb1bb3-2902-45cc-93b4-83ceb1031509\n"
     ]
    },
    {
     "name": "stderr",
     "output_type": "stream",
     "text": [
      "INFO:root:Reading Report {a216498d-1d4c-4555-a6a5-c62f38300e74}.\n",
      "INFO:root:Adding Stix-Entity {20f500c2-75e1-404b-a532-64c62107360d} to Report {a216498d-1d4c-4555-a6a5-c62f38300e74}\n",
      "C:\\ProgramData\\Anaconda3\\lib\\site-packages\\ipykernel_launcher.py:300: DeprecationWarning: Call to deprecated method get_stix_domain_entity. (Replaced by the StixDomainEntity class in pycti) -- Deprecated since version 2.1.0.\n",
      "INFO:root:Reading Stix-Domain-Entity {22175c83-6fb7-4f81-b2e6-8e296a6ac451}.\n",
      "C:\\ProgramData\\Anaconda3\\lib\\site-packages\\ipykernel_launcher.py:303: DeprecationWarning: Call to deprecated method get_stix_domain_entity. (Replaced by the StixDomainEntity class in pycti) -- Deprecated since version 2.1.0.\n",
      "INFO:root:Reading Stix-Domain-Entity {5ef8a53d-1e82-47b5-990e-2a0a46aa5e86}.\n"
     ]
    },
    {
     "name": "stdout",
     "output_type": "stream",
     "text": [
      "22175c83-6fb7-4f81-b2e6-8e296a6ac451\n",
      "5ef8a53d-1e82-47b5-990e-2a0a46aa5e86\n"
     ]
    },
    {
     "name": "stderr",
     "output_type": "stream",
     "text": [
      "INFO:root:Listing stix_relations with {type: uses, from_id: 22175c83-6fb7-4f81-b2e6-8e296a6ac451, to_id: 5ef8a53d-1e82-47b5-990e-2a0a46aa5e86}\n",
      "INFO:root:Reading Report {a216498d-1d4c-4555-a6a5-c62f38300e74}.\n",
      "INFO:root:Adding Stix-Entity {3d644de3-3849-467d-97e6-a1f86bc619d6} to Report {a216498d-1d4c-4555-a6a5-c62f38300e74}\n",
      "C:\\ProgramData\\Anaconda3\\lib\\site-packages\\ipykernel_launcher.py:300: DeprecationWarning: Call to deprecated method get_stix_domain_entity. (Replaced by the StixDomainEntity class in pycti) -- Deprecated since version 2.1.0.\n",
      "INFO:root:Reading Stix-Domain-Entity {22175c83-6fb7-4f81-b2e6-8e296a6ac451}.\n",
      "C:\\ProgramData\\Anaconda3\\lib\\site-packages\\ipykernel_launcher.py:303: DeprecationWarning: Call to deprecated method get_stix_domain_entity. (Replaced by the StixDomainEntity class in pycti) -- Deprecated since version 2.1.0.\n",
      "INFO:root:Reading Stix-Domain-Entity {9247f9bc-4811-4c37-8b80-f8f13a57b14a}.\n"
     ]
    },
    {
     "name": "stdout",
     "output_type": "stream",
     "text": [
      "22175c83-6fb7-4f81-b2e6-8e296a6ac451\n",
      "9247f9bc-4811-4c37-8b80-f8f13a57b14a\n"
     ]
    },
    {
     "name": "stderr",
     "output_type": "stream",
     "text": [
      "INFO:root:Listing stix_relations with {type: uses, from_id: 22175c83-6fb7-4f81-b2e6-8e296a6ac451, to_id: 9247f9bc-4811-4c37-8b80-f8f13a57b14a}\n",
      "INFO:root:Reading Report {a216498d-1d4c-4555-a6a5-c62f38300e74}.\n",
      "INFO:root:Adding Stix-Entity {1eff06ff-267b-4e36-904f-4f639c917300} to Report {a216498d-1d4c-4555-a6a5-c62f38300e74}\n",
      "C:\\ProgramData\\Anaconda3\\lib\\site-packages\\ipykernel_launcher.py:300: DeprecationWarning: Call to deprecated method get_stix_domain_entity. (Replaced by the StixDomainEntity class in pycti) -- Deprecated since version 2.1.0.\n",
      "INFO:root:Reading Stix-Domain-Entity {22175c83-6fb7-4f81-b2e6-8e296a6ac451}.\n",
      "C:\\ProgramData\\Anaconda3\\lib\\site-packages\\ipykernel_launcher.py:303: DeprecationWarning: Call to deprecated method get_stix_domain_entity. (Replaced by the StixDomainEntity class in pycti) -- Deprecated since version 2.1.0.\n",
      "INFO:root:Reading Stix-Domain-Entity {f119b741-c310-42ca-8297-1e8b7c9bada4}.\n",
      "INFO:root:Listing stix_relations with {type: uses, from_id: 22175c83-6fb7-4f81-b2e6-8e296a6ac451, to_id: f119b741-c310-42ca-8297-1e8b7c9bada4}\n"
     ]
    },
    {
     "name": "stdout",
     "output_type": "stream",
     "text": [
      "22175c83-6fb7-4f81-b2e6-8e296a6ac451\n",
      "f119b741-c310-42ca-8297-1e8b7c9bada4\n"
     ]
    },
    {
     "name": "stderr",
     "output_type": "stream",
     "text": [
      "INFO:root:Reading Report {a216498d-1d4c-4555-a6a5-c62f38300e74}.\n",
      "INFO:root:Adding Stix-Entity {8e788e7e-fd53-4d3f-bb67-382708c17f64} to Report {a216498d-1d4c-4555-a6a5-c62f38300e74}\n",
      "C:\\ProgramData\\Anaconda3\\lib\\site-packages\\ipykernel_launcher.py:300: DeprecationWarning: Call to deprecated method get_stix_domain_entity. (Replaced by the StixDomainEntity class in pycti) -- Deprecated since version 2.1.0.\n",
      "INFO:root:Reading Stix-Domain-Entity {22175c83-6fb7-4f81-b2e6-8e296a6ac451}.\n",
      "C:\\ProgramData\\Anaconda3\\lib\\site-packages\\ipykernel_launcher.py:303: DeprecationWarning: Call to deprecated method get_stix_domain_entity. (Replaced by the StixDomainEntity class in pycti) -- Deprecated since version 2.1.0.\n",
      "INFO:root:Reading Stix-Domain-Entity {cc6169cb-76f8-45bc-af0d-7b593c0496bb}.\n",
      "INFO:root:Listing stix_relations with {type: uses, from_id: 22175c83-6fb7-4f81-b2e6-8e296a6ac451, to_id: cc6169cb-76f8-45bc-af0d-7b593c0496bb}\n"
     ]
    },
    {
     "name": "stdout",
     "output_type": "stream",
     "text": [
      "22175c83-6fb7-4f81-b2e6-8e296a6ac451\n",
      "cc6169cb-76f8-45bc-af0d-7b593c0496bb\n"
     ]
    },
    {
     "name": "stderr",
     "output_type": "stream",
     "text": [
      "INFO:root:Reading Report {a216498d-1d4c-4555-a6a5-c62f38300e74}.\n",
      "INFO:root:Adding Stix-Entity {c1cd16b7-31d4-4b5b-9ec9-6cd86c93b24e} to Report {a216498d-1d4c-4555-a6a5-c62f38300e74}\n",
      "C:\\ProgramData\\Anaconda3\\lib\\site-packages\\ipykernel_launcher.py:300: DeprecationWarning: Call to deprecated method get_stix_domain_entity. (Replaced by the StixDomainEntity class in pycti) -- Deprecated since version 2.1.0.\n",
      "INFO:root:Reading Stix-Domain-Entity {22175c83-6fb7-4f81-b2e6-8e296a6ac451}.\n",
      "C:\\ProgramData\\Anaconda3\\lib\\site-packages\\ipykernel_launcher.py:303: DeprecationWarning: Call to deprecated method get_stix_domain_entity. (Replaced by the StixDomainEntity class in pycti) -- Deprecated since version 2.1.0.\n",
      "INFO:root:Reading Stix-Domain-Entity {aaf9cc50-5384-45df-b184-2d6048f4ecdd}.\n"
     ]
    },
    {
     "name": "stdout",
     "output_type": "stream",
     "text": [
      "22175c83-6fb7-4f81-b2e6-8e296a6ac451\n",
      "aaf9cc50-5384-45df-b184-2d6048f4ecdd\n"
     ]
    },
    {
     "name": "stderr",
     "output_type": "stream",
     "text": [
      "INFO:root:Listing stix_relations with {type: uses, from_id: 22175c83-6fb7-4f81-b2e6-8e296a6ac451, to_id: aaf9cc50-5384-45df-b184-2d6048f4ecdd}\n",
      "INFO:root:Reading Report {a216498d-1d4c-4555-a6a5-c62f38300e74}.\n",
      "INFO:root:Adding Stix-Entity {86aef7e0-41a2-46ff-8f8b-9b4a8a4d2268} to Report {a216498d-1d4c-4555-a6a5-c62f38300e74}\n",
      "C:\\ProgramData\\Anaconda3\\lib\\site-packages\\ipykernel_launcher.py:300: DeprecationWarning: Call to deprecated method get_stix_domain_entity. (Replaced by the StixDomainEntity class in pycti) -- Deprecated since version 2.1.0.\n",
      "INFO:root:Reading Stix-Domain-Entity {22175c83-6fb7-4f81-b2e6-8e296a6ac451}.\n",
      "C:\\ProgramData\\Anaconda3\\lib\\site-packages\\ipykernel_launcher.py:303: DeprecationWarning: Call to deprecated method get_stix_domain_entity. (Replaced by the StixDomainEntity class in pycti) -- Deprecated since version 2.1.0.\n",
      "INFO:root:Reading Stix-Domain-Entity {beb1cad9-016f-49c5-ad3c-f23bff549ff2}.\n"
     ]
    },
    {
     "name": "stdout",
     "output_type": "stream",
     "text": [
      "22175c83-6fb7-4f81-b2e6-8e296a6ac451\n",
      "beb1cad9-016f-49c5-ad3c-f23bff549ff2\n"
     ]
    },
    {
     "name": "stderr",
     "output_type": "stream",
     "text": [
      "INFO:root:Listing stix_relations with {type: uses, from_id: 22175c83-6fb7-4f81-b2e6-8e296a6ac451, to_id: beb1cad9-016f-49c5-ad3c-f23bff549ff2}\n",
      "INFO:root:Reading Report {a216498d-1d4c-4555-a6a5-c62f38300e74}.\n",
      "INFO:root:Adding Stix-Entity {762601b2-0b73-40c6-99af-34a52fa79607} to Report {a216498d-1d4c-4555-a6a5-c62f38300e74}\n",
      "C:\\ProgramData\\Anaconda3\\lib\\site-packages\\ipykernel_launcher.py:300: DeprecationWarning: Call to deprecated method get_stix_domain_entity. (Replaced by the StixDomainEntity class in pycti) -- Deprecated since version 2.1.0.\n",
      "INFO:root:Reading Stix-Domain-Entity {22175c83-6fb7-4f81-b2e6-8e296a6ac451}.\n",
      "C:\\ProgramData\\Anaconda3\\lib\\site-packages\\ipykernel_launcher.py:303: DeprecationWarning: Call to deprecated method get_stix_domain_entity. (Replaced by the StixDomainEntity class in pycti) -- Deprecated since version 2.1.0.\n",
      "INFO:root:Reading Stix-Domain-Entity {b7be70f8-662e-411d-bdf0-8b573530d967}.\n"
     ]
    },
    {
     "name": "stdout",
     "output_type": "stream",
     "text": [
      "22175c83-6fb7-4f81-b2e6-8e296a6ac451\n",
      "b7be70f8-662e-411d-bdf0-8b573530d967\n"
     ]
    },
    {
     "name": "stderr",
     "output_type": "stream",
     "text": [
      "INFO:root:Listing stix_relations with {type: uses, from_id: 22175c83-6fb7-4f81-b2e6-8e296a6ac451, to_id: b7be70f8-662e-411d-bdf0-8b573530d967}\n",
      "INFO:root:Reading Report {a216498d-1d4c-4555-a6a5-c62f38300e74}.\n",
      "INFO:root:Adding Stix-Entity {620257a0-f343-4c59-8c1e-d77237a07801} to Report {a216498d-1d4c-4555-a6a5-c62f38300e74}\n",
      "C:\\ProgramData\\Anaconda3\\lib\\site-packages\\ipykernel_launcher.py:300: DeprecationWarning: Call to deprecated method get_stix_domain_entity. (Replaced by the StixDomainEntity class in pycti) -- Deprecated since version 2.1.0.\n",
      "INFO:root:Reading Stix-Domain-Entity {22175c83-6fb7-4f81-b2e6-8e296a6ac451}.\n",
      "C:\\ProgramData\\Anaconda3\\lib\\site-packages\\ipykernel_launcher.py:303: DeprecationWarning: Call to deprecated method get_stix_domain_entity. (Replaced by the StixDomainEntity class in pycti) -- Deprecated since version 2.1.0.\n",
      "INFO:root:Reading Stix-Domain-Entity {58eacb3e-a736-41c8-ba57-9328e4adbca5}.\n"
     ]
    },
    {
     "name": "stdout",
     "output_type": "stream",
     "text": [
      "22175c83-6fb7-4f81-b2e6-8e296a6ac451\n",
      "58eacb3e-a736-41c8-ba57-9328e4adbca5\n"
     ]
    },
    {
     "name": "stderr",
     "output_type": "stream",
     "text": [
      "INFO:root:Listing stix_relations with {type: uses, from_id: 22175c83-6fb7-4f81-b2e6-8e296a6ac451, to_id: 58eacb3e-a736-41c8-ba57-9328e4adbca5}\n",
      "INFO:root:Reading Report {a216498d-1d4c-4555-a6a5-c62f38300e74}.\n",
      "INFO:root:Adding Stix-Entity {0b912956-0268-43ea-a6d8-f2daea00a2fc} to Report {a216498d-1d4c-4555-a6a5-c62f38300e74}\n",
      "C:\\ProgramData\\Anaconda3\\lib\\site-packages\\ipykernel_launcher.py:300: DeprecationWarning: Call to deprecated method get_stix_domain_entity. (Replaced by the StixDomainEntity class in pycti) -- Deprecated since version 2.1.0.\n",
      "INFO:root:Reading Stix-Domain-Entity {22175c83-6fb7-4f81-b2e6-8e296a6ac451}.\n",
      "C:\\ProgramData\\Anaconda3\\lib\\site-packages\\ipykernel_launcher.py:303: DeprecationWarning: Call to deprecated method get_stix_domain_entity. (Replaced by the StixDomainEntity class in pycti) -- Deprecated since version 2.1.0.\n",
      "INFO:root:Reading Stix-Domain-Entity {e0e7107f-4b5c-4238-9742-9922329b343f}.\n",
      "INFO:root:Listing stix_relations with {type: uses, from_id: 22175c83-6fb7-4f81-b2e6-8e296a6ac451, to_id: e0e7107f-4b5c-4238-9742-9922329b343f}\n"
     ]
    },
    {
     "name": "stdout",
     "output_type": "stream",
     "text": [
      "22175c83-6fb7-4f81-b2e6-8e296a6ac451\n",
      "e0e7107f-4b5c-4238-9742-9922329b343f\n"
     ]
    },
    {
     "name": "stderr",
     "output_type": "stream",
     "text": [
      "INFO:root:Reading Report {a216498d-1d4c-4555-a6a5-c62f38300e74}.\n",
      "INFO:root:Adding Stix-Entity {1d24261c-ae34-412a-b081-eaec2a24a3d0} to Report {a216498d-1d4c-4555-a6a5-c62f38300e74}\n",
      "C:\\ProgramData\\Anaconda3\\lib\\site-packages\\ipykernel_launcher.py:300: DeprecationWarning: Call to deprecated method get_stix_domain_entity. (Replaced by the StixDomainEntity class in pycti) -- Deprecated since version 2.1.0.\n",
      "INFO:root:Reading Stix-Domain-Entity {22175c83-6fb7-4f81-b2e6-8e296a6ac451}.\n",
      "C:\\ProgramData\\Anaconda3\\lib\\site-packages\\ipykernel_launcher.py:303: DeprecationWarning: Call to deprecated method get_stix_domain_entity. (Replaced by the StixDomainEntity class in pycti) -- Deprecated since version 2.1.0.\n",
      "INFO:root:Reading Stix-Domain-Entity {6a186439-adac-4416-94a2-fcd101a67bef}.\n"
     ]
    },
    {
     "name": "stdout",
     "output_type": "stream",
     "text": [
      "22175c83-6fb7-4f81-b2e6-8e296a6ac451\n",
      "6a186439-adac-4416-94a2-fcd101a67bef\n"
     ]
    },
    {
     "name": "stderr",
     "output_type": "stream",
     "text": [
      "INFO:root:Listing stix_relations with {type: uses, from_id: 22175c83-6fb7-4f81-b2e6-8e296a6ac451, to_id: 6a186439-adac-4416-94a2-fcd101a67bef}\n",
      "INFO:root:Reading Report {a216498d-1d4c-4555-a6a5-c62f38300e74}.\n",
      "INFO:root:Adding Stix-Entity {6f9db8f7-c53e-41ac-b777-14fb6f663763} to Report {a216498d-1d4c-4555-a6a5-c62f38300e74}\n",
      "C:\\ProgramData\\Anaconda3\\lib\\site-packages\\ipykernel_launcher.py:300: DeprecationWarning: Call to deprecated method get_stix_domain_entity. (Replaced by the StixDomainEntity class in pycti) -- Deprecated since version 2.1.0.\n",
      "INFO:root:Reading Stix-Domain-Entity {22175c83-6fb7-4f81-b2e6-8e296a6ac451}.\n",
      "C:\\ProgramData\\Anaconda3\\lib\\site-packages\\ipykernel_launcher.py:303: DeprecationWarning: Call to deprecated method get_stix_domain_entity. (Replaced by the StixDomainEntity class in pycti) -- Deprecated since version 2.1.0.\n",
      "INFO:root:Reading Stix-Domain-Entity {5c60fe15-cbc3-4135-bc56-52387e7c1457}.\n",
      "INFO:root:Listing stix_relations with {type: uses, from_id: 22175c83-6fb7-4f81-b2e6-8e296a6ac451, to_id: 5c60fe15-cbc3-4135-bc56-52387e7c1457}\n"
     ]
    },
    {
     "name": "stdout",
     "output_type": "stream",
     "text": [
      "22175c83-6fb7-4f81-b2e6-8e296a6ac451\n",
      "5c60fe15-cbc3-4135-bc56-52387e7c1457\n"
     ]
    },
    {
     "name": "stderr",
     "output_type": "stream",
     "text": [
      "INFO:root:Reading Report {a216498d-1d4c-4555-a6a5-c62f38300e74}.\n",
      "INFO:root:Adding Stix-Entity {528c86fb-c33c-4259-adaa-5b057417363f} to Report {a216498d-1d4c-4555-a6a5-c62f38300e74}\n",
      "C:\\ProgramData\\Anaconda3\\lib\\site-packages\\ipykernel_launcher.py:300: DeprecationWarning: Call to deprecated method get_stix_domain_entity. (Replaced by the StixDomainEntity class in pycti) -- Deprecated since version 2.1.0.\n",
      "INFO:root:Reading Stix-Domain-Entity {22175c83-6fb7-4f81-b2e6-8e296a6ac451}.\n",
      "C:\\ProgramData\\Anaconda3\\lib\\site-packages\\ipykernel_launcher.py:303: DeprecationWarning: Call to deprecated method get_stix_domain_entity. (Replaced by the StixDomainEntity class in pycti) -- Deprecated since version 2.1.0.\n",
      "INFO:root:Reading Stix-Domain-Entity {522a0990-7258-44fe-be11-dbbea1275883}.\n"
     ]
    },
    {
     "name": "stdout",
     "output_type": "stream",
     "text": [
      "22175c83-6fb7-4f81-b2e6-8e296a6ac451\n",
      "522a0990-7258-44fe-be11-dbbea1275883\n"
     ]
    },
    {
     "name": "stderr",
     "output_type": "stream",
     "text": [
      "INFO:root:Listing stix_relations with {type: uses, from_id: 22175c83-6fb7-4f81-b2e6-8e296a6ac451, to_id: 522a0990-7258-44fe-be11-dbbea1275883}\n",
      "INFO:root:Reading Report {a216498d-1d4c-4555-a6a5-c62f38300e74}.\n",
      "INFO:root:Adding Stix-Entity {8127d0e8-d27b-4937-a5ce-3540e7083f5e} to Report {a216498d-1d4c-4555-a6a5-c62f38300e74}\n",
      "C:\\ProgramData\\Anaconda3\\lib\\site-packages\\ipykernel_launcher.py:300: DeprecationWarning: Call to deprecated method get_stix_domain_entity. (Replaced by the StixDomainEntity class in pycti) -- Deprecated since version 2.1.0.\n",
      "INFO:root:Reading Stix-Domain-Entity {22175c83-6fb7-4f81-b2e6-8e296a6ac451}.\n",
      "C:\\ProgramData\\Anaconda3\\lib\\site-packages\\ipykernel_launcher.py:303: DeprecationWarning: Call to deprecated method get_stix_domain_entity. (Replaced by the StixDomainEntity class in pycti) -- Deprecated since version 2.1.0.\n",
      "INFO:root:Reading Stix-Domain-Entity {65e096e1-3467-4bd5-a574-9a475701fbdb}.\n"
     ]
    },
    {
     "name": "stdout",
     "output_type": "stream",
     "text": [
      "22175c83-6fb7-4f81-b2e6-8e296a6ac451\n",
      "65e096e1-3467-4bd5-a574-9a475701fbdb\n"
     ]
    },
    {
     "name": "stderr",
     "output_type": "stream",
     "text": [
      "INFO:root:Listing stix_relations with {type: uses, from_id: 22175c83-6fb7-4f81-b2e6-8e296a6ac451, to_id: 65e096e1-3467-4bd5-a574-9a475701fbdb}\n",
      "INFO:root:Reading Report {a216498d-1d4c-4555-a6a5-c62f38300e74}.\n",
      "INFO:root:Adding Stix-Entity {6539eb9b-710d-4477-bd76-13fe35715fa1} to Report {a216498d-1d4c-4555-a6a5-c62f38300e74}\n",
      "C:\\ProgramData\\Anaconda3\\lib\\site-packages\\ipykernel_launcher.py:300: DeprecationWarning: Call to deprecated method get_stix_domain_entity. (Replaced by the StixDomainEntity class in pycti) -- Deprecated since version 2.1.0.\n",
      "INFO:root:Reading Stix-Domain-Entity {22175c83-6fb7-4f81-b2e6-8e296a6ac451}.\n",
      "C:\\ProgramData\\Anaconda3\\lib\\site-packages\\ipykernel_launcher.py:303: DeprecationWarning: Call to deprecated method get_stix_domain_entity. (Replaced by the StixDomainEntity class in pycti) -- Deprecated since version 2.1.0.\n",
      "INFO:root:Reading Stix-Domain-Entity {a66f1395-d712-4bb0-a268-5547d454dd0f}.\n"
     ]
    },
    {
     "name": "stdout",
     "output_type": "stream",
     "text": [
      "22175c83-6fb7-4f81-b2e6-8e296a6ac451\n",
      "a66f1395-d712-4bb0-a268-5547d454dd0f\n"
     ]
    },
    {
     "name": "stderr",
     "output_type": "stream",
     "text": [
      "INFO:root:Listing stix_relations with {type: uses, from_id: 22175c83-6fb7-4f81-b2e6-8e296a6ac451, to_id: a66f1395-d712-4bb0-a268-5547d454dd0f}\n",
      "INFO:root:Reading Report {a216498d-1d4c-4555-a6a5-c62f38300e74}.\n",
      "INFO:root:Adding Stix-Entity {ac35c7cd-c8a6-4c44-881e-3e9156eb443f} to Report {a216498d-1d4c-4555-a6a5-c62f38300e74}\n",
      "C:\\ProgramData\\Anaconda3\\lib\\site-packages\\ipykernel_launcher.py:300: DeprecationWarning: Call to deprecated method get_stix_domain_entity. (Replaced by the StixDomainEntity class in pycti) -- Deprecated since version 2.1.0.\n",
      "INFO:root:Reading Stix-Domain-Entity {22175c83-6fb7-4f81-b2e6-8e296a6ac451}.\n",
      "C:\\ProgramData\\Anaconda3\\lib\\site-packages\\ipykernel_launcher.py:303: DeprecationWarning: Call to deprecated method get_stix_domain_entity. (Replaced by the StixDomainEntity class in pycti) -- Deprecated since version 2.1.0.\n",
      "INFO:root:Reading Stix-Domain-Entity {e61a95eb-d86f-400a-885d-f6895ede1327}.\n"
     ]
    },
    {
     "name": "stdout",
     "output_type": "stream",
     "text": [
      "22175c83-6fb7-4f81-b2e6-8e296a6ac451\n",
      "e61a95eb-d86f-400a-885d-f6895ede1327\n"
     ]
    },
    {
     "name": "stderr",
     "output_type": "stream",
     "text": [
      "INFO:root:Listing stix_relations with {type: uses, from_id: 22175c83-6fb7-4f81-b2e6-8e296a6ac451, to_id: e61a95eb-d86f-400a-885d-f6895ede1327}\n",
      "INFO:root:Reading Report {a216498d-1d4c-4555-a6a5-c62f38300e74}.\n",
      "INFO:root:Adding Stix-Entity {75e69c2e-4622-40e8-9abd-550b073ffa4d} to Report {a216498d-1d4c-4555-a6a5-c62f38300e74}\n",
      "C:\\ProgramData\\Anaconda3\\lib\\site-packages\\ipykernel_launcher.py:300: DeprecationWarning: Call to deprecated method get_stix_domain_entity. (Replaced by the StixDomainEntity class in pycti) -- Deprecated since version 2.1.0.\n",
      "INFO:root:Reading Stix-Domain-Entity {22175c83-6fb7-4f81-b2e6-8e296a6ac451}.\n",
      "C:\\ProgramData\\Anaconda3\\lib\\site-packages\\ipykernel_launcher.py:303: DeprecationWarning: Call to deprecated method get_stix_domain_entity. (Replaced by the StixDomainEntity class in pycti) -- Deprecated since version 2.1.0.\n",
      "INFO:root:Reading Stix-Domain-Entity {f76a44e3-4503-48f7-b5e8-cf83bcd6cf83}.\n"
     ]
    },
    {
     "name": "stdout",
     "output_type": "stream",
     "text": [
      "22175c83-6fb7-4f81-b2e6-8e296a6ac451\n",
      "f76a44e3-4503-48f7-b5e8-cf83bcd6cf83\n"
     ]
    },
    {
     "name": "stderr",
     "output_type": "stream",
     "text": [
      "INFO:root:Listing stix_relations with {type: uses, from_id: 22175c83-6fb7-4f81-b2e6-8e296a6ac451, to_id: f76a44e3-4503-48f7-b5e8-cf83bcd6cf83}\n",
      "INFO:root:Reading Report {a216498d-1d4c-4555-a6a5-c62f38300e74}.\n",
      "INFO:root:Adding Stix-Entity {af58b1f6-ba5b-4cea-8af5-0243be8c1928} to Report {a216498d-1d4c-4555-a6a5-c62f38300e74}\n",
      "C:\\ProgramData\\Anaconda3\\lib\\site-packages\\ipykernel_launcher.py:300: DeprecationWarning: Call to deprecated method get_stix_domain_entity. (Replaced by the StixDomainEntity class in pycti) -- Deprecated since version 2.1.0.\n",
      "INFO:root:Reading Stix-Domain-Entity {22175c83-6fb7-4f81-b2e6-8e296a6ac451}.\n",
      "C:\\ProgramData\\Anaconda3\\lib\\site-packages\\ipykernel_launcher.py:303: DeprecationWarning: Call to deprecated method get_stix_domain_entity. (Replaced by the StixDomainEntity class in pycti) -- Deprecated since version 2.1.0.\n",
      "INFO:root:Reading Stix-Domain-Entity {de251092-8d94-428a-b26d-713b96658a46}.\n"
     ]
    },
    {
     "name": "stdout",
     "output_type": "stream",
     "text": [
      "22175c83-6fb7-4f81-b2e6-8e296a6ac451\n",
      "de251092-8d94-428a-b26d-713b96658a46\n"
     ]
    },
    {
     "name": "stderr",
     "output_type": "stream",
     "text": [
      "INFO:root:Listing stix_relations with {type: uses, from_id: 22175c83-6fb7-4f81-b2e6-8e296a6ac451, to_id: de251092-8d94-428a-b26d-713b96658a46}\n",
      "INFO:root:Reading Report {a216498d-1d4c-4555-a6a5-c62f38300e74}.\n",
      "INFO:root:Adding Stix-Entity {e0b23e5e-a254-4984-b2d4-dbf389002d90} to Report {a216498d-1d4c-4555-a6a5-c62f38300e74}\n",
      "C:\\ProgramData\\Anaconda3\\lib\\site-packages\\ipykernel_launcher.py:300: DeprecationWarning: Call to deprecated method get_stix_domain_entity. (Replaced by the StixDomainEntity class in pycti) -- Deprecated since version 2.1.0.\n",
      "INFO:root:Reading Stix-Domain-Entity {22175c83-6fb7-4f81-b2e6-8e296a6ac451}.\n",
      "C:\\ProgramData\\Anaconda3\\lib\\site-packages\\ipykernel_launcher.py:303: DeprecationWarning: Call to deprecated method get_stix_domain_entity. (Replaced by the StixDomainEntity class in pycti) -- Deprecated since version 2.1.0.\n",
      "INFO:root:Reading Stix-Domain-Entity {7c30bee8-9d28-40ff-a89d-e7b9ba12038a}.\n"
     ]
    },
    {
     "name": "stdout",
     "output_type": "stream",
     "text": [
      "22175c83-6fb7-4f81-b2e6-8e296a6ac451\n",
      "7c30bee8-9d28-40ff-a89d-e7b9ba12038a\n"
     ]
    },
    {
     "name": "stderr",
     "output_type": "stream",
     "text": [
      "INFO:root:Listing stix_relations with {type: uses, from_id: 22175c83-6fb7-4f81-b2e6-8e296a6ac451, to_id: 7c30bee8-9d28-40ff-a89d-e7b9ba12038a}\n",
      "INFO:root:Reading Report {a216498d-1d4c-4555-a6a5-c62f38300e74}.\n",
      "INFO:root:Adding Stix-Entity {97ec894b-5555-4203-b3e3-9c145c870a8c} to Report {a216498d-1d4c-4555-a6a5-c62f38300e74}\n",
      "C:\\ProgramData\\Anaconda3\\lib\\site-packages\\ipykernel_launcher.py:300: DeprecationWarning: Call to deprecated method get_stix_domain_entity. (Replaced by the StixDomainEntity class in pycti) -- Deprecated since version 2.1.0.\n",
      "INFO:root:Reading Stix-Domain-Entity {22175c83-6fb7-4f81-b2e6-8e296a6ac451}.\n",
      "C:\\ProgramData\\Anaconda3\\lib\\site-packages\\ipykernel_launcher.py:303: DeprecationWarning: Call to deprecated method get_stix_domain_entity. (Replaced by the StixDomainEntity class in pycti) -- Deprecated since version 2.1.0.\n",
      "INFO:root:Reading Stix-Domain-Entity {98fd75a1-aca9-4b77-9db8-6c6a10e30246}.\n"
     ]
    },
    {
     "name": "stdout",
     "output_type": "stream",
     "text": [
      "22175c83-6fb7-4f81-b2e6-8e296a6ac451\n",
      "98fd75a1-aca9-4b77-9db8-6c6a10e30246\n"
     ]
    },
    {
     "name": "stderr",
     "output_type": "stream",
     "text": [
      "INFO:root:Listing stix_relations with {type: uses, from_id: 22175c83-6fb7-4f81-b2e6-8e296a6ac451, to_id: 98fd75a1-aca9-4b77-9db8-6c6a10e30246}\n",
      "INFO:root:Reading Report {a216498d-1d4c-4555-a6a5-c62f38300e74}.\n",
      "INFO:root:Adding Stix-Entity {7db233c5-3881-4e89-ba3f-a0bed5d0baa1} to Report {a216498d-1d4c-4555-a6a5-c62f38300e74}\n",
      "C:\\ProgramData\\Anaconda3\\lib\\site-packages\\ipykernel_launcher.py:300: DeprecationWarning: Call to deprecated method get_stix_domain_entity. (Replaced by the StixDomainEntity class in pycti) -- Deprecated since version 2.1.0.\n",
      "INFO:root:Reading Stix-Domain-Entity {22175c83-6fb7-4f81-b2e6-8e296a6ac451}.\n",
      "C:\\ProgramData\\Anaconda3\\lib\\site-packages\\ipykernel_launcher.py:303: DeprecationWarning: Call to deprecated method get_stix_domain_entity. (Replaced by the StixDomainEntity class in pycti) -- Deprecated since version 2.1.0.\n",
      "INFO:root:Reading Stix-Domain-Entity {e44a1c10-d1d2-4ee6-848a-5ae77128aec0}.\n",
      "INFO:root:Listing stix_relations with {type: uses, from_id: 22175c83-6fb7-4f81-b2e6-8e296a6ac451, to_id: e44a1c10-d1d2-4ee6-848a-5ae77128aec0}\n"
     ]
    },
    {
     "name": "stdout",
     "output_type": "stream",
     "text": [
      "22175c83-6fb7-4f81-b2e6-8e296a6ac451\n",
      "e44a1c10-d1d2-4ee6-848a-5ae77128aec0\n"
     ]
    },
    {
     "name": "stderr",
     "output_type": "stream",
     "text": [
      "INFO:root:Reading Report {a216498d-1d4c-4555-a6a5-c62f38300e74}.\n",
      "INFO:root:Adding Stix-Entity {c6278858-7067-4892-b393-ef95290d337d} to Report {a216498d-1d4c-4555-a6a5-c62f38300e74}\n",
      "C:\\ProgramData\\Anaconda3\\lib\\site-packages\\ipykernel_launcher.py:300: DeprecationWarning: Call to deprecated method get_stix_domain_entity. (Replaced by the StixDomainEntity class in pycti) -- Deprecated since version 2.1.0.\n",
      "INFO:root:Reading Stix-Domain-Entity {22175c83-6fb7-4f81-b2e6-8e296a6ac451}.\n",
      "C:\\ProgramData\\Anaconda3\\lib\\site-packages\\ipykernel_launcher.py:303: DeprecationWarning: Call to deprecated method get_stix_domain_entity. (Replaced by the StixDomainEntity class in pycti) -- Deprecated since version 2.1.0.\n",
      "INFO:root:Reading Stix-Domain-Entity {2fbbe108-832e-4454-8bc6-d4e4f682b70b}.\n"
     ]
    },
    {
     "name": "stdout",
     "output_type": "stream",
     "text": [
      "22175c83-6fb7-4f81-b2e6-8e296a6ac451\n",
      "2fbbe108-832e-4454-8bc6-d4e4f682b70b\n"
     ]
    },
    {
     "name": "stderr",
     "output_type": "stream",
     "text": [
      "INFO:root:Listing stix_relations with {type: uses, from_id: 22175c83-6fb7-4f81-b2e6-8e296a6ac451, to_id: 2fbbe108-832e-4454-8bc6-d4e4f682b70b}\n",
      "INFO:root:Reading Report {a216498d-1d4c-4555-a6a5-c62f38300e74}.\n",
      "INFO:root:Adding Stix-Entity {16413bc4-7502-4a98-aafe-1eb44348ef91} to Report {a216498d-1d4c-4555-a6a5-c62f38300e74}\n",
      "C:\\ProgramData\\Anaconda3\\lib\\site-packages\\ipykernel_launcher.py:300: DeprecationWarning: Call to deprecated method get_stix_domain_entity. (Replaced by the StixDomainEntity class in pycti) -- Deprecated since version 2.1.0.\n",
      "INFO:root:Reading Stix-Domain-Entity {22175c83-6fb7-4f81-b2e6-8e296a6ac451}.\n",
      "C:\\ProgramData\\Anaconda3\\lib\\site-packages\\ipykernel_launcher.py:303: DeprecationWarning: Call to deprecated method get_stix_domain_entity. (Replaced by the StixDomainEntity class in pycti) -- Deprecated since version 2.1.0.\n",
      "INFO:root:Reading Stix-Domain-Entity {83a6e868-6791-4a58-a658-646d271c49c6}.\n"
     ]
    },
    {
     "name": "stdout",
     "output_type": "stream",
     "text": [
      "22175c83-6fb7-4f81-b2e6-8e296a6ac451\n",
      "83a6e868-6791-4a58-a658-646d271c49c6\n"
     ]
    },
    {
     "name": "stderr",
     "output_type": "stream",
     "text": [
      "INFO:root:Listing stix_relations with {type: uses, from_id: 22175c83-6fb7-4f81-b2e6-8e296a6ac451, to_id: 83a6e868-6791-4a58-a658-646d271c49c6}\n",
      "INFO:root:Reading Report {a216498d-1d4c-4555-a6a5-c62f38300e74}.\n",
      "INFO:root:Adding Stix-Entity {79107150-873f-400d-ac91-c8c1b3b71da1} to Report {a216498d-1d4c-4555-a6a5-c62f38300e74}\n",
      "C:\\ProgramData\\Anaconda3\\lib\\site-packages\\ipykernel_launcher.py:300: DeprecationWarning: Call to deprecated method get_stix_domain_entity. (Replaced by the StixDomainEntity class in pycti) -- Deprecated since version 2.1.0.\n",
      "INFO:root:Reading Stix-Domain-Entity {22175c83-6fb7-4f81-b2e6-8e296a6ac451}.\n",
      "C:\\ProgramData\\Anaconda3\\lib\\site-packages\\ipykernel_launcher.py:303: DeprecationWarning: Call to deprecated method get_stix_domain_entity. (Replaced by the StixDomainEntity class in pycti) -- Deprecated since version 2.1.0.\n",
      "INFO:root:Reading Stix-Domain-Entity {020f02e8-75d1-4527-8000-19fcf34a2b1c}.\n"
     ]
    },
    {
     "name": "stdout",
     "output_type": "stream",
     "text": [
      "22175c83-6fb7-4f81-b2e6-8e296a6ac451\n",
      "020f02e8-75d1-4527-8000-19fcf34a2b1c\n"
     ]
    },
    {
     "name": "stderr",
     "output_type": "stream",
     "text": [
      "INFO:root:Listing stix_relations with {type: uses, from_id: 22175c83-6fb7-4f81-b2e6-8e296a6ac451, to_id: 020f02e8-75d1-4527-8000-19fcf34a2b1c}\n",
      "INFO:root:Reading Report {a216498d-1d4c-4555-a6a5-c62f38300e74}.\n",
      "INFO:root:Adding Stix-Entity {e998e676-752b-48e3-8ae8-d8c90af60f66} to Report {a216498d-1d4c-4555-a6a5-c62f38300e74}\n",
      "C:\\ProgramData\\Anaconda3\\lib\\site-packages\\ipykernel_launcher.py:300: DeprecationWarning: Call to deprecated method get_stix_domain_entity. (Replaced by the StixDomainEntity class in pycti) -- Deprecated since version 2.1.0.\n",
      "INFO:root:Reading Stix-Domain-Entity {22175c83-6fb7-4f81-b2e6-8e296a6ac451}.\n",
      "C:\\ProgramData\\Anaconda3\\lib\\site-packages\\ipykernel_launcher.py:303: DeprecationWarning: Call to deprecated method get_stix_domain_entity. (Replaced by the StixDomainEntity class in pycti) -- Deprecated since version 2.1.0.\n",
      "INFO:root:Reading Stix-Domain-Entity {a5f70f2f-52d3-4412-abd9-b77276de4887}.\n"
     ]
    },
    {
     "name": "stdout",
     "output_type": "stream",
     "text": [
      "22175c83-6fb7-4f81-b2e6-8e296a6ac451\n",
      "a5f70f2f-52d3-4412-abd9-b77276de4887\n"
     ]
    },
    {
     "name": "stderr",
     "output_type": "stream",
     "text": [
      "INFO:root:Listing stix_relations with {type: uses, from_id: 22175c83-6fb7-4f81-b2e6-8e296a6ac451, to_id: a5f70f2f-52d3-4412-abd9-b77276de4887}\n",
      "INFO:root:Reading Report {a216498d-1d4c-4555-a6a5-c62f38300e74}.\n",
      "INFO:root:Adding Stix-Entity {3b309146-6167-4c43-a77e-467f9649de78} to Report {a216498d-1d4c-4555-a6a5-c62f38300e74}\n",
      "C:\\ProgramData\\Anaconda3\\lib\\site-packages\\ipykernel_launcher.py:300: DeprecationWarning: Call to deprecated method get_stix_domain_entity. (Replaced by the StixDomainEntity class in pycti) -- Deprecated since version 2.1.0.\n",
      "INFO:root:Reading Stix-Domain-Entity {22175c83-6fb7-4f81-b2e6-8e296a6ac451}.\n",
      "C:\\ProgramData\\Anaconda3\\lib\\site-packages\\ipykernel_launcher.py:303: DeprecationWarning: Call to deprecated method get_stix_domain_entity. (Replaced by the StixDomainEntity class in pycti) -- Deprecated since version 2.1.0.\n",
      "INFO:root:Reading Stix-Domain-Entity {191d0c8f-7b92-4723-94e0-086f38d8679e}.\n"
     ]
    },
    {
     "name": "stdout",
     "output_type": "stream",
     "text": [
      "22175c83-6fb7-4f81-b2e6-8e296a6ac451\n",
      "191d0c8f-7b92-4723-94e0-086f38d8679e\n"
     ]
    },
    {
     "name": "stderr",
     "output_type": "stream",
     "text": [
      "INFO:root:Listing stix_relations with {type: uses, from_id: 22175c83-6fb7-4f81-b2e6-8e296a6ac451, to_id: 191d0c8f-7b92-4723-94e0-086f38d8679e}\n",
      "INFO:root:Reading Report {a216498d-1d4c-4555-a6a5-c62f38300e74}.\n",
      "INFO:root:Adding Stix-Entity {2bec7c20-1ba8-49a8-b7d8-917cb6be818f} to Report {a216498d-1d4c-4555-a6a5-c62f38300e74}\n",
      "C:\\ProgramData\\Anaconda3\\lib\\site-packages\\ipykernel_launcher.py:300: DeprecationWarning: Call to deprecated method get_stix_domain_entity. (Replaced by the StixDomainEntity class in pycti) -- Deprecated since version 2.1.0.\n",
      "INFO:root:Reading Stix-Domain-Entity {22175c83-6fb7-4f81-b2e6-8e296a6ac451}.\n",
      "C:\\ProgramData\\Anaconda3\\lib\\site-packages\\ipykernel_launcher.py:303: DeprecationWarning: Call to deprecated method get_stix_domain_entity. (Replaced by the StixDomainEntity class in pycti) -- Deprecated since version 2.1.0.\n",
      "INFO:root:Reading Stix-Domain-Entity {56a0a83f-118c-43cb-99fb-8cbad400c35e}.\n"
     ]
    },
    {
     "name": "stdout",
     "output_type": "stream",
     "text": [
      "22175c83-6fb7-4f81-b2e6-8e296a6ac451\n",
      "56a0a83f-118c-43cb-99fb-8cbad400c35e\n"
     ]
    },
    {
     "name": "stderr",
     "output_type": "stream",
     "text": [
      "INFO:root:Listing stix_relations with {type: uses, from_id: 22175c83-6fb7-4f81-b2e6-8e296a6ac451, to_id: 56a0a83f-118c-43cb-99fb-8cbad400c35e}\n",
      "INFO:root:Reading Report {a216498d-1d4c-4555-a6a5-c62f38300e74}.\n",
      "INFO:root:Adding Stix-Entity {e7d553e0-ff69-4083-b954-dba5d64d91f9} to Report {a216498d-1d4c-4555-a6a5-c62f38300e74}\n",
      "C:\\ProgramData\\Anaconda3\\lib\\site-packages\\ipykernel_launcher.py:300: DeprecationWarning: Call to deprecated method get_stix_domain_entity. (Replaced by the StixDomainEntity class in pycti) -- Deprecated since version 2.1.0.\n",
      "INFO:root:Reading Stix-Domain-Entity {22175c83-6fb7-4f81-b2e6-8e296a6ac451}.\n",
      "C:\\ProgramData\\Anaconda3\\lib\\site-packages\\ipykernel_launcher.py:303: DeprecationWarning: Call to deprecated method get_stix_domain_entity. (Replaced by the StixDomainEntity class in pycti) -- Deprecated since version 2.1.0.\n",
      "INFO:root:Reading Stix-Domain-Entity {d5e0d90a-8502-4705-bfcf-eb57ebd44053}.\n"
     ]
    },
    {
     "name": "stdout",
     "output_type": "stream",
     "text": [
      "22175c83-6fb7-4f81-b2e6-8e296a6ac451\n",
      "d5e0d90a-8502-4705-bfcf-eb57ebd44053\n"
     ]
    },
    {
     "name": "stderr",
     "output_type": "stream",
     "text": [
      "INFO:root:Listing stix_relations with {type: uses, from_id: 22175c83-6fb7-4f81-b2e6-8e296a6ac451, to_id: d5e0d90a-8502-4705-bfcf-eb57ebd44053}\n",
      "INFO:root:Reading Report {a216498d-1d4c-4555-a6a5-c62f38300e74}.\n",
      "INFO:root:Adding Stix-Entity {13079f39-745f-4c98-bb86-291f23b78b05} to Report {a216498d-1d4c-4555-a6a5-c62f38300e74}\n",
      "C:\\ProgramData\\Anaconda3\\lib\\site-packages\\ipykernel_launcher.py:300: DeprecationWarning: Call to deprecated method get_stix_domain_entity. (Replaced by the StixDomainEntity class in pycti) -- Deprecated since version 2.1.0.\n",
      "INFO:root:Reading Stix-Domain-Entity {22175c83-6fb7-4f81-b2e6-8e296a6ac451}.\n",
      "C:\\ProgramData\\Anaconda3\\lib\\site-packages\\ipykernel_launcher.py:303: DeprecationWarning: Call to deprecated method get_stix_domain_entity. (Replaced by the StixDomainEntity class in pycti) -- Deprecated since version 2.1.0.\n",
      "INFO:root:Reading Stix-Domain-Entity {1c0a703e-8245-4206-b21b-1104224a89dc}.\n"
     ]
    },
    {
     "name": "stdout",
     "output_type": "stream",
     "text": [
      "22175c83-6fb7-4f81-b2e6-8e296a6ac451\n",
      "1c0a703e-8245-4206-b21b-1104224a89dc\n"
     ]
    },
    {
     "name": "stderr",
     "output_type": "stream",
     "text": [
      "INFO:root:Listing stix_relations with {type: targets, from_id: 22175c83-6fb7-4f81-b2e6-8e296a6ac451, to_id: 1c0a703e-8245-4206-b21b-1104224a89dc}\n",
      "INFO:root:Reading Report {a216498d-1d4c-4555-a6a5-c62f38300e74}.\n",
      "INFO:root:Adding Stix-Entity {a4ec1130-edfb-47de-8b06-050d7c16ee9a} to Report {a216498d-1d4c-4555-a6a5-c62f38300e74}\n",
      "C:\\ProgramData\\Anaconda3\\lib\\site-packages\\ipykernel_launcher.py:300: DeprecationWarning: Call to deprecated method get_stix_domain_entity. (Replaced by the StixDomainEntity class in pycti) -- Deprecated since version 2.1.0.\n",
      "INFO:root:Reading Stix-Domain-Entity {22175c83-6fb7-4f81-b2e6-8e296a6ac451}.\n",
      "C:\\ProgramData\\Anaconda3\\lib\\site-packages\\ipykernel_launcher.py:303: DeprecationWarning: Call to deprecated method get_stix_domain_entity. (Replaced by the StixDomainEntity class in pycti) -- Deprecated since version 2.1.0.\n",
      "INFO:root:Reading Stix-Domain-Entity {b797c618-45cb-407a-b5ce-9549a5056bd6}.\n"
     ]
    },
    {
     "name": "stdout",
     "output_type": "stream",
     "text": [
      "22175c83-6fb7-4f81-b2e6-8e296a6ac451\n",
      "b797c618-45cb-407a-b5ce-9549a5056bd6\n"
     ]
    },
    {
     "name": "stderr",
     "output_type": "stream",
     "text": [
      "INFO:root:Listing stix_relations with {type: targets, from_id: 22175c83-6fb7-4f81-b2e6-8e296a6ac451, to_id: b797c618-45cb-407a-b5ce-9549a5056bd6}\n",
      "INFO:root:Reading Report {a216498d-1d4c-4555-a6a5-c62f38300e74}.\n",
      "INFO:root:Adding Stix-Entity {bd8c98d4-c95f-4135-9493-20f3ee147020} to Report {a216498d-1d4c-4555-a6a5-c62f38300e74}\n",
      "C:\\ProgramData\\Anaconda3\\lib\\site-packages\\ipykernel_launcher.py:300: DeprecationWarning: Call to deprecated method get_stix_domain_entity. (Replaced by the StixDomainEntity class in pycti) -- Deprecated since version 2.1.0.\n",
      "INFO:root:Reading Stix-Domain-Entity {22175c83-6fb7-4f81-b2e6-8e296a6ac451}.\n",
      "C:\\ProgramData\\Anaconda3\\lib\\site-packages\\ipykernel_launcher.py:303: DeprecationWarning: Call to deprecated method get_stix_domain_entity. (Replaced by the StixDomainEntity class in pycti) -- Deprecated since version 2.1.0.\n",
      "INFO:root:Reading Stix-Domain-Entity {92a0b258-745e-438b-aa7a-8ddbdb414750}.\n"
     ]
    },
    {
     "name": "stdout",
     "output_type": "stream",
     "text": [
      "22175c83-6fb7-4f81-b2e6-8e296a6ac451\n",
      "92a0b258-745e-438b-aa7a-8ddbdb414750\n"
     ]
    },
    {
     "name": "stderr",
     "output_type": "stream",
     "text": [
      "INFO:root:Listing stix_relations with {type: targets, from_id: 22175c83-6fb7-4f81-b2e6-8e296a6ac451, to_id: 92a0b258-745e-438b-aa7a-8ddbdb414750}\n",
      "INFO:root:Reading Report {a216498d-1d4c-4555-a6a5-c62f38300e74}.\n",
      "INFO:root:Adding Stix-Entity {dec2e63f-1248-401c-8b47-66a8612910c6} to Report {a216498d-1d4c-4555-a6a5-c62f38300e74}\n",
      "C:\\ProgramData\\Anaconda3\\lib\\site-packages\\ipykernel_launcher.py:300: DeprecationWarning: Call to deprecated method get_stix_domain_entity. (Replaced by the StixDomainEntity class in pycti) -- Deprecated since version 2.1.0.\n",
      "INFO:root:Reading Stix-Domain-Entity {22175c83-6fb7-4f81-b2e6-8e296a6ac451}.\n",
      "C:\\ProgramData\\Anaconda3\\lib\\site-packages\\ipykernel_launcher.py:303: DeprecationWarning: Call to deprecated method get_stix_domain_entity. (Replaced by the StixDomainEntity class in pycti) -- Deprecated since version 2.1.0.\n",
      "INFO:root:Reading Stix-Domain-Entity {b27363f1-c462-4b2e-9ce3-6cd45a851d56}.\n"
     ]
    },
    {
     "name": "stdout",
     "output_type": "stream",
     "text": [
      "22175c83-6fb7-4f81-b2e6-8e296a6ac451\n",
      "b27363f1-c462-4b2e-9ce3-6cd45a851d56\n"
     ]
    },
    {
     "name": "stderr",
     "output_type": "stream",
     "text": [
      "INFO:root:Listing stix_relations with {type: targets, from_id: 22175c83-6fb7-4f81-b2e6-8e296a6ac451, to_id: b27363f1-c462-4b2e-9ce3-6cd45a851d56}\n",
      "INFO:root:Reading Report {a216498d-1d4c-4555-a6a5-c62f38300e74}.\n",
      "INFO:root:Adding Stix-Entity {a96f9952-88eb-49f7-8a2a-8eca9ad1e89e} to Report {a216498d-1d4c-4555-a6a5-c62f38300e74}\n",
      "C:\\ProgramData\\Anaconda3\\lib\\site-packages\\ipykernel_launcher.py:300: DeprecationWarning: Call to deprecated method get_stix_domain_entity. (Replaced by the StixDomainEntity class in pycti) -- Deprecated since version 2.1.0.\n",
      "INFO:root:Reading Stix-Domain-Entity {22175c83-6fb7-4f81-b2e6-8e296a6ac451}.\n",
      "C:\\ProgramData\\Anaconda3\\lib\\site-packages\\ipykernel_launcher.py:303: DeprecationWarning: Call to deprecated method get_stix_domain_entity. (Replaced by the StixDomainEntity class in pycti) -- Deprecated since version 2.1.0.\n",
      "INFO:root:Reading Stix-Domain-Entity {8e88e738-6a82-46a3-ae9d-6c7c546ca4b3}.\n"
     ]
    },
    {
     "name": "stdout",
     "output_type": "stream",
     "text": [
      "22175c83-6fb7-4f81-b2e6-8e296a6ac451\n",
      "8e88e738-6a82-46a3-ae9d-6c7c546ca4b3\n"
     ]
    },
    {
     "name": "stderr",
     "output_type": "stream",
     "text": [
      "INFO:root:Listing stix_relations with {type: targets, from_id: 22175c83-6fb7-4f81-b2e6-8e296a6ac451, to_id: 8e88e738-6a82-46a3-ae9d-6c7c546ca4b3}\n",
      "INFO:root:Reading Report {a216498d-1d4c-4555-a6a5-c62f38300e74}.\n",
      "INFO:root:Adding Stix-Entity {97b7f38d-8c56-4639-aa44-ac8bf4c132c0} to Report {a216498d-1d4c-4555-a6a5-c62f38300e74}\n",
      "C:\\ProgramData\\Anaconda3\\lib\\site-packages\\ipykernel_launcher.py:300: DeprecationWarning: Call to deprecated method get_stix_domain_entity. (Replaced by the StixDomainEntity class in pycti) -- Deprecated since version 2.1.0.\n",
      "INFO:root:Reading Stix-Domain-Entity {22175c83-6fb7-4f81-b2e6-8e296a6ac451}.\n",
      "C:\\ProgramData\\Anaconda3\\lib\\site-packages\\ipykernel_launcher.py:303: DeprecationWarning: Call to deprecated method get_stix_domain_entity. (Replaced by the StixDomainEntity class in pycti) -- Deprecated since version 2.1.0.\n",
      "INFO:root:Reading Stix-Domain-Entity {a763f532-6889-47ae-8976-abf99ce14bbb}.\n"
     ]
    },
    {
     "name": "stdout",
     "output_type": "stream",
     "text": [
      "22175c83-6fb7-4f81-b2e6-8e296a6ac451\n",
      "a763f532-6889-47ae-8976-abf99ce14bbb\n"
     ]
    },
    {
     "name": "stderr",
     "output_type": "stream",
     "text": [
      "INFO:root:Listing stix_relations with {type: targets, from_id: 22175c83-6fb7-4f81-b2e6-8e296a6ac451, to_id: a763f532-6889-47ae-8976-abf99ce14bbb}\n",
      "INFO:root:Reading Report {a216498d-1d4c-4555-a6a5-c62f38300e74}.\n",
      "INFO:root:Adding Stix-Entity {b19bbe03-a15e-40ce-b536-3b64640f8ac9} to Report {a216498d-1d4c-4555-a6a5-c62f38300e74}\n",
      "C:\\ProgramData\\Anaconda3\\lib\\site-packages\\ipykernel_launcher.py:300: DeprecationWarning: Call to deprecated method get_stix_domain_entity. (Replaced by the StixDomainEntity class in pycti) -- Deprecated since version 2.1.0.\n",
      "INFO:root:Reading Stix-Domain-Entity {22175c83-6fb7-4f81-b2e6-8e296a6ac451}.\n",
      "C:\\ProgramData\\Anaconda3\\lib\\site-packages\\ipykernel_launcher.py:303: DeprecationWarning: Call to deprecated method get_stix_domain_entity. (Replaced by the StixDomainEntity class in pycti) -- Deprecated since version 2.1.0.\n",
      "INFO:root:Reading Stix-Domain-Entity {0d618989-96c1-4cef-8b34-f4dc5a8b7f05}.\n"
     ]
    },
    {
     "name": "stdout",
     "output_type": "stream",
     "text": [
      "22175c83-6fb7-4f81-b2e6-8e296a6ac451\n",
      "0d618989-96c1-4cef-8b34-f4dc5a8b7f05\n"
     ]
    },
    {
     "name": "stderr",
     "output_type": "stream",
     "text": [
      "INFO:root:Listing stix_relations with {type: targets, from_id: 22175c83-6fb7-4f81-b2e6-8e296a6ac451, to_id: 0d618989-96c1-4cef-8b34-f4dc5a8b7f05}\n",
      "INFO:root:Reading Report {a216498d-1d4c-4555-a6a5-c62f38300e74}.\n",
      "INFO:root:Adding Stix-Entity {923aa967-7e78-4bfe-9b60-280d402d6abc} to Report {a216498d-1d4c-4555-a6a5-c62f38300e74}\n",
      "C:\\ProgramData\\Anaconda3\\lib\\site-packages\\ipykernel_launcher.py:300: DeprecationWarning: Call to deprecated method get_stix_domain_entity. (Replaced by the StixDomainEntity class in pycti) -- Deprecated since version 2.1.0.\n",
      "INFO:root:Reading Stix-Domain-Entity {22175c83-6fb7-4f81-b2e6-8e296a6ac451}.\n",
      "C:\\ProgramData\\Anaconda3\\lib\\site-packages\\ipykernel_launcher.py:303: DeprecationWarning: Call to deprecated method get_stix_domain_entity. (Replaced by the StixDomainEntity class in pycti) -- Deprecated since version 2.1.0.\n",
      "INFO:root:Reading Stix-Domain-Entity {d45d618d-9a31-4905-be50-91a94f605f99}.\n"
     ]
    },
    {
     "name": "stdout",
     "output_type": "stream",
     "text": [
      "22175c83-6fb7-4f81-b2e6-8e296a6ac451\n",
      "d45d618d-9a31-4905-be50-91a94f605f99\n"
     ]
    },
    {
     "name": "stderr",
     "output_type": "stream",
     "text": [
      "INFO:root:Listing stix_relations with {type: targets, from_id: 22175c83-6fb7-4f81-b2e6-8e296a6ac451, to_id: d45d618d-9a31-4905-be50-91a94f605f99}\n",
      "INFO:root:Reading Report {a216498d-1d4c-4555-a6a5-c62f38300e74}.\n",
      "INFO:root:Adding Stix-Entity {45cb0b98-8622-4c2e-b3b9-673eff16b2fa} to Report {a216498d-1d4c-4555-a6a5-c62f38300e74}\n",
      "C:\\ProgramData\\Anaconda3\\lib\\site-packages\\ipykernel_launcher.py:300: DeprecationWarning: Call to deprecated method get_stix_domain_entity. (Replaced by the StixDomainEntity class in pycti) -- Deprecated since version 2.1.0.\n",
      "INFO:root:Reading Stix-Domain-Entity {22175c83-6fb7-4f81-b2e6-8e296a6ac451}.\n",
      "C:\\ProgramData\\Anaconda3\\lib\\site-packages\\ipykernel_launcher.py:303: DeprecationWarning: Call to deprecated method get_stix_domain_entity. (Replaced by the StixDomainEntity class in pycti) -- Deprecated since version 2.1.0.\n",
      "INFO:root:Reading Stix-Domain-Entity {4e7c53b2-e4f7-4409-9bd5-50837de2bc44}.\n"
     ]
    },
    {
     "name": "stdout",
     "output_type": "stream",
     "text": [
      "22175c83-6fb7-4f81-b2e6-8e296a6ac451\n",
      "4e7c53b2-e4f7-4409-9bd5-50837de2bc44\n"
     ]
    },
    {
     "name": "stderr",
     "output_type": "stream",
     "text": [
      "INFO:root:Listing stix_relations with {type: targets, from_id: 22175c83-6fb7-4f81-b2e6-8e296a6ac451, to_id: 4e7c53b2-e4f7-4409-9bd5-50837de2bc44}\n",
      "INFO:root:Reading Report {a216498d-1d4c-4555-a6a5-c62f38300e74}.\n",
      "INFO:root:Adding Stix-Entity {61b8da36-a903-445a-a395-b9f51925da97} to Report {a216498d-1d4c-4555-a6a5-c62f38300e74}\n",
      "C:\\ProgramData\\Anaconda3\\lib\\site-packages\\ipykernel_launcher.py:300: DeprecationWarning: Call to deprecated method get_stix_domain_entity. (Replaced by the StixDomainEntity class in pycti) -- Deprecated since version 2.1.0.\n",
      "INFO:root:Reading Stix-Domain-Entity {22175c83-6fb7-4f81-b2e6-8e296a6ac451}.\n",
      "C:\\ProgramData\\Anaconda3\\lib\\site-packages\\ipykernel_launcher.py:303: DeprecationWarning: Call to deprecated method get_stix_domain_entity. (Replaced by the StixDomainEntity class in pycti) -- Deprecated since version 2.1.0.\n",
      "INFO:root:Reading Stix-Domain-Entity {9652484c-8af7-4147-83c3-f47890487079}.\n"
     ]
    },
    {
     "name": "stdout",
     "output_type": "stream",
     "text": [
      "22175c83-6fb7-4f81-b2e6-8e296a6ac451\n",
      "9652484c-8af7-4147-83c3-f47890487079\n"
     ]
    },
    {
     "name": "stderr",
     "output_type": "stream",
     "text": [
      "INFO:root:Listing stix_relations with {type: targets, from_id: 22175c83-6fb7-4f81-b2e6-8e296a6ac451, to_id: 9652484c-8af7-4147-83c3-f47890487079}\n",
      "INFO:root:Reading Report {a216498d-1d4c-4555-a6a5-c62f38300e74}.\n",
      "INFO:root:Adding Stix-Entity {1dc2d01a-0bad-4cb7-86df-846670b9ca29} to Report {a216498d-1d4c-4555-a6a5-c62f38300e74}\n",
      "C:\\ProgramData\\Anaconda3\\lib\\site-packages\\ipykernel_launcher.py:300: DeprecationWarning: Call to deprecated method get_stix_domain_entity. (Replaced by the StixDomainEntity class in pycti) -- Deprecated since version 2.1.0.\n",
      "INFO:root:Reading Stix-Domain-Entity {22175c83-6fb7-4f81-b2e6-8e296a6ac451}.\n",
      "C:\\ProgramData\\Anaconda3\\lib\\site-packages\\ipykernel_launcher.py:303: DeprecationWarning: Call to deprecated method get_stix_domain_entity. (Replaced by the StixDomainEntity class in pycti) -- Deprecated since version 2.1.0.\n",
      "INFO:root:Reading Stix-Domain-Entity {c23e2eb0-bd52-482e-9a5c-b97e31d9225b}.\n"
     ]
    },
    {
     "name": "stdout",
     "output_type": "stream",
     "text": [
      "22175c83-6fb7-4f81-b2e6-8e296a6ac451\n",
      "c23e2eb0-bd52-482e-9a5c-b97e31d9225b\n"
     ]
    },
    {
     "name": "stderr",
     "output_type": "stream",
     "text": [
      "INFO:root:Listing stix_relations with {type: targets, from_id: 22175c83-6fb7-4f81-b2e6-8e296a6ac451, to_id: c23e2eb0-bd52-482e-9a5c-b97e31d9225b}\n",
      "INFO:root:Reading Report {a216498d-1d4c-4555-a6a5-c62f38300e74}.\n",
      "INFO:root:Adding Stix-Entity {29d79802-f2e7-4a5d-bd1d-9d3e937de4ff} to Report {a216498d-1d4c-4555-a6a5-c62f38300e74}\n",
      "C:\\ProgramData\\Anaconda3\\lib\\site-packages\\ipykernel_launcher.py:300: DeprecationWarning: Call to deprecated method get_stix_domain_entity. (Replaced by the StixDomainEntity class in pycti) -- Deprecated since version 2.1.0.\n",
      "INFO:root:Reading Stix-Domain-Entity {c9630199-c590-4a66-9e4b-095f0acae785}.\n",
      "C:\\ProgramData\\Anaconda3\\lib\\site-packages\\ipykernel_launcher.py:303: DeprecationWarning: Call to deprecated method get_stix_domain_entity. (Replaced by the StixDomainEntity class in pycti) -- Deprecated since version 2.1.0.\n",
      "INFO:root:Reading Stix-Domain-Entity {885223eb-a293-4d4a-aaa8-2dd8d4487076}.\n"
     ]
    },
    {
     "name": "stdout",
     "output_type": "stream",
     "text": [
      "c9630199-c590-4a66-9e4b-095f0acae785\n",
      "885223eb-a293-4d4a-aaa8-2dd8d4487076\n"
     ]
    },
    {
     "name": "stderr",
     "output_type": "stream",
     "text": [
      "INFO:root:Listing stix_relations with {type: uses, from_id: c9630199-c590-4a66-9e4b-095f0acae785, to_id: 885223eb-a293-4d4a-aaa8-2dd8d4487076}\n",
      "INFO:root:Reading Report {a216498d-1d4c-4555-a6a5-c62f38300e74}.\n",
      "INFO:root:Adding Stix-Entity {d4a5322e-dac2-4471-b631-3e01dd01b700} to Report {a216498d-1d4c-4555-a6a5-c62f38300e74}\n",
      "C:\\ProgramData\\Anaconda3\\lib\\site-packages\\ipykernel_launcher.py:300: DeprecationWarning: Call to deprecated method get_stix_domain_entity. (Replaced by the StixDomainEntity class in pycti) -- Deprecated since version 2.1.0.\n",
      "INFO:root:Reading Stix-Domain-Entity {c9630199-c590-4a66-9e4b-095f0acae785}.\n",
      "C:\\ProgramData\\Anaconda3\\lib\\site-packages\\ipykernel_launcher.py:303: DeprecationWarning: Call to deprecated method get_stix_domain_entity. (Replaced by the StixDomainEntity class in pycti) -- Deprecated since version 2.1.0.\n",
      "INFO:root:Reading Stix-Domain-Entity {651e2539-4a7d-47fc-8df2-ff67583c3801}.\n"
     ]
    },
    {
     "name": "stdout",
     "output_type": "stream",
     "text": [
      "c9630199-c590-4a66-9e4b-095f0acae785\n",
      "651e2539-4a7d-47fc-8df2-ff67583c3801\n"
     ]
    },
    {
     "name": "stderr",
     "output_type": "stream",
     "text": [
      "INFO:root:Listing stix_relations with {type: uses, from_id: c9630199-c590-4a66-9e4b-095f0acae785, to_id: 651e2539-4a7d-47fc-8df2-ff67583c3801}\n",
      "INFO:root:Reading Report {a216498d-1d4c-4555-a6a5-c62f38300e74}.\n",
      "INFO:root:Adding Stix-Entity {002597b6-07ab-467b-88d1-d3585e262dc5} to Report {a216498d-1d4c-4555-a6a5-c62f38300e74}\n",
      "C:\\ProgramData\\Anaconda3\\lib\\site-packages\\ipykernel_launcher.py:300: DeprecationWarning: Call to deprecated method get_stix_domain_entity. (Replaced by the StixDomainEntity class in pycti) -- Deprecated since version 2.1.0.\n",
      "INFO:root:Reading Stix-Domain-Entity {c9630199-c590-4a66-9e4b-095f0acae785}.\n",
      "C:\\ProgramData\\Anaconda3\\lib\\site-packages\\ipykernel_launcher.py:303: DeprecationWarning: Call to deprecated method get_stix_domain_entity. (Replaced by the StixDomainEntity class in pycti) -- Deprecated since version 2.1.0.\n",
      "INFO:root:Reading Stix-Domain-Entity {ba4ce101-a595-428e-b56b-a7fd085ab3ed}.\n",
      "INFO:root:Listing stix_relations with {type: uses, from_id: c9630199-c590-4a66-9e4b-095f0acae785, to_id: ba4ce101-a595-428e-b56b-a7fd085ab3ed}\n"
     ]
    },
    {
     "name": "stdout",
     "output_type": "stream",
     "text": [
      "c9630199-c590-4a66-9e4b-095f0acae785\n",
      "ba4ce101-a595-428e-b56b-a7fd085ab3ed\n"
     ]
    },
    {
     "name": "stderr",
     "output_type": "stream",
     "text": [
      "INFO:root:Reading Report {a216498d-1d4c-4555-a6a5-c62f38300e74}.\n",
      "INFO:root:Adding Stix-Entity {2a1dd83f-8f47-4dde-9e4d-c0b9d016979f} to Report {a216498d-1d4c-4555-a6a5-c62f38300e74}\n",
      "C:\\ProgramData\\Anaconda3\\lib\\site-packages\\ipykernel_launcher.py:300: DeprecationWarning: Call to deprecated method get_stix_domain_entity. (Replaced by the StixDomainEntity class in pycti) -- Deprecated since version 2.1.0.\n",
      "INFO:root:Reading Stix-Domain-Entity {c9630199-c590-4a66-9e4b-095f0acae785}.\n",
      "C:\\ProgramData\\Anaconda3\\lib\\site-packages\\ipykernel_launcher.py:303: DeprecationWarning: Call to deprecated method get_stix_domain_entity. (Replaced by the StixDomainEntity class in pycti) -- Deprecated since version 2.1.0.\n",
      "INFO:root:Reading Stix-Domain-Entity {1f010009-f6eb-4223-a098-807e6384a1ae}.\n"
     ]
    },
    {
     "name": "stdout",
     "output_type": "stream",
     "text": [
      "c9630199-c590-4a66-9e4b-095f0acae785\n",
      "1f010009-f6eb-4223-a098-807e6384a1ae\n"
     ]
    },
    {
     "name": "stderr",
     "output_type": "stream",
     "text": [
      "INFO:root:Listing stix_relations with {type: uses, from_id: c9630199-c590-4a66-9e4b-095f0acae785, to_id: 1f010009-f6eb-4223-a098-807e6384a1ae}\n",
      "INFO:root:Reading Report {a216498d-1d4c-4555-a6a5-c62f38300e74}.\n",
      "INFO:root:Adding Stix-Entity {2fd09b2e-09d1-47dc-b3d2-98e06b4fb4d7} to Report {a216498d-1d4c-4555-a6a5-c62f38300e74}\n",
      "C:\\ProgramData\\Anaconda3\\lib\\site-packages\\ipykernel_launcher.py:300: DeprecationWarning: Call to deprecated method get_stix_domain_entity. (Replaced by the StixDomainEntity class in pycti) -- Deprecated since version 2.1.0.\n",
      "INFO:root:Reading Stix-Domain-Entity {c9630199-c590-4a66-9e4b-095f0acae785}.\n",
      "C:\\ProgramData\\Anaconda3\\lib\\site-packages\\ipykernel_launcher.py:303: DeprecationWarning: Call to deprecated method get_stix_domain_entity. (Replaced by the StixDomainEntity class in pycti) -- Deprecated since version 2.1.0.\n",
      "INFO:root:Reading Stix-Domain-Entity {cc82f17e-f006-4b60-94a0-91ab35a9fc32}.\n"
     ]
    },
    {
     "name": "stdout",
     "output_type": "stream",
     "text": [
      "c9630199-c590-4a66-9e4b-095f0acae785\n",
      "cc82f17e-f006-4b60-94a0-91ab35a9fc32\n"
     ]
    },
    {
     "name": "stderr",
     "output_type": "stream",
     "text": [
      "INFO:root:Listing stix_relations with {type: uses, from_id: c9630199-c590-4a66-9e4b-095f0acae785, to_id: cc82f17e-f006-4b60-94a0-91ab35a9fc32}\n",
      "INFO:root:Reading Report {a216498d-1d4c-4555-a6a5-c62f38300e74}.\n",
      "INFO:root:Adding Stix-Entity {45254898-14e0-4758-9a8a-e0e8bd35bd86} to Report {a216498d-1d4c-4555-a6a5-c62f38300e74}\n",
      "C:\\ProgramData\\Anaconda3\\lib\\site-packages\\ipykernel_launcher.py:300: DeprecationWarning: Call to deprecated method get_stix_domain_entity. (Replaced by the StixDomainEntity class in pycti) -- Deprecated since version 2.1.0.\n",
      "INFO:root:Reading Stix-Domain-Entity {c9630199-c590-4a66-9e4b-095f0acae785}.\n",
      "C:\\ProgramData\\Anaconda3\\lib\\site-packages\\ipykernel_launcher.py:303: DeprecationWarning: Call to deprecated method get_stix_domain_entity. (Replaced by the StixDomainEntity class in pycti) -- Deprecated since version 2.1.0.\n",
      "INFO:root:Reading Stix-Domain-Entity {c6cb1bb3-2902-45cc-93b4-83ceb1031509}.\n",
      "INFO:root:Listing stix_relations with {type: uses, from_id: c9630199-c590-4a66-9e4b-095f0acae785, to_id: c6cb1bb3-2902-45cc-93b4-83ceb1031509}\n"
     ]
    },
    {
     "name": "stdout",
     "output_type": "stream",
     "text": [
      "c9630199-c590-4a66-9e4b-095f0acae785\n",
      "c6cb1bb3-2902-45cc-93b4-83ceb1031509\n"
     ]
    },
    {
     "name": "stderr",
     "output_type": "stream",
     "text": [
      "INFO:root:Reading Report {a216498d-1d4c-4555-a6a5-c62f38300e74}.\n",
      "INFO:root:Adding Stix-Entity {0196ad7a-033f-447b-aebc-b8b7ee1fa9cb} to Report {a216498d-1d4c-4555-a6a5-c62f38300e74}\n",
      "C:\\ProgramData\\Anaconda3\\lib\\site-packages\\ipykernel_launcher.py:300: DeprecationWarning: Call to deprecated method get_stix_domain_entity. (Replaced by the StixDomainEntity class in pycti) -- Deprecated since version 2.1.0.\n",
      "INFO:root:Reading Stix-Domain-Entity {c9630199-c590-4a66-9e4b-095f0acae785}.\n",
      "C:\\ProgramData\\Anaconda3\\lib\\site-packages\\ipykernel_launcher.py:303: DeprecationWarning: Call to deprecated method get_stix_domain_entity. (Replaced by the StixDomainEntity class in pycti) -- Deprecated since version 2.1.0.\n",
      "INFO:root:Reading Stix-Domain-Entity {5ef8a53d-1e82-47b5-990e-2a0a46aa5e86}.\n"
     ]
    },
    {
     "name": "stdout",
     "output_type": "stream",
     "text": [
      "c9630199-c590-4a66-9e4b-095f0acae785\n",
      "5ef8a53d-1e82-47b5-990e-2a0a46aa5e86\n"
     ]
    },
    {
     "name": "stderr",
     "output_type": "stream",
     "text": [
      "INFO:root:Listing stix_relations with {type: uses, from_id: c9630199-c590-4a66-9e4b-095f0acae785, to_id: 5ef8a53d-1e82-47b5-990e-2a0a46aa5e86}\n",
      "INFO:root:Reading Report {a216498d-1d4c-4555-a6a5-c62f38300e74}.\n",
      "INFO:root:Adding Stix-Entity {48de8c68-ec05-4d58-9deb-61cdb1daf078} to Report {a216498d-1d4c-4555-a6a5-c62f38300e74}\n",
      "C:\\ProgramData\\Anaconda3\\lib\\site-packages\\ipykernel_launcher.py:300: DeprecationWarning: Call to deprecated method get_stix_domain_entity. (Replaced by the StixDomainEntity class in pycti) -- Deprecated since version 2.1.0.\n",
      "INFO:root:Reading Stix-Domain-Entity {c9630199-c590-4a66-9e4b-095f0acae785}.\n",
      "C:\\ProgramData\\Anaconda3\\lib\\site-packages\\ipykernel_launcher.py:303: DeprecationWarning: Call to deprecated method get_stix_domain_entity. (Replaced by the StixDomainEntity class in pycti) -- Deprecated since version 2.1.0.\n",
      "INFO:root:Reading Stix-Domain-Entity {aaf9cc50-5384-45df-b184-2d6048f4ecdd}.\n"
     ]
    },
    {
     "name": "stdout",
     "output_type": "stream",
     "text": [
      "c9630199-c590-4a66-9e4b-095f0acae785\n",
      "aaf9cc50-5384-45df-b184-2d6048f4ecdd\n"
     ]
    },
    {
     "name": "stderr",
     "output_type": "stream",
     "text": [
      "INFO:root:Listing stix_relations with {type: uses, from_id: c9630199-c590-4a66-9e4b-095f0acae785, to_id: aaf9cc50-5384-45df-b184-2d6048f4ecdd}\n",
      "INFO:root:Reading Report {a216498d-1d4c-4555-a6a5-c62f38300e74}.\n",
      "INFO:root:Adding Stix-Entity {bb947abe-b30a-43d2-b942-3cb020c49e22} to Report {a216498d-1d4c-4555-a6a5-c62f38300e74}\n",
      "C:\\ProgramData\\Anaconda3\\lib\\site-packages\\ipykernel_launcher.py:300: DeprecationWarning: Call to deprecated method get_stix_domain_entity. (Replaced by the StixDomainEntity class in pycti) -- Deprecated since version 2.1.0.\n",
      "INFO:root:Reading Stix-Domain-Entity {c9630199-c590-4a66-9e4b-095f0acae785}.\n",
      "C:\\ProgramData\\Anaconda3\\lib\\site-packages\\ipykernel_launcher.py:303: DeprecationWarning: Call to deprecated method get_stix_domain_entity. (Replaced by the StixDomainEntity class in pycti) -- Deprecated since version 2.1.0.\n",
      "INFO:root:Reading Stix-Domain-Entity {58eacb3e-a736-41c8-ba57-9328e4adbca5}.\n"
     ]
    },
    {
     "name": "stdout",
     "output_type": "stream",
     "text": [
      "c9630199-c590-4a66-9e4b-095f0acae785\n",
      "58eacb3e-a736-41c8-ba57-9328e4adbca5\n"
     ]
    },
    {
     "name": "stderr",
     "output_type": "stream",
     "text": [
      "INFO:root:Listing stix_relations with {type: uses, from_id: c9630199-c590-4a66-9e4b-095f0acae785, to_id: 58eacb3e-a736-41c8-ba57-9328e4adbca5}\n",
      "INFO:root:Reading Report {a216498d-1d4c-4555-a6a5-c62f38300e74}.\n",
      "INFO:root:Adding Stix-Entity {53e8b67c-4f72-4f89-bcea-67f61ee767f4} to Report {a216498d-1d4c-4555-a6a5-c62f38300e74}\n",
      "C:\\ProgramData\\Anaconda3\\lib\\site-packages\\ipykernel_launcher.py:300: DeprecationWarning: Call to deprecated method get_stix_domain_entity. (Replaced by the StixDomainEntity class in pycti) -- Deprecated since version 2.1.0.\n",
      "INFO:root:Reading Stix-Domain-Entity {c9630199-c590-4a66-9e4b-095f0acae785}.\n",
      "C:\\ProgramData\\Anaconda3\\lib\\site-packages\\ipykernel_launcher.py:303: DeprecationWarning: Call to deprecated method get_stix_domain_entity. (Replaced by the StixDomainEntity class in pycti) -- Deprecated since version 2.1.0.\n",
      "INFO:root:Reading Stix-Domain-Entity {5c60fe15-cbc3-4135-bc56-52387e7c1457}.\n",
      "INFO:root:Listing stix_relations with {type: uses, from_id: c9630199-c590-4a66-9e4b-095f0acae785, to_id: 5c60fe15-cbc3-4135-bc56-52387e7c1457}\n"
     ]
    },
    {
     "name": "stdout",
     "output_type": "stream",
     "text": [
      "c9630199-c590-4a66-9e4b-095f0acae785\n",
      "5c60fe15-cbc3-4135-bc56-52387e7c1457\n"
     ]
    },
    {
     "name": "stderr",
     "output_type": "stream",
     "text": [
      "INFO:root:Reading Report {a216498d-1d4c-4555-a6a5-c62f38300e74}.\n",
      "INFO:root:Adding Stix-Entity {3c8c3c4e-4ec0-44c3-8833-a266469f6836} to Report {a216498d-1d4c-4555-a6a5-c62f38300e74}\n",
      "C:\\ProgramData\\Anaconda3\\lib\\site-packages\\ipykernel_launcher.py:300: DeprecationWarning: Call to deprecated method get_stix_domain_entity. (Replaced by the StixDomainEntity class in pycti) -- Deprecated since version 2.1.0.\n",
      "INFO:root:Reading Stix-Domain-Entity {c9630199-c590-4a66-9e4b-095f0acae785}.\n",
      "C:\\ProgramData\\Anaconda3\\lib\\site-packages\\ipykernel_launcher.py:303: DeprecationWarning: Call to deprecated method get_stix_domain_entity. (Replaced by the StixDomainEntity class in pycti) -- Deprecated since version 2.1.0.\n",
      "INFO:root:Reading Stix-Domain-Entity {65e096e1-3467-4bd5-a574-9a475701fbdb}.\n"
     ]
    },
    {
     "name": "stdout",
     "output_type": "stream",
     "text": [
      "c9630199-c590-4a66-9e4b-095f0acae785\n",
      "65e096e1-3467-4bd5-a574-9a475701fbdb\n"
     ]
    },
    {
     "name": "stderr",
     "output_type": "stream",
     "text": [
      "INFO:root:Listing stix_relations with {type: uses, from_id: c9630199-c590-4a66-9e4b-095f0acae785, to_id: 65e096e1-3467-4bd5-a574-9a475701fbdb}\n",
      "INFO:root:Reading Report {a216498d-1d4c-4555-a6a5-c62f38300e74}.\n",
      "INFO:root:Adding Stix-Entity {b19bb47f-953c-4d21-a27b-c6bed32bb2ba} to Report {a216498d-1d4c-4555-a6a5-c62f38300e74}\n",
      "C:\\ProgramData\\Anaconda3\\lib\\site-packages\\ipykernel_launcher.py:300: DeprecationWarning: Call to deprecated method get_stix_domain_entity. (Replaced by the StixDomainEntity class in pycti) -- Deprecated since version 2.1.0.\n",
      "INFO:root:Reading Stix-Domain-Entity {c9630199-c590-4a66-9e4b-095f0acae785}.\n",
      "C:\\ProgramData\\Anaconda3\\lib\\site-packages\\ipykernel_launcher.py:303: DeprecationWarning: Call to deprecated method get_stix_domain_entity. (Replaced by the StixDomainEntity class in pycti) -- Deprecated since version 2.1.0.\n",
      "INFO:root:Reading Stix-Domain-Entity {de251092-8d94-428a-b26d-713b96658a46}.\n"
     ]
    },
    {
     "name": "stdout",
     "output_type": "stream",
     "text": [
      "c9630199-c590-4a66-9e4b-095f0acae785\n",
      "de251092-8d94-428a-b26d-713b96658a46\n"
     ]
    },
    {
     "name": "stderr",
     "output_type": "stream",
     "text": [
      "INFO:root:Listing stix_relations with {type: uses, from_id: c9630199-c590-4a66-9e4b-095f0acae785, to_id: de251092-8d94-428a-b26d-713b96658a46}\n",
      "INFO:root:Reading Report {a216498d-1d4c-4555-a6a5-c62f38300e74}.\n",
      "INFO:root:Adding Stix-Entity {4ebe13db-51e1-4ba6-ad02-4b5a2d4b3efc} to Report {a216498d-1d4c-4555-a6a5-c62f38300e74}\n",
      "C:\\ProgramData\\Anaconda3\\lib\\site-packages\\ipykernel_launcher.py:300: DeprecationWarning: Call to deprecated method get_stix_domain_entity. (Replaced by the StixDomainEntity class in pycti) -- Deprecated since version 2.1.0.\n",
      "INFO:root:Reading Stix-Domain-Entity {c9630199-c590-4a66-9e4b-095f0acae785}.\n",
      "C:\\ProgramData\\Anaconda3\\lib\\site-packages\\ipykernel_launcher.py:303: DeprecationWarning: Call to deprecated method get_stix_domain_entity. (Replaced by the StixDomainEntity class in pycti) -- Deprecated since version 2.1.0.\n",
      "INFO:root:Reading Stix-Domain-Entity {2fbbe108-832e-4454-8bc6-d4e4f682b70b}.\n"
     ]
    },
    {
     "name": "stdout",
     "output_type": "stream",
     "text": [
      "c9630199-c590-4a66-9e4b-095f0acae785\n",
      "2fbbe108-832e-4454-8bc6-d4e4f682b70b\n"
     ]
    },
    {
     "name": "stderr",
     "output_type": "stream",
     "text": [
      "INFO:root:Listing stix_relations with {type: uses, from_id: c9630199-c590-4a66-9e4b-095f0acae785, to_id: 2fbbe108-832e-4454-8bc6-d4e4f682b70b}\n",
      "INFO:root:Reading Report {a216498d-1d4c-4555-a6a5-c62f38300e74}.\n",
      "INFO:root:Adding Stix-Entity {c1facd7a-7a89-408b-9cac-1a422777335b} to Report {a216498d-1d4c-4555-a6a5-c62f38300e74}\n",
      "C:\\ProgramData\\Anaconda3\\lib\\site-packages\\ipykernel_launcher.py:300: DeprecationWarning: Call to deprecated method get_stix_domain_entity. (Replaced by the StixDomainEntity class in pycti) -- Deprecated since version 2.1.0.\n",
      "INFO:root:Reading Stix-Domain-Entity {88cbb5de-7cd0-4a00-a14e-e893267afdde}.\n",
      "C:\\ProgramData\\Anaconda3\\lib\\site-packages\\ipykernel_launcher.py:303: DeprecationWarning: Call to deprecated method get_stix_domain_entity. (Replaced by the StixDomainEntity class in pycti) -- Deprecated since version 2.1.0.\n",
      "INFO:root:Reading Stix-Domain-Entity {c6cb1bb3-2902-45cc-93b4-83ceb1031509}.\n"
     ]
    },
    {
     "name": "stdout",
     "output_type": "stream",
     "text": [
      "88cbb5de-7cd0-4a00-a14e-e893267afdde\n",
      "c6cb1bb3-2902-45cc-93b4-83ceb1031509\n"
     ]
    },
    {
     "name": "stderr",
     "output_type": "stream",
     "text": [
      "INFO:root:Listing stix_relations with {type: uses, from_id: 88cbb5de-7cd0-4a00-a14e-e893267afdde, to_id: c6cb1bb3-2902-45cc-93b4-83ceb1031509}\n",
      "INFO:root:Reading Report {a216498d-1d4c-4555-a6a5-c62f38300e74}.\n",
      "INFO:root:Adding Stix-Entity {583c31c9-6e50-4a0f-bec0-db81ba4d5afd} to Report {a216498d-1d4c-4555-a6a5-c62f38300e74}\n",
      "C:\\ProgramData\\Anaconda3\\lib\\site-packages\\ipykernel_launcher.py:300: DeprecationWarning: Call to deprecated method get_stix_domain_entity. (Replaced by the StixDomainEntity class in pycti) -- Deprecated since version 2.1.0.\n",
      "INFO:root:Reading Stix-Domain-Entity {88cbb5de-7cd0-4a00-a14e-e893267afdde}.\n",
      "C:\\ProgramData\\Anaconda3\\lib\\site-packages\\ipykernel_launcher.py:303: DeprecationWarning: Call to deprecated method get_stix_domain_entity. (Replaced by the StixDomainEntity class in pycti) -- Deprecated since version 2.1.0.\n",
      "INFO:root:Reading Stix-Domain-Entity {65e096e1-3467-4bd5-a574-9a475701fbdb}.\n"
     ]
    },
    {
     "name": "stdout",
     "output_type": "stream",
     "text": [
      "88cbb5de-7cd0-4a00-a14e-e893267afdde\n",
      "65e096e1-3467-4bd5-a574-9a475701fbdb\n"
     ]
    },
    {
     "name": "stderr",
     "output_type": "stream",
     "text": [
      "INFO:root:Listing stix_relations with {type: uses, from_id: 88cbb5de-7cd0-4a00-a14e-e893267afdde, to_id: 65e096e1-3467-4bd5-a574-9a475701fbdb}\n",
      "INFO:root:Reading Report {a216498d-1d4c-4555-a6a5-c62f38300e74}.\n",
      "INFO:root:Adding Stix-Entity {02fe4ccf-6c26-48ce-a2fe-d8b66a78fb13} to Report {a216498d-1d4c-4555-a6a5-c62f38300e74}\n",
      "C:\\ProgramData\\Anaconda3\\lib\\site-packages\\ipykernel_launcher.py:300: DeprecationWarning: Call to deprecated method get_stix_domain_entity. (Replaced by the StixDomainEntity class in pycti) -- Deprecated since version 2.1.0.\n",
      "INFO:root:Reading Stix-Domain-Entity {88cbb5de-7cd0-4a00-a14e-e893267afdde}.\n",
      "C:\\ProgramData\\Anaconda3\\lib\\site-packages\\ipykernel_launcher.py:303: DeprecationWarning: Call to deprecated method get_stix_domain_entity. (Replaced by the StixDomainEntity class in pycti) -- Deprecated since version 2.1.0.\n",
      "INFO:root:Reading Stix-Domain-Entity {a66f1395-d712-4bb0-a268-5547d454dd0f}.\n"
     ]
    },
    {
     "name": "stdout",
     "output_type": "stream",
     "text": [
      "88cbb5de-7cd0-4a00-a14e-e893267afdde\n",
      "a66f1395-d712-4bb0-a268-5547d454dd0f\n"
     ]
    },
    {
     "name": "stderr",
     "output_type": "stream",
     "text": [
      "INFO:root:Listing stix_relations with {type: uses, from_id: 88cbb5de-7cd0-4a00-a14e-e893267afdde, to_id: a66f1395-d712-4bb0-a268-5547d454dd0f}\n",
      "INFO:root:Reading Report {a216498d-1d4c-4555-a6a5-c62f38300e74}.\n",
      "INFO:root:Adding Stix-Entity {c7a271ee-eb7a-4979-9f9e-06226b0fb5c2} to Report {a216498d-1d4c-4555-a6a5-c62f38300e74}\n",
      "C:\\ProgramData\\Anaconda3\\lib\\site-packages\\ipykernel_launcher.py:300: DeprecationWarning: Call to deprecated method get_stix_domain_entity. (Replaced by the StixDomainEntity class in pycti) -- Deprecated since version 2.1.0.\n",
      "INFO:root:Reading Stix-Domain-Entity {88cbb5de-7cd0-4a00-a14e-e893267afdde}.\n",
      "C:\\ProgramData\\Anaconda3\\lib\\site-packages\\ipykernel_launcher.py:303: DeprecationWarning: Call to deprecated method get_stix_domain_entity. (Replaced by the StixDomainEntity class in pycti) -- Deprecated since version 2.1.0.\n",
      "INFO:root:Reading Stix-Domain-Entity {7c30bee8-9d28-40ff-a89d-e7b9ba12038a}.\n"
     ]
    },
    {
     "name": "stdout",
     "output_type": "stream",
     "text": [
      "88cbb5de-7cd0-4a00-a14e-e893267afdde\n",
      "7c30bee8-9d28-40ff-a89d-e7b9ba12038a\n"
     ]
    },
    {
     "name": "stderr",
     "output_type": "stream",
     "text": [
      "INFO:root:Listing stix_relations with {type: uses, from_id: 88cbb5de-7cd0-4a00-a14e-e893267afdde, to_id: 7c30bee8-9d28-40ff-a89d-e7b9ba12038a}\n",
      "INFO:root:Reading Report {a216498d-1d4c-4555-a6a5-c62f38300e74}.\n",
      "INFO:root:Adding Stix-Entity {506d84d2-80b6-4e74-a6a2-ef4d48b8285c} to Report {a216498d-1d4c-4555-a6a5-c62f38300e74}\n",
      "C:\\ProgramData\\Anaconda3\\lib\\site-packages\\ipykernel_launcher.py:300: DeprecationWarning: Call to deprecated method get_stix_domain_entity. (Replaced by the StixDomainEntity class in pycti) -- Deprecated since version 2.1.0.\n",
      "INFO:root:Reading Stix-Domain-Entity {88cbb5de-7cd0-4a00-a14e-e893267afdde}.\n",
      "C:\\ProgramData\\Anaconda3\\lib\\site-packages\\ipykernel_launcher.py:303: DeprecationWarning: Call to deprecated method get_stix_domain_entity. (Replaced by the StixDomainEntity class in pycti) -- Deprecated since version 2.1.0.\n",
      "INFO:root:Reading Stix-Domain-Entity {2fbbe108-832e-4454-8bc6-d4e4f682b70b}.\n"
     ]
    },
    {
     "name": "stdout",
     "output_type": "stream",
     "text": [
      "88cbb5de-7cd0-4a00-a14e-e893267afdde\n",
      "2fbbe108-832e-4454-8bc6-d4e4f682b70b\n"
     ]
    },
    {
     "name": "stderr",
     "output_type": "stream",
     "text": [
      "INFO:root:Listing stix_relations with {type: uses, from_id: 88cbb5de-7cd0-4a00-a14e-e893267afdde, to_id: 2fbbe108-832e-4454-8bc6-d4e4f682b70b}\n",
      "INFO:root:Reading Report {a216498d-1d4c-4555-a6a5-c62f38300e74}.\n",
      "INFO:root:Adding Stix-Entity {f051c0d4-df5d-41be-bafa-cc358c47af8b} to Report {a216498d-1d4c-4555-a6a5-c62f38300e74}\n",
      "C:\\ProgramData\\Anaconda3\\lib\\site-packages\\ipykernel_launcher.py:300: DeprecationWarning: Call to deprecated method get_stix_domain_entity. (Replaced by the StixDomainEntity class in pycti) -- Deprecated since version 2.1.0.\n",
      "INFO:root:Reading Stix-Domain-Entity {d160a012-7be8-4de4-86d3-957cc310d76b}.\n",
      "C:\\ProgramData\\Anaconda3\\lib\\site-packages\\ipykernel_launcher.py:303: DeprecationWarning: Call to deprecated method get_stix_domain_entity. (Replaced by the StixDomainEntity class in pycti) -- Deprecated since version 2.1.0.\n",
      "INFO:root:Reading Stix-Domain-Entity {885223eb-a293-4d4a-aaa8-2dd8d4487076}.\n"
     ]
    },
    {
     "name": "stdout",
     "output_type": "stream",
     "text": [
      "d160a012-7be8-4de4-86d3-957cc310d76b\n",
      "885223eb-a293-4d4a-aaa8-2dd8d4487076\n"
     ]
    },
    {
     "name": "stderr",
     "output_type": "stream",
     "text": [
      "INFO:root:Listing stix_relations with {type: uses, from_id: d160a012-7be8-4de4-86d3-957cc310d76b, to_id: 885223eb-a293-4d4a-aaa8-2dd8d4487076}\n",
      "INFO:root:Reading Report {a216498d-1d4c-4555-a6a5-c62f38300e74}.\n",
      "INFO:root:Adding Stix-Entity {65f8b64a-07e2-457a-a044-125f8c11927b} to Report {a216498d-1d4c-4555-a6a5-c62f38300e74}\n",
      "C:\\ProgramData\\Anaconda3\\lib\\site-packages\\ipykernel_launcher.py:300: DeprecationWarning: Call to deprecated method get_stix_domain_entity. (Replaced by the StixDomainEntity class in pycti) -- Deprecated since version 2.1.0.\n",
      "INFO:root:Reading Stix-Domain-Entity {d160a012-7be8-4de4-86d3-957cc310d76b}.\n",
      "C:\\ProgramData\\Anaconda3\\lib\\site-packages\\ipykernel_launcher.py:303: DeprecationWarning: Call to deprecated method get_stix_domain_entity. (Replaced by the StixDomainEntity class in pycti) -- Deprecated since version 2.1.0.\n",
      "INFO:root:Reading Stix-Domain-Entity {6f01d49b-f9aa-4610-8bf2-246f9d3e4875}.\n"
     ]
    },
    {
     "name": "stdout",
     "output_type": "stream",
     "text": [
      "d160a012-7be8-4de4-86d3-957cc310d76b\n",
      "6f01d49b-f9aa-4610-8bf2-246f9d3e4875\n"
     ]
    },
    {
     "name": "stderr",
     "output_type": "stream",
     "text": [
      "INFO:root:Listing stix_relations with {type: uses, from_id: d160a012-7be8-4de4-86d3-957cc310d76b, to_id: 6f01d49b-f9aa-4610-8bf2-246f9d3e4875}\n",
      "INFO:root:Reading Report {a216498d-1d4c-4555-a6a5-c62f38300e74}.\n",
      "INFO:root:Adding Stix-Entity {467d2b20-2d71-4a72-ae05-e5150e6bec84} to Report {a216498d-1d4c-4555-a6a5-c62f38300e74}\n",
      "C:\\ProgramData\\Anaconda3\\lib\\site-packages\\ipykernel_launcher.py:300: DeprecationWarning: Call to deprecated method get_stix_domain_entity. (Replaced by the StixDomainEntity class in pycti) -- Deprecated since version 2.1.0.\n",
      "INFO:root:Reading Stix-Domain-Entity {d160a012-7be8-4de4-86d3-957cc310d76b}.\n",
      "C:\\ProgramData\\Anaconda3\\lib\\site-packages\\ipykernel_launcher.py:303: DeprecationWarning: Call to deprecated method get_stix_domain_entity. (Replaced by the StixDomainEntity class in pycti) -- Deprecated since version 2.1.0.\n",
      "INFO:root:Reading Stix-Domain-Entity {6f01d49b-f9aa-4610-8bf2-246f9d3e4875}.\n"
     ]
    },
    {
     "name": "stdout",
     "output_type": "stream",
     "text": [
      "d160a012-7be8-4de4-86d3-957cc310d76b\n",
      "6f01d49b-f9aa-4610-8bf2-246f9d3e4875\n"
     ]
    },
    {
     "name": "stderr",
     "output_type": "stream",
     "text": [
      "INFO:root:Listing stix_relations with {type: uses, from_id: d160a012-7be8-4de4-86d3-957cc310d76b, to_id: 6f01d49b-f9aa-4610-8bf2-246f9d3e4875}\n",
      "INFO:root:Reading Report {a216498d-1d4c-4555-a6a5-c62f38300e74}.\n",
      "C:\\ProgramData\\Anaconda3\\lib\\site-packages\\ipykernel_launcher.py:300: DeprecationWarning: Call to deprecated method get_stix_domain_entity. (Replaced by the StixDomainEntity class in pycti) -- Deprecated since version 2.1.0.\n",
      "INFO:root:Reading Stix-Domain-Entity {d160a012-7be8-4de4-86d3-957cc310d76b}.\n",
      "C:\\ProgramData\\Anaconda3\\lib\\site-packages\\ipykernel_launcher.py:303: DeprecationWarning: Call to deprecated method get_stix_domain_entity. (Replaced by the StixDomainEntity class in pycti) -- Deprecated since version 2.1.0.\n",
      "INFO:root:Reading Stix-Domain-Entity {8c57bb26-ccef-4301-83cb-6a0ae1bcc508}.\n"
     ]
    },
    {
     "name": "stdout",
     "output_type": "stream",
     "text": [
      "d160a012-7be8-4de4-86d3-957cc310d76b\n",
      "8c57bb26-ccef-4301-83cb-6a0ae1bcc508\n"
     ]
    },
    {
     "name": "stderr",
     "output_type": "stream",
     "text": [
      "INFO:root:Listing stix_relations with {type: uses, from_id: d160a012-7be8-4de4-86d3-957cc310d76b, to_id: 8c57bb26-ccef-4301-83cb-6a0ae1bcc508}\n",
      "INFO:root:Reading Report {a216498d-1d4c-4555-a6a5-c62f38300e74}.\n",
      "INFO:root:Adding Stix-Entity {39e09541-e288-4848-b8c9-19f0815fae70} to Report {a216498d-1d4c-4555-a6a5-c62f38300e74}\n",
      "C:\\ProgramData\\Anaconda3\\lib\\site-packages\\ipykernel_launcher.py:300: DeprecationWarning: Call to deprecated method get_stix_domain_entity. (Replaced by the StixDomainEntity class in pycti) -- Deprecated since version 2.1.0.\n",
      "INFO:root:Reading Stix-Domain-Entity {d160a012-7be8-4de4-86d3-957cc310d76b}.\n",
      "C:\\ProgramData\\Anaconda3\\lib\\site-packages\\ipykernel_launcher.py:303: DeprecationWarning: Call to deprecated method get_stix_domain_entity. (Replaced by the StixDomainEntity class in pycti) -- Deprecated since version 2.1.0.\n",
      "INFO:root:Reading Stix-Domain-Entity {c6cb1bb3-2902-45cc-93b4-83ceb1031509}.\n",
      "INFO:root:Listing stix_relations with {type: uses, from_id: d160a012-7be8-4de4-86d3-957cc310d76b, to_id: c6cb1bb3-2902-45cc-93b4-83ceb1031509}\n"
     ]
    },
    {
     "name": "stdout",
     "output_type": "stream",
     "text": [
      "d160a012-7be8-4de4-86d3-957cc310d76b\n",
      "c6cb1bb3-2902-45cc-93b4-83ceb1031509\n"
     ]
    },
    {
     "name": "stderr",
     "output_type": "stream",
     "text": [
      "INFO:root:Reading Report {a216498d-1d4c-4555-a6a5-c62f38300e74}.\n",
      "INFO:root:Adding Stix-Entity {2ea615a9-e0b7-4fc1-b45a-192f3e318fac} to Report {a216498d-1d4c-4555-a6a5-c62f38300e74}\n",
      "C:\\ProgramData\\Anaconda3\\lib\\site-packages\\ipykernel_launcher.py:300: DeprecationWarning: Call to deprecated method get_stix_domain_entity. (Replaced by the StixDomainEntity class in pycti) -- Deprecated since version 2.1.0.\n",
      "INFO:root:Reading Stix-Domain-Entity {d160a012-7be8-4de4-86d3-957cc310d76b}.\n",
      "C:\\ProgramData\\Anaconda3\\lib\\site-packages\\ipykernel_launcher.py:303: DeprecationWarning: Call to deprecated method get_stix_domain_entity. (Replaced by the StixDomainEntity class in pycti) -- Deprecated since version 2.1.0.\n",
      "INFO:root:Reading Stix-Domain-Entity {aaf9cc50-5384-45df-b184-2d6048f4ecdd}.\n"
     ]
    },
    {
     "name": "stdout",
     "output_type": "stream",
     "text": [
      "d160a012-7be8-4de4-86d3-957cc310d76b\n",
      "aaf9cc50-5384-45df-b184-2d6048f4ecdd\n"
     ]
    },
    {
     "name": "stderr",
     "output_type": "stream",
     "text": [
      "INFO:root:Listing stix_relations with {type: uses, from_id: d160a012-7be8-4de4-86d3-957cc310d76b, to_id: aaf9cc50-5384-45df-b184-2d6048f4ecdd}\n",
      "INFO:root:Reading Report {a216498d-1d4c-4555-a6a5-c62f38300e74}.\n",
      "INFO:root:Adding Stix-Entity {71292036-0234-400c-8a9e-1ea1db03a4c6} to Report {a216498d-1d4c-4555-a6a5-c62f38300e74}\n",
      "C:\\ProgramData\\Anaconda3\\lib\\site-packages\\ipykernel_launcher.py:300: DeprecationWarning: Call to deprecated method get_stix_domain_entity. (Replaced by the StixDomainEntity class in pycti) -- Deprecated since version 2.1.0.\n",
      "INFO:root:Reading Stix-Domain-Entity {d160a012-7be8-4de4-86d3-957cc310d76b}.\n",
      "C:\\ProgramData\\Anaconda3\\lib\\site-packages\\ipykernel_launcher.py:303: DeprecationWarning: Call to deprecated method get_stix_domain_entity. (Replaced by the StixDomainEntity class in pycti) -- Deprecated since version 2.1.0.\n",
      "INFO:root:Reading Stix-Domain-Entity {a66f1395-d712-4bb0-a268-5547d454dd0f}.\n",
      "INFO:root:Listing stix_relations with {type: uses, from_id: d160a012-7be8-4de4-86d3-957cc310d76b, to_id: a66f1395-d712-4bb0-a268-5547d454dd0f}\n"
     ]
    },
    {
     "name": "stdout",
     "output_type": "stream",
     "text": [
      "d160a012-7be8-4de4-86d3-957cc310d76b\n",
      "a66f1395-d712-4bb0-a268-5547d454dd0f\n"
     ]
    },
    {
     "name": "stderr",
     "output_type": "stream",
     "text": [
      "INFO:root:Reading Report {a216498d-1d4c-4555-a6a5-c62f38300e74}.\n",
      "INFO:root:Adding Stix-Entity {6fa6ca13-18c8-4636-8a8d-3ac458061c35} to Report {a216498d-1d4c-4555-a6a5-c62f38300e74}\n",
      "C:\\ProgramData\\Anaconda3\\lib\\site-packages\\ipykernel_launcher.py:300: DeprecationWarning: Call to deprecated method get_stix_domain_entity. (Replaced by the StixDomainEntity class in pycti) -- Deprecated since version 2.1.0.\n",
      "INFO:root:Reading Stix-Domain-Entity {d160a012-7be8-4de4-86d3-957cc310d76b}.\n",
      "C:\\ProgramData\\Anaconda3\\lib\\site-packages\\ipykernel_launcher.py:303: DeprecationWarning: Call to deprecated method get_stix_domain_entity. (Replaced by the StixDomainEntity class in pycti) -- Deprecated since version 2.1.0.\n",
      "INFO:root:Reading Stix-Domain-Entity {e61a95eb-d86f-400a-885d-f6895ede1327}.\n"
     ]
    },
    {
     "name": "stdout",
     "output_type": "stream",
     "text": [
      "d160a012-7be8-4de4-86d3-957cc310d76b\n",
      "e61a95eb-d86f-400a-885d-f6895ede1327\n"
     ]
    },
    {
     "name": "stderr",
     "output_type": "stream",
     "text": [
      "INFO:root:Listing stix_relations with {type: uses, from_id: d160a012-7be8-4de4-86d3-957cc310d76b, to_id: e61a95eb-d86f-400a-885d-f6895ede1327}\n",
      "INFO:root:Reading Report {a216498d-1d4c-4555-a6a5-c62f38300e74}.\n",
      "INFO:root:Adding Stix-Entity {1aa9f8c1-3d63-458d-8582-2eeb602a232d} to Report {a216498d-1d4c-4555-a6a5-c62f38300e74}\n",
      "C:\\ProgramData\\Anaconda3\\lib\\site-packages\\ipykernel_launcher.py:300: DeprecationWarning: Call to deprecated method get_stix_domain_entity. (Replaced by the StixDomainEntity class in pycti) -- Deprecated since version 2.1.0.\n",
      "INFO:root:Reading Stix-Domain-Entity {d160a012-7be8-4de4-86d3-957cc310d76b}.\n",
      "C:\\ProgramData\\Anaconda3\\lib\\site-packages\\ipykernel_launcher.py:303: DeprecationWarning: Call to deprecated method get_stix_domain_entity. (Replaced by the StixDomainEntity class in pycti) -- Deprecated since version 2.1.0.\n",
      "INFO:root:Reading Stix-Domain-Entity {e61a95eb-d86f-400a-885d-f6895ede1327}.\n"
     ]
    },
    {
     "name": "stdout",
     "output_type": "stream",
     "text": [
      "d160a012-7be8-4de4-86d3-957cc310d76b\n",
      "e61a95eb-d86f-400a-885d-f6895ede1327\n"
     ]
    },
    {
     "name": "stderr",
     "output_type": "stream",
     "text": [
      "INFO:root:Listing stix_relations with {type: uses, from_id: d160a012-7be8-4de4-86d3-957cc310d76b, to_id: e61a95eb-d86f-400a-885d-f6895ede1327}\n",
      "INFO:root:Reading Report {a216498d-1d4c-4555-a6a5-c62f38300e74}.\n",
      "C:\\ProgramData\\Anaconda3\\lib\\site-packages\\ipykernel_launcher.py:300: DeprecationWarning: Call to deprecated method get_stix_domain_entity. (Replaced by the StixDomainEntity class in pycti) -- Deprecated since version 2.1.0.\n",
      "INFO:root:Reading Stix-Domain-Entity {d160a012-7be8-4de4-86d3-957cc310d76b}.\n",
      "C:\\ProgramData\\Anaconda3\\lib\\site-packages\\ipykernel_launcher.py:303: DeprecationWarning: Call to deprecated method get_stix_domain_entity. (Replaced by the StixDomainEntity class in pycti) -- Deprecated since version 2.1.0.\n",
      "INFO:root:Reading Stix-Domain-Entity {7c30bee8-9d28-40ff-a89d-e7b9ba12038a}.\n"
     ]
    },
    {
     "name": "stdout",
     "output_type": "stream",
     "text": [
      "d160a012-7be8-4de4-86d3-957cc310d76b\n",
      "7c30bee8-9d28-40ff-a89d-e7b9ba12038a\n"
     ]
    },
    {
     "name": "stderr",
     "output_type": "stream",
     "text": [
      "INFO:root:Listing stix_relations with {type: uses, from_id: d160a012-7be8-4de4-86d3-957cc310d76b, to_id: 7c30bee8-9d28-40ff-a89d-e7b9ba12038a}\n",
      "INFO:root:Reading Report {a216498d-1d4c-4555-a6a5-c62f38300e74}.\n",
      "INFO:root:Adding Stix-Entity {60d0315a-88f5-4f3a-a1d3-3cf8f2bbeb09} to Report {a216498d-1d4c-4555-a6a5-c62f38300e74}\n",
      "C:\\ProgramData\\Anaconda3\\lib\\site-packages\\ipykernel_launcher.py:300: DeprecationWarning: Call to deprecated method get_stix_domain_entity. (Replaced by the StixDomainEntity class in pycti) -- Deprecated since version 2.1.0.\n",
      "INFO:root:Reading Stix-Domain-Entity {d160a012-7be8-4de4-86d3-957cc310d76b}.\n",
      "C:\\ProgramData\\Anaconda3\\lib\\site-packages\\ipykernel_launcher.py:303: DeprecationWarning: Call to deprecated method get_stix_domain_entity. (Replaced by the StixDomainEntity class in pycti) -- Deprecated since version 2.1.0.\n",
      "INFO:root:Reading Stix-Domain-Entity {2fbbe108-832e-4454-8bc6-d4e4f682b70b}.\n"
     ]
    },
    {
     "name": "stdout",
     "output_type": "stream",
     "text": [
      "d160a012-7be8-4de4-86d3-957cc310d76b\n",
      "2fbbe108-832e-4454-8bc6-d4e4f682b70b\n"
     ]
    },
    {
     "name": "stderr",
     "output_type": "stream",
     "text": [
      "INFO:root:Listing stix_relations with {type: uses, from_id: d160a012-7be8-4de4-86d3-957cc310d76b, to_id: 2fbbe108-832e-4454-8bc6-d4e4f682b70b}\n",
      "INFO:root:Reading Report {a216498d-1d4c-4555-a6a5-c62f38300e74}.\n",
      "INFO:root:Adding Stix-Entity {82d4b2db-d22b-469f-8dab-0ed604ca446f} to Report {a216498d-1d4c-4555-a6a5-c62f38300e74}\n",
      "C:\\ProgramData\\Anaconda3\\lib\\site-packages\\ipykernel_launcher.py:300: DeprecationWarning: Call to deprecated method get_stix_domain_entity. (Replaced by the StixDomainEntity class in pycti) -- Deprecated since version 2.1.0.\n",
      "INFO:root:Reading Stix-Domain-Entity {d2f5de38-118b-465f-84ef-5e8f2ba6f138}.\n",
      "C:\\ProgramData\\Anaconda3\\lib\\site-packages\\ipykernel_launcher.py:303: DeprecationWarning: Call to deprecated method get_stix_domain_entity. (Replaced by the StixDomainEntity class in pycti) -- Deprecated since version 2.1.0.\n",
      "INFO:root:Reading Stix-Domain-Entity {923139f5-b823-482c-8fd9-0f0e49672e78}.\n",
      "INFO:root:Listing stix_relations with {type: uses, from_id: d2f5de38-118b-465f-84ef-5e8f2ba6f138, to_id: 923139f5-b823-482c-8fd9-0f0e49672e78}\n"
     ]
    },
    {
     "name": "stdout",
     "output_type": "stream",
     "text": [
      "d2f5de38-118b-465f-84ef-5e8f2ba6f138\n",
      "923139f5-b823-482c-8fd9-0f0e49672e78\n"
     ]
    },
    {
     "name": "stderr",
     "output_type": "stream",
     "text": [
      "INFO:root:Reading Report {a216498d-1d4c-4555-a6a5-c62f38300e74}.\n",
      "INFO:root:Adding Stix-Entity {e0582f7b-19e8-438f-bb92-3cab9e1770ac} to Report {a216498d-1d4c-4555-a6a5-c62f38300e74}\n",
      "C:\\ProgramData\\Anaconda3\\lib\\site-packages\\ipykernel_launcher.py:300: DeprecationWarning: Call to deprecated method get_stix_domain_entity. (Replaced by the StixDomainEntity class in pycti) -- Deprecated since version 2.1.0.\n",
      "INFO:root:Reading Stix-Domain-Entity {d2f5de38-118b-465f-84ef-5e8f2ba6f138}.\n",
      "C:\\ProgramData\\Anaconda3\\lib\\site-packages\\ipykernel_launcher.py:303: DeprecationWarning: Call to deprecated method get_stix_domain_entity. (Replaced by the StixDomainEntity class in pycti) -- Deprecated since version 2.1.0.\n",
      "INFO:root:Reading Stix-Domain-Entity {58eacb3e-a736-41c8-ba57-9328e4adbca5}.\n"
     ]
    },
    {
     "name": "stdout",
     "output_type": "stream",
     "text": [
      "d2f5de38-118b-465f-84ef-5e8f2ba6f138\n",
      "58eacb3e-a736-41c8-ba57-9328e4adbca5\n"
     ]
    },
    {
     "name": "stderr",
     "output_type": "stream",
     "text": [
      "INFO:root:Listing stix_relations with {type: uses, from_id: d2f5de38-118b-465f-84ef-5e8f2ba6f138, to_id: 58eacb3e-a736-41c8-ba57-9328e4adbca5}\n",
      "INFO:root:Reading Report {a216498d-1d4c-4555-a6a5-c62f38300e74}.\n",
      "INFO:root:Adding Stix-Entity {406c2af6-8059-40c6-a5e0-04f6415b8d84} to Report {a216498d-1d4c-4555-a6a5-c62f38300e74}\n",
      "C:\\ProgramData\\Anaconda3\\lib\\site-packages\\ipykernel_launcher.py:300: DeprecationWarning: Call to deprecated method get_stix_domain_entity. (Replaced by the StixDomainEntity class in pycti) -- Deprecated since version 2.1.0.\n",
      "INFO:root:Reading Stix-Domain-Entity {d2f5de38-118b-465f-84ef-5e8f2ba6f138}.\n",
      "C:\\ProgramData\\Anaconda3\\lib\\site-packages\\ipykernel_launcher.py:303: DeprecationWarning: Call to deprecated method get_stix_domain_entity. (Replaced by the StixDomainEntity class in pycti) -- Deprecated since version 2.1.0.\n",
      "INFO:root:Reading Stix-Domain-Entity {a66f1395-d712-4bb0-a268-5547d454dd0f}.\n"
     ]
    },
    {
     "name": "stdout",
     "output_type": "stream",
     "text": [
      "d2f5de38-118b-465f-84ef-5e8f2ba6f138\n",
      "a66f1395-d712-4bb0-a268-5547d454dd0f\n"
     ]
    },
    {
     "name": "stderr",
     "output_type": "stream",
     "text": [
      "INFO:root:Listing stix_relations with {type: uses, from_id: d2f5de38-118b-465f-84ef-5e8f2ba6f138, to_id: a66f1395-d712-4bb0-a268-5547d454dd0f}\n",
      "INFO:root:Reading Report {a216498d-1d4c-4555-a6a5-c62f38300e74}.\n",
      "INFO:root:Adding Stix-Entity {d22b15e8-84ed-4d5a-ad61-ce1b9338ede4} to Report {a216498d-1d4c-4555-a6a5-c62f38300e74}\n",
      "C:\\ProgramData\\Anaconda3\\lib\\site-packages\\ipykernel_launcher.py:300: DeprecationWarning: Call to deprecated method get_stix_domain_entity. (Replaced by the StixDomainEntity class in pycti) -- Deprecated since version 2.1.0.\n",
      "INFO:root:Reading Stix-Domain-Entity {d2f5de38-118b-465f-84ef-5e8f2ba6f138}.\n",
      "C:\\ProgramData\\Anaconda3\\lib\\site-packages\\ipykernel_launcher.py:303: DeprecationWarning: Call to deprecated method get_stix_domain_entity. (Replaced by the StixDomainEntity class in pycti) -- Deprecated since version 2.1.0.\n",
      "INFO:root:Reading Stix-Domain-Entity {de251092-8d94-428a-b26d-713b96658a46}.\n",
      "INFO:root:Listing stix_relations with {type: uses, from_id: d2f5de38-118b-465f-84ef-5e8f2ba6f138, to_id: de251092-8d94-428a-b26d-713b96658a46}\n"
     ]
    },
    {
     "name": "stdout",
     "output_type": "stream",
     "text": [
      "d2f5de38-118b-465f-84ef-5e8f2ba6f138\n",
      "de251092-8d94-428a-b26d-713b96658a46\n"
     ]
    },
    {
     "name": "stderr",
     "output_type": "stream",
     "text": [
      "INFO:root:Reading Report {a216498d-1d4c-4555-a6a5-c62f38300e74}.\n",
      "INFO:root:Adding Stix-Entity {c0ff1401-2e64-4bdc-b607-812ded10ef70} to Report {a216498d-1d4c-4555-a6a5-c62f38300e74}\n",
      "C:\\ProgramData\\Anaconda3\\lib\\site-packages\\ipykernel_launcher.py:300: DeprecationWarning: Call to deprecated method get_stix_domain_entity. (Replaced by the StixDomainEntity class in pycti) -- Deprecated since version 2.1.0.\n",
      "INFO:root:Reading Stix-Domain-Entity {d2f5de38-118b-465f-84ef-5e8f2ba6f138}.\n",
      "C:\\ProgramData\\Anaconda3\\lib\\site-packages\\ipykernel_launcher.py:303: DeprecationWarning: Call to deprecated method get_stix_domain_entity. (Replaced by the StixDomainEntity class in pycti) -- Deprecated since version 2.1.0.\n",
      "INFO:root:Reading Stix-Domain-Entity {2fbbe108-832e-4454-8bc6-d4e4f682b70b}.\n"
     ]
    },
    {
     "name": "stdout",
     "output_type": "stream",
     "text": [
      "d2f5de38-118b-465f-84ef-5e8f2ba6f138\n",
      "2fbbe108-832e-4454-8bc6-d4e4f682b70b\n"
     ]
    },
    {
     "name": "stderr",
     "output_type": "stream",
     "text": [
      "INFO:root:Listing stix_relations with {type: uses, from_id: d2f5de38-118b-465f-84ef-5e8f2ba6f138, to_id: 2fbbe108-832e-4454-8bc6-d4e4f682b70b}\n",
      "INFO:root:Reading Report {a216498d-1d4c-4555-a6a5-c62f38300e74}.\n",
      "INFO:root:Adding Stix-Entity {df7014e2-6595-4507-94a8-e3a7d7092385} to Report {a216498d-1d4c-4555-a6a5-c62f38300e74}\n",
      "C:\\ProgramData\\Anaconda3\\lib\\site-packages\\ipykernel_launcher.py:300: DeprecationWarning: Call to deprecated method get_stix_domain_entity. (Replaced by the StixDomainEntity class in pycti) -- Deprecated since version 2.1.0.\n",
      "INFO:root:Reading Stix-Domain-Entity {992c84bb-2737-4600-bec3-71c96e20bbc0}.\n",
      "C:\\ProgramData\\Anaconda3\\lib\\site-packages\\ipykernel_launcher.py:303: DeprecationWarning: Call to deprecated method get_stix_domain_entity. (Replaced by the StixDomainEntity class in pycti) -- Deprecated since version 2.1.0.\n",
      "INFO:root:Reading Stix-Domain-Entity {98fd75a1-aca9-4b77-9db8-6c6a10e30246}.\n"
     ]
    },
    {
     "name": "stdout",
     "output_type": "stream",
     "text": [
      "992c84bb-2737-4600-bec3-71c96e20bbc0\n",
      "98fd75a1-aca9-4b77-9db8-6c6a10e30246\n"
     ]
    },
    {
     "name": "stderr",
     "output_type": "stream",
     "text": [
      "INFO:root:Listing stix_relations with {type: uses, from_id: 992c84bb-2737-4600-bec3-71c96e20bbc0, to_id: 98fd75a1-aca9-4b77-9db8-6c6a10e30246}\n",
      "INFO:root:Reading Report {a216498d-1d4c-4555-a6a5-c62f38300e74}.\n",
      "INFO:root:Adding Stix-Entity {f24cb099-31e5-4ada-8c42-41ec7441ab41} to Report {a216498d-1d4c-4555-a6a5-c62f38300e74}\n",
      "C:\\ProgramData\\Anaconda3\\lib\\site-packages\\ipykernel_launcher.py:300: DeprecationWarning: Call to deprecated method get_stix_domain_entity. (Replaced by the StixDomainEntity class in pycti) -- Deprecated since version 2.1.0.\n",
      "INFO:root:Reading Stix-Domain-Entity {992c84bb-2737-4600-bec3-71c96e20bbc0}.\n",
      "C:\\ProgramData\\Anaconda3\\lib\\site-packages\\ipykernel_launcher.py:303: DeprecationWarning: Call to deprecated method get_stix_domain_entity. (Replaced by the StixDomainEntity class in pycti) -- Deprecated since version 2.1.0.\n",
      "INFO:root:Reading Stix-Domain-Entity {98fd75a1-aca9-4b77-9db8-6c6a10e30246}.\n"
     ]
    },
    {
     "name": "stdout",
     "output_type": "stream",
     "text": [
      "992c84bb-2737-4600-bec3-71c96e20bbc0\n",
      "98fd75a1-aca9-4b77-9db8-6c6a10e30246\n"
     ]
    },
    {
     "name": "stderr",
     "output_type": "stream",
     "text": [
      "INFO:root:Listing stix_relations with {type: uses, from_id: 992c84bb-2737-4600-bec3-71c96e20bbc0, to_id: 98fd75a1-aca9-4b77-9db8-6c6a10e30246}\n",
      "INFO:root:Reading Report {a216498d-1d4c-4555-a6a5-c62f38300e74}.\n",
      "C:\\ProgramData\\Anaconda3\\lib\\site-packages\\ipykernel_launcher.py:300: DeprecationWarning: Call to deprecated method get_stix_domain_entity. (Replaced by the StixDomainEntity class in pycti) -- Deprecated since version 2.1.0.\n",
      "INFO:root:Reading Stix-Domain-Entity {992c84bb-2737-4600-bec3-71c96e20bbc0}.\n",
      "C:\\ProgramData\\Anaconda3\\lib\\site-packages\\ipykernel_launcher.py:303: DeprecationWarning: Call to deprecated method get_stix_domain_entity. (Replaced by the StixDomainEntity class in pycti) -- Deprecated since version 2.1.0.\n",
      "INFO:root:Reading Stix-Domain-Entity {2fbbe108-832e-4454-8bc6-d4e4f682b70b}.\n"
     ]
    },
    {
     "name": "stdout",
     "output_type": "stream",
     "text": [
      "992c84bb-2737-4600-bec3-71c96e20bbc0\n",
      "2fbbe108-832e-4454-8bc6-d4e4f682b70b\n"
     ]
    },
    {
     "name": "stderr",
     "output_type": "stream",
     "text": [
      "INFO:root:Listing stix_relations with {type: uses, from_id: 992c84bb-2737-4600-bec3-71c96e20bbc0, to_id: 2fbbe108-832e-4454-8bc6-d4e4f682b70b}\n",
      "INFO:root:Reading Report {a216498d-1d4c-4555-a6a5-c62f38300e74}.\n",
      "INFO:root:Adding Stix-Entity {3717ab3c-7f64-4976-9c9c-83b2e5558431} to Report {a216498d-1d4c-4555-a6a5-c62f38300e74}\n",
      "C:\\ProgramData\\Anaconda3\\lib\\site-packages\\ipykernel_launcher.py:300: DeprecationWarning: Call to deprecated method get_stix_domain_entity. (Replaced by the StixDomainEntity class in pycti) -- Deprecated since version 2.1.0.\n",
      "INFO:root:Reading Stix-Domain-Entity {06ef98bc-90d3-44d0-9b31-47dd138daa3d}.\n",
      "C:\\ProgramData\\Anaconda3\\lib\\site-packages\\ipykernel_launcher.py:303: DeprecationWarning: Call to deprecated method get_stix_domain_entity. (Replaced by the StixDomainEntity class in pycti) -- Deprecated since version 2.1.0.\n",
      "INFO:root:Reading Stix-Domain-Entity {e3f49f39-45fb-40cc-b44f-4af592d48328}.\n"
     ]
    },
    {
     "name": "stdout",
     "output_type": "stream",
     "text": [
      "06ef98bc-90d3-44d0-9b31-47dd138daa3d\n",
      "e3f49f39-45fb-40cc-b44f-4af592d48328\n"
     ]
    },
    {
     "name": "stderr",
     "output_type": "stream",
     "text": [
      "INFO:root:Listing stix_relations with {type: uses, from_id: 06ef98bc-90d3-44d0-9b31-47dd138daa3d, to_id: e3f49f39-45fb-40cc-b44f-4af592d48328}\n",
      "INFO:root:Reading Report {a216498d-1d4c-4555-a6a5-c62f38300e74}.\n",
      "INFO:root:Adding Stix-Entity {be0bac34-2a9a-4d7a-838d-567179501156} to Report {a216498d-1d4c-4555-a6a5-c62f38300e74}\n",
      "C:\\ProgramData\\Anaconda3\\lib\\site-packages\\ipykernel_launcher.py:300: DeprecationWarning: Call to deprecated method get_stix_domain_entity. (Replaced by the StixDomainEntity class in pycti) -- Deprecated since version 2.1.0.\n",
      "INFO:root:Reading Stix-Domain-Entity {06ef98bc-90d3-44d0-9b31-47dd138daa3d}.\n",
      "C:\\ProgramData\\Anaconda3\\lib\\site-packages\\ipykernel_launcher.py:303: DeprecationWarning: Call to deprecated method get_stix_domain_entity. (Replaced by the StixDomainEntity class in pycti) -- Deprecated since version 2.1.0.\n",
      "INFO:root:Reading Stix-Domain-Entity {a66f1395-d712-4bb0-a268-5547d454dd0f}.\n"
     ]
    },
    {
     "name": "stdout",
     "output_type": "stream",
     "text": [
      "06ef98bc-90d3-44d0-9b31-47dd138daa3d\n",
      "a66f1395-d712-4bb0-a268-5547d454dd0f\n"
     ]
    },
    {
     "name": "stderr",
     "output_type": "stream",
     "text": [
      "INFO:root:Listing stix_relations with {type: uses, from_id: 06ef98bc-90d3-44d0-9b31-47dd138daa3d, to_id: a66f1395-d712-4bb0-a268-5547d454dd0f}\n",
      "INFO:root:Reading Report {a216498d-1d4c-4555-a6a5-c62f38300e74}.\n",
      "INFO:root:Adding Stix-Entity {2faf162a-fdb4-4be4-91fe-54ac30e11c6a} to Report {a216498d-1d4c-4555-a6a5-c62f38300e74}\n",
      "C:\\ProgramData\\Anaconda3\\lib\\site-packages\\ipykernel_launcher.py:300: DeprecationWarning: Call to deprecated method get_stix_domain_entity. (Replaced by the StixDomainEntity class in pycti) -- Deprecated since version 2.1.0.\n",
      "INFO:root:Reading Stix-Domain-Entity {9fa5e609-537d-483a-98fe-f463e405df11}.\n",
      "C:\\ProgramData\\Anaconda3\\lib\\site-packages\\ipykernel_launcher.py:303: DeprecationWarning: Call to deprecated method get_stix_domain_entity. (Replaced by the StixDomainEntity class in pycti) -- Deprecated since version 2.1.0.\n",
      "INFO:root:Reading Stix-Domain-Entity {885223eb-a293-4d4a-aaa8-2dd8d4487076}.\n"
     ]
    },
    {
     "name": "stdout",
     "output_type": "stream",
     "text": [
      "9fa5e609-537d-483a-98fe-f463e405df11\n",
      "885223eb-a293-4d4a-aaa8-2dd8d4487076\n"
     ]
    },
    {
     "name": "stderr",
     "output_type": "stream",
     "text": [
      "INFO:root:Listing stix_relations with {type: uses, from_id: 9fa5e609-537d-483a-98fe-f463e405df11, to_id: 885223eb-a293-4d4a-aaa8-2dd8d4487076}\n",
      "INFO:root:Reading Report {a216498d-1d4c-4555-a6a5-c62f38300e74}.\n",
      "INFO:root:Adding Stix-Entity {6ecb027e-9f22-4410-8ae5-1984a2d98e05} to Report {a216498d-1d4c-4555-a6a5-c62f38300e74}\n",
      "C:\\ProgramData\\Anaconda3\\lib\\site-packages\\ipykernel_launcher.py:300: DeprecationWarning: Call to deprecated method get_stix_domain_entity. (Replaced by the StixDomainEntity class in pycti) -- Deprecated since version 2.1.0.\n",
      "INFO:root:Reading Stix-Domain-Entity {9fa5e609-537d-483a-98fe-f463e405df11}.\n",
      "C:\\ProgramData\\Anaconda3\\lib\\site-packages\\ipykernel_launcher.py:303: DeprecationWarning: Call to deprecated method get_stix_domain_entity. (Replaced by the StixDomainEntity class in pycti) -- Deprecated since version 2.1.0.\n",
      "INFO:root:Reading Stix-Domain-Entity {651e2539-4a7d-47fc-8df2-ff67583c3801}.\n",
      "INFO:root:Listing stix_relations with {type: uses, from_id: 9fa5e609-537d-483a-98fe-f463e405df11, to_id: 651e2539-4a7d-47fc-8df2-ff67583c3801}\n"
     ]
    },
    {
     "name": "stdout",
     "output_type": "stream",
     "text": [
      "9fa5e609-537d-483a-98fe-f463e405df11\n",
      "651e2539-4a7d-47fc-8df2-ff67583c3801\n"
     ]
    },
    {
     "name": "stderr",
     "output_type": "stream",
     "text": [
      "INFO:root:Reading Report {a216498d-1d4c-4555-a6a5-c62f38300e74}.\n",
      "INFO:root:Adding Stix-Entity {538f0599-1e57-4ea2-b423-8f3d66f8c47f} to Report {a216498d-1d4c-4555-a6a5-c62f38300e74}\n",
      "C:\\ProgramData\\Anaconda3\\lib\\site-packages\\ipykernel_launcher.py:300: DeprecationWarning: Call to deprecated method get_stix_domain_entity. (Replaced by the StixDomainEntity class in pycti) -- Deprecated since version 2.1.0.\n",
      "INFO:root:Reading Stix-Domain-Entity {9fa5e609-537d-483a-98fe-f463e405df11}.\n",
      "C:\\ProgramData\\Anaconda3\\lib\\site-packages\\ipykernel_launcher.py:303: DeprecationWarning: Call to deprecated method get_stix_domain_entity. (Replaced by the StixDomainEntity class in pycti) -- Deprecated since version 2.1.0.\n",
      "INFO:root:Reading Stix-Domain-Entity {651e2539-4a7d-47fc-8df2-ff67583c3801}.\n"
     ]
    },
    {
     "name": "stdout",
     "output_type": "stream",
     "text": [
      "9fa5e609-537d-483a-98fe-f463e405df11\n",
      "651e2539-4a7d-47fc-8df2-ff67583c3801\n"
     ]
    },
    {
     "name": "stderr",
     "output_type": "stream",
     "text": [
      "INFO:root:Listing stix_relations with {type: uses, from_id: 9fa5e609-537d-483a-98fe-f463e405df11, to_id: 651e2539-4a7d-47fc-8df2-ff67583c3801}\n",
      "INFO:root:Reading Report {a216498d-1d4c-4555-a6a5-c62f38300e74}.\n",
      "C:\\ProgramData\\Anaconda3\\lib\\site-packages\\ipykernel_launcher.py:300: DeprecationWarning: Call to deprecated method get_stix_domain_entity. (Replaced by the StixDomainEntity class in pycti) -- Deprecated since version 2.1.0.\n",
      "INFO:root:Reading Stix-Domain-Entity {9fa5e609-537d-483a-98fe-f463e405df11}.\n",
      "C:\\ProgramData\\Anaconda3\\lib\\site-packages\\ipykernel_launcher.py:303: DeprecationWarning: Call to deprecated method get_stix_domain_entity. (Replaced by the StixDomainEntity class in pycti) -- Deprecated since version 2.1.0.\n",
      "INFO:root:Reading Stix-Domain-Entity {c6cb1bb3-2902-45cc-93b4-83ceb1031509}.\n"
     ]
    },
    {
     "name": "stdout",
     "output_type": "stream",
     "text": [
      "9fa5e609-537d-483a-98fe-f463e405df11\n",
      "c6cb1bb3-2902-45cc-93b4-83ceb1031509\n"
     ]
    },
    {
     "name": "stderr",
     "output_type": "stream",
     "text": [
      "INFO:root:Listing stix_relations with {type: uses, from_id: 9fa5e609-537d-483a-98fe-f463e405df11, to_id: c6cb1bb3-2902-45cc-93b4-83ceb1031509}\n",
      "INFO:root:Reading Report {a216498d-1d4c-4555-a6a5-c62f38300e74}.\n",
      "INFO:root:Adding Stix-Entity {cd423f31-cc1d-42b8-ba79-5e9634331c9b} to Report {a216498d-1d4c-4555-a6a5-c62f38300e74}\n",
      "C:\\ProgramData\\Anaconda3\\lib\\site-packages\\ipykernel_launcher.py:300: DeprecationWarning: Call to deprecated method get_stix_domain_entity. (Replaced by the StixDomainEntity class in pycti) -- Deprecated since version 2.1.0.\n",
      "INFO:root:Reading Stix-Domain-Entity {9fa5e609-537d-483a-98fe-f463e405df11}.\n",
      "C:\\ProgramData\\Anaconda3\\lib\\site-packages\\ipykernel_launcher.py:303: DeprecationWarning: Call to deprecated method get_stix_domain_entity. (Replaced by the StixDomainEntity class in pycti) -- Deprecated since version 2.1.0.\n",
      "INFO:root:Reading Stix-Domain-Entity {5ef8a53d-1e82-47b5-990e-2a0a46aa5e86}.\n"
     ]
    },
    {
     "name": "stdout",
     "output_type": "stream",
     "text": [
      "9fa5e609-537d-483a-98fe-f463e405df11\n",
      "5ef8a53d-1e82-47b5-990e-2a0a46aa5e86\n"
     ]
    },
    {
     "name": "stderr",
     "output_type": "stream",
     "text": [
      "INFO:root:Listing stix_relations with {type: uses, from_id: 9fa5e609-537d-483a-98fe-f463e405df11, to_id: 5ef8a53d-1e82-47b5-990e-2a0a46aa5e86}\n",
      "INFO:root:Reading Report {a216498d-1d4c-4555-a6a5-c62f38300e74}.\n",
      "INFO:root:Adding Stix-Entity {cca9b381-fee9-4ede-bad2-a692287c5fe1} to Report {a216498d-1d4c-4555-a6a5-c62f38300e74}\n",
      "C:\\ProgramData\\Anaconda3\\lib\\site-packages\\ipykernel_launcher.py:300: DeprecationWarning: Call to deprecated method get_stix_domain_entity. (Replaced by the StixDomainEntity class in pycti) -- Deprecated since version 2.1.0.\n",
      "INFO:root:Reading Stix-Domain-Entity {9fa5e609-537d-483a-98fe-f463e405df11}.\n",
      "C:\\ProgramData\\Anaconda3\\lib\\site-packages\\ipykernel_launcher.py:303: DeprecationWarning: Call to deprecated method get_stix_domain_entity. (Replaced by the StixDomainEntity class in pycti) -- Deprecated since version 2.1.0.\n",
      "INFO:root:Reading Stix-Domain-Entity {aaf9cc50-5384-45df-b184-2d6048f4ecdd}.\n"
     ]
    },
    {
     "name": "stdout",
     "output_type": "stream",
     "text": [
      "9fa5e609-537d-483a-98fe-f463e405df11\n",
      "aaf9cc50-5384-45df-b184-2d6048f4ecdd\n"
     ]
    },
    {
     "name": "stderr",
     "output_type": "stream",
     "text": [
      "INFO:root:Listing stix_relations with {type: uses, from_id: 9fa5e609-537d-483a-98fe-f463e405df11, to_id: aaf9cc50-5384-45df-b184-2d6048f4ecdd}\n",
      "INFO:root:Reading Report {a216498d-1d4c-4555-a6a5-c62f38300e74}.\n",
      "INFO:root:Adding Stix-Entity {0db2f249-1b34-44b6-a16f-7bc84d81c5f8} to Report {a216498d-1d4c-4555-a6a5-c62f38300e74}\n",
      "C:\\ProgramData\\Anaconda3\\lib\\site-packages\\ipykernel_launcher.py:300: DeprecationWarning: Call to deprecated method get_stix_domain_entity. (Replaced by the StixDomainEntity class in pycti) -- Deprecated since version 2.1.0.\n",
      "INFO:root:Reading Stix-Domain-Entity {9fa5e609-537d-483a-98fe-f463e405df11}.\n",
      "C:\\ProgramData\\Anaconda3\\lib\\site-packages\\ipykernel_launcher.py:303: DeprecationWarning: Call to deprecated method get_stix_domain_entity. (Replaced by the StixDomainEntity class in pycti) -- Deprecated since version 2.1.0.\n",
      "INFO:root:Reading Stix-Domain-Entity {58eacb3e-a736-41c8-ba57-9328e4adbca5}.\n"
     ]
    },
    {
     "name": "stdout",
     "output_type": "stream",
     "text": [
      "9fa5e609-537d-483a-98fe-f463e405df11\n",
      "58eacb3e-a736-41c8-ba57-9328e4adbca5\n"
     ]
    },
    {
     "name": "stderr",
     "output_type": "stream",
     "text": [
      "INFO:root:Listing stix_relations with {type: uses, from_id: 9fa5e609-537d-483a-98fe-f463e405df11, to_id: 58eacb3e-a736-41c8-ba57-9328e4adbca5}\n",
      "INFO:root:Reading Report {a216498d-1d4c-4555-a6a5-c62f38300e74}.\n",
      "INFO:root:Adding Stix-Entity {0b7c752b-6db4-4203-9f77-4f442b8e1e71} to Report {a216498d-1d4c-4555-a6a5-c62f38300e74}\n",
      "C:\\ProgramData\\Anaconda3\\lib\\site-packages\\ipykernel_launcher.py:300: DeprecationWarning: Call to deprecated method get_stix_domain_entity. (Replaced by the StixDomainEntity class in pycti) -- Deprecated since version 2.1.0.\n",
      "INFO:root:Reading Stix-Domain-Entity {9fa5e609-537d-483a-98fe-f463e405df11}.\n",
      "C:\\ProgramData\\Anaconda3\\lib\\site-packages\\ipykernel_launcher.py:303: DeprecationWarning: Call to deprecated method get_stix_domain_entity. (Replaced by the StixDomainEntity class in pycti) -- Deprecated since version 2.1.0.\n",
      "INFO:root:Reading Stix-Domain-Entity {65e096e1-3467-4bd5-a574-9a475701fbdb}.\n"
     ]
    },
    {
     "name": "stdout",
     "output_type": "stream",
     "text": [
      "9fa5e609-537d-483a-98fe-f463e405df11\n",
      "65e096e1-3467-4bd5-a574-9a475701fbdb\n"
     ]
    },
    {
     "name": "stderr",
     "output_type": "stream",
     "text": [
      "INFO:root:Listing stix_relations with {type: uses, from_id: 9fa5e609-537d-483a-98fe-f463e405df11, to_id: 65e096e1-3467-4bd5-a574-9a475701fbdb}\n",
      "INFO:root:Reading Report {a216498d-1d4c-4555-a6a5-c62f38300e74}.\n",
      "INFO:root:Adding Stix-Entity {042df8d4-9b54-4ba8-8354-9c7be3097ee5} to Report {a216498d-1d4c-4555-a6a5-c62f38300e74}\n",
      "C:\\ProgramData\\Anaconda3\\lib\\site-packages\\ipykernel_launcher.py:300: DeprecationWarning: Call to deprecated method get_stix_domain_entity. (Replaced by the StixDomainEntity class in pycti) -- Deprecated since version 2.1.0.\n",
      "INFO:root:Reading Stix-Domain-Entity {f14a312d-c43b-4c07-9951-f3448dfb7ba6}.\n",
      "C:\\ProgramData\\Anaconda3\\lib\\site-packages\\ipykernel_launcher.py:303: DeprecationWarning: Call to deprecated method get_stix_domain_entity. (Replaced by the StixDomainEntity class in pycti) -- Deprecated since version 2.1.0.\n",
      "INFO:root:Reading Stix-Domain-Entity {f76a44e3-4503-48f7-b5e8-cf83bcd6cf83}.\n"
     ]
    },
    {
     "name": "stdout",
     "output_type": "stream",
     "text": [
      "f14a312d-c43b-4c07-9951-f3448dfb7ba6\n",
      "f76a44e3-4503-48f7-b5e8-cf83bcd6cf83\n"
     ]
    },
    {
     "name": "stderr",
     "output_type": "stream",
     "text": [
      "INFO:root:Listing stix_relations with {type: uses, from_id: f14a312d-c43b-4c07-9951-f3448dfb7ba6, to_id: f76a44e3-4503-48f7-b5e8-cf83bcd6cf83}\n",
      "INFO:root:Reading Report {a216498d-1d4c-4555-a6a5-c62f38300e74}.\n",
      "INFO:root:Adding Stix-Entity {715d898b-df4d-473e-b8aa-2c2381cb95d8} to Report {a216498d-1d4c-4555-a6a5-c62f38300e74}\n",
      "C:\\ProgramData\\Anaconda3\\lib\\site-packages\\ipykernel_launcher.py:300: DeprecationWarning: Call to deprecated method get_stix_domain_entity. (Replaced by the StixDomainEntity class in pycti) -- Deprecated since version 2.1.0.\n",
      "INFO:root:Reading Stix-Domain-Entity {d380cf57-9810-438b-bb25-a652aaca9ab2}.\n",
      "C:\\ProgramData\\Anaconda3\\lib\\site-packages\\ipykernel_launcher.py:303: DeprecationWarning: Call to deprecated method get_stix_domain_entity. (Replaced by the StixDomainEntity class in pycti) -- Deprecated since version 2.1.0.\n",
      "INFO:root:Reading Stix-Domain-Entity {ba4ce101-a595-428e-b56b-a7fd085ab3ed}.\n",
      "INFO:root:Listing stix_relations with {type: uses, from_id: d380cf57-9810-438b-bb25-a652aaca9ab2, to_id: ba4ce101-a595-428e-b56b-a7fd085ab3ed}\n"
     ]
    },
    {
     "name": "stdout",
     "output_type": "stream",
     "text": [
      "d380cf57-9810-438b-bb25-a652aaca9ab2\n",
      "ba4ce101-a595-428e-b56b-a7fd085ab3ed\n"
     ]
    },
    {
     "name": "stderr",
     "output_type": "stream",
     "text": [
      "INFO:root:Reading Report {a216498d-1d4c-4555-a6a5-c62f38300e74}.\n",
      "INFO:root:Adding Stix-Entity {27dc63fd-3391-4700-b24b-a2847aa24cb6} to Report {a216498d-1d4c-4555-a6a5-c62f38300e74}\n",
      "C:\\ProgramData\\Anaconda3\\lib\\site-packages\\ipykernel_launcher.py:300: DeprecationWarning: Call to deprecated method get_stix_domain_entity. (Replaced by the StixDomainEntity class in pycti) -- Deprecated since version 2.1.0.\n",
      "INFO:root:Reading Stix-Domain-Entity {d380cf57-9810-438b-bb25-a652aaca9ab2}.\n",
      "C:\\ProgramData\\Anaconda3\\lib\\site-packages\\ipykernel_launcher.py:303: DeprecationWarning: Call to deprecated method get_stix_domain_entity. (Replaced by the StixDomainEntity class in pycti) -- Deprecated since version 2.1.0.\n",
      "INFO:root:Reading Stix-Domain-Entity {b4a44dca-bd27-4047-adff-2a72b0b53107}.\n"
     ]
    },
    {
     "name": "stdout",
     "output_type": "stream",
     "text": [
      "d380cf57-9810-438b-bb25-a652aaca9ab2\n",
      "b4a44dca-bd27-4047-adff-2a72b0b53107\n"
     ]
    },
    {
     "name": "stderr",
     "output_type": "stream",
     "text": [
      "INFO:root:Listing stix_relations with {type: uses, from_id: d380cf57-9810-438b-bb25-a652aaca9ab2, to_id: b4a44dca-bd27-4047-adff-2a72b0b53107}\n",
      "INFO:root:Reading Report {a216498d-1d4c-4555-a6a5-c62f38300e74}.\n",
      "INFO:root:Adding Stix-Entity {a61dcac9-2fe0-4b3e-922d-1271978b1ed0} to Report {a216498d-1d4c-4555-a6a5-c62f38300e74}\n",
      "C:\\ProgramData\\Anaconda3\\lib\\site-packages\\ipykernel_launcher.py:300: DeprecationWarning: Call to deprecated method get_stix_domain_entity. (Replaced by the StixDomainEntity class in pycti) -- Deprecated since version 2.1.0.\n",
      "INFO:root:Reading Stix-Domain-Entity {d380cf57-9810-438b-bb25-a652aaca9ab2}.\n",
      "C:\\ProgramData\\Anaconda3\\lib\\site-packages\\ipykernel_launcher.py:303: DeprecationWarning: Call to deprecated method get_stix_domain_entity. (Replaced by the StixDomainEntity class in pycti) -- Deprecated since version 2.1.0.\n",
      "INFO:root:Reading Stix-Domain-Entity {b4a44dca-bd27-4047-adff-2a72b0b53107}.\n"
     ]
    },
    {
     "name": "stdout",
     "output_type": "stream",
     "text": [
      "d380cf57-9810-438b-bb25-a652aaca9ab2\n",
      "b4a44dca-bd27-4047-adff-2a72b0b53107\n"
     ]
    },
    {
     "name": "stderr",
     "output_type": "stream",
     "text": [
      "INFO:root:Listing stix_relations with {type: uses, from_id: d380cf57-9810-438b-bb25-a652aaca9ab2, to_id: b4a44dca-bd27-4047-adff-2a72b0b53107}\n",
      "INFO:root:Reading Report {a216498d-1d4c-4555-a6a5-c62f38300e74}.\n",
      "C:\\ProgramData\\Anaconda3\\lib\\site-packages\\ipykernel_launcher.py:300: DeprecationWarning: Call to deprecated method get_stix_domain_entity. (Replaced by the StixDomainEntity class in pycti) -- Deprecated since version 2.1.0.\n",
      "INFO:root:Reading Stix-Domain-Entity {d380cf57-9810-438b-bb25-a652aaca9ab2}.\n",
      "C:\\ProgramData\\Anaconda3\\lib\\site-packages\\ipykernel_launcher.py:303: DeprecationWarning: Call to deprecated method get_stix_domain_entity. (Replaced by the StixDomainEntity class in pycti) -- Deprecated since version 2.1.0.\n",
      "INFO:root:Reading Stix-Domain-Entity {b4a44dca-bd27-4047-adff-2a72b0b53107}.\n",
      "INFO:root:Listing stix_relations with {type: uses, from_id: d380cf57-9810-438b-bb25-a652aaca9ab2, to_id: b4a44dca-bd27-4047-adff-2a72b0b53107}\n"
     ]
    },
    {
     "name": "stdout",
     "output_type": "stream",
     "text": [
      "d380cf57-9810-438b-bb25-a652aaca9ab2\n",
      "b4a44dca-bd27-4047-adff-2a72b0b53107\n"
     ]
    },
    {
     "name": "stderr",
     "output_type": "stream",
     "text": [
      "INFO:root:Reading Report {a216498d-1d4c-4555-a6a5-c62f38300e74}.\n",
      "C:\\ProgramData\\Anaconda3\\lib\\site-packages\\ipykernel_launcher.py:300: DeprecationWarning: Call to deprecated method get_stix_domain_entity. (Replaced by the StixDomainEntity class in pycti) -- Deprecated since version 2.1.0.\n",
      "INFO:root:Reading Stix-Domain-Entity {d380cf57-9810-438b-bb25-a652aaca9ab2}.\n",
      "C:\\ProgramData\\Anaconda3\\lib\\site-packages\\ipykernel_launcher.py:303: DeprecationWarning: Call to deprecated method get_stix_domain_entity. (Replaced by the StixDomainEntity class in pycti) -- Deprecated since version 2.1.0.\n",
      "INFO:root:Reading Stix-Domain-Entity {b4a44dca-bd27-4047-adff-2a72b0b53107}.\n",
      "INFO:root:Listing stix_relations with {type: uses, from_id: d380cf57-9810-438b-bb25-a652aaca9ab2, to_id: b4a44dca-bd27-4047-adff-2a72b0b53107}\n"
     ]
    },
    {
     "name": "stdout",
     "output_type": "stream",
     "text": [
      "d380cf57-9810-438b-bb25-a652aaca9ab2\n",
      "b4a44dca-bd27-4047-adff-2a72b0b53107\n"
     ]
    },
    {
     "name": "stderr",
     "output_type": "stream",
     "text": [
      "INFO:root:Reading Report {a216498d-1d4c-4555-a6a5-c62f38300e74}.\n",
      "C:\\ProgramData\\Anaconda3\\lib\\site-packages\\ipykernel_launcher.py:300: DeprecationWarning: Call to deprecated method get_stix_domain_entity. (Replaced by the StixDomainEntity class in pycti) -- Deprecated since version 2.1.0.\n",
      "INFO:root:Reading Stix-Domain-Entity {d380cf57-9810-438b-bb25-a652aaca9ab2}.\n",
      "C:\\ProgramData\\Anaconda3\\lib\\site-packages\\ipykernel_launcher.py:303: DeprecationWarning: Call to deprecated method get_stix_domain_entity. (Replaced by the StixDomainEntity class in pycti) -- Deprecated since version 2.1.0.\n",
      "INFO:root:Reading Stix-Domain-Entity {5ef8a53d-1e82-47b5-990e-2a0a46aa5e86}.\n"
     ]
    },
    {
     "name": "stdout",
     "output_type": "stream",
     "text": [
      "d380cf57-9810-438b-bb25-a652aaca9ab2\n",
      "5ef8a53d-1e82-47b5-990e-2a0a46aa5e86\n"
     ]
    },
    {
     "name": "stderr",
     "output_type": "stream",
     "text": [
      "INFO:root:Listing stix_relations with {type: uses, from_id: d380cf57-9810-438b-bb25-a652aaca9ab2, to_id: 5ef8a53d-1e82-47b5-990e-2a0a46aa5e86}\n",
      "INFO:root:Reading Report {a216498d-1d4c-4555-a6a5-c62f38300e74}.\n",
      "INFO:root:Adding Stix-Entity {8e370095-1ce7-4ebe-8773-eb3474dda2c1} to Report {a216498d-1d4c-4555-a6a5-c62f38300e74}\n",
      "C:\\ProgramData\\Anaconda3\\lib\\site-packages\\ipykernel_launcher.py:300: DeprecationWarning: Call to deprecated method get_stix_domain_entity. (Replaced by the StixDomainEntity class in pycti) -- Deprecated since version 2.1.0.\n",
      "INFO:root:Reading Stix-Domain-Entity {d380cf57-9810-438b-bb25-a652aaca9ab2}.\n",
      "C:\\ProgramData\\Anaconda3\\lib\\site-packages\\ipykernel_launcher.py:303: DeprecationWarning: Call to deprecated method get_stix_domain_entity. (Replaced by the StixDomainEntity class in pycti) -- Deprecated since version 2.1.0.\n",
      "INFO:root:Reading Stix-Domain-Entity {beb1cad9-016f-49c5-ad3c-f23bff549ff2}.\n",
      "INFO:root:Listing stix_relations with {type: uses, from_id: d380cf57-9810-438b-bb25-a652aaca9ab2, to_id: beb1cad9-016f-49c5-ad3c-f23bff549ff2}\n"
     ]
    },
    {
     "name": "stdout",
     "output_type": "stream",
     "text": [
      "d380cf57-9810-438b-bb25-a652aaca9ab2\n",
      "beb1cad9-016f-49c5-ad3c-f23bff549ff2\n"
     ]
    },
    {
     "name": "stderr",
     "output_type": "stream",
     "text": [
      "INFO:root:Reading Report {a216498d-1d4c-4555-a6a5-c62f38300e74}.\n",
      "INFO:root:Adding Stix-Entity {4ce7669f-fe60-4bbb-990d-f4b1d1813864} to Report {a216498d-1d4c-4555-a6a5-c62f38300e74}\n",
      "C:\\ProgramData\\Anaconda3\\lib\\site-packages\\ipykernel_launcher.py:300: DeprecationWarning: Call to deprecated method get_stix_domain_entity. (Replaced by the StixDomainEntity class in pycti) -- Deprecated since version 2.1.0.\n",
      "INFO:root:Reading Stix-Domain-Entity {d380cf57-9810-438b-bb25-a652aaca9ab2}.\n",
      "C:\\ProgramData\\Anaconda3\\lib\\site-packages\\ipykernel_launcher.py:303: DeprecationWarning: Call to deprecated method get_stix_domain_entity. (Replaced by the StixDomainEntity class in pycti) -- Deprecated since version 2.1.0.\n",
      "INFO:root:Reading Stix-Domain-Entity {58eacb3e-a736-41c8-ba57-9328e4adbca5}.\n"
     ]
    },
    {
     "name": "stdout",
     "output_type": "stream",
     "text": [
      "d380cf57-9810-438b-bb25-a652aaca9ab2\n",
      "58eacb3e-a736-41c8-ba57-9328e4adbca5\n"
     ]
    },
    {
     "name": "stderr",
     "output_type": "stream",
     "text": [
      "INFO:root:Listing stix_relations with {type: uses, from_id: d380cf57-9810-438b-bb25-a652aaca9ab2, to_id: 58eacb3e-a736-41c8-ba57-9328e4adbca5}\n",
      "INFO:root:Reading Report {a216498d-1d4c-4555-a6a5-c62f38300e74}.\n",
      "INFO:root:Adding Stix-Entity {a379e5ea-3430-4369-8f23-c51c82383d5a} to Report {a216498d-1d4c-4555-a6a5-c62f38300e74}\n",
      "C:\\ProgramData\\Anaconda3\\lib\\site-packages\\ipykernel_launcher.py:300: DeprecationWarning: Call to deprecated method get_stix_domain_entity. (Replaced by the StixDomainEntity class in pycti) -- Deprecated since version 2.1.0.\n",
      "INFO:root:Reading Stix-Domain-Entity {d380cf57-9810-438b-bb25-a652aaca9ab2}.\n",
      "C:\\ProgramData\\Anaconda3\\lib\\site-packages\\ipykernel_launcher.py:303: DeprecationWarning: Call to deprecated method get_stix_domain_entity. (Replaced by the StixDomainEntity class in pycti) -- Deprecated since version 2.1.0.\n",
      "INFO:root:Reading Stix-Domain-Entity {65e096e1-3467-4bd5-a574-9a475701fbdb}.\n"
     ]
    },
    {
     "name": "stdout",
     "output_type": "stream",
     "text": [
      "d380cf57-9810-438b-bb25-a652aaca9ab2\n",
      "65e096e1-3467-4bd5-a574-9a475701fbdb\n"
     ]
    },
    {
     "name": "stderr",
     "output_type": "stream",
     "text": [
      "INFO:root:Listing stix_relations with {type: uses, from_id: d380cf57-9810-438b-bb25-a652aaca9ab2, to_id: 65e096e1-3467-4bd5-a574-9a475701fbdb}\n",
      "INFO:root:Reading Report {a216498d-1d4c-4555-a6a5-c62f38300e74}.\n",
      "INFO:root:Adding Stix-Entity {29f8f02a-df6c-46aa-a1ef-6922b0572ecb} to Report {a216498d-1d4c-4555-a6a5-c62f38300e74}\n",
      "C:\\ProgramData\\Anaconda3\\lib\\site-packages\\ipykernel_launcher.py:300: DeprecationWarning: Call to deprecated method get_stix_domain_entity. (Replaced by the StixDomainEntity class in pycti) -- Deprecated since version 2.1.0.\n",
      "INFO:root:Reading Stix-Domain-Entity {d380cf57-9810-438b-bb25-a652aaca9ab2}.\n",
      "C:\\ProgramData\\Anaconda3\\lib\\site-packages\\ipykernel_launcher.py:303: DeprecationWarning: Call to deprecated method get_stix_domain_entity. (Replaced by the StixDomainEntity class in pycti) -- Deprecated since version 2.1.0.\n",
      "INFO:root:Reading Stix-Domain-Entity {a66f1395-d712-4bb0-a268-5547d454dd0f}.\n",
      "INFO:root:Listing stix_relations with {type: uses, from_id: d380cf57-9810-438b-bb25-a652aaca9ab2, to_id: a66f1395-d712-4bb0-a268-5547d454dd0f}\n"
     ]
    },
    {
     "name": "stdout",
     "output_type": "stream",
     "text": [
      "d380cf57-9810-438b-bb25-a652aaca9ab2\n",
      "a66f1395-d712-4bb0-a268-5547d454dd0f\n"
     ]
    },
    {
     "name": "stderr",
     "output_type": "stream",
     "text": [
      "INFO:root:Reading Report {a216498d-1d4c-4555-a6a5-c62f38300e74}.\n",
      "INFO:root:Adding Stix-Entity {6eacb234-f115-4f09-b7b8-0523ebdb42ef} to Report {a216498d-1d4c-4555-a6a5-c62f38300e74}\n",
      "C:\\ProgramData\\Anaconda3\\lib\\site-packages\\ipykernel_launcher.py:300: DeprecationWarning: Call to deprecated method get_stix_domain_entity. (Replaced by the StixDomainEntity class in pycti) -- Deprecated since version 2.1.0.\n",
      "INFO:root:Reading Stix-Domain-Entity {93a45d31-aff0-4943-9c7c-e030b99b5f5a}.\n",
      "C:\\ProgramData\\Anaconda3\\lib\\site-packages\\ipykernel_launcher.py:303: DeprecationWarning: Call to deprecated method get_stix_domain_entity. (Replaced by the StixDomainEntity class in pycti) -- Deprecated since version 2.1.0.\n",
      "INFO:root:Reading Stix-Domain-Entity {c9630199-c590-4a66-9e4b-095f0acae785}.\n"
     ]
    },
    {
     "name": "stdout",
     "output_type": "stream",
     "text": [
      "93a45d31-aff0-4943-9c7c-e030b99b5f5a\n",
      "c9630199-c590-4a66-9e4b-095f0acae785\n"
     ]
    },
    {
     "name": "stderr",
     "output_type": "stream",
     "text": [
      "INFO:root:Listing stix_relations with {type: indicates, from_id: 93a45d31-aff0-4943-9c7c-e030b99b5f5a, to_id: c9630199-c590-4a66-9e4b-095f0acae785}\n",
      "INFO:root:Reading Report {a216498d-1d4c-4555-a6a5-c62f38300e74}.\n",
      "INFO:root:Adding Stix-Entity {ea43e946-1d01-4335-b9c8-33ca190b1ebd} to Report {a216498d-1d4c-4555-a6a5-c62f38300e74}\n",
      "C:\\ProgramData\\Anaconda3\\lib\\site-packages\\ipykernel_launcher.py:300: DeprecationWarning: Call to deprecated method get_stix_domain_entity. (Replaced by the StixDomainEntity class in pycti) -- Deprecated since version 2.1.0.\n",
      "INFO:root:Reading Stix-Domain-Entity {7c869d95-c014-49aa-ba37-a24e5929e8fa}.\n",
      "C:\\ProgramData\\Anaconda3\\lib\\site-packages\\ipykernel_launcher.py:303: DeprecationWarning: Call to deprecated method get_stix_domain_entity. (Replaced by the StixDomainEntity class in pycti) -- Deprecated since version 2.1.0.\n",
      "INFO:root:Reading Stix-Domain-Entity {c9630199-c590-4a66-9e4b-095f0acae785}.\n"
     ]
    },
    {
     "name": "stdout",
     "output_type": "stream",
     "text": [
      "7c869d95-c014-49aa-ba37-a24e5929e8fa\n",
      "c9630199-c590-4a66-9e4b-095f0acae785\n"
     ]
    },
    {
     "name": "stderr",
     "output_type": "stream",
     "text": [
      "INFO:root:Listing stix_relations with {type: indicates, from_id: 7c869d95-c014-49aa-ba37-a24e5929e8fa, to_id: c9630199-c590-4a66-9e4b-095f0acae785}\n",
      "INFO:root:Reading Report {a216498d-1d4c-4555-a6a5-c62f38300e74}.\n",
      "INFO:root:Adding Stix-Entity {7bdc685b-daf1-42e1-bc7a-d53a06dc8917} to Report {a216498d-1d4c-4555-a6a5-c62f38300e74}\n",
      "C:\\ProgramData\\Anaconda3\\lib\\site-packages\\ipykernel_launcher.py:300: DeprecationWarning: Call to deprecated method get_stix_domain_entity. (Replaced by the StixDomainEntity class in pycti) -- Deprecated since version 2.1.0.\n",
      "INFO:root:Reading Stix-Domain-Entity {14f1d298-a87e-451b-ba60-76a5dbee520d}.\n",
      "C:\\ProgramData\\Anaconda3\\lib\\site-packages\\ipykernel_launcher.py:303: DeprecationWarning: Call to deprecated method get_stix_domain_entity. (Replaced by the StixDomainEntity class in pycti) -- Deprecated since version 2.1.0.\n",
      "INFO:root:Reading Stix-Domain-Entity {c9630199-c590-4a66-9e4b-095f0acae785}.\n"
     ]
    },
    {
     "name": "stdout",
     "output_type": "stream",
     "text": [
      "14f1d298-a87e-451b-ba60-76a5dbee520d\n",
      "c9630199-c590-4a66-9e4b-095f0acae785\n"
     ]
    },
    {
     "name": "stderr",
     "output_type": "stream",
     "text": [
      "INFO:root:Listing stix_relations with {type: indicates, from_id: 14f1d298-a87e-451b-ba60-76a5dbee520d, to_id: c9630199-c590-4a66-9e4b-095f0acae785}\n",
      "INFO:root:Reading Report {a216498d-1d4c-4555-a6a5-c62f38300e74}.\n",
      "INFO:root:Adding Stix-Entity {dedc228c-d677-490f-b4ff-0d068d834c7d} to Report {a216498d-1d4c-4555-a6a5-c62f38300e74}\n",
      "C:\\ProgramData\\Anaconda3\\lib\\site-packages\\ipykernel_launcher.py:300: DeprecationWarning: Call to deprecated method get_stix_domain_entity. (Replaced by the StixDomainEntity class in pycti) -- Deprecated since version 2.1.0.\n",
      "INFO:root:Reading Stix-Domain-Entity {5390f2f4-ba00-4105-8116-2826b90e5e84}.\n",
      "C:\\ProgramData\\Anaconda3\\lib\\site-packages\\ipykernel_launcher.py:303: DeprecationWarning: Call to deprecated method get_stix_domain_entity. (Replaced by the StixDomainEntity class in pycti) -- Deprecated since version 2.1.0.\n",
      "INFO:root:Reading Stix-Domain-Entity {c9630199-c590-4a66-9e4b-095f0acae785}.\n"
     ]
    },
    {
     "name": "stdout",
     "output_type": "stream",
     "text": [
      "5390f2f4-ba00-4105-8116-2826b90e5e84\n",
      "c9630199-c590-4a66-9e4b-095f0acae785\n"
     ]
    },
    {
     "name": "stderr",
     "output_type": "stream",
     "text": [
      "INFO:root:Listing stix_relations with {type: indicates, from_id: 5390f2f4-ba00-4105-8116-2826b90e5e84, to_id: c9630199-c590-4a66-9e4b-095f0acae785}\n",
      "INFO:root:Reading Report {a216498d-1d4c-4555-a6a5-c62f38300e74}.\n",
      "INFO:root:Adding Stix-Entity {bdf4afa0-b8c3-4979-ac1b-f88c967c029c} to Report {a216498d-1d4c-4555-a6a5-c62f38300e74}\n",
      "C:\\ProgramData\\Anaconda3\\lib\\site-packages\\ipykernel_launcher.py:300: DeprecationWarning: Call to deprecated method get_stix_domain_entity. (Replaced by the StixDomainEntity class in pycti) -- Deprecated since version 2.1.0.\n",
      "INFO:root:Reading Stix-Domain-Entity {11556748-940b-4f49-9e08-657f5f396839}.\n",
      "C:\\ProgramData\\Anaconda3\\lib\\site-packages\\ipykernel_launcher.py:303: DeprecationWarning: Call to deprecated method get_stix_domain_entity. (Replaced by the StixDomainEntity class in pycti) -- Deprecated since version 2.1.0.\n",
      "INFO:root:Reading Stix-Domain-Entity {c9630199-c590-4a66-9e4b-095f0acae785}.\n"
     ]
    },
    {
     "name": "stdout",
     "output_type": "stream",
     "text": [
      "11556748-940b-4f49-9e08-657f5f396839\n",
      "c9630199-c590-4a66-9e4b-095f0acae785\n"
     ]
    },
    {
     "name": "stderr",
     "output_type": "stream",
     "text": [
      "INFO:root:Listing stix_relations with {type: indicates, from_id: 11556748-940b-4f49-9e08-657f5f396839, to_id: c9630199-c590-4a66-9e4b-095f0acae785}\n",
      "INFO:root:Reading Report {a216498d-1d4c-4555-a6a5-c62f38300e74}.\n",
      "INFO:root:Adding Stix-Entity {173c5989-5363-43d7-85f3-0e48f52cd7ad} to Report {a216498d-1d4c-4555-a6a5-c62f38300e74}\n",
      "C:\\ProgramData\\Anaconda3\\lib\\site-packages\\ipykernel_launcher.py:300: DeprecationWarning: Call to deprecated method get_stix_domain_entity. (Replaced by the StixDomainEntity class in pycti) -- Deprecated since version 2.1.0.\n",
      "INFO:root:Reading Stix-Domain-Entity {93a45d31-aff0-4943-9c7c-e030b99b5f5a}.\n",
      "C:\\ProgramData\\Anaconda3\\lib\\site-packages\\ipykernel_launcher.py:303: DeprecationWarning: Call to deprecated method get_stix_domain_entity. (Replaced by the StixDomainEntity class in pycti) -- Deprecated since version 2.1.0.\n",
      "INFO:root:Reading Stix-Domain-Entity {c9630199-c590-4a66-9e4b-095f0acae785}.\n"
     ]
    },
    {
     "name": "stdout",
     "output_type": "stream",
     "text": [
      "93a45d31-aff0-4943-9c7c-e030b99b5f5a\n",
      "c9630199-c590-4a66-9e4b-095f0acae785\n"
     ]
    },
    {
     "name": "stderr",
     "output_type": "stream",
     "text": [
      "INFO:root:Listing stix_relations with {type: indicates, from_id: 93a45d31-aff0-4943-9c7c-e030b99b5f5a, to_id: c9630199-c590-4a66-9e4b-095f0acae785}\n",
      "INFO:root:Reading Report {a216498d-1d4c-4555-a6a5-c62f38300e74}.\n",
      "C:\\ProgramData\\Anaconda3\\lib\\site-packages\\ipykernel_launcher.py:300: DeprecationWarning: Call to deprecated method get_stix_domain_entity. (Replaced by the StixDomainEntity class in pycti) -- Deprecated since version 2.1.0.\n",
      "INFO:root:Reading Stix-Domain-Entity {b47992c6-18d4-49b9-a778-8443c7197910}.\n",
      "C:\\ProgramData\\Anaconda3\\lib\\site-packages\\ipykernel_launcher.py:303: DeprecationWarning: Call to deprecated method get_stix_domain_entity. (Replaced by the StixDomainEntity class in pycti) -- Deprecated since version 2.1.0.\n",
      "INFO:root:Reading Stix-Domain-Entity {c9630199-c590-4a66-9e4b-095f0acae785}.\n"
     ]
    },
    {
     "name": "stdout",
     "output_type": "stream",
     "text": [
      "b47992c6-18d4-49b9-a778-8443c7197910\n",
      "c9630199-c590-4a66-9e4b-095f0acae785\n"
     ]
    },
    {
     "name": "stderr",
     "output_type": "stream",
     "text": [
      "INFO:root:Listing stix_relations with {type: indicates, from_id: b47992c6-18d4-49b9-a778-8443c7197910, to_id: c9630199-c590-4a66-9e4b-095f0acae785}\n",
      "INFO:root:Reading Report {a216498d-1d4c-4555-a6a5-c62f38300e74}.\n",
      "INFO:root:Adding Stix-Entity {dd9aa8bd-d39a-4b8c-831a-cc3499230ca4} to Report {a216498d-1d4c-4555-a6a5-c62f38300e74}\n",
      "C:\\ProgramData\\Anaconda3\\lib\\site-packages\\ipykernel_launcher.py:300: DeprecationWarning: Call to deprecated method get_stix_domain_entity. (Replaced by the StixDomainEntity class in pycti) -- Deprecated since version 2.1.0.\n",
      "INFO:root:Reading Stix-Domain-Entity {75fc5775-0c83-416a-ab52-dd60e1c17e27}.\n",
      "C:\\ProgramData\\Anaconda3\\lib\\site-packages\\ipykernel_launcher.py:303: DeprecationWarning: Call to deprecated method get_stix_domain_entity. (Replaced by the StixDomainEntity class in pycti) -- Deprecated since version 2.1.0.\n",
      "INFO:root:Reading Stix-Domain-Entity {c9630199-c590-4a66-9e4b-095f0acae785}.\n"
     ]
    },
    {
     "name": "stdout",
     "output_type": "stream",
     "text": [
      "75fc5775-0c83-416a-ab52-dd60e1c17e27\n",
      "c9630199-c590-4a66-9e4b-095f0acae785\n"
     ]
    },
    {
     "name": "stderr",
     "output_type": "stream",
     "text": [
      "INFO:root:Listing stix_relations with {type: indicates, from_id: 75fc5775-0c83-416a-ab52-dd60e1c17e27, to_id: c9630199-c590-4a66-9e4b-095f0acae785}\n",
      "INFO:root:Reading Report {a216498d-1d4c-4555-a6a5-c62f38300e74}.\n",
      "INFO:root:Adding Stix-Entity {273ce7c7-d500-41a7-a25d-9cc31d430314} to Report {a216498d-1d4c-4555-a6a5-c62f38300e74}\n",
      "C:\\ProgramData\\Anaconda3\\lib\\site-packages\\ipykernel_launcher.py:300: DeprecationWarning: Call to deprecated method get_stix_domain_entity. (Replaced by the StixDomainEntity class in pycti) -- Deprecated since version 2.1.0.\n",
      "INFO:root:Reading Stix-Domain-Entity {da5e9871-e066-4067-803f-b8becff18d8f}.\n",
      "C:\\ProgramData\\Anaconda3\\lib\\site-packages\\ipykernel_launcher.py:303: DeprecationWarning: Call to deprecated method get_stix_domain_entity. (Replaced by the StixDomainEntity class in pycti) -- Deprecated since version 2.1.0.\n",
      "INFO:root:Reading Stix-Domain-Entity {88cbb5de-7cd0-4a00-a14e-e893267afdde}.\n"
     ]
    },
    {
     "name": "stdout",
     "output_type": "stream",
     "text": [
      "da5e9871-e066-4067-803f-b8becff18d8f\n",
      "88cbb5de-7cd0-4a00-a14e-e893267afdde\n"
     ]
    },
    {
     "name": "stderr",
     "output_type": "stream",
     "text": [
      "INFO:root:Listing stix_relations with {type: indicates, from_id: da5e9871-e066-4067-803f-b8becff18d8f, to_id: 88cbb5de-7cd0-4a00-a14e-e893267afdde}\n",
      "INFO:root:Reading Report {a216498d-1d4c-4555-a6a5-c62f38300e74}.\n",
      "INFO:root:Adding Stix-Entity {797b6787-02d4-42b8-ac4c-3e1ee693d804} to Report {a216498d-1d4c-4555-a6a5-c62f38300e74}\n",
      "C:\\ProgramData\\Anaconda3\\lib\\site-packages\\ipykernel_launcher.py:300: DeprecationWarning: Call to deprecated method get_stix_domain_entity. (Replaced by the StixDomainEntity class in pycti) -- Deprecated since version 2.1.0.\n",
      "INFO:root:Reading Stix-Domain-Entity {c83ed5b8-da99-4c16-8645-d49755e12f2f}.\n",
      "C:\\ProgramData\\Anaconda3\\lib\\site-packages\\ipykernel_launcher.py:303: DeprecationWarning: Call to deprecated method get_stix_domain_entity. (Replaced by the StixDomainEntity class in pycti) -- Deprecated since version 2.1.0.\n",
      "INFO:root:Reading Stix-Domain-Entity {88cbb5de-7cd0-4a00-a14e-e893267afdde}.\n"
     ]
    },
    {
     "name": "stdout",
     "output_type": "stream",
     "text": [
      "c83ed5b8-da99-4c16-8645-d49755e12f2f\n",
      "88cbb5de-7cd0-4a00-a14e-e893267afdde\n"
     ]
    },
    {
     "name": "stderr",
     "output_type": "stream",
     "text": [
      "INFO:root:Listing stix_relations with {type: indicates, from_id: c83ed5b8-da99-4c16-8645-d49755e12f2f, to_id: 88cbb5de-7cd0-4a00-a14e-e893267afdde}\n",
      "INFO:root:Reading Report {a216498d-1d4c-4555-a6a5-c62f38300e74}.\n",
      "INFO:root:Adding Stix-Entity {3647a913-252d-4196-a465-fbe7a918a40e} to Report {a216498d-1d4c-4555-a6a5-c62f38300e74}\n",
      "C:\\ProgramData\\Anaconda3\\lib\\site-packages\\ipykernel_launcher.py:300: DeprecationWarning: Call to deprecated method get_stix_domain_entity. (Replaced by the StixDomainEntity class in pycti) -- Deprecated since version 2.1.0.\n",
      "INFO:root:Reading Stix-Domain-Entity {bd3dd7a6-9723-4895-b825-f71d9f1b2fbc}.\n",
      "C:\\ProgramData\\Anaconda3\\lib\\site-packages\\ipykernel_launcher.py:303: DeprecationWarning: Call to deprecated method get_stix_domain_entity. (Replaced by the StixDomainEntity class in pycti) -- Deprecated since version 2.1.0.\n",
      "INFO:root:Reading Stix-Domain-Entity {88cbb5de-7cd0-4a00-a14e-e893267afdde}.\n"
     ]
    },
    {
     "name": "stdout",
     "output_type": "stream",
     "text": [
      "bd3dd7a6-9723-4895-b825-f71d9f1b2fbc\n",
      "88cbb5de-7cd0-4a00-a14e-e893267afdde\n"
     ]
    },
    {
     "name": "stderr",
     "output_type": "stream",
     "text": [
      "INFO:root:Listing stix_relations with {type: indicates, from_id: bd3dd7a6-9723-4895-b825-f71d9f1b2fbc, to_id: 88cbb5de-7cd0-4a00-a14e-e893267afdde}\n",
      "INFO:root:Reading Report {a216498d-1d4c-4555-a6a5-c62f38300e74}.\n",
      "INFO:root:Adding Stix-Entity {4e2d853d-74d0-4640-9b9c-889ec57d34b4} to Report {a216498d-1d4c-4555-a6a5-c62f38300e74}\n",
      "C:\\ProgramData\\Anaconda3\\lib\\site-packages\\ipykernel_launcher.py:300: DeprecationWarning: Call to deprecated method get_stix_domain_entity. (Replaced by the StixDomainEntity class in pycti) -- Deprecated since version 2.1.0.\n",
      "INFO:root:Reading Stix-Domain-Entity {eb39aaa9-35ba-4624-93c8-355e804cb720}.\n",
      "C:\\ProgramData\\Anaconda3\\lib\\site-packages\\ipykernel_launcher.py:303: DeprecationWarning: Call to deprecated method get_stix_domain_entity. (Replaced by the StixDomainEntity class in pycti) -- Deprecated since version 2.1.0.\n",
      "INFO:root:Reading Stix-Domain-Entity {88cbb5de-7cd0-4a00-a14e-e893267afdde}.\n"
     ]
    },
    {
     "name": "stdout",
     "output_type": "stream",
     "text": [
      "eb39aaa9-35ba-4624-93c8-355e804cb720\n",
      "88cbb5de-7cd0-4a00-a14e-e893267afdde\n"
     ]
    },
    {
     "name": "stderr",
     "output_type": "stream",
     "text": [
      "INFO:root:Listing stix_relations with {type: indicates, from_id: eb39aaa9-35ba-4624-93c8-355e804cb720, to_id: 88cbb5de-7cd0-4a00-a14e-e893267afdde}\n",
      "INFO:root:Reading Report {a216498d-1d4c-4555-a6a5-c62f38300e74}.\n",
      "INFO:root:Adding Stix-Entity {c001783b-a825-411c-a354-aa9e4856f833} to Report {a216498d-1d4c-4555-a6a5-c62f38300e74}\n",
      "C:\\ProgramData\\Anaconda3\\lib\\site-packages\\ipykernel_launcher.py:300: DeprecationWarning: Call to deprecated method get_stix_domain_entity. (Replaced by the StixDomainEntity class in pycti) -- Deprecated since version 2.1.0.\n",
      "INFO:root:Reading Stix-Domain-Entity {ab5d5a2c-e943-4d66-9047-cbac81fc2926}.\n",
      "C:\\ProgramData\\Anaconda3\\lib\\site-packages\\ipykernel_launcher.py:303: DeprecationWarning: Call to deprecated method get_stix_domain_entity. (Replaced by the StixDomainEntity class in pycti) -- Deprecated since version 2.1.0.\n",
      "INFO:root:Reading Stix-Domain-Entity {88cbb5de-7cd0-4a00-a14e-e893267afdde}.\n"
     ]
    },
    {
     "name": "stdout",
     "output_type": "stream",
     "text": [
      "ab5d5a2c-e943-4d66-9047-cbac81fc2926\n",
      "88cbb5de-7cd0-4a00-a14e-e893267afdde\n"
     ]
    },
    {
     "name": "stderr",
     "output_type": "stream",
     "text": [
      "INFO:root:Listing stix_relations with {type: indicates, from_id: ab5d5a2c-e943-4d66-9047-cbac81fc2926, to_id: 88cbb5de-7cd0-4a00-a14e-e893267afdde}\n",
      "INFO:root:Reading Report {a216498d-1d4c-4555-a6a5-c62f38300e74}.\n",
      "INFO:root:Adding Stix-Entity {d85d3684-c5eb-45d0-ae65-7d872d7bf806} to Report {a216498d-1d4c-4555-a6a5-c62f38300e74}\n",
      "C:\\ProgramData\\Anaconda3\\lib\\site-packages\\ipykernel_launcher.py:300: DeprecationWarning: Call to deprecated method get_stix_domain_entity. (Replaced by the StixDomainEntity class in pycti) -- Deprecated since version 2.1.0.\n",
      "INFO:root:Reading Stix-Domain-Entity {6b621de5-fce1-4513-997c-e5a5249dbb27}.\n",
      "C:\\ProgramData\\Anaconda3\\lib\\site-packages\\ipykernel_launcher.py:303: DeprecationWarning: Call to deprecated method get_stix_domain_entity. (Replaced by the StixDomainEntity class in pycti) -- Deprecated since version 2.1.0.\n",
      "INFO:root:Reading Stix-Domain-Entity {88cbb5de-7cd0-4a00-a14e-e893267afdde}.\n"
     ]
    },
    {
     "name": "stdout",
     "output_type": "stream",
     "text": [
      "6b621de5-fce1-4513-997c-e5a5249dbb27\n",
      "88cbb5de-7cd0-4a00-a14e-e893267afdde\n"
     ]
    },
    {
     "name": "stderr",
     "output_type": "stream",
     "text": [
      "INFO:root:Listing stix_relations with {type: indicates, from_id: 6b621de5-fce1-4513-997c-e5a5249dbb27, to_id: 88cbb5de-7cd0-4a00-a14e-e893267afdde}\n",
      "INFO:root:Reading Report {a216498d-1d4c-4555-a6a5-c62f38300e74}.\n",
      "INFO:root:Adding Stix-Entity {a789af19-134b-490c-b35a-db0ed783f770} to Report {a216498d-1d4c-4555-a6a5-c62f38300e74}\n",
      "C:\\ProgramData\\Anaconda3\\lib\\site-packages\\ipykernel_launcher.py:300: DeprecationWarning: Call to deprecated method get_stix_domain_entity. (Replaced by the StixDomainEntity class in pycti) -- Deprecated since version 2.1.0.\n",
      "INFO:root:Reading Stix-Domain-Entity {de242b61-26fe-4f29-bf00-a566a10fc0ba}.\n",
      "C:\\ProgramData\\Anaconda3\\lib\\site-packages\\ipykernel_launcher.py:303: DeprecationWarning: Call to deprecated method get_stix_domain_entity. (Replaced by the StixDomainEntity class in pycti) -- Deprecated since version 2.1.0.\n",
      "INFO:root:Reading Stix-Domain-Entity {88cbb5de-7cd0-4a00-a14e-e893267afdde}.\n"
     ]
    },
    {
     "name": "stdout",
     "output_type": "stream",
     "text": [
      "de242b61-26fe-4f29-bf00-a566a10fc0ba\n",
      "88cbb5de-7cd0-4a00-a14e-e893267afdde\n"
     ]
    },
    {
     "name": "stderr",
     "output_type": "stream",
     "text": [
      "INFO:root:Listing stix_relations with {type: indicates, from_id: de242b61-26fe-4f29-bf00-a566a10fc0ba, to_id: 88cbb5de-7cd0-4a00-a14e-e893267afdde}\n",
      "INFO:root:Reading Report {a216498d-1d4c-4555-a6a5-c62f38300e74}.\n",
      "INFO:root:Adding Stix-Entity {b751e82e-f87b-4672-99b1-04cc7e8afeef} to Report {a216498d-1d4c-4555-a6a5-c62f38300e74}\n",
      "C:\\ProgramData\\Anaconda3\\lib\\site-packages\\ipykernel_launcher.py:300: DeprecationWarning: Call to deprecated method get_stix_domain_entity. (Replaced by the StixDomainEntity class in pycti) -- Deprecated since version 2.1.0.\n",
      "INFO:root:Reading Stix-Domain-Entity {aab3af69-2751-4b8e-b294-fe72d9a6dafd}.\n",
      "C:\\ProgramData\\Anaconda3\\lib\\site-packages\\ipykernel_launcher.py:303: DeprecationWarning: Call to deprecated method get_stix_domain_entity. (Replaced by the StixDomainEntity class in pycti) -- Deprecated since version 2.1.0.\n",
      "INFO:root:Reading Stix-Domain-Entity {88cbb5de-7cd0-4a00-a14e-e893267afdde}.\n"
     ]
    },
    {
     "name": "stdout",
     "output_type": "stream",
     "text": [
      "aab3af69-2751-4b8e-b294-fe72d9a6dafd\n",
      "88cbb5de-7cd0-4a00-a14e-e893267afdde\n"
     ]
    },
    {
     "name": "stderr",
     "output_type": "stream",
     "text": [
      "INFO:root:Listing stix_relations with {type: indicates, from_id: aab3af69-2751-4b8e-b294-fe72d9a6dafd, to_id: 88cbb5de-7cd0-4a00-a14e-e893267afdde}\n",
      "INFO:root:Reading Report {a216498d-1d4c-4555-a6a5-c62f38300e74}.\n",
      "INFO:root:Adding Stix-Entity {525ccf43-b867-4111-b3b0-336485ffd004} to Report {a216498d-1d4c-4555-a6a5-c62f38300e74}\n",
      "C:\\ProgramData\\Anaconda3\\lib\\site-packages\\ipykernel_launcher.py:300: DeprecationWarning: Call to deprecated method get_stix_domain_entity. (Replaced by the StixDomainEntity class in pycti) -- Deprecated since version 2.1.0.\n",
      "INFO:root:Reading Stix-Domain-Entity {838f63eb-9066-4cc8-82d4-9408452395ac}.\n",
      "C:\\ProgramData\\Anaconda3\\lib\\site-packages\\ipykernel_launcher.py:303: DeprecationWarning: Call to deprecated method get_stix_domain_entity. (Replaced by the StixDomainEntity class in pycti) -- Deprecated since version 2.1.0.\n",
      "INFO:root:Reading Stix-Domain-Entity {88cbb5de-7cd0-4a00-a14e-e893267afdde}.\n"
     ]
    },
    {
     "name": "stdout",
     "output_type": "stream",
     "text": [
      "838f63eb-9066-4cc8-82d4-9408452395ac\n",
      "88cbb5de-7cd0-4a00-a14e-e893267afdde\n"
     ]
    },
    {
     "name": "stderr",
     "output_type": "stream",
     "text": [
      "INFO:root:Listing stix_relations with {type: indicates, from_id: 838f63eb-9066-4cc8-82d4-9408452395ac, to_id: 88cbb5de-7cd0-4a00-a14e-e893267afdde}\n",
      "INFO:root:Reading Report {a216498d-1d4c-4555-a6a5-c62f38300e74}.\n",
      "INFO:root:Adding Stix-Entity {6025907e-fdd1-4a4b-abe6-7c46627aa406} to Report {a216498d-1d4c-4555-a6a5-c62f38300e74}\n",
      "C:\\ProgramData\\Anaconda3\\lib\\site-packages\\ipykernel_launcher.py:300: DeprecationWarning: Call to deprecated method get_stix_domain_entity. (Replaced by the StixDomainEntity class in pycti) -- Deprecated since version 2.1.0.\n",
      "INFO:root:Reading Stix-Domain-Entity {047bfb5d-b8fc-447f-9c6a-26e1869c1f14}.\n",
      "C:\\ProgramData\\Anaconda3\\lib\\site-packages\\ipykernel_launcher.py:303: DeprecationWarning: Call to deprecated method get_stix_domain_entity. (Replaced by the StixDomainEntity class in pycti) -- Deprecated since version 2.1.0.\n",
      "INFO:root:Reading Stix-Domain-Entity {88cbb5de-7cd0-4a00-a14e-e893267afdde}.\n"
     ]
    },
    {
     "name": "stdout",
     "output_type": "stream",
     "text": [
      "047bfb5d-b8fc-447f-9c6a-26e1869c1f14\n",
      "88cbb5de-7cd0-4a00-a14e-e893267afdde\n"
     ]
    },
    {
     "name": "stderr",
     "output_type": "stream",
     "text": [
      "INFO:root:Listing stix_relations with {type: indicates, from_id: 047bfb5d-b8fc-447f-9c6a-26e1869c1f14, to_id: 88cbb5de-7cd0-4a00-a14e-e893267afdde}\n",
      "INFO:root:Reading Report {a216498d-1d4c-4555-a6a5-c62f38300e74}.\n",
      "INFO:root:Adding Stix-Entity {e6747e8b-2c5a-4591-8799-ce45053514fb} to Report {a216498d-1d4c-4555-a6a5-c62f38300e74}\n",
      "C:\\ProgramData\\Anaconda3\\lib\\site-packages\\ipykernel_launcher.py:300: DeprecationWarning: Call to deprecated method get_stix_domain_entity. (Replaced by the StixDomainEntity class in pycti) -- Deprecated since version 2.1.0.\n",
      "INFO:root:Reading Stix-Domain-Entity {78b9076b-9c78-47ce-a067-4f6db994090e}.\n",
      "C:\\ProgramData\\Anaconda3\\lib\\site-packages\\ipykernel_launcher.py:303: DeprecationWarning: Call to deprecated method get_stix_domain_entity. (Replaced by the StixDomainEntity class in pycti) -- Deprecated since version 2.1.0.\n",
      "INFO:root:Reading Stix-Domain-Entity {88cbb5de-7cd0-4a00-a14e-e893267afdde}.\n"
     ]
    },
    {
     "name": "stdout",
     "output_type": "stream",
     "text": [
      "78b9076b-9c78-47ce-a067-4f6db994090e\n",
      "88cbb5de-7cd0-4a00-a14e-e893267afdde\n"
     ]
    },
    {
     "name": "stderr",
     "output_type": "stream",
     "text": [
      "INFO:root:Listing stix_relations with {type: indicates, from_id: 78b9076b-9c78-47ce-a067-4f6db994090e, to_id: 88cbb5de-7cd0-4a00-a14e-e893267afdde}\n",
      "INFO:root:Reading Report {a216498d-1d4c-4555-a6a5-c62f38300e74}.\n",
      "INFO:root:Adding Stix-Entity {06d49673-d572-4d6e-8498-e6f5776c26d8} to Report {a216498d-1d4c-4555-a6a5-c62f38300e74}\n",
      "C:\\ProgramData\\Anaconda3\\lib\\site-packages\\ipykernel_launcher.py:300: DeprecationWarning: Call to deprecated method get_stix_domain_entity. (Replaced by the StixDomainEntity class in pycti) -- Deprecated since version 2.1.0.\n",
      "INFO:root:Reading Stix-Domain-Entity {270ea3b7-cdec-4fe3-9d97-ea87aa352515}.\n",
      "C:\\ProgramData\\Anaconda3\\lib\\site-packages\\ipykernel_launcher.py:303: DeprecationWarning: Call to deprecated method get_stix_domain_entity. (Replaced by the StixDomainEntity class in pycti) -- Deprecated since version 2.1.0.\n",
      "INFO:root:Reading Stix-Domain-Entity {88cbb5de-7cd0-4a00-a14e-e893267afdde}.\n"
     ]
    },
    {
     "name": "stdout",
     "output_type": "stream",
     "text": [
      "270ea3b7-cdec-4fe3-9d97-ea87aa352515\n",
      "88cbb5de-7cd0-4a00-a14e-e893267afdde\n"
     ]
    },
    {
     "name": "stderr",
     "output_type": "stream",
     "text": [
      "INFO:root:Listing stix_relations with {type: indicates, from_id: 270ea3b7-cdec-4fe3-9d97-ea87aa352515, to_id: 88cbb5de-7cd0-4a00-a14e-e893267afdde}\n",
      "INFO:root:Reading Report {a216498d-1d4c-4555-a6a5-c62f38300e74}.\n",
      "INFO:root:Adding Stix-Entity {0d68aa24-e74d-4be0-b01b-a888a93e2e20} to Report {a216498d-1d4c-4555-a6a5-c62f38300e74}\n",
      "C:\\ProgramData\\Anaconda3\\lib\\site-packages\\ipykernel_launcher.py:300: DeprecationWarning: Call to deprecated method get_stix_domain_entity. (Replaced by the StixDomainEntity class in pycti) -- Deprecated since version 2.1.0.\n",
      "INFO:root:Reading Stix-Domain-Entity {667ed941-005a-49ce-a1f6-89c7cbe9b760}.\n",
      "C:\\ProgramData\\Anaconda3\\lib\\site-packages\\ipykernel_launcher.py:303: DeprecationWarning: Call to deprecated method get_stix_domain_entity. (Replaced by the StixDomainEntity class in pycti) -- Deprecated since version 2.1.0.\n",
      "INFO:root:Reading Stix-Domain-Entity {88cbb5de-7cd0-4a00-a14e-e893267afdde}.\n"
     ]
    },
    {
     "name": "stdout",
     "output_type": "stream",
     "text": [
      "667ed941-005a-49ce-a1f6-89c7cbe9b760\n",
      "88cbb5de-7cd0-4a00-a14e-e893267afdde\n"
     ]
    },
    {
     "name": "stderr",
     "output_type": "stream",
     "text": [
      "INFO:root:Listing stix_relations with {type: indicates, from_id: 667ed941-005a-49ce-a1f6-89c7cbe9b760, to_id: 88cbb5de-7cd0-4a00-a14e-e893267afdde}\n",
      "INFO:root:Reading Report {a216498d-1d4c-4555-a6a5-c62f38300e74}.\n",
      "INFO:root:Adding Stix-Entity {dc4ab2c0-5eb1-4d79-b72a-67da7ac29dd7} to Report {a216498d-1d4c-4555-a6a5-c62f38300e74}\n",
      "C:\\ProgramData\\Anaconda3\\lib\\site-packages\\ipykernel_launcher.py:300: DeprecationWarning: Call to deprecated method get_stix_domain_entity. (Replaced by the StixDomainEntity class in pycti) -- Deprecated since version 2.1.0.\n",
      "INFO:root:Reading Stix-Domain-Entity {26c19424-d4cc-4c8e-a947-95b676b0b330}.\n",
      "C:\\ProgramData\\Anaconda3\\lib\\site-packages\\ipykernel_launcher.py:303: DeprecationWarning: Call to deprecated method get_stix_domain_entity. (Replaced by the StixDomainEntity class in pycti) -- Deprecated since version 2.1.0.\n",
      "INFO:root:Reading Stix-Domain-Entity {88cbb5de-7cd0-4a00-a14e-e893267afdde}.\n"
     ]
    },
    {
     "name": "stdout",
     "output_type": "stream",
     "text": [
      "26c19424-d4cc-4c8e-a947-95b676b0b330\n",
      "88cbb5de-7cd0-4a00-a14e-e893267afdde\n"
     ]
    },
    {
     "name": "stderr",
     "output_type": "stream",
     "text": [
      "INFO:root:Listing stix_relations with {type: indicates, from_id: 26c19424-d4cc-4c8e-a947-95b676b0b330, to_id: 88cbb5de-7cd0-4a00-a14e-e893267afdde}\n",
      "INFO:root:Reading Report {a216498d-1d4c-4555-a6a5-c62f38300e74}.\n",
      "INFO:root:Adding Stix-Entity {e2cc0f51-029d-4bea-82aa-60e5eb147a44} to Report {a216498d-1d4c-4555-a6a5-c62f38300e74}\n",
      "C:\\ProgramData\\Anaconda3\\lib\\site-packages\\ipykernel_launcher.py:300: DeprecationWarning: Call to deprecated method get_stix_domain_entity. (Replaced by the StixDomainEntity class in pycti) -- Deprecated since version 2.1.0.\n",
      "INFO:root:Reading Stix-Domain-Entity {75cbca55-7183-441b-b7c7-23e73e5b1726}.\n",
      "C:\\ProgramData\\Anaconda3\\lib\\site-packages\\ipykernel_launcher.py:303: DeprecationWarning: Call to deprecated method get_stix_domain_entity. (Replaced by the StixDomainEntity class in pycti) -- Deprecated since version 2.1.0.\n",
      "INFO:root:Reading Stix-Domain-Entity {88cbb5de-7cd0-4a00-a14e-e893267afdde}.\n"
     ]
    },
    {
     "name": "stdout",
     "output_type": "stream",
     "text": [
      "75cbca55-7183-441b-b7c7-23e73e5b1726\n",
      "88cbb5de-7cd0-4a00-a14e-e893267afdde\n"
     ]
    },
    {
     "name": "stderr",
     "output_type": "stream",
     "text": [
      "INFO:root:Listing stix_relations with {type: indicates, from_id: 75cbca55-7183-441b-b7c7-23e73e5b1726, to_id: 88cbb5de-7cd0-4a00-a14e-e893267afdde}\n",
      "INFO:root:Reading Report {a216498d-1d4c-4555-a6a5-c62f38300e74}.\n",
      "INFO:root:Adding Stix-Entity {2cc814e3-8457-4bdd-80b7-175b327ab62e} to Report {a216498d-1d4c-4555-a6a5-c62f38300e74}\n",
      "C:\\ProgramData\\Anaconda3\\lib\\site-packages\\ipykernel_launcher.py:300: DeprecationWarning: Call to deprecated method get_stix_domain_entity. (Replaced by the StixDomainEntity class in pycti) -- Deprecated since version 2.1.0.\n",
      "INFO:root:Reading Stix-Domain-Entity {1a33ae11-74cf-4fb5-bc33-a87d99086454}.\n",
      "C:\\ProgramData\\Anaconda3\\lib\\site-packages\\ipykernel_launcher.py:303: DeprecationWarning: Call to deprecated method get_stix_domain_entity. (Replaced by the StixDomainEntity class in pycti) -- Deprecated since version 2.1.0.\n",
      "INFO:root:Reading Stix-Domain-Entity {88cbb5de-7cd0-4a00-a14e-e893267afdde}.\n"
     ]
    },
    {
     "name": "stdout",
     "output_type": "stream",
     "text": [
      "1a33ae11-74cf-4fb5-bc33-a87d99086454\n",
      "88cbb5de-7cd0-4a00-a14e-e893267afdde\n"
     ]
    },
    {
     "name": "stderr",
     "output_type": "stream",
     "text": [
      "INFO:root:Listing stix_relations with {type: indicates, from_id: 1a33ae11-74cf-4fb5-bc33-a87d99086454, to_id: 88cbb5de-7cd0-4a00-a14e-e893267afdde}\n",
      "INFO:root:Reading Report {a216498d-1d4c-4555-a6a5-c62f38300e74}.\n",
      "INFO:root:Adding Stix-Entity {0d03be5d-111e-4e83-9108-2d79c49d5085} to Report {a216498d-1d4c-4555-a6a5-c62f38300e74}\n",
      "C:\\ProgramData\\Anaconda3\\lib\\site-packages\\ipykernel_launcher.py:300: DeprecationWarning: Call to deprecated method get_stix_domain_entity. (Replaced by the StixDomainEntity class in pycti) -- Deprecated since version 2.1.0.\n",
      "INFO:root:Reading Stix-Domain-Entity {d7c041f1-824f-4ad4-b4d8-e157daf9801d}.\n",
      "C:\\ProgramData\\Anaconda3\\lib\\site-packages\\ipykernel_launcher.py:303: DeprecationWarning: Call to deprecated method get_stix_domain_entity. (Replaced by the StixDomainEntity class in pycti) -- Deprecated since version 2.1.0.\n",
      "INFO:root:Reading Stix-Domain-Entity {88cbb5de-7cd0-4a00-a14e-e893267afdde}.\n"
     ]
    },
    {
     "name": "stdout",
     "output_type": "stream",
     "text": [
      "d7c041f1-824f-4ad4-b4d8-e157daf9801d\n",
      "88cbb5de-7cd0-4a00-a14e-e893267afdde\n"
     ]
    },
    {
     "name": "stderr",
     "output_type": "stream",
     "text": [
      "INFO:root:Listing stix_relations with {type: indicates, from_id: d7c041f1-824f-4ad4-b4d8-e157daf9801d, to_id: 88cbb5de-7cd0-4a00-a14e-e893267afdde}\n",
      "INFO:root:Reading Report {a216498d-1d4c-4555-a6a5-c62f38300e74}.\n",
      "INFO:root:Adding Stix-Entity {3e95dd76-3c00-46cb-9c56-cb1b601e27e8} to Report {a216498d-1d4c-4555-a6a5-c62f38300e74}\n",
      "C:\\ProgramData\\Anaconda3\\lib\\site-packages\\ipykernel_launcher.py:300: DeprecationWarning: Call to deprecated method get_stix_domain_entity. (Replaced by the StixDomainEntity class in pycti) -- Deprecated since version 2.1.0.\n",
      "INFO:root:Reading Stix-Domain-Entity {8fb68203-68ed-4152-ad6f-925e71649e02}.\n",
      "C:\\ProgramData\\Anaconda3\\lib\\site-packages\\ipykernel_launcher.py:303: DeprecationWarning: Call to deprecated method get_stix_domain_entity. (Replaced by the StixDomainEntity class in pycti) -- Deprecated since version 2.1.0.\n",
      "INFO:root:Reading Stix-Domain-Entity {88cbb5de-7cd0-4a00-a14e-e893267afdde}.\n"
     ]
    },
    {
     "name": "stdout",
     "output_type": "stream",
     "text": [
      "8fb68203-68ed-4152-ad6f-925e71649e02\n",
      "88cbb5de-7cd0-4a00-a14e-e893267afdde\n"
     ]
    },
    {
     "name": "stderr",
     "output_type": "stream",
     "text": [
      "INFO:root:Listing stix_relations with {type: indicates, from_id: 8fb68203-68ed-4152-ad6f-925e71649e02, to_id: 88cbb5de-7cd0-4a00-a14e-e893267afdde}\n",
      "INFO:root:Reading Report {a216498d-1d4c-4555-a6a5-c62f38300e74}.\n",
      "INFO:root:Adding Stix-Entity {37a4f140-8a7d-4075-967a-155154e83d6e} to Report {a216498d-1d4c-4555-a6a5-c62f38300e74}\n",
      "C:\\ProgramData\\Anaconda3\\lib\\site-packages\\ipykernel_launcher.py:300: DeprecationWarning: Call to deprecated method get_stix_domain_entity. (Replaced by the StixDomainEntity class in pycti) -- Deprecated since version 2.1.0.\n",
      "INFO:root:Reading Stix-Domain-Entity {833c1c08-7c78-45fd-97bc-56e42ad7f733}.\n",
      "C:\\ProgramData\\Anaconda3\\lib\\site-packages\\ipykernel_launcher.py:303: DeprecationWarning: Call to deprecated method get_stix_domain_entity. (Replaced by the StixDomainEntity class in pycti) -- Deprecated since version 2.1.0.\n",
      "INFO:root:Reading Stix-Domain-Entity {88cbb5de-7cd0-4a00-a14e-e893267afdde}.\n"
     ]
    },
    {
     "name": "stdout",
     "output_type": "stream",
     "text": [
      "833c1c08-7c78-45fd-97bc-56e42ad7f733\n",
      "88cbb5de-7cd0-4a00-a14e-e893267afdde\n"
     ]
    },
    {
     "name": "stderr",
     "output_type": "stream",
     "text": [
      "INFO:root:Listing stix_relations with {type: indicates, from_id: 833c1c08-7c78-45fd-97bc-56e42ad7f733, to_id: 88cbb5de-7cd0-4a00-a14e-e893267afdde}\n",
      "INFO:root:Reading Report {a216498d-1d4c-4555-a6a5-c62f38300e74}.\n",
      "INFO:root:Adding Stix-Entity {436c909f-f074-4027-bbc0-99b303679ebb} to Report {a216498d-1d4c-4555-a6a5-c62f38300e74}\n",
      "C:\\ProgramData\\Anaconda3\\lib\\site-packages\\ipykernel_launcher.py:300: DeprecationWarning: Call to deprecated method get_stix_domain_entity. (Replaced by the StixDomainEntity class in pycti) -- Deprecated since version 2.1.0.\n",
      "INFO:root:Reading Stix-Domain-Entity {f41ae5f8-8d91-4057-ad95-b072d3ae8c29}.\n",
      "C:\\ProgramData\\Anaconda3\\lib\\site-packages\\ipykernel_launcher.py:303: DeprecationWarning: Call to deprecated method get_stix_domain_entity. (Replaced by the StixDomainEntity class in pycti) -- Deprecated since version 2.1.0.\n",
      "INFO:root:Reading Stix-Domain-Entity {88cbb5de-7cd0-4a00-a14e-e893267afdde}.\n"
     ]
    },
    {
     "name": "stdout",
     "output_type": "stream",
     "text": [
      "f41ae5f8-8d91-4057-ad95-b072d3ae8c29\n",
      "88cbb5de-7cd0-4a00-a14e-e893267afdde\n"
     ]
    },
    {
     "name": "stderr",
     "output_type": "stream",
     "text": [
      "INFO:root:Listing stix_relations with {type: indicates, from_id: f41ae5f8-8d91-4057-ad95-b072d3ae8c29, to_id: 88cbb5de-7cd0-4a00-a14e-e893267afdde}\n",
      "INFO:root:Reading Report {a216498d-1d4c-4555-a6a5-c62f38300e74}.\n",
      "INFO:root:Adding Stix-Entity {2a1b182e-a9ab-4066-a1af-e3c1055d6ec0} to Report {a216498d-1d4c-4555-a6a5-c62f38300e74}\n",
      "C:\\ProgramData\\Anaconda3\\lib\\site-packages\\ipykernel_launcher.py:300: DeprecationWarning: Call to deprecated method get_stix_domain_entity. (Replaced by the StixDomainEntity class in pycti) -- Deprecated since version 2.1.0.\n",
      "INFO:root:Reading Stix-Domain-Entity {c8aec087-6e47-4e5e-afb9-eb010c1ccf1c}.\n",
      "C:\\ProgramData\\Anaconda3\\lib\\site-packages\\ipykernel_launcher.py:303: DeprecationWarning: Call to deprecated method get_stix_domain_entity. (Replaced by the StixDomainEntity class in pycti) -- Deprecated since version 2.1.0.\n",
      "INFO:root:Reading Stix-Domain-Entity {88cbb5de-7cd0-4a00-a14e-e893267afdde}.\n"
     ]
    },
    {
     "name": "stdout",
     "output_type": "stream",
     "text": [
      "c8aec087-6e47-4e5e-afb9-eb010c1ccf1c\n",
      "88cbb5de-7cd0-4a00-a14e-e893267afdde\n"
     ]
    },
    {
     "name": "stderr",
     "output_type": "stream",
     "text": [
      "INFO:root:Listing stix_relations with {type: indicates, from_id: c8aec087-6e47-4e5e-afb9-eb010c1ccf1c, to_id: 88cbb5de-7cd0-4a00-a14e-e893267afdde}\n",
      "INFO:root:Reading Report {a216498d-1d4c-4555-a6a5-c62f38300e74}.\n",
      "INFO:root:Adding Stix-Entity {982afaee-69ae-4c67-8ac4-4535b661facc} to Report {a216498d-1d4c-4555-a6a5-c62f38300e74}\n",
      "C:\\ProgramData\\Anaconda3\\lib\\site-packages\\ipykernel_launcher.py:300: DeprecationWarning: Call to deprecated method get_stix_domain_entity. (Replaced by the StixDomainEntity class in pycti) -- Deprecated since version 2.1.0.\n",
      "INFO:root:Reading Stix-Domain-Entity {0948691d-1e31-4b13-8041-b512bdb5296e}.\n",
      "C:\\ProgramData\\Anaconda3\\lib\\site-packages\\ipykernel_launcher.py:303: DeprecationWarning: Call to deprecated method get_stix_domain_entity. (Replaced by the StixDomainEntity class in pycti) -- Deprecated since version 2.1.0.\n",
      "INFO:root:Reading Stix-Domain-Entity {88cbb5de-7cd0-4a00-a14e-e893267afdde}.\n"
     ]
    },
    {
     "name": "stdout",
     "output_type": "stream",
     "text": [
      "0948691d-1e31-4b13-8041-b512bdb5296e\n",
      "88cbb5de-7cd0-4a00-a14e-e893267afdde\n"
     ]
    },
    {
     "name": "stderr",
     "output_type": "stream",
     "text": [
      "INFO:root:Listing stix_relations with {type: indicates, from_id: 0948691d-1e31-4b13-8041-b512bdb5296e, to_id: 88cbb5de-7cd0-4a00-a14e-e893267afdde}\n",
      "INFO:root:Reading Report {a216498d-1d4c-4555-a6a5-c62f38300e74}.\n",
      "INFO:root:Adding Stix-Entity {5d1d3079-0022-4a9c-a7ba-51c62ac81ce5} to Report {a216498d-1d4c-4555-a6a5-c62f38300e74}\n",
      "C:\\ProgramData\\Anaconda3\\lib\\site-packages\\ipykernel_launcher.py:300: DeprecationWarning: Call to deprecated method get_stix_domain_entity. (Replaced by the StixDomainEntity class in pycti) -- Deprecated since version 2.1.0.\n",
      "INFO:root:Reading Stix-Domain-Entity {1bd1a60e-d3ea-4b84-9783-1f6022554466}.\n",
      "C:\\ProgramData\\Anaconda3\\lib\\site-packages\\ipykernel_launcher.py:303: DeprecationWarning: Call to deprecated method get_stix_domain_entity. (Replaced by the StixDomainEntity class in pycti) -- Deprecated since version 2.1.0.\n",
      "INFO:root:Reading Stix-Domain-Entity {88cbb5de-7cd0-4a00-a14e-e893267afdde}.\n"
     ]
    },
    {
     "name": "stdout",
     "output_type": "stream",
     "text": [
      "1bd1a60e-d3ea-4b84-9783-1f6022554466\n",
      "88cbb5de-7cd0-4a00-a14e-e893267afdde\n"
     ]
    },
    {
     "name": "stderr",
     "output_type": "stream",
     "text": [
      "INFO:root:Listing stix_relations with {type: indicates, from_id: 1bd1a60e-d3ea-4b84-9783-1f6022554466, to_id: 88cbb5de-7cd0-4a00-a14e-e893267afdde}\n",
      "INFO:root:Reading Report {a216498d-1d4c-4555-a6a5-c62f38300e74}.\n",
      "INFO:root:Adding Stix-Entity {49b9aab0-bb75-4cf7-abba-8542425ddccc} to Report {a216498d-1d4c-4555-a6a5-c62f38300e74}\n",
      "C:\\ProgramData\\Anaconda3\\lib\\site-packages\\ipykernel_launcher.py:300: DeprecationWarning: Call to deprecated method get_stix_domain_entity. (Replaced by the StixDomainEntity class in pycti) -- Deprecated since version 2.1.0.\n",
      "INFO:root:Reading Stix-Domain-Entity {c744b11d-776c-47e4-9cff-3c1974644ed3}.\n",
      "C:\\ProgramData\\Anaconda3\\lib\\site-packages\\ipykernel_launcher.py:303: DeprecationWarning: Call to deprecated method get_stix_domain_entity. (Replaced by the StixDomainEntity class in pycti) -- Deprecated since version 2.1.0.\n",
      "INFO:root:Reading Stix-Domain-Entity {88cbb5de-7cd0-4a00-a14e-e893267afdde}.\n"
     ]
    },
    {
     "name": "stdout",
     "output_type": "stream",
     "text": [
      "c744b11d-776c-47e4-9cff-3c1974644ed3\n",
      "88cbb5de-7cd0-4a00-a14e-e893267afdde\n"
     ]
    },
    {
     "name": "stderr",
     "output_type": "stream",
     "text": [
      "INFO:root:Listing stix_relations with {type: indicates, from_id: c744b11d-776c-47e4-9cff-3c1974644ed3, to_id: 88cbb5de-7cd0-4a00-a14e-e893267afdde}\n",
      "INFO:root:Reading Report {a216498d-1d4c-4555-a6a5-c62f38300e74}.\n",
      "INFO:root:Adding Stix-Entity {b1b9deb3-4428-4a3e-b7fa-b91bb8c19edd} to Report {a216498d-1d4c-4555-a6a5-c62f38300e74}\n",
      "C:\\ProgramData\\Anaconda3\\lib\\site-packages\\ipykernel_launcher.py:300: DeprecationWarning: Call to deprecated method get_stix_domain_entity. (Replaced by the StixDomainEntity class in pycti) -- Deprecated since version 2.1.0.\n",
      "INFO:root:Reading Stix-Domain-Entity {9399e6a6-5f58-4e12-b6bc-579e1e7d2c73}.\n",
      "C:\\ProgramData\\Anaconda3\\lib\\site-packages\\ipykernel_launcher.py:303: DeprecationWarning: Call to deprecated method get_stix_domain_entity. (Replaced by the StixDomainEntity class in pycti) -- Deprecated since version 2.1.0.\n",
      "INFO:root:Reading Stix-Domain-Entity {88cbb5de-7cd0-4a00-a14e-e893267afdde}.\n"
     ]
    },
    {
     "name": "stdout",
     "output_type": "stream",
     "text": [
      "9399e6a6-5f58-4e12-b6bc-579e1e7d2c73\n",
      "88cbb5de-7cd0-4a00-a14e-e893267afdde\n"
     ]
    },
    {
     "name": "stderr",
     "output_type": "stream",
     "text": [
      "INFO:root:Listing stix_relations with {type: indicates, from_id: 9399e6a6-5f58-4e12-b6bc-579e1e7d2c73, to_id: 88cbb5de-7cd0-4a00-a14e-e893267afdde}\n",
      "INFO:root:Reading Report {a216498d-1d4c-4555-a6a5-c62f38300e74}.\n",
      "INFO:root:Adding Stix-Entity {e3103b30-296d-43ef-b5ef-f5c17612a77f} to Report {a216498d-1d4c-4555-a6a5-c62f38300e74}\n",
      "C:\\ProgramData\\Anaconda3\\lib\\site-packages\\ipykernel_launcher.py:300: DeprecationWarning: Call to deprecated method get_stix_domain_entity. (Replaced by the StixDomainEntity class in pycti) -- Deprecated since version 2.1.0.\n",
      "INFO:root:Reading Stix-Domain-Entity {0c5337cc-9c44-4275-b109-18726fb25e7e}.\n",
      "C:\\ProgramData\\Anaconda3\\lib\\site-packages\\ipykernel_launcher.py:303: DeprecationWarning: Call to deprecated method get_stix_domain_entity. (Replaced by the StixDomainEntity class in pycti) -- Deprecated since version 2.1.0.\n",
      "INFO:root:Reading Stix-Domain-Entity {88cbb5de-7cd0-4a00-a14e-e893267afdde}.\n"
     ]
    },
    {
     "name": "stdout",
     "output_type": "stream",
     "text": [
      "0c5337cc-9c44-4275-b109-18726fb25e7e\n",
      "88cbb5de-7cd0-4a00-a14e-e893267afdde\n"
     ]
    },
    {
     "name": "stderr",
     "output_type": "stream",
     "text": [
      "INFO:root:Listing stix_relations with {type: indicates, from_id: 0c5337cc-9c44-4275-b109-18726fb25e7e, to_id: 88cbb5de-7cd0-4a00-a14e-e893267afdde}\n",
      "INFO:root:Reading Report {a216498d-1d4c-4555-a6a5-c62f38300e74}.\n",
      "INFO:root:Adding Stix-Entity {a1897713-af55-4f0c-8dd8-85e96f1da120} to Report {a216498d-1d4c-4555-a6a5-c62f38300e74}\n",
      "C:\\ProgramData\\Anaconda3\\lib\\site-packages\\ipykernel_launcher.py:300: DeprecationWarning: Call to deprecated method get_stix_domain_entity. (Replaced by the StixDomainEntity class in pycti) -- Deprecated since version 2.1.0.\n",
      "INFO:root:Reading Stix-Domain-Entity {37158f3e-96a7-4b83-b3df-45d60ab6f975}.\n",
      "C:\\ProgramData\\Anaconda3\\lib\\site-packages\\ipykernel_launcher.py:303: DeprecationWarning: Call to deprecated method get_stix_domain_entity. (Replaced by the StixDomainEntity class in pycti) -- Deprecated since version 2.1.0.\n",
      "INFO:root:Reading Stix-Domain-Entity {88cbb5de-7cd0-4a00-a14e-e893267afdde}.\n"
     ]
    },
    {
     "name": "stdout",
     "output_type": "stream",
     "text": [
      "37158f3e-96a7-4b83-b3df-45d60ab6f975\n",
      "88cbb5de-7cd0-4a00-a14e-e893267afdde\n"
     ]
    },
    {
     "name": "stderr",
     "output_type": "stream",
     "text": [
      "INFO:root:Listing stix_relations with {type: indicates, from_id: 37158f3e-96a7-4b83-b3df-45d60ab6f975, to_id: 88cbb5de-7cd0-4a00-a14e-e893267afdde}\n",
      "INFO:root:Reading Report {a216498d-1d4c-4555-a6a5-c62f38300e74}.\n",
      "INFO:root:Adding Stix-Entity {e5d714fe-5b82-4cff-a748-37319330de23} to Report {a216498d-1d4c-4555-a6a5-c62f38300e74}\n",
      "C:\\ProgramData\\Anaconda3\\lib\\site-packages\\ipykernel_launcher.py:300: DeprecationWarning: Call to deprecated method get_stix_domain_entity. (Replaced by the StixDomainEntity class in pycti) -- Deprecated since version 2.1.0.\n",
      "INFO:root:Reading Stix-Domain-Entity {2727152d-e7a4-4cfb-bd6d-ef3bb5a63578}.\n",
      "C:\\ProgramData\\Anaconda3\\lib\\site-packages\\ipykernel_launcher.py:303: DeprecationWarning: Call to deprecated method get_stix_domain_entity. (Replaced by the StixDomainEntity class in pycti) -- Deprecated since version 2.1.0.\n",
      "INFO:root:Reading Stix-Domain-Entity {88cbb5de-7cd0-4a00-a14e-e893267afdde}.\n"
     ]
    },
    {
     "name": "stdout",
     "output_type": "stream",
     "text": [
      "2727152d-e7a4-4cfb-bd6d-ef3bb5a63578\n",
      "88cbb5de-7cd0-4a00-a14e-e893267afdde\n"
     ]
    },
    {
     "name": "stderr",
     "output_type": "stream",
     "text": [
      "INFO:root:Listing stix_relations with {type: indicates, from_id: 2727152d-e7a4-4cfb-bd6d-ef3bb5a63578, to_id: 88cbb5de-7cd0-4a00-a14e-e893267afdde}\n",
      "INFO:root:Reading Report {a216498d-1d4c-4555-a6a5-c62f38300e74}.\n",
      "INFO:root:Adding Stix-Entity {fa15c1f6-65fe-4b5d-9eda-fcb4ed526605} to Report {a216498d-1d4c-4555-a6a5-c62f38300e74}\n",
      "C:\\ProgramData\\Anaconda3\\lib\\site-packages\\ipykernel_launcher.py:300: DeprecationWarning: Call to deprecated method get_stix_domain_entity. (Replaced by the StixDomainEntity class in pycti) -- Deprecated since version 2.1.0.\n",
      "INFO:root:Reading Stix-Domain-Entity {8525df65-0459-45c0-819a-2195e6fe2c5e}.\n",
      "C:\\ProgramData\\Anaconda3\\lib\\site-packages\\ipykernel_launcher.py:303: DeprecationWarning: Call to deprecated method get_stix_domain_entity. (Replaced by the StixDomainEntity class in pycti) -- Deprecated since version 2.1.0.\n",
      "INFO:root:Reading Stix-Domain-Entity {88cbb5de-7cd0-4a00-a14e-e893267afdde}.\n"
     ]
    },
    {
     "name": "stdout",
     "output_type": "stream",
     "text": [
      "8525df65-0459-45c0-819a-2195e6fe2c5e\n",
      "88cbb5de-7cd0-4a00-a14e-e893267afdde\n"
     ]
    },
    {
     "name": "stderr",
     "output_type": "stream",
     "text": [
      "INFO:root:Listing stix_relations with {type: indicates, from_id: 8525df65-0459-45c0-819a-2195e6fe2c5e, to_id: 88cbb5de-7cd0-4a00-a14e-e893267afdde}\n",
      "INFO:root:Reading Report {a216498d-1d4c-4555-a6a5-c62f38300e74}.\n",
      "INFO:root:Adding Stix-Entity {b412d573-2b73-4cd0-bd59-7e98a582f472} to Report {a216498d-1d4c-4555-a6a5-c62f38300e74}\n",
      "C:\\ProgramData\\Anaconda3\\lib\\site-packages\\ipykernel_launcher.py:300: DeprecationWarning: Call to deprecated method get_stix_domain_entity. (Replaced by the StixDomainEntity class in pycti) -- Deprecated since version 2.1.0.\n",
      "INFO:root:Reading Stix-Domain-Entity {88e04981-34f6-4f8f-9a97-ec3cf28f013a}.\n",
      "C:\\ProgramData\\Anaconda3\\lib\\site-packages\\ipykernel_launcher.py:303: DeprecationWarning: Call to deprecated method get_stix_domain_entity. (Replaced by the StixDomainEntity class in pycti) -- Deprecated since version 2.1.0.\n",
      "INFO:root:Reading Stix-Domain-Entity {88cbb5de-7cd0-4a00-a14e-e893267afdde}.\n"
     ]
    },
    {
     "name": "stdout",
     "output_type": "stream",
     "text": [
      "88e04981-34f6-4f8f-9a97-ec3cf28f013a\n",
      "88cbb5de-7cd0-4a00-a14e-e893267afdde\n"
     ]
    },
    {
     "name": "stderr",
     "output_type": "stream",
     "text": [
      "INFO:root:Listing stix_relations with {type: indicates, from_id: 88e04981-34f6-4f8f-9a97-ec3cf28f013a, to_id: 88cbb5de-7cd0-4a00-a14e-e893267afdde}\n",
      "INFO:root:Reading Report {a216498d-1d4c-4555-a6a5-c62f38300e74}.\n",
      "INFO:root:Adding Stix-Entity {0eb98753-a122-4c5b-8c5c-b8f9de5b5e39} to Report {a216498d-1d4c-4555-a6a5-c62f38300e74}\n",
      "C:\\ProgramData\\Anaconda3\\lib\\site-packages\\ipykernel_launcher.py:300: DeprecationWarning: Call to deprecated method get_stix_domain_entity. (Replaced by the StixDomainEntity class in pycti) -- Deprecated since version 2.1.0.\n",
      "INFO:root:Reading Stix-Domain-Entity {31c7a2bb-436d-4ed3-b96e-daa232f35b24}.\n",
      "C:\\ProgramData\\Anaconda3\\lib\\site-packages\\ipykernel_launcher.py:303: DeprecationWarning: Call to deprecated method get_stix_domain_entity. (Replaced by the StixDomainEntity class in pycti) -- Deprecated since version 2.1.0.\n",
      "INFO:root:Reading Stix-Domain-Entity {88cbb5de-7cd0-4a00-a14e-e893267afdde}.\n"
     ]
    },
    {
     "name": "stdout",
     "output_type": "stream",
     "text": [
      "31c7a2bb-436d-4ed3-b96e-daa232f35b24\n",
      "88cbb5de-7cd0-4a00-a14e-e893267afdde\n"
     ]
    },
    {
     "name": "stderr",
     "output_type": "stream",
     "text": [
      "INFO:root:Listing stix_relations with {type: indicates, from_id: 31c7a2bb-436d-4ed3-b96e-daa232f35b24, to_id: 88cbb5de-7cd0-4a00-a14e-e893267afdde}\n",
      "INFO:root:Reading Report {a216498d-1d4c-4555-a6a5-c62f38300e74}.\n",
      "INFO:root:Adding Stix-Entity {87804fa2-4b9a-496d-a106-2e126ad3a57e} to Report {a216498d-1d4c-4555-a6a5-c62f38300e74}\n",
      "C:\\ProgramData\\Anaconda3\\lib\\site-packages\\ipykernel_launcher.py:300: DeprecationWarning: Call to deprecated method get_stix_domain_entity. (Replaced by the StixDomainEntity class in pycti) -- Deprecated since version 2.1.0.\n",
      "INFO:root:Reading Stix-Domain-Entity {096cae42-ba77-45d9-8388-51655df64d90}.\n",
      "C:\\ProgramData\\Anaconda3\\lib\\site-packages\\ipykernel_launcher.py:303: DeprecationWarning: Call to deprecated method get_stix_domain_entity. (Replaced by the StixDomainEntity class in pycti) -- Deprecated since version 2.1.0.\n",
      "INFO:root:Reading Stix-Domain-Entity {88cbb5de-7cd0-4a00-a14e-e893267afdde}.\n"
     ]
    },
    {
     "name": "stdout",
     "output_type": "stream",
     "text": [
      "096cae42-ba77-45d9-8388-51655df64d90\n",
      "88cbb5de-7cd0-4a00-a14e-e893267afdde\n"
     ]
    },
    {
     "name": "stderr",
     "output_type": "stream",
     "text": [
      "INFO:root:Listing stix_relations with {type: indicates, from_id: 096cae42-ba77-45d9-8388-51655df64d90, to_id: 88cbb5de-7cd0-4a00-a14e-e893267afdde}\n",
      "INFO:root:Reading Report {a216498d-1d4c-4555-a6a5-c62f38300e74}.\n",
      "INFO:root:Adding Stix-Entity {9db63cd8-88a7-497d-afd5-251718f9257b} to Report {a216498d-1d4c-4555-a6a5-c62f38300e74}\n",
      "C:\\ProgramData\\Anaconda3\\lib\\site-packages\\ipykernel_launcher.py:300: DeprecationWarning: Call to deprecated method get_stix_domain_entity. (Replaced by the StixDomainEntity class in pycti) -- Deprecated since version 2.1.0.\n",
      "INFO:root:Reading Stix-Domain-Entity {096cae42-ba77-45d9-8388-51655df64d90}.\n",
      "C:\\ProgramData\\Anaconda3\\lib\\site-packages\\ipykernel_launcher.py:303: DeprecationWarning: Call to deprecated method get_stix_domain_entity. (Replaced by the StixDomainEntity class in pycti) -- Deprecated since version 2.1.0.\n",
      "INFO:root:Reading Stix-Domain-Entity {88cbb5de-7cd0-4a00-a14e-e893267afdde}.\n"
     ]
    },
    {
     "name": "stdout",
     "output_type": "stream",
     "text": [
      "096cae42-ba77-45d9-8388-51655df64d90\n",
      "88cbb5de-7cd0-4a00-a14e-e893267afdde\n"
     ]
    },
    {
     "name": "stderr",
     "output_type": "stream",
     "text": [
      "INFO:root:Listing stix_relations with {type: indicates, from_id: 096cae42-ba77-45d9-8388-51655df64d90, to_id: 88cbb5de-7cd0-4a00-a14e-e893267afdde}\n",
      "INFO:root:Reading Report {a216498d-1d4c-4555-a6a5-c62f38300e74}.\n",
      "INFO:root:Adding Stix-Entity {9db63cd8-88a7-497d-afd5-251718f9257b} to Report {a216498d-1d4c-4555-a6a5-c62f38300e74}\n",
      "ERROR:root:A database error has occured!\n",
      "C:\\ProgramData\\Anaconda3\\lib\\site-packages\\ipykernel_launcher.py:300: DeprecationWarning: Call to deprecated method get_stix_domain_entity. (Replaced by the StixDomainEntity class in pycti) -- Deprecated since version 2.1.0.\n",
      "INFO:root:Reading Stix-Domain-Entity {1dd753c6-829d-42f9-8dfc-4a192aa69459}.\n",
      "C:\\ProgramData\\Anaconda3\\lib\\site-packages\\ipykernel_launcher.py:303: DeprecationWarning: Call to deprecated method get_stix_domain_entity. (Replaced by the StixDomainEntity class in pycti) -- Deprecated since version 2.1.0.\n",
      "INFO:root:Reading Stix-Domain-Entity {88cbb5de-7cd0-4a00-a14e-e893267afdde}.\n"
     ]
    },
    {
     "name": "stdout",
     "output_type": "stream",
     "text": [
      "1dd753c6-829d-42f9-8dfc-4a192aa69459\n",
      "88cbb5de-7cd0-4a00-a14e-e893267afdde\n"
     ]
    },
    {
     "name": "stderr",
     "output_type": "stream",
     "text": [
      "INFO:root:Listing stix_relations with {type: indicates, from_id: 1dd753c6-829d-42f9-8dfc-4a192aa69459, to_id: 88cbb5de-7cd0-4a00-a14e-e893267afdde}\n",
      "INFO:root:Reading Report {a216498d-1d4c-4555-a6a5-c62f38300e74}.\n",
      "INFO:root:Adding Stix-Entity {c7ec5469-f484-41b7-9929-580353e572a3} to Report {a216498d-1d4c-4555-a6a5-c62f38300e74}\n",
      "C:\\ProgramData\\Anaconda3\\lib\\site-packages\\ipykernel_launcher.py:300: DeprecationWarning: Call to deprecated method get_stix_domain_entity. (Replaced by the StixDomainEntity class in pycti) -- Deprecated since version 2.1.0.\n",
      "INFO:root:Reading Stix-Domain-Entity {1dd753c6-829d-42f9-8dfc-4a192aa69459}.\n",
      "C:\\ProgramData\\Anaconda3\\lib\\site-packages\\ipykernel_launcher.py:303: DeprecationWarning: Call to deprecated method get_stix_domain_entity. (Replaced by the StixDomainEntity class in pycti) -- Deprecated since version 2.1.0.\n",
      "INFO:root:Reading Stix-Domain-Entity {88cbb5de-7cd0-4a00-a14e-e893267afdde}.\n"
     ]
    },
    {
     "name": "stdout",
     "output_type": "stream",
     "text": [
      "1dd753c6-829d-42f9-8dfc-4a192aa69459\n",
      "88cbb5de-7cd0-4a00-a14e-e893267afdde\n"
     ]
    },
    {
     "name": "stderr",
     "output_type": "stream",
     "text": [
      "INFO:root:Listing stix_relations with {type: indicates, from_id: 1dd753c6-829d-42f9-8dfc-4a192aa69459, to_id: 88cbb5de-7cd0-4a00-a14e-e893267afdde}\n",
      "INFO:root:Reading Report {a216498d-1d4c-4555-a6a5-c62f38300e74}.\n",
      "INFO:root:Adding Stix-Entity {c7ec5469-f484-41b7-9929-580353e572a3} to Report {a216498d-1d4c-4555-a6a5-c62f38300e74}\n",
      "ERROR:root:A database error has occured!\n",
      "C:\\ProgramData\\Anaconda3\\lib\\site-packages\\ipykernel_launcher.py:300: DeprecationWarning: Call to deprecated method get_stix_domain_entity. (Replaced by the StixDomainEntity class in pycti) -- Deprecated since version 2.1.0.\n",
      "INFO:root:Reading Stix-Domain-Entity {31c7a2bb-436d-4ed3-b96e-daa232f35b24}.\n",
      "C:\\ProgramData\\Anaconda3\\lib\\site-packages\\ipykernel_launcher.py:303: DeprecationWarning: Call to deprecated method get_stix_domain_entity. (Replaced by the StixDomainEntity class in pycti) -- Deprecated since version 2.1.0.\n",
      "INFO:root:Reading Stix-Domain-Entity {88cbb5de-7cd0-4a00-a14e-e893267afdde}.\n"
     ]
    },
    {
     "name": "stdout",
     "output_type": "stream",
     "text": [
      "31c7a2bb-436d-4ed3-b96e-daa232f35b24\n",
      "88cbb5de-7cd0-4a00-a14e-e893267afdde\n"
     ]
    },
    {
     "name": "stderr",
     "output_type": "stream",
     "text": [
      "INFO:root:Listing stix_relations with {type: indicates, from_id: 31c7a2bb-436d-4ed3-b96e-daa232f35b24, to_id: 88cbb5de-7cd0-4a00-a14e-e893267afdde}\n",
      "INFO:root:Reading Report {a216498d-1d4c-4555-a6a5-c62f38300e74}.\n",
      "INFO:root:Adding Stix-Entity {87804fa2-4b9a-496d-a106-2e126ad3a57e} to Report {a216498d-1d4c-4555-a6a5-c62f38300e74}\n",
      "ERROR:root:A database error has occured!\n",
      "C:\\ProgramData\\Anaconda3\\lib\\site-packages\\ipykernel_launcher.py:300: DeprecationWarning: Call to deprecated method get_stix_domain_entity. (Replaced by the StixDomainEntity class in pycti) -- Deprecated since version 2.1.0.\n",
      "INFO:root:Reading Stix-Domain-Entity {615b8c34-efc9-4787-90bc-4c5e6e4439fe}.\n",
      "C:\\ProgramData\\Anaconda3\\lib\\site-packages\\ipykernel_launcher.py:303: DeprecationWarning: Call to deprecated method get_stix_domain_entity. (Replaced by the StixDomainEntity class in pycti) -- Deprecated since version 2.1.0.\n",
      "INFO:root:Reading Stix-Domain-Entity {88cbb5de-7cd0-4a00-a14e-e893267afdde}.\n"
     ]
    },
    {
     "name": "stdout",
     "output_type": "stream",
     "text": [
      "615b8c34-efc9-4787-90bc-4c5e6e4439fe\n",
      "88cbb5de-7cd0-4a00-a14e-e893267afdde\n"
     ]
    },
    {
     "name": "stderr",
     "output_type": "stream",
     "text": [
      "INFO:root:Listing stix_relations with {type: indicates, from_id: 615b8c34-efc9-4787-90bc-4c5e6e4439fe, to_id: 88cbb5de-7cd0-4a00-a14e-e893267afdde}\n",
      "INFO:root:Reading Report {a216498d-1d4c-4555-a6a5-c62f38300e74}.\n",
      "INFO:root:Adding Stix-Entity {8c2a70f0-ea6e-4fcb-af30-d6817f7c0dc2} to Report {a216498d-1d4c-4555-a6a5-c62f38300e74}\n",
      "C:\\ProgramData\\Anaconda3\\lib\\site-packages\\ipykernel_launcher.py:300: DeprecationWarning: Call to deprecated method get_stix_domain_entity. (Replaced by the StixDomainEntity class in pycti) -- Deprecated since version 2.1.0.\n",
      "INFO:root:Reading Stix-Domain-Entity {492a45d4-ae59-462e-82a8-29c7b93a6b74}.\n",
      "C:\\ProgramData\\Anaconda3\\lib\\site-packages\\ipykernel_launcher.py:303: DeprecationWarning: Call to deprecated method get_stix_domain_entity. (Replaced by the StixDomainEntity class in pycti) -- Deprecated since version 2.1.0.\n",
      "INFO:root:Reading Stix-Domain-Entity {88cbb5de-7cd0-4a00-a14e-e893267afdde}.\n"
     ]
    },
    {
     "name": "stdout",
     "output_type": "stream",
     "text": [
      "492a45d4-ae59-462e-82a8-29c7b93a6b74\n",
      "88cbb5de-7cd0-4a00-a14e-e893267afdde\n"
     ]
    },
    {
     "name": "stderr",
     "output_type": "stream",
     "text": [
      "INFO:root:Listing stix_relations with {type: indicates, from_id: 492a45d4-ae59-462e-82a8-29c7b93a6b74, to_id: 88cbb5de-7cd0-4a00-a14e-e893267afdde}\n",
      "INFO:root:Reading Report {a216498d-1d4c-4555-a6a5-c62f38300e74}.\n",
      "INFO:root:Adding Stix-Entity {37050a9e-b4ea-4271-a0f9-e2eba8eda192} to Report {a216498d-1d4c-4555-a6a5-c62f38300e74}\n",
      "C:\\ProgramData\\Anaconda3\\lib\\site-packages\\ipykernel_launcher.py:300: DeprecationWarning: Call to deprecated method get_stix_domain_entity. (Replaced by the StixDomainEntity class in pycti) -- Deprecated since version 2.1.0.\n",
      "INFO:root:Reading Stix-Domain-Entity {5e70cf13-b062-4b35-a097-9f6fdfd514c9}.\n",
      "C:\\ProgramData\\Anaconda3\\lib\\site-packages\\ipykernel_launcher.py:303: DeprecationWarning: Call to deprecated method get_stix_domain_entity. (Replaced by the StixDomainEntity class in pycti) -- Deprecated since version 2.1.0.\n",
      "INFO:root:Reading Stix-Domain-Entity {88cbb5de-7cd0-4a00-a14e-e893267afdde}.\n"
     ]
    },
    {
     "name": "stdout",
     "output_type": "stream",
     "text": [
      "5e70cf13-b062-4b35-a097-9f6fdfd514c9\n",
      "88cbb5de-7cd0-4a00-a14e-e893267afdde\n"
     ]
    },
    {
     "name": "stderr",
     "output_type": "stream",
     "text": [
      "INFO:root:Listing stix_relations with {type: indicates, from_id: 5e70cf13-b062-4b35-a097-9f6fdfd514c9, to_id: 88cbb5de-7cd0-4a00-a14e-e893267afdde}\n",
      "INFO:root:Reading Report {a216498d-1d4c-4555-a6a5-c62f38300e74}.\n",
      "INFO:root:Adding Stix-Entity {95ad9550-e564-454b-94a6-18a48cb7b15e} to Report {a216498d-1d4c-4555-a6a5-c62f38300e74}\n",
      "C:\\ProgramData\\Anaconda3\\lib\\site-packages\\ipykernel_launcher.py:300: DeprecationWarning: Call to deprecated method get_stix_domain_entity. (Replaced by the StixDomainEntity class in pycti) -- Deprecated since version 2.1.0.\n",
      "INFO:root:Reading Stix-Domain-Entity {00ad334a-d1d7-4661-a569-24cee0809afc}.\n",
      "C:\\ProgramData\\Anaconda3\\lib\\site-packages\\ipykernel_launcher.py:303: DeprecationWarning: Call to deprecated method get_stix_domain_entity. (Replaced by the StixDomainEntity class in pycti) -- Deprecated since version 2.1.0.\n",
      "INFO:root:Reading Stix-Domain-Entity {88cbb5de-7cd0-4a00-a14e-e893267afdde}.\n"
     ]
    },
    {
     "name": "stdout",
     "output_type": "stream",
     "text": [
      "00ad334a-d1d7-4661-a569-24cee0809afc\n",
      "88cbb5de-7cd0-4a00-a14e-e893267afdde\n"
     ]
    },
    {
     "name": "stderr",
     "output_type": "stream",
     "text": [
      "INFO:root:Listing stix_relations with {type: indicates, from_id: 00ad334a-d1d7-4661-a569-24cee0809afc, to_id: 88cbb5de-7cd0-4a00-a14e-e893267afdde}\n",
      "INFO:root:Reading Report {a216498d-1d4c-4555-a6a5-c62f38300e74}.\n",
      "INFO:root:Adding Stix-Entity {259b2d05-5f12-4bc5-a1e6-6bacfae7cec2} to Report {a216498d-1d4c-4555-a6a5-c62f38300e74}\n",
      "C:\\ProgramData\\Anaconda3\\lib\\site-packages\\ipykernel_launcher.py:300: DeprecationWarning: Call to deprecated method get_stix_domain_entity. (Replaced by the StixDomainEntity class in pycti) -- Deprecated since version 2.1.0.\n",
      "INFO:root:Reading Stix-Domain-Entity {56da9235-700f-403d-ba63-ae76f4f358fa}.\n",
      "C:\\ProgramData\\Anaconda3\\lib\\site-packages\\ipykernel_launcher.py:303: DeprecationWarning: Call to deprecated method get_stix_domain_entity. (Replaced by the StixDomainEntity class in pycti) -- Deprecated since version 2.1.0.\n",
      "INFO:root:Reading Stix-Domain-Entity {88cbb5de-7cd0-4a00-a14e-e893267afdde}.\n"
     ]
    },
    {
     "name": "stdout",
     "output_type": "stream",
     "text": [
      "56da9235-700f-403d-ba63-ae76f4f358fa\n",
      "88cbb5de-7cd0-4a00-a14e-e893267afdde\n"
     ]
    },
    {
     "name": "stderr",
     "output_type": "stream",
     "text": [
      "INFO:root:Listing stix_relations with {type: indicates, from_id: 56da9235-700f-403d-ba63-ae76f4f358fa, to_id: 88cbb5de-7cd0-4a00-a14e-e893267afdde}\n",
      "INFO:root:Reading Report {a216498d-1d4c-4555-a6a5-c62f38300e74}.\n",
      "INFO:root:Adding Stix-Entity {8df5238d-a4f7-43d1-8c4d-8f99a4806c35} to Report {a216498d-1d4c-4555-a6a5-c62f38300e74}\n",
      "C:\\ProgramData\\Anaconda3\\lib\\site-packages\\ipykernel_launcher.py:300: DeprecationWarning: Call to deprecated method get_stix_domain_entity. (Replaced by the StixDomainEntity class in pycti) -- Deprecated since version 2.1.0.\n",
      "INFO:root:Reading Stix-Domain-Entity {653b4fa5-4e7e-4ceb-b5ff-0d1c4b9ca53d}.\n",
      "C:\\ProgramData\\Anaconda3\\lib\\site-packages\\ipykernel_launcher.py:303: DeprecationWarning: Call to deprecated method get_stix_domain_entity. (Replaced by the StixDomainEntity class in pycti) -- Deprecated since version 2.1.0.\n",
      "INFO:root:Reading Stix-Domain-Entity {88cbb5de-7cd0-4a00-a14e-e893267afdde}.\n"
     ]
    },
    {
     "name": "stdout",
     "output_type": "stream",
     "text": [
      "653b4fa5-4e7e-4ceb-b5ff-0d1c4b9ca53d\n",
      "88cbb5de-7cd0-4a00-a14e-e893267afdde\n"
     ]
    },
    {
     "name": "stderr",
     "output_type": "stream",
     "text": [
      "INFO:root:Listing stix_relations with {type: indicates, from_id: 653b4fa5-4e7e-4ceb-b5ff-0d1c4b9ca53d, to_id: 88cbb5de-7cd0-4a00-a14e-e893267afdde}\n",
      "INFO:root:Reading Report {a216498d-1d4c-4555-a6a5-c62f38300e74}.\n",
      "INFO:root:Adding Stix-Entity {6e2e830f-43ee-4525-93f4-ece77775e2c6} to Report {a216498d-1d4c-4555-a6a5-c62f38300e74}\n",
      "C:\\ProgramData\\Anaconda3\\lib\\site-packages\\ipykernel_launcher.py:300: DeprecationWarning: Call to deprecated method get_stix_domain_entity. (Replaced by the StixDomainEntity class in pycti) -- Deprecated since version 2.1.0.\n",
      "INFO:root:Reading Stix-Domain-Entity {8ea40372-b7c1-42d9-b881-c4cb756d8988}.\n",
      "C:\\ProgramData\\Anaconda3\\lib\\site-packages\\ipykernel_launcher.py:303: DeprecationWarning: Call to deprecated method get_stix_domain_entity. (Replaced by the StixDomainEntity class in pycti) -- Deprecated since version 2.1.0.\n",
      "INFO:root:Reading Stix-Domain-Entity {88cbb5de-7cd0-4a00-a14e-e893267afdde}.\n"
     ]
    },
    {
     "name": "stdout",
     "output_type": "stream",
     "text": [
      "8ea40372-b7c1-42d9-b881-c4cb756d8988\n",
      "88cbb5de-7cd0-4a00-a14e-e893267afdde\n"
     ]
    },
    {
     "name": "stderr",
     "output_type": "stream",
     "text": [
      "INFO:root:Listing stix_relations with {type: indicates, from_id: 8ea40372-b7c1-42d9-b881-c4cb756d8988, to_id: 88cbb5de-7cd0-4a00-a14e-e893267afdde}\n",
      "INFO:root:Reading Report {a216498d-1d4c-4555-a6a5-c62f38300e74}.\n",
      "INFO:root:Adding Stix-Entity {46f814e0-5ef7-4195-80a1-416548fca456} to Report {a216498d-1d4c-4555-a6a5-c62f38300e74}\n",
      "C:\\ProgramData\\Anaconda3\\lib\\site-packages\\ipykernel_launcher.py:300: DeprecationWarning: Call to deprecated method get_stix_domain_entity. (Replaced by the StixDomainEntity class in pycti) -- Deprecated since version 2.1.0.\n",
      "INFO:root:Reading Stix-Domain-Entity {dd7737da-add1-4a84-bd1f-66159c019666}.\n",
      "C:\\ProgramData\\Anaconda3\\lib\\site-packages\\ipykernel_launcher.py:303: DeprecationWarning: Call to deprecated method get_stix_domain_entity. (Replaced by the StixDomainEntity class in pycti) -- Deprecated since version 2.1.0.\n",
      "INFO:root:Reading Stix-Domain-Entity {88cbb5de-7cd0-4a00-a14e-e893267afdde}.\n"
     ]
    },
    {
     "name": "stdout",
     "output_type": "stream",
     "text": [
      "dd7737da-add1-4a84-bd1f-66159c019666\n",
      "88cbb5de-7cd0-4a00-a14e-e893267afdde\n"
     ]
    },
    {
     "name": "stderr",
     "output_type": "stream",
     "text": [
      "INFO:root:Listing stix_relations with {type: indicates, from_id: dd7737da-add1-4a84-bd1f-66159c019666, to_id: 88cbb5de-7cd0-4a00-a14e-e893267afdde}\n",
      "INFO:root:Reading Report {a216498d-1d4c-4555-a6a5-c62f38300e74}.\n",
      "INFO:root:Adding Stix-Entity {d9569f77-ad6c-4ac6-9b35-2b7c0174beff} to Report {a216498d-1d4c-4555-a6a5-c62f38300e74}\n",
      "C:\\ProgramData\\Anaconda3\\lib\\site-packages\\ipykernel_launcher.py:300: DeprecationWarning: Call to deprecated method get_stix_domain_entity. (Replaced by the StixDomainEntity class in pycti) -- Deprecated since version 2.1.0.\n",
      "INFO:root:Reading Stix-Domain-Entity {b805996a-7651-4c97-8de1-4d5da1d841c3}.\n",
      "C:\\ProgramData\\Anaconda3\\lib\\site-packages\\ipykernel_launcher.py:303: DeprecationWarning: Call to deprecated method get_stix_domain_entity. (Replaced by the StixDomainEntity class in pycti) -- Deprecated since version 2.1.0.\n",
      "INFO:root:Reading Stix-Domain-Entity {88cbb5de-7cd0-4a00-a14e-e893267afdde}.\n"
     ]
    },
    {
     "name": "stdout",
     "output_type": "stream",
     "text": [
      "b805996a-7651-4c97-8de1-4d5da1d841c3\n",
      "88cbb5de-7cd0-4a00-a14e-e893267afdde\n"
     ]
    },
    {
     "name": "stderr",
     "output_type": "stream",
     "text": [
      "INFO:root:Listing stix_relations with {type: indicates, from_id: b805996a-7651-4c97-8de1-4d5da1d841c3, to_id: 88cbb5de-7cd0-4a00-a14e-e893267afdde}\n",
      "INFO:root:Reading Report {a216498d-1d4c-4555-a6a5-c62f38300e74}.\n",
      "INFO:root:Adding Stix-Entity {53d55e67-dc40-48a1-afe4-3f283e6e6d64} to Report {a216498d-1d4c-4555-a6a5-c62f38300e74}\n",
      "C:\\ProgramData\\Anaconda3\\lib\\site-packages\\ipykernel_launcher.py:300: DeprecationWarning: Call to deprecated method get_stix_domain_entity. (Replaced by the StixDomainEntity class in pycti) -- Deprecated since version 2.1.0.\n",
      "INFO:root:Reading Stix-Domain-Entity {3346bf74-4e40-4f2e-b753-cead1d12f0cf}.\n",
      "C:\\ProgramData\\Anaconda3\\lib\\site-packages\\ipykernel_launcher.py:303: DeprecationWarning: Call to deprecated method get_stix_domain_entity. (Replaced by the StixDomainEntity class in pycti) -- Deprecated since version 2.1.0.\n",
      "INFO:root:Reading Stix-Domain-Entity {88cbb5de-7cd0-4a00-a14e-e893267afdde}.\n"
     ]
    },
    {
     "name": "stdout",
     "output_type": "stream",
     "text": [
      "3346bf74-4e40-4f2e-b753-cead1d12f0cf\n",
      "88cbb5de-7cd0-4a00-a14e-e893267afdde\n"
     ]
    },
    {
     "name": "stderr",
     "output_type": "stream",
     "text": [
      "INFO:root:Listing stix_relations with {type: indicates, from_id: 3346bf74-4e40-4f2e-b753-cead1d12f0cf, to_id: 88cbb5de-7cd0-4a00-a14e-e893267afdde}\n",
      "INFO:root:Reading Report {a216498d-1d4c-4555-a6a5-c62f38300e74}.\n",
      "INFO:root:Adding Stix-Entity {985d7478-5473-4c4d-801d-b79a86c19e0f} to Report {a216498d-1d4c-4555-a6a5-c62f38300e74}\n",
      "C:\\ProgramData\\Anaconda3\\lib\\site-packages\\ipykernel_launcher.py:300: DeprecationWarning: Call to deprecated method get_stix_domain_entity. (Replaced by the StixDomainEntity class in pycti) -- Deprecated since version 2.1.0.\n",
      "INFO:root:Reading Stix-Domain-Entity {3f43c2b7-3df0-4080-a58d-235cfebef2bf}.\n",
      "C:\\ProgramData\\Anaconda3\\lib\\site-packages\\ipykernel_launcher.py:303: DeprecationWarning: Call to deprecated method get_stix_domain_entity. (Replaced by the StixDomainEntity class in pycti) -- Deprecated since version 2.1.0.\n",
      "INFO:root:Reading Stix-Domain-Entity {88cbb5de-7cd0-4a00-a14e-e893267afdde}.\n"
     ]
    },
    {
     "name": "stdout",
     "output_type": "stream",
     "text": [
      "3f43c2b7-3df0-4080-a58d-235cfebef2bf\n",
      "88cbb5de-7cd0-4a00-a14e-e893267afdde\n"
     ]
    },
    {
     "name": "stderr",
     "output_type": "stream",
     "text": [
      "INFO:root:Listing stix_relations with {type: indicates, from_id: 3f43c2b7-3df0-4080-a58d-235cfebef2bf, to_id: 88cbb5de-7cd0-4a00-a14e-e893267afdde}\n",
      "INFO:root:Reading Report {a216498d-1d4c-4555-a6a5-c62f38300e74}.\n",
      "INFO:root:Adding Stix-Entity {ba479305-7d3c-41b9-8bfc-da38abf1da4e} to Report {a216498d-1d4c-4555-a6a5-c62f38300e74}\n",
      "C:\\ProgramData\\Anaconda3\\lib\\site-packages\\ipykernel_launcher.py:300: DeprecationWarning: Call to deprecated method get_stix_domain_entity. (Replaced by the StixDomainEntity class in pycti) -- Deprecated since version 2.1.0.\n",
      "INFO:root:Reading Stix-Domain-Entity {df78e550-327f-4351-bbfe-84762373d51a}.\n",
      "C:\\ProgramData\\Anaconda3\\lib\\site-packages\\ipykernel_launcher.py:303: DeprecationWarning: Call to deprecated method get_stix_domain_entity. (Replaced by the StixDomainEntity class in pycti) -- Deprecated since version 2.1.0.\n",
      "INFO:root:Reading Stix-Domain-Entity {88cbb5de-7cd0-4a00-a14e-e893267afdde}.\n"
     ]
    },
    {
     "name": "stdout",
     "output_type": "stream",
     "text": [
      "df78e550-327f-4351-bbfe-84762373d51a\n",
      "88cbb5de-7cd0-4a00-a14e-e893267afdde\n"
     ]
    },
    {
     "name": "stderr",
     "output_type": "stream",
     "text": [
      "INFO:root:Listing stix_relations with {type: indicates, from_id: df78e550-327f-4351-bbfe-84762373d51a, to_id: 88cbb5de-7cd0-4a00-a14e-e893267afdde}\n",
      "INFO:root:Reading Report {a216498d-1d4c-4555-a6a5-c62f38300e74}.\n",
      "INFO:root:Adding Stix-Entity {f52627f7-f06f-400a-8877-ac6beffa143c} to Report {a216498d-1d4c-4555-a6a5-c62f38300e74}\n",
      "C:\\ProgramData\\Anaconda3\\lib\\site-packages\\ipykernel_launcher.py:300: DeprecationWarning: Call to deprecated method get_stix_domain_entity. (Replaced by the StixDomainEntity class in pycti) -- Deprecated since version 2.1.0.\n",
      "INFO:root:Reading Stix-Domain-Entity {84fd12a3-8d1a-4dff-8c43-3c0d7b8dacee}.\n",
      "C:\\ProgramData\\Anaconda3\\lib\\site-packages\\ipykernel_launcher.py:303: DeprecationWarning: Call to deprecated method get_stix_domain_entity. (Replaced by the StixDomainEntity class in pycti) -- Deprecated since version 2.1.0.\n",
      "INFO:root:Reading Stix-Domain-Entity {88cbb5de-7cd0-4a00-a14e-e893267afdde}.\n"
     ]
    },
    {
     "name": "stdout",
     "output_type": "stream",
     "text": [
      "84fd12a3-8d1a-4dff-8c43-3c0d7b8dacee\n",
      "88cbb5de-7cd0-4a00-a14e-e893267afdde\n"
     ]
    },
    {
     "name": "stderr",
     "output_type": "stream",
     "text": [
      "INFO:root:Listing stix_relations with {type: indicates, from_id: 84fd12a3-8d1a-4dff-8c43-3c0d7b8dacee, to_id: 88cbb5de-7cd0-4a00-a14e-e893267afdde}\n",
      "INFO:root:Reading Report {a216498d-1d4c-4555-a6a5-c62f38300e74}.\n",
      "INFO:root:Adding Stix-Entity {9128b177-8434-49ca-baf6-21fe5d4c52b9} to Report {a216498d-1d4c-4555-a6a5-c62f38300e74}\n",
      "C:\\ProgramData\\Anaconda3\\lib\\site-packages\\ipykernel_launcher.py:300: DeprecationWarning: Call to deprecated method get_stix_domain_entity. (Replaced by the StixDomainEntity class in pycti) -- Deprecated since version 2.1.0.\n",
      "INFO:root:Reading Stix-Domain-Entity {adb6fa3f-2d89-46f3-9d59-b4d99490c4e2}.\n",
      "C:\\ProgramData\\Anaconda3\\lib\\site-packages\\ipykernel_launcher.py:303: DeprecationWarning: Call to deprecated method get_stix_domain_entity. (Replaced by the StixDomainEntity class in pycti) -- Deprecated since version 2.1.0.\n",
      "INFO:root:Reading Stix-Domain-Entity {88cbb5de-7cd0-4a00-a14e-e893267afdde}.\n"
     ]
    },
    {
     "name": "stdout",
     "output_type": "stream",
     "text": [
      "adb6fa3f-2d89-46f3-9d59-b4d99490c4e2\n",
      "88cbb5de-7cd0-4a00-a14e-e893267afdde\n"
     ]
    },
    {
     "name": "stderr",
     "output_type": "stream",
     "text": [
      "INFO:root:Listing stix_relations with {type: indicates, from_id: adb6fa3f-2d89-46f3-9d59-b4d99490c4e2, to_id: 88cbb5de-7cd0-4a00-a14e-e893267afdde}\n",
      "INFO:root:Reading Report {a216498d-1d4c-4555-a6a5-c62f38300e74}.\n",
      "INFO:root:Adding Stix-Entity {9fdafb3c-2764-4688-b075-eacf353881c8} to Report {a216498d-1d4c-4555-a6a5-c62f38300e74}\n",
      "C:\\ProgramData\\Anaconda3\\lib\\site-packages\\ipykernel_launcher.py:300: DeprecationWarning: Call to deprecated method get_stix_domain_entity. (Replaced by the StixDomainEntity class in pycti) -- Deprecated since version 2.1.0.\n",
      "INFO:root:Reading Stix-Domain-Entity {541ee782-769c-409c-8ee9-62d559d460e1}.\n",
      "C:\\ProgramData\\Anaconda3\\lib\\site-packages\\ipykernel_launcher.py:303: DeprecationWarning: Call to deprecated method get_stix_domain_entity. (Replaced by the StixDomainEntity class in pycti) -- Deprecated since version 2.1.0.\n",
      "INFO:root:Reading Stix-Domain-Entity {88cbb5de-7cd0-4a00-a14e-e893267afdde}.\n"
     ]
    },
    {
     "name": "stdout",
     "output_type": "stream",
     "text": [
      "541ee782-769c-409c-8ee9-62d559d460e1\n",
      "88cbb5de-7cd0-4a00-a14e-e893267afdde\n"
     ]
    },
    {
     "name": "stderr",
     "output_type": "stream",
     "text": [
      "INFO:root:Listing stix_relations with {type: indicates, from_id: 541ee782-769c-409c-8ee9-62d559d460e1, to_id: 88cbb5de-7cd0-4a00-a14e-e893267afdde}\n",
      "INFO:root:Reading Report {a216498d-1d4c-4555-a6a5-c62f38300e74}.\n",
      "INFO:root:Adding Stix-Entity {d7693135-f31b-47ef-b31a-f7a8389a3dd8} to Report {a216498d-1d4c-4555-a6a5-c62f38300e74}\n",
      "C:\\ProgramData\\Anaconda3\\lib\\site-packages\\ipykernel_launcher.py:300: DeprecationWarning: Call to deprecated method get_stix_domain_entity. (Replaced by the StixDomainEntity class in pycti) -- Deprecated since version 2.1.0.\n",
      "INFO:root:Reading Stix-Domain-Entity {0e5e928f-11dc-4764-999d-885d924cd5e3}.\n",
      "C:\\ProgramData\\Anaconda3\\lib\\site-packages\\ipykernel_launcher.py:303: DeprecationWarning: Call to deprecated method get_stix_domain_entity. (Replaced by the StixDomainEntity class in pycti) -- Deprecated since version 2.1.0.\n",
      "INFO:root:Reading Stix-Domain-Entity {88cbb5de-7cd0-4a00-a14e-e893267afdde}.\n"
     ]
    },
    {
     "name": "stdout",
     "output_type": "stream",
     "text": [
      "0e5e928f-11dc-4764-999d-885d924cd5e3\n",
      "88cbb5de-7cd0-4a00-a14e-e893267afdde\n"
     ]
    },
    {
     "name": "stderr",
     "output_type": "stream",
     "text": [
      "INFO:root:Listing stix_relations with {type: indicates, from_id: 0e5e928f-11dc-4764-999d-885d924cd5e3, to_id: 88cbb5de-7cd0-4a00-a14e-e893267afdde}\n",
      "INFO:root:Reading Report {a216498d-1d4c-4555-a6a5-c62f38300e74}.\n",
      "INFO:root:Adding Stix-Entity {cdde4424-ab92-4eef-8696-394b5db34bb5} to Report {a216498d-1d4c-4555-a6a5-c62f38300e74}\n",
      "C:\\ProgramData\\Anaconda3\\lib\\site-packages\\ipykernel_launcher.py:300: DeprecationWarning: Call to deprecated method get_stix_domain_entity. (Replaced by the StixDomainEntity class in pycti) -- Deprecated since version 2.1.0.\n",
      "INFO:root:Reading Stix-Domain-Entity {be9197fa-e9de-4955-82f9-b02b59642802}.\n",
      "C:\\ProgramData\\Anaconda3\\lib\\site-packages\\ipykernel_launcher.py:303: DeprecationWarning: Call to deprecated method get_stix_domain_entity. (Replaced by the StixDomainEntity class in pycti) -- Deprecated since version 2.1.0.\n",
      "INFO:root:Reading Stix-Domain-Entity {88cbb5de-7cd0-4a00-a14e-e893267afdde}.\n"
     ]
    },
    {
     "name": "stdout",
     "output_type": "stream",
     "text": [
      "be9197fa-e9de-4955-82f9-b02b59642802\n",
      "88cbb5de-7cd0-4a00-a14e-e893267afdde\n"
     ]
    },
    {
     "name": "stderr",
     "output_type": "stream",
     "text": [
      "INFO:root:Listing stix_relations with {type: indicates, from_id: be9197fa-e9de-4955-82f9-b02b59642802, to_id: 88cbb5de-7cd0-4a00-a14e-e893267afdde}\n",
      "INFO:root:Reading Report {a216498d-1d4c-4555-a6a5-c62f38300e74}.\n",
      "INFO:root:Adding Stix-Entity {16278feb-8ec9-4066-871c-95fbaf75d3f5} to Report {a216498d-1d4c-4555-a6a5-c62f38300e74}\n",
      "C:\\ProgramData\\Anaconda3\\lib\\site-packages\\ipykernel_launcher.py:300: DeprecationWarning: Call to deprecated method get_stix_domain_entity. (Replaced by the StixDomainEntity class in pycti) -- Deprecated since version 2.1.0.\n",
      "INFO:root:Reading Stix-Domain-Entity {667ab360-1fca-4c04-a6a5-df7c83e82c8e}.\n",
      "C:\\ProgramData\\Anaconda3\\lib\\site-packages\\ipykernel_launcher.py:303: DeprecationWarning: Call to deprecated method get_stix_domain_entity. (Replaced by the StixDomainEntity class in pycti) -- Deprecated since version 2.1.0.\n",
      "INFO:root:Reading Stix-Domain-Entity {d160a012-7be8-4de4-86d3-957cc310d76b}.\n"
     ]
    },
    {
     "name": "stdout",
     "output_type": "stream",
     "text": [
      "667ab360-1fca-4c04-a6a5-df7c83e82c8e\n",
      "d160a012-7be8-4de4-86d3-957cc310d76b\n"
     ]
    },
    {
     "name": "stderr",
     "output_type": "stream",
     "text": [
      "INFO:root:Listing stix_relations with {type: indicates, from_id: 667ab360-1fca-4c04-a6a5-df7c83e82c8e, to_id: d160a012-7be8-4de4-86d3-957cc310d76b}\n",
      "INFO:root:Reading Report {a216498d-1d4c-4555-a6a5-c62f38300e74}.\n",
      "INFO:root:Adding Stix-Entity {f5bbf5b7-01ec-46b7-b190-6fad689393e5} to Report {a216498d-1d4c-4555-a6a5-c62f38300e74}\n",
      "C:\\ProgramData\\Anaconda3\\lib\\site-packages\\ipykernel_launcher.py:300: DeprecationWarning: Call to deprecated method get_stix_domain_entity. (Replaced by the StixDomainEntity class in pycti) -- Deprecated since version 2.1.0.\n",
      "INFO:root:Reading Stix-Domain-Entity {01c9a186-dd58-4988-8460-57da4e81bb5d}.\n",
      "C:\\ProgramData\\Anaconda3\\lib\\site-packages\\ipykernel_launcher.py:303: DeprecationWarning: Call to deprecated method get_stix_domain_entity. (Replaced by the StixDomainEntity class in pycti) -- Deprecated since version 2.1.0.\n",
      "INFO:root:Reading Stix-Domain-Entity {d2f5de38-118b-465f-84ef-5e8f2ba6f138}.\n"
     ]
    },
    {
     "name": "stdout",
     "output_type": "stream",
     "text": [
      "01c9a186-dd58-4988-8460-57da4e81bb5d\n",
      "d2f5de38-118b-465f-84ef-5e8f2ba6f138\n"
     ]
    },
    {
     "name": "stderr",
     "output_type": "stream",
     "text": [
      "INFO:root:Listing stix_relations with {type: indicates, from_id: 01c9a186-dd58-4988-8460-57da4e81bb5d, to_id: d2f5de38-118b-465f-84ef-5e8f2ba6f138}\n",
      "INFO:root:Reading Report {a216498d-1d4c-4555-a6a5-c62f38300e74}.\n",
      "INFO:root:Adding Stix-Entity {4126fff5-9f58-4506-8157-170f422bd9a3} to Report {a216498d-1d4c-4555-a6a5-c62f38300e74}\n",
      "C:\\ProgramData\\Anaconda3\\lib\\site-packages\\ipykernel_launcher.py:300: DeprecationWarning: Call to deprecated method get_stix_domain_entity. (Replaced by the StixDomainEntity class in pycti) -- Deprecated since version 2.1.0.\n",
      "INFO:root:Reading Stix-Domain-Entity {693e53f2-bbad-41a8-9b60-c07c12124d7b}.\n",
      "C:\\ProgramData\\Anaconda3\\lib\\site-packages\\ipykernel_launcher.py:303: DeprecationWarning: Call to deprecated method get_stix_domain_entity. (Replaced by the StixDomainEntity class in pycti) -- Deprecated since version 2.1.0.\n",
      "INFO:root:Reading Stix-Domain-Entity {d2f5de38-118b-465f-84ef-5e8f2ba6f138}.\n"
     ]
    },
    {
     "name": "stdout",
     "output_type": "stream",
     "text": [
      "693e53f2-bbad-41a8-9b60-c07c12124d7b\n",
      "d2f5de38-118b-465f-84ef-5e8f2ba6f138\n"
     ]
    },
    {
     "name": "stderr",
     "output_type": "stream",
     "text": [
      "INFO:root:Listing stix_relations with {type: indicates, from_id: 693e53f2-bbad-41a8-9b60-c07c12124d7b, to_id: d2f5de38-118b-465f-84ef-5e8f2ba6f138}\n",
      "INFO:root:Reading Report {a216498d-1d4c-4555-a6a5-c62f38300e74}.\n",
      "INFO:root:Adding Stix-Entity {f9656f87-4522-49db-8897-1dee4ea73f49} to Report {a216498d-1d4c-4555-a6a5-c62f38300e74}\n",
      "C:\\ProgramData\\Anaconda3\\lib\\site-packages\\ipykernel_launcher.py:300: DeprecationWarning: Call to deprecated method get_stix_domain_entity. (Replaced by the StixDomainEntity class in pycti) -- Deprecated since version 2.1.0.\n",
      "INFO:root:Reading Stix-Domain-Entity {43effaa1-5ae5-4cb4-9a3c-ea2413dcad6a}.\n",
      "C:\\ProgramData\\Anaconda3\\lib\\site-packages\\ipykernel_launcher.py:303: DeprecationWarning: Call to deprecated method get_stix_domain_entity. (Replaced by the StixDomainEntity class in pycti) -- Deprecated since version 2.1.0.\n",
      "INFO:root:Reading Stix-Domain-Entity {d2f5de38-118b-465f-84ef-5e8f2ba6f138}.\n"
     ]
    },
    {
     "name": "stdout",
     "output_type": "stream",
     "text": [
      "43effaa1-5ae5-4cb4-9a3c-ea2413dcad6a\n",
      "d2f5de38-118b-465f-84ef-5e8f2ba6f138\n"
     ]
    },
    {
     "name": "stderr",
     "output_type": "stream",
     "text": [
      "INFO:root:Listing stix_relations with {type: indicates, from_id: 43effaa1-5ae5-4cb4-9a3c-ea2413dcad6a, to_id: d2f5de38-118b-465f-84ef-5e8f2ba6f138}\n",
      "INFO:root:Reading Report {a216498d-1d4c-4555-a6a5-c62f38300e74}.\n",
      "INFO:root:Adding Stix-Entity {320ba86f-2e4a-4e6a-87fa-df80658f57f1} to Report {a216498d-1d4c-4555-a6a5-c62f38300e74}\n",
      "C:\\ProgramData\\Anaconda3\\lib\\site-packages\\ipykernel_launcher.py:300: DeprecationWarning: Call to deprecated method get_stix_domain_entity. (Replaced by the StixDomainEntity class in pycti) -- Deprecated since version 2.1.0.\n",
      "INFO:root:Reading Stix-Domain-Entity {e92a5f42-17d8-4130-92d5-b0841191eb9c}.\n",
      "C:\\ProgramData\\Anaconda3\\lib\\site-packages\\ipykernel_launcher.py:303: DeprecationWarning: Call to deprecated method get_stix_domain_entity. (Replaced by the StixDomainEntity class in pycti) -- Deprecated since version 2.1.0.\n",
      "INFO:root:Reading Stix-Domain-Entity {d2f5de38-118b-465f-84ef-5e8f2ba6f138}.\n"
     ]
    },
    {
     "name": "stdout",
     "output_type": "stream",
     "text": [
      "e92a5f42-17d8-4130-92d5-b0841191eb9c\n",
      "d2f5de38-118b-465f-84ef-5e8f2ba6f138\n"
     ]
    },
    {
     "name": "stderr",
     "output_type": "stream",
     "text": [
      "INFO:root:Listing stix_relations with {type: indicates, from_id: e92a5f42-17d8-4130-92d5-b0841191eb9c, to_id: d2f5de38-118b-465f-84ef-5e8f2ba6f138}\n",
      "INFO:root:Reading Report {a216498d-1d4c-4555-a6a5-c62f38300e74}.\n",
      "INFO:root:Adding Stix-Entity {ae18fc5d-4067-4b82-bff6-a6eafad12c68} to Report {a216498d-1d4c-4555-a6a5-c62f38300e74}\n",
      "C:\\ProgramData\\Anaconda3\\lib\\site-packages\\ipykernel_launcher.py:300: DeprecationWarning: Call to deprecated method get_stix_domain_entity. (Replaced by the StixDomainEntity class in pycti) -- Deprecated since version 2.1.0.\n",
      "INFO:root:Reading Stix-Domain-Entity {dafb4daf-66f2-49d8-9cfd-eba4813398f6}.\n",
      "C:\\ProgramData\\Anaconda3\\lib\\site-packages\\ipykernel_launcher.py:303: DeprecationWarning: Call to deprecated method get_stix_domain_entity. (Replaced by the StixDomainEntity class in pycti) -- Deprecated since version 2.1.0.\n",
      "INFO:root:Reading Stix-Domain-Entity {d2f5de38-118b-465f-84ef-5e8f2ba6f138}.\n"
     ]
    },
    {
     "name": "stdout",
     "output_type": "stream",
     "text": [
      "dafb4daf-66f2-49d8-9cfd-eba4813398f6\n",
      "d2f5de38-118b-465f-84ef-5e8f2ba6f138\n"
     ]
    },
    {
     "name": "stderr",
     "output_type": "stream",
     "text": [
      "INFO:root:Listing stix_relations with {type: indicates, from_id: dafb4daf-66f2-49d8-9cfd-eba4813398f6, to_id: d2f5de38-118b-465f-84ef-5e8f2ba6f138}\n",
      "INFO:root:Reading Report {a216498d-1d4c-4555-a6a5-c62f38300e74}.\n",
      "INFO:root:Adding Stix-Entity {f59743c6-5a01-4286-88e9-37bfc5b44d21} to Report {a216498d-1d4c-4555-a6a5-c62f38300e74}\n",
      "C:\\ProgramData\\Anaconda3\\lib\\site-packages\\ipykernel_launcher.py:300: DeprecationWarning: Call to deprecated method get_stix_domain_entity. (Replaced by the StixDomainEntity class in pycti) -- Deprecated since version 2.1.0.\n",
      "INFO:root:Reading Stix-Domain-Entity {ab253ef9-c294-40da-9402-1b8a7f0eb9c4}.\n",
      "C:\\ProgramData\\Anaconda3\\lib\\site-packages\\ipykernel_launcher.py:303: DeprecationWarning: Call to deprecated method get_stix_domain_entity. (Replaced by the StixDomainEntity class in pycti) -- Deprecated since version 2.1.0.\n",
      "INFO:root:Reading Stix-Domain-Entity {d2f5de38-118b-465f-84ef-5e8f2ba6f138}.\n"
     ]
    },
    {
     "name": "stdout",
     "output_type": "stream",
     "text": [
      "ab253ef9-c294-40da-9402-1b8a7f0eb9c4\n",
      "d2f5de38-118b-465f-84ef-5e8f2ba6f138\n"
     ]
    },
    {
     "name": "stderr",
     "output_type": "stream",
     "text": [
      "INFO:root:Listing stix_relations with {type: indicates, from_id: ab253ef9-c294-40da-9402-1b8a7f0eb9c4, to_id: d2f5de38-118b-465f-84ef-5e8f2ba6f138}\n",
      "INFO:root:Reading Report {a216498d-1d4c-4555-a6a5-c62f38300e74}.\n",
      "INFO:root:Adding Stix-Entity {838792e4-da86-47d7-ac95-0470e40e3bb9} to Report {a216498d-1d4c-4555-a6a5-c62f38300e74}\n",
      "C:\\ProgramData\\Anaconda3\\lib\\site-packages\\ipykernel_launcher.py:300: DeprecationWarning: Call to deprecated method get_stix_domain_entity. (Replaced by the StixDomainEntity class in pycti) -- Deprecated since version 2.1.0.\n",
      "INFO:root:Reading Stix-Domain-Entity {b7fc7415-a1bf-45bb-a763-5ae4768fc75d}.\n",
      "C:\\ProgramData\\Anaconda3\\lib\\site-packages\\ipykernel_launcher.py:303: DeprecationWarning: Call to deprecated method get_stix_domain_entity. (Replaced by the StixDomainEntity class in pycti) -- Deprecated since version 2.1.0.\n",
      "INFO:root:Reading Stix-Domain-Entity {d2f5de38-118b-465f-84ef-5e8f2ba6f138}.\n"
     ]
    },
    {
     "name": "stdout",
     "output_type": "stream",
     "text": [
      "b7fc7415-a1bf-45bb-a763-5ae4768fc75d\n",
      "d2f5de38-118b-465f-84ef-5e8f2ba6f138\n"
     ]
    },
    {
     "name": "stderr",
     "output_type": "stream",
     "text": [
      "INFO:root:Listing stix_relations with {type: indicates, from_id: b7fc7415-a1bf-45bb-a763-5ae4768fc75d, to_id: d2f5de38-118b-465f-84ef-5e8f2ba6f138}\n",
      "INFO:root:Reading Report {a216498d-1d4c-4555-a6a5-c62f38300e74}.\n",
      "INFO:root:Adding Stix-Entity {04391e9b-10e6-400c-b0fc-bf4bf40fd09d} to Report {a216498d-1d4c-4555-a6a5-c62f38300e74}\n",
      "C:\\ProgramData\\Anaconda3\\lib\\site-packages\\ipykernel_launcher.py:300: DeprecationWarning: Call to deprecated method get_stix_domain_entity. (Replaced by the StixDomainEntity class in pycti) -- Deprecated since version 2.1.0.\n",
      "INFO:root:Reading Stix-Domain-Entity {9b662712-247c-450f-a376-b1ceb1ec41e2}.\n",
      "C:\\ProgramData\\Anaconda3\\lib\\site-packages\\ipykernel_launcher.py:303: DeprecationWarning: Call to deprecated method get_stix_domain_entity. (Replaced by the StixDomainEntity class in pycti) -- Deprecated since version 2.1.0.\n",
      "INFO:root:Reading Stix-Domain-Entity {d2f5de38-118b-465f-84ef-5e8f2ba6f138}.\n"
     ]
    },
    {
     "name": "stdout",
     "output_type": "stream",
     "text": [
      "9b662712-247c-450f-a376-b1ceb1ec41e2\n",
      "d2f5de38-118b-465f-84ef-5e8f2ba6f138\n"
     ]
    },
    {
     "name": "stderr",
     "output_type": "stream",
     "text": [
      "INFO:root:Listing stix_relations with {type: indicates, from_id: 9b662712-247c-450f-a376-b1ceb1ec41e2, to_id: d2f5de38-118b-465f-84ef-5e8f2ba6f138}\n",
      "INFO:root:Reading Report {a216498d-1d4c-4555-a6a5-c62f38300e74}.\n",
      "INFO:root:Adding Stix-Entity {5816b975-dbd2-47c1-b487-b1df6f468485} to Report {a216498d-1d4c-4555-a6a5-c62f38300e74}\n",
      "C:\\ProgramData\\Anaconda3\\lib\\site-packages\\ipykernel_launcher.py:300: DeprecationWarning: Call to deprecated method get_stix_domain_entity. (Replaced by the StixDomainEntity class in pycti) -- Deprecated since version 2.1.0.\n",
      "INFO:root:Reading Stix-Domain-Entity {ab253ef9-c294-40da-9402-1b8a7f0eb9c4}.\n",
      "C:\\ProgramData\\Anaconda3\\lib\\site-packages\\ipykernel_launcher.py:303: DeprecationWarning: Call to deprecated method get_stix_domain_entity. (Replaced by the StixDomainEntity class in pycti) -- Deprecated since version 2.1.0.\n",
      "INFO:root:Reading Stix-Domain-Entity {d2f5de38-118b-465f-84ef-5e8f2ba6f138}.\n"
     ]
    },
    {
     "name": "stdout",
     "output_type": "stream",
     "text": [
      "ab253ef9-c294-40da-9402-1b8a7f0eb9c4\n",
      "d2f5de38-118b-465f-84ef-5e8f2ba6f138\n"
     ]
    },
    {
     "name": "stderr",
     "output_type": "stream",
     "text": [
      "INFO:root:Listing stix_relations with {type: indicates, from_id: ab253ef9-c294-40da-9402-1b8a7f0eb9c4, to_id: d2f5de38-118b-465f-84ef-5e8f2ba6f138}\n",
      "INFO:root:Reading Report {a216498d-1d4c-4555-a6a5-c62f38300e74}.\n",
      "C:\\ProgramData\\Anaconda3\\lib\\site-packages\\ipykernel_launcher.py:300: DeprecationWarning: Call to deprecated method get_stix_domain_entity. (Replaced by the StixDomainEntity class in pycti) -- Deprecated since version 2.1.0.\n",
      "INFO:root:Reading Stix-Domain-Entity {f87e99b2-bb39-494f-909b-3f0133b1e724}.\n",
      "C:\\ProgramData\\Anaconda3\\lib\\site-packages\\ipykernel_launcher.py:303: DeprecationWarning: Call to deprecated method get_stix_domain_entity. (Replaced by the StixDomainEntity class in pycti) -- Deprecated since version 2.1.0.\n",
      "INFO:root:Reading Stix-Domain-Entity {d2f5de38-118b-465f-84ef-5e8f2ba6f138}.\n"
     ]
    },
    {
     "name": "stdout",
     "output_type": "stream",
     "text": [
      "f87e99b2-bb39-494f-909b-3f0133b1e724\n",
      "d2f5de38-118b-465f-84ef-5e8f2ba6f138\n"
     ]
    },
    {
     "name": "stderr",
     "output_type": "stream",
     "text": [
      "INFO:root:Listing stix_relations with {type: indicates, from_id: f87e99b2-bb39-494f-909b-3f0133b1e724, to_id: d2f5de38-118b-465f-84ef-5e8f2ba6f138}\n",
      "INFO:root:Reading Report {a216498d-1d4c-4555-a6a5-c62f38300e74}.\n",
      "INFO:root:Adding Stix-Entity {bf2ada81-034a-42df-9599-552fbf5100d3} to Report {a216498d-1d4c-4555-a6a5-c62f38300e74}\n",
      "C:\\ProgramData\\Anaconda3\\lib\\site-packages\\ipykernel_launcher.py:300: DeprecationWarning: Call to deprecated method get_stix_domain_entity. (Replaced by the StixDomainEntity class in pycti) -- Deprecated since version 2.1.0.\n",
      "INFO:root:Reading Stix-Domain-Entity {b28e37e7-654e-4ffd-aae5-c1fc7b6110c6}.\n",
      "C:\\ProgramData\\Anaconda3\\lib\\site-packages\\ipykernel_launcher.py:303: DeprecationWarning: Call to deprecated method get_stix_domain_entity. (Replaced by the StixDomainEntity class in pycti) -- Deprecated since version 2.1.0.\n",
      "INFO:root:Reading Stix-Domain-Entity {d2f5de38-118b-465f-84ef-5e8f2ba6f138}.\n"
     ]
    },
    {
     "name": "stdout",
     "output_type": "stream",
     "text": [
      "b28e37e7-654e-4ffd-aae5-c1fc7b6110c6\n",
      "d2f5de38-118b-465f-84ef-5e8f2ba6f138\n"
     ]
    },
    {
     "name": "stderr",
     "output_type": "stream",
     "text": [
      "INFO:root:Listing stix_relations with {type: indicates, from_id: b28e37e7-654e-4ffd-aae5-c1fc7b6110c6, to_id: d2f5de38-118b-465f-84ef-5e8f2ba6f138}\n",
      "INFO:root:Reading Report {a216498d-1d4c-4555-a6a5-c62f38300e74}.\n",
      "INFO:root:Adding Stix-Entity {441affbc-691b-4a68-87b0-6082933d9392} to Report {a216498d-1d4c-4555-a6a5-c62f38300e74}\n",
      "C:\\ProgramData\\Anaconda3\\lib\\site-packages\\ipykernel_launcher.py:300: DeprecationWarning: Call to deprecated method get_stix_domain_entity. (Replaced by the StixDomainEntity class in pycti) -- Deprecated since version 2.1.0.\n",
      "INFO:root:Reading Stix-Domain-Entity {d73b7575-5b15-4d15-aa8d-61d25afeb66f}.\n",
      "C:\\ProgramData\\Anaconda3\\lib\\site-packages\\ipykernel_launcher.py:303: DeprecationWarning: Call to deprecated method get_stix_domain_entity. (Replaced by the StixDomainEntity class in pycti) -- Deprecated since version 2.1.0.\n",
      "INFO:root:Reading Stix-Domain-Entity {d2f5de38-118b-465f-84ef-5e8f2ba6f138}.\n"
     ]
    },
    {
     "name": "stdout",
     "output_type": "stream",
     "text": [
      "d73b7575-5b15-4d15-aa8d-61d25afeb66f\n",
      "d2f5de38-118b-465f-84ef-5e8f2ba6f138\n"
     ]
    },
    {
     "name": "stderr",
     "output_type": "stream",
     "text": [
      "INFO:root:Listing stix_relations with {type: indicates, from_id: d73b7575-5b15-4d15-aa8d-61d25afeb66f, to_id: d2f5de38-118b-465f-84ef-5e8f2ba6f138}\n",
      "INFO:root:Reading Report {a216498d-1d4c-4555-a6a5-c62f38300e74}.\n",
      "INFO:root:Adding Stix-Entity {541d3d47-77a0-42cd-b6ce-637775db0d42} to Report {a216498d-1d4c-4555-a6a5-c62f38300e74}\n",
      "C:\\ProgramData\\Anaconda3\\lib\\site-packages\\ipykernel_launcher.py:300: DeprecationWarning: Call to deprecated method get_stix_domain_entity. (Replaced by the StixDomainEntity class in pycti) -- Deprecated since version 2.1.0.\n",
      "INFO:root:Reading Stix-Domain-Entity {5f0f09e1-45c0-44ee-8a8c-98206e3ffa7f}.\n",
      "C:\\ProgramData\\Anaconda3\\lib\\site-packages\\ipykernel_launcher.py:303: DeprecationWarning: Call to deprecated method get_stix_domain_entity. (Replaced by the StixDomainEntity class in pycti) -- Deprecated since version 2.1.0.\n",
      "INFO:root:Reading Stix-Domain-Entity {d2f5de38-118b-465f-84ef-5e8f2ba6f138}.\n"
     ]
    },
    {
     "name": "stdout",
     "output_type": "stream",
     "text": [
      "5f0f09e1-45c0-44ee-8a8c-98206e3ffa7f\n",
      "d2f5de38-118b-465f-84ef-5e8f2ba6f138\n"
     ]
    },
    {
     "name": "stderr",
     "output_type": "stream",
     "text": [
      "INFO:root:Listing stix_relations with {type: indicates, from_id: 5f0f09e1-45c0-44ee-8a8c-98206e3ffa7f, to_id: d2f5de38-118b-465f-84ef-5e8f2ba6f138}\n",
      "INFO:root:Reading Report {a216498d-1d4c-4555-a6a5-c62f38300e74}.\n",
      "INFO:root:Adding Stix-Entity {f72fdfe4-9fd8-4b58-835a-eb448127b7db} to Report {a216498d-1d4c-4555-a6a5-c62f38300e74}\n",
      "C:\\ProgramData\\Anaconda3\\lib\\site-packages\\ipykernel_launcher.py:300: DeprecationWarning: Call to deprecated method get_stix_domain_entity. (Replaced by the StixDomainEntity class in pycti) -- Deprecated since version 2.1.0.\n",
      "INFO:root:Reading Stix-Domain-Entity {d1390805-54ba-48b5-b0bd-31a40d5fa5e8}.\n",
      "C:\\ProgramData\\Anaconda3\\lib\\site-packages\\ipykernel_launcher.py:303: DeprecationWarning: Call to deprecated method get_stix_domain_entity. (Replaced by the StixDomainEntity class in pycti) -- Deprecated since version 2.1.0.\n",
      "INFO:root:Reading Stix-Domain-Entity {d2f5de38-118b-465f-84ef-5e8f2ba6f138}.\n"
     ]
    },
    {
     "name": "stdout",
     "output_type": "stream",
     "text": [
      "d1390805-54ba-48b5-b0bd-31a40d5fa5e8\n",
      "d2f5de38-118b-465f-84ef-5e8f2ba6f138\n"
     ]
    },
    {
     "name": "stderr",
     "output_type": "stream",
     "text": [
      "INFO:root:Listing stix_relations with {type: indicates, from_id: d1390805-54ba-48b5-b0bd-31a40d5fa5e8, to_id: d2f5de38-118b-465f-84ef-5e8f2ba6f138}\n",
      "INFO:root:Reading Report {a216498d-1d4c-4555-a6a5-c62f38300e74}.\n",
      "INFO:root:Adding Stix-Entity {5681c93b-03d7-45be-a2c7-4fde4b2287ce} to Report {a216498d-1d4c-4555-a6a5-c62f38300e74}\n",
      "C:\\ProgramData\\Anaconda3\\lib\\site-packages\\ipykernel_launcher.py:300: DeprecationWarning: Call to deprecated method get_stix_domain_entity. (Replaced by the StixDomainEntity class in pycti) -- Deprecated since version 2.1.0.\n",
      "INFO:root:Reading Stix-Domain-Entity {c14ef091-ce29-4a5e-ae6b-fa91488aa07d}.\n",
      "C:\\ProgramData\\Anaconda3\\lib\\site-packages\\ipykernel_launcher.py:303: DeprecationWarning: Call to deprecated method get_stix_domain_entity. (Replaced by the StixDomainEntity class in pycti) -- Deprecated since version 2.1.0.\n",
      "INFO:root:Reading Stix-Domain-Entity {d2f5de38-118b-465f-84ef-5e8f2ba6f138}.\n"
     ]
    },
    {
     "name": "stdout",
     "output_type": "stream",
     "text": [
      "c14ef091-ce29-4a5e-ae6b-fa91488aa07d\n",
      "d2f5de38-118b-465f-84ef-5e8f2ba6f138\n"
     ]
    },
    {
     "name": "stderr",
     "output_type": "stream",
     "text": [
      "INFO:root:Listing stix_relations with {type: indicates, from_id: c14ef091-ce29-4a5e-ae6b-fa91488aa07d, to_id: d2f5de38-118b-465f-84ef-5e8f2ba6f138}\n",
      "INFO:root:Reading Report {a216498d-1d4c-4555-a6a5-c62f38300e74}.\n",
      "INFO:root:Adding Stix-Entity {409c5199-1a6f-401d-b72a-22eab2291d52} to Report {a216498d-1d4c-4555-a6a5-c62f38300e74}\n",
      "C:\\ProgramData\\Anaconda3\\lib\\site-packages\\ipykernel_launcher.py:300: DeprecationWarning: Call to deprecated method get_stix_domain_entity. (Replaced by the StixDomainEntity class in pycti) -- Deprecated since version 2.1.0.\n",
      "INFO:root:Reading Stix-Domain-Entity {f60fefc3-0b8c-43a1-a839-49ac299e9a63}.\n",
      "C:\\ProgramData\\Anaconda3\\lib\\site-packages\\ipykernel_launcher.py:303: DeprecationWarning: Call to deprecated method get_stix_domain_entity. (Replaced by the StixDomainEntity class in pycti) -- Deprecated since version 2.1.0.\n",
      "INFO:root:Reading Stix-Domain-Entity {d2f5de38-118b-465f-84ef-5e8f2ba6f138}.\n"
     ]
    },
    {
     "name": "stdout",
     "output_type": "stream",
     "text": [
      "f60fefc3-0b8c-43a1-a839-49ac299e9a63\n",
      "d2f5de38-118b-465f-84ef-5e8f2ba6f138\n"
     ]
    },
    {
     "name": "stderr",
     "output_type": "stream",
     "text": [
      "INFO:root:Listing stix_relations with {type: indicates, from_id: f60fefc3-0b8c-43a1-a839-49ac299e9a63, to_id: d2f5de38-118b-465f-84ef-5e8f2ba6f138}\n",
      "INFO:root:Reading Report {a216498d-1d4c-4555-a6a5-c62f38300e74}.\n",
      "INFO:root:Adding Stix-Entity {83d3cc63-d1f7-40e0-be94-e6f966276a23} to Report {a216498d-1d4c-4555-a6a5-c62f38300e74}\n",
      "C:\\ProgramData\\Anaconda3\\lib\\site-packages\\ipykernel_launcher.py:300: DeprecationWarning: Call to deprecated method get_stix_domain_entity. (Replaced by the StixDomainEntity class in pycti) -- Deprecated since version 2.1.0.\n",
      "INFO:root:Reading Stix-Domain-Entity {d6794fd7-a683-4328-b97a-7d5a2979ad71}.\n",
      "C:\\ProgramData\\Anaconda3\\lib\\site-packages\\ipykernel_launcher.py:303: DeprecationWarning: Call to deprecated method get_stix_domain_entity. (Replaced by the StixDomainEntity class in pycti) -- Deprecated since version 2.1.0.\n",
      "INFO:root:Reading Stix-Domain-Entity {d2f5de38-118b-465f-84ef-5e8f2ba6f138}.\n"
     ]
    },
    {
     "name": "stdout",
     "output_type": "stream",
     "text": [
      "d6794fd7-a683-4328-b97a-7d5a2979ad71\n",
      "d2f5de38-118b-465f-84ef-5e8f2ba6f138\n"
     ]
    },
    {
     "name": "stderr",
     "output_type": "stream",
     "text": [
      "INFO:root:Listing stix_relations with {type: indicates, from_id: d6794fd7-a683-4328-b97a-7d5a2979ad71, to_id: d2f5de38-118b-465f-84ef-5e8f2ba6f138}\n",
      "INFO:root:Reading Report {a216498d-1d4c-4555-a6a5-c62f38300e74}.\n",
      "INFO:root:Adding Stix-Entity {d55bee79-8293-43b4-89ae-e575d8ec27a5} to Report {a216498d-1d4c-4555-a6a5-c62f38300e74}\n",
      "C:\\ProgramData\\Anaconda3\\lib\\site-packages\\ipykernel_launcher.py:300: DeprecationWarning: Call to deprecated method get_stix_domain_entity. (Replaced by the StixDomainEntity class in pycti) -- Deprecated since version 2.1.0.\n",
      "INFO:root:Reading Stix-Domain-Entity {d2a135dc-423c-4950-9cb6-76702e9643d4}.\n",
      "C:\\ProgramData\\Anaconda3\\lib\\site-packages\\ipykernel_launcher.py:303: DeprecationWarning: Call to deprecated method get_stix_domain_entity. (Replaced by the StixDomainEntity class in pycti) -- Deprecated since version 2.1.0.\n",
      "INFO:root:Reading Stix-Domain-Entity {d2f5de38-118b-465f-84ef-5e8f2ba6f138}.\n"
     ]
    },
    {
     "name": "stdout",
     "output_type": "stream",
     "text": [
      "d2a135dc-423c-4950-9cb6-76702e9643d4\n",
      "d2f5de38-118b-465f-84ef-5e8f2ba6f138\n"
     ]
    },
    {
     "name": "stderr",
     "output_type": "stream",
     "text": [
      "INFO:root:Listing stix_relations with {type: indicates, from_id: d2a135dc-423c-4950-9cb6-76702e9643d4, to_id: d2f5de38-118b-465f-84ef-5e8f2ba6f138}\n",
      "INFO:root:Reading Report {a216498d-1d4c-4555-a6a5-c62f38300e74}.\n",
      "INFO:root:Adding Stix-Entity {0f867eb4-6924-4b56-8894-f051b03b4fe6} to Report {a216498d-1d4c-4555-a6a5-c62f38300e74}\n",
      "C:\\ProgramData\\Anaconda3\\lib\\site-packages\\ipykernel_launcher.py:300: DeprecationWarning: Call to deprecated method get_stix_domain_entity. (Replaced by the StixDomainEntity class in pycti) -- Deprecated since version 2.1.0.\n",
      "INFO:root:Reading Stix-Domain-Entity {73db1ae5-8dcd-41fd-8eab-14c21c2c7744}.\n",
      "C:\\ProgramData\\Anaconda3\\lib\\site-packages\\ipykernel_launcher.py:303: DeprecationWarning: Call to deprecated method get_stix_domain_entity. (Replaced by the StixDomainEntity class in pycti) -- Deprecated since version 2.1.0.\n",
      "INFO:root:Reading Stix-Domain-Entity {d2f5de38-118b-465f-84ef-5e8f2ba6f138}.\n"
     ]
    },
    {
     "name": "stdout",
     "output_type": "stream",
     "text": [
      "73db1ae5-8dcd-41fd-8eab-14c21c2c7744\n",
      "d2f5de38-118b-465f-84ef-5e8f2ba6f138\n"
     ]
    },
    {
     "name": "stderr",
     "output_type": "stream",
     "text": [
      "INFO:root:Listing stix_relations with {type: indicates, from_id: 73db1ae5-8dcd-41fd-8eab-14c21c2c7744, to_id: d2f5de38-118b-465f-84ef-5e8f2ba6f138}\n",
      "INFO:root:Reading Report {a216498d-1d4c-4555-a6a5-c62f38300e74}.\n",
      "INFO:root:Adding Stix-Entity {6e87cb29-1992-4acf-97c1-bc997e62d7d7} to Report {a216498d-1d4c-4555-a6a5-c62f38300e74}\n",
      "C:\\ProgramData\\Anaconda3\\lib\\site-packages\\ipykernel_launcher.py:300: DeprecationWarning: Call to deprecated method get_stix_domain_entity. (Replaced by the StixDomainEntity class in pycti) -- Deprecated since version 2.1.0.\n",
      "INFO:root:Reading Stix-Domain-Entity {f169290a-7cab-4192-845c-4eae91127112}.\n",
      "C:\\ProgramData\\Anaconda3\\lib\\site-packages\\ipykernel_launcher.py:303: DeprecationWarning: Call to deprecated method get_stix_domain_entity. (Replaced by the StixDomainEntity class in pycti) -- Deprecated since version 2.1.0.\n",
      "INFO:root:Reading Stix-Domain-Entity {d2f5de38-118b-465f-84ef-5e8f2ba6f138}.\n"
     ]
    },
    {
     "name": "stdout",
     "output_type": "stream",
     "text": [
      "f169290a-7cab-4192-845c-4eae91127112\n",
      "d2f5de38-118b-465f-84ef-5e8f2ba6f138\n"
     ]
    },
    {
     "name": "stderr",
     "output_type": "stream",
     "text": [
      "INFO:root:Listing stix_relations with {type: indicates, from_id: f169290a-7cab-4192-845c-4eae91127112, to_id: d2f5de38-118b-465f-84ef-5e8f2ba6f138}\n",
      "INFO:root:Reading Report {a216498d-1d4c-4555-a6a5-c62f38300e74}.\n",
      "INFO:root:Adding Stix-Entity {1ee6bb96-971e-4d01-a9c3-52255986af7c} to Report {a216498d-1d4c-4555-a6a5-c62f38300e74}\n",
      "C:\\ProgramData\\Anaconda3\\lib\\site-packages\\ipykernel_launcher.py:300: DeprecationWarning: Call to deprecated method get_stix_domain_entity. (Replaced by the StixDomainEntity class in pycti) -- Deprecated since version 2.1.0.\n",
      "INFO:root:Reading Stix-Domain-Entity {0d314eef-2be6-4ee3-8413-de4dd1684824}.\n",
      "C:\\ProgramData\\Anaconda3\\lib\\site-packages\\ipykernel_launcher.py:303: DeprecationWarning: Call to deprecated method get_stix_domain_entity. (Replaced by the StixDomainEntity class in pycti) -- Deprecated since version 2.1.0.\n",
      "INFO:root:Reading Stix-Domain-Entity {d2f5de38-118b-465f-84ef-5e8f2ba6f138}.\n"
     ]
    },
    {
     "name": "stdout",
     "output_type": "stream",
     "text": [
      "0d314eef-2be6-4ee3-8413-de4dd1684824\n",
      "d2f5de38-118b-465f-84ef-5e8f2ba6f138\n"
     ]
    },
    {
     "name": "stderr",
     "output_type": "stream",
     "text": [
      "INFO:root:Listing stix_relations with {type: indicates, from_id: 0d314eef-2be6-4ee3-8413-de4dd1684824, to_id: d2f5de38-118b-465f-84ef-5e8f2ba6f138}\n",
      "INFO:root:Reading Report {a216498d-1d4c-4555-a6a5-c62f38300e74}.\n",
      "INFO:root:Adding Stix-Entity {2416dcf8-b2b1-45bf-9083-d74478d421d0} to Report {a216498d-1d4c-4555-a6a5-c62f38300e74}\n",
      "C:\\ProgramData\\Anaconda3\\lib\\site-packages\\ipykernel_launcher.py:300: DeprecationWarning: Call to deprecated method get_stix_domain_entity. (Replaced by the StixDomainEntity class in pycti) -- Deprecated since version 2.1.0.\n",
      "INFO:root:Reading Stix-Domain-Entity {b4a5d279-b01e-4bcf-93b0-9c4213dcd4fb}.\n",
      "C:\\ProgramData\\Anaconda3\\lib\\site-packages\\ipykernel_launcher.py:303: DeprecationWarning: Call to deprecated method get_stix_domain_entity. (Replaced by the StixDomainEntity class in pycti) -- Deprecated since version 2.1.0.\n",
      "INFO:root:Reading Stix-Domain-Entity {d2f5de38-118b-465f-84ef-5e8f2ba6f138}.\n"
     ]
    },
    {
     "name": "stdout",
     "output_type": "stream",
     "text": [
      "b4a5d279-b01e-4bcf-93b0-9c4213dcd4fb\n",
      "d2f5de38-118b-465f-84ef-5e8f2ba6f138\n"
     ]
    },
    {
     "name": "stderr",
     "output_type": "stream",
     "text": [
      "INFO:root:Listing stix_relations with {type: indicates, from_id: b4a5d279-b01e-4bcf-93b0-9c4213dcd4fb, to_id: d2f5de38-118b-465f-84ef-5e8f2ba6f138}\n",
      "INFO:root:Reading Report {a216498d-1d4c-4555-a6a5-c62f38300e74}.\n",
      "INFO:root:Adding Stix-Entity {5d02651e-b9ac-4c4e-8154-48dc4c6a825e} to Report {a216498d-1d4c-4555-a6a5-c62f38300e74}\n",
      "C:\\ProgramData\\Anaconda3\\lib\\site-packages\\ipykernel_launcher.py:300: DeprecationWarning: Call to deprecated method get_stix_domain_entity. (Replaced by the StixDomainEntity class in pycti) -- Deprecated since version 2.1.0.\n",
      "INFO:root:Reading Stix-Domain-Entity {9e0ac305-19c5-4cd8-a1df-4cbad45060fb}.\n",
      "C:\\ProgramData\\Anaconda3\\lib\\site-packages\\ipykernel_launcher.py:303: DeprecationWarning: Call to deprecated method get_stix_domain_entity. (Replaced by the StixDomainEntity class in pycti) -- Deprecated since version 2.1.0.\n",
      "INFO:root:Reading Stix-Domain-Entity {d2f5de38-118b-465f-84ef-5e8f2ba6f138}.\n"
     ]
    },
    {
     "name": "stdout",
     "output_type": "stream",
     "text": [
      "9e0ac305-19c5-4cd8-a1df-4cbad45060fb\n",
      "d2f5de38-118b-465f-84ef-5e8f2ba6f138\n"
     ]
    },
    {
     "name": "stderr",
     "output_type": "stream",
     "text": [
      "INFO:root:Listing stix_relations with {type: indicates, from_id: 9e0ac305-19c5-4cd8-a1df-4cbad45060fb, to_id: d2f5de38-118b-465f-84ef-5e8f2ba6f138}\n",
      "INFO:root:Reading Report {a216498d-1d4c-4555-a6a5-c62f38300e74}.\n",
      "INFO:root:Adding Stix-Entity {b8b1ecc5-2e60-401c-a12c-442200082df6} to Report {a216498d-1d4c-4555-a6a5-c62f38300e74}\n",
      "C:\\ProgramData\\Anaconda3\\lib\\site-packages\\ipykernel_launcher.py:300: DeprecationWarning: Call to deprecated method get_stix_domain_entity. (Replaced by the StixDomainEntity class in pycti) -- Deprecated since version 2.1.0.\n",
      "INFO:root:Reading Stix-Domain-Entity {b8a99bc7-7620-4ffc-baf2-41b83a7a7fe8}.\n",
      "C:\\ProgramData\\Anaconda3\\lib\\site-packages\\ipykernel_launcher.py:303: DeprecationWarning: Call to deprecated method get_stix_domain_entity. (Replaced by the StixDomainEntity class in pycti) -- Deprecated since version 2.1.0.\n",
      "INFO:root:Reading Stix-Domain-Entity {d2f5de38-118b-465f-84ef-5e8f2ba6f138}.\n"
     ]
    },
    {
     "name": "stdout",
     "output_type": "stream",
     "text": [
      "b8a99bc7-7620-4ffc-baf2-41b83a7a7fe8\n",
      "d2f5de38-118b-465f-84ef-5e8f2ba6f138\n"
     ]
    },
    {
     "name": "stderr",
     "output_type": "stream",
     "text": [
      "INFO:root:Listing stix_relations with {type: indicates, from_id: b8a99bc7-7620-4ffc-baf2-41b83a7a7fe8, to_id: d2f5de38-118b-465f-84ef-5e8f2ba6f138}\n",
      "INFO:root:Reading Report {a216498d-1d4c-4555-a6a5-c62f38300e74}.\n",
      "INFO:root:Adding Stix-Entity {d83cd1d6-5e22-4862-9a1a-0bb5eb9d3ee5} to Report {a216498d-1d4c-4555-a6a5-c62f38300e74}\n",
      "C:\\ProgramData\\Anaconda3\\lib\\site-packages\\ipykernel_launcher.py:300: DeprecationWarning: Call to deprecated method get_stix_domain_entity. (Replaced by the StixDomainEntity class in pycti) -- Deprecated since version 2.1.0.\n",
      "INFO:root:Reading Stix-Domain-Entity {b21b38eb-f60c-4d2b-8deb-6829143aeff5}.\n",
      "C:\\ProgramData\\Anaconda3\\lib\\site-packages\\ipykernel_launcher.py:303: DeprecationWarning: Call to deprecated method get_stix_domain_entity. (Replaced by the StixDomainEntity class in pycti) -- Deprecated since version 2.1.0.\n",
      "INFO:root:Reading Stix-Domain-Entity {06ef98bc-90d3-44d0-9b31-47dd138daa3d}.\n"
     ]
    },
    {
     "name": "stdout",
     "output_type": "stream",
     "text": [
      "b21b38eb-f60c-4d2b-8deb-6829143aeff5\n",
      "06ef98bc-90d3-44d0-9b31-47dd138daa3d\n"
     ]
    },
    {
     "name": "stderr",
     "output_type": "stream",
     "text": [
      "INFO:root:Listing stix_relations with {type: indicates, from_id: b21b38eb-f60c-4d2b-8deb-6829143aeff5, to_id: 06ef98bc-90d3-44d0-9b31-47dd138daa3d}\n",
      "INFO:root:Reading Report {a216498d-1d4c-4555-a6a5-c62f38300e74}.\n",
      "INFO:root:Adding Stix-Entity {7f83cbda-38ee-4594-8881-985c111586d5} to Report {a216498d-1d4c-4555-a6a5-c62f38300e74}\n",
      "C:\\ProgramData\\Anaconda3\\lib\\site-packages\\ipykernel_launcher.py:300: DeprecationWarning: Call to deprecated method get_stix_domain_entity. (Replaced by the StixDomainEntity class in pycti) -- Deprecated since version 2.1.0.\n",
      "INFO:root:Reading Stix-Domain-Entity {e125ef7f-93e4-4de1-8132-6dc66b82ec70}.\n",
      "C:\\ProgramData\\Anaconda3\\lib\\site-packages\\ipykernel_launcher.py:303: DeprecationWarning: Call to deprecated method get_stix_domain_entity. (Replaced by the StixDomainEntity class in pycti) -- Deprecated since version 2.1.0.\n",
      "INFO:root:Reading Stix-Domain-Entity {06ef98bc-90d3-44d0-9b31-47dd138daa3d}.\n"
     ]
    },
    {
     "name": "stdout",
     "output_type": "stream",
     "text": [
      "e125ef7f-93e4-4de1-8132-6dc66b82ec70\n",
      "06ef98bc-90d3-44d0-9b31-47dd138daa3d\n"
     ]
    },
    {
     "name": "stderr",
     "output_type": "stream",
     "text": [
      "INFO:root:Listing stix_relations with {type: indicates, from_id: e125ef7f-93e4-4de1-8132-6dc66b82ec70, to_id: 06ef98bc-90d3-44d0-9b31-47dd138daa3d}\n",
      "INFO:root:Reading Report {a216498d-1d4c-4555-a6a5-c62f38300e74}.\n",
      "INFO:root:Adding Stix-Entity {b73d8ffc-ea36-4739-a930-11dc5a8a7add} to Report {a216498d-1d4c-4555-a6a5-c62f38300e74}\n",
      "C:\\ProgramData\\Anaconda3\\lib\\site-packages\\ipykernel_launcher.py:300: DeprecationWarning: Call to deprecated method get_stix_domain_entity. (Replaced by the StixDomainEntity class in pycti) -- Deprecated since version 2.1.0.\n",
      "INFO:root:Reading Stix-Domain-Entity {c19b4c16-e9dd-4832-bc18-93aea4d49aa7}.\n",
      "C:\\ProgramData\\Anaconda3\\lib\\site-packages\\ipykernel_launcher.py:303: DeprecationWarning: Call to deprecated method get_stix_domain_entity. (Replaced by the StixDomainEntity class in pycti) -- Deprecated since version 2.1.0.\n",
      "INFO:root:Reading Stix-Domain-Entity {06ef98bc-90d3-44d0-9b31-47dd138daa3d}.\n"
     ]
    },
    {
     "name": "stdout",
     "output_type": "stream",
     "text": [
      "c19b4c16-e9dd-4832-bc18-93aea4d49aa7\n",
      "06ef98bc-90d3-44d0-9b31-47dd138daa3d\n"
     ]
    },
    {
     "name": "stderr",
     "output_type": "stream",
     "text": [
      "INFO:root:Listing stix_relations with {type: indicates, from_id: c19b4c16-e9dd-4832-bc18-93aea4d49aa7, to_id: 06ef98bc-90d3-44d0-9b31-47dd138daa3d}\n",
      "INFO:root:Reading Report {a216498d-1d4c-4555-a6a5-c62f38300e74}.\n",
      "INFO:root:Adding Stix-Entity {3bb03a2d-b8f9-4b4b-8826-17eb7d69c664} to Report {a216498d-1d4c-4555-a6a5-c62f38300e74}\n",
      "C:\\ProgramData\\Anaconda3\\lib\\site-packages\\ipykernel_launcher.py:300: DeprecationWarning: Call to deprecated method get_stix_domain_entity. (Replaced by the StixDomainEntity class in pycti) -- Deprecated since version 2.1.0.\n",
      "INFO:root:Reading Stix-Domain-Entity {f7037649-8909-4abc-b803-a25e68f6c564}.\n",
      "C:\\ProgramData\\Anaconda3\\lib\\site-packages\\ipykernel_launcher.py:303: DeprecationWarning: Call to deprecated method get_stix_domain_entity. (Replaced by the StixDomainEntity class in pycti) -- Deprecated since version 2.1.0.\n",
      "INFO:root:Reading Stix-Domain-Entity {06ef98bc-90d3-44d0-9b31-47dd138daa3d}.\n"
     ]
    },
    {
     "name": "stdout",
     "output_type": "stream",
     "text": [
      "f7037649-8909-4abc-b803-a25e68f6c564\n",
      "06ef98bc-90d3-44d0-9b31-47dd138daa3d\n"
     ]
    },
    {
     "name": "stderr",
     "output_type": "stream",
     "text": [
      "INFO:root:Listing stix_relations with {type: indicates, from_id: f7037649-8909-4abc-b803-a25e68f6c564, to_id: 06ef98bc-90d3-44d0-9b31-47dd138daa3d}\n",
      "INFO:root:Reading Report {a216498d-1d4c-4555-a6a5-c62f38300e74}.\n",
      "INFO:root:Adding Stix-Entity {24d2a1cd-df8b-4e56-8e4c-34dda7ffa51c} to Report {a216498d-1d4c-4555-a6a5-c62f38300e74}\n",
      "C:\\ProgramData\\Anaconda3\\lib\\site-packages\\ipykernel_launcher.py:300: DeprecationWarning: Call to deprecated method get_stix_domain_entity. (Replaced by the StixDomainEntity class in pycti) -- Deprecated since version 2.1.0.\n",
      "INFO:root:Reading Stix-Domain-Entity {9fbfc386-a703-4592-beda-75c0d656f828}.\n",
      "C:\\ProgramData\\Anaconda3\\lib\\site-packages\\ipykernel_launcher.py:303: DeprecationWarning: Call to deprecated method get_stix_domain_entity. (Replaced by the StixDomainEntity class in pycti) -- Deprecated since version 2.1.0.\n",
      "INFO:root:Reading Stix-Domain-Entity {06ef98bc-90d3-44d0-9b31-47dd138daa3d}.\n"
     ]
    },
    {
     "name": "stdout",
     "output_type": "stream",
     "text": [
      "9fbfc386-a703-4592-beda-75c0d656f828\n",
      "06ef98bc-90d3-44d0-9b31-47dd138daa3d\n"
     ]
    },
    {
     "name": "stderr",
     "output_type": "stream",
     "text": [
      "INFO:root:Listing stix_relations with {type: indicates, from_id: 9fbfc386-a703-4592-beda-75c0d656f828, to_id: 06ef98bc-90d3-44d0-9b31-47dd138daa3d}\n",
      "INFO:root:Reading Report {a216498d-1d4c-4555-a6a5-c62f38300e74}.\n",
      "INFO:root:Adding Stix-Entity {411b728c-fcf8-4a86-bd27-57770960794e} to Report {a216498d-1d4c-4555-a6a5-c62f38300e74}\n",
      "C:\\ProgramData\\Anaconda3\\lib\\site-packages\\ipykernel_launcher.py:300: DeprecationWarning: Call to deprecated method get_stix_domain_entity. (Replaced by the StixDomainEntity class in pycti) -- Deprecated since version 2.1.0.\n",
      "INFO:root:Reading Stix-Domain-Entity {e75c4d44-8d8e-4b1c-94ba-d35a361171d9}.\n",
      "C:\\ProgramData\\Anaconda3\\lib\\site-packages\\ipykernel_launcher.py:303: DeprecationWarning: Call to deprecated method get_stix_domain_entity. (Replaced by the StixDomainEntity class in pycti) -- Deprecated since version 2.1.0.\n",
      "INFO:root:Reading Stix-Domain-Entity {06ef98bc-90d3-44d0-9b31-47dd138daa3d}.\n"
     ]
    },
    {
     "name": "stdout",
     "output_type": "stream",
     "text": [
      "e75c4d44-8d8e-4b1c-94ba-d35a361171d9\n",
      "06ef98bc-90d3-44d0-9b31-47dd138daa3d\n"
     ]
    },
    {
     "name": "stderr",
     "output_type": "stream",
     "text": [
      "INFO:root:Listing stix_relations with {type: indicates, from_id: e75c4d44-8d8e-4b1c-94ba-d35a361171d9, to_id: 06ef98bc-90d3-44d0-9b31-47dd138daa3d}\n",
      "INFO:root:Reading Report {a216498d-1d4c-4555-a6a5-c62f38300e74}.\n",
      "INFO:root:Adding Stix-Entity {86539d17-6d79-4b02-941f-bb361cc861de} to Report {a216498d-1d4c-4555-a6a5-c62f38300e74}\n",
      "C:\\ProgramData\\Anaconda3\\lib\\site-packages\\ipykernel_launcher.py:300: DeprecationWarning: Call to deprecated method get_stix_domain_entity. (Replaced by the StixDomainEntity class in pycti) -- Deprecated since version 2.1.0.\n",
      "INFO:root:Reading Stix-Domain-Entity {ab686a82-7b73-4adc-9525-d6cd5808b393}.\n",
      "C:\\ProgramData\\Anaconda3\\lib\\site-packages\\ipykernel_launcher.py:303: DeprecationWarning: Call to deprecated method get_stix_domain_entity. (Replaced by the StixDomainEntity class in pycti) -- Deprecated since version 2.1.0.\n",
      "INFO:root:Reading Stix-Domain-Entity {06ef98bc-90d3-44d0-9b31-47dd138daa3d}.\n"
     ]
    },
    {
     "name": "stdout",
     "output_type": "stream",
     "text": [
      "ab686a82-7b73-4adc-9525-d6cd5808b393\n",
      "06ef98bc-90d3-44d0-9b31-47dd138daa3d\n"
     ]
    },
    {
     "name": "stderr",
     "output_type": "stream",
     "text": [
      "INFO:root:Listing stix_relations with {type: indicates, from_id: ab686a82-7b73-4adc-9525-d6cd5808b393, to_id: 06ef98bc-90d3-44d0-9b31-47dd138daa3d}\n",
      "INFO:root:Reading Report {a216498d-1d4c-4555-a6a5-c62f38300e74}.\n",
      "INFO:root:Adding Stix-Entity {4caad1f6-acbc-4407-a1e7-f33c3d5c8ca9} to Report {a216498d-1d4c-4555-a6a5-c62f38300e74}\n",
      "C:\\ProgramData\\Anaconda3\\lib\\site-packages\\ipykernel_launcher.py:300: DeprecationWarning: Call to deprecated method get_stix_domain_entity. (Replaced by the StixDomainEntity class in pycti) -- Deprecated since version 2.1.0.\n",
      "INFO:root:Reading Stix-Domain-Entity {e97e18c0-1290-4da5-891c-d9ab129ede39}.\n",
      "C:\\ProgramData\\Anaconda3\\lib\\site-packages\\ipykernel_launcher.py:303: DeprecationWarning: Call to deprecated method get_stix_domain_entity. (Replaced by the StixDomainEntity class in pycti) -- Deprecated since version 2.1.0.\n",
      "INFO:root:Reading Stix-Domain-Entity {06ef98bc-90d3-44d0-9b31-47dd138daa3d}.\n"
     ]
    },
    {
     "name": "stdout",
     "output_type": "stream",
     "text": [
      "e97e18c0-1290-4da5-891c-d9ab129ede39\n",
      "06ef98bc-90d3-44d0-9b31-47dd138daa3d\n"
     ]
    },
    {
     "name": "stderr",
     "output_type": "stream",
     "text": [
      "INFO:root:Listing stix_relations with {type: indicates, from_id: e97e18c0-1290-4da5-891c-d9ab129ede39, to_id: 06ef98bc-90d3-44d0-9b31-47dd138daa3d}\n",
      "INFO:root:Reading Report {a216498d-1d4c-4555-a6a5-c62f38300e74}.\n",
      "INFO:root:Adding Stix-Entity {a8a2e8b3-0afb-48a9-b092-92f9ef1beca3} to Report {a216498d-1d4c-4555-a6a5-c62f38300e74}\n",
      "C:\\ProgramData\\Anaconda3\\lib\\site-packages\\ipykernel_launcher.py:300: DeprecationWarning: Call to deprecated method get_stix_domain_entity. (Replaced by the StixDomainEntity class in pycti) -- Deprecated since version 2.1.0.\n",
      "INFO:root:Reading Stix-Domain-Entity {ee63a31c-cfcd-4415-9165-619841035e92}.\n",
      "C:\\ProgramData\\Anaconda3\\lib\\site-packages\\ipykernel_launcher.py:303: DeprecationWarning: Call to deprecated method get_stix_domain_entity. (Replaced by the StixDomainEntity class in pycti) -- Deprecated since version 2.1.0.\n",
      "INFO:root:Reading Stix-Domain-Entity {06ef98bc-90d3-44d0-9b31-47dd138daa3d}.\n"
     ]
    },
    {
     "name": "stdout",
     "output_type": "stream",
     "text": [
      "ee63a31c-cfcd-4415-9165-619841035e92\n",
      "06ef98bc-90d3-44d0-9b31-47dd138daa3d\n"
     ]
    },
    {
     "name": "stderr",
     "output_type": "stream",
     "text": [
      "INFO:root:Listing stix_relations with {type: indicates, from_id: ee63a31c-cfcd-4415-9165-619841035e92, to_id: 06ef98bc-90d3-44d0-9b31-47dd138daa3d}\n",
      "INFO:root:Reading Report {a216498d-1d4c-4555-a6a5-c62f38300e74}.\n",
      "INFO:root:Adding Stix-Entity {82feebc6-9f07-4a91-8c6e-247c2a44734d} to Report {a216498d-1d4c-4555-a6a5-c62f38300e74}\n",
      "C:\\ProgramData\\Anaconda3\\lib\\site-packages\\ipykernel_launcher.py:300: DeprecationWarning: Call to deprecated method get_stix_domain_entity. (Replaced by the StixDomainEntity class in pycti) -- Deprecated since version 2.1.0.\n",
      "INFO:root:Reading Stix-Domain-Entity {feb240d1-3915-4933-8455-d0261a8f8cdd}.\n",
      "C:\\ProgramData\\Anaconda3\\lib\\site-packages\\ipykernel_launcher.py:303: DeprecationWarning: Call to deprecated method get_stix_domain_entity. (Replaced by the StixDomainEntity class in pycti) -- Deprecated since version 2.1.0.\n",
      "INFO:root:Reading Stix-Domain-Entity {06ef98bc-90d3-44d0-9b31-47dd138daa3d}.\n"
     ]
    },
    {
     "name": "stdout",
     "output_type": "stream",
     "text": [
      "feb240d1-3915-4933-8455-d0261a8f8cdd\n",
      "06ef98bc-90d3-44d0-9b31-47dd138daa3d\n"
     ]
    },
    {
     "name": "stderr",
     "output_type": "stream",
     "text": [
      "INFO:root:Listing stix_relations with {type: indicates, from_id: feb240d1-3915-4933-8455-d0261a8f8cdd, to_id: 06ef98bc-90d3-44d0-9b31-47dd138daa3d}\n",
      "INFO:root:Reading Report {a216498d-1d4c-4555-a6a5-c62f38300e74}.\n",
      "INFO:root:Adding Stix-Entity {203bcd76-255c-4512-8fb0-7fdecbc08bc2} to Report {a216498d-1d4c-4555-a6a5-c62f38300e74}\n",
      "C:\\ProgramData\\Anaconda3\\lib\\site-packages\\ipykernel_launcher.py:300: DeprecationWarning: Call to deprecated method get_stix_domain_entity. (Replaced by the StixDomainEntity class in pycti) -- Deprecated since version 2.1.0.\n",
      "INFO:root:Reading Stix-Domain-Entity {0ee26bba-0a8e-4a42-ab37-00289cae0607}.\n",
      "C:\\ProgramData\\Anaconda3\\lib\\site-packages\\ipykernel_launcher.py:303: DeprecationWarning: Call to deprecated method get_stix_domain_entity. (Replaced by the StixDomainEntity class in pycti) -- Deprecated since version 2.1.0.\n",
      "INFO:root:Reading Stix-Domain-Entity {06ef98bc-90d3-44d0-9b31-47dd138daa3d}.\n"
     ]
    },
    {
     "name": "stdout",
     "output_type": "stream",
     "text": [
      "0ee26bba-0a8e-4a42-ab37-00289cae0607\n",
      "06ef98bc-90d3-44d0-9b31-47dd138daa3d\n"
     ]
    },
    {
     "name": "stderr",
     "output_type": "stream",
     "text": [
      "INFO:root:Listing stix_relations with {type: indicates, from_id: 0ee26bba-0a8e-4a42-ab37-00289cae0607, to_id: 06ef98bc-90d3-44d0-9b31-47dd138daa3d}\n",
      "INFO:root:Reading Report {a216498d-1d4c-4555-a6a5-c62f38300e74}.\n",
      "INFO:root:Adding Stix-Entity {1ea022db-7317-4b32-be9a-e60dd10bc56c} to Report {a216498d-1d4c-4555-a6a5-c62f38300e74}\n",
      "C:\\ProgramData\\Anaconda3\\lib\\site-packages\\ipykernel_launcher.py:300: DeprecationWarning: Call to deprecated method get_stix_domain_entity. (Replaced by the StixDomainEntity class in pycti) -- Deprecated since version 2.1.0.\n",
      "INFO:root:Reading Stix-Domain-Entity {c439cea6-2038-4961-ba4c-788857dcb352}.\n",
      "C:\\ProgramData\\Anaconda3\\lib\\site-packages\\ipykernel_launcher.py:303: DeprecationWarning: Call to deprecated method get_stix_domain_entity. (Replaced by the StixDomainEntity class in pycti) -- Deprecated since version 2.1.0.\n",
      "INFO:root:Reading Stix-Domain-Entity {06ef98bc-90d3-44d0-9b31-47dd138daa3d}.\n"
     ]
    },
    {
     "name": "stdout",
     "output_type": "stream",
     "text": [
      "c439cea6-2038-4961-ba4c-788857dcb352\n",
      "06ef98bc-90d3-44d0-9b31-47dd138daa3d\n"
     ]
    },
    {
     "name": "stderr",
     "output_type": "stream",
     "text": [
      "INFO:root:Listing stix_relations with {type: indicates, from_id: c439cea6-2038-4961-ba4c-788857dcb352, to_id: 06ef98bc-90d3-44d0-9b31-47dd138daa3d}\n",
      "INFO:root:Reading Report {a216498d-1d4c-4555-a6a5-c62f38300e74}.\n",
      "INFO:root:Adding Stix-Entity {de75c512-1910-4c27-ad9e-b6c68cb9c11d} to Report {a216498d-1d4c-4555-a6a5-c62f38300e74}\n",
      "C:\\ProgramData\\Anaconda3\\lib\\site-packages\\ipykernel_launcher.py:300: DeprecationWarning: Call to deprecated method get_stix_domain_entity. (Replaced by the StixDomainEntity class in pycti) -- Deprecated since version 2.1.0.\n",
      "INFO:root:Reading Stix-Domain-Entity {0ddad760-fd03-4b50-b20d-fbf6c57bdb2c}.\n",
      "C:\\ProgramData\\Anaconda3\\lib\\site-packages\\ipykernel_launcher.py:303: DeprecationWarning: Call to deprecated method get_stix_domain_entity. (Replaced by the StixDomainEntity class in pycti) -- Deprecated since version 2.1.0.\n",
      "INFO:root:Reading Stix-Domain-Entity {06ef98bc-90d3-44d0-9b31-47dd138daa3d}.\n"
     ]
    },
    {
     "name": "stdout",
     "output_type": "stream",
     "text": [
      "0ddad760-fd03-4b50-b20d-fbf6c57bdb2c\n",
      "06ef98bc-90d3-44d0-9b31-47dd138daa3d\n"
     ]
    },
    {
     "name": "stderr",
     "output_type": "stream",
     "text": [
      "INFO:root:Listing stix_relations with {type: indicates, from_id: 0ddad760-fd03-4b50-b20d-fbf6c57bdb2c, to_id: 06ef98bc-90d3-44d0-9b31-47dd138daa3d}\n",
      "INFO:root:Reading Report {a216498d-1d4c-4555-a6a5-c62f38300e74}.\n",
      "INFO:root:Adding Stix-Entity {c166da35-8759-42ff-9152-1a6c4de13573} to Report {a216498d-1d4c-4555-a6a5-c62f38300e74}\n",
      "C:\\ProgramData\\Anaconda3\\lib\\site-packages\\ipykernel_launcher.py:300: DeprecationWarning: Call to deprecated method get_stix_domain_entity. (Replaced by the StixDomainEntity class in pycti) -- Deprecated since version 2.1.0.\n",
      "INFO:root:Reading Stix-Domain-Entity {5ea14422-c3b4-40c6-959c-52498573c8d8}.\n",
      "C:\\ProgramData\\Anaconda3\\lib\\site-packages\\ipykernel_launcher.py:303: DeprecationWarning: Call to deprecated method get_stix_domain_entity. (Replaced by the StixDomainEntity class in pycti) -- Deprecated since version 2.1.0.\n",
      "INFO:root:Reading Stix-Domain-Entity {06ef98bc-90d3-44d0-9b31-47dd138daa3d}.\n"
     ]
    },
    {
     "name": "stdout",
     "output_type": "stream",
     "text": [
      "5ea14422-c3b4-40c6-959c-52498573c8d8\n",
      "06ef98bc-90d3-44d0-9b31-47dd138daa3d\n"
     ]
    },
    {
     "name": "stderr",
     "output_type": "stream",
     "text": [
      "INFO:root:Listing stix_relations with {type: indicates, from_id: 5ea14422-c3b4-40c6-959c-52498573c8d8, to_id: 06ef98bc-90d3-44d0-9b31-47dd138daa3d}\n",
      "INFO:root:Reading Report {a216498d-1d4c-4555-a6a5-c62f38300e74}.\n",
      "INFO:root:Adding Stix-Entity {863e3e06-da59-4298-92f3-b0009794fe0c} to Report {a216498d-1d4c-4555-a6a5-c62f38300e74}\n",
      "C:\\ProgramData\\Anaconda3\\lib\\site-packages\\ipykernel_launcher.py:300: DeprecationWarning: Call to deprecated method get_stix_domain_entity. (Replaced by the StixDomainEntity class in pycti) -- Deprecated since version 2.1.0.\n",
      "INFO:root:Reading Stix-Domain-Entity {eb06b5a9-ead0-4f6a-93e1-74cf6a8a2921}.\n",
      "C:\\ProgramData\\Anaconda3\\lib\\site-packages\\ipykernel_launcher.py:303: DeprecationWarning: Call to deprecated method get_stix_domain_entity. (Replaced by the StixDomainEntity class in pycti) -- Deprecated since version 2.1.0.\n",
      "INFO:root:Reading Stix-Domain-Entity {06ef98bc-90d3-44d0-9b31-47dd138daa3d}.\n"
     ]
    },
    {
     "name": "stdout",
     "output_type": "stream",
     "text": [
      "eb06b5a9-ead0-4f6a-93e1-74cf6a8a2921\n",
      "06ef98bc-90d3-44d0-9b31-47dd138daa3d\n"
     ]
    },
    {
     "name": "stderr",
     "output_type": "stream",
     "text": [
      "INFO:root:Listing stix_relations with {type: indicates, from_id: eb06b5a9-ead0-4f6a-93e1-74cf6a8a2921, to_id: 06ef98bc-90d3-44d0-9b31-47dd138daa3d}\n",
      "INFO:root:Reading Report {a216498d-1d4c-4555-a6a5-c62f38300e74}.\n",
      "INFO:root:Adding Stix-Entity {9ea63276-078e-41eb-a456-54ee2a6cb464} to Report {a216498d-1d4c-4555-a6a5-c62f38300e74}\n",
      "C:\\ProgramData\\Anaconda3\\lib\\site-packages\\ipykernel_launcher.py:300: DeprecationWarning: Call to deprecated method get_stix_domain_entity. (Replaced by the StixDomainEntity class in pycti) -- Deprecated since version 2.1.0.\n",
      "INFO:root:Reading Stix-Domain-Entity {426f632c-899e-4cc2-b6cb-9d368e7f7920}.\n",
      "C:\\ProgramData\\Anaconda3\\lib\\site-packages\\ipykernel_launcher.py:303: DeprecationWarning: Call to deprecated method get_stix_domain_entity. (Replaced by the StixDomainEntity class in pycti) -- Deprecated since version 2.1.0.\n",
      "INFO:root:Reading Stix-Domain-Entity {06ef98bc-90d3-44d0-9b31-47dd138daa3d}.\n"
     ]
    },
    {
     "name": "stdout",
     "output_type": "stream",
     "text": [
      "426f632c-899e-4cc2-b6cb-9d368e7f7920\n",
      "06ef98bc-90d3-44d0-9b31-47dd138daa3d\n"
     ]
    },
    {
     "name": "stderr",
     "output_type": "stream",
     "text": [
      "INFO:root:Listing stix_relations with {type: indicates, from_id: 426f632c-899e-4cc2-b6cb-9d368e7f7920, to_id: 06ef98bc-90d3-44d0-9b31-47dd138daa3d}\n",
      "INFO:root:Reading Report {a216498d-1d4c-4555-a6a5-c62f38300e74}.\n",
      "INFO:root:Adding Stix-Entity {345dbea4-1115-4811-b184-99a1e73cb64e} to Report {a216498d-1d4c-4555-a6a5-c62f38300e74}\n",
      "C:\\ProgramData\\Anaconda3\\lib\\site-packages\\ipykernel_launcher.py:300: DeprecationWarning: Call to deprecated method get_stix_domain_entity. (Replaced by the StixDomainEntity class in pycti) -- Deprecated since version 2.1.0.\n",
      "INFO:root:Reading Stix-Domain-Entity {4e8df8d4-569d-4dc2-9bde-4358c5cd20fe}.\n",
      "C:\\ProgramData\\Anaconda3\\lib\\site-packages\\ipykernel_launcher.py:303: DeprecationWarning: Call to deprecated method get_stix_domain_entity. (Replaced by the StixDomainEntity class in pycti) -- Deprecated since version 2.1.0.\n",
      "INFO:root:Reading Stix-Domain-Entity {06ef98bc-90d3-44d0-9b31-47dd138daa3d}.\n"
     ]
    },
    {
     "name": "stdout",
     "output_type": "stream",
     "text": [
      "4e8df8d4-569d-4dc2-9bde-4358c5cd20fe\n",
      "06ef98bc-90d3-44d0-9b31-47dd138daa3d\n"
     ]
    },
    {
     "name": "stderr",
     "output_type": "stream",
     "text": [
      "INFO:root:Listing stix_relations with {type: indicates, from_id: 4e8df8d4-569d-4dc2-9bde-4358c5cd20fe, to_id: 06ef98bc-90d3-44d0-9b31-47dd138daa3d}\n",
      "INFO:root:Reading Report {a216498d-1d4c-4555-a6a5-c62f38300e74}.\n",
      "INFO:root:Adding Stix-Entity {797e130a-1a74-43d9-ba08-19d58da7e14f} to Report {a216498d-1d4c-4555-a6a5-c62f38300e74}\n",
      "C:\\ProgramData\\Anaconda3\\lib\\site-packages\\ipykernel_launcher.py:300: DeprecationWarning: Call to deprecated method get_stix_domain_entity. (Replaced by the StixDomainEntity class in pycti) -- Deprecated since version 2.1.0.\n",
      "INFO:root:Reading Stix-Domain-Entity {ad1b5d92-8cfb-4dfe-95bf-746cde9036f4}.\n",
      "C:\\ProgramData\\Anaconda3\\lib\\site-packages\\ipykernel_launcher.py:303: DeprecationWarning: Call to deprecated method get_stix_domain_entity. (Replaced by the StixDomainEntity class in pycti) -- Deprecated since version 2.1.0.\n",
      "INFO:root:Reading Stix-Domain-Entity {9fa5e609-537d-483a-98fe-f463e405df11}.\n"
     ]
    },
    {
     "name": "stdout",
     "output_type": "stream",
     "text": [
      "ad1b5d92-8cfb-4dfe-95bf-746cde9036f4\n",
      "9fa5e609-537d-483a-98fe-f463e405df11\n"
     ]
    },
    {
     "name": "stderr",
     "output_type": "stream",
     "text": [
      "INFO:root:Listing stix_relations with {type: indicates, from_id: ad1b5d92-8cfb-4dfe-95bf-746cde9036f4, to_id: 9fa5e609-537d-483a-98fe-f463e405df11}\n",
      "INFO:root:Reading Report {a216498d-1d4c-4555-a6a5-c62f38300e74}.\n",
      "INFO:root:Adding Stix-Entity {fca7f806-bb20-4963-9ee8-b57268d9c86e} to Report {a216498d-1d4c-4555-a6a5-c62f38300e74}\n",
      "C:\\ProgramData\\Anaconda3\\lib\\site-packages\\ipykernel_launcher.py:300: DeprecationWarning: Call to deprecated method get_stix_domain_entity. (Replaced by the StixDomainEntity class in pycti) -- Deprecated since version 2.1.0.\n",
      "INFO:root:Reading Stix-Domain-Entity {8837f219-8346-4475-8dad-d7dbd65fa693}.\n",
      "C:\\ProgramData\\Anaconda3\\lib\\site-packages\\ipykernel_launcher.py:303: DeprecationWarning: Call to deprecated method get_stix_domain_entity. (Replaced by the StixDomainEntity class in pycti) -- Deprecated since version 2.1.0.\n",
      "INFO:root:Reading Stix-Domain-Entity {9fa5e609-537d-483a-98fe-f463e405df11}.\n"
     ]
    },
    {
     "name": "stdout",
     "output_type": "stream",
     "text": [
      "8837f219-8346-4475-8dad-d7dbd65fa693\n",
      "9fa5e609-537d-483a-98fe-f463e405df11\n"
     ]
    },
    {
     "name": "stderr",
     "output_type": "stream",
     "text": [
      "INFO:root:Listing stix_relations with {type: indicates, from_id: 8837f219-8346-4475-8dad-d7dbd65fa693, to_id: 9fa5e609-537d-483a-98fe-f463e405df11}\n",
      "INFO:root:Reading Report {a216498d-1d4c-4555-a6a5-c62f38300e74}.\n",
      "INFO:root:Adding Stix-Entity {2f3f9863-0fc8-4b86-a9f8-338fb9dfad50} to Report {a216498d-1d4c-4555-a6a5-c62f38300e74}\n",
      "C:\\ProgramData\\Anaconda3\\lib\\site-packages\\ipykernel_launcher.py:300: DeprecationWarning: Call to deprecated method get_stix_domain_entity. (Replaced by the StixDomainEntity class in pycti) -- Deprecated since version 2.1.0.\n",
      "INFO:root:Reading Stix-Domain-Entity {b68c14a7-1ab1-4c47-9c47-086886522f2e}.\n",
      "C:\\ProgramData\\Anaconda3\\lib\\site-packages\\ipykernel_launcher.py:303: DeprecationWarning: Call to deprecated method get_stix_domain_entity. (Replaced by the StixDomainEntity class in pycti) -- Deprecated since version 2.1.0.\n",
      "INFO:root:Reading Stix-Domain-Entity {9fa5e609-537d-483a-98fe-f463e405df11}.\n"
     ]
    },
    {
     "name": "stdout",
     "output_type": "stream",
     "text": [
      "b68c14a7-1ab1-4c47-9c47-086886522f2e\n",
      "9fa5e609-537d-483a-98fe-f463e405df11\n"
     ]
    },
    {
     "name": "stderr",
     "output_type": "stream",
     "text": [
      "INFO:root:Listing stix_relations with {type: indicates, from_id: b68c14a7-1ab1-4c47-9c47-086886522f2e, to_id: 9fa5e609-537d-483a-98fe-f463e405df11}\n",
      "INFO:root:Reading Report {a216498d-1d4c-4555-a6a5-c62f38300e74}.\n",
      "INFO:root:Adding Stix-Entity {8a2a3018-4d4b-47a1-a16e-84f1948d15c2} to Report {a216498d-1d4c-4555-a6a5-c62f38300e74}\n",
      "C:\\ProgramData\\Anaconda3\\lib\\site-packages\\ipykernel_launcher.py:300: DeprecationWarning: Call to deprecated method get_stix_domain_entity. (Replaced by the StixDomainEntity class in pycti) -- Deprecated since version 2.1.0.\n",
      "INFO:root:Reading Stix-Domain-Entity {0db02c4d-fd35-4efa-bc7a-a3f3fdf9f01f}.\n",
      "C:\\ProgramData\\Anaconda3\\lib\\site-packages\\ipykernel_launcher.py:303: DeprecationWarning: Call to deprecated method get_stix_domain_entity. (Replaced by the StixDomainEntity class in pycti) -- Deprecated since version 2.1.0.\n",
      "INFO:root:Reading Stix-Domain-Entity {9fa5e609-537d-483a-98fe-f463e405df11}.\n"
     ]
    },
    {
     "name": "stdout",
     "output_type": "stream",
     "text": [
      "0db02c4d-fd35-4efa-bc7a-a3f3fdf9f01f\n",
      "9fa5e609-537d-483a-98fe-f463e405df11\n"
     ]
    },
    {
     "name": "stderr",
     "output_type": "stream",
     "text": [
      "INFO:root:Listing stix_relations with {type: indicates, from_id: 0db02c4d-fd35-4efa-bc7a-a3f3fdf9f01f, to_id: 9fa5e609-537d-483a-98fe-f463e405df11}\n",
      "INFO:root:Reading Report {a216498d-1d4c-4555-a6a5-c62f38300e74}.\n",
      "INFO:root:Adding Stix-Entity {e012c855-128a-4a8f-8143-3cf6d2906ab9} to Report {a216498d-1d4c-4555-a6a5-c62f38300e74}\n",
      "C:\\ProgramData\\Anaconda3\\lib\\site-packages\\ipykernel_launcher.py:300: DeprecationWarning: Call to deprecated method get_stix_domain_entity. (Replaced by the StixDomainEntity class in pycti) -- Deprecated since version 2.1.0.\n",
      "INFO:root:Reading Stix-Domain-Entity {adf56d7d-98be-45bd-8c46-9d879e5d5aae}.\n",
      "C:\\ProgramData\\Anaconda3\\lib\\site-packages\\ipykernel_launcher.py:303: DeprecationWarning: Call to deprecated method get_stix_domain_entity. (Replaced by the StixDomainEntity class in pycti) -- Deprecated since version 2.1.0.\n",
      "INFO:root:Reading Stix-Domain-Entity {9fa5e609-537d-483a-98fe-f463e405df11}.\n"
     ]
    },
    {
     "name": "stdout",
     "output_type": "stream",
     "text": [
      "adf56d7d-98be-45bd-8c46-9d879e5d5aae\n",
      "9fa5e609-537d-483a-98fe-f463e405df11\n"
     ]
    },
    {
     "name": "stderr",
     "output_type": "stream",
     "text": [
      "INFO:root:Listing stix_relations with {type: indicates, from_id: adf56d7d-98be-45bd-8c46-9d879e5d5aae, to_id: 9fa5e609-537d-483a-98fe-f463e405df11}\n",
      "INFO:root:Reading Report {a216498d-1d4c-4555-a6a5-c62f38300e74}.\n",
      "INFO:root:Adding Stix-Entity {270e25f4-9f3f-4922-8cee-0ba441086aa9} to Report {a216498d-1d4c-4555-a6a5-c62f38300e74}\n",
      "C:\\ProgramData\\Anaconda3\\lib\\site-packages\\ipykernel_launcher.py:300: DeprecationWarning: Call to deprecated method get_stix_domain_entity. (Replaced by the StixDomainEntity class in pycti) -- Deprecated since version 2.1.0.\n",
      "INFO:root:Reading Stix-Domain-Entity {ed4507bb-1469-41a2-90bc-a8a71e1cef6f}.\n",
      "C:\\ProgramData\\Anaconda3\\lib\\site-packages\\ipykernel_launcher.py:303: DeprecationWarning: Call to deprecated method get_stix_domain_entity. (Replaced by the StixDomainEntity class in pycti) -- Deprecated since version 2.1.0.\n",
      "INFO:root:Reading Stix-Domain-Entity {9fa5e609-537d-483a-98fe-f463e405df11}.\n"
     ]
    },
    {
     "name": "stdout",
     "output_type": "stream",
     "text": [
      "ed4507bb-1469-41a2-90bc-a8a71e1cef6f\n",
      "9fa5e609-537d-483a-98fe-f463e405df11\n"
     ]
    },
    {
     "name": "stderr",
     "output_type": "stream",
     "text": [
      "INFO:root:Listing stix_relations with {type: indicates, from_id: ed4507bb-1469-41a2-90bc-a8a71e1cef6f, to_id: 9fa5e609-537d-483a-98fe-f463e405df11}\n",
      "INFO:root:Reading Report {a216498d-1d4c-4555-a6a5-c62f38300e74}.\n",
      "INFO:root:Adding Stix-Entity {a28b14e4-784f-42e3-8c2f-1998b2c42cb2} to Report {a216498d-1d4c-4555-a6a5-c62f38300e74}\n",
      "C:\\ProgramData\\Anaconda3\\lib\\site-packages\\ipykernel_launcher.py:300: DeprecationWarning: Call to deprecated method get_stix_domain_entity. (Replaced by the StixDomainEntity class in pycti) -- Deprecated since version 2.1.0.\n",
      "INFO:root:Reading Stix-Domain-Entity {8837f219-8346-4475-8dad-d7dbd65fa693}.\n",
      "C:\\ProgramData\\Anaconda3\\lib\\site-packages\\ipykernel_launcher.py:303: DeprecationWarning: Call to deprecated method get_stix_domain_entity. (Replaced by the StixDomainEntity class in pycti) -- Deprecated since version 2.1.0.\n",
      "INFO:root:Reading Stix-Domain-Entity {9fa5e609-537d-483a-98fe-f463e405df11}.\n"
     ]
    },
    {
     "name": "stdout",
     "output_type": "stream",
     "text": [
      "8837f219-8346-4475-8dad-d7dbd65fa693\n",
      "9fa5e609-537d-483a-98fe-f463e405df11\n"
     ]
    },
    {
     "name": "stderr",
     "output_type": "stream",
     "text": [
      "INFO:root:Listing stix_relations with {type: indicates, from_id: 8837f219-8346-4475-8dad-d7dbd65fa693, to_id: 9fa5e609-537d-483a-98fe-f463e405df11}\n",
      "INFO:root:Reading Report {a216498d-1d4c-4555-a6a5-c62f38300e74}.\n",
      "INFO:root:Adding Stix-Entity {2f3f9863-0fc8-4b86-a9f8-338fb9dfad50} to Report {a216498d-1d4c-4555-a6a5-c62f38300e74}\n",
      "ERROR:root:A database error has occured!\n",
      "C:\\ProgramData\\Anaconda3\\lib\\site-packages\\ipykernel_launcher.py:300: DeprecationWarning: Call to deprecated method get_stix_domain_entity. (Replaced by the StixDomainEntity class in pycti) -- Deprecated since version 2.1.0.\n",
      "INFO:root:Reading Stix-Domain-Entity {7c52a80f-7ab3-4a4f-b2aa-278471c95565}.\n",
      "C:\\ProgramData\\Anaconda3\\lib\\site-packages\\ipykernel_launcher.py:303: DeprecationWarning: Call to deprecated method get_stix_domain_entity. (Replaced by the StixDomainEntity class in pycti) -- Deprecated since version 2.1.0.\n",
      "INFO:root:Reading Stix-Domain-Entity {9fa5e609-537d-483a-98fe-f463e405df11}.\n"
     ]
    },
    {
     "name": "stdout",
     "output_type": "stream",
     "text": [
      "7c52a80f-7ab3-4a4f-b2aa-278471c95565\n",
      "9fa5e609-537d-483a-98fe-f463e405df11\n"
     ]
    },
    {
     "name": "stderr",
     "output_type": "stream",
     "text": [
      "INFO:root:Listing stix_relations with {type: indicates, from_id: 7c52a80f-7ab3-4a4f-b2aa-278471c95565, to_id: 9fa5e609-537d-483a-98fe-f463e405df11}\n",
      "INFO:root:Reading Report {a216498d-1d4c-4555-a6a5-c62f38300e74}.\n",
      "INFO:root:Adding Stix-Entity {8adeb5b0-b5ed-4686-ba86-ffc9f500c2a5} to Report {a216498d-1d4c-4555-a6a5-c62f38300e74}\n",
      "C:\\ProgramData\\Anaconda3\\lib\\site-packages\\ipykernel_launcher.py:300: DeprecationWarning: Call to deprecated method get_stix_domain_entity. (Replaced by the StixDomainEntity class in pycti) -- Deprecated since version 2.1.0.\n",
      "INFO:root:Reading Stix-Domain-Entity {ad1b5d92-8cfb-4dfe-95bf-746cde9036f4}.\n",
      "C:\\ProgramData\\Anaconda3\\lib\\site-packages\\ipykernel_launcher.py:303: DeprecationWarning: Call to deprecated method get_stix_domain_entity. (Replaced by the StixDomainEntity class in pycti) -- Deprecated since version 2.1.0.\n",
      "INFO:root:Reading Stix-Domain-Entity {9fa5e609-537d-483a-98fe-f463e405df11}.\n"
     ]
    },
    {
     "name": "stdout",
     "output_type": "stream",
     "text": [
      "ad1b5d92-8cfb-4dfe-95bf-746cde9036f4\n",
      "9fa5e609-537d-483a-98fe-f463e405df11\n"
     ]
    },
    {
     "name": "stderr",
     "output_type": "stream",
     "text": [
      "INFO:root:Listing stix_relations with {type: indicates, from_id: ad1b5d92-8cfb-4dfe-95bf-746cde9036f4, to_id: 9fa5e609-537d-483a-98fe-f463e405df11}\n",
      "INFO:root:Reading Report {a216498d-1d4c-4555-a6a5-c62f38300e74}.\n",
      "INFO:root:Adding Stix-Entity {fca7f806-bb20-4963-9ee8-b57268d9c86e} to Report {a216498d-1d4c-4555-a6a5-c62f38300e74}\n",
      "ERROR:root:A database error has occured!\n",
      "C:\\ProgramData\\Anaconda3\\lib\\site-packages\\ipykernel_launcher.py:300: DeprecationWarning: Call to deprecated method get_stix_domain_entity. (Replaced by the StixDomainEntity class in pycti) -- Deprecated since version 2.1.0.\n",
      "INFO:root:Reading Stix-Domain-Entity {4b5d8be0-5a7e-44a7-a011-abde3eee3b52}.\n",
      "C:\\ProgramData\\Anaconda3\\lib\\site-packages\\ipykernel_launcher.py:303: DeprecationWarning: Call to deprecated method get_stix_domain_entity. (Replaced by the StixDomainEntity class in pycti) -- Deprecated since version 2.1.0.\n",
      "INFO:root:Reading Stix-Domain-Entity {9fa5e609-537d-483a-98fe-f463e405df11}.\n"
     ]
    },
    {
     "name": "stdout",
     "output_type": "stream",
     "text": [
      "4b5d8be0-5a7e-44a7-a011-abde3eee3b52\n",
      "9fa5e609-537d-483a-98fe-f463e405df11\n"
     ]
    },
    {
     "name": "stderr",
     "output_type": "stream",
     "text": [
      "INFO:root:Listing stix_relations with {type: indicates, from_id: 4b5d8be0-5a7e-44a7-a011-abde3eee3b52, to_id: 9fa5e609-537d-483a-98fe-f463e405df11}\n",
      "INFO:root:Reading Report {a216498d-1d4c-4555-a6a5-c62f38300e74}.\n",
      "INFO:root:Adding Stix-Entity {931e324e-37f1-45b9-9a02-ae50b309d6d4} to Report {a216498d-1d4c-4555-a6a5-c62f38300e74}\n",
      "C:\\ProgramData\\Anaconda3\\lib\\site-packages\\ipykernel_launcher.py:300: DeprecationWarning: Call to deprecated method get_stix_domain_entity. (Replaced by the StixDomainEntity class in pycti) -- Deprecated since version 2.1.0.\n",
      "INFO:root:Reading Stix-Domain-Entity {aee87195-ccd7-4e4e-8efa-c42f94d1791b}.\n",
      "C:\\ProgramData\\Anaconda3\\lib\\site-packages\\ipykernel_launcher.py:303: DeprecationWarning: Call to deprecated method get_stix_domain_entity. (Replaced by the StixDomainEntity class in pycti) -- Deprecated since version 2.1.0.\n",
      "INFO:root:Reading Stix-Domain-Entity {9fa5e609-537d-483a-98fe-f463e405df11}.\n"
     ]
    },
    {
     "name": "stdout",
     "output_type": "stream",
     "text": [
      "aee87195-ccd7-4e4e-8efa-c42f94d1791b\n",
      "9fa5e609-537d-483a-98fe-f463e405df11\n"
     ]
    },
    {
     "name": "stderr",
     "output_type": "stream",
     "text": [
      "INFO:root:Listing stix_relations with {type: indicates, from_id: aee87195-ccd7-4e4e-8efa-c42f94d1791b, to_id: 9fa5e609-537d-483a-98fe-f463e405df11}\n",
      "INFO:root:Reading Report {a216498d-1d4c-4555-a6a5-c62f38300e74}.\n",
      "INFO:root:Adding Stix-Entity {2acfa473-5def-4e3e-ac33-677b779d11b7} to Report {a216498d-1d4c-4555-a6a5-c62f38300e74}\n",
      "C:\\ProgramData\\Anaconda3\\lib\\site-packages\\ipykernel_launcher.py:300: DeprecationWarning: Call to deprecated method get_stix_domain_entity. (Replaced by the StixDomainEntity class in pycti) -- Deprecated since version 2.1.0.\n",
      "INFO:root:Reading Stix-Domain-Entity {f87e99b2-bb39-494f-909b-3f0133b1e724}.\n",
      "C:\\ProgramData\\Anaconda3\\lib\\site-packages\\ipykernel_launcher.py:303: DeprecationWarning: Call to deprecated method get_stix_domain_entity. (Replaced by the StixDomainEntity class in pycti) -- Deprecated since version 2.1.0.\n",
      "INFO:root:Reading Stix-Domain-Entity {d380cf57-9810-438b-bb25-a652aaca9ab2}.\n"
     ]
    },
    {
     "name": "stdout",
     "output_type": "stream",
     "text": [
      "f87e99b2-bb39-494f-909b-3f0133b1e724\n",
      "d380cf57-9810-438b-bb25-a652aaca9ab2\n"
     ]
    },
    {
     "name": "stderr",
     "output_type": "stream",
     "text": [
      "INFO:root:Listing stix_relations with {type: indicates, from_id: f87e99b2-bb39-494f-909b-3f0133b1e724, to_id: d380cf57-9810-438b-bb25-a652aaca9ab2}\n",
      "INFO:root:Reading Report {a216498d-1d4c-4555-a6a5-c62f38300e74}.\n",
      "INFO:root:Adding Stix-Entity {9e6984b2-9377-41bb-9c48-89251e84e314} to Report {a216498d-1d4c-4555-a6a5-c62f38300e74}\n",
      "C:\\ProgramData\\Anaconda3\\lib\\site-packages\\ipykernel_launcher.py:300: DeprecationWarning: Call to deprecated method get_stix_domain_entity. (Replaced by the StixDomainEntity class in pycti) -- Deprecated since version 2.1.0.\n",
      "INFO:root:Reading Stix-Domain-Entity {b28e37e7-654e-4ffd-aae5-c1fc7b6110c6}.\n",
      "C:\\ProgramData\\Anaconda3\\lib\\site-packages\\ipykernel_launcher.py:303: DeprecationWarning: Call to deprecated method get_stix_domain_entity. (Replaced by the StixDomainEntity class in pycti) -- Deprecated since version 2.1.0.\n",
      "INFO:root:Reading Stix-Domain-Entity {d380cf57-9810-438b-bb25-a652aaca9ab2}.\n"
     ]
    },
    {
     "name": "stdout",
     "output_type": "stream",
     "text": [
      "b28e37e7-654e-4ffd-aae5-c1fc7b6110c6\n",
      "d380cf57-9810-438b-bb25-a652aaca9ab2\n"
     ]
    },
    {
     "name": "stderr",
     "output_type": "stream",
     "text": [
      "INFO:root:Listing stix_relations with {type: indicates, from_id: b28e37e7-654e-4ffd-aae5-c1fc7b6110c6, to_id: d380cf57-9810-438b-bb25-a652aaca9ab2}\n",
      "INFO:root:Reading Report {a216498d-1d4c-4555-a6a5-c62f38300e74}.\n",
      "INFO:root:Adding Stix-Entity {7a0ba1df-6b76-441c-8ff3-6699694f9d9a} to Report {a216498d-1d4c-4555-a6a5-c62f38300e74}\n",
      "C:\\ProgramData\\Anaconda3\\lib\\site-packages\\ipykernel_launcher.py:300: DeprecationWarning: Call to deprecated method get_stix_domain_entity. (Replaced by the StixDomainEntity class in pycti) -- Deprecated since version 2.1.0.\n",
      "INFO:root:Reading Stix-Domain-Entity {d73b7575-5b15-4d15-aa8d-61d25afeb66f}.\n",
      "C:\\ProgramData\\Anaconda3\\lib\\site-packages\\ipykernel_launcher.py:303: DeprecationWarning: Call to deprecated method get_stix_domain_entity. (Replaced by the StixDomainEntity class in pycti) -- Deprecated since version 2.1.0.\n",
      "INFO:root:Reading Stix-Domain-Entity {d380cf57-9810-438b-bb25-a652aaca9ab2}.\n"
     ]
    },
    {
     "name": "stdout",
     "output_type": "stream",
     "text": [
      "d73b7575-5b15-4d15-aa8d-61d25afeb66f\n",
      "d380cf57-9810-438b-bb25-a652aaca9ab2\n"
     ]
    },
    {
     "name": "stderr",
     "output_type": "stream",
     "text": [
      "INFO:root:Listing stix_relations with {type: indicates, from_id: d73b7575-5b15-4d15-aa8d-61d25afeb66f, to_id: d380cf57-9810-438b-bb25-a652aaca9ab2}\n",
      "INFO:root:Reading Report {a216498d-1d4c-4555-a6a5-c62f38300e74}.\n",
      "INFO:root:Adding Stix-Entity {e99a913a-645b-4c9a-aa45-00d784b91bc9} to Report {a216498d-1d4c-4555-a6a5-c62f38300e74}\n",
      "C:\\ProgramData\\Anaconda3\\lib\\site-packages\\ipykernel_launcher.py:300: DeprecationWarning: Call to deprecated method get_stix_domain_entity. (Replaced by the StixDomainEntity class in pycti) -- Deprecated since version 2.1.0.\n",
      "INFO:root:Reading Stix-Domain-Entity {5f0f09e1-45c0-44ee-8a8c-98206e3ffa7f}.\n",
      "C:\\ProgramData\\Anaconda3\\lib\\site-packages\\ipykernel_launcher.py:303: DeprecationWarning: Call to deprecated method get_stix_domain_entity. (Replaced by the StixDomainEntity class in pycti) -- Deprecated since version 2.1.0.\n",
      "INFO:root:Reading Stix-Domain-Entity {d380cf57-9810-438b-bb25-a652aaca9ab2}.\n"
     ]
    },
    {
     "name": "stdout",
     "output_type": "stream",
     "text": [
      "5f0f09e1-45c0-44ee-8a8c-98206e3ffa7f\n",
      "d380cf57-9810-438b-bb25-a652aaca9ab2\n"
     ]
    },
    {
     "name": "stderr",
     "output_type": "stream",
     "text": [
      "INFO:root:Listing stix_relations with {type: indicates, from_id: 5f0f09e1-45c0-44ee-8a8c-98206e3ffa7f, to_id: d380cf57-9810-438b-bb25-a652aaca9ab2}\n",
      "INFO:root:Reading Report {a216498d-1d4c-4555-a6a5-c62f38300e74}.\n",
      "INFO:root:Adding Stix-Entity {12a32e9d-86fb-4055-9675-0d7e2f6cea2d} to Report {a216498d-1d4c-4555-a6a5-c62f38300e74}\n",
      "C:\\ProgramData\\Anaconda3\\lib\\site-packages\\ipykernel_launcher.py:300: DeprecationWarning: Call to deprecated method get_stix_domain_entity. (Replaced by the StixDomainEntity class in pycti) -- Deprecated since version 2.1.0.\n",
      "INFO:root:Reading Stix-Domain-Entity {d1390805-54ba-48b5-b0bd-31a40d5fa5e8}.\n",
      "C:\\ProgramData\\Anaconda3\\lib\\site-packages\\ipykernel_launcher.py:303: DeprecationWarning: Call to deprecated method get_stix_domain_entity. (Replaced by the StixDomainEntity class in pycti) -- Deprecated since version 2.1.0.\n",
      "INFO:root:Reading Stix-Domain-Entity {d380cf57-9810-438b-bb25-a652aaca9ab2}.\n"
     ]
    },
    {
     "name": "stdout",
     "output_type": "stream",
     "text": [
      "d1390805-54ba-48b5-b0bd-31a40d5fa5e8\n",
      "d380cf57-9810-438b-bb25-a652aaca9ab2\n"
     ]
    },
    {
     "name": "stderr",
     "output_type": "stream",
     "text": [
      "INFO:root:Listing stix_relations with {type: indicates, from_id: d1390805-54ba-48b5-b0bd-31a40d5fa5e8, to_id: d380cf57-9810-438b-bb25-a652aaca9ab2}\n",
      "INFO:root:Reading Report {a216498d-1d4c-4555-a6a5-c62f38300e74}.\n",
      "INFO:root:Adding Stix-Entity {e2e412cb-cc2d-4ef4-93d4-db82ffcd8755} to Report {a216498d-1d4c-4555-a6a5-c62f38300e74}\n",
      "C:\\ProgramData\\Anaconda3\\lib\\site-packages\\ipykernel_launcher.py:300: DeprecationWarning: Call to deprecated method get_stix_domain_entity. (Replaced by the StixDomainEntity class in pycti) -- Deprecated since version 2.1.0.\n",
      "INFO:root:Reading Stix-Domain-Entity {c14ef091-ce29-4a5e-ae6b-fa91488aa07d}.\n",
      "C:\\ProgramData\\Anaconda3\\lib\\site-packages\\ipykernel_launcher.py:303: DeprecationWarning: Call to deprecated method get_stix_domain_entity. (Replaced by the StixDomainEntity class in pycti) -- Deprecated since version 2.1.0.\n",
      "INFO:root:Reading Stix-Domain-Entity {d380cf57-9810-438b-bb25-a652aaca9ab2}.\n"
     ]
    },
    {
     "name": "stdout",
     "output_type": "stream",
     "text": [
      "c14ef091-ce29-4a5e-ae6b-fa91488aa07d\n",
      "d380cf57-9810-438b-bb25-a652aaca9ab2\n"
     ]
    },
    {
     "name": "stderr",
     "output_type": "stream",
     "text": [
      "INFO:root:Listing stix_relations with {type: indicates, from_id: c14ef091-ce29-4a5e-ae6b-fa91488aa07d, to_id: d380cf57-9810-438b-bb25-a652aaca9ab2}\n",
      "INFO:root:Reading Report {a216498d-1d4c-4555-a6a5-c62f38300e74}.\n",
      "INFO:root:Adding Stix-Entity {beb45313-2082-4606-bcba-16dd32dbc848} to Report {a216498d-1d4c-4555-a6a5-c62f38300e74}\n",
      "C:\\ProgramData\\Anaconda3\\lib\\site-packages\\ipykernel_launcher.py:300: DeprecationWarning: Call to deprecated method get_stix_domain_entity. (Replaced by the StixDomainEntity class in pycti) -- Deprecated since version 2.1.0.\n",
      "INFO:root:Reading Stix-Domain-Entity {f60fefc3-0b8c-43a1-a839-49ac299e9a63}.\n",
      "C:\\ProgramData\\Anaconda3\\lib\\site-packages\\ipykernel_launcher.py:303: DeprecationWarning: Call to deprecated method get_stix_domain_entity. (Replaced by the StixDomainEntity class in pycti) -- Deprecated since version 2.1.0.\n",
      "INFO:root:Reading Stix-Domain-Entity {d380cf57-9810-438b-bb25-a652aaca9ab2}.\n"
     ]
    },
    {
     "name": "stdout",
     "output_type": "stream",
     "text": [
      "f60fefc3-0b8c-43a1-a839-49ac299e9a63\n",
      "d380cf57-9810-438b-bb25-a652aaca9ab2\n"
     ]
    },
    {
     "name": "stderr",
     "output_type": "stream",
     "text": [
      "INFO:root:Listing stix_relations with {type: indicates, from_id: f60fefc3-0b8c-43a1-a839-49ac299e9a63, to_id: d380cf57-9810-438b-bb25-a652aaca9ab2}\n",
      "INFO:root:Reading Report {a216498d-1d4c-4555-a6a5-c62f38300e74}.\n",
      "INFO:root:Adding Stix-Entity {70017d3f-e6b1-4f3b-9298-2c77d913a69b} to Report {a216498d-1d4c-4555-a6a5-c62f38300e74}\n",
      "C:\\ProgramData\\Anaconda3\\lib\\site-packages\\ipykernel_launcher.py:300: DeprecationWarning: Call to deprecated method get_stix_domain_entity. (Replaced by the StixDomainEntity class in pycti) -- Deprecated since version 2.1.0.\n",
      "INFO:root:Reading Stix-Domain-Entity {d6794fd7-a683-4328-b97a-7d5a2979ad71}.\n",
      "C:\\ProgramData\\Anaconda3\\lib\\site-packages\\ipykernel_launcher.py:303: DeprecationWarning: Call to deprecated method get_stix_domain_entity. (Replaced by the StixDomainEntity class in pycti) -- Deprecated since version 2.1.0.\n",
      "INFO:root:Reading Stix-Domain-Entity {d380cf57-9810-438b-bb25-a652aaca9ab2}.\n"
     ]
    },
    {
     "name": "stdout",
     "output_type": "stream",
     "text": [
      "d6794fd7-a683-4328-b97a-7d5a2979ad71\n",
      "d380cf57-9810-438b-bb25-a652aaca9ab2\n"
     ]
    },
    {
     "name": "stderr",
     "output_type": "stream",
     "text": [
      "INFO:root:Listing stix_relations with {type: indicates, from_id: d6794fd7-a683-4328-b97a-7d5a2979ad71, to_id: d380cf57-9810-438b-bb25-a652aaca9ab2}\n",
      "INFO:root:Reading Report {a216498d-1d4c-4555-a6a5-c62f38300e74}.\n",
      "INFO:root:Adding Stix-Entity {375fb3c1-5ffa-4987-8cb4-b4bece18ebe4} to Report {a216498d-1d4c-4555-a6a5-c62f38300e74}\n",
      "C:\\ProgramData\\Anaconda3\\lib\\site-packages\\ipykernel_launcher.py:300: DeprecationWarning: Call to deprecated method get_stix_domain_entity. (Replaced by the StixDomainEntity class in pycti) -- Deprecated since version 2.1.0.\n",
      "INFO:root:Reading Stix-Domain-Entity {d2a135dc-423c-4950-9cb6-76702e9643d4}.\n",
      "C:\\ProgramData\\Anaconda3\\lib\\site-packages\\ipykernel_launcher.py:303: DeprecationWarning: Call to deprecated method get_stix_domain_entity. (Replaced by the StixDomainEntity class in pycti) -- Deprecated since version 2.1.0.\n",
      "INFO:root:Reading Stix-Domain-Entity {d380cf57-9810-438b-bb25-a652aaca9ab2}.\n"
     ]
    },
    {
     "name": "stdout",
     "output_type": "stream",
     "text": [
      "d2a135dc-423c-4950-9cb6-76702e9643d4\n",
      "d380cf57-9810-438b-bb25-a652aaca9ab2\n"
     ]
    },
    {
     "name": "stderr",
     "output_type": "stream",
     "text": [
      "INFO:root:Listing stix_relations with {type: indicates, from_id: d2a135dc-423c-4950-9cb6-76702e9643d4, to_id: d380cf57-9810-438b-bb25-a652aaca9ab2}\n",
      "INFO:root:Reading Report {a216498d-1d4c-4555-a6a5-c62f38300e74}.\n",
      "INFO:root:Adding Stix-Entity {77d8616f-efae-4609-a6e0-c2bd41901271} to Report {a216498d-1d4c-4555-a6a5-c62f38300e74}\n",
      "C:\\ProgramData\\Anaconda3\\lib\\site-packages\\ipykernel_launcher.py:300: DeprecationWarning: Call to deprecated method get_stix_domain_entity. (Replaced by the StixDomainEntity class in pycti) -- Deprecated since version 2.1.0.\n",
      "INFO:root:Reading Stix-Domain-Entity {73db1ae5-8dcd-41fd-8eab-14c21c2c7744}.\n",
      "C:\\ProgramData\\Anaconda3\\lib\\site-packages\\ipykernel_launcher.py:303: DeprecationWarning: Call to deprecated method get_stix_domain_entity. (Replaced by the StixDomainEntity class in pycti) -- Deprecated since version 2.1.0.\n",
      "INFO:root:Reading Stix-Domain-Entity {d380cf57-9810-438b-bb25-a652aaca9ab2}.\n"
     ]
    },
    {
     "name": "stdout",
     "output_type": "stream",
     "text": [
      "73db1ae5-8dcd-41fd-8eab-14c21c2c7744\n",
      "d380cf57-9810-438b-bb25-a652aaca9ab2\n"
     ]
    },
    {
     "name": "stderr",
     "output_type": "stream",
     "text": [
      "INFO:root:Listing stix_relations with {type: indicates, from_id: 73db1ae5-8dcd-41fd-8eab-14c21c2c7744, to_id: d380cf57-9810-438b-bb25-a652aaca9ab2}\n",
      "INFO:root:Reading Report {a216498d-1d4c-4555-a6a5-c62f38300e74}.\n",
      "INFO:root:Adding Stix-Entity {68e23357-14d5-4ed5-9c45-4a39e3a557e3} to Report {a216498d-1d4c-4555-a6a5-c62f38300e74}\n",
      "C:\\ProgramData\\Anaconda3\\lib\\site-packages\\ipykernel_launcher.py:300: DeprecationWarning: Call to deprecated method get_stix_domain_entity. (Replaced by the StixDomainEntity class in pycti) -- Deprecated since version 2.1.0.\n",
      "INFO:root:Reading Stix-Domain-Entity {f169290a-7cab-4192-845c-4eae91127112}.\n",
      "C:\\ProgramData\\Anaconda3\\lib\\site-packages\\ipykernel_launcher.py:303: DeprecationWarning: Call to deprecated method get_stix_domain_entity. (Replaced by the StixDomainEntity class in pycti) -- Deprecated since version 2.1.0.\n",
      "INFO:root:Reading Stix-Domain-Entity {d380cf57-9810-438b-bb25-a652aaca9ab2}.\n"
     ]
    },
    {
     "name": "stdout",
     "output_type": "stream",
     "text": [
      "f169290a-7cab-4192-845c-4eae91127112\n",
      "d380cf57-9810-438b-bb25-a652aaca9ab2\n"
     ]
    },
    {
     "name": "stderr",
     "output_type": "stream",
     "text": [
      "INFO:root:Listing stix_relations with {type: indicates, from_id: f169290a-7cab-4192-845c-4eae91127112, to_id: d380cf57-9810-438b-bb25-a652aaca9ab2}\n",
      "INFO:root:Reading Report {a216498d-1d4c-4555-a6a5-c62f38300e74}.\n",
      "INFO:root:Adding Stix-Entity {217c1044-fea6-4132-a3c8-d9b61b23541a} to Report {a216498d-1d4c-4555-a6a5-c62f38300e74}\n",
      "C:\\ProgramData\\Anaconda3\\lib\\site-packages\\ipykernel_launcher.py:300: DeprecationWarning: Call to deprecated method get_stix_domain_entity. (Replaced by the StixDomainEntity class in pycti) -- Deprecated since version 2.1.0.\n",
      "INFO:root:Reading Stix-Domain-Entity {0d314eef-2be6-4ee3-8413-de4dd1684824}.\n",
      "C:\\ProgramData\\Anaconda3\\lib\\site-packages\\ipykernel_launcher.py:303: DeprecationWarning: Call to deprecated method get_stix_domain_entity. (Replaced by the StixDomainEntity class in pycti) -- Deprecated since version 2.1.0.\n",
      "INFO:root:Reading Stix-Domain-Entity {d380cf57-9810-438b-bb25-a652aaca9ab2}.\n"
     ]
    },
    {
     "name": "stdout",
     "output_type": "stream",
     "text": [
      "0d314eef-2be6-4ee3-8413-de4dd1684824\n",
      "d380cf57-9810-438b-bb25-a652aaca9ab2\n"
     ]
    },
    {
     "name": "stderr",
     "output_type": "stream",
     "text": [
      "INFO:root:Listing stix_relations with {type: indicates, from_id: 0d314eef-2be6-4ee3-8413-de4dd1684824, to_id: d380cf57-9810-438b-bb25-a652aaca9ab2}\n",
      "INFO:root:Reading Report {a216498d-1d4c-4555-a6a5-c62f38300e74}.\n",
      "INFO:root:Adding Stix-Entity {c8b9fc9f-1904-42ca-9f62-850788785019} to Report {a216498d-1d4c-4555-a6a5-c62f38300e74}\n",
      "C:\\ProgramData\\Anaconda3\\lib\\site-packages\\ipykernel_launcher.py:300: DeprecationWarning: Call to deprecated method get_stix_domain_entity. (Replaced by the StixDomainEntity class in pycti) -- Deprecated since version 2.1.0.\n",
      "INFO:root:Reading Stix-Domain-Entity {d4b7f77f-9497-4bbc-89c8-e2ab87d5a6ab}.\n",
      "C:\\ProgramData\\Anaconda3\\lib\\site-packages\\ipykernel_launcher.py:303: DeprecationWarning: Call to deprecated method get_stix_domain_entity. (Replaced by the StixDomainEntity class in pycti) -- Deprecated since version 2.1.0.\n",
      "INFO:root:Reading Stix-Domain-Entity {d380cf57-9810-438b-bb25-a652aaca9ab2}.\n"
     ]
    },
    {
     "name": "stdout",
     "output_type": "stream",
     "text": [
      "d4b7f77f-9497-4bbc-89c8-e2ab87d5a6ab\n",
      "d380cf57-9810-438b-bb25-a652aaca9ab2\n"
     ]
    },
    {
     "name": "stderr",
     "output_type": "stream",
     "text": [
      "INFO:root:Listing stix_relations with {type: indicates, from_id: d4b7f77f-9497-4bbc-89c8-e2ab87d5a6ab, to_id: d380cf57-9810-438b-bb25-a652aaca9ab2}\n",
      "INFO:root:Reading Report {a216498d-1d4c-4555-a6a5-c62f38300e74}.\n",
      "INFO:root:Adding Stix-Entity {199ddab7-bfa4-4bf3-bdb2-74ac10d60851} to Report {a216498d-1d4c-4555-a6a5-c62f38300e74}\n",
      "C:\\ProgramData\\Anaconda3\\lib\\site-packages\\ipykernel_launcher.py:300: DeprecationWarning: Call to deprecated method get_stix_domain_entity. (Replaced by the StixDomainEntity class in pycti) -- Deprecated since version 2.1.0.\n",
      "INFO:root:Reading Stix-Domain-Entity {1e7ced89-7209-4729-9f10-ba69cf15a6a7}.\n",
      "C:\\ProgramData\\Anaconda3\\lib\\site-packages\\ipykernel_launcher.py:303: DeprecationWarning: Call to deprecated method get_stix_domain_entity. (Replaced by the StixDomainEntity class in pycti) -- Deprecated since version 2.1.0.\n",
      "INFO:root:Reading Stix-Domain-Entity {d380cf57-9810-438b-bb25-a652aaca9ab2}.\n"
     ]
    },
    {
     "name": "stdout",
     "output_type": "stream",
     "text": [
      "1e7ced89-7209-4729-9f10-ba69cf15a6a7\n",
      "d380cf57-9810-438b-bb25-a652aaca9ab2\n"
     ]
    },
    {
     "name": "stderr",
     "output_type": "stream",
     "text": [
      "INFO:root:Listing stix_relations with {type: indicates, from_id: 1e7ced89-7209-4729-9f10-ba69cf15a6a7, to_id: d380cf57-9810-438b-bb25-a652aaca9ab2}\n",
      "INFO:root:Reading Report {a216498d-1d4c-4555-a6a5-c62f38300e74}.\n",
      "INFO:root:Adding Stix-Entity {915d72b7-786b-4ef5-a9b7-e904d3c74dd3} to Report {a216498d-1d4c-4555-a6a5-c62f38300e74}\n",
      "C:\\ProgramData\\Anaconda3\\lib\\site-packages\\ipykernel_launcher.py:300: DeprecationWarning: Call to deprecated method get_stix_domain_entity. (Replaced by the StixDomainEntity class in pycti) -- Deprecated since version 2.1.0.\n",
      "INFO:root:Reading Stix-Domain-Entity {ade04b83-29a8-4ecf-a486-3e7decdbd7a3}.\n",
      "C:\\ProgramData\\Anaconda3\\lib\\site-packages\\ipykernel_launcher.py:303: DeprecationWarning: Call to deprecated method get_stix_domain_entity. (Replaced by the StixDomainEntity class in pycti) -- Deprecated since version 2.1.0.\n",
      "INFO:root:Reading Stix-Domain-Entity {d380cf57-9810-438b-bb25-a652aaca9ab2}.\n"
     ]
    },
    {
     "name": "stdout",
     "output_type": "stream",
     "text": [
      "ade04b83-29a8-4ecf-a486-3e7decdbd7a3\n",
      "d380cf57-9810-438b-bb25-a652aaca9ab2\n"
     ]
    },
    {
     "name": "stderr",
     "output_type": "stream",
     "text": [
      "INFO:root:Listing stix_relations with {type: indicates, from_id: ade04b83-29a8-4ecf-a486-3e7decdbd7a3, to_id: d380cf57-9810-438b-bb25-a652aaca9ab2}\n",
      "INFO:root:Reading Report {a216498d-1d4c-4555-a6a5-c62f38300e74}.\n",
      "INFO:root:Adding Stix-Entity {9de8a99e-9b60-4ca8-bd17-5781f5e58502} to Report {a216498d-1d4c-4555-a6a5-c62f38300e74}\n",
      "C:\\ProgramData\\Anaconda3\\lib\\site-packages\\ipykernel_launcher.py:300: DeprecationWarning: Call to deprecated method get_stix_domain_entity. (Replaced by the StixDomainEntity class in pycti) -- Deprecated since version 2.1.0.\n",
      "INFO:root:Reading Stix-Domain-Entity {11bfef3d-a1fe-4560-a470-9038325b2048}.\n",
      "C:\\ProgramData\\Anaconda3\\lib\\site-packages\\ipykernel_launcher.py:303: DeprecationWarning: Call to deprecated method get_stix_domain_entity. (Replaced by the StixDomainEntity class in pycti) -- Deprecated since version 2.1.0.\n",
      "INFO:root:Reading Stix-Domain-Entity {d380cf57-9810-438b-bb25-a652aaca9ab2}.\n"
     ]
    },
    {
     "name": "stdout",
     "output_type": "stream",
     "text": [
      "11bfef3d-a1fe-4560-a470-9038325b2048\n",
      "d380cf57-9810-438b-bb25-a652aaca9ab2\n"
     ]
    },
    {
     "name": "stderr",
     "output_type": "stream",
     "text": [
      "INFO:root:Listing stix_relations with {type: indicates, from_id: 11bfef3d-a1fe-4560-a470-9038325b2048, to_id: d380cf57-9810-438b-bb25-a652aaca9ab2}\n",
      "INFO:root:Reading Report {a216498d-1d4c-4555-a6a5-c62f38300e74}.\n",
      "INFO:root:Adding Stix-Entity {aa4f88ca-9bd0-4ac7-ba7e-8873f0144400} to Report {a216498d-1d4c-4555-a6a5-c62f38300e74}\n",
      "C:\\ProgramData\\Anaconda3\\lib\\site-packages\\ipykernel_launcher.py:300: DeprecationWarning: Call to deprecated method get_stix_domain_entity. (Replaced by the StixDomainEntity class in pycti) -- Deprecated since version 2.1.0.\n",
      "INFO:root:Reading Stix-Domain-Entity {de305cb5-1b59-4fb0-bbcf-1aed2d220e95}.\n",
      "C:\\ProgramData\\Anaconda3\\lib\\site-packages\\ipykernel_launcher.py:303: DeprecationWarning: Call to deprecated method get_stix_domain_entity. (Replaced by the StixDomainEntity class in pycti) -- Deprecated since version 2.1.0.\n",
      "INFO:root:Reading Stix-Domain-Entity {d380cf57-9810-438b-bb25-a652aaca9ab2}.\n"
     ]
    },
    {
     "name": "stdout",
     "output_type": "stream",
     "text": [
      "de305cb5-1b59-4fb0-bbcf-1aed2d220e95\n",
      "d380cf57-9810-438b-bb25-a652aaca9ab2\n"
     ]
    },
    {
     "name": "stderr",
     "output_type": "stream",
     "text": [
      "INFO:root:Listing stix_relations with {type: indicates, from_id: de305cb5-1b59-4fb0-bbcf-1aed2d220e95, to_id: d380cf57-9810-438b-bb25-a652aaca9ab2}\n",
      "INFO:root:Reading Report {a216498d-1d4c-4555-a6a5-c62f38300e74}.\n",
      "INFO:root:Adding Stix-Entity {df91345b-c0e4-499b-b26e-6119c7f33254} to Report {a216498d-1d4c-4555-a6a5-c62f38300e74}\n",
      "C:\\ProgramData\\Anaconda3\\lib\\site-packages\\ipykernel_launcher.py:300: DeprecationWarning: Call to deprecated method get_stix_domain_entity. (Replaced by the StixDomainEntity class in pycti) -- Deprecated since version 2.1.0.\n",
      "INFO:root:Reading Stix-Domain-Entity {1e01de5c-fde1-4285-9e11-4f7de7b2aa84}.\n",
      "C:\\ProgramData\\Anaconda3\\lib\\site-packages\\ipykernel_launcher.py:303: DeprecationWarning: Call to deprecated method get_stix_domain_entity. (Replaced by the StixDomainEntity class in pycti) -- Deprecated since version 2.1.0.\n",
      "INFO:root:Reading Stix-Domain-Entity {d380cf57-9810-438b-bb25-a652aaca9ab2}.\n"
     ]
    },
    {
     "name": "stdout",
     "output_type": "stream",
     "text": [
      "1e01de5c-fde1-4285-9e11-4f7de7b2aa84\n",
      "d380cf57-9810-438b-bb25-a652aaca9ab2\n"
     ]
    },
    {
     "name": "stderr",
     "output_type": "stream",
     "text": [
      "INFO:root:Listing stix_relations with {type: indicates, from_id: 1e01de5c-fde1-4285-9e11-4f7de7b2aa84, to_id: d380cf57-9810-438b-bb25-a652aaca9ab2}\n",
      "INFO:root:Reading Report {a216498d-1d4c-4555-a6a5-c62f38300e74}.\n",
      "INFO:root:Adding Stix-Entity {2a5b58be-dfa3-4af5-b676-45a6a61566a7} to Report {a216498d-1d4c-4555-a6a5-c62f38300e74}\n",
      "C:\\ProgramData\\Anaconda3\\lib\\site-packages\\ipykernel_launcher.py:300: DeprecationWarning: Call to deprecated method get_stix_domain_entity. (Replaced by the StixDomainEntity class in pycti) -- Deprecated since version 2.1.0.\n",
      "INFO:root:Reading Stix-Domain-Entity {2c01c491-e00f-4392-8b07-dc25c4e30f2d}.\n",
      "C:\\ProgramData\\Anaconda3\\lib\\site-packages\\ipykernel_launcher.py:303: DeprecationWarning: Call to deprecated method get_stix_domain_entity. (Replaced by the StixDomainEntity class in pycti) -- Deprecated since version 2.1.0.\n",
      "INFO:root:Reading Stix-Domain-Entity {d380cf57-9810-438b-bb25-a652aaca9ab2}.\n"
     ]
    },
    {
     "name": "stdout",
     "output_type": "stream",
     "text": [
      "2c01c491-e00f-4392-8b07-dc25c4e30f2d\n",
      "d380cf57-9810-438b-bb25-a652aaca9ab2\n"
     ]
    },
    {
     "name": "stderr",
     "output_type": "stream",
     "text": [
      "INFO:root:Listing stix_relations with {type: indicates, from_id: 2c01c491-e00f-4392-8b07-dc25c4e30f2d, to_id: d380cf57-9810-438b-bb25-a652aaca9ab2}\n",
      "INFO:root:Reading Report {a216498d-1d4c-4555-a6a5-c62f38300e74}.\n",
      "INFO:root:Adding Stix-Entity {7875757e-e01f-411f-8049-d4ceb0da62b6} to Report {a216498d-1d4c-4555-a6a5-c62f38300e74}\n",
      "C:\\ProgramData\\Anaconda3\\lib\\site-packages\\ipykernel_launcher.py:300: DeprecationWarning: Call to deprecated method get_stix_domain_entity. (Replaced by the StixDomainEntity class in pycti) -- Deprecated since version 2.1.0.\n",
      "INFO:root:Reading Stix-Domain-Entity {21ab4ef5-9297-4ae2-9fac-62b50ebbaac6}.\n",
      "C:\\ProgramData\\Anaconda3\\lib\\site-packages\\ipykernel_launcher.py:303: DeprecationWarning: Call to deprecated method get_stix_domain_entity. (Replaced by the StixDomainEntity class in pycti) -- Deprecated since version 2.1.0.\n",
      "INFO:root:Reading Stix-Domain-Entity {d380cf57-9810-438b-bb25-a652aaca9ab2}.\n"
     ]
    },
    {
     "name": "stdout",
     "output_type": "stream",
     "text": [
      "21ab4ef5-9297-4ae2-9fac-62b50ebbaac6\n",
      "d380cf57-9810-438b-bb25-a652aaca9ab2\n"
     ]
    },
    {
     "name": "stderr",
     "output_type": "stream",
     "text": [
      "INFO:root:Listing stix_relations with {type: indicates, from_id: 21ab4ef5-9297-4ae2-9fac-62b50ebbaac6, to_id: d380cf57-9810-438b-bb25-a652aaca9ab2}\n",
      "INFO:root:Reading Report {a216498d-1d4c-4555-a6a5-c62f38300e74}.\n",
      "INFO:root:Adding Stix-Entity {4d9c50f8-c379-43ee-b81b-99b98c2c6420} to Report {a216498d-1d4c-4555-a6a5-c62f38300e74}\n",
      "C:\\ProgramData\\Anaconda3\\lib\\site-packages\\ipykernel_launcher.py:300: DeprecationWarning: Call to deprecated method get_stix_domain_entity. (Replaced by the StixDomainEntity class in pycti) -- Deprecated since version 2.1.0.\n",
      "INFO:root:Reading Stix-Domain-Entity {74d0b648-ba9c-48f6-a6c9-56ce608f765e}.\n",
      "C:\\ProgramData\\Anaconda3\\lib\\site-packages\\ipykernel_launcher.py:303: DeprecationWarning: Call to deprecated method get_stix_domain_entity. (Replaced by the StixDomainEntity class in pycti) -- Deprecated since version 2.1.0.\n",
      "INFO:root:Reading Stix-Domain-Entity {d380cf57-9810-438b-bb25-a652aaca9ab2}.\n"
     ]
    },
    {
     "name": "stdout",
     "output_type": "stream",
     "text": [
      "74d0b648-ba9c-48f6-a6c9-56ce608f765e\n",
      "d380cf57-9810-438b-bb25-a652aaca9ab2\n"
     ]
    },
    {
     "name": "stderr",
     "output_type": "stream",
     "text": [
      "INFO:root:Listing stix_relations with {type: indicates, from_id: 74d0b648-ba9c-48f6-a6c9-56ce608f765e, to_id: d380cf57-9810-438b-bb25-a652aaca9ab2}\n",
      "INFO:root:Reading Report {a216498d-1d4c-4555-a6a5-c62f38300e74}.\n",
      "INFO:root:Adding Stix-Entity {093719f6-1cf9-4d1c-a73a-bed7a4680018} to Report {a216498d-1d4c-4555-a6a5-c62f38300e74}\n",
      "C:\\ProgramData\\Anaconda3\\lib\\site-packages\\ipykernel_launcher.py:300: DeprecationWarning: Call to deprecated method get_stix_domain_entity. (Replaced by the StixDomainEntity class in pycti) -- Deprecated since version 2.1.0.\n",
      "INFO:root:Reading Stix-Domain-Entity {bafbde6d-3399-440d-8b5b-9af8e95c8fd2}.\n",
      "C:\\ProgramData\\Anaconda3\\lib\\site-packages\\ipykernel_launcher.py:303: DeprecationWarning: Call to deprecated method get_stix_domain_entity. (Replaced by the StixDomainEntity class in pycti) -- Deprecated since version 2.1.0.\n",
      "INFO:root:Reading Stix-Domain-Entity {d380cf57-9810-438b-bb25-a652aaca9ab2}.\n"
     ]
    },
    {
     "name": "stdout",
     "output_type": "stream",
     "text": [
      "bafbde6d-3399-440d-8b5b-9af8e95c8fd2\n",
      "d380cf57-9810-438b-bb25-a652aaca9ab2\n"
     ]
    },
    {
     "name": "stderr",
     "output_type": "stream",
     "text": [
      "INFO:root:Listing stix_relations with {type: indicates, from_id: bafbde6d-3399-440d-8b5b-9af8e95c8fd2, to_id: d380cf57-9810-438b-bb25-a652aaca9ab2}\n",
      "INFO:root:Reading Report {a216498d-1d4c-4555-a6a5-c62f38300e74}.\n",
      "INFO:root:Adding Stix-Entity {4d85dfb3-a392-4401-9797-5f596b22b67f} to Report {a216498d-1d4c-4555-a6a5-c62f38300e74}\n",
      "C:\\ProgramData\\Anaconda3\\lib\\site-packages\\ipykernel_launcher.py:300: DeprecationWarning: Call to deprecated method get_stix_domain_entity. (Replaced by the StixDomainEntity class in pycti) -- Deprecated since version 2.1.0.\n",
      "INFO:root:Reading Stix-Domain-Entity {7ef823f1-0195-4b38-9dab-207e290ce510}.\n",
      "C:\\ProgramData\\Anaconda3\\lib\\site-packages\\ipykernel_launcher.py:303: DeprecationWarning: Call to deprecated method get_stix_domain_entity. (Replaced by the StixDomainEntity class in pycti) -- Deprecated since version 2.1.0.\n",
      "INFO:root:Reading Stix-Domain-Entity {d380cf57-9810-438b-bb25-a652aaca9ab2}.\n"
     ]
    },
    {
     "name": "stdout",
     "output_type": "stream",
     "text": [
      "7ef823f1-0195-4b38-9dab-207e290ce510\n",
      "d380cf57-9810-438b-bb25-a652aaca9ab2\n"
     ]
    },
    {
     "name": "stderr",
     "output_type": "stream",
     "text": [
      "INFO:root:Listing stix_relations with {type: indicates, from_id: 7ef823f1-0195-4b38-9dab-207e290ce510, to_id: d380cf57-9810-438b-bb25-a652aaca9ab2}\n",
      "INFO:root:Reading Report {a216498d-1d4c-4555-a6a5-c62f38300e74}.\n",
      "INFO:root:Adding Stix-Entity {6c47e23e-d081-4a9f-827c-a4f54d0dced3} to Report {a216498d-1d4c-4555-a6a5-c62f38300e74}\n",
      "C:\\ProgramData\\Anaconda3\\lib\\site-packages\\ipykernel_launcher.py:300: DeprecationWarning: Call to deprecated method get_stix_domain_entity. (Replaced by the StixDomainEntity class in pycti) -- Deprecated since version 2.1.0.\n",
      "INFO:root:Reading Stix-Domain-Entity {899f2aa3-74f1-4727-a09f-24e793eedcc8}.\n",
      "C:\\ProgramData\\Anaconda3\\lib\\site-packages\\ipykernel_launcher.py:303: DeprecationWarning: Call to deprecated method get_stix_domain_entity. (Replaced by the StixDomainEntity class in pycti) -- Deprecated since version 2.1.0.\n",
      "INFO:root:Reading Stix-Domain-Entity {d380cf57-9810-438b-bb25-a652aaca9ab2}.\n"
     ]
    },
    {
     "name": "stdout",
     "output_type": "stream",
     "text": [
      "899f2aa3-74f1-4727-a09f-24e793eedcc8\n",
      "d380cf57-9810-438b-bb25-a652aaca9ab2\n"
     ]
    },
    {
     "name": "stderr",
     "output_type": "stream",
     "text": [
      "INFO:root:Listing stix_relations with {type: indicates, from_id: 899f2aa3-74f1-4727-a09f-24e793eedcc8, to_id: d380cf57-9810-438b-bb25-a652aaca9ab2}\n",
      "INFO:root:Reading Report {a216498d-1d4c-4555-a6a5-c62f38300e74}.\n",
      "INFO:root:Adding Stix-Entity {203368db-8662-4dbf-acba-02614ffc3338} to Report {a216498d-1d4c-4555-a6a5-c62f38300e74}\n",
      "C:\\ProgramData\\Anaconda3\\lib\\site-packages\\ipykernel_launcher.py:300: DeprecationWarning: Call to deprecated method get_stix_domain_entity. (Replaced by the StixDomainEntity class in pycti) -- Deprecated since version 2.1.0.\n",
      "INFO:root:Reading Stix-Domain-Entity {26f2c760-8f92-4b12-a7f1-d8c76521f5f5}.\n",
      "C:\\ProgramData\\Anaconda3\\lib\\site-packages\\ipykernel_launcher.py:303: DeprecationWarning: Call to deprecated method get_stix_domain_entity. (Replaced by the StixDomainEntity class in pycti) -- Deprecated since version 2.1.0.\n",
      "INFO:root:Reading Stix-Domain-Entity {d380cf57-9810-438b-bb25-a652aaca9ab2}.\n"
     ]
    },
    {
     "name": "stdout",
     "output_type": "stream",
     "text": [
      "26f2c760-8f92-4b12-a7f1-d8c76521f5f5\n",
      "d380cf57-9810-438b-bb25-a652aaca9ab2\n"
     ]
    },
    {
     "name": "stderr",
     "output_type": "stream",
     "text": [
      "INFO:root:Listing stix_relations with {type: indicates, from_id: 26f2c760-8f92-4b12-a7f1-d8c76521f5f5, to_id: d380cf57-9810-438b-bb25-a652aaca9ab2}\n",
      "INFO:root:Reading Report {a216498d-1d4c-4555-a6a5-c62f38300e74}.\n",
      "INFO:root:Adding Stix-Entity {43234ade-9222-4f5b-bcc9-3ad8c24c67e8} to Report {a216498d-1d4c-4555-a6a5-c62f38300e74}\n",
      "C:\\ProgramData\\Anaconda3\\lib\\site-packages\\ipykernel_launcher.py:300: DeprecationWarning: Call to deprecated method get_stix_domain_entity. (Replaced by the StixDomainEntity class in pycti) -- Deprecated since version 2.1.0.\n",
      "INFO:root:Reading Stix-Domain-Entity {3803bcc7-f78b-4528-a181-be3884988380}.\n",
      "C:\\ProgramData\\Anaconda3\\lib\\site-packages\\ipykernel_launcher.py:303: DeprecationWarning: Call to deprecated method get_stix_domain_entity. (Replaced by the StixDomainEntity class in pycti) -- Deprecated since version 2.1.0.\n",
      "INFO:root:Reading Stix-Domain-Entity {d380cf57-9810-438b-bb25-a652aaca9ab2}.\n"
     ]
    },
    {
     "name": "stdout",
     "output_type": "stream",
     "text": [
      "3803bcc7-f78b-4528-a181-be3884988380\n",
      "d380cf57-9810-438b-bb25-a652aaca9ab2\n"
     ]
    },
    {
     "name": "stderr",
     "output_type": "stream",
     "text": [
      "INFO:root:Listing stix_relations with {type: indicates, from_id: 3803bcc7-f78b-4528-a181-be3884988380, to_id: d380cf57-9810-438b-bb25-a652aaca9ab2}\n",
      "INFO:root:Reading Report {a216498d-1d4c-4555-a6a5-c62f38300e74}.\n",
      "INFO:root:Adding Stix-Entity {9a3f363d-4210-46c7-9251-919a85c34089} to Report {a216498d-1d4c-4555-a6a5-c62f38300e74}\n",
      "C:\\ProgramData\\Anaconda3\\lib\\site-packages\\ipykernel_launcher.py:300: DeprecationWarning: Call to deprecated method get_stix_domain_entity. (Replaced by the StixDomainEntity class in pycti) -- Deprecated since version 2.1.0.\n",
      "INFO:root:Reading Stix-Domain-Entity {3803bcc7-f78b-4528-a181-be3884988380}.\n",
      "C:\\ProgramData\\Anaconda3\\lib\\site-packages\\ipykernel_launcher.py:303: DeprecationWarning: Call to deprecated method get_stix_domain_entity. (Replaced by the StixDomainEntity class in pycti) -- Deprecated since version 2.1.0.\n",
      "INFO:root:Reading Stix-Domain-Entity {d380cf57-9810-438b-bb25-a652aaca9ab2}.\n"
     ]
    },
    {
     "name": "stdout",
     "output_type": "stream",
     "text": [
      "3803bcc7-f78b-4528-a181-be3884988380\n",
      "d380cf57-9810-438b-bb25-a652aaca9ab2\n"
     ]
    },
    {
     "name": "stderr",
     "output_type": "stream",
     "text": [
      "INFO:root:Listing stix_relations with {type: indicates, from_id: 3803bcc7-f78b-4528-a181-be3884988380, to_id: d380cf57-9810-438b-bb25-a652aaca9ab2}\n",
      "INFO:root:Reading Report {a216498d-1d4c-4555-a6a5-c62f38300e74}.\n",
      "INFO:root:Adding Stix-Entity {9a3f363d-4210-46c7-9251-919a85c34089} to Report {a216498d-1d4c-4555-a6a5-c62f38300e74}\n",
      "ERROR:root:A database error has occured!\n",
      "C:\\ProgramData\\Anaconda3\\lib\\site-packages\\ipykernel_launcher.py:300: DeprecationWarning: Call to deprecated method get_stix_domain_entity. (Replaced by the StixDomainEntity class in pycti) -- Deprecated since version 2.1.0.\n",
      "INFO:root:Reading Stix-Domain-Entity {2d93631e-bf77-4378-acd9-c7dcec5e059b}.\n",
      "C:\\ProgramData\\Anaconda3\\lib\\site-packages\\ipykernel_launcher.py:303: DeprecationWarning: Call to deprecated method get_stix_domain_entity. (Replaced by the StixDomainEntity class in pycti) -- Deprecated since version 2.1.0.\n",
      "INFO:root:Reading Stix-Domain-Entity {d380cf57-9810-438b-bb25-a652aaca9ab2}.\n"
     ]
    },
    {
     "name": "stdout",
     "output_type": "stream",
     "text": [
      "2d93631e-bf77-4378-acd9-c7dcec5e059b\n",
      "d380cf57-9810-438b-bb25-a652aaca9ab2\n"
     ]
    },
    {
     "name": "stderr",
     "output_type": "stream",
     "text": [
      "INFO:root:Listing stix_relations with {type: indicates, from_id: 2d93631e-bf77-4378-acd9-c7dcec5e059b, to_id: d380cf57-9810-438b-bb25-a652aaca9ab2}\n",
      "INFO:root:Reading Report {a216498d-1d4c-4555-a6a5-c62f38300e74}.\n",
      "INFO:root:Adding Stix-Entity {6f230fda-08a3-4b47-b692-d1d49298b8f5} to Report {a216498d-1d4c-4555-a6a5-c62f38300e74}\n",
      "C:\\ProgramData\\Anaconda3\\lib\\site-packages\\ipykernel_launcher.py:300: DeprecationWarning: Call to deprecated method get_stix_domain_entity. (Replaced by the StixDomainEntity class in pycti) -- Deprecated since version 2.1.0.\n",
      "INFO:root:Reading Stix-Domain-Entity {dd3ba5d6-8c3e-45b2-9778-1c17af49a476}.\n",
      "C:\\ProgramData\\Anaconda3\\lib\\site-packages\\ipykernel_launcher.py:303: DeprecationWarning: Call to deprecated method get_stix_domain_entity. (Replaced by the StixDomainEntity class in pycti) -- Deprecated since version 2.1.0.\n",
      "INFO:root:Reading Stix-Domain-Entity {d380cf57-9810-438b-bb25-a652aaca9ab2}.\n"
     ]
    },
    {
     "name": "stdout",
     "output_type": "stream",
     "text": [
      "dd3ba5d6-8c3e-45b2-9778-1c17af49a476\n",
      "d380cf57-9810-438b-bb25-a652aaca9ab2\n"
     ]
    },
    {
     "name": "stderr",
     "output_type": "stream",
     "text": [
      "INFO:root:Listing stix_relations with {type: indicates, from_id: dd3ba5d6-8c3e-45b2-9778-1c17af49a476, to_id: d380cf57-9810-438b-bb25-a652aaca9ab2}\n",
      "INFO:root:Reading Report {a216498d-1d4c-4555-a6a5-c62f38300e74}.\n",
      "INFO:root:Adding Stix-Entity {442d0a27-6616-423a-9f86-09d48874b578} to Report {a216498d-1d4c-4555-a6a5-c62f38300e74}\n",
      "C:\\ProgramData\\Anaconda3\\lib\\site-packages\\ipykernel_launcher.py:300: DeprecationWarning: Call to deprecated method get_stix_domain_entity. (Replaced by the StixDomainEntity class in pycti) -- Deprecated since version 2.1.0.\n",
      "INFO:root:Reading Stix-Domain-Entity {782d43fa-2c17-4010-97dd-7e7d3ec6d9e1}.\n",
      "C:\\ProgramData\\Anaconda3\\lib\\site-packages\\ipykernel_launcher.py:303: DeprecationWarning: Call to deprecated method get_stix_domain_entity. (Replaced by the StixDomainEntity class in pycti) -- Deprecated since version 2.1.0.\n",
      "INFO:root:Reading Stix-Domain-Entity {d380cf57-9810-438b-bb25-a652aaca9ab2}.\n"
     ]
    },
    {
     "name": "stdout",
     "output_type": "stream",
     "text": [
      "782d43fa-2c17-4010-97dd-7e7d3ec6d9e1\n",
      "d380cf57-9810-438b-bb25-a652aaca9ab2\n"
     ]
    },
    {
     "name": "stderr",
     "output_type": "stream",
     "text": [
      "INFO:root:Listing stix_relations with {type: indicates, from_id: 782d43fa-2c17-4010-97dd-7e7d3ec6d9e1, to_id: d380cf57-9810-438b-bb25-a652aaca9ab2}\n",
      "INFO:root:Reading Report {a216498d-1d4c-4555-a6a5-c62f38300e74}.\n",
      "INFO:root:Adding Stix-Entity {eda565fc-5501-4e0b-82a1-8d5fcad81c44} to Report {a216498d-1d4c-4555-a6a5-c62f38300e74}\n",
      "C:\\ProgramData\\Anaconda3\\lib\\site-packages\\ipykernel_launcher.py:300: DeprecationWarning: Call to deprecated method get_stix_domain_entity. (Replaced by the StixDomainEntity class in pycti) -- Deprecated since version 2.1.0.\n",
      "INFO:root:Reading Stix-Domain-Entity {dc64a28f-b671-4997-81fc-6cf1caa9b9ff}.\n",
      "C:\\ProgramData\\Anaconda3\\lib\\site-packages\\ipykernel_launcher.py:303: DeprecationWarning: Call to deprecated method get_stix_domain_entity. (Replaced by the StixDomainEntity class in pycti) -- Deprecated since version 2.1.0.\n",
      "INFO:root:Reading Stix-Domain-Entity {d380cf57-9810-438b-bb25-a652aaca9ab2}.\n"
     ]
    },
    {
     "name": "stdout",
     "output_type": "stream",
     "text": [
      "dc64a28f-b671-4997-81fc-6cf1caa9b9ff\n",
      "d380cf57-9810-438b-bb25-a652aaca9ab2\n"
     ]
    },
    {
     "name": "stderr",
     "output_type": "stream",
     "text": [
      "INFO:root:Listing stix_relations with {type: indicates, from_id: dc64a28f-b671-4997-81fc-6cf1caa9b9ff, to_id: d380cf57-9810-438b-bb25-a652aaca9ab2}\n",
      "INFO:root:Reading Report {a216498d-1d4c-4555-a6a5-c62f38300e74}.\n",
      "INFO:root:Adding Stix-Entity {2a69657a-bc07-4590-aa70-3591a90c2445} to Report {a216498d-1d4c-4555-a6a5-c62f38300e74}\n",
      "C:\\ProgramData\\Anaconda3\\lib\\site-packages\\ipykernel_launcher.py:300: DeprecationWarning: Call to deprecated method get_stix_domain_entity. (Replaced by the StixDomainEntity class in pycti) -- Deprecated since version 2.1.0.\n",
      "INFO:root:Reading Stix-Domain-Entity {e322676c-00a4-42dd-9329-26a7170caf00}.\n",
      "C:\\ProgramData\\Anaconda3\\lib\\site-packages\\ipykernel_launcher.py:303: DeprecationWarning: Call to deprecated method get_stix_domain_entity. (Replaced by the StixDomainEntity class in pycti) -- Deprecated since version 2.1.0.\n",
      "INFO:root:Reading Stix-Domain-Entity {d380cf57-9810-438b-bb25-a652aaca9ab2}.\n"
     ]
    },
    {
     "name": "stdout",
     "output_type": "stream",
     "text": [
      "e322676c-00a4-42dd-9329-26a7170caf00\n",
      "d380cf57-9810-438b-bb25-a652aaca9ab2\n"
     ]
    },
    {
     "name": "stderr",
     "output_type": "stream",
     "text": [
      "INFO:root:Listing stix_relations with {type: indicates, from_id: e322676c-00a4-42dd-9329-26a7170caf00, to_id: d380cf57-9810-438b-bb25-a652aaca9ab2}\n",
      "INFO:root:Reading Report {a216498d-1d4c-4555-a6a5-c62f38300e74}.\n",
      "INFO:root:Adding Stix-Entity {dfb2c3fa-a5a6-4bb3-8625-7a9905db2ef9} to Report {a216498d-1d4c-4555-a6a5-c62f38300e74}\n",
      "C:\\ProgramData\\Anaconda3\\lib\\site-packages\\ipykernel_launcher.py:300: DeprecationWarning: Call to deprecated method get_stix_domain_entity. (Replaced by the StixDomainEntity class in pycti) -- Deprecated since version 2.1.0.\n",
      "INFO:root:Reading Stix-Domain-Entity {e6df31a7-f561-4804-9abb-422dc45159a1}.\n",
      "C:\\ProgramData\\Anaconda3\\lib\\site-packages\\ipykernel_launcher.py:303: DeprecationWarning: Call to deprecated method get_stix_domain_entity. (Replaced by the StixDomainEntity class in pycti) -- Deprecated since version 2.1.0.\n",
      "INFO:root:Reading Stix-Domain-Entity {d380cf57-9810-438b-bb25-a652aaca9ab2}.\n"
     ]
    },
    {
     "name": "stdout",
     "output_type": "stream",
     "text": [
      "e6df31a7-f561-4804-9abb-422dc45159a1\n",
      "d380cf57-9810-438b-bb25-a652aaca9ab2\n"
     ]
    },
    {
     "name": "stderr",
     "output_type": "stream",
     "text": [
      "INFO:root:Listing stix_relations with {type: indicates, from_id: e6df31a7-f561-4804-9abb-422dc45159a1, to_id: d380cf57-9810-438b-bb25-a652aaca9ab2}\n",
      "INFO:root:Reading Report {a216498d-1d4c-4555-a6a5-c62f38300e74}.\n",
      "INFO:root:Adding Stix-Entity {d8a4fc4c-63e1-4d51-902a-66c1b4bbd772} to Report {a216498d-1d4c-4555-a6a5-c62f38300e74}\n",
      "C:\\ProgramData\\Anaconda3\\lib\\site-packages\\ipykernel_launcher.py:300: DeprecationWarning: Call to deprecated method get_stix_domain_entity. (Replaced by the StixDomainEntity class in pycti) -- Deprecated since version 2.1.0.\n",
      "INFO:root:Reading Stix-Domain-Entity {9bf4bff1-fe60-4287-844e-a31fdd7779f2}.\n",
      "C:\\ProgramData\\Anaconda3\\lib\\site-packages\\ipykernel_launcher.py:303: DeprecationWarning: Call to deprecated method get_stix_domain_entity. (Replaced by the StixDomainEntity class in pycti) -- Deprecated since version 2.1.0.\n",
      "INFO:root:Reading Stix-Domain-Entity {d380cf57-9810-438b-bb25-a652aaca9ab2}.\n"
     ]
    },
    {
     "name": "stdout",
     "output_type": "stream",
     "text": [
      "9bf4bff1-fe60-4287-844e-a31fdd7779f2\n",
      "d380cf57-9810-438b-bb25-a652aaca9ab2\n"
     ]
    },
    {
     "name": "stderr",
     "output_type": "stream",
     "text": [
      "INFO:root:Listing stix_relations with {type: indicates, from_id: 9bf4bff1-fe60-4287-844e-a31fdd7779f2, to_id: d380cf57-9810-438b-bb25-a652aaca9ab2}\n",
      "INFO:root:Reading Report {a216498d-1d4c-4555-a6a5-c62f38300e74}.\n",
      "INFO:root:Adding Stix-Entity {81ef9f2d-0f6c-48ed-9c1e-9a4226abdb82} to Report {a216498d-1d4c-4555-a6a5-c62f38300e74}\n",
      "C:\\ProgramData\\Anaconda3\\lib\\site-packages\\ipykernel_launcher.py:300: DeprecationWarning: Call to deprecated method get_stix_domain_entity. (Replaced by the StixDomainEntity class in pycti) -- Deprecated since version 2.1.0.\n",
      "INFO:root:Reading Stix-Domain-Entity {a63b2da0-1886-4e9a-b7c2-54626c6ee6fe}.\n",
      "C:\\ProgramData\\Anaconda3\\lib\\site-packages\\ipykernel_launcher.py:303: DeprecationWarning: Call to deprecated method get_stix_domain_entity. (Replaced by the StixDomainEntity class in pycti) -- Deprecated since version 2.1.0.\n",
      "INFO:root:Reading Stix-Domain-Entity {d380cf57-9810-438b-bb25-a652aaca9ab2}.\n"
     ]
    },
    {
     "name": "stdout",
     "output_type": "stream",
     "text": [
      "a63b2da0-1886-4e9a-b7c2-54626c6ee6fe\n",
      "d380cf57-9810-438b-bb25-a652aaca9ab2\n"
     ]
    },
    {
     "name": "stderr",
     "output_type": "stream",
     "text": [
      "INFO:root:Listing stix_relations with {type: indicates, from_id: a63b2da0-1886-4e9a-b7c2-54626c6ee6fe, to_id: d380cf57-9810-438b-bb25-a652aaca9ab2}\n",
      "INFO:root:Reading Report {a216498d-1d4c-4555-a6a5-c62f38300e74}.\n",
      "INFO:root:Adding Stix-Entity {dcfc760d-9b99-4a0e-9124-f6036e329eff} to Report {a216498d-1d4c-4555-a6a5-c62f38300e74}\n",
      "C:\\ProgramData\\Anaconda3\\lib\\site-packages\\ipykernel_launcher.py:300: DeprecationWarning: Call to deprecated method get_stix_domain_entity. (Replaced by the StixDomainEntity class in pycti) -- Deprecated since version 2.1.0.\n",
      "INFO:root:Reading Stix-Domain-Entity {4a5d8135-8133-4567-ba98-1346abf484d0}.\n",
      "C:\\ProgramData\\Anaconda3\\lib\\site-packages\\ipykernel_launcher.py:303: DeprecationWarning: Call to deprecated method get_stix_domain_entity. (Replaced by the StixDomainEntity class in pycti) -- Deprecated since version 2.1.0.\n",
      "INFO:root:Reading Stix-Domain-Entity {d380cf57-9810-438b-bb25-a652aaca9ab2}.\n"
     ]
    },
    {
     "name": "stdout",
     "output_type": "stream",
     "text": [
      "4a5d8135-8133-4567-ba98-1346abf484d0\n",
      "d380cf57-9810-438b-bb25-a652aaca9ab2\n"
     ]
    },
    {
     "name": "stderr",
     "output_type": "stream",
     "text": [
      "INFO:root:Listing stix_relations with {type: indicates, from_id: 4a5d8135-8133-4567-ba98-1346abf484d0, to_id: d380cf57-9810-438b-bb25-a652aaca9ab2}\n",
      "INFO:root:Reading Report {a216498d-1d4c-4555-a6a5-c62f38300e74}.\n",
      "INFO:root:Adding Stix-Entity {7bb90a52-2259-4a66-b57c-30b3ae9f3bcf} to Report {a216498d-1d4c-4555-a6a5-c62f38300e74}\n",
      "C:\\ProgramData\\Anaconda3\\lib\\site-packages\\ipykernel_launcher.py:300: DeprecationWarning: Call to deprecated method get_stix_domain_entity. (Replaced by the StixDomainEntity class in pycti) -- Deprecated since version 2.1.0.\n",
      "INFO:root:Reading Stix-Domain-Entity {8f5bc80d-30ca-4c10-b294-27dad63d3061}.\n",
      "C:\\ProgramData\\Anaconda3\\lib\\site-packages\\ipykernel_launcher.py:303: DeprecationWarning: Call to deprecated method get_stix_domain_entity. (Replaced by the StixDomainEntity class in pycti) -- Deprecated since version 2.1.0.\n",
      "INFO:root:Reading Stix-Domain-Entity {d380cf57-9810-438b-bb25-a652aaca9ab2}.\n"
     ]
    },
    {
     "name": "stdout",
     "output_type": "stream",
     "text": [
      "8f5bc80d-30ca-4c10-b294-27dad63d3061\n",
      "d380cf57-9810-438b-bb25-a652aaca9ab2\n"
     ]
    },
    {
     "name": "stderr",
     "output_type": "stream",
     "text": [
      "INFO:root:Listing stix_relations with {type: indicates, from_id: 8f5bc80d-30ca-4c10-b294-27dad63d3061, to_id: d380cf57-9810-438b-bb25-a652aaca9ab2}\n",
      "INFO:root:Reading Report {a216498d-1d4c-4555-a6a5-c62f38300e74}.\n",
      "INFO:root:Adding Stix-Entity {7d8127b7-8924-43dc-9c78-7ead43377217} to Report {a216498d-1d4c-4555-a6a5-c62f38300e74}\n",
      "C:\\ProgramData\\Anaconda3\\lib\\site-packages\\ipykernel_launcher.py:300: DeprecationWarning: Call to deprecated method get_stix_domain_entity. (Replaced by the StixDomainEntity class in pycti) -- Deprecated since version 2.1.0.\n",
      "INFO:root:Reading Stix-Domain-Entity {7fc83aa3-8c7a-40da-8cf4-0b9b90c4c0ac}.\n",
      "C:\\ProgramData\\Anaconda3\\lib\\site-packages\\ipykernel_launcher.py:303: DeprecationWarning: Call to deprecated method get_stix_domain_entity. (Replaced by the StixDomainEntity class in pycti) -- Deprecated since version 2.1.0.\n",
      "INFO:root:Reading Stix-Domain-Entity {d380cf57-9810-438b-bb25-a652aaca9ab2}.\n"
     ]
    },
    {
     "name": "stdout",
     "output_type": "stream",
     "text": [
      "7fc83aa3-8c7a-40da-8cf4-0b9b90c4c0ac\n",
      "d380cf57-9810-438b-bb25-a652aaca9ab2\n"
     ]
    },
    {
     "name": "stderr",
     "output_type": "stream",
     "text": [
      "INFO:root:Listing stix_relations with {type: indicates, from_id: 7fc83aa3-8c7a-40da-8cf4-0b9b90c4c0ac, to_id: d380cf57-9810-438b-bb25-a652aaca9ab2}\n",
      "INFO:root:Reading Report {a216498d-1d4c-4555-a6a5-c62f38300e74}.\n",
      "INFO:root:Adding Stix-Entity {b570b5b8-4d12-4a42-8ec5-740729eb486a} to Report {a216498d-1d4c-4555-a6a5-c62f38300e74}\n",
      "C:\\ProgramData\\Anaconda3\\lib\\site-packages\\ipykernel_launcher.py:300: DeprecationWarning: Call to deprecated method get_stix_domain_entity. (Replaced by the StixDomainEntity class in pycti) -- Deprecated since version 2.1.0.\n",
      "INFO:root:Reading Stix-Domain-Entity {be19e5c7-c324-4215-adc8-0479a3d6c21c}.\n",
      "C:\\ProgramData\\Anaconda3\\lib\\site-packages\\ipykernel_launcher.py:303: DeprecationWarning: Call to deprecated method get_stix_domain_entity. (Replaced by the StixDomainEntity class in pycti) -- Deprecated since version 2.1.0.\n",
      "INFO:root:Reading Stix-Domain-Entity {f14a312d-c43b-4c07-9951-f3448dfb7ba6}.\n"
     ]
    },
    {
     "name": "stdout",
     "output_type": "stream",
     "text": [
      "be19e5c7-c324-4215-adc8-0479a3d6c21c\n",
      "f14a312d-c43b-4c07-9951-f3448dfb7ba6\n"
     ]
    },
    {
     "name": "stderr",
     "output_type": "stream",
     "text": [
      "INFO:root:Listing stix_relations with {type: indicates, from_id: be19e5c7-c324-4215-adc8-0479a3d6c21c, to_id: f14a312d-c43b-4c07-9951-f3448dfb7ba6}\n",
      "INFO:root:Reading Report {a216498d-1d4c-4555-a6a5-c62f38300e74}.\n",
      "INFO:root:Adding Stix-Entity {ef76b9dd-b8e8-4906-bbab-f3d2d7528d71} to Report {a216498d-1d4c-4555-a6a5-c62f38300e74}\n"
     ]
    }
   ],
   "source": [
    "en.create_relationships(report = 'a216498d-1d4c-4555-a6a5-c62f38300e74')"
   ]
  },
  {
   "cell_type": "code",
   "execution_count": 30,
   "metadata": {},
   "outputs": [
    {
     "name": "stderr",
     "output_type": "stream",
     "text": [
      "INFO:root:Listing StixObservables with filters [{\"key\": \"observable_value\", \"values\": [\"16a9f340c0d353332ba6f525376c93e1\"]}].\n"
     ]
    },
    {
     "data": {
      "text/plain": [
       "{'id': 'f83d95e4-3540-4417-bbcd-b422bdb45d93',\n",
       " 'stix_id_key': 'observable--5506469d-f820-4ddb-8edd-4cf04e6457aa',\n",
       " 'entity_type': 'file',\n",
       " 'name': '',\n",
       " 'description': None,\n",
       " 'observable_value': '16a9f340c0d353332ba6f525376c93e1',\n",
       " 'created_at': '2020-02-01T12:16:25.666Z',\n",
       " 'updated_at': '2020-02-01T12:16:25.666Z',\n",
       " 'createdByRef': None,\n",
       " 'tags': [],\n",
       " 'markingDefinitions': [],\n",
       " 'externalReferences': [],\n",
       " 'indicators': [],\n",
       " 'markingDefinitionsIds': [],\n",
       " 'tagsIds': [],\n",
       " 'externalReferencesIds': [],\n",
       " 'indicatorsIds': []}"
      ]
     },
     "execution_count": 30,
     "metadata": {},
     "output_type": "execute_result"
    }
   ],
   "source": [
    "opencti_api_client.stix_observable.create(type='File-MD5',observable_value='16a9f340c0d353332ba6f525376c93e1')"
   ]
  },
  {
   "cell_type": "code",
   "execution_count": 57,
   "metadata": {},
   "outputs": [],
   "source": [
    "df=pd.read_excel(r\"D:\\Threat_intel_services\\srikanth\\fakeapt12.xlsx\",sheet_name = 'Indicator' ) "
   ]
  },
  {
   "cell_type": "code",
   "execution_count": null,
   "metadata": {},
   "outputs": [],
   "source": [
    "indicator = opencti_api_client.indicator.create(\n",
    "    name=row['name'],\n",
    "    description= row['description'],\n",
    "    pattern_type= row['pattern_type'],\n",
    "    indicator_pattern= row ['main_observable_type'],\n",
    "    main_observable_type=\"File\",\n",
    ")"
   ]
  },
  {
   "cell_type": "code",
   "execution_count": null,
   "metadata": {},
   "outputs": [],
   "source": []
  },
  {
   "cell_type": "code",
   "execution_count": 122,
   "metadata": {},
   "outputs": [
    {
     "name": "stderr",
     "output_type": "stream",
     "text": [
      "INFO:root:Reading Indicator {020f02e8-75d1-4527-8000-19fcf34a2b1c}.\n",
      "ERROR:root:An unknown error has occurred!  Please try again later.\n"
     ]
    },
    {
     "ename": "TypeError",
     "evalue": "'NoneType' object is not subscriptable",
     "output_type": "error",
     "traceback": [
      "\u001b[1;31m---------------------------------------------------------------------------\u001b[0m",
      "\u001b[1;31mTypeError\u001b[0m                                 Traceback (most recent call last)",
      "\u001b[1;32m<ipython-input-122-7409a8b3c35a>\u001b[0m in \u001b[0;36m<module>\u001b[1;34m\u001b[0m\n\u001b[1;32m----> 1\u001b[1;33m \u001b[0mopencti_api_client\u001b[0m\u001b[1;33m.\u001b[0m\u001b[0mindicator\u001b[0m\u001b[1;33m.\u001b[0m\u001b[0mread\u001b[0m\u001b[1;33m(\u001b[0m \u001b[0mid\u001b[0m \u001b[1;33m=\u001b[0m\u001b[1;34m'020f02e8-75d1-4527-8000-19fcf34a2b1c'\u001b[0m\u001b[1;33m)\u001b[0m\u001b[1;33m\u001b[0m\u001b[1;33m\u001b[0m\u001b[0m\n\u001b[0m",
      "\u001b[1;32mC:\\ProgramData\\Anaconda3\\lib\\site-packages\\pycti\\entities\\opencti_indicator.py\u001b[0m in \u001b[0;36mread\u001b[1;34m(self, **kwargs)\u001b[0m\n\u001b[0;32m    235\u001b[0m             )\n\u001b[0;32m    236\u001b[0m             \u001b[0mresult\u001b[0m \u001b[1;33m=\u001b[0m \u001b[0mself\u001b[0m\u001b[1;33m.\u001b[0m\u001b[0mopencti\u001b[0m\u001b[1;33m.\u001b[0m\u001b[0mquery\u001b[0m\u001b[1;33m(\u001b[0m\u001b[0mquery\u001b[0m\u001b[1;33m,\u001b[0m \u001b[1;33m{\u001b[0m\u001b[1;34m\"id\"\u001b[0m\u001b[1;33m:\u001b[0m \u001b[0mid\u001b[0m\u001b[1;33m}\u001b[0m\u001b[1;33m)\u001b[0m\u001b[1;33m\u001b[0m\u001b[1;33m\u001b[0m\u001b[0m\n\u001b[1;32m--> 237\u001b[1;33m             \u001b[1;32mreturn\u001b[0m \u001b[0mself\u001b[0m\u001b[1;33m.\u001b[0m\u001b[0mopencti\u001b[0m\u001b[1;33m.\u001b[0m\u001b[0mprocess_multiple_fields\u001b[0m\u001b[1;33m(\u001b[0m\u001b[0mresult\u001b[0m\u001b[1;33m[\u001b[0m\u001b[1;34m\"data\"\u001b[0m\u001b[1;33m]\u001b[0m\u001b[1;33m[\u001b[0m\u001b[1;34m\"indicator\"\u001b[0m\u001b[1;33m]\u001b[0m\u001b[1;33m)\u001b[0m\u001b[1;33m\u001b[0m\u001b[1;33m\u001b[0m\u001b[0m\n\u001b[0m\u001b[0;32m    238\u001b[0m         \u001b[1;32melif\u001b[0m \u001b[0mfilters\u001b[0m \u001b[1;32mis\u001b[0m \u001b[1;32mnot\u001b[0m \u001b[1;32mNone\u001b[0m\u001b[1;33m:\u001b[0m\u001b[1;33m\u001b[0m\u001b[1;33m\u001b[0m\u001b[0m\n\u001b[0;32m    239\u001b[0m             \u001b[0mresult\u001b[0m \u001b[1;33m=\u001b[0m \u001b[0mself\u001b[0m\u001b[1;33m.\u001b[0m\u001b[0mlist\u001b[0m\u001b[1;33m(\u001b[0m\u001b[0mfilters\u001b[0m\u001b[1;33m=\u001b[0m\u001b[0mfilters\u001b[0m\u001b[1;33m)\u001b[0m\u001b[1;33m\u001b[0m\u001b[1;33m\u001b[0m\u001b[0m\n",
      "\u001b[1;31mTypeError\u001b[0m: 'NoneType' object is not subscriptable"
     ]
    }
   ],
   "source": [
    "opencti_api_client.indicator.read( id ='020f02e8-75d1-4527-8000-19fcf34a2b1c')"
   ]
  },
  {
   "cell_type": "code",
   "execution_count": null,
   "metadata": {},
   "outputs": [],
   "source": []
  },
  {
   "cell_type": "code",
   "execution_count": null,
   "metadata": {},
   "outputs": [],
   "source": []
  },
  {
   "cell_type": "code",
   "execution_count": 93,
   "metadata": {},
   "outputs": [
    {
     "name": "stderr",
     "output_type": "stream",
     "text": [
      "INFO:root:Reading Indicator {2fddbc1b-a3db-4156-8bf5-839f2c54ada9}.\n"
     ]
    },
    {
     "data": {
      "text/plain": [
       "{'id': '2fddbc1b-a3db-4156-8bf5-839f2c54ada9',\n",
       " 'stix_id_key': 'indicator--93bc28bc-a1bb-40be-920a-9bbb34a5509e',\n",
       " 'stix_label': None,\n",
       " 'entity_type': 'indicator',\n",
       " 'parent_types': ['Indicator', 'Stix-Domain-Entity', 'Stix-Domain'],\n",
       " 'name': '8.8.8.8',\n",
       " 'alias': [''],\n",
       " 'description': 'Simple indicator of observable {8.8.8.8}',\n",
       " 'graph_data': None,\n",
       " 'indicator_pattern': \"[ipv4-addr:value = '8.8.8.8']\",\n",
       " 'pattern_type': 'stix',\n",
       " 'valid_from': '2020-01-23T00:51:50.426Z',\n",
       " 'valid_until': '2021-01-22T00:51:50.426Z',\n",
       " 'score': 50,\n",
       " 'created': '2020-01-23T00:51:50.426Z',\n",
       " 'modified': '2020-01-23T00:51:50.426Z',\n",
       " 'created_at': '2020-01-23T00:51:50.426Z',\n",
       " 'updated_at': '2020-01-23T00:51:50.426Z',\n",
       " 'killChainPhases': [],\n",
       " 'createdByRef': None,\n",
       " 'markingDefinitions': [{'id': '41f90184-7fcb-412f-8fa4-567c3346f0d6',\n",
       "   'entity_type': 'marking-definition',\n",
       "   'stix_id_key': 'marking-definition--613f2e26-407d-48c7-9eca-b8e91df99dc9',\n",
       "   'definition_type': 'TLP',\n",
       "   'definition': 'TLP:WHITE',\n",
       "   'level': 1,\n",
       "   'color': '#ffffff',\n",
       "   'created': '2020-01-22T19:30:46.000Z',\n",
       "   'modified': '2020-01-22T19:30:46.000Z',\n",
       "   'remote_relation_id': '8846f7df-f1a5-5647-965d-80f77b03204c',\n",
       "   'createdByRef': None}],\n",
       " 'tags': [],\n",
       " 'externalReferences': [],\n",
       " 'observableRefs': [{'id': 'e9e1c04e-9eba-4df1-9d73-febedccb099f',\n",
       "   'entity_type': 'ipv4-addr',\n",
       "   'stix_id_key': 'observable--9dff5265-9f26-4569-a731-d627a3422d67',\n",
       "   'observable_value': '8.8.8.8',\n",
       "   'remote_relation_id': '89722880-677e-574d-ac81-bff683b0d8dc',\n",
       "   'createdByRef': None}],\n",
       " 'markingDefinitionsIds': ['41f90184-7fcb-412f-8fa4-567c3346f0d6'],\n",
       " 'tagsIds': [],\n",
       " 'killChainPhasesIds': [],\n",
       " 'externalReferencesIds': [],\n",
       " 'observableRefsIds': ['e9e1c04e-9eba-4df1-9d73-febedccb099f']}"
      ]
     },
     "execution_count": 93,
     "metadata": {},
     "output_type": "execute_result"
    }
   ],
   "source": [
    "opencti_api_client.indicator.read(id = '2fddbc1b-a3db-4156-8bf5-839f2c54ada9')\n"
   ]
  },
  {
   "cell_type": "code",
   "execution_count": null,
   "metadata": {},
   "outputs": [],
   "source": [
    "main_dict={'fakeapt12': 'f55ab06f-da9c-417f-bcd5-5127e4bd459b',\n",
    "  'Spear phishing': 'fa1fd76f-4535-45e3-9e0b-86b3c5b98a24',\n",
    "  'Exploitation for Client Execution': 'ed27d3c8-e054-49ff-80d1-19c0d72dc286',\n",
    "  'Spearphishing attachment': '3a2e89b6-4dbd-4172-8340-b424dff022f9',\n",
    "  'User Execution': 'aa4dac29-3d7a-449c-9455-28977b7f27a2',\n",
    "  'Web Service': '3b5277c0-34c5-4371-8516-3aeee9c14d69',\n",
    "  'Command-Line Interface': '7aa0b906-0670-4d97-a0f3-00fb626856d4',\n",
    "  'Commonly Used Port': 'fab5312a-b85a-4b52-961c-a18deed6a0ef',\n",
    "  'Data from Local System': '97d127c9-761b-422f-b2af-f162779e2c72',\n",
    "  'Data Obfuscation': 'd1aa53d0-9808-4325-b46a-612b83212b4a',\n",
    "  'File and Directory Discovery': '3b6464bf-890d-494a-835f-f5f8cc4b2d58',\n",
    "  'File Deletion': '5d0c505b-999d-4039-8e18-a704b234f972',\n",
    "  'Hidden Files and Directories': '7df7f45d-47f9-4e60-b984-a12cfcd4e034',\n",
    "  'Masquerading': 'ba2deef8-4c2f-4346-b412-36a148697fec',\n",
    "  'Process Discovery': '637c1675-6cff-479b-abf2-a6828ee06f49',\n",
    "  'Registry Run Keys / Startup Folder': 'cdc06ba5-99f3-4023-9534-2aa2e2d033f6',\n",
    "  'Remote File Copy': 'bffaec7e-4751-41d7-a700-03d3131e6ce6',\n",
    "  'Standard Application Layer Protocol': '746fa63c-2c4a-48aa-b7a9-50433725ecd7',\n",
    "  'System Information Discovery': '0f4235bc-d348-4228-bf8c-59bef3d57c6c',\n",
    "  'System Network Configuration Discovery': '63d0b6b7-3720-42f4-96ab-d6e46c3c133d',\n",
    "  'System Owner/User Discovery': 'c6728d7c-2822-43ff-be59-80b7d6c5a033',\n",
    "  'System Service Discovery': '7f54a4d8-f454-4a48-a510-be07ff5d2f93',\n",
    "  'Standard Cryptographic Protocol': '213b60fb-44e3-46f0-ab02-faae8ce62653',\n",
    "  'Connection Proxy': '079578de-fe65-45f2-b0d7-882f8f0b1f4b',\n",
    "  'Process Injection': '06e637be-7ca5-4750-8ac3-de6d82fdd174',\n",
    "  'Rootkit': 'b7e54f8e-1390-4eec-81fa-7fe83f7b8b18',\n",
    "  'Ixeshe': '96d9e9c1-c06c-490f-9453-d578c93e14ba',\n",
    "  'Aumlib': '5cf859fe-b7bc-4a2a-a7f1-6a7e22dd00cf',\n",
    "  'Threebyte': '6d53e9e7-9c6f-43a7-ad6c-1def2eee030e',\n",
    "  'Hightide': '8a91cd27-e581-45e8-bf55-26084bcfdaad',\n",
    "  'Waterspout': 'f15bce7b-e2cd-49e9-8001-2d6fdd94d4e0',\n",
    "  'HTRAN': 'ad08da3f-5f3c-44a6-81ff-9082ef710e4c',\n",
    "  'CVE-2009-4324': '7b22dff2-486b-402b-b338-c67950a59126',\n",
    "  'CVE-2009-0927': '671c5891-435c-416d-8576-8b4e7237a354',\n",
    "  'CVE-2011-0609': '116e96f5-675e-4271-ad95-ab324db18dce',\n",
    "  'CVE-2011-0611': '2c0765b3-c1ba-4e19-81a5-0149be5d55b2',\n",
    "  'CVE-2009-3129': '3f3c06e1-c26d-447f-917d-70d8c998b284',\n",
    "  'CVE-2012-0158': '95e3a6fc-aba3-432e-9a33-3be79d0b5e62'}"
   ]
  },
  {
   "cell_type": "code",
   "execution_count": 26,
   "metadata": {},
   "outputs": [
    {
     "name": "stderr",
     "output_type": "stream",
     "text": [
      "INFO:root:Listing Stix-Domain-Entities with filters [{\"key\": \"name\", \"values\": [\"My new Intrusion Set\"]}].\n",
      "INFO:root:{\"errors\":[{\"message\":\"Cannot query field \\\"observableRefs\\\" on type \\\"Incident\\\".\",\"locations\":[{\"line\":126,\"column\":17}],\"extensions\":{\"code\":\"GRAPHQL_VALIDATION_FAILED\"}}]}\n",
      "\n"
     ]
    },
    {
     "ename": "TypeError",
     "evalue": "'NoneType' object is not subscriptable",
     "output_type": "error",
     "traceback": [
      "\u001b[1;31m---------------------------------------------------------------------------\u001b[0m",
      "\u001b[1;31mTypeError\u001b[0m                                 Traceback (most recent call last)",
      "\u001b[1;32m<ipython-input-26-660958540f94>\u001b[0m in \u001b[0;36m<module>\u001b[1;34m\u001b[0m\n\u001b[0;32m      4\u001b[0m     \u001b[0mfirst_seen\u001b[0m\u001b[1;33m=\u001b[0m\u001b[0mdatetime\u001b[0m\u001b[1;33m.\u001b[0m\u001b[0mdate\u001b[0m\u001b[1;33m.\u001b[0m\u001b[0mtoday\u001b[0m\u001b[1;33m(\u001b[0m\u001b[1;33m)\u001b[0m\u001b[1;33m.\u001b[0m\u001b[0mstrftime\u001b[0m\u001b[1;33m(\u001b[0m\u001b[1;34m\"%Y-%m-%dT%H:%M:%S+00:00\"\u001b[0m\u001b[1;33m)\u001b[0m\u001b[1;33m,\u001b[0m\u001b[1;33m\u001b[0m\u001b[1;33m\u001b[0m\u001b[0m\n\u001b[0;32m      5\u001b[0m     \u001b[0mlast_seen\u001b[0m\u001b[1;33m=\u001b[0m\u001b[0mdatetime\u001b[0m\u001b[1;33m.\u001b[0m\u001b[0mdate\u001b[0m\u001b[1;33m.\u001b[0m\u001b[0mtoday\u001b[0m\u001b[1;33m(\u001b[0m\u001b[1;33m)\u001b[0m\u001b[1;33m.\u001b[0m\u001b[0mstrftime\u001b[0m\u001b[1;33m(\u001b[0m\u001b[1;34m\"%Y-%m-%dT%H:%M:%S+00:00\"\u001b[0m\u001b[1;33m)\u001b[0m\u001b[1;33m,\u001b[0m\u001b[1;33m\u001b[0m\u001b[1;33m\u001b[0m\u001b[0m\n\u001b[1;32m----> 6\u001b[1;33m     \u001b[0mupdate\u001b[0m\u001b[1;33m=\u001b[0m\u001b[1;32mTrue\u001b[0m\u001b[1;33m,\u001b[0m\u001b[1;33m\u001b[0m\u001b[1;33m\u001b[0m\u001b[0m\n\u001b[0m\u001b[0;32m      7\u001b[0m )\n",
      "\u001b[1;32mC:\\ProgramData\\Anaconda3\\lib\\site-packages\\pycti\\entities\\opencti_intrusion_set.py\u001b[0m in \u001b[0;36mcreate\u001b[1;34m(self, **kwargs)\u001b[0m\n",
      "\u001b[1;32mC:\\ProgramData\\Anaconda3\\lib\\site-packages\\pycti\\entities\\opencti_stix_domain_entity.py\u001b[0m in \u001b[0;36mget_by_stix_id_or_name\u001b[1;34m(self, **kwargs)\u001b[0m\n",
      "\u001b[1;32mC:\\ProgramData\\Anaconda3\\lib\\site-packages\\pycti\\entities\\opencti_stix_domain_entity.py\u001b[0m in \u001b[0;36mread\u001b[1;34m(self, **kwargs)\u001b[0m\n",
      "\u001b[1;32mC:\\ProgramData\\Anaconda3\\lib\\site-packages\\pycti\\entities\\opencti_stix_domain_entity.py\u001b[0m in \u001b[0;36mlist\u001b[1;34m(self, **kwargs)\u001b[0m\n",
      "\u001b[1;31mTypeError\u001b[0m: 'NoneType' object is not subscriptable"
     ]
    }
   ],
   "source": [
    "intrusion_set = opencti_api_client.intrusion_set.create(\n",
    "    name=\"My new Intrusion Set\",\n",
    "    description=\"Evil Cluster\",\n",
    "    first_seen=datetime.date.today().strftime(\"%Y-%m-%dT%H:%M:%S+00:00\"),\n",
    "    last_seen=datetime.date.today().strftime(\"%Y-%m-%dT%H:%M:%S+00:00\"),\n",
    "    update=True,\n",
    ")"
   ]
  },
  {
   "cell_type": "code",
   "execution_count": 11,
   "metadata": {},
   "outputs": [
    {
     "name": "stderr",
     "output_type": "stream",
     "text": [
      "INFO:root:Reading StixObservable {ce4664ee-b323-4b79-a72b-e05ef9278ab6}.\n"
     ]
    },
    {
     "data": {
      "text/plain": [
       "{'id': 'ce4664ee-b323-4b79-a72b-e05ef9278ab6',\n",
       " 'stix_id_key': 'observable--2945ea37-d547-4f0f-b34f-376363422f97',\n",
       " 'entity_type': 'file-sha256',\n",
       " 'name': '3603abdb3a307872b8bad338640095b65ca59439a34a372584073ff794a306e3',\n",
       " 'description': 'Sample',\n",
       " 'observable_value': '3603abdb3a307872b8bad338640095b65ca59439a34a372584073ff794a306e3',\n",
       " 'created_at': '2020-02-02T01:59:21.917Z',\n",
       " 'updated_at': '2020-02-02T01:59:21.917Z',\n",
       " 'createdByRef': {'id': '2e0562f3-a790-4b18-9696-8a602d29d380',\n",
       "  'entity_type': 'organization',\n",
       "  'stix_id_key': 'identity--65a61e6d-d108-44b6-86cb-a60c585d1e5a',\n",
       "  'stix_label': None,\n",
       "  'name': 'CIRCL',\n",
       "  'alias': [''],\n",
       "  'description': '',\n",
       "  'created': '2020-01-22T23:40:04.261Z',\n",
       "  'modified': '2020-01-23T00:00:14.579Z',\n",
       "  'organization_class': 'vendor',\n",
       "  'remote_relation_id': '8bbef61e-a0ed-56db-95b2-601a126f7738'},\n",
       " 'tags': [],\n",
       " 'markingDefinitions': [{'id': '41f90184-7fcb-412f-8fa4-567c3346f0d6',\n",
       "   'entity_type': 'marking-definition',\n",
       "   'stix_id_key': 'marking-definition--613f2e26-407d-48c7-9eca-b8e91df99dc9',\n",
       "   'definition_type': 'TLP',\n",
       "   'definition': 'TLP:WHITE',\n",
       "   'level': 1,\n",
       "   'color': '#ffffff',\n",
       "   'created': '2020-01-22T19:30:46.000Z',\n",
       "   'modified': '2020-01-22T19:30:46.000Z',\n",
       "   'remote_relation_id': '1aecb7af-0652-5f92-adae-28fe698f597e',\n",
       "   'createdByRef': None}],\n",
       " 'externalReferences': [],\n",
       " 'indicators': [{'id': '8928c356-c5cc-473f-a3e5-d4200eec99b1',\n",
       "   'entity_type': 'indicator',\n",
       "   'stix_id_key': 'indicator--8a573ffe-9157-4bca-b736-a99f7255ff01',\n",
       "   'valid_from': '2016-07-05T20:27:26.000Z',\n",
       "   'valid_until': '2017-07-05T20:27:26.000Z',\n",
       "   'score': 50,\n",
       "   'pattern_type': 'stix',\n",
       "   'indicator_pattern': \"[file:hashes.SHA256 = '3603abdb3a307872b8bad338640095b65ca59439a34a372584073ff794a306e3']\",\n",
       "   'created': '2020-01-31T02:12:42.190Z',\n",
       "   'modified': '2020-01-31T02:12:42.190Z',\n",
       "   'remote_relation_id': '4747d50e-586a-5d74-9af3-f2b618123965',\n",
       "   'createdByRef': None}],\n",
       " 'markingDefinitionsIds': ['41f90184-7fcb-412f-8fa4-567c3346f0d6'],\n",
       " 'tagsIds': [],\n",
       " 'externalReferencesIds': [],\n",
       " 'indicatorsIds': ['8928c356-c5cc-473f-a3e5-d4200eec99b1']}"
      ]
     },
     "execution_count": 11,
     "metadata": {},
     "output_type": "execute_result"
    }
   ],
   "source": [
    "opencti_api_client.stix_observable.read ( id ='ce4664ee-b323-4b79-a72b-e05ef9278ab6')"
   ]
  },
  {
   "cell_type": "code",
   "execution_count": null,
   "metadata": {},
   "outputs": [],
   "source": []
  },
  {
   "cell_type": "code",
   "execution_count": null,
   "metadata": {},
   "outputs": [],
   "source": []
  },
  {
   "cell_type": "code",
   "execution_count": null,
   "metadata": {},
   "outputs": [],
   "source": []
  },
  {
   "cell_type": "code",
   "execution_count": null,
   "metadata": {},
   "outputs": [],
   "source": []
  },
  {
   "cell_type": "code",
   "execution_count": null,
   "metadata": {},
   "outputs": [],
   "source": []
  },
  {
   "cell_type": "code",
   "execution_count": null,
   "metadata": {},
   "outputs": [],
   "source": []
  },
  {
   "cell_type": "code",
   "execution_count": null,
   "metadata": {},
   "outputs": [],
   "source": []
  },
  {
   "cell_type": "code",
   "execution_count": null,
   "metadata": {},
   "outputs": [],
   "source": []
  },
  {
   "cell_type": "code",
   "execution_count": null,
   "metadata": {},
   "outputs": [],
   "source": []
  },
  {
   "cell_type": "code",
   "execution_count": null,
   "metadata": {},
   "outputs": [],
   "source": []
  },
  {
   "cell_type": "code",
   "execution_count": null,
   "metadata": {},
   "outputs": [],
   "source": []
  },
  {
   "cell_type": "code",
   "execution_count": null,
   "metadata": {},
   "outputs": [],
   "source": []
  },
  {
   "cell_type": "code",
   "execution_count": null,
   "metadata": {},
   "outputs": [],
   "source": []
  },
  {
   "cell_type": "code",
   "execution_count": null,
   "metadata": {},
   "outputs": [],
   "source": []
  },
  {
   "cell_type": "code",
   "execution_count": null,
   "metadata": {},
   "outputs": [],
   "source": [
    "#add self\n",
    "def create_relationships(relation_path,report ='2dc633ee-3a27-48c1-900f-58428765ea55'):\n",
    "    \n",
    "    relation_details= pd.read_excel(relation_path,sheet_name='threat_actor_relations')\n",
    "    relation_details = relation_details.where(relation_details.notnull(), None)\n",
    "    \n",
    "    df=relation_details.copy()\n",
    "    df['to'] = [str(i).strip() for i in df['to']]\n",
    "    df['to']=df['to'].map(main_dict)\n",
    "    df['from']=df['from'].map(main_dict)\n",
    "    \n",
    "    df = df.where(df.notnull(), None)\n",
    "    \n",
    "    \n",
    "    for index,row in df.iterrows():\n",
    "        \n",
    "        if ((row['from']) is not None ) & ((row['to']) is not None ):\n",
    "        \n",
    "                print(row['from'])\n",
    "                print(row['to'])\n",
    "                relation = opencti_api_client.stix_relation.create(\n",
    "                fromType= opencti_api_client.get_stix_domain_entity (id =row['from'])['entity_type'],\n",
    "                fromId=row['from'],\n",
    "                relationship_type = row['relation'],\n",
    "                toType=opencti_api_client.get_stix_domain_entity (row['to'])['entity_type'],\n",
    "                toId= row ['to'],\n",
    "                )\n",
    "        \n",
    "                opencti_api_client.report.add_stix_entity(id=report,entity_id = relation['id'] )"
   ]
  },
  {
   "cell_type": "code",
   "execution_count": null,
   "metadata": {},
   "outputs": [],
   "source": [
    "#add self\n",
    "def create_relationships(relation_path,report ='2dc633ee-3a27-48c1-900f-58428765ea55'):\n",
    "    \n",
    "    relation_details= pd.read_excel(relation_path,sheet_name='threat_actor_relations')\n",
    "    relation_details = relation_details.where(relation_details.notnull(), None)\n",
    "    \n",
    "    df=relation_details.copy()\n",
    "    df['to'] = [str(i).strip() for i in df['to']]\n",
    "    df['to']=df['to'].map(main_dict)\n",
    "    df['from']=df['from'].map(main_dict)\n",
    "    \n",
    "    df = df.where(df.notnull(), None)\n",
    "    \n",
    "    \n",
    "    for index,row in df.iterrows():\n",
    "        \n",
    "        if ((row['from']) is not None ) & ((row['to']) is not None ):\n",
    "        \n",
    "                print(row['from'])\n",
    "                print(row['to'])\n",
    "                relation = opencti_api_client.stix_relation.create(\n",
    "                fromType= opencti_api_client.get_stix_domain_entity (id =row['from'])['entity_type'],\n",
    "                fromId=row['from'],\n",
    "                relationship_type = row['relation'],\n",
    "                toType=opencti_api_client.get_stix_domain_entity (row['to'])['entity_type'],\n",
    "                toId= row ['to'],\n",
    "                )\n",
    "        \n",
    "                opencti_api_client.report.add_stix_entity(id=report,entity_id = relation['id'] )"
   ]
  },
  {
   "cell_type": "code",
   "execution_count": null,
   "metadata": {},
   "outputs": [],
   "source": [
    "def create_tool(self,by,report):           #malware insertion    \n",
    "            \n",
    "            tool_details = pd.read_excel(self.report_path,sheet_name = 'tool')\n",
    "            tool_details = tool_details.where(tool_details.notnull(), None)\n",
    "            \n",
    "            for index,row in tool_details.iterrows():\n",
    "            \n",
    "                if row['alias'] is not None:\n",
    "                    aliases =row['alias'].split(',')\n",
    "                    print(aliases)\n",
    "                else:\n",
    "                    aliases = None\n",
    "                \n",
    "                exist = opencti_api_client.tool.list ( filters=[{'key' : 'name' , 'values' : row['name']}])\n",
    "            \n",
    "                if (len(exist) > 0):\n",
    "                    tool = opencti_api_client.tool.create(\n",
    "                                                name = row['name'],\n",
    "                                                description = row['description'],\n",
    "                                                alias = aliases ,\n",
    "                                                modified = datetime.date.today().strftime(\"%Y-%m-%dT%H:%M:%S+00:00\") ,\n",
    "                                                createdByRef = by,\n",
    "                                                )\n",
    "                else:\n",
    "                     tool = opencti_api_client.tool.create(\n",
    "                                                name = row['name'],\n",
    "                                                description = row['description'],\n",
    "                                                alias = aliases ,\n",
    "                                                modified = datetime.date.today().strftime(\"%Y-%m-%dT%H:%M:%S+00:00\") ,\n",
    "                                                update = True,\n",
    "                                                 )\n",
    "                if row['marking_definitions'] is not None:\n",
    "                        self.add_mark_def(stix_id=tool['id'],row=row)\n",
    "                        \n",
    "                opencti_api_client.report.add_stix_entity(id=report,entity_id = tool['id'] )"
   ]
  },
  {
   "cell_type": "code",
   "execution_count": null,
   "metadata": {},
   "outputs": [],
   "source": [
    "def create_report(self,report_by):\n",
    "\n",
    "    report_details=pd.read_excel(self.report_path,sheet_name = 'report')\n",
    "    report_by = opencti_api_client.identity.read(filters=[{'key':'name','values': report_by }])\n",
    "    \n",
    "    if report_by is None: \n",
    "        warnings.warn(\"Since \" + report_by + \" is not inserted in opencti.Rhymtechnologies is taken as default\")\n",
    "        report_by = organization = opencti_api_client.identity.create(\n",
    "                                    type='Organization',\n",
    "                                    name=\"Rhymtechnologies\",\n",
    "                                    alias=[\"Rhymtech\"],\n",
    "                                    description=\"A young and innovative company formed with a vision to create world leading Cyber Security products and services. The promoters are a group of highly successful professionals with diverse backgrounds across IT Delivery, Sales and Consulting, Cyber Security, Artificial Intelligence, Machine Learning and Data Sciences. Our group of consultants led by some of the best minds in the industry have successfully provided strategic and value-add services for multiple large organizations globally.\",\n",
    "                                    )\n",
    "                        \n",
    "    \n",
    "    \n",
    "    for index,row in report_details.iterrows():\n",
    "        \n",
    "        date = parse(row['published']).strftime(\"%Y-%m-%dT%H:%M:%SZ\")\n",
    "        if source_confidence_level is None:\n",
    "                    report = opencti_api_client.report.create(\n",
    "                                                    name=row['name'],\n",
    "                                                    description= row['description'],\n",
    "                                                    report_class=\"Internal Report\",\n",
    "                                                    published=date,\n",
    "                                                    createdByRef= report_by['id'],\n",
    "                                                    object_status = 0,\n",
    "                                                    update = True,\n",
    "                                                    )\n",
    "        else:\n",
    "             report = opencti_api_client.report.create(\n",
    "                                                    name=row['name'],\n",
    "                                                    description= row['description'],\n",
    "                                                    report_class=\"Internal Report\",\n",
    "                                                    published=date,\n",
    "                                                    createdByRef= report_by['id'],\n",
    "                                                    object_status = row['object_status'],\n",
    "                                                    source_confidence_level = row ['source_confidence_level'],\n",
    "                                                    update = True,\n",
    "                                                    )\n"
   ]
  },
  {
   "cell_type": "code",
   "execution_count": null,
   "metadata": {},
   "outputs": [],
   "source": [
    "create_report()"
   ]
  }
 ],
 "metadata": {
  "kernelspec": {
   "display_name": "Python 3",
   "language": "python",
   "name": "python3"
  },
  "language_info": {
   "codemirror_mode": {
    "name": "ipython",
    "version": 3
   },
   "file_extension": ".py",
   "mimetype": "text/x-python",
   "name": "python",
   "nbconvert_exporter": "python",
   "pygments_lexer": "ipython3",
   "version": "3.7.4"
  }
 },
 "nbformat": 4,
 "nbformat_minor": 2
}
