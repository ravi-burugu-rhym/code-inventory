{
 "cells": [
  {
   "cell_type": "code",
   "execution_count": 8,
   "metadata": {},
   "outputs": [],
   "source": [
    "import act.api\n",
    "import pandas as pd\n",
    "import requests\n",
    "import numpy as np\n",
    "\n",
    "c = act.api.Act(\"http://35.192.201.254\", user_id = 1, log_level = \"warning\")\n",
    "#c = act.api.Act(\"https://act-eu1.mnemonic.no\", user_id = 1, log_level = \"warning\")"
   ]
  },
  {
   "cell_type": "code",
   "execution_count": 10,
   "metadata": {},
   "outputs": [
    {
     "ename": "FileNotFoundError",
     "evalue": "[Errno 2] No such file or directory: 'D:\\\\MY STUFF\\\\rhym\\\\act_api\\\\data\\\\objects_fact_TA.xlsx'",
     "output_type": "error",
     "traceback": [
      "\u001b[1;31m---------------------------------------------------------------------------\u001b[0m",
      "\u001b[1;31mFileNotFoundError\u001b[0m                         Traceback (most recent call last)",
      "\u001b[1;32m<ipython-input-10-46a4d1f7f4f1>\u001b[0m in \u001b[0;36m<module>\u001b[1;34m\u001b[0m\n\u001b[1;32m----> 1\u001b[1;33m \u001b[0mdf_all\u001b[0m\u001b[1;33m=\u001b[0m\u001b[0mpd\u001b[0m\u001b[1;33m.\u001b[0m\u001b[0mread_excel\u001b[0m\u001b[1;33m(\u001b[0m\u001b[1;34mr\"D:\\MY STUFF\\rhym\\act_api\\data\\objects_fact_TA.xlsx\"\u001b[0m\u001b[1;33m)\u001b[0m\u001b[1;33m\u001b[0m\u001b[1;33m\u001b[0m\u001b[0m\n\u001b[0m\u001b[0;32m      2\u001b[0m \u001b[0mdf_infra_all\u001b[0m\u001b[1;33m=\u001b[0m\u001b[0mpd\u001b[0m\u001b[1;33m.\u001b[0m\u001b[0mread_excel\u001b[0m\u001b[1;33m(\u001b[0m\u001b[1;34mr\"D:\\MY STUFF\\rhym\\act_api\\data\\objects_fact_TA.xlsx\"\u001b[0m\u001b[1;33m)\u001b[0m\u001b[1;33m\u001b[0m\u001b[1;33m\u001b[0m\u001b[0m\n",
      "\u001b[1;32mC:\\ProgramData\\Anaconda3\\lib\\site-packages\\pandas\\util\\_decorators.py\u001b[0m in \u001b[0;36mwrapper\u001b[1;34m(*args, **kwargs)\u001b[0m\n\u001b[0;32m    206\u001b[0m                 \u001b[1;32melse\u001b[0m\u001b[1;33m:\u001b[0m\u001b[1;33m\u001b[0m\u001b[1;33m\u001b[0m\u001b[0m\n\u001b[0;32m    207\u001b[0m                     \u001b[0mkwargs\u001b[0m\u001b[1;33m[\u001b[0m\u001b[0mnew_arg_name\u001b[0m\u001b[1;33m]\u001b[0m \u001b[1;33m=\u001b[0m \u001b[0mnew_arg_value\u001b[0m\u001b[1;33m\u001b[0m\u001b[1;33m\u001b[0m\u001b[0m\n\u001b[1;32m--> 208\u001b[1;33m             \u001b[1;32mreturn\u001b[0m \u001b[0mfunc\u001b[0m\u001b[1;33m(\u001b[0m\u001b[1;33m*\u001b[0m\u001b[0margs\u001b[0m\u001b[1;33m,\u001b[0m \u001b[1;33m**\u001b[0m\u001b[0mkwargs\u001b[0m\u001b[1;33m)\u001b[0m\u001b[1;33m\u001b[0m\u001b[1;33m\u001b[0m\u001b[0m\n\u001b[0m\u001b[0;32m    209\u001b[0m \u001b[1;33m\u001b[0m\u001b[0m\n\u001b[0;32m    210\u001b[0m         \u001b[1;32mreturn\u001b[0m \u001b[0mwrapper\u001b[0m\u001b[1;33m\u001b[0m\u001b[1;33m\u001b[0m\u001b[0m\n",
      "\u001b[1;32mC:\\ProgramData\\Anaconda3\\lib\\site-packages\\pandas\\io\\excel\\_base.py\u001b[0m in \u001b[0;36mread_excel\u001b[1;34m(io, sheet_name, header, names, index_col, usecols, squeeze, dtype, engine, converters, true_values, false_values, skiprows, nrows, na_values, keep_default_na, verbose, parse_dates, date_parser, thousands, comment, skip_footer, skipfooter, convert_float, mangle_dupe_cols, **kwds)\u001b[0m\n\u001b[0;32m    308\u001b[0m \u001b[1;33m\u001b[0m\u001b[0m\n\u001b[0;32m    309\u001b[0m     \u001b[1;32mif\u001b[0m \u001b[1;32mnot\u001b[0m \u001b[0misinstance\u001b[0m\u001b[1;33m(\u001b[0m\u001b[0mio\u001b[0m\u001b[1;33m,\u001b[0m \u001b[0mExcelFile\u001b[0m\u001b[1;33m)\u001b[0m\u001b[1;33m:\u001b[0m\u001b[1;33m\u001b[0m\u001b[1;33m\u001b[0m\u001b[0m\n\u001b[1;32m--> 310\u001b[1;33m         \u001b[0mio\u001b[0m \u001b[1;33m=\u001b[0m \u001b[0mExcelFile\u001b[0m\u001b[1;33m(\u001b[0m\u001b[0mio\u001b[0m\u001b[1;33m,\u001b[0m \u001b[0mengine\u001b[0m\u001b[1;33m=\u001b[0m\u001b[0mengine\u001b[0m\u001b[1;33m)\u001b[0m\u001b[1;33m\u001b[0m\u001b[1;33m\u001b[0m\u001b[0m\n\u001b[0m\u001b[0;32m    311\u001b[0m     \u001b[1;32melif\u001b[0m \u001b[0mengine\u001b[0m \u001b[1;32mand\u001b[0m \u001b[0mengine\u001b[0m \u001b[1;33m!=\u001b[0m \u001b[0mio\u001b[0m\u001b[1;33m.\u001b[0m\u001b[0mengine\u001b[0m\u001b[1;33m:\u001b[0m\u001b[1;33m\u001b[0m\u001b[1;33m\u001b[0m\u001b[0m\n\u001b[0;32m    312\u001b[0m         raise ValueError(\n",
      "\u001b[1;32mC:\\ProgramData\\Anaconda3\\lib\\site-packages\\pandas\\io\\excel\\_base.py\u001b[0m in \u001b[0;36m__init__\u001b[1;34m(self, io, engine)\u001b[0m\n\u001b[0;32m    817\u001b[0m         \u001b[0mself\u001b[0m\u001b[1;33m.\u001b[0m\u001b[0m_io\u001b[0m \u001b[1;33m=\u001b[0m \u001b[0m_stringify_path\u001b[0m\u001b[1;33m(\u001b[0m\u001b[0mio\u001b[0m\u001b[1;33m)\u001b[0m\u001b[1;33m\u001b[0m\u001b[1;33m\u001b[0m\u001b[0m\n\u001b[0;32m    818\u001b[0m \u001b[1;33m\u001b[0m\u001b[0m\n\u001b[1;32m--> 819\u001b[1;33m         \u001b[0mself\u001b[0m\u001b[1;33m.\u001b[0m\u001b[0m_reader\u001b[0m \u001b[1;33m=\u001b[0m \u001b[0mself\u001b[0m\u001b[1;33m.\u001b[0m\u001b[0m_engines\u001b[0m\u001b[1;33m[\u001b[0m\u001b[0mengine\u001b[0m\u001b[1;33m]\u001b[0m\u001b[1;33m(\u001b[0m\u001b[0mself\u001b[0m\u001b[1;33m.\u001b[0m\u001b[0m_io\u001b[0m\u001b[1;33m)\u001b[0m\u001b[1;33m\u001b[0m\u001b[1;33m\u001b[0m\u001b[0m\n\u001b[0m\u001b[0;32m    820\u001b[0m \u001b[1;33m\u001b[0m\u001b[0m\n\u001b[0;32m    821\u001b[0m     \u001b[1;32mdef\u001b[0m \u001b[0m__fspath__\u001b[0m\u001b[1;33m(\u001b[0m\u001b[0mself\u001b[0m\u001b[1;33m)\u001b[0m\u001b[1;33m:\u001b[0m\u001b[1;33m\u001b[0m\u001b[1;33m\u001b[0m\u001b[0m\n",
      "\u001b[1;32mC:\\ProgramData\\Anaconda3\\lib\\site-packages\\pandas\\io\\excel\\_xlrd.py\u001b[0m in \u001b[0;36m__init__\u001b[1;34m(self, filepath_or_buffer)\u001b[0m\n\u001b[0;32m     19\u001b[0m         \u001b[0merr_msg\u001b[0m \u001b[1;33m=\u001b[0m \u001b[1;34m\"Install xlrd >= 1.0.0 for Excel support\"\u001b[0m\u001b[1;33m\u001b[0m\u001b[1;33m\u001b[0m\u001b[0m\n\u001b[0;32m     20\u001b[0m         \u001b[0mimport_optional_dependency\u001b[0m\u001b[1;33m(\u001b[0m\u001b[1;34m\"xlrd\"\u001b[0m\u001b[1;33m,\u001b[0m \u001b[0mextra\u001b[0m\u001b[1;33m=\u001b[0m\u001b[0merr_msg\u001b[0m\u001b[1;33m)\u001b[0m\u001b[1;33m\u001b[0m\u001b[1;33m\u001b[0m\u001b[0m\n\u001b[1;32m---> 21\u001b[1;33m         \u001b[0msuper\u001b[0m\u001b[1;33m(\u001b[0m\u001b[1;33m)\u001b[0m\u001b[1;33m.\u001b[0m\u001b[0m__init__\u001b[0m\u001b[1;33m(\u001b[0m\u001b[0mfilepath_or_buffer\u001b[0m\u001b[1;33m)\u001b[0m\u001b[1;33m\u001b[0m\u001b[1;33m\u001b[0m\u001b[0m\n\u001b[0m\u001b[0;32m     22\u001b[0m \u001b[1;33m\u001b[0m\u001b[0m\n\u001b[0;32m     23\u001b[0m     \u001b[1;33m@\u001b[0m\u001b[0mproperty\u001b[0m\u001b[1;33m\u001b[0m\u001b[1;33m\u001b[0m\u001b[0m\n",
      "\u001b[1;32mC:\\ProgramData\\Anaconda3\\lib\\site-packages\\pandas\\io\\excel\\_base.py\u001b[0m in \u001b[0;36m__init__\u001b[1;34m(self, filepath_or_buffer)\u001b[0m\n\u001b[0;32m    357\u001b[0m             \u001b[0mself\u001b[0m\u001b[1;33m.\u001b[0m\u001b[0mbook\u001b[0m \u001b[1;33m=\u001b[0m \u001b[0mself\u001b[0m\u001b[1;33m.\u001b[0m\u001b[0mload_workbook\u001b[0m\u001b[1;33m(\u001b[0m\u001b[0mfilepath_or_buffer\u001b[0m\u001b[1;33m)\u001b[0m\u001b[1;33m\u001b[0m\u001b[1;33m\u001b[0m\u001b[0m\n\u001b[0;32m    358\u001b[0m         \u001b[1;32melif\u001b[0m \u001b[0misinstance\u001b[0m\u001b[1;33m(\u001b[0m\u001b[0mfilepath_or_buffer\u001b[0m\u001b[1;33m,\u001b[0m \u001b[0mstr\u001b[0m\u001b[1;33m)\u001b[0m\u001b[1;33m:\u001b[0m\u001b[1;33m\u001b[0m\u001b[1;33m\u001b[0m\u001b[0m\n\u001b[1;32m--> 359\u001b[1;33m             \u001b[0mself\u001b[0m\u001b[1;33m.\u001b[0m\u001b[0mbook\u001b[0m \u001b[1;33m=\u001b[0m \u001b[0mself\u001b[0m\u001b[1;33m.\u001b[0m\u001b[0mload_workbook\u001b[0m\u001b[1;33m(\u001b[0m\u001b[0mfilepath_or_buffer\u001b[0m\u001b[1;33m)\u001b[0m\u001b[1;33m\u001b[0m\u001b[1;33m\u001b[0m\u001b[0m\n\u001b[0m\u001b[0;32m    360\u001b[0m         \u001b[1;32melse\u001b[0m\u001b[1;33m:\u001b[0m\u001b[1;33m\u001b[0m\u001b[1;33m\u001b[0m\u001b[0m\n\u001b[0;32m    361\u001b[0m             raise ValueError(\n",
      "\u001b[1;32mC:\\ProgramData\\Anaconda3\\lib\\site-packages\\pandas\\io\\excel\\_xlrd.py\u001b[0m in \u001b[0;36mload_workbook\u001b[1;34m(self, filepath_or_buffer)\u001b[0m\n\u001b[0;32m     34\u001b[0m             \u001b[1;32mreturn\u001b[0m \u001b[0mopen_workbook\u001b[0m\u001b[1;33m(\u001b[0m\u001b[0mfile_contents\u001b[0m\u001b[1;33m=\u001b[0m\u001b[0mdata\u001b[0m\u001b[1;33m)\u001b[0m\u001b[1;33m\u001b[0m\u001b[1;33m\u001b[0m\u001b[0m\n\u001b[0;32m     35\u001b[0m         \u001b[1;32melse\u001b[0m\u001b[1;33m:\u001b[0m\u001b[1;33m\u001b[0m\u001b[1;33m\u001b[0m\u001b[0m\n\u001b[1;32m---> 36\u001b[1;33m             \u001b[1;32mreturn\u001b[0m \u001b[0mopen_workbook\u001b[0m\u001b[1;33m(\u001b[0m\u001b[0mfilepath_or_buffer\u001b[0m\u001b[1;33m)\u001b[0m\u001b[1;33m\u001b[0m\u001b[1;33m\u001b[0m\u001b[0m\n\u001b[0m\u001b[0;32m     37\u001b[0m \u001b[1;33m\u001b[0m\u001b[0m\n\u001b[0;32m     38\u001b[0m     \u001b[1;33m@\u001b[0m\u001b[0mproperty\u001b[0m\u001b[1;33m\u001b[0m\u001b[1;33m\u001b[0m\u001b[0m\n",
      "\u001b[1;32mC:\\ProgramData\\Anaconda3\\lib\\site-packages\\xlrd\\__init__.py\u001b[0m in \u001b[0;36mopen_workbook\u001b[1;34m(filename, logfile, verbosity, use_mmap, file_contents, encoding_override, formatting_info, on_demand, ragged_rows)\u001b[0m\n\u001b[0;32m    109\u001b[0m     \u001b[1;32melse\u001b[0m\u001b[1;33m:\u001b[0m\u001b[1;33m\u001b[0m\u001b[1;33m\u001b[0m\u001b[0m\n\u001b[0;32m    110\u001b[0m         \u001b[0mfilename\u001b[0m \u001b[1;33m=\u001b[0m \u001b[0mos\u001b[0m\u001b[1;33m.\u001b[0m\u001b[0mpath\u001b[0m\u001b[1;33m.\u001b[0m\u001b[0mexpanduser\u001b[0m\u001b[1;33m(\u001b[0m\u001b[0mfilename\u001b[0m\u001b[1;33m)\u001b[0m\u001b[1;33m\u001b[0m\u001b[1;33m\u001b[0m\u001b[0m\n\u001b[1;32m--> 111\u001b[1;33m         \u001b[1;32mwith\u001b[0m \u001b[0mopen\u001b[0m\u001b[1;33m(\u001b[0m\u001b[0mfilename\u001b[0m\u001b[1;33m,\u001b[0m \u001b[1;34m\"rb\"\u001b[0m\u001b[1;33m)\u001b[0m \u001b[1;32mas\u001b[0m \u001b[0mf\u001b[0m\u001b[1;33m:\u001b[0m\u001b[1;33m\u001b[0m\u001b[1;33m\u001b[0m\u001b[0m\n\u001b[0m\u001b[0;32m    112\u001b[0m             \u001b[0mpeek\u001b[0m \u001b[1;33m=\u001b[0m \u001b[0mf\u001b[0m\u001b[1;33m.\u001b[0m\u001b[0mread\u001b[0m\u001b[1;33m(\u001b[0m\u001b[0mpeeksz\u001b[0m\u001b[1;33m)\u001b[0m\u001b[1;33m\u001b[0m\u001b[1;33m\u001b[0m\u001b[0m\n\u001b[0;32m    113\u001b[0m     \u001b[1;32mif\u001b[0m \u001b[0mpeek\u001b[0m \u001b[1;33m==\u001b[0m \u001b[1;34mb\"PK\\x03\\x04\"\u001b[0m\u001b[1;33m:\u001b[0m \u001b[1;31m# a ZIP file\u001b[0m\u001b[1;33m\u001b[0m\u001b[1;33m\u001b[0m\u001b[0m\n",
      "\u001b[1;31mFileNotFoundError\u001b[0m: [Errno 2] No such file or directory: 'D:\\\\MY STUFF\\\\rhym\\\\act_api\\\\data\\\\objects_fact_TA.xlsx'"
     ]
    }
   ],
   "source": [
    "df_all=pd.read_excel(r\"D:\\MY STUFF\\rhym\\act_api\\data\\objects_fact_TA.xlsx\")\n",
    "df_infra_all=pd.read_excel(r\"D:\\MY STUFF\\rhym\\act_api\\data\\objects_fact_TA.xlsx\")"
   ]
  },
  {
   "cell_type": "code",
   "execution_count": 5,
   "metadata": {},
   "outputs": [],
   "source": [
    "# function to collect unique objects\n",
    "def all_objects(df):\n",
    "    all_objects=[]\n",
    "    source=list(df['source_node'])\n",
    "    dest=list(df['dest_node'])   \n",
    "    all_objects.extend(source)\n",
    "    all_objects.extend(dest)\n",
    "    all_objects=list(set(all_objects))\n",
    "    return all_objects"
   ]
  },
  {
   "cell_type": "code",
   "execution_count": 74,
   "metadata": {},
   "outputs": [],
   "source": [
    "# pusing all objects if not exists in instance\n",
    "def creating_objects(connection,df,patterns):\n",
    "    #pattern is a dictionary of object name and its pattern\n",
    "    objects_exist=[i.name for i in connection.get_object_types()]\n",
    "    objects=all_objects(df)\n",
    "    for object_ in objects:\n",
    "        if ((object_ in patterns) and (object_ not in objects_exist)):\n",
    "                print(object_,\"is pushed to instance\")\n",
    "                c.object_type(object_,patterns[object_]).add()        \n",
    "        elif ((object_ not in patterns) and (object_ not in objects_exist)):\n",
    "                print(object_,\"is pushed to instance\")\n",
    "                c.object_type(object_).add() \n",
    "        elif (object_ in objects_exist):\n",
    "            print(\"+++++++------\"+object_,\"object type already exists in instance\"+\"-----+++++++\")\n",
    "    print('\\n\\t\\t_______________Task completed___________')"
   ]
  },
  {
   "cell_type": "code",
   "execution_count": 75,
   "metadata": {},
   "outputs": [
    {
     "name": "stdout",
     "output_type": "stream",
     "text": [
      "+++++++------malware object type already exists in instance-----+++++++\n",
      "+++++++------tool object type already exists in instance-----+++++++\n",
      "+++++++------attack pattern object type already exists in instance-----+++++++\n",
      "+++++++------identity object type already exists in instance-----+++++++\n",
      "+++++++------threat_actor object type already exists in instance-----+++++++\n",
      "+++++++------campaign object type already exists in instance-----+++++++\n",
      "+++++++------intrusion_set object type already exists in instance-----+++++++\n",
      "+++++++------indicator object type already exists in instance-----+++++++\n",
      "+++++++------vulnerability object type already exists in instance-----+++++++\n",
      "+++++++------location object type already exists in instance-----+++++++\n",
      "+++++++------infrastructure object type already exists in instance-----+++++++\n",
      "\n",
      "\t\t_______________Task completed___________\n"
     ]
    }
   ],
   "source": [
    "pattern=dict()\n",
    "creating_objects(connection=c,df=df_all,patterns=pattern)"
   ]
  },
  {
   "cell_type": "code",
   "execution_count": 9,
   "metadata": {},
   "outputs": [
    {
     "data": {
      "text/plain": [
       "{'899501e5-8352-4492-bcf9-6d3152c13d64': 'num_files',\n",
       " '11536a94-8be2-4a87-b1f5-7cfe6f9d154b': 'tool',\n",
       " '5ffa4d2d-50b7-441a-9e8c-484c91b983ec': 'threat_actor',\n",
       " '1129bdcb-bfb4-40d9-ae60-935291c66962': 'OS',\n",
       " 'aff51da0-c9bb-4384-83c9-dd3b4819796a': 'ip',\n",
       " 'c98d83bd-7e51-4010-a245-cd987f29ce21': 'patch_details',\n",
       " 'fe059b61-6d9a-4658-877a-db1be6ce7259': 'attack pattern',\n",
       " 'b5e263e5-6a62-4e17-afb2-15571762ac56': 'num_dlls',\n",
       " '781b327b-29ce-475f-b60b-99bfd8b79cbe': 'fqdn',\n",
       " 'bac5c42b-1466-4909-a9b7-dd774099227e': 'malware',\n",
       " '776fee5e-78f5-4af5-9a53-616610c46c1f': 'infrastructure',\n",
       " 'c6a46e2d-f57c-4b4c-a695-b309b057b8ae': 'malicious_file',\n",
       " '2a3f6a6d-1215-4860-9306-8baf20e6ba70': 'intrusion_set',\n",
       " '85cf8b35-f52b-46e8-8f64-2618b7ceaf9f': 'num_cpls',\n",
       " '6e2a3c16-6c88-47b9-8e63-670ab26ec82c': 'location',\n",
       " '28edcfdd-2371-4566-88ae-0fbe58ab52ad': 'observed data',\n",
       " '54fcb681-fdbc-4772-ab65-df74d3f25e91': 'dotnet_framework_version',\n",
       " '0428de17-e23f-4781-9cbb-b6a617767fbb': 'size',\n",
       " '384f595e-e37b-4d0d-92f0-617ca4706449': 'campaign',\n",
       " '2d025f65-bf61-412e-b86b-bf40768b2aaa': 'indicator',\n",
       " 'c1fe2a96-66b5-4661-8eb5-39700c20025d': 'asset',\n",
       " '9cc89b6e-c104-44b2-9605-28ef5f544387': 'path_location',\n",
       " 'e61a959a-2dc6-45e1-895d-c8db592b3abc': 'folder_name',\n",
       " 'da0ea15d-6c19-4906-8893-7a01a5968055': 'hardware',\n",
       " 'df7f1b78-2215-438c-ba56-e69922ff657f': 'identity',\n",
       " '3054408b-1d72-4318-bb82-0121e11b5a14': 'vulnerability',\n",
       " '45367474-09b1-4fc3-935c-70378dff1ba8': 'Course-of-action'}"
      ]
     },
     "execution_count": 9,
     "metadata": {},
     "output_type": "execute_result"
    }
   ],
   "source": [
    "#optional\n",
    "# checking weather objects created or not\n",
    "obj_type_details=dict()\n",
    "for obj_type in c.get_object_types():\n",
    "    n=obj_type.name\n",
    "    i=obj_type.id\n",
    "    obj_type_details[i]=n\n",
    "obj_type_details"
   ]
  },
  {
   "cell_type": "code",
   "execution_count": 359,
   "metadata": {},
   "outputs": [],
   "source": [
    "def create_facts(connection,df):\n",
    "\n",
    "    for index,row in df.iterrows():\n",
    "            if row['Bidirectional']==1:\n",
    "                object_bindings = [{\n",
    "                \"destinationObjectType\": row['dest_node'],\n",
    "                \"sourceObjectType\": row['source_node'],\n",
    "                \"bidirectional\":True}]\n",
    "            elif row['Bidirectional']==0:\n",
    "                object_bindings = [{\n",
    "                \"destinationObjectType\": row['dest_node'],\n",
    "                \"sourceObjectType\": row['source_node']}]\n",
    "            else:\n",
    "                print(row['Bidirectional']+' is unexpected at '+row['fact'])\n",
    "                \n",
    "        \n",
    "            c.create_fact_type(row['fact'], object_bindings = object_bindings)\n",
    "\n",
    "            \n",
    "    print('\\n\\t\\t_____task done_______')\n",
    "    "
   ]
  },
  {
   "cell_type": "code",
   "execution_count": 11,
   "metadata": {},
   "outputs": [
    {
     "ename": "NameError",
     "evalue": "name 'df' is not defined",
     "output_type": "error",
     "traceback": [
      "\u001b[1;31m---------------------------------------------------------------------------\u001b[0m",
      "\u001b[1;31mNameError\u001b[0m                                 Traceback (most recent call last)",
      "\u001b[1;32m<ipython-input-11-00cf07b74dcd>\u001b[0m in \u001b[0;36m<module>\u001b[1;34m\u001b[0m\n\u001b[1;32m----> 1\u001b[1;33m \u001b[0mdf\u001b[0m\u001b[1;33m\u001b[0m\u001b[1;33m\u001b[0m\u001b[0m\n\u001b[0m",
      "\u001b[1;31mNameError\u001b[0m: name 'df' is not defined"
     ]
    }
   ],
   "source": []
  },
  {
   "cell_type": "code",
   "execution_count": 360,
   "metadata": {},
   "outputs": [
    {
     "name": "stdout",
     "output_type": "stream",
     "text": [
      "[2020-04-22 17:53:29] app=act level=WARNING msg=Fact type uses already exists\n",
      "[2020-04-22 17:53:29] app=act level=WARNING msg=All bindings specified for uses already exists\n",
      "[2020-04-22 17:53:29] app=act level=WARNING msg=Fact type uses already exists\n",
      "[2020-04-22 17:53:29] app=act level=WARNING msg=All bindings specified for uses already exists\n",
      "[2020-04-22 17:53:30] app=act level=WARNING msg=Fact type authored by already exists\n",
      "[2020-04-22 17:53:30] app=act level=WARNING msg=All bindings specified for authored by already exists\n",
      "[2020-04-22 17:53:30] app=act level=WARNING msg=Fact type attributed to already exists\n",
      "[2020-04-22 17:53:30] app=act level=WARNING msg=All bindings specified for attributed to already exists\n",
      "[2020-04-22 17:53:30] app=act level=WARNING msg=Fact type impersonates already exists\n",
      "[2020-04-22 17:53:30] app=act level=WARNING msg=All bindings specified for impersonates already exists\n",
      "[2020-04-22 17:53:30] app=act level=WARNING msg=Fact type targets already exists\n",
      "[2020-04-22 17:53:30] app=act level=WARNING msg=All bindings specified for targets already exists\n",
      "[2020-04-22 17:53:30] app=act level=WARNING msg=Fact type compromises already exists\n",
      "[2020-04-22 17:53:30] app=act level=WARNING msg=All bindings specified for compromises already exists\n",
      "[2020-04-22 17:53:31] app=act level=WARNING msg=Fact type owns already exists\n",
      "[2020-04-22 17:53:31] app=act level=WARNING msg=All bindings specified for owns already exists\n",
      "[2020-04-22 17:53:31] app=act level=WARNING msg=Fact type host already exists\n",
      "[2020-04-22 17:53:31] app=act level=WARNING msg=All bindings specified for host already exists\n",
      "[2020-04-22 17:53:31] app=act level=WARNING msg=Fact type uses already exists\n",
      "[2020-04-22 17:53:31] app=act level=WARNING msg=All bindings specified for uses already exists\n",
      "[2020-04-22 17:53:31] app=act level=WARNING msg=Fact type located at already exists\n",
      "[2020-04-22 17:53:31] app=act level=WARNING msg=All bindings specified for located at already exists\n",
      "[2020-04-22 17:53:31] app=act level=WARNING msg=Fact type targets already exists\n",
      "[2020-04-22 17:53:31] app=act level=WARNING msg=All bindings specified for targets already exists\n",
      "[2020-04-22 17:53:32] app=act level=WARNING msg=Fact type uses already exists\n",
      "[2020-04-22 17:53:32] app=act level=WARNING msg=All bindings specified for uses already exists\n",
      "[2020-04-22 17:53:32] app=act level=WARNING msg=Fact type targets already exists\n",
      "[2020-04-22 17:53:32] app=act level=WARNING msg=All bindings specified for targets already exists\n",
      "[2020-04-22 17:53:32] app=act level=WARNING msg=Fact type attributed to already exists\n",
      "[2020-04-22 17:53:32] app=act level=WARNING msg=All bindings specified for attributed to already exists\n",
      "[2020-04-22 17:53:32] app=act level=WARNING msg=Fact type indicates already exists\n",
      "[2020-04-22 17:53:32] app=act level=WARNING msg=All bindings specified for indicates already exists\n",
      "[2020-04-22 17:53:32] app=act level=WARNING msg=Fact type attributed to already exists\n",
      "[2020-04-22 17:53:32] app=act level=WARNING msg=All bindings specified for attributed to already exists\n",
      "[2020-04-22 17:53:33] app=act level=WARNING msg=Fact type uses already exists\n",
      "[2020-04-22 17:53:33] app=act level=WARNING msg=All bindings specified for uses already exists\n",
      "[2020-04-22 17:53:33] app=act level=WARNING msg=Fact type targets already exists\n",
      "\n",
      "\t\t_____task done_______\n"
     ]
    }
   ],
   "source": [
    "create_facts(connection=c,df=df)"
   ]
  },
  {
   "cell_type": "code",
   "execution_count": 14,
   "metadata": {},
   "outputs": [
    {
     "name": "stdout",
     "output_type": "stream",
     "text": [
      "FactType(name='uses', id='0868cb46-ff7d-49d4-a132-a1a92a4feab4', default_confidence=1.0, relevant_object_bindings=[RelevantObjectBindings(source_object_type='f86b46ab-064b-44f3-9264-44274e55ff93', destination_object_type='b872a367-5b85-410d-9133-2a7701f3c4c6'), RelevantObjectBindings(source_object_type='f86b46ab-064b-44f3-9264-44274e55ff93', destination_object_type='41a76fb6-3eb7-4fcc-8647-112326f9a4dd'), RelevantObjectBindings(source_object_type='f86b46ab-064b-44f3-9264-44274e55ff93', destination_object_type='99a99af5-0ae1-4486-a861-9fd033702014'), RelevantObjectBindings(source_object_type='f86b46ab-064b-44f3-9264-44274e55ff93', destination_object_type='8b9f1a14-7379-44cc-ac31-ff266b328d9e'), RelevantObjectBindings(source_object_type='f86b46ab-064b-44f3-9264-44274e55ff93', destination_object_type='a70b0efd-4eb2-4145-a38f-c97e00440318'), RelevantObjectBindings(source_object_type='8b9f1a14-7379-44cc-ac31-ff266b328d9e', destination_object_type='b872a367-5b85-410d-9133-2a7701f3c4c6')], namespace=NameSpace(name='Global', id='00000000-0000-0000-0000-000000000000'))\n"
     ]
    }
   ],
   "source": [
    "for i in c.get_fact_types():\n",
    "    if i.name=='uses':\n",
    "        print(i)"
   ]
  },
  {
   "cell_type": "code",
   "execution_count": 13,
   "metadata": {},
   "outputs": [],
   "source": [
    "df_ta_mal=pd.read_csv(r\"D:\\MY STUFF\\rhym\\act_api\\data\\object_facts_values\\threat_actor-malware.csv\")\n",
    "df_ta_ap=pd.read_csv(r\"D:\\MY STUFF\\rhym\\act_api\\data\\object_facts_values\\threat_actor-attack_pattern.csv\")\n",
    "df_ta_tool=pd.read_csv(r\"D:\\MY STUFF\\rhym\\act_api\\data\\object_facts_values\\threat_actor-tools.csv\")\n",
    "df_mal_ta=pd.read_csv(r\"D:\\MY STUFF\\rhym\\act_api\\data\\object_facts_values\\malware-threat_actor.csv\")\n",
    "df_ta_vul=pd.read_csv(r\"D:\\MY STUFF\\rhym\\act_api\\data\\object_facts_values\\threat_actor_vulnerability.csv\")"
   ]
  },
  {
   "cell_type": "code",
   "execution_count": 14,
   "metadata": {},
   "outputs": [],
   "source": [
    "def push_object_values_to_facts(connection,df_values,df_all):\n",
    "    \n",
    "    col=df_values.columns\n",
    "    relation=df_all['fact'][(df_all['source_node']==col[0])&(df_all['dest_node']==col[1])]\n",
    "    if len(relation)!=0:\n",
    "        relation=list(relation)[0]\n",
    "        print(relation)\n",
    "        for index,row in df_values.iterrows():\n",
    "            connection.fact(relation).source(col[0], row[col[0]]).destination(col[1], row[col[1]]).add()\n",
    "            print(index)\n",
    "    elif len(relation)==0:\n",
    "            print('fact type does not exist between',col[0]+' and '+col[1])\n",
    "    \n",
    "    print('\\n\\t\\t________taskdone______________')\n",
    "    "
   ]
  },
  {
   "cell_type": "code",
   "execution_count": 15,
   "metadata": {},
   "outputs": [
    {
     "ename": "NameError",
     "evalue": "name 'df_all' is not defined",
     "output_type": "error",
     "traceback": [
      "\u001b[1;31m---------------------------------------------------------------------------\u001b[0m",
      "\u001b[1;31mNameError\u001b[0m                                 Traceback (most recent call last)",
      "\u001b[1;32m<ipython-input-15-ead3698d8e17>\u001b[0m in \u001b[0;36m<module>\u001b[1;34m\u001b[0m\n\u001b[0;32m      1\u001b[0m \u001b[1;31m#push_object_values_to_facts(connection=c,df_values=df_ta_mal,df_all=df_all)\u001b[0m\u001b[1;33m\u001b[0m\u001b[1;33m\u001b[0m\u001b[1;33m\u001b[0m\u001b[0m\n\u001b[1;32m----> 2\u001b[1;33m \u001b[0mpush_object_values_to_facts\u001b[0m\u001b[1;33m(\u001b[0m\u001b[0mconnection\u001b[0m\u001b[1;33m=\u001b[0m\u001b[0mc\u001b[0m\u001b[1;33m,\u001b[0m\u001b[0mdf_values\u001b[0m\u001b[1;33m=\u001b[0m\u001b[0mdf_mal_ta\u001b[0m\u001b[1;33m,\u001b[0m\u001b[0mdf_all\u001b[0m\u001b[1;33m=\u001b[0m\u001b[0mdf_all\u001b[0m\u001b[1;33m)\u001b[0m\u001b[1;33m\u001b[0m\u001b[1;33m\u001b[0m\u001b[0m\n\u001b[0m",
      "\u001b[1;31mNameError\u001b[0m: name 'df_all' is not defined"
     ]
    }
   ],
   "source": [
    "#push_object_values_to_facts(connection=c,df_values=df_ta_mal,df_all=df_all)\n",
    "push_object_values_to_facts(connection=c,df_values=df_mal_ta,df_all=df_all)"
   ]
  },
  {
   "cell_type": "code",
   "execution_count": 90,
   "metadata": {},
   "outputs": [
    {
     "data": {
      "text/plain": [
       "[Object(type='tool', value='Mimikatz', id='37730365-14fd-4f34-b3a5-e99cfe500dd1')]"
      ]
     },
     "execution_count": 90,
     "metadata": {},
     "output_type": "execute_result"
    }
   ],
   "source": [
    "c.object_search(object_value=\"Mimikatz\")"
   ]
  },
  {
   "cell_type": "code",
   "execution_count": 92,
   "metadata": {},
   "outputs": [
    {
     "name": "stdout",
     "output_type": "stream",
     "text": [
      "[Fact(type='uses', origin=Origin(name='John Doe', id='00000000-0000-0000-0000-000000000001'), confidence=1.0, organization=Organization(name='Test Organization 1', id='00000000-0000-0000-0000-000000000001'), source_object=Object(type='threat_actor', value='apt1', id='82862eb6-a925-47db-b002-8014383b88c9'), destination_object=Object(type='tool', value='xCmd', id='7016c6ea-0154-485b-9791-6e3fcce70e29')), Fact(type='uses', origin=Origin(name='John Doe', id='00000000-0000-0000-0000-000000000001'), confidence=1.0, organization=Organization(name='Test Organization 1', id='00000000-0000-0000-0000-000000000001'), source_object=Object(type='threat_actor', value='apt1', id='82862eb6-a925-47db-b002-8014383b88c9'), destination_object=Object(type='malware', value='Seasalt', id='e933955b-a87f-4848-b7b5-755bb8d496a0')), Fact(type='uses', origin=Origin(name='John Doe', id='00000000-0000-0000-0000-000000000001'), confidence=1.0, organization=Organization(name='Test Organization 1', id='00000000-0000-0000-0000-000000000001'), source_object=Object(type='threat_actor', value='apt1', id='82862eb6-a925-47db-b002-8014383b88c9'), destination_object=Object(type='tool', value='Pass-The-Hash Toolkit', id='64047889-4ddf-4aa1-9c15-67d90ff2028e')), Fact(type='uses', origin=Origin(name='John Doe', id='00000000-0000-0000-0000-000000000001'), confidence=1.0, organization=Organization(name='Test Organization 1', id='00000000-0000-0000-0000-000000000001'), source_object=Object(type='threat_actor', value='apt1', id='82862eb6-a925-47db-b002-8014383b88c9'), destination_object=Object(type='attack pattern', value='System Network Configuration Discovery', id='9b1db1d3-a471-4571-97b5-8d2742a1c475')), Fact(type='uses', origin=Origin(name='John Doe', id='00000000-0000-0000-0000-000000000001'), confidence=1.0, organization=Organization(name='Test Organization 1', id='00000000-0000-0000-0000-000000000001'), source_object=Object(type='threat_actor', value='apt1', id='82862eb6-a925-47db-b002-8014383b88c9'), destination_object=Object(type='tool', value='pwdump', id='37de4a02-fc1b-48bf-84a6-a31567e01ac8')), Fact(type='uses', origin=Origin(name='John Doe', id='00000000-0000-0000-0000-000000000001'), confidence=1.0, organization=Organization(name='Test Organization 1', id='00000000-0000-0000-0000-000000000001'), source_object=Object(type='threat_actor', value='apt1', id='82862eb6-a925-47db-b002-8014383b88c9'), destination_object=Object(type='attack pattern', value='Masquerading', id='fe6d8bc6-0cdd-4675-9049-c6ed4902e90e')), Fact(type='uses', origin=Origin(name='John Doe', id='00000000-0000-0000-0000-000000000001'), confidence=1.0, organization=Organization(name='Test Organization 1', id='00000000-0000-0000-0000-000000000001'), source_object=Object(type='threat_actor', value='apt1', id='82862eb6-a925-47db-b002-8014383b88c9'), destination_object=Object(type='tool', value='Cachedump', id='70c6a52a-8644-4f9e-a57b-5681302f1f64')), Fact(type='uses', origin=Origin(name='John Doe', id='00000000-0000-0000-0000-000000000001'), confidence=1.0, organization=Organization(name='Test Organization 1', id='00000000-0000-0000-0000-000000000001'), source_object=Object(type='threat_actor', value='apt1', id='82862eb6-a925-47db-b002-8014383b88c9'), destination_object=Object(type='attack pattern', value='System Network Connections Discovery', id='5dc63e0f-851b-4e0d-928b-2dd9b6c074f8')), Fact(type='uses', origin=Origin(name='John Doe', id='00000000-0000-0000-0000-000000000001'), confidence=1.0, organization=Organization(name='Test Organization 1', id='00000000-0000-0000-0000-000000000001'), source_object=Object(type='threat_actor', value='apt1', id='82862eb6-a925-47db-b002-8014383b88c9'), destination_object=Object(type='malware', value='PoisonIvy', id='c57e3779-12b4-4eab-80b2-fd664af53eae')), Fact(type='uses', origin=Origin(name='John Doe', id='00000000-0000-0000-0000-000000000001'), confidence=1.0, organization=Organization(name='Test Organization 1', id='00000000-0000-0000-0000-000000000001'), source_object=Object(type='threat_actor', value='apt1', id='82862eb6-a925-47db-b002-8014383b88c9'), destination_object=Object(type='tool', value='Tasklist', id='a323ccee-5723-411e-83ed-8fc62fc1588b')), Fact(type='uses', origin=Origin(name='John Doe', id='00000000-0000-0000-0000-000000000001'), confidence=1.0, organization=Organization(name='Test Organization 1', id='00000000-0000-0000-0000-000000000001'), source_object=Object(type='threat_actor', value='apt1', id='82862eb6-a925-47db-b002-8014383b88c9'), destination_object=Object(type='attack pattern', value='Data Compressed', id='a2df4c93-3469-4c35-a595-a342ce91d83f')), Fact(type='uses', origin=Origin(name='John Doe', id='00000000-0000-0000-0000-000000000001'), confidence=1.0, organization=Organization(name='Test Organization 1', id='00000000-0000-0000-0000-000000000001'), source_object=Object(type='threat_actor', value='apt1', id='82862eb6-a925-47db-b002-8014383b88c9'), destination_object=Object(type='attack pattern', value='Command-Line Interface', id='895ec5de-0286-4eb3-9546-0f2fe3b8b65c')), Fact(type='uses', origin=Origin(name='John Doe', id='00000000-0000-0000-0000-000000000001'), confidence=1.0, organization=Organization(name='Test Organization 1', id='00000000-0000-0000-0000-000000000001'), source_object=Object(type='threat_actor', value='apt1', id='82862eb6-a925-47db-b002-8014383b88c9'), destination_object=Object(type='malware', value='CALENDAR', id='88cee7aa-51f1-4577-8016-7ec076694720')), Fact(type='uses', origin=Origin(name='John Doe', id='00000000-0000-0000-0000-000000000001'), confidence=1.0, organization=Organization(name='Test Organization 1', id='00000000-0000-0000-0000-000000000001'), source_object=Object(type='threat_actor', value='apt1', id='82862eb6-a925-47db-b002-8014383b88c9'), destination_object=Object(type='attack pattern', value='Credential Dumping', id='dad2de39-4500-4932-85f1-7f46e8c5f371')), Fact(type='uses', origin=Origin(name='John Doe', id='00000000-0000-0000-0000-000000000001'), confidence=1.0, organization=Organization(name='Test Organization 1', id='00000000-0000-0000-0000-000000000001'), source_object=Object(type='threat_actor', value='apt1', id='82862eb6-a925-47db-b002-8014383b88c9'), destination_object=Object(type='tool', value='gsecdump', id='841fe972-234b-4f6c-b1bc-a1f5757d4fef')), Fact(type='uses', origin=Origin(name='John Doe', id='00000000-0000-0000-0000-000000000001'), confidence=1.0, organization=Organization(name='Test Organization 1', id='00000000-0000-0000-0000-000000000001'), source_object=Object(type='threat_actor', value='apt1', id='82862eb6-a925-47db-b002-8014383b88c9'), destination_object=Object(type='tool', value='ipconfig', id='f44e68dd-cb8c-4650-acdb-e07a7787536c')), Fact(type='uses', origin=Origin(name='John Doe', id='00000000-0000-0000-0000-000000000001'), confidence=1.0, organization=Organization(name='Test Organization 1', id='00000000-0000-0000-0000-000000000001'), source_object=Object(type='threat_actor', value='apt1', id='82862eb6-a925-47db-b002-8014383b88c9'), destination_object=Object(type='malware', value='WEBC2', id='572aa87a-108b-459d-8b3d-c5c4c9f2a8cf')), Fact(type='uses', origin=Origin(name='John Doe', id='00000000-0000-0000-0000-000000000001'), confidence=1.0, organization=Organization(name='Test Organization 1', id='00000000-0000-0000-0000-000000000001'), source_object=Object(type='threat_actor', value='apt1', id='82862eb6-a925-47db-b002-8014383b88c9'), destination_object=Object(type='attack pattern', value='Automated Collection', id='54834001-e4a0-4f01-924a-1a1c555ec4ec')), Fact(type='uses', origin=Origin(name='John Doe', id='00000000-0000-0000-0000-000000000001'), confidence=1.0, organization=Organization(name='Test Organization 1', id='00000000-0000-0000-0000-000000000001'), source_object=Object(type='threat_actor', value='apt1', id='82862eb6-a925-47db-b002-8014383b88c9'), destination_object=Object(type='malware', value='GLOOXMAIL', id='6a78b660-f8c0-48af-bcd5-c999f53618c0')), Fact(type='targets', origin=Origin(name='John Doe', id='00000000-0000-0000-0000-000000000001'), confidence=1.0, organization=Organization(name='Test Organization 1', id='00000000-0000-0000-0000-000000000001'), source_object=Object(type='threat_actor', value='apt1', id='82862eb6-a925-47db-b002-8014383b88c9'), destination_object=Object(type='vulnerability', value='CVE-2012-0158', id='73abd56c-606e-4510-aad5-99c8de0d2035')), Fact(type='uses', origin=Origin(name='John Doe', id='00000000-0000-0000-0000-000000000001'), confidence=1.0, organization=Organization(name='Test Organization 1', id='00000000-0000-0000-0000-000000000001'), source_object=Object(type='threat_actor', value='apt1', id='82862eb6-a925-47db-b002-8014383b88c9'), destination_object=Object(type='attack pattern', value='Compromise 3rd party infrastructure to support delivery', id='aea77464-49ba-4312-a043-e18917e56731')), Fact(type='uses', origin=Origin(name='John Doe', id='00000000-0000-0000-0000-000000000001'), confidence=1.0, organization=Organization(name='Test Organization 1', id='00000000-0000-0000-0000-000000000001'), source_object=Object(type='threat_actor', value='apt1', id='82862eb6-a925-47db-b002-8014383b88c9'), destination_object=Object(type='attack pattern', value='Scripting', id='f0943893-3ad8-4558-a1f1-c29d908a9d70')), Fact(type='uses', origin=Origin(name='John Doe', id='00000000-0000-0000-0000-000000000001'), confidence=1.0, organization=Organization(name='Test Organization 1', id='00000000-0000-0000-0000-000000000001'), source_object=Object(type='threat_actor', value='apt1', id='82862eb6-a925-47db-b002-8014383b88c9'), destination_object=Object(type='attack pattern', value='Dynamic DNS', id='d9b9426d-7afb-4795-a07b-dbdd8e73d355')), Fact(type='uses', origin=Origin(name='John Doe', id='00000000-0000-0000-0000-000000000001'), confidence=1.0, organization=Organization(name='Test Organization 1', id='00000000-0000-0000-0000-000000000001'), source_object=Object(type='threat_actor', value='apt1', id='82862eb6-a925-47db-b002-8014383b88c9'), destination_object=Object(type='tool', value='PsExec', id='c6a2b4a3-cb99-4d26-955e-58f8894714da')), Fact(type='uses', origin=Origin(name='John Doe', id='00000000-0000-0000-0000-000000000001'), confidence=1.0, organization=Organization(name='Test Organization 1', id='00000000-0000-0000-0000-000000000001'), source_object=Object(type='threat_actor', value='apt1', id='82862eb6-a925-47db-b002-8014383b88c9'), destination_object=Object(type='attack pattern', value='Account Discovery', id='62f19707-ef96-489d-a6ec-b9e5e4b88454')), Fact(type='uses', origin=Origin(name='John Doe', id='00000000-0000-0000-0000-000000000001'), confidence=1.0, organization=Organization(name='Test Organization 1', id='00000000-0000-0000-0000-000000000001'), source_object=Object(type='threat_actor', value='apt1', id='82862eb6-a925-47db-b002-8014383b88c9'), destination_object=Object(type='attack pattern', value='Acquire and/or use 3rd party software services', id='8fd8ed94-515e-4a42-8fa1-ce5dcc9de4af')), Fact(type='uses', origin=Origin(name='John Doe', id='00000000-0000-0000-0000-000000000001'), confidence=1.0, organization=Organization(name='Test Organization 1', id='00000000-0000-0000-0000-000000000001'), source_object=Object(type='threat_actor', value='apt1', id='82862eb6-a925-47db-b002-8014383b88c9'), destination_object=Object(type='attack pattern', value='Remote Desktop Protocol', id='4fe39b92-71a3-45f9-9339-6d9eab4bf0d6')), Fact(type='uses', origin=Origin(name='John Doe', id='00000000-0000-0000-0000-000000000001'), confidence=1.0, organization=Organization(name='Test Organization 1', id='00000000-0000-0000-0000-000000000001'), source_object=Object(type='threat_actor', value='apt1', id='82862eb6-a925-47db-b002-8014383b88c9'), destination_object=Object(type='attack pattern', value='Domain registration hijacking', id='766a1e4d-0641-4270-9f56-51cff46f9063')), Fact(type='uses', origin=Origin(name='John Doe', id='00000000-0000-0000-0000-000000000001'), confidence=1.0, organization=Organization(name='Test Organization 1', id='00000000-0000-0000-0000-000000000001'), source_object=Object(type='threat_actor', value='apt1', id='82862eb6-a925-47db-b002-8014383b88c9'), destination_object=Object(type='tool', value='Net', id='69467401-badb-4121-b747-d5980587c86b')), Fact(type='uses', origin=Origin(name='John Doe', id='00000000-0000-0000-0000-000000000001'), confidence=1.0, organization=Organization(name='Test Organization 1', id='00000000-0000-0000-0000-000000000001'), source_object=Object(type='threat_actor', value='apt1', id='82862eb6-a925-47db-b002-8014383b88c9'), destination_object=Object(type='tool', value='Mimikatz', id='37730365-14fd-4f34-b3a5-e99cfe500dd1')), Fact(type='uses', origin=Origin(name='John Doe', id='00000000-0000-0000-0000-000000000001'), confidence=1.0, organization=Organization(name='Test Organization 1', id='00000000-0000-0000-0000-000000000001'), source_object=Object(type='threat_actor', value='apt1', id='82862eb6-a925-47db-b002-8014383b88c9'), destination_object=Object(type='attack pattern', value='System Service Discovery', id='f8a4de89-1fe1-4ece-bf36-71d5014b5d5a')), Fact(type='uses', origin=Origin(name='John Doe', id='00000000-0000-0000-0000-000000000001'), confidence=1.0, organization=Organization(name='Test Organization 1', id='00000000-0000-0000-0000-000000000001'), source_object=Object(type='threat_actor', value='apt1', id='82862eb6-a925-47db-b002-8014383b88c9'), destination_object=Object(type='attack pattern', value='Pass the Hash', id='da3a268f-fa98-44d8-a4d1-d02f66143d2c')), Fact(type='uses', origin=Origin(name='John Doe', id='00000000-0000-0000-0000-000000000001'), confidence=1.0, organization=Organization(name='Test Organization 1', id='00000000-0000-0000-0000-000000000001'), source_object=Object(type='threat_actor', value='apt1', id='82862eb6-a925-47db-b002-8014383b88c9'), destination_object=Object(type='attack pattern', value='Network Share Discovery', id='16b9aef9-4134-491c-9d46-12ba6c98b7f3')), Fact(type='uses', origin=Origin(name='John Doe', id='00000000-0000-0000-0000-000000000001'), confidence=1.0, organization=Organization(name='Test Organization 1', id='00000000-0000-0000-0000-000000000001'), source_object=Object(type='threat_actor', value='apt1', id='82862eb6-a925-47db-b002-8014383b88c9'), destination_object=Object(type='malware', value='BISCUIT', id='f968251a-187e-4b2d-9f0c-8460854359d9')), Fact(type='uses', origin=Origin(name='John Doe', id='00000000-0000-0000-0000-000000000001'), confidence=1.0, organization=Organization(name='Test Organization 1', id='00000000-0000-0000-0000-000000000001'), source_object=Object(type='threat_actor', value='apt1', id='82862eb6-a925-47db-b002-8014383b88c9'), destination_object=Object(type='attack pattern', value='Obtain/re-use payloads', id='16b141a5-16ca-4eb4-842e-6d66d9ca34f1')), Fact(type='uses', origin=Origin(name='John Doe', id='00000000-0000-0000-0000-000000000001'), confidence=1.0, organization=Organization(name='Test Organization 1', id='00000000-0000-0000-0000-000000000001'), source_object=Object(type='threat_actor', value='apt1', id='82862eb6-a925-47db-b002-8014383b88c9'), destination_object=Object(type='attack pattern', value='Process Discovery', id='50a5a58f-0d84-42c2-b5f2-96b47c9c464f')), Fact(type='uses', origin=Origin(name='John Doe', id='00000000-0000-0000-0000-000000000001'), confidence=1.0, organization=Organization(name='Test Organization 1', id='00000000-0000-0000-0000-000000000001'), source_object=Object(type='threat_actor', value='apt1', id='82862eb6-a925-47db-b002-8014383b88c9'), destination_object=Object(type='attack pattern', value='Data from Local System', id='977edb34-33aa-4f05-8057-e0b279c46d7b')), Fact(type='uses', origin=Origin(name='John Doe', id='00000000-0000-0000-0000-000000000001'), confidence=1.0, organization=Organization(name='Test Organization 1', id='00000000-0000-0000-0000-000000000001'), source_object=Object(type='threat_actor', value='apt1', id='82862eb6-a925-47db-b002-8014383b88c9'), destination_object=Object(type='tool', value='Lslsass', id='e8b4db96-24ed-424a-93b9-94ca46cd74eb')), Fact(type='uses', origin=Origin(name='John Doe', id='00000000-0000-0000-0000-000000000001'), confidence=1.0, organization=Organization(name='Test Organization 1', id='00000000-0000-0000-0000-000000000001'), source_object=Object(type='threat_actor', value='apt1', id='82862eb6-a925-47db-b002-8014383b88c9'), destination_object=Object(type='attack pattern', value='Email Collection', id='518d1409-6844-4dca-8a06-df1993006230'))]\n"
     ]
    }
   ],
   "source": [
    "obj = c.object(\"threat_actor\", \"apt1\").traverse('g.outE()')\n",
    "print(obj)"
   ]
  },
  {
   "cell_type": "code",
   "execution_count": null,
   "metadata": {},
   "outputs": [],
   "source": [
    "for i in c.get_fact_types():\n",
    "    if i.name=='uses':\n",
    "        print(i.relevant_fact_bindings)"
   ]
  },
  {
   "cell_type": "code",
   "execution_count": null,
   "metadata": {},
   "outputs": [],
   "source": []
  },
  {
   "cell_type": "code",
   "execution_count": 191,
   "metadata": {},
   "outputs": [],
   "source": [
    "df=pd.DataFrame(obj_type_details.items(),columns=['UUID','Object_name'])\n",
    "df.to_csv(r'D:\\MY STUFF\\rhym\\act_api\\data\\objects.csv',index=None)"
   ]
  },
  {
   "cell_type": "code",
   "execution_count": 2,
   "metadata": {},
   "outputs": [
    {
     "data": {
      "text/plain": [
       "[FactType(name='controls', id='fe6d4918-1a60-4609-bfa3-5341a4dfd92f', default_confidence=1.0, relevant_object_bindings=[RelevantObjectBindings(source_object_type='776fee5e-78f5-4af5-9a53-616610c46c1f', destination_object_type='bac5c42b-1466-4909-a9b7-dd774099227e'), RelevantObjectBindings(source_object_type='bac5c42b-1466-4909-a9b7-dd774099227e', destination_object_type='bac5c42b-1466-4909-a9b7-dd774099227e')], namespace=NameSpace(name='Global', id='00000000-0000-0000-0000-000000000000')), FactType(name='category', id='287673ed-22e5-40ab-b99c-1ff74a5cab5b', default_confidence=1.0, validator='TrueValidator', validator_parameter=None, relevant_object_bindings=[RelevantObjectBindings(source_object_type='aff51da0-c9bb-4384-83c9-dd3b4819796a', destination_object_type='781b327b-29ce-475f-b60b-99bfd8b79cbe', bidirectional_binding=True)], namespace=NameSpace(name='Global', id='00000000-0000-0000-0000-000000000000')), FactType(name='exploits', id='58c1c70d-18d9-4cde-a5ca-96e2954e267c', default_confidence=1.0, relevant_object_bindings=[RelevantObjectBindings(source_object_type='bac5c42b-1466-4909-a9b7-dd774099227e', destination_object_type='3054408b-1d72-4318-bb82-0121e11b5a14')], namespace=NameSpace(name='Global', id='00000000-0000-0000-0000-000000000000')), FactType(name='exfiltrates to', id='cba3c34f-b58f-40de-a168-a4b8be10c8ef', default_confidence=1.0, relevant_object_bindings=[RelevantObjectBindings(source_object_type='bac5c42b-1466-4909-a9b7-dd774099227e', destination_object_type='776fee5e-78f5-4af5-9a53-616610c46c1f')], namespace=NameSpace(name='Global', id='00000000-0000-0000-0000-000000000000')), FactType(name='drops', id='fe98f7ca-33b5-4498-9633-5343585f67e4', default_confidence=1.0, relevant_object_bindings=[RelevantObjectBindings(source_object_type='bac5c42b-1466-4909-a9b7-dd774099227e', destination_object_type='11536a94-8be2-4a87-b1f5-7cfe6f9d154b', bidirectional_binding=True), RelevantObjectBindings(source_object_type='bac5c42b-1466-4909-a9b7-dd774099227e', destination_object_type='bac5c42b-1466-4909-a9b7-dd774099227e')], namespace=NameSpace(name='Global', id='00000000-0000-0000-0000-000000000000')), FactType(name='downloads', id='cdbda350-3e3f-4057-a7f1-abe60a50e2e9', default_confidence=1.0, relevant_object_bindings=[RelevantObjectBindings(source_object_type='bac5c42b-1466-4909-a9b7-dd774099227e', destination_object_type='11536a94-8be2-4a87-b1f5-7cfe6f9d154b'), RelevantObjectBindings(source_object_type='bac5c42b-1466-4909-a9b7-dd774099227e', destination_object_type='bac5c42b-1466-4909-a9b7-dd774099227e')], namespace=NameSpace(name='Global', id='00000000-0000-0000-0000-000000000000')), FactType(name='impersonates', id='dee9baa9-a7fe-45d1-a69a-706109414af8', default_confidence=1.0, relevant_object_bindings=[RelevantObjectBindings(source_object_type='5ffa4d2d-50b7-441a-9e8c-484c91b983ec', destination_object_type='df7f1b78-2215-438c-ba56-e69922ff657f')], namespace=NameSpace(name='Global', id='00000000-0000-0000-0000-000000000000')), FactType(name='attributed to', id='69d307f9-8e39-4a0d-a1c4-a1602a6f5bd3', default_confidence=1.0, relevant_object_bindings=[RelevantObjectBindings(source_object_type='5ffa4d2d-50b7-441a-9e8c-484c91b983ec', destination_object_type='df7f1b78-2215-438c-ba56-e69922ff657f'), RelevantObjectBindings(source_object_type='384f595e-e37b-4d0d-92f0-617ca4706449', destination_object_type='5ffa4d2d-50b7-441a-9e8c-484c91b983ec'), RelevantObjectBindings(source_object_type='384f595e-e37b-4d0d-92f0-617ca4706449', destination_object_type='2a3f6a6d-1215-4860-9306-8baf20e6ba70'), RelevantObjectBindings(source_object_type='2a3f6a6d-1215-4860-9306-8baf20e6ba70', destination_object_type='5ffa4d2d-50b7-441a-9e8c-484c91b983ec')], namespace=NameSpace(name='Global', id='00000000-0000-0000-0000-000000000000')), FactType(name='owns', id='c1fa50c8-d1dd-41f2-9be8-e7bccba23f2e', default_confidence=1.0, relevant_object_bindings=[RelevantObjectBindings(source_object_type='5ffa4d2d-50b7-441a-9e8c-484c91b983ec', destination_object_type='776fee5e-78f5-4af5-9a53-616610c46c1f')], namespace=NameSpace(name='Global', id='00000000-0000-0000-0000-000000000000')), FactType(name='compromises', id='2577d3bb-f2e9-4621-988e-d98b37b13a1e', default_confidence=1.0, relevant_object_bindings=[RelevantObjectBindings(source_object_type='5ffa4d2d-50b7-441a-9e8c-484c91b983ec', destination_object_type='776fee5e-78f5-4af5-9a53-616610c46c1f'), RelevantObjectBindings(source_object_type='384f595e-e37b-4d0d-92f0-617ca4706449', destination_object_type='776fee5e-78f5-4af5-9a53-616610c46c1f')], namespace=NameSpace(name='Global', id='00000000-0000-0000-0000-000000000000')), FactType(name='uses', id='bf4dc3af-7c6e-422e-b568-7fc410e9ff81', default_confidence=1.0, relevant_object_bindings=[RelevantObjectBindings(source_object_type='5ffa4d2d-50b7-441a-9e8c-484c91b983ec', destination_object_type='776fee5e-78f5-4af5-9a53-616610c46c1f'), RelevantObjectBindings(source_object_type='bac5c42b-1466-4909-a9b7-dd774099227e', destination_object_type='fe059b61-6d9a-4658-877a-db1be6ce7259', bidirectional_binding=True), RelevantObjectBindings(source_object_type='5ffa4d2d-50b7-441a-9e8c-484c91b983ec', destination_object_type='fe059b61-6d9a-4658-877a-db1be6ce7259'), RelevantObjectBindings(source_object_type='5ffa4d2d-50b7-441a-9e8c-484c91b983ec', destination_object_type='11536a94-8be2-4a87-b1f5-7cfe6f9d154b'), RelevantObjectBindings(source_object_type='bac5c42b-1466-4909-a9b7-dd774099227e', destination_object_type='776fee5e-78f5-4af5-9a53-616610c46c1f'), RelevantObjectBindings(source_object_type='bac5c42b-1466-4909-a9b7-dd774099227e', destination_object_type='bac5c42b-1466-4909-a9b7-dd774099227e'), RelevantObjectBindings(source_object_type='776fee5e-78f5-4af5-9a53-616610c46c1f', destination_object_type='bac5c42b-1466-4909-a9b7-dd774099227e'), RelevantObjectBindings(source_object_type='bac5c42b-1466-4909-a9b7-dd774099227e', destination_object_type='11536a94-8be2-4a87-b1f5-7cfe6f9d154b'), RelevantObjectBindings(source_object_type='384f595e-e37b-4d0d-92f0-617ca4706449', destination_object_type='11536a94-8be2-4a87-b1f5-7cfe6f9d154b'), RelevantObjectBindings(source_object_type='5ffa4d2d-50b7-441a-9e8c-484c91b983ec', destination_object_type='bac5c42b-1466-4909-a9b7-dd774099227e'), RelevantObjectBindings(source_object_type='384f595e-e37b-4d0d-92f0-617ca4706449', destination_object_type='776fee5e-78f5-4af5-9a53-616610c46c1f'), RelevantObjectBindings(source_object_type='384f595e-e37b-4d0d-92f0-617ca4706449', destination_object_type='bac5c42b-1466-4909-a9b7-dd774099227e'), RelevantObjectBindings(source_object_type='fe059b61-6d9a-4658-877a-db1be6ce7259', destination_object_type='11536a94-8be2-4a87-b1f5-7cfe6f9d154b'), RelevantObjectBindings(source_object_type='11536a94-8be2-4a87-b1f5-7cfe6f9d154b', destination_object_type='776fee5e-78f5-4af5-9a53-616610c46c1f')], namespace=NameSpace(name='Global', id='00000000-0000-0000-0000-000000000000')), FactType(name='remediates', id='dc9a49ec-6545-4790-b662-73682b71c924', default_confidence=1.0, relevant_object_bindings=[RelevantObjectBindings(source_object_type='45367474-09b1-4fc3-935c-70378dff1ba8', destination_object_type='bac5c42b-1466-4909-a9b7-dd774099227e')], namespace=NameSpace(name='Global', id='00000000-0000-0000-0000-000000000000')), FactType(name='targets', id='7aa8202c-4f08-400a-9e44-8cb131a58584', default_confidence=1.0, relevant_object_bindings=[RelevantObjectBindings(source_object_type='fe059b61-6d9a-4658-877a-db1be6ce7259', destination_object_type='df7f1b78-2215-438c-ba56-e69922ff657f'), RelevantObjectBindings(source_object_type='fe059b61-6d9a-4658-877a-db1be6ce7259', destination_object_type='3054408b-1d72-4318-bb82-0121e11b5a14'), RelevantObjectBindings(source_object_type='384f595e-e37b-4d0d-92f0-617ca4706449', destination_object_type='df7f1b78-2215-438c-ba56-e69922ff657f'), RelevantObjectBindings(source_object_type='11536a94-8be2-4a87-b1f5-7cfe6f9d154b', destination_object_type='6e2a3c16-6c88-47b9-8e63-670ab26ec82c'), RelevantObjectBindings(source_object_type='bac5c42b-1466-4909-a9b7-dd774099227e', destination_object_type='776fee5e-78f5-4af5-9a53-616610c46c1f'), RelevantObjectBindings(source_object_type='fe059b61-6d9a-4658-877a-db1be6ce7259', destination_object_type='6e2a3c16-6c88-47b9-8e63-670ab26ec82c'), RelevantObjectBindings(source_object_type='11536a94-8be2-4a87-b1f5-7cfe6f9d154b', destination_object_type='df7f1b78-2215-438c-ba56-e69922ff657f'), RelevantObjectBindings(source_object_type='11536a94-8be2-4a87-b1f5-7cfe6f9d154b', destination_object_type='3054408b-1d72-4318-bb82-0121e11b5a14'), RelevantObjectBindings(source_object_type='384f595e-e37b-4d0d-92f0-617ca4706449', destination_object_type='6e2a3c16-6c88-47b9-8e63-670ab26ec82c'), RelevantObjectBindings(source_object_type='bac5c42b-1466-4909-a9b7-dd774099227e', destination_object_type='6e2a3c16-6c88-47b9-8e63-670ab26ec82c'), RelevantObjectBindings(source_object_type='5ffa4d2d-50b7-441a-9e8c-484c91b983ec', destination_object_type='df7f1b78-2215-438c-ba56-e69922ff657f'), RelevantObjectBindings(source_object_type='384f595e-e37b-4d0d-92f0-617ca4706449', destination_object_type='3054408b-1d72-4318-bb82-0121e11b5a14'), RelevantObjectBindings(source_object_type='5ffa4d2d-50b7-441a-9e8c-484c91b983ec', destination_object_type='3054408b-1d72-4318-bb82-0121e11b5a14'), RelevantObjectBindings(source_object_type='bac5c42b-1466-4909-a9b7-dd774099227e', destination_object_type='df7f1b78-2215-438c-ba56-e69922ff657f'), RelevantObjectBindings(source_object_type='bac5c42b-1466-4909-a9b7-dd774099227e', destination_object_type='3054408b-1d72-4318-bb82-0121e11b5a14'), RelevantObjectBindings(source_object_type='11536a94-8be2-4a87-b1f5-7cfe6f9d154b', destination_object_type='776fee5e-78f5-4af5-9a53-616610c46c1f'), RelevantObjectBindings(source_object_type='5ffa4d2d-50b7-441a-9e8c-484c91b983ec', destination_object_type='6e2a3c16-6c88-47b9-8e63-670ab26ec82c')], namespace=NameSpace(name='Global', id='00000000-0000-0000-0000-000000000000')), FactType(name='resolve', id='42c7f596-3022-4208-a14e-364b555f6067', default_confidence=1.0, validator='TrueValidator', validator_parameter=None, relevant_object_bindings=[RelevantObjectBindings(source_object_type='aff51da0-c9bb-4384-83c9-dd3b4819796a', destination_object_type='781b327b-29ce-475f-b60b-99bfd8b79cbe', bidirectional_binding=True)], namespace=NameSpace(name='Global', id='00000000-0000-0000-0000-000000000000')), FactType(name='has_cpls', id='0e0520e6-8e07-4d2e-bc65-600f6b4503e4', default_confidence=1.0, relevant_object_bindings=[RelevantObjectBindings(source_object_type='e61a959a-2dc6-45e1-895d-c8db592b3abc', destination_object_type='85cf8b35-f52b-46e8-8f64-2618b7ceaf9f')], namespace=NameSpace(name='Global', id='00000000-0000-0000-0000-000000000000')), FactType(name='variant of', id='2a0e4f8a-90d7-4240-bb9e-1d7357913000', default_confidence=1.0, relevant_object_bindings=[RelevantObjectBindings(source_object_type='bac5c42b-1466-4909-a9b7-dd774099227e', destination_object_type='bac5c42b-1466-4909-a9b7-dd774099227e')], namespace=NameSpace(name='Global', id='00000000-0000-0000-0000-000000000000')), FactType(name='has', id='30790683-d76f-4bfe-bee7-e923c144f679', default_confidence=1.0, relevant_object_bindings=[RelevantObjectBindings(source_object_type='9cc89b6e-c104-44b2-9605-28ef5f544387', destination_object_type='899501e5-8352-4492-bcf9-6d3152c13d64'), RelevantObjectBindings(source_object_type='e61a959a-2dc6-45e1-895d-c8db592b3abc', destination_object_type='b5e263e5-6a62-4e17-afb2-15571762ac56'), RelevantObjectBindings(source_object_type='e61a959a-2dc6-45e1-895d-c8db592b3abc', destination_object_type='85cf8b35-f52b-46e8-8f64-2618b7ceaf9f'), RelevantObjectBindings(source_object_type='4c8887b9-56f3-43e7-bc6f-698bb2ffe398', destination_object_type='1129bdcb-bfb4-40d9-ae60-935291c66962'), RelevantObjectBindings(source_object_type='4c8887b9-56f3-43e7-bc6f-698bb2ffe398', destination_object_type='54fcb681-fdbc-4772-ab65-df74d3f25e91'), RelevantObjectBindings(source_object_type='11536a94-8be2-4a87-b1f5-7cfe6f9d154b', destination_object_type='3054408b-1d72-4318-bb82-0121e11b5a14'), RelevantObjectBindings(source_object_type='4c8887b9-56f3-43e7-bc6f-698bb2ffe398', destination_object_type='3645c728-1b4a-406f-96ef-fbb0e914f3f9'), RelevantObjectBindings(source_object_type='9cc89b6e-c104-44b2-9605-28ef5f544387', destination_object_type='c6a46e2d-f57c-4b4c-a695-b309b057b8ae')], namespace=NameSpace(name='Global', id='00000000-0000-0000-0000-000000000000')), FactType(name='has_system_path', id='5d025552-3582-4eca-b28e-d504c98d5387', default_confidence=1.0, relevant_object_bindings=[RelevantObjectBindings(source_object_type='4c8887b9-56f3-43e7-bc6f-698bb2ffe398', destination_object_type='9cc89b6e-c104-44b2-9605-28ef5f544387')], namespace=NameSpace(name='Global', id='00000000-0000-0000-0000-000000000000')), FactType(name='has_patch', id='da8c919c-e6d6-4c61-94c7-9371f5ff2ec0', default_confidence=1.0, relevant_object_bindings=[RelevantObjectBindings(source_object_type='54fcb681-fdbc-4772-ab65-df74d3f25e91', destination_object_type='c98d83bd-7e51-4010-a245-cd987f29ce21')], namespace=NameSpace(name='Global', id='00000000-0000-0000-0000-000000000000')), FactType(name='host', id='4e55cfba-1a22-457f-b035-773ffe34af9a', default_confidence=1.0, relevant_object_bindings=[RelevantObjectBindings(source_object_type='5ffa4d2d-50b7-441a-9e8c-484c91b983ec', destination_object_type='776fee5e-78f5-4af5-9a53-616610c46c1f')], namespace=NameSpace(name='Global', id='00000000-0000-0000-0000-000000000000')), FactType(name='has_malicious_file', id='cf1cd5a6-3216-42cd-a28e-c25706abf9a8', default_confidence=1.0, relevant_object_bindings=[RelevantObjectBindings(source_object_type='9cc89b6e-c104-44b2-9605-28ef5f544387', destination_object_type='c6a46e2d-f57c-4b4c-a695-b309b057b8ae')], namespace=NameSpace(name='Global', id='00000000-0000-0000-0000-000000000000')), FactType(name='authored by', id='fd7aa04e-cf9b-4d04-b318-8e9e40888e16', default_confidence=1.0, relevant_object_bindings=[RelevantObjectBindings(source_object_type='bac5c42b-1466-4909-a9b7-dd774099227e', destination_object_type='5ffa4d2d-50b7-441a-9e8c-484c91b983ec'), RelevantObjectBindings(source_object_type='bac5c42b-1466-4909-a9b7-dd774099227e', destination_object_type='2a3f6a6d-1215-4860-9306-8baf20e6ba70')], namespace=NameSpace(name='Global', id='00000000-0000-0000-0000-000000000000')), FactType(name='has_folder', id='adedeabb-935d-40c2-b047-7fbb61e0c0ac', default_confidence=1.0, relevant_object_bindings=[RelevantObjectBindings(source_object_type='4c8887b9-56f3-43e7-bc6f-698bb2ffe398', destination_object_type='e61a959a-2dc6-45e1-895d-c8db592b3abc')], namespace=NameSpace(name='Global', id='00000000-0000-0000-0000-000000000000')), FactType(name='delivers', id='e4f1c56d-52c4-4c66-a6d9-3bea8fa5c17e', default_confidence=1.0, relevant_object_bindings=[RelevantObjectBindings(source_object_type='776fee5e-78f5-4af5-9a53-616610c46c1f', destination_object_type='bac5c42b-1466-4909-a9b7-dd774099227e'), RelevantObjectBindings(source_object_type='11536a94-8be2-4a87-b1f5-7cfe6f9d154b', destination_object_type='bac5c42b-1466-4909-a9b7-dd774099227e'), RelevantObjectBindings(source_object_type='c6a46e2d-f57c-4b4c-a695-b309b057b8ae', destination_object_type='bac5c42b-1466-4909-a9b7-dd774099227e'), RelevantObjectBindings(source_object_type='fe059b61-6d9a-4658-877a-db1be6ce7259', destination_object_type='bac5c42b-1466-4909-a9b7-dd774099227e', bidirectional_binding=True)], namespace=NameSpace(name='Global', id='00000000-0000-0000-0000-000000000000')), FactType(name='has_dll', id='6d6b174f-9a16-4585-872e-5450c756bc3f', default_confidence=1.0, relevant_object_bindings=[RelevantObjectBindings(source_object_type='e61a959a-2dc6-45e1-895d-c8db592b3abc', destination_object_type='b5e263e5-6a62-4e17-afb2-15571762ac56')], namespace=NameSpace(name='Global', id='00000000-0000-0000-0000-000000000000')), FactType(name='mitigates', id='ee79628a-af54-4928-81e6-e80e0fe84c6e', default_confidence=1.0, relevant_object_bindings=[RelevantObjectBindings(source_object_type='45367474-09b1-4fc3-935c-70378dff1ba8', destination_object_type='bac5c42b-1466-4909-a9b7-dd774099227e')], namespace=NameSpace(name='Global', id='00000000-0000-0000-0000-000000000000')), FactType(name='beacons to', id='227dd2ca-4f4c-4573-b065-a56df0530e97', default_confidence=1.0, relevant_object_bindings=[RelevantObjectBindings(source_object_type='bac5c42b-1466-4909-a9b7-dd774099227e', destination_object_type='776fee5e-78f5-4af5-9a53-616610c46c1f')], namespace=NameSpace(name='Global', id='00000000-0000-0000-0000-000000000000')), FactType(name='total_dll_size', id='900c6638-75a5-468d-b0f2-b56efa524602', default_confidence=1.0, relevant_object_bindings=[RelevantObjectBindings(source_object_type='e61a959a-2dc6-45e1-895d-c8db592b3abc', destination_object_type='0428de17-e23f-4781-9cbb-b6a617767fbb')], namespace=NameSpace(name='Global', id='00000000-0000-0000-0000-000000000000')), FactType(name='indicates', id='d0bb4f1c-4a76-4ed4-90b8-1a2ed3bdcc8e', default_confidence=1.0, relevant_object_bindings=[RelevantObjectBindings(source_object_type='2d025f65-bf61-412e-b86b-bf40768b2aaa', destination_object_type='5ffa4d2d-50b7-441a-9e8c-484c91b983ec'), RelevantObjectBindings(source_object_type='2d025f65-bf61-412e-b86b-bf40768b2aaa', destination_object_type='bac5c42b-1466-4909-a9b7-dd774099227e')], namespace=NameSpace(name='Global', id='00000000-0000-0000-0000-000000000000')), FactType(name='is', id='7c6fbc91-c815-43ac-b175-606a81197f2f', default_confidence=1.0, relevant_object_bindings=[RelevantObjectBindings(source_object_type='c1fe2a96-66b5-4661-8eb5-39700c20025d', destination_object_type='4c8887b9-56f3-43e7-bc6f-698bb2ffe398')], namespace=NameSpace(name='Global', id='00000000-0000-0000-0000-000000000000')), FactType(name='located at', id='c28ff9e3-8b5a-480a-8e98-fee7584f60e5', default_confidence=1.0, relevant_object_bindings=[RelevantObjectBindings(source_object_type='5ffa4d2d-50b7-441a-9e8c-484c91b983ec', destination_object_type='6e2a3c16-6c88-47b9-8e63-670ab26ec82c')], namespace=NameSpace(name='Global', id='00000000-0000-0000-0000-000000000000')), FactType(name='Retraction', id='2e2f4135-4ff6-3d55-8c7f-4d9bca37d62a', default_confidence=1.0, validator='TrueValidator', validator_parameter=None, relevant_object_bindings=RelevantObjectBindings(source_object_type=None), namespace=NameSpace(name='Global', id='00000000-0000-0000-0000-000000000000')), FactType(name='has_files', id='f8ec0930-f8b8-4b99-b05b-ff98f4880dbf', default_confidence=1.0, relevant_object_bindings=[RelevantObjectBindings(source_object_type='9cc89b6e-c104-44b2-9605-28ef5f544387', destination_object_type='899501e5-8352-4492-bcf9-6d3152c13d64')], namespace=NameSpace(name='Global', id='00000000-0000-0000-0000-000000000000')), FactType(name='name', id='c7f71bf9-bc9d-4bbf-9448-c2797785063f', default_confidence=1.0, validator='TrueValidator', validator_parameter=None, relevant_object_bindings=[RelevantObjectBindings(source_object_type='aff51da0-c9bb-4384-83c9-dd3b4819796a', destination_object_type='781b327b-29ce-475f-b60b-99bfd8b79cbe', bidirectional_binding=True)], namespace=NameSpace(name='Global', id='00000000-0000-0000-0000-000000000000')), FactType(name='runs_on', id='5e3d2a4b-4395-40f9-ae42-496c577f6432', default_confidence=1.0, relevant_object_bindings=[RelevantObjectBindings(source_object_type='4c8887b9-56f3-43e7-bc6f-698bb2ffe398', destination_object_type='da0ea15d-6c19-4906-8893-7a01a5968055')], namespace=NameSpace(name='Global', id='00000000-0000-0000-0000-000000000000')), FactType(name='total_cpls_size', id='103baf1e-eaa2-4fb1-b03a-3f21d1ea810c', default_confidence=1.0, relevant_object_bindings=[RelevantObjectBindings(source_object_type='e61a959a-2dc6-45e1-895d-c8db592b3abc', destination_object_type='0428de17-e23f-4781-9cbb-b6a617767fbb')], namespace=NameSpace(name='Global', id='00000000-0000-0000-0000-000000000000')), FactType(name='originates from', id='aebb506f-fbc5-43ba-b7ad-b58f0ed1131b', default_confidence=1.0, relevant_object_bindings=[RelevantObjectBindings(source_object_type='384f595e-e37b-4d0d-92f0-617ca4706449', destination_object_type='6e2a3c16-6c88-47b9-8e63-670ab26ec82c'), RelevantObjectBindings(source_object_type='bac5c42b-1466-4909-a9b7-dd774099227e', destination_object_type='6e2a3c16-6c88-47b9-8e63-670ab26ec82c')], namespace=NameSpace(name='Global', id='00000000-0000-0000-0000-000000000000'))]"
      ]
     },
     "execution_count": 2,
     "metadata": {},
     "output_type": "execute_result"
    }
   ],
   "source": [
    "c.get_fact_types()"
   ]
  },
  {
   "cell_type": "code",
   "execution_count": 7,
   "metadata": {},
   "outputs": [
    {
     "name": "stdout",
     "output_type": "stream",
     "text": [
      "FactType(name='has', id='30790683-d76f-4bfe-bee7-e923c144f679', default_confidence=1.0, relevant_object_bindings=[RelevantObjectBindings(source_object_type='9cc89b6e-c104-44b2-9605-28ef5f544387', destination_object_type='899501e5-8352-4492-bcf9-6d3152c13d64'), RelevantObjectBindings(source_object_type='e61a959a-2dc6-45e1-895d-c8db592b3abc', destination_object_type='b5e263e5-6a62-4e17-afb2-15571762ac56'), RelevantObjectBindings(source_object_type='e61a959a-2dc6-45e1-895d-c8db592b3abc', destination_object_type='85cf8b35-f52b-46e8-8f64-2618b7ceaf9f'), RelevantObjectBindings(source_object_type='4c8887b9-56f3-43e7-bc6f-698bb2ffe398', destination_object_type='1129bdcb-bfb4-40d9-ae60-935291c66962'), RelevantObjectBindings(source_object_type='4c8887b9-56f3-43e7-bc6f-698bb2ffe398', destination_object_type='54fcb681-fdbc-4772-ab65-df74d3f25e91'), RelevantObjectBindings(source_object_type='11536a94-8be2-4a87-b1f5-7cfe6f9d154b', destination_object_type='3054408b-1d72-4318-bb82-0121e11b5a14'), RelevantObjectBindings(source_object_type='4c8887b9-56f3-43e7-bc6f-698bb2ffe398', destination_object_type='3645c728-1b4a-406f-96ef-fbb0e914f3f9'), RelevantObjectBindings(source_object_type='9cc89b6e-c104-44b2-9605-28ef5f544387', destination_object_type='c6a46e2d-f57c-4b4c-a695-b309b057b8ae')], namespace=NameSpace(name='Global', id='00000000-0000-0000-0000-000000000000'))\n"
     ]
    }
   ],
   "source": [
    "for i in c.get_fact_types():\n",
    "    if i.name=='has':\n",
    "        print(i)"
   ]
  },
  {
   "cell_type": "code",
   "execution_count": 163,
   "metadata": {},
   "outputs": [
    {
     "name": "stdout",
     "output_type": "stream",
     "text": [
      "observationTime\n",
      "Retraction\n"
     ]
    }
   ],
   "source": [
    "relations=[]\n",
    "for fact_type in c.get_fact_types():\n",
    "    try:\n",
    "        fact_name=fact_type.name\n",
    "        for i in fact_type.relevant_object_bindings:\n",
    "            relations.append([i.source_object_type.id,i.source_object_type.name,fact_name,i.destination_object_type.name,i.destination_object_type.id])\n",
    "    except:\n",
    "        print(fact_type.name)\n",
    "        pass"
   ]
  },
  {
   "cell_type": "code",
   "execution_count": 179,
   "metadata": {},
   "outputs": [],
   "source": [
    "df=pd.DataFrame(relations,columns=['source_id','source_name','relation','dest_name','dest_id'])\n",
    "df.to_csv(r'D:\\MY STUFF\\rhym\\act_api\\data\\facts.csv')"
   ]
  },
  {
   "cell_type": "code",
   "execution_count": 203,
   "metadata": {},
   "outputs": [
    {
     "data": {
      "text/plain": [
       "[FactType(name='resolve', id='5ff1ef61-9ed4-4139-a6ff-956252ad9ee0', default_confidence=1.0, validator='TrueValidator', validator_parameter=None, relevant_object_bindings=[RelevantObjectBindings(source_object_type='b8c8878e-30da-49c4-a49e-f0125f9e7451', destination_object_type='50d0a570-3994-4a8f-915c-66e5df6aa7e3', bidirectional_binding=True)], namespace=NameSpace(name='Global', id='00000000-0000-0000-0000-000000000000')), FactType(name='resolves', id='0dafa0c3-9672-45b7-b8ba-cf5850d6bfe0', default_confidence=1.0, validator='TrueValidator', validator_parameter=None, relevant_object_bindings=[RelevantObjectBindings(source_object_type='b8c8878e-30da-49c4-a49e-f0125f9e7451', destination_object_type='50d0a570-3994-4a8f-915c-66e5df6aa7e3')], namespace=NameSpace(name='Global', id='00000000-0000-0000-0000-000000000000'))]"
      ]
     },
     "execution_count": 203,
     "metadata": {},
     "output_type": "execute_result"
    }
   ],
   "source": [
    "c.get_fact_types()"
   ]
  },
  {
   "cell_type": "code",
   "execution_count": 46,
   "metadata": {},
   "outputs": [
    {
     "data": {
      "text/plain": [
       "[ObjectType(name='indicator', id='5570544b-f1b1-4238-b0ef-376f71a2b5ef', namespace=NameSpace(name='Global', id='00000000-0000-0000-0000-000000000000')), ObjectType(name='attack pattern', id='41a76fb6-3eb7-4fcc-8647-112326f9a4dd', namespace=NameSpace(name='Global', id='00000000-0000-0000-0000-000000000000')), ObjectType(name='infrastructure', id='b872a367-5b85-410d-9133-2a7701f3c4c6', namespace=NameSpace(name='Global', id='00000000-0000-0000-0000-000000000000')), ObjectType(name='intrusion_set', id='a5a0c968-e1a6-48bb-94b3-ead34ab668b5', namespace=NameSpace(name='Global', id='00000000-0000-0000-0000-000000000000')), ObjectType(name='ip', id='b8c8878e-30da-49c4-a49e-f0125f9e7451', validator='TrueValidator', validator_parameter=None, namespace=NameSpace(name='Global', id='00000000-0000-0000-0000-000000000000')), ObjectType(name='threat_actor', id='f86b46ab-064b-44f3-9264-44274e55ff93', namespace=NameSpace(name='Global', id='00000000-0000-0000-0000-000000000000')), ObjectType(name='campaign', id='2533e00e-9354-4d70-b03f-a15d8558accd', namespace=NameSpace(name='Global', id='00000000-0000-0000-0000-000000000000')), ObjectType(name='tool', id='a70b0efd-4eb2-4145-a38f-c97e00440318', namespace=NameSpace(name='Global', id='00000000-0000-0000-0000-000000000000')), ObjectType(name='report', id='7d2e4b27-8d2d-4471-b89e-f82456b85162', namespace=NameSpace(name='Global', id='00000000-0000-0000-0000-000000000000')), ObjectType(name='location', id='c7b99413-a5dc-4026-895d-3e38e8ad207f', namespace=NameSpace(name='Global', id='00000000-0000-0000-0000-000000000000')), ObjectType(name='malware', id='8b9f1a14-7379-44cc-ac31-ff266b328d9e', namespace=NameSpace(name='Global', id='00000000-0000-0000-0000-000000000000')), ObjectType(name='identity', id='35ebec78-0c1d-402a-b8f3-14fdbbda63a7', namespace=NameSpace(name='Global', id='00000000-0000-0000-0000-000000000000')), ObjectType(name='vulnerability', id='4edd7f03-7c07-4b94-9377-ca7566721f6a', namespace=NameSpace(name='Global', id='00000000-0000-0000-0000-000000000000'))]"
      ]
     },
     "execution_count": 46,
     "metadata": {},
     "output_type": "execute_result"
    }
   ],
   "source": [
    "c.get_object_types()"
   ]
  },
  {
   "cell_type": "code",
   "execution_count": 213,
   "metadata": {},
   "outputs": [],
   "source": [
    "resolves = [ft for ft in c.get_fact_types() if ft.name == \"resolves\"][0]"
   ]
  },
  {
   "cell_type": "code",
   "execution_count": 211,
   "metadata": {},
   "outputs": [
    {
     "data": {
      "text/plain": [
       "FactType(name='checking', id='d898346f-5cf2-450f-a412-1e41345d51e9', default_confidence=1.0, relevant_object_bindings=[RelevantObjectBindings(source_object_type='c4638e84-3509-49d0-b9a3-e32e76198254', destination_object_type='48e9699c-8895-4d16-a5e6-ae1c32f96192')], namespace=NameSpace(name='Global', id='00000000-0000-0000-0000-000000000000'))"
      ]
     },
     "execution_count": 211,
     "metadata": {},
     "output_type": "execute_result"
    }
   ],
   "source": [
    "object_bindings = [{\n",
    "    \"destinationObjectType\": 'abcd',\n",
    "    \"sourceObjectType\": \"ipv4\"\n",
    "}]\n",
    "c.create_fact_type(\"checking\", object_bindings = object_bindings)"
   ]
  },
  {
   "cell_type": "code",
   "execution_count": null,
   "metadata": {},
   "outputs": [],
   "source": []
  },
  {
   "cell_type": "code",
   "execution_count": 204,
   "metadata": {},
   "outputs": [],
   "source": [
    "f = c.fact(\"resolve\").source(\"ip\", \"127.1.1.3\").destination(\"fqdn\", \"github.com\").add()"
   ]
  },
  {
   "cell_type": "code",
   "execution_count": null,
   "metadata": {},
   "outputs": [],
   "source": [
    "c.object_search"
   ]
  },
  {
   "cell_type": "code",
   "execution_count": 81,
   "metadata": {},
   "outputs": [
    {
     "data": {
      "text/plain": [
       "[Object(type='tool', value='Mimikatz', id='37730365-14fd-4f34-b3a5-e99cfe500dd1')]"
      ]
     },
     "execution_count": 81,
     "metadata": {},
     "output_type": "execute_result"
    }
   ],
   "source": [
    "c.object_search(object_value=\"Mimikatz\")"
   ]
  },
  {
   "cell_type": "code",
   "execution_count": 84,
   "metadata": {},
   "outputs": [
    {
     "name": "stdout",
     "output_type": "stream",
     "text": [
      "[Fact(type='authored by', origin=Origin(name='John Doe', id='00000000-0000-0000-0000-000000000001'), confidence=1.0, organization=Organization(name='Test Organization 1', id='00000000-0000-0000-0000-000000000001'), source_object=Object(type='malware', value='Yahoyah', id='80771181-c09d-488f-8c07-8609b0317406'), destination_object=Object(type='threat_actor', value='tropic trooper', id='8c2f6744-53b4-4fe6-9b72-a2337c3db88f'))]\n"
     ]
    }
   ],
   "source": [
    "obj = c.object(\"malware\", \"Yahoyah\").traverse('g.outE()')\n",
    "print(obj)"
   ]
  },
  {
   "cell_type": "code",
   "execution_count": null,
   "metadata": {},
   "outputs": [],
   "source": []
  }
 ],
 "metadata": {
  "kernelspec": {
   "display_name": "Python 3",
   "language": "python",
   "name": "python3"
  },
  "language_info": {
   "codemirror_mode": {
    "name": "ipython",
    "version": 3
   },
   "file_extension": ".py",
   "mimetype": "text/x-python",
   "name": "python",
   "nbconvert_exporter": "python",
   "pygments_lexer": "ipython3",
   "version": "3.7.4"
  }
 },
 "nbformat": 4,
 "nbformat_minor": 2
}
