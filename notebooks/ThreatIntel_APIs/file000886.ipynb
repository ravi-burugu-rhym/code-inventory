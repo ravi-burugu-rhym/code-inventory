{
 "cells": [
  {
   "cell_type": "code",
   "execution_count": 48,
   "metadata": {},
   "outputs": [],
   "source": [
    "import act.api\n",
    "import pandas as pd\n",
    "import requests\n",
    "import numpy as np\n",
    "\n",
    "c = act.api.Act(\"http://34.71.3.106\", user_id = 1, log_level = \"warning\")\n",
    "#c = act.api.Act(\"https://act-eu1.mnemonic.no\", user_id = 1, log_level = \"warning\")"
   ]
  },
  {
   "cell_type": "code",
   "execution_count": 76,
   "metadata": {},
   "outputs": [],
   "source": [
    "df_all=pd.read_excel(r\"D:\\MY STUFF\\rhym\\act_api\\data\\objects_fact_all.xlsx\")\n",
    "df_infra_all=pd.read_excel(r\"D:\\MY STUFF\\rhym\\act_api\\data\\infrastructure_object_facts_template.xlsx\")\n",
    "df_infra_all.fillna('NA',inplace=True)"
   ]
  },
  {
   "cell_type": "code",
   "execution_count": 50,
   "metadata": {},
   "outputs": [],
   "source": [
    "# function to collect unique objects\n",
    "def all_objects(df):\n",
    "    all_objects=[]\n",
    "    source=list(df['source_node'])\n",
    "    dest=list(df['dest_node'])   \n",
    "    all_objects.extend(source)\n",
    "    all_objects.extend(dest)\n",
    "    all_objects=list(set(all_objects))\n",
    "    return all_objects"
   ]
  },
  {
   "cell_type": "code",
   "execution_count": 63,
   "metadata": {},
   "outputs": [],
   "source": [
    "# pusing all objects if not exists in instance\n",
    "def creating_objects(connection,df,patterns):\n",
    "    #pattern is a dictionary of object name and its pattern\n",
    "    objects_exist=[i.name for i in connection.get_object_types()]\n",
    "    objects=all_objects(df)\n",
    "    for object_ in objects:\n",
    "        object_=object_.strip()\n",
    "        if ((object_ in patterns) and (object_ not in objects_exist)):\n",
    "                print(object_,\"is pushed to instance\")\n",
    "                c.object_type(object_,patterns[object_]).add()        \n",
    "        elif ((object_ not in patterns) and (object_ not in objects_exist)):\n",
    "                print(object_,\"is pushed to instance\")\n",
    "                c.object_type(object_).add() \n",
    "        elif (object_ in objects_exist):\n",
    "            print(\"+++++++------\"+object_,\"object type already exists in instance\"+\"-----+++++++\")\n",
    "    print('\\n\\t\\t_______________Task completed___________')"
   ]
  },
  {
   "cell_type": "code",
   "execution_count": 64,
   "metadata": {},
   "outputs": [
    {
     "name": "stdout",
     "output_type": "stream",
     "text": [
      "+++++++------num_cpls object type already exists in instance-----+++++++\n",
      "+++++++------hardware object type already exists in instance-----+++++++\n",
      "+++++++------malware object type already exists in instance-----+++++++\n",
      "+++++++------server object type already exists in instance-----+++++++\n",
      "+++++++------malicious_file object type already exists in instance-----+++++++\n",
      "+++++++------server_version object type already exists in instance-----+++++++\n",
      "+++++++------dotnet_framework_version object type already exists in instance-----+++++++\n",
      "+++++++------num_files object type already exists in instance-----+++++++\n",
      "+++++++------path_location object type already exists in instance-----+++++++\n",
      "+++++++------size object type already exists in instance-----+++++++\n",
      "+++++++------OS object type already exists in instance-----+++++++\n",
      "+++++++------asset object type already exists in instance-----+++++++\n",
      "+++++++------folder_name object type already exists in instance-----+++++++\n",
      "+++++++------patch_details object type already exists in instance-----+++++++\n",
      "+++++++------num_dlls object type already exists in instance-----+++++++\n",
      "+++++++------server object type already exists in instance-----+++++++\n",
      "\n",
      "\t\t_______________Task completed___________\n"
     ]
    }
   ],
   "source": [
    "pattern=dict()\n",
    "creating_objects(connection=c,df=df_infra_all,patterns=pattern)"
   ]
  },
  {
   "cell_type": "code",
   "execution_count": 5,
   "metadata": {},
   "outputs": [],
   "source": [
    "infra_object=all_objects(df_infra_all)"
   ]
  },
  {
   "cell_type": "code",
   "execution_count": 17,
   "metadata": {},
   "outputs": [],
   "source": [
    "# function to collect unique objects\n",
    "def all_facts(df):\n",
    "    all_facts=[]\n",
    "    fact=list(df['fact'])\n",
    "    all_facts.extend(fact)\n",
    "    all_facts=list(set(all_facts))\n",
    "    return all_facts"
   ]
  },
  {
   "cell_type": "code",
   "execution_count": 52,
   "metadata": {},
   "outputs": [],
   "source": [
    "infra_fact=[i for i in all_facts(df_infra_all) if i!='delivers']\n",
    "infra_objects=[i for i in all_objects(df_infra_all) if i!='malware']"
   ]
  },
  {
   "cell_type": "code",
   "execution_count": 55,
   "metadata": {
    "collapsed": true
   },
   "outputs": [
    {
     "name": "stdout",
     "output_type": "stream",
     "text": [
      "num_files \n",
      "delete from act.object_type where id=899501e5-8352-4492-bcf9-6d3152c13d64;\n",
      "OS \n",
      "delete from act.object_type where id=1129bdcb-bfb4-40d9-ae60-935291c66962;\n",
      "patch_details \n",
      "delete from act.object_type where id=c98d83bd-7e51-4010-a245-cd987f29ce21;\n",
      "num_dlls \n",
      "delete from act.object_type where id=b5e263e5-6a62-4e17-afb2-15571762ac56;\n",
      "server \n",
      "delete from act.object_type where id=4c8887b9-56f3-43e7-bc6f-698bb2ffe398;\n",
      "malicious_file \n",
      "delete from act.object_type where id=c6a46e2d-f57c-4b4c-a695-b309b057b8ae;\n",
      "num_cpls \n",
      "delete from act.object_type where id=85cf8b35-f52b-46e8-8f64-2618b7ceaf9f;\n",
      "dotnet_framework_version \n",
      "delete from act.object_type where id=54fcb681-fdbc-4772-ab65-df74d3f25e91;\n",
      "size \n",
      "delete from act.object_type where id=0428de17-e23f-4781-9cbb-b6a617767fbb;\n",
      "server_version \n",
      "delete from act.object_type where id=3645c728-1b4a-406f-96ef-fbb0e914f3f9;\n",
      "asset \n",
      "delete from act.object_type where id=c1fe2a96-66b5-4661-8eb5-39700c20025d;\n",
      "path_location \n",
      "delete from act.object_type where id=9cc89b6e-c104-44b2-9605-28ef5f544387;\n",
      "folder_name \n",
      "delete from act.object_type where id=e61a959a-2dc6-45e1-895d-c8db592b3abc;\n",
      "hardware \n",
      "delete from act.object_type where id=da0ea15d-6c19-4906-8893-7a01a5968055;\n"
     ]
    }
   ],
   "source": [
    "#optional\n",
    "# checking weather objects created or not\n",
    "obj_type_details=dict()\n",
    "for obj_type in c.get_object_types():\n",
    "    n=obj_type.name\n",
    "    if n in infra_objects:\n",
    "        i=obj_type.id\n",
    "        obj_type_details[i]=n\n",
    "for i in obj_type_details.keys():\n",
    "    print(obj_type_details[i],'\\ndelete from act.object_type where id='+i+';')"
   ]
  },
  {
   "cell_type": "code",
   "execution_count": 51,
   "metadata": {
    "collapsed": true
   },
   "outputs": [
    {
     "name": "stdout",
     "output_type": "stream",
     "text": [
      "has_cpls \n",
      "delete from act.fact_type where id=0e0520e6-8e07-4d2e-bc65-600f6b4503e4;\n",
      "has \n",
      "delete from act.fact_type where id=30790683-d76f-4bfe-bee7-e923c144f679;\n",
      "has_system_path \n",
      "delete from act.fact_type where id=5d025552-3582-4eca-b28e-d504c98d5387;\n",
      "has_patch \n",
      "delete from act.fact_type where id=da8c919c-e6d6-4c61-94c7-9371f5ff2ec0;\n",
      "has_malicious_file \n",
      "delete from act.fact_type where id=cf1cd5a6-3216-42cd-a28e-c25706abf9a8;\n",
      "has_folder \n",
      "delete from act.fact_type where id=adedeabb-935d-40c2-b047-7fbb61e0c0ac;\n",
      "has_dll \n",
      "delete from act.fact_type where id=6d6b174f-9a16-4585-872e-5450c756bc3f;\n",
      "total_dll_size \n",
      "delete from act.fact_type where id=900c6638-75a5-468d-b0f2-b56efa524602;\n",
      "is \n",
      "delete from act.fact_type where id=7c6fbc91-c815-43ac-b175-606a81197f2f;\n",
      "has_files \n",
      "delete from act.fact_type where id=f8ec0930-f8b8-4b99-b05b-ff98f4880dbf;\n",
      "runs_on \n",
      "delete from act.fact_type where id=5e3d2a4b-4395-40f9-ae42-496c577f6432;\n",
      "total_cpls_size \n",
      "delete from act.fact_type where id=103baf1e-eaa2-4fb1-b03a-3f21d1ea810c;\n"
     ]
    }
   ],
   "source": [
    "#optional\n",
    "# checking weather objects created or not\n",
    "obj_type_details=dict()\n",
    "for obj_type in c.get_fact_types():\n",
    "    n=obj_type.name\n",
    "    if n in infra_fact:\n",
    "        i=obj_type.id\n",
    "        obj_type_details[i]=n\n",
    "for i in obj_type_details.keys():\n",
    "    print(obj_type_details[i],'\\ndelete from act.fact_type where id='+i+';')"
   ]
  },
  {
   "cell_type": "code",
   "execution_count": 65,
   "metadata": {},
   "outputs": [],
   "source": [
    "def create_facts(connection,df):\n",
    "\n",
    "    for index,row in df.iterrows():\n",
    "            print(row['fact'])\n",
    "            if row['Bidirectional']==1:\n",
    "                object_bindings = [{\n",
    "                \"destinationObjectType\": row['dest_node'].strip(),\n",
    "                \"sourceObjectType\": row['source_node'].strip(),\n",
    "                \"bidirectional\":True}]\n",
    "            elif row['Bidirectional']==0:\n",
    "                object_bindings = [{\n",
    "                \"destinationObjectType\": row['dest_node'].strip(),\n",
    "                \"sourceObjectType\": row['source_node'].strip()}]\n",
    "            else:\n",
    "                print(row['Bidirectional']+' is unexpected at '+row['fact'].strip())\n",
    "                \n",
    "        \n",
    "            c.create_fact_type(row['fact'].strip(), object_bindings = object_bindings)\n",
    "\n",
    "            \n",
    "    print('\\n\\t\\t_____task done_______')\n",
    "    "
   ]
  },
  {
   "cell_type": "code",
   "execution_count": 66,
   "metadata": {},
   "outputs": [
    {
     "name": "stdout",
     "output_type": "stream",
     "text": [
      "is\n",
      "has \n",
      "has\n",
      "[2020-04-29 15:30:15] app=act level=WARNING msg=Fact type has already exists\n",
      "has\n",
      "[2020-04-29 15:30:18] app=act level=WARNING msg=Fact type has already exists\n",
      "has_folder\n",
      "runs_on\n",
      "has_system_path\n",
      "has_patch\n",
      "has_files\n",
      "has_malicious_file\n",
      "delivers\n",
      "[2020-04-29 15:30:32] app=act level=WARNING msg=Fact type delivers already exists\n",
      "has_dll\n",
      "total_dll_size\n",
      "has_cpls\n",
      "total_cpls_size\n",
      "\n",
      "\t\t_____task done_______\n"
     ]
    }
   ],
   "source": [
    "create_facts(connection=c,df=df_infra_all)"
   ]
  },
  {
   "cell_type": "code",
   "execution_count": 67,
   "metadata": {},
   "outputs": [
    {
     "name": "stdout",
     "output_type": "stream",
     "text": [
      "FactType(name='delivers', id='e4f1c56d-52c4-4c66-a6d9-3bea8fa5c17e', default_confidence=1.0, relevant_object_bindings=[RelevantObjectBindings(source_object_type='776fee5e-78f5-4af5-9a53-616610c46c1f', destination_object_type='bac5c42b-1466-4909-a9b7-dd774099227e'), RelevantObjectBindings(source_object_type='11536a94-8be2-4a87-b1f5-7cfe6f9d154b', destination_object_type='bac5c42b-1466-4909-a9b7-dd774099227e'), RelevantObjectBindings(source_object_type='c6a46e2d-f57c-4b4c-a695-b309b057b8ae', destination_object_type='bac5c42b-1466-4909-a9b7-dd774099227e'), RelevantObjectBindings(source_object_type='fe8bec9d-29b3-4e1d-bc8d-22a508a4c7b8', destination_object_type='bac5c42b-1466-4909-a9b7-dd774099227e'), RelevantObjectBindings(source_object_type='fe059b61-6d9a-4658-877a-db1be6ce7259', destination_object_type='bac5c42b-1466-4909-a9b7-dd774099227e', bidirectional_binding=True)], namespace=NameSpace(name='Global', id='00000000-0000-0000-0000-000000000000'))\n"
     ]
    }
   ],
   "source": [
    "for i in c.get_fact_types():\n",
    "    if i.name=='delivers':\n",
    "        print(i)"
   ]
  },
  {
   "cell_type": "code",
   "execution_count": 38,
   "metadata": {},
   "outputs": [],
   "source": [
    "df_ta_mal=pd.read_csv(r\"D:\\MY STUFF\\rhym\\act_api\\data\\object_facts_values\\threat_actor-malware.csv\")\n",
    "df_ta_ap=pd.read_csv(r\"D:\\MY STUFF\\rhym\\act_api\\data\\object_facts_values\\threat_actor-attack_pattern.csv\")\n",
    "df_ta_tool=pd.read_csv(r\"D:\\MY STUFF\\rhym\\act_api\\data\\object_facts_values\\threat_actor-tools.csv\")\n",
    "df_mal_ta=pd.read_csv(r\"D:\\MY STUFF\\rhym\\act_api\\data\\object_facts_values\\malware-threat_actor.csv\")\n",
    "df_ta_vul=pd.read_csv(r\"D:\\MY STUFF\\rhym\\act_api\\data\\object_facts_values\\threat_actor_vulnerability.csv\")"
   ]
  },
  {
   "cell_type": "code",
   "execution_count": 39,
   "metadata": {},
   "outputs": [],
   "source": [
    "def push_object_values_to_facts(connection,df_values,df_all):\n",
    "    \n",
    "    col=df_values.columns\n",
    "    print(col)\n",
    "    relation=df_all['fact'][(df_all['source_node']==col[0])&(df_all['dest_node']==col[1])]\n",
    "    if len(relation)!=0:\n",
    "        relation=list(relation)[0]\n",
    "        print(relation)\n",
    "        for index,row in df_values.iterrows():\n",
    "            connection.fact(relation).source(col[0], row[col[0]]).destination(col[1], row[col[1]]).add()\n",
    "            print(index)\n",
    "    elif len(relation)==0:\n",
    "            print('fact type does not exist between',col[0]+' and '+col[1])\n",
    "    \n",
    "    print('\\n\\t\\t________taskdone______________')\n",
    "    "
   ]
  },
  {
   "cell_type": "code",
   "execution_count": 40,
   "metadata": {
    "collapsed": true
   },
   "outputs": [
    {
     "name": "stdout",
     "output_type": "stream",
     "text": [
      "Index(['threat_actor', 'malware'], dtype='object')\n",
      "uses\n",
      "0\n",
      "1\n",
      "2\n",
      "3\n",
      "4\n",
      "5\n",
      "6\n",
      "7\n",
      "8\n",
      "9\n",
      "10\n",
      "11\n",
      "12\n",
      "13\n",
      "14\n",
      "15\n",
      "16\n",
      "17\n",
      "18\n",
      "19\n",
      "20\n",
      "21\n",
      "22\n",
      "23\n",
      "24\n",
      "25\n",
      "26\n",
      "27\n",
      "28\n",
      "29\n",
      "30\n",
      "31\n",
      "32\n",
      "33\n",
      "34\n",
      "35\n",
      "36\n",
      "37\n",
      "38\n",
      "39\n",
      "40\n",
      "41\n",
      "42\n",
      "43\n",
      "44\n",
      "45\n",
      "46\n",
      "47\n",
      "48\n",
      "49\n",
      "50\n",
      "51\n",
      "52\n",
      "53\n",
      "54\n",
      "55\n",
      "56\n",
      "57\n",
      "58\n",
      "59\n",
      "60\n",
      "61\n",
      "62\n",
      "63\n",
      "64\n",
      "65\n",
      "66\n",
      "67\n",
      "68\n",
      "69\n",
      "70\n",
      "71\n",
      "72\n",
      "73\n",
      "74\n",
      "75\n",
      "76\n",
      "77\n",
      "78\n",
      "79\n",
      "80\n",
      "81\n",
      "82\n",
      "83\n",
      "84\n",
      "85\n",
      "86\n",
      "87\n",
      "88\n",
      "89\n",
      "90\n",
      "91\n",
      "92\n",
      "93\n",
      "94\n",
      "95\n",
      "96\n",
      "97\n",
      "98\n",
      "99\n",
      "100\n",
      "101\n",
      "102\n",
      "103\n",
      "104\n",
      "105\n",
      "106\n",
      "107\n",
      "108\n",
      "109\n",
      "110\n",
      "111\n",
      "112\n",
      "113\n",
      "114\n",
      "115\n",
      "116\n",
      "117\n",
      "118\n",
      "119\n",
      "120\n",
      "121\n",
      "122\n",
      "123\n",
      "124\n",
      "125\n",
      "126\n",
      "127\n",
      "128\n",
      "129\n",
      "130\n",
      "131\n",
      "132\n",
      "133\n",
      "134\n",
      "135\n",
      "136\n",
      "137\n",
      "138\n",
      "139\n",
      "140\n",
      "141\n",
      "142\n",
      "143\n",
      "144\n",
      "145\n",
      "146\n",
      "147\n",
      "148\n",
      "149\n",
      "150\n",
      "151\n",
      "152\n",
      "153\n",
      "154\n",
      "155\n",
      "156\n",
      "157\n",
      "158\n",
      "159\n",
      "160\n",
      "161\n",
      "162\n",
      "163\n",
      "164\n",
      "165\n",
      "166\n",
      "167\n",
      "168\n",
      "169\n",
      "170\n",
      "171\n",
      "172\n",
      "173\n",
      "174\n",
      "175\n",
      "176\n",
      "177\n",
      "178\n",
      "179\n",
      "180\n",
      "181\n",
      "182\n",
      "183\n",
      "184\n",
      "185\n",
      "186\n",
      "187\n",
      "188\n",
      "189\n",
      "190\n",
      "191\n",
      "192\n",
      "193\n",
      "194\n",
      "195\n",
      "196\n",
      "197\n",
      "198\n",
      "199\n",
      "200\n",
      "201\n",
      "202\n",
      "203\n",
      "204\n",
      "205\n",
      "206\n",
      "207\n",
      "208\n",
      "209\n",
      "210\n",
      "211\n",
      "212\n",
      "213\n",
      "214\n",
      "215\n",
      "216\n",
      "217\n",
      "218\n",
      "219\n",
      "220\n",
      "221\n",
      "222\n",
      "223\n",
      "224\n",
      "225\n",
      "226\n",
      "227\n",
      "228\n",
      "229\n",
      "230\n",
      "231\n",
      "232\n",
      "233\n",
      "234\n",
      "235\n",
      "236\n",
      "237\n",
      "238\n",
      "239\n",
      "240\n",
      "241\n",
      "242\n",
      "243\n",
      "244\n",
      "245\n",
      "246\n",
      "247\n",
      "248\n",
      "249\n",
      "250\n",
      "251\n",
      "252\n",
      "253\n",
      "254\n",
      "255\n",
      "256\n",
      "257\n",
      "258\n",
      "259\n",
      "260\n",
      "261\n",
      "262\n",
      "263\n",
      "264\n",
      "\n",
      "\t\t________taskdone______________\n"
     ]
    }
   ],
   "source": [
    "push_object_values_to_facts(connection=c,df_values=df_ta_mal,df_all=df_all)"
   ]
  },
  {
   "cell_type": "code",
   "execution_count": 81,
   "metadata": {},
   "outputs": [],
   "source": [
    "def infra_push_object_values(df,connection):\n",
    "    for index,row in df.iterrows():\n",
    "\n",
    "        relation=row['fact'].strip()\n",
    "        print(relation)\n",
    "        if row['sc_source_value'].strip() !='NA':\n",
    "            standard_source_object_value='SC_'+row['sc_source_value'].strip()\n",
    "        else:\n",
    "            standard_source_object_value='NA'\n",
    "        if  not row['csc_source_value'].strip().endswith('.exe'):\n",
    "            current_source_object_value ='CSC_'+row['csc_source_value'].strip()\n",
    "        else:\n",
    "            current_source_object_value=row['csc_source_value'].strip()\n",
    "        \n",
    "        connection.fact(relation).source(row['source_node'].strip(), standard_source_object_value).destination(row['dest_node'], row['sc_dest_value']).add()\n",
    "        connection.fact(relation).source(row['source_node'].strip(), current_source_object_value).destination(row['dest_node'], row['csc_dest_value']).add()\n",
    "\n",
    "    print('------task done-------')"
   ]
  },
  {
   "cell_type": "code",
   "execution_count": 82,
   "metadata": {},
   "outputs": [
    {
     "name": "stdout",
     "output_type": "stream",
     "text": [
      "is\n",
      "has\n",
      "has\n",
      "has\n",
      "has_folder\n",
      "runs_on\n",
      "has_system_path\n",
      "has_patch\n",
      "has_files\n",
      "has_malicious_file\n",
      "delivers\n",
      "has_dll\n",
      "total_dll_size\n",
      "has_cpls\n",
      "total_cpls_size\n",
      "------task done-------\n"
     ]
    }
   ],
   "source": [
    "infra_push_object_values(df_infra_all,connection=c)"
   ]
  },
  {
   "cell_type": "code",
   "execution_count": 90,
   "metadata": {},
   "outputs": [
    {
     "data": {
      "text/plain": [
       "[Object(type='tool', value='Mimikatz', id='37730365-14fd-4f34-b3a5-e99cfe500dd1')]"
      ]
     },
     "execution_count": 90,
     "metadata": {},
     "output_type": "execute_result"
    }
   ],
   "source": [
    "c.object_search(object_value=\"Mimikatz\")"
   ]
  },
  {
   "cell_type": "code",
   "execution_count": 92,
   "metadata": {},
   "outputs": [
    {
     "name": "stdout",
     "output_type": "stream",
     "text": [
      "[Fact(type='uses', origin=Origin(name='John Doe', id='00000000-0000-0000-0000-000000000001'), confidence=1.0, organization=Organization(name='Test Organization 1', id='00000000-0000-0000-0000-000000000001'), source_object=Object(type='threat_actor', value='apt1', id='82862eb6-a925-47db-b002-8014383b88c9'), destination_object=Object(type='tool', value='xCmd', id='7016c6ea-0154-485b-9791-6e3fcce70e29')), Fact(type='uses', origin=Origin(name='John Doe', id='00000000-0000-0000-0000-000000000001'), confidence=1.0, organization=Organization(name='Test Organization 1', id='00000000-0000-0000-0000-000000000001'), source_object=Object(type='threat_actor', value='apt1', id='82862eb6-a925-47db-b002-8014383b88c9'), destination_object=Object(type='malware', value='Seasalt', id='e933955b-a87f-4848-b7b5-755bb8d496a0')), Fact(type='uses', origin=Origin(name='John Doe', id='00000000-0000-0000-0000-000000000001'), confidence=1.0, organization=Organization(name='Test Organization 1', id='00000000-0000-0000-0000-000000000001'), source_object=Object(type='threat_actor', value='apt1', id='82862eb6-a925-47db-b002-8014383b88c9'), destination_object=Object(type='tool', value='Pass-The-Hash Toolkit', id='64047889-4ddf-4aa1-9c15-67d90ff2028e')), Fact(type='uses', origin=Origin(name='John Doe', id='00000000-0000-0000-0000-000000000001'), confidence=1.0, organization=Organization(name='Test Organization 1', id='00000000-0000-0000-0000-000000000001'), source_object=Object(type='threat_actor', value='apt1', id='82862eb6-a925-47db-b002-8014383b88c9'), destination_object=Object(type='attack pattern', value='System Network Configuration Discovery', id='9b1db1d3-a471-4571-97b5-8d2742a1c475')), Fact(type='uses', origin=Origin(name='John Doe', id='00000000-0000-0000-0000-000000000001'), confidence=1.0, organization=Organization(name='Test Organization 1', id='00000000-0000-0000-0000-000000000001'), source_object=Object(type='threat_actor', value='apt1', id='82862eb6-a925-47db-b002-8014383b88c9'), destination_object=Object(type='tool', value='pwdump', id='37de4a02-fc1b-48bf-84a6-a31567e01ac8')), Fact(type='uses', origin=Origin(name='John Doe', id='00000000-0000-0000-0000-000000000001'), confidence=1.0, organization=Organization(name='Test Organization 1', id='00000000-0000-0000-0000-000000000001'), source_object=Object(type='threat_actor', value='apt1', id='82862eb6-a925-47db-b002-8014383b88c9'), destination_object=Object(type='attack pattern', value='Masquerading', id='fe6d8bc6-0cdd-4675-9049-c6ed4902e90e')), Fact(type='uses', origin=Origin(name='John Doe', id='00000000-0000-0000-0000-000000000001'), confidence=1.0, organization=Organization(name='Test Organization 1', id='00000000-0000-0000-0000-000000000001'), source_object=Object(type='threat_actor', value='apt1', id='82862eb6-a925-47db-b002-8014383b88c9'), destination_object=Object(type='tool', value='Cachedump', id='70c6a52a-8644-4f9e-a57b-5681302f1f64')), Fact(type='uses', origin=Origin(name='John Doe', id='00000000-0000-0000-0000-000000000001'), confidence=1.0, organization=Organization(name='Test Organization 1', id='00000000-0000-0000-0000-000000000001'), source_object=Object(type='threat_actor', value='apt1', id='82862eb6-a925-47db-b002-8014383b88c9'), destination_object=Object(type='attack pattern', value='System Network Connections Discovery', id='5dc63e0f-851b-4e0d-928b-2dd9b6c074f8')), Fact(type='uses', origin=Origin(name='John Doe', id='00000000-0000-0000-0000-000000000001'), confidence=1.0, organization=Organization(name='Test Organization 1', id='00000000-0000-0000-0000-000000000001'), source_object=Object(type='threat_actor', value='apt1', id='82862eb6-a925-47db-b002-8014383b88c9'), destination_object=Object(type='malware', value='PoisonIvy', id='c57e3779-12b4-4eab-80b2-fd664af53eae')), Fact(type='uses', origin=Origin(name='John Doe', id='00000000-0000-0000-0000-000000000001'), confidence=1.0, organization=Organization(name='Test Organization 1', id='00000000-0000-0000-0000-000000000001'), source_object=Object(type='threat_actor', value='apt1', id='82862eb6-a925-47db-b002-8014383b88c9'), destination_object=Object(type='tool', value='Tasklist', id='a323ccee-5723-411e-83ed-8fc62fc1588b')), Fact(type='uses', origin=Origin(name='John Doe', id='00000000-0000-0000-0000-000000000001'), confidence=1.0, organization=Organization(name='Test Organization 1', id='00000000-0000-0000-0000-000000000001'), source_object=Object(type='threat_actor', value='apt1', id='82862eb6-a925-47db-b002-8014383b88c9'), destination_object=Object(type='attack pattern', value='Data Compressed', id='a2df4c93-3469-4c35-a595-a342ce91d83f')), Fact(type='uses', origin=Origin(name='John Doe', id='00000000-0000-0000-0000-000000000001'), confidence=1.0, organization=Organization(name='Test Organization 1', id='00000000-0000-0000-0000-000000000001'), source_object=Object(type='threat_actor', value='apt1', id='82862eb6-a925-47db-b002-8014383b88c9'), destination_object=Object(type='attack pattern', value='Command-Line Interface', id='895ec5de-0286-4eb3-9546-0f2fe3b8b65c')), Fact(type='uses', origin=Origin(name='John Doe', id='00000000-0000-0000-0000-000000000001'), confidence=1.0, organization=Organization(name='Test Organization 1', id='00000000-0000-0000-0000-000000000001'), source_object=Object(type='threat_actor', value='apt1', id='82862eb6-a925-47db-b002-8014383b88c9'), destination_object=Object(type='malware', value='CALENDAR', id='88cee7aa-51f1-4577-8016-7ec076694720')), Fact(type='uses', origin=Origin(name='John Doe', id='00000000-0000-0000-0000-000000000001'), confidence=1.0, organization=Organization(name='Test Organization 1', id='00000000-0000-0000-0000-000000000001'), source_object=Object(type='threat_actor', value='apt1', id='82862eb6-a925-47db-b002-8014383b88c9'), destination_object=Object(type='attack pattern', value='Credential Dumping', id='dad2de39-4500-4932-85f1-7f46e8c5f371')), Fact(type='uses', origin=Origin(name='John Doe', id='00000000-0000-0000-0000-000000000001'), confidence=1.0, organization=Organization(name='Test Organization 1', id='00000000-0000-0000-0000-000000000001'), source_object=Object(type='threat_actor', value='apt1', id='82862eb6-a925-47db-b002-8014383b88c9'), destination_object=Object(type='tool', value='gsecdump', id='841fe972-234b-4f6c-b1bc-a1f5757d4fef')), Fact(type='uses', origin=Origin(name='John Doe', id='00000000-0000-0000-0000-000000000001'), confidence=1.0, organization=Organization(name='Test Organization 1', id='00000000-0000-0000-0000-000000000001'), source_object=Object(type='threat_actor', value='apt1', id='82862eb6-a925-47db-b002-8014383b88c9'), destination_object=Object(type='tool', value='ipconfig', id='f44e68dd-cb8c-4650-acdb-e07a7787536c')), Fact(type='uses', origin=Origin(name='John Doe', id='00000000-0000-0000-0000-000000000001'), confidence=1.0, organization=Organization(name='Test Organization 1', id='00000000-0000-0000-0000-000000000001'), source_object=Object(type='threat_actor', value='apt1', id='82862eb6-a925-47db-b002-8014383b88c9'), destination_object=Object(type='malware', value='WEBC2', id='572aa87a-108b-459d-8b3d-c5c4c9f2a8cf')), Fact(type='uses', origin=Origin(name='John Doe', id='00000000-0000-0000-0000-000000000001'), confidence=1.0, organization=Organization(name='Test Organization 1', id='00000000-0000-0000-0000-000000000001'), source_object=Object(type='threat_actor', value='apt1', id='82862eb6-a925-47db-b002-8014383b88c9'), destination_object=Object(type='attack pattern', value='Automated Collection', id='54834001-e4a0-4f01-924a-1a1c555ec4ec')), Fact(type='uses', origin=Origin(name='John Doe', id='00000000-0000-0000-0000-000000000001'), confidence=1.0, organization=Organization(name='Test Organization 1', id='00000000-0000-0000-0000-000000000001'), source_object=Object(type='threat_actor', value='apt1', id='82862eb6-a925-47db-b002-8014383b88c9'), destination_object=Object(type='malware', value='GLOOXMAIL', id='6a78b660-f8c0-48af-bcd5-c999f53618c0')), Fact(type='targets', origin=Origin(name='John Doe', id='00000000-0000-0000-0000-000000000001'), confidence=1.0, organization=Organization(name='Test Organization 1', id='00000000-0000-0000-0000-000000000001'), source_object=Object(type='threat_actor', value='apt1', id='82862eb6-a925-47db-b002-8014383b88c9'), destination_object=Object(type='vulnerability', value='CVE-2012-0158', id='73abd56c-606e-4510-aad5-99c8de0d2035')), Fact(type='uses', origin=Origin(name='John Doe', id='00000000-0000-0000-0000-000000000001'), confidence=1.0, organization=Organization(name='Test Organization 1', id='00000000-0000-0000-0000-000000000001'), source_object=Object(type='threat_actor', value='apt1', id='82862eb6-a925-47db-b002-8014383b88c9'), destination_object=Object(type='attack pattern', value='Compromise 3rd party infrastructure to support delivery', id='aea77464-49ba-4312-a043-e18917e56731')), Fact(type='uses', origin=Origin(name='John Doe', id='00000000-0000-0000-0000-000000000001'), confidence=1.0, organization=Organization(name='Test Organization 1', id='00000000-0000-0000-0000-000000000001'), source_object=Object(type='threat_actor', value='apt1', id='82862eb6-a925-47db-b002-8014383b88c9'), destination_object=Object(type='attack pattern', value='Scripting', id='f0943893-3ad8-4558-a1f1-c29d908a9d70')), Fact(type='uses', origin=Origin(name='John Doe', id='00000000-0000-0000-0000-000000000001'), confidence=1.0, organization=Organization(name='Test Organization 1', id='00000000-0000-0000-0000-000000000001'), source_object=Object(type='threat_actor', value='apt1', id='82862eb6-a925-47db-b002-8014383b88c9'), destination_object=Object(type='attack pattern', value='Dynamic DNS', id='d9b9426d-7afb-4795-a07b-dbdd8e73d355')), Fact(type='uses', origin=Origin(name='John Doe', id='00000000-0000-0000-0000-000000000001'), confidence=1.0, organization=Organization(name='Test Organization 1', id='00000000-0000-0000-0000-000000000001'), source_object=Object(type='threat_actor', value='apt1', id='82862eb6-a925-47db-b002-8014383b88c9'), destination_object=Object(type='tool', value='PsExec', id='c6a2b4a3-cb99-4d26-955e-58f8894714da')), Fact(type='uses', origin=Origin(name='John Doe', id='00000000-0000-0000-0000-000000000001'), confidence=1.0, organization=Organization(name='Test Organization 1', id='00000000-0000-0000-0000-000000000001'), source_object=Object(type='threat_actor', value='apt1', id='82862eb6-a925-47db-b002-8014383b88c9'), destination_object=Object(type='attack pattern', value='Account Discovery', id='62f19707-ef96-489d-a6ec-b9e5e4b88454')), Fact(type='uses', origin=Origin(name='John Doe', id='00000000-0000-0000-0000-000000000001'), confidence=1.0, organization=Organization(name='Test Organization 1', id='00000000-0000-0000-0000-000000000001'), source_object=Object(type='threat_actor', value='apt1', id='82862eb6-a925-47db-b002-8014383b88c9'), destination_object=Object(type='attack pattern', value='Acquire and/or use 3rd party software services', id='8fd8ed94-515e-4a42-8fa1-ce5dcc9de4af')), Fact(type='uses', origin=Origin(name='John Doe', id='00000000-0000-0000-0000-000000000001'), confidence=1.0, organization=Organization(name='Test Organization 1', id='00000000-0000-0000-0000-000000000001'), source_object=Object(type='threat_actor', value='apt1', id='82862eb6-a925-47db-b002-8014383b88c9'), destination_object=Object(type='attack pattern', value='Remote Desktop Protocol', id='4fe39b92-71a3-45f9-9339-6d9eab4bf0d6')), Fact(type='uses', origin=Origin(name='John Doe', id='00000000-0000-0000-0000-000000000001'), confidence=1.0, organization=Organization(name='Test Organization 1', id='00000000-0000-0000-0000-000000000001'), source_object=Object(type='threat_actor', value='apt1', id='82862eb6-a925-47db-b002-8014383b88c9'), destination_object=Object(type='attack pattern', value='Domain registration hijacking', id='766a1e4d-0641-4270-9f56-51cff46f9063')), Fact(type='uses', origin=Origin(name='John Doe', id='00000000-0000-0000-0000-000000000001'), confidence=1.0, organization=Organization(name='Test Organization 1', id='00000000-0000-0000-0000-000000000001'), source_object=Object(type='threat_actor', value='apt1', id='82862eb6-a925-47db-b002-8014383b88c9'), destination_object=Object(type='tool', value='Net', id='69467401-badb-4121-b747-d5980587c86b')), Fact(type='uses', origin=Origin(name='John Doe', id='00000000-0000-0000-0000-000000000001'), confidence=1.0, organization=Organization(name='Test Organization 1', id='00000000-0000-0000-0000-000000000001'), source_object=Object(type='threat_actor', value='apt1', id='82862eb6-a925-47db-b002-8014383b88c9'), destination_object=Object(type='tool', value='Mimikatz', id='37730365-14fd-4f34-b3a5-e99cfe500dd1')), Fact(type='uses', origin=Origin(name='John Doe', id='00000000-0000-0000-0000-000000000001'), confidence=1.0, organization=Organization(name='Test Organization 1', id='00000000-0000-0000-0000-000000000001'), source_object=Object(type='threat_actor', value='apt1', id='82862eb6-a925-47db-b002-8014383b88c9'), destination_object=Object(type='attack pattern', value='System Service Discovery', id='f8a4de89-1fe1-4ece-bf36-71d5014b5d5a')), Fact(type='uses', origin=Origin(name='John Doe', id='00000000-0000-0000-0000-000000000001'), confidence=1.0, organization=Organization(name='Test Organization 1', id='00000000-0000-0000-0000-000000000001'), source_object=Object(type='threat_actor', value='apt1', id='82862eb6-a925-47db-b002-8014383b88c9'), destination_object=Object(type='attack pattern', value='Pass the Hash', id='da3a268f-fa98-44d8-a4d1-d02f66143d2c')), Fact(type='uses', origin=Origin(name='John Doe', id='00000000-0000-0000-0000-000000000001'), confidence=1.0, organization=Organization(name='Test Organization 1', id='00000000-0000-0000-0000-000000000001'), source_object=Object(type='threat_actor', value='apt1', id='82862eb6-a925-47db-b002-8014383b88c9'), destination_object=Object(type='attack pattern', value='Network Share Discovery', id='16b9aef9-4134-491c-9d46-12ba6c98b7f3')), Fact(type='uses', origin=Origin(name='John Doe', id='00000000-0000-0000-0000-000000000001'), confidence=1.0, organization=Organization(name='Test Organization 1', id='00000000-0000-0000-0000-000000000001'), source_object=Object(type='threat_actor', value='apt1', id='82862eb6-a925-47db-b002-8014383b88c9'), destination_object=Object(type='malware', value='BISCUIT', id='f968251a-187e-4b2d-9f0c-8460854359d9')), Fact(type='uses', origin=Origin(name='John Doe', id='00000000-0000-0000-0000-000000000001'), confidence=1.0, organization=Organization(name='Test Organization 1', id='00000000-0000-0000-0000-000000000001'), source_object=Object(type='threat_actor', value='apt1', id='82862eb6-a925-47db-b002-8014383b88c9'), destination_object=Object(type='attack pattern', value='Obtain/re-use payloads', id='16b141a5-16ca-4eb4-842e-6d66d9ca34f1')), Fact(type='uses', origin=Origin(name='John Doe', id='00000000-0000-0000-0000-000000000001'), confidence=1.0, organization=Organization(name='Test Organization 1', id='00000000-0000-0000-0000-000000000001'), source_object=Object(type='threat_actor', value='apt1', id='82862eb6-a925-47db-b002-8014383b88c9'), destination_object=Object(type='attack pattern', value='Process Discovery', id='50a5a58f-0d84-42c2-b5f2-96b47c9c464f')), Fact(type='uses', origin=Origin(name='John Doe', id='00000000-0000-0000-0000-000000000001'), confidence=1.0, organization=Organization(name='Test Organization 1', id='00000000-0000-0000-0000-000000000001'), source_object=Object(type='threat_actor', value='apt1', id='82862eb6-a925-47db-b002-8014383b88c9'), destination_object=Object(type='attack pattern', value='Data from Local System', id='977edb34-33aa-4f05-8057-e0b279c46d7b')), Fact(type='uses', origin=Origin(name='John Doe', id='00000000-0000-0000-0000-000000000001'), confidence=1.0, organization=Organization(name='Test Organization 1', id='00000000-0000-0000-0000-000000000001'), source_object=Object(type='threat_actor', value='apt1', id='82862eb6-a925-47db-b002-8014383b88c9'), destination_object=Object(type='tool', value='Lslsass', id='e8b4db96-24ed-424a-93b9-94ca46cd74eb')), Fact(type='uses', origin=Origin(name='John Doe', id='00000000-0000-0000-0000-000000000001'), confidence=1.0, organization=Organization(name='Test Organization 1', id='00000000-0000-0000-0000-000000000001'), source_object=Object(type='threat_actor', value='apt1', id='82862eb6-a925-47db-b002-8014383b88c9'), destination_object=Object(type='attack pattern', value='Email Collection', id='518d1409-6844-4dca-8a06-df1993006230'))]\n"
     ]
    }
   ],
   "source": [
    "obj = c.object(\"threat_actor\", \"apt1\").traverse('g.outE()')\n",
    "print(obj)"
   ]
  },
  {
   "cell_type": "code",
   "execution_count": null,
   "metadata": {},
   "outputs": [],
   "source": [
    "for i in c.get_fact_types():\n",
    "    if i.name=='uses':\n",
    "        print(i.relevant_fact_bindings)"
   ]
  },
  {
   "cell_type": "code",
   "execution_count": null,
   "metadata": {},
   "outputs": [],
   "source": []
  },
  {
   "cell_type": "code",
   "execution_count": 191,
   "metadata": {},
   "outputs": [],
   "source": [
    "df=pd.DataFrame(obj_type_details.items(),columns=['UUID','Object_name'])\n",
    "df.to_csv(r'D:\\MY STUFF\\rhym\\act_api\\data\\objects.csv',index=None)"
   ]
  },
  {
   "cell_type": "code",
   "execution_count": 143,
   "metadata": {},
   "outputs": [
    {
     "data": {
      "text/plain": [
       "FactType(name='detects', id='631fbcd9-5e6e-4890-b0ee-dbcec245f6c4', default_confidence=1.0, relevant_object_bindings=[RelevantObjectBindings(source_object_type='2e1ae807-a4ff-42a9-9a03-b122af43fab8', destination_object_type='2a3e0c9b-3b8b-44e7-99c9-46a94bcec30c')], namespace=NameSpace(name='Global', id='00000000-0000-0000-0000-000000000000'))"
      ]
     },
     "execution_count": 143,
     "metadata": {},
     "output_type": "execute_result"
    }
   ],
   "source": [
    "c.get_fact_types()[0]"
   ]
  },
  {
   "cell_type": "code",
   "execution_count": 150,
   "metadata": {},
   "outputs": [
    {
     "name": "stdout",
     "output_type": "stream",
     "text": [
      "[RelevantFactBindings(name='connectsTo', id='510ea7a3-45ff-45a9-ae13-e71324fb42e3'), RelevantFactBindings(name='Retraction', id='2e2f4135-4ff6-3d55-8c7f-4d9bca37d62a'), RelevantFactBindings(name='classifiedAs', id='c86714be-a028-47bc-be18-8b557d1c829e'), RelevantFactBindings(name='mentions', id='1b7fbe76-a873-4271-85e6-b72bf58d2128'), RelevantFactBindings(name='locatedIn', id='b566b07c-0248-4f3f-b002-6d90634d18b5'), RelevantFactBindings(name='name', id='9f9dc009-2564-4410-8b88-4f511fed0311'), RelevantFactBindings(name='implements', id='903595af-a5ed-411c-abfd-266d70b96365'), RelevantFactBindings(name='scheme', id='7717f738-3865-49d7-93f8-b1df6ffc1501'), RelevantFactBindings(name='componentOf', id='3c2f9806-9c91-4532-b8ca-7992851aff21'), RelevantFactBindings(name='represents', id='b7c2d962-f11f-4677-8866-5a62b2246061'), RelevantFactBindings(name='redirectsTo', id='a7ecf0e4-6ae5-47f5-a6c4-2a8d2e75d34f'), RelevantFactBindings(name='port', id='4f4e6bb6-62c1-4ae6-9e76-026bb1dd400b'), RelevantFactBindings(name='attributedTo', id='e6a173ac-a77d-48ae-9465-60e58253bf60'), RelevantFactBindings(name='category', id='15681d9c-2074-45d2-a8e2-ec540828eba6'), RelevantFactBindings(name='basename', id='caa3f76e-8621-4b48-8456-2f1343845bb5'), RelevantFactBindings(name='alias', id='301a46da-2521-41dd-b04b-21b1f0f77323'), RelevantFactBindings(name='observedIn', id='ad1a21df-14a1-48ec-8612-55b81abfd288'), RelevantFactBindings(name='detects', id='631fbcd9-5e6e-4890-b0ee-dbcec245f6c4'), RelevantFactBindings(name='accomplishes', id='01d0902a-5ece-46c2-a748-820baabdcd71'), RelevantFactBindings(name='resolvesTo', id='8afa1266-6af9-49c3-aa94-5214ea32fa6b'), RelevantFactBindings(name='at', id='ac25dda7-7bee-45c1-a2a1-35e8672b81f3'), RelevantFactBindings(name='targets', id='1808fc41-8c1b-4d07-9d2d-9b10cc93f602'), RelevantFactBindings(name='memberOf', id='b4d7ee4b-e5a6-4583-b9db-8fc99275cda3'), RelevantFactBindings(name='owns', id='c7343eae-04fa-4fe7-a5ad-1dacb96340a5')]\n"
     ]
    }
   ],
   "source": [
    "for i in c.get_fact_types():\n",
    "    if i.name=='observationTime':\n",
    "        print(i.relevant_fact_bindings)"
   ]
  },
  {
   "cell_type": "code",
   "execution_count": 163,
   "metadata": {},
   "outputs": [
    {
     "name": "stdout",
     "output_type": "stream",
     "text": [
      "observationTime\n",
      "Retraction\n"
     ]
    }
   ],
   "source": [
    "relations=[]\n",
    "for fact_type in c.get_fact_types():\n",
    "    try:\n",
    "        fact_name=fact_type.name\n",
    "        for i in fact_type.relevant_object_bindings:\n",
    "            relations.append([i.source_object_type.id,i.source_object_type.name,fact_name,i.destination_object_type.name,i.destination_object_type.id])\n",
    "    except:\n",
    "        print(fact_type.name)\n",
    "        pass"
   ]
  },
  {
   "cell_type": "code",
   "execution_count": 179,
   "metadata": {},
   "outputs": [],
   "source": [
    "df=pd.DataFrame(relations,columns=['source_id','source_name','relation','dest_name','dest_id'])\n",
    "df.to_csv(r'D:\\MY STUFF\\rhym\\act_api\\data\\facts.csv')"
   ]
  },
  {
   "cell_type": "code",
   "execution_count": 203,
   "metadata": {},
   "outputs": [
    {
     "data": {
      "text/plain": [
       "[FactType(name='resolve', id='5ff1ef61-9ed4-4139-a6ff-956252ad9ee0', default_confidence=1.0, validator='TrueValidator', validator_parameter=None, relevant_object_bindings=[RelevantObjectBindings(source_object_type='b8c8878e-30da-49c4-a49e-f0125f9e7451', destination_object_type='50d0a570-3994-4a8f-915c-66e5df6aa7e3', bidirectional_binding=True)], namespace=NameSpace(name='Global', id='00000000-0000-0000-0000-000000000000')), FactType(name='resolves', id='0dafa0c3-9672-45b7-b8ba-cf5850d6bfe0', default_confidence=1.0, validator='TrueValidator', validator_parameter=None, relevant_object_bindings=[RelevantObjectBindings(source_object_type='b8c8878e-30da-49c4-a49e-f0125f9e7451', destination_object_type='50d0a570-3994-4a8f-915c-66e5df6aa7e3')], namespace=NameSpace(name='Global', id='00000000-0000-0000-0000-000000000000'))]"
      ]
     },
     "execution_count": 203,
     "metadata": {},
     "output_type": "execute_result"
    }
   ],
   "source": [
    "c.get_fact_types()"
   ]
  },
  {
   "cell_type": "code",
   "execution_count": 46,
   "metadata": {},
   "outputs": [
    {
     "data": {
      "text/plain": [
       "[ObjectType(name='indicator', id='5570544b-f1b1-4238-b0ef-376f71a2b5ef', namespace=NameSpace(name='Global', id='00000000-0000-0000-0000-000000000000')), ObjectType(name='attack pattern', id='41a76fb6-3eb7-4fcc-8647-112326f9a4dd', namespace=NameSpace(name='Global', id='00000000-0000-0000-0000-000000000000')), ObjectType(name='infrastructure', id='b872a367-5b85-410d-9133-2a7701f3c4c6', namespace=NameSpace(name='Global', id='00000000-0000-0000-0000-000000000000')), ObjectType(name='intrusion_set', id='a5a0c968-e1a6-48bb-94b3-ead34ab668b5', namespace=NameSpace(name='Global', id='00000000-0000-0000-0000-000000000000')), ObjectType(name='ip', id='b8c8878e-30da-49c4-a49e-f0125f9e7451', validator='TrueValidator', validator_parameter=None, namespace=NameSpace(name='Global', id='00000000-0000-0000-0000-000000000000')), ObjectType(name='threat_actor', id='f86b46ab-064b-44f3-9264-44274e55ff93', namespace=NameSpace(name='Global', id='00000000-0000-0000-0000-000000000000')), ObjectType(name='campaign', id='2533e00e-9354-4d70-b03f-a15d8558accd', namespace=NameSpace(name='Global', id='00000000-0000-0000-0000-000000000000')), ObjectType(name='tool', id='a70b0efd-4eb2-4145-a38f-c97e00440318', namespace=NameSpace(name='Global', id='00000000-0000-0000-0000-000000000000')), ObjectType(name='report', id='7d2e4b27-8d2d-4471-b89e-f82456b85162', namespace=NameSpace(name='Global', id='00000000-0000-0000-0000-000000000000')), ObjectType(name='location', id='c7b99413-a5dc-4026-895d-3e38e8ad207f', namespace=NameSpace(name='Global', id='00000000-0000-0000-0000-000000000000')), ObjectType(name='malware', id='8b9f1a14-7379-44cc-ac31-ff266b328d9e', namespace=NameSpace(name='Global', id='00000000-0000-0000-0000-000000000000')), ObjectType(name='identity', id='35ebec78-0c1d-402a-b8f3-14fdbbda63a7', namespace=NameSpace(name='Global', id='00000000-0000-0000-0000-000000000000')), ObjectType(name='vulnerability', id='4edd7f03-7c07-4b94-9377-ca7566721f6a', namespace=NameSpace(name='Global', id='00000000-0000-0000-0000-000000000000'))]"
      ]
     },
     "execution_count": 46,
     "metadata": {},
     "output_type": "execute_result"
    }
   ],
   "source": [
    "c.get_object_types()"
   ]
  },
  {
   "cell_type": "code",
   "execution_count": 213,
   "metadata": {},
   "outputs": [],
   "source": [
    "resolves = [ft for ft in c.get_fact_types() if ft.name == \"resolves\"][0]"
   ]
  },
  {
   "cell_type": "code",
   "execution_count": 211,
   "metadata": {},
   "outputs": [
    {
     "data": {
      "text/plain": [
       "FactType(name='checking', id='d898346f-5cf2-450f-a412-1e41345d51e9', default_confidence=1.0, relevant_object_bindings=[RelevantObjectBindings(source_object_type='c4638e84-3509-49d0-b9a3-e32e76198254', destination_object_type='48e9699c-8895-4d16-a5e6-ae1c32f96192')], namespace=NameSpace(name='Global', id='00000000-0000-0000-0000-000000000000'))"
      ]
     },
     "execution_count": 211,
     "metadata": {},
     "output_type": "execute_result"
    }
   ],
   "source": [
    "object_bindings = [{\n",
    "    \"destinationObjectType\": 'abcd',\n",
    "    \"sourceObjectType\": \"ipv4\"\n",
    "}]\n",
    "c.create_fact_type(\"checking\", object_bindings = object_bindings)"
   ]
  },
  {
   "cell_type": "code",
   "execution_count": null,
   "metadata": {},
   "outputs": [],
   "source": []
  },
  {
   "cell_type": "code",
   "execution_count": 204,
   "metadata": {},
   "outputs": [],
   "source": [
    "f = c.fact(\"resolve\").source(\"ip\", \"127.1.1.3\").destination(\"fqdn\", \"github.com\").add()"
   ]
  },
  {
   "cell_type": "code",
   "execution_count": null,
   "metadata": {},
   "outputs": [],
   "source": [
    "c.object_search"
   ]
  },
  {
   "cell_type": "code",
   "execution_count": 4,
   "metadata": {},
   "outputs": [
    {
     "data": {
      "text/plain": [
       "[Object(type='malware', value='PowerStallion', id='43c54e6f-df3b-4e7a-bc52-bdefca556c84')]"
      ]
     },
     "execution_count": 4,
     "metadata": {},
     "output_type": "execute_result"
    }
   ],
   "source": [
    "c.object_search(object_value=\"PowerStallion\")"
   ]
  },
  {
   "cell_type": "code",
   "execution_count": 5,
   "metadata": {},
   "outputs": [
    {
     "name": "stdout",
     "output_type": "stream",
     "text": [
      "[Fact(type='uses', origin=Origin(name='John Doe', id='00000000-0000-0000-0000-000000000001'), confidence=1.0, organization=Organization(name='Test Organization 1', id='00000000-0000-0000-0000-000000000001'), source_object=Object(type='threat_actor', value='turla', id='d856c18e-f494-4a70-bf6b-1a1dea997200'), destination_object=Object(type='malware', value='Carbon', id='a04d2948-a70d-45e6-ab6b-ed0f35cb1df7')), Fact(type='uses', origin=Origin(name='John Doe', id='00000000-0000-0000-0000-000000000001'), confidence=1.0, organization=Organization(name='Test Organization 1', id='00000000-0000-0000-0000-000000000001'), source_object=Object(type='threat_actor', value='turla', id='d856c18e-f494-4a70-bf6b-1a1dea997200'), destination_object=Object(type='malware', value='Uroburos', id='8336faf7-4aed-48d7-866b-80ad67dfddff')), Fact(type='uses', origin=Origin(name='John Doe', id='00000000-0000-0000-0000-000000000001'), confidence=1.0, organization=Organization(name='Test Organization 1', id='00000000-0000-0000-0000-000000000001'), source_object=Object(type='threat_actor', value='turla', id='d856c18e-f494-4a70-bf6b-1a1dea997200'), destination_object=Object(type='malware', value='Gazer', id='c8451dec-9166-4105-a8c6-6d5714c192ec')), Fact(type='uses', origin=Origin(name='John Doe', id='00000000-0000-0000-0000-000000000001'), confidence=1.0, organization=Organization(name='Test Organization 1', id='00000000-0000-0000-0000-000000000001'), source_object=Object(type='threat_actor', value='turla', id='d856c18e-f494-4a70-bf6b-1a1dea997200'), destination_object=Object(type='malware', value='Epic', id='886f2535-1527-4bf1-bf70-58307bdef08e')), Fact(type='uses', origin=Origin(name='John Doe', id='00000000-0000-0000-0000-000000000001'), confidence=1.0, organization=Organization(name='Test Organization 1', id='00000000-0000-0000-0000-000000000001'), source_object=Object(type='threat_actor', value='turla', id='d856c18e-f494-4a70-bf6b-1a1dea997200'), destination_object=Object(type='malware', value='Mosquito', id='74605c97-0676-4b32-a88f-f8bacbc2cadd')), Fact(type='uses', origin=Origin(name='John Doe', id='00000000-0000-0000-0000-000000000001'), confidence=1.0, organization=Organization(name='Test Organization 1', id='00000000-0000-0000-0000-000000000001'), source_object=Object(type='threat_actor', value='turla', id='d856c18e-f494-4a70-bf6b-1a1dea997200'), destination_object=Object(type='malware', value='LightNeuron', id='b809f50e-ab62-4574-b5df-34973f50fc19')), Fact(type='uses', origin=Origin(name='John Doe', id='00000000-0000-0000-0000-000000000001'), confidence=1.0, organization=Organization(name='Test Organization 1', id='00000000-0000-0000-0000-000000000001'), source_object=Object(type='threat_actor', value='turla', id='d856c18e-f494-4a70-bf6b-1a1dea997200'), destination_object=Object(type='malware', value='PowerStallion', id='43c54e6f-df3b-4e7a-bc52-bdefca556c84')), Fact(type='uses', origin=Origin(name='John Doe', id='00000000-0000-0000-0000-000000000001'), confidence=1.0, organization=Organization(name='Test Organization 1', id='00000000-0000-0000-0000-000000000001'), source_object=Object(type='threat_actor', value='turla', id='d856c18e-f494-4a70-bf6b-1a1dea997200'), destination_object=Object(type='malware', value='ComRAT', id='86329781-dfc3-4714-852a-381352139b81')), Fact(type='uses', origin=Origin(name='John Doe', id='00000000-0000-0000-0000-000000000001'), confidence=1.0, organization=Organization(name='Test Organization 1', id='00000000-0000-0000-0000-000000000001'), source_object=Object(type='threat_actor', value='turla', id='d856c18e-f494-4a70-bf6b-1a1dea997200'), destination_object=Object(type='malware', value='Kazuar', id='6ba87a94-c5e0-4cc8-bc7b-78b72cd9d83e'))]\n"
     ]
    }
   ],
   "source": [
    "obj = c.object(\"threat_actor\", \"turla\").traverse('g.outE()')\n",
    "print(obj)"
   ]
  },
  {
   "cell_type": "code",
   "execution_count": 9,
   "metadata": {},
   "outputs": [
    {
     "data": {
      "text/plain": [
       "{'631fbcd9-5e6e-4890-b0ee-dbcec245f6c4': 'detects',\n",
       " 'b7c2d962-f11f-4677-8866-5a62b2246061': 'represents',\n",
       " '903595af-a5ed-411c-abfd-266d70b96365': 'implements',\n",
       " 'c86714be-a028-47bc-be18-8b557d1c829e': 'classifiedAs',\n",
       " '01d0902a-5ece-46c2-a748-820baabdcd71': 'accomplishes',\n",
       " 'caa3f76e-8621-4b48-8456-2f1343845bb5': 'basename',\n",
       " '1b7fbe76-a873-4271-85e6-b72bf58d2128': 'mentions',\n",
       " 'a7ecf0e4-6ae5-47f5-a6c4-2a8d2e75d34f': 'redirectsTo',\n",
       " '1808fc41-8c1b-4d07-9d2d-9b10cc93f602': 'targets',\n",
       " 'ac25dda7-7bee-45c1-a2a1-35e8672b81f3': 'at',\n",
       " '7717f738-3865-49d7-93f8-b1df6ffc1501': 'scheme',\n",
       " 'b566b07c-0248-4f3f-b002-6d90634d18b5': 'locatedIn',\n",
       " 'b4d7ee4b-e5a6-4583-b9db-8fc99275cda3': 'memberOf',\n",
       " 'ad1a21df-14a1-48ec-8612-55b81abfd288': 'observedIn',\n",
       " 'c7343eae-04fa-4fe7-a5ad-1dacb96340a5': 'owns',\n",
       " '3c2f9806-9c91-4532-b8ca-7992851aff21': 'componentOf',\n",
       " '976fcac1-61fe-41e2-addd-89308a9fe6ff': 'observationTime',\n",
       " '9f9dc009-2564-4410-8b88-4f511fed0311': 'name',\n",
       " '15681d9c-2074-45d2-a8e2-ec540828eba6': 'category',\n",
       " '510ea7a3-45ff-45a9-ae13-e71324fb42e3': 'connectsTo',\n",
       " '301a46da-2521-41dd-b04b-21b1f0f77323': 'alias',\n",
       " '2e2f4135-4ff6-3d55-8c7f-4d9bca37d62a': 'Retraction',\n",
       " '4f4e6bb6-62c1-4ae6-9e76-026bb1dd400b': 'port',\n",
       " '8afa1266-6af9-49c3-aa94-5214ea32fa6b': 'resolvesTo',\n",
       " 'e6a173ac-a77d-48ae-9465-60e58253bf60': 'attributedTo'}"
      ]
     },
     "execution_count": 9,
     "metadata": {},
     "output_type": "execute_result"
    }
   ],
   "source": [
    "#optional\n",
    "# checking weather objects created or not\n",
    "obj_type_details=dict()\n",
    "for obj_type in c.get_fact_types():\n",
    "    n=obj_type.name\n",
    "    i=obj_type.id\n",
    "    obj_type_details[i]=n\n",
    "obj_type_details"
   ]
  },
  {
   "cell_type": "code",
   "execution_count": 11,
   "metadata": {},
   "outputs": [
    {
     "name": "stdout",
     "output_type": "stream",
     "text": [
      "FactType(name='alias', id='301a46da-2521-41dd-b04b-21b1f0f77323', default_confidence=1.0, relevant_object_bindings=[RelevantObjectBindings(source_object_type='7acc6821-2771-4228-b83b-04aad9d6c312', destination_object_type='7acc6821-2771-4228-b83b-04aad9d6c312', bidirectional_binding=True), RelevantObjectBindings(source_object_type='b272edbd-d8cb-47e0-9a54-bb03ba75d50f', destination_object_type='b272edbd-d8cb-47e0-9a54-bb03ba75d50f', bidirectional_binding=True)], namespace=NameSpace(name='Global', id='00000000-0000-0000-0000-000000000000'))\n"
     ]
    }
   ],
   "source": [
    "for obj_type in c.get_fact_types():\n",
    "    if obj_type.name=='alias':\n",
    "        print(obj_type)"
   ]
  },
  {
   "cell_type": "code",
   "execution_count": null,
   "metadata": {},
   "outputs": [],
   "source": []
  }
 ],
 "metadata": {
  "kernelspec": {
   "display_name": "Python 3",
   "language": "python",
   "name": "python3"
  },
  "language_info": {
   "codemirror_mode": {
    "name": "ipython",
    "version": 3
   },
   "file_extension": ".py",
   "mimetype": "text/x-python",
   "name": "python",
   "nbconvert_exporter": "python",
   "pygments_lexer": "ipython3",
   "version": "3.7.3"
  }
 },
 "nbformat": 4,
 "nbformat_minor": 2
}
