{
 "cells": [
  {
   "cell_type": "code",
   "execution_count": 1,
   "metadata": {},
   "outputs": [],
   "source": [
    "import pandas as pd"
   ]
  },
  {
   "cell_type": "code",
   "execution_count": 2,
   "metadata": {},
   "outputs": [],
   "source": [
    "df_kaspersky=pd.read_csv('kaspersky_feed.csv')\n",
    "df_kaspersky['Name'] = df_kaspersky['Name'].str.lower()\n",
    "df_mal= pd.read_csv('malpedia.csv')\n",
    "df_mal['Name'] = df_mal['Name'].str.lower()\n",
    "df_mal['Description'] = df_mal['Description'].str.lower()\n",
    "df_mitre = pd.read_csv(r\"D:\\Threat_intel_services\\final_automation\\mitre_collected_data\\groups_data.csv\")\n",
    "df_mitre['Name'] = df_mitre['Name'].str.lower()\n",
    "df_mitre['Description'] = df_mitre['Description'].str.lower()"
   ]
  },
  {
   "cell_type": "code",
   "execution_count": 3,
   "metadata": {},
   "outputs": [
    {
     "data": {
      "text/html": [
       "<div>\n",
       "<style scoped>\n",
       "    .dataframe tbody tr th:only-of-type {\n",
       "        vertical-align: middle;\n",
       "    }\n",
       "\n",
       "    .dataframe tbody tr th {\n",
       "        vertical-align: top;\n",
       "    }\n",
       "\n",
       "    .dataframe thead th {\n",
       "        text-align: right;\n",
       "    }\n",
       "</style>\n",
       "<table border=\"1\" class=\"dataframe\">\n",
       "  <thead>\n",
       "    <tr style=\"text-align: right;\">\n",
       "      <th></th>\n",
       "      <th>Name</th>\n",
       "      <th>First known sample</th>\n",
       "      <th>Discovery</th>\n",
       "      <th>Current status</th>\n",
       "      <th>Type</th>\n",
       "      <th>Targeted platforms</th>\n",
       "      <th>Connected attacks</th>\n",
       "      <th>Number of targets</th>\n",
       "      <th>TOP targeted countries</th>\n",
       "      <th>The way of propagation</th>\n",
       "      <th>Purpose/Functions</th>\n",
       "      <th>Special features</th>\n",
       "      <th>Targets</th>\n",
       "      <th>Artefacts/Attribution</th>\n",
       "      <th>More info</th>\n",
       "    </tr>\n",
       "  </thead>\n",
       "  <tbody>\n",
       "    <tr>\n",
       "      <th>0</th>\n",
       "      <td>topinambour</td>\n",
       "      <td>2019</td>\n",
       "      <td>2019</td>\n",
       "      <td>Active</td>\n",
       "      <td>APT</td>\n",
       "      <td>Windows</td>\n",
       "      <td>Satellite Turla, Penquin Turla, Epic Turla, Turla</td>\n",
       "      <td>NaN</td>\n",
       "      <td>NaN</td>\n",
       "      <td>Trojanized software installers</td>\n",
       "      <td>Cyberespionage</td>\n",
       "      <td>Please find more information here: https://sec...</td>\n",
       "      <td>Diplomatic organizations/embassies</td>\n",
       "      <td>Indicators of compromise\\nC2 HTTP GET template...</td>\n",
       "      <td>NaN</td>\n",
       "    </tr>\n",
       "    <tr>\n",
       "      <th>1</th>\n",
       "      <td>tajmahal</td>\n",
       "      <td>2013</td>\n",
       "      <td>2019</td>\n",
       "      <td>Active</td>\n",
       "      <td>APT</td>\n",
       "      <td>Windows</td>\n",
       "      <td>NaN</td>\n",
       "      <td>1-100</td>\n",
       "      <td>NaN</td>\n",
       "      <td>Unknown</td>\n",
       "      <td>Cyberespionage</td>\n",
       "      <td>NaN</td>\n",
       "      <td>Diplomatic organizations/embassies</td>\n",
       "      <td>NaN</td>\n",
       "      <td>NaN</td>\n",
       "    </tr>\n",
       "    <tr>\n",
       "      <th>2</th>\n",
       "      <td>shadowhammer</td>\n",
       "      <td>2018</td>\n",
       "      <td>2018</td>\n",
       "      <td>Inactive since 2019</td>\n",
       "      <td>APT</td>\n",
       "      <td>Windows</td>\n",
       "      <td>ShadowPad</td>\n",
       "      <td>1-100</td>\n",
       "      <td>NaN</td>\n",
       "      <td>File infection</td>\n",
       "      <td>NaN</td>\n",
       "      <td>NaN</td>\n",
       "      <td>Information technology</td>\n",
       "      <td>NaN</td>\n",
       "      <td>NaN</td>\n",
       "    </tr>\n",
       "    <tr>\n",
       "      <th>3</th>\n",
       "      <td>sneakypastes</td>\n",
       "      <td>2018</td>\n",
       "      <td>2019</td>\n",
       "      <td>Active</td>\n",
       "      <td>Cyber-espionage malware</td>\n",
       "      <td>Windows</td>\n",
       "      <td>Desert Falcons</td>\n",
       "      <td>1-100</td>\n",
       "      <td>Middle East</td>\n",
       "      <td>Social engineering</td>\n",
       "      <td>Cyberespionage</td>\n",
       "      <td>NaN</td>\n",
       "      <td>Politicians</td>\n",
       "      <td>NaN</td>\n",
       "      <td>NaN</td>\n",
       "    </tr>\n",
       "    <tr>\n",
       "      <th>4</th>\n",
       "      <td>octopus</td>\n",
       "      <td>1990</td>\n",
       "      <td>2018</td>\n",
       "      <td>Active</td>\n",
       "      <td>Trojan</td>\n",
       "      <td>NaN</td>\n",
       "      <td>ZooPark</td>\n",
       "      <td>Unknown</td>\n",
       "      <td>Central Asia</td>\n",
       "      <td>Exploits</td>\n",
       "      <td>Cyberespionage, Cybersabotage</td>\n",
       "      <td>NaN</td>\n",
       "      <td>Diplomatic organizations/embassies</td>\n",
       "      <td>NaN</td>\n",
       "      <td>NaN</td>\n",
       "    </tr>\n",
       "  </tbody>\n",
       "</table>\n",
       "</div>"
      ],
      "text/plain": [
       "           Name  First known sample  Discovery       Current status  \\\n",
       "0   topinambour                2019       2019               Active   \n",
       "1      tajmahal                2013       2019               Active   \n",
       "2  shadowhammer                2018       2018  Inactive since 2019   \n",
       "3  sneakypastes                2018       2019               Active   \n",
       "4       octopus                1990       2018               Active   \n",
       "\n",
       "                      Type Targeted platforms  \\\n",
       "0                      APT            Windows   \n",
       "1                      APT            Windows   \n",
       "2                      APT            Windows   \n",
       "3  Cyber-espionage malware            Windows   \n",
       "4                   Trojan                NaN   \n",
       "\n",
       "                                   Connected attacks Number of targets  \\\n",
       "0  Satellite Turla, Penquin Turla, Epic Turla, Turla               NaN   \n",
       "1                                                NaN             1-100   \n",
       "2                                          ShadowPad             1-100   \n",
       "3                                     Desert Falcons             1-100   \n",
       "4                                            ZooPark           Unknown   \n",
       "\n",
       "  TOP targeted countries          The way of propagation  \\\n",
       "0                    NaN  Trojanized software installers   \n",
       "1                    NaN                         Unknown   \n",
       "2                    NaN                  File infection   \n",
       "3            Middle East              Social engineering   \n",
       "4           Central Asia                        Exploits   \n",
       "\n",
       "               Purpose/Functions  \\\n",
       "0                 Cyberespionage   \n",
       "1                 Cyberespionage   \n",
       "2                            NaN   \n",
       "3                 Cyberespionage   \n",
       "4  Cyberespionage, Cybersabotage   \n",
       "\n",
       "                                    Special features  \\\n",
       "0  Please find more information here: https://sec...   \n",
       "1                                                NaN   \n",
       "2                                                NaN   \n",
       "3                                                NaN   \n",
       "4                                                NaN   \n",
       "\n",
       "                              Targets  \\\n",
       "0  Diplomatic organizations/embassies   \n",
       "1  Diplomatic organizations/embassies   \n",
       "2              Information technology   \n",
       "3                         Politicians   \n",
       "4  Diplomatic organizations/embassies   \n",
       "\n",
       "                               Artefacts/Attribution More info  \n",
       "0  Indicators of compromise\\nC2 HTTP GET template...       NaN  \n",
       "1                                                NaN       NaN  \n",
       "2                                                NaN       NaN  \n",
       "3                                                NaN       NaN  \n",
       "4                                                NaN       NaN  "
      ]
     },
     "execution_count": 3,
     "metadata": {},
     "output_type": "execute_result"
    }
   ],
   "source": [
    "df_kaspersky.head()"
   ]
  },
  {
   "cell_type": "code",
   "execution_count": 4,
   "metadata": {},
   "outputs": [],
   "source": [
    "df_mal_names=[i for i in list(df_mal['Name'])]\n",
    "df_mal_alias=[i.lower() for i in list(df_mal['Associated']) if str(type(i))!='<class \\'float\\'>']"
   ]
  },
  {
   "cell_type": "code",
   "execution_count": 5,
   "metadata": {},
   "outputs": [],
   "source": [
    "names=[]\n",
    "for name in df_kaspersky['Name']:\n",
    "    if (name.lower() in df_mal_names):\n",
    "        names.append(name)\n",
    "    if (name.lower() in df_mal_alias):\n",
    "        names.append(name)"
   ]
  },
  {
   "cell_type": "code",
   "execution_count": 6,
   "metadata": {},
   "outputs": [],
   "source": [
    "names_mitre=[]\n",
    "for name in df_mitre['Name']:\n",
    "    if (name in df_mal_names):\n",
    "        names_mitre.append(name)\n",
    "#     if (name in df_mal_alias):\n",
    "#         names_mitre.append(name)"
   ]
  },
  {
   "cell_type": "code",
   "execution_count": 7,
   "metadata": {},
   "outputs": [],
   "source": [
    "df_con=df_mal[['Name','Description']]"
   ]
  },
  {
   "cell_type": "code",
   "execution_count": 8,
   "metadata": {},
   "outputs": [
    {
     "data": {
      "text/plain": [
       "[\"the winnti grouping of activity is large and may actually be a number of linked groups rather than a single discrete entity. kaspersky describe winnti as: 'the winnti group has been attacking companies in the online video game industry since 2009 and is currently still active. the groups objectives are stealing digital certificates signed by legitimate software vendors in addition to intellectual property theft, including the source code of online game projects. the majority of the victims are from south east asia.'\"]"
      ]
     },
     "execution_count": 8,
     "metadata": {},
     "output_type": "execute_result"
    }
   ],
   "source": [
    "list(df_con[['Name','Description']][df_con['Name']=='axiom']['Description'])"
   ]
  },
  {
   "cell_type": "code",
   "execution_count": 9,
   "metadata": {},
   "outputs": [],
   "source": [
    "def modify(df_con):\n",
    "    df_con1 =df_con.copy()\n",
    "    for name in df_mitre['Name']:\n",
    "        if name in names_mitre:\n",
    "\n",
    "            des = list(df_mitre['Description'][df_mitre['Name'] == name])[0]\n",
    "            des1 = list(df_con1['Description'][df_con1['Name'] == name])[0]\n",
    "            if str(type(des1))!='<class \\'float\\'>':\n",
    "                index = df_con1[df_con1['Name'] == name].index\n",
    "                df_con1['Description'].iloc[index]=des+des1\n",
    "            else:\n",
    "                index = df_con1[df_con1['Name'] == name].index\n",
    "                df_con1['Description'].iloc[index] = des\n",
    "\n",
    "        else:\n",
    "            temp_df =df_mitre[['Name','Description']][df_mitre['Name'] == name]\n",
    "            df_con1=df_con1.append(temp_df)\n",
    "            \n",
    "    return df_con1\n",
    "        "
   ]
  },
  {
   "cell_type": "code",
   "execution_count": 10,
   "metadata": {},
   "outputs": [
    {
     "name": "stdout",
     "output_type": "stream",
     "text": [
      "apt32 is a threat group that has been active since at least 2014. the group has targeted multiple private sector industries as well as with foreign governments, dissidents, and journalists with a strong focus on southeast asian countries like vietnam, the philippines, laos, and cambodia. they have extensively used strategic web compromises to compromise victims. the group is believed to be vietnam-based.cyber espionage actors, now designated by fireeye as apt32 (oceanlotus group), are carrying out intrusions into private sector companies across multiple industries and have also targeted foreign governments, dissidents, and journalists. fireeye assesses that apt32 leverages a unique suite of fully-featured malware, in conjunction with commercially-available tools, to conduct targeted operations that are aligned with vietnamese state interests.\n",
      "apt33 is a suspected iranian threat group that has carried out operations since at least 2013. the group has targeted organizations across multiple industries in the united states, saudi arabia, and south korea, with a particular interest in the aviation and energy sectors.our analysis reveals that apt33 is a capable group that has carried out cyber espionage operations since at least 2013. we assess apt33 works at the behest of the iranian government.\n",
      "apt37 is a suspected north korean cyber espionage group that has been active since at least 2012. the group has targeted victims primarily in south korea, but also in japan, vietnam, russia, nepal, china, india, romania, kuwait, and other parts of the middle east. apt37 has also been linked to following campaigns between 2016-2018: operation daybreak, operation erebus, golden time, evil new year, are you happy?, freemilk, northern korean human rights, and evil new year 2018. north korean group definitions are known to have significant overlap, and the name lazarus group is known to encompass a broad range of activity. some organizations use the name lazarus group to refer to any activity attributed to north korea. some organizations track north korean clusters or groups such as bluenoroff, apt37, and apt38 separately, while other organizations may track some activity associated with those group names by the name lazarus group.apt37 has likely been active since at least 2012 and focuses on targeting the public and private sectors primarily in south korea. in 2017, apt37 expanded its targeting beyond the korean peninsula to include japan, vietnam and the middle east, and to a wider range of industry verticals, including chemicals, electronics, manufacturing, aerospace, automotive and healthcare entities\n",
      "apt39 is an iranian cyber espionage group that has been active since at least 2014. they have targeted the telecommunication and travel industries to collect personal information that aligns with iran's national priorities.apt39 was created to bring together previous activities and methods used by this actor, and its activities largely align with a group publicly referred to as \"chafer.\" however, there are differences in what has been publicly reported due to the variances in how organizations track activity. apt39 primarily leverages the seaweed and cachemoney backdoors along with a specific variant of the powbat backdoor. while apt39's targeting scope is global, its activities are concentrated in the middle east. apt39 has prioritized the telecommunications sector, with additional targeting of the travel industry and it firms that support it and the high-tech industry.\n",
      "apt41 is a group that carries out chinese state-sponsored espionage activity in addition to financially motivated activity. apt41 has been active since as early as 2012. the group has been observed targeting healthcare, telecom, technology, and video game industries in 14 countries.apt41 is a prolific cyber threat group that carries out chinese state-sponsored espionage activity in addition to financially motivated activity potentially outside of state control.\n",
      "axiom is a cyber espionage group suspected to be associated with the chinese government. it is responsible for the operation smn campaign. though both this group and winnti group use the malware winnti, the two groups appear to be distinct based on differences in reporting on the groups' ttps and targeting.the winnti grouping of activity is large and may actually be a number of linked groups rather than a single discrete entity. kaspersky describe winnti as: 'the winnti group has been attacking companies in the online video game industry since 2009 and is currently still active. the groups objectives are stealing digital certificates signed by legitimate software vendors in addition to intellectual property theft, including the source code of online game projects. the majority of the victims are from south east asia.'\n",
      "blackoasis is a middle eastern threat group that is believed to be a customer of gamma group. the group has shown interest in prominent figures in the united nations, as well as opposition bloggers, activists, regional news correspondents, and think tanks. a group known by microsoft as neodymium is reportedly associated closely with blackoasis operations, but evidence that the group names are aliases has not been identified.blackoasis is a middle eastern threat group that is believed to be a customer of gamma group. the group has shown interest in prominent figures in the united nations, as well as opposition bloggers, activists, regional news correspondents, and think tanks. a group known by microsoft as neodymium is reportedly associated closely with blackoasis operations, but evidence that the group names are aliases has not been identified.\n",
      "charming kitten is an iranian cyber espionage group that has been active since approximately 2014. they appear to focus on targeting individuals of interest to iran who work in academic research, human rights, and media, with most victims having been located in iran, the us, israel, and the uk. charming kitten usually tries to access private email and facebook accounts, and sometimes establishes a foothold on victim computers as a secondary objective. the group's ttps overlap extensively with another group, magic hound, resulting in reporting that may not distinguish between the two groups' activities.charming kitten (aka parastoo, aka newscaster) is an group with a suspected nexus to iran that targets organizations involved in government, defense technology, military, and diplomacy sectors.\n",
      "cleaver is a threat group that has been attributed to iranian actors and is responsible for activity tracked as operation cleaver. strong circumstantial evidence suggests cleaver is linked to threat group 2889 (tg-2889).a group of cyber actors utilizing infrastructure located in iran have been conducting computer network exploitation activity against public and private u.s. organizations, including cleared defense contractors (cdcs), academic institutions, and energy sector companies. this threat actor targets entities in the government, energy, and technology sectors that are located in or do business with saudi arabia.\n",
      "dark caracal is threat group that has been attributed to the lebanese general directorate of general security (gdgs) and has operated since at least 2012.lookout and electronic frontier foundation (eff) have discovered dark caracal, a persistent and prolific actor, who at the time of writing is believed to be administered out of a building belonging to the lebanese general security directorate in beirut. at present, we have knowledge of hundreds of gigabytes of exfiltrated data, in 21+ countries, across thousands of victims. stolen data includes enterprise intellectual property and personally identifiable information.\n",
      "darkhotel is a threat group that has been active since at least 2004. the group has conducted activity on hotel and business center wi‑fi and physical connections as well as peer-to-peer and file sharing networks. the actors have also conducted spearphishing.kaspersky described darkhotel in a 2014 report as: '... darkhotel drives its campaigns by spear-phishing targets with highly advanced flash zero-day exploits that effectively evade the latest windows and adobe defenses, and yet they also imprecisely spread among large numbers of vague targets with peer-to-peer spreading tactics. moreover, this crews most unusual characteristic is that for several years the darkhotel apt has maintained a capability to use hotel networks to follow and hit selected targets as they travel around the world.'\n",
      "darkhydrus is a threat group that has targeted government agencies and educational institutions in the middle east since at least 2016. the group heavily leverages open-source tools and custom payloads for carrying out attacks.in july 2018, unit 42 analyzed a targeted attack using a novel file type against at least one government agency in the middle east. it was carried out by a previously unpublished threat group we track as darkhydrus. based on our telemetry, we were able to uncover additional artifacts leading us to believe this adversary group has been in operation with their current playbook since early 2016. this attack diverged from previous attacks we observed from this group as it involved spear-phishing emails sent to targeted organizations with password protected rar archive attachments that contained malicious excel web query files (.iqy).\n",
      "dragonok is a threat group that has targeted japanese organizations with phishing emails. due to overlapping ttps, including similar custom tools, dragonok is thought to have a direct or indirect relationship with the threat group moafee. it is known to use a variety of malware, including sysget/hellobridge, plugx, poisonivy, formerfirstrat, nflog, and newct.threat group that has targeted japanese organizations with phishing emails. due to overlapping ttps, including similar custom tools, dragonok is thought to have a direct or indirect relationship with the threat group moafee. 2223 it is known to use a variety of malware, including sysget/hellobridge, plugx, poisonivy, formerfirstrat, nflog, and newct.\n",
      "fin10 is a financially motivated threat group that has targeted organizations in north america since at least 2013 through 2016. the group uses stolen data exfiltrated from victims to extort organizations.fireeye has observed multiple targeted intrusions occurring in north america — predominately in canada — dating back to at least 2013 and continuing through at least 2016, in which the attacker(s) have compromised organizations’ networks and sought to monetize this illicit access by exfiltrating sensitive data and extorting victim organizations. in some cases, when the extortion demand was not met, the attacker(s) destroyed production windows systems by deleting critical operating system files and then shutting down the impacted systems. based on near parallel ttps used by the attacker(s) across these targeted intrusions, we believe these clusters of activity are linked to a single, previously unobserved actor or group that we have dubbed fin10.\n",
      "fin5 is a financially motivated threat group that has targeted personally identifiable information and payment card information. the group has been active since at least 2008 and has targeted the restaurant, gaming, and hotel industries. the group is made up of actors who likely speak russian.fin5 is a financially motivated threat group that has targeted personally identifiable information and payment card information. the group has been active since at least 2008 and has targeted the restaurant, gaming, and hotel industries. the group is made up of actors who likely speak russian.\n",
      "fin6 is a cyber crime group that has stolen payment card data and sold it for profit on underground marketplaces. this group has aggressively targeted and compromised point of sale (pos) systems in the hospitality and retail sectors.fin is a group targeting financial assets including assets able to do financial transaction including pos.\n",
      "fin8 is a financially motivated threat group known to launch tailored spearphishing campaigns targeting the retail, restaurant, and hospitality industries.fin8 is a financially motivated group targeting the retail, hospitality and entertainment industries. the actor had previously conducted several tailored spearphishing campaigns using the downloader punchbuggy and pos malware punchtrack.\n",
      "gallmaker is a cyberespionage group that has targeted victims in the middle east and has been active since at least december 2017. the group has mainly targeted victims in the defense, military, and government sectors.symantec researchers have uncovered a previously unknown attack group that is targeting government and military targets, including several overseas embassies of an eastern european country, and military and defense targets in the middle east. this group eschews custom malware and uses living off the land (lotl) tactics and publicly available hack tools to carry out activities that bear all the hallmarks of a cyber espionage campaign.\n",
      "the group, which we have given the name gallmaker, has been operating since at least december 2017, with its most recent activity observed in june 2018.\n",
      "gamaredon group is a threat group that has been active since at least 2013 and has targeted individuals likely involved in the ukrainian government.unit 42 threat researchers have recently observed a threat group distributing new, custom developed malware. we have labelled this threat group the gamaredon group and our research shows that the gamaredon group has been active since at least 2013.  in the past, the gamaredon group has relied heavily on off-the-shelf tools. our new research shows the gamaredon group have made a shift to custom-developed malware. we believe this shift indicates the gamaredon group have improved their technical capabilities.\n",
      "gcman is a threat group that focuses on targeting banks for the purpose of transferring money to e-currency services.gcman is a threat group that focuses on targeting banks for the purpose of transferring money to e-currency services.\n",
      "group5 is a threat group with a suspected iranian nexus, though this attribution is not definite. the group has targeted individuals connected to the syrian opposition via spearphishing and watering holes, normally using syrian and iranian themes. group5 has used two commonly available remote access tools (rats), njrat and nanocore, as well as an android rat, droidjack.a threat actor using iranian-language tools, iranian hosting companies, operating from the iranian ip space at times was observed targeting the syrian opposition in an elaborately staged malware operation, citizen lab researchers reveal.\n",
      "the operation was first noticed in late 2015, when a member of the syrian opposition flagged a suspicious email containing a powerpoint slideshow, which led researchers to a watering hole website with malicious programs, malicious powerpoint files, and android malware.\n",
      "the threat actor was targeting windows and android devices of well-connected individuals in the syrian opposition, researchers discovered. they called the actor group5, because it targets syrian opposition after regime-linked malware groups, the syrian electronic army, isis (also known as the islamic state or isil), and a group linked to lebanon did the same in the past\n",
      "honeybee is a campaign led by an unknown actor that targets humanitarian aid organizations and has been active in vietnam, singapore, argentina, japans, indonesia, and canada. it has been an active operation since august of 2017 and as recently as february 2018.mcafee advanced threat research analysts have discovered a new operation targeting humanitarian aid organizations and using north korean political topics as bait to lure victims into opening malicious microsoft word documents. our analysts have named this operation honeybee, based on the names of the malicious documents used in the attacks.\n",
      "advanced threat research analysts have also discovered malicious documents authored by the same actor that indicate a tactical shift. these documents do not contain the typical lures by this actor, instead using word compatibility messages to entice victims into opening them.\n",
      "the advanced threat research team also observed a heavy concentration of the implant in vietnam from january 15–17.\n",
      "lazarus group is a threat group that has been attributed to the north korean government. the group has been active since at least 2009 and was reportedly responsible for the november 2014 destructive wiper attack against sony pictures entertainment as part of a campaign named operation blockbuster by novetta. malware used by lazarus group correlates to other reported campaigns, including operation flame, operation 1mission, operation troy, darkseoul, and ten days of rain. in late 2017, lazarus group used killdisk, a disk-wiping tool, in an attack against an online casino based in central america. north korean group definitions are known to have significant overlap, and the name lazarus group is known to encompass a broad range of activity. some organizations use the name lazarus group to refer to any activity attributed to north korea. some organizations track north korean clusters or groups such as bluenoroff, apt37, and apt38 separately, while other organizations may track some activity associated with those group names by the name lazarus group.since 2009, hidden cobra actors have leveraged their capabilities to target and compromise a range of victims; some intrusions have resulted in the exfiltration of data while others have been disruptive in nature. commercial reporting has referred to this activity as lazarus group and guardians of peace. tools and capabilities used by hidden cobra actors include ddos botnets, keyloggers, remote access tools (rats), and wiper malware. variants of malware and tools used by hidden cobra actors include destover, duuzer, and hangman.\n",
      "leviathan is a cyber espionage group that has been active since at least 2013. the group generally targets defense and government organizations, but has also targeted a range of industries including engineering firms, shipping and transportation, manufacturing, defense, government offices, and research universities in the united states, western europe, and along the south china sea.leviathan is an espionage actor targeting organizations and high-value targets in defense and government. active since at least 2014, this actor has long-standing interest in maritime industries, naval defense contractors, and associated research institutions in the united states and western europe.\n",
      "lotus blossom is a threat group that has targeted government and military organizations in southeast asia.lotus blossom is a threat group that has targeted government and military organizations in southeast asia.\n",
      "molerats is a politically-motivated threat group that has been operating since 2012. the group's victims have primarily been in the middle east, europe, and the united states.in october 2012, malware attacks against israeli government targets grabbed media attention as officials temporarily cut off internet access for its entire police force and banned the use of usb memory sticks. security researchers subsequently linked these attacks to a broader, yearlong campaign that targeted not just israelis but palestinians as well. and as discovered later, even the u.s. and uk governments. further research revealed a connection between these attacks and members of the so-called “gaza hackers team.” we refer to this campaign as “molerats.”\n",
      "muddywater is an iranian threat group that has primarily targeted middle eastern nations, and has also targeted european and north american nations. the group's victims are mainly in the telecommunications, government (it services), and oil sectors. activity from this group was previously linked to fin7, but the group is believed to be a distinct group possibly motivated by espionage.the muddywater attacks are primarily against middle eastern nations. however, we have also observed attacks against surrounding nations and beyond, including targets in india and the usa. muddywater attacks are characterized by the use of a slowly evolving powershell-based first stage backdoor we call “powerstats”. despite broad scrutiny and reports on muddywater attacks, the activity continues with only incremental changes to the tools and techniques.\n",
      "naikon is a threat group that has focused on targets around the south china sea. the group has been attributed to the chinese people’s liberation army’s (pla) chengdu military region second technical reconnaissance bureau (military unit cover designator 78020). while naikon shares some characteristics with apt30, the two groups do not appear to be exact matches.kaspersky described naikon in a 2015 report as: 'the naikon group is mostly active in countries such as the philippines, malaysia, cambodia, indonesia, vietnam, myanmar, singapore, and nepal, hitting a variety of targets in a very opportunistic way.'\n",
      "neodymium is an activity group that conducted a campaign in may 2016 and has heavily targeted turkish victims. the group has demonstrated similarity to another activity group called promethium due to overlapping victim and campaign characteristics. neodymium is reportedly associated closely with blackoasis operations, but evidence that the group names are aliases has not been identified.neodymium is an activity group that is known to use a backdoor malware detected by microsoft as wingbird. this backdoor’s characteristics closely match finfisher, a government-grade commercial surveillance package. data about wingbird activity indicate that it is typically used to attack individual computers instead of networks.\n",
      "oilrig is a suspected iranian threat group that has targeted middle eastern and international victims since at least 2014. the group has targeted a variety of industries, including financial, government, energy, chemical, and telecommunications, and has largely focused its operations within the middle east. it appears the group carries out supply chain attacks, leveraging the trust relationship between organizations to attack their primary targets. fireeye assesses that the group works on behalf of the iranian government based on infrastructure details that contain references to iran, use of iranian infrastructure, and targeting that aligns with nation-state interests. this group was previously tracked under two distinct groups, apt34 and oilrig, but was combined due to additional reporting giving higher confidence about the overlap of the activity.oilrig is an iranian threat group operating primarily in the middle east by targeting organizations in this region that are in a variety of different industries; however, this group has occasionally targeted organizations outside of the middle east as well. it also appears oilrig carries out supply chain attacks, where the threat group leverages the trust relationship between organizations to attack their primary targets. \r\n",
      "\r\n",
      "oilrig is an active and organized threat group, which is evident based on their systematic targeting of specific organizations that appear to be carefully chosen for strategic purposes. attacks attributed to this group primarily rely on social engineering to exploit the human rather than software vulnerabilities; however, on occasion this group has used recently patched vulnerabilities in the delivery phase of their attacks. the lack of software vulnerability exploitation does not necessarily suggest a lack of sophistication, as oilrig has shown maturity in other aspects of their operations. such maturities involve:\r\n",
      "\r\n",
      "-organized evasion testing used the during development of their tools.\r\n",
      "-use of custom dns tunneling protocols for command and control (c2) and data exfiltration.\r\n",
      "-custom web-shells and backdoors used to persistently access servers.\r\n",
      "\r\n",
      "oilrig relies on stolen account credentials for lateral movement. after oilrig gains access to a system, they use credential dumping tools, such as mimikatz, to steal credentials to accounts logged into the compromised system. the group uses these credentials to access and to move laterally to other systems on the network. after obtaining credentials from a system, operators in this group prefer to use tools other than their backdoors to access the compromised systems, such as remote desktop and putty. oilrig also uses phishing sites to harvest credentials to individuals at targeted organizations to gain access to internet accessible resources, such as outlook web access.\n",
      "orangeworm is a group that has targeted organizations in the healthcare sector in the united states, europe, and asia since at least 2015, likely for the purpose of corporate espionage.symantec has identified a previously unknown group called orangeworm that has been observed installing a custom backdoor called trojan.kwampirs within large international corporations that operate within the healthcare sector in the united states, europe, and asia.\n",
      "first identified in january 2015, orangeworm has also conducted targeted attacks against organizations in related industries as part of a larger supply-chain attack in order to reach their intended victims. known victims include healthcare providers, pharmaceuticals, it solution providers for healthcare and equipment manufacturers that serve the healthcare industry, likely for the purpose of corporate espionage.\n",
      "platinum is an activity group that has targeted victims since at least 2009. the group has focused on targets associated with governments and related organizations in south and southeast asia.platinum has been targeting its victims since at least as early as 2009, and may have been active for several years prior. its activities are distinctly different not only from those typically seen in untargeted attacks, but from many targeted attacks as well. a large share of targeted attacks can be characterized as opportunistic: the activity group changes its target profiles and attack geographies based on geopolitical seasons, and may attack institutions all over the world. like many such groups, platinum seeks to steal sensitive intellectual property related to government interests, but its range of preferred targets is consistently limited to specific governmental organizations, defense institutes, intelligence agencies, diplomatic institutions, and telecommunication providers in south and southeast asia. the group’s persistent use of spear phishing tactics (phishing attempts aimed at specific individuals) and access to previously undiscovered zero-day exploits have made it a highly resilient threat.\n",
      "poseidon group is a portuguese-speaking threat group that has been active since at least 2005. the group has a history of using information exfiltrated from victims to blackmail victim companies into contracting the poseidon group as a security firm.poseidon group is a portuguese-speaking threat group that has been active since at least 2005. the group has a history of using information exfiltrated from victims to blackmail victim companies into contracting the poseidon group as a security firm.\n",
      "promethium is an activity group that has been active since at least 2012. the group conducted a campaign in may 2016 and has heavily targeted turkish victims. promethium has demonstrated similarity to another activity group called neodymium due to overlapping victim and campaign characteristics.promethium is an activity group that has been active as early as 2012. the group primarily uses truvasys, a first-stage malware that has been in circulation for several years. truvasys has been involved in several attack campaigns, where it has masqueraded as one of server common computer utilities, including winutils, truecrypt, winrar, or sandisk. in each of the campaigns, truvasys malware evolved with additional features—this shows a close relationship between the activity groups behind the campaigns and the developers of the malware.\n",
      "putter panda is a chinese threat group that has been attributed to unit 61486 of the 12th bureau of the pla’s 3rd general staff department (gsd).putter panda were the subject of an extensive report by crowdstrike, which stated: 'the crowdstrike intelligence team has been tracking this particular unit since2012, under the codename putter panda, and has documented activity dating back to 2007. the report identifies chen ping, aka cpyy, and the primary location of unit 61486.'\n",
      "rancor is a threat group that has led targeted campaigns against the south east asia region. rancor uses politically-motivated lures to entice victims to open malicious documents.the rancor group’s attacks use two primary malware families which are naming ddkong and plaintee. ddkong is used throughout the campaign and plaintee appears to be new addition to these attackers’ toolkit.  countries unit 42 has identified as targeted by rancor with these malware families include, but are not limited to singapore and cambodia.\n",
      "rtm is a cybercriminal group that has been active since at least 2015 and is primarily interested in users of remote banking systems in russia and neighboring countries. the group uses a trojan by the same name (rtm).there are several groups actively and profitably targeting businesses in russia. a trend that we have seen unfold before our eyes lately is these cybercriminals’ use of simple backdoors to gain a foothold in their targets’ networks. once they have this access, a lot of the work is done manually, slowly getting to understand the network layout and deploying custom tools the criminals can use to steal funds from these entities. some of the groups that best exemplify these trends are buhtrap, cobalt and corkow.\n",
      "the group discussed in this white paper is part of this new trend. we call this new group rtm; it uses custom malware, written in delphi, that we cover in detail in later sections. the first trace of this tool in our telemetry data dates back to late 2015. the group also makes use of several different modules that they deploy where appropriate to their targets. they are interested in users of remote banking systems (rbs), mainly in russia and neighboring countries.\n",
      "scarlet mimic is a threat group that has targeted minority rights activists. this group has not been directly linked to a government source, but the group's motivations appear to overlap with those of the chinese government. while there is some overlap between ip addresses used by scarlet mimic and putter panda, it has not been concluded that the groups are the same.scarlet mimic is a threat group that has targeted minority rights activists. this group has not been directly linked to a government source, but the group’s motivations appear to overlap with those of the chinese government. while there is some overlap between ip addresses used by scarlet mimic and putter panda, apt 2, it has not been concluded that the groups are the same.\n",
      "the attacks began over four years ago and their targeting pattern suggests that this adversary’s primary mission is to gather information about minority rights activists. we do not have evidence directly linking these attacks to a government source, but the information derived from these activities supports an assessment that a group or groups with motivations similar to the stated position of the chinese government in relation to these targets is involved.\n",
      "the attacks we attribute to scarlet mimic have primarily targeted uyghur and tibetan activists as well as those who are interested in their causes. both the tibetan community and the uyghurs, a turkic muslim minority residing primarily in northwest china, have been targets of multiple sophisticated attacks in the past decade. both also have history of strained relationships with the government of the people’s republic of china (prc), though we do not have evidence that links scarlet mimic attacks to the prc.\n",
      "scarlet mimic attacks have also been identified against government organizations in russia and india, who are responsible for tracking activist and terrorist activities. while we do not know the precise target of each of the scarlet mimic attacks, many of them align to the patterns described above.\n",
      "silverterrier is a nigerian threat group that has been seen active since 2014. silverterrier mainly targets organizations in high technology, higher education, and manufacturing.as these tools rise and fall in popularity (and more importantly, as detection rates by antivirus vendors improve), silverterrier actors have consistently adopted new malware families and shifted to the latest packing tools available.\n",
      "sowbug is a threat group that has conducted targeted attacks against organizations in south america and southeast asia, particularly government entities, since at least 2015.sowbug has been conducting highly targeted cyber attacks against organizations in south america and southeast asia and appears to be heavily focused on foreign policy institutions and diplomatic targets. sowbug has been seen mounting classic espionage attacks by stealing documents from the organizations it infiltrates.\n",
      "stealth falcon is a threat group that has conducted targeted spyware attacks against emirati journalists, activists, and dissidents since at least 2012. circumstantial evidence suggests there could be a link between this group and the united arab emirates (uae) government, but that has not been confirmed.this threat actor targets civil society groups and emirati journalists, activists, and dissidents.\n",
      "stolen pencil is a threat group likely originating from dprk that has been active since at least may 2018. the group appears to have targeted academic institutions, but its motives remain unclear.asert has learned of an apt campaign, possibly originating from dprk, we are calling stolen pencil that is targeting academic institutions since at least may 2018.\n",
      "suckfly is a china-based threat group that has been active since at least 2014.suckfly is a china-based threat group that has been active since at least 2014\n",
      "ta505 is a financially motivated threat group that has been active since at least 2014. the group is known for frequently changing malware and driving global trends in criminal malware distribution.ta505, the name given by proofpoint, has been in the cybercrime business for at least four years. this is the group behind the infamous dridex banking trojan and locky ransomware, delivered through malicious email campaigns via necurs botnet. other malware associated with ta505 include philadelphia and globeimposter ransomware families.\n",
      "taidoor is a threat group that has operated since at least 2009 and has primarily targeted the taiwanese government.the taidoor attackers have been actively engaging in targeted attacks since at least march 4, 2009. despite some exceptions, the taidoor campaign often used taiwanese ip addresses as c&c servers and email addresses to send out socially engineered emails with malware as attachments. one of the primary targets of the taidoor campaign appeared to be the taiwanese government. the attackers spoofed taiwanese government email addresses to send out socially engineered emails in the chinese language that typically leveraged taiwan-themed issues. the attackers actively sent out malicious documents and maintained several ip addresses for command and control.\n",
      "as part of their social engineering ploy, the taidoor attackers attach a decoy document to their emails that, when opened, displays the contents of a legitimate document but executes a malicious payload in the background.\n",
      "we were only able to gather a limited amount of information regarding the taidoor attackers’ activities after they have compromised a target. we did, however, find that the taidoor malware allowed attackers to operate an interactive shell on compromised computers and to upload and download files. in order to determine the operational capabilities of the attackers behind the taidoor campaign, we monitored a compromised honeypot. the attackers issued out some basic commands in an attempt to map out the extent of the network compromise but quickly realized that the honeypot was not an intended targeted and so promptly disabled the taidoor malware running on it. this indicated that while taidoor malware were more widely distributed compared with those tied to other targeted campaigns, the attackers could quickly assess their targets and distinguish these from inadvertently compromised computers and honeypots.\n"
     ]
    },
    {
     "name": "stdout",
     "output_type": "stream",
     "text": [
      "temp.veles is a russia-based threat group that has targeted critical infrastructure. the group has been observed utilizing triton, a malware framework designed to manipulate industrial safety systems.temp.veles is a russia-based threat group that has targeted critical infrastructure. the group has been observed utilizing triton, a malware framework designed to manipulate industrial safety systems.\n",
      "threat group-3390 is a chinese threat group that has extensively used strategic web compromises to target victims. the group has been active since at least 2010 and has targeted organizations in the aerospace, government, defense, technology, energy, and manufacturing sectors.chinese threat group that has extensively used strategic web compromises to target victims.\n",
      "thrip is an espionage group that has targeted satellite communications, telecoms, and defense contractor companies in the u.s. and southeast asia. the group uses custom malware as well as \"living off the land\" techniques.this threat actor targets organizations in the satellite communications, telecommunications, geospatial-imaging, and defense sectors in the united states and southeast asia for espionage purposes.\n",
      "tropic trooper is an unaffiliated threat group that has led targeted campaigns against targets in taiwan, the philippines, and hong kong. tropic trooper focuses on targeting government, healthcare, transportation, and high-tech industries and has been active since 2011.trendmicro described tropic trooper in a 2015 report as: 'taiwan and the philippines have become the targets of an ongoing campaign called operation tropictrooper. active since 2012, the attackers behind the campaign haveset their sights on the taiwanese government as well as a number of companies in the heavy industry. the same campaign has also targeted key philippine military agencies.'\n"
     ]
    }
   ],
   "source": [
    "result = modify(df_con)"
   ]
  },
  {
   "cell_type": "code",
   "execution_count": 15,
   "metadata": {},
   "outputs": [
    {
     "data": {
      "text/plain": [
       "[\"axiom is a cyber espionage group suspected to be associated with the chinese government. it is responsible for the operation smn campaign. though both this group and winnti group use the malware winnti, the two groups appear to be distinct based on differences in reporting on the groups' ttps and targeting.the winnti grouping of activity is large and may actually be a number of linked groups rather than a single discrete entity. kaspersky describe winnti as: 'the winnti group has been attacking companies in the online video game industry since 2009 and is currently still active. the groups objectives are stealing digital certificates signed by legitimate software vendors in addition to intellectual property theft, including the source code of online game projects. the majority of the victims are from south east asia.'\"]"
      ]
     },
     "execution_count": 15,
     "metadata": {},
     "output_type": "execute_result"
    }
   ],
   "source": [
    "list(result['Description'][result['Name'] == 'axiom'])"
   ]
  },
  {
   "cell_type": "code",
   "execution_count": 17,
   "metadata": {},
   "outputs": [],
   "source": [
    "result.to_csv('consildated.csv',index=False)"
   ]
  },
  {
   "cell_type": "code",
   "execution_count": 26,
   "metadata": {},
   "outputs": [
    {
     "data": {
      "text/plain": [
       "55"
      ]
     },
     "execution_count": 26,
     "metadata": {},
     "output_type": "execute_result"
    }
   ],
   "source": [
    "result['Description'].isna().sum()  "
   ]
  },
  {
   "cell_type": "code",
   "execution_count": null,
   "metadata": {},
   "outputs": [],
   "source": []
  }
 ],
 "metadata": {
  "kernelspec": {
   "display_name": "Python 3",
   "language": "python",
   "name": "python3"
  },
  "language_info": {
   "codemirror_mode": {
    "name": "ipython",
    "version": 3
   },
   "file_extension": ".py",
   "mimetype": "text/x-python",
   "name": "python",
   "nbconvert_exporter": "python",
   "pygments_lexer": "ipython3",
   "version": "3.7.4"
  }
 },
 "nbformat": 4,
 "nbformat_minor": 2
}
