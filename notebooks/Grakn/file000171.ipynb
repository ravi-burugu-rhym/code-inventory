{
 "cells": [
  {
   "cell_type": "code",
   "execution_count": 1,
   "metadata": {},
   "outputs": [],
   "source": [
    "import pandas as pd\n",
    "import uuid\n",
    "from datetime import datetime\n",
    "import numpy as np\n",
    "from grakn.client import GraknClient\n",
    "from tqdm import tqdm\n",
    "tqdm.pandas()"
   ]
  },
  {
   "cell_type": "code",
   "execution_count": 2,
   "metadata": {},
   "outputs": [],
   "source": [
    "df=pd.read_excel(r\"C:\\Users\\SRIKANTH\\Desktop\\OpenCTI_Data.xlsx\",sheet_name='intrusion-set')"
   ]
  },
  {
   "cell_type": "code",
   "execution_count": 3,
   "metadata": {},
   "outputs": [
    {
     "data": {
      "text/plain": [
       "Index(['internal_id_key', 'stix_id_key', 'stix_label', 'entity_type',\n",
       "       'created', 'modified', 'revoked', 'object_status', 'created_at',\n",
       "       'created_at_day', 'created_at_month', 'created_at_year', 'updated_at',\n",
       "       'name', 'description', 'alias', 'graph_data', 'first_seen',\n",
       "       'first_seen_day', 'first_seen_month', 'first_seen_year', 'last_seen',\n",
       "       'last_seen_day', 'last_seen_month', 'last_seen_year', 'goal',\n",
       "       'sophistication', 'resource_level', 'primary_motivation',\n",
       "       'secondary_motivation', 'type', 'id', 'labels', 'external_references',\n",
       "       'object_marking_refs', 'granular_markings'],\n",
       "      dtype='object')"
      ]
     },
     "execution_count": 3,
     "metadata": {},
     "output_type": "execute_result"
    }
   ],
   "source": [
    "df.keys()"
   ]
  },
  {
   "cell_type": "code",
   "execution_count": 4,
   "metadata": {},
   "outputs": [],
   "source": [
    "def  insert_general_info(df,ent_type,create):\n",
    "    if create:\n",
    "        for index,i in df.iterrows():\n",
    "            df.internal_id_key[index]=str(uuid.uuid4())\n",
    "            df.stix_id_key[index]=ent_type+'--'+str(uuid.uuid4())\n",
    "            df.stix_label[index]='NA'\n",
    "            df.entity_type[index]=ent_type\n",
    "            df.created=(datetime.now()).strftime(\"%Y-%m-%dT%H:%M:%S\")\n",
    "            df.created_at=(datetime.now()).strftime(\"%Y-%m-%dT%H:%M:%S\")\n",
    "            df.created_at_day=(datetime.now()).strftime(\"%Y-%m-%d\")\n",
    "            df.created_at_month=(datetime.now()).strftime(\"%Y-%m\")\n",
    "            df.created_at_year=(datetime.now()).strftime(\"%Y\")\n",
    "            df.modified=(datetime.now()).strftime(\"%Y-%m-%dT%H:%M:%S\")\n",
    "            df.updated_at=(datetime.now()).strftime(\"%Y-%m-%dT%H:%M:%S\")\n",
    "            df.revoked=False\n",
    "            df.object_status='NA'\n",
    "    else:\n",
    "            df.modified=(datetime.now()).strftime(\"%Y-%m-%dT%H:%M:%S\")\n",
    "            df.updated_at=(datetime.now()).strftime(\"%Y-%m-%dT%H:%M:%S\")\n",
    "    return df\n",
    "    "
   ]
  },
  {
   "cell_type": "code",
   "execution_count": 5,
   "metadata": {},
   "outputs": [
    {
     "name": "stderr",
     "output_type": "stream",
     "text": [
      "C:\\ProgramData\\Anaconda3\\lib\\site-packages\\ipykernel_launcher.py:4: SettingWithCopyWarning: \n",
      "A value is trying to be set on a copy of a slice from a DataFrame\n",
      "\n",
      "See the caveats in the documentation: http://pandas.pydata.org/pandas-docs/stable/indexing.html#indexing-view-versus-copy\n",
      "  after removing the cwd from sys.path.\n",
      "C:\\Users\\SRIKANTH\\AppData\\Roaming\\Python\\Python37\\site-packages\\pandas\\core\\indexing.py:190: SettingWithCopyWarning: \n",
      "A value is trying to be set on a copy of a slice from a DataFrame\n",
      "\n",
      "See the caveats in the documentation: http://pandas.pydata.org/pandas-docs/stable/indexing.html#indexing-view-versus-copy\n",
      "  self._setitem_with_indexer(indexer, value)\n",
      "C:\\ProgramData\\Anaconda3\\lib\\site-packages\\ipykernel_launcher.py:5: SettingWithCopyWarning: \n",
      "A value is trying to be set on a copy of a slice from a DataFrame\n",
      "\n",
      "See the caveats in the documentation: http://pandas.pydata.org/pandas-docs/stable/indexing.html#indexing-view-versus-copy\n",
      "  \"\"\"\n",
      "C:\\ProgramData\\Anaconda3\\lib\\site-packages\\ipykernel_launcher.py:6: SettingWithCopyWarning: \n",
      "A value is trying to be set on a copy of a slice from a DataFrame\n",
      "\n",
      "See the caveats in the documentation: http://pandas.pydata.org/pandas-docs/stable/indexing.html#indexing-view-versus-copy\n",
      "  \n",
      "C:\\ProgramData\\Anaconda3\\lib\\site-packages\\ipykernel_launcher.py:7: SettingWithCopyWarning: \n",
      "A value is trying to be set on a copy of a slice from a DataFrame\n",
      "\n",
      "See the caveats in the documentation: http://pandas.pydata.org/pandas-docs/stable/indexing.html#indexing-view-versus-copy\n",
      "  import sys\n"
     ]
    }
   ],
   "source": [
    "result=insert_general_info(df=df,ent_type='Intrusion-set',create=True)\n",
    "result.fillna('NA',inplace=True)"
   ]
  },
  {
   "cell_type": "code",
   "execution_count": 28,
   "metadata": {},
   "outputs": [
    {
     "ename": "SyntaxError",
     "evalue": "EOL while scanning string literal (<ipython-input-28-751010f558f1>, line 99)",
     "output_type": "error",
     "traceback": [
      "\u001b[1;36m  File \u001b[1;32m\"<ipython-input-28-751010f558f1>\"\u001b[1;36m, line \u001b[1;32m99\u001b[0m\n\u001b[1;33m    f\"has name \\\"{df['name']}_\" \"\u001b[0m\n\u001b[1;37m                                 ^\u001b[0m\n\u001b[1;31mSyntaxError\u001b[0m\u001b[1;31m:\u001b[0m EOL while scanning string literal\n"
     ]
    }
   ],
   "source": [
    "def insert_one_intrusion_set(df,session):\n",
    "    f_d=None\n",
    "    f_m=None\n",
    "    f_y=None\n",
    "    f=None\n",
    "    if df.first_seen != 'NA':\n",
    "        f=df.first_seen.strftime(\"%Y-%m-%dT%H:%M:%S\")\n",
    "        f_m=df.first_seen.strftime(\"%Y-%m\")\n",
    "        f_d=df.first_seen.strftime(\"%Y-%m-%d\")\n",
    "        f_y=df.first_seen.strftime(\"%Y\")\n",
    "    elif df.first_seen_month != 'NA':\n",
    "        f_m=df.first_seen_month\n",
    "    elif df.first_seen_day != 'NA':\n",
    "        f_d=df.first_seen_day\n",
    "    elif df.first_seen_year != 'NA':\n",
    "        f_y=df.first_seen_year        \n",
    "        \n",
    "    if df.last_seen != 'NA':\n",
    "        l=df.last_seen.strftime(\"%Y-%m-%dT%H:%M:%S\")\n",
    "        l_m=df.last_seen.strftime(\"%Y-%m\")\n",
    "        l_d=df.last_seen.strftime(\"%Y-%m-%d\")\n",
    "        l_y=df.last_seen.strftime(\"%Y\")\n",
    "    elif df.last_seen_month != 'NA':\n",
    "        l_m=df.last_seen_month\n",
    "    elif df.last_seen_day != 'NA':\n",
    "        l_d=df.last_seen_day\n",
    "    elif df.last_seen_year != 'NA':\n",
    "        l_y=df.last_seen_year\n",
    "    else:\n",
    "        l_d=None\n",
    "        l_m=None\n",
    "        l_y=None\n",
    "        l=None\n",
    "               \n",
    "    aliases=df.alias.split('\\n')\n",
    "\n",
    "    graql_match_query = f\"match $i isa Intrusion-Set, \" \\\n",
    "                        f\"has name \\\"{df['name']}+'_'\\\"; \" \\\n",
    "                        f\"get;\"\n",
    "    # print(graql_match_query)\n",
    "    with session.transaction().read() as read_transaction:\n",
    "        # read_transaction.query(graql_match_query)\n",
    "        answer_iterator = None\n",
    "        answer_iterator = read_transaction.query(graql_match_query, infer=True)\n",
    "        data = answer_iterator.collect_concepts()\n",
    "        #print(data)     \n",
    "        if len(data) > 0:\n",
    "            # Update data.\n",
    "            # Columns to be updated: object_status, revoked, updated_at, modified, description, alias\n",
    "            # print(\"Update intrusion-set...\")\n",
    "            print(\"Update: \" + df['name'])\n",
    "            graql_attribute_delete_query = f\"match $i isa Intrusion-Set, \" \\\n",
    "                                           f\"has name \\\"{df['name']}+'_'\\\", \"\\\n",
    "                                           f\"has alias $a via $i1, \"\\\n",
    "                                           f\"has description $a via $i2; \"\\\n",
    "                                           f\"delete $i1, $i2;\"\n",
    "            update_flg = False\n",
    "            first_attr_flg = True\n",
    "            graql_attribute_update_query = f\"match $i isa Intrusion-Set, \" \\\n",
    "                                           f\"has name \\\"{df['name']}+'_'\\\"; insert $i\"\n",
    "            if df['description'] != 'NA':\n",
    "                # graql_attribute_delete_query += f\" has description $a via $i2; \"\\\n",
    "                graql_attribute_update_query += f\" has description \\\"{df['description']}\\\" \"\n",
    "                if first_attr_flg:\n",
    "                    graql_attribute_update_query += \",\"\n",
    "                update_flg = True\n",
    "                first_attr_flg = False\n",
    "            if len(aliases) > 0:\n",
    "                s = \"|\"\n",
    "                graql_attribute_update_query += f\" has alias \\\"{s.join(aliases)}\\\" \" \n",
    "                if first_attr_flg:\n",
    "                    graql_attribute_update_query += \",\"\n",
    "                update_flg = True\n",
    "                first_attr_flg = False\n",
    "            graql_attribute_update_query += \";\"\n",
    "            # print(graql_attribute_update_query)\n",
    "            if update_flg:\n",
    "                with session.transaction().write() as write_transaction:\n",
    "                    # make a write transection with the query\n",
    "                    write_transaction.query(graql_attribute_delete_query)\n",
    "                    write_transaction.query(graql_attribute_update_query)\n",
    "                    # remember to commit at the end\n",
    "                    write_transaction.commit()           \n",
    "        else:\n",
    "            # print(\"Insert intrusion-set...\")\n",
    "            print(\"Insert: \" + df['name']+'_')\n",
    "            graql_insert_query = f\"insert $x isa Intrusion-Set, \" \\\n",
    "                                 f\"has internal_id_key \\\"{df['internal_id_key']}\\\", \" \\\n",
    "                                 f\"has stix_id_key \\\"{df['stix_id_key']}\\\", \" \\\n",
    "                                 f\"has stix_label \\\"{df['stix_label']}\\\", \" \\\n",
    "                                 f\"has entity_type \\\"{df['entity_type']}\\\", \" \\\n",
    "                                 f\"has created {df['created']}, \" \\\n",
    "                                 f\"has revoked \\\"{df['revoked']}\\\", \"\\\n",
    "                                 f\"has created_at {df['created_at']}, \" \\\n",
    "                                 f\"has created_at_day \\\"{df['created_at_day']}\\\", \" \\\n",
    "                                 f\"has created_at_month \\\"{df['created_at_month']}\\\", \" \\\n",
    "                                 f\"has created_at_year \\\"{df['created_at_year']}\\\", \"\\\n",
    "                                 f\"has updated_at {df['updated_at']}, \"\\\n",
    "                                 f\"has name \\\"{df['name']}_\" \"\n",
    "                                 \n",
    "            if df['description'] != 'NA':\n",
    "                graql_insert_query += f\", has description \\\"{df['description']}\\\" \"\n",
    "            if len(aliases) > 0:\n",
    "                s = \"|\"\n",
    "                graql_insert_query += f\", has alias \\\"{s.join(aliases)}\\\" \"\n",
    "           \n",
    "            if f is not None:\n",
    "                graql_insert_query += f\", has first_seen {f} \"\n",
    "            if f_d is not None:\n",
    "                graql_insert_query += f\", has first_seen_day \\\"{f_d}\\\" \"\n",
    "            if f_m is not None:\n",
    "                graql_insert_query += f\", has first_seen_month \\\"{f_m}\\\" \"\n",
    "            if f_y is not None:\n",
    "                graql_insert_query += f\", has first_seen_year \\\"{f_y}\\\"\"\n",
    "            if l is not None:\n",
    "                graql_insert_query += f\", has last_seen {l} \"\n",
    "            if l_d is not None:\n",
    "                graql_insert_query += f\", has last_seen_day \\\"{l_d}\\\" \"\n",
    "            if l_m is not None:\n",
    "                graql_insert_query += f\", has last_seen_month \\\"{l_m}\\\" \"\n",
    "            if l_y is not None:\n",
    "                graql_insert_query += f\", has last_seen_year \\\"{l_y}\\\"\"\n",
    "            if df['goal'] != 'NA':   \n",
    "                graql_insert_query += f\", has goal \\\"{df['goal']}\\\" \"\n",
    "            if df['sophistication'] != 'NA':   \n",
    "                graql_insert_query += f\", has sophistication \\\"{df['sophistication']}\\\" \"\n",
    "            if df['resource_level'] != 'NA':   \n",
    "                graql_insert_query += f\", has resource_level \\\"{df['resource_level']}\\\" \"\n",
    "            if df['primary_motivation'] != 'NA':   \n",
    "                graql_insert_query += f\", has primary_motivation \\\"{df['primary_motivation']}\\\" \"\n",
    "            if df['secondary_motivation'] != 'NA':   \n",
    "                graql_insert_query += f\", has primary_motivation \\\"{df['secondary_motivation']}\\\" \"\n",
    "           \n",
    "            graql_insert_query += \";\"\n",
    "            # print(graql_insert_query)\n",
    "            with session.transaction().write() as write_transaction:\n",
    "                # make a write transection with the query\n",
    "                write_transaction.query(graql_insert_query)\n",
    "                # remember to commit at the end\n",
    "                write_transaction.commit()"
   ]
  },
  {
   "cell_type": "code",
   "execution_count": 23,
   "metadata": {
    "scrolled": true
   },
   "outputs": [],
   "source": [
    "def load_data_into_grakn(session,input_df):\n",
    "    print(\"Inserting intrusion-set...\")\n",
    "    # using progress_apply instead of apply so we have a progress bar form tqdm\n",
    "    # input_df.progress_apply(insert_one_intrusion_set, axis=1, session=session)\n",
    "    print(\"Loading intrusion-set...\")\n",
    "    for index,row in input_df.iterrows():\n",
    "        insert_one_intrusion_set(df=row,session=session)"
   ]
  },
  {
   "cell_type": "code",
   "execution_count": 24,
   "metadata": {},
   "outputs": [],
   "source": [
    "def build_grakn_graph(input_df, keyspace_name):\n",
    "    with GraknClient(uri=\"192.168.83.128:48555\") as client:\n",
    "        with client.session(keyspace = keyspace_name) as session:\n",
    "            load_data_into_grakn(session,input_df)"
   ]
  },
  {
   "cell_type": "code",
   "execution_count": 25,
   "metadata": {
    "scrolled": true
   },
   "outputs": [
    {
     "name": "stdout",
     "output_type": "stream",
     "text": [
      "Inserting intrusion-set...\n",
      "Loading intrusion-set...\n",
      "Insert: APT12x_\n"
     ]
    },
    {
     "ename": "GraknError",
     "evalue": "Server/network error: <_Rendezvous of RPC that terminated with:\n\tstatus = StatusCode.INVALID_ARGUMENT\n\tdetails = \"InvalidKBException-A structural validation error has occurred. Please correct the [`1`] errors found. \nThere is more than one thing of type [Stix-Domain] that owns the key [Intrusion-set--7619ead1-8785-471a-89e0-2dd4f9bfc33a] of type [stix_id_key]. \n. Please check server logs for the stack trace.\"\n\tdebug_error_string = \"{\"created\":\"@1578288736.737000000\",\"description\":\"Error received from peer\",\"file\":\"src/core/lib/surface/call.cc\",\"file_line\":1017,\"grpc_message\":\"InvalidKBException-A structural validation error has occurred. Please correct the [`1`] errors found. \\nThere is more than one thing of type [Stix-Domain] that owns the key [Intrusion-set--7619ead1-8785-471a-89e0-2dd4f9bfc33a] of type [stix_id_key]. \\n. Please check server logs for the stack trace.\",\"grpc_status\":3}\"\n>\n\n generated from request: commit_req {\n}\n",
     "output_type": "error",
     "traceback": [
      "\u001b[1;31m---------------------------------------------------------------------------\u001b[0m",
      "\u001b[1;31m_Rendezvous\u001b[0m                               Traceback (most recent call last)",
      "\u001b[1;32mC:\\ProgramData\\Anaconda3\\lib\\site-packages\\grakn\\service\\Session\\TransactionService.py\u001b[0m in \u001b[0;36msend\u001b[1;34m(self, request)\u001b[0m\n\u001b[0;32m    155\u001b[0m             \u001b[0mself\u001b[0m\u001b[1;33m.\u001b[0m\u001b[0m_add_request\u001b[0m\u001b[1;33m(\u001b[0m\u001b[0mrequest\u001b[0m\u001b[1;33m)\u001b[0m\u001b[1;33m\u001b[0m\u001b[1;33m\u001b[0m\u001b[0m\n\u001b[1;32m--> 156\u001b[1;33m             \u001b[0mresponse\u001b[0m \u001b[1;33m=\u001b[0m \u001b[0mnext\u001b[0m\u001b[1;33m(\u001b[0m\u001b[0mself\u001b[0m\u001b[1;33m.\u001b[0m\u001b[0m_response_iterator\u001b[0m\u001b[1;33m)\u001b[0m\u001b[1;33m\u001b[0m\u001b[1;33m\u001b[0m\u001b[0m\n\u001b[0m\u001b[0;32m    157\u001b[0m         \u001b[1;32mexcept\u001b[0m \u001b[0mException\u001b[0m \u001b[1;32mas\u001b[0m \u001b[0me\u001b[0m\u001b[1;33m:\u001b[0m \u001b[1;31m# specialize into different gRPC exceptions?\u001b[0m\u001b[1;33m\u001b[0m\u001b[1;33m\u001b[0m\u001b[0m\n",
      "\u001b[1;32m~\\AppData\\Roaming\\Python\\Python37\\site-packages\\grpc\\_channel.py\u001b[0m in \u001b[0;36m__next__\u001b[1;34m(self)\u001b[0m\n\u001b[0;32m    363\u001b[0m     \u001b[1;32mdef\u001b[0m \u001b[0m__next__\u001b[0m\u001b[1;33m(\u001b[0m\u001b[0mself\u001b[0m\u001b[1;33m)\u001b[0m\u001b[1;33m:\u001b[0m\u001b[1;33m\u001b[0m\u001b[1;33m\u001b[0m\u001b[0m\n\u001b[1;32m--> 364\u001b[1;33m         \u001b[1;32mreturn\u001b[0m \u001b[0mself\u001b[0m\u001b[1;33m.\u001b[0m\u001b[0m_next\u001b[0m\u001b[1;33m(\u001b[0m\u001b[1;33m)\u001b[0m\u001b[1;33m\u001b[0m\u001b[1;33m\u001b[0m\u001b[0m\n\u001b[0m\u001b[0;32m    365\u001b[0m \u001b[1;33m\u001b[0m\u001b[0m\n",
      "\u001b[1;32m~\\AppData\\Roaming\\Python\\Python37\\site-packages\\grpc\\_channel.py\u001b[0m in \u001b[0;36m_next\u001b[1;34m(self)\u001b[0m\n\u001b[0;32m    357\u001b[0m                     \u001b[1;32melif\u001b[0m \u001b[0mself\u001b[0m\u001b[1;33m.\u001b[0m\u001b[0m_state\u001b[0m\u001b[1;33m.\u001b[0m\u001b[0mcode\u001b[0m \u001b[1;32mis\u001b[0m \u001b[1;32mnot\u001b[0m \u001b[1;32mNone\u001b[0m\u001b[1;33m:\u001b[0m\u001b[1;33m\u001b[0m\u001b[1;33m\u001b[0m\u001b[0m\n\u001b[1;32m--> 358\u001b[1;33m                         \u001b[1;32mraise\u001b[0m \u001b[0mself\u001b[0m\u001b[1;33m\u001b[0m\u001b[1;33m\u001b[0m\u001b[0m\n\u001b[0m\u001b[0;32m    359\u001b[0m \u001b[1;33m\u001b[0m\u001b[0m\n",
      "\u001b[1;31m_Rendezvous\u001b[0m: <_Rendezvous of RPC that terminated with:\n\tstatus = StatusCode.INVALID_ARGUMENT\n\tdetails = \"InvalidKBException-A structural validation error has occurred. Please correct the [`1`] errors found. \nThere is more than one thing of type [Stix-Domain] that owns the key [Intrusion-set--7619ead1-8785-471a-89e0-2dd4f9bfc33a] of type [stix_id_key]. \n. Please check server logs for the stack trace.\"\n\tdebug_error_string = \"{\"created\":\"@1578288736.737000000\",\"description\":\"Error received from peer\",\"file\":\"src/core/lib/surface/call.cc\",\"file_line\":1017,\"grpc_message\":\"InvalidKBException-A structural validation error has occurred. Please correct the [`1`] errors found. \\nThere is more than one thing of type [Stix-Domain] that owns the key [Intrusion-set--7619ead1-8785-471a-89e0-2dd4f9bfc33a] of type [stix_id_key]. \\n. Please check server logs for the stack trace.\",\"grpc_status\":3}\"\n>",
      "\nDuring handling of the above exception, another exception occurred:\n",
      "\u001b[1;31mGraknError\u001b[0m                                Traceback (most recent call last)",
      "\u001b[1;32m<ipython-input-25-5e7a2e31729c>\u001b[0m in \u001b[0;36m<module>\u001b[1;34m\u001b[0m\n\u001b[1;32m----> 1\u001b[1;33m \u001b[0mbuild_grakn_graph\u001b[0m\u001b[1;33m(\u001b[0m\u001b[0minput_df\u001b[0m\u001b[1;33m=\u001b[0m\u001b[0mresult\u001b[0m\u001b[1;33m,\u001b[0m\u001b[0mkeyspace_name\u001b[0m\u001b[1;33m=\u001b[0m\u001b[1;34m'grakn'\u001b[0m\u001b[1;33m)\u001b[0m\u001b[1;33m\u001b[0m\u001b[1;33m\u001b[0m\u001b[0m\n\u001b[0m",
      "\u001b[1;32m<ipython-input-24-f8a11a8230ca>\u001b[0m in \u001b[0;36mbuild_grakn_graph\u001b[1;34m(input_df, keyspace_name)\u001b[0m\n\u001b[0;32m      2\u001b[0m     \u001b[1;32mwith\u001b[0m \u001b[0mGraknClient\u001b[0m\u001b[1;33m(\u001b[0m\u001b[0muri\u001b[0m\u001b[1;33m=\u001b[0m\u001b[1;34m\"192.168.83.128:48555\"\u001b[0m\u001b[1;33m)\u001b[0m \u001b[1;32mas\u001b[0m \u001b[0mclient\u001b[0m\u001b[1;33m:\u001b[0m\u001b[1;33m\u001b[0m\u001b[1;33m\u001b[0m\u001b[0m\n\u001b[0;32m      3\u001b[0m         \u001b[1;32mwith\u001b[0m \u001b[0mclient\u001b[0m\u001b[1;33m.\u001b[0m\u001b[0msession\u001b[0m\u001b[1;33m(\u001b[0m\u001b[0mkeyspace\u001b[0m \u001b[1;33m=\u001b[0m \u001b[0mkeyspace_name\u001b[0m\u001b[1;33m)\u001b[0m \u001b[1;32mas\u001b[0m \u001b[0msession\u001b[0m\u001b[1;33m:\u001b[0m\u001b[1;33m\u001b[0m\u001b[1;33m\u001b[0m\u001b[0m\n\u001b[1;32m----> 4\u001b[1;33m             \u001b[0mload_data_into_grakn\u001b[0m\u001b[1;33m(\u001b[0m\u001b[0msession\u001b[0m\u001b[1;33m,\u001b[0m\u001b[0minput_df\u001b[0m\u001b[1;33m)\u001b[0m\u001b[1;33m\u001b[0m\u001b[1;33m\u001b[0m\u001b[0m\n\u001b[0m",
      "\u001b[1;32m<ipython-input-23-b99645f2b4cf>\u001b[0m in \u001b[0;36mload_data_into_grakn\u001b[1;34m(session, input_df)\u001b[0m\n\u001b[0;32m      5\u001b[0m     \u001b[0mprint\u001b[0m\u001b[1;33m(\u001b[0m\u001b[1;34m\"Loading intrusion-set...\"\u001b[0m\u001b[1;33m)\u001b[0m\u001b[1;33m\u001b[0m\u001b[1;33m\u001b[0m\u001b[0m\n\u001b[0;32m      6\u001b[0m     \u001b[1;32mfor\u001b[0m \u001b[0mindex\u001b[0m\u001b[1;33m,\u001b[0m\u001b[0mrow\u001b[0m \u001b[1;32min\u001b[0m \u001b[0minput_df\u001b[0m\u001b[1;33m.\u001b[0m\u001b[0miterrows\u001b[0m\u001b[1;33m(\u001b[0m\u001b[1;33m)\u001b[0m\u001b[1;33m:\u001b[0m\u001b[1;33m\u001b[0m\u001b[1;33m\u001b[0m\u001b[0m\n\u001b[1;32m----> 7\u001b[1;33m         \u001b[0minsert_one_intrusion_set\u001b[0m\u001b[1;33m(\u001b[0m\u001b[0mdf\u001b[0m\u001b[1;33m=\u001b[0m\u001b[0mrow\u001b[0m\u001b[1;33m,\u001b[0m\u001b[0msession\u001b[0m\u001b[1;33m=\u001b[0m\u001b[0msession\u001b[0m\u001b[1;33m)\u001b[0m\u001b[1;33m\u001b[0m\u001b[1;33m\u001b[0m\u001b[0m\n\u001b[0m",
      "\u001b[1;32m<ipython-input-22-8ae9d97d7ed4>\u001b[0m in \u001b[0;36minsert_one_intrusion_set\u001b[1;34m(df, session)\u001b[0m\n\u001b[0;32m    138\u001b[0m                 \u001b[0mwrite_transaction\u001b[0m\u001b[1;33m.\u001b[0m\u001b[0mquery\u001b[0m\u001b[1;33m(\u001b[0m\u001b[0mgraql_insert_query\u001b[0m\u001b[1;33m)\u001b[0m\u001b[1;33m\u001b[0m\u001b[1;33m\u001b[0m\u001b[0m\n\u001b[0;32m    139\u001b[0m                 \u001b[1;31m# remember to commit at the end\u001b[0m\u001b[1;33m\u001b[0m\u001b[1;33m\u001b[0m\u001b[1;33m\u001b[0m\u001b[0m\n\u001b[1;32m--> 140\u001b[1;33m                 \u001b[0mwrite_transaction\u001b[0m\u001b[1;33m.\u001b[0m\u001b[0mcommit\u001b[0m\u001b[1;33m(\u001b[0m\u001b[1;33m)\u001b[0m\u001b[1;33m\u001b[0m\u001b[1;33m\u001b[0m\u001b[0m\n\u001b[0m",
      "\u001b[1;32mC:\\ProgramData\\Anaconda3\\lib\\site-packages\\grakn\\client.py\u001b[0m in \u001b[0;36mcommit\u001b[1;34m(self)\u001b[0m\n\u001b[0;32m    134\u001b[0m     \u001b[1;32mdef\u001b[0m \u001b[0mcommit\u001b[0m\u001b[1;33m(\u001b[0m\u001b[0mself\u001b[0m\u001b[1;33m)\u001b[0m\u001b[1;33m:\u001b[0m\u001b[1;33m\u001b[0m\u001b[1;33m\u001b[0m\u001b[0m\n\u001b[0;32m    135\u001b[0m         \u001b[1;34m\"\"\" Commit and close this transaction, persisting changes to Grakn \"\"\"\u001b[0m\u001b[1;33m\u001b[0m\u001b[1;33m\u001b[0m\u001b[0m\n\u001b[1;32m--> 136\u001b[1;33m         \u001b[0mself\u001b[0m\u001b[1;33m.\u001b[0m\u001b[0m_tx_service\u001b[0m\u001b[1;33m.\u001b[0m\u001b[0mcommit\u001b[0m\u001b[1;33m(\u001b[0m\u001b[1;33m)\u001b[0m\u001b[1;33m\u001b[0m\u001b[1;33m\u001b[0m\u001b[0m\n\u001b[0m\u001b[0;32m    137\u001b[0m         \u001b[0mself\u001b[0m\u001b[1;33m.\u001b[0m\u001b[0mclose\u001b[0m\u001b[1;33m(\u001b[0m\u001b[1;33m)\u001b[0m\u001b[1;33m\u001b[0m\u001b[1;33m\u001b[0m\u001b[0m\n\u001b[0;32m    138\u001b[0m \u001b[1;33m\u001b[0m\u001b[0m\n",
      "\u001b[1;32mC:\\ProgramData\\Anaconda3\\lib\\site-packages\\grakn\\service\\Session\\TransactionService.py\u001b[0m in \u001b[0;36mcommit\u001b[1;34m(self)\u001b[0m\n\u001b[0;32m     54\u001b[0m     \u001b[1;32mdef\u001b[0m \u001b[0mcommit\u001b[0m\u001b[1;33m(\u001b[0m\u001b[0mself\u001b[0m\u001b[1;33m)\u001b[0m\u001b[1;33m:\u001b[0m\u001b[1;33m\u001b[0m\u001b[1;33m\u001b[0m\u001b[0m\n\u001b[0;32m     55\u001b[0m         \u001b[0mrequest\u001b[0m \u001b[1;33m=\u001b[0m \u001b[0mRequestBuilder\u001b[0m\u001b[1;33m.\u001b[0m\u001b[0mcommit\u001b[0m\u001b[1;33m(\u001b[0m\u001b[1;33m)\u001b[0m\u001b[1;33m\u001b[0m\u001b[1;33m\u001b[0m\u001b[0m\n\u001b[1;32m---> 56\u001b[1;33m         \u001b[0mself\u001b[0m\u001b[1;33m.\u001b[0m\u001b[0m_communicator\u001b[0m\u001b[1;33m.\u001b[0m\u001b[0msend\u001b[0m\u001b[1;33m(\u001b[0m\u001b[0mrequest\u001b[0m\u001b[1;33m)\u001b[0m\u001b[1;33m\u001b[0m\u001b[1;33m\u001b[0m\u001b[0m\n\u001b[0m\u001b[0;32m     57\u001b[0m \u001b[1;33m\u001b[0m\u001b[0m\n\u001b[0;32m     58\u001b[0m     \u001b[1;32mdef\u001b[0m \u001b[0mclose\u001b[0m\u001b[1;33m(\u001b[0m\u001b[0mself\u001b[0m\u001b[1;33m)\u001b[0m\u001b[1;33m:\u001b[0m\u001b[1;33m\u001b[0m\u001b[1;33m\u001b[0m\u001b[0m\n",
      "\u001b[1;32mC:\\ProgramData\\Anaconda3\\lib\\site-packages\\grakn\\service\\Session\\TransactionService.py\u001b[0m in \u001b[0;36msend\u001b[1;34m(self, request)\u001b[0m\n\u001b[0;32m    158\u001b[0m             \u001b[1;31m# invalidate this communicator, functionally this occurs automatically on exception (iterator not usable anymore)\u001b[0m\u001b[1;33m\u001b[0m\u001b[1;33m\u001b[0m\u001b[1;33m\u001b[0m\u001b[0m\n\u001b[0;32m    159\u001b[0m             \u001b[0mself\u001b[0m\u001b[1;33m.\u001b[0m\u001b[0m_closed\u001b[0m \u001b[1;33m=\u001b[0m \u001b[1;32mTrue\u001b[0m\u001b[1;33m\u001b[0m\u001b[1;33m\u001b[0m\u001b[0m\n\u001b[1;32m--> 160\u001b[1;33m             \u001b[1;32mraise\u001b[0m \u001b[0mGraknError\u001b[0m\u001b[1;33m(\u001b[0m\u001b[1;34m\"Server/network error: {0}\\n\\n generated from request: {1}\"\u001b[0m\u001b[1;33m.\u001b[0m\u001b[0mformat\u001b[0m\u001b[1;33m(\u001b[0m\u001b[0me\u001b[0m\u001b[1;33m,\u001b[0m \u001b[0mrequest\u001b[0m\u001b[1;33m)\u001b[0m\u001b[1;33m)\u001b[0m\u001b[1;33m\u001b[0m\u001b[1;33m\u001b[0m\u001b[0m\n\u001b[0m\u001b[0;32m    161\u001b[0m \u001b[1;33m\u001b[0m\u001b[0m\n\u001b[0;32m    162\u001b[0m         \u001b[1;32mif\u001b[0m \u001b[0mresponse\u001b[0m \u001b[1;32mis\u001b[0m \u001b[1;32mNone\u001b[0m\u001b[1;33m:\u001b[0m\u001b[1;33m\u001b[0m\u001b[1;33m\u001b[0m\u001b[0m\n",
      "\u001b[1;31mGraknError\u001b[0m: Server/network error: <_Rendezvous of RPC that terminated with:\n\tstatus = StatusCode.INVALID_ARGUMENT\n\tdetails = \"InvalidKBException-A structural validation error has occurred. Please correct the [`1`] errors found. \nThere is more than one thing of type [Stix-Domain] that owns the key [Intrusion-set--7619ead1-8785-471a-89e0-2dd4f9bfc33a] of type [stix_id_key]. \n. Please check server logs for the stack trace.\"\n\tdebug_error_string = \"{\"created\":\"@1578288736.737000000\",\"description\":\"Error received from peer\",\"file\":\"src/core/lib/surface/call.cc\",\"file_line\":1017,\"grpc_message\":\"InvalidKBException-A structural validation error has occurred. Please correct the [`1`] errors found. \\nThere is more than one thing of type [Stix-Domain] that owns the key [Intrusion-set--7619ead1-8785-471a-89e0-2dd4f9bfc33a] of type [stix_id_key]. \\n. Please check server logs for the stack trace.\",\"grpc_status\":3}\"\n>\n\n generated from request: commit_req {\n}\n"
     ]
    }
   ],
   "source": [
    "build_grakn_graph(input_df=result,keyspace_name='grakn')"
   ]
  },
  {
   "cell_type": "code",
   "execution_count": 10,
   "metadata": {},
   "outputs": [
    {
     "data": {
      "text/plain": [
       "0    NA\n",
       "1    NA\n",
       "2    NA\n",
       "3    NA\n",
       "4    NA\n",
       "Name: last_seen, dtype: object"
      ]
     },
     "execution_count": 10,
     "metadata": {},
     "output_type": "execute_result"
    }
   ],
   "source": [
    "result['last_seen']"
   ]
  },
  {
   "cell_type": "code",
   "execution_count": null,
   "metadata": {},
   "outputs": [],
   "source": []
  },
  {
   "cell_type": "code",
   "execution_count": null,
   "metadata": {},
   "outputs": [],
   "source": []
  }
 ],
 "metadata": {
  "kernelspec": {
   "display_name": "Python 3",
   "language": "python",
   "name": "python3"
  },
  "language_info": {
   "codemirror_mode": {
    "name": "ipython",
    "version": 3
   },
   "file_extension": ".py",
   "mimetype": "text/x-python",
   "name": "python",
   "nbconvert_exporter": "python",
   "pygments_lexer": "ipython3",
   "version": "3.7.4"
  }
 },
 "nbformat": 4,
 "nbformat_minor": 2
}
