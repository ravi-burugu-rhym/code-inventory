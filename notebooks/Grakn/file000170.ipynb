{
 "cells": [
  {
   "cell_type": "code",
   "execution_count": 1,
   "metadata": {},
   "outputs": [],
   "source": [
    "import pandas as pd\n",
    "import uuid\n",
    "from datetime import datetime\n",
    "import numpy as np\n",
    "from grakn.client import GraknClient\n",
    "from tqdm import tqdm\n",
    "tqdm.pandas()"
   ]
  },
  {
   "cell_type": "code",
   "execution_count": 2,
   "metadata": {},
   "outputs": [],
   "source": [
    "df=pd.read_excel(r\"C:\\Users\\SRIKANTH\\Desktop\\OpenCTI_Data.xlsx\",sheet_name='intrusion-set')"
   ]
  },
  {
   "cell_type": "code",
   "execution_count": 3,
   "metadata": {},
   "outputs": [
    {
     "data": {
      "text/plain": [
       "Index(['internal_id_key', 'stix_id_key', 'stix_label', 'entity_type',\n",
       "       'created', 'modified', 'revoked', 'object_status', 'created_at',\n",
       "       'created_at_day', 'created_at_month', 'created_at_year', 'updated_at',\n",
       "       'name', 'description', 'alias', 'graph_data', 'first_seen',\n",
       "       'first_seen_day', 'first_seen_month', 'first_seen_year', 'last_seen',\n",
       "       'last_seen_day', 'last_seen_month', 'last_seen_year', 'goal',\n",
       "       'sophistication', 'resource_level', 'primary_motivation',\n",
       "       'secondary_motivation', 'type', 'id', 'labels', 'external_references',\n",
       "       'object_marking_refs', 'granular_markings'],\n",
       "      dtype='object')"
      ]
     },
     "execution_count": 3,
     "metadata": {},
     "output_type": "execute_result"
    }
   ],
   "source": [
    "df.keys()"
   ]
  },
  {
   "cell_type": "code",
   "execution_count": 4,
   "metadata": {},
   "outputs": [],
   "source": [
    "def  insert_general_info(df,ent_type,create):\n",
    "    if create:\n",
    "        for index,i in df.iterrows():\n",
    "            df.internal_id_key[index]=str(uuid.uuid4())\n",
    "            df.stix_id_key[index]=ent_type+'--'+str(uuid.uuid4())\n",
    "            df.stix_label[index]='NA'\n",
    "            df.entity_type[index]=ent_type\n",
    "            df.created=(datetime.now()).strftime(\"%Y-%m-%dT%H:%M:%S\")\n",
    "            df.created_at=(datetime.now()).strftime(\"%Y-%m-%dT%H:%M:%S\")\n",
    "            df.created_at_day=(datetime.now()).strftime(\"%Y-%m-%d\")\n",
    "            df.created_at_month=(datetime.now()).strftime(\"%Y-%m\")\n",
    "            df.created_at_year=(datetime.now()).strftime(\"%Y\")\n",
    "            df.modified=(datetime.now()).strftime(\"%Y-%m-%dT%H:%M:%S\")\n",
    "            df.updated_at=(datetime.now()).strftime(\"%Y-%m-%dT%H:%M:%S\")\n",
    "            df.revoked=False\n",
    "            df.object_status='NA'\n",
    "    else:\n",
    "            df.modified=(datetime.now()).strftime(\"%Y-%m-%dT%H:%M:%S\")\n",
    "            df.updated_at=(datetime.now()).strftime(\"%Y-%m-%dT%H:%M:%S\")\n",
    "    return df\n",
    "    "
   ]
  },
  {
   "cell_type": "code",
   "execution_count": 5,
   "metadata": {},
   "outputs": [
    {
     "name": "stderr",
     "output_type": "stream",
     "text": [
      "C:\\ProgramData\\Anaconda3\\lib\\site-packages\\ipykernel_launcher.py:4: SettingWithCopyWarning: \n",
      "A value is trying to be set on a copy of a slice from a DataFrame\n",
      "\n",
      "See the caveats in the documentation: http://pandas.pydata.org/pandas-docs/stable/indexing.html#indexing-view-versus-copy\n",
      "  after removing the cwd from sys.path.\n",
      "C:\\ProgramData\\Anaconda3\\lib\\site-packages\\ipykernel_launcher.py:5: SettingWithCopyWarning: \n",
      "A value is trying to be set on a copy of a slice from a DataFrame\n",
      "\n",
      "See the caveats in the documentation: http://pandas.pydata.org/pandas-docs/stable/indexing.html#indexing-view-versus-copy\n",
      "  \"\"\"\n",
      "C:\\ProgramData\\Anaconda3\\lib\\site-packages\\ipykernel_launcher.py:6: SettingWithCopyWarning: \n",
      "A value is trying to be set on a copy of a slice from a DataFrame\n",
      "\n",
      "See the caveats in the documentation: http://pandas.pydata.org/pandas-docs/stable/indexing.html#indexing-view-versus-copy\n",
      "  \n",
      "C:\\Users\\SRIKANTH\\AppData\\Roaming\\Python\\Python37\\site-packages\\pandas\\core\\indexing.py:190: SettingWithCopyWarning: \n",
      "A value is trying to be set on a copy of a slice from a DataFrame\n",
      "\n",
      "See the caveats in the documentation: http://pandas.pydata.org/pandas-docs/stable/indexing.html#indexing-view-versus-copy\n",
      "  self._setitem_with_indexer(indexer, value)\n",
      "C:\\ProgramData\\Anaconda3\\lib\\site-packages\\ipykernel_launcher.py:7: SettingWithCopyWarning: \n",
      "A value is trying to be set on a copy of a slice from a DataFrame\n",
      "\n",
      "See the caveats in the documentation: http://pandas.pydata.org/pandas-docs/stable/indexing.html#indexing-view-versus-copy\n",
      "  import sys\n"
     ]
    }
   ],
   "source": [
    "result=insert_general_info(df=df,ent_type='Intrusion-set',create=True)\n",
    "result.fillna('NA',inplace=True)"
   ]
  },
  {
   "cell_type": "code",
   "execution_count": 12,
   "metadata": {},
   "outputs": [],
   "source": [
    "def insert_one_intrusion_set(df,session):\n",
    "    if df.first_seen != 'NA':\n",
    "        f=df.first_seen.strftime(\"%Y-%m-%dT%H:%M:%S\")\n",
    "        f_m=df.first_seen.strftime(\"%Y-%m\")\n",
    "        f_d=df.first_seen.strftime(\"%Y-%m-%d\")\n",
    "    elif df.first_seen_month != 'NA':\n",
    "        f_m=df.first_seen_month\n",
    "    elif df.first_seen_day != 'NA':\n",
    "        f_d=df.first_seen_day\n",
    "    else:\n",
    "        f_d=None\n",
    "        f_m=None\n",
    "        f=None\n",
    "               \n",
    "    aliases=df.alias.split('\\n')\n",
    "\n",
    "    graql_match_query = f\"match $i isa Intrusion-Set, \" \\\n",
    "                        f\"has name \\\"{df['name']}_\\\"; \" \\\n",
    "                        f\"get;\"\n",
    "    # print(graql_match_query)\n",
    "    with session.transaction().read() as read_transaction:\n",
    "        # read_transaction.query(graql_match_query)\n",
    "        answer_iterator = None\n",
    "        answer_iterator = read_transaction.query(graql_match_query, infer=True)\n",
    "        data = answer_iterator.collect_concepts()\n",
    "                \n",
    "        if len(data) > 0:\n",
    "            # Update data.\n",
    "            # Columns to be updated: object_status, revoked, updated_at, modified, description, alias\n",
    "            # print(\"Update intrusion-set...\")\n",
    "            print(\"Update: \" + df['name'])\n",
    "            graql_attribute_delete_query = f\"match $i isa Intrusion-Set, \" \\\n",
    "                                           f\"has name \\\"{df['name']}_\\\", \"\\\n",
    "                                           f\"has alias $a via $i1, \"\\\n",
    "                                           f\"has description $a via $i2; \"\\\n",
    "                                           f\"delete $i1, $i2;\"\n",
    "            update_flg = False\n",
    "            first_attr_flg = True\n",
    "            graql_attribute_update_query = f\"match $i isa Intrusion-Set, \" \\\n",
    "                                           f\"has name \\\"{df['name']}_\\\"; insert $i\"\n",
    "            if df['description'] != 'NA':\n",
    "                # graql_attribute_delete_query += f\" has description $a via $i2; \"\\\n",
    "                graql_attribute_update_query += f\" has description \\\"{df['description']}\\\" \"\n",
    "                if first_attr_flg:\n",
    "                    graql_attribute_update_query += \",\"\n",
    "                update_flg = True\n",
    "                first_attr_flg = False\n",
    "            if len(aliases) > 0:\n",
    "                s = \"|\"\n",
    "                graql_attribute_update_query += f\" has alias \\\"{s.join(aliases)}\\\" \" \n",
    "                if first_attr_flg:\n",
    "                    graql_attribute_update_query += \",\"\n",
    "                update_flg = True\n",
    "                first_attr_flg = False\n",
    "            graql_attribute_update_query += \";\"\n",
    "            # print(graql_attribute_update_query)\n",
    "            if update_flg:\n",
    "                with session.transaction().write() as write_transaction:\n",
    "                    # make a write transection with the query\n",
    "                    write_transaction.query(graql_attribute_delete_query)\n",
    "                    write_transaction.query(graql_attribute_update_query)\n",
    "                    # remember to commit at the end\n",
    "                    write_transaction.commit()           \n",
    "        else:\n",
    "            # print(\"Insert intrusion-set...\")\n",
    "            print(\"Insert: \" + df['name'])\n",
    "            graql_insert_query = f\"insert $x isa Intrusion-Set, \" \\\n",
    "                                 f\"has internal_id_key \\\"{df['internal_id_key']}\\\", \" \\\n",
    "                                 f\"has stix_id_key \\\"{df['stix_id_key']}\\\", \" \\\n",
    "                                 f\"has stix_label \\\"{df['stix_label']}\\\", \" \\\n",
    "                                 f\"has entity_type \\\"{df['entity_type']}\\\", \" \\\n",
    "                                 f\"has created {df['created']}, \" \\\n",
    "                                 f\"has revoked \\\"{df['revoked']}\\\", \"\\\n",
    "                                 f\"has created_at {df['created_at']}, \" \\\n",
    "                                 f\"has created_at_day \\\"{df['created_at_day']}\\\", \" \\\n",
    "                                 f\"has created_at_month \\\"{df['created_at_month']}\\\", \" \\\n",
    "                                 f\"has created_at_year \\\"{df['created_at_year']}\\\", \"\\\n",
    "                                 f\"has updated_at {df['updated_at']}, \"\\\n",
    "                                 f\"has name \\\"{df['name']}_\\\" \"\n",
    "                                 \n",
    "            if df['description'] != 'NA':\n",
    "                graql_insert_query += f\", has description \\\"{df['description']}\\\" \"\n",
    "            if len(aliases) > 0:\n",
    "                s = \"|\"\n",
    "                graql_insert_query += f\", has alias \\\"{s.join(aliases)}\\\" \"\n",
    "            if f is not None:\n",
    "                graql_insert_query += f\", has first_seen {f} \"\n",
    "            if f_d is not None:\n",
    "                graql_insert_query += f\", has first_seen_day \\\"{f_d}\\\" \"\n",
    "            if f_m is not None:\n",
    "                graql_insert_query += f\", has first_seen_month \\\"{f_m}\\\" \"\n",
    "            if f_m is not None:\n",
    "                graql_insert_query += f\", has first_seen_year \\\"{df['first_seen_year']}\\\"\"\n",
    "            graql_insert_query += \";\"\n",
    "            # print(graql_insert_query)\n",
    "            with session.transaction().write() as write_transaction:\n",
    "                # make a write transection with the query\n",
    "                write_transaction.query(graql_insert_query)\n",
    "                # remember to commit at the end\n",
    "                write_transaction.commit()"
   ]
  },
  {
   "cell_type": "code",
   "execution_count": 7,
   "metadata": {
    "scrolled": true
   },
   "outputs": [],
   "source": [
    "def load_data_into_grakn(session,input_df):\n",
    "    print(\"Inserting intrusion-set...\")\n",
    "    # using progress_apply instead of apply so we have a progress bar form tqdm\n",
    "    # input_df.progress_apply(insert_one_intrusion_set, axis=1, session=session)\n",
    "    print(\"Loading intrusion-set...\")\n",
    "    for index,row in input_df.iterrows():\n",
    "        insert_one_intrusion_set(df=row,session=session)"
   ]
  },
  {
   "cell_type": "code",
   "execution_count": 8,
   "metadata": {},
   "outputs": [],
   "source": [
    "def build_grakn_graph(input_df, keyspace_name):\n",
    "    with GraknClient(uri=\"192.168.83.128:48555\") as client:\n",
    "        with client.session(keyspace = keyspace_name) as session:\n",
    "            load_data_into_grakn(session,input_df)"
   ]
  },
  {
   "cell_type": "code",
   "execution_count": 13,
   "metadata": {
    "scrolled": true
   },
   "outputs": [
    {
     "name": "stdout",
     "output_type": "stream",
     "text": [
      "Inserting intrusion-set...\n",
      "Loading intrusion-set...\n",
      "Update: APT12\n",
      "Update: APT28\n",
      "Update: BlackOasis\n",
      "Update: Cobalt\n",
      "Update: APT30\n",
      "Update: APT12\n"
     ]
    }
   ],
   "source": [
    "build_grakn_graph(input_df=result,keyspace_name='grakn')"
   ]
  }
 ],
 "metadata": {
  "kernelspec": {
   "display_name": "Python 3",
   "language": "python",
   "name": "python3"
  },
  "language_info": {
   "codemirror_mode": {
    "name": "ipython",
    "version": 3
   },
   "file_extension": ".py",
   "mimetype": "text/x-python",
   "name": "python",
   "nbconvert_exporter": "python",
   "pygments_lexer": "ipython3",
   "version": "3.7.4"
  }
 },
 "nbformat": 4,
 "nbformat_minor": 2
}
