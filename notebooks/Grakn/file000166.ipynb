{
 "cells": [
  {
   "cell_type": "code",
   "execution_count": 273,
   "metadata": {},
   "outputs": [],
   "source": [
    "import pandas as pd"
   ]
  },
  {
   "cell_type": "code",
   "execution_count": 274,
   "metadata": {},
   "outputs": [],
   "source": [
    "df=pd.read_excel(r\"C:\\Users\\SRIKANTH\\Desktop\\OpenCTI_Data.xlsx\",sheet_name='intrusion-set')"
   ]
  },
  {
   "cell_type": "code",
   "execution_count": 275,
   "metadata": {},
   "outputs": [
    {
     "data": {
      "text/plain": [
       "Index(['internal_id_key', 'stix_id_key', 'stix_label', 'entity_type',\n",
       "       'created', 'modified', 'revoked', 'object_status', 'created_at',\n",
       "       'created_at_day', 'created_at_month', 'created_at_year', 'updated_at',\n",
       "       'name', 'description', 'alias', 'graph_data', 'first_seen',\n",
       "       'first_seen_day', 'first_seen_month', 'first_seen_year', 'last_seen',\n",
       "       'last_seen_day', 'last_seen_month', 'last_seen_year', 'goal',\n",
       "       'sophistication', 'resource_level', 'primary_motivation',\n",
       "       'secondary_motivation', 'type', 'id', 'labels', 'external_references',\n",
       "       'object_marking_refs', 'granular_markings'],\n",
       "      dtype='object')"
      ]
     },
     "execution_count": 275,
     "metadata": {},
     "output_type": "execute_result"
    }
   ],
   "source": [
    "df.keys()"
   ]
  },
  {
   "cell_type": "code",
   "execution_count": 233,
   "metadata": {},
   "outputs": [],
   "source": [
    "# data=df['intrusion-set'][4:]\n",
    "# columns=list(df['intrusion-set'].iloc[3])\n",
    "# data.columns=columns\n",
    "# data.reset_index(inplace=True)\n",
    "# data.drop('index',axis=1,inplace=True)"
   ]
  },
  {
   "cell_type": "code",
   "execution_count": null,
   "metadata": {},
   "outputs": [],
   "source": []
  },
  {
   "cell_type": "code",
   "execution_count": null,
   "metadata": {},
   "outputs": [],
   "source": []
  },
  {
   "cell_type": "code",
   "execution_count": null,
   "metadata": {},
   "outputs": [],
   "source": []
  },
  {
   "cell_type": "code",
   "execution_count": 276,
   "metadata": {},
   "outputs": [],
   "source": [
    "import uuid\n",
    "from datetime import datetime\n",
    "import numpy as np"
   ]
  },
  {
   "cell_type": "code",
   "execution_count": 397,
   "metadata": {},
   "outputs": [],
   "source": [
    "def  insert_general_info(df,ent_type,create):\n",
    "    if create:\n",
    "        for index,i in df.iterrows():\n",
    "            df.internal_id_key[index]=str(uuid.uuid4())\n",
    "            df.stix_id_key[index]=ent_type+'--'+str(uuid.uuid4())\n",
    "            df.stix_label[index]='NA'\n",
    "            df.entity_type[index]=ent_type\n",
    "            df.created=(datetime.now()).strftime(\"%Y-%m-%dT%H:%M:%S\")\n",
    "            df.created_at=(datetime.now()).strftime(\"%Y-%m-%dT%H:%M:%S\")\n",
    "            df.created_at_day=(datetime.now()).strftime(\"%Y-%m-%d\")\n",
    "            df.created_at_month=(datetime.now()).strftime(\"%Y-%m\")\n",
    "            df.created_at_year=(datetime.now()).strftime(\"%Y\")\n",
    "            df.modified=(datetime.now()).strftime(\"%Y-%m-%dT%H:%M:%S\")\n",
    "            df.updated_at=(datetime.now()).strftime(\"%Y-%m-%dT%H:%M:%S\")\n",
    "            df.revoked=False\n",
    "            df.object_status='NA'\n",
    "    else:\n",
    "            df.modified=(datetime.now()).strftime(\"%Y-%m-%dT%H:%M:%S\")\n",
    "            df.updated_at=(datetime.now()).strftime(\"%Y-%m-%dT%H:%M:%S\")\n",
    "    return df\n",
    "    "
   ]
  },
  {
   "cell_type": "code",
   "execution_count": 398,
   "metadata": {},
   "outputs": [
    {
     "name": "stderr",
     "output_type": "stream",
     "text": [
      "C:\\ProgramData\\Anaconda3\\lib\\site-packages\\ipykernel_launcher.py:4: SettingWithCopyWarning: \n",
      "A value is trying to be set on a copy of a slice from a DataFrame\n",
      "\n",
      "See the caveats in the documentation: http://pandas.pydata.org/pandas-docs/stable/indexing.html#indexing-view-versus-copy\n",
      "  after removing the cwd from sys.path.\n",
      "C:\\ProgramData\\Anaconda3\\lib\\site-packages\\ipykernel_launcher.py:5: SettingWithCopyWarning: \n",
      "A value is trying to be set on a copy of a slice from a DataFrame\n",
      "\n",
      "See the caveats in the documentation: http://pandas.pydata.org/pandas-docs/stable/indexing.html#indexing-view-versus-copy\n",
      "  \"\"\"\n",
      "C:\\ProgramData\\Anaconda3\\lib\\site-packages\\ipykernel_launcher.py:6: SettingWithCopyWarning: \n",
      "A value is trying to be set on a copy of a slice from a DataFrame\n",
      "\n",
      "See the caveats in the documentation: http://pandas.pydata.org/pandas-docs/stable/indexing.html#indexing-view-versus-copy\n",
      "  \n",
      "C:\\ProgramData\\Anaconda3\\lib\\site-packages\\ipykernel_launcher.py:7: SettingWithCopyWarning: \n",
      "A value is trying to be set on a copy of a slice from a DataFrame\n",
      "\n",
      "See the caveats in the documentation: http://pandas.pydata.org/pandas-docs/stable/indexing.html#indexing-view-versus-copy\n",
      "  import sys\n"
     ]
    }
   ],
   "source": [
    "result=insert_general_info(df=df,ent_type='Intrusion-set',create=True)\n",
    "result.fillna('NA',inplace=True)"
   ]
  },
  {
   "cell_type": "code",
   "execution_count": 279,
   "metadata": {},
   "outputs": [],
   "source": [
    "from grakn.client import GraknClient\n",
    "import pandas as pd\n",
    "from tqdm import tqdm\n",
    "tqdm.pandas()"
   ]
  },
  {
   "cell_type": "code",
   "execution_count": 411,
   "metadata": {},
   "outputs": [],
   "source": [
    "def insert_one_intrusion_set(df,session):\n",
    "    print(df['name'])\n",
    "    print(df['first_seen_day'])\n",
    "    #print(count)\n",
    "    if df.first_seen != 'NA':\n",
    "        f=df.first_seen.strftime(\"%Y-%m-%dT%H:%M:%S\")\n",
    "        f_m=df.first_seen.strftime(\"%Y-%m\")\n",
    "        f_d=df.first_seen.strftime(\"%Y-%m-%d\")\n",
    "    elif df.first_seen_month != 'NA':\n",
    "        f_m=df.first_seen_month\n",
    "    elif df.first_seen_day != 'NA':\n",
    "        f_d=df.first_seen_day\n",
    "    else:\n",
    "        f_d=None\n",
    "        f_m=None\n",
    "        f=None\n",
    "               \n",
    "    aliases=df.alias.split('\\n')\n",
    "\n",
    "    graql_match_query = f\"match $i isa Intrusion-Set, \" \\\n",
    "                        f\"has name \\\"{df['name']}_\\\"; \" \\\n",
    "                        f\"get;\"\n",
    "    print(graql_match_query)\n",
    "    with session.transaction().read() as read_transaction:\n",
    "        # read_transaction.query(graql_match_query)\n",
    "        answer_iterator = None\n",
    "        answer_iterator = read_transaction.query(graql_match_query, infer=True)\n",
    "        data = answer_iterator.collect_concepts()\n",
    "                \n",
    "        if len(data) > 0:\n",
    "            # Update data.\n",
    "            print(\"Update intrusion-set...\")\n",
    "        else:\n",
    "            print(\"Insert intrusion-set...\")\n",
    "            graql_insert_query = f\"insert $x isa Intrusion-Set, \" \\\n",
    "                                 f\"has internal_id_key \\\"{df['internal_id_key']}\\\", \" \\\n",
    "                                 f\"has stix_id_key \\\"{df['stix_id_key']}\\\", \" \\\n",
    "                                 f\"has stix_label \\\"{df['stix_label']}\\\", \" \\\n",
    "                                 f\"has entity_type \\\"{df['entity_type']}\\\", \" \\\n",
    "                                 f\"has created {df['created']}, \" \\\n",
    "                                 f\"has revoked \\\"{df['revoked']}\\\", \"\\\n",
    "                                 f\"has created_at {df['created_at']}, \" \\\n",
    "                                 f\"has created_at_day \\\"{df['created_at_day']}\\\", \" \\\n",
    "                                 f\"has created_at_month \\\"{df['created_at_month']}\\\", \" \\\n",
    "                                 f\"has created_at_year \\\"{df['created_at_year']}\\\", \"\\\n",
    "                                 f\"has updated_at {df['updated_at']}, \"\\\n",
    "                                 f\"has name \\\"{df['name']}_\\\" \"\n",
    "                                 \n",
    "            if df['description'] != 'NA':\n",
    "                graql_insert_query += f\", has description \\\"{df['description']}\\\" \"\n",
    "            if len(aliases) > 0:\n",
    "                s = \"|\"\n",
    "                graql_insert_query += f\", has alias \\\"{s.join(aliases)}\\\" \"\n",
    "            if f is not None:\n",
    "                graql_insert_query += f\", has first_seen {f} \"\n",
    "            if f_d is not None:\n",
    "                graql_insert_query += f\", has first_seen_day \\\"{f_d}\\\" \"\n",
    "            if f_m is not None:\n",
    "                graql_insert_query += f\", has first_seen_month \\\"{f_m}\\\" \"\n",
    "            if f_m is not None:\n",
    "                graql_insert_query += f\", has first_seen_year \\\"{df['first_seen_year']}\\\"\"\n",
    "            graql_insert_query += \";\"\n",
    "            print(graql_insert_query)\n",
    "            with session.transaction().write() as write_transaction:\n",
    "                # make a write transection with the query\n",
    "                write_transaction.query(graql_insert_query)\n",
    "                # remember to commit at the end\n",
    "                write_transaction.commit()"
   ]
  },
  {
   "cell_type": "code",
   "execution_count": 285,
   "metadata": {
    "scrolled": true
   },
   "outputs": [],
   "source": [
    "def load_data_into_grakn(session,input_df):\n",
    "    print(\"Inserting intrusion-set...\")\n",
    "    # using progress_apply instead of apply so we have a progress bar form tqdm\n",
    "    # input_df.progress_apply(insert_one_intrusion_set, axis=1, session=session)\n",
    "    for index,row in input_df.iterrows():\n",
    "        insert_one_intrusion_set(df=row,session=session)"
   ]
  },
  {
   "cell_type": "code",
   "execution_count": 282,
   "metadata": {},
   "outputs": [],
   "source": [
    "def build_grakn_graph(input_df, keyspace_name):\n",
    "    with GraknClient(uri=\"192.168.83.128:48555\") as client:\n",
    "        with client.session(keyspace = keyspace_name) as session:\n",
    "            load_data_into_grakn(session,input_df)"
   ]
  },
  {
   "cell_type": "code",
   "execution_count": 412,
   "metadata": {
    "scrolled": true
   },
   "outputs": [
    {
     "name": "stdout",
     "output_type": "stream",
     "text": [
      "Inserting intrusion...\n",
      "APT12\n",
      "2012-10-01 00:00:00\n",
      "match $i isa Intrusion-Set, has name \"APT12_\"; get;\n",
      "<grakn.service.Session.util.ResponseReader.ResponseIterator object at 0x0000021FDF9A1A88>\n",
      "1\n",
      "Update intrusion-set...\n",
      "APT28\n",
      "NA\n",
      "match $i isa Intrusion-Set, has name \"APT28_\"; get;\n",
      "<grakn.service.Session.util.ResponseReader.ResponseIterator object at 0x0000021FDF9A1D48>\n",
      "1\n",
      "Update intrusion-set...\n",
      "BlackOasis\n",
      "06-5-2015\n",
      "\n",
      "match $i isa Intrusion-Set, has name \"BlackOasis_\"; get;\n",
      "<grakn.service.Session.util.ResponseReader.ResponseIterator object at 0x0000021FDF9A1848>\n",
      "1\n",
      "Update intrusion-set...\n",
      "Cobalt\n",
      "2016-01-06 00:00:00\n",
      "match $i isa Intrusion-Set, has name \"Cobalt_\"; get;\n",
      "<grakn.service.Session.util.ResponseReader.ResponseIterator object at 0x0000021FDF971408>\n",
      "1\n",
      "Update intrusion-set...\n",
      "APT30\n",
      "2004-08-16 00:00:00\n",
      "match $i isa Intrusion-Set, has name \"APT30_\"; get;\n",
      "<grakn.service.Session.util.ResponseReader.ResponseIterator object at 0x0000021FDF971788>\n",
      "1\n",
      "Update intrusion-set...\n",
      "APT12\n",
      "2019-12-28 00:00:00\n",
      "match $i isa Intrusion-Set, has name \"APT12_\"; get;\n",
      "<grakn.service.Session.util.ResponseReader.ResponseIterator object at 0x0000021FDF971A88>\n",
      "1\n",
      "Update intrusion-set...\n"
     ]
    }
   ],
   "source": [
    "build_grakn_graph(input_df=result,keyspace_name='grakn')"
   ]
  },
  {
   "cell_type": "code",
   "execution_count": 244,
   "metadata": {},
   "outputs": [
    {
     "data": {
      "text/plain": [
       "0   2012-10-01 00:00:00\n",
       "1                   NaT\n",
       "2   2015-05-06 00:00:00\n",
       "3   2016-01-06 00:00:00\n",
       "4   2004-08-15 00:00:00\n",
       "5   2019-12-28 06:13:42\n",
       "Name: first_seen, dtype: datetime64[ns]"
      ]
     },
     "execution_count": 244,
     "metadata": {},
     "output_type": "execute_result"
    }
   ],
   "source": [
    "result['first_seen']"
   ]
  },
  {
   "cell_type": "code",
   "execution_count": 50,
   "metadata": {},
   "outputs": [
    {
     "ename": "TypeError",
     "evalue": "can only concatenate str (not \"datetime.datetime\") to str",
     "output_type": "error",
     "traceback": [
      "\u001b[1;31m---------------------------------------------------------------------------\u001b[0m",
      "\u001b[1;31mTypeError\u001b[0m                                 Traceback (most recent call last)",
      "\u001b[1;32m<ipython-input-50-c731f479499d>\u001b[0m in \u001b[0;36m<module>\u001b[1;34m\u001b[0m\n\u001b[0;32m      5\u001b[0m         \u001b[1;31m## Insert a Person using a WRITE transaction\u001b[0m\u001b[1;33m\u001b[0m\u001b[1;33m\u001b[0m\u001b[1;33m\u001b[0m\u001b[0m\n\u001b[0;32m      6\u001b[0m         \u001b[1;32mwith\u001b[0m \u001b[0msession\u001b[0m\u001b[1;33m.\u001b[0m\u001b[0mtransaction\u001b[0m\u001b[1;33m(\u001b[0m\u001b[1;33m)\u001b[0m\u001b[1;33m.\u001b[0m\u001b[0mwrite\u001b[0m\u001b[1;33m(\u001b[0m\u001b[1;33m)\u001b[0m \u001b[1;32mas\u001b[0m \u001b[0mwrite_transaction\u001b[0m\u001b[1;33m:\u001b[0m\u001b[1;33m\u001b[0m\u001b[1;33m\u001b[0m\u001b[0m\n\u001b[1;32m----> 7\u001b[1;33m             \u001b[0minsert_iterator\u001b[0m \u001b[1;33m=\u001b[0m \u001b[0mwrite_transaction\u001b[0m\u001b[1;33m.\u001b[0m\u001b[0mquery\u001b[0m\u001b[1;33m(\u001b[0m\u001b[1;34m'insert $x isa Intrusion-Set,has internal_id_key \"212ca911-1936-417e-a6bf-a834569ea8dq\", has stix_id_key \"Intrusion-set--76851f60-9948-49f0-874b-daec774999b5\", has stix_label \"NA\", has entity_type \"Intrusion-set\",has created'\u001b[0m\u001b[1;33m+\u001b[0m\u001b[0mdatetime\u001b[0m\u001b[1;33m.\u001b[0m\u001b[0mnow\u001b[0m\u001b[1;33m(\u001b[0m\u001b[1;33m)\u001b[0m\u001b[1;33m+\u001b[0m\u001b[1;34m';'\u001b[0m\u001b[1;33m)\u001b[0m\u001b[1;33m\u001b[0m\u001b[1;33m\u001b[0m\u001b[0m\n\u001b[0m\u001b[0;32m      8\u001b[0m             \u001b[1;31m## to persist changes, write transaction must always be committed (closed)\u001b[0m\u001b[1;33m\u001b[0m\u001b[1;33m\u001b[0m\u001b[1;33m\u001b[0m\u001b[0m\n\u001b[0;32m      9\u001b[0m             \u001b[0mwrite_transaction\u001b[0m\u001b[1;33m.\u001b[0m\u001b[0mcommit\u001b[0m\u001b[1;33m(\u001b[0m\u001b[1;33m)\u001b[0m\u001b[1;33m\u001b[0m\u001b[1;33m\u001b[0m\u001b[0m\n",
      "\u001b[1;31mTypeError\u001b[0m: can only concatenate str (not \"datetime.datetime\") to str"
     ]
    }
   ],
   "source": [
    "from grakn.client import GraknClient\n",
    "\n",
    "with GraknClient(uri=\"192.168.83.128:48555\") as client:\n",
    "    with client.session(keyspace=\"grakn\") as session:\n",
    "        ## Insert a Person using a WRITE transaction\n",
    "        with session.transaction().write() as write_transaction:\n",
    "            insert_iterator = write_transaction.query('insert $x isa Intrusion-Set,has internal_id_key \"212ca911-1936-417e-a6bf-a834569ea8dq\", has stix_id_key \"Intrusion-set--76851f60-9948-49f0-874b-daec774999b5\", has stix_label \"NA\", has entity_type \"Intrusion-set\",has created'+datetime.now()+';')\n",
    "            ## to persist changes, write transaction must always be committed (closed)\n",
    "            write_transaction.commit()"
   ]
  },
  {
   "cell_type": "code",
   "execution_count": 207,
   "metadata": {},
   "outputs": [
    {
     "data": {
      "text/plain": [
       "0    2012-10-01 00:00:00\n",
       "1                     NA\n",
       "2            06-5-2015\\n\n",
       "3    2016-01-06 00:00:00\n",
       "4    2004-08-15 00:00:00\n",
       "5    2019-12-28T06:13:42\n",
       "Name: first_seen, dtype: object"
      ]
     },
     "execution_count": 207,
     "metadata": {},
     "output_type": "execute_result"
    }
   ],
   "source": [
    "result['first_seen']"
   ]
  },
  {
   "cell_type": "code",
   "execution_count": 53,
   "metadata": {},
   "outputs": [
    {
     "ename": "NameError",
     "evalue": "name 'birth_date_type' is not defined",
     "output_type": "error",
     "traceback": [
      "\u001b[1;31m---------------------------------------------------------------------------\u001b[0m",
      "\u001b[1;31mNameError\u001b[0m                                 Traceback (most recent call last)",
      "\u001b[1;32m<ipython-input-53-400202b2d973>\u001b[0m in \u001b[0;36m<module>\u001b[1;34m\u001b[0m\n\u001b[0;32m      1\u001b[0m \u001b[1;32mimport\u001b[0m \u001b[0mdatetime\u001b[0m\u001b[1;33m\u001b[0m\u001b[1;33m\u001b[0m\u001b[0m\n\u001b[0;32m      2\u001b[0m \u001b[0mdate\u001b[0m \u001b[1;33m=\u001b[0m \u001b[0mdatetime\u001b[0m\u001b[1;33m.\u001b[0m\u001b[0mdatetime\u001b[0m\u001b[1;33m(\u001b[0m\u001b[0myear\u001b[0m\u001b[1;33m=\u001b[0m\u001b[1;36m2018\u001b[0m\u001b[1;33m,\u001b[0m \u001b[0mmonth\u001b[0m\u001b[1;33m=\u001b[0m\u001b[1;36m8\u001b[0m\u001b[1;33m,\u001b[0m \u001b[0mday\u001b[0m\u001b[1;33m=\u001b[0m\u001b[1;36m6\u001b[0m\u001b[1;33m)\u001b[0m \u001b[1;31m# requires `import datetime`\u001b[0m\u001b[1;33m\u001b[0m\u001b[1;33m\u001b[0m\u001b[0m\n\u001b[1;32m----> 3\u001b[1;33m \u001b[0mbirth_date\u001b[0m \u001b[1;33m=\u001b[0m \u001b[0mbirth_date_type\u001b[0m\u001b[1;33m.\u001b[0m\u001b[0mcreate\u001b[0m\u001b[1;33m(\u001b[0m\u001b[0mdate\u001b[0m\u001b[1;33m)\u001b[0m\u001b[1;33m\u001b[0m\u001b[1;33m\u001b[0m\u001b[0m\n\u001b[0m",
      "\u001b[1;31mNameError\u001b[0m: name 'birth_date_type' is not defined"
     ]
    }
   ],
   "source": [
    "import datetime\n",
    "date = datetime.datetime(year=2018, month=8, day=6) # requires `import datetime`\n",
    "birth_date = birth_date_type.create(date)"
   ]
  },
  {
   "cell_type": "code",
   "execution_count": 54,
   "metadata": {},
   "outputs": [
    {
     "data": {
      "text/plain": [
       "datetime.datetime(2018, 8, 6, 0, 0)"
      ]
     },
     "execution_count": 54,
     "metadata": {},
     "output_type": "execute_result"
    }
   ],
   "source": [
    "date"
   ]
  },
  {
   "cell_type": "code",
   "execution_count": 170,
   "metadata": {},
   "outputs": [],
   "source": [
    "with GraknClient(uri=\"192.168.83.128:48555\") as client:\n",
    "    with client.session(keyspace=\"grakn\") as session:\n",
    "        with session.transaction().read() as read_transaction:\n",
    "            answer_iterator = read_transaction.query('match $i isa Intrusion-Set, has entity_type$i-m,has internal_id_key $i-x,has name \"APT12\"; get;  offset 0; limit 30;')\n",
    "            persons = answer_iterator.collect_concepts()\n",
    "            #read_transaction.commit()"
   ]
  },
  {
   "cell_type": "code",
   "execution_count": 171,
   "metadata": {},
   "outputs": [
    {
     "data": {
      "text/plain": [
       "[<grakn.service.Session.Concept.Concept.Attribute at 0x21fdf66cac8>,\n",
       " <grakn.service.Session.Concept.Concept.Attribute at 0x21fdf878e48>,\n",
       " <grakn.service.Session.Concept.Concept.Entity at 0x21fdf8782c8>]"
      ]
     },
     "execution_count": 171,
     "metadata": {},
     "output_type": "execute_result"
    }
   ],
   "source": [
    "persons"
   ]
  },
  {
   "cell_type": "code",
   "execution_count": 169,
   "metadata": {},
   "outputs": [
    {
     "ename": "TypeError",
     "evalue": "can only concatenate str (not \"Attribute\") to str",
     "output_type": "error",
     "traceback": [
      "\u001b[1;31m---------------------------------------------------------------------------\u001b[0m",
      "\u001b[1;31mTypeError\u001b[0m                                 Traceback (most recent call last)",
      "\u001b[1;32m<ipython-input-169-2563b0d7015e>\u001b[0m in \u001b[0;36m<module>\u001b[1;34m\u001b[0m\n\u001b[0;32m      1\u001b[0m \u001b[1;32mfor\u001b[0m \u001b[0mperson\u001b[0m \u001b[1;32min\u001b[0m \u001b[0mpersons\u001b[0m\u001b[1;33m:\u001b[0m\u001b[1;33m\u001b[0m\u001b[1;33m\u001b[0m\u001b[0m\n\u001b[1;32m----> 2\u001b[1;33m                 \u001b[0mprint\u001b[0m\u001b[1;33m(\u001b[0m\u001b[1;34m\"Retrieved person with id \"\u001b[0m\u001b[1;33m+\u001b[0m \u001b[0mperson\u001b[0m\u001b[1;33m)\u001b[0m\u001b[1;33m\u001b[0m\u001b[1;33m\u001b[0m\u001b[0m\n\u001b[0m",
      "\u001b[1;31mTypeError\u001b[0m: can only concatenate str (not \"Attribute\") to str"
     ]
    }
   ],
   "source": [
    "for person in persons:\n",
    "                print(\"Retrieved person with id \"+ person)"
   ]
  },
  {
   "cell_type": "code",
   "execution_count": 37,
   "metadata": {},
   "outputs": [
    {
     "name": "stdout",
     "output_type": "stream",
     "text": [
      "Inserting intrusion...\n"
     ]
    },
    {
     "name": "stderr",
     "output_type": "stream",
     "text": [
      "\n",
      "  0%|                                                                                            | 0/6 [00:00<?, ?it/s]"
     ]
    },
    {
     "name": "stdout",
     "output_type": "stream",
     "text": [
      "0\n",
      "0\n"
     ]
    },
    {
     "ename": "GraknError",
     "evalue": "('Server/network error: <_Rendezvous of RPC that terminated with:\\n\\tstatus = StatusCode.UNKNOWN\\n\\tdetails = \"syntax error at line 1: \\nmatch $x isa Intrusion-Set, has name \"APT12\";insert $x isa Intrusion-Set,has internal_id_key \"212ca911-1936-417e-a6bf-a834569ea8db\", has stix_id_key \"Intrusion-set--76851f68-9948-49f0-874b-daec774999b5\", has stix_label \"NA\", has entity_type \"Intrusion-set\", has created 2020-01-04T10:12:53, has revoked False,has object_status \"NA\", has created_at \"2020-01-04T10:12:53\", has created_at_day \"2020-01-04\", has created_at_month 2020-01, has created_at_year 2020;has updated_at 2020-01-04T10:12:53;has name \"APT12_\", has description \"APT12\\xa0is a threat group that has been attributed to China. The group has targeted a variety of victims including but not limited to media outlets, high-tech companies, and multiple governments\", has alias \"[\\'APT 12 \\', \\'Numbered Panda \\', \\'TG-2754 \\', \\'BeeBus \\', \\'Calc Team\\', \\'Group 22 \\', \\'Crimson Iron \\']\", has first_seen \"2012-10-01 00:00:00\", has first_seen_day \"2012-10-01\", has first_seen_month \"2012-10\", has first_seen_year \"2012\";\\n                                                                                                                                                                                                                                                                                                               ^\\nno viable alternative at input \\'False\\'\\nsyntax error at line 1: \\nmatch $x isa Intrusion-Set, has name \"APT12\";insert $x isa Intrusion-Set,has internal_id_key \"212ca911-1936-417e-a6bf-a834569ea8db\", has stix_id_key \"Intrusion-set--76851f68-9948-49f0-874b-daec774999b5\", has stix_label \"NA\", has entity_type \"Intrusion-set\", has created 2020-01-04T10:12:53, has revoked False,has object_status \"NA\", has created_at \"2020-01-04T10:12:53\", has created_at_day \"2020-01-04\", has created_at_month 2020-01, has created_at_year 2020;has updated_at 2020-01-04T10:12:53;has name \"APT12_\", has description \"APT12\\xa0is a threat group that has been attributed to China. The group has targeted a variety of victims including but not limited to media outlets, high-tech companies, and multiple governments\", has alias \"[\\'APT 12 \\', \\'Numbered Panda \\', \\'TG-2754 \\', \\'BeeBus \\', \\'Calc Team\\', \\'Group 22 \\', \\'Crimson Iron \\']\", has first_seen \"2012-10-01 00:00:00\", has first_seen_day \"2012-10-01\", has first_seen_month \"2012-10\", has first_seen_year \"2012\";\\n                                                                                                                                                                                                                                                                                                               ^\\nmismatched input \\'False\\' expecting {\\'match\\', \\'define\\', \\'undefine\\', \\'insert\\', \\'compute\\'}. Please check server logs for the stack trace.\"\\n\\tdebug_error_string = \"{\"created\":\"@1578115539.291000000\",\"description\":\"Error received from peer\",\"file\":\"src/core/lib/surface/call.cc\",\"file_line\":1017,\"grpc_message\":\"syntax error at line 1: \\\\nmatch $x isa Intrusion-Set, has name \"APT12\";insert $x isa Intrusion-Set,has internal_id_key \"212ca911-1936-417e-a6bf-a834569ea8db\", has stix_id_key \"Intrusion-set--76851f68-9948-49f0-874b-daec774999b5\", has stix_label \"NA\", has entity_type \"Intrusion-set\", has created 2020-01-04T10:12:53, has revoked False,has object_status \"NA\", has created_at \"2020-01-04T10:12:53\", has created_at_day \"2020-01-04\", has created_at_month 2020-01, has created_at_year 2020;has updated_at 2020-01-04T10:12:53;has name \"APT12_\", has description \"APT12\\\\u00c2\\\\u00a0is a threat group that has been attributed to China. The group has targeted a variety of victims including but not limited to media outlets, high-tech companies, and multiple governments\", has alias \"[\\'APT 12 \\', \\'Numbered Panda \\', \\'TG-2754 \\', \\'BeeBus \\', \\'Calc Team\\', \\'Group 22 \\', \\'Crimson Iron \\']\", has first_seen \"2012-10-01 00:00:00\", has first_seen_day \"2012-10-01\", has first_seen_month \"2012-10\", has first_seen_year \"2012\";\\\\n                                                                                                                                                                                                                                                                                                               ^\\\\nno viable alternative at input \\'False\\'\\\\nsyntax error at line 1: \\\\nmatch $x isa Intrusion-Set, has name \"APT12\";insert $x isa Intrusion-Set,has internal_id_key \"212ca911-1936-417e-a6bf-a834569ea8db\", has stix_id_key \"Intrusion-set--76851f68-9948-49f0-874b-daec774999b5\", has stix_label \"NA\", has entity_type \"Intrusion-set\", has created 2020-01-04T10:12:53, has revoked False,has object_status \"NA\", has created_at \"2020-01-04T10:12:53\", has created_at_day \"2020-01-04\", has created_at_month 2020-01, has created_at_year 2020;has updated_at 2020-01-04T10:12:53;has name \"APT12_\", has description \"APT12\\\\u00c2\\\\u00a0is a threat group that has been attributed to China. The group has targeted a variety of victims including but not limited to media outlets, high-tech companies, and multiple governments\", has alias \"[\\'APT 12 \\', \\'Numbered Panda \\', \\'TG-2754 \\', \\'BeeBus \\', \\'Calc Team\\', \\'Group 22 \\', \\'Crimson Iron \\']\", has first_seen \"2012-10-01 00:00:00\", has first_seen_day \"2012-10-01\", has first_seen_month \"2012-10\", has first_seen_year \"2012\";\\\\n                                                                                                                                                                                                                                                                                                               ^\\\\nmismatched input \\'False\\' expecting {\\'match\\', \\'define\\', \\'undefine\\', \\'insert\\', \\'compute\\'}. Please check server logs for the stack trace.\",\"grpc_status\":2}\"\\n>\\n\\n generated from request: query_req {\\n  query: \"match $x isa Intrusion-Set, has name \\\\\"APT12\\\\\";insert $x isa Intrusion-Set,has internal_id_key \\\\\"212ca911-1936-417e-a6bf-a834569ea8db\\\\\", has stix_id_key \\\\\"Intrusion-set--76851f68-9948-49f0-874b-daec774999b5\\\\\", has stix_label \\\\\"NA\\\\\", has entity_type \\\\\"Intrusion-set\\\\\", has created 2020-01-04T10:12:53, has revoked False,has object_status \\\\\"NA\\\\\", has created_at \\\\\"2020-01-04T10:12:53\\\\\", has created_at_day \\\\\"2020-01-04\\\\\", has created_at_month 2020-01, has created_at_year 2020;has updated_at 2020-01-04T10:12:53;has name \\\\\"APT12_\\\\\", has description \\\\\"APT12\\\\302\\\\240is a threat group that has been attributed to China. The group has targeted a variety of victims including but not limited to media outlets, high-tech companies, and multiple governments\\\\\", has alias \\\\\"[\\\\\\'APT 12 \\\\\\', \\\\\\'Numbered Panda \\\\\\', \\\\\\'TG-2754 \\\\\\', \\\\\\'BeeBus \\\\\\', \\\\\\'Calc Team\\\\\\', \\\\\\'Group 22 \\\\\\', \\\\\\'Crimson Iron \\\\\\']\\\\\", has first_seen \\\\\"2012-10-01 00:00:00\\\\\", has first_seen_day \\\\\"2012-10-01\\\\\", has first_seen_month \\\\\"2012-10\\\\\", has first_seen_year \\\\\"2012\\\\\";\"\\n}\\n', 'occurred at index 0')",
     "output_type": "error",
     "traceback": [
      "\u001b[1;31m---------------------------------------------------------------------------\u001b[0m",
      "\u001b[1;31m_Rendezvous\u001b[0m                               Traceback (most recent call last)",
      "\u001b[1;32mC:\\ProgramData\\Anaconda3\\lib\\site-packages\\grakn\\service\\Session\\TransactionService.py\u001b[0m in \u001b[0;36msend\u001b[1;34m(self, request)\u001b[0m\n\u001b[0;32m    155\u001b[0m             \u001b[0mself\u001b[0m\u001b[1;33m.\u001b[0m\u001b[0m_add_request\u001b[0m\u001b[1;33m(\u001b[0m\u001b[0mrequest\u001b[0m\u001b[1;33m)\u001b[0m\u001b[1;33m\u001b[0m\u001b[1;33m\u001b[0m\u001b[0m\n\u001b[1;32m--> 156\u001b[1;33m             \u001b[0mresponse\u001b[0m \u001b[1;33m=\u001b[0m \u001b[0mnext\u001b[0m\u001b[1;33m(\u001b[0m\u001b[0mself\u001b[0m\u001b[1;33m.\u001b[0m\u001b[0m_response_iterator\u001b[0m\u001b[1;33m)\u001b[0m\u001b[1;33m\u001b[0m\u001b[1;33m\u001b[0m\u001b[0m\n\u001b[0m\u001b[0;32m    157\u001b[0m         \u001b[1;32mexcept\u001b[0m \u001b[0mException\u001b[0m \u001b[1;32mas\u001b[0m \u001b[0me\u001b[0m\u001b[1;33m:\u001b[0m \u001b[1;31m# specialize into different gRPC exceptions?\u001b[0m\u001b[1;33m\u001b[0m\u001b[1;33m\u001b[0m\u001b[0m\n",
      "\u001b[1;32m~\\AppData\\Roaming\\Python\\Python37\\site-packages\\grpc\\_channel.py\u001b[0m in \u001b[0;36m__next__\u001b[1;34m(self)\u001b[0m\n\u001b[0;32m    363\u001b[0m     \u001b[1;32mdef\u001b[0m \u001b[0m__next__\u001b[0m\u001b[1;33m(\u001b[0m\u001b[0mself\u001b[0m\u001b[1;33m)\u001b[0m\u001b[1;33m:\u001b[0m\u001b[1;33m\u001b[0m\u001b[1;33m\u001b[0m\u001b[0m\n\u001b[1;32m--> 364\u001b[1;33m         \u001b[1;32mreturn\u001b[0m \u001b[0mself\u001b[0m\u001b[1;33m.\u001b[0m\u001b[0m_next\u001b[0m\u001b[1;33m(\u001b[0m\u001b[1;33m)\u001b[0m\u001b[1;33m\u001b[0m\u001b[1;33m\u001b[0m\u001b[0m\n\u001b[0m\u001b[0;32m    365\u001b[0m \u001b[1;33m\u001b[0m\u001b[0m\n",
      "\u001b[1;32m~\\AppData\\Roaming\\Python\\Python37\\site-packages\\grpc\\_channel.py\u001b[0m in \u001b[0;36m_next\u001b[1;34m(self)\u001b[0m\n\u001b[0;32m    357\u001b[0m                     \u001b[1;32melif\u001b[0m \u001b[0mself\u001b[0m\u001b[1;33m.\u001b[0m\u001b[0m_state\u001b[0m\u001b[1;33m.\u001b[0m\u001b[0mcode\u001b[0m \u001b[1;32mis\u001b[0m \u001b[1;32mnot\u001b[0m \u001b[1;32mNone\u001b[0m\u001b[1;33m:\u001b[0m\u001b[1;33m\u001b[0m\u001b[1;33m\u001b[0m\u001b[0m\n\u001b[1;32m--> 358\u001b[1;33m                         \u001b[1;32mraise\u001b[0m \u001b[0mself\u001b[0m\u001b[1;33m\u001b[0m\u001b[1;33m\u001b[0m\u001b[0m\n\u001b[0m\u001b[0;32m    359\u001b[0m \u001b[1;33m\u001b[0m\u001b[0m\n",
      "\u001b[1;31m_Rendezvous\u001b[0m: <_Rendezvous of RPC that terminated with:\n\tstatus = StatusCode.UNKNOWN\n\tdetails = \"syntax error at line 1: \nmatch $x isa Intrusion-Set, has name \"APT12\";insert $x isa Intrusion-Set,has internal_id_key \"212ca911-1936-417e-a6bf-a834569ea8db\", has stix_id_key \"Intrusion-set--76851f68-9948-49f0-874b-daec774999b5\", has stix_label \"NA\", has entity_type \"Intrusion-set\", has created 2020-01-04T10:12:53, has revoked False,has object_status \"NA\", has created_at \"2020-01-04T10:12:53\", has created_at_day \"2020-01-04\", has created_at_month 2020-01, has created_at_year 2020;has updated_at 2020-01-04T10:12:53;has name \"APT12_\", has description \"APT12 is a threat group that has been attributed to China. The group has targeted a variety of victims including but not limited to media outlets, high-tech companies, and multiple governments\", has alias \"['APT 12 ', 'Numbered Panda ', 'TG-2754 ', 'BeeBus ', 'Calc Team', 'Group 22 ', 'Crimson Iron ']\", has first_seen \"2012-10-01 00:00:00\", has first_seen_day \"2012-10-01\", has first_seen_month \"2012-10\", has first_seen_year \"2012\";\n                                                                                                                                                                                                                                                                                                               ^\nno viable alternative at input 'False'\nsyntax error at line 1: \nmatch $x isa Intrusion-Set, has name \"APT12\";insert $x isa Intrusion-Set,has internal_id_key \"212ca911-1936-417e-a6bf-a834569ea8db\", has stix_id_key \"Intrusion-set--76851f68-9948-49f0-874b-daec774999b5\", has stix_label \"NA\", has entity_type \"Intrusion-set\", has created 2020-01-04T10:12:53, has revoked False,has object_status \"NA\", has created_at \"2020-01-04T10:12:53\", has created_at_day \"2020-01-04\", has created_at_month 2020-01, has created_at_year 2020;has updated_at 2020-01-04T10:12:53;has name \"APT12_\", has description \"APT12 is a threat group that has been attributed to China. The group has targeted a variety of victims including but not limited to media outlets, high-tech companies, and multiple governments\", has alias \"['APT 12 ', 'Numbered Panda ', 'TG-2754 ', 'BeeBus ', 'Calc Team', 'Group 22 ', 'Crimson Iron ']\", has first_seen \"2012-10-01 00:00:00\", has first_seen_day \"2012-10-01\", has first_seen_month \"2012-10\", has first_seen_year \"2012\";\n                                                                                                                                                                                                                                                                                                               ^\nmismatched input 'False' expecting {'match', 'define', 'undefine', 'insert', 'compute'}. Please check server logs for the stack trace.\"\n\tdebug_error_string = \"{\"created\":\"@1578115539.291000000\",\"description\":\"Error received from peer\",\"file\":\"src/core/lib/surface/call.cc\",\"file_line\":1017,\"grpc_message\":\"syntax error at line 1: \\nmatch $x isa Intrusion-Set, has name \"APT12\";insert $x isa Intrusion-Set,has internal_id_key \"212ca911-1936-417e-a6bf-a834569ea8db\", has stix_id_key \"Intrusion-set--76851f68-9948-49f0-874b-daec774999b5\", has stix_label \"NA\", has entity_type \"Intrusion-set\", has created 2020-01-04T10:12:53, has revoked False,has object_status \"NA\", has created_at \"2020-01-04T10:12:53\", has created_at_day \"2020-01-04\", has created_at_month 2020-01, has created_at_year 2020;has updated_at 2020-01-04T10:12:53;has name \"APT12_\", has description \"APT12\\u00c2\\u00a0is a threat group that has been attributed to China. The group has targeted a variety of victims including but not limited to media outlets, high-tech companies, and multiple governments\", has alias \"['APT 12 ', 'Numbered Panda ', 'TG-2754 ', 'BeeBus ', 'Calc Team', 'Group 22 ', 'Crimson Iron ']\", has first_seen \"2012-10-01 00:00:00\", has first_seen_day \"2012-10-01\", has first_seen_month \"2012-10\", has first_seen_year \"2012\";\\n                                                                                                                                                                                                                                                                                                               ^\\nno viable alternative at input 'False'\\nsyntax error at line 1: \\nmatch $x isa Intrusion-Set, has name \"APT12\";insert $x isa Intrusion-Set,has internal_id_key \"212ca911-1936-417e-a6bf-a834569ea8db\", has stix_id_key \"Intrusion-set--76851f68-9948-49f0-874b-daec774999b5\", has stix_label \"NA\", has entity_type \"Intrusion-set\", has created 2020-01-04T10:12:53, has revoked False,has object_status \"NA\", has created_at \"2020-01-04T10:12:53\", has created_at_day \"2020-01-04\", has created_at_month 2020-01, has created_at_year 2020;has updated_at 2020-01-04T10:12:53;has name \"APT12_\", has description \"APT12\\u00c2\\u00a0is a threat group that has been attributed to China. The group has targeted a variety of victims including but not limited to media outlets, high-tech companies, and multiple governments\", has alias \"['APT 12 ', 'Numbered Panda ', 'TG-2754 ', 'BeeBus ', 'Calc Team', 'Group 22 ', 'Crimson Iron ']\", has first_seen \"2012-10-01 00:00:00\", has first_seen_day \"2012-10-01\", has first_seen_month \"2012-10\", has first_seen_year \"2012\";\\n                                                                                                                                                                                                                                                                                                               ^\\nmismatched input 'False' expecting {'match', 'define', 'undefine', 'insert', 'compute'}. Please check server logs for the stack trace.\",\"grpc_status\":2}\"\n>",
      "\nDuring handling of the above exception, another exception occurred:\n",
      "\u001b[1;31mGraknError\u001b[0m                                Traceback (most recent call last)",
      "\u001b[1;32m<ipython-input-37-5e7a2e31729c>\u001b[0m in \u001b[0;36m<module>\u001b[1;34m\u001b[0m\n\u001b[1;32m----> 1\u001b[1;33m \u001b[0mbuild_grakn_graph\u001b[0m\u001b[1;33m(\u001b[0m\u001b[0minput_df\u001b[0m\u001b[1;33m=\u001b[0m\u001b[0mresult\u001b[0m\u001b[1;33m,\u001b[0m\u001b[0mkeyspace_name\u001b[0m\u001b[1;33m=\u001b[0m\u001b[1;34m'grakn'\u001b[0m\u001b[1;33m)\u001b[0m\u001b[1;33m\u001b[0m\u001b[1;33m\u001b[0m\u001b[0m\n\u001b[0m",
      "\u001b[1;32m<ipython-input-36-2b47993f5bc6>\u001b[0m in \u001b[0;36mbuild_grakn_graph\u001b[1;34m(input_df, keyspace_name)\u001b[0m\n\u001b[0;32m      3\u001b[0m     \u001b[1;32mwith\u001b[0m \u001b[0mGraknClient\u001b[0m\u001b[1;33m(\u001b[0m\u001b[0muri\u001b[0m\u001b[1;33m=\u001b[0m\u001b[1;34m\"192.168.83.128:48555\"\u001b[0m\u001b[1;33m)\u001b[0m \u001b[1;32mas\u001b[0m \u001b[0mclient\u001b[0m\u001b[1;33m:\u001b[0m\u001b[1;33m\u001b[0m\u001b[1;33m\u001b[0m\u001b[0m\n\u001b[0;32m      4\u001b[0m         \u001b[1;32mwith\u001b[0m \u001b[0mclient\u001b[0m\u001b[1;33m.\u001b[0m\u001b[0msession\u001b[0m\u001b[1;33m(\u001b[0m\u001b[0mkeyspace\u001b[0m \u001b[1;33m=\u001b[0m \u001b[0mkeyspace_name\u001b[0m\u001b[1;33m)\u001b[0m \u001b[1;32mas\u001b[0m \u001b[0msession\u001b[0m\u001b[1;33m:\u001b[0m\u001b[1;33m\u001b[0m\u001b[1;33m\u001b[0m\u001b[0m\n\u001b[1;32m----> 5\u001b[1;33m             \u001b[0mload_data_into_grakn\u001b[0m\u001b[1;33m(\u001b[0m\u001b[0msession\u001b[0m\u001b[1;33m,\u001b[0m\u001b[0minput_df\u001b[0m\u001b[1;33m)\u001b[0m\u001b[1;33m\u001b[0m\u001b[1;33m\u001b[0m\u001b[0m\n\u001b[0m",
      "\u001b[1;32m<ipython-input-35-74aa30591aaa>\u001b[0m in \u001b[0;36mload_data_into_grakn\u001b[1;34m(session, input_df)\u001b[0m\n\u001b[0;32m      2\u001b[0m     \u001b[0mprint\u001b[0m\u001b[1;33m(\u001b[0m\u001b[1;34m\"Inserting intrusion...\"\u001b[0m\u001b[1;33m)\u001b[0m\u001b[1;33m\u001b[0m\u001b[1;33m\u001b[0m\u001b[0m\n\u001b[0;32m      3\u001b[0m     \u001b[1;31m# using progress_apply instead of apply so we have a progress bar form tqdm\u001b[0m\u001b[1;33m\u001b[0m\u001b[1;33m\u001b[0m\u001b[1;33m\u001b[0m\u001b[0m\n\u001b[1;32m----> 4\u001b[1;33m     \u001b[0minput_df\u001b[0m\u001b[1;33m.\u001b[0m\u001b[0mprogress_apply\u001b[0m\u001b[1;33m(\u001b[0m\u001b[0minsert_one_intrusion_set\u001b[0m\u001b[1;33m,\u001b[0m \u001b[0maxis\u001b[0m\u001b[1;33m=\u001b[0m\u001b[1;36m1\u001b[0m\u001b[1;33m,\u001b[0m \u001b[0msession\u001b[0m\u001b[1;33m=\u001b[0m\u001b[0msession\u001b[0m\u001b[1;33m)\u001b[0m\u001b[1;33m\u001b[0m\u001b[1;33m\u001b[0m\u001b[0m\n\u001b[0m",
      "\u001b[1;32m~\\AppData\\Roaming\\Python\\Python37\\site-packages\\tqdm\\_tqdm.py\u001b[0m in \u001b[0;36minner\u001b[1;34m(df, func, *args, **kwargs)\u001b[0m\n\u001b[0;32m    675\u001b[0m                 \u001b[1;31m# Apply the provided function (in **kwargs)\u001b[0m\u001b[1;33m\u001b[0m\u001b[1;33m\u001b[0m\u001b[1;33m\u001b[0m\u001b[0m\n\u001b[0;32m    676\u001b[0m                 \u001b[1;31m# on the df using our wrapper (which provides bar updating)\u001b[0m\u001b[1;33m\u001b[0m\u001b[1;33m\u001b[0m\u001b[1;33m\u001b[0m\u001b[0m\n\u001b[1;32m--> 677\u001b[1;33m                 \u001b[0mresult\u001b[0m \u001b[1;33m=\u001b[0m \u001b[0mgetattr\u001b[0m\u001b[1;33m(\u001b[0m\u001b[0mdf\u001b[0m\u001b[1;33m,\u001b[0m \u001b[0mdf_function\u001b[0m\u001b[1;33m)\u001b[0m\u001b[1;33m(\u001b[0m\u001b[0mwrapper\u001b[0m\u001b[1;33m,\u001b[0m \u001b[1;33m**\u001b[0m\u001b[0mkwargs\u001b[0m\u001b[1;33m)\u001b[0m\u001b[1;33m\u001b[0m\u001b[1;33m\u001b[0m\u001b[0m\n\u001b[0m\u001b[0;32m    678\u001b[0m \u001b[1;33m\u001b[0m\u001b[0m\n\u001b[0;32m    679\u001b[0m                 \u001b[1;31m# Close bar and return pandas calculation result\u001b[0m\u001b[1;33m\u001b[0m\u001b[1;33m\u001b[0m\u001b[1;33m\u001b[0m\u001b[0m\n",
      "\u001b[1;32m~\\AppData\\Roaming\\Python\\Python37\\site-packages\\pandas\\core\\frame.py\u001b[0m in \u001b[0;36mapply\u001b[1;34m(self, func, axis, broadcast, raw, reduce, result_type, args, **kwds)\u001b[0m\n\u001b[0;32m   6485\u001b[0m                          \u001b[0margs\u001b[0m\u001b[1;33m=\u001b[0m\u001b[0margs\u001b[0m\u001b[1;33m,\u001b[0m\u001b[1;33m\u001b[0m\u001b[1;33m\u001b[0m\u001b[0m\n\u001b[0;32m   6486\u001b[0m                          kwds=kwds)\n\u001b[1;32m-> 6487\u001b[1;33m         \u001b[1;32mreturn\u001b[0m \u001b[0mop\u001b[0m\u001b[1;33m.\u001b[0m\u001b[0mget_result\u001b[0m\u001b[1;33m(\u001b[0m\u001b[1;33m)\u001b[0m\u001b[1;33m\u001b[0m\u001b[1;33m\u001b[0m\u001b[0m\n\u001b[0m\u001b[0;32m   6488\u001b[0m \u001b[1;33m\u001b[0m\u001b[0m\n\u001b[0;32m   6489\u001b[0m     \u001b[1;32mdef\u001b[0m \u001b[0mapplymap\u001b[0m\u001b[1;33m(\u001b[0m\u001b[0mself\u001b[0m\u001b[1;33m,\u001b[0m \u001b[0mfunc\u001b[0m\u001b[1;33m)\u001b[0m\u001b[1;33m:\u001b[0m\u001b[1;33m\u001b[0m\u001b[1;33m\u001b[0m\u001b[0m\n",
      "\u001b[1;32m~\\AppData\\Roaming\\Python\\Python37\\site-packages\\pandas\\core\\apply.py\u001b[0m in \u001b[0;36mget_result\u001b[1;34m(self)\u001b[0m\n\u001b[0;32m    149\u001b[0m             \u001b[1;32mreturn\u001b[0m \u001b[0mself\u001b[0m\u001b[1;33m.\u001b[0m\u001b[0mapply_raw\u001b[0m\u001b[1;33m(\u001b[0m\u001b[1;33m)\u001b[0m\u001b[1;33m\u001b[0m\u001b[1;33m\u001b[0m\u001b[0m\n\u001b[0;32m    150\u001b[0m \u001b[1;33m\u001b[0m\u001b[0m\n\u001b[1;32m--> 151\u001b[1;33m         \u001b[1;32mreturn\u001b[0m \u001b[0mself\u001b[0m\u001b[1;33m.\u001b[0m\u001b[0mapply_standard\u001b[0m\u001b[1;33m(\u001b[0m\u001b[1;33m)\u001b[0m\u001b[1;33m\u001b[0m\u001b[1;33m\u001b[0m\u001b[0m\n\u001b[0m\u001b[0;32m    152\u001b[0m \u001b[1;33m\u001b[0m\u001b[0m\n\u001b[0;32m    153\u001b[0m     \u001b[1;32mdef\u001b[0m \u001b[0mapply_empty_result\u001b[0m\u001b[1;33m(\u001b[0m\u001b[0mself\u001b[0m\u001b[1;33m)\u001b[0m\u001b[1;33m:\u001b[0m\u001b[1;33m\u001b[0m\u001b[1;33m\u001b[0m\u001b[0m\n",
      "\u001b[1;32m~\\AppData\\Roaming\\Python\\Python37\\site-packages\\pandas\\core\\apply.py\u001b[0m in \u001b[0;36mapply_standard\u001b[1;34m(self)\u001b[0m\n\u001b[0;32m    255\u001b[0m \u001b[1;33m\u001b[0m\u001b[0m\n\u001b[0;32m    256\u001b[0m         \u001b[1;31m# compute the result using the series generator\u001b[0m\u001b[1;33m\u001b[0m\u001b[1;33m\u001b[0m\u001b[1;33m\u001b[0m\u001b[0m\n\u001b[1;32m--> 257\u001b[1;33m         \u001b[0mself\u001b[0m\u001b[1;33m.\u001b[0m\u001b[0mapply_series_generator\u001b[0m\u001b[1;33m(\u001b[0m\u001b[1;33m)\u001b[0m\u001b[1;33m\u001b[0m\u001b[1;33m\u001b[0m\u001b[0m\n\u001b[0m\u001b[0;32m    258\u001b[0m \u001b[1;33m\u001b[0m\u001b[0m\n\u001b[0;32m    259\u001b[0m         \u001b[1;31m# wrap results\u001b[0m\u001b[1;33m\u001b[0m\u001b[1;33m\u001b[0m\u001b[1;33m\u001b[0m\u001b[0m\n",
      "\u001b[1;32m~\\AppData\\Roaming\\Python\\Python37\\site-packages\\pandas\\core\\apply.py\u001b[0m in \u001b[0;36mapply_series_generator\u001b[1;34m(self)\u001b[0m\n\u001b[0;32m    284\u001b[0m             \u001b[1;32mtry\u001b[0m\u001b[1;33m:\u001b[0m\u001b[1;33m\u001b[0m\u001b[1;33m\u001b[0m\u001b[0m\n\u001b[0;32m    285\u001b[0m                 \u001b[1;32mfor\u001b[0m \u001b[0mi\u001b[0m\u001b[1;33m,\u001b[0m \u001b[0mv\u001b[0m \u001b[1;32min\u001b[0m \u001b[0menumerate\u001b[0m\u001b[1;33m(\u001b[0m\u001b[0mseries_gen\u001b[0m\u001b[1;33m)\u001b[0m\u001b[1;33m:\u001b[0m\u001b[1;33m\u001b[0m\u001b[1;33m\u001b[0m\u001b[0m\n\u001b[1;32m--> 286\u001b[1;33m                     \u001b[0mresults\u001b[0m\u001b[1;33m[\u001b[0m\u001b[0mi\u001b[0m\u001b[1;33m]\u001b[0m \u001b[1;33m=\u001b[0m \u001b[0mself\u001b[0m\u001b[1;33m.\u001b[0m\u001b[0mf\u001b[0m\u001b[1;33m(\u001b[0m\u001b[0mv\u001b[0m\u001b[1;33m)\u001b[0m\u001b[1;33m\u001b[0m\u001b[1;33m\u001b[0m\u001b[0m\n\u001b[0m\u001b[0;32m    287\u001b[0m                     \u001b[0mkeys\u001b[0m\u001b[1;33m.\u001b[0m\u001b[0mappend\u001b[0m\u001b[1;33m(\u001b[0m\u001b[0mv\u001b[0m\u001b[1;33m.\u001b[0m\u001b[0mname\u001b[0m\u001b[1;33m)\u001b[0m\u001b[1;33m\u001b[0m\u001b[1;33m\u001b[0m\u001b[0m\n\u001b[0;32m    288\u001b[0m             \u001b[1;32mexcept\u001b[0m \u001b[0mException\u001b[0m \u001b[1;32mas\u001b[0m \u001b[0me\u001b[0m\u001b[1;33m:\u001b[0m\u001b[1;33m\u001b[0m\u001b[1;33m\u001b[0m\u001b[0m\n",
      "\u001b[1;32m~\\AppData\\Roaming\\Python\\Python37\\site-packages\\pandas\\core\\apply.py\u001b[0m in \u001b[0;36mf\u001b[1;34m(x)\u001b[0m\n\u001b[0;32m     76\u001b[0m \u001b[1;33m\u001b[0m\u001b[0m\n\u001b[0;32m     77\u001b[0m             \u001b[1;32mdef\u001b[0m \u001b[0mf\u001b[0m\u001b[1;33m(\u001b[0m\u001b[0mx\u001b[0m\u001b[1;33m)\u001b[0m\u001b[1;33m:\u001b[0m\u001b[1;33m\u001b[0m\u001b[1;33m\u001b[0m\u001b[0m\n\u001b[1;32m---> 78\u001b[1;33m                 \u001b[1;32mreturn\u001b[0m \u001b[0mfunc\u001b[0m\u001b[1;33m(\u001b[0m\u001b[0mx\u001b[0m\u001b[1;33m,\u001b[0m \u001b[1;33m*\u001b[0m\u001b[0margs\u001b[0m\u001b[1;33m,\u001b[0m \u001b[1;33m**\u001b[0m\u001b[0mkwds\u001b[0m\u001b[1;33m)\u001b[0m\u001b[1;33m\u001b[0m\u001b[1;33m\u001b[0m\u001b[0m\n\u001b[0m\u001b[0;32m     79\u001b[0m         \u001b[1;32melse\u001b[0m\u001b[1;33m:\u001b[0m\u001b[1;33m\u001b[0m\u001b[1;33m\u001b[0m\u001b[0m\n\u001b[0;32m     80\u001b[0m             \u001b[0mf\u001b[0m \u001b[1;33m=\u001b[0m \u001b[0mfunc\u001b[0m\u001b[1;33m\u001b[0m\u001b[1;33m\u001b[0m\u001b[0m\n",
      "\u001b[1;32m~\\AppData\\Roaming\\Python\\Python37\\site-packages\\tqdm\\_tqdm.py\u001b[0m in \u001b[0;36mwrapper\u001b[1;34m(*args, **kwargs)\u001b[0m\n\u001b[0;32m    671\u001b[0m                     \u001b[1;31m# take a fast or slow code path; so stop when t.total==t.n\u001b[0m\u001b[1;33m\u001b[0m\u001b[1;33m\u001b[0m\u001b[1;33m\u001b[0m\u001b[0m\n\u001b[0;32m    672\u001b[0m                     \u001b[0mt\u001b[0m\u001b[1;33m.\u001b[0m\u001b[0mupdate\u001b[0m\u001b[1;33m(\u001b[0m\u001b[0mn\u001b[0m\u001b[1;33m=\u001b[0m\u001b[1;36m1\u001b[0m \u001b[1;32mif\u001b[0m \u001b[1;32mnot\u001b[0m \u001b[0mt\u001b[0m\u001b[1;33m.\u001b[0m\u001b[0mtotal\u001b[0m \u001b[1;32mor\u001b[0m \u001b[0mt\u001b[0m\u001b[1;33m.\u001b[0m\u001b[0mn\u001b[0m \u001b[1;33m<\u001b[0m \u001b[0mt\u001b[0m\u001b[1;33m.\u001b[0m\u001b[0mtotal\u001b[0m \u001b[1;32melse\u001b[0m \u001b[1;36m0\u001b[0m\u001b[1;33m)\u001b[0m\u001b[1;33m\u001b[0m\u001b[1;33m\u001b[0m\u001b[0m\n\u001b[1;32m--> 673\u001b[1;33m                     \u001b[1;32mreturn\u001b[0m \u001b[0mfunc\u001b[0m\u001b[1;33m(\u001b[0m\u001b[1;33m*\u001b[0m\u001b[0margs\u001b[0m\u001b[1;33m,\u001b[0m \u001b[1;33m**\u001b[0m\u001b[0mkwargs\u001b[0m\u001b[1;33m)\u001b[0m\u001b[1;33m\u001b[0m\u001b[1;33m\u001b[0m\u001b[0m\n\u001b[0m\u001b[0;32m    674\u001b[0m \u001b[1;33m\u001b[0m\u001b[0m\n\u001b[0;32m    675\u001b[0m                 \u001b[1;31m# Apply the provided function (in **kwargs)\u001b[0m\u001b[1;33m\u001b[0m\u001b[1;33m\u001b[0m\u001b[1;33m\u001b[0m\u001b[0m\n",
      "\u001b[1;32m<ipython-input-34-c9e4394d7771>\u001b[0m in \u001b[0;36minsert_one_intrusion_set\u001b[1;34m(df, session)\u001b[0m\n\u001b[0;32m     35\u001b[0m     \u001b[1;32mwith\u001b[0m \u001b[0msession\u001b[0m\u001b[1;33m.\u001b[0m\u001b[0mtransaction\u001b[0m\u001b[1;33m(\u001b[0m\u001b[1;33m)\u001b[0m\u001b[1;33m.\u001b[0m\u001b[0mwrite\u001b[0m\u001b[1;33m(\u001b[0m\u001b[1;33m)\u001b[0m \u001b[1;32mas\u001b[0m \u001b[0mtransaction\u001b[0m\u001b[1;33m:\u001b[0m\u001b[1;33m\u001b[0m\u001b[1;33m\u001b[0m\u001b[0m\n\u001b[0;32m     36\u001b[0m         \u001b[1;31m# make a write transection with the query\u001b[0m\u001b[1;33m\u001b[0m\u001b[1;33m\u001b[0m\u001b[1;33m\u001b[0m\u001b[0m\n\u001b[1;32m---> 37\u001b[1;33m         \u001b[0mtransaction\u001b[0m\u001b[1;33m.\u001b[0m\u001b[0mquery\u001b[0m\u001b[1;33m(\u001b[0m\u001b[0mgraql_insert_query\u001b[0m\u001b[1;33m)\u001b[0m\u001b[1;33m\u001b[0m\u001b[1;33m\u001b[0m\u001b[0m\n\u001b[0m\u001b[0;32m     38\u001b[0m         \u001b[1;31m# remember to commit at the end\u001b[0m\u001b[1;33m\u001b[0m\u001b[1;33m\u001b[0m\u001b[1;33m\u001b[0m\u001b[0m\n\u001b[0;32m     39\u001b[0m         \u001b[0mtransaction\u001b[0m\u001b[1;33m.\u001b[0m\u001b[0mcommit\u001b[0m\u001b[1;33m(\u001b[0m\u001b[1;33m)\u001b[0m\u001b[1;33m\u001b[0m\u001b[1;33m\u001b[0m\u001b[0m\n",
      "\u001b[1;32mC:\\ProgramData\\Anaconda3\\lib\\site-packages\\grakn\\client.py\u001b[0m in \u001b[0;36mquery\u001b[1;34m(self, query, infer)\u001b[0m\n\u001b[0;32m    129\u001b[0m     \u001b[1;32mdef\u001b[0m \u001b[0mquery\u001b[0m\u001b[1;33m(\u001b[0m\u001b[0mself\u001b[0m\u001b[1;33m,\u001b[0m \u001b[0mquery\u001b[0m\u001b[1;33m,\u001b[0m \u001b[0minfer\u001b[0m\u001b[1;33m=\u001b[0m\u001b[1;32mTrue\u001b[0m\u001b[1;33m)\u001b[0m\u001b[1;33m:\u001b[0m\u001b[1;33m\u001b[0m\u001b[1;33m\u001b[0m\u001b[0m\n\u001b[0;32m    130\u001b[0m         \u001b[1;34m\"\"\" Execute a Graql query, inference is optionally enabled \"\"\"\u001b[0m\u001b[1;33m\u001b[0m\u001b[1;33m\u001b[0m\u001b[0m\n\u001b[1;32m--> 131\u001b[1;33m         \u001b[1;32mreturn\u001b[0m \u001b[0mself\u001b[0m\u001b[1;33m.\u001b[0m\u001b[0m_tx_service\u001b[0m\u001b[1;33m.\u001b[0m\u001b[0mquery\u001b[0m\u001b[1;33m(\u001b[0m\u001b[0mquery\u001b[0m\u001b[1;33m,\u001b[0m \u001b[0minfer\u001b[0m\u001b[1;33m)\u001b[0m\u001b[1;33m\u001b[0m\u001b[1;33m\u001b[0m\u001b[0m\n\u001b[0m\u001b[0;32m    132\u001b[0m     \u001b[0mquery\u001b[0m\u001b[1;33m.\u001b[0m\u001b[0m__annotations__\u001b[0m \u001b[1;33m=\u001b[0m \u001b[1;33m{\u001b[0m\u001b[1;34m'query'\u001b[0m\u001b[1;33m:\u001b[0m \u001b[0mstr\u001b[0m\u001b[1;33m}\u001b[0m\u001b[1;33m\u001b[0m\u001b[1;33m\u001b[0m\u001b[0m\n\u001b[0;32m    133\u001b[0m \u001b[1;33m\u001b[0m\u001b[0m\n",
      "\u001b[1;32mC:\\ProgramData\\Anaconda3\\lib\\site-packages\\grakn\\service\\Session\\TransactionService.py\u001b[0m in \u001b[0;36mquery\u001b[1;34m(self, query, infer)\u001b[0m\n\u001b[0;32m     47\u001b[0m         \u001b[0mrequest\u001b[0m \u001b[1;33m=\u001b[0m \u001b[0mRequestBuilder\u001b[0m\u001b[1;33m.\u001b[0m\u001b[0mquery\u001b[0m\u001b[1;33m(\u001b[0m\u001b[0mquery\u001b[0m\u001b[1;33m,\u001b[0m \u001b[0minfer\u001b[0m\u001b[1;33m=\u001b[0m\u001b[0minfer\u001b[0m\u001b[1;33m)\u001b[0m\u001b[1;33m\u001b[0m\u001b[1;33m\u001b[0m\u001b[0m\n\u001b[0;32m     48\u001b[0m         \u001b[1;31m# print(\"Query request: {0}\".format(request))\u001b[0m\u001b[1;33m\u001b[0m\u001b[1;33m\u001b[0m\u001b[1;33m\u001b[0m\u001b[0m\n\u001b[1;32m---> 49\u001b[1;33m         \u001b[0mresponse\u001b[0m \u001b[1;33m=\u001b[0m \u001b[0mself\u001b[0m\u001b[1;33m.\u001b[0m\u001b[0m_communicator\u001b[0m\u001b[1;33m.\u001b[0m\u001b[0msend\u001b[0m\u001b[1;33m(\u001b[0m\u001b[0mrequest\u001b[0m\u001b[1;33m)\u001b[0m\u001b[1;33m\u001b[0m\u001b[1;33m\u001b[0m\u001b[0m\n\u001b[0m\u001b[0;32m     50\u001b[0m         \u001b[1;31m# convert `response` into a python iterator\u001b[0m\u001b[1;33m\u001b[0m\u001b[1;33m\u001b[0m\u001b[1;33m\u001b[0m\u001b[0m\n\u001b[0;32m     51\u001b[0m         \u001b[1;32mreturn\u001b[0m \u001b[0mResponseReader\u001b[0m\u001b[1;33m.\u001b[0m\u001b[0mResponseReader\u001b[0m\u001b[1;33m.\u001b[0m\u001b[0mquery\u001b[0m\u001b[1;33m(\u001b[0m\u001b[0mself\u001b[0m\u001b[1;33m,\u001b[0m \u001b[0mresponse\u001b[0m\u001b[1;33m.\u001b[0m\u001b[0mquery_iter\u001b[0m\u001b[1;33m)\u001b[0m\u001b[1;33m\u001b[0m\u001b[1;33m\u001b[0m\u001b[0m\n",
      "\u001b[1;32mC:\\ProgramData\\Anaconda3\\lib\\site-packages\\grakn\\service\\Session\\TransactionService.py\u001b[0m in \u001b[0;36msend\u001b[1;34m(self, request)\u001b[0m\n\u001b[0;32m    158\u001b[0m             \u001b[1;31m# invalidate this communicator, functionally this occurs automatically on exception (iterator not usable anymore)\u001b[0m\u001b[1;33m\u001b[0m\u001b[1;33m\u001b[0m\u001b[1;33m\u001b[0m\u001b[0m\n\u001b[0;32m    159\u001b[0m             \u001b[0mself\u001b[0m\u001b[1;33m.\u001b[0m\u001b[0m_closed\u001b[0m \u001b[1;33m=\u001b[0m \u001b[1;32mTrue\u001b[0m\u001b[1;33m\u001b[0m\u001b[1;33m\u001b[0m\u001b[0m\n\u001b[1;32m--> 160\u001b[1;33m             \u001b[1;32mraise\u001b[0m \u001b[0mGraknError\u001b[0m\u001b[1;33m(\u001b[0m\u001b[1;34m\"Server/network error: {0}\\n\\n generated from request: {1}\"\u001b[0m\u001b[1;33m.\u001b[0m\u001b[0mformat\u001b[0m\u001b[1;33m(\u001b[0m\u001b[0me\u001b[0m\u001b[1;33m,\u001b[0m \u001b[0mrequest\u001b[0m\u001b[1;33m)\u001b[0m\u001b[1;33m)\u001b[0m\u001b[1;33m\u001b[0m\u001b[1;33m\u001b[0m\u001b[0m\n\u001b[0m\u001b[0;32m    161\u001b[0m \u001b[1;33m\u001b[0m\u001b[0m\n\u001b[0;32m    162\u001b[0m         \u001b[1;32mif\u001b[0m \u001b[0mresponse\u001b[0m \u001b[1;32mis\u001b[0m \u001b[1;32mNone\u001b[0m\u001b[1;33m:\u001b[0m\u001b[1;33m\u001b[0m\u001b[1;33m\u001b[0m\u001b[0m\n",
      "\u001b[1;31mGraknError\u001b[0m: ('Server/network error: <_Rendezvous of RPC that terminated with:\\n\\tstatus = StatusCode.UNKNOWN\\n\\tdetails = \"syntax error at line 1: \\nmatch $x isa Intrusion-Set, has name \"APT12\";insert $x isa Intrusion-Set,has internal_id_key \"212ca911-1936-417e-a6bf-a834569ea8db\", has stix_id_key \"Intrusion-set--76851f68-9948-49f0-874b-daec774999b5\", has stix_label \"NA\", has entity_type \"Intrusion-set\", has created 2020-01-04T10:12:53, has revoked False,has object_status \"NA\", has created_at \"2020-01-04T10:12:53\", has created_at_day \"2020-01-04\", has created_at_month 2020-01, has created_at_year 2020;has updated_at 2020-01-04T10:12:53;has name \"APT12_\", has description \"APT12\\xa0is a threat group that has been attributed to China. The group has targeted a variety of victims including but not limited to media outlets, high-tech companies, and multiple governments\", has alias \"[\\'APT 12 \\', \\'Numbered Panda \\', \\'TG-2754 \\', \\'BeeBus \\', \\'Calc Team\\', \\'Group 22 \\', \\'Crimson Iron \\']\", has first_seen \"2012-10-01 00:00:00\", has first_seen_day \"2012-10-01\", has first_seen_month \"2012-10\", has first_seen_year \"2012\";\\n                                                                                                                                                                                                                                                                                                               ^\\nno viable alternative at input \\'False\\'\\nsyntax error at line 1: \\nmatch $x isa Intrusion-Set, has name \"APT12\";insert $x isa Intrusion-Set,has internal_id_key \"212ca911-1936-417e-a6bf-a834569ea8db\", has stix_id_key \"Intrusion-set--76851f68-9948-49f0-874b-daec774999b5\", has stix_label \"NA\", has entity_type \"Intrusion-set\", has created 2020-01-04T10:12:53, has revoked False,has object_status \"NA\", has created_at \"2020-01-04T10:12:53\", has created_at_day \"2020-01-04\", has created_at_month 2020-01, has created_at_year 2020;has updated_at 2020-01-04T10:12:53;has name \"APT12_\", has description \"APT12\\xa0is a threat group that has been attributed to China. The group has targeted a variety of victims including but not limited to media outlets, high-tech companies, and multiple governments\", has alias \"[\\'APT 12 \\', \\'Numbered Panda \\', \\'TG-2754 \\', \\'BeeBus \\', \\'Calc Team\\', \\'Group 22 \\', \\'Crimson Iron \\']\", has first_seen \"2012-10-01 00:00:00\", has first_seen_day \"2012-10-01\", has first_seen_month \"2012-10\", has first_seen_year \"2012\";\\n                                                                                                                                                                                                                                                                                                               ^\\nmismatched input \\'False\\' expecting {\\'match\\', \\'define\\', \\'undefine\\', \\'insert\\', \\'compute\\'}. Please check server logs for the stack trace.\"\\n\\tdebug_error_string = \"{\"created\":\"@1578115539.291000000\",\"description\":\"Error received from peer\",\"file\":\"src/core/lib/surface/call.cc\",\"file_line\":1017,\"grpc_message\":\"syntax error at line 1: \\\\nmatch $x isa Intrusion-Set, has name \"APT12\";insert $x isa Intrusion-Set,has internal_id_key \"212ca911-1936-417e-a6bf-a834569ea8db\", has stix_id_key \"Intrusion-set--76851f68-9948-49f0-874b-daec774999b5\", has stix_label \"NA\", has entity_type \"Intrusion-set\", has created 2020-01-04T10:12:53, has revoked False,has object_status \"NA\", has created_at \"2020-01-04T10:12:53\", has created_at_day \"2020-01-04\", has created_at_month 2020-01, has created_at_year 2020;has updated_at 2020-01-04T10:12:53;has name \"APT12_\", has description \"APT12\\\\u00c2\\\\u00a0is a threat group that has been attributed to China. The group has targeted a variety of victims including but not limited to media outlets, high-tech companies, and multiple governments\", has alias \"[\\'APT 12 \\', \\'Numbered Panda \\', \\'TG-2754 \\', \\'BeeBus \\', \\'Calc Team\\', \\'Group 22 \\', \\'Crimson Iron \\']\", has first_seen \"2012-10-01 00:00:00\", has first_seen_day \"2012-10-01\", has first_seen_month \"2012-10\", has first_seen_year \"2012\";\\\\n                                                                                                                                                                                                                                                                                                               ^\\\\nno viable alternative at input \\'False\\'\\\\nsyntax error at line 1: \\\\nmatch $x isa Intrusion-Set, has name \"APT12\";insert $x isa Intrusion-Set,has internal_id_key \"212ca911-1936-417e-a6bf-a834569ea8db\", has stix_id_key \"Intrusion-set--76851f68-9948-49f0-874b-daec774999b5\", has stix_label \"NA\", has entity_type \"Intrusion-set\", has created 2020-01-04T10:12:53, has revoked False,has object_status \"NA\", has created_at \"2020-01-04T10:12:53\", has created_at_day \"2020-01-04\", has created_at_month 2020-01, has created_at_year 2020;has updated_at 2020-01-04T10:12:53;has name \"APT12_\", has description \"APT12\\\\u00c2\\\\u00a0is a threat group that has been attributed to China. The group has targeted a variety of victims including but not limited to media outlets, high-tech companies, and multiple governments\", has alias \"[\\'APT 12 \\', \\'Numbered Panda \\', \\'TG-2754 \\', \\'BeeBus \\', \\'Calc Team\\', \\'Group 22 \\', \\'Crimson Iron \\']\", has first_seen \"2012-10-01 00:00:00\", has first_seen_day \"2012-10-01\", has first_seen_month \"2012-10\", has first_seen_year \"2012\";\\\\n                                                                                                                                                                                                                                                                                                               ^\\\\nmismatched input \\'False\\' expecting {\\'match\\', \\'define\\', \\'undefine\\', \\'insert\\', \\'compute\\'}. Please check server logs for the stack trace.\",\"grpc_status\":2}\"\\n>\\n\\n generated from request: query_req {\\n  query: \"match $x isa Intrusion-Set, has name \\\\\"APT12\\\\\";insert $x isa Intrusion-Set,has internal_id_key \\\\\"212ca911-1936-417e-a6bf-a834569ea8db\\\\\", has stix_id_key \\\\\"Intrusion-set--76851f68-9948-49f0-874b-daec774999b5\\\\\", has stix_label \\\\\"NA\\\\\", has entity_type \\\\\"Intrusion-set\\\\\", has created 2020-01-04T10:12:53, has revoked False,has object_status \\\\\"NA\\\\\", has created_at \\\\\"2020-01-04T10:12:53\\\\\", has created_at_day \\\\\"2020-01-04\\\\\", has created_at_month 2020-01, has created_at_year 2020;has updated_at 2020-01-04T10:12:53;has name \\\\\"APT12_\\\\\", has description \\\\\"APT12\\\\302\\\\240is a threat group that has been attributed to China. The group has targeted a variety of victims including but not limited to media outlets, high-tech companies, and multiple governments\\\\\", has alias \\\\\"[\\\\\\'APT 12 \\\\\\', \\\\\\'Numbered Panda \\\\\\', \\\\\\'TG-2754 \\\\\\', \\\\\\'BeeBus \\\\\\', \\\\\\'Calc Team\\\\\\', \\\\\\'Group 22 \\\\\\', \\\\\\'Crimson Iron \\\\\\']\\\\\", has first_seen \\\\\"2012-10-01 00:00:00\\\\\", has first_seen_day \\\\\"2012-10-01\\\\\", has first_seen_month \\\\\"2012-10\\\\\", has first_seen_year \\\\\"2012\\\\\";\"\\n}\\n', 'occurred at index 0')"
     ]
    }
   ],
   "source": [
    "build_grakn_graph(input_df=result,keyspace_name='grakn')"
   ]
  },
  {
   "cell_type": "code",
   "execution_count": 173,
   "metadata": {},
   "outputs": [
    {
     "name": "stdout",
     "output_type": "stream",
     "text": [
      "NA\n",
      "NA\n",
      "NA\n",
      "NA\n",
      "NA\n",
      "NA\n"
     ]
    }
   ],
   "source": [
    "for index,i in result.iterrows():\n",
    "    print(i.stix_label)"
   ]
  },
  {
   "cell_type": "code",
   "execution_count": null,
   "metadata": {},
   "outputs": [],
   "source": []
  },
  {
   "cell_type": "code",
   "execution_count": null,
   "metadata": {},
   "outputs": [],
   "source": []
  },
  {
   "cell_type": "code",
   "execution_count": null,
   "metadata": {},
   "outputs": [],
   "source": []
  },
  {
   "cell_type": "code",
   "execution_count": null,
   "metadata": {},
   "outputs": [],
   "source": []
  },
  {
   "cell_type": "code",
   "execution_count": null,
   "metadata": {},
   "outputs": [],
   "source": []
  },
  {
   "cell_type": "code",
   "execution_count": null,
   "metadata": {},
   "outputs": [],
   "source": []
  },
  {
   "cell_type": "code",
   "execution_count": 98,
   "metadata": {},
   "outputs": [
    {
     "data": {
      "text/plain": [
       "0         APT12\n",
       "1         APT28\n",
       "2    BlackOasis\n",
       "3        Cobalt\n",
       "4         APT30\n",
       "5         APT12\n",
       "Name: name, dtype: object"
      ]
     },
     "execution_count": 98,
     "metadata": {},
     "output_type": "execute_result"
    }
   ],
   "source": [
    "result.name"
   ]
  },
  {
   "cell_type": "code",
   "execution_count": 119,
   "metadata": {},
   "outputs": [
    {
     "name": "stdout",
     "output_type": "stream",
     "text": [
      "NaN                                                                    NA\n",
      "internal_id_key                      212ca911-1936-417e-a6bf-a834569ea8db\n",
      "stix_id_key             Intrusion-set--76851f68-9948-49f0-874b-daec774...\n",
      "stix_label                                                             NA\n",
      "entity_type                                                 Intrusion-set\n",
      "created                                               2020-01-04T10:12:53\n",
      "modified                                              2020-01-04T10:12:53\n",
      "revoked                                                             False\n",
      "object_status                                                          NA\n",
      "created_at                                            2020-01-04T10:12:53\n",
      "created_at_day                                                 2020-01-04\n",
      "created_at_month                                                  2020-01\n",
      "created_at_year                                                      2020\n",
      "updated_at                                            2020-01-04T10:12:53\n",
      "name                                                                APT12\n",
      "description             APT12 is a threat group that has been attribut...\n",
      "alias                   APT 12 \\nNumbered Panda \\nTG-2754 \\nBeeBus \\nC...\n",
      "graph_data                                                             NA\n",
      "first_seen                                            2012-10-01 00:00:00\n",
      "first_seen_day                                        2012-10-01 00:00:00\n",
      "first_seen_month                                      2012-10-01 00:00:00\n",
      "first_seen_year                                                      2012\n",
      "last_seen                                                              NA\n",
      "last_seen_day                                                          NA\n",
      "last_seen_month                                                        NA\n",
      "last_seen_year                                                         NA\n",
      "goal                                                                   NA\n",
      "sophistication                                                         NA\n",
      "resource_level                                                         NA\n",
      "primary_motivation                                                     NA\n",
      "secondary_motivation                                                   NA\n",
      "type                                                        intrusion-set\n",
      "id                                 intrusion-set:<System Generated Value>\n",
      "labels                                                                 NA\n",
      "external_references     https://www.crowdstrike.com/blog/whois-numbere...\n",
      "object_marking_refs                                                    NA\n",
      "granular_markings                                                      NA\n",
      "Name: 0, dtype: object\n",
      "NaN                                                                    NA\n",
      "internal_id_key                      1138ed09-9f4c-40fc-b8ef-75e5b2899e5f\n",
      "stix_id_key             Intrusion-set--d9526612-c86a-4487-b90e-a527e43...\n",
      "stix_label                                                             NA\n",
      "entity_type                                                 Intrusion-set\n",
      "created                                               2020-01-04T10:12:53\n",
      "modified                                              2020-01-04T10:12:53\n",
      "revoked                                                             False\n",
      "object_status                                                          NA\n",
      "created_at                                            2020-01-04T10:12:53\n",
      "created_at_day                                                 2020-01-04\n",
      "created_at_month                                                  2020-01\n",
      "created_at_year                                                      2020\n",
      "updated_at                                            2020-01-04T10:12:53\n",
      "name                                                                APT28\n",
      "description             APT28 is a threat group that has been attribut...\n",
      "alias                   SNAKEMACKEREL \\nSwallowtail\\nGroup 74\\nSednit\\...\n",
      "graph_data                                                             NA\n",
      "first_seen                                                             NA\n",
      "first_seen_day                                                         NA\n",
      "first_seen_month                                                       NA\n",
      "first_seen_year                                                      2007\n",
      "last_seen                                                              NA\n",
      "last_seen_day                                                          NA\n",
      "last_seen_month                                                        NA\n",
      "last_seen_year                                                         NA\n",
      "goal                                                                   NA\n",
      "sophistication                                                         NA\n",
      "resource_level                                                         NA\n",
      "primary_motivation                                                     NA\n",
      "secondary_motivation                                                   NA\n",
      "type                                                        intrusion-set\n",
      "id                                 intrusion-set:<System Generated Value>\n",
      "labels                                                                 NA\n",
      "external_references     https://www2.fireeye.com/rs/fireye/images/rpt-...\n",
      "object_marking_refs                                                    NA\n",
      "granular_markings                                                      NA\n",
      "Name: 1, dtype: object\n",
      "NaN                                                                    NA\n",
      "internal_id_key                      caa30365-a8da-451f-9fa5-048de18b5103\n",
      "stix_id_key             Intrusion-set--22c5e5ad-ad77-4364-9f31-309d1c2...\n",
      "stix_label                                                             NA\n",
      "entity_type                                                 Intrusion-set\n",
      "created                                               2020-01-04T10:12:53\n",
      "modified                                              2020-01-04T10:12:53\n",
      "revoked                                                             False\n",
      "object_status                                                          NA\n",
      "created_at                                            2020-01-04T10:12:53\n",
      "created_at_day                                                 2020-01-04\n",
      "created_at_month                                                  2020-01\n",
      "created_at_year                                                      2020\n",
      "updated_at                                            2020-01-04T10:12:53\n",
      "name                                                           BlackOasis\n",
      "description             BlackOasis is a Middle Eastern threat group th...\n",
      "alias                                               Neodymium\\nPromethium\n",
      "graph_data                                                             NA\n",
      "first_seen                                                    06-5-2015\\n\n",
      "first_seen_day                                                06-5-2015\\n\n",
      "first_seen_month                                      2015-05-01 00:00:00\n",
      "first_seen_year                                                      2015\n",
      "last_seen                                                              NA\n",
      "last_seen_day                                                          NA\n",
      "last_seen_month                                                        NA\n",
      "last_seen_year                                                         NA\n",
      "goal                                                                   NA\n",
      "sophistication                                                         NA\n",
      "resource_level                                                         NA\n",
      "primary_motivation                                                     NA\n",
      "secondary_motivation                                                   NA\n",
      "type                                                        intrusion-set\n",
      "id                                 intrusion-set:<System Generated Value>\n",
      "labels                                                                 NA\n",
      "external_references     https://threatpost.com/adobe-patches-flash-zer...\n",
      "object_marking_refs                                                    NA\n",
      "granular_markings                                                      NA\n",
      "Name: 2, dtype: object\n",
      "NaN                                                                    NA\n",
      "internal_id_key                      f2cd5ef3-bb7f-4cec-b021-c894ab8fccc7\n",
      "stix_id_key             Intrusion-set--de36f502-0f73-4658-9004-17450db...\n",
      "stix_label                                                             NA\n",
      "entity_type                                                 Intrusion-set\n",
      "created                                               2020-01-04T10:12:53\n",
      "modified                                              2020-01-04T10:12:53\n",
      "revoked                                                             False\n",
      "object_status                                                          NA\n",
      "created_at                                            2020-01-04T10:12:53\n",
      "created_at_day                                                 2020-01-04\n",
      "created_at_month                                                  2020-01\n",
      "created_at_year                                                      2020\n",
      "updated_at                                            2020-01-04T10:12:53\n",
      "name                                                               Cobalt\n",
      "description             Cobalt Group is a financially motivated threat...\n",
      "alias                      Cobalt Gang,\\nCobalt Spider\\nTEMP.Metastrike\\n\n",
      "graph_data                                                             NA\n",
      "first_seen                                            2016-01-06 00:00:00\n",
      "first_seen_day                                        2016-01-06 00:00:00\n",
      "first_seen_month                                      2016-01-01 00:00:00\n",
      "first_seen_year                                                      2016\n",
      "last_seen                                                              NA\n",
      "last_seen_day                                                          NA\n",
      "last_seen_month                                                        NA\n",
      "last_seen_year                                                         NA\n",
      "goal                                                                   NA\n",
      "sophistication                                                         NA\n",
      "resource_level                                                         NA\n",
      "primary_motivation                                                     NA\n",
      "secondary_motivation                                                   NA\n",
      "type                                                        intrusion-set\n",
      "id                                 intrusion-set:<System Generated Value>\n",
      "labels                                                                 NA\n",
      "external_references     https://attack.mitre.org/groups/G0080/\\nhttps:...\n",
      "object_marking_refs                                                    NA\n",
      "granular_markings                                                      NA\n",
      "Name: 3, dtype: object\n",
      "NaN                                                                    NA\n",
      "internal_id_key                      5a3ccc54-613a-4914-bc8b-00840a6dddd7\n",
      "stix_id_key             Intrusion-set--75724842-87e4-41fb-b7bc-3bb9514...\n",
      "stix_label                                                             NA\n",
      "entity_type                                                 Intrusion-set\n",
      "created                                               2020-01-04T10:12:53\n",
      "modified                                              2020-01-04T10:12:53\n",
      "revoked                                                             False\n",
      "object_status                                                          NA\n",
      "created_at                                            2020-01-04T10:12:53\n",
      "created_at_day                                                 2020-01-04\n",
      "created_at_month                                                  2020-01\n",
      "created_at_year                                                      2020\n",
      "updated_at                                            2020-01-04T10:12:53\n",
      "name                                                                APT30\n",
      "description             APT30 is a threat group suspected to be associ...\n",
      "alias                   APT30  PLA   78020  \\nOperation MsnMM   \\nOper...\n",
      "graph_data                                                             NA\n",
      "first_seen                                            2004-08-15 00:00:00\n",
      "first_seen_day                                        2004-08-16 00:00:00\n",
      "first_seen_month                                      2004-08-01 00:00:00\n",
      "first_seen_year                                                      2004\n",
      "last_seen                                                              NA\n",
      "last_seen_day                                                          NA\n",
      "last_seen_month                                                        NA\n",
      "last_seen_year                                                         NA\n",
      "goal                                                                   NA\n",
      "sophistication                                                         NA\n",
      "resource_level                                                         NA\n",
      "primary_motivation                                                     NA\n",
      "secondary_motivation                                                   NA\n",
      "type                                                        intrusion-set\n",
      "id                                 intrusion-set:<System Generated Value>\n",
      "labels                                                                 NA\n",
      "external_references     https://www2.fireeye.com/rs/fireye/images/rpt-...\n",
      "object_marking_refs                                                    NA\n",
      "granular_markings                                                      NA\n",
      "Name: 4, dtype: object\n",
      "NaN                                                                Sample\n",
      "internal_id_key                      b628685a-d1d6-4aaf-bd4a-f3304e3d44e9\n",
      "stix_id_key             Intrusion-set--2dfcbf25-df68-4209-8836-c37825b...\n",
      "stix_label                                                             NA\n",
      "entity_type                                                 Intrusion-set\n",
      "created                                               2020-01-04T10:12:53\n",
      "modified                                              2020-01-04T10:12:53\n",
      "revoked                                                             False\n",
      "object_status                                                          NA\n",
      "created_at                                            2020-01-04T10:12:53\n",
      "created_at_day                                                 2020-01-04\n",
      "created_at_month                                                  2020-01\n",
      "created_at_year                                                      2020\n",
      "updated_at                                            2020-01-04T10:12:53\n",
      "name                                                                APT12\n",
      "description             APT12 is a threat group that has been attribut...\n",
      "alias                     Numbered Panda\\nDynCalc\\nDNSCALC\\nIXESHE\\nAPT12\n",
      "graph_data                                                             NA\n",
      "first_seen                                            2019-12-28T06:13:42\n",
      "first_seen_day                                        2019-12-28 00:00:00\n",
      "first_seen_month                                      2019-12-01 00:00:00\n",
      "first_seen_year                                                      2019\n",
      "last_seen                                             2019-12-28T06:13:42\n",
      "last_seen_day                                         2019-12-28 00:00:00\n",
      "last_seen_month                                       2019-12-01 00:00:00\n",
      "last_seen_year                                                       2019\n",
      "goal                                                                   NA\n",
      "sophistication                                                         NA\n",
      "resource_level                                                         NA\n",
      "primary_motivation                                                     NA\n",
      "secondary_motivation                                                   NA\n",
      "type                                                        intrusion-set\n",
      "id                                 intrusion-set:<System Generated Value>\n",
      "labels                                                                 NA\n",
      "external_references     https://www.crowdstrike.com/blog/whois-numbere...\n",
      "object_marking_refs                                                    NA\n",
      "granular_markings                                                      NA\n",
      "Name: 5, dtype: object\n"
     ]
    }
   ],
   "source": [
    "for index,i in result.iterrows():\n",
    "    print(i)"
   ]
  },
  {
   "cell_type": "code",
   "execution_count": null,
   "metadata": {},
   "outputs": [],
   "source": []
  },
  {
   "cell_type": "code",
   "execution_count": 32,
   "metadata": {},
   "outputs": [
    {
     "data": {
      "text/plain": [
       "4         APT12\n",
       "5         APT28\n",
       "6    BlackOasis\n",
       "7        Cobalt\n",
       "8         APT30\n",
       "9         APT12\n",
       "Name: name, dtype: object"
      ]
     },
     "execution_count": 32,
     "metadata": {},
     "output_type": "execute_result"
    }
   ],
   "source": [
    "data['name']"
   ]
  },
  {
   "cell_type": "code",
   "execution_count": 11,
   "metadata": {},
   "outputs": [
    {
     "data": {
      "text/plain": [
       "4    APT12 is a threat group that has been attribut...\n",
       "5    APT28 is a threat group that has been attribut...\n",
       "6    BlackOasis is a Middle Eastern threat group th...\n",
       "7    Cobalt Group is a financially motivated threat...\n",
       "8    APT30 is a threat group suspected to be associ...\n",
       "Name: description, dtype: object"
      ]
     },
     "execution_count": 11,
     "metadata": {},
     "output_type": "execute_result"
    }
   ],
   "source": [
    "data['description']"
   ]
  },
  {
   "cell_type": "code",
   "execution_count": 12,
   "metadata": {},
   "outputs": [
    {
     "data": {
      "text/plain": [
       "4    2012-10-01 00:00:00\n",
       "5                    NaN\n",
       "6            06-5-2015\\n\n",
       "7    2016-01-06 00:00:00\n",
       "8    2004-08-15 00:00:00\n",
       "Name: first_seen, dtype: object"
      ]
     },
     "execution_count": 12,
     "metadata": {},
     "output_type": "execute_result"
    }
   ],
   "source": [
    "data['first_seen']"
   ]
  },
  {
   "cell_type": "code",
   "execution_count": 13,
   "metadata": {},
   "outputs": [
    {
     "data": {
      "text/html": [
       "<div>\n",
       "<style scoped>\n",
       "    .dataframe tbody tr th:only-of-type {\n",
       "        vertical-align: middle;\n",
       "    }\n",
       "\n",
       "    .dataframe tbody tr th {\n",
       "        vertical-align: top;\n",
       "    }\n",
       "\n",
       "    .dataframe thead th {\n",
       "        text-align: right;\n",
       "    }\n",
       "</style>\n",
       "<table border=\"1\" class=\"dataframe\">\n",
       "  <thead>\n",
       "    <tr style=\"text-align: right;\">\n",
       "      <th></th>\n",
       "      <th>NaN</th>\n",
       "      <th>internal_id_key</th>\n",
       "      <th>stix_id_key</th>\n",
       "      <th>stix_label</th>\n",
       "      <th>entity_type</th>\n",
       "      <th>created</th>\n",
       "      <th>modified</th>\n",
       "      <th>revoked</th>\n",
       "      <th>object_status</th>\n",
       "      <th>created_at</th>\n",
       "      <th>...</th>\n",
       "      <th>sophistication</th>\n",
       "      <th>resource_level</th>\n",
       "      <th>primary_motivation</th>\n",
       "      <th>secondary_motivation</th>\n",
       "      <th>NaN</th>\n",
       "      <th>NaN</th>\n",
       "      <th>NaN</th>\n",
       "      <th>NaN</th>\n",
       "      <th>NaN</th>\n",
       "      <th>NaN</th>\n",
       "    </tr>\n",
       "  </thead>\n",
       "  <tbody>\n",
       "    <tr>\n",
       "      <td>4</td>\n",
       "      <td>NaN</td>\n",
       "      <td>NaN</td>\n",
       "      <td>NaN</td>\n",
       "      <td>NaN</td>\n",
       "      <td>NaN</td>\n",
       "      <td>NaN</td>\n",
       "      <td>NaN</td>\n",
       "      <td>NaN</td>\n",
       "      <td>NaN</td>\n",
       "      <td>NaN</td>\n",
       "      <td>...</td>\n",
       "      <td>NaN</td>\n",
       "      <td>NaN</td>\n",
       "      <td>NaN</td>\n",
       "      <td>NaN</td>\n",
       "      <td>NaN</td>\n",
       "      <td>NaN</td>\n",
       "      <td>NaN</td>\n",
       "      <td>NaN</td>\n",
       "      <td>NaN</td>\n",
       "      <td>NaN</td>\n",
       "    </tr>\n",
       "    <tr>\n",
       "      <td>5</td>\n",
       "      <td>NaN</td>\n",
       "      <td>NaN</td>\n",
       "      <td>NaN</td>\n",
       "      <td>NaN</td>\n",
       "      <td>NaN</td>\n",
       "      <td>NaN</td>\n",
       "      <td>NaN</td>\n",
       "      <td>NaN</td>\n",
       "      <td>NaN</td>\n",
       "      <td>NaN</td>\n",
       "      <td>...</td>\n",
       "      <td>NaN</td>\n",
       "      <td>NaN</td>\n",
       "      <td>NaN</td>\n",
       "      <td>NaN</td>\n",
       "      <td>NaN</td>\n",
       "      <td>NaN</td>\n",
       "      <td>NaN</td>\n",
       "      <td>NaN</td>\n",
       "      <td>NaN</td>\n",
       "      <td>NaN</td>\n",
       "    </tr>\n",
       "    <tr>\n",
       "      <td>6</td>\n",
       "      <td>NaN</td>\n",
       "      <td>NaN</td>\n",
       "      <td>NaN</td>\n",
       "      <td>NaN</td>\n",
       "      <td>NaN</td>\n",
       "      <td>NaN</td>\n",
       "      <td>NaN</td>\n",
       "      <td>NaN</td>\n",
       "      <td>NaN</td>\n",
       "      <td>NaN</td>\n",
       "      <td>...</td>\n",
       "      <td>NaN</td>\n",
       "      <td>NaN</td>\n",
       "      <td>NaN</td>\n",
       "      <td>NaN</td>\n",
       "      <td>NaN</td>\n",
       "      <td>NaN</td>\n",
       "      <td>NaN</td>\n",
       "      <td>NaN</td>\n",
       "      <td>NaN</td>\n",
       "      <td>NaN</td>\n",
       "    </tr>\n",
       "    <tr>\n",
       "      <td>7</td>\n",
       "      <td>NaN</td>\n",
       "      <td>NaN</td>\n",
       "      <td>NaN</td>\n",
       "      <td>NaN</td>\n",
       "      <td>NaN</td>\n",
       "      <td>NaN</td>\n",
       "      <td>NaN</td>\n",
       "      <td>NaN</td>\n",
       "      <td>NaN</td>\n",
       "      <td>NaN</td>\n",
       "      <td>...</td>\n",
       "      <td>NaN</td>\n",
       "      <td>NaN</td>\n",
       "      <td>NaN</td>\n",
       "      <td>NaN</td>\n",
       "      <td>NaN</td>\n",
       "      <td>NaN</td>\n",
       "      <td>NaN</td>\n",
       "      <td>NaN</td>\n",
       "      <td>NaN</td>\n",
       "      <td>NaN</td>\n",
       "    </tr>\n",
       "    <tr>\n",
       "      <td>8</td>\n",
       "      <td>NaN</td>\n",
       "      <td>NaN</td>\n",
       "      <td>NaN</td>\n",
       "      <td>NaN</td>\n",
       "      <td>NaN</td>\n",
       "      <td>NaN</td>\n",
       "      <td>NaN</td>\n",
       "      <td>NaN</td>\n",
       "      <td>NaN</td>\n",
       "      <td>NaN</td>\n",
       "      <td>...</td>\n",
       "      <td>NaN</td>\n",
       "      <td>NaN</td>\n",
       "      <td>NaN</td>\n",
       "      <td>NaN</td>\n",
       "      <td>NaN</td>\n",
       "      <td>NaN</td>\n",
       "      <td>NaN</td>\n",
       "      <td>NaN</td>\n",
       "      <td>NaN</td>\n",
       "      <td>NaN</td>\n",
       "    </tr>\n",
       "  </tbody>\n",
       "</table>\n",
       "<p>5 rows × 37 columns</p>\n",
       "</div>"
      ],
      "text/plain": [
       "   NaN  internal_id_key  stix_id_key  stix_label  entity_type created  \\\n",
       "4  NaN              NaN          NaN         NaN          NaN     NaN   \n",
       "5  NaN              NaN          NaN         NaN          NaN     NaN   \n",
       "6  NaN              NaN          NaN         NaN          NaN     NaN   \n",
       "7  NaN              NaN          NaN         NaN          NaN     NaN   \n",
       "8  NaN              NaN          NaN         NaN          NaN     NaN   \n",
       "\n",
       "  modified revoked  object_status  created_at  ...  sophistication  \\\n",
       "4      NaN     NaN            NaN         NaN  ...             NaN   \n",
       "5      NaN     NaN            NaN         NaN  ...             NaN   \n",
       "6      NaN     NaN            NaN         NaN  ...             NaN   \n",
       "7      NaN     NaN            NaN         NaN  ...             NaN   \n",
       "8      NaN     NaN            NaN         NaN  ...             NaN   \n",
       "\n",
       "   resource_level  primary_motivation  secondary_motivation  NaN  NaN  NaN  \\\n",
       "4             NaN                 NaN                   NaN  NaN  NaN  NaN   \n",
       "5             NaN                 NaN                   NaN  NaN  NaN  NaN   \n",
       "6             NaN                 NaN                   NaN  NaN  NaN  NaN   \n",
       "7             NaN                 NaN                   NaN  NaN  NaN  NaN   \n",
       "8             NaN                 NaN                   NaN  NaN  NaN  NaN   \n",
       "\n",
       "   NaN  NaN  NaN  \n",
       "4  NaN  NaN  NaN  \n",
       "5  NaN  NaN  NaN  \n",
       "6  NaN  NaN  NaN  \n",
       "7  NaN  NaN  NaN  \n",
       "8  NaN  NaN  NaN  \n",
       "\n",
       "[5 rows x 37 columns]"
      ]
     },
     "execution_count": 13,
     "metadata": {},
     "output_type": "execute_result"
    }
   ],
   "source": [
    "data"
   ]
  },
  {
   "cell_type": "code",
   "execution_count": 19,
   "metadata": {},
   "outputs": [
    {
     "data": {
      "text/plain": [
       "Index([                   nan,      'internal_id_key',          'stix_id_key',\n",
       "                 'stix_label',          'entity_type',              'created',\n",
       "                   'modified',              'revoked',        'object_status',\n",
       "                 'created_at',       'created_at_day',     'created_at_month',\n",
       "            'created_at_year',           'updated_at',                 'name',\n",
       "                'description',              'aliases',           'graph_data',\n",
       "                 'first_seen',       'first_seen_day',     'first_seen_month',\n",
       "            'first_seen_year',            'last_seen',        'last_seen_day',\n",
       "            'last_seen_month',       'last_seen_year',                'goals',\n",
       "             'sophistication',       'resource_level',   'primary_motivation',\n",
       "       'secondary_motivation',                    nan,                    nan,\n",
       "                          nan,                    nan,                    nan,\n",
       "                          nan],\n",
       "      dtype='object')"
      ]
     },
     "execution_count": 19,
     "metadata": {},
     "output_type": "execute_result"
    }
   ],
   "source": [
    "data.columns"
   ]
  },
  {
   "cell_type": "code",
   "execution_count": 15,
   "metadata": {},
   "outputs": [],
   "source": [
    "import grakn"
   ]
  },
  {
   "cell_type": "code",
   "execution_count": 17,
   "metadata": {},
   "outputs": [],
   "source": [
    "from grakn.client import GraknClient\n",
    "import pandas as pd\n",
    "from tqdm import tqdm\n",
    "#tqdm.pandas()"
   ]
  },
  {
   "cell_type": "code",
   "execution_count": null,
   "metadata": {},
   "outputs": [],
   "source": []
  }
 ],
 "metadata": {
  "kernelspec": {
   "display_name": "Python 3",
   "language": "python",
   "name": "python3"
  },
  "language_info": {
   "codemirror_mode": {
    "name": "ipython",
    "version": 3
   },
   "file_extension": ".py",
   "mimetype": "text/x-python",
   "name": "python",
   "nbconvert_exporter": "python",
   "pygments_lexer": "ipython3",
   "version": "3.7.4"
  }
 },
 "nbformat": 4,
 "nbformat_minor": 2
}
