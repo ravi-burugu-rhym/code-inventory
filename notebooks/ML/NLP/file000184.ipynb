{
 "cells": [
  {
   "cell_type": "code",
   "execution_count": 1,
   "metadata": {},
   "outputs": [],
   "source": [
    "import pandas as pd\n",
    "df=pd.read_csv('groups_apt.csv')"
   ]
  },
  {
   "cell_type": "code",
   "execution_count": 2,
   "metadata": {},
   "outputs": [
    {
     "data": {
      "text/html": [
       "<div>\n",
       "<style scoped>\n",
       "    .dataframe tbody tr th:only-of-type {\n",
       "        vertical-align: middle;\n",
       "    }\n",
       "\n",
       "    .dataframe tbody tr th {\n",
       "        vertical-align: top;\n",
       "    }\n",
       "\n",
       "    .dataframe thead th {\n",
       "        text-align: right;\n",
       "    }\n",
       "</style>\n",
       "<table border=\"1\" class=\"dataframe\">\n",
       "  <thead>\n",
       "    <tr style=\"text-align: right;\">\n",
       "      <th></th>\n",
       "      <th>Unnamed: 0</th>\n",
       "      <th>Name</th>\n",
       "      <th>Alias</th>\n",
       "      <th>description</th>\n",
       "    </tr>\n",
       "  </thead>\n",
       "  <tbody>\n",
       "    <tr>\n",
       "      <td>0</td>\n",
       "      <td>0</td>\n",
       "      <td>admin@338</td>\n",
       "      <td>NaN</td>\n",
       "      <td>admin@338 is a China-based cyber threat group....</td>\n",
       "    </tr>\n",
       "    <tr>\n",
       "      <td>1</td>\n",
       "      <td>1</td>\n",
       "      <td>APT1</td>\n",
       "      <td>Comment Crew, Comment Group, Comment Panda</td>\n",
       "      <td>APT1 is a Chinese threat group that has been a...</td>\n",
       "    </tr>\n",
       "    <tr>\n",
       "      <td>2</td>\n",
       "      <td>2</td>\n",
       "      <td>APT12</td>\n",
       "      <td>IXESHE, DynCalc, Numbered Panda, DNSCALC</td>\n",
       "      <td>APT12 is a threat group that has been attribut...</td>\n",
       "    </tr>\n",
       "    <tr>\n",
       "      <td>3</td>\n",
       "      <td>3</td>\n",
       "      <td>APT16</td>\n",
       "      <td>NaN</td>\n",
       "      <td>APT16 is a China-based threat group that has l...</td>\n",
       "    </tr>\n",
       "    <tr>\n",
       "      <td>4</td>\n",
       "      <td>4</td>\n",
       "      <td>APT17</td>\n",
       "      <td>Deputy Dog</td>\n",
       "      <td>APT17 is a China-based threat group that has c...</td>\n",
       "    </tr>\n",
       "    <tr>\n",
       "      <td>...</td>\n",
       "      <td>...</td>\n",
       "      <td>...</td>\n",
       "      <td>...</td>\n",
       "      <td>...</td>\n",
       "    </tr>\n",
       "    <tr>\n",
       "      <td>89</td>\n",
       "      <td>89</td>\n",
       "      <td>Thrip</td>\n",
       "      <td>NaN</td>\n",
       "      <td>Thrip is an espionage group that has targeted ...</td>\n",
       "    </tr>\n",
       "    <tr>\n",
       "      <td>90</td>\n",
       "      <td>90</td>\n",
       "      <td>Tropic Trooper</td>\n",
       "      <td>KeyBoy</td>\n",
       "      <td>Tropic Trooper is an unaffiliated threat group...</td>\n",
       "    </tr>\n",
       "    <tr>\n",
       "      <td>91</td>\n",
       "      <td>91</td>\n",
       "      <td>Turla</td>\n",
       "      <td>Waterbug, WhiteBear, VENOMOUS BEAR, Snake, Kry...</td>\n",
       "      <td>Turla is a Russian-based threat group that has...</td>\n",
       "    </tr>\n",
       "    <tr>\n",
       "      <td>92</td>\n",
       "      <td>92</td>\n",
       "      <td>Winnti Group</td>\n",
       "      <td>Blackfly</td>\n",
       "      <td>Winnti Group is a threat group with Chinese or...</td>\n",
       "    </tr>\n",
       "    <tr>\n",
       "      <td>93</td>\n",
       "      <td>93</td>\n",
       "      <td>WIRTE</td>\n",
       "      <td>NaN</td>\n",
       "      <td>WIRTE is a threat group that has been active s...</td>\n",
       "    </tr>\n",
       "  </tbody>\n",
       "</table>\n",
       "<p>94 rows × 4 columns</p>\n",
       "</div>"
      ],
      "text/plain": [
       "    Unnamed: 0            Name  \\\n",
       "0            0       admin@338   \n",
       "1            1            APT1   \n",
       "2            2           APT12   \n",
       "3            3           APT16   \n",
       "4            4           APT17   \n",
       "..         ...             ...   \n",
       "89          89           Thrip   \n",
       "90          90  Tropic Trooper   \n",
       "91          91           Turla   \n",
       "92          92    Winnti Group   \n",
       "93          93           WIRTE   \n",
       "\n",
       "                                                Alias  \\\n",
       "0                                                 NaN   \n",
       "1          Comment Crew, Comment Group, Comment Panda   \n",
       "2            IXESHE, DynCalc, Numbered Panda, DNSCALC   \n",
       "3                                                 NaN   \n",
       "4                                          Deputy Dog   \n",
       "..                                                ...   \n",
       "89                                                NaN   \n",
       "90                                             KeyBoy   \n",
       "91  Waterbug, WhiteBear, VENOMOUS BEAR, Snake, Kry...   \n",
       "92                                           Blackfly   \n",
       "93                                                NaN   \n",
       "\n",
       "                                          description  \n",
       "0   admin@338 is a China-based cyber threat group....  \n",
       "1   APT1 is a Chinese threat group that has been a...  \n",
       "2   APT12 is a threat group that has been attribut...  \n",
       "3   APT16 is a China-based threat group that has l...  \n",
       "4   APT17 is a China-based threat group that has c...  \n",
       "..                                                ...  \n",
       "89  Thrip is an espionage group that has targeted ...  \n",
       "90  Tropic Trooper is an unaffiliated threat group...  \n",
       "91  Turla is a Russian-based threat group that has...  \n",
       "92  Winnti Group is a threat group with Chinese or...  \n",
       "93  WIRTE is a threat group that has been active s...  \n",
       "\n",
       "[94 rows x 4 columns]"
      ]
     },
     "execution_count": 2,
     "metadata": {},
     "output_type": "execute_result"
    }
   ],
   "source": [
    "df"
   ]
  },
  {
   "cell_type": "code",
   "execution_count": 15,
   "metadata": {},
   "outputs": [
    {
     "name": "stdout",
     "output_type": "stream",
     "text": [
      "Cleaver is a threat group that has been attributed to Iranian actors and is responsible for activity tracked as Operation Cleaver.  Strong circumstantial evidence suggests Cleaver is linked to Threat Group 2889 (TG-2889).\n"
     ]
    }
   ],
   "source": [
    "text=df['description'][22]\n",
    "print(text)"
   ]
  },
  {
   "cell_type": "code",
   "execution_count": 3,
   "metadata": {},
   "outputs": [],
   "source": [
    "words=['Dust Storm','South Korea','Japan','United States','Asian ']\n",
    "label=['group','target_country','target_country','target_country','target_country']"
   ]
  },
  {
   "cell_type": "code",
   "execution_count": 4,
   "metadata": {},
   "outputs": [
    {
     "name": "stdout",
     "output_type": "stream",
     "text": [
      "0\n",
      "77\n",
      "70\n",
      "94\n",
      "139\n"
     ]
    }
   ],
   "source": [
    "train=[]\n",
    "entities=[]\n",
    "if len(words)==len(label):\n",
    "    for i in range(len(words)):\n",
    "        word=text.find(words[i])\n",
    "        print(word)\n",
    "        if i==0:\n",
    "            entities.append('[('+str(word)+','+str(word+len(words[i]))+','+'\"'+label[i]+'\"'+')')\n",
    "        elif i==(len(words)-1):\n",
    "            entities.append('('+str(word)+','+str(word+len(words[i]))+','+'\"'+label[i]+'\"'+')]}')\n",
    "        else:\n",
    "            entities.append('('+str(word)+','+str(word+len(words[i]))+','+'\"'+label[i]+'\"'+')')\n",
    "        \n",
    "    entities=','.join(entities)\n",
    "    train.append('(\"'+text+'\"'+','+'{\"entities\":'+entities+')')\n",
    "else:\n",
    "    print('once check')\n",
    "    print(\"words:\",len(words))\n",
    "    print(\"labels:\",len(label))"
   ]
  },
  {
   "cell_type": "code",
   "execution_count": 5,
   "metadata": {},
   "outputs": [
    {
     "data": {
      "text/plain": [
       "'(\"Dust Storm is a threat group that has targeted multiple industries in Japan, South Korea, the United States, Europe, and several Southeast Asian countries.\",{\"entities\":[(0,10,\"group\"),(77,88,\"target_country\"),(70,75,\"target_country\"),(94,107,\"target_country\"),(139,145,\"target_country\")]})'"
      ]
     },
     "execution_count": 5,
     "metadata": {},
     "output_type": "execute_result"
    }
   ],
   "source": [
    "train[0]"
   ]
  },
  {
   "cell_type": "code",
   "execution_count": 3,
   "metadata": {},
   "outputs": [],
   "source": [
    "import plac\n",
    "import random\n",
    "from pathlib import Path\n",
    "import spacy\n",
    "from spacy.util import minibatch, compounding"
   ]
  },
  {
   "cell_type": "code",
   "execution_count": 4,
   "metadata": {},
   "outputs": [],
   "source": [
    "TRAIN_DATA=[\n",
    "    (\"admin@338 is a China-based cyber threat group. It has previously used newsworthy events as lures to deliver malware and has primarily targeted organizations involved in financial, economic, and trade policy, typically using publicly available RATs such as PoisonIvy, as well as some non-public backdoors.\",{\"entities\":[(0,9,\"group\"),(15,26,\"threat_actor\"),(169,178,\"target\"),(180,188,\"target\"),(194,206,\"target\"),(256,265,\"path\")]}),\n",
    "    (\"APT1 is a Chinese threat group that has been attributed to the 2nd Bureau of the People’s Liberation Army (PLA) General Staff Department’s (GSD) 3rd Department, commonly known by its Military Unit Cover Designator (MUCD) as Unit 61398.\",{\"entities\":[(0,4,\"group\"),(10,18,\"threat_actor\"),(63,105,\"target\")]}),\n",
    "    (\"APT12 is a threat group that has been attributed to China. The group has targeted a variety of victims including but not limited to media outlets, high-tech companies, and multiple governments.\",{\"entities\":[(0,5,\"group\"),(52,57,\"threat_actor\"),(132,145,\"target\"),(147,166,\"target\"),(172,192,\"target\")]}),\n",
    "    (\"APT16 is a China-based threat group that has launched spearphishing campaigns targeting Japanese and Taiwanese organizations.\",{\"entities\":[(0,5,\"group\"),(11,23,\"threat_actor\"),(88,96,\"target\"),(101,110,\"target\")]}),\n",
    "    (\"APT17 is a China-based threat group that has conducted network intrusions against U.S. government entities, the defense industry, law firms, information technology companies, mining companies, and non-government organizations.\",{\"entities\":[(0,5,\"group\"),(11,22,\"threat_actor\"),(55,73,\"path\"),(82,86,\"target_country\"),(112,128,\"target\"),(130,139,\"target\"),(141,163,\"target\"),(175,181,\"target\"),(197,211,\"target\")]}),\n",
    "    (\"APT18 is a threat group that has operated since at least 2009 and has targeted a range of industries, including technology, manufacturing, human rights groups, government, and medical.\",{\"entities\":[(0,5,\"group\"),(57,61,\"date\"),(112,122,\"target\"),(124,137,\"target\"),(139,151,\"target\"),(160,170,\"target\"),(176,183,\"target\")]}),\n",
    "    (\"APT19 is a Chinese-based threat group that has targeted a variety of industries, including defense, finance, energy, pharmaceutical, telecommunications, high tech, education, manufacturing, and legal services. In 2017, a phishing campaign was used to target seven law and investment firms.  Some analysts track APT19 and Deep Panda as the same group, but it is unclear from open source information if the groups are the same.\",{\"entities\":[(0,5,\"group\"),(11,24,\"threat_group\"),(321,331,\"same_group\"),(175,188,\"target\"),(91,98,\"target\"),(133,151,\"target\"),(117,131,\"target\")]}),\n",
    "    (\"APT28 is a threat group that has been attributed to Russia\\'s Main Intelligence Directorate of the Russian General Staff by a July 2018 U.S. Department of Justice indictment. This group reportedly compromised the Hillary Clinton campaign, the Democratic National Committee, and the Democratic Congressional Campaign Committee in 2016 in an attempt to interfere with the U.S. presidential election. APT28 has been active since at least 2004.\",{\"entities\":[(0,5,\"group\"),(52,58,\"threat_group\"),(434,438,\"date\"),(328,332,\"date\"),(212,236,\"target\"),(242,261,\"target\"),(281,305,\"target\")]}),\n",
    "    (\"APT29 is threat group that has been attributed to the Russian government and has operated since at least 2008.   This group reportedly compromised the Democratic National Committee starting in the summer of 2015.\",{\"entities\":[(0,5,\"group\"),(54,61,\"threat_group\"),(105,109,\"date\"),(207,211,\"date\"),(151,170,\"target\")]}),\n",
    "    (\"APT3 is a China-based threat group that researchers have attributed to China\\'s Ministry of State Security.   This group is responsible for the campaigns known as Operation Clandestine Fox, Operation Clandestine Wolf, and Operation Double Tap.   As of June 2015, the group appears to have shifted from targeting primarily US victims to primarily political organizations in Hong Kong. \\nMITRE has also developed an APT3 Adversary Emulation Plan.\",{\"entities\":[(0,4,\"group\"),(10,21,\"threat_group\"),(372,381,\"target_country\"),(256,260,\"date\"),(321,331,\"target\")]}),\n",
    "    (\"APT30 is a threat group suspected to be associated with the Chinese government.  While Naikon shares some characteristics with APT30, the two groups do not appear to be exact matches.\",{\"entities\":[(0,5,\"group\"),(60,67,\"threat_group\")]}),\n",
    "    (\"Dragonfly 2.0 is a suspected Russian group that has targeted government entities and multiple U.S. critical infrastructure sectors since at least March 2016.   There is debate over the extent of overlap between Dragonfly 2.0 and Dragonfly, but there is sufficient evidence to lead to these being tracked as two separate groups.\",{\"entities\":[(0,13,\"group\"),(29,37,\"threat_group\"),(94,98,\"target_country\"),(146,156,\"date\")]}),\n",
    "    (\"DragonOK is a threat group that has targeted Japanese organizations with phishing emails. Due to overlapping TTPs, including similar custom tools, DragonOK is thought to have a direct or indirect relationship with the threat group Moafee.  It is known to use a variety of malware, including Sysget/HelloBridge, PlugX, PoisonIvy, FormerFirstRat, NFlog, and NewCT.\",{\"entities\":[(0,9,\"group\"),(45,54,\"target_country\"),(231,237,\"same_group\")]}),\n",
    "    (\"Dust Storm is a threat group that has targeted multiple industries in Japan, South Korea, the United States, Europe, and several Southeast Asian countries.\",{\"entities\":[(0,10,\"group\"),(77,88,\"target_country\"),(70,75,\"target_country\"),(94,107,\"target_country\"),(139,145,\"target_country\")]}),]"
   ]
  },
  {
   "cell_type": "code",
   "execution_count": 5,
   "metadata": {},
   "outputs": [
    {
     "name": "stdout",
     "output_type": "stream",
     "text": [
      "Created blank 'en' model\n"
     ]
    }
   ],
   "source": [
    "model=None\n",
    "if model is not None:\n",
    "        nlp = spacy.load(model)  # load existing spaCy model\n",
    "        print(\"Loaded model '%s'\" % model)\n",
    "else:\n",
    "        nlp = spacy.blank(\"en\")  # create blank Language class\n",
    "        print(\"Created blank 'en' model\")\n",
    "if \"ner\" not in nlp.pipe_names:\n",
    "        ner = nlp.create_pipe(\"ner\")\n",
    "        nlp.add_pipe(ner, last=True)\n",
    "    # otherwise, get it so we can add labels\n",
    "else:\n",
    "    ner = nlp.get_pipe(\"ner\")\n",
    "    \n",
    "for _, annotations in TRAIN_DATA:\n",
    "        for ent in annotations.get(\"entities\"):\n",
    "            ner.add_label(ent[2])"
   ]
  },
  {
   "cell_type": "code",
   "execution_count": 6,
   "metadata": {},
   "outputs": [],
   "source": [
    "other_pipes = [pipe for pipe in nlp.pipe_names if pipe != \"ner\"]"
   ]
  },
  {
   "cell_type": "code",
   "execution_count": 8,
   "metadata": {},
   "outputs": [
    {
     "name": "stdout",
     "output_type": "stream",
     "text": [
      "Losses {'ner': 50.04646199790709}\n",
      "Losses {'ner': 46.9870311577273}\n",
      "Losses {'ner': 36.58805302936923}\n",
      "Losses {'ner': 67.7979691387506}\n",
      "Losses {'ner': 42.9267841148063}\n",
      "Losses {'ner': 31.154274665798575}\n",
      "Losses {'ner': 26.853744176002063}\n",
      "Losses {'ner': 32.86801939710722}\n",
      "Losses {'ner': 28.025471247285594}\n",
      "Losses {'ner': 36.31076856415828}\n",
      "Losses {'ner': 24.971844998096632}\n",
      "Losses {'ner': 25.633978552147212}\n",
      "Losses {'ner': 25.287065743270905}\n",
      "Losses {'ner': 18.883270231655914}\n",
      "Losses {'ner': 44.03638009799452}\n",
      "Losses {'ner': 44.393577775142255}\n",
      "Losses {'ner': 36.770851376199424}\n",
      "Losses {'ner': 27.13435382468843}\n",
      "Losses {'ner': 28.35231408366001}\n",
      "Losses {'ner': 31.041384184712996}\n",
      "Losses {'ner': 15.607410032112007}\n",
      "Losses {'ner': 22.47426059259185}\n",
      "Losses {'ner': 15.91419248589861}\n",
      "Losses {'ner': 16.310649256336887}\n",
      "Losses {'ner': 19.142589952654788}\n",
      "Losses {'ner': 16.98496905159933}\n",
      "Losses {'ner': 20.58677222927684}\n",
      "Losses {'ner': 50.91073337226517}\n",
      "Losses {'ner': 16.76425870989591}\n",
      "Losses {'ner': 25.29899119031993}\n",
      "Losses {'ner': 28.0371355092284}\n",
      "Losses {'ner': 21.89800374495727}\n",
      "Losses {'ner': 12.816340820184168}\n",
      "Losses {'ner': 12.340677701526372}\n",
      "Losses {'ner': 26.406512996370676}\n",
      "Losses {'ner': 23.02724080317602}\n",
      "Losses {'ner': 19.82882103621876}\n",
      "Losses {'ner': 12.933375738660184}\n",
      "Losses {'ner': 16.272134729900486}\n",
      "Losses {'ner': 12.678236681010976}\n",
      "Losses {'ner': 21.88882444571163}\n",
      "Losses {'ner': 11.9503756478922}\n",
      "Losses {'ner': 17.7596166395738}\n",
      "Losses {'ner': 14.068241171423056}\n",
      "Losses {'ner': 13.915616330673735}\n",
      "Losses {'ner': 13.958620939960422}\n",
      "Losses {'ner': 18.597229724302924}\n",
      "Losses {'ner': 8.212392640856175}\n",
      "Losses {'ner': 18.119499047524265}\n",
      "Losses {'ner': 12.677606563151494}\n",
      "Losses {'ner': 15.552949771630088}\n",
      "Losses {'ner': 6.091527002569025}\n",
      "Losses {'ner': 12.803091239622127}\n",
      "Losses {'ner': 23.5107632292631}\n",
      "Losses {'ner': 11.33714959150449}\n",
      "Losses {'ner': 15.482680105242178}\n",
      "Losses {'ner': 12.429161616236769}\n",
      "Losses {'ner': 11.516025287614374}\n",
      "Losses {'ner': 12.19363922856928}\n",
      "Losses {'ner': 12.157204240132454}\n",
      "Losses {'ner': 6.540169669726697}\n",
      "Losses {'ner': 15.201102754214993}\n",
      "Losses {'ner': 33.84274136206205}\n",
      "Losses {'ner': 24.08242131815265}\n",
      "Losses {'ner': 14.720359176292625}\n",
      "Losses {'ner': 19.393103253846387}\n",
      "Losses {'ner': 8.127146344810933}\n",
      "Losses {'ner': 21.83730250834818}\n",
      "Losses {'ner': 18.53250258077114}\n",
      "Losses {'ner': 19.374713670577542}\n",
      "Losses {'ner': 25.74618946676963}\n",
      "Losses {'ner': 18.513291462958488}\n",
      "Losses {'ner': 11.573681246636394}\n",
      "Losses {'ner': 6.664943955494798}\n",
      "Losses {'ner': 7.31350509876117}\n",
      "Losses {'ner': 9.196367394376354}\n",
      "Losses {'ner': 9.32256850385197}\n",
      "Losses {'ner': 9.516257162493257}\n",
      "Losses {'ner': 15.07505718968665}\n",
      "Losses {'ner': 10.376726429565704}\n",
      "Losses {'ner': 9.68265972283626}\n",
      "Losses {'ner': 6.1323433080630565}\n",
      "Losses {'ner': 8.747265773200398}\n",
      "Losses {'ner': 21.36195970069635}\n",
      "Losses {'ner': 10.335871842232322}\n",
      "Losses {'ner': 5.858323398133574}\n",
      "Losses {'ner': 5.306060113742239}\n",
      "Losses {'ner': 8.493838060903034}\n",
      "Losses {'ner': 2.8685197087303766}\n",
      "Losses {'ner': 6.175722004807685}\n",
      "Losses {'ner': 9.530211766963278}\n",
      "Losses {'ner': 38.25468949771591}\n",
      "Losses {'ner': 11.691616854749977}\n",
      "Losses {'ner': 14.859425009971696}\n",
      "Losses {'ner': 4.72278076947497}\n",
      "Losses {'ner': 8.450378845778948}\n",
      "Losses {'ner': 10.37408517033275}\n",
      "Losses {'ner': 13.577578922446756}\n",
      "Losses {'ner': 6.600837317343772}\n",
      "Losses {'ner': 21.168183743869506}\n"
     ]
    }
   ],
   "source": [
    "with nlp.disable_pipes(*other_pipes):  # only train NER\n",
    "        # reset and initialize the weights randomly – but only if we're\n",
    "        # training a new model\n",
    "        if model is None:\n",
    "            nlp.begin_training()\n",
    "        for itn in range(100):\n",
    "            random.shuffle(TRAIN_DATA)\n",
    "            losses = {}\n",
    "            # batch up the examples using spaCy's minibatch\n",
    "            batches = minibatch(TRAIN_DATA, size=compounding(4.0, 32.0, 1.001))\n",
    "            for batch in batches:\n",
    "                texts, annotations = zip(*batch)\n",
    "                nlp.update(\n",
    "                    texts,  # batch of texts\n",
    "                    annotations,  # batch of annotations\n",
    "                    drop=0.5,  # dropout - make it harder to memorise data\n",
    "                    losses=losses,\n",
    "                )\n",
    "            print(\"Losses\", losses)"
   ]
  },
  {
   "cell_type": "code",
   "execution_count": 10,
   "metadata": {},
   "outputs": [
    {
     "name": "stdout",
     "output_type": "stream",
     "text": [
      "Tokens [('APT3', 'group', 3), ('is', '', 2), ('a', '', 2), ('China', 'threat_group', 3), ('-', 'threat_group', 1), ('based', 'threat_group', 1), ('threat', '', 2), ('group', '', 2), ('that', '', 2), ('researchers', '', 2), ('have', '', 2), ('attributed', '', 2), ('to', '', 2), ('China', '', 2), (\"'s\", '', 2), ('Ministry', '', 2), ('of', '', 2), ('State', '', 2), ('Security', '', 2), ('.', '', 2), ('  ', '', 2), ('This', '', 2), ('group', '', 2), ('is', '', 2), ('responsible', '', 2), ('for', '', 2), ('the', '', 2), ('campaigns', '', 2), ('known', '', 2), ('as', '', 2), ('Operation', '', 2), ('Clandestine', '', 2), ('Fox', '', 2), (',', '', 2), ('Operation', '', 2), ('Clandestine', '', 2), ('Wolf', '', 2), (',', '', 2), ('and', '', 2), ('Operation', '', 2), ('Double', '', 2), ('Tap', '', 2), ('.', '', 2), ('  ', '', 2), ('As', '', 2), ('of', '', 2), ('June', '', 2), ('2015', 'date', 3), (',', '', 2), ('the', '', 2), ('group', '', 2), ('appears', '', 2), ('to', '', 2), ('have', '', 2), ('shifted', '', 2), ('from', '', 2), ('targeting', '', 2), ('primarily', '', 2), ('US', 'target', 3), ('victims', 'target', 1), ('to', '', 2), ('primarily', '', 2), ('political', '', 2), ('organizations', '', 2), ('in', '', 2), ('Hong', 'target_country', 3), ('Kong', 'target_country', 1), ('.', '', 2), ('\\n', '', 2), ('MITRE', '', 2), ('has', '', 2), ('also', '', 2), ('developed', '', 2), ('an', '', 2), ('APT3', '', 2), ('Adversary', '', 2), ('Emulation', '', 2), ('Plan', '', 2), ('.', '', 2)]\n",
      "Tokens [('DragonOK', 'group', 3), ('is', '', 2), ('a', '', 2), ('threat', '', 2), ('group', '', 2), ('that', '', 2), ('has', '', 2), ('targeted', '', 2), ('Japanese', '', 2), ('organizations', '', 2), ('with', '', 2), ('phishing', '', 2), ('emails', '', 2), ('.', '', 2), ('Due', '', 2), ('to', '', 2), ('overlapping', '', 2), ('TTPs', '', 2), (',', '', 2), ('including', '', 2), ('similar', '', 2), ('custom', '', 2), ('tools', '', 2), (',', '', 2), ('DragonOK', '', 2), ('is', '', 2), ('thought', '', 2), ('to', '', 2), ('have', '', 2), ('a', '', 2), ('direct', '', 2), ('or', '', 2), ('indirect', '', 2), ('relationship', '', 2), ('with', '', 2), ('the', '', 2), ('threat', '', 2), ('group', '', 2), ('Moafee', 'same_group', 3), ('.', '', 2), (' ', '', 2), ('It', '', 2), ('is', '', 2), ('known', '', 2), ('to', '', 2), ('use', '', 2), ('a', '', 2), ('variety', '', 2), ('of', '', 2), ('malware', '', 2), (',', '', 2), ('including', '', 2), ('Sysget', '', 2), ('/', '', 2), ('HelloBridge', '', 2), (',', '', 2), ('PlugX', '', 2), (',', '', 2), ('PoisonIvy', '', 2), (',', '', 2), ('FormerFirstRat', '', 2), (',', '', 2), ('NFlog', '', 2), (',', '', 2), ('and', '', 2), ('NewCT', '', 2), ('.', '', 2)]\n",
      "Tokens [('admin@338', 'group', 3), ('is', '', 2), ('a', '', 2), ('China', 'threat_actor', 3), ('-', 'threat_actor', 1), ('based', 'threat_actor', 1), ('cyber', '', 2), ('threat', '', 2), ('group', '', 2), ('.', '', 2), ('It', '', 2), ('has', '', 2), ('previously', '', 2), ('used', '', 2), ('newsworthy', '', 2), ('events', '', 2), ('as', '', 2), ('lures', '', 2), ('to', '', 2), ('deliver', '', 2), ('malware', '', 2), ('and', '', 2), ('has', '', 2), ('primarily', '', 2), ('targeted', '', 2), ('organizations', '', 2), ('involved', '', 2), ('in', '', 2), ('financial', 'target', 3), (',', '', 2), ('economic', 'target', 3), (',', '', 2), ('and', '', 2), ('trade', 'target', 3), ('policy', 'target', 1), (',', '', 2), ('typically', '', 2), ('using', '', 2), ('publicly', '', 2), ('available', '', 2), ('RATs', '', 2), ('such', '', 2), ('as', '', 2), ('PoisonIvy', 'path', 3), (',', '', 2), ('as', '', 2), ('well', '', 2), ('as', '', 2), ('some', '', 2), ('non', '', 2), ('-', '', 2), ('public', '', 2), ('backdoors', '', 2), ('.', '', 2)]\n",
      "Tokens [('APT30', 'group', 3), ('is', '', 2), ('a', '', 2), ('threat', '', 2), ('group', '', 2), ('suspected', '', 2), ('to', '', 2), ('be', '', 2), ('associated', '', 2), ('with', '', 2), ('the', '', 2), ('Chinese', 'threat_group', 3), ('government', '', 2), ('.', '', 2), (' ', '', 2), ('While', '', 2), ('Naikon', '', 2), ('shares', '', 2), ('some', '', 2), ('characteristics', '', 2), ('with', '', 2), ('APT30', '', 2), (',', '', 2), ('the', '', 2), ('two', '', 2), ('groups', '', 2), ('do', '', 2), ('not', '', 2), ('appear', '', 2), ('to', '', 2), ('be', '', 2), ('exact', '', 2), ('matches', '', 2), ('.', '', 2)]\n",
      "Tokens [('APT28', 'group', 3), ('is', '', 2), ('a', '', 2), ('threat', '', 2), ('group', '', 2), ('that', '', 2), ('has', '', 2), ('been', '', 2), ('attributed', '', 2), ('to', '', 2), ('Russia', 'threat_group', 3), (\"'s\", '', 2), ('Main', '', 2), ('Intelligence', '', 2), ('Directorate', '', 2), ('of', '', 2), ('the', '', 2), ('Russian', '', 2), ('General', '', 2), ('Staff', '', 2), ('by', '', 2), ('a', '', 2), ('July', '', 2), ('2018', '', 2), ('U.S.', '', 2), ('Department', '', 2), ('of', '', 2), ('Justice', '', 2), ('indictment', '', 2), ('.', '', 2), ('This', '', 2), ('group', '', 2), ('reportedly', '', 2), ('compromised', '', 2), ('the', '', 2), ('Hillary', 'target', 3), ('Clinton', 'target', 1), ('campaign', 'target', 1), (',', '', 2), ('the', '', 2), ('Democratic', 'target', 3), ('National', 'target', 1), ('Committee', '', 2), (',', '', 2), ('and', '', 2), ('the', '', 2), ('Democratic', 'target', 3), ('Congressional', 'target', 1), ('Campaign', '', 2), ('Committee', '', 2), ('in', '', 2), ('2016', 'date', 3), ('in', '', 2), ('an', '', 2), ('attempt', '', 2), ('to', '', 2), ('interfere', '', 2), ('with', '', 2), ('the', '', 2), ('U.S.', '', 2), ('presidential', '', 2), ('election', '', 2), ('.', '', 2), ('APT28', '', 2), ('has', '', 2), ('been', '', 2), ('active', '', 2), ('since', '', 2), ('at', '', 2), ('least', '', 2), ('2004', 'date', 3), ('.', '', 2)]\n",
      "Tokens [('APT18', 'group', 3), ('is', '', 2), ('a', '', 2), ('threat', '', 2), ('group', '', 2), ('that', '', 2), ('has', '', 2), ('operated', '', 2), ('since', '', 2), ('at', '', 2), ('least', '', 2), ('2009', 'date', 3), ('and', '', 2), ('has', '', 2), ('targeted', '', 2), ('a', '', 2), ('range', '', 2), ('of', '', 2), ('industries', '', 2), (',', '', 2), ('including', '', 2), ('technology', 'target', 3), (',', '', 2), ('manufacturing', 'target', 3), (',', '', 2), ('human', 'target', 3), ('rights', 'target', 1), ('groups', '', 2), (',', '', 2), ('government', 'target', 3), (',', '', 2), ('and', '', 2), ('medical', 'target', 3), ('.', '', 2)]\n",
      "Tokens [('APT1', 'group', 3), ('is', '', 2), ('a', '', 2), ('Chinese', 'threat_group', 3), ('threat', 'threat_group', 1), ('group', '', 2), ('that', '', 2), ('has', '', 2), ('been', '', 2), ('attributed', '', 2), ('to', '', 2), ('the', '', 2), ('2nd', 'target', 3), ('Bureau', 'target', 1), ('of', 'target', 1), ('the', 'target', 1), ('People', 'target', 1), ('’s', 'target', 1), ('Liberation', 'target', 1), ('Army', 'target', 1), ('(', '', 2), ('PLA', '', 2), (')', '', 2), ('General', '', 2), ('Staff', '', 2), ('Department', '', 2), ('’s', '', 2), ('(', '', 2), ('GSD', '', 2), (')', '', 2), ('3rd', '', 2), ('Department', '', 2), (',', '', 2), ('commonly', '', 2), ('known', '', 2), ('by', '', 2), ('its', '', 2), ('Military', '', 2), ('Unit', '', 2), ('Cover', '', 2), ('Designator', '', 2), ('(', '', 2), ('MUCD', '', 2), (')', '', 2), ('as', '', 2), ('Unit', '', 2), ('61398', '', 2), ('.', '', 2)]\n",
      "Tokens [('APT16', 'group', 3), ('is', '', 2), ('a', '', 2), ('China', 'threat_group', 3), ('-', 'threat_group', 1), ('based', 'threat_group', 1), ('threat', '', 2), ('group', '', 2), ('that', '', 2), ('has', '', 2), ('launched', '', 2), ('spearphishing', '', 2), ('campaigns', '', 2), ('targeting', '', 2), ('Japanese', 'target', 3), ('and', '', 2), ('Taiwanese', 'target', 3), ('organizations', '', 2), ('.', '', 2)]\n"
     ]
    },
    {
     "name": "stdout",
     "output_type": "stream",
     "text": [
      "Tokens [('Dust', 'group', 3), ('Storm', 'group', 1), ('is', '', 2), ('a', '', 2), ('threat', '', 2), ('group', '', 2), ('that', '', 2), ('has', '', 2), ('targeted', '', 2), ('multiple', '', 2), ('industries', '', 2), ('in', '', 2), ('Japan', 'target_country', 3), (',', '', 2), ('South', 'target_country', 3), ('Korea', 'target_country', 1), (',', '', 2), ('the', '', 2), ('United', 'target_country', 3), ('States', 'target_country', 1), (',', '', 2), ('Europe', '', 2), (',', '', 2), ('and', '', 2), ('several', '', 2), ('Southeast', '', 2), ('Asian', '', 2), ('countries', '', 2), ('.', '', 2)]\n",
      "Tokens [('Dragonfly', 'group', 3), ('2.0', 'group', 1), ('is', '', 2), ('a', '', 2), ('suspected', '', 2), ('Russian', '', 2), ('group', '', 2), ('that', '', 2), ('has', '', 2), ('targeted', '', 2), ('government', '', 2), ('entities', '', 2), ('and', '', 2), ('multiple', '', 2), ('U.S.', 'target_country', 3), ('critical', '', 2), ('infrastructure', '', 2), ('sectors', '', 2), ('since', '', 2), ('at', '', 2), ('least', '', 2), ('March', 'date', 3), ('2016', 'date', 1), ('.', '', 2), ('  ', '', 2), ('There', '', 2), ('is', '', 2), ('debate', '', 2), ('over', '', 2), ('the', '', 2), ('extent', '', 2), ('of', '', 2), ('overlap', '', 2), ('between', '', 2), ('Dragonfly', '', 2), ('2.0', '', 2), ('and', '', 2), ('Dragonfly', '', 2), (',', '', 2), ('but', '', 2), ('there', '', 2), ('is', '', 2), ('sufficient', '', 2), ('evidence', '', 2), ('to', '', 2), ('lead', '', 2), ('to', '', 2), ('these', '', 2), ('being', '', 2), ('tracked', '', 2), ('as', '', 2), ('two', '', 2), ('separate', '', 2), ('groups', '', 2), ('.', '', 2)]\n",
      "Tokens [('APT12', 'group', 3), ('is', '', 2), ('a', '', 2), ('threat', '', 2), ('group', '', 2), ('that', '', 2), ('has', '', 2), ('been', '', 2), ('attributed', '', 2), ('to', '', 2), ('China', 'threat_actor', 3), ('.', '', 2), ('The', '', 2), ('group', '', 2), ('has', '', 2), ('targeted', '', 2), ('a', '', 2), ('variety', '', 2), ('of', '', 2), ('victims', '', 2), ('including', '', 2), ('but', '', 2), ('not', '', 2), ('limited', '', 2), ('to', '', 2), ('media', 'target', 3), ('outlets', 'target', 1), (',', '', 2), ('high', 'target', 3), ('-', 'target', 1), ('tech', 'target', 1), ('companies', 'target', 1), (',', '', 2), ('and', '', 2), ('multiple', 'target', 3), ('governments', 'target', 1), ('.', '', 2)]\n",
      "Tokens [('APT17', 'group', 3), ('is', '', 2), ('a', '', 2), ('China', 'threat_actor', 3), ('-', 'threat_actor', 1), ('based', 'threat_actor', 1), ('threat', '', 2), ('group', '', 2), ('that', '', 2), ('has', '', 2), ('conducted', '', 2), ('network', 'path', 3), ('intrusions', 'path', 1), ('against', '', 2), ('U.S.', 'target_country', 3), ('government', '', 2), ('entities', '', 2), (',', '', 2), ('the', '', 2), ('defense', 'target', 3), ('industry', 'target', 1), (',', '', 2), ('law', 'target', 3), ('firms', 'target', 1), (',', '', 2), ('information', 'target', 3), ('technology', 'target', 1), ('companies', '', 2), (',', '', 2), ('mining', 'target', 3), ('companies', '', 2), (',', '', 2), ('and', '', 2), ('non', 'target', 3), ('-', 'target', 1), ('government', 'target', 1), ('organizations', '', 2), ('.', '', 2)]\n",
      "Tokens [('APT29', 'group', 3), ('is', '', 2), ('threat', '', 2), ('group', '', 2), ('that', '', 2), ('has', '', 2), ('been', '', 2), ('attributed', '', 2), ('to', '', 2), ('the', '', 2), ('Russian', 'threat_group', 3), ('government', '', 2), ('and', '', 2), ('has', '', 2), ('operated', '', 2), ('since', '', 2), ('at', '', 2), ('least', '', 2), ('2008', 'date', 3), ('.', '', 2), ('  ', '', 2), ('This', '', 2), ('group', '', 2), ('reportedly', '', 2), ('compromised', '', 2), ('the', '', 2), ('Democratic', 'target', 3), ('National', 'target', 1), ('Committee', '', 2), ('starting', '', 2), ('in', '', 2), ('the', '', 2), ('summer', '', 2), ('of', '', 2), ('2015', 'date', 3), ('.', '', 2)]\n",
      "Tokens [('APT19', 'group', 3), ('is', '', 2), ('a', '', 2), ('Chinese', 'threat_group', 3), ('-', 'threat_group', 1), ('based', 'threat_group', 1), ('threat', '', 2), ('group', '', 2), ('that', '', 2), ('has', '', 2), ('targeted', '', 2), ('a', '', 2), ('variety', '', 2), ('of', '', 2), ('industries', '', 2), (',', '', 2), ('including', '', 2), ('defense', 'target', 3), (',', '', 2), ('finance', '', 2), (',', '', 2), ('energy', '', 2), (',', '', 2), ('pharmaceutical', 'target', 3), (',', '', 2), ('telecommunications', 'target', 3), (',', '', 2), ('high', '', 2), ('tech', '', 2), (',', '', 2), ('education', '', 2), (',', '', 2), ('manufacturing', 'target', 3), (',', '', 2), ('and', '', 2), ('legal', '', 2), ('services', '', 2), ('.', '', 2), ('In', '', 2), ('2017', '', 2), (',', '', 2), ('a', '', 2), ('phishing', '', 2), ('campaign', '', 2), ('was', '', 2), ('used', '', 2), ('to', '', 2), ('target', '', 2), ('seven', '', 2), ('law', '', 2), ('and', '', 2), ('investment', '', 2), ('firms', '', 2), ('.', '', 2), (' ', '', 2), ('Some', '', 2), ('analysts', '', 2), ('track', '', 2), ('APT19', '', 2), ('and', '', 2), ('Deep', 'same_group', 3), ('Panda', 'same_group', 1), ('as', '', 2), ('the', '', 2), ('same', '', 2), ('group', '', 2), (',', '', 2), ('but', '', 2), ('it', '', 2), ('is', '', 2), ('unclear', '', 2), ('from', '', 2), ('open', '', 2), ('source', '', 2), ('information', '', 2), ('if', '', 2), ('the', '', 2), ('groups', '', 2), ('are', '', 2), ('the', '', 2), ('same', '', 2), ('.', '', 2)]\n"
     ]
    }
   ],
   "source": [
    "for text, _ in TRAIN_DATA:\n",
    "        doc = nlp(text)\n",
    "        #print(\"Entities\", [(ent.text, ent.label_) for ent in doc.ents])\n",
    "        print(\"Tokens\", [(t.text, t.ent_type_, t.ent_iob) for t in doc])"
   ]
  },
  {
   "cell_type": "code",
   "execution_count": 16,
   "metadata": {},
   "outputs": [
    {
     "name": "stdout",
     "output_type": "stream",
     "text": [
      "Entities [('Cleaver', 'group'), ('Strong', 'threat_group')]\n"
     ]
    }
   ],
   "source": [
    "doc=nlp('Cleaver is a threat group that has been attributed to Iranian actors and is responsible for activity tracked as Operation Cleaver.  Strong circumstantial evidence suggests Cleaver is linked to Threat Group 2889 (TG-2889)')\n",
    "print(\"Entities\", [(ent.text, ent.label_) for ent in doc.ents])\n",
    "#print(\"Tokens\", [(t.text, t.ent_type_, t.ent_iob) for t in doc])"
   ]
  },
  {
   "cell_type": "code",
   "execution_count": 203,
   "metadata": {},
   "outputs": [],
   "source": [
    "from __future__ import unicode_literals, print_function\n",
    "\n",
    "import plac\n",
    "import random\n",
    "from pathlib import Path\n",
    "import spacy\n",
    "from spacy.util import minibatch, compounding\n",
    "\n",
    "\n",
    "# training data\n",
    "TRAIN_DATA = [\n",
    "    (\"Who is Shaka Khan?\", {\"entities\": [(7, 17, \"PERSON\")]}),\n",
    "    (\"I like London and Berlin.\", {\"entities\": [(7, 13, \"LOC\"), (18, 24, \"LOC\")]}),\n",
    "]\n",
    "\n",
    "\n",
    "@plac.annotations(\n",
    "    model=(\"Model name. Defaults to blank 'en' model.\", \"option\", \"m\", str),\n",
    "    output_dir=(\"Optional output directory\", \"option\", \"o\", Path),\n",
    "    n_iter=(\"Number of training iterations\", \"option\", \"n\", int),\n",
    ")\n",
    "def main(model=None, output_dir=None, n_iter=100):\n",
    "    \"\"\"Load the model, set up the pipeline and train the entity recognizer.\"\"\"\n",
    "    if model is not None:\n",
    "        nlp = spacy.load(model)  # load existing spaCy model\n",
    "        print(\"Loaded model '%s'\" % model)\n",
    "    else:\n",
    "        nlp = spacy.blank(\"en\")  # create blank Language class\n",
    "        print(\"Created blank 'en' model\")\n",
    "\n",
    "    # create the built-in pipeline components and add them to the pipeline\n",
    "    # nlp.create_pipe works for built-ins that are registered with spaCy\n",
    "    if \"ner\" not in nlp.pipe_names:\n",
    "        ner = nlp.create_pipe(\"ner\")\n",
    "        nlp.add_pipe(ner, last=True)\n",
    "    # otherwise, get it so we can add labels\n",
    "    else:\n",
    "        ner = nlp.get_pipe(\"ner\")\n",
    "\n",
    "    # add labels\n",
    "    for _, annotations in TRAIN_DATA:\n",
    "        for ent in annotations.get(\"entities\"):\n",
    "            ner.add_label(ent[2])\n",
    "\n",
    "    # get names of other pipes to disable them during training\n",
    "    other_pipes = [pipe for pipe in nlp.pipe_names if pipe != \"ner\"]\n",
    "    with nlp.disable_pipes(*other_pipes):  # only train NER\n",
    "        # reset and initialize the weights randomly – but only if we're\n",
    "        # training a new model\n",
    "        if model is None:\n",
    "            nlp.begin_training()\n",
    "        for itn in range(n_iter):\n",
    "            random.shuffle(TRAIN_DATA)\n",
    "            losses = {}\n",
    "            # batch up the examples using spaCy's minibatch\n",
    "            batches = minibatch(TRAIN_DATA, size=compounding(4.0, 32.0, 1.001))\n",
    "            for batch in batches:\n",
    "                texts, annotations = zip(*batch)\n",
    "                nlp.update(\n",
    "                    texts,  # batch of texts\n",
    "                    annotations,  # batch of annotations\n",
    "                    drop=0.5,  # dropout - make it harder to memorise data\n",
    "                    losses=losses,\n",
    "                )\n",
    "            print(\"Losses\", losses)\n",
    "\n",
    "    # test the trained model\n",
    "    for text, _ in TRAIN_DATA:\n",
    "        doc = nlp(text)\n",
    "        print(\"Entities\", [(ent.text, ent.label_) for ent in doc.ents])\n",
    "        print(\"Tokens\", [(t.text, t.ent_type_, t.ent_iob) for t in doc])"
   ]
  },
  {
   "cell_type": "code",
   "execution_count": 204,
   "metadata": {},
   "outputs": [
    {
     "ename": "SystemExit",
     "evalue": "2",
     "output_type": "error",
     "traceback": [
      "An exception has occurred, use %tb to see the full traceback.\n",
      "\u001b[1;31mSystemExit\u001b[0m\u001b[1;31m:\u001b[0m 2\n"
     ]
    }
   ],
   "source": [
    "if __name__ == \"__main__\":\n",
    "    plac.call(main)"
   ]
  },
  {
   "cell_type": "code",
   "execution_count": null,
   "metadata": {},
   "outputs": [],
   "source": []
  },
  {
   "cell_type": "code",
   "execution_count": 179,
   "metadata": {},
   "outputs": [],
   "source": [
    "TRAIN_DATA_1 = [\n",
    "    (\"Who is Shaka Khan?\", {\"entities\": [(7, 17, \"PERSON\")]}),\n",
    "    (\"I like London and Berlin.\", {\"entities\": [(7, 13, \"LOC\"), (18, 24, \"LOC\")]}),\n",
    "]"
   ]
  },
  {
   "cell_type": "code",
   "execution_count": 176,
   "metadata": {},
   "outputs": [],
   "source": [
    "for _,annotations in TRAIN_DATA:\n",
    "    for ent in annotations.get(\"entities\"):\n",
    "            ner.add_label(ent[2])"
   ]
  },
  {
   "cell_type": "code",
   "execution_count": null,
   "metadata": {},
   "outputs": [],
   "source": []
  }
 ],
 "metadata": {
  "kernelspec": {
   "display_name": "Python 3",
   "language": "python",
   "name": "python3"
  },
  "language_info": {
   "codemirror_mode": {
    "name": "ipython",
    "version": 3
   },
   "file_extension": ".py",
   "mimetype": "text/x-python",
   "name": "python",
   "nbconvert_exporter": "python",
   "pygments_lexer": "ipython3",
   "version": "3.7.4"
  }
 },
 "nbformat": 4,
 "nbformat_minor": 2
}
