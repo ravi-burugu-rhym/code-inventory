{
 "cells": [
  {
   "cell_type": "code",
   "execution_count": 62,
   "metadata": {},
   "outputs": [],
   "source": [
    "import datetime\n",
    "from pycti import OpenCTIApiClient\n",
    "from dateutil.parser import parse\n",
    "import pandas as pd\n",
    "import os\n",
    "import warnings"
   ]
  },
  {
   "cell_type": "code",
   "execution_count": 63,
   "metadata": {},
   "outputs": [
    {
     "name": "stderr",
     "output_type": "stream",
     "text": [
      "INFO:root:Listing Threat-Actors with filters null.\n"
     ]
    }
   ],
   "source": [
    "api_url = \"http://192.168.1.251:8080\"\n",
    "api_token = \"b939cbc2-09b0-4282-bdd7-126162946ba3\"\n",
    "\n",
    "# OpenCTI initialization\n",
    "opencti_api_client = OpenCTIApiClient(api_url, api_token)\n"
   ]
  },
  {
   "cell_type": "code",
   "execution_count": 9,
   "metadata": {},
   "outputs": [
    {
     "name": "stderr",
     "output_type": "stream",
     "text": [
      "INFO:root:Listing Threat-Actors with filters null.\n"
     ]
    }
   ],
   "source": [
    "api_url = \"https://demo.opencti.io\"\n",
    "api_token = \"609caced-7610-4c84-80b4-f3a380d1939b\"\n",
    "\n",
    "# OpenCTI initialization\n",
    "opencti_api_client = OpenCTIApiClient(api_url, api_token)\n"
   ]
  },
  {
   "cell_type": "code",
   "execution_count": 76,
   "metadata": {},
   "outputs": [],
   "source": [
    "class entity_insertion:\n",
    "    \n",
    "   \n",
    "        \n",
    "\n",
    "    def __init__(self,report_path,relation_path,stix_domain= dict(),ext_ref=dict()):\n",
    "    \n",
    "        self.report_path = report_path\n",
    "        self.stix_domain = stix_domain\n",
    "        self.ext_ref = ext_ref\n",
    "        self.relation_path =relation_path\n",
    "    \n",
    "    def add_mark_def(self,row,stix_id):\n",
    "        mark      =row['marking_definitions']\n",
    "        all_marks =opencti_api_client.marking_definition.list()\n",
    "        for i in all_marks:\n",
    "            if mark in i['definition'].lower():\n",
    "                mark_code= i['id']\n",
    "                opencti_api_client.stix_entity.add_marking_definition(id=stix_id,marking_definition_id=mark_code)  \n",
    "                \n",
    "    def add_external_references_to_stix_entity(self,url,entity_id,ext_ref):\n",
    "        \n",
    "        key=ext_ref.keys()\n",
    "        if url in key :\n",
    "                opencti_api_client.stix_entity.add_external_reference(id=entity_id, external_reference_id= self.stix_domain[url]\n",
    "                                                                     )\n",
    "    def creating_and_adding_ext_ref(self,by,report):\n",
    "        \n",
    "        ext_ref_details = pd.read_excel(self.report_path,sheet_name = 'external_ref')\n",
    "        ext_ref_details = ext_ref_details.where(ext_ref_details.notnull(), None)\n",
    "        \n",
    "        for index,row in ext_ref_details.iterrows():\n",
    "                \n",
    "                external_reference = opencti_api_client.external_reference.create(\n",
    "                            source_name= row['source_name'],\n",
    "                            url= row['url'].strip(),\n",
    "                            external_id =row['external_id'],\n",
    "                            description = row['description']\n",
    "                )\n",
    "                    \n",
    "                opencti_api_client.stix_entity.add_external_reference(id=report,external_reference_id = external_reference['id'] )  \n",
    "                self.ext_ref.update ({row['url'].strip() : external_reference['id']})               \n",
    "     \n",
    "    def create_threat_actor(self,by,report):\n",
    "            \n",
    "            threat_actor_details = pd.read_excel(self.report_path,sheet_name = 'threat_actor')\n",
    "            threat_actor_details = threat_actor_details.where(threat_actor_details.notnull(), None)\n",
    "            \n",
    "            for index,row in threat_actor_details.iterrows():\n",
    "            \n",
    "                print(row['name'])\n",
    "                if row['alias'] is not None:\n",
    "                    aliases =row['alias'].split(',')\n",
    "                else:\n",
    "                    aliases = None\n",
    "                    \n",
    "\n",
    "                \n",
    "                threat_actor = opencti_api_client.threat_actor.create(\n",
    "                                                name = row['name'].strip(),\n",
    "                                                description = row['description'],\n",
    "                                                alias = aliases ,\n",
    "                                                goal = row['goal'] ,\n",
    "                                                sophistication = row['sophistication'] ,\n",
    "                                                resource_level = row['resource_level'] ,\n",
    "                                                primary_motivation = row['primary_motivation'] ,\n",
    "                                                secondary_motivation = row['secondary_motivation'] ,\n",
    "                                                personal_motivation = row['personal_motivation'] ,\n",
    "                                                modified = datetime.date.today().strftime(\"%Y-%m-%dT%H:%M:%S+00:00\") ,\n",
    "                                                createdByRef = by,\n",
    "                                                update = False\n",
    "                                                 )\n",
    "                    \n",
    "                if row['marking_definitions'] is not None:\n",
    "                        self.add_mark_def(stix_id=threat_actor['id'],row=row)\n",
    "                        \n",
    "                opencti_api_client.report.add_stix_entity(id=report,entity_id = threat_actor['id'] )       \n",
    "                self.stix_domain.update ({row['name'].strip() : threat_actor['id']})\n",
    "                self.add_external_references_to_stix_entity (url=row['external_references'],entity_id =threat_actor['id'],ext_ref =self.ext_ref )\n",
    "                \n",
    "                        \n",
    "    def create_attack_pattern(self,by,report):           #attack_pattern insertion    \n",
    "            \n",
    "            attack_pattern_details = pd.read_excel(self.report_path,sheet_name = 'attack_pattern')\n",
    "            attack_pattern_details = attack_pattern_details.where(attack_pattern_details.notnull(), None)\n",
    "            \n",
    "            for index,row in attack_pattern_details.iterrows():\n",
    "            \n",
    "                if row['alias'] is not None:\n",
    "                    aliases =row['alias'].split(',')\n",
    "                else:\n",
    "                    aliases = None\n",
    "                    \n",
    "                if row['platform'] is not None:\n",
    "                    platforms =row['platform'].split(',')\n",
    "                else:\n",
    "                    platforms = None\n",
    "                    \n",
    "                print(row['required_permission'])   \n",
    "                \n",
    "                exist = opencti_api_client.attack_pattern.list ( filters=[{'key' : 'name' , 'values' : row['name']}])\n",
    "                \n",
    "                if (len(exist) == 0):\n",
    "                    by = by\n",
    "                else:\n",
    "                    by = None\n",
    "                \n",
    "                \n",
    "                attack_pattern = opencti_api_client.attack_pattern.create(\n",
    "                                                name = row['name'].strip(),\n",
    "                                                description = row['description'],\n",
    "                                                alias = aliases,\n",
    "                                                platform  = platforms ,\n",
    "                                                required_permission = row['required_permission'] ,\n",
    "                                                external_id  = row['external_id'] ,\n",
    "                                                modified = datetime.date.today().strftime(\"%Y-%m-%dT%H:%M:%S+00:00\") ,\n",
    "                                                createdByRef = by,\n",
    "                                                update=True\n",
    "                                                )\n",
    "                                          \n",
    "                if row['marking_definitions'] is not None:\n",
    "                        self.add_mark_def(stix_id=attack_pattern['id'],row=row)\n",
    "                        \n",
    "                        \n",
    "                opencti_api_client.report.add_stix_entity(id=report,entity_id = attack_pattern['id'] )  \n",
    "                self.stix_domain.update ({row['name'].strip() : attack_pattern['id']})      \n",
    "                self.add_external_references_to_stix_entity (url=row['external_references'],entity_id =attack_pattern['id'],ext_ref =self.ext_ref ) \n",
    "                    \n",
    "    def create_malware(self,by,report):           #malware insertion    \n",
    "            \n",
    "            malware_details = pd.read_excel(self.report_path,sheet_name = 'malware')\n",
    "            malware_details = malware_details.where(malware_details.notnull(), None)\n",
    "            \n",
    "            for index,row in malware_details.iterrows():\n",
    "            \n",
    "                if row['alias'] is not None:\n",
    "                    aliases =row['alias'].split(',')\n",
    "                    print(aliases)\n",
    "                else:\n",
    "                    aliases = None\n",
    "                \n",
    "                exist = opencti_api_client.malware.list ( filters=[{'key' : 'name' , 'values' : row['name']}])\n",
    "            \n",
    "                if (len(exist) == 0):\n",
    "                    malware = opencti_api_client.malware.create(\n",
    "                                                name = row['name'].strip(),\n",
    "                                                description = row['description'],\n",
    "                                                alias = aliases ,\n",
    "                                                modified = datetime.date.today().strftime(\"%Y-%m-%dT%H:%M:%S+00:00\") ,\n",
    "                                                createdByRef = by,\n",
    "                                                )\n",
    "                else:\n",
    "                     malware = opencti_api_client.malware.create(\n",
    "                                                name = row['name'].strip(),\n",
    "                                                description = row['description'],\n",
    "                                                alias = aliases ,\n",
    "                                                modified = datetime.date.today().strftime(\"%Y-%m-%dT%H:%M:%S+00:00\") ,\n",
    "                                                update = True,\n",
    "                                                 )\n",
    "                if row['marking_definitions'] is not None:\n",
    "                        self.add_mark_def(stix_id=malware['id'],row=row)\n",
    "                        \n",
    "                opencti_api_client.report.add_stix_entity(id=report,entity_id = malware['id'] )\n",
    "                self.stix_domain.update ({row['name'].strip() : malware['id']}) \n",
    "                self.add_external_references_to_stix_entity (url=row['external_references'],entity_id =malware['id'],ext_ref =self.ext_ref )\n",
    "                \n",
    "    def create_tool(self,by,report):           #malware insertion    \n",
    "            \n",
    "            tool_details = pd.read_excel(self.report_path,sheet_name = 'tool')\n",
    "            tool_details = tool_details.where(tool_details.notnull(), None)\n",
    "            \n",
    "            for index,row in tool_details.iterrows():\n",
    "            \n",
    "                if row['alias'] is not None:\n",
    "                    aliases =row['alias'].split(',')\n",
    "                    print(aliases)\n",
    "                else:\n",
    "                    aliases = None\n",
    "                \n",
    "                exist = opencti_api_client.tool.list ( filters=[{'key' : 'name' , 'values' : row['name']}])\n",
    "            \n",
    "                if (len(exist) == 0):\n",
    "                    tool = opencti_api_client.tool.create(\n",
    "                                                name = row['name'].strip(),\n",
    "                                                description = row['description'],\n",
    "                                                alias = aliases ,\n",
    "                                                modified = datetime.date.today().strftime(\"%Y-%m-%dT%H:%M:%S+00:00\") ,\n",
    "                                                createdByRef = by,\n",
    "                                                )\n",
    "                else:\n",
    "                     tool = opencti_api_client.tool.create(\n",
    "                                                name = row['name'].strip(),\n",
    "                                                description = row['description'],\n",
    "                                                alias = aliases ,\n",
    "                                                modified = datetime.date.today().strftime(\"%Y-%m-%dT%H:%M:%S+00:00\") ,\n",
    "                                                update = True,\n",
    "                                                 )\n",
    "                if row['marking_definitions'] is not None:\n",
    "                        self.add_mark_def(stix_id=tool['id'],row=row)\n",
    "                        \n",
    "                opencti_api_client.report.add_stix_entity(id=report,entity_id = tool['id'] )\n",
    "                self.stix_domain.update ({row['name'].strip() : tool['id']})\n",
    "                self.add_external_references_to_stix_entity (url=row['external_references'],entity_id =tool['id'],ext_ref =self.ext_ref )\n",
    "                \n",
    "    def create_vulnerabilty(self,by,report):           #vulnerability insertion    \n",
    "            \n",
    "            vul_details = pd.read_excel(self.report_path,sheet_name = 'vulnerability')\n",
    "            vul_details = vul_details.where(vul_details.notnull(), None)\n",
    "            \n",
    "            for index,row in vul_details.iterrows():\n",
    "            \n",
    "                if row['alias'] is not None:\n",
    "                    aliases =row['alias'].split(',')\n",
    "                    print(aliases)\n",
    "                else:\n",
    "                    aliases = None\n",
    "                \n",
    "                exist = opencti_api_client.vulnerability.list ( filters=[{'key' : 'name' , 'values' : row['name']}])\n",
    "            \n",
    "                if (len(exist) == 0):\n",
    "                    vulnerability = opencti_api_client.vulnerability.create(\n",
    "                                                name = row['name'].strip(),\n",
    "                                                description = row['description'],\n",
    "                                                alias = aliases ,\n",
    "                                                modified = datetime.date.today().strftime(\"%Y-%m-%dT%H:%M:%S+00:00\") ,\n",
    "                                                createdByRef = by,\n",
    "                                                )\n",
    "                else:\n",
    "                     vulnerability = opencti_api_client.vulnerability.create(\n",
    "                                                name = row['name'].strip(),\n",
    "                                                description = row['description'],\n",
    "                                                alias = aliases ,\n",
    "                                                modified = datetime.date.today().strftime(\"%Y-%m-%dT%H:%M:%S+00:00\") ,\n",
    "                                                update = True,\n",
    "                                                 )\n",
    "                if row['marking_definitions'] is not None:\n",
    "                        self.add_mark_def(stix_id=vulnerability['id'],row=row)\n",
    "                        \n",
    "                opencti_api_client.report.add_stix_entity(id=report,entity_id = vulnerability['id'] )\n",
    "                self.stix_domain.update ({row['name'].strip() : vulnerability['id']})  \n",
    "                self.add_external_references_to_stix_entity (url=row['external_references'],entity_id =vulnerability['id'],ext_ref =self.ext_ref )\n",
    "                \n",
    "    def create_indicator(self,by,report):           #vulnerability insertion    \n",
    "            \n",
    "            indicator_details = pd.read_excel(self.report_path,sheet_name = 'Indicator')\n",
    "            indicator_details = indicator_details.where(indicator_details.notnull(), None)\n",
    "            \n",
    "            for index,row in indicator_details.iterrows():\n",
    "            \n",
    "                #exist = opencti_api_client.indicator.list ( filters=[{'key' : 'name' , 'values' : row['name']}])\n",
    "                exist=[]\n",
    "                if (len(exist) == 0):\n",
    "                    indicator = opencti_api_client.indicator.create(\n",
    "                                                                name=row['name'],\n",
    "                                                                description= row['description'],\n",
    "                                                                pattern_type= row['pattern_type'],\n",
    "                                                                main_observable_type= row ['main_observable_type'],\n",
    "                                                                indicator_pattern=row ['indicator_pattern'],\n",
    "                                                                createdByRef = by,\n",
    "                                                                )\n",
    "                else:\n",
    "                      indicator = opencti_api_client.indicator.create(\n",
    "                                                                name=row['name'],\n",
    "                                                                description= row['description'],\n",
    "                                                                pattern_type= row['pattern_type'],\n",
    "                                                                indicator_pattern= row ['main_observable_type'],\n",
    "                                                                main_observable_type=\"File\",\n",
    "                                                                createdByRef = by,\n",
    "                                                                update =True\n",
    "                                                                  )\n",
    "                if row['marking_definitions'] is not None:\n",
    "                        self.add_mark_def(stix_id=vulnerability['id'],row=row)\n",
    "                        \n",
    "                opencti_api_client.report.add_stix_entity(id=report,entity_id = indicator['id'] )\n",
    "                self.stix_domain.update ({row['name'].strip() : indicator['id']})  \n",
    "                self.add_external_references_to_stix_entity (url=row['external_references'],entity_id =indicator['id'],ext_ref =self.ext_ref ) \n",
    "                \n",
    "\n",
    "        \n",
    "    def create_relationships(self,report):\n",
    "\n",
    "        relation_details= pd.read_excel(self.relation_path,sheet_name='relations')\n",
    "        relation_details = relation_details.where(relation_details.notnull(), None)\n",
    "\n",
    "        df=relation_details.copy()\n",
    "        df['to'] = [str(i).strip() for i in df['to']]\n",
    "        df['to']=df['to'].map(self.stix_domain)\n",
    "        df['from']=df['from'].map(self.stix_domain)\n",
    "\n",
    "        df = df.where(df.notnull(), None)\n",
    "\n",
    "\n",
    "        for index,row in df.iterrows():\n",
    "\n",
    "            if ((row['from']) is not None ) & ((row['to']) is not None ):\n",
    "\n",
    "                    print(row['from'])\n",
    "                    print(row['to'])\n",
    "                    relation = opencti_api_client.stix_relation.create(\n",
    "                    fromType= opencti_api_client.get_stix_domain_entity (id =row['from'])['entity_type'],\n",
    "                    fromId=row['from'],\n",
    "                    relationship_type = row['relation'],\n",
    "                    toType=opencti_api_client.get_stix_domain_entity (row['to'])['entity_type'],\n",
    "                    toId= row ['to'],\n",
    "                    )\n",
    "\n",
    "                    opencti_api_client.report.add_stix_entity(id=report,entity_id = relation['id'] )\n",
    "\n",
    "    \n",
    "    def create_report(self):\n",
    "\n",
    "        report_details = pd.read_excel(self.report_path,sheet_name = 'report')\n",
    "        report_details = report_details.where(report_details.notnull(), None)\n",
    "        \n",
    "        #report creation\n",
    "        for index,row in report_details.iterrows():\n",
    "            report_by = opencti_api_client.identity.list(filters=[{'key':'name','values': row['created_by_ref'] }])\n",
    "           \n",
    "            if len(report_by) == 0 : \n",
    "                warnings.warn(\"Since \" + row['created_by_ref'] + \" is not inserted in opencti.Rhymtechnologies is taken as default\")\n",
    "                report_by = organization = opencti_api_client.identity.create(\n",
    "                                            type='Organization',\n",
    "                                            name=\"Rhymtechnologies\",\n",
    "                                            alias=[\"Rhymtech\"],\n",
    "                                            description=\"A young and innovative company formed with a vision to create world leading Cyber Security products and services. The promoters are a group of highly successful professionals with diverse backgrounds across IT Delivery, Sales and Consulting, Cyber Security, Artificial Intelligence, Machine Learning and Data Sciences. Our group of consultants led by some of the best minds in the industry have successfully provided strategic and value-add services for multiple large organizations globally.\",\n",
    "                                            )\n",
    "            else:\n",
    "                report_by = report_by[0]\n",
    "                \n",
    "            #report_by = {'id': None}\n",
    "                \n",
    "            \n",
    "            print(row ['source_confidence_level'])\n",
    "            \n",
    "            report = opencti_api_client.report.create(\n",
    "                                                            name=row['name'],\n",
    "                                                            description= row['description'],\n",
    "                                                            report_class=\"Internal Report\",\n",
    "                                                            published=datetime.date.today().strftime(\"%Y-%m-%dT%H:%M:%S+00:00\"),\n",
    "                                                            createdByRef= report_by['id'],\n",
    "                                                            object_status = row['object_status'],\n",
    "                                                            source_confidence_level = row ['source_confidence_level'],\n",
    "                                                            update = True,\n",
    "                                                            )\n",
    "            if row['marking_definitions'] is not None:\n",
    "                        self.add_mark_def(stix_id=threat_actor['id'],row=row)\n",
    "            print(\"one_completed\")\n",
    "            \n",
    "            self.creating_and_adding_ext_ref(by = report_by['id'] ,report = report['id'])  \n",
    "            self.create_threat_actor(by = report_by['id'] ,report = report['id'])  \n",
    "            self.create_attack_pattern(by = report_by['id'] , report =report ['id'])\n",
    "            self.create_malware (by = report_by['id'] , report = report ['id'])\n",
    "            self.create_tool (by = report_by['id'] , report = report ['id'])\n",
    "            self.create_vulnerabilty (by = report_by['id'] , report = report ['id'])\n",
    "            self.create_indicator (by = report_by['id'] , report = report ['id'])\n",
    "            self.create_relationships (report = report ['id'])\n",
    "            \n",
    "            \n",
    "            return [self.stix_domain,self.ext_ref]\n",
    "                 \n",
    "                \n",
    "        "
   ]
  },
  {
   "cell_type": "code",
   "execution_count": null,
   "metadata": {},
   "outputs": [],
   "source": []
  },
  {
   "cell_type": "code",
   "execution_count": 77,
   "metadata": {},
   "outputs": [],
   "source": [
    "en=entity_insertion(report_path=r\"D:\\Threat_intel_services\\srikanth\\fakeapt12.xlsx\",relation_path=r\"D:\\Threat_intel_services\\srikanth\\fakeapt12_relations.xlsx\")"
   ]
  },
  {
   "cell_type": "code",
   "execution_count": 78,
   "metadata": {},
   "outputs": [
    {
     "name": "stderr",
     "output_type": "stream",
     "text": [
      "INFO:root:Listing Identities with filters [{\"key\": \"name\", \"values\": \"Rhymtech\"}].\n",
      "C:\\ProgramData\\Anaconda3\\lib\\site-packages\\ipykernel_launcher.py:320: UserWarning: Since Rhymtech is not inserted in opencti.Rhymtechnologies is taken as default\n",
      "INFO:root:Listing Stix-Domain-Entities with filters [{\"key\": \"name\", \"values\": [\"Rhymtechnologies\"]}].\n",
      "INFO:root:Listing Reports with filters [{\"key\": \"name\", \"values\": [\"fakeapt12\"]}, {\"key\": \"published_day\", \"values\": [\"2020-02-04\"]}].\n"
     ]
    },
    {
     "name": "stdout",
     "output_type": "stream",
     "text": [
      "1.0\n",
      "one_completed\n"
     ]
    },
    {
     "name": "stderr",
     "output_type": "stream",
     "text": [
      "INFO:root:Listing External-Reference with filters [{\"key\": \"url\", \"values\": [\"link:https://www.crowdstrike.com/blog/whois-numbered-panda/\"]}].\n",
      "INFO:root:Reading Stix-Entity {e09e1b14-cf48-4515-b0d9-38917a1433c4}.\n",
      "INFO:root:Listing External-Reference with filters [{\"key\": \"url\", \"values\": [\"https://www.thaicert.or.th/downloads/files/A_Threat_Actor_Encyclopedia.pdf\"]}].\n",
      "INFO:root:Reading Stix-Entity {e09e1b14-cf48-4515-b0d9-38917a1433c4}.\n",
      "INFO:root:Listing External-Reference with filters [{\"key\": \"url\", \"values\": [\"https://attack.mitre.org/groups/G0005/\"]}].\n",
      "INFO:root:Reading Stix-Entity {e09e1b14-cf48-4515-b0d9-38917a1433c4}.\n",
      "INFO:root:Listing External-Reference with filters [{\"key\": \"url\", \"values\": [\"https://www.youtube.com/watch?v=dy72wfyXlrM\"]}].\n",
      "INFO:root:Reading Stix-Entity {e09e1b14-cf48-4515-b0d9-38917a1433c4}.\n",
      "INFO:root:Listing External-Reference with filters [{\"key\": \"url\", \"values\": [\"https://www.crowdstrike.com/blog/whois-numbered-panda/\"]}].\n",
      "INFO:root:Reading Stix-Entity {e09e1b14-cf48-4515-b0d9-38917a1433c4}.\n",
      "INFO:root:Listing External-Reference with filters [{\"key\": \"url\", \"values\": [\"https://www.trendmicro.de/cloud-content/us/pdfs/security-intelligence/white-papers/wp_ixeshe.pdf\"]}].\n",
      "INFO:root:Reading Stix-Entity {e09e1b14-cf48-4515-b0d9-38917a1433c4}.\n",
      "INFO:root:Listing External-Reference with filters [{\"key\": \"url\", \"values\": [\"https://malpedia.caad.fkie.fraunhofer.de/actor/ixeshe\"]}].\n",
      "INFO:root:Reading Stix-Entity {e09e1b14-cf48-4515-b0d9-38917a1433c4}.\n",
      "INFO:root:Listing External-Reference with filters [{\"key\": \"url\", \"values\": [\"https://attack.mitre.org/software/S0015/\"]}].\n",
      "INFO:root:Reading Stix-Entity {e09e1b14-cf48-4515-b0d9-38917a1433c4}.\n",
      "INFO:root:Listing External-Reference with filters [{\"key\": \"url\", \"values\": [\"https://www.fireeye.com/blog/threat-research/2013/08/survival-of-the-fittest-new-york-times-attackers-evolve-quickly.html\"]}].\n",
      "INFO:root:Reading Stix-Entity {e09e1b14-cf48-4515-b0d9-38917a1433c4}.\n",
      "INFO:root:Listing External-Reference with filters [{\"key\": \"url\", \"values\": [\"https://malpedia.caad.fkie.fraunhofer.de/actor/ixeshe\"]}].\n",
      "INFO:root:Reading Stix-Entity {e09e1b14-cf48-4515-b0d9-38917a1433c4}.\n",
      "INFO:root:Listing External-Reference with filters [{\"key\": \"url\", \"values\": [\"https://www.fireeye.com/blog/threat-research/2014/09/darwins-favorite-apt-group-2.html\"]}].\n",
      "INFO:root:Reading Stix-Entity {e09e1b14-cf48-4515-b0d9-38917a1433c4}.\n",
      "INFO:root:Listing External-Reference with filters [{\"key\": \"url\", \"values\": [\"https://www.fireeye.com/blog/threat-research/2014/09/darwins-favorite-apt-group-2.html\"]}].\n",
      "INFO:root:Reading Stix-Entity {e09e1b14-cf48-4515-b0d9-38917a1433c4}.\n",
      "INFO:root:Listing External-Reference with filters [{\"key\": \"url\", \"values\": [\"https://malpedia.caad.fkie.fraunhofer.de\"]}].\n",
      "INFO:root:Reading Stix-Entity {e09e1b14-cf48-4515-b0d9-38917a1433c4}.\n",
      "INFO:root:Listing External-Reference with filters [{\"key\": \"url\", \"values\": [\"https://www.fireeye.com/blog/threat-research/2014/09/darwins-favorite-apt-group-2.html\"]}].\n",
      "INFO:root:Reading Stix-Entity {e09e1b14-cf48-4515-b0d9-38917a1433c4}.\n",
      "INFO:root:Listing Stix-Domain-Entities with filters [{\"key\": \"name\", \"values\": [\"fakeapt12\"]}].\n",
      "INFO:root:Reading Report {e09e1b14-cf48-4515-b0d9-38917a1433c4}.\n"
     ]
    },
    {
     "name": "stdout",
     "output_type": "stream",
     "text": [
      "fakeapt12\n"
     ]
    },
    {
     "name": "stderr",
     "output_type": "stream",
     "text": [
      "INFO:root:Listing Attack-Patterns with filters [{\"key\": \"name\", \"values\": \"Spear phishing\"}].\n",
      "INFO:root:Listing Stix-Domain-Entities with filters [{\"key\": \"name\", \"values\": [\"Spear phishing\"]}].\n",
      "INFO:root:Reading Report {e09e1b14-cf48-4515-b0d9-38917a1433c4}.\n"
     ]
    },
    {
     "name": "stdout",
     "output_type": "stream",
     "text": [
      "None\n"
     ]
    },
    {
     "name": "stderr",
     "output_type": "stream",
     "text": [
      "INFO:root:Listing Attack-Patterns with filters [{\"key\": \"name\", \"values\": \"Exploitation for Client Execution\"}].\n",
      "INFO:root:Listing Stix-Domain-Entities with filters [{\"key\": \"name\", \"values\": [\"Exploitation for Client Execution\"]}].\n"
     ]
    },
    {
     "name": "stdout",
     "output_type": "stream",
     "text": [
      "None\n"
     ]
    },
    {
     "name": "stderr",
     "output_type": "stream",
     "text": [
      "INFO:root:Reading Report {e09e1b14-cf48-4515-b0d9-38917a1433c4}.\n",
      "INFO:root:Listing Attack-Patterns with filters [{\"key\": \"name\", \"values\": \"Spearphishing attachment\"}].\n",
      "INFO:root:Listing Stix-Domain-Entities with filters [{\"key\": \"name\", \"values\": [\"Spearphishing attachment\"]}].\n",
      "INFO:root:Reading Report {e09e1b14-cf48-4515-b0d9-38917a1433c4}.\n"
     ]
    },
    {
     "name": "stdout",
     "output_type": "stream",
     "text": [
      "None\n"
     ]
    },
    {
     "name": "stderr",
     "output_type": "stream",
     "text": [
      "INFO:root:Listing Attack-Patterns with filters [{\"key\": \"name\", \"values\": \"User Execution\"}].\n",
      "INFO:root:Listing Stix-Domain-Entities with filters [{\"key\": \"name\", \"values\": [\"User Execution\"]}].\n"
     ]
    },
    {
     "name": "stdout",
     "output_type": "stream",
     "text": [
      "User\n"
     ]
    },
    {
     "name": "stderr",
     "output_type": "stream",
     "text": [
      "INFO:root:Updating Stix-Domain-Entity {56a0a83f-118c-43cb-99fb-8cbad400c35e} field {required_permission}.\n",
      "INFO:root:Reading Report {e09e1b14-cf48-4515-b0d9-38917a1433c4}.\n",
      "INFO:root:Listing Attack-Patterns with filters [{\"key\": \"name\", \"values\": \"Web Service\"}].\n",
      "INFO:root:Listing Stix-Domain-Entities with filters [{\"key\": \"name\", \"values\": [\"Web Service\"]}].\n",
      "INFO:root:Updating Stix-Domain-Entity {ac4d62df-9a19-4a4e-9995-c7166395c2e9} field {required_permission}.\n"
     ]
    },
    {
     "name": "stdout",
     "output_type": "stream",
     "text": [
      "User\n"
     ]
    },
    {
     "name": "stderr",
     "output_type": "stream",
     "text": [
      "INFO:root:Reading Report {e09e1b14-cf48-4515-b0d9-38917a1433c4}.\n",
      "INFO:root:Listing Attack-Patterns with filters [{\"key\": \"name\", \"values\": \"Command-Line Interface\"}].\n",
      "INFO:root:Listing Stix-Domain-Entities with filters [{\"key\": \"name\", \"values\": [\"Command-Line Interface\"]}].\n",
      "INFO:root:Updating Stix-Domain-Entity {885223eb-a293-4d4a-aaa8-2dd8d4487076} field {required_permission}.\n"
     ]
    },
    {
     "name": "stdout",
     "output_type": "stream",
     "text": [
      "User, Administrator, SYSTEM\n"
     ]
    },
    {
     "name": "stderr",
     "output_type": "stream",
     "text": [
      "INFO:root:Reading Report {e09e1b14-cf48-4515-b0d9-38917a1433c4}.\n",
      "INFO:root:Listing Attack-Patterns with filters [{\"key\": \"name\", \"values\": \"\\tCommonly Used Port\"}].\n",
      "INFO:root:Listing Stix-Domain-Entities with filters [{\"key\": \"name\", \"values\": [\"Commonly Used Port\"]}].\n",
      "INFO:root:Updating Stix-Domain-Entity {651e2539-4a7d-47fc-8df2-ff67583c3801} field {description}.\n"
     ]
    },
    {
     "name": "stdout",
     "output_type": "stream",
     "text": [
      "None\n"
     ]
    },
    {
     "name": "stderr",
     "output_type": "stream",
     "text": [
      "INFO:root:Reading Report {e09e1b14-cf48-4515-b0d9-38917a1433c4}.\n",
      "INFO:root:Listing Attack-Patterns with filters [{\"key\": \"name\", \"values\": \"Data from Local System\"}].\n",
      "INFO:root:Listing Stix-Domain-Entities with filters [{\"key\": \"name\", \"values\": [\"Data from Local System\"]}].\n"
     ]
    },
    {
     "name": "stdout",
     "output_type": "stream",
     "text": [
      "None\n"
     ]
    },
    {
     "name": "stderr",
     "output_type": "stream",
     "text": [
      "INFO:root:Reading Report {e09e1b14-cf48-4515-b0d9-38917a1433c4}.\n",
      "INFO:root:Listing Attack-Patterns with filters [{\"key\": \"name\", \"values\": \"Data Obfuscation\"}].\n",
      "INFO:root:Listing Stix-Domain-Entities with filters [{\"key\": \"name\", \"values\": [\"Data Obfuscation\"]}].\n",
      "INFO:root:Reading Report {e09e1b14-cf48-4515-b0d9-38917a1433c4}.\n"
     ]
    },
    {
     "name": "stdout",
     "output_type": "stream",
     "text": [
      "None\n"
     ]
    },
    {
     "name": "stderr",
     "output_type": "stream",
     "text": [
      "INFO:root:Listing Attack-Patterns with filters [{\"key\": \"name\", \"values\": \"File and Directory Discovery\"}].\n",
      "INFO:root:Listing Stix-Domain-Entities with filters [{\"key\": \"name\", \"values\": [\"File and Directory Discovery\"]}].\n"
     ]
    },
    {
     "name": "stdout",
     "output_type": "stream",
     "text": [
      "User, Administrator, SYSTEM\n"
     ]
    },
    {
     "name": "stderr",
     "output_type": "stream",
     "text": [
      "INFO:root:Updating Stix-Domain-Entity {c6cb1bb3-2902-45cc-93b4-83ceb1031509} field {required_permission}.\n",
      "INFO:root:Reading Report {e09e1b14-cf48-4515-b0d9-38917a1433c4}.\n",
      "INFO:root:Listing Attack-Patterns with filters [{\"key\": \"name\", \"values\": \"File Deletion\"}].\n",
      "INFO:root:Listing Stix-Domain-Entities with filters [{\"key\": \"name\", \"values\": [\"File Deletion\"]}].\n",
      "INFO:root:Updating Stix-Domain-Entity {5ef8a53d-1e82-47b5-990e-2a0a46aa5e86} field {required_permission}.\n"
     ]
    },
    {
     "name": "stdout",
     "output_type": "stream",
     "text": [
      "User\n"
     ]
    },
    {
     "name": "stderr",
     "output_type": "stream",
     "text": [
      "INFO:root:Reading Report {e09e1b14-cf48-4515-b0d9-38917a1433c4}.\n",
      "INFO:root:Listing Attack-Patterns with filters [{\"key\": \"name\", \"values\": \"Hidden Files and Directories\"}].\n",
      "INFO:root:Listing Stix-Domain-Entities with filters [{\"key\": \"name\", \"values\": [\"Hidden Files and Directories\"]}].\n",
      "INFO:root:Updating Stix-Domain-Entity {9247f9bc-4811-4c37-8b80-f8f13a57b14a} field {required_permission}.\n"
     ]
    },
    {
     "name": "stdout",
     "output_type": "stream",
     "text": [
      "User\n"
     ]
    },
    {
     "name": "stderr",
     "output_type": "stream",
     "text": [
      "INFO:root:Reading Report {e09e1b14-cf48-4515-b0d9-38917a1433c4}.\n",
      "INFO:root:Listing Attack-Patterns with filters [{\"key\": \"name\", \"values\": \"Masquerading\"}].\n",
      "INFO:root:Listing Stix-Domain-Entities with filters [{\"key\": \"name\", \"values\": [\"Masquerading\"]}].\n"
     ]
    },
    {
     "name": "stdout",
     "output_type": "stream",
     "text": [
      "None\n"
     ]
    },
    {
     "name": "stderr",
     "output_type": "stream",
     "text": [
      "INFO:root:Reading Report {e09e1b14-cf48-4515-b0d9-38917a1433c4}.\n",
      "INFO:root:Listing Attack-Patterns with filters [{\"key\": \"name\", \"values\": \"Process Discovery\"}].\n",
      "INFO:root:Listing Stix-Domain-Entities with filters [{\"key\": \"name\", \"values\": [\"Process Discovery\"]}].\n"
     ]
    },
    {
     "name": "stdout",
     "output_type": "stream",
     "text": [
      "User, Administrator, SYSTEM\n"
     ]
    },
    {
     "name": "stderr",
     "output_type": "stream",
     "text": [
      "INFO:root:Updating Stix-Domain-Entity {65e096e1-3467-4bd5-a574-9a475701fbdb} field {required_permission}.\n",
      "INFO:root:Reading Report {e09e1b14-cf48-4515-b0d9-38917a1433c4}.\n",
      "INFO:root:Listing Attack-Patterns with filters [{\"key\": \"name\", \"values\": \"Registry Run Keys / Startup Folder\"}].\n",
      "INFO:root:Listing Stix-Domain-Entities with filters [{\"key\": \"name\", \"values\": [\"Registry Run Keys / Startup Folder\"]}].\n"
     ]
    },
    {
     "name": "stdout",
     "output_type": "stream",
     "text": [
      "User, Administrator\n"
     ]
    },
    {
     "name": "stderr",
     "output_type": "stream",
     "text": [
      "INFO:root:Updating Stix-Domain-Entity {6a7b6bd0-3eec-43d0-a529-a5534a0763c8} field {required_permission}.\n",
      "INFO:root:Reading Report {e09e1b14-cf48-4515-b0d9-38917a1433c4}.\n",
      "INFO:root:Listing Attack-Patterns with filters [{\"key\": \"name\", \"values\": \"Remote File Copy\"}].\n",
      "INFO:root:Listing Stix-Domain-Entities with filters [{\"key\": \"name\", \"values\": [\"Remote File Copy\"]}].\n"
     ]
    },
    {
     "name": "stdout",
     "output_type": "stream",
     "text": [
      "User\n"
     ]
    },
    {
     "name": "stderr",
     "output_type": "stream",
     "text": [
      "INFO:root:Updating Stix-Domain-Entity {a66f1395-d712-4bb0-a268-5547d454dd0f} field {required_permission}.\n",
      "INFO:root:Reading Report {e09e1b14-cf48-4515-b0d9-38917a1433c4}.\n",
      "INFO:root:Listing Attack-Patterns with filters [{\"key\": \"name\", \"values\": \"\\tStandard Application Layer Protocol\"}].\n",
      "INFO:root:Listing Stix-Domain-Entities with filters [{\"key\": \"name\", \"values\": [\"Standard Application Layer Protocol\"]}].\n",
      "INFO:root:Reading Report {e09e1b14-cf48-4515-b0d9-38917a1433c4}.\n"
     ]
    },
    {
     "name": "stdout",
     "output_type": "stream",
     "text": [
      "None\n"
     ]
    },
    {
     "name": "stderr",
     "output_type": "stream",
     "text": [
      "INFO:root:Listing Attack-Patterns with filters [{\"key\": \"name\", \"values\": \"\\tSystem Information Discovery\"}].\n",
      "INFO:root:Listing Stix-Domain-Entities with filters [{\"key\": \"name\", \"values\": [\"System Information Discovery\"]}].\n",
      "INFO:root:Updating Stix-Domain-Entity {7635ccb2-9e1c-4031-bdc0-0037ba7477ab} field {required_permission}.\n"
     ]
    },
    {
     "name": "stdout",
     "output_type": "stream",
     "text": [
      "User\n"
     ]
    },
    {
     "name": "stderr",
     "output_type": "stream",
     "text": [
      "INFO:root:Reading Report {e09e1b14-cf48-4515-b0d9-38917a1433c4}.\n",
      "INFO:root:Listing Attack-Patterns with filters [{\"key\": \"name\", \"values\": \"System Network Configuration Discovery\"}].\n",
      "INFO:root:Listing Stix-Domain-Entities with filters [{\"key\": \"name\", \"values\": [\"System Network Configuration Discovery\"]}].\n"
     ]
    },
    {
     "name": "stdout",
     "output_type": "stream",
     "text": [
      "User\n"
     ]
    },
    {
     "name": "stderr",
     "output_type": "stream",
     "text": [
      "INFO:root:Updating Stix-Domain-Entity {40ca8364-81f4-4324-9c0a-cef2e17b0c55} field {required_permission}.\n",
      "INFO:root:Reading Report {e09e1b14-cf48-4515-b0d9-38917a1433c4}.\n",
      "INFO:root:Listing Attack-Patterns with filters [{\"key\": \"name\", \"values\": \"System Owner/User Discovery\"}].\n",
      "INFO:root:Listing Stix-Domain-Entities with filters [{\"key\": \"name\", \"values\": [\"System Owner/User Discovery\"]}].\n",
      "INFO:root:Updating Stix-Domain-Entity {8570ef5a-7c7e-4523-a28e-9e8636333070} field {required_permission}.\n"
     ]
    },
    {
     "name": "stdout",
     "output_type": "stream",
     "text": [
      "User, Administrator\n"
     ]
    },
    {
     "name": "stderr",
     "output_type": "stream",
     "text": [
      "INFO:root:Reading Report {e09e1b14-cf48-4515-b0d9-38917a1433c4}.\n",
      "INFO:root:Listing Attack-Patterns with filters [{\"key\": \"name\", \"values\": \"System Service Discovery\"}].\n",
      "INFO:root:Listing Stix-Domain-Entities with filters [{\"key\": \"name\", \"values\": [\"System Service Discovery\"]}].\n"
     ]
    },
    {
     "name": "stdout",
     "output_type": "stream",
     "text": [
      "User, Administrator, SYSTEM\n"
     ]
    },
    {
     "name": "stderr",
     "output_type": "stream",
     "text": [
      "INFO:root:Updating Stix-Domain-Entity {fe9ef168-4560-4f23-a6a1-a67192e7d1e7} field {required_permission}.\n",
      "INFO:root:Reading Report {e09e1b14-cf48-4515-b0d9-38917a1433c4}.\n",
      "INFO:root:Listing Attack-Patterns with filters [{\"key\": \"name\", \"values\": \"Commonly Used Port\"}].\n",
      "INFO:root:Listing Stix-Domain-Entities with filters [{\"key\": \"name\", \"values\": [\"Commonly Used Port\"]}].\n",
      "INFO:root:Updating Stix-Domain-Entity {651e2539-4a7d-47fc-8df2-ff67583c3801} field {description}.\n"
     ]
    },
    {
     "name": "stdout",
     "output_type": "stream",
     "text": [
      "None\n"
     ]
    },
    {
     "name": "stderr",
     "output_type": "stream",
     "text": [
      "INFO:root:Reading Report {e09e1b14-cf48-4515-b0d9-38917a1433c4}.\n",
      "INFO:root:Listing Attack-Patterns with filters [{\"key\": \"name\", \"values\": \"Standard Cryptographic Protocol\"}].\n",
      "INFO:root:Listing Stix-Domain-Entities with filters [{\"key\": \"name\", \"values\": [\"Standard Cryptographic Protocol\"]}].\n",
      "INFO:root:Reading Report {e09e1b14-cf48-4515-b0d9-38917a1433c4}.\n"
     ]
    },
    {
     "name": "stdout",
     "output_type": "stream",
     "text": [
      "None\n"
     ]
    },
    {
     "name": "stderr",
     "output_type": "stream",
     "text": [
      "INFO:root:Listing Attack-Patterns with filters [{\"key\": \"name\", \"values\": \"Connection Proxy\"}].\n",
      "INFO:root:Listing Stix-Domain-Entities with filters [{\"key\": \"name\", \"values\": [\"Connection Proxy\"]}].\n",
      "INFO:root:Reading Report {e09e1b14-cf48-4515-b0d9-38917a1433c4}.\n"
     ]
    },
    {
     "name": "stdout",
     "output_type": "stream",
     "text": [
      "None\n"
     ]
    },
    {
     "name": "stderr",
     "output_type": "stream",
     "text": [
      "INFO:root:Listing Attack-Patterns with filters [{\"key\": \"name\", \"values\": \"Process Injection\"}].\n"
     ]
    },
    {
     "name": "stdout",
     "output_type": "stream",
     "text": [
      "User, Administrator, SYSTEM, root\n"
     ]
    },
    {
     "name": "stderr",
     "output_type": "stream",
     "text": [
      "INFO:root:Listing Stix-Domain-Entities with filters [{\"key\": \"name\", \"values\": [\"Process Injection\"]}].\n",
      "INFO:root:Updating Stix-Domain-Entity {9ec63a9b-d7cf-4b77-89e5-fe5521ae932a} field {required_permission}.\n",
      "INFO:root:Reading Report {e09e1b14-cf48-4515-b0d9-38917a1433c4}.\n",
      "INFO:root:Listing Attack-Patterns with filters [{\"key\": \"name\", \"values\": \"Rootkit\"}].\n",
      "INFO:root:Listing Stix-Domain-Entities with filters [{\"key\": \"name\", \"values\": [\"Rootkit\"]}].\n",
      "INFO:root:Updating Stix-Domain-Entity {f76a44e3-4503-48f7-b5e8-cf83bcd6cf83} field {required_permission}.\n"
     ]
    },
    {
     "name": "stdout",
     "output_type": "stream",
     "text": [
      "Administrator, SYSTEM, root\n"
     ]
    },
    {
     "name": "stderr",
     "output_type": "stream",
     "text": [
      "INFO:root:Reading Report {e09e1b14-cf48-4515-b0d9-38917a1433c4}.\n",
      "INFO:root:Listing Malwares with filters [{\"key\": \"name\", \"values\": \"Ixeshe\"}].\n",
      "INFO:root:Listing Stix-Domain-Entities with filters [{\"key\": \"name\", \"values\": [\"Ixeshe\"]}].\n"
     ]
    },
    {
     "name": "stdout",
     "output_type": "stream",
     "text": [
      "['Numbered Panda', 'TG-2754', 'BeeBus', 'Group 22', 'DynCalc /Calc Team DNSCalc', 'Crimson Iron', 'APT12']\n"
     ]
    },
    {
     "name": "stderr",
     "output_type": "stream",
     "text": [
      "INFO:root:Updating Stix-Domain-Entity {5cadd0dd-8c5c-4e59-8189-704cde3292cf} field {alias}.\n",
      "INFO:root:Reading Report {e09e1b14-cf48-4515-b0d9-38917a1433c4}.\n",
      "INFO:root:Listing Malwares with filters [{\"key\": \"name\", \"values\": \"Aumlib \"}].\n",
      "INFO:root:Listing Stix-Domain-Entities with filters [{\"key\": \"name\", \"values\": [\"Aumlib\"]}].\n",
      "INFO:root:Reading Report {e09e1b14-cf48-4515-b0d9-38917a1433c4}.\n"
     ]
    },
    {
     "name": "stdout",
     "output_type": "stream",
     "text": [
      "['bbsinfo', 'aumlib']\n"
     ]
    },
    {
     "name": "stderr",
     "output_type": "stream",
     "text": [
      "INFO:root:Listing Malwares with filters [{\"key\": \"name\", \"values\": \"Threebyte\"}].\n",
      "INFO:root:Listing Stix-Domain-Entities with filters [{\"key\": \"name\", \"values\": [\"Threebyte\"]}].\n",
      "INFO:root:Reading Report {e09e1b14-cf48-4515-b0d9-38917a1433c4}.\n",
      "INFO:root:Listing Malwares with filters [{\"key\": \"name\", \"values\": \"Hightide\"}].\n",
      "INFO:root:Listing Stix-Domain-Entities with filters [{\"key\": \"name\", \"values\": [\"Hightide\"]}].\n",
      "INFO:root:Reading Report {e09e1b14-cf48-4515-b0d9-38917a1433c4}.\n"
     ]
    },
    {
     "name": "stdout",
     "output_type": "stream",
     "text": [
      "['Etumbot']\n"
     ]
    },
    {
     "name": "stderr",
     "output_type": "stream",
     "text": [
      "INFO:root:Listing Malwares with filters [{\"key\": \"name\", \"values\": \"Waterspout\"}].\n",
      "INFO:root:Listing Stix-Domain-Entities with filters [{\"key\": \"name\", \"values\": [\"Waterspout\"]}].\n",
      "INFO:root:Reading Report {e09e1b14-cf48-4515-b0d9-38917a1433c4}.\n",
      "INFO:root:Listing Tools with filters [{\"key\": \"name\", \"values\": \"HTRAN\"}].\n",
      "INFO:root:Listing Stix-Domain-Entities with filters [{\"key\": \"name\", \"values\": [\"HTRAN\"]}].\n",
      "INFO:root:Reading Report {e09e1b14-cf48-4515-b0d9-38917a1433c4}.\n",
      "INFO:root:Listing Vulnerabilities with filters [{\"key\": \"name\", \"values\": \"CVE-2009-4324\"}].\n",
      "INFO:root:Listing Stix-Domain-Entities with filters [{\"key\": \"name\", \"values\": [\"CVE-2009-4324\"]}].\n",
      "INFO:root:Reading Report {e09e1b14-cf48-4515-b0d9-38917a1433c4}.\n",
      "INFO:root:Listing Vulnerabilities with filters [{\"key\": \"name\", \"values\": \"CVE-2009-0927\"}].\n",
      "INFO:root:Listing Stix-Domain-Entities with filters [{\"key\": \"name\", \"values\": [\"CVE-2009-0927\"]}].\n",
      "INFO:root:Reading Report {e09e1b14-cf48-4515-b0d9-38917a1433c4}.\n",
      "INFO:root:Listing Vulnerabilities with filters [{\"key\": \"name\", \"values\": \"CVE-2011-0609\"}].\n",
      "INFO:root:Listing Stix-Domain-Entities with filters [{\"key\": \"name\", \"values\": [\"CVE-2011-0609\"]}].\n",
      "INFO:root:Reading Report {e09e1b14-cf48-4515-b0d9-38917a1433c4}.\n",
      "INFO:root:Listing Vulnerabilities with filters [{\"key\": \"name\", \"values\": \"CVE-2011-0611\"}].\n",
      "INFO:root:Listing Stix-Domain-Entities with filters [{\"key\": \"name\", \"values\": [\"CVE-2011-0611\"]}].\n",
      "INFO:root:Reading Report {e09e1b14-cf48-4515-b0d9-38917a1433c4}.\n",
      "INFO:root:Listing Vulnerabilities with filters [{\"key\": \"name\", \"values\": \"CVE-2009-3129\"}].\n",
      "INFO:root:Listing Stix-Domain-Entities with filters [{\"key\": \"name\", \"values\": [\"CVE-2009-3129\"]}].\n",
      "INFO:root:Reading Report {e09e1b14-cf48-4515-b0d9-38917a1433c4}.\n",
      "INFO:root:Listing Vulnerabilities with filters [{\"key\": \"name\", \"values\": \"CVE-2012-0158\"}].\n",
      "INFO:root:Listing Stix-Domain-Entities with filters [{\"key\": \"name\", \"values\": [\"CVE-2012-0158\"]}].\n",
      "INFO:root:Reading Report {e09e1b14-cf48-4515-b0d9-38917a1433c4}.\n",
      "INFO:root:Listing Indicators with filters [{\"key\": \"indicator_pattern\", \"values\": [\"Files\"]}].\n",
      "INFO:root:Reading Report {e09e1b14-cf48-4515-b0d9-38917a1433c4}.\n",
      "INFO:root:Listing Indicators with filters [{\"key\": \"indicator_pattern\", \"values\": [\"Files\"]}].\n",
      "INFO:root:Reading Report {e09e1b14-cf48-4515-b0d9-38917a1433c4}.\n",
      "INFO:root:Listing Indicators with filters [{\"key\": \"indicator_pattern\", \"values\": [\"Files\"]}].\n",
      "INFO:root:Reading Report {e09e1b14-cf48-4515-b0d9-38917a1433c4}.\n",
      "INFO:root:Listing Indicators with filters [{\"key\": \"indicator_pattern\", \"values\": [\"Files\"]}].\n",
      "INFO:root:Reading Report {e09e1b14-cf48-4515-b0d9-38917a1433c4}.\n",
      "INFO:root:Listing Indicators with filters [{\"key\": \"indicator_pattern\", \"values\": [\"Files\"]}].\n",
      "INFO:root:Reading Report {e09e1b14-cf48-4515-b0d9-38917a1433c4}.\n",
      "INFO:root:Listing Indicators with filters [{\"key\": \"indicator_pattern\", \"values\": [\"Files\"]}].\n",
      "INFO:root:Reading Report {e09e1b14-cf48-4515-b0d9-38917a1433c4}.\n",
      "INFO:root:Listing Indicators with filters [{\"key\": \"indicator_pattern\", \"values\": [\"Files\"]}].\n",
      "INFO:root:Reading Report {e09e1b14-cf48-4515-b0d9-38917a1433c4}.\n",
      "INFO:root:Listing Indicators with filters [{\"key\": \"indicator_pattern\", \"values\": [\"Files\"]}].\n",
      "INFO:root:Reading Report {e09e1b14-cf48-4515-b0d9-38917a1433c4}.\n",
      "INFO:root:Listing Indicators with filters [{\"key\": \"indicator_pattern\", \"values\": [\"Files\"]}].\n",
      "INFO:root:Reading Report {e09e1b14-cf48-4515-b0d9-38917a1433c4}.\n",
      "INFO:root:Listing Indicators with filters [{\"key\": \"indicator_pattern\", \"values\": [\"Files\"]}].\n",
      "INFO:root:Reading Report {e09e1b14-cf48-4515-b0d9-38917a1433c4}.\n",
      "INFO:root:Listing Indicators with filters [{\"key\": \"indicator_pattern\", \"values\": [\"Files\"]}].\n",
      "INFO:root:Reading Report {e09e1b14-cf48-4515-b0d9-38917a1433c4}.\n",
      "INFO:root:Listing Indicators with filters [{\"key\": \"indicator_pattern\", \"values\": [\"Files\"]}].\n",
      "INFO:root:Reading Report {e09e1b14-cf48-4515-b0d9-38917a1433c4}.\n",
      "INFO:root:Listing Indicators with filters [{\"key\": \"indicator_pattern\", \"values\": [\"Files\"]}].\n",
      "INFO:root:Reading Report {e09e1b14-cf48-4515-b0d9-38917a1433c4}.\n",
      "INFO:root:Listing Indicators with filters [{\"key\": \"indicator_pattern\", \"values\": [\"Files\"]}].\n",
      "INFO:root:Reading Report {e09e1b14-cf48-4515-b0d9-38917a1433c4}.\n",
      "INFO:root:Listing Indicators with filters [{\"key\": \"indicator_pattern\", \"values\": [\"Files\"]}].\n",
      "INFO:root:Reading Report {e09e1b14-cf48-4515-b0d9-38917a1433c4}.\n",
      "INFO:root:Listing Indicators with filters [{\"key\": \"indicator_pattern\", \"values\": [\"Files\"]}].\n",
      "INFO:root:Reading Report {e09e1b14-cf48-4515-b0d9-38917a1433c4}.\n",
      "INFO:root:Listing Indicators with filters [{\"key\": \"indicator_pattern\", \"values\": [\"Files\"]}].\n",
      "INFO:root:Reading Report {e09e1b14-cf48-4515-b0d9-38917a1433c4}.\n",
      "INFO:root:Listing Indicators with filters [{\"key\": \"indicator_pattern\", \"values\": [\"Files\"]}].\n",
      "INFO:root:Reading Report {e09e1b14-cf48-4515-b0d9-38917a1433c4}.\n",
      "INFO:root:Listing Indicators with filters [{\"key\": \"indicator_pattern\", \"values\": [\"Files\"]}].\n",
      "INFO:root:Reading Report {e09e1b14-cf48-4515-b0d9-38917a1433c4}.\n",
      "INFO:root:Listing Indicators with filters [{\"key\": \"indicator_pattern\", \"values\": [\"Files\"]}].\n",
      "INFO:root:Reading Report {e09e1b14-cf48-4515-b0d9-38917a1433c4}.\n",
      "INFO:root:Listing Indicators with filters [{\"key\": \"indicator_pattern\", \"values\": [\"Files\"]}].\n",
      "INFO:root:Reading Report {e09e1b14-cf48-4515-b0d9-38917a1433c4}.\n",
      "INFO:root:Listing Indicators with filters [{\"key\": \"indicator_pattern\", \"values\": [\"Files\"]}].\n",
      "INFO:root:Reading Report {e09e1b14-cf48-4515-b0d9-38917a1433c4}.\n",
      "INFO:root:Listing Indicators with filters [{\"key\": \"indicator_pattern\", \"values\": [\"Files\"]}].\n",
      "INFO:root:Reading Report {e09e1b14-cf48-4515-b0d9-38917a1433c4}.\n",
      "INFO:root:Listing Indicators with filters [{\"key\": \"indicator_pattern\", \"values\": [\"Files\"]}].\n",
      "INFO:root:Reading Report {e09e1b14-cf48-4515-b0d9-38917a1433c4}.\n",
      "INFO:root:Listing Indicators with filters [{\"key\": \"indicator_pattern\", \"values\": [\"Files\"]}].\n",
      "INFO:root:Reading Report {e09e1b14-cf48-4515-b0d9-38917a1433c4}.\n",
      "INFO:root:Listing Indicators with filters [{\"key\": \"indicator_pattern\", \"values\": [\"Files\"]}].\n",
      "INFO:root:Reading Report {e09e1b14-cf48-4515-b0d9-38917a1433c4}.\n",
      "INFO:root:Listing Indicators with filters [{\"key\": \"indicator_pattern\", \"values\": [\"Files\"]}].\n",
      "INFO:root:Reading Report {e09e1b14-cf48-4515-b0d9-38917a1433c4}.\n",
      "INFO:root:Listing Indicators with filters [{\"key\": \"indicator_pattern\", \"values\": [\"Files\"]}].\n",
      "INFO:root:Reading Report {e09e1b14-cf48-4515-b0d9-38917a1433c4}.\n",
      "INFO:root:Listing Indicators with filters [{\"key\": \"indicator_pattern\", \"values\": [\"Files\"]}].\n",
      "INFO:root:Reading Report {e09e1b14-cf48-4515-b0d9-38917a1433c4}.\n",
      "INFO:root:Listing Indicators with filters [{\"key\": \"indicator_pattern\", \"values\": [\"Files\"]}].\n",
      "INFO:root:Reading Report {e09e1b14-cf48-4515-b0d9-38917a1433c4}.\n",
      "INFO:root:Listing Indicators with filters [{\"key\": \"indicator_pattern\", \"values\": [\"Files\"]}].\n",
      "INFO:root:Reading Report {e09e1b14-cf48-4515-b0d9-38917a1433c4}.\n",
      "INFO:root:Listing Indicators with filters [{\"key\": \"indicator_pattern\", \"values\": [\"Files\"]}].\n",
      "INFO:root:Reading Report {e09e1b14-cf48-4515-b0d9-38917a1433c4}.\n",
      "INFO:root:Listing Indicators with filters [{\"key\": \"indicator_pattern\", \"values\": [\"Files\"]}].\n",
      "INFO:root:Reading Report {e09e1b14-cf48-4515-b0d9-38917a1433c4}.\n",
      "INFO:root:Listing Indicators with filters [{\"key\": \"indicator_pattern\", \"values\": [\"Files\"]}].\n",
      "INFO:root:Reading Report {e09e1b14-cf48-4515-b0d9-38917a1433c4}.\n",
      "INFO:root:Listing Indicators with filters [{\"key\": \"indicator_pattern\", \"values\": [\"Files\"]}].\n",
      "INFO:root:Reading Report {e09e1b14-cf48-4515-b0d9-38917a1433c4}.\n",
      "INFO:root:Listing Indicators with filters [{\"key\": \"indicator_pattern\", \"values\": [\"Files\"]}].\n",
      "INFO:root:Reading Report {e09e1b14-cf48-4515-b0d9-38917a1433c4}.\n",
      "INFO:root:Listing Indicators with filters [{\"key\": \"indicator_pattern\", \"values\": [\"Files\"]}].\n",
      "INFO:root:Reading Report {e09e1b14-cf48-4515-b0d9-38917a1433c4}.\n",
      "INFO:root:Listing Indicators with filters [{\"key\": \"indicator_pattern\", \"values\": [\"Files\"]}].\n",
      "INFO:root:Reading Report {e09e1b14-cf48-4515-b0d9-38917a1433c4}.\n",
      "INFO:root:Listing Indicators with filters [{\"key\": \"indicator_pattern\", \"values\": [\"Files\"]}].\n"
     ]
    },
    {
     "name": "stderr",
     "output_type": "stream",
     "text": [
      "INFO:root:Reading Report {e09e1b14-cf48-4515-b0d9-38917a1433c4}.\n",
      "INFO:root:Listing Indicators with filters [{\"key\": \"indicator_pattern\", \"values\": [\"Files\"]}].\n",
      "INFO:root:Reading Report {e09e1b14-cf48-4515-b0d9-38917a1433c4}.\n",
      "INFO:root:Listing Indicators with filters [{\"key\": \"indicator_pattern\", \"values\": [\"Files\"]}].\n",
      "INFO:root:Reading Report {e09e1b14-cf48-4515-b0d9-38917a1433c4}.\n",
      "INFO:root:Listing Indicators with filters [{\"key\": \"indicator_pattern\", \"values\": [\"Files\"]}].\n",
      "INFO:root:Reading Report {e09e1b14-cf48-4515-b0d9-38917a1433c4}.\n",
      "C:\\ProgramData\\Anaconda3\\lib\\site-packages\\ipykernel_launcher.py:300: DeprecationWarning: Call to deprecated method get_stix_domain_entity. (Replaced by the StixDomainEntity class in pycti) -- Deprecated since version 2.1.0.\n",
      "INFO:root:Reading Stix-Domain-Entity {b1669132-add8-4c35-877b-dd6fe6bd6365}.\n",
      "C:\\ProgramData\\Anaconda3\\lib\\site-packages\\ipykernel_launcher.py:303: DeprecationWarning: Call to deprecated method get_stix_domain_entity. (Replaced by the StixDomainEntity class in pycti) -- Deprecated since version 2.1.0.\n",
      "INFO:root:Reading Stix-Domain-Entity {cadcca06-69d9-4932-9370-f4afce4ea2dd}.\n",
      "INFO:root:Listing stix_relations with {type: uses, from_id: b1669132-add8-4c35-877b-dd6fe6bd6365, to_id: cadcca06-69d9-4932-9370-f4afce4ea2dd}\n"
     ]
    },
    {
     "name": "stdout",
     "output_type": "stream",
     "text": [
      "b1669132-add8-4c35-877b-dd6fe6bd6365\n",
      "cadcca06-69d9-4932-9370-f4afce4ea2dd\n"
     ]
    },
    {
     "name": "stderr",
     "output_type": "stream",
     "text": [
      "INFO:root:Reading Report {e09e1b14-cf48-4515-b0d9-38917a1433c4}.\n",
      "INFO:root:Adding Stix-Entity {ec6445cc-eb13-429f-b838-63f562969a63} to Report {e09e1b14-cf48-4515-b0d9-38917a1433c4}\n",
      "C:\\ProgramData\\Anaconda3\\lib\\site-packages\\ipykernel_launcher.py:300: DeprecationWarning: Call to deprecated method get_stix_domain_entity. (Replaced by the StixDomainEntity class in pycti) -- Deprecated since version 2.1.0.\n",
      "INFO:root:Reading Stix-Domain-Entity {b1669132-add8-4c35-877b-dd6fe6bd6365}.\n",
      "C:\\ProgramData\\Anaconda3\\lib\\site-packages\\ipykernel_launcher.py:303: DeprecationWarning: Call to deprecated method get_stix_domain_entity. (Replaced by the StixDomainEntity class in pycti) -- Deprecated since version 2.1.0.\n",
      "INFO:root:Reading Stix-Domain-Entity {94ee1521-4f09-4bc7-be02-af41a2609d03}.\n",
      "INFO:root:Listing stix_relations with {type: uses, from_id: b1669132-add8-4c35-877b-dd6fe6bd6365, to_id: 94ee1521-4f09-4bc7-be02-af41a2609d03}\n"
     ]
    },
    {
     "name": "stdout",
     "output_type": "stream",
     "text": [
      "b1669132-add8-4c35-877b-dd6fe6bd6365\n",
      "94ee1521-4f09-4bc7-be02-af41a2609d03\n"
     ]
    },
    {
     "name": "stderr",
     "output_type": "stream",
     "text": [
      "INFO:root:Reading Report {e09e1b14-cf48-4515-b0d9-38917a1433c4}.\n",
      "INFO:root:Adding Stix-Entity {1157574d-ae81-43cb-98cc-90cd395c6948} to Report {e09e1b14-cf48-4515-b0d9-38917a1433c4}\n",
      "C:\\ProgramData\\Anaconda3\\lib\\site-packages\\ipykernel_launcher.py:300: DeprecationWarning: Call to deprecated method get_stix_domain_entity. (Replaced by the StixDomainEntity class in pycti) -- Deprecated since version 2.1.0.\n",
      "INFO:root:Reading Stix-Domain-Entity {b1669132-add8-4c35-877b-dd6fe6bd6365}.\n",
      "C:\\ProgramData\\Anaconda3\\lib\\site-packages\\ipykernel_launcher.py:303: DeprecationWarning: Call to deprecated method get_stix_domain_entity. (Replaced by the StixDomainEntity class in pycti) -- Deprecated since version 2.1.0.\n",
      "INFO:root:Reading Stix-Domain-Entity {e44a1c10-d1d2-4ee6-848a-5ae77128aec0}.\n",
      "INFO:root:Listing stix_relations with {type: uses, from_id: b1669132-add8-4c35-877b-dd6fe6bd6365, to_id: e44a1c10-d1d2-4ee6-848a-5ae77128aec0}\n"
     ]
    },
    {
     "name": "stdout",
     "output_type": "stream",
     "text": [
      "b1669132-add8-4c35-877b-dd6fe6bd6365\n",
      "e44a1c10-d1d2-4ee6-848a-5ae77128aec0\n"
     ]
    },
    {
     "name": "stderr",
     "output_type": "stream",
     "text": [
      "INFO:root:Reading Report {e09e1b14-cf48-4515-b0d9-38917a1433c4}.\n",
      "INFO:root:Adding Stix-Entity {49b89071-828f-4297-a91a-bddf9d7b07f9} to Report {e09e1b14-cf48-4515-b0d9-38917a1433c4}\n",
      "C:\\ProgramData\\Anaconda3\\lib\\site-packages\\ipykernel_launcher.py:300: DeprecationWarning: Call to deprecated method get_stix_domain_entity. (Replaced by the StixDomainEntity class in pycti) -- Deprecated since version 2.1.0.\n",
      "INFO:root:Reading Stix-Domain-Entity {b1669132-add8-4c35-877b-dd6fe6bd6365}.\n",
      "C:\\ProgramData\\Anaconda3\\lib\\site-packages\\ipykernel_launcher.py:303: DeprecationWarning: Call to deprecated method get_stix_domain_entity. (Replaced by the StixDomainEntity class in pycti) -- Deprecated since version 2.1.0.\n",
      "INFO:root:Reading Stix-Domain-Entity {56a0a83f-118c-43cb-99fb-8cbad400c35e}.\n",
      "INFO:root:Listing stix_relations with {type: uses, from_id: b1669132-add8-4c35-877b-dd6fe6bd6365, to_id: 56a0a83f-118c-43cb-99fb-8cbad400c35e}\n"
     ]
    },
    {
     "name": "stdout",
     "output_type": "stream",
     "text": [
      "b1669132-add8-4c35-877b-dd6fe6bd6365\n",
      "56a0a83f-118c-43cb-99fb-8cbad400c35e\n"
     ]
    },
    {
     "name": "stderr",
     "output_type": "stream",
     "text": [
      "INFO:root:Reading Report {e09e1b14-cf48-4515-b0d9-38917a1433c4}.\n",
      "INFO:root:Adding Stix-Entity {1630ec3d-5bc4-480f-a040-220755d289ca} to Report {e09e1b14-cf48-4515-b0d9-38917a1433c4}\n",
      "C:\\ProgramData\\Anaconda3\\lib\\site-packages\\ipykernel_launcher.py:300: DeprecationWarning: Call to deprecated method get_stix_domain_entity. (Replaced by the StixDomainEntity class in pycti) -- Deprecated since version 2.1.0.\n",
      "INFO:root:Reading Stix-Domain-Entity {b1669132-add8-4c35-877b-dd6fe6bd6365}.\n",
      "C:\\ProgramData\\Anaconda3\\lib\\site-packages\\ipykernel_launcher.py:303: DeprecationWarning: Call to deprecated method get_stix_domain_entity. (Replaced by the StixDomainEntity class in pycti) -- Deprecated since version 2.1.0.\n",
      "INFO:root:Reading Stix-Domain-Entity {ac4d62df-9a19-4a4e-9995-c7166395c2e9}.\n",
      "INFO:root:Listing stix_relations with {type: uses, from_id: b1669132-add8-4c35-877b-dd6fe6bd6365, to_id: ac4d62df-9a19-4a4e-9995-c7166395c2e9}\n"
     ]
    },
    {
     "name": "stdout",
     "output_type": "stream",
     "text": [
      "b1669132-add8-4c35-877b-dd6fe6bd6365\n",
      "ac4d62df-9a19-4a4e-9995-c7166395c2e9\n"
     ]
    },
    {
     "name": "stderr",
     "output_type": "stream",
     "text": [
      "INFO:root:Reading Report {e09e1b14-cf48-4515-b0d9-38917a1433c4}.\n",
      "INFO:root:Adding Stix-Entity {a840d472-b93a-4570-b33d-aef0d8dcf265} to Report {e09e1b14-cf48-4515-b0d9-38917a1433c4}\n",
      "C:\\ProgramData\\Anaconda3\\lib\\site-packages\\ipykernel_launcher.py:300: DeprecationWarning: Call to deprecated method get_stix_domain_entity. (Replaced by the StixDomainEntity class in pycti) -- Deprecated since version 2.1.0.\n",
      "INFO:root:Reading Stix-Domain-Entity {b1669132-add8-4c35-877b-dd6fe6bd6365}.\n",
      "C:\\ProgramData\\Anaconda3\\lib\\site-packages\\ipykernel_launcher.py:303: DeprecationWarning: Call to deprecated method get_stix_domain_entity. (Replaced by the StixDomainEntity class in pycti) -- Deprecated since version 2.1.0.\n",
      "INFO:root:Reading Stix-Domain-Entity {7f0c0bd3-6eb4-45fd-ba9c-5addd0969942}.\n",
      "INFO:root:Listing stix_relations with {type: uses, from_id: b1669132-add8-4c35-877b-dd6fe6bd6365, to_id: 7f0c0bd3-6eb4-45fd-ba9c-5addd0969942}\n",
      "INFO:root:Reading Report {e09e1b14-cf48-4515-b0d9-38917a1433c4}.\n"
     ]
    },
    {
     "name": "stdout",
     "output_type": "stream",
     "text": [
      "b1669132-add8-4c35-877b-dd6fe6bd6365\n",
      "7f0c0bd3-6eb4-45fd-ba9c-5addd0969942\n"
     ]
    },
    {
     "name": "stderr",
     "output_type": "stream",
     "text": [
      "INFO:root:Adding Stix-Entity {cc687e58-ab8d-47f1-a066-be0c53908006} to Report {e09e1b14-cf48-4515-b0d9-38917a1433c4}\n",
      "C:\\ProgramData\\Anaconda3\\lib\\site-packages\\ipykernel_launcher.py:300: DeprecationWarning: Call to deprecated method get_stix_domain_entity. (Replaced by the StixDomainEntity class in pycti) -- Deprecated since version 2.1.0.\n",
      "INFO:root:Reading Stix-Domain-Entity {b1669132-add8-4c35-877b-dd6fe6bd6365}.\n",
      "C:\\ProgramData\\Anaconda3\\lib\\site-packages\\ipykernel_launcher.py:303: DeprecationWarning: Call to deprecated method get_stix_domain_entity. (Replaced by the StixDomainEntity class in pycti) -- Deprecated since version 2.1.0.\n",
      "INFO:root:Reading Stix-Domain-Entity {5cadd0dd-8c5c-4e59-8189-704cde3292cf}.\n",
      "INFO:root:Listing stix_relations with {type: uses, from_id: b1669132-add8-4c35-877b-dd6fe6bd6365, to_id: 5cadd0dd-8c5c-4e59-8189-704cde3292cf}\n"
     ]
    },
    {
     "name": "stdout",
     "output_type": "stream",
     "text": [
      "b1669132-add8-4c35-877b-dd6fe6bd6365\n",
      "5cadd0dd-8c5c-4e59-8189-704cde3292cf\n"
     ]
    },
    {
     "name": "stderr",
     "output_type": "stream",
     "text": [
      "INFO:root:Reading Report {e09e1b14-cf48-4515-b0d9-38917a1433c4}.\n",
      "INFO:root:Adding Stix-Entity {f1bd324a-2e37-4857-aca7-701e568d6c0b} to Report {e09e1b14-cf48-4515-b0d9-38917a1433c4}\n",
      "C:\\ProgramData\\Anaconda3\\lib\\site-packages\\ipykernel_launcher.py:300: DeprecationWarning: Call to deprecated method get_stix_domain_entity. (Replaced by the StixDomainEntity class in pycti) -- Deprecated since version 2.1.0.\n",
      "INFO:root:Reading Stix-Domain-Entity {b1669132-add8-4c35-877b-dd6fe6bd6365}.\n",
      "C:\\ProgramData\\Anaconda3\\lib\\site-packages\\ipykernel_launcher.py:303: DeprecationWarning: Call to deprecated method get_stix_domain_entity. (Replaced by the StixDomainEntity class in pycti) -- Deprecated since version 2.1.0.\n",
      "INFO:root:Reading Stix-Domain-Entity {b79efcc0-8c7b-46b8-82ae-21bcb6be3fe7}.\n",
      "INFO:root:Listing stix_relations with {type: uses, from_id: b1669132-add8-4c35-877b-dd6fe6bd6365, to_id: b79efcc0-8c7b-46b8-82ae-21bcb6be3fe7}\n",
      "INFO:root:Reading Report {e09e1b14-cf48-4515-b0d9-38917a1433c4}.\n"
     ]
    },
    {
     "name": "stdout",
     "output_type": "stream",
     "text": [
      "b1669132-add8-4c35-877b-dd6fe6bd6365\n",
      "b79efcc0-8c7b-46b8-82ae-21bcb6be3fe7\n"
     ]
    },
    {
     "name": "stderr",
     "output_type": "stream",
     "text": [
      "INFO:root:Adding Stix-Entity {8b9591bb-3065-407f-8f3d-76c7c354ed45} to Report {e09e1b14-cf48-4515-b0d9-38917a1433c4}\n",
      "C:\\ProgramData\\Anaconda3\\lib\\site-packages\\ipykernel_launcher.py:300: DeprecationWarning: Call to deprecated method get_stix_domain_entity. (Replaced by the StixDomainEntity class in pycti) -- Deprecated since version 2.1.0.\n",
      "INFO:root:Reading Stix-Domain-Entity {b1669132-add8-4c35-877b-dd6fe6bd6365}.\n",
      "C:\\ProgramData\\Anaconda3\\lib\\site-packages\\ipykernel_launcher.py:303: DeprecationWarning: Call to deprecated method get_stix_domain_entity. (Replaced by the StixDomainEntity class in pycti) -- Deprecated since version 2.1.0.\n",
      "INFO:root:Reading Stix-Domain-Entity {ba0483e7-ade3-4bdd-a583-70b426082e65}.\n",
      "INFO:root:Listing stix_relations with {type: uses, from_id: b1669132-add8-4c35-877b-dd6fe6bd6365, to_id: ba0483e7-ade3-4bdd-a583-70b426082e65}\n"
     ]
    },
    {
     "name": "stdout",
     "output_type": "stream",
     "text": [
      "b1669132-add8-4c35-877b-dd6fe6bd6365\n",
      "ba0483e7-ade3-4bdd-a583-70b426082e65\n"
     ]
    },
    {
     "name": "stderr",
     "output_type": "stream",
     "text": [
      "INFO:root:Reading Report {e09e1b14-cf48-4515-b0d9-38917a1433c4}.\n",
      "INFO:root:Adding Stix-Entity {6a66309e-c936-4ba2-9087-a30dfb7b5609} to Report {e09e1b14-cf48-4515-b0d9-38917a1433c4}\n",
      "C:\\ProgramData\\Anaconda3\\lib\\site-packages\\ipykernel_launcher.py:300: DeprecationWarning: Call to deprecated method get_stix_domain_entity. (Replaced by the StixDomainEntity class in pycti) -- Deprecated since version 2.1.0.\n",
      "INFO:root:Reading Stix-Domain-Entity {b1669132-add8-4c35-877b-dd6fe6bd6365}.\n",
      "C:\\ProgramData\\Anaconda3\\lib\\site-packages\\ipykernel_launcher.py:303: DeprecationWarning: Call to deprecated method get_stix_domain_entity. (Replaced by the StixDomainEntity class in pycti) -- Deprecated since version 2.1.0.\n",
      "INFO:root:Reading Stix-Domain-Entity {4ebe9766-14ee-46cc-baa7-3a9488675c20}.\n",
      "INFO:root:Listing stix_relations with {type: uses, from_id: b1669132-add8-4c35-877b-dd6fe6bd6365, to_id: 4ebe9766-14ee-46cc-baa7-3a9488675c20}\n",
      "INFO:root:Reading Report {e09e1b14-cf48-4515-b0d9-38917a1433c4}.\n"
     ]
    },
    {
     "name": "stdout",
     "output_type": "stream",
     "text": [
      "b1669132-add8-4c35-877b-dd6fe6bd6365\n",
      "4ebe9766-14ee-46cc-baa7-3a9488675c20\n"
     ]
    },
    {
     "name": "stderr",
     "output_type": "stream",
     "text": [
      "INFO:root:Adding Stix-Entity {3a0bfde2-fede-4323-8285-22a166d182e0} to Report {e09e1b14-cf48-4515-b0d9-38917a1433c4}\n",
      "C:\\ProgramData\\Anaconda3\\lib\\site-packages\\ipykernel_launcher.py:300: DeprecationWarning: Call to deprecated method get_stix_domain_entity. (Replaced by the StixDomainEntity class in pycti) -- Deprecated since version 2.1.0.\n",
      "INFO:root:Reading Stix-Domain-Entity {b1669132-add8-4c35-877b-dd6fe6bd6365}.\n",
      "C:\\ProgramData\\Anaconda3\\lib\\site-packages\\ipykernel_launcher.py:303: DeprecationWarning: Call to deprecated method get_stix_domain_entity. (Replaced by the StixDomainEntity class in pycti) -- Deprecated since version 2.1.0.\n",
      "INFO:root:Reading Stix-Domain-Entity {f2b1aa08-a2c9-4b80-bac9-c4550d2c7808}.\n",
      "INFO:root:Listing stix_relations with {type: uses, from_id: b1669132-add8-4c35-877b-dd6fe6bd6365, to_id: f2b1aa08-a2c9-4b80-bac9-c4550d2c7808}\n",
      "INFO:root:Reading Report {e09e1b14-cf48-4515-b0d9-38917a1433c4}.\n"
     ]
    },
    {
     "name": "stdout",
     "output_type": "stream",
     "text": [
      "b1669132-add8-4c35-877b-dd6fe6bd6365\n",
      "f2b1aa08-a2c9-4b80-bac9-c4550d2c7808\n"
     ]
    },
    {
     "name": "stderr",
     "output_type": "stream",
     "text": [
      "INFO:root:Adding Stix-Entity {d0c7aafd-826f-4167-bba4-e8825e04651f} to Report {e09e1b14-cf48-4515-b0d9-38917a1433c4}\n",
      "C:\\ProgramData\\Anaconda3\\lib\\site-packages\\ipykernel_launcher.py:300: DeprecationWarning: Call to deprecated method get_stix_domain_entity. (Replaced by the StixDomainEntity class in pycti) -- Deprecated since version 2.1.0.\n",
      "INFO:root:Reading Stix-Domain-Entity {5cadd0dd-8c5c-4e59-8189-704cde3292cf}.\n",
      "C:\\ProgramData\\Anaconda3\\lib\\site-packages\\ipykernel_launcher.py:303: DeprecationWarning: Call to deprecated method get_stix_domain_entity. (Replaced by the StixDomainEntity class in pycti) -- Deprecated since version 2.1.0.\n",
      "INFO:root:Reading Stix-Domain-Entity {885223eb-a293-4d4a-aaa8-2dd8d4487076}.\n"
     ]
    },
    {
     "name": "stdout",
     "output_type": "stream",
     "text": [
      "5cadd0dd-8c5c-4e59-8189-704cde3292cf\n",
      "885223eb-a293-4d4a-aaa8-2dd8d4487076\n"
     ]
    },
    {
     "name": "stderr",
     "output_type": "stream",
     "text": [
      "INFO:root:Listing stix_relations with {type: uses, from_id: 5cadd0dd-8c5c-4e59-8189-704cde3292cf, to_id: 885223eb-a293-4d4a-aaa8-2dd8d4487076}\n",
      "INFO:root:Reading Report {e09e1b14-cf48-4515-b0d9-38917a1433c4}.\n",
      "INFO:root:Adding Stix-Entity {6e970bdb-0927-4c4d-8730-a1e02ca5d783} to Report {e09e1b14-cf48-4515-b0d9-38917a1433c4}\n",
      "C:\\ProgramData\\Anaconda3\\lib\\site-packages\\ipykernel_launcher.py:300: DeprecationWarning: Call to deprecated method get_stix_domain_entity. (Replaced by the StixDomainEntity class in pycti) -- Deprecated since version 2.1.0.\n",
      "INFO:root:Reading Stix-Domain-Entity {5cadd0dd-8c5c-4e59-8189-704cde3292cf}.\n",
      "C:\\ProgramData\\Anaconda3\\lib\\site-packages\\ipykernel_launcher.py:303: DeprecationWarning: Call to deprecated method get_stix_domain_entity. (Replaced by the StixDomainEntity class in pycti) -- Deprecated since version 2.1.0.\n",
      "INFO:root:Reading Stix-Domain-Entity {651e2539-4a7d-47fc-8df2-ff67583c3801}.\n"
     ]
    },
    {
     "name": "stdout",
     "output_type": "stream",
     "text": [
      "5cadd0dd-8c5c-4e59-8189-704cde3292cf\n",
      "651e2539-4a7d-47fc-8df2-ff67583c3801\n"
     ]
    },
    {
     "name": "stderr",
     "output_type": "stream",
     "text": [
      "INFO:root:Listing stix_relations with {type: uses, from_id: 5cadd0dd-8c5c-4e59-8189-704cde3292cf, to_id: 651e2539-4a7d-47fc-8df2-ff67583c3801}\n",
      "INFO:root:Reading Report {e09e1b14-cf48-4515-b0d9-38917a1433c4}.\n",
      "INFO:root:Adding Stix-Entity {f3961e6f-08cc-49e7-bb51-198398d264ca} to Report {e09e1b14-cf48-4515-b0d9-38917a1433c4}\n",
      "C:\\ProgramData\\Anaconda3\\lib\\site-packages\\ipykernel_launcher.py:300: DeprecationWarning: Call to deprecated method get_stix_domain_entity. (Replaced by the StixDomainEntity class in pycti) -- Deprecated since version 2.1.0.\n",
      "INFO:root:Reading Stix-Domain-Entity {5cadd0dd-8c5c-4e59-8189-704cde3292cf}.\n",
      "C:\\ProgramData\\Anaconda3\\lib\\site-packages\\ipykernel_launcher.py:303: DeprecationWarning: Call to deprecated method get_stix_domain_entity. (Replaced by the StixDomainEntity class in pycti) -- Deprecated since version 2.1.0.\n",
      "INFO:root:Reading Stix-Domain-Entity {e659e8a4-5b5b-4929-bcf7-10f9202551cd}.\n"
     ]
    },
    {
     "name": "stdout",
     "output_type": "stream",
     "text": [
      "5cadd0dd-8c5c-4e59-8189-704cde3292cf\n",
      "e659e8a4-5b5b-4929-bcf7-10f9202551cd\n"
     ]
    },
    {
     "name": "stderr",
     "output_type": "stream",
     "text": [
      "INFO:root:Listing stix_relations with {type: uses, from_id: 5cadd0dd-8c5c-4e59-8189-704cde3292cf, to_id: e659e8a4-5b5b-4929-bcf7-10f9202551cd}\n",
      "INFO:root:Reading Report {e09e1b14-cf48-4515-b0d9-38917a1433c4}.\n",
      "INFO:root:Adding Stix-Entity {dcec3767-6182-41d1-9a66-a825182aac81} to Report {e09e1b14-cf48-4515-b0d9-38917a1433c4}\n",
      "C:\\ProgramData\\Anaconda3\\lib\\site-packages\\ipykernel_launcher.py:300: DeprecationWarning: Call to deprecated method get_stix_domain_entity. (Replaced by the StixDomainEntity class in pycti) -- Deprecated since version 2.1.0.\n",
      "INFO:root:Reading Stix-Domain-Entity {5cadd0dd-8c5c-4e59-8189-704cde3292cf}.\n",
      "C:\\ProgramData\\Anaconda3\\lib\\site-packages\\ipykernel_launcher.py:303: DeprecationWarning: Call to deprecated method get_stix_domain_entity. (Replaced by the StixDomainEntity class in pycti) -- Deprecated since version 2.1.0.\n",
      "INFO:root:Reading Stix-Domain-Entity {e3f49f39-45fb-40cc-b44f-4af592d48328}.\n"
     ]
    },
    {
     "name": "stdout",
     "output_type": "stream",
     "text": [
      "5cadd0dd-8c5c-4e59-8189-704cde3292cf\n",
      "e3f49f39-45fb-40cc-b44f-4af592d48328\n"
     ]
    },
    {
     "name": "stderr",
     "output_type": "stream",
     "text": [
      "INFO:root:Listing stix_relations with {type: uses, from_id: 5cadd0dd-8c5c-4e59-8189-704cde3292cf, to_id: e3f49f39-45fb-40cc-b44f-4af592d48328}\n",
      "INFO:root:Reading Report {e09e1b14-cf48-4515-b0d9-38917a1433c4}.\n",
      "INFO:root:Adding Stix-Entity {3eac4a8e-2f8d-4392-bfbf-4d3ac49e52ba} to Report {e09e1b14-cf48-4515-b0d9-38917a1433c4}\n",
      "C:\\ProgramData\\Anaconda3\\lib\\site-packages\\ipykernel_launcher.py:300: DeprecationWarning: Call to deprecated method get_stix_domain_entity. (Replaced by the StixDomainEntity class in pycti) -- Deprecated since version 2.1.0.\n",
      "INFO:root:Reading Stix-Domain-Entity {5cadd0dd-8c5c-4e59-8189-704cde3292cf}.\n",
      "C:\\ProgramData\\Anaconda3\\lib\\site-packages\\ipykernel_launcher.py:303: DeprecationWarning: Call to deprecated method get_stix_domain_entity. (Replaced by the StixDomainEntity class in pycti) -- Deprecated since version 2.1.0.\n",
      "INFO:root:Reading Stix-Domain-Entity {c6cb1bb3-2902-45cc-93b4-83ceb1031509}.\n"
     ]
    },
    {
     "name": "stdout",
     "output_type": "stream",
     "text": [
      "5cadd0dd-8c5c-4e59-8189-704cde3292cf\n",
      "c6cb1bb3-2902-45cc-93b4-83ceb1031509\n"
     ]
    },
    {
     "name": "stderr",
     "output_type": "stream",
     "text": [
      "INFO:root:Listing stix_relations with {type: uses, from_id: 5cadd0dd-8c5c-4e59-8189-704cde3292cf, to_id: c6cb1bb3-2902-45cc-93b4-83ceb1031509}\n",
      "INFO:root:Reading Report {e09e1b14-cf48-4515-b0d9-38917a1433c4}.\n",
      "INFO:root:Adding Stix-Entity {c20e30f7-7c20-484b-b00f-e736deae3061} to Report {e09e1b14-cf48-4515-b0d9-38917a1433c4}\n",
      "C:\\ProgramData\\Anaconda3\\lib\\site-packages\\ipykernel_launcher.py:300: DeprecationWarning: Call to deprecated method get_stix_domain_entity. (Replaced by the StixDomainEntity class in pycti) -- Deprecated since version 2.1.0.\n",
      "INFO:root:Reading Stix-Domain-Entity {5cadd0dd-8c5c-4e59-8189-704cde3292cf}.\n",
      "C:\\ProgramData\\Anaconda3\\lib\\site-packages\\ipykernel_launcher.py:303: DeprecationWarning: Call to deprecated method get_stix_domain_entity. (Replaced by the StixDomainEntity class in pycti) -- Deprecated since version 2.1.0.\n",
      "INFO:root:Reading Stix-Domain-Entity {5ef8a53d-1e82-47b5-990e-2a0a46aa5e86}.\n"
     ]
    },
    {
     "name": "stdout",
     "output_type": "stream",
     "text": [
      "5cadd0dd-8c5c-4e59-8189-704cde3292cf\n",
      "5ef8a53d-1e82-47b5-990e-2a0a46aa5e86\n"
     ]
    },
    {
     "name": "stderr",
     "output_type": "stream",
     "text": [
      "INFO:root:Listing stix_relations with {type: uses, from_id: 5cadd0dd-8c5c-4e59-8189-704cde3292cf, to_id: 5ef8a53d-1e82-47b5-990e-2a0a46aa5e86}\n",
      "INFO:root:Reading Report {e09e1b14-cf48-4515-b0d9-38917a1433c4}.\n",
      "INFO:root:Adding Stix-Entity {bcc7da5e-7c69-4e51-9197-6d83487abea1} to Report {e09e1b14-cf48-4515-b0d9-38917a1433c4}\n",
      "C:\\ProgramData\\Anaconda3\\lib\\site-packages\\ipykernel_launcher.py:300: DeprecationWarning: Call to deprecated method get_stix_domain_entity. (Replaced by the StixDomainEntity class in pycti) -- Deprecated since version 2.1.0.\n",
      "INFO:root:Reading Stix-Domain-Entity {5cadd0dd-8c5c-4e59-8189-704cde3292cf}.\n",
      "C:\\ProgramData\\Anaconda3\\lib\\site-packages\\ipykernel_launcher.py:303: DeprecationWarning: Call to deprecated method get_stix_domain_entity. (Replaced by the StixDomainEntity class in pycti) -- Deprecated since version 2.1.0.\n",
      "INFO:root:Reading Stix-Domain-Entity {9247f9bc-4811-4c37-8b80-f8f13a57b14a}.\n"
     ]
    },
    {
     "name": "stdout",
     "output_type": "stream",
     "text": [
      "5cadd0dd-8c5c-4e59-8189-704cde3292cf\n",
      "9247f9bc-4811-4c37-8b80-f8f13a57b14a\n"
     ]
    },
    {
     "name": "stderr",
     "output_type": "stream",
     "text": [
      "INFO:root:Listing stix_relations with {type: uses, from_id: 5cadd0dd-8c5c-4e59-8189-704cde3292cf, to_id: 9247f9bc-4811-4c37-8b80-f8f13a57b14a}\n",
      "INFO:root:Reading Report {e09e1b14-cf48-4515-b0d9-38917a1433c4}.\n",
      "INFO:root:Adding Stix-Entity {bcd393b2-ee9b-4d61-ab2f-93cc1cfeeb9b} to Report {e09e1b14-cf48-4515-b0d9-38917a1433c4}\n",
      "C:\\ProgramData\\Anaconda3\\lib\\site-packages\\ipykernel_launcher.py:300: DeprecationWarning: Call to deprecated method get_stix_domain_entity. (Replaced by the StixDomainEntity class in pycti) -- Deprecated since version 2.1.0.\n",
      "INFO:root:Reading Stix-Domain-Entity {5cadd0dd-8c5c-4e59-8189-704cde3292cf}.\n",
      "C:\\ProgramData\\Anaconda3\\lib\\site-packages\\ipykernel_launcher.py:303: DeprecationWarning: Call to deprecated method get_stix_domain_entity. (Replaced by the StixDomainEntity class in pycti) -- Deprecated since version 2.1.0.\n",
      "INFO:root:Reading Stix-Domain-Entity {e9c60549-7a62-48b1-a913-63331f83b160}.\n"
     ]
    },
    {
     "name": "stdout",
     "output_type": "stream",
     "text": [
      "5cadd0dd-8c5c-4e59-8189-704cde3292cf\n",
      "e9c60549-7a62-48b1-a913-63331f83b160\n"
     ]
    },
    {
     "name": "stderr",
     "output_type": "stream",
     "text": [
      "INFO:root:Listing stix_relations with {type: uses, from_id: 5cadd0dd-8c5c-4e59-8189-704cde3292cf, to_id: e9c60549-7a62-48b1-a913-63331f83b160}\n",
      "INFO:root:Reading Report {e09e1b14-cf48-4515-b0d9-38917a1433c4}.\n",
      "INFO:root:Adding Stix-Entity {2c842c8c-4638-4a06-b3a0-14610403e195} to Report {e09e1b14-cf48-4515-b0d9-38917a1433c4}\n",
      "C:\\ProgramData\\Anaconda3\\lib\\site-packages\\ipykernel_launcher.py:300: DeprecationWarning: Call to deprecated method get_stix_domain_entity. (Replaced by the StixDomainEntity class in pycti) -- Deprecated since version 2.1.0.\n",
      "INFO:root:Reading Stix-Domain-Entity {5cadd0dd-8c5c-4e59-8189-704cde3292cf}.\n",
      "C:\\ProgramData\\Anaconda3\\lib\\site-packages\\ipykernel_launcher.py:303: DeprecationWarning: Call to deprecated method get_stix_domain_entity. (Replaced by the StixDomainEntity class in pycti) -- Deprecated since version 2.1.0.\n",
      "INFO:root:Reading Stix-Domain-Entity {65e096e1-3467-4bd5-a574-9a475701fbdb}.\n"
     ]
    },
    {
     "name": "stdout",
     "output_type": "stream",
     "text": [
      "5cadd0dd-8c5c-4e59-8189-704cde3292cf\n",
      "65e096e1-3467-4bd5-a574-9a475701fbdb\n"
     ]
    },
    {
     "name": "stderr",
     "output_type": "stream",
     "text": [
      "INFO:root:Listing stix_relations with {type: uses, from_id: 5cadd0dd-8c5c-4e59-8189-704cde3292cf, to_id: 65e096e1-3467-4bd5-a574-9a475701fbdb}\n",
      "INFO:root:Reading Report {e09e1b14-cf48-4515-b0d9-38917a1433c4}.\n",
      "INFO:root:Adding Stix-Entity {e8599edb-3669-47f8-aa98-5b0f6f8ac728} to Report {e09e1b14-cf48-4515-b0d9-38917a1433c4}\n",
      "C:\\ProgramData\\Anaconda3\\lib\\site-packages\\ipykernel_launcher.py:300: DeprecationWarning: Call to deprecated method get_stix_domain_entity. (Replaced by the StixDomainEntity class in pycti) -- Deprecated since version 2.1.0.\n",
      "INFO:root:Reading Stix-Domain-Entity {5cadd0dd-8c5c-4e59-8189-704cde3292cf}.\n",
      "C:\\ProgramData\\Anaconda3\\lib\\site-packages\\ipykernel_launcher.py:303: DeprecationWarning: Call to deprecated method get_stix_domain_entity. (Replaced by the StixDomainEntity class in pycti) -- Deprecated since version 2.1.0.\n",
      "INFO:root:Reading Stix-Domain-Entity {6a7b6bd0-3eec-43d0-a529-a5534a0763c8}.\n"
     ]
    },
    {
     "name": "stdout",
     "output_type": "stream",
     "text": [
      "5cadd0dd-8c5c-4e59-8189-704cde3292cf\n",
      "6a7b6bd0-3eec-43d0-a529-a5534a0763c8\n"
     ]
    },
    {
     "name": "stderr",
     "output_type": "stream",
     "text": [
      "INFO:root:Listing stix_relations with {type: uses, from_id: 5cadd0dd-8c5c-4e59-8189-704cde3292cf, to_id: 6a7b6bd0-3eec-43d0-a529-a5534a0763c8}\n",
      "INFO:root:Reading Report {e09e1b14-cf48-4515-b0d9-38917a1433c4}.\n",
      "INFO:root:Adding Stix-Entity {a8e2629d-5f2d-4a3a-8bf5-80ebfd46f390} to Report {e09e1b14-cf48-4515-b0d9-38917a1433c4}\n",
      "C:\\ProgramData\\Anaconda3\\lib\\site-packages\\ipykernel_launcher.py:300: DeprecationWarning: Call to deprecated method get_stix_domain_entity. (Replaced by the StixDomainEntity class in pycti) -- Deprecated since version 2.1.0.\n",
      "INFO:root:Reading Stix-Domain-Entity {5cadd0dd-8c5c-4e59-8189-704cde3292cf}.\n",
      "C:\\ProgramData\\Anaconda3\\lib\\site-packages\\ipykernel_launcher.py:303: DeprecationWarning: Call to deprecated method get_stix_domain_entity. (Replaced by the StixDomainEntity class in pycti) -- Deprecated since version 2.1.0.\n",
      "INFO:root:Reading Stix-Domain-Entity {a66f1395-d712-4bb0-a268-5547d454dd0f}.\n"
     ]
    },
    {
     "name": "stdout",
     "output_type": "stream",
     "text": [
      "5cadd0dd-8c5c-4e59-8189-704cde3292cf\n",
      "a66f1395-d712-4bb0-a268-5547d454dd0f\n"
     ]
    },
    {
     "name": "stderr",
     "output_type": "stream",
     "text": [
      "INFO:root:Listing stix_relations with {type: uses, from_id: 5cadd0dd-8c5c-4e59-8189-704cde3292cf, to_id: a66f1395-d712-4bb0-a268-5547d454dd0f}\n",
      "INFO:root:Reading Report {e09e1b14-cf48-4515-b0d9-38917a1433c4}.\n",
      "INFO:root:Adding Stix-Entity {6a749d85-5745-4294-9f3d-c3ca052fc8b1} to Report {e09e1b14-cf48-4515-b0d9-38917a1433c4}\n",
      "C:\\ProgramData\\Anaconda3\\lib\\site-packages\\ipykernel_launcher.py:300: DeprecationWarning: Call to deprecated method get_stix_domain_entity. (Replaced by the StixDomainEntity class in pycti) -- Deprecated since version 2.1.0.\n",
      "INFO:root:Reading Stix-Domain-Entity {5cadd0dd-8c5c-4e59-8189-704cde3292cf}.\n",
      "C:\\ProgramData\\Anaconda3\\lib\\site-packages\\ipykernel_launcher.py:303: DeprecationWarning: Call to deprecated method get_stix_domain_entity. (Replaced by the StixDomainEntity class in pycti) -- Deprecated since version 2.1.0.\n",
      "INFO:root:Reading Stix-Domain-Entity {2fbbe108-832e-4454-8bc6-d4e4f682b70b}.\n"
     ]
    },
    {
     "name": "stdout",
     "output_type": "stream",
     "text": [
      "5cadd0dd-8c5c-4e59-8189-704cde3292cf\n",
      "2fbbe108-832e-4454-8bc6-d4e4f682b70b\n"
     ]
    },
    {
     "name": "stderr",
     "output_type": "stream",
     "text": [
      "INFO:root:Listing stix_relations with {type: uses, from_id: 5cadd0dd-8c5c-4e59-8189-704cde3292cf, to_id: 2fbbe108-832e-4454-8bc6-d4e4f682b70b}\n",
      "INFO:root:Reading Report {e09e1b14-cf48-4515-b0d9-38917a1433c4}.\n",
      "INFO:root:Adding Stix-Entity {f748b515-a61d-4295-9159-2df918ae8bc9} to Report {e09e1b14-cf48-4515-b0d9-38917a1433c4}\n",
      "C:\\ProgramData\\Anaconda3\\lib\\site-packages\\ipykernel_launcher.py:300: DeprecationWarning: Call to deprecated method get_stix_domain_entity. (Replaced by the StixDomainEntity class in pycti) -- Deprecated since version 2.1.0.\n",
      "INFO:root:Reading Stix-Domain-Entity {5cadd0dd-8c5c-4e59-8189-704cde3292cf}.\n",
      "C:\\ProgramData\\Anaconda3\\lib\\site-packages\\ipykernel_launcher.py:303: DeprecationWarning: Call to deprecated method get_stix_domain_entity. (Replaced by the StixDomainEntity class in pycti) -- Deprecated since version 2.1.0.\n",
      "INFO:root:Reading Stix-Domain-Entity {7635ccb2-9e1c-4031-bdc0-0037ba7477ab}.\n"
     ]
    },
    {
     "name": "stdout",
     "output_type": "stream",
     "text": [
      "5cadd0dd-8c5c-4e59-8189-704cde3292cf\n",
      "7635ccb2-9e1c-4031-bdc0-0037ba7477ab\n"
     ]
    },
    {
     "name": "stderr",
     "output_type": "stream",
     "text": [
      "INFO:root:Listing stix_relations with {type: uses, from_id: 5cadd0dd-8c5c-4e59-8189-704cde3292cf, to_id: 7635ccb2-9e1c-4031-bdc0-0037ba7477ab}\n",
      "INFO:root:Reading Report {e09e1b14-cf48-4515-b0d9-38917a1433c4}.\n",
      "INFO:root:Adding Stix-Entity {ad74588d-6282-4722-8a07-10dacf8c013c} to Report {e09e1b14-cf48-4515-b0d9-38917a1433c4}\n",
      "C:\\ProgramData\\Anaconda3\\lib\\site-packages\\ipykernel_launcher.py:300: DeprecationWarning: Call to deprecated method get_stix_domain_entity. (Replaced by the StixDomainEntity class in pycti) -- Deprecated since version 2.1.0.\n",
      "INFO:root:Reading Stix-Domain-Entity {5cadd0dd-8c5c-4e59-8189-704cde3292cf}.\n",
      "C:\\ProgramData\\Anaconda3\\lib\\site-packages\\ipykernel_launcher.py:303: DeprecationWarning: Call to deprecated method get_stix_domain_entity. (Replaced by the StixDomainEntity class in pycti) -- Deprecated since version 2.1.0.\n",
      "INFO:root:Reading Stix-Domain-Entity {40ca8364-81f4-4324-9c0a-cef2e17b0c55}.\n"
     ]
    },
    {
     "name": "stdout",
     "output_type": "stream",
     "text": [
      "5cadd0dd-8c5c-4e59-8189-704cde3292cf\n",
      "40ca8364-81f4-4324-9c0a-cef2e17b0c55\n"
     ]
    },
    {
     "name": "stderr",
     "output_type": "stream",
     "text": [
      "INFO:root:Listing stix_relations with {type: uses, from_id: 5cadd0dd-8c5c-4e59-8189-704cde3292cf, to_id: 40ca8364-81f4-4324-9c0a-cef2e17b0c55}\n",
      "INFO:root:Reading Report {e09e1b14-cf48-4515-b0d9-38917a1433c4}.\n",
      "INFO:root:Adding Stix-Entity {013e4de5-0e63-43c8-931b-0d56f50346ec} to Report {e09e1b14-cf48-4515-b0d9-38917a1433c4}\n",
      "C:\\ProgramData\\Anaconda3\\lib\\site-packages\\ipykernel_launcher.py:300: DeprecationWarning: Call to deprecated method get_stix_domain_entity. (Replaced by the StixDomainEntity class in pycti) -- Deprecated since version 2.1.0.\n",
      "INFO:root:Reading Stix-Domain-Entity {5cadd0dd-8c5c-4e59-8189-704cde3292cf}.\n",
      "C:\\ProgramData\\Anaconda3\\lib\\site-packages\\ipykernel_launcher.py:303: DeprecationWarning: Call to deprecated method get_stix_domain_entity. (Replaced by the StixDomainEntity class in pycti) -- Deprecated since version 2.1.0.\n",
      "INFO:root:Reading Stix-Domain-Entity {8570ef5a-7c7e-4523-a28e-9e8636333070}.\n"
     ]
    },
    {
     "name": "stdout",
     "output_type": "stream",
     "text": [
      "5cadd0dd-8c5c-4e59-8189-704cde3292cf\n",
      "8570ef5a-7c7e-4523-a28e-9e8636333070\n"
     ]
    },
    {
     "name": "stderr",
     "output_type": "stream",
     "text": [
      "INFO:root:Listing stix_relations with {type: uses, from_id: 5cadd0dd-8c5c-4e59-8189-704cde3292cf, to_id: 8570ef5a-7c7e-4523-a28e-9e8636333070}\n",
      "INFO:root:Reading Report {e09e1b14-cf48-4515-b0d9-38917a1433c4}.\n",
      "INFO:root:Adding Stix-Entity {d1264096-98fb-40fb-85af-aba279f8bd2a} to Report {e09e1b14-cf48-4515-b0d9-38917a1433c4}\n",
      "C:\\ProgramData\\Anaconda3\\lib\\site-packages\\ipykernel_launcher.py:300: DeprecationWarning: Call to deprecated method get_stix_domain_entity. (Replaced by the StixDomainEntity class in pycti) -- Deprecated since version 2.1.0.\n",
      "INFO:root:Reading Stix-Domain-Entity {5cadd0dd-8c5c-4e59-8189-704cde3292cf}.\n",
      "C:\\ProgramData\\Anaconda3\\lib\\site-packages\\ipykernel_launcher.py:303: DeprecationWarning: Call to deprecated method get_stix_domain_entity. (Replaced by the StixDomainEntity class in pycti) -- Deprecated since version 2.1.0.\n",
      "INFO:root:Reading Stix-Domain-Entity {fe9ef168-4560-4f23-a6a1-a67192e7d1e7}.\n"
     ]
    },
    {
     "name": "stdout",
     "output_type": "stream",
     "text": [
      "5cadd0dd-8c5c-4e59-8189-704cde3292cf\n",
      "fe9ef168-4560-4f23-a6a1-a67192e7d1e7\n"
     ]
    },
    {
     "name": "stderr",
     "output_type": "stream",
     "text": [
      "INFO:root:Listing stix_relations with {type: uses, from_id: 5cadd0dd-8c5c-4e59-8189-704cde3292cf, to_id: fe9ef168-4560-4f23-a6a1-a67192e7d1e7}\n",
      "INFO:root:Reading Report {e09e1b14-cf48-4515-b0d9-38917a1433c4}.\n",
      "INFO:root:Adding Stix-Entity {9bba803e-59df-401f-8a8b-b238a859074c} to Report {e09e1b14-cf48-4515-b0d9-38917a1433c4}\n",
      "C:\\ProgramData\\Anaconda3\\lib\\site-packages\\ipykernel_launcher.py:300: DeprecationWarning: Call to deprecated method get_stix_domain_entity. (Replaced by the StixDomainEntity class in pycti) -- Deprecated since version 2.1.0.\n",
      "INFO:root:Reading Stix-Domain-Entity {b1669132-add8-4c35-877b-dd6fe6bd6365}.\n",
      "C:\\ProgramData\\Anaconda3\\lib\\site-packages\\ipykernel_launcher.py:303: DeprecationWarning: Call to deprecated method get_stix_domain_entity. (Replaced by the StixDomainEntity class in pycti) -- Deprecated since version 2.1.0.\n",
      "INFO:root:Reading Stix-Domain-Entity {e40f1cb3-40c7-4ff5-9f03-16b5e804d1ed}.\n"
     ]
    },
    {
     "name": "stdout",
     "output_type": "stream",
     "text": [
      "b1669132-add8-4c35-877b-dd6fe6bd6365\n",
      "e40f1cb3-40c7-4ff5-9f03-16b5e804d1ed\n"
     ]
    },
    {
     "name": "stderr",
     "output_type": "stream",
     "text": [
      "INFO:root:Listing stix_relations with {type: uses, from_id: b1669132-add8-4c35-877b-dd6fe6bd6365, to_id: e40f1cb3-40c7-4ff5-9f03-16b5e804d1ed}\n",
      "ERROR:root:Relation creation failed, cannot resolve roles: {uses: threat-actor, vulnerability}\n"
     ]
    },
    {
     "ename": "TypeError",
     "evalue": "'NoneType' object is not subscriptable",
     "output_type": "error",
     "traceback": [
      "\u001b[1;31m---------------------------------------------------------------------------\u001b[0m",
      "\u001b[1;31mTypeError\u001b[0m                                 Traceback (most recent call last)",
      "\u001b[1;32m<ipython-input-78-42d120f06ca4>\u001b[0m in \u001b[0;36m<module>\u001b[1;34m\u001b[0m\n\u001b[1;32m----> 1\u001b[1;33m \u001b[0men\u001b[0m\u001b[1;33m.\u001b[0m\u001b[0mcreate_report\u001b[0m\u001b[1;33m(\u001b[0m\u001b[1;33m)\u001b[0m\u001b[1;33m\u001b[0m\u001b[1;33m\u001b[0m\u001b[0m\n\u001b[0m",
      "\u001b[1;32m<ipython-input-76-8d8e56080eee>\u001b[0m in \u001b[0;36mcreate_report\u001b[1;34m(self)\u001b[0m\n\u001b[0;32m    354\u001b[0m             \u001b[0mself\u001b[0m\u001b[1;33m.\u001b[0m\u001b[0mcreate_vulnerabilty\u001b[0m \u001b[1;33m(\u001b[0m\u001b[0mby\u001b[0m \u001b[1;33m=\u001b[0m \u001b[0mreport_by\u001b[0m\u001b[1;33m[\u001b[0m\u001b[1;34m'id'\u001b[0m\u001b[1;33m]\u001b[0m \u001b[1;33m,\u001b[0m \u001b[0mreport\u001b[0m \u001b[1;33m=\u001b[0m \u001b[0mreport\u001b[0m \u001b[1;33m[\u001b[0m\u001b[1;34m'id'\u001b[0m\u001b[1;33m]\u001b[0m\u001b[1;33m)\u001b[0m\u001b[1;33m\u001b[0m\u001b[1;33m\u001b[0m\u001b[0m\n\u001b[0;32m    355\u001b[0m             \u001b[0mself\u001b[0m\u001b[1;33m.\u001b[0m\u001b[0mcreate_indicator\u001b[0m \u001b[1;33m(\u001b[0m\u001b[0mby\u001b[0m \u001b[1;33m=\u001b[0m \u001b[0mreport_by\u001b[0m\u001b[1;33m[\u001b[0m\u001b[1;34m'id'\u001b[0m\u001b[1;33m]\u001b[0m \u001b[1;33m,\u001b[0m \u001b[0mreport\u001b[0m \u001b[1;33m=\u001b[0m \u001b[0mreport\u001b[0m \u001b[1;33m[\u001b[0m\u001b[1;34m'id'\u001b[0m\u001b[1;33m]\u001b[0m\u001b[1;33m)\u001b[0m\u001b[1;33m\u001b[0m\u001b[1;33m\u001b[0m\u001b[0m\n\u001b[1;32m--> 356\u001b[1;33m             \u001b[0mself\u001b[0m\u001b[1;33m.\u001b[0m\u001b[0mcreate_relationships\u001b[0m \u001b[1;33m(\u001b[0m\u001b[0mreport\u001b[0m \u001b[1;33m=\u001b[0m \u001b[0mreport\u001b[0m \u001b[1;33m[\u001b[0m\u001b[1;34m'id'\u001b[0m\u001b[1;33m]\u001b[0m\u001b[1;33m)\u001b[0m\u001b[1;33m\u001b[0m\u001b[1;33m\u001b[0m\u001b[0m\n\u001b[0m\u001b[0;32m    357\u001b[0m \u001b[1;33m\u001b[0m\u001b[0m\n\u001b[0;32m    358\u001b[0m \u001b[1;33m\u001b[0m\u001b[0m\n",
      "\u001b[1;32m<ipython-input-76-8d8e56080eee>\u001b[0m in \u001b[0;36mcreate_relationships\u001b[1;34m(self, report)\u001b[0m\n\u001b[0;32m    305\u001b[0m                     )\n\u001b[0;32m    306\u001b[0m \u001b[1;33m\u001b[0m\u001b[0m\n\u001b[1;32m--> 307\u001b[1;33m                     \u001b[0mopencti_api_client\u001b[0m\u001b[1;33m.\u001b[0m\u001b[0mreport\u001b[0m\u001b[1;33m.\u001b[0m\u001b[0madd_stix_entity\u001b[0m\u001b[1;33m(\u001b[0m\u001b[0mid\u001b[0m\u001b[1;33m=\u001b[0m\u001b[0mreport\u001b[0m\u001b[1;33m,\u001b[0m\u001b[0mentity_id\u001b[0m \u001b[1;33m=\u001b[0m \u001b[0mrelation\u001b[0m\u001b[1;33m[\u001b[0m\u001b[1;34m'id'\u001b[0m\u001b[1;33m]\u001b[0m \u001b[1;33m)\u001b[0m\u001b[1;33m\u001b[0m\u001b[1;33m\u001b[0m\u001b[0m\n\u001b[0m\u001b[0;32m    308\u001b[0m \u001b[1;33m\u001b[0m\u001b[0m\n\u001b[0;32m    309\u001b[0m \u001b[1;33m\u001b[0m\u001b[0m\n",
      "\u001b[1;31mTypeError\u001b[0m: 'NoneType' object is not subscriptable"
     ]
    }
   ],
   "source": [
    "en.create_report()"
   ]
  },
  {
   "cell_type": "code",
   "execution_count": 72,
   "metadata": {},
   "outputs": [
    {
     "name": "stderr",
     "output_type": "stream",
     "text": [
      "INFO:root:Listing Indicators with filters [{\"key\": \"name\", \"values\": \"hjicgb\"}].\n",
      "INFO:root:{\"errors\":[{\"message\":\"An unknown error has occurred!  Please try again later.\",\"name\":\"Unknown\",\"time_thrown\":\"2020-02-04T06:51:28.546Z\",\"data\":{\"type\":\"technical\",\"level\":\"error\"}}]}\n",
      "\n"
     ]
    },
    {
     "ename": "TypeError",
     "evalue": "'NoneType' object is not subscriptable",
     "output_type": "error",
     "traceback": [
      "\u001b[1;31m---------------------------------------------------------------------------\u001b[0m",
      "\u001b[1;31mTypeError\u001b[0m                                 Traceback (most recent call last)",
      "\u001b[1;32m<ipython-input-72-f3a88d521e74>\u001b[0m in \u001b[0;36m<module>\u001b[1;34m\u001b[0m\n\u001b[1;32m----> 1\u001b[1;33m \u001b[0mopencti_api_client\u001b[0m\u001b[1;33m.\u001b[0m\u001b[0mindicator\u001b[0m\u001b[1;33m.\u001b[0m\u001b[0mlist\u001b[0m \u001b[1;33m(\u001b[0m\u001b[0mfilters\u001b[0m\u001b[1;33m=\u001b[0m\u001b[1;33m[\u001b[0m\u001b[1;33m{\u001b[0m\u001b[1;34m'key'\u001b[0m \u001b[1;33m:\u001b[0m \u001b[1;34m'name'\u001b[0m\u001b[1;33m,\u001b[0m \u001b[1;34m'values'\u001b[0m \u001b[1;33m:\u001b[0m \u001b[1;34m'hjicgb'\u001b[0m\u001b[1;33m}\u001b[0m\u001b[1;33m]\u001b[0m\u001b[1;33m)\u001b[0m\u001b[1;33m\u001b[0m\u001b[1;33m\u001b[0m\u001b[0m\n\u001b[0m",
      "\u001b[1;32mC:\\ProgramData\\Anaconda3\\lib\\site-packages\\pycti\\entities\\opencti_indicator.py\u001b[0m in \u001b[0;36mlist\u001b[1;34m(self, **kwargs)\u001b[0m\n\u001b[0;32m    208\u001b[0m             \u001b[1;32mreturn\u001b[0m \u001b[0mfinal_data\u001b[0m\u001b[1;33m\u001b[0m\u001b[1;33m\u001b[0m\u001b[0m\n\u001b[0;32m    209\u001b[0m         \u001b[1;32melse\u001b[0m\u001b[1;33m:\u001b[0m\u001b[1;33m\u001b[0m\u001b[1;33m\u001b[0m\u001b[0m\n\u001b[1;32m--> 210\u001b[1;33m             \u001b[1;32mreturn\u001b[0m \u001b[0mself\u001b[0m\u001b[1;33m.\u001b[0m\u001b[0mopencti\u001b[0m\u001b[1;33m.\u001b[0m\u001b[0mprocess_multiple\u001b[0m\u001b[1;33m(\u001b[0m\u001b[0mresult\u001b[0m\u001b[1;33m[\u001b[0m\u001b[1;34m\"data\"\u001b[0m\u001b[1;33m]\u001b[0m\u001b[1;33m[\u001b[0m\u001b[1;34m\"indicators\"\u001b[0m\u001b[1;33m]\u001b[0m\u001b[1;33m)\u001b[0m\u001b[1;33m\u001b[0m\u001b[1;33m\u001b[0m\u001b[0m\n\u001b[0m\u001b[0;32m    211\u001b[0m \u001b[1;33m\u001b[0m\u001b[0m\n\u001b[0;32m    212\u001b[0m     \"\"\"\n",
      "\u001b[1;31mTypeError\u001b[0m: 'NoneType' object is not subscriptable"
     ]
    }
   ],
   "source": [
    "opencti_api_client.indicator.list (filters=[{'key' : 'name', 'values' : 'hjicgb'}])"
   ]
  },
  {
   "cell_type": "code",
   "execution_count": 7,
   "metadata": {},
   "outputs": [
    {
     "name": "stderr",
     "output_type": "stream",
     "text": [
      "INFO:root:Listing Stix-Domain-Entities with filters [{\"key\": \"name\", \"values\": [\"new_cve\"]}].\n",
      "INFO:root:Listing Stix-Domain-Entities with filters [{\"key\": \"alias\", \"values\": [\"new_cve\"]}].\n",
      "INFO:root:Creating Vulnerability {new_cve}.\n"
     ]
    },
    {
     "data": {
      "text/plain": [
       "{'id': '0241441b-5e8a-4899-ac6a-c0b6302ef1bb',\n",
       " 'stix_id_key': 'vulnerability--3ef22de7-4aa4-4bac-ab97-00b852ae27a9',\n",
       " 'stix_label': None,\n",
       " 'entity_type': 'vulnerability',\n",
       " 'parent_types': ['Vulnerability', 'Stix-Domain-Entity', 'Stix-Domain'],\n",
       " 'name': 'new_cve',\n",
       " 'alias': [''],\n",
       " 'description': 'checking ',\n",
       " 'graph_data': None,\n",
       " 'created': '2020-02-01T11:40:41.734Z',\n",
       " 'modified': '2020-02-01T11:40:41.734Z',\n",
       " 'created_at': '2020-02-01T11:40:41.734Z',\n",
       " 'updated_at': '2020-02-01T11:40:41.734Z',\n",
       " 'createdByRef': None,\n",
       " 'markingDefinitions': [],\n",
       " 'tags': [],\n",
       " 'externalReferences': [],\n",
       " 'markingDefinitionsIds': [],\n",
       " 'tagsIds': [],\n",
       " 'externalReferencesIds': []}"
      ]
     },
     "execution_count": 7,
     "metadata": {},
     "output_type": "execute_result"
    }
   ],
   "source": [
    "opencti_api_client.vulnerability.create(name ='new_cve',description = 'checking ')"
   ]
  },
  {
   "cell_type": "code",
   "execution_count": 30,
   "metadata": {},
   "outputs": [
    {
     "name": "stderr",
     "output_type": "stream",
     "text": [
      "INFO:root:Listing StixObservables with filters [{\"key\": \"observable_value\", \"values\": [\"16a9f340c0d353332ba6f525376c93e1\"]}].\n"
     ]
    },
    {
     "data": {
      "text/plain": [
       "{'id': 'f83d95e4-3540-4417-bbcd-b422bdb45d93',\n",
       " 'stix_id_key': 'observable--5506469d-f820-4ddb-8edd-4cf04e6457aa',\n",
       " 'entity_type': 'file',\n",
       " 'name': '',\n",
       " 'description': None,\n",
       " 'observable_value': '16a9f340c0d353332ba6f525376c93e1',\n",
       " 'created_at': '2020-02-01T12:16:25.666Z',\n",
       " 'updated_at': '2020-02-01T12:16:25.666Z',\n",
       " 'createdByRef': None,\n",
       " 'tags': [],\n",
       " 'markingDefinitions': [],\n",
       " 'externalReferences': [],\n",
       " 'indicators': [],\n",
       " 'markingDefinitionsIds': [],\n",
       " 'tagsIds': [],\n",
       " 'externalReferencesIds': [],\n",
       " 'indicatorsIds': []}"
      ]
     },
     "execution_count": 30,
     "metadata": {},
     "output_type": "execute_result"
    }
   ],
   "source": [
    "opencti_api_client.stix_observable.create(type='File-MD5',observable_value='16a9f340c0d353332ba6f525376c93e1')"
   ]
  },
  {
   "cell_type": "code",
   "execution_count": 57,
   "metadata": {},
   "outputs": [],
   "source": [
    "df=pd.read_excel(r\"D:\\Threat_intel_services\\srikanth\\fakeapt12.xlsx\",sheet_name = 'Indicator' ) "
   ]
  },
  {
   "cell_type": "code",
   "execution_count": null,
   "metadata": {},
   "outputs": [],
   "source": [
    "indicator = opencti_api_client.indicator.create(\n",
    "    name=row['name'],\n",
    "    description= row['description'],\n",
    "    pattern_type= row['pattern_type'],\n",
    "    indicator_pattern= row ['main_observable_type'],\n",
    "    main_observable_type=\"File\",\n",
    ")"
   ]
  },
  {
   "cell_type": "code",
   "execution_count": 81,
   "metadata": {},
   "outputs": [
    {
     "name": "stderr",
     "output_type": "stream",
     "text": [
      "INFO:root:Listing Indicators with filters [{\"key\": \"indicator_pattern\", \"values\": [\"Files\"]}].\n",
      "INFO:root:Listing Indicators with filters [{\"key\": \"indicator_pattern\", \"values\": [\"Files\"]}].\n"
     ]
    },
    {
     "name": "stdout",
     "output_type": "stream",
     "text": [
      "16a9f340c0d353332ba6f525376c93e1\n",
      "8950bbedf4a7f1d518e859f9800f9347\n"
     ]
    },
    {
     "name": "stderr",
     "output_type": "stream",
     "text": [
      "INFO:root:Listing Indicators with filters [{\"key\": \"indicator_pattern\", \"values\": [\"Files\"]}].\n",
      "INFO:root:Listing Indicators with filters [{\"key\": \"indicator_pattern\", \"values\": [\"Files\"]}].\n"
     ]
    },
    {
     "name": "stdout",
     "output_type": "stream",
     "text": [
      "c61c231d93d3bd690dd04b6de7350abb\n",
      "58de08c1155a775b760049dff3f5abe4\n"
     ]
    },
    {
     "name": "stderr",
     "output_type": "stream",
     "text": [
      "INFO:root:Listing Indicators with filters [{\"key\": \"indicator_pattern\", \"values\": [\"Files\"]}].\n",
      "INFO:root:Listing Indicators with filters [{\"key\": \"indicator_pattern\", \"values\": [\"Files\"]}].\n"
     ]
    },
    {
     "name": "stdout",
     "output_type": "stream",
     "text": [
      "d80eb21cfe8ad1a710c8652b13f8b7ac\n",
      "d4b98bda9c3ae0810a61f95863f4f81e\n"
     ]
    },
    {
     "name": "stderr",
     "output_type": "stream",
     "text": [
      "INFO:root:Listing Indicators with filters [{\"key\": \"indicator_pattern\", \"values\": [\"Files\"]}].\n",
      "INFO:root:Listing Indicators with filters [{\"key\": \"indicator_pattern\", \"values\": [\"Files\"]}].\n"
     ]
    },
    {
     "name": "stdout",
     "output_type": "stream",
     "text": [
      "100cf902ac31766f7d8a521eeb6f8d68\n",
      "6e14c7a424c2eef7f37810ff65650837\n"
     ]
    },
    {
     "name": "stderr",
     "output_type": "stream",
     "text": [
      "INFO:root:Listing Indicators with filters [{\"key\": \"indicator_pattern\", \"values\": [\"Files\"]}].\n",
      "INFO:root:Listing Indicators with filters [{\"key\": \"indicator_pattern\", \"values\": [\"Files\"]}].\n"
     ]
    },
    {
     "name": "stdout",
     "output_type": "stream",
     "text": [
      "949265ee1d3e587152a23311a85b3be9\n",
      "738af108a6edd46536492b1782589a04\n"
     ]
    },
    {
     "name": "stderr",
     "output_type": "stream",
     "text": [
      "INFO:root:Listing Indicators with filters [{\"key\": \"indicator_pattern\", \"values\": [\"Files\"]}].\n",
      "INFO:root:Listing Indicators with filters [{\"key\": \"indicator_pattern\", \"values\": [\"Files\"]}].\n"
     ]
    },
    {
     "name": "stdout",
     "output_type": "stream",
     "text": [
      "6227e1594775773a182e1b631db5f6bb\n",
      "36ee61663fc41496642850c4293fed01\n"
     ]
    },
    {
     "name": "stderr",
     "output_type": "stream",
     "text": [
      "INFO:root:Listing Indicators with filters [{\"key\": \"indicator_pattern\", \"values\": [\"Files\"]}].\n",
      "INFO:root:Listing Indicators with filters [{\"key\": \"indicator_pattern\", \"values\": [\"Files\"]}].\n"
     ]
    },
    {
     "name": "stdout",
     "output_type": "stream",
     "text": [
      "313158192d4442013f7bedeb9def01ec\n",
      "cd0eb6634ea684313389ddce553a6130\n"
     ]
    },
    {
     "name": "stderr",
     "output_type": "stream",
     "text": [
      "INFO:root:Listing Indicators with filters [{\"key\": \"indicator_pattern\", \"values\": [\"Files\"]}].\n",
      "INFO:root:Listing Indicators with filters [{\"key\": \"indicator_pattern\", \"values\": [\"Files\"]}].\n"
     ]
    },
    {
     "name": "stdout",
     "output_type": "stream",
     "text": [
      "7ca4ab177f480503653702b33366111f\n",
      "711542d883f8fca4aeac62ee1b7df6ca\n"
     ]
    },
    {
     "name": "stderr",
     "output_type": "stream",
     "text": [
      "INFO:root:Listing Indicators with filters [{\"key\": \"indicator_pattern\", \"values\": [\"Files\"]}].\n",
      "INFO:root:Listing Indicators with filters [{\"key\": \"indicator_pattern\", \"values\": [\"Files\"]}].\n"
     ]
    },
    {
     "name": "stdout",
     "output_type": "stream",
     "text": [
      "ae39b747e4fe72dce6e5cdc6d0314c02\n",
      "2368a8f55ee78d844896f05f94866b07\n"
     ]
    },
    {
     "name": "stderr",
     "output_type": "stream",
     "text": [
      "INFO:root:Listing Indicators with filters [{\"key\": \"indicator_pattern\", \"values\": [\"Files\"]}].\n",
      "INFO:root:Listing Indicators with filters [{\"key\": \"indicator_pattern\", \"values\": [\"Files\"]}].\n"
     ]
    },
    {
     "name": "stdout",
     "output_type": "stream",
     "text": [
      "4065b98fdcb17a081759061306239c8b\n",
      "6d5fb801b890bfa7cc737c018e87e456\n"
     ]
    },
    {
     "name": "stderr",
     "output_type": "stream",
     "text": [
      "INFO:root:Listing Indicators with filters [{\"key\": \"indicator_pattern\", \"values\": [\"Files\"]}].\n",
      "INFO:root:Listing Indicators with filters [{\"key\": \"indicator_pattern\", \"values\": [\"Files\"]}].\n"
     ]
    },
    {
     "name": "stdout",
     "output_type": "stream",
     "text": [
      "14bf72167b4e801da205ecf9c0c55f9b\n",
      "6ee4e08e6ab51208757fdc41d0e72846\n"
     ]
    },
    {
     "name": "stderr",
     "output_type": "stream",
     "text": [
      "INFO:root:Listing Indicators with filters [{\"key\": \"indicator_pattern\", \"values\": [\"Files\"]}].\n",
      "INFO:root:Listing Indicators with filters [{\"key\": \"indicator_pattern\", \"values\": [\"Files\"]}].\n"
     ]
    },
    {
     "name": "stdout",
     "output_type": "stream",
     "text": [
      "10f193f825ada183fcfd067434ca269e\n",
      "32522cdc17a145486e26f35bdd524e7e\n"
     ]
    },
    {
     "name": "stderr",
     "output_type": "stream",
     "text": [
      "INFO:root:Listing Indicators with filters [{\"key\": \"indicator_pattern\", \"values\": [\"Files\"]}].\n",
      "INFO:root:Listing Indicators with filters [{\"key\": \"indicator_pattern\", \"values\": [\"Files\"]}].\n"
     ]
    },
    {
     "name": "stdout",
     "output_type": "stream",
     "text": [
      "8718ab5c1683a69c4e6092fdcb32cfa2\n",
      "80dad66d6224d18babd9ada4a26aee75\n"
     ]
    },
    {
     "name": "stderr",
     "output_type": "stream",
     "text": [
      "INFO:root:Listing Indicators with filters [{\"key\": \"indicator_pattern\", \"values\": [\"Files\"]}].\n",
      "INFO:root:Listing Indicators with filters [{\"key\": \"indicator_pattern\", \"values\": [\"Files\"]}].\n"
     ]
    },
    {
     "name": "stdout",
     "output_type": "stream",
     "text": [
      "3d91d9df315ffeb9bb1c774452b3114b\n",
      "E25DBA0556124D7874D8416DE291CFE2\n"
     ]
    },
    {
     "name": "stderr",
     "output_type": "stream",
     "text": [
      "INFO:root:Listing Indicators with filters [{\"key\": \"indicator_pattern\", \"values\": [\"Files\"]}].\n",
      "INFO:root:Listing Indicators with filters [{\"key\": \"indicator_pattern\", \"values\": [\"Files\"]}].\n"
     ]
    },
    {
     "name": "stdout",
     "output_type": "stream",
     "text": [
      "829b78f1d1e74c2c5343a0aebb51f519\n",
      "c4a05230a898d91b30c88d52b3f069b3\n"
     ]
    },
    {
     "name": "stderr",
     "output_type": "stream",
     "text": [
      "INFO:root:Listing Indicators with filters [{\"key\": \"indicator_pattern\", \"values\": [\"Files\"]}].\n",
      "INFO:root:Listing Indicators with filters [{\"key\": \"indicator_pattern\", \"values\": [\"Files\"]}].\n"
     ]
    },
    {
     "name": "stdout",
     "output_type": "stream",
     "text": [
      "832f5e01be536da71d5b3f7e41938cfb\n",
      "cb3dcde34fd9ff0e19381d99b02f9692\n"
     ]
    },
    {
     "name": "stderr",
     "output_type": "stream",
     "text": [
      "INFO:root:Listing Indicators with filters [{\"key\": \"indicator_pattern\", \"values\": [\"Files\"]}].\n",
      "INFO:root:Listing Indicators with filters [{\"key\": \"indicator_pattern\", \"values\": [\"Files\"]}].\n"
     ]
    },
    {
     "name": "stdout",
     "output_type": "stream",
     "text": [
      "16e627dbe730488b1c3d448bfc9096e2\n",
      "4ab6bf7e6796bb930be2dd0141128d06\n"
     ]
    },
    {
     "name": "stderr",
     "output_type": "stream",
     "text": [
      "INFO:root:Listing Indicators with filters [{\"key\": \"indicator_pattern\", \"values\": [\"Files\"]}].\n",
      "INFO:root:Listing Indicators with filters [{\"key\": \"indicator_pattern\", \"values\": [\"Files\"]}].\n"
     ]
    },
    {
     "name": "stdout",
     "output_type": "stream",
     "text": [
      "00a95fb30be2d6271c491545f6c6a707\n",
      "53baedf3765e27fb465057c48387c9b6\n"
     ]
    },
    {
     "name": "stderr",
     "output_type": "stream",
     "text": [
      "INFO:root:Listing Indicators with filters [{\"key\": \"indicator_pattern\", \"values\": [\"Files\"]}].\n",
      "INFO:root:Listing Indicators with filters [{\"key\": \"indicator_pattern\", \"values\": [\"Files\"]}].\n"
     ]
    },
    {
     "name": "stdout",
     "output_type": "stream",
     "text": [
      "06da4eb2ab6412c0dc7f295920eb61c4\n",
      "eaa6e03d9dae356481215e3a9d2914dc\n"
     ]
    },
    {
     "name": "stderr",
     "output_type": "stream",
     "text": [
      "INFO:root:Listing Indicators with filters [{\"key\": \"indicator_pattern\", \"values\": [\"Files\"]}].\n",
      "INFO:root:Listing Indicators with filters [{\"key\": \"indicator_pattern\", \"values\": [\"Files\"]}].\n"
     ]
    },
    {
     "name": "stdout",
     "output_type": "stream",
     "text": [
      "f6fafb7c30b1114befc93f39d0698560\n",
      "73f493f6a2b0da23a79b50765c164e88\n"
     ]
    },
    {
     "name": "stderr",
     "output_type": "stream",
     "text": [
      "INFO:root:Listing Indicators with filters [{\"key\": \"indicator_pattern\", \"values\": [\"Files\"]}].\n",
      "INFO:root:Listing Indicators with filters [{\"key\": \"indicator_pattern\", \"values\": [\"Files\"]}].\n"
     ]
    },
    {
     "name": "stdout",
     "output_type": "stream",
     "text": [
      "f9cfda6062a8ac9e332186a7ec0e706a\n",
      "499bec15ac83f2c8998f03917b63652e\n"
     ]
    }
   ],
   "source": [
    "df = df.where(df.notnull(), None)\n",
    "for index,row in df.iterrows():\n",
    "    print(row['name'])\n",
    "    indicator = opencti_api_client.indicator.create(\n",
    "                    name=row['name'],\n",
    "                    description= row['description'],\n",
    "                    pattern_type= row['pattern_type'],\n",
    "                    indicator_pattern= row ['main_observable_type'],\n",
    "                    main_observable_type=\"File\",\n",
    ")"
   ]
  },
  {
   "cell_type": "code",
   "execution_count": 37,
   "metadata": {},
   "outputs": [
    {
     "name": "stderr",
     "output_type": "stream",
     "text": [
      "INFO:root:Listing StixObservables with filters [{\"key\": \"observable_value\", \"values\": [\"832f5e01be536da71d5b3f7e41938cfb\"]}].\n"
     ]
    },
    {
     "data": {
      "text/plain": [
       "{'id': '3fe8ef01-d3eb-4458-b094-3e24f81eaf5b',\n",
       " 'stix_id_key': 'observable--e6c0e3af-08c3-4608-916f-b962d040e38d',\n",
       " 'entity_type': 'file-md5',\n",
       " 'name': '',\n",
       " 'description': None,\n",
       " 'observable_value': '832f5e01be536da71d5b3f7e41938cfb',\n",
       " 'created_at': '2020-02-04T06:09:03.524Z',\n",
       " 'updated_at': '2020-02-04T06:09:03.524Z',\n",
       " 'createdByRef': None,\n",
       " 'tags': [],\n",
       " 'markingDefinitions': [],\n",
       " 'externalReferences': [],\n",
       " 'indicators': [],\n",
       " 'markingDefinitionsIds': [],\n",
       " 'tagsIds': [],\n",
       " 'externalReferencesIds': [],\n",
       " 'indicatorsIds': []}"
      ]
     },
     "execution_count": 37,
     "metadata": {},
     "output_type": "execute_result"
    }
   ],
   "source": [
    "opencti_api_client.stix_observable.create(type = 'File-MD5', observable_value = '832f5e01be536da71d5b3f7e41938cfb' ,create_indicator = True ,update =True)"
   ]
  },
  {
   "cell_type": "code",
   "execution_count": 40,
   "metadata": {},
   "outputs": [
    {
     "name": "stderr",
     "output_type": "stream",
     "text": [
      "INFO:root:Reading Indicator {8b93a60d-1c67-47ee-a63b-9303f50e528a}.\n"
     ]
    },
    {
     "data": {
      "text/plain": [
       "{'id': '8b93a60d-1c67-47ee-a63b-9303f50e528a',\n",
       " 'stix_id_key': 'indicator--e8d6ace0-f621-433a-a00c-a66d5c67a778',\n",
       " 'stix_label': None,\n",
       " 'entity_type': 'indicator',\n",
       " 'parent_types': ['Indicator', 'Stix-Domain-Entity', 'Stix-Domain'],\n",
       " 'name': '3c4cc5bf-a356-4ad3-97fa-314ffdfa3d27',\n",
       " 'alias': [''],\n",
       " 'description': 'Simple indicator of observable {3c4cc5bf-a356-4ad3-97fa-314ffdfa3d27}',\n",
       " 'graph_data': None,\n",
       " 'indicator_pattern': \"[file:hashes.MD5 = '3c4cc5bf-a356-4ad3-97fa-314ffdfa3d27']\",\n",
       " 'pattern_type': 'stix',\n",
       " 'valid_from': '2020-02-04T06:12:49.301Z',\n",
       " 'valid_until': '2021-02-03T06:12:49.301Z',\n",
       " 'score': 50,\n",
       " 'created': '2020-02-04T06:12:49.304Z',\n",
       " 'modified': '2020-02-04T06:12:49.304Z',\n",
       " 'created_at': '2020-02-04T06:12:49.304Z',\n",
       " 'updated_at': '2020-02-04T06:12:49.304Z',\n",
       " 'killChainPhases': [],\n",
       " 'createdByRef': None,\n",
       " 'markingDefinitions': [],\n",
       " 'tags': [],\n",
       " 'externalReferences': [],\n",
       " 'observableRefs': [{'id': 'b79d5653-e48b-4e25-a50b-edab0cbd74e3',\n",
       "   'entity_type': 'file-md5',\n",
       "   'stix_id_key': 'observable--feaac992-3ca5-4188-a80c-763f7a3df604',\n",
       "   'observable_value': '3c4cc5bf-a356-4ad3-97fa-314ffdfa3d27',\n",
       "   'remote_relation_id': '64f1f11b-f509-5424-9649-d5da07d6bacd',\n",
       "   'createdByRef': None}],\n",
       " 'markingDefinitionsIds': [],\n",
       " 'tagsIds': [],\n",
       " 'killChainPhasesIds': [],\n",
       " 'externalReferencesIds': [],\n",
       " 'observableRefsIds': ['b79d5653-e48b-4e25-a50b-edab0cbd74e3']}"
      ]
     },
     "execution_count": 40,
     "metadata": {},
     "output_type": "execute_result"
    }
   ],
   "source": [
    "opencti_api_client.indicator.read( id ='8b93a60d-1c67-47ee-a63b-9303f50e528a')"
   ]
  },
  {
   "cell_type": "code",
   "execution_count": null,
   "metadata": {},
   "outputs": [],
   "source": []
  },
  {
   "cell_type": "code",
   "execution_count": null,
   "metadata": {},
   "outputs": [],
   "source": []
  },
  {
   "cell_type": "code",
   "execution_count": 21,
   "metadata": {},
   "outputs": [
    {
     "name": "stderr",
     "output_type": "stream",
     "text": [
      "INFO:root:Reading StixObservable {061e162c-4828-4c0c-9719-3635a495f6dc}.\n"
     ]
    },
    {
     "data": {
      "text/plain": [
       "{'id': '061e162c-4828-4c0c-9719-3635a495f6dc',\n",
       " 'stix_id_key': 'observable--efe26ed8-7cd0-4905-8042-420bfff85904',\n",
       " 'entity_type': 'file-sha1',\n",
       " 'name': '75f8d20bc17457a3c16557de473b48add3cf0da9',\n",
       " 'description': 'Automatically added (via 9c4001008a4cb148396fa39651818fb3b480dc35c7bc83ebfee7bac7d586631e)',\n",
       " 'observable_value': '75f8d20bc17457a3c16557de473b48add3cf0da9',\n",
       " 'created_at': '2020-01-30T09:59:21.571Z',\n",
       " 'updated_at': '2020-01-30T09:59:21.571Z',\n",
       " 'createdByRef': {'id': '2e0562f3-a790-4b18-9696-8a602d29d380',\n",
       "  'entity_type': 'organization',\n",
       "  'stix_id_key': 'identity--65a61e6d-d108-44b6-86cb-a60c585d1e5a',\n",
       "  'stix_label': None,\n",
       "  'name': 'CIRCL',\n",
       "  'alias': [''],\n",
       "  'description': '',\n",
       "  'created': '2020-01-22T23:40:04.261Z',\n",
       "  'modified': '2020-01-23T00:00:14.579Z',\n",
       "  'organization_class': 'vendor',\n",
       "  'remote_relation_id': '6dd0b8f8-9ad2-5e78-b87d-889e079ca517'},\n",
       " 'tags': [],\n",
       " 'markingDefinitions': [{'id': '69453140-b729-45e1-87fd-98134d2eac73',\n",
       "   'entity_type': 'marking-definition',\n",
       "   'stix_id_key': 'marking-definition--34098fce-860f-48ae-8e50-ebd3cc5e41da',\n",
       "   'definition_type': 'TLP',\n",
       "   'definition': 'TLP:GREEN',\n",
       "   'level': 2,\n",
       "   'color': '#2e7d32',\n",
       "   'created': '2020-01-22T19:30:49.000Z',\n",
       "   'modified': '2020-01-22T19:30:49.000Z',\n",
       "   'remote_relation_id': '563f2bd8-6fa1-5273-bf41-ded9ded4d6d6',\n",
       "   'createdByRef': None},\n",
       "  {'id': '41f90184-7fcb-412f-8fa4-567c3346f0d6',\n",
       "   'entity_type': 'marking-definition',\n",
       "   'stix_id_key': 'marking-definition--613f2e26-407d-48c7-9eca-b8e91df99dc9',\n",
       "   'definition_type': 'TLP',\n",
       "   'definition': 'TLP:WHITE',\n",
       "   'level': 1,\n",
       "   'color': '#ffffff',\n",
       "   'created': '2020-01-22T19:30:46.000Z',\n",
       "   'modified': '2020-01-22T19:30:46.000Z',\n",
       "   'remote_relation_id': '64c02fd1-137e-5697-9f1f-97ba67c42e87',\n",
       "   'createdByRef': None}],\n",
       " 'externalReferences': [],\n",
       " 'indicators': [{'id': 'f750b647-af85-4005-8938-03dd16074bb7',\n",
       "   'entity_type': 'indicator',\n",
       "   'stix_id_key': 'indicator--fc7c81ee-c2d2-4124-b926-ded66d617c45',\n",
       "   'valid_from': '2016-02-18T21:04:02.000Z',\n",
       "   'valid_until': '2017-02-17T21:04:02.000Z',\n",
       "   'score': 50,\n",
       "   'pattern_type': 'stix',\n",
       "   'indicator_pattern': \"[file:hashes.SHA1 = '75f8d20bc17457a3c16557de473b48add3cf0da9']\",\n",
       "   'created': '2020-01-29T02:12:39.616Z',\n",
       "   'modified': '2020-01-29T02:12:39.616Z',\n",
       "   'remote_relation_id': '7de2eccd-da84-57b7-a2f9-137f73adbde9',\n",
       "   'createdByRef': None}],\n",
       " 'markingDefinitionsIds': ['69453140-b729-45e1-87fd-98134d2eac73',\n",
       "  '41f90184-7fcb-412f-8fa4-567c3346f0d6'],\n",
       " 'tagsIds': [],\n",
       " 'externalReferencesIds': [],\n",
       " 'indicatorsIds': ['f750b647-af85-4005-8938-03dd16074bb7']}"
      ]
     },
     "execution_count": 21,
     "metadata": {},
     "output_type": "execute_result"
    }
   ],
   "source": [
    "opencti_api_client.stix_observable.read(id = '061e162c-4828-4c0c-9719-3635a495f6dc')\n"
   ]
  },
  {
   "cell_type": "code",
   "execution_count": null,
   "metadata": {},
   "outputs": [],
   "source": [
    "main_dict={'fakeapt12': 'f55ab06f-da9c-417f-bcd5-5127e4bd459b',\n",
    "  'Spear phishing': 'fa1fd76f-4535-45e3-9e0b-86b3c5b98a24',\n",
    "  'Exploitation for Client Execution': 'ed27d3c8-e054-49ff-80d1-19c0d72dc286',\n",
    "  'Spearphishing attachment': '3a2e89b6-4dbd-4172-8340-b424dff022f9',\n",
    "  'User Execution': 'aa4dac29-3d7a-449c-9455-28977b7f27a2',\n",
    "  'Web Service': '3b5277c0-34c5-4371-8516-3aeee9c14d69',\n",
    "  'Command-Line Interface': '7aa0b906-0670-4d97-a0f3-00fb626856d4',\n",
    "  'Commonly Used Port': 'fab5312a-b85a-4b52-961c-a18deed6a0ef',\n",
    "  'Data from Local System': '97d127c9-761b-422f-b2af-f162779e2c72',\n",
    "  'Data Obfuscation': 'd1aa53d0-9808-4325-b46a-612b83212b4a',\n",
    "  'File and Directory Discovery': '3b6464bf-890d-494a-835f-f5f8cc4b2d58',\n",
    "  'File Deletion': '5d0c505b-999d-4039-8e18-a704b234f972',\n",
    "  'Hidden Files and Directories': '7df7f45d-47f9-4e60-b984-a12cfcd4e034',\n",
    "  'Masquerading': 'ba2deef8-4c2f-4346-b412-36a148697fec',\n",
    "  'Process Discovery': '637c1675-6cff-479b-abf2-a6828ee06f49',\n",
    "  'Registry Run Keys / Startup Folder': 'cdc06ba5-99f3-4023-9534-2aa2e2d033f6',\n",
    "  'Remote File Copy': 'bffaec7e-4751-41d7-a700-03d3131e6ce6',\n",
    "  'Standard Application Layer Protocol': '746fa63c-2c4a-48aa-b7a9-50433725ecd7',\n",
    "  'System Information Discovery': '0f4235bc-d348-4228-bf8c-59bef3d57c6c',\n",
    "  'System Network Configuration Discovery': '63d0b6b7-3720-42f4-96ab-d6e46c3c133d',\n",
    "  'System Owner/User Discovery': 'c6728d7c-2822-43ff-be59-80b7d6c5a033',\n",
    "  'System Service Discovery': '7f54a4d8-f454-4a48-a510-be07ff5d2f93',\n",
    "  'Standard Cryptographic Protocol': '213b60fb-44e3-46f0-ab02-faae8ce62653',\n",
    "  'Connection Proxy': '079578de-fe65-45f2-b0d7-882f8f0b1f4b',\n",
    "  'Process Injection': '06e637be-7ca5-4750-8ac3-de6d82fdd174',\n",
    "  'Rootkit': 'b7e54f8e-1390-4eec-81fa-7fe83f7b8b18',\n",
    "  'Ixeshe': '96d9e9c1-c06c-490f-9453-d578c93e14ba',\n",
    "  'Aumlib': '5cf859fe-b7bc-4a2a-a7f1-6a7e22dd00cf',\n",
    "  'Threebyte': '6d53e9e7-9c6f-43a7-ad6c-1def2eee030e',\n",
    "  'Hightide': '8a91cd27-e581-45e8-bf55-26084bcfdaad',\n",
    "  'Waterspout': 'f15bce7b-e2cd-49e9-8001-2d6fdd94d4e0',\n",
    "  'HTRAN': 'ad08da3f-5f3c-44a6-81ff-9082ef710e4c',\n",
    "  'CVE-2009-4324': '7b22dff2-486b-402b-b338-c67950a59126',\n",
    "  'CVE-2009-0927': '671c5891-435c-416d-8576-8b4e7237a354',\n",
    "  'CVE-2011-0609': '116e96f5-675e-4271-ad95-ab324db18dce',\n",
    "  'CVE-2011-0611': '2c0765b3-c1ba-4e19-81a5-0149be5d55b2',\n",
    "  'CVE-2009-3129': '3f3c06e1-c26d-447f-917d-70d8c998b284',\n",
    "  'CVE-2012-0158': '95e3a6fc-aba3-432e-9a33-3be79d0b5e62'}"
   ]
  },
  {
   "cell_type": "code",
   "execution_count": 26,
   "metadata": {},
   "outputs": [
    {
     "name": "stderr",
     "output_type": "stream",
     "text": [
      "INFO:root:Listing Stix-Domain-Entities with filters [{\"key\": \"name\", \"values\": [\"My new Intrusion Set\"]}].\n",
      "INFO:root:{\"errors\":[{\"message\":\"Cannot query field \\\"observableRefs\\\" on type \\\"Incident\\\".\",\"locations\":[{\"line\":126,\"column\":17}],\"extensions\":{\"code\":\"GRAPHQL_VALIDATION_FAILED\"}}]}\n",
      "\n"
     ]
    },
    {
     "ename": "TypeError",
     "evalue": "'NoneType' object is not subscriptable",
     "output_type": "error",
     "traceback": [
      "\u001b[1;31m---------------------------------------------------------------------------\u001b[0m",
      "\u001b[1;31mTypeError\u001b[0m                                 Traceback (most recent call last)",
      "\u001b[1;32m<ipython-input-26-660958540f94>\u001b[0m in \u001b[0;36m<module>\u001b[1;34m\u001b[0m\n\u001b[0;32m      4\u001b[0m     \u001b[0mfirst_seen\u001b[0m\u001b[1;33m=\u001b[0m\u001b[0mdatetime\u001b[0m\u001b[1;33m.\u001b[0m\u001b[0mdate\u001b[0m\u001b[1;33m.\u001b[0m\u001b[0mtoday\u001b[0m\u001b[1;33m(\u001b[0m\u001b[1;33m)\u001b[0m\u001b[1;33m.\u001b[0m\u001b[0mstrftime\u001b[0m\u001b[1;33m(\u001b[0m\u001b[1;34m\"%Y-%m-%dT%H:%M:%S+00:00\"\u001b[0m\u001b[1;33m)\u001b[0m\u001b[1;33m,\u001b[0m\u001b[1;33m\u001b[0m\u001b[1;33m\u001b[0m\u001b[0m\n\u001b[0;32m      5\u001b[0m     \u001b[0mlast_seen\u001b[0m\u001b[1;33m=\u001b[0m\u001b[0mdatetime\u001b[0m\u001b[1;33m.\u001b[0m\u001b[0mdate\u001b[0m\u001b[1;33m.\u001b[0m\u001b[0mtoday\u001b[0m\u001b[1;33m(\u001b[0m\u001b[1;33m)\u001b[0m\u001b[1;33m.\u001b[0m\u001b[0mstrftime\u001b[0m\u001b[1;33m(\u001b[0m\u001b[1;34m\"%Y-%m-%dT%H:%M:%S+00:00\"\u001b[0m\u001b[1;33m)\u001b[0m\u001b[1;33m,\u001b[0m\u001b[1;33m\u001b[0m\u001b[1;33m\u001b[0m\u001b[0m\n\u001b[1;32m----> 6\u001b[1;33m     \u001b[0mupdate\u001b[0m\u001b[1;33m=\u001b[0m\u001b[1;32mTrue\u001b[0m\u001b[1;33m,\u001b[0m\u001b[1;33m\u001b[0m\u001b[1;33m\u001b[0m\u001b[0m\n\u001b[0m\u001b[0;32m      7\u001b[0m )\n",
      "\u001b[1;32mC:\\ProgramData\\Anaconda3\\lib\\site-packages\\pycti\\entities\\opencti_intrusion_set.py\u001b[0m in \u001b[0;36mcreate\u001b[1;34m(self, **kwargs)\u001b[0m\n",
      "\u001b[1;32mC:\\ProgramData\\Anaconda3\\lib\\site-packages\\pycti\\entities\\opencti_stix_domain_entity.py\u001b[0m in \u001b[0;36mget_by_stix_id_or_name\u001b[1;34m(self, **kwargs)\u001b[0m\n",
      "\u001b[1;32mC:\\ProgramData\\Anaconda3\\lib\\site-packages\\pycti\\entities\\opencti_stix_domain_entity.py\u001b[0m in \u001b[0;36mread\u001b[1;34m(self, **kwargs)\u001b[0m\n",
      "\u001b[1;32mC:\\ProgramData\\Anaconda3\\lib\\site-packages\\pycti\\entities\\opencti_stix_domain_entity.py\u001b[0m in \u001b[0;36mlist\u001b[1;34m(self, **kwargs)\u001b[0m\n",
      "\u001b[1;31mTypeError\u001b[0m: 'NoneType' object is not subscriptable"
     ]
    }
   ],
   "source": [
    "intrusion_set = opencti_api_client.intrusion_set.create(\n",
    "    name=\"My new Intrusion Set\",\n",
    "    description=\"Evil Cluster\",\n",
    "    first_seen=datetime.date.today().strftime(\"%Y-%m-%dT%H:%M:%S+00:00\"),\n",
    "    last_seen=datetime.date.today().strftime(\"%Y-%m-%dT%H:%M:%S+00:00\"),\n",
    "    update=True,\n",
    ")"
   ]
  },
  {
   "cell_type": "code",
   "execution_count": 11,
   "metadata": {},
   "outputs": [
    {
     "name": "stderr",
     "output_type": "stream",
     "text": [
      "INFO:root:Reading StixObservable {ce4664ee-b323-4b79-a72b-e05ef9278ab6}.\n"
     ]
    },
    {
     "data": {
      "text/plain": [
       "{'id': 'ce4664ee-b323-4b79-a72b-e05ef9278ab6',\n",
       " 'stix_id_key': 'observable--2945ea37-d547-4f0f-b34f-376363422f97',\n",
       " 'entity_type': 'file-sha256',\n",
       " 'name': '3603abdb3a307872b8bad338640095b65ca59439a34a372584073ff794a306e3',\n",
       " 'description': 'Sample',\n",
       " 'observable_value': '3603abdb3a307872b8bad338640095b65ca59439a34a372584073ff794a306e3',\n",
       " 'created_at': '2020-02-02T01:59:21.917Z',\n",
       " 'updated_at': '2020-02-02T01:59:21.917Z',\n",
       " 'createdByRef': {'id': '2e0562f3-a790-4b18-9696-8a602d29d380',\n",
       "  'entity_type': 'organization',\n",
       "  'stix_id_key': 'identity--65a61e6d-d108-44b6-86cb-a60c585d1e5a',\n",
       "  'stix_label': None,\n",
       "  'name': 'CIRCL',\n",
       "  'alias': [''],\n",
       "  'description': '',\n",
       "  'created': '2020-01-22T23:40:04.261Z',\n",
       "  'modified': '2020-01-23T00:00:14.579Z',\n",
       "  'organization_class': 'vendor',\n",
       "  'remote_relation_id': '8bbef61e-a0ed-56db-95b2-601a126f7738'},\n",
       " 'tags': [],\n",
       " 'markingDefinitions': [{'id': '41f90184-7fcb-412f-8fa4-567c3346f0d6',\n",
       "   'entity_type': 'marking-definition',\n",
       "   'stix_id_key': 'marking-definition--613f2e26-407d-48c7-9eca-b8e91df99dc9',\n",
       "   'definition_type': 'TLP',\n",
       "   'definition': 'TLP:WHITE',\n",
       "   'level': 1,\n",
       "   'color': '#ffffff',\n",
       "   'created': '2020-01-22T19:30:46.000Z',\n",
       "   'modified': '2020-01-22T19:30:46.000Z',\n",
       "   'remote_relation_id': '1aecb7af-0652-5f92-adae-28fe698f597e',\n",
       "   'createdByRef': None}],\n",
       " 'externalReferences': [],\n",
       " 'indicators': [{'id': '8928c356-c5cc-473f-a3e5-d4200eec99b1',\n",
       "   'entity_type': 'indicator',\n",
       "   'stix_id_key': 'indicator--8a573ffe-9157-4bca-b736-a99f7255ff01',\n",
       "   'valid_from': '2016-07-05T20:27:26.000Z',\n",
       "   'valid_until': '2017-07-05T20:27:26.000Z',\n",
       "   'score': 50,\n",
       "   'pattern_type': 'stix',\n",
       "   'indicator_pattern': \"[file:hashes.SHA256 = '3603abdb3a307872b8bad338640095b65ca59439a34a372584073ff794a306e3']\",\n",
       "   'created': '2020-01-31T02:12:42.190Z',\n",
       "   'modified': '2020-01-31T02:12:42.190Z',\n",
       "   'remote_relation_id': '4747d50e-586a-5d74-9af3-f2b618123965',\n",
       "   'createdByRef': None}],\n",
       " 'markingDefinitionsIds': ['41f90184-7fcb-412f-8fa4-567c3346f0d6'],\n",
       " 'tagsIds': [],\n",
       " 'externalReferencesIds': [],\n",
       " 'indicatorsIds': ['8928c356-c5cc-473f-a3e5-d4200eec99b1']}"
      ]
     },
     "execution_count": 11,
     "metadata": {},
     "output_type": "execute_result"
    }
   ],
   "source": [
    "opencti_api_client.stix_observable.read ( id ='ce4664ee-b323-4b79-a72b-e05ef9278ab6')"
   ]
  },
  {
   "cell_type": "code",
   "execution_count": null,
   "metadata": {},
   "outputs": [],
   "source": []
  },
  {
   "cell_type": "code",
   "execution_count": null,
   "metadata": {},
   "outputs": [],
   "source": []
  },
  {
   "cell_type": "code",
   "execution_count": null,
   "metadata": {},
   "outputs": [],
   "source": []
  },
  {
   "cell_type": "code",
   "execution_count": null,
   "metadata": {},
   "outputs": [],
   "source": []
  },
  {
   "cell_type": "code",
   "execution_count": null,
   "metadata": {},
   "outputs": [],
   "source": []
  },
  {
   "cell_type": "code",
   "execution_count": null,
   "metadata": {},
   "outputs": [],
   "source": []
  },
  {
   "cell_type": "code",
   "execution_count": null,
   "metadata": {},
   "outputs": [],
   "source": []
  },
  {
   "cell_type": "code",
   "execution_count": null,
   "metadata": {},
   "outputs": [],
   "source": []
  },
  {
   "cell_type": "code",
   "execution_count": null,
   "metadata": {},
   "outputs": [],
   "source": []
  },
  {
   "cell_type": "code",
   "execution_count": null,
   "metadata": {},
   "outputs": [],
   "source": []
  },
  {
   "cell_type": "code",
   "execution_count": null,
   "metadata": {},
   "outputs": [],
   "source": []
  },
  {
   "cell_type": "code",
   "execution_count": null,
   "metadata": {},
   "outputs": [],
   "source": []
  },
  {
   "cell_type": "code",
   "execution_count": null,
   "metadata": {},
   "outputs": [],
   "source": []
  },
  {
   "cell_type": "code",
   "execution_count": null,
   "metadata": {},
   "outputs": [],
   "source": []
  },
  {
   "cell_type": "code",
   "execution_count": null,
   "metadata": {},
   "outputs": [],
   "source": [
    "#add self\n",
    "def create_relationships(relation_path,report ='2dc633ee-3a27-48c1-900f-58428765ea55'):\n",
    "    \n",
    "    relation_details= pd.read_excel(relation_path,sheet_name='threat_actor_relations')\n",
    "    relation_details = relation_details.where(relation_details.notnull(), None)\n",
    "    \n",
    "    df=relation_details.copy()\n",
    "    df['to'] = [str(i).strip() for i in df['to']]\n",
    "    df['to']=df['to'].map(main_dict)\n",
    "    df['from']=df['from'].map(main_dict)\n",
    "    \n",
    "    df = df.where(df.notnull(), None)\n",
    "    \n",
    "    \n",
    "    for index,row in df.iterrows():\n",
    "        \n",
    "        if ((row['from']) is not None ) & ((row['to']) is not None ):\n",
    "        \n",
    "                print(row['from'])\n",
    "                print(row['to'])\n",
    "                relation = opencti_api_client.stix_relation.create(\n",
    "                fromType= opencti_api_client.get_stix_domain_entity (id =row['from'])['entity_type'],\n",
    "                fromId=row['from'],\n",
    "                relationship_type = row['relation'],\n",
    "                toType=opencti_api_client.get_stix_domain_entity (row['to'])['entity_type'],\n",
    "                toId= row ['to'],\n",
    "                )\n",
    "        \n",
    "                opencti_api_client.report.add_stix_entity(id=report,entity_id = relation['id'] )"
   ]
  },
  {
   "cell_type": "code",
   "execution_count": null,
   "metadata": {},
   "outputs": [],
   "source": [
    "#add self\n",
    "def create_relationships(relation_path,report ='2dc633ee-3a27-48c1-900f-58428765ea55'):\n",
    "    \n",
    "    relation_details= pd.read_excel(relation_path,sheet_name='threat_actor_relations')\n",
    "    relation_details = relation_details.where(relation_details.notnull(), None)\n",
    "    \n",
    "    df=relation_details.copy()\n",
    "    df['to'] = [str(i).strip() for i in df['to']]\n",
    "    df['to']=df['to'].map(main_dict)\n",
    "    df['from']=df['from'].map(main_dict)\n",
    "    \n",
    "    df = df.where(df.notnull(), None)\n",
    "    \n",
    "    \n",
    "    for index,row in df.iterrows():\n",
    "        \n",
    "        if ((row['from']) is not None ) & ((row['to']) is not None ):\n",
    "        \n",
    "                print(row['from'])\n",
    "                print(row['to'])\n",
    "                relation = opencti_api_client.stix_relation.create(\n",
    "                fromType= opencti_api_client.get_stix_domain_entity (id =row['from'])['entity_type'],\n",
    "                fromId=row['from'],\n",
    "                relationship_type = row['relation'],\n",
    "                toType=opencti_api_client.get_stix_domain_entity (row['to'])['entity_type'],\n",
    "                toId= row ['to'],\n",
    "                )\n",
    "        \n",
    "                opencti_api_client.report.add_stix_entity(id=report,entity_id = relation['id'] )"
   ]
  },
  {
   "cell_type": "code",
   "execution_count": null,
   "metadata": {},
   "outputs": [],
   "source": [
    "def create_tool(self,by,report):           #malware insertion    \n",
    "            \n",
    "            tool_details = pd.read_excel(self.report_path,sheet_name = 'tool')\n",
    "            tool_details = tool_details.where(tool_details.notnull(), None)\n",
    "            \n",
    "            for index,row in tool_details.iterrows():\n",
    "            \n",
    "                if row['alias'] is not None:\n",
    "                    aliases =row['alias'].split(',')\n",
    "                    print(aliases)\n",
    "                else:\n",
    "                    aliases = None\n",
    "                \n",
    "                exist = opencti_api_client.tool.list ( filters=[{'key' : 'name' , 'values' : row['name']}])\n",
    "            \n",
    "                if (len(exist) > 0):\n",
    "                    tool = opencti_api_client.tool.create(\n",
    "                                                name = row['name'],\n",
    "                                                description = row['description'],\n",
    "                                                alias = aliases ,\n",
    "                                                modified = datetime.date.today().strftime(\"%Y-%m-%dT%H:%M:%S+00:00\") ,\n",
    "                                                createdByRef = by,\n",
    "                                                )\n",
    "                else:\n",
    "                     tool = opencti_api_client.tool.create(\n",
    "                                                name = row['name'],\n",
    "                                                description = row['description'],\n",
    "                                                alias = aliases ,\n",
    "                                                modified = datetime.date.today().strftime(\"%Y-%m-%dT%H:%M:%S+00:00\") ,\n",
    "                                                update = True,\n",
    "                                                 )\n",
    "                if row['marking_definitions'] is not None:\n",
    "                        self.add_mark_def(stix_id=tool['id'],row=row)\n",
    "                        \n",
    "                opencti_api_client.report.add_stix_entity(id=report,entity_id = tool['id'] )"
   ]
  },
  {
   "cell_type": "code",
   "execution_count": null,
   "metadata": {},
   "outputs": [],
   "source": [
    "def create_report(self,report_by):\n",
    "\n",
    "    report_details=pd.read_excel(self.report_path,sheet_name = 'report')\n",
    "    report_by = opencti_api_client.identity.read(filters=[{'key':'name','values': report_by }])\n",
    "    \n",
    "    if report_by is None: \n",
    "        warnings.warn(\"Since \" + report_by + \" is not inserted in opencti.Rhymtechnologies is taken as default\")\n",
    "        report_by = organization = opencti_api_client.identity.create(\n",
    "                                    type='Organization',\n",
    "                                    name=\"Rhymtechnologies\",\n",
    "                                    alias=[\"Rhymtech\"],\n",
    "                                    description=\"A young and innovative company formed with a vision to create world leading Cyber Security products and services. The promoters are a group of highly successful professionals with diverse backgrounds across IT Delivery, Sales and Consulting, Cyber Security, Artificial Intelligence, Machine Learning and Data Sciences. Our group of consultants led by some of the best minds in the industry have successfully provided strategic and value-add services for multiple large organizations globally.\",\n",
    "                                    )\n",
    "                        \n",
    "    \n",
    "    \n",
    "    for index,row in report_details.iterrows():\n",
    "        \n",
    "        date = parse(row['published']).strftime(\"%Y-%m-%dT%H:%M:%SZ\")\n",
    "        if source_confidence_level is None:\n",
    "                    report = opencti_api_client.report.create(\n",
    "                                                    name=row['name'],\n",
    "                                                    description= row['description'],\n",
    "                                                    report_class=\"Internal Report\",\n",
    "                                                    published=date,\n",
    "                                                    createdByRef= report_by['id'],\n",
    "                                                    object_status = 0,\n",
    "                                                    update = True,\n",
    "                                                    )\n",
    "        else:\n",
    "             report = opencti_api_client.report.create(\n",
    "                                                    name=row['name'],\n",
    "                                                    description= row['description'],\n",
    "                                                    report_class=\"Internal Report\",\n",
    "                                                    published=date,\n",
    "                                                    createdByRef= report_by['id'],\n",
    "                                                    object_status = row['object_status'],\n",
    "                                                    source_confidence_level = row ['source_confidence_level'],\n",
    "                                                    update = True,\n",
    "                                                    )\n"
   ]
  },
  {
   "cell_type": "code",
   "execution_count": null,
   "metadata": {},
   "outputs": [],
   "source": [
    "create_report()"
   ]
  }
 ],
 "metadata": {
  "kernelspec": {
   "display_name": "Python 3",
   "language": "python",
   "name": "python3"
  },
  "language_info": {
   "codemirror_mode": {
    "name": "ipython",
    "version": 3
   },
   "file_extension": ".py",
   "mimetype": "text/x-python",
   "name": "python",
   "nbconvert_exporter": "python",
   "pygments_lexer": "ipython3",
   "version": "3.7.4"
  }
 },
 "nbformat": 4,
 "nbformat_minor": 2
}
