{
 "cells": [
  {
   "cell_type": "code",
   "execution_count": 686,
   "metadata": {},
   "outputs": [],
   "source": [
    "import PyPDF2\n",
    "import nltk\n",
    "import re\n",
    "import numpy as np\n",
    "from PyPDF2 import PdfFileWriter, PdfFileReader\n",
    "from nltk import sent_tokenize,word_tokenize\n",
    "from nltk.tokenize  import word_tokenize,sent_tokenize\n",
    "from nltk.stem import WordNetLemmatizer,PorterStemmer\n",
    "from nltk.probability import FreqDist\n",
    "from string import punctuation\n",
    "from nltk.corpus import stopwords\n",
    "from nltk.text import Text\n",
    "from string import punctuation\n",
    "import matplotlib.pyplot as plt\n",
    "from sklearn.feature_extraction.text import TfidfVectorizer\n",
    "from sklearn.model_selection import train_test_split\n",
    "import pandas as pd\n",
    "\n",
    "import warnings\n",
    "warnings.filterwarnings('ignore')"
   ]
  },
  {
   "cell_type": "code",
   "execution_count": 687,
   "metadata": {},
   "outputs": [],
   "source": [
    "from selenium import webdriver\n",
    "from selenium.webdriver.common.keys import Keys\n",
    "from selenium.webdriver.chrome.options import Options \n",
    "from bs4 import BeautifulSoup\n",
    "import pandas as pd\n",
    "import time\n",
    "import os\n",
    "import sys\n",
    "import time\n",
    "import shutil\n",
    "import re\n",
    "import itertools\n",
    "\n",
    "\n",
    "chrome_options = Options()\n",
    "preferences = {\"directory_upgrade\": True,\"safebrowsing.enabled\": True }\n",
    "chrome_options.add_experimental_option(\"prefs\", preferences)\n",
    "\n",
    "chrome_options.add_extension(r\"D:\\Threat_intel_services\\APT_collections\\nlp_crawling\\extension_2_7_14_0.crx\")\n",
    "driver = webdriver.Chrome(r\"D:\\RHYMcygiene\\database\\chromedriver.exe\",options=chrome_options)"
   ]
  },
  {
   "cell_type": "code",
   "execution_count": 384,
   "metadata": {},
   "outputs": [],
   "source": [
    "links=['https://www.proofpoint.com/us/threat-insight/post/unraveling-ThreadKit-new-document-exploit-builder-distribute-The-Trick-Formbook-Loki-Bot-malware',\n",
    "      'https://www.proofpoint.com/us/threat-insight/post/new-modular-downloaders-fingerprint-systems-part-3-cobint',\n",
    "      'https://malpedia.caad.fkie.fraunhofer.de/actor/cobalt',\n",
    "      'https://www.fireeye.com/blog/threat-research/2013/08/survival-of-the-fittest-new-york-times-attackers-evolve-quickly.html',\n",
    "      'https://www.sophos.com/en-us/medialibrary/PDFs/technical-papers/sophoslabs-uncut-2020-threat-report.pdf']"
   ]
  },
  {
   "cell_type": "code",
   "execution_count": 385,
   "metadata": {},
   "outputs": [],
   "source": [
    "site='https://www.printfriendly.com/'"
   ]
  },
  {
   "cell_type": "code",
   "execution_count": 361,
   "metadata": {},
   "outputs": [],
   "source": [
    "# function to extract text from all pages\n",
    "def raw_pdf(x):\n",
    "    page=[]\n",
    "    for i in  range(0,x.numPages): \n",
    "        pages=x.getPage(i) \n",
    "        story=pages.extractText() \n",
    "        k= ' '.join (story.split())\n",
    "        page.append(k)\n",
    "    return page"
   ]
  },
  {
   "cell_type": "code",
   "execution_count": 362,
   "metadata": {},
   "outputs": [],
   "source": [
    "def download_file(url, filename):\n",
    "    if not os.path.isfile(filename):\n",
    "        print('Downloading File')\n",
    "        response = requests.get(url)\n",
    "        if response.status_code == 200:\n",
    "            with open(filename, 'wb') as file:\n",
    "                for chunk in response:\n",
    "                    file.write(chunk)\n",
    "    else:\n",
    "            print('file exists')"
   ]
  },
  {
   "cell_type": "code",
   "execution_count": 697,
   "metadata": {},
   "outputs": [],
   "source": [
    "def CVE_ID(text):\n",
    "\n",
    "    pattern= 'CVE-\\d{4}-\\d{4,7}'\n",
    "    result = re.findall(pattern, text ,re.I)\n",
    "    result=set(result)\n",
    "    return (result)"
   ]
  },
  {
   "cell_type": "code",
   "execution_count": 648,
   "metadata": {},
   "outputs": [],
   "source": [
    "def email_finder(text):\n",
    "    a=re.compile(r'[\\w\\.-]+@[\\w\\.-]+')\n",
    "    result=a.findall(text)\n",
    "    return result"
   ]
  },
  {
   "cell_type": "code",
   "execution_count": 684,
   "metadata": {},
   "outputs": [],
   "source": [
    "def find_ip_address(text):\n",
    "    pat = re.compile(\"\\d{1,3}\\.\\d{1,3}\\.\\d{1,3}\\.\\d{1,3}\")\n",
    "    result=pat.findall(text)\n",
    "    \n",
    "    return result"
   ]
  },
  {
   "cell_type": "code",
   "execution_count": 664,
   "metadata": {},
   "outputs": [],
   "source": [
    "def extract_hashes(text):\n",
    "    regex_list = {\n",
    "\n",
    "    'wordpress_md5': '\\$P\\$[\\w\\d./]+',\n",
    "    'phpBB3_md5': '\\$H\\$[\\w\\d./]+',\n",
    "    'sha1':  '(?<!\\w)[a-f\\d]{40}(?!\\w)',\n",
    "    'md5':  '(?<!\\w)[a-f\\d]{32}(?!\\w)',\n",
    "    'sha256':  '(?<!\\w)[a-f\\d]{64}(?!\\w)',\n",
    "    'sha512':  '(?<!\\w)[a-f\\d]{128}(?!\\w)',\n",
    "    'mysql':  '(?<!\\w)[a-f\\d]{16}(?!\\w)',\n",
    "    'mysql5': '\\*[A-F\\d]{40}'\n",
    "\n",
    "    }\n",
    "\n",
    "    result = {}\n",
    "\n",
    "    for format in regex_list.keys():\n",
    "        hashes = []\n",
    "        regex = re.compile(regex_list[format])\n",
    "        hashes = regex.findall(text)\n",
    "        if hashes:\n",
    "            result[format] = hashes\n",
    "\n",
    "    return result"
   ]
  },
  {
   "cell_type": "code",
   "execution_count": 386,
   "metadata": {},
   "outputs": [
    {
     "name": "stdout",
     "output_type": "stream",
     "text": [
      "Downloading File\n"
     ]
    }
   ],
   "source": [
    "cve=[]\n",
    "hashes=[]\n",
    "files=[]\n",
    "for link in links:\n",
    "    if link.endswith('.pdf'):\n",
    "        download_file(link,filename=os.getcwd()+os.sep+'reports_pdf'+os.sep+link.split('/')[-1])\n",
    "        test=PdfFileReader(open(os.getcwd()+os.sep+'reports_pdf'+os.sep+link.split('/')[-1],'rb'))\n",
    "        text=raw_pdf(test)\n",
    "        text=' '.join(text)\n",
    "    else:\n",
    "        driver.get(site)\n",
    "        text_box=driver.find_element_by_xpath(\"/html/body/div[1]/div[2]/div/div[1]/div[1]/form/input[2]\")\n",
    "        text_box.send_keys(link)\n",
    "        driver.find_element_by_xpath(\"/html/body/div[1]/div[2]/div/div[1]/div[1]/form/input[3]\").click()\n",
    "        time.sleep(3)\n",
    "        source_code=driver.page_source\n",
    "        soup = BeautifulSoup(source_code, 'html.parser')\n",
    "        text=soup.find('div',id='pf-body').text\n",
    "        \n",
    "    cve.append(CVE_ID(text))\n",
    "    hashes.append(extract_hashes(text))"
   ]
  },
  {
   "cell_type": "code",
   "execution_count": 685,
   "metadata": {},
   "outputs": [
    {
     "ename": "TypeError",
     "evalue": "'list' object is not callable",
     "output_type": "error",
     "traceback": [
      "\u001b[1;31m---------------------------------------------------------------------------\u001b[0m",
      "\u001b[1;31mTypeError\u001b[0m                                 Traceback (most recent call last)",
      "\u001b[1;32m<ipython-input-685-de29874b52e6>\u001b[0m in \u001b[0;36m<module>\u001b[1;34m\u001b[0m\n\u001b[1;32m----> 1\u001b[1;33m \u001b[0mlist\u001b[0m\u001b[1;33m(\u001b[0m\u001b[0mset\u001b[0m\u001b[1;33m(\u001b[0m\u001b[0mitertools\u001b[0m\u001b[1;33m.\u001b[0m\u001b[0mchain\u001b[0m\u001b[1;33m.\u001b[0m\u001b[0mfrom_iterable\u001b[0m\u001b[1;33m(\u001b[0m\u001b[0mcve\u001b[0m\u001b[1;33m)\u001b[0m\u001b[1;33m)\u001b[0m\u001b[1;33m)\u001b[0m\u001b[1;33m\u001b[0m\u001b[1;33m\u001b[0m\u001b[0m\n\u001b[0m",
      "\u001b[1;31mTypeError\u001b[0m: 'list' object is not callable"
     ]
    }
   ],
   "source": [
    "list(set(itertools.chain.from_iterable(cve)))"
   ]
  },
  {
   "cell_type": "code",
   "execution_count": 591,
   "metadata": {},
   "outputs": [],
   "source": [
    "extensions='exe|pif|application|gadget|msi|msp|com|scr|hta|cpl|msc|jar|bat|cmd|vb|vbe|js|jse|ws|wsc|ps1|msh|scf|lnk|inf|reg|doc|docm'"
   ]
  },
  {
   "cell_type": "code",
   "execution_count": 595,
   "metadata": {},
   "outputs": [],
   "source": [
    "link='https://blog.malwarebytes.com/threat-analysis/2019/10/magecart-group-4-a-link-with-cobalt-group/'"
   ]
  },
  {
   "cell_type": "code",
   "execution_count": 597,
   "metadata": {},
   "outputs": [],
   "source": [
    "driver.get(site)\n",
    "text_box=driver.find_element_by_xpath(\"/html/body/div[1]/div[2]/div/div[1]/div[1]/form/input[2]\")\n",
    "text_box.send_keys(link)\n",
    "driver.find_element_by_xpath(\"/html/body/div[1]/div[2]/div/div[1]/div[1]/form/input[3]\").click()\n",
    "time.sleep(3)\n",
    "source_code=driver.page_source\n",
    "soup = BeautifulSoup(source_code, 'html.parser')\n",
    "text=soup.find('div',id='pf-body').text"
   ]
  },
  {
   "cell_type": "code",
   "execution_count": 762,
   "metadata": {},
   "outputs": [],
   "source": [
    "text=driver.page_source\n",
    "soup = BeautifulSoup(text, 'html.parser')\n",
    "text=soup.find('div',id='pf-body').text"
   ]
  },
  {
   "cell_type": "code",
   "execution_count": 763,
   "metadata": {},
   "outputs": [
    {
     "data": {
      "text/plain": [
       "{'sha256': ['444c63bb794abe3d2b524e0cb2c8dcc174279b23b1bce949a7125df9fab25c1c',\n",
       "  '1c1a6bb0937c454eb397495eea034e00d1f7cf4e77481a04439afbc5b3503396',\n",
       "  '988d430ce0e9f19634cf7955eac6eb03e3b7774b788010c2a9742b38016d1ebf',\n",
       "  '1d0aae6cff1f7a772fac67b74a39904b8b9da46484b4ae8b621a6566f7761d16',\n",
       "  '57f65ecb239833e5a4b2441e3a2daf3513356d45e1d5c311baeb31f4d503703e',\n",
       "  '852f11e5131d3dab9812fd8ce3cd94c1333904f38713ff959f980a168ef0d4ce',\n",
       "  '19dc9b93870ddc3beb7fdeea2980c95edc489040e39381d89d0dfe0a825a1570',\n",
       "  '020ba5a273c0992d62faa05144aed7f174af64c836bf82009ada46f1ce3b6eee',\n",
       "  '07a3355f81ff69a197c792847d0783bfc336181d66d3a36e6b548d0dbd9f5a9a',\n",
       "  '161ba501b4ea6f7c2c8d224e55e566fef95064e1ed059d8287bc07e790f740e8',\n",
       "  '19dc9b93870ddc3beb7fdeea2980c95edc489040e39381d89d0dfe0a825a1570',\n",
       "  'dc8425f8c966708b1a3c26f0545664ccbf853852af401b91ae7f29d351e2649c',\n",
       "  'dc8425f8c966708b1a3c26f0545664ccbf853852af401b91ae7f29d351e2649c',\n",
       "  '45310fcc9f9ef367f16bed4c4ba4c51d7eb72550082cd572f6a5636227514d70',\n",
       "  'df18e997a2f755159f0753c4e69a45764f746657b782f6d3c878afb8befe2b69',\n",
       "  '476c9d4383505429c10c31fb72f5218b3b42d985a2b46a0de62fd6ec5d08eebf',\n",
       "  '27ec680a57b658d0e63a2b209f407253b4d8904ea025b3ef7c544d98d5798356',\n",
       "  'a1f3388314c4abd7b1d3ad2aeb863c9c40a56bf438c7a2b71cbcff384d7e7ded']}"
      ]
     },
     "execution_count": 763,
     "metadata": {},
     "output_type": "execute_result"
    }
   ],
   "source": [
    "extract_hashes(text)"
   ]
  },
  {
   "cell_type": "code",
   "execution_count": 691,
   "metadata": {},
   "outputs": [],
   "source": [
    "def email_finder(text):\n",
    "    a=re.compile(r'[\\w\\.-]+@[\\w\\.-]+')\n",
    "    result=a.findall(text)\n",
    "    return result"
   ]
  },
  {
   "cell_type": "code",
   "execution_count": 764,
   "metadata": {},
   "outputs": [],
   "source": [
    "def CVE_ID(text):\n",
    "\n",
    "    pattern= 'CVE-\\d{4}-\\d{4,7}'\n",
    "    result = re.findall(pattern, text ,re.I)\n",
    "    result=set(result)\n",
    "    return result"
   ]
  },
  {
   "cell_type": "code",
   "execution_count": 765,
   "metadata": {},
   "outputs": [],
   "source": [
    "a=CVE_ID(text)"
   ]
  },
  {
   "cell_type": "code",
   "execution_count": 766,
   "metadata": {},
   "outputs": [
    {
     "data": {
      "text/plain": [
       "set()"
      ]
     },
     "execution_count": 766,
     "metadata": {},
     "output_type": "execute_result"
    }
   ],
   "source": [
    "a"
   ]
  },
  {
   "cell_type": "code",
   "execution_count": 749,
   "metadata": {},
   "outputs": [
    {
     "data": {
      "text/plain": [
       "[]"
      ]
     },
     "execution_count": 749,
     "metadata": {},
     "output_type": "execute_result"
    }
   ],
   "source": [
    "text='CVE-2017–11882'\n",
    "pattern=  re.compile('CVE-\\d{4}-\\d{4,7}')\n",
    "pattern.findall(text)"
   ]
  },
  {
   "cell_type": "code",
   "execution_count": 748,
   "metadata": {},
   "outputs": [
    {
     "data": {
      "text/plain": [
       "[]"
      ]
     },
     "execution_count": 748,
     "metadata": {},
     "output_type": "execute_result"
    }
   ],
   "source": [
    "result"
   ]
  },
  {
   "cell_type": "code",
   "execution_count": 745,
   "metadata": {},
   "outputs": [
    {
     "data": {
      "text/plain": [
       "'including CVE-2017–11882, CVE-2018–0802, and CVE-2018–8174'"
      ]
     },
     "execution_count": 745,
     "metadata": {},
     "output_type": "execute_result"
    }
   ],
   "source": [
    "text"
   ]
  },
  {
   "cell_type": "code",
   "execution_count": 693,
   "metadata": {},
   "outputs": [],
   "source": [
    "def find_ip_address(text):\n",
    "    pat = re.compile(\"\\d{1,3}\\.\\d{1,3}\\.\\d{1,3}\\.\\d{1,3}\")\n",
    "    result=pat.findall(text)\n",
    "    \n",
    "    return result"
   ]
  },
  {
   "cell_type": "code",
   "execution_count": null,
   "metadata": {},
   "outputs": [],
   "source": []
  },
  {
   "cell_type": "code",
   "execution_count": 694,
   "metadata": {},
   "outputs": [
    {
     "data": {
      "text/plain": [
       "[]"
      ]
     },
     "execution_count": 694,
     "metadata": {},
     "output_type": "execute_result"
    }
   ],
   "source": [
    "find_ip_address(text)"
   ]
  },
  {
   "cell_type": "code",
   "execution_count": null,
   "metadata": {},
   "outputs": [],
   "source": []
  },
  {
   "cell_type": "code",
   "execution_count": null,
   "metadata": {},
   "outputs": [],
   "source": []
  },
  {
   "cell_type": "code",
   "execution_count": null,
   "metadata": {},
   "outputs": [],
   "source": []
  },
  {
   "cell_type": "code",
   "execution_count": null,
   "metadata": {},
   "outputs": [],
   "source": []
  },
  {
   "cell_type": "code",
   "execution_count": null,
   "metadata": {},
   "outputs": [],
   "source": []
  },
  {
   "cell_type": "code",
   "execution_count": null,
   "metadata": {},
   "outputs": [],
   "source": []
  },
  {
   "cell_type": "code",
   "execution_count": null,
   "metadata": {},
   "outputs": [],
   "source": []
  },
  {
   "cell_type": "code",
   "execution_count": null,
   "metadata": {},
   "outputs": [],
   "source": []
  },
  {
   "cell_type": "code",
   "execution_count": null,
   "metadata": {},
   "outputs": [],
   "source": []
  },
  {
   "cell_type": "code",
   "execution_count": null,
   "metadata": {},
   "outputs": [],
   "source": []
  },
  {
   "cell_type": "code",
   "execution_count": null,
   "metadata": {},
   "outputs": [],
   "source": []
  },
  {
   "cell_type": "code",
   "execution_count": null,
   "metadata": {},
   "outputs": [],
   "source": []
  },
  {
   "cell_type": "code",
   "execution_count": null,
   "metadata": {},
   "outputs": [],
   "source": []
  },
  {
   "cell_type": "code",
   "execution_count": null,
   "metadata": {},
   "outputs": [],
   "source": []
  },
  {
   "cell_type": "code",
   "execution_count": null,
   "metadata": {},
   "outputs": [],
   "source": []
  },
  {
   "cell_type": "code",
   "execution_count": null,
   "metadata": {},
   "outputs": [],
   "source": []
  },
  {
   "cell_type": "code",
   "execution_count": null,
   "metadata": {},
   "outputs": [],
   "source": []
  },
  {
   "cell_type": "code",
   "execution_count": null,
   "metadata": {},
   "outputs": [],
   "source": []
  },
  {
   "cell_type": "code",
   "execution_count": null,
   "metadata": {},
   "outputs": [],
   "source": []
  },
  {
   "cell_type": "code",
   "execution_count": 349,
   "metadata": {},
   "outputs": [
    {
     "name": "stdout",
     "output_type": "stream",
     "text": [
      "Downloading File\n"
     ]
    }
   ],
   "source": [
    "download_file('https://www.cse.msu.edu/~bajpaipr/resources/apt1_one_of_chinas_cyber_espionage_units_Pranshu_Bajpai.pdf',filename=os.getcwd()+os.sep+'reports_pdf'+os.sep+'sample.pdf')"
   ]
  },
  {
   "cell_type": "code",
   "execution_count": 354,
   "metadata": {},
   "outputs": [],
   "source": [
    "# function to extract text from all pages\n",
    "def raw_pdf(x):\n",
    "    page=[]\n",
    "    for i in  range(0,x.numPages): \n",
    "        pages=x.getPage(i) \n",
    "        story=pages.extractText() \n",
    "        k= ' '.join (story.split())\n",
    "        page.append(k)\n",
    "    return page"
   ]
  },
  {
   "cell_type": "code",
   "execution_count": 353,
   "metadata": {},
   "outputs": [],
   "source": [
    "# importing of regulation pdf\n",
    "test=PdfFileReader(open(r'reports_pdf/sample.pdf','rb'))"
   ]
  },
  {
   "cell_type": "code",
   "execution_count": 355,
   "metadata": {},
   "outputs": [],
   "source": [
    "# extraxting data\n",
    "data=raw_pdf(test)\n"
   ]
  },
  {
   "cell_type": "code",
   "execution_count": null,
   "metadata": {},
   "outputs": [],
   "source": []
  },
  {
   "cell_type": "code",
   "execution_count": null,
   "metadata": {},
   "outputs": [],
   "source": []
  },
  {
   "cell_type": "code",
   "execution_count": null,
   "metadata": {},
   "outputs": [],
   "source": []
  },
  {
   "cell_type": "code",
   "execution_count": null,
   "metadata": {},
   "outputs": [],
   "source": []
  },
  {
   "cell_type": "code",
   "execution_count": null,
   "metadata": {},
   "outputs": [],
   "source": []
  },
  {
   "cell_type": "code",
   "execution_count": 323,
   "metadata": {},
   "outputs": [],
   "source": [
    "source_code=driver.page_source\n",
    "soup = BeautifulSoup(source_code, 'html.parser')\n",
    "text=soup.find('div',id='pf-body').text"
   ]
  },
  {
   "cell_type": "code",
   "execution_count": 322,
   "metadata": {},
   "outputs": [
    {
     "data": {
      "text/plain": [
       "{}"
      ]
     },
     "execution_count": 322,
     "metadata": {},
     "output_type": "execute_result"
    }
   ],
   "source": []
  },
  {
   "cell_type": "code",
   "execution_count": null,
   "metadata": {},
   "outputs": [],
   "source": []
  },
  {
   "cell_type": "code",
   "execution_count": null,
   "metadata": {},
   "outputs": [],
   "source": []
  },
  {
   "cell_type": "code",
   "execution_count": null,
   "metadata": {},
   "outputs": [],
   "source": []
  },
  {
   "cell_type": "code",
   "execution_count": null,
   "metadata": {},
   "outputs": [],
   "source": []
  },
  {
   "cell_type": "code",
   "execution_count": null,
   "metadata": {},
   "outputs": [],
   "source": []
  },
  {
   "cell_type": "code",
   "execution_count": null,
   "metadata": {},
   "outputs": [],
   "source": []
  },
  {
   "cell_type": "code",
   "execution_count": null,
   "metadata": {},
   "outputs": [],
   "source": [
    "df=pd.read_html(driver.current_url)"
   ]
  },
  {
   "cell_type": "code",
   "execution_count": 110,
   "metadata": {},
   "outputs": [
    {
     "data": {
      "text/html": [
       "<div>\n",
       "<style scoped>\n",
       "    .dataframe tbody tr th:only-of-type {\n",
       "        vertical-align: middle;\n",
       "    }\n",
       "\n",
       "    .dataframe tbody tr th {\n",
       "        vertical-align: top;\n",
       "    }\n",
       "\n",
       "    .dataframe thead th {\n",
       "        text-align: right;\n",
       "    }\n",
       "</style>\n",
       "<table border=\"1\" class=\"dataframe\">\n",
       "  <thead>\n",
       "    <tr style=\"text-align: right;\">\n",
       "      <th></th>\n",
       "      <th>IOC</th>\n",
       "      <th>IOC Type</th>\n",
       "      <th>Description</th>\n",
       "    </tr>\n",
       "  </thead>\n",
       "  <tbody>\n",
       "    <tr>\n",
       "      <th>0</th>\n",
       "      <td>8e1c6f44b02e72b1c1c9af0ffdcee0fbe67fb8ee370bc6...</td>\n",
       "      <td>SHA256</td>\n",
       "      <td>ThreadKit document from June 2017 example</td>\n",
       "    </tr>\n",
       "    <tr>\n",
       "      <th>1</th>\n",
       "      <td>5528b7baa2be1b02140378b076efdbb413ea5e7b05541d...</td>\n",
       "      <td>SHA256</td>\n",
       "      <td>ThreadKit HTA from June 2017 example</td>\n",
       "    </tr>\n",
       "    <tr>\n",
       "      <th>2</th>\n",
       "      <td>030ce92b54ae176b116b6d1baa4769d0298f7283dcc163...</td>\n",
       "      <td>SHA256</td>\n",
       "      <td>ThreadKit VBS from June 2017 example</td>\n",
       "    </tr>\n",
       "    <tr>\n",
       "      <th>3</th>\n",
       "      <td>2bb9d0d8166a8d330cb3c5be6fb60539fe29e05cc3acb4...</td>\n",
       "      <td>SHA256</td>\n",
       "      <td>ThreadKit document from October 2017 example</td>\n",
       "    </tr>\n",
       "    <tr>\n",
       "      <th>4</th>\n",
       "      <td>094ec9e51a559f93e920643a1167de6ee966076af6ab89...</td>\n",
       "      <td>SHA256</td>\n",
       "      <td>ThreadKit Soap file from October 2017 example</td>\n",
       "    </tr>\n",
       "    <tr>\n",
       "      <th>5</th>\n",
       "      <td>877da1bc247c3a0406e29f1cbe50e89b6b53f070957b2d...</td>\n",
       "      <td>SHA256</td>\n",
       "      <td>ThreadKit HTA file from October 2017 example</td>\n",
       "    </tr>\n",
       "    <tr>\n",
       "      <th>6</th>\n",
       "      <td>c73c570208059e0a7b712d835c0de1def72d346a0d6235...</td>\n",
       "      <td>SHA256</td>\n",
       "      <td>ThreadKit document from November 2017 example</td>\n",
       "    </tr>\n",
       "    <tr>\n",
       "      <th>7</th>\n",
       "      <td>53e8890f0d002d9611675419b3d8d0899b599c59f4557e...</td>\n",
       "      <td>SHA256</td>\n",
       "      <td>ThreadKit document from February 2018 example</td>\n",
       "    </tr>\n",
       "  </tbody>\n",
       "</table>\n",
       "</div>"
      ],
      "text/plain": [
       "                                                 IOC IOC Type  \\\n",
       "0  8e1c6f44b02e72b1c1c9af0ffdcee0fbe67fb8ee370bc6...   SHA256   \n",
       "1  5528b7baa2be1b02140378b076efdbb413ea5e7b05541d...   SHA256   \n",
       "2  030ce92b54ae176b116b6d1baa4769d0298f7283dcc163...   SHA256   \n",
       "3  2bb9d0d8166a8d330cb3c5be6fb60539fe29e05cc3acb4...   SHA256   \n",
       "4  094ec9e51a559f93e920643a1167de6ee966076af6ab89...   SHA256   \n",
       "5  877da1bc247c3a0406e29f1cbe50e89b6b53f070957b2d...   SHA256   \n",
       "6  c73c570208059e0a7b712d835c0de1def72d346a0d6235...   SHA256   \n",
       "7  53e8890f0d002d9611675419b3d8d0899b599c59f4557e...   SHA256   \n",
       "\n",
       "                                     Description  \n",
       "0      ThreadKit document from June 2017 example  \n",
       "1           ThreadKit HTA from June 2017 example  \n",
       "2           ThreadKit VBS from June 2017 example  \n",
       "3   ThreadKit document from October 2017 example  \n",
       "4  ThreadKit Soap file from October 2017 example  \n",
       "5   ThreadKit HTA file from October 2017 example  \n",
       "6  ThreadKit document from November 2017 example  \n",
       "7  ThreadKit document from February 2018 example  "
      ]
     },
     "execution_count": 110,
     "metadata": {},
     "output_type": "execute_result"
    }
   ],
   "source": [
    "df[0]"
   ]
  },
  {
   "cell_type": "code",
   "execution_count": null,
   "metadata": {},
   "outputs": [],
   "source": []
  }
 ],
 "metadata": {
  "kernelspec": {
   "display_name": "Python 3",
   "language": "python",
   "name": "python3"
  },
  "language_info": {
   "codemirror_mode": {
    "name": "ipython",
    "version": 3
   },
   "file_extension": ".py",
   "mimetype": "text/x-python",
   "name": "python",
   "nbconvert_exporter": "python",
   "pygments_lexer": "ipython3",
   "version": "3.7.4"
  }
 },
 "nbformat": 4,
 "nbformat_minor": 2
}
