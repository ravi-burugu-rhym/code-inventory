{
 "cells": [
  {
   "cell_type": "code",
   "execution_count": 22,
   "metadata": {},
   "outputs": [],
   "source": [
    "import pandas as pd\n",
    "import recordlinkage\n",
    "\n",
    "hospital_accounts = pd.read_csv(\n",
    "    'https://github.com/chris1610/pbpython/raw/master/data/hospital_account_info.csv',\n",
    "    index_col='Account_Num'\n",
    ")\n",
    "hospital_reimbursement = pd.read_csv(\n",
    "    'https://raw.githubusercontent.com/chris1610/pbpython/master/data/hospital_reimbursement.csv',\n",
    "    index_col='Provider_Num'\n",
    ")"
   ]
  },
  {
   "cell_type": "code",
   "execution_count": 48,
   "metadata": {},
   "outputs": [
    {
     "data": {
      "text/plain": [
       "<Index>"
      ]
     },
     "execution_count": 48,
     "metadata": {},
     "output_type": "execute_result"
    }
   ],
   "source": [
    "indexer = recordlinkage.Index()\n",
    "\n",
    "# Columns to match on from df_left\n",
    "left_on = [\"Facility Name\", \"Address\", \"City\", \"State\"]\n",
    "\n",
    "# Columns to match on from df_right\n",
    "right_on = [\n",
    "    \"Provider Name\", \"Provider Street Address\", \"Provider City\",\n",
    "    \"Provider State\"\n",
    "]\n",
    "#indexer.full()\n",
    "indexer.sortedneighbourhood(left_on='State', right_on='Provider State')\n",
    "#indexer.block(left_on, right_on)"
   ]
  },
  {
   "cell_type": "code",
   "execution_count": 49,
   "metadata": {},
   "outputs": [
    {
     "name": "stdout",
     "output_type": "stream",
     "text": [
      "998860\n"
     ]
    }
   ],
   "source": [
    "candidates = indexer.index(hospital_accounts, hospital_reimbursement)\n",
    "print(len(candidates))"
   ]
  },
  {
   "cell_type": "code",
   "execution_count": 50,
   "metadata": {},
   "outputs": [
    {
     "data": {
      "text/plain": [
       "14399283"
      ]
     },
     "execution_count": 50,
     "metadata": {},
     "output_type": "execute_result"
    }
   ],
   "source": [
    "len(hospital_reimbursement)*len(hospital_accounts)"
   ]
  },
  {
   "cell_type": "code",
   "execution_count": 53,
   "metadata": {},
   "outputs": [],
   "source": [
    "compare = recordlinkage.Compare()\n",
    "compare.exact('City', 'Provider City', label='City')\n",
    "compare.string('Facility Name',\n",
    "               'Provider Name',\n",
    "               threshold=0.85,\n",
    "               label='Hosp_Name')\n",
    "compare.string('Address',\n",
    "               'Provider Street Address',\n",
    "               method='jarowinkler',\n",
    "               threshold=0.85,\n",
    "               label='Hosp_Address')\n",
    "features = compare.compute(candidates, hospital_accounts,\n",
    "                           hospital_reimbursement)"
   ]
  },
  {
   "cell_type": "code",
   "execution_count": 54,
   "metadata": {},
   "outputs": [
    {
     "data": {
      "text/html": [
       "<div>\n",
       "<style scoped>\n",
       "    .dataframe tbody tr th:only-of-type {\n",
       "        vertical-align: middle;\n",
       "    }\n",
       "\n",
       "    .dataframe tbody tr th {\n",
       "        vertical-align: top;\n",
       "    }\n",
       "\n",
       "    .dataframe thead th {\n",
       "        text-align: right;\n",
       "    }\n",
       "</style>\n",
       "<table border=\"1\" class=\"dataframe\">\n",
       "  <thead>\n",
       "    <tr style=\"text-align: right;\">\n",
       "      <th></th>\n",
       "      <th></th>\n",
       "      <th>City</th>\n",
       "      <th>Hosp_Name</th>\n",
       "      <th>Hosp_Address</th>\n",
       "    </tr>\n",
       "    <tr>\n",
       "      <th>Account_Num</th>\n",
       "      <th>Provider_Num</th>\n",
       "      <th></th>\n",
       "      <th></th>\n",
       "      <th></th>\n",
       "    </tr>\n",
       "  </thead>\n",
       "  <tbody>\n",
       "    <tr>\n",
       "      <td rowspan=\"5\" valign=\"top\">10605</td>\n",
       "      <td>537184</td>\n",
       "      <td>0</td>\n",
       "      <td>0.0</td>\n",
       "      <td>0.0</td>\n",
       "    </tr>\n",
       "    <tr>\n",
       "      <td>803181</td>\n",
       "      <td>0</td>\n",
       "      <td>0.0</td>\n",
       "      <td>0.0</td>\n",
       "    </tr>\n",
       "    <tr>\n",
       "      <td>450616</td>\n",
       "      <td>0</td>\n",
       "      <td>0.0</td>\n",
       "      <td>0.0</td>\n",
       "    </tr>\n",
       "    <tr>\n",
       "      <td>854377</td>\n",
       "      <td>0</td>\n",
       "      <td>0.0</td>\n",
       "      <td>0.0</td>\n",
       "    </tr>\n",
       "    <tr>\n",
       "      <td>560361</td>\n",
       "      <td>0</td>\n",
       "      <td>0.0</td>\n",
       "      <td>0.0</td>\n",
       "    </tr>\n",
       "    <tr>\n",
       "      <td>...</td>\n",
       "      <td>...</td>\n",
       "      <td>...</td>\n",
       "      <td>...</td>\n",
       "      <td>...</td>\n",
       "    </tr>\n",
       "    <tr>\n",
       "      <td rowspan=\"5\" valign=\"top\">70226</td>\n",
       "      <td>815904</td>\n",
       "      <td>0</td>\n",
       "      <td>0.0</td>\n",
       "      <td>0.0</td>\n",
       "    </tr>\n",
       "    <tr>\n",
       "      <td>746090</td>\n",
       "      <td>0</td>\n",
       "      <td>0.0</td>\n",
       "      <td>0.0</td>\n",
       "    </tr>\n",
       "    <tr>\n",
       "      <td>193062</td>\n",
       "      <td>0</td>\n",
       "      <td>0.0</td>\n",
       "      <td>0.0</td>\n",
       "    </tr>\n",
       "    <tr>\n",
       "      <td>834984</td>\n",
       "      <td>0</td>\n",
       "      <td>0.0</td>\n",
       "      <td>0.0</td>\n",
       "    </tr>\n",
       "    <tr>\n",
       "      <td>365095</td>\n",
       "      <td>0</td>\n",
       "      <td>0.0</td>\n",
       "      <td>0.0</td>\n",
       "    </tr>\n",
       "  </tbody>\n",
       "</table>\n",
       "<p>998860 rows × 3 columns</p>\n",
       "</div>"
      ],
      "text/plain": [
       "                          City  Hosp_Name  Hosp_Address\n",
       "Account_Num Provider_Num                               \n",
       "10605       537184           0        0.0           0.0\n",
       "            803181           0        0.0           0.0\n",
       "            450616           0        0.0           0.0\n",
       "            854377           0        0.0           0.0\n",
       "            560361           0        0.0           0.0\n",
       "...                        ...        ...           ...\n",
       "70226       815904           0        0.0           0.0\n",
       "            746090           0        0.0           0.0\n",
       "            193062           0        0.0           0.0\n",
       "            834984           0        0.0           0.0\n",
       "            365095           0        0.0           0.0\n",
       "\n",
       "[998860 rows x 3 columns]"
      ]
     },
     "execution_count": 54,
     "metadata": {},
     "output_type": "execute_result"
    }
   ],
   "source": [
    "features"
   ]
  },
  {
   "cell_type": "code",
   "execution_count": 55,
   "metadata": {},
   "outputs": [
    {
     "data": {
      "text/plain": [
       "3.0      2289\n",
       "2.0       461\n",
       "1.0      8190\n",
       "0.0    987920\n",
       "dtype: int64"
      ]
     },
     "execution_count": 55,
     "metadata": {},
     "output_type": "execute_result"
    }
   ],
   "source": [
    "features.sum(axis=1).value_counts().sort_index(ascending=False)"
   ]
  },
  {
   "cell_type": "code",
   "execution_count": 56,
   "metadata": {},
   "outputs": [
    {
     "data": {
      "text/html": [
       "<div>\n",
       "<style scoped>\n",
       "    .dataframe tbody tr th:only-of-type {\n",
       "        vertical-align: middle;\n",
       "    }\n",
       "\n",
       "    .dataframe tbody tr th {\n",
       "        vertical-align: top;\n",
       "    }\n",
       "\n",
       "    .dataframe thead th {\n",
       "        text-align: right;\n",
       "    }\n",
       "</style>\n",
       "<table border=\"1\" class=\"dataframe\">\n",
       "  <thead>\n",
       "    <tr style=\"text-align: right;\">\n",
       "      <th></th>\n",
       "      <th>Account_Num</th>\n",
       "      <th>Provider_Num</th>\n",
       "      <th>City</th>\n",
       "      <th>Hosp_Name</th>\n",
       "      <th>Hosp_Address</th>\n",
       "      <th>Score</th>\n",
       "    </tr>\n",
       "  </thead>\n",
       "  <tbody>\n",
       "    <tr>\n",
       "      <td>0</td>\n",
       "      <td>51216</td>\n",
       "      <td>268781</td>\n",
       "      <td>0</td>\n",
       "      <td>1.0</td>\n",
       "      <td>1.0</td>\n",
       "      <td>2.0</td>\n",
       "    </tr>\n",
       "    <tr>\n",
       "      <td>1</td>\n",
       "      <td>55272</td>\n",
       "      <td>556917</td>\n",
       "      <td>1</td>\n",
       "      <td>1.0</td>\n",
       "      <td>1.0</td>\n",
       "      <td>3.0</td>\n",
       "    </tr>\n",
       "    <tr>\n",
       "      <td>2</td>\n",
       "      <td>87807</td>\n",
       "      <td>854637</td>\n",
       "      <td>1</td>\n",
       "      <td>1.0</td>\n",
       "      <td>1.0</td>\n",
       "      <td>3.0</td>\n",
       "    </tr>\n",
       "    <tr>\n",
       "      <td>3</td>\n",
       "      <td>51151</td>\n",
       "      <td>783146</td>\n",
       "      <td>1</td>\n",
       "      <td>0.0</td>\n",
       "      <td>1.0</td>\n",
       "      <td>2.0</td>\n",
       "    </tr>\n",
       "    <tr>\n",
       "      <td>4</td>\n",
       "      <td>11740</td>\n",
       "      <td>260374</td>\n",
       "      <td>1</td>\n",
       "      <td>1.0</td>\n",
       "      <td>1.0</td>\n",
       "      <td>3.0</td>\n",
       "    </tr>\n",
       "  </tbody>\n",
       "</table>\n",
       "</div>"
      ],
      "text/plain": [
       "   Account_Num  Provider_Num  City  Hosp_Name  Hosp_Address  Score\n",
       "0        51216        268781     0        1.0           1.0    2.0\n",
       "1        55272        556917     1        1.0           1.0    3.0\n",
       "2        87807        854637     1        1.0           1.0    3.0\n",
       "3        51151        783146     1        0.0           1.0    2.0\n",
       "4        11740        260374     1        1.0           1.0    3.0"
      ]
     },
     "execution_count": 56,
     "metadata": {},
     "output_type": "execute_result"
    }
   ],
   "source": [
    "potential_matches = features[features.sum(axis=1) > 1].reset_index()\n",
    "potential_matches['Score'] = potential_matches.loc[:, 'City':'Hosp_Address'].sum(axis=1)\n",
    "potential_matches.head()"
   ]
  },
  {
   "cell_type": "code",
   "execution_count": 81,
   "metadata": {},
   "outputs": [],
   "source": [
    "import pandas as pd\n",
    "import pandas as pd\n",
    "from string import punctuation\n",
    "from nltk.corpus import stopwords\n",
    "import nltk\n",
    "from nltk.stem.wordnet import WordNetLemmatizer\n",
    "\n",
    "lemma = WordNetLemmatizer()\n",
    "\n",
    "df=pd.read_csv(r'D:\\MY STUFF\\rhym\\data/concatenated_ta.csv',index_col='name')\n",
    "df.reset_index(inplace=True)"
   ]
  },
  {
   "cell_type": "code",
   "execution_count": 122,
   "metadata": {},
   "outputs": [],
   "source": [
    "text='''The Winnti grouping of activity is large and may actually be a number of linked groups rather than a single discrete entity. Kaspersky describe Winnti as: 'The Winnti group has been attacking companies in the online video game industry since 2009 and is currently still active. The groups objectives are stealing digital certificates signed by legitimate software vendors in addition to intellectual property theft, including the source code of online game projects. The majority of the victims are from South East Asia.'''"
   ]
  },
  {
   "cell_type": "code",
   "execution_count": 123,
   "metadata": {},
   "outputs": [],
   "source": [
    "stop_words = stopwords.words(\"english\")+list(punctuation)\n",
    "words = [w.lower() for sent in nltk.sent_tokenize(str(text)) for w in nltk.word_tokenize(sent)] #applying tokenization\n",
    "words = [w for w in words if w not in stop_words and w.isalnum()] # removing stopwords and only alphanumeric\n",
    "words = [w for w in words if len(w)>1] #removing if length is less than 1\n",
    "tokens = [lemma.lemmatize(w,'v')  for w in words]"
   ]
  },
  {
   "cell_type": "code",
   "execution_count": 124,
   "metadata": {},
   "outputs": [],
   "source": [
    "scoring=dict()\n",
    "for index,row in df.iterrows():\n",
    "    initial=True\n",
    "    for i in tokens:\n",
    "        if i in row['keywords'].split(' '):\n",
    "            if initial:\n",
    "                scoring[row['name']]=1\n",
    "                initial = False\n",
    "            else:\n",
    "                scoring[row['name']] = scoring[row['name']]+1\n",
    "            "
   ]
  },
  {
   "cell_type": "code",
   "execution_count": 125,
   "metadata": {},
   "outputs": [
    {
     "data": {
      "text/plain": [
       "[('apt41', 18),\n",
       " ('lazarus group', 15),\n",
       " ('apt28', 14),\n",
       " ('apt37', 13),\n",
       " ('menupass', 13),\n",
       " ('oilrig', 13),\n",
       " ('patchwork', 13),\n",
       " ('cobalt group', 12),\n",
       " ('leviathan', 12),\n",
       " ('magic hound', 12),\n",
       " ('winnti group', 12),\n",
       " ('apt19', 11),\n",
       " ('copykittens', 11),\n",
       " ('platinum', 11),\n",
       " ('threat group-3390', 11),\n",
       " ('apt29', 10),\n",
       " ('apt32', 10),\n",
       " ('apt38', 10),\n",
       " ('axiom', 10),\n",
       " ('elderwood', 10),\n",
       " ('ta505', 10),\n",
       " ('the white company', 10),\n",
       " ('apt33', 9),\n",
       " ('bronze butler', 9),\n",
       " ('darkhotel', 9),\n",
       " ('fin5', 9),\n",
       " ('fin6', 9),\n",
       " ('fin7', 9),\n",
       " ('fin8', 9),\n",
       " ('kimsuky', 9),\n",
       " ('molerats', 9),\n",
       " ('night dragon', 9),\n",
       " ('rancor', 9),\n",
       " ('temp.veles', 9),\n",
       " ('wirte', 9),\n",
       " ('apt3', 8),\n",
       " ('apt39', 8),\n",
       " ('dark caracal', 8),\n",
       " ('darkhydrus', 8),\n",
       " ('deep panda', 8),\n",
       " ('dragonfly 2.0', 8),\n",
       " ('fin10', 8),\n",
       " ('gorgon group', 8),\n",
       " ('leafminer', 8),\n",
       " ('machete', 8),\n",
       " ('muddywater', 8),\n",
       " ('rtm', 8),\n",
       " ('silverterrier', 8),\n",
       " ('suckfly', 8),\n",
       " ('apt1', 7),\n",
       " ('apt17', 7),\n",
       " ('apt18', 7),\n",
       " ('fin4', 7),\n",
       " ('gallmaker', 7),\n",
       " ('group5', 7),\n",
       " ('neodymium', 7),\n",
       " ('promethium', 7),\n",
       " ('silence', 7),\n",
       " ('sowbug', 7),\n",
       " ('stolen pencil', 7),\n",
       " ('strider', 7),\n",
       " ('tropic trooper', 7),\n",
       " ('admin@338', 6),\n",
       " ('apt12', 6),\n",
       " ('carbanak', 6),\n",
       " ('charming kitten', 6),\n",
       " ('cleaver', 6),\n",
       " ('dragonfly', 6),\n",
       " ('dust storm', 6),\n",
       " ('gamaredon group', 6),\n",
       " ('ke3chang', 6),\n",
       " ('naikon', 6),\n",
       " ('poseidon group', 6),\n",
       " ('putter panda', 6),\n",
       " ('sandworm team', 6),\n",
       " ('soft cell', 6),\n",
       " ('stealth falcon', 6),\n",
       " ('ta459', 6),\n",
       " ('thrip', 6),\n",
       " ('apt16', 5),\n",
       " ('lotus blossom', 5),\n",
       " ('orangeworm', 5),\n",
       " ('pittytiger', 5),\n",
       " ('scarlet mimic', 5),\n",
       " ('taidoor', 5),\n",
       " ('threat group-1314', 5),\n",
       " ('apt30', 4),\n",
       " ('blackoasis', 4),\n",
       " ('dragonok', 4),\n",
       " ('equation', 4),\n",
       " ('gcman', 4),\n",
       " ('honeybee', 4),\n",
       " ('moafee', 4)]"
      ]
     },
     "execution_count": 125,
     "metadata": {},
     "output_type": "execute_result"
    }
   ],
   "source": [
    "sorted(scoring.items(), key=lambda x: x[1], reverse=True)"
   ]
  },
  {
   "cell_type": "code",
   "execution_count": null,
   "metadata": {},
   "outputs": [],
   "source": []
  }
 ],
 "metadata": {
  "kernelspec": {
   "display_name": "Python 3",
   "language": "python",
   "name": "python3"
  },
  "language_info": {
   "codemirror_mode": {
    "name": "ipython",
    "version": 3
   },
   "file_extension": ".py",
   "mimetype": "text/x-python",
   "name": "python",
   "nbconvert_exporter": "python",
   "pygments_lexer": "ipython3",
   "version": "3.7.4"
  }
 },
 "nbformat": 4,
 "nbformat_minor": 2
}
