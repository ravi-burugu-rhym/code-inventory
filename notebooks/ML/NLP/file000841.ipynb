{
 "cells": [
  {
   "cell_type": "code",
   "execution_count": 2,
   "metadata": {},
   "outputs": [
    {
     "name": "stderr",
     "output_type": "stream",
     "text": [
      "Using TensorFlow backend.\n"
     ]
    }
   ],
   "source": [
    "from imageai.Detection import ObjectDetection"
   ]
  },
  {
   "cell_type": "code",
   "execution_count": 6,
   "metadata": {},
   "outputs": [
    {
     "name": "stdout",
     "output_type": "stream",
     "text": [
      "bicycle  :  57.06058740615845\n",
      "bicycle  :  81.44848346710205\n",
      "person  :  51.38214826583862\n",
      "person  :  61.41141653060913\n",
      "person  :  70.44544816017151\n",
      "person  :  75.55589079856873\n",
      "person  :  82.1229100227356\n",
      "person  :  82.70493149757385\n",
      "person  :  83.67441296577454\n",
      "person  :  84.16535258293152\n",
      "person  :  86.70709133148193\n",
      "person  :  86.79193258285522\n",
      "person  :  87.71315813064575\n",
      "person  :  91.03139042854309\n",
      "person  :  92.72398352622986\n"
     ]
    }
   ],
   "source": [
    "from imageai.Detection import ObjectDetection\n",
    "\n",
    "detector = ObjectDetection()\n",
    "\n",
    "model_path = \"D:\\my_Stuff\\chatbot\\image identification\\yolo-tiny.h5\"\n",
    "input_path = \"test46.jpg\"\n",
    "output_path = \"newimage.jpg\"\n",
    "\n",
    "detector.setModelTypeAsTinyYOLOv3()\n",
    "detector.setModelPath(model_path)\n",
    "detector.loadModel()\n",
    "detection = detector.detectObjectsFromImage(input_image=input_path, output_image_path=output_path)\n",
    "\n",
    "for eachItem in detection:\n",
    "    print(eachItem[\"name\"] , \" : \", eachItem[\"percentage_probability\"])"
   ]
  },
  {
   "cell_type": "code",
   "execution_count": null,
   "metadata": {},
   "outputs": [],
   "source": []
  }
 ],
 "metadata": {
  "kernelspec": {
   "display_name": "Python 3",
   "language": "python",
   "name": "python3"
  },
  "language_info": {
   "codemirror_mode": {
    "name": "ipython",
    "version": 3
   },
   "file_extension": ".py",
   "mimetype": "text/x-python",
   "name": "python",
   "nbconvert_exporter": "python",
   "pygments_lexer": "ipython3",
   "version": "3.7.4"
  }
 },
 "nbformat": 4,
 "nbformat_minor": 2
}
