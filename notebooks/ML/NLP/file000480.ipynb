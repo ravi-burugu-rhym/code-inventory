{
 "cells": [
  {
   "cell_type": "code",
   "execution_count": 3,
   "metadata": {},
   "outputs": [],
   "source": [
    "# importing required packages\n",
    "                                                \n",
    "# importing of required libaraies\n",
    "import nltk\n",
    "import re\n",
    "import numpy as np\n",
    "from nltk import sent_tokenize,word_tokenize\n",
    "from nltk.tokenize  import word_tokenize,sent_tokenize\n",
    "from nltk.stem import WordNetLemmatizer,PorterStemmer\n",
    "from nltk.probability import FreqDist\n",
    "from string import punctuation\n",
    "from nltk.corpus import stopwords\n",
    "from nltk.text import Text\n",
    "from string import punctuation\n",
    "import matplotlib.pyplot as plt\n",
    "from sklearn.feature_extraction.text import TfidfVectorizer\n",
    "from sklearn.model_selection import train_test_split\n",
    "import pandas as pd\n",
    "\n",
    "import warnings\n",
    "warnings.filterwarnings('ignore')"
   ]
  },
  {
   "cell_type": "code",
   "execution_count": 24,
   "metadata": {},
   "outputs": [],
   "source": [
    "# importing threat actor,malware,tool data\n",
    "threat_actors = pd.read_csv(r'data/threat_actors.csv')\n",
    "threat_actors['label'] = 0 # labelling threat actor as 0\n",
    "tools = pd.read_csv(r'data/tool_raw.csv')\n",
    "malware = pd.read_csv(r'data/malware_raw.csv')[1:100]"
   ]
  },
  {
   "cell_type": "code",
   "execution_count": 20,
   "metadata": {},
   "outputs": [],
   "source": [
    "# function to merging  the malware and tool data set\n",
    "def table_info_extract(df,label):\n",
    "    df.fillna('',inplace=True)\n",
    "    text=[]\n",
    "    name=[]\n",
    "    col = ['Name','Associated Software','Description']\n",
    "    initial = True\n",
    "    for i in col:\n",
    "        if i=='Name':\n",
    "            name.append(df[i].str.lower())\n",
    "        if initial:\n",
    "            a= df[i].str.lower()\n",
    "            initial = False\n",
    "        else:\n",
    "            a = a+' '+df[i].str.lower()\n",
    "            \n",
    "    text.append(a)\n",
    "    result = pd.DataFrame({'Name':name[0],'Description':text[0],'label':label})\n",
    "    return result"
   ]
  },
  {
   "cell_type": "code",
   "execution_count": 21,
   "metadata": {},
   "outputs": [],
   "source": [
    "#creating overaall training set\n",
    "df=threat_actors[['Name','Description','label']]\n",
    "df = df.append(table_info_extract(malware,1))\n",
    "df = df.append(table_info_extract(tools,2))"
   ]
  },
  {
   "cell_type": "code",
   "execution_count": 23,
   "metadata": {},
   "outputs": [],
   "source": [
    "df.to_csv('training_data.csv',index=False)"
   ]
  },
  {
   "cell_type": "code",
   "execution_count": 26,
   "metadata": {},
   "outputs": [
    {
     "data": {
      "text/plain": [
       "(253, 904)"
      ]
     },
     "execution_count": 26,
     "metadata": {},
     "output_type": "execute_result"
    }
   ],
   "source": [
    "from sklearn.feature_extraction.text import TfidfVectorizer\n",
    "tfidf = TfidfVectorizer(min_df=10, norm='l1', ngram_range=(1, 2), stop_words='english')\n",
    "features = tfidf.fit_transform(df.Description).toarray()\n",
    "labels = df.label\n",
    "features.shape"
   ]
  },
  {
   "cell_type": "code",
   "execution_count": 41,
   "metadata": {},
   "outputs": [],
   "source": [
    "from sklearn.model_selection import train_test_split\n",
    "from sklearn.feature_extraction.text import CountVectorizer\n",
    "from sklearn.feature_extraction.text import TfidfTransformer\n",
    "from sklearn.naive_bayes import MultinomialNB\n",
    "from sklearn.metrics import accuracy_score\n",
    "\n",
    "X_train, X_test, y_train, y_test = train_test_split(df['Description'], df['label'], random_state = 123)\n",
    "count_vect = CountVectorizer(min_df=10,stop_words='english')\n",
    "tfidf_transformer = TfidfTransformer()\n",
    "\n",
    "X_train_counts = count_vect.fit_transform(X_train)\n",
    "X_train_tfidf = tfidf_transformer.fit_transform(X_train_counts)\n",
    "clf = MultinomialNB().fit(X_train_tfidf, y_train)"
   ]
  },
  {
   "cell_type": "code",
   "execution_count": 42,
   "metadata": {},
   "outputs": [
    {
     "data": {
      "text/plain": [
       "{'threat': 359,\n",
       " 'group': 147,\n",
       " 'suspected': 313,\n",
       " 'associated': 21,\n",
       " 'chinese': 49,\n",
       " 'government': 146,\n",
       " 'shares': 293,\n",
       " 'groups': 148,\n",
       " 'command': 59,\n",
       " 'line': 181,\n",
       " 'interface': 168,\n",
       " 'connection': 71,\n",
       " 'proxy': 260,\n",
       " 'data': 84,\n",
       " 'obfuscation': 223,\n",
       " 'disabling': 98,\n",
       " 'security': 286,\n",
       " 'tools': 365,\n",
       " 'exfiltration': 133,\n",
       " 'control': 75,\n",
       " 'channel': 46,\n",
       " 'file': 139,\n",
       " 'directory': 97,\n",
       " 'discovery': 99,\n",
       " 'modify': 207,\n",
       " 'registry': 267,\n",
       " 'multi': 210,\n",
       " 'stage': 305,\n",
       " 'channels': 47,\n",
       " 'process': 256,\n",
       " 'query': 263,\n",
       " 'run': 274,\n",
       " 'keys': 172,\n",
       " 'startup': 308,\n",
       " 'folder': 142,\n",
       " 'shortcut': 296,\n",
       " 'modification': 205,\n",
       " 'standard': 307,\n",
       " 'application': 19,\n",
       " 'layer': 177,\n",
       " 'protocol': 258,\n",
       " 'information': 161,\n",
       " 'encrypted': 119,\n",
       " 'local': 189,\n",
       " 'removable': 271,\n",
       " 'media': 199,\n",
       " 'staged': 306,\n",
       " 'custom': 82,\n",
       " 'fallback': 137,\n",
       " 'cryptographic': 81,\n",
       " 'non': 220,\n",
       " 'active': 10,\n",
       " 'activity': 11,\n",
       " 'connections': 72,\n",
       " 'networks': 218,\n",
       " 'actors': 12,\n",
       " 'spearphishing': 303,\n",
       " 'enterprise': 120,\n",
       " 't1116': 345,\n",
       " 'code': 54,\n",
       " 'signing': 298,\n",
       " 'used': 373,\n",
       " 'malware': 195,\n",
       " 'stolen': 310,\n",
       " 'backdoors': 32,\n",
       " 't1140': 346,\n",
       " 'deobfuscate': 90,\n",
       " 'decode': 86,\n",
       " 'files': 140,\n",
       " 'using': 377,\n",
       " 'execution': 132,\n",
       " 't1189': 347,\n",
       " 'drive': 108,\n",
       " 'compromise': 67,\n",
       " 'embedded': 116,\n",
       " 'victims': 385,\n",
       " 'download': 106,\n",
       " 't1056': 329,\n",
       " 'input': 164,\n",
       " 'capture': 45,\n",
       " 't1027': 321,\n",
       " 'obfuscated': 222,\n",
       " 'operation': 230,\n",
       " 't1057': 330,\n",
       " 'processes': 257,\n",
       " 'running': 276,\n",
       " 't1060': 332,\n",
       " 'known': 173,\n",
       " 'establish': 125,\n",
       " 'persistence': 247,\n",
       " 'key': 171,\n",
       " 'stored': 311,\n",
       " 't1064': 333,\n",
       " 'scripting': 282,\n",
       " 'dropped': 110,\n",
       " 'disk': 100,\n",
       " 'shell': 294,\n",
       " 'script': 281,\n",
       " 'software': 300,\n",
       " 't1193': 349,\n",
       " 'attachment': 22,\n",
       " 'sent': 287,\n",
       " 'emails': 115,\n",
       " 'malicious': 194,\n",
       " 'rar': 264,\n",
       " 'attachments': 23,\n",
       " 't1082': 338,\n",
       " 'collected': 56,\n",
       " 'version': 383,\n",
       " 'service': 290,\n",
       " 'victim': 384,\n",
       " 'machine': 190,\n",
       " 't1016': 318,\n",
       " 'network': 217,\n",
       " 'configuration': 70,\n",
       " 'ip': 169,\n",
       " 'content': 74,\n",
       " 'drives': 109,\n",
       " 't1204': 351,\n",
       " 'user': 374,\n",
       " 'users': 375,\n",
       " 'click': 50,\n",
       " 'document': 103,\n",
       " '2014': 1,\n",
       " 'targeted': 353,\n",
       " 'multiple': 212,\n",
       " 'private': 254,\n",
       " 'industries': 159,\n",
       " 'web': 388,\n",
       " 'based': 34,\n",
       " 't1087': 341,\n",
       " 'account': 8,\n",
       " 'servers': 289,\n",
       " 'commands': 60,\n",
       " 'net': 216,\n",
       " 'domain': 105,\n",
       " 'compromised': 68,\n",
       " 'laterally': 175,\n",
       " 'task': 356,\n",
       " 'binary': 36,\n",
       " 't1059': 331,\n",
       " 'cmd': 53,\n",
       " 'exe': 129,\n",
       " 't1043': 324,\n",
       " 'commonly': 61,\n",
       " 'port': 250,\n",
       " 'c2': 41,\n",
       " 'communications': 63,\n",
       " 't1003': 316,\n",
       " 'credential': 79,\n",
       " 'dumping': 112,\n",
       " 'mimikatz': 203,\n",
       " 'windows': 391,\n",
       " 'outlook': 234,\n",
       " 'credentials': 80,\n",
       " 'uses': 376,\n",
       " 'traffic': 366,\n",
       " 'backdoor': 31,\n",
       " 'encoding': 118,\n",
       " 'specific': 304,\n",
       " 't1002': 315,\n",
       " 'compressed': 66,\n",
       " 't1022': 320,\n",
       " 'including': 157,\n",
       " 'dll': 102,\n",
       " 'loading': 188,\n",
       " 'load': 187,\n",
       " 'legitimate': 178,\n",
       " 'infected': 160,\n",
       " 'websites': 389,\n",
       " 'server': 288,\n",
       " 't1203': 350,\n",
       " 'exploitation': 136,\n",
       " 'client': 51,\n",
       " 'exploit': 135,\n",
       " 'execute': 130,\n",
       " 'cve': 83,\n",
       " '2017': 4,\n",
       " 'privilege': 255,\n",
       " 'escalation': 123,\n",
       " '2016': 3,\n",
       " 't1083': 339,\n",
       " 'list': 185,\n",
       " 'directories': 96,\n",
       " 'permission': 246,\n",
       " 't1107': 343,\n",
       " 'deletion': 88,\n",
       " 'hidden': 150,\n",
       " 'window': 390,\n",
       " 'powershell': 252,\n",
       " 'indicator': 158,\n",
       " 'removal': 272,\n",
       " 'host': 155,\n",
       " 'event': 127,\n",
       " 't1036': 323,\n",
       " 'masquerading': 198,\n",
       " 'names': 214,\n",
       " 'vbs': 382,\n",
       " 'detection': 92,\n",
       " 'existing': 134,\n",
       " 'modified': 206,\n",
       " 'services': 291,\n",
       " 'scripts': 283,\n",
       " 't1112': 344,\n",
       " 'scanning': 278,\n",
       " 'performed': 245,\n",
       " 'search': 284,\n",
       " 'open': 228,\n",
       " 'ports': 251,\n",
       " 'new': 219,\n",
       " 'payloads': 243,\n",
       " 'encoded': 117,\n",
       " 'base64': 33,\n",
       " 'called': 42,\n",
       " 'office': 227,\n",
       " 'installed': 166,\n",
       " 'microsoft': 200,\n",
       " 'pass': 238,\n",
       " 'hash': 149,\n",
       " 'lateral': 174,\n",
       " 'movement': 209,\n",
       " 'ticket': 360,\n",
       " 'remote': 270,\n",
       " 'access': 6,\n",
       " 't1086': 340,\n",
       " 'gather': 145,\n",
       " 'regsvr32': 268,\n",
       " 'created': 78,\n",
       " 'scheduled': 279,\n",
       " 'com': 58,\n",
       " 'downloaded': 107,\n",
       " 't1105': 342,\n",
       " 'copy': 76,\n",
       " 'additional': 13,\n",
       " 't1018': 319,\n",
       " 'available': 30,\n",
       " 'admin': 14,\n",
       " 't1053': 327,\n",
       " 'tasks': 357,\n",
       " 'systems': 314,\n",
       " 'macros': 192,\n",
       " 'payload': 242,\n",
       " 't1192': 348,\n",
       " 'link': 182,\n",
       " 'containing': 73,\n",
       " 'links': 183,\n",
       " 't1071': 334,\n",
       " 'http': 156,\n",
       " 'email': 114,\n",
       " 'computer': 69,\n",
       " 't1049': 326,\n",
       " 'tcp': 358,\n",
       " 't1033': 322,\n",
       " 'owner': 235,\n",
       " 'executed': 131,\n",
       " 'timestomp': 362,\n",
       " 'time': 361,\n",
       " 'second': 285,\n",
       " 'uncommonly': 371,\n",
       " 'use': 372,\n",
       " 'attempted': 26,\n",
       " 'delivered': 89,\n",
       " 't1078': 337,\n",
       " 'valid': 380,\n",
       " 'accounts': 9,\n",
       " 'shells': 295,\n",
       " 'maintain': 193,\n",
       " 'machines': 191,\n",
       " 't1047': 325,\n",
       " 'management': 196,\n",
       " 'instrumentation': 167,\n",
       " 'wmi': 392,\n",
       " 'token': 363,\n",
       " 'manipulation': 197,\n",
       " 'bypass': 40,\n",
       " 'component': 64,\n",
       " 'object': 224,\n",
       " 'model': 204,\n",
       " 'distributed': 101,\n",
       " 'api': 17,\n",
       " 'browser': 37,\n",
       " 'multiband': 211,\n",
       " 'communication': 62,\n",
       " 'share': 292,\n",
       " 'hollowing': 153,\n",
       " 'injection': 163,\n",
       " 'desktop': 91,\n",
       " 'transfer': 367,\n",
       " 'screen': 280,\n",
       " 'dcshadow': 85,\n",
       " 'support': 312,\n",
       " 'provider': 259,\n",
       " 'sid': 297,\n",
       " 'history': 152,\n",
       " 'create': 77,\n",
       " 'password': 239,\n",
       " 'policy': 249,\n",
       " 'launch': 176,\n",
       " 'packing': 236,\n",
       " 'virtualization': 387,\n",
       " 'sandbox': 277,\n",
       " 'attacks': 24,\n",
       " 'targets': 355,\n",
       " 'south': 302,\n",
       " 'observed': 225,\n",
       " 'middle': 201,\n",
       " 'financial': 141,\n",
       " 'operations': 231,\n",
       " 'east': 113,\n",
       " 'appears': 18,\n",
       " 'trust': 369,\n",
       " 'organizations': 233,\n",
       " 'targeting': 354,\n",
       " 'exchange': 128,\n",
       " 'trusted': 370,\n",
       " 'automated': 29,\n",
       " 'collection': 57,\n",
       " 'brute': 39,\n",
       " 'force': 143,\n",
       " 'obtain': 226,\n",
       " 'steal': 309,\n",
       " 'named': 213,\n",
       " 'dump': 111,\n",
       " 'passwords': 240,\n",
       " 'browsers': 38,\n",
       " 'alternative': 15,\n",
       " 'environment': 122,\n",
       " 'deleted': 87,\n",
       " 'evasion': 126,\n",
       " 'publicly': 262,\n",
       " 'tool': 364,\n",
       " 'gain': 144,\n",
       " 't1076': 336,\n",
       " 'rdp': 266,\n",
       " 'various': 381,\n",
       " 'utility': 379,\n",
       " 'documents': 104,\n",
       " 'install': 165,\n",
       " 'clipboard': 52,\n",
       " 'psexec': 261,\n",
       " 'operating': 229,\n",
       " 'primarily': 253,\n",
       " 'campaign': 43,\n",
       " 'leveraged': 179,\n",
       " 'compress': 65,\n",
       " 'word': 393,\n",
       " 'audio': 28,\n",
       " 'llmnr': 186,\n",
       " 'nbt': 215,\n",
       " 'ns': 221,\n",
       " 'poisoning': 248,\n",
       " 'relay': 269,\n",
       " 'video': 386,\n",
       " 'military': 202,\n",
       " '2015': 2,\n",
       " 'campaigns': 44,\n",
       " 'espionage': 124,\n",
       " 'linux': 184,\n",
       " 'attempt': 25,\n",
       " 't1005': 317,\n",
       " 'collect': 55,\n",
       " 't1055': 328,\n",
       " 'perform': 244,\n",
       " 'order': 232,\n",
       " 'initial': 162,\n",
       " 'hijacking': 151,\n",
       " 'accessibility': 7,\n",
       " 'features': 138,\n",
       " 'hooking': 154,\n",
       " 'kerberoasting': 170,\n",
       " 'sniffing': 299,\n",
       " 'path': 241,\n",
       " 'developer': 93,\n",
       " 'utilities': 378,\n",
       " 'rundll32': 275,\n",
       " 'rootkit': 273,\n",
       " 'motivated': 208,\n",
       " 'batch': 35,\n",
       " 'enumerate': 121,\n",
       " 'android': 16,\n",
       " 'applications': 20,\n",
       " 'rat': 265,\n",
       " 'target': 352,\n",
       " 'trojan': 368,\n",
       " 'likely': 180,\n",
       " 'source': 301,\n",
       " '2012': 0,\n",
       " '2018': 5,\n",
       " 'attributed': 27,\n",
       " 'panda': 237,\n",
       " 'different': 95,\n",
       " 'china': 48,\n",
       " 'device': 94,\n",
       " 't1074': 335}"
      ]
     },
     "execution_count": 42,
     "metadata": {},
     "output_type": "execute_result"
    }
   ],
   "source": [
    "count_vect.vocabulary_"
   ]
  },
  {
   "cell_type": "code",
   "execution_count": 43,
   "metadata": {},
   "outputs": [
    {
     "data": {
      "text/plain": [
       "0.921875"
      ]
     },
     "execution_count": 43,
     "metadata": {},
     "output_type": "execute_result"
    }
   ],
   "source": [
    "X_test_tfidf =count_vect.transform(X_test)\n",
    "y_pred = clf.predict(X_test_tfidf)\n",
    "accuracy_score(y_test, y_pred)"
   ]
  },
  {
   "cell_type": "code",
   "execution_count": 46,
   "metadata": {},
   "outputs": [
    {
     "data": {
      "text/plain": [
       "<189x394 sparse matrix of type '<class 'numpy.float64'>'\n",
       "\twith 9415 stored elements in Compressed Sparse Row format>"
      ]
     },
     "execution_count": 46,
     "metadata": {},
     "output_type": "execute_result"
    }
   ],
   "source": [
    "X_train_tfidf"
   ]
  },
  {
   "cell_type": "code",
   "execution_count": 31,
   "metadata": {},
   "outputs": [],
   "source": [
    "from sklearn.metrics import confusion_matrix"
   ]
  },
  {
   "cell_type": "code",
   "execution_count": 32,
   "metadata": {},
   "outputs": [
    {
     "data": {
      "text/plain": [
       "array([[22,  0,  0],\n",
       "       [ 4, 21,  0],\n",
       "       [ 9,  5,  3]], dtype=int64)"
      ]
     },
     "execution_count": 32,
     "metadata": {},
     "output_type": "execute_result"
    }
   ],
   "source": [
    "confusion_matrix(y_test, y_pred)"
   ]
  },
  {
   "cell_type": "code",
   "execution_count": 21,
   "metadata": {},
   "outputs": [],
   "source": [
    "X_test=['''HTRAN is a tool that proxies connections through intermediate hops and aids users in disguising their true geographical location. It can be used by adversaries to hide their location when interacting with the victim networks.''']"
   ]
  },
  {
   "cell_type": "code",
   "execution_count": 22,
   "metadata": {},
   "outputs": [],
   "source": [
    "X_test_tfidf =count_vect.transform(X_test)\n",
    "y_pred = clf.predict(X_test_tfidf)"
   ]
  },
  {
   "cell_type": "code",
   "execution_count": 23,
   "metadata": {},
   "outputs": [
    {
     "data": {
      "text/plain": [
       "array([2], dtype=int64)"
      ]
     },
     "execution_count": 23,
     "metadata": {},
     "output_type": "execute_result"
    }
   ],
   "source": [
    "y_pred"
   ]
  },
  {
   "cell_type": "code",
   "execution_count": null,
   "metadata": {},
   "outputs": [],
   "source": [
    "for i in df.Description[45]:\n",
    "    print(i)"
   ]
  },
  {
   "cell_type": "code",
   "execution_count": null,
   "metadata": {},
   "outputs": [],
   "source": [
    "y_pred"
   ]
  },
  {
   "cell_type": "code",
   "execution_count": 48,
   "metadata": {},
   "outputs": [],
   "source": [
    "from numpy import count_nonzero"
   ]
  },
  {
   "cell_type": "code",
   "execution_count": 50,
   "metadata": {},
   "outputs": [
    {
     "name": "stdout",
     "output_type": "stream",
     "text": [
      "0.8735664598608761\n"
     ]
    }
   ],
   "source": [
    "sparsity = 1.0 - ( count_nonzero(X_train_tfidf.toarray()) / float(X_train_tfidf.toarray().size) )\n",
    "print(sparsity)"
   ]
  },
  {
   "cell_type": "code",
   "execution_count": null,
   "metadata": {},
   "outputs": [],
   "source": [
    "count_nonzero(features)"
   ]
  },
  {
   "cell_type": "code",
   "execution_count": null,
   "metadata": {},
   "outputs": [],
   "source": [
    "X_train, X_test, y_train, y_test = train_test_split(df['Description'], df['label'], random_state = 1)"
   ]
  },
  {
   "cell_type": "code",
   "execution_count": null,
   "metadata": {},
   "outputs": [],
   "source": [
    "from sklearn.naive_bayes import GaussianNB\n",
    "from yellowbrick.classifier import ClassificationReport"
   ]
  },
  {
   "cell_type": "code",
   "execution_count": null,
   "metadata": {},
   "outputs": [],
   "source": [
    "from sklearn.naive_bayes import MultinomialNB\n",
    "from sklearn.pipeline import Pipeline\n",
    "from sklearn.feature_extraction.text import TfidfTransformer\n",
    "from sklearn.metrics import classification_report\n",
    "\n",
    "nb = Pipeline([('vect', CountVectorizer()),\n",
    "               ('tfidf', TfidfTransformer()),\n",
    "               ('clf', MultinomialNB()),\n",
    "              ])\n",
    "\n",
    "nb.fit(X_train, y_train)\n",
    "\n",
    "\n",
    "y_pred = nb.predict(X_test)\n",
    "\n",
    "print('accuracy %s' % accuracy_score(y_pred, y_test))\n",
    "print(classification_report(y_test, y_pred,target_names=df.label.unique()))"
   ]
  },
  {
   "cell_type": "code",
   "execution_count": null,
   "metadata": {},
   "outputs": [],
   "source": [
    "df.label.unique()"
   ]
  },
  {
   "cell_type": "code",
   "execution_count": null,
   "metadata": {},
   "outputs": [],
   "source": []
  },
  {
   "cell_type": "code",
   "execution_count": null,
   "metadata": {},
   "outputs": [],
   "source": []
  },
  {
   "cell_type": "code",
   "execution_count": null,
   "metadata": {},
   "outputs": [],
   "source": []
  },
  {
   "cell_type": "code",
   "execution_count": null,
   "metadata": {},
   "outputs": [],
   "source": []
  },
  {
   "cell_type": "code",
   "execution_count": null,
   "metadata": {},
   "outputs": [],
   "source": []
  },
  {
   "cell_type": "code",
   "execution_count": null,
   "metadata": {},
   "outputs": [],
   "source": [
    "def text_preprocessing(df):\n",
    "    \n",
    "    for index,row in df.iterrows():\n",
    "        \n",
    "        text = row['Description']\n",
    "        words = [w for sent in nltk.sent_tokenize(str(text)) for w in nltk.word_tokenize(sent)]    "
   ]
  },
  {
   "cell_type": "code",
   "execution_count": null,
   "metadata": {},
   "outputs": [],
   "source": [
    "text = df['Description'][0]\n",
    "words = [w for sent in nltk.sent_tokenize(str(text)) for w in nltk.word_tokenize(sent)]    "
   ]
  },
  {
   "cell_type": "code",
   "execution_count": null,
   "metadata": {},
   "outputs": [],
   "source": []
  }
 ],
 "metadata": {
  "kernelspec": {
   "display_name": "Python 3",
   "language": "python",
   "name": "python3"
  },
  "language_info": {
   "codemirror_mode": {
    "name": "ipython",
    "version": 3
   },
   "file_extension": ".py",
   "mimetype": "text/x-python",
   "name": "python",
   "nbconvert_exporter": "python",
   "pygments_lexer": "ipython3",
   "version": "3.7.4"
  }
 },
 "nbformat": 4,
 "nbformat_minor": 2
}
