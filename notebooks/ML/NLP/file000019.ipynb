{
 "cells": [
  {
   "cell_type": "code",
   "execution_count": 8,
   "metadata": {},
   "outputs": [],
   "source": [
    "from spacy.lang.en import English\n",
    "from spacy.matcher import PhraseMatcher\n",
    "\n",
    "nlp = English()\n",
    "matcher = PhraseMatcher(nlp.vocab, attr=\"SHAPE\")\n",
    "matcher.add(\"IP\", None, nlp(\"37e742242f28842480e5c2b3357b7fd6ab\"), nlp(\"e938f73a10e3d2afbd77dd8ecb3a3854\"))\n",
    "\n",
    "doc = nlp(\"Often the router will have an IP address such as eaee5bf17195a03d6bf7189965ee1bdb  or 192.168.2.1.\")\n",
    "for match_id, start, end in matcher(doc):\n",
    "    print(\"Matched based on token shape:\", doc[start:end])"
   ]
  },
  {
   "cell_type": "code",
   "execution_count": 10,
   "metadata": {},
   "outputs": [],
   "source": [
    "a='37e742242f28842480e5c2b3357b7fd6ab'"
   ]
  },
  {
   "cell_type": "code",
   "execution_count": 11,
   "metadata": {},
   "outputs": [
    {
     "data": {
      "text/plain": [
       "34"
      ]
     },
     "execution_count": 11,
     "metadata": {},
     "output_type": "execute_result"
    }
   ],
   "source": [
    "len(a)"
   ]
  },
  {
   "cell_type": "code",
   "execution_count": 9,
   "metadata": {},
   "outputs": [],
   "source": [
    "import re"
   ]
  },
  {
   "cell_type": "code",
   "execution_count": 42,
   "metadata": {},
   "outputs": [
    {
     "data": {
      "text/plain": [
       "['37e742242f28842480e5c2b3357b7fd6',\n",
       " 'e938f73a10e3d2afbd77dd8ecb3a3854',\n",
       " 'eaee5bf17195a03d6bf7189965ee1bdb',\n",
       " 'ef8e417e5adb2366a3279d6680c3b979',\n",
       " 'f4eddae1c0b40bfedeb89e814a2267a5',\n",
       " 'f66992766d8f9204551b3c42336b4f6d',\n",
       " 'fad3a7ea0a0c6cb8e20e43667f560d7f',\n",
       " 'fbc310a9c431577f3489237d48763eea',\n",
       " 'ff7fd55796fa66c8245c0b90157c57c7',\n",
       " '100d516821d99b09718b362d5a4b9a2f',\n",
       " '6ae1bb06d10f253116925371c8e3e74b',\n",
       " '72eff79f772b4c910259e3716f1acf49',\n",
       " '85a26581f9aadeaa6415c01de60f932d',\n",
       " '9ad6e0db5e2f6b59f14dd55ded057b69',\n",
       " 'a70fea1e6eaa77bdfa07848712efa259',\n",
       " 'be935b4b3c620558422093d643e2edfe',\n",
       " 'c70cce41ef0e4a206b5b48fa2d460ba4',\n",
       " '41fb85acedc691bc6033fa2c4cf6a0bc',\n",
       " '1684a5eafd51852c43b4bca48b58980f',\n",
       " '08f83d98b18d3dff16c35a20e24ed49a']"
      ]
     },
     "execution_count": 42,
     "metadata": {},
     "output_type": "execute_result"
    }
   ],
   "source": [
    "s = '37e742242f28842480e5c2b3357b7fd6ab e938f73a10e3d2afbd77dd8ecb3a3854 eaee5bf17195a03d6bf7189965ee1bdb ef8e417e5adb2366a3279d6680c3b979 f4eddae1c0b40bfedeb89e814a2267a5 f66992766d8f9204551b3c42336b4f6d fad3a7ea0a0c6cb8e20e43667f560d7f fbc310a9c431577f3489237d48763eea ff7fd55796fa66c8245c0b90157c57c7 100d516821d99b09718b362d5a4b9a2f 6ae1bb06d10f253116925371c8e3e74b72eff79f772b4c910259e3716f1acf49 85a26581f9aadeaa6415c01de60f932d9ad6e0db5e2f6b59f14dd55ded057b69 a70fea1e6eaa77bdfa07848712efa259be935b4b3c620558422093d643e2edfec70cce41ef0e4a206b5b48fa2d460ba441fb85acedc691bc6033fa2c4cf6a0bc 1684a5eafd51852c43b4bca48b58980f08f83d98b18d3dff16c35a20e24ed49a'\n",
    "re.findall(r\"([a-fA-F\\d]{32})\", s)\n",
    "\n",
    "\n"
   ]
  },
  {
   "cell_type": "code",
   "execution_count": null,
   "metadata": {},
   "outputs": [],
   "source": []
  }
 ],
 "metadata": {
  "kernelspec": {
   "display_name": "Python 3",
   "language": "python",
   "name": "python3"
  },
  "language_info": {
   "codemirror_mode": {
    "name": "ipython",
    "version": 3
   },
   "file_extension": ".py",
   "mimetype": "text/x-python",
   "name": "python",
   "nbconvert_exporter": "python",
   "pygments_lexer": "ipython3",
   "version": "3.7.4"
  }
 },
 "nbformat": 4,
 "nbformat_minor": 2
}
