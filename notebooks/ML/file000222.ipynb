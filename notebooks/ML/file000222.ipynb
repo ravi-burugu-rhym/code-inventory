{
 "cells": [
  {
   "cell_type": "code",
   "execution_count": 1,
   "metadata": {},
   "outputs": [],
   "source": [
    "import fasttext"
   ]
  },
  {
   "cell_type": "code",
   "execution_count": 6,
   "metadata": {},
   "outputs": [],
   "source": [
    "f=open(r\"C:\\Users\\admin\\Desktop\\Threat_intel_services\\NER\\fasttext\\data\\cooking.stackexchange.txt\",'r+')\n",
    "lines=f.readlines()\n",
    "train_data=lines[0:14000]\n",
    "test_data=lines[14000:]"
   ]
  },
  {
   "cell_type": "code",
   "execution_count": 12,
   "metadata": {},
   "outputs": [],
   "source": [
    "train=open(r\"C:\\Users\\admin\\Desktop\\Threat_intel_services\\NER\\fasttext\\data\\cooking.train\",'w+')\n",
    "valid=open(r\"C:\\Users\\admin\\Desktop\\Threat_intel_services\\NER\\fasttext\\data\\cooking.valid\",'w+')\n",
    "for i in train_data:\n",
    "    train.write(i)\n",
    "train.close()"
   ]
  },
  {
   "cell_type": "code",
   "execution_count": 15,
   "metadata": {},
   "outputs": [],
   "source": [
    "valid=open(r\"C:\\Users\\admin\\Desktop\\Threat_intel_services\\NER\\fasttext\\data\\cooking.valid\",'w+')\n",
    "for i in test_data:\n",
    "    valid.write(i)\n",
    "valid.close()"
   ]
  },
  {
   "cell_type": "code",
   "execution_count": 26,
   "metadata": {},
   "outputs": [],
   "source": [
    "model = fasttext.train_supervised(input=r\"C:\\Users\\admin\\Desktop\\Threat_intel_services\\NER\\fasttext\\data\\cooking.train\")"
   ]
  },
  {
   "cell_type": "code",
   "execution_count": 29,
   "metadata": {},
   "outputs": [
    {
     "data": {
      "text/plain": [
       "(('__label__baking',), array([0.03524813]))"
      ]
     },
     "execution_count": 29,
     "metadata": {},
     "output_type": "execute_result"
    }
   ],
   "source": [
    "model.predict(\"standards What is the correct consistency of a cream soup?\")"
   ]
  },
  {
   "cell_type": "code",
   "execution_count": 30,
   "metadata": {},
   "outputs": [
    {
     "data": {
      "text/plain": [
       "(('__label__food-safety',), array([0.07823779]))"
      ]
     },
     "execution_count": 30,
     "metadata": {},
     "output_type": "execute_result"
    }
   ],
   "source": [
    "model.predict(\"Why not put knives in the dishwasher?\")"
   ]
  },
  {
   "cell_type": "code",
   "execution_count": 31,
   "metadata": {},
   "outputs": [
    {
     "data": {
      "text/plain": [
       "(1404, 0.0660968660968661, 0.14285714285714285)"
      ]
     },
     "execution_count": 31,
     "metadata": {},
     "output_type": "execute_result"
    }
   ],
   "source": [
    " model.test(r\"C:\\Users\\admin\\Desktop\\Threat_intel_services\\NER\\fasttext\\data\\cooking.valid\", k=5)"
   ]
  },
  {
   "cell_type": "code",
   "execution_count": 34,
   "metadata": {},
   "outputs": [
    {
     "data": {
      "text/plain": [
       "(('__label__baking',), array([0.09276383]))"
      ]
     },
     "execution_count": 34,
     "metadata": {},
     "output_type": "execute_result"
    }
   ],
   "source": [
    "model.predict(\"Which baking dish is best to bake a banana bread ?\")"
   ]
  },
  {
   "cell_type": "code",
   "execution_count": null,
   "metadata": {},
   "outputs": [],
   "source": []
  }
 ],
 "metadata": {
  "kernelspec": {
   "display_name": "Python 3",
   "language": "python",
   "name": "python3"
  },
  "language_info": {
   "codemirror_mode": {
    "name": "ipython",
    "version": 3
   },
   "file_extension": ".py",
   "mimetype": "text/x-python",
   "name": "python",
   "nbconvert_exporter": "python",
   "pygments_lexer": "ipython3",
   "version": "3.7.4"
  }
 },
 "nbformat": 4,
 "nbformat_minor": 2
}
